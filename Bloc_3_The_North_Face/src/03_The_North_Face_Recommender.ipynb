{
 "cells": [
  {
   "cell_type": "markdown",
   "id": "d2e942e4",
   "metadata": {},
   "source": [
    "# 1. Lecture CSV"
   ]
  },
  {
   "cell_type": "code",
   "execution_count": 11,
   "id": "56e7143b",
   "metadata": {},
   "outputs": [],
   "source": [
    "import pandas as pd\n",
    "import random"
   ]
  },
  {
   "cell_type": "code",
   "execution_count": 12,
   "id": "311158b3",
   "metadata": {},
   "outputs": [],
   "source": [
    "# Permet d\"afficher toute la largeur de chaque colonne\n",
    "pd.set_option(\"display.max_colwidth\", 200)"
   ]
  },
  {
   "cell_type": "code",
   "execution_count": 13,
   "id": "9024d78f",
   "metadata": {},
   "outputs": [
    {
     "data": {
      "text/html": [
       "<div>\n",
       "<style scoped>\n",
       "    .dataframe tbody tr th:only-of-type {\n",
       "        vertical-align: middle;\n",
       "    }\n",
       "\n",
       "    .dataframe tbody tr th {\n",
       "        vertical-align: top;\n",
       "    }\n",
       "\n",
       "    .dataframe thead th {\n",
       "        text-align: right;\n",
       "    }\n",
       "</style>\n",
       "<table border=\"1\" class=\"dataframe\">\n",
       "  <thead>\n",
       "    <tr style=\"text-align: right;\">\n",
       "      <th></th>\n",
       "      <th>description</th>\n",
       "      <th>description_clean</th>\n",
       "      <th>description_nlp_ready</th>\n",
       "      <th>cluster</th>\n",
       "    </tr>\n",
       "    <tr>\n",
       "      <th>id</th>\n",
       "      <th></th>\n",
       "      <th></th>\n",
       "      <th></th>\n",
       "      <th></th>\n",
       "    </tr>\n",
       "  </thead>\n",
       "  <tbody>\n",
       "    <tr>\n",
       "      <th>1</th>\n",
       "      <td>Active classic boxers - There's a reason why our boxers are a cult favorite - they keep their cool, especially in sticky situations. The quick-drying, lightweight underwear takes up minimal space ...</td>\n",
       "      <td>active classic boxers   there s a reason why our boxers are a cult favorite   they keep their cool  especially in sticky situations  the quick drying  lightweight underwear takes up minimal space ...</td>\n",
       "      <td>active classic boxer s reason boxer cult favorite cool especially sticky situation quick dry lightweight underwear take minimal space travel pack expose brush waistband offer skin softness panel c...</td>\n",
       "      <td>8</td>\n",
       "    </tr>\n",
       "    <tr>\n",
       "      <th>2</th>\n",
       "      <td>Active sport boxer briefs - Skinning up Glory requires enough movement without your boxers deciding to poach their own route. The form-fitting Active Sport Boxer Briefs are made from breathable 93...</td>\n",
       "      <td>active sport boxer briefs   skinning up glory requires enough movement without your boxers deciding to poach their own route  the form fitting active sport boxer briefs are made from breathable   ...</td>\n",
       "      <td>active sport boxer brief skin glory require movement boxer decide poach route form fit active sport boxer brief breathable recycle s fast wicke dry quickly spandex stretch seamless waistband soft ...</td>\n",
       "      <td>6</td>\n",
       "    </tr>\n",
       "    <tr>\n",
       "      <th>3</th>\n",
       "      <td>Active sport briefs - These superbreathable no-fly briefs are the minimalist's choice for high-octane endeavors. Made from a blend of fast-wicking, quick-drying 93% polyester (71% recycled) and 7%...</td>\n",
       "      <td>active sport briefs   these superbreathable no fly briefs are the minimalist s choice for high octane endeavors  made from a blend of fast wicking  quick drying   polyester   recycled  and   spand...</td>\n",
       "      <td>active sport brief superbreathable fly brief minimalist s choice high octane endeavor blend fast wicke quick dry recycle spandex stretch mesh support open mesh cool airflow soft edging leg opening...</td>\n",
       "      <td>6</td>\n",
       "    </tr>\n",
       "    <tr>\n",
       "      <th>4</th>\n",
       "      <td>Alpine guide pants - Skin in, climb ice, switch to rock, traverse a knife-edge ridge and boogie back down - these durable, weather-resistant and breathable soft-shell pants keep stride on every mo...</td>\n",
       "      <td>alpine guide pants   skin in  climb ice  switch to rock  traverse a knife edge ridge and boogie back down   these durable  weather resistant and breathable soft shell pants keep stride on every mo...</td>\n",
       "      <td>alpine guide pant skin climb ice switch rock traverse knife edge ridge boogie durable weather resistant breathable soft shell pant stride mountain endeavor midweight stretch weave won t restrict m...</td>\n",
       "      <td>0</td>\n",
       "    </tr>\n",
       "    <tr>\n",
       "      <th>5</th>\n",
       "      <td>Alpine wind jkt - On high ridges, steep ice and anything alpine, this jacket serves as a true \"best of all worlds\" staple. It excels as a stand-alone shell for blustery rock climbs, cool-weather t...</td>\n",
       "      <td>alpine wind jkt   on high ridges  steep ice and anything alpine  this jacket serves as a true  best of all worlds  staple  it excels as a stand alone shell for blustery rock climbs  cool weather t...</td>\n",
       "      <td>alpine wind jkt high ridge steep ice alpine jacket serve true good world staple excel stand shell blustery rock climb cool weather trail run high output ski tour condition ice alpine climb functio...</td>\n",
       "      <td>3</td>\n",
       "    </tr>\n",
       "  </tbody>\n",
       "</table>\n",
       "</div>"
      ],
      "text/plain": [
       "                                                                                                                                                                                                description  \\\n",
       "id                                                                                                                                                                                                            \n",
       "1   Active classic boxers - There's a reason why our boxers are a cult favorite - they keep their cool, especially in sticky situations. The quick-drying, lightweight underwear takes up minimal space ...   \n",
       "2   Active sport boxer briefs - Skinning up Glory requires enough movement without your boxers deciding to poach their own route. The form-fitting Active Sport Boxer Briefs are made from breathable 93...   \n",
       "3   Active sport briefs - These superbreathable no-fly briefs are the minimalist's choice for high-octane endeavors. Made from a blend of fast-wicking, quick-drying 93% polyester (71% recycled) and 7%...   \n",
       "4   Alpine guide pants - Skin in, climb ice, switch to rock, traverse a knife-edge ridge and boogie back down - these durable, weather-resistant and breathable soft-shell pants keep stride on every mo...   \n",
       "5   Alpine wind jkt - On high ridges, steep ice and anything alpine, this jacket serves as a true \"best of all worlds\" staple. It excels as a stand-alone shell for blustery rock climbs, cool-weather t...   \n",
       "\n",
       "                                                                                                                                                                                          description_clean  \\\n",
       "id                                                                                                                                                                                                            \n",
       "1   active classic boxers   there s a reason why our boxers are a cult favorite   they keep their cool  especially in sticky situations  the quick drying  lightweight underwear takes up minimal space ...   \n",
       "2   active sport boxer briefs   skinning up glory requires enough movement without your boxers deciding to poach their own route  the form fitting active sport boxer briefs are made from breathable   ...   \n",
       "3   active sport briefs   these superbreathable no fly briefs are the minimalist s choice for high octane endeavors  made from a blend of fast wicking  quick drying   polyester   recycled  and   spand...   \n",
       "4   alpine guide pants   skin in  climb ice  switch to rock  traverse a knife edge ridge and boogie back down   these durable  weather resistant and breathable soft shell pants keep stride on every mo...   \n",
       "5   alpine wind jkt   on high ridges  steep ice and anything alpine  this jacket serves as a true  best of all worlds  staple  it excels as a stand alone shell for blustery rock climbs  cool weather t...   \n",
       "\n",
       "                                                                                                                                                                                      description_nlp_ready  \\\n",
       "id                                                                                                                                                                                                            \n",
       "1   active classic boxer s reason boxer cult favorite cool especially sticky situation quick dry lightweight underwear take minimal space travel pack expose brush waistband offer skin softness panel c...   \n",
       "2   active sport boxer brief skin glory require movement boxer decide poach route form fit active sport boxer brief breathable recycle s fast wicke dry quickly spandex stretch seamless waistband soft ...   \n",
       "3   active sport brief superbreathable fly brief minimalist s choice high octane endeavor blend fast wicke quick dry recycle spandex stretch mesh support open mesh cool airflow soft edging leg opening...   \n",
       "4   alpine guide pant skin climb ice switch rock traverse knife edge ridge boogie durable weather resistant breathable soft shell pant stride mountain endeavor midweight stretch weave won t restrict m...   \n",
       "5   alpine wind jkt high ridge steep ice alpine jacket serve true good world staple excel stand shell blustery rock climb cool weather trail run high output ski tour condition ice alpine climb functio...   \n",
       "\n",
       "    cluster  \n",
       "id           \n",
       "1         8  \n",
       "2         6  \n",
       "3         6  \n",
       "4         0  \n",
       "5         3  "
      ]
     },
     "execution_count": 13,
     "metadata": {},
     "output_type": "execute_result"
    }
   ],
   "source": [
    "df_corpus = pd.read_csv(\"../datas/sample-data-clean-clusters.csv\", index_col=\"id\")\n",
    "df_corpus.head()"
   ]
  },
  {
   "cell_type": "markdown",
   "id": "7d316301",
   "metadata": {},
   "source": [
    "---"
   ]
  },
  {
   "cell_type": "markdown",
   "id": "0ade3114",
   "metadata": {},
   "source": [
    "# 2. Système de recommendations"
   ]
  },
  {
   "cell_type": "code",
   "execution_count": 14,
   "id": "d780969b",
   "metadata": {},
   "outputs": [],
   "source": [
    "def find_similar_items(item_id):\n",
    "    # Item inexistant\n",
    "    if item_id not in df_corpus.index:\n",
    "        print(\"Cet item n'existe pas.\")\n",
    "        return []\n",
    "\n",
    "    cluster_id = df_corpus.loc[item_id, \"cluster\"]\n",
    "    \n",
    "    # Item hors cluster\n",
    "    if cluster_id == -1:\n",
    "        print(\"Cet item ne peut pas être rapproché d'un autre item.\")\n",
    "        return []\n",
    "\n",
    "    # Obtenir tous les items du même cluster, sauf l'item demandé\n",
    "    mask_same_cluster_items = ((df_corpus[\"cluster\"] == cluster_id) & (df_corpus.index != item_id))\n",
    "    same_cluster_items = df_corpus[mask_same_cluster_items].index.tolist()\n",
    "\n",
    "    # Sélectionner 5 items aléatoirement (ou moins si pas assez)\n",
    "    return random.sample(same_cluster_items, min(5, len(same_cluster_items)))"
   ]
  },
  {
   "cell_type": "code",
   "execution_count": 15,
   "id": "3aa5af0d",
   "metadata": {},
   "outputs": [
    {
     "name": "stdout",
     "output_type": "stream",
     "text": [
      "Item 98  : Organic logo t-shirt - Originally printed our first season debuting organic cotton, the classic Organic Logo T-Shirt commemorates Patagonia's commitment. The tee features original art by Geoff McFetridge that's printed with easy-on-the-environment PVC- and phthalate-free inks. Ringspun fabric yarns and taped shoulder seams add softness. Recyclable through the Common Threads Recycling Program.<br><br><b>Details:</b><ul> <li>Ringspun yarns for a softer hand</li> <li>Taped shoulder seams</li> <li>Screen-print inks are PVC- and phthalate-free</li></ul><br><br><b>Fabric: </b>4.4-oz 100% organic cotton. Recyclable through the Common Threads Recycling Program<br><br><b>Weight: </b>(150 g 5.2 oz)<br><br>Made in USA.\n",
      "Items similaires :\n",
      "  - Item 289 : Owlin around t-shirt - The Owlin' Around T-Shirt is a wise choice for flights of fancy that take you out on a limb. Artist Jason Stowell's design is printed on 100% ringspun organic cotton using PVC- and phthalate-free inks. The lightweight shirt's Anika fit features a longer torso that's form-fitting, shorter sleeves and wide, deep neckline. Taped shoulder seams are extra soft. Recyclable through the Common Threads Recycling Program.<br><br><b>Details:</b><ul> <li>Ringspun yarns for a softer hand</li> <li>Taped shoulder seams</li> <li>Screen-print inks are PVC- and phthalate-free</li></ul><br><br><b>Fabric: </b>4.4-oz 100% organic cotton. Recyclable through the Common Threads Recycling Program<br><br><b>Weight: </b>(112 g 3.9 oz)<br><br>Made in USA.\n",
      "  - Item 71 : Live simply bug t-shirt - In nature, live organisms are eventually reduced to bug food. Artist Geoff McFetridge's original work reduces it to the basics with the Live Simply Bug T-Shirt. 100% organic cotton fabric is ringspun for a soft hand. Taped shoulder seams are chafe-free under a pack. PVC- and phthalate-free inks reduce environmental impact. Recyclable through the Common Threads Recycling Program.<br><br><b>Details:</b><ul> <li>Ringspun yarns for a softer hand</li> <li>Taped shoulder seams</li> <li>Screen-print inks are PVC- and phthalate-free</li></ul><br><br><b>Fabric: </b>4.4-oz 100% organic cotton. Recyclable through the Common Threads Recycling Program<br><br><b>Weight: </b>(150 g 5.2 oz)<br><br>Made in USA.\n",
      "  - Item 470 : Baby live simply deer t-shirt - The Live Simply Deer T-Shirt captures artist Geoff McFetridge's rendering of the minimalist forest lifestyle. Printed on 100% organic cotton, the tee has taped shoulder seams and a screen-printed neck label that won't chafe. PVC- and phthalate-free inks are less toxic; ribbing at neck is stretchy for easy on/off. Recyclable through the Common Threads Recycling Program.<br><br><b>Details:</b><ul> <li>Ringspun yarns for a softer hand</li> <li>Taped shoulder seams</li> <li>Screen-print inks are PVC- and phthalate-free</li></ul><br><br><b>Fabric: </b>4.4-oz 100% organic cotton. Recyclable through the Common Threads Recycling Program<br><br><b>Weight: </b>(60 g 2.1 oz)<br><br>Made in USA.\n",
      "  - Item 139 : The more you know t-shirt - Inspired by Thoreau's immortal words, Yvon Chouinard's mantra of \"the more you know the less you need\" is simply stated through the original artwork of Geoff McFetridge. The More You Know T-Shirt is printed on organic cotton (100%) using PVC- and phthalate-free inks. Durable, taped shoulder seams and ringspun fabric yarns are soft next-to-skin. Recyclable through the Common Threads Recycling Program.<br><br><b>Details:</b><ul> <li>Ringspun yarns for a softer hand</li> <li>Taped shoulder seams</li> <li>Screen-print inks are PVC- and phthalate-free</li></ul><br><br><b>Fabric: </b>4.4-oz 100% organic cotton. Recyclable through the Common Threads Recycling Program<br><br><b>Weight: </b>(150 g 5.2 oz)<br><br>Made in USA.\n",
      "  - Item 322 : Tarpon t-shirt - Channel the determination of the Silver King wearing the Tarpon T-Shirt, which features the work of Florida Keys-based artist Tim Borski. The shirt's made from durable 100% organic cotton and screen-printed using PVC- and phthalate-free inks for a tee that's easier on the environment. Taped shoulder seams and ringspun fabric yarns are soft next-to-skin. Recyclable through the Common Threads Recycling Program.<br><br><b>Details:</b><ul> <li>Ringspun yarns for a softer hand</li> <li>Taped shoulder seams</li> <li>Screen-print inks are PVC- and phthalate-free</li></ul><br><br><b>Fabric: </b>5.4-oz 100% organic cotton. Recyclable through the Common Threads Recycling Program<br><br><b>Weight: </b>(199 g 6.9 oz)<br><br>Made in USA.\n"
     ]
    }
   ],
   "source": [
    "# Interaction utilisateur\n",
    "user_input = int(input(\"Entrez l'identifiant d'un produit : \"))\n",
    "\n",
    "same_items = find_similar_items(user_input)\n",
    "\n",
    "if same_items:\n",
    "    print(\"Item\", user_input, \" :\", df_corpus.loc[user_input, \"description\"])\n",
    "    print(\"Items similaires :\")\n",
    "    for s in same_items:\n",
    "       print(f\"  - Item {s} : {df_corpus.loc[s, \"description\"]}\")"
   ]
  }
 ],
 "metadata": {
  "kernelspec": {
   "display_name": "dsfs_env",
   "language": "python",
   "name": "python3"
  },
  "language_info": {
   "codemirror_mode": {
    "name": "ipython",
    "version": 3
   },
   "file_extension": ".py",
   "mimetype": "text/x-python",
   "name": "python",
   "nbconvert_exporter": "python",
   "pygments_lexer": "ipython3",
   "version": "3.12.3"
  }
 },
 "nbformat": 4,
 "nbformat_minor": 5
}
