{
 "cells": [
  {
   "cell_type": "markdown",
   "id": "d2e942e4",
   "metadata": {},
   "source": [
    "# 1. Lecture CSV"
   ]
  },
  {
   "cell_type": "code",
   "execution_count": 21,
   "id": "56e7143b",
   "metadata": {},
   "outputs": [],
   "source": [
    "import pandas as pd\n",
    "import random"
   ]
  },
  {
   "cell_type": "code",
   "execution_count": 22,
   "id": "311158b3",
   "metadata": {},
   "outputs": [],
   "source": [
    "# Permet d\"afficher toute la largeur de chaque colonne\n",
    "pd.set_option(\"display.max_colwidth\", 200)"
   ]
  },
  {
   "cell_type": "code",
   "execution_count": 23,
   "id": "9024d78f",
   "metadata": {},
   "outputs": [
    {
     "data": {
      "text/html": [
       "<div>\n",
       "<style scoped>\n",
       "    .dataframe tbody tr th:only-of-type {\n",
       "        vertical-align: middle;\n",
       "    }\n",
       "\n",
       "    .dataframe tbody tr th {\n",
       "        vertical-align: top;\n",
       "    }\n",
       "\n",
       "    .dataframe thead th {\n",
       "        text-align: right;\n",
       "    }\n",
       "</style>\n",
       "<table border=\"1\" class=\"dataframe\">\n",
       "  <thead>\n",
       "    <tr style=\"text-align: right;\">\n",
       "      <th></th>\n",
       "      <th>description</th>\n",
       "      <th>description_clean</th>\n",
       "      <th>tokenized_description</th>\n",
       "      <th>cluster</th>\n",
       "    </tr>\n",
       "    <tr>\n",
       "      <th>id</th>\n",
       "      <th></th>\n",
       "      <th></th>\n",
       "      <th></th>\n",
       "      <th></th>\n",
       "    </tr>\n",
       "  </thead>\n",
       "  <tbody>\n",
       "    <tr>\n",
       "      <th>1</th>\n",
       "      <td>Active classic boxers - There's a reason why our boxers are a cult favorite - they keep their cool, especially in sticky situations. The quick-drying, lightweight underwear takes up minimal space ...</td>\n",
       "      <td>active classic boxers   there s a reason why our boxers are a cult favorite   they keep their cool  especially in sticky situations  the quick drying  lightweight underwear takes up minimal space ...</td>\n",
       "      <td>active classic boxer s reason boxer cult favorite cool especially sticky situation quick dry lightweight underwear take minimal space travel pack expose brush waistband offer skin softness panel c...</td>\n",
       "      <td>0</td>\n",
       "    </tr>\n",
       "    <tr>\n",
       "      <th>2</th>\n",
       "      <td>Active sport boxer briefs - Skinning up Glory requires enough movement without your boxers deciding to poach their own route. The form-fitting Active Sport Boxer Briefs are made from breathable 93...</td>\n",
       "      <td>active sport boxer briefs   skinning up glory requires enough movement without your boxers deciding to poach their own route  the form fitting active sport boxer briefs are made from breathable   ...</td>\n",
       "      <td>active sport boxer brief skin glory require movement boxer decide poach route form fit active sport boxer brief breathable recycle s fast wicke dry quickly spandex stretch seamless waistband soft ...</td>\n",
       "      <td>0</td>\n",
       "    </tr>\n",
       "    <tr>\n",
       "      <th>3</th>\n",
       "      <td>Active sport briefs - These superbreathable no-fly briefs are the minimalist's choice for high-octane endeavors. Made from a blend of fast-wicking, quick-drying 93% polyester (71% recycled) and 7%...</td>\n",
       "      <td>active sport briefs   these superbreathable no fly briefs are the minimalist s choice for high octane endeavors  made from a blend of fast wicking  quick drying   polyester   recycled  and   spand...</td>\n",
       "      <td>active sport brief superbreathable fly brief minimalist s choice high octane endeavor blend fast wicke quick dry recycle spandex stretch mesh support open mesh cool airflow soft edging leg opening...</td>\n",
       "      <td>0</td>\n",
       "    </tr>\n",
       "    <tr>\n",
       "      <th>4</th>\n",
       "      <td>Alpine guide pants - Skin in, climb ice, switch to rock, traverse a knife-edge ridge and boogie back down - these durable, weather-resistant and breathable soft-shell pants keep stride on every mo...</td>\n",
       "      <td>alpine guide pants   skin in  climb ice  switch to rock  traverse a knife edge ridge and boogie back down   these durable  weather resistant and breathable soft shell pants keep stride on every mo...</td>\n",
       "      <td>alpine guide pant skin climb ice switch rock traverse knife edge ridge boogie durable weather resistant breathable soft shell pant stride mountain endeavor midweight stretch weave won t restrict m...</td>\n",
       "      <td>1</td>\n",
       "    </tr>\n",
       "    <tr>\n",
       "      <th>5</th>\n",
       "      <td>Alpine wind jkt - On high ridges, steep ice and anything alpine, this jacket serves as a true \"best of all worlds\" staple. It excels as a stand-alone shell for blustery rock climbs, cool-weather t...</td>\n",
       "      <td>alpine wind jkt   on high ridges  steep ice and anything alpine  this jacket serves as a true  best of all worlds  staple  it excels as a stand alone shell for blustery rock climbs  cool weather t...</td>\n",
       "      <td>alpine wind jkt high ridge steep ice alpine jacket serve true good world staple excel stand shell blustery rock climb cool weather trail run high output ski tour condition ice alpine climb functio...</td>\n",
       "      <td>1</td>\n",
       "    </tr>\n",
       "  </tbody>\n",
       "</table>\n",
       "</div>"
      ],
      "text/plain": [
       "                                                                                                                                                                                                description  \\\n",
       "id                                                                                                                                                                                                            \n",
       "1   Active classic boxers - There's a reason why our boxers are a cult favorite - they keep their cool, especially in sticky situations. The quick-drying, lightweight underwear takes up minimal space ...   \n",
       "2   Active sport boxer briefs - Skinning up Glory requires enough movement without your boxers deciding to poach their own route. The form-fitting Active Sport Boxer Briefs are made from breathable 93...   \n",
       "3   Active sport briefs - These superbreathable no-fly briefs are the minimalist's choice for high-octane endeavors. Made from a blend of fast-wicking, quick-drying 93% polyester (71% recycled) and 7%...   \n",
       "4   Alpine guide pants - Skin in, climb ice, switch to rock, traverse a knife-edge ridge and boogie back down - these durable, weather-resistant and breathable soft-shell pants keep stride on every mo...   \n",
       "5   Alpine wind jkt - On high ridges, steep ice and anything alpine, this jacket serves as a true \"best of all worlds\" staple. It excels as a stand-alone shell for blustery rock climbs, cool-weather t...   \n",
       "\n",
       "                                                                                                                                                                                          description_clean  \\\n",
       "id                                                                                                                                                                                                            \n",
       "1   active classic boxers   there s a reason why our boxers are a cult favorite   they keep their cool  especially in sticky situations  the quick drying  lightweight underwear takes up minimal space ...   \n",
       "2   active sport boxer briefs   skinning up glory requires enough movement without your boxers deciding to poach their own route  the form fitting active sport boxer briefs are made from breathable   ...   \n",
       "3   active sport briefs   these superbreathable no fly briefs are the minimalist s choice for high octane endeavors  made from a blend of fast wicking  quick drying   polyester   recycled  and   spand...   \n",
       "4   alpine guide pants   skin in  climb ice  switch to rock  traverse a knife edge ridge and boogie back down   these durable  weather resistant and breathable soft shell pants keep stride on every mo...   \n",
       "5   alpine wind jkt   on high ridges  steep ice and anything alpine  this jacket serves as a true  best of all worlds  staple  it excels as a stand alone shell for blustery rock climbs  cool weather t...   \n",
       "\n",
       "                                                                                                                                                                                      tokenized_description  \\\n",
       "id                                                                                                                                                                                                            \n",
       "1   active classic boxer s reason boxer cult favorite cool especially sticky situation quick dry lightweight underwear take minimal space travel pack expose brush waistband offer skin softness panel c...   \n",
       "2   active sport boxer brief skin glory require movement boxer decide poach route form fit active sport boxer brief breathable recycle s fast wicke dry quickly spandex stretch seamless waistband soft ...   \n",
       "3   active sport brief superbreathable fly brief minimalist s choice high octane endeavor blend fast wicke quick dry recycle spandex stretch mesh support open mesh cool airflow soft edging leg opening...   \n",
       "4   alpine guide pant skin climb ice switch rock traverse knife edge ridge boogie durable weather resistant breathable soft shell pant stride mountain endeavor midweight stretch weave won t restrict m...   \n",
       "5   alpine wind jkt high ridge steep ice alpine jacket serve true good world staple excel stand shell blustery rock climb cool weather trail run high output ski tour condition ice alpine climb functio...   \n",
       "\n",
       "    cluster  \n",
       "id           \n",
       "1         0  \n",
       "2         0  \n",
       "3         0  \n",
       "4         1  \n",
       "5         1  "
      ]
     },
     "execution_count": 23,
     "metadata": {},
     "output_type": "execute_result"
    }
   ],
   "source": [
    "df_corpus = pd.read_csv(\"../datas/sample-data-clean-clusters.csv\", index_col=\"id\")\n",
    "df_corpus.head()"
   ]
  },
  {
   "cell_type": "markdown",
   "id": "7d316301",
   "metadata": {},
   "source": [
    "---"
   ]
  },
  {
   "cell_type": "markdown",
   "id": "0ade3114",
   "metadata": {},
   "source": [
    "# 2. Système de recommendations"
   ]
  },
  {
   "cell_type": "code",
   "execution_count": 24,
   "id": "d780969b",
   "metadata": {},
   "outputs": [],
   "source": [
    "def find_similar_items(item_id):\n",
    "    # Item inexistant\n",
    "    if item_id not in df_corpus.index:\n",
    "        print(\"Cet item n'existe pas.\")\n",
    "        return []\n",
    "\n",
    "    cluster_id = df_corpus.loc[item_id, \"cluster\"]\n",
    "    \n",
    "    # Item hors cluster\n",
    "    if cluster_id == -1:\n",
    "        print(\"Cet item ne peut pas être rapproché d'un autre item.\")\n",
    "        return []\n",
    "\n",
    "    # Obtenir tous les items du même cluster, sauf l'item demandé\n",
    "    mask_same_cluster_items = ((df_corpus[\"cluster\"] == cluster_id) & (df_corpus.index != item_id))\n",
    "    same_cluster_items = df_corpus[mask_same_cluster_items].index.tolist()\n",
    "\n",
    "    # Sélectionner 5 items aléatoirement (ou moins si pas assez)\n",
    "    return random.sample(same_cluster_items, min(5, len(same_cluster_items)))"
   ]
  },
  {
   "cell_type": "code",
   "execution_count": 25,
   "id": "3aa5af0d",
   "metadata": {},
   "outputs": [
    {
     "name": "stdout",
     "output_type": "stream",
     "text": [
      "Item 87  : Merino 1 crew - In a day packed with decisions, this one's easy. Worn alone, this versatile long-sleeved crew feels cool and dry against the skin; worn beneath layers in colder locales, it feels soft and warm. Our lightest merino layer, Merino 1 offers great technical performance: naturally resisting odor, moving moisture away from the skin and improving dry times, regulating body temperature, and maintaining a consistent stretch. It's made from a silky-soft yet durable jersey-knit of 63% merino wool wrapped around an all-recycled polyester (37%) core. Wide cuff bands hold sleeves in place, and offset shoulder seams pair nicely with pack straps. We slow-wash our merino for next-to-skin softness. Machine-wash cold; lay flat to dry. Recyclable through the Common Threads Recycling Program.<br><br><b>Details:</b><ul> <li>\"Slow-washed merino wool resists odor naturally, insulates even when wet, is durable, stretches and provides superior performance and softness; 16.5 micron-gauge yarn and jersey-knit construction for luxurious hand\"</li> <li>\"All- recycled polyester core wicks moisture, while wool next to skin controls odor\"</li> <li>Self-fabric collar band</li> <li>Offset shoulder seams for comfort beneath pack straps</li> <li>Wide cuff bands help keep sleeves in place when pulled up</li> <li>Straight hem</li> <li>\"Machine-wash cold, lay flat to dry\"</li></ul><br><br><b>Fabric: </b>3.2-oz (108-g) 63% 16.5 micron chlorine-free merino wool/37% all-recycled polyester. Recyclable through the Common Threads Recycling Program<br><br><b>Weight: </b>138 g (4.9 oz)<br><br>Made in USA.\n",
      "Items similaires :\n",
      "  - Item 383 : Lw everyday socks - An essential part of the daily grind, these exceptionally soft, wearable socks have an inviting mix of 55% organic cotton/40% stretch nylon/5% spandex for moisture-wicking next-to-skin comfort. An open grid over the top of the foot and a looped Lintoe construction combine to create excellent airflow for breathability and kick-your-feet-up foot comfort. The jersey-knit cuff extends to mid-calf; height is 9.5\".<br><br><b>Details:</b><ul> <li>Organic cotton and nylon blend is ideal for everyday use</li> <li>\"Fabric content and strategic knit balance moisture wicking, cushioning, durability and comfort\"</li> <li>An open grid over top of foot allows excellent airflow and breathability</li> <li>Looped Lintoe construction creates the smallest and flattest seam possible for ultimate toe comfort</li></ul><br><br><b>Fabric: </b>55% organic cotton/40% nylon/5% spandex<br><br><b>Weight: </b>(49 g 1.7 oz)<br><br>Made in USA.\n",
      "  - Item 88 : Merino 1 t-shirt - The bus ride out of Tlachichuca packs in more bodies than miles. Escape unruffled with the breathable, moisture-wicking qualities of this soft tee. Our lightest merino layer is a silky-soft yet highly durable jersey-knit made with 63% merino wool spun around an all-recycled polyester (37%) core. Super-comfortable on its own in warm temperatures or beneath layers in cooler ones, it offers great technical performance: naturally resisting odor, moving moisture away from the skin and improving dry times, regulating body temperature, and stretching along with you. Offset shoulder seams and a smooth collar band add reassuring comfort for the road-weary. We slow-wash our merino for next-to-skin softness. Machine-wash cold; lay flat to dry. Recyclable through the Common Threads Recycling Program.<br><br><b>Details:</b><ul> <li>\"Slow-washed merino wool resists odor naturally, insulates even when wet, is durable, stretches and provides superior performance and softness\"</li> <li>16.5 micron-gauge yarn and jersey-knit construction for luxurious hand</li> <li>\"All-recycled polyester core wicks moisture, while wool next to skin controls odor\"</li> <li>Self-fabric collar band</li> <li>Offset shoulder seams for comfort beneath pack straps</li> <li>Straight hem</li> <li>\"Machine-wash cold, lay flat to dry\"</li></ul><br><br><b>Fabric: </b>3.2-oz (108-g) 63% 16.5 micron chlorine-free merino wool/37% all-recycled polyester. Recyclable through the Common Threads Recycling Program<br><br><b>Weight: </b>(95 g 3.3 oz)<br><br>Made in USA.\n",
      "  - Item 338 : Ultra hw mountaineering socks - Every weather window shuts eventually - some faster than others. These ultra-warm socks stymie the raw temps of skiing, ice climbing and mountaineering so you can keep moving when the barometer hits bottom. Tightly knit from a blend of 75% chlorine-free merino wool for warmth, they also have 12% nylon/10% polyester/3% spandex to balance durability and wicking performance. Soft, felted merino wool yarns throughout cushion, insulate, and last the lifetime of the sock; looped Lintoe construction adds additional comfort. Height is 10.5\"  allowing for use under big boots.<br><br><b>Details:</b><ul> <li>Heavyweight wool blend insulates against extreme cold and provides excellent cushioning</li> <li>\"Fabric content and strategic knit balances warmth, durability and wicking performance\"</li> <li>\"Soft, plush merino wool is chlorine-free, itch-free and maintains durability and cushioning for the lifetime of the socks\"</li> <li>Looped Lintoe construction creates the smallest and flattest seam possible for ultimate toe comfort</li></ul><br><br><b>Fabric: </b>75% chlorine-free merino wool/12% nylon/10% polyester/3% spandex<br><br><b>Weight: </b>(152 g 5.3 oz)<br><br>Made in USA.\n",
      "  - Item 406 : Merino 2 bottoms - A stop-and-go pace, like that of alpine climbing or backcountry riding, can leave you with the shivers. These lightweight bottoms will help you stay dry and warm. Our most versatile merino layer for an active lifestyle in warm to cool weather, Merino 2 is made with 73% merino wool spun around an all-recycled polyester (27%) core for a luxurious hand, an improved dry time and enduring strength. Inherently soft and comfortable, merino naturally resists odor, moves moisture away from the skin, regulates body temperature, and stretches. Details include a brushed-elastic waistband, offset inseams and a functional fly. We slow-wash our merino for next-to-skin softness. Machine-wash cold; lay flat to dry. Recyclable through the Common Threads Recycling Program.<br><br><b>Details:</b><ul> <li>\"Slow-washed merino wool resists odor naturally, insulates even when wet, is durable and stretches, provides superior performance and softness\"</li> <li>18.5 micron-gauge yarn and jersey-knit construction for luxurious hand</li> <li>\"All-recycled polyester core wicks moisture, while wool next to skin controls odor\"</li> <li>Brushed elastic waistband and offset inseam prevent irritation</li> <li>Functional fly</li> <li>\"Machine-wash cold, lay flat to dry\"</li></ul><br><br><b>Fabric: </b>4.85-oz (165-g) 73% chlorine-free merino wool/27% all-recycled polyester. Recyclable through the Common Threads Recycling Program<br><br><b>Weight: </b>(170 g 5.9 oz)<br><br>Made in USA.\n",
      "  - Item 201 : Merino 1 tank - Finespun and cool enough to lower the temperature of open trail runs, heated crags and the Laiki street market, this silky-soft yet highly durable jersey-knit tank is made with 63% merino wool spun around an all-recycled polyester (37%) core. Super-comfortable on its own in warm temperatures or beneath layers in cooler ones, it offers great technical performance: naturally resisting odor, moving moisture away from the skin and improving dry times, regulating body temperature, and maintaining a consistent stretch. The neck - with a smooth, self-fabric binding -invites ventilation but still covers a bra. We slow-wash our merino for next-to-skin softness. Machine-wash cold; lay flat to dry. Recyclable through the Common Threads Recycling Program.<br><br><b>Details:</b><ul> <li>\"Slow-washed merino wool resists odor naturally, insulates even when wet, is durable, stretches and provides superior performance and softness\"</li> <li>16.5 micron-gauge yarn and jersey-knit construction for luxurious hand</li> <li>\"All-recycled polyester core wicks moisture, while wool next to skin controls odor\"</li> <li>Softly scooped neckline ventilates while still covering bra</li> <li>Self-fabric neck and armhole binding for comfort</li> <li>Straight hem</li> <li>\"Machine-wash cold, lay flat to dry\"</li></ul><br><br><b>Fabric: </b>3.2-oz (108-g) 63% 16.5 micron chlorine-free merino wool/37% all-recycled polyester. Recyclable through the Common Threads Recycling Program<br><br><b>Weight: </b>(60 g 2.1 oz)<br><br>Made in USA.\n"
     ]
    }
   ],
   "source": [
    "# Interaction utilisateur\n",
    "user_input = int(input(\"Entrez l'identifiant d'un produit : \"))\n",
    "\n",
    "same_items = find_similar_items(user_input)\n",
    "\n",
    "if same_items:\n",
    "    print(\"Item\", user_input, \" :\", df_corpus.loc[user_input, \"description\"])\n",
    "    print(\"Items similaires :\")\n",
    "    for s in same_items:\n",
    "       print(f\"  - Item {s} : {df_corpus.loc[s, \"description\"]}\")"
   ]
  }
 ],
 "metadata": {
  "kernelspec": {
   "display_name": "dsfs_env",
   "language": "python",
   "name": "python3"
  },
  "language_info": {
   "codemirror_mode": {
    "name": "ipython",
    "version": 3
   },
   "file_extension": ".py",
   "mimetype": "text/x-python",
   "name": "python",
   "nbconvert_exporter": "python",
   "pygments_lexer": "ipython3",
   "version": "3.12.3"
  }
 },
 "nbformat": 4,
 "nbformat_minor": 5
}
