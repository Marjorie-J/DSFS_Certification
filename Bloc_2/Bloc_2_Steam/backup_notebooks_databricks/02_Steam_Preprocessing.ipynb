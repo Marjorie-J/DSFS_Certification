{
 "cells": [
  {
   "cell_type": "markdown",
   "metadata": {
    "application/vnd.databricks.v1+cell": {
     "cellMetadata": {},
     "inputWidgets": {},
     "nuid": "cffb2679-8586-450d-b4a5-6bd629d12da8",
     "showTitle": false,
     "tableResultSettingsMap": {},
     "title": ""
    }
   },
   "source": [
    "# 02_Steam_Preprocessing"
   ]
  },
  {
   "cell_type": "markdown",
   "metadata": {
    "application/vnd.databricks.v1+cell": {
     "cellMetadata": {},
     "inputWidgets": {},
     "nuid": "7dd1facb-415f-4ef9-bd26-ab171cc9947d",
     "showTitle": false,
     "tableResultSettingsMap": {},
     "title": ""
    }
   },
   "source": [
    "---"
   ]
  },
  {
   "cell_type": "code",
   "execution_count": 0,
   "metadata": {
    "application/vnd.databricks.v1+cell": {
     "cellMetadata": {
      "byteLimit": 2048000,
      "rowLimit": 10000
     },
     "inputWidgets": {},
     "nuid": "5b1b2360-d7cb-488f-8f86-15adbd285e78",
     "showTitle": false,
     "tableResultSettingsMap": {},
     "title": ""
    }
   },
   "outputs": [],
   "source": [
    "from pyspark.sql import functions as F\n",
    "from pyspark.sql import Row"
   ]
  },
  {
   "cell_type": "markdown",
   "metadata": {
    "application/vnd.databricks.v1+cell": {
     "cellMetadata": {
      "byteLimit": 2048000,
      "rowLimit": 10000
     },
     "inputWidgets": {},
     "nuid": "1a0e7df6-539b-4f8b-93e7-dc1c8c42240b",
     "showTitle": false,
     "tableResultSettingsMap": {},
     "title": ""
    }
   },
   "source": [
    "### Chargement du dataset"
   ]
  },
  {
   "cell_type": "code",
   "execution_count": 0,
   "metadata": {
    "application/vnd.databricks.v1+cell": {
     "cellMetadata": {
      "byteLimit": 2048000,
      "rowLimit": 10000
     },
     "inputWidgets": {},
     "nuid": "2696e81e-22c8-4dbd-978d-c6fa96e83675",
     "showTitle": false,
     "tableResultSettingsMap": {},
     "title": ""
    }
   },
   "outputs": [],
   "source": [
    "df_steam_flat = spark.read.json(\"/dbfs/FileStore/export/steam_flat.json\")"
   ]
  },
  {
   "cell_type": "code",
   "execution_count": 0,
   "metadata": {
    "application/vnd.databricks.v1+cell": {
     "cellMetadata": {
      "byteLimit": 2048000,
      "rowLimit": 10000
     },
     "inputWidgets": {},
     "nuid": "72b3713f-394f-47e2-89c6-f40d095d1ad5",
     "showTitle": false,
     "tableResultSettingsMap": {},
     "title": ""
    }
   },
   "outputs": [
    {
     "output_type": "stream",
     "name": "stdout",
     "output_type": "stream",
     "text": [
      "root\n |-- appid: long (nullable = true)\n |-- categories: array (nullable = true)\n |    |-- element: string (containsNull = true)\n |-- ccu: long (nullable = true)\n |-- developer: string (nullable = true)\n |-- discount: string (nullable = true)\n |-- genre: string (nullable = true)\n |-- header_image: string (nullable = true)\n |-- initialprice: string (nullable = true)\n |-- languages: string (nullable = true)\n |-- name: string (nullable = true)\n |-- negative: long (nullable = true)\n |-- owners: string (nullable = true)\n |-- platforms: struct (nullable = true)\n |    |-- linux: boolean (nullable = true)\n |    |-- mac: boolean (nullable = true)\n |    |-- windows: boolean (nullable = true)\n |-- positive: long (nullable = true)\n |-- price: string (nullable = true)\n |-- publisher: string (nullable = true)\n |-- release_date: string (nullable = true)\n |-- required_age: string (nullable = true)\n |-- short_description: string (nullable = true)\n |-- tags: struct (nullable = true)\n |    |-- 1980s: long (nullable = true)\n |    |-- 1990's: long (nullable = true)\n |    |-- 2.5D: long (nullable = true)\n |    |-- 2D: long (nullable = true)\n |    |-- 2D Fighter: long (nullable = true)\n |    |-- 2D Platformer: long (nullable = true)\n |    |-- 360 Video: long (nullable = true)\n |    |-- 3D: long (nullable = true)\n |    |-- 3D Fighter: long (nullable = true)\n |    |-- 3D Platformer: long (nullable = true)\n |    |-- 3D Vision: long (nullable = true)\n |    |-- 4 Player Local: long (nullable = true)\n |    |-- 4X: long (nullable = true)\n |    |-- 6DOF: long (nullable = true)\n |    |-- 8-bit Music: long (nullable = true)\n |    |-- ATV: long (nullable = true)\n |    |-- Abstract: long (nullable = true)\n |    |-- Action: long (nullable = true)\n |    |-- Action RPG: long (nullable = true)\n |    |-- Action RTS: long (nullable = true)\n |    |-- Action Roguelike: long (nullable = true)\n |    |-- Action-Adventure: long (nullable = true)\n |    |-- Addictive: long (nullable = true)\n |    |-- Adventure: long (nullable = true)\n |    |-- Agriculture: long (nullable = true)\n |    |-- Aliens: long (nullable = true)\n |    |-- Alternate History: long (nullable = true)\n |    |-- Ambient: long (nullable = true)\n |    |-- America: long (nullable = true)\n |    |-- Animation & Modeling: long (nullable = true)\n |    |-- Anime: long (nullable = true)\n |    |-- Arcade: long (nullable = true)\n |    |-- Archery: long (nullable = true)\n |    |-- Arena Shooter: long (nullable = true)\n |    |-- Artificial Intelligence: long (nullable = true)\n |    |-- Assassin: long (nullable = true)\n |    |-- Asymmetric VR: long (nullable = true)\n |    |-- Asynchronous Multiplayer: long (nullable = true)\n |    |-- Atmospheric: long (nullable = true)\n |    |-- Audio Production: long (nullable = true)\n |    |-- Auto Battler: long (nullable = true)\n |    |-- Automation: long (nullable = true)\n |    |-- Automobile Sim: long (nullable = true)\n |    |-- BMX: long (nullable = true)\n |    |-- Base-Building: long (nullable = true)\n |    |-- Baseball: long (nullable = true)\n |    |-- Based On A Novel: long (nullable = true)\n |    |-- Basketball: long (nullable = true)\n |    |-- Battle Royale: long (nullable = true)\n |    |-- Beat 'em up: long (nullable = true)\n |    |-- Beautiful: long (nullable = true)\n |    |-- Benchmark: long (nullable = true)\n |    |-- Bikes: long (nullable = true)\n |    |-- Blood: long (nullable = true)\n |    |-- Board Game: long (nullable = true)\n |    |-- Boss Rush: long (nullable = true)\n |    |-- Bowling: long (nullable = true)\n |    |-- Boxing: long (nullable = true)\n |    |-- Building: long (nullable = true)\n |    |-- Bullet Hell: long (nullable = true)\n |    |-- Bullet Time: long (nullable = true)\n |    |-- CRPG: long (nullable = true)\n |    |-- Capitalism: long (nullable = true)\n |    |-- Card Battler: long (nullable = true)\n |    |-- Card Game: long (nullable = true)\n |    |-- Cartoon: long (nullable = true)\n |    |-- Cartoony: long (nullable = true)\n |    |-- Casual: long (nullable = true)\n |    |-- Cats: long (nullable = true)\n |    |-- Character Action Game: long (nullable = true)\n |    |-- Character Customization: long (nullable = true)\n |    |-- Chess: long (nullable = true)\n |    |-- Choices Matter: long (nullable = true)\n |    |-- Choose Your Own Adventure: long (nullable = true)\n |    |-- Cinematic: long (nullable = true)\n |    |-- City Builder: long (nullable = true)\n |    |-- Class-Based: long (nullable = true)\n |    |-- Classic: long (nullable = true)\n |    |-- Clicker: long (nullable = true)\n |    |-- Co-op: long (nullable = true)\n |    |-- Co-op Campaign: long (nullable = true)\n |    |-- Coding: long (nullable = true)\n |    |-- Cold War: long (nullable = true)\n |    |-- Collectathon: long (nullable = true)\n |    |-- Colony Sim: long (nullable = true)\n |    |-- Colorful: long (nullable = true)\n |    |-- Combat: long (nullable = true)\n |    |-- Combat Racing: long (nullable = true)\n |    |-- Comedy: long (nullable = true)\n |    |-- Comic Book: long (nullable = true)\n |    |-- Competitive: long (nullable = true)\n |    |-- Conspiracy: long (nullable = true)\n |    |-- Controller: long (nullable = true)\n |    |-- Conversation: long (nullable = true)\n |    |-- Cooking: long (nullable = true)\n |    |-- Cozy: long (nullable = true)\n |    |-- Crafting: long (nullable = true)\n |    |-- Creature Collector: long (nullable = true)\n |    |-- Cricket: long (nullable = true)\n |    |-- Crime: long (nullable = true)\n |    |-- Crowdfunded: long (nullable = true)\n |    |-- Cult Classic: long (nullable = true)\n |    |-- Cute: long (nullable = true)\n |    |-- Cyberpunk: long (nullable = true)\n |    |-- Cycling: long (nullable = true)\n |    |-- Dark: long (nullable = true)\n |    |-- Dark Comedy: long (nullable = true)\n |    |-- Dark Fantasy: long (nullable = true)\n |    |-- Dark Humor: long (nullable = true)\n |    |-- Dating Sim: long (nullable = true)\n |    |-- Deckbuilding: long (nullable = true)\n |    |-- Demons: long (nullable = true)\n |    |-- Design & Illustration: long (nullable = true)\n |    |-- Destruction: long (nullable = true)\n |    |-- Detective: long (nullable = true)\n |    |-- Difficult: long (nullable = true)\n |    |-- Dinosaurs: long (nullable = true)\n |    |-- Diplomacy: long (nullable = true)\n |    |-- Documentary: long (nullable = true)\n |    |-- Dog: long (nullable = true)\n |    |-- Dragons: long (nullable = true)\n |    |-- Drama: long (nullable = true)\n |    |-- Driving: long (nullable = true)\n |    |-- Dungeon Crawler: long (nullable = true)\n |    |-- Dungeons & Dragons: long (nullable = true)\n |    |-- Dynamic Narration: long (nullable = true)\n |    |-- Dystopian : long (nullable = true)\n |    |-- Early Access: long (nullable = true)\n |    |-- Economy: long (nullable = true)\n |    |-- Education: long (nullable = true)\n |    |-- Electronic: long (nullable = true)\n |    |-- Electronic Music: long (nullable = true)\n |    |-- Emotional: long (nullable = true)\n |    |-- Epic: long (nullable = true)\n |    |-- Episodic: long (nullable = true)\n |    |-- Escape Room: long (nullable = true)\n |    |-- Experience: long (nullable = true)\n |    |-- Experimental: long (nullable = true)\n |    |-- Exploration: long (nullable = true)\n |    |-- FMV: long (nullable = true)\n |    |-- FPS: long (nullable = true)\n |    |-- Faith: long (nullable = true)\n |    |-- Family Friendly: long (nullable = true)\n |    |-- Fantasy: long (nullable = true)\n |    |-- Farming: long (nullable = true)\n |    |-- Farming Sim: long (nullable = true)\n |    |-- Fast-Paced: long (nullable = true)\n |    |-- Feature Film: long (nullable = true)\n |    |-- Female Protagonist: long (nullable = true)\n |    |-- Fighting: long (nullable = true)\n |    |-- First-Person: long (nullable = true)\n |    |-- Fishing: long (nullable = true)\n |    |-- Flight: long (nullable = true)\n |    |-- Football: long (nullable = true)\n |    |-- Foreign: long (nullable = true)\n |    |-- Free to Play: long (nullable = true)\n |    |-- Funny: long (nullable = true)\n |    |-- Futuristic: long (nullable = true)\n |    |-- Gambling: long (nullable = true)\n |    |-- Game Development: long (nullable = true)\n |    |-- GameMaker: long (nullable = true)\n |    |-- Games Workshop: long (nullable = true)\n |    |-- Gaming: long (nullable = true)\n |    |-- God Game: long (nullable = true)\n |    |-- Golf: long (nullable = true)\n |    |-- Gore: long (nullable = true)\n |    |-- Gothic: long (nullable = true)\n |    |-- Grand Strategy: long (nullable = true)\n |    |-- Great Soundtrack: long (nullable = true)\n |    |-- Grid-Based Movement: long (nullable = true)\n |    |-- Gun Customization: long (nullable = true)\n |    |-- Hack and Slash: long (nullable = true)\n |    |-- Hacking: long (nullable = true)\n |    |-- Hand-drawn: long (nullable = true)\n |    |-- Hardware: long (nullable = true)\n |    |-- Heist: long (nullable = true)\n |    |-- Hentai: long (nullable = true)\n |    |-- Hero Shooter: long (nullable = true)\n |    |-- Hex Grid: long (nullable = true)\n |    |-- Hidden Object: long (nullable = true)\n |    |-- Historical: long (nullable = true)\n |    |-- Hockey: long (nullable = true)\n |    |-- Horror: long (nullable = true)\n |    |-- Horses: long (nullable = true)\n |    |-- Hunting: long (nullable = true)\n |    |-- Idler: long (nullable = true)\n |    |-- Illuminati: long (nullable = true)\n |    |-- Immersive: long (nullable = true)\n |    |-- Immersive Sim: long (nullable = true)\n |    |-- Indie: long (nullable = true)\n |    |-- Instrumental Music: long (nullable = true)\n |    |-- Intentionally Awkward Controls: long (nullable = true)\n |    |-- Interactive Fiction: long (nullable = true)\n |    |-- Inventory Management: long (nullable = true)\n |    |-- Investigation: long (nullable = true)\n |    |-- Isometric: long (nullable = true)\n |    |-- JRPG: long (nullable = true)\n |    |-- Jet: long (nullable = true)\n |    |-- Job Simulator: long (nullable = true)\n |    |-- Jump Scare: long (nullable = true)\n |    |-- Kickstarter: long (nullable = true)\n |    |-- LEGO: long (nullable = true)\n |    |-- LGBTQ+: long (nullable = true)\n |    |-- Lemmings: long (nullable = true)\n |    |-- Level Editor: long (nullable = true)\n |    |-- Life Sim: long (nullable = true)\n |    |-- Linear: long (nullable = true)\n |    |-- Local Co-Op: long (nullable = true)\n |    |-- Local Multiplayer: long (nullable = true)\n |    |-- Logic: long (nullable = true)\n |    |-- Loot: long (nullable = true)\n |    |-- Looter Shooter: long (nullable = true)\n |    |-- Lore-Rich: long (nullable = true)\n |    |-- Lovecraftian: long (nullable = true)\n |    |-- MMORPG: long (nullable = true)\n |    |-- MOBA: long (nullable = true)\n |    |-- Magic: long (nullable = true)\n |    |-- Mahjong: long (nullable = true)\n |    |-- Management: long (nullable = true)\n |    |-- Mars: long (nullable = true)\n |    |-- Martial Arts: long (nullable = true)\n |    |-- Massively Multiplayer: long (nullable = true)\n |    |-- Masterpiece: long (nullable = true)\n |    |-- Match 3: long (nullable = true)\n |    |-- Mature: long (nullable = true)\n |    |-- Mechs: long (nullable = true)\n |    |-- Medical Sim: long (nullable = true)\n |    |-- Medieval: long (nullable = true)\n |    |-- Memes: long (nullable = true)\n |    |-- Metroidvania: long (nullable = true)\n |    |-- Military: long (nullable = true)\n |    |-- Mini Golf: long (nullable = true)\n |    |-- Minigames: long (nullable = true)\n |    |-- Minimalist: long (nullable = true)\n |    |-- Mining: long (nullable = true)\n |    |-- Mod: long (nullable = true)\n |    |-- Moddable: long (nullable = true)\n |    |-- Modern: long (nullable = true)\n |    |-- Motocross: long (nullable = true)\n |    |-- Motorbike: long (nullable = true)\n |    |-- Mouse only: long (nullable = true)\n |    |-- Movie: long (nullable = true)\n |    |-- Multiplayer: long (nullable = true)\n |    |-- Multiple Endings: long (nullable = true)\n |    |-- Music: long (nullable = true)\n |    |-- Music-Based Procedural Generation: long (nullable = true)\n |    |-- Musou: long (nullable = true)\n |    |-- Mystery: long (nullable = true)\n |    |-- Mystery Dungeon: long (nullable = true)\n |    |-- Mythology: long (nullable = true)\n |    |-- NSFW: long (nullable = true)\n |    |-- Narration: long (nullable = true)\n |    |-- Narrative: long (nullable = true)\n |    |-- Nature: long (nullable = true)\n |    |-- Naval: long (nullable = true)\n |    |-- Naval Combat: long (nullable = true)\n |    |-- Ninja: long (nullable = true)\n |    |-- Noir: long (nullable = true)\n |    |-- Nonlinear: long (nullable = true)\n |    |-- Nostalgia: long (nullable = true)\n |    |-- Nudity: long (nullable = true)\n |    |-- Offroad: long (nullable = true)\n |    |-- Old School: long (nullable = true)\n |    |-- On-Rails Shooter: long (nullable = true)\n |    |-- Online Co-Op: long (nullable = true)\n |    |-- Open World: long (nullable = true)\n |    |-- Open World Survival Craft: long (nullable = true)\n |    |-- Otome: long (nullable = true)\n |    |-- Outbreak Sim: long (nullable = true)\n |    |-- Parkour: long (nullable = true)\n |    |-- Parody : long (nullable = true)\n |    |-- Party: long (nullable = true)\n |    |-- Party Game: long (nullable = true)\n |    |-- Party-Based RPG: long (nullable = true)\n |    |-- Perma Death: long (nullable = true)\n |    |-- Philosophical: long (nullable = true)\n |    |-- Photo Editing: long (nullable = true)\n |    |-- Physics: long (nullable = true)\n |    |-- Pinball: long (nullable = true)\n |    |-- Pirates: long (nullable = true)\n |    |-- Pixel Graphics: long (nullable = true)\n |    |-- Platformer: long (nullable = true)\n |    |-- Point & Click: long (nullable = true)\n |    |-- Political: long (nullable = true)\n |    |-- Political Sim: long (nullable = true)\n |    |-- Politics: long (nullable = true)\n |    |-- Pool: long (nullable = true)\n |    |-- Post-apocalyptic: long (nullable = true)\n |    |-- Precision Platformer: long (nullable = true)\n |    |-- Procedural Generation: long (nullable = true)\n |    |-- Programming: long (nullable = true)\n |    |-- Psychedelic: long (nullable = true)\n |    |-- Psychological: long (nullable = true)\n |    |-- Psychological Horror: long (nullable = true)\n |    |-- Puzzle: long (nullable = true)\n |    |-- Puzzle-Platformer: long (nullable = true)\n |    |-- PvE: long (nullable = true)\n |    |-- PvP: long (nullable = true)\n |    |-- Quick-Time Events: long (nullable = true)\n |    |-- RPG: long (nullable = true)\n |    |-- RPGMaker: long (nullable = true)\n |    |-- RTS: long (nullable = true)\n |    |-- Racing: long (nullable = true)\n |    |-- Real Time Tactics: long (nullable = true)\n |    |-- Real-Time: long (nullable = true)\n |    |-- Real-Time with Pause: long (nullable = true)\n |    |-- Realistic: long (nullable = true)\n |    |-- Reboot: long (nullable = true)\n |    |-- Relaxing: long (nullable = true)\n |    |-- Remake: long (nullable = true)\n |    |-- Replay Value: long (nullable = true)\n |    |-- Resource Management: long (nullable = true)\n |    |-- Retro: long (nullable = true)\n |    |-- Rhythm: long (nullable = true)\n |    |-- Robots: long (nullable = true)\n |    |-- Rock Music: long (nullable = true)\n |    |-- Rogue-like: long (nullable = true)\n |    |-- Rogue-lite: long (nullable = true)\n |    |-- Roguelike Deckbuilder: long (nullable = true)\n |    |-- Roguevania: long (nullable = true)\n |    |-- Romance: long (nullable = true)\n |    |-- Rome: long (nullable = true)\n |    |-- Rugby: long (nullable = true)\n |    |-- Runner: long (nullable = true)\n |    |-- Sailing: long (nullable = true)\n |    |-- Sandbox: long (nullable = true)\n |    |-- Satire: long (nullable = true)\n |    |-- Sci-fi: long (nullable = true)\n |    |-- Science: long (nullable = true)\n |    |-- Score Attack: long (nullable = true)\n |    |-- Sequel: long (nullable = true)\n |    |-- Sexual Content: long (nullable = true)\n |    |-- Shoot 'Em Up: long (nullable = true)\n |    |-- Shooter: long (nullable = true)\n |    |-- Shop Keeper: long (nullable = true)\n |    |-- Short: long (nullable = true)\n |    |-- Side Scroller: long (nullable = true)\n |    |-- Silent Protagonist: long (nullable = true)\n |    |-- Simulation: long (nullable = true)\n |    |-- Singleplayer: long (nullable = true)\n |    |-- Skateboarding: long (nullable = true)\n |    |-- Skating: long (nullable = true)\n |    |-- Skiing: long (nullable = true)\n |    |-- Sniper: long (nullable = true)\n |    |-- Snooker: long (nullable = true)\n |    |-- Snow: long (nullable = true)\n |    |-- Snowboarding: long (nullable = true)\n |    |-- Soccer: long (nullable = true)\n |    |-- Social Deduction: long (nullable = true)\n |    |-- Software: long (nullable = true)\n |    |-- Software Training: long (nullable = true)\n |    |-- Sokoban: long (nullable = true)\n |    |-- Solitaire: long (nullable = true)\n |    |-- Souls-like: long (nullable = true)\n |    |-- Soundtrack: long (nullable = true)\n |    |-- Space: long (nullable = true)\n |    |-- Space Sim: long (nullable = true)\n |    |-- Spaceships: long (nullable = true)\n |    |-- Spectacle fighter: long (nullable = true)\n |    |-- Spelling: long (nullable = true)\n |    |-- Split Screen: long (nullable = true)\n |    |-- Sports: long (nullable = true)\n |    |-- Stealth: long (nullable = true)\n |    |-- Steam Machine: long (nullable = true)\n |    |-- Steampunk: long (nullable = true)\n |    |-- Story Rich: long (nullable = true)\n |    |-- Strategy: long (nullable = true)\n |    |-- Strategy RPG: long (nullable = true)\n |    |-- Stylized: long (nullable = true)\n |    |-- Submarine: long (nullable = true)\n |    |-- Superhero: long (nullable = true)\n |    |-- Supernatural: long (nullable = true)\n |    |-- Surreal: long (nullable = true)\n |    |-- Survival: long (nullable = true)\n |    |-- Survival Horror: long (nullable = true)\n |    |-- Swordplay: long (nullable = true)\n |    |-- Tabletop: long (nullable = true)\n |    |-- Tactical: long (nullable = true)\n |    |-- Tactical RPG: long (nullable = true)\n |    |-- Tanks: long (nullable = true)\n |    |-- Team-Based: long (nullable = true)\n |    |-- Tennis: long (nullable = true)\n |    |-- Text-Based: long (nullable = true)\n |    |-- Third Person: long (nullable = true)\n |    |-- Third-Person Shooter: long (nullable = true)\n |    |-- Thriller: long (nullable = true)\n |    |-- Tile-Matching: long (nullable = true)\n |    |-- Time Attack: long (nullable = true)\n |    |-- Time Management: long (nullable = true)\n |    |-- Time Manipulation: long (nullable = true)\n |    |-- Time Travel: long (nullable = true)\n |    |-- Top-Down: long (nullable = true)\n |    |-- Top-Down Shooter: long (nullable = true)\n |    |-- Touch-Friendly: long (nullable = true)\n |    |-- Tower Defense: long (nullable = true)\n |    |-- TrackIR: long (nullable = true)\n |    |-- Trading: long (nullable = true)\n |    |-- Trading Card Game: long (nullable = true)\n |    |-- Traditional Roguelike: long (nullable = true)\n |    |-- Trains: long (nullable = true)\n |    |-- Transhumanism: long (nullable = true)\n |    |-- Transportation: long (nullable = true)\n |    |-- Trivia: long (nullable = true)\n |    |-- Turn-Based: long (nullable = true)\n |    |-- Turn-Based Combat: long (nullable = true)\n |    |-- Turn-Based Strategy: long (nullable = true)\n |    |-- Turn-Based Tactics: long (nullable = true)\n |    |-- Tutorial: long (nullable = true)\n |    |-- Twin Stick Shooter: long (nullable = true)\n |    |-- Typing: long (nullable = true)\n |    |-- Underground: long (nullable = true)\n |    |-- Underwater: long (nullable = true)\n |    |-- Unforgiving: long (nullable = true)\n |    |-- Utilities: long (nullable = true)\n |    |-- VR: long (nullable = true)\n |    |-- VR Only: long (nullable = true)\n |    |-- Vampire: long (nullable = true)\n |    |-- Vehicular Combat: long (nullable = true)\n |    |-- Video Production: long (nullable = true)\n |    |-- Vikings: long (nullable = true)\n |    |-- Villain Protagonist: long (nullable = true)\n |    |-- Violent: long (nullable = true)\n |    |-- Visual Novel: long (nullable = true)\n |    |-- Voice Control: long (nullable = true)\n |    |-- Volleyball: long (nullable = true)\n |    |-- Voxel: long (nullable = true)\n |    |-- Walking Simulator: long (nullable = true)\n |    |-- War: long (nullable = true)\n |    |-- Wargame: long (nullable = true)\n |    |-- Warhammer 40K: long (nullable = true)\n |    |-- Web Publishing: long (nullable = true)\n |    |-- Well-Written: long (nullable = true)\n |    |-- Werewolves: long (nullable = true)\n |    |-- Western: long (nullable = true)\n |    |-- Wholesome: long (nullable = true)\n |    |-- Word Game: long (nullable = true)\n |    |-- World War I: long (nullable = true)\n |    |-- World War II: long (nullable = true)\n |    |-- Wrestling: long (nullable = true)\n |    |-- Zombies: long (nullable = true)\n |    |-- e-sports: long (nullable = true)\n |-- type: string (nullable = true)\n |-- website: string (nullable = true)\n\n"
     ]
    }
   ],
   "source": [
    "df_steam_flat.printSchema()"
   ]
  },
  {
   "cell_type": "code",
   "execution_count": 0,
   "metadata": {
    "application/vnd.databricks.v1+cell": {
     "cellMetadata": {
      "byteLimit": 2048000,
      "rowLimit": 10000
     },
     "inputWidgets": {},
     "nuid": "3d7f30e7-0f2a-4cfa-9a89-a987f0555f6a",
     "showTitle": false,
     "tableResultSettingsMap": {},
     "title": ""
    }
   },
   "outputs": [
    {
     "output_type": "stream",
     "name": "stdout",
     "output_type": "stream",
     "text": [
      "nb rows : 55691, nb colonnes : 22\n"
     ]
    }
   ],
   "source": [
    "print(f\"nb rows : {df_steam_flat.count()}, nb colonnes : {len(df_steam_flat.columns)}\")"
   ]
  },
  {
   "cell_type": "markdown",
   "metadata": {
    "application/vnd.databricks.v1+cell": {
     "cellMetadata": {
      "byteLimit": 2048000,
      "rowLimit": 10000
     },
     "inputWidgets": {},
     "nuid": "d169331d-5b5c-4358-bc9b-9f86e6eaffd3",
     "showTitle": false,
     "tableResultSettingsMap": {},
     "title": ""
    }
   },
   "source": [
    "---"
   ]
  },
  {
   "cell_type": "markdown",
   "metadata": {
    "application/vnd.databricks.v1+cell": {
     "cellMetadata": {
      "byteLimit": 2048000,
      "rowLimit": 10000
     },
     "inputWidgets": {},
     "nuid": "ea2e59c6-ab49-4842-bcc6-ff867ddbe9f9",
     "showTitle": false,
     "tableResultSettingsMap": {},
     "title": ""
    }
   },
   "source": [
    "### Preprocessing\n",
    "#### Nettoyage et transformation des données avant leur utilisation"
   ]
  },
  {
   "cell_type": "markdown",
   "metadata": {
    "application/vnd.databricks.v1+cell": {
     "cellMetadata": {
      "byteLimit": 2048000,
      "rowLimit": 10000
     },
     "inputWidgets": {},
     "nuid": "ca22453a-d302-46b3-857a-e14a11f126f7",
     "showTitle": false,
     "tableResultSettingsMap": {},
     "title": ""
    }
   },
   "source": [
    "Valeurs manquantes"
   ]
  },
  {
   "cell_type": "code",
   "execution_count": 0,
   "metadata": {
    "application/vnd.databricks.v1+cell": {
     "cellMetadata": {
      "byteLimit": 2048000,
      "rowLimit": 10000
     },
     "inputWidgets": {},
     "nuid": "508ac301-3651-4b6f-bdca-eab284e92180",
     "showTitle": false,
     "tableResultSettingsMap": {},
     "title": ""
    }
   },
   "outputs": [
    {
     "output_type": "display_data",
     "data": {
      "text/html": [
       "<style scoped>\n",
       "  .table-result-container {\n",
       "    max-height: 300px;\n",
       "    overflow: auto;\n",
       "  }\n",
       "  table, th, td {\n",
       "    border: 1px solid black;\n",
       "    border-collapse: collapse;\n",
       "  }\n",
       "  th, td {\n",
       "    padding: 5px;\n",
       "  }\n",
       "  th {\n",
       "    text-align: left;\n",
       "  }\n",
       "</style><div class='table-result-container'><table class='table-result'><thead style='background-color: white'><tr><th>summary</th><th>appid</th><th>ccu</th><th>developer</th><th>discount</th><th>genre</th><th>header_image</th><th>initialprice</th><th>languages</th><th>name</th><th>negative</th><th>owners</th><th>positive</th><th>price</th><th>publisher</th><th>release_date</th><th>required_age</th><th>short_description</th><th>type</th><th>website</th></tr></thead><tbody><tr><td>count</td><td>55691</td><td>55691</td><td>55691</td><td>55691</td><td>55691</td><td>55691</td><td>55691</td><td>55691</td><td>55691</td><td>55691</td><td>55691</td><td>55691</td><td>55691</td><td>55691</td><td>55691</td><td>55691</td><td>55691</td><td>55691</td><td>55691</td></tr><tr><td>mean</td><td>1025603.0926720655</td><td>138.9596164550825</td><td>67392.0</td><td>2.603777989262179</td><td>null</td><td>null</td><td>797.5663033524268</td><td>null</td><td>Infinity</td><td>241.8376937027527</td><td>null</td><td>1470.8755992889335</td><td>773.2849832109317</td><td>2001.0</td><td>null</td><td>0.1978882344490734</td><td>null</td><td>null</td><td>null</td></tr><tr><td>stddev</td><td>522784.9683283419</td><td>6002.067909130784</td><td>210681.70504552333</td><td>12.887080174743142</td><td>null</td><td>null</td><td>1104.7624778413358</td><td>null</td><td>NaN</td><td>5765.413761559603</td><td>null</td><td>30982.73347953487</td><td>1093.1345827234525</td><td>1921.8937275510318</td><td>null</td><td>2.296292461481821</td><td>null</td><td>null</td><td>null</td></tr><tr><td>min</td><td>10</td><td>0</td><td></td><td>0</td><td></td><td>https://cdn.akamai.steamstatic.com/steam/apps/10/header.jpg?t=1666823513</td><td>0</td><td></td><td> Fieldrunners 2</td><td>0</td><td>0 .. 20,000</td><td>0</td><td>0</td><td></td><td></td><td>0</td><td></td><td>game</td><td></td></tr><tr><td>max</td><td>2190950</td><td>874053</td><td>＼上／</td><td>90</td><td>Web Publishing</td><td>https://cdn.akamai.steamstatic.com/steam/apps/999990/header.jpg?t=1610733322</td><td>9999</td><td>Turkish</td><td>～Daydream～蝶が舞う頃に</td><td>908515</td><td>500,000 .. 1,000,000</td><td>5943345</td><td>9999</td><td>Ｌｅｍｏｎ　Ｂａｌｍ</td><td>2022/11/7</td><td>MA 15+</td><td>🚗 Take part in a roller coaster of emotions with Louise embarking on a road trip of a lifetime through the late 1960s USA, trying to show her son Mitch how to navigate the often cruel modern world. Your choices matter! ✅</td><td>hardware</td><td>www.windybeard.com</td></tr></tbody></table></div>"
      ]
     },
     "metadata": {
      "application/vnd.databricks.v1+output": {
       "addedWidgets": {},
       "aggData": [],
       "aggError": "",
       "aggOverflow": false,
       "aggSchema": [],
       "aggSeriesLimitReached": false,
       "aggType": "",
       "arguments": {},
       "columnCustomDisplayInfos": {},
       "data": [
        [
         "count",
         "55691",
         "55691",
         "55691",
         "55691",
         "55691",
         "55691",
         "55691",
         "55691",
         "55691",
         "55691",
         "55691",
         "55691",
         "55691",
         "55691",
         "55691",
         "55691",
         "55691",
         "55691",
         "55691"
        ],
        [
         "mean",
         "1025603.0926720655",
         "138.9596164550825",
         "67392.0",
         "2.603777989262179",
         null,
         null,
         "797.5663033524268",
         null,
         "Infinity",
         "241.8376937027527",
         null,
         "1470.8755992889335",
         "773.2849832109317",
         "2001.0",
         null,
         "0.1978882344490734",
         null,
         null,
         null
        ],
        [
         "stddev",
         "522784.9683283419",
         "6002.067909130784",
         "210681.70504552333",
         "12.887080174743142",
         null,
         null,
         "1104.7624778413358",
         null,
         "NaN",
         "5765.413761559603",
         null,
         "30982.73347953487",
         "1093.1345827234525",
         "1921.8937275510318",
         null,
         "2.296292461481821",
         null,
         null,
         null
        ],
        [
         "min",
         "10",
         "0",
         "",
         "0",
         "",
         "https://cdn.akamai.steamstatic.com/steam/apps/10/header.jpg?t=1666823513",
         "0",
         "",
         " Fieldrunners 2",
         "0",
         "0 .. 20,000",
         "0",
         "0",
         "",
         "",
         "0",
         "",
         "game",
         ""
        ],
        [
         "max",
         "2190950",
         "874053",
         "＼上／",
         "90",
         "Web Publishing",
         "https://cdn.akamai.steamstatic.com/steam/apps/999990/header.jpg?t=1610733322",
         "9999",
         "Turkish",
         "～Daydream～蝶が舞う頃に",
         "908515",
         "500,000 .. 1,000,000",
         "5943345",
         "9999",
         "Ｌｅｍｏｎ　Ｂａｌｍ",
         "2022/11/7",
         "MA 15+",
         "🚗 Take part in a roller coaster of emotions with Louise embarking on a road trip of a lifetime through the late 1960s USA, trying to show her son Mitch how to navigate the often cruel modern world. Your choices matter! ✅",
         "hardware",
         "www.windybeard.com"
        ]
       ],
       "datasetInfos": [],
       "dbfsResultPath": null,
       "isJsonSchema": true,
       "metadata": {},
       "overflow": false,
       "plotOptions": {
        "customPlotOptions": {},
        "displayType": "table",
        "pivotAggregation": null,
        "pivotColumns": null,
        "xColumns": null,
        "yColumns": null
       },
       "removedWidgets": [],
       "schema": [
        {
         "metadata": "{}",
         "name": "summary",
         "type": "\"string\""
        },
        {
         "metadata": "{}",
         "name": "appid",
         "type": "\"string\""
        },
        {
         "metadata": "{}",
         "name": "ccu",
         "type": "\"string\""
        },
        {
         "metadata": "{}",
         "name": "developer",
         "type": "\"string\""
        },
        {
         "metadata": "{}",
         "name": "discount",
         "type": "\"string\""
        },
        {
         "metadata": "{}",
         "name": "genre",
         "type": "\"string\""
        },
        {
         "metadata": "{}",
         "name": "header_image",
         "type": "\"string\""
        },
        {
         "metadata": "{}",
         "name": "initialprice",
         "type": "\"string\""
        },
        {
         "metadata": "{}",
         "name": "languages",
         "type": "\"string\""
        },
        {
         "metadata": "{}",
         "name": "name",
         "type": "\"string\""
        },
        {
         "metadata": "{}",
         "name": "negative",
         "type": "\"string\""
        },
        {
         "metadata": "{}",
         "name": "owners",
         "type": "\"string\""
        },
        {
         "metadata": "{}",
         "name": "positive",
         "type": "\"string\""
        },
        {
         "metadata": "{}",
         "name": "price",
         "type": "\"string\""
        },
        {
         "metadata": "{}",
         "name": "publisher",
         "type": "\"string\""
        },
        {
         "metadata": "{}",
         "name": "release_date",
         "type": "\"string\""
        },
        {
         "metadata": "{}",
         "name": "required_age",
         "type": "\"string\""
        },
        {
         "metadata": "{}",
         "name": "short_description",
         "type": "\"string\""
        },
        {
         "metadata": "{}",
         "name": "type",
         "type": "\"string\""
        },
        {
         "metadata": "{}",
         "name": "website",
         "type": "\"string\""
        }
       ],
       "type": "table"
      }
     },
     "output_type": "display_data"
    }
   ],
   "source": [
    "display(df_steam_flat.describe())"
   ]
  },
  {
   "cell_type": "code",
   "execution_count": 0,
   "metadata": {
    "application/vnd.databricks.v1+cell": {
     "cellMetadata": {
      "byteLimit": 2048000,
      "rowLimit": 10000
     },
     "inputWidgets": {},
     "nuid": "2a221233-2e2d-47d6-ab2f-0a67fc50336a",
     "showTitle": false,
     "tableResultSettingsMap": {},
     "title": ""
    }
   },
   "outputs": [
    {
     "output_type": "display_data",
     "data": {
      "text/html": [
       "<style scoped>\n",
       "  .table-result-container {\n",
       "    max-height: 300px;\n",
       "    overflow: auto;\n",
       "  }\n",
       "  table, th, td {\n",
       "    border: 1px solid black;\n",
       "    border-collapse: collapse;\n",
       "  }\n",
       "  th, td {\n",
       "    padding: 5px;\n",
       "  }\n",
       "  th {\n",
       "    text-align: left;\n",
       "  }\n",
       "</style><div class='table-result-container'><table class='table-result'><thead style='background-color: white'><tr><th>appid</th><th>categories</th><th>ccu</th><th>developer</th><th>discount</th><th>genre</th><th>header_image</th><th>initialprice</th><th>languages</th><th>name</th><th>negative</th><th>owners</th><th>platforms</th><th>positive</th><th>price</th><th>publisher</th><th>release_date</th><th>required_age</th><th>short_description</th><th>tags</th><th>type</th><th>website</th></tr></thead><tbody><tr><td>0</td><td>0</td><td>0</td><td>0</td><td>0</td><td>0</td><td>0</td><td>0</td><td>0</td><td>0</td><td>0</td><td>0</td><td>0</td><td>0</td><td>0</td><td>0</td><td>0</td><td>0</td><td>0</td><td>0</td><td>0</td><td>0</td></tr></tbody></table></div>"
      ]
     },
     "metadata": {
      "application/vnd.databricks.v1+output": {
       "addedWidgets": {},
       "aggData": [],
       "aggError": "",
       "aggOverflow": false,
       "aggSchema": [],
       "aggSeriesLimitReached": false,
       "aggType": "",
       "arguments": {},
       "columnCustomDisplayInfos": {},
       "data": [
        [
         0,
         0,
         0,
         0,
         0,
         0,
         0,
         0,
         0,
         0,
         0,
         0,
         0,
         0,
         0,
         0,
         0,
         0,
         0,
         0,
         0,
         0
        ]
       ],
       "datasetInfos": [],
       "dbfsResultPath": null,
       "isJsonSchema": true,
       "metadata": {},
       "overflow": false,
       "plotOptions": {
        "customPlotOptions": {},
        "displayType": "table",
        "pivotAggregation": null,
        "pivotColumns": null,
        "xColumns": null,
        "yColumns": null
       },
       "removedWidgets": [],
       "schema": [
        {
         "metadata": "{}",
         "name": "appid",
         "type": "\"long\""
        },
        {
         "metadata": "{}",
         "name": "categories",
         "type": "\"long\""
        },
        {
         "metadata": "{}",
         "name": "ccu",
         "type": "\"long\""
        },
        {
         "metadata": "{}",
         "name": "developer",
         "type": "\"long\""
        },
        {
         "metadata": "{}",
         "name": "discount",
         "type": "\"long\""
        },
        {
         "metadata": "{}",
         "name": "genre",
         "type": "\"long\""
        },
        {
         "metadata": "{}",
         "name": "header_image",
         "type": "\"long\""
        },
        {
         "metadata": "{}",
         "name": "initialprice",
         "type": "\"long\""
        },
        {
         "metadata": "{}",
         "name": "languages",
         "type": "\"long\""
        },
        {
         "metadata": "{}",
         "name": "name",
         "type": "\"long\""
        },
        {
         "metadata": "{}",
         "name": "negative",
         "type": "\"long\""
        },
        {
         "metadata": "{}",
         "name": "owners",
         "type": "\"long\""
        },
        {
         "metadata": "{}",
         "name": "platforms",
         "type": "\"long\""
        },
        {
         "metadata": "{}",
         "name": "positive",
         "type": "\"long\""
        },
        {
         "metadata": "{}",
         "name": "price",
         "type": "\"long\""
        },
        {
         "metadata": "{}",
         "name": "publisher",
         "type": "\"long\""
        },
        {
         "metadata": "{}",
         "name": "release_date",
         "type": "\"long\""
        },
        {
         "metadata": "{}",
         "name": "required_age",
         "type": "\"long\""
        },
        {
         "metadata": "{}",
         "name": "short_description",
         "type": "\"long\""
        },
        {
         "metadata": "{}",
         "name": "tags",
         "type": "\"long\""
        },
        {
         "metadata": "{}",
         "name": "type",
         "type": "\"long\""
        },
        {
         "metadata": "{}",
         "name": "website",
         "type": "\"long\""
        }
       ],
       "type": "table"
      }
     },
     "output_type": "display_data"
    }
   ],
   "source": [
    "# Il ne semble pas y avoir de valeurs manquantes, je vérifie\n",
    "def count_missing(col_name):\n",
    "  return F.sum(F.col(col_name).isNull().cast(\"int\")).alias(col_name)\n",
    "# then we can apply it to all columns using a list comprehension\n",
    "missing_values = df_steam_flat.select(*[count_missing(c) for c in df_steam_flat.columns]).toPandas()\n",
    "display(missing_values)"
   ]
  },
  {
   "cell_type": "markdown",
   "metadata": {
    "application/vnd.databricks.v1+cell": {
     "cellMetadata": {},
     "inputWidgets": {},
     "nuid": "12e39863-ebbe-4edf-97b8-6c1d49baaf52",
     "showTitle": false,
     "tableResultSettingsMap": {},
     "title": ""
    }
   },
   "source": [
    "Il n'y a pas de valeur manquante"
   ]
  },
  {
   "cell_type": "markdown",
   "metadata": {
    "application/vnd.databricks.v1+cell": {
     "cellMetadata": {},
     "inputWidgets": {},
     "nuid": "8b2c0c26-1d58-4264-bf13-d1c04f705ac0",
     "showTitle": false,
     "tableResultSettingsMap": {},
     "title": ""
    }
   },
   "source": [
    "---"
   ]
  },
  {
   "cell_type": "markdown",
   "metadata": {
    "application/vnd.databricks.v1+cell": {
     "cellMetadata": {
      "byteLimit": 2048000,
      "rowLimit": 10000
     },
     "inputWidgets": {},
     "nuid": "2886f019-b48a-45eb-a246-03c2d9c86851",
     "showTitle": false,
     "tableResultSettingsMap": {},
     "title": ""
    }
   },
   "source": [
    " `required_age`"
   ]
  },
  {
   "cell_type": "code",
   "execution_count": 0,
   "metadata": {
    "application/vnd.databricks.v1+cell": {
     "cellMetadata": {
      "byteLimit": 2048000,
      "rowLimit": 10000
     },
     "inputWidgets": {},
     "nuid": "9c526c7f-7bfa-4505-aa87-8d30e68436bf",
     "showTitle": false,
     "tableResultSettingsMap": {},
     "title": ""
    }
   },
   "outputs": [
    {
     "output_type": "stream",
     "name": "stdout",
     "output_type": "stream",
     "text": [
      "Out[42]: 21"
     ]
    }
   ],
   "source": [
    "df_steam_flat.select(F.col(\"required_age\")).distinct().count()"
   ]
  },
  {
   "cell_type": "code",
   "execution_count": 0,
   "metadata": {
    "application/vnd.databricks.v1+cell": {
     "cellMetadata": {
      "byteLimit": 2048000,
      "rowLimit": 10000
     },
     "inputWidgets": {},
     "nuid": "4d221d72-a2ba-4127-b41e-814077c10d3f",
     "showTitle": false,
     "tableResultSettingsMap": {},
     "title": ""
    }
   },
   "outputs": [
    {
     "output_type": "display_data",
     "data": {
      "text/html": [
       "<div>\n",
       "<style scoped>\n",
       "    .dataframe tbody tr th:only-of-type {\n",
       "        vertical-align: middle;\n",
       "    }\n",
       "\n",
       "    .dataframe tbody tr th {\n",
       "        vertical-align: top;\n",
       "    }\n",
       "\n",
       "    .dataframe thead th {\n",
       "        text-align: right;\n",
       "    }\n",
       "</style>\n",
       "<table border=\"1\" class=\"dataframe\">\n",
       "  <thead>\n",
       "    <tr style=\"text-align: right;\">\n",
       "      <th></th>\n",
       "      <th>required_age</th>\n",
       "      <th>nb_games</th>\n",
       "    </tr>\n",
       "  </thead>\n",
       "  <tbody>\n",
       "    <tr>\n",
       "      <th>0</th>\n",
       "      <td>0</td>\n",
       "      <td>55030</td>\n",
       "    </tr>\n",
       "    <tr>\n",
       "      <th>1</th>\n",
       "      <td>15</td>\n",
       "      <td>264</td>\n",
       "    </tr>\n",
       "    <tr>\n",
       "      <th>2</th>\n",
       "      <td>18</td>\n",
       "      <td>223</td>\n",
       "    </tr>\n",
       "    <tr>\n",
       "      <th>3</th>\n",
       "      <td>16</td>\n",
       "      <td>38</td>\n",
       "    </tr>\n",
       "    <tr>\n",
       "      <th>4</th>\n",
       "      <td>17</td>\n",
       "      <td>38</td>\n",
       "    </tr>\n",
       "    <tr>\n",
       "      <th>5</th>\n",
       "      <td>12</td>\n",
       "      <td>32</td>\n",
       "    </tr>\n",
       "    <tr>\n",
       "      <th>6</th>\n",
       "      <td>13</td>\n",
       "      <td>26</td>\n",
       "    </tr>\n",
       "    <tr>\n",
       "      <th>7</th>\n",
       "      <td>14</td>\n",
       "      <td>10</td>\n",
       "    </tr>\n",
       "    <tr>\n",
       "      <th>8</th>\n",
       "      <td>10</td>\n",
       "      <td>7</td>\n",
       "    </tr>\n",
       "    <tr>\n",
       "      <th>9</th>\n",
       "      <td>6</td>\n",
       "      <td>4</td>\n",
       "    </tr>\n",
       "    <tr>\n",
       "      <th>10</th>\n",
       "      <td>180</td>\n",
       "      <td>4</td>\n",
       "    </tr>\n",
       "    <tr>\n",
       "      <th>11</th>\n",
       "      <td>3</td>\n",
       "      <td>3</td>\n",
       "    </tr>\n",
       "    <tr>\n",
       "      <th>12</th>\n",
       "      <td>8</td>\n",
       "      <td>3</td>\n",
       "    </tr>\n",
       "    <tr>\n",
       "      <th>13</th>\n",
       "      <td>7</td>\n",
       "      <td>2</td>\n",
       "    </tr>\n",
       "    <tr>\n",
       "      <th>14</th>\n",
       "      <td>35</td>\n",
       "      <td>1</td>\n",
       "    </tr>\n",
       "    <tr>\n",
       "      <th>15</th>\n",
       "      <td>21+</td>\n",
       "      <td>1</td>\n",
       "    </tr>\n",
       "    <tr>\n",
       "      <th>16</th>\n",
       "      <td>5</td>\n",
       "      <td>1</td>\n",
       "    </tr>\n",
       "    <tr>\n",
       "      <th>17</th>\n",
       "      <td>9</td>\n",
       "      <td>1</td>\n",
       "    </tr>\n",
       "    <tr>\n",
       "      <th>18</th>\n",
       "      <td>7+</td>\n",
       "      <td>1</td>\n",
       "    </tr>\n",
       "    <tr>\n",
       "      <th>19</th>\n",
       "      <td>20</td>\n",
       "      <td>1</td>\n",
       "    </tr>\n",
       "    <tr>\n",
       "      <th>20</th>\n",
       "      <td>MA 15+</td>\n",
       "      <td>1</td>\n",
       "    </tr>\n",
       "  </tbody>\n",
       "</table>\n",
       "</div>"
      ]
     },
     "metadata": {
      "application/vnd.databricks.v1+output": {
       "addedWidgets": {},
       "arguments": {},
       "data": "<div>\n<style scoped>\n    .dataframe tbody tr th:only-of-type {\n        vertical-align: middle;\n    }\n\n    .dataframe tbody tr th {\n        vertical-align: top;\n    }\n\n    .dataframe thead th {\n        text-align: right;\n    }\n</style>\n<table border=\"1\" class=\"dataframe\">\n  <thead>\n    <tr style=\"text-align: right;\">\n      <th></th>\n      <th>required_age</th>\n      <th>nb_games</th>\n    </tr>\n  </thead>\n  <tbody>\n    <tr>\n      <th>0</th>\n      <td>0</td>\n      <td>55030</td>\n    </tr>\n    <tr>\n      <th>1</th>\n      <td>15</td>\n      <td>264</td>\n    </tr>\n    <tr>\n      <th>2</th>\n      <td>18</td>\n      <td>223</td>\n    </tr>\n    <tr>\n      <th>3</th>\n      <td>16</td>\n      <td>38</td>\n    </tr>\n    <tr>\n      <th>4</th>\n      <td>17</td>\n      <td>38</td>\n    </tr>\n    <tr>\n      <th>5</th>\n      <td>12</td>\n      <td>32</td>\n    </tr>\n    <tr>\n      <th>6</th>\n      <td>13</td>\n      <td>26</td>\n    </tr>\n    <tr>\n      <th>7</th>\n      <td>14</td>\n      <td>10</td>\n    </tr>\n    <tr>\n      <th>8</th>\n      <td>10</td>\n      <td>7</td>\n    </tr>\n    <tr>\n      <th>9</th>\n      <td>6</td>\n      <td>4</td>\n    </tr>\n    <tr>\n      <th>10</th>\n      <td>180</td>\n      <td>4</td>\n    </tr>\n    <tr>\n      <th>11</th>\n      <td>3</td>\n      <td>3</td>\n    </tr>\n    <tr>\n      <th>12</th>\n      <td>8</td>\n      <td>3</td>\n    </tr>\n    <tr>\n      <th>13</th>\n      <td>7</td>\n      <td>2</td>\n    </tr>\n    <tr>\n      <th>14</th>\n      <td>35</td>\n      <td>1</td>\n    </tr>\n    <tr>\n      <th>15</th>\n      <td>21+</td>\n      <td>1</td>\n    </tr>\n    <tr>\n      <th>16</th>\n      <td>5</td>\n      <td>1</td>\n    </tr>\n    <tr>\n      <th>17</th>\n      <td>9</td>\n      <td>1</td>\n    </tr>\n    <tr>\n      <th>18</th>\n      <td>7+</td>\n      <td>1</td>\n    </tr>\n    <tr>\n      <th>19</th>\n      <td>20</td>\n      <td>1</td>\n    </tr>\n    <tr>\n      <th>20</th>\n      <td>MA 15+</td>\n      <td>1</td>\n    </tr>\n  </tbody>\n</table>\n</div>",
       "datasetInfos": [],
       "metadata": {},
       "removedWidgets": [],
       "textData": null,
       "type": "htmlSandbox"
      }
     },
     "output_type": "display_data"
    }
   ],
   "source": [
    "df_steam_flat.groupBy(\"required_age\").agg(F.countDistinct(\"appid\").alias(\"nb_games\")).orderBy(F.desc(\"nb_games\")).toPandas()"
   ]
  },
  {
   "cell_type": "markdown",
   "metadata": {
    "application/vnd.databricks.v1+cell": {
     "cellMetadata": {
      "byteLimit": 2048000,
      "rowLimit": 10000
     },
     "inputWidgets": {},
     "nuid": "b5cfb2fd-82a0-413f-b337-f3757ee78f99",
     "showTitle": false,
     "tableResultSettingsMap": {},
     "title": ""
    }
   },
   "source": [
    "Je vais remplacer 21+ par 21, 7+ par 7 et MA 15+ par 15, de cette manière l'age minimum pourra être converti est Integer pour être requêté."
   ]
  },
  {
   "cell_type": "code",
   "execution_count": 0,
   "metadata": {
    "application/vnd.databricks.v1+cell": {
     "cellMetadata": {
      "byteLimit": 2048000,
      "rowLimit": 10000
     },
     "inputWidgets": {},
     "nuid": "3978f0fa-07c4-440e-8aa2-fb166de35371",
     "showTitle": false,
     "tableResultSettingsMap": {},
     "title": ""
    }
   },
   "outputs": [],
   "source": [
    "df_steam_flat = df_steam_flat \\\n",
    "    .replace(to_replace=\"21+\", value=\"21\", subset=[\"required_age\"]) \\\n",
    "    .replace(to_replace=\"7+\", value=\"7\", subset=[\"required_age\"]) \\\n",
    "    .replace(to_replace=\"MA 15+\", value=\"15\", subset=[\"required_age\"])"
   ]
  },
  {
   "cell_type": "code",
   "execution_count": 0,
   "metadata": {
    "application/vnd.databricks.v1+cell": {
     "cellMetadata": {
      "byteLimit": 2048000,
      "rowLimit": 10000
     },
     "inputWidgets": {},
     "nuid": "8d5fa665-6616-45e9-9172-263cfd7c8070",
     "showTitle": false,
     "tableResultSettingsMap": {},
     "title": ""
    }
   },
   "outputs": [
    {
     "output_type": "display_data",
     "data": {
      "text/html": [
       "<div>\n",
       "<style scoped>\n",
       "    .dataframe tbody tr th:only-of-type {\n",
       "        vertical-align: middle;\n",
       "    }\n",
       "\n",
       "    .dataframe tbody tr th {\n",
       "        vertical-align: top;\n",
       "    }\n",
       "\n",
       "    .dataframe thead th {\n",
       "        text-align: right;\n",
       "    }\n",
       "</style>\n",
       "<table border=\"1\" class=\"dataframe\">\n",
       "  <thead>\n",
       "    <tr style=\"text-align: right;\">\n",
       "      <th></th>\n",
       "      <th>required_age</th>\n",
       "      <th>nb_games</th>\n",
       "    </tr>\n",
       "  </thead>\n",
       "  <tbody>\n",
       "    <tr>\n",
       "      <th>0</th>\n",
       "      <td>0</td>\n",
       "      <td>55030</td>\n",
       "    </tr>\n",
       "    <tr>\n",
       "      <th>1</th>\n",
       "      <td>15</td>\n",
       "      <td>265</td>\n",
       "    </tr>\n",
       "    <tr>\n",
       "      <th>2</th>\n",
       "      <td>18</td>\n",
       "      <td>223</td>\n",
       "    </tr>\n",
       "    <tr>\n",
       "      <th>3</th>\n",
       "      <td>16</td>\n",
       "      <td>38</td>\n",
       "    </tr>\n",
       "    <tr>\n",
       "      <th>4</th>\n",
       "      <td>17</td>\n",
       "      <td>38</td>\n",
       "    </tr>\n",
       "    <tr>\n",
       "      <th>5</th>\n",
       "      <td>12</td>\n",
       "      <td>32</td>\n",
       "    </tr>\n",
       "    <tr>\n",
       "      <th>6</th>\n",
       "      <td>13</td>\n",
       "      <td>26</td>\n",
       "    </tr>\n",
       "    <tr>\n",
       "      <th>7</th>\n",
       "      <td>14</td>\n",
       "      <td>10</td>\n",
       "    </tr>\n",
       "    <tr>\n",
       "      <th>8</th>\n",
       "      <td>10</td>\n",
       "      <td>7</td>\n",
       "    </tr>\n",
       "    <tr>\n",
       "      <th>9</th>\n",
       "      <td>6</td>\n",
       "      <td>4</td>\n",
       "    </tr>\n",
       "    <tr>\n",
       "      <th>10</th>\n",
       "      <td>180</td>\n",
       "      <td>4</td>\n",
       "    </tr>\n",
       "    <tr>\n",
       "      <th>11</th>\n",
       "      <td>7</td>\n",
       "      <td>3</td>\n",
       "    </tr>\n",
       "    <tr>\n",
       "      <th>12</th>\n",
       "      <td>3</td>\n",
       "      <td>3</td>\n",
       "    </tr>\n",
       "    <tr>\n",
       "      <th>13</th>\n",
       "      <td>8</td>\n",
       "      <td>3</td>\n",
       "    </tr>\n",
       "    <tr>\n",
       "      <th>14</th>\n",
       "      <td>35</td>\n",
       "      <td>1</td>\n",
       "    </tr>\n",
       "    <tr>\n",
       "      <th>15</th>\n",
       "      <td>5</td>\n",
       "      <td>1</td>\n",
       "    </tr>\n",
       "    <tr>\n",
       "      <th>16</th>\n",
       "      <td>9</td>\n",
       "      <td>1</td>\n",
       "    </tr>\n",
       "    <tr>\n",
       "      <th>17</th>\n",
       "      <td>20</td>\n",
       "      <td>1</td>\n",
       "    </tr>\n",
       "    <tr>\n",
       "      <th>18</th>\n",
       "      <td>21</td>\n",
       "      <td>1</td>\n",
       "    </tr>\n",
       "  </tbody>\n",
       "</table>\n",
       "</div>"
      ]
     },
     "metadata": {
      "application/vnd.databricks.v1+output": {
       "addedWidgets": {},
       "arguments": {},
       "data": "<div>\n<style scoped>\n    .dataframe tbody tr th:only-of-type {\n        vertical-align: middle;\n    }\n\n    .dataframe tbody tr th {\n        vertical-align: top;\n    }\n\n    .dataframe thead th {\n        text-align: right;\n    }\n</style>\n<table border=\"1\" class=\"dataframe\">\n  <thead>\n    <tr style=\"text-align: right;\">\n      <th></th>\n      <th>required_age</th>\n      <th>nb_games</th>\n    </tr>\n  </thead>\n  <tbody>\n    <tr>\n      <th>0</th>\n      <td>0</td>\n      <td>55030</td>\n    </tr>\n    <tr>\n      <th>1</th>\n      <td>15</td>\n      <td>265</td>\n    </tr>\n    <tr>\n      <th>2</th>\n      <td>18</td>\n      <td>223</td>\n    </tr>\n    <tr>\n      <th>3</th>\n      <td>16</td>\n      <td>38</td>\n    </tr>\n    <tr>\n      <th>4</th>\n      <td>17</td>\n      <td>38</td>\n    </tr>\n    <tr>\n      <th>5</th>\n      <td>12</td>\n      <td>32</td>\n    </tr>\n    <tr>\n      <th>6</th>\n      <td>13</td>\n      <td>26</td>\n    </tr>\n    <tr>\n      <th>7</th>\n      <td>14</td>\n      <td>10</td>\n    </tr>\n    <tr>\n      <th>8</th>\n      <td>10</td>\n      <td>7</td>\n    </tr>\n    <tr>\n      <th>9</th>\n      <td>6</td>\n      <td>4</td>\n    </tr>\n    <tr>\n      <th>10</th>\n      <td>180</td>\n      <td>4</td>\n    </tr>\n    <tr>\n      <th>11</th>\n      <td>7</td>\n      <td>3</td>\n    </tr>\n    <tr>\n      <th>12</th>\n      <td>3</td>\n      <td>3</td>\n    </tr>\n    <tr>\n      <th>13</th>\n      <td>8</td>\n      <td>3</td>\n    </tr>\n    <tr>\n      <th>14</th>\n      <td>35</td>\n      <td>1</td>\n    </tr>\n    <tr>\n      <th>15</th>\n      <td>5</td>\n      <td>1</td>\n    </tr>\n    <tr>\n      <th>16</th>\n      <td>9</td>\n      <td>1</td>\n    </tr>\n    <tr>\n      <th>17</th>\n      <td>20</td>\n      <td>1</td>\n    </tr>\n    <tr>\n      <th>18</th>\n      <td>21</td>\n      <td>1</td>\n    </tr>\n  </tbody>\n</table>\n</div>",
       "datasetInfos": [],
       "metadata": {},
       "removedWidgets": [],
       "textData": null,
       "type": "htmlSandbox"
      }
     },
     "output_type": "display_data"
    }
   ],
   "source": [
    "df_steam_flat.groupBy(\"required_age\").agg(F.countDistinct(\"appid\").alias(\"nb_games\")).orderBy(F.desc(\"nb_games\")).toPandas()"
   ]
  },
  {
   "cell_type": "markdown",
   "metadata": {
    "application/vnd.databricks.v1+cell": {
     "cellMetadata": {
      "byteLimit": 2048000,
      "rowLimit": 10000
     },
     "inputWidgets": {},
     "nuid": "fbdc6576-0206-4527-8619-840a1d48364b",
     "showTitle": false,
     "tableResultSettingsMap": {},
     "title": ""
    }
   },
   "source": [
    "Il y a 4 jeux pour lesquels l'age minimum est 180 ans, ce qui semble être une coquille."
   ]
  },
  {
   "cell_type": "code",
   "execution_count": 0,
   "metadata": {
    "application/vnd.databricks.v1+cell": {
     "cellMetadata": {
      "byteLimit": 2048000,
      "rowLimit": 10000
     },
     "inputWidgets": {},
     "nuid": "19a2c3f5-aed1-40e1-975a-5c3a407b6a4e",
     "showTitle": false,
     "tableResultSettingsMap": {},
     "title": ""
    }
   },
   "outputs": [
    {
     "output_type": "display_data",
     "data": {
      "text/html": [
       "<div>\n",
       "<style scoped>\n",
       "    .dataframe tbody tr th:only-of-type {\n",
       "        vertical-align: middle;\n",
       "    }\n",
       "\n",
       "    .dataframe tbody tr th {\n",
       "        vertical-align: top;\n",
       "    }\n",
       "\n",
       "    .dataframe thead th {\n",
       "        text-align: right;\n",
       "    }\n",
       "</style>\n",
       "<table border=\"1\" class=\"dataframe\">\n",
       "  <thead>\n",
       "    <tr style=\"text-align: right;\">\n",
       "      <th></th>\n",
       "      <th>appid</th>\n",
       "      <th>categories</th>\n",
       "      <th>ccu</th>\n",
       "      <th>developer</th>\n",
       "      <th>discount</th>\n",
       "      <th>genre</th>\n",
       "      <th>header_image</th>\n",
       "      <th>initialprice</th>\n",
       "      <th>languages</th>\n",
       "      <th>name</th>\n",
       "      <th>...</th>\n",
       "      <th>platforms</th>\n",
       "      <th>positive</th>\n",
       "      <th>price</th>\n",
       "      <th>publisher</th>\n",
       "      <th>release_date</th>\n",
       "      <th>required_age</th>\n",
       "      <th>short_description</th>\n",
       "      <th>tags</th>\n",
       "      <th>type</th>\n",
       "      <th>website</th>\n",
       "    </tr>\n",
       "  </thead>\n",
       "  <tbody>\n",
       "    <tr>\n",
       "      <th>0</th>\n",
       "      <td>1091210</td>\n",
       "      <td>[Single-player, Steam Achievements]</td>\n",
       "      <td>0</td>\n",
       "      <td>ТЯН ТЯН ТЯН ЛАМПОВАЯ ТЯН INDUSTRIES</td>\n",
       "      <td>0</td>\n",
       "      <td>Action, Simulation</td>\n",
       "      <td>https://cdn.akamai.steamstatic.com/steam/apps/...</td>\n",
       "      <td>99</td>\n",
       "      <td>English</td>\n",
       "      <td>Kissing Simulator</td>\n",
       "      <td>...</td>\n",
       "      <td>{'linux': False, 'mac': False, 'windows': True}</td>\n",
       "      <td>62</td>\n",
       "      <td>99</td>\n",
       "      <td>Kavkaz Sila Games</td>\n",
       "      <td>2019/07/15</td>\n",
       "      <td>180</td>\n",
       "      <td>Kissing Simulator</td>\n",
       "      <td>{'1980s': None, '1990's': None, '2.5D': None, ...</td>\n",
       "      <td>game</td>\n",
       "      <td></td>\n",
       "    </tr>\n",
       "    <tr>\n",
       "      <th>1</th>\n",
       "      <td>758050</td>\n",
       "      <td>[Single-player, Steam Achievements]</td>\n",
       "      <td>0</td>\n",
       "      <td>Abu Insdustries</td>\n",
       "      <td>0</td>\n",
       "      <td>Indie, Simulation</td>\n",
       "      <td>https://cdn.akamai.steamstatic.com/steam/apps/...</td>\n",
       "      <td>299</td>\n",
       "      <td>English, Not supported, Russian</td>\n",
       "      <td>Internet Simulator</td>\n",
       "      <td>...</td>\n",
       "      <td>{'linux': False, 'mac': False, 'windows': True}</td>\n",
       "      <td>26</td>\n",
       "      <td>299</td>\n",
       "      <td>Kavkaz Sila Games</td>\n",
       "      <td>2018/03/15</td>\n",
       "      <td>180</td>\n",
       "      <td>Web-browser simulator from beautiful locations</td>\n",
       "      <td>{'1980s': None, '1990's': None, '2.5D': None, ...</td>\n",
       "      <td>game</td>\n",
       "      <td></td>\n",
       "    </tr>\n",
       "    <tr>\n",
       "      <th>2</th>\n",
       "      <td>844090</td>\n",
       "      <td>[Single-player]</td>\n",
       "      <td>0</td>\n",
       "      <td>Ludwig van Beethoven</td>\n",
       "      <td>0</td>\n",
       "      <td>Simulation, Early Access</td>\n",
       "      <td>https://cdn.akamai.steamstatic.com/steam/apps/...</td>\n",
       "      <td>299</td>\n",
       "      <td>English, Russian</td>\n",
       "      <td>Piano Simulator</td>\n",
       "      <td>...</td>\n",
       "      <td>{'linux': False, 'mac': False, 'windows': True}</td>\n",
       "      <td>2</td>\n",
       "      <td>299</td>\n",
       "      <td>Kavkaz Siia  Games</td>\n",
       "      <td>2018/05/29</td>\n",
       "      <td>180</td>\n",
       "      <td>The Piano Simulator</td>\n",
       "      <td>{'1980s': None, '1990's': None, '2.5D': None, ...</td>\n",
       "      <td>game</td>\n",
       "      <td></td>\n",
       "    </tr>\n",
       "    <tr>\n",
       "      <th>3</th>\n",
       "      <td>873190</td>\n",
       "      <td>[Single-player, Steam Achievements]</td>\n",
       "      <td>1</td>\n",
       "      <td>Censored</td>\n",
       "      <td>0</td>\n",
       "      <td>Simulation</td>\n",
       "      <td>https://cdn.akamai.steamstatic.com/steam/apps/...</td>\n",
       "      <td>99</td>\n",
       "      <td>Russian</td>\n",
       "      <td>ЕСТЬ ДВА СТУЛА</td>\n",
       "      <td>...</td>\n",
       "      <td>{'linux': False, 'mac': False, 'windows': True}</td>\n",
       "      <td>1289</td>\n",
       "      <td>99</td>\n",
       "      <td>Kavkaz Sila Games</td>\n",
       "      <td>2018/06/19</td>\n",
       "      <td>180</td>\n",
       "      <td>Тюремные Загадки</td>\n",
       "      <td>{'1980s': None, '1990's': None, '2.5D': None, ...</td>\n",
       "      <td>game</td>\n",
       "      <td></td>\n",
       "    </tr>\n",
       "  </tbody>\n",
       "</table>\n",
       "<p>4 rows × 22 columns</p>\n",
       "</div>"
      ]
     },
     "metadata": {
      "application/vnd.databricks.v1+output": {
       "addedWidgets": {},
       "arguments": {},
       "data": "<div>\n<style scoped>\n    .dataframe tbody tr th:only-of-type {\n        vertical-align: middle;\n    }\n\n    .dataframe tbody tr th {\n        vertical-align: top;\n    }\n\n    .dataframe thead th {\n        text-align: right;\n    }\n</style>\n<table border=\"1\" class=\"dataframe\">\n  <thead>\n    <tr style=\"text-align: right;\">\n      <th></th>\n      <th>appid</th>\n      <th>categories</th>\n      <th>ccu</th>\n      <th>developer</th>\n      <th>discount</th>\n      <th>genre</th>\n      <th>header_image</th>\n      <th>initialprice</th>\n      <th>languages</th>\n      <th>name</th>\n      <th>...</th>\n      <th>platforms</th>\n      <th>positive</th>\n      <th>price</th>\n      <th>publisher</th>\n      <th>release_date</th>\n      <th>required_age</th>\n      <th>short_description</th>\n      <th>tags</th>\n      <th>type</th>\n      <th>website</th>\n    </tr>\n  </thead>\n  <tbody>\n    <tr>\n      <th>0</th>\n      <td>1091210</td>\n      <td>[Single-player, Steam Achievements]</td>\n      <td>0</td>\n      <td>ТЯН ТЯН ТЯН ЛАМПОВАЯ ТЯН INDUSTRIES</td>\n      <td>0</td>\n      <td>Action, Simulation</td>\n      <td>https://cdn.akamai.steamstatic.com/steam/apps/...</td>\n      <td>99</td>\n      <td>English</td>\n      <td>Kissing Simulator</td>\n      <td>...</td>\n      <td>{'linux': False, 'mac': False, 'windows': True}</td>\n      <td>62</td>\n      <td>99</td>\n      <td>Kavkaz Sila Games</td>\n      <td>2019/07/15</td>\n      <td>180</td>\n      <td>Kissing Simulator</td>\n      <td>{'1980s': None, '1990's': None, '2.5D': None, ...</td>\n      <td>game</td>\n      <td></td>\n    </tr>\n    <tr>\n      <th>1</th>\n      <td>758050</td>\n      <td>[Single-player, Steam Achievements]</td>\n      <td>0</td>\n      <td>Abu Insdustries</td>\n      <td>0</td>\n      <td>Indie, Simulation</td>\n      <td>https://cdn.akamai.steamstatic.com/steam/apps/...</td>\n      <td>299</td>\n      <td>English, Not supported, Russian</td>\n      <td>Internet Simulator</td>\n      <td>...</td>\n      <td>{'linux': False, 'mac': False, 'windows': True}</td>\n      <td>26</td>\n      <td>299</td>\n      <td>Kavkaz Sila Games</td>\n      <td>2018/03/15</td>\n      <td>180</td>\n      <td>Web-browser simulator from beautiful locations</td>\n      <td>{'1980s': None, '1990's': None, '2.5D': None, ...</td>\n      <td>game</td>\n      <td></td>\n    </tr>\n    <tr>\n      <th>2</th>\n      <td>844090</td>\n      <td>[Single-player]</td>\n      <td>0</td>\n      <td>Ludwig van Beethoven</td>\n      <td>0</td>\n      <td>Simulation, Early Access</td>\n      <td>https://cdn.akamai.steamstatic.com/steam/apps/...</td>\n      <td>299</td>\n      <td>English, Russian</td>\n      <td>Piano Simulator</td>\n      <td>...</td>\n      <td>{'linux': False, 'mac': False, 'windows': True}</td>\n      <td>2</td>\n      <td>299</td>\n      <td>Kavkaz Siia  Games</td>\n      <td>2018/05/29</td>\n      <td>180</td>\n      <td>The Piano Simulator</td>\n      <td>{'1980s': None, '1990's': None, '2.5D': None, ...</td>\n      <td>game</td>\n      <td></td>\n    </tr>\n    <tr>\n      <th>3</th>\n      <td>873190</td>\n      <td>[Single-player, Steam Achievements]</td>\n      <td>1</td>\n      <td>Censored</td>\n      <td>0</td>\n      <td>Simulation</td>\n      <td>https://cdn.akamai.steamstatic.com/steam/apps/...</td>\n      <td>99</td>\n      <td>Russian</td>\n      <td>ЕСТЬ ДВА СТУЛА</td>\n      <td>...</td>\n      <td>{'linux': False, 'mac': False, 'windows': True}</td>\n      <td>1289</td>\n      <td>99</td>\n      <td>Kavkaz Sila Games</td>\n      <td>2018/06/19</td>\n      <td>180</td>\n      <td>Тюремные Загадки</td>\n      <td>{'1980s': None, '1990's': None, '2.5D': None, ...</td>\n      <td>game</td>\n      <td></td>\n    </tr>\n  </tbody>\n</table>\n<p>4 rows × 22 columns</p>\n</div>",
       "datasetInfos": [],
       "metadata": {},
       "removedWidgets": [],
       "textData": null,
       "type": "htmlSandbox"
      }
     },
     "output_type": "display_data"
    }
   ],
   "source": [
    "df_steam_flat.filter(F.col(\"required_age\") == \"180\").toPandas()"
   ]
  },
  {
   "cell_type": "markdown",
   "metadata": {
    "application/vnd.databricks.v1+cell": {
     "cellMetadata": {},
     "inputWidgets": {},
     "nuid": "9ccfe279-954d-4666-8cff-7b08fb607cec",
     "showTitle": false,
     "tableResultSettingsMap": {},
     "title": ""
    }
   },
   "source": [
    "Je supprime ces données du dataset"
   ]
  },
  {
   "cell_type": "code",
   "execution_count": 0,
   "metadata": {
    "application/vnd.databricks.v1+cell": {
     "cellMetadata": {
      "byteLimit": 2048000,
      "rowLimit": 10000
     },
     "inputWidgets": {},
     "nuid": "62e5d9c7-489f-471b-af3d-bd134597201f",
     "showTitle": false,
     "tableResultSettingsMap": {},
     "title": ""
    }
   },
   "outputs": [],
   "source": [
    "df_steam_flat = df_steam_flat.filter(F.col(\"required_age\") != \"180\")"
   ]
  },
  {
   "cell_type": "markdown",
   "metadata": {
    "application/vnd.databricks.v1+cell": {
     "cellMetadata": {},
     "inputWidgets": {},
     "nuid": "beed788f-64fb-404f-b245-209d82dfc962",
     "showTitle": false,
     "tableResultSettingsMap": {},
     "title": ""
    }
   },
   "source": [
    "Je visualise la distribution de l'âge"
   ]
  },
  {
   "cell_type": "code",
   "execution_count": 0,
   "metadata": {
    "application/vnd.databricks.v1+cell": {
     "cellMetadata": {
      "byteLimit": 2048000,
      "rowLimit": 10000
     },
     "inputWidgets": {},
     "nuid": "6d9e4352-b220-478b-a1e8-ac87c79d043d",
     "showTitle": false,
     "tableResultSettingsMap": {},
     "title": ""
    }
   },
   "outputs": [
    {
     "output_type": "display_data",
     "data": {
      "text/html": [
       "<style scoped>\n",
       "  .table-result-container {\n",
       "    max-height: 300px;\n",
       "    overflow: auto;\n",
       "  }\n",
       "  table, th, td {\n",
       "    border: 1px solid black;\n",
       "    border-collapse: collapse;\n",
       "  }\n",
       "  th, td {\n",
       "    padding: 5px;\n",
       "  }\n",
       "  th {\n",
       "    text-align: left;\n",
       "  }\n",
       "</style><div class='table-result-container'><table class='table-result'><thead style='background-color: white'><tr><th>required_age</th><th>nb_games</th></tr></thead><tbody><tr><td>0</td><td>55030</td></tr><tr><td>15</td><td>265</td></tr><tr><td>18</td><td>223</td></tr><tr><td>16</td><td>38</td></tr><tr><td>17</td><td>38</td></tr><tr><td>12</td><td>32</td></tr><tr><td>13</td><td>26</td></tr><tr><td>14</td><td>10</td></tr><tr><td>10</td><td>7</td></tr><tr><td>6</td><td>4</td></tr><tr><td>7</td><td>3</td></tr><tr><td>3</td><td>3</td></tr><tr><td>8</td><td>3</td></tr><tr><td>35</td><td>1</td></tr><tr><td>5</td><td>1</td></tr><tr><td>9</td><td>1</td></tr><tr><td>20</td><td>1</td></tr><tr><td>21</td><td>1</td></tr></tbody></table></div>"
      ]
     },
     "metadata": {
      "application/vnd.databricks.v1+output": {
       "addedWidgets": {},
       "aggData": [],
       "aggError": "",
       "aggOverflow": false,
       "aggSchema": [],
       "aggSeriesLimitReached": false,
       "aggType": "",
       "arguments": {},
       "columnCustomDisplayInfos": {},
       "data": [
        [
         "0",
         55030
        ],
        [
         "15",
         265
        ],
        [
         "18",
         223
        ],
        [
         "16",
         38
        ],
        [
         "17",
         38
        ],
        [
         "12",
         32
        ],
        [
         "13",
         26
        ],
        [
         "14",
         10
        ],
        [
         "10",
         7
        ],
        [
         "6",
         4
        ],
        [
         "7",
         3
        ],
        [
         "3",
         3
        ],
        [
         "8",
         3
        ],
        [
         "35",
         1
        ],
        [
         "5",
         1
        ],
        [
         "9",
         1
        ],
        [
         "20",
         1
        ],
        [
         "21",
         1
        ]
       ],
       "datasetInfos": [],
       "dbfsResultPath": null,
       "isJsonSchema": true,
       "metadata": {},
       "overflow": false,
       "plotOptions": {
        "customPlotOptions": {},
        "displayType": "table",
        "pivotAggregation": null,
        "pivotColumns": null,
        "xColumns": null,
        "yColumns": null
       },
       "removedWidgets": [],
       "schema": [
        {
         "metadata": "{}",
         "name": "required_age",
         "type": "\"string\""
        },
        {
         "metadata": "{}",
         "name": "nb_games",
         "type": "\"long\""
        }
       ],
       "type": "table"
      }
     },
     "output_type": "display_data"
    },
    {
     "output_type": "display_data",
     "data": {
      "text/plain": [
       "Databricks visualization. Run in Databricks to view."
      ]
     },
     "metadata": {
      "application/vnd.databricks.v1.subcommand+json": {
       "baseErrorDetails": null,
       "bindings": {},
       "collapsed": false,
       "command": "%python\n__backend_agg_display_orig = display\n__backend_agg_dfs = []\ndef __backend_agg_display_new(df):\n    __backend_agg_df_modules = [\"pandas.core.frame\", \"databricks.koalas.frame\", \"pyspark.sql.dataframe\", \"pyspark.pandas.frame\", \"pyspark.sql.connect.dataframe\"]\n    if (type(df).__module__ in __backend_agg_df_modules and type(df).__name__ == 'DataFrame') or isinstance(df, list):\n        __backend_agg_dfs.append(df)\n\ndisplay = __backend_agg_display_new\n\ndef __backend_agg_user_code_fn():\n    import base64\n    exec(base64.standard_b64decode(\"ZGlzcGxheShkZl9zdGVhbV9mbGF0Lmdyb3VwQnkoInJlcXVpcmVkX2FnZSIpLmFnZyhGLmNvdW50RGlzdGluY3QoImFwcGlkIikuYWxpYXMoIm5iX2dhbWVzIikpLm9yZGVyQnkoRi5kZXNjKCJuYl9nYW1lcyIpKSk=\").decode())\n\ntry:\n    # run user code\n    __backend_agg_user_code_fn()\n\n    #reset display function\n    display = __backend_agg_display_orig\n\n    if len(__backend_agg_dfs) > 0:\n        # create a temp view\n        if type(__backend_agg_dfs[0]).__module__ == \"databricks.koalas.frame\":\n            # koalas dataframe\n            __backend_agg_dfs[0].to_spark().createOrReplaceTempView(\"DatabricksView8c901bc\")\n        elif type(__backend_agg_dfs[0]).__module__ == \"pandas.core.frame\" or isinstance(__backend_agg_dfs[0], list):\n            # pandas dataframe\n            spark.createDataFrame(__backend_agg_dfs[0]).createOrReplaceTempView(\"DatabricksView8c901bc\")\n        else:\n            __backend_agg_dfs[0].createOrReplaceTempView(\"DatabricksView8c901bc\")\n        #run backend agg\n        display(spark.sql(\"\"\"WITH q AS (select * from DatabricksView8c901bc) SELECT `required_age`,`nb_games` FROM q\"\"\"))\n    else:\n        displayHTML(\"dataframe no longer exists. If you're using dataframe.display(), use display(dataframe) instead.\")\n\n\nfinally:\n    spark.sql(\"drop view if exists DatabricksView8c901bc\")\n    display = __backend_agg_display_orig\n    del __backend_agg_display_new\n    del __backend_agg_display_orig\n    del __backend_agg_dfs\n    del __backend_agg_user_code_fn\n\n",
       "commandTitle": "Distribution de l'âge minimum requis",
       "commandType": "auto",
       "commandVersion": 0,
       "commentThread": [],
       "commentsVisible": false,
       "contentSha256Hex": null,
       "customPlotOptions": {
        "redashChart": [
         {
          "key": "type",
          "value": "CHART"
         },
         {
          "key": "options",
          "value": {
           "alignYAxesAtZero": true,
           "coefficient": 1,
           "columnConfigurationMap": {
            "x": {
             "column": "required_age",
             "id": "column_51e3f657455"
            },
            "y": [
             {
              "column": "nb_games",
              "id": "column_51e3f657456"
             }
            ]
           },
           "dateTimeFormat": "DD/MM/YYYY HH:mm",
           "direction": {
            "type": "counterclockwise"
           },
           "error_y": {
            "type": "data",
            "visible": true
           },
           "globalSeriesType": "column",
           "isAggregationOn": false,
           "legend": {
            "traceorder": "normal"
           },
           "missingValuesAsZero": false,
           "numberFormat": "0,0.[00000]",
           "percentFormat": "0[.]00%",
           "series": {
            "error_y": {
             "type": "data",
             "visible": true
            },
            "stacking": null
           },
           "seriesOptions": {
            "nb_games": {
             "color": "#50F5ED",
             "name": "nb_games",
             "type": "column",
             "yAxis": 0
            }
           },
           "showDataLabels": false,
           "sizemode": "diameter",
           "sortX": true,
           "sortY": true,
           "swappedAxes": false,
           "textFormat": "",
           "useAggregationsUi": true,
           "valuesOptions": {},
           "version": 2,
           "xAxis": {
            "labels": {
             "enabled": true
            },
            "title": {
             "text": "Age minimum"
            },
            "type": "-"
           },
           "yAxis": [
            {
             "title": {
              "text": "Nombre de jeux"
             },
             "type": "linear"
            },
            {
             "opposite": true,
             "type": "-"
            }
           ]
          }
         }
        ]
       },
       "datasetPreviewNameToCmdIdMap": {},
       "diffDeletes": [],
       "diffInserts": [],
       "displayType": "redashChart",
       "error": null,
       "errorDetails": null,
       "errorSummary": null,
       "errorTraceType": null,
       "finishTime": 0,
       "globalVars": {},
       "guid": "",
       "height": "auto",
       "hideCommandCode": false,
       "hideCommandResult": false,
       "iPythonMetadata": null,
       "inputWidgets": {},
       "isLockedInExamMode": false,
       "latestUser": "a user",
       "latestUserId": null,
       "listResultMetadata": null,
       "metadata": {},
       "nuid": "7b710d09-8bae-4a24-a38b-44b02031ba50",
       "origId": 0,
       "parentHierarchy": [],
       "pivotAggregation": null,
       "pivotColumns": null,
       "position": 11.844080924987793,
       "resultDbfsErrorMessage": null,
       "resultDbfsStatus": "INLINED_IN_TREE",
       "results": null,
       "showCommandTitle": false,
       "startTime": 0,
       "state": "input",
       "streamStates": {},
       "subcommandOptions": {
        "queryPlan": {
         "selects": [
          {
           "column": "required_age",
           "type": "column"
          },
          {
           "column": "nb_games",
           "type": "column"
          }
         ]
        }
       },
       "submitTime": 0,
       "subtype": "tableResultSubCmd.visualization",
       "tableResultIndex": 0,
       "tableResultSettingsMap": {},
       "useConsistentColors": false,
       "version": "CommandV1",
       "width": "auto",
       "workflows": [],
       "xColumns": null,
       "yColumns": null
      }
     },
     "output_type": "display_data"
    }
   ],
   "source": [
    "display(df_steam_flat.groupBy(\"required_age\").agg(F.countDistinct(\"appid\").alias(\"nb_games\")).orderBy(F.desc(\"nb_games\")))"
   ]
  },
  {
   "cell_type": "markdown",
   "metadata": {
    "application/vnd.databricks.v1+cell": {
     "cellMetadata": {},
     "inputWidgets": {},
     "nuid": "bf5b7136-b387-4d75-94d4-e5ff13d7e852",
     "showTitle": false,
     "tableResultSettingsMap": {},
     "title": ""
    }
   },
   "source": [
    "La plupart des jeux sont accessibles à tous"
   ]
  },
  {
   "cell_type": "code",
   "execution_count": 0,
   "metadata": {
    "application/vnd.databricks.v1+cell": {
     "cellMetadata": {
      "byteLimit": 2048000,
      "rowLimit": 10000
     },
     "inputWidgets": {},
     "nuid": "b361230e-fcfe-45af-9be5-633c38dfdc1e",
     "showTitle": false,
     "tableResultSettingsMap": {},
     "title": ""
    }
   },
   "outputs": [
    {
     "output_type": "stream",
     "name": "stdout",
     "output_type": "stream",
     "text": [
      "Out[49]: 55687"
     ]
    }
   ],
   "source": [
    "df_steam_flat.count()"
   ]
  },
  {
   "cell_type": "markdown",
   "metadata": {
    "application/vnd.databricks.v1+cell": {
     "cellMetadata": {},
     "inputWidgets": {},
     "nuid": "4856eac5-5a04-4f42-9223-0c7f0d956bd4",
     "showTitle": false,
     "tableResultSettingsMap": {},
     "title": ""
    }
   },
   "source": [
    "---"
   ]
  },
  {
   "cell_type": "markdown",
   "metadata": {
    "application/vnd.databricks.v1+cell": {
     "cellMetadata": {
      "byteLimit": 2048000,
      "rowLimit": 10000
     },
     "inputWidgets": {},
     "nuid": "a38d6fb1-2cbf-4629-a67f-3c0d5d9bb2e8",
     "showTitle": false,
     "tableResultSettingsMap": {},
     "title": ""
    }
   },
   "source": [
    "`game`"
   ]
  },
  {
   "cell_type": "code",
   "execution_count": 0,
   "metadata": {
    "application/vnd.databricks.v1+cell": {
     "cellMetadata": {
      "byteLimit": 2048000,
      "rowLimit": 10000
     },
     "inputWidgets": {},
     "nuid": "7d497cc4-b713-44e7-97d7-13498e9b0f15",
     "showTitle": false,
     "tableResultSettingsMap": {},
     "title": ""
    }
   },
   "outputs": [
    {
     "output_type": "stream",
     "name": "stdout",
     "output_type": "stream",
     "text": [
      "Out[50]: 2"
     ]
    }
   ],
   "source": [
    "df_steam_flat.select(F.col(\"type\")).distinct().count()"
   ]
  },
  {
   "cell_type": "code",
   "execution_count": 0,
   "metadata": {
    "application/vnd.databricks.v1+cell": {
     "cellMetadata": {
      "byteLimit": 2048000,
      "rowLimit": 10000
     },
     "inputWidgets": {},
     "nuid": "c6d9a088-cdf6-42b7-8718-c1e0867a43b8",
     "showTitle": false,
     "tableResultSettingsMap": {},
     "title": ""
    }
   },
   "outputs": [
    {
     "output_type": "stream",
     "name": "stdout",
     "output_type": "stream",
     "text": [
      "Out[51]: [Row(type='game'), Row(type='hardware')]"
     ]
    }
   ],
   "source": [
    "df_steam_flat.select(F.col(\"type\")).distinct().collect()"
   ]
  },
  {
   "cell_type": "code",
   "execution_count": 0,
   "metadata": {
    "application/vnd.databricks.v1+cell": {
     "cellMetadata": {
      "byteLimit": 2048000,
      "rowLimit": 10000
     },
     "inputWidgets": {},
     "nuid": "842a6ee2-5d30-49a5-909e-1fc21bb431d4",
     "showTitle": false,
     "tableResultSettingsMap": {},
     "title": ""
    }
   },
   "outputs": [
    {
     "output_type": "stream",
     "name": "stdout",
     "output_type": "stream",
     "text": [
      "+--------+-----+\n|    type|count|\n+--------+-----+\n|    game|55686|\n|hardware|    1|\n+--------+-----+\n\n"
     ]
    }
   ],
   "source": [
    "df_steam_flat.groupBy(\"type\").count().show()"
   ]
  },
  {
   "cell_type": "markdown",
   "metadata": {
    "application/vnd.databricks.v1+cell": {
     "cellMetadata": {},
     "inputWidgets": {},
     "nuid": "6032cece-ed1d-4202-8733-252e915ee24f",
     "showTitle": false,
     "tableResultSettingsMap": {},
     "title": ""
    }
   },
   "source": [
    "Je trouve un seul jeu qui ne soit pas de type \"game\", je le supprime."
   ]
  },
  {
   "cell_type": "code",
   "execution_count": 0,
   "metadata": {
    "application/vnd.databricks.v1+cell": {
     "cellMetadata": {
      "byteLimit": 2048000,
      "rowLimit": 10000
     },
     "inputWidgets": {},
     "nuid": "3c2e4ea1-8d5b-411f-b4b4-69fd9a301dff",
     "showTitle": false,
     "tableResultSettingsMap": {},
     "title": ""
    }
   },
   "outputs": [
    {
     "output_type": "display_data",
     "data": {
      "text/html": [
       "<style scoped>\n",
       "  .table-result-container {\n",
       "    max-height: 300px;\n",
       "    overflow: auto;\n",
       "  }\n",
       "  table, th, td {\n",
       "    border: 1px solid black;\n",
       "    border-collapse: collapse;\n",
       "  }\n",
       "  th, td {\n",
       "    padding: 5px;\n",
       "  }\n",
       "  th {\n",
       "    text-align: left;\n",
       "  }\n",
       "</style><div class='table-result-container'><table class='table-result'><thead style='background-color: white'><tr><th>appid</th><th>categories</th><th>ccu</th><th>developer</th><th>discount</th><th>genre</th><th>header_image</th><th>initialprice</th><th>languages</th><th>name</th><th>negative</th><th>owners</th><th>platforms</th><th>positive</th><th>price</th><th>publisher</th><th>release_date</th><th>required_age</th><th>short_description</th><th>tags</th><th>type</th><th>website</th></tr></thead><tbody><tr><td>353380</td><td>List(Full controller support, Remote Play Together)</td><td>0</td><td></td><td>0</td><td></td><td>https://cdn.akamai.steamstatic.com/steam/apps/353380/header.jpg?t=1617990330</td><td>0</td><td></td><td>Steam Link</td><td>1771</td><td>500,000 .. 1,000,000</td><td>List(true, true, true)</td><td>5803</td><td>0</td><td>Anima Locus</td><td>2015/11/10</td><td>0</td><td>Extend your Steam gaming experience to your mobile device, TV, or another PC - all you need is a local network or internet connection. In addition, the Steam Link app now supports Remote Play Together. Now you can join games hosted on a friend’s PC just by clicking a link.</td><td>List(null, null, null, null, null, null, null, null, null, null, null, null, null, null, null, null, null, null, null, null, null, null, null, null, null, null, null, null, null, null, null, null, null, null, null, null, null, null, null, null, null, null, null, null, null, null, null, null, null, null, null, null, null, null, null, null, null, null, null, null, null, null, null, null, null, null, null, null, null, null, null, null, null, null, null, null, null, null, null, null, null, null, null, null, null, null, null, null, 10, null, 8, null, null, null, null, null, null, null, null, null, null, null, null, null, null, null, null, null, null, null, null, null, null, null, null, null, null, null, null, null, null, null, null, null, null, null, null, null, null, null, null, null, null, 5, null, null, null, null, null, null, null, null, null, null, null, null, null, null, null, null, null, null, null, null, null, null, null, null, null, null, null, null, null, null, null, null, null, null, 11, null, null, null, null, null, null, null, 6, null, null, null, null, null, null, null, null, null, null, null, null, null, null, null, null, null, null, null, null, null, null, null, null, null, null, null, null, null, null, null, 15, null, null, null, null, null, null, null, null, null, null, null, null, null, null, null, null, null, null, null, null, null, null, null, null, null, null, null, null, null, null, null, null, null, null, null, null, null, null, null, null, null, null, null, null, null, null, null, null, null, null, null, null, null, null, null, null, null, null, null, null, null, null, null, null, null, null, null, null, null, null, null, null, null, null, null, null, null, null, 6, null, null, null, null, null, null, null, null, null, 10, null, 16, null, null, null, null, null, null, null, null, null, null, null, null, null, null, null, null, null, null, null, null, null, null, null, null, null, null, null, null, null, null, null, null, null, 23, null, null, null, null, null, null, null, null, null, null, null, null, null, null, null, 39, null, null, null, null, null, null, null, null, null, null, null, null, null, 440, null, null, null, null, null, null, null, null, null, 11, 17, null, null, null, null, null, null, null, null, null, null, null, null, null, null, null, null, null, null, null, null, null, null, null, null, null, null, null, null, null, null, null, null, null, null, null, null, null, null, null, null, null, null, null, null, null, null, null, null, null, null, null, null, null, null, null, null, null, null, null, null, null, null, null, null, null, null)</td><td>hardware</td><td>https://store.steampowered.com/remoteplay</td></tr></tbody></table></div>"
      ]
     },
     "metadata": {
      "application/vnd.databricks.v1+output": {
       "addedWidgets": {},
       "aggData": [],
       "aggError": "",
       "aggOverflow": false,
       "aggSchema": [],
       "aggSeriesLimitReached": false,
       "aggType": "",
       "arguments": {},
       "columnCustomDisplayInfos": {},
       "data": [
        [
         353380,
         [
          "Full controller support",
          "Remote Play Together"
         ],
         0,
         "",
         "0",
         "",
         "https://cdn.akamai.steamstatic.com/steam/apps/353380/header.jpg?t=1617990330",
         "0",
         "",
         "Steam Link",
         1771,
         "500,000 .. 1,000,000",
         [
          true,
          true,
          true
         ],
         5803,
         "0",
         "Anima Locus",
         "2015/11/10",
         "0",
         "Extend your Steam gaming experience to your mobile device, TV, or another PC - all you need is a local network or internet connection. In addition, the Steam Link app now supports Remote Play Together. Now you can join games hosted on a friend’s PC just by clicking a link.",
         [
          null,
          null,
          null,
          null,
          null,
          null,
          null,
          null,
          null,
          null,
          null,
          null,
          null,
          null,
          null,
          null,
          null,
          null,
          null,
          null,
          null,
          null,
          null,
          null,
          null,
          null,
          null,
          null,
          null,
          null,
          null,
          null,
          null,
          null,
          null,
          null,
          null,
          null,
          null,
          null,
          null,
          null,
          null,
          null,
          null,
          null,
          null,
          null,
          null,
          null,
          null,
          null,
          null,
          null,
          null,
          null,
          null,
          null,
          null,
          null,
          null,
          null,
          null,
          null,
          null,
          null,
          null,
          null,
          null,
          null,
          null,
          null,
          null,
          null,
          null,
          null,
          null,
          null,
          null,
          null,
          null,
          null,
          null,
          null,
          null,
          null,
          null,
          null,
          10,
          null,
          8,
          null,
          null,
          null,
          null,
          null,
          null,
          null,
          null,
          null,
          null,
          null,
          null,
          null,
          null,
          null,
          null,
          null,
          null,
          null,
          null,
          null,
          null,
          null,
          null,
          null,
          null,
          null,
          null,
          null,
          null,
          null,
          null,
          null,
          null,
          null,
          null,
          null,
          null,
          null,
          null,
          null,
          null,
          5,
          null,
          null,
          null,
          null,
          null,
          null,
          null,
          null,
          null,
          null,
          null,
          null,
          null,
          null,
          null,
          null,
          null,
          null,
          null,
          null,
          null,
          null,
          null,
          null,
          null,
          null,
          null,
          null,
          null,
          null,
          null,
          null,
          null,
          null,
          11,
          null,
          null,
          null,
          null,
          null,
          null,
          null,
          6,
          null,
          null,
          null,
          null,
          null,
          null,
          null,
          null,
          null,
          null,
          null,
          null,
          null,
          null,
          null,
          null,
          null,
          null,
          null,
          null,
          null,
          null,
          null,
          null,
          null,
          null,
          null,
          null,
          null,
          null,
          null,
          15,
          null,
          null,
          null,
          null,
          null,
          null,
          null,
          null,
          null,
          null,
          null,
          null,
          null,
          null,
          null,
          null,
          null,
          null,
          null,
          null,
          null,
          null,
          null,
          null,
          null,
          null,
          null,
          null,
          null,
          null,
          null,
          null,
          null,
          null,
          null,
          null,
          null,
          null,
          null,
          null,
          null,
          null,
          null,
          null,
          null,
          null,
          null,
          null,
          null,
          null,
          null,
          null,
          null,
          null,
          null,
          null,
          null,
          null,
          null,
          null,
          null,
          null,
          null,
          null,
          null,
          null,
          null,
          null,
          null,
          null,
          null,
          null,
          null,
          null,
          null,
          null,
          null,
          null,
          6,
          null,
          null,
          null,
          null,
          null,
          null,
          null,
          null,
          null,
          10,
          null,
          16,
          null,
          null,
          null,
          null,
          null,
          null,
          null,
          null,
          null,
          null,
          null,
          null,
          null,
          null,
          null,
          null,
          null,
          null,
          null,
          null,
          null,
          null,
          null,
          null,
          null,
          null,
          null,
          null,
          null,
          null,
          null,
          null,
          null,
          23,
          null,
          null,
          null,
          null,
          null,
          null,
          null,
          null,
          null,
          null,
          null,
          null,
          null,
          null,
          null,
          39,
          null,
          null,
          null,
          null,
          null,
          null,
          null,
          null,
          null,
          null,
          null,
          null,
          null,
          440,
          null,
          null,
          null,
          null,
          null,
          null,
          null,
          null,
          null,
          11,
          17,
          null,
          null,
          null,
          null,
          null,
          null,
          null,
          null,
          null,
          null,
          null,
          null,
          null,
          null,
          null,
          null,
          null,
          null,
          null,
          null,
          null,
          null,
          null,
          null,
          null,
          null,
          null,
          null,
          null,
          null,
          null,
          null,
          null,
          null,
          null,
          null,
          null,
          null,
          null,
          null,
          null,
          null,
          null,
          null,
          null,
          null,
          null,
          null,
          null,
          null,
          null,
          null,
          null,
          null,
          null,
          null,
          null,
          null,
          null,
          null,
          null,
          null,
          null,
          null,
          null,
          null
         ],
         "hardware",
         "https://store.steampowered.com/remoteplay"
        ]
       ],
       "datasetInfos": [],
       "dbfsResultPath": null,
       "isJsonSchema": true,
       "metadata": {},
       "overflow": false,
       "plotOptions": {
        "customPlotOptions": {},
        "displayType": "table",
        "pivotAggregation": null,
        "pivotColumns": null,
        "xColumns": null,
        "yColumns": null
       },
       "removedWidgets": [],
       "schema": [
        {
         "metadata": "{}",
         "name": "appid",
         "type": "\"long\""
        },
        {
         "metadata": "{}",
         "name": "categories",
         "type": "{\"type\":\"array\",\"elementType\":\"string\",\"containsNull\":true}"
        },
        {
         "metadata": "{}",
         "name": "ccu",
         "type": "\"long\""
        },
        {
         "metadata": "{}",
         "name": "developer",
         "type": "\"string\""
        },
        {
         "metadata": "{}",
         "name": "discount",
         "type": "\"string\""
        },
        {
         "metadata": "{}",
         "name": "genre",
         "type": "\"string\""
        },
        {
         "metadata": "{}",
         "name": "header_image",
         "type": "\"string\""
        },
        {
         "metadata": "{}",
         "name": "initialprice",
         "type": "\"string\""
        },
        {
         "metadata": "{}",
         "name": "languages",
         "type": "\"string\""
        },
        {
         "metadata": "{}",
         "name": "name",
         "type": "\"string\""
        },
        {
         "metadata": "{}",
         "name": "negative",
         "type": "\"long\""
        },
        {
         "metadata": "{}",
         "name": "owners",
         "type": "\"string\""
        },
        {
         "metadata": "{}",
         "name": "platforms",
         "type": "{\"type\":\"struct\",\"fields\":[{\"name\":\"linux\",\"type\":\"boolean\",\"nullable\":true,\"metadata\":{}},{\"name\":\"mac\",\"type\":\"boolean\",\"nullable\":true,\"metadata\":{}},{\"name\":\"windows\",\"type\":\"boolean\",\"nullable\":true,\"metadata\":{}}]}"
        },
        {
         "metadata": "{}",
         "name": "positive",
         "type": "\"long\""
        },
        {
         "metadata": "{}",
         "name": "price",
         "type": "\"string\""
        },
        {
         "metadata": "{}",
         "name": "publisher",
         "type": "\"string\""
        },
        {
         "metadata": "{}",
         "name": "release_date",
         "type": "\"string\""
        },
        {
         "metadata": "{}",
         "name": "required_age",
         "type": "\"string\""
        },
        {
         "metadata": "{}",
         "name": "short_description",
         "type": "\"string\""
        },
        {
         "metadata": "{}",
         "name": "tags",
         "type": "{\"type\":\"struct\",\"fields\":[{\"name\":\"1980s\",\"type\":\"long\",\"nullable\":true,\"metadata\":{}},{\"name\":\"1990's\",\"type\":\"long\",\"nullable\":true,\"metadata\":{}},{\"name\":\"2.5D\",\"type\":\"long\",\"nullable\":true,\"metadata\":{}},{\"name\":\"2D\",\"type\":\"long\",\"nullable\":true,\"metadata\":{}},{\"name\":\"2D Fighter\",\"type\":\"long\",\"nullable\":true,\"metadata\":{}},{\"name\":\"2D Platformer\",\"type\":\"long\",\"nullable\":true,\"metadata\":{}},{\"name\":\"360 Video\",\"type\":\"long\",\"nullable\":true,\"metadata\":{}},{\"name\":\"3D\",\"type\":\"long\",\"nullable\":true,\"metadata\":{}},{\"name\":\"3D Fighter\",\"type\":\"long\",\"nullable\":true,\"metadata\":{}},{\"name\":\"3D Platformer\",\"type\":\"long\",\"nullable\":true,\"metadata\":{}},{\"name\":\"3D Vision\",\"type\":\"long\",\"nullable\":true,\"metadata\":{}},{\"name\":\"4 Player Local\",\"type\":\"long\",\"nullable\":true,\"metadata\":{}},{\"name\":\"4X\",\"type\":\"long\",\"nullable\":true,\"metadata\":{}},{\"name\":\"6DOF\",\"type\":\"long\",\"nullable\":true,\"metadata\":{}},{\"name\":\"8-bit Music\",\"type\":\"long\",\"nullable\":true,\"metadata\":{}},{\"name\":\"ATV\",\"type\":\"long\",\"nullable\":true,\"metadata\":{}},{\"name\":\"Abstract\",\"type\":\"long\",\"nullable\":true,\"metadata\":{}},{\"name\":\"Action\",\"type\":\"long\",\"nullable\":true,\"metadata\":{}},{\"name\":\"Action RPG\",\"type\":\"long\",\"nullable\":true,\"metadata\":{}},{\"name\":\"Action RTS\",\"type\":\"long\",\"nullable\":true,\"metadata\":{}},{\"name\":\"Action Roguelike\",\"type\":\"long\",\"nullable\":true,\"metadata\":{}},{\"name\":\"Action-Adventure\",\"type\":\"long\",\"nullable\":true,\"metadata\":{}},{\"name\":\"Addictive\",\"type\":\"long\",\"nullable\":true,\"metadata\":{}},{\"name\":\"Adventure\",\"type\":\"long\",\"nullable\":true,\"metadata\":{}},{\"name\":\"Agriculture\",\"type\":\"long\",\"nullable\":true,\"metadata\":{}},{\"name\":\"Aliens\",\"type\":\"long\",\"nullable\":true,\"metadata\":{}},{\"name\":\"Alternate History\",\"type\":\"long\",\"nullable\":true,\"metadata\":{}},{\"name\":\"Ambient\",\"type\":\"long\",\"nullable\":true,\"metadata\":{}},{\"name\":\"America\",\"type\":\"long\",\"nullable\":true,\"metadata\":{}},{\"name\":\"Animation & Modeling\",\"type\":\"long\",\"nullable\":true,\"metadata\":{}},{\"name\":\"Anime\",\"type\":\"long\",\"nullable\":true,\"metadata\":{}},{\"name\":\"Arcade\",\"type\":\"long\",\"nullable\":true,\"metadata\":{}},{\"name\":\"Archery\",\"type\":\"long\",\"nullable\":true,\"metadata\":{}},{\"name\":\"Arena Shooter\",\"type\":\"long\",\"nullable\":true,\"metadata\":{}},{\"name\":\"Artificial Intelligence\",\"type\":\"long\",\"nullable\":true,\"metadata\":{}},{\"name\":\"Assassin\",\"type\":\"long\",\"nullable\":true,\"metadata\":{}},{\"name\":\"Asymmetric VR\",\"type\":\"long\",\"nullable\":true,\"metadata\":{}},{\"name\":\"Asynchronous Multiplayer\",\"type\":\"long\",\"nullable\":true,\"metadata\":{}},{\"name\":\"Atmospheric\",\"type\":\"long\",\"nullable\":true,\"metadata\":{}},{\"name\":\"Audio Production\",\"type\":\"long\",\"nullable\":true,\"metadata\":{}},{\"name\":\"Auto Battler\",\"type\":\"long\",\"nullable\":true,\"metadata\":{}},{\"name\":\"Automation\",\"type\":\"long\",\"nullable\":true,\"metadata\":{}},{\"name\":\"Automobile Sim\",\"type\":\"long\",\"nullable\":true,\"metadata\":{}},{\"name\":\"BMX\",\"type\":\"long\",\"nullable\":true,\"metadata\":{}},{\"name\":\"Base-Building\",\"type\":\"long\",\"nullable\":true,\"metadata\":{}},{\"name\":\"Baseball\",\"type\":\"long\",\"nullable\":true,\"metadata\":{}},{\"name\":\"Based On A Novel\",\"type\":\"long\",\"nullable\":true,\"metadata\":{}},{\"name\":\"Basketball\",\"type\":\"long\",\"nullable\":true,\"metadata\":{}},{\"name\":\"Battle Royale\",\"type\":\"long\",\"nullable\":true,\"metadata\":{}},{\"name\":\"Beat 'em up\",\"type\":\"long\",\"nullable\":true,\"metadata\":{}},{\"name\":\"Beautiful\",\"type\":\"long\",\"nullable\":true,\"metadata\":{}},{\"name\":\"Benchmark\",\"type\":\"long\",\"nullable\":true,\"metadata\":{}},{\"name\":\"Bikes\",\"type\":\"long\",\"nullable\":true,\"metadata\":{}},{\"name\":\"Blood\",\"type\":\"long\",\"nullable\":true,\"metadata\":{}},{\"name\":\"Board Game\",\"type\":\"long\",\"nullable\":true,\"metadata\":{}},{\"name\":\"Boss Rush\",\"type\":\"long\",\"nullable\":true,\"metadata\":{}},{\"name\":\"Bowling\",\"type\":\"long\",\"nullable\":true,\"metadata\":{}},{\"name\":\"Boxing\",\"type\":\"long\",\"nullable\":true,\"metadata\":{}},{\"name\":\"Building\",\"type\":\"long\",\"nullable\":true,\"metadata\":{}},{\"name\":\"Bullet Hell\",\"type\":\"long\",\"nullable\":true,\"metadata\":{}},{\"name\":\"Bullet Time\",\"type\":\"long\",\"nullable\":true,\"metadata\":{}},{\"name\":\"CRPG\",\"type\":\"long\",\"nullable\":true,\"metadata\":{}},{\"name\":\"Capitalism\",\"type\":\"long\",\"nullable\":true,\"metadata\":{}},{\"name\":\"Card Battler\",\"type\":\"long\",\"nullable\":true,\"metadata\":{}},{\"name\":\"Card Game\",\"type\":\"long\",\"nullable\":true,\"metadata\":{}},{\"name\":\"Cartoon\",\"type\":\"long\",\"nullable\":true,\"metadata\":{}},{\"name\":\"Cartoony\",\"type\":\"long\",\"nullable\":true,\"metadata\":{}},{\"name\":\"Casual\",\"type\":\"long\",\"nullable\":true,\"metadata\":{}},{\"name\":\"Cats\",\"type\":\"long\",\"nullable\":true,\"metadata\":{}},{\"name\":\"Character Action Game\",\"type\":\"long\",\"nullable\":true,\"metadata\":{}},{\"name\":\"Character Customization\",\"type\":\"long\",\"nullable\":true,\"metadata\":{}},{\"name\":\"Chess\",\"type\":\"long\",\"nullable\":true,\"metadata\":{}},{\"name\":\"Choices Matter\",\"type\":\"long\",\"nullable\":true,\"metadata\":{}},{\"name\":\"Choose Your Own Adventure\",\"type\":\"long\",\"nullable\":true,\"metadata\":{}},{\"name\":\"Cinematic\",\"type\":\"long\",\"nullable\":true,\"metadata\":{}},{\"name\":\"City Builder\",\"type\":\"long\",\"nullable\":true,\"metadata\":{}},{\"name\":\"Class-Based\",\"type\":\"long\",\"nullable\":true,\"metadata\":{}},{\"name\":\"Classic\",\"type\":\"long\",\"nullable\":true,\"metadata\":{}},{\"name\":\"Clicker\",\"type\":\"long\",\"nullable\":true,\"metadata\":{}},{\"name\":\"Co-op\",\"type\":\"long\",\"nullable\":true,\"metadata\":{}},{\"name\":\"Co-op Campaign\",\"type\":\"long\",\"nullable\":true,\"metadata\":{}},{\"name\":\"Coding\",\"type\":\"long\",\"nullable\":true,\"metadata\":{}},{\"name\":\"Cold War\",\"type\":\"long\",\"nullable\":true,\"metadata\":{}},{\"name\":\"Collectathon\",\"type\":\"long\",\"nullable\":true,\"metadata\":{}},{\"name\":\"Colony Sim\",\"type\":\"long\",\"nullable\":true,\"metadata\":{}},{\"name\":\"Colorful\",\"type\":\"long\",\"nullable\":true,\"metadata\":{}},{\"name\":\"Combat\",\"type\":\"long\",\"nullable\":true,\"metadata\":{}},{\"name\":\"Combat Racing\",\"type\":\"long\",\"nullable\":true,\"metadata\":{}},{\"name\":\"Comedy\",\"type\":\"long\",\"nullable\":true,\"metadata\":{}},{\"name\":\"Comic Book\",\"type\":\"long\",\"nullable\":true,\"metadata\":{}},{\"name\":\"Competitive\",\"type\":\"long\",\"nullable\":true,\"metadata\":{}},{\"name\":\"Conspiracy\",\"type\":\"long\",\"nullable\":true,\"metadata\":{}},{\"name\":\"Controller\",\"type\":\"long\",\"nullable\":true,\"metadata\":{}},{\"name\":\"Conversation\",\"type\":\"long\",\"nullable\":true,\"metadata\":{}},{\"name\":\"Cooking\",\"type\":\"long\",\"nullable\":true,\"metadata\":{}},{\"name\":\"Cozy\",\"type\":\"long\",\"nullable\":true,\"metadata\":{}},{\"name\":\"Crafting\",\"type\":\"long\",\"nullable\":true,\"metadata\":{}},{\"name\":\"Creature Collector\",\"type\":\"long\",\"nullable\":true,\"metadata\":{}},{\"name\":\"Cricket\",\"type\":\"long\",\"nullable\":true,\"metadata\":{}},{\"name\":\"Crime\",\"type\":\"long\",\"nullable\":true,\"metadata\":{}},{\"name\":\"Crowdfunded\",\"type\":\"long\",\"nullable\":true,\"metadata\":{}},{\"name\":\"Cult Classic\",\"type\":\"long\",\"nullable\":true,\"metadata\":{}},{\"name\":\"Cute\",\"type\":\"long\",\"nullable\":true,\"metadata\":{}},{\"name\":\"Cyberpunk\",\"type\":\"long\",\"nullable\":true,\"metadata\":{}},{\"name\":\"Cycling\",\"type\":\"long\",\"nullable\":true,\"metadata\":{}},{\"name\":\"Dark\",\"type\":\"long\",\"nullable\":true,\"metadata\":{}},{\"name\":\"Dark Comedy\",\"type\":\"long\",\"nullable\":true,\"metadata\":{}},{\"name\":\"Dark Fantasy\",\"type\":\"long\",\"nullable\":true,\"metadata\":{}},{\"name\":\"Dark Humor\",\"type\":\"long\",\"nullable\":true,\"metadata\":{}},{\"name\":\"Dating Sim\",\"type\":\"long\",\"nullable\":true,\"metadata\":{}},{\"name\":\"Deckbuilding\",\"type\":\"long\",\"nullable\":true,\"metadata\":{}},{\"name\":\"Demons\",\"type\":\"long\",\"nullable\":true,\"metadata\":{}},{\"name\":\"Design & Illustration\",\"type\":\"long\",\"nullable\":true,\"metadata\":{}},{\"name\":\"Destruction\",\"type\":\"long\",\"nullable\":true,\"metadata\":{}},{\"name\":\"Detective\",\"type\":\"long\",\"nullable\":true,\"metadata\":{}},{\"name\":\"Difficult\",\"type\":\"long\",\"nullable\":true,\"metadata\":{}},{\"name\":\"Dinosaurs\",\"type\":\"long\",\"nullable\":true,\"metadata\":{}},{\"name\":\"Diplomacy\",\"type\":\"long\",\"nullable\":true,\"metadata\":{}},{\"name\":\"Documentary\",\"type\":\"long\",\"nullable\":true,\"metadata\":{}},{\"name\":\"Dog\",\"type\":\"long\",\"nullable\":true,\"metadata\":{}},{\"name\":\"Dragons\",\"type\":\"long\",\"nullable\":true,\"metadata\":{}},{\"name\":\"Drama\",\"type\":\"long\",\"nullable\":true,\"metadata\":{}},{\"name\":\"Driving\",\"type\":\"long\",\"nullable\":true,\"metadata\":{}},{\"name\":\"Dungeon Crawler\",\"type\":\"long\",\"nullable\":true,\"metadata\":{}},{\"name\":\"Dungeons & Dragons\",\"type\":\"long\",\"nullable\":true,\"metadata\":{}},{\"name\":\"Dynamic Narration\",\"type\":\"long\",\"nullable\":true,\"metadata\":{}},{\"name\":\"Dystopian \",\"type\":\"long\",\"nullable\":true,\"metadata\":{}},{\"name\":\"Early Access\",\"type\":\"long\",\"nullable\":true,\"metadata\":{}},{\"name\":\"Economy\",\"type\":\"long\",\"nullable\":true,\"metadata\":{}},{\"name\":\"Education\",\"type\":\"long\",\"nullable\":true,\"metadata\":{}},{\"name\":\"Electronic\",\"type\":\"long\",\"nullable\":true,\"metadata\":{}},{\"name\":\"Electronic Music\",\"type\":\"long\",\"nullable\":true,\"metadata\":{}},{\"name\":\"Emotional\",\"type\":\"long\",\"nullable\":true,\"metadata\":{}},{\"name\":\"Epic\",\"type\":\"long\",\"nullable\":true,\"metadata\":{}},{\"name\":\"Episodic\",\"type\":\"long\",\"nullable\":true,\"metadata\":{}},{\"name\":\"Escape Room\",\"type\":\"long\",\"nullable\":true,\"metadata\":{}},{\"name\":\"Experience\",\"type\":\"long\",\"nullable\":true,\"metadata\":{}},{\"name\":\"Experimental\",\"type\":\"long\",\"nullable\":true,\"metadata\":{}},{\"name\":\"Exploration\",\"type\":\"long\",\"nullable\":true,\"metadata\":{}},{\"name\":\"FMV\",\"type\":\"long\",\"nullable\":true,\"metadata\":{}},{\"name\":\"FPS\",\"type\":\"long\",\"nullable\":true,\"metadata\":{}},{\"name\":\"Faith\",\"type\":\"long\",\"nullable\":true,\"metadata\":{}},{\"name\":\"Family Friendly\",\"type\":\"long\",\"nullable\":true,\"metadata\":{}},{\"name\":\"Fantasy\",\"type\":\"long\",\"nullable\":true,\"metadata\":{}},{\"name\":\"Farming\",\"type\":\"long\",\"nullable\":true,\"metadata\":{}},{\"name\":\"Farming Sim\",\"type\":\"long\",\"nullable\":true,\"metadata\":{}},{\"name\":\"Fast-Paced\",\"type\":\"long\",\"nullable\":true,\"metadata\":{}},{\"name\":\"Feature Film\",\"type\":\"long\",\"nullable\":true,\"metadata\":{}},{\"name\":\"Female Protagonist\",\"type\":\"long\",\"nullable\":true,\"metadata\":{}},{\"name\":\"Fighting\",\"type\":\"long\",\"nullable\":true,\"metadata\":{}},{\"name\":\"First-Person\",\"type\":\"long\",\"nullable\":true,\"metadata\":{}},{\"name\":\"Fishing\",\"type\":\"long\",\"nullable\":true,\"metadata\":{}},{\"name\":\"Flight\",\"type\":\"long\",\"nullable\":true,\"metadata\":{}},{\"name\":\"Football\",\"type\":\"long\",\"nullable\":true,\"metadata\":{}},{\"name\":\"Foreign\",\"type\":\"long\",\"nullable\":true,\"metadata\":{}},{\"name\":\"Free to Play\",\"type\":\"long\",\"nullable\":true,\"metadata\":{}},{\"name\":\"Funny\",\"type\":\"long\",\"nullable\":true,\"metadata\":{}},{\"name\":\"Futuristic\",\"type\":\"long\",\"nullable\":true,\"metadata\":{}},{\"name\":\"Gambling\",\"type\":\"long\",\"nullable\":true,\"metadata\":{}},{\"name\":\"Game Development\",\"type\":\"long\",\"nullable\":true,\"metadata\":{}},{\"name\":\"GameMaker\",\"type\":\"long\",\"nullable\":true,\"metadata\":{}},{\"name\":\"Games Workshop\",\"type\":\"long\",\"nullable\":true,\"metadata\":{}},{\"name\":\"Gaming\",\"type\":\"long\",\"nullable\":true,\"metadata\":{}},{\"name\":\"God Game\",\"type\":\"long\",\"nullable\":true,\"metadata\":{}},{\"name\":\"Golf\",\"type\":\"long\",\"nullable\":true,\"metadata\":{}},{\"name\":\"Gore\",\"type\":\"long\",\"nullable\":true,\"metadata\":{}},{\"name\":\"Gothic\",\"type\":\"long\",\"nullable\":true,\"metadata\":{}},{\"name\":\"Grand Strategy\",\"type\":\"long\",\"nullable\":true,\"metadata\":{}},{\"name\":\"Great Soundtrack\",\"type\":\"long\",\"nullable\":true,\"metadata\":{}},{\"name\":\"Grid-Based Movement\",\"type\":\"long\",\"nullable\":true,\"metadata\":{}},{\"name\":\"Gun Customization\",\"type\":\"long\",\"nullable\":true,\"metadata\":{}},{\"name\":\"Hack and Slash\",\"type\":\"long\",\"nullable\":true,\"metadata\":{}},{\"name\":\"Hacking\",\"type\":\"long\",\"nullable\":true,\"metadata\":{}},{\"name\":\"Hand-drawn\",\"type\":\"long\",\"nullable\":true,\"metadata\":{}},{\"name\":\"Hardware\",\"type\":\"long\",\"nullable\":true,\"metadata\":{}},{\"name\":\"Heist\",\"type\":\"long\",\"nullable\":true,\"metadata\":{}},{\"name\":\"Hentai\",\"type\":\"long\",\"nullable\":true,\"metadata\":{}},{\"name\":\"Hero Shooter\",\"type\":\"long\",\"nullable\":true,\"metadata\":{}},{\"name\":\"Hex Grid\",\"type\":\"long\",\"nullable\":true,\"metadata\":{}},{\"name\":\"Hidden Object\",\"type\":\"long\",\"nullable\":true,\"metadata\":{}},{\"name\":\"Historical\",\"type\":\"long\",\"nullable\":true,\"metadata\":{}},{\"name\":\"Hockey\",\"type\":\"long\",\"nullable\":true,\"metadata\":{}},{\"name\":\"Horror\",\"type\":\"long\",\"nullable\":true,\"metadata\":{}},{\"name\":\"Horses\",\"type\":\"long\",\"nullable\":true,\"metadata\":{}},{\"name\":\"Hunting\",\"type\":\"long\",\"nullable\":true,\"metadata\":{}},{\"name\":\"Idler\",\"type\":\"long\",\"nullable\":true,\"metadata\":{}},{\"name\":\"Illuminati\",\"type\":\"long\",\"nullable\":true,\"metadata\":{}},{\"name\":\"Immersive\",\"type\":\"long\",\"nullable\":true,\"metadata\":{}},{\"name\":\"Immersive Sim\",\"type\":\"long\",\"nullable\":true,\"metadata\":{}},{\"name\":\"Indie\",\"type\":\"long\",\"nullable\":true,\"metadata\":{}},{\"name\":\"Instrumental Music\",\"type\":\"long\",\"nullable\":true,\"metadata\":{}},{\"name\":\"Intentionally Awkward Controls\",\"type\":\"long\",\"nullable\":true,\"metadata\":{}},{\"name\":\"Interactive Fiction\",\"type\":\"long\",\"nullable\":true,\"metadata\":{}},{\"name\":\"Inventory Management\",\"type\":\"long\",\"nullable\":true,\"metadata\":{}},{\"name\":\"Investigation\",\"type\":\"long\",\"nullable\":true,\"metadata\":{}},{\"name\":\"Isometric\",\"type\":\"long\",\"nullable\":true,\"metadata\":{}},{\"name\":\"JRPG\",\"type\":\"long\",\"nullable\":true,\"metadata\":{}},{\"name\":\"Jet\",\"type\":\"long\",\"nullable\":true,\"metadata\":{}},{\"name\":\"Job Simulator\",\"type\":\"long\",\"nullable\":true,\"metadata\":{}},{\"name\":\"Jump Scare\",\"type\":\"long\",\"nullable\":true,\"metadata\":{}},{\"name\":\"Kickstarter\",\"type\":\"long\",\"nullable\":true,\"metadata\":{}},{\"name\":\"LEGO\",\"type\":\"long\",\"nullable\":true,\"metadata\":{}},{\"name\":\"LGBTQ+\",\"type\":\"long\",\"nullable\":true,\"metadata\":{}},{\"name\":\"Lemmings\",\"type\":\"long\",\"nullable\":true,\"metadata\":{}},{\"name\":\"Level Editor\",\"type\":\"long\",\"nullable\":true,\"metadata\":{}},{\"name\":\"Life Sim\",\"type\":\"long\",\"nullable\":true,\"metadata\":{}},{\"name\":\"Linear\",\"type\":\"long\",\"nullable\":true,\"metadata\":{}},{\"name\":\"Local Co-Op\",\"type\":\"long\",\"nullable\":true,\"metadata\":{}},{\"name\":\"Local Multiplayer\",\"type\":\"long\",\"nullable\":true,\"metadata\":{}},{\"name\":\"Logic\",\"type\":\"long\",\"nullable\":true,\"metadata\":{}},{\"name\":\"Loot\",\"type\":\"long\",\"nullable\":true,\"metadata\":{}},{\"name\":\"Looter Shooter\",\"type\":\"long\",\"nullable\":true,\"metadata\":{}},{\"name\":\"Lore-Rich\",\"type\":\"long\",\"nullable\":true,\"metadata\":{}},{\"name\":\"Lovecraftian\",\"type\":\"long\",\"nullable\":true,\"metadata\":{}},{\"name\":\"MMORPG\",\"type\":\"long\",\"nullable\":true,\"metadata\":{}},{\"name\":\"MOBA\",\"type\":\"long\",\"nullable\":true,\"metadata\":{}},{\"name\":\"Magic\",\"type\":\"long\",\"nullable\":true,\"metadata\":{}},{\"name\":\"Mahjong\",\"type\":\"long\",\"nullable\":true,\"metadata\":{}},{\"name\":\"Management\",\"type\":\"long\",\"nullable\":true,\"metadata\":{}},{\"name\":\"Mars\",\"type\":\"long\",\"nullable\":true,\"metadata\":{}},{\"name\":\"Martial Arts\",\"type\":\"long\",\"nullable\":true,\"metadata\":{}},{\"name\":\"Massively Multiplayer\",\"type\":\"long\",\"nullable\":true,\"metadata\":{}},{\"name\":\"Masterpiece\",\"type\":\"long\",\"nullable\":true,\"metadata\":{}},{\"name\":\"Match 3\",\"type\":\"long\",\"nullable\":true,\"metadata\":{}},{\"name\":\"Mature\",\"type\":\"long\",\"nullable\":true,\"metadata\":{}},{\"name\":\"Mechs\",\"type\":\"long\",\"nullable\":true,\"metadata\":{}},{\"name\":\"Medical Sim\",\"type\":\"long\",\"nullable\":true,\"metadata\":{}},{\"name\":\"Medieval\",\"type\":\"long\",\"nullable\":true,\"metadata\":{}},{\"name\":\"Memes\",\"type\":\"long\",\"nullable\":true,\"metadata\":{}},{\"name\":\"Metroidvania\",\"type\":\"long\",\"nullable\":true,\"metadata\":{}},{\"name\":\"Military\",\"type\":\"long\",\"nullable\":true,\"metadata\":{}},{\"name\":\"Mini Golf\",\"type\":\"long\",\"nullable\":true,\"metadata\":{}},{\"name\":\"Minigames\",\"type\":\"long\",\"nullable\":true,\"metadata\":{}},{\"name\":\"Minimalist\",\"type\":\"long\",\"nullable\":true,\"metadata\":{}},{\"name\":\"Mining\",\"type\":\"long\",\"nullable\":true,\"metadata\":{}},{\"name\":\"Mod\",\"type\":\"long\",\"nullable\":true,\"metadata\":{}},{\"name\":\"Moddable\",\"type\":\"long\",\"nullable\":true,\"metadata\":{}},{\"name\":\"Modern\",\"type\":\"long\",\"nullable\":true,\"metadata\":{}},{\"name\":\"Motocross\",\"type\":\"long\",\"nullable\":true,\"metadata\":{}},{\"name\":\"Motorbike\",\"type\":\"long\",\"nullable\":true,\"metadata\":{}},{\"name\":\"Mouse only\",\"type\":\"long\",\"nullable\":true,\"metadata\":{}},{\"name\":\"Movie\",\"type\":\"long\",\"nullable\":true,\"metadata\":{}},{\"name\":\"Multiplayer\",\"type\":\"long\",\"nullable\":true,\"metadata\":{}},{\"name\":\"Multiple Endings\",\"type\":\"long\",\"nullable\":true,\"metadata\":{}},{\"name\":\"Music\",\"type\":\"long\",\"nullable\":true,\"metadata\":{}},{\"name\":\"Music-Based Procedural Generation\",\"type\":\"long\",\"nullable\":true,\"metadata\":{}},{\"name\":\"Musou\",\"type\":\"long\",\"nullable\":true,\"metadata\":{}},{\"name\":\"Mystery\",\"type\":\"long\",\"nullable\":true,\"metadata\":{}},{\"name\":\"Mystery Dungeon\",\"type\":\"long\",\"nullable\":true,\"metadata\":{}},{\"name\":\"Mythology\",\"type\":\"long\",\"nullable\":true,\"metadata\":{}},{\"name\":\"NSFW\",\"type\":\"long\",\"nullable\":true,\"metadata\":{}},{\"name\":\"Narration\",\"type\":\"long\",\"nullable\":true,\"metadata\":{}},{\"name\":\"Narrative\",\"type\":\"long\",\"nullable\":true,\"metadata\":{}},{\"name\":\"Nature\",\"type\":\"long\",\"nullable\":true,\"metadata\":{}},{\"name\":\"Naval\",\"type\":\"long\",\"nullable\":true,\"metadata\":{}},{\"name\":\"Naval Combat\",\"type\":\"long\",\"nullable\":true,\"metadata\":{}},{\"name\":\"Ninja\",\"type\":\"long\",\"nullable\":true,\"metadata\":{}},{\"name\":\"Noir\",\"type\":\"long\",\"nullable\":true,\"metadata\":{}},{\"name\":\"Nonlinear\",\"type\":\"long\",\"nullable\":true,\"metadata\":{}},{\"name\":\"Nostalgia\",\"type\":\"long\",\"nullable\":true,\"metadata\":{}},{\"name\":\"Nudity\",\"type\":\"long\",\"nullable\":true,\"metadata\":{}},{\"name\":\"Offroad\",\"type\":\"long\",\"nullable\":true,\"metadata\":{}},{\"name\":\"Old School\",\"type\":\"long\",\"nullable\":true,\"metadata\":{}},{\"name\":\"On-Rails Shooter\",\"type\":\"long\",\"nullable\":true,\"metadata\":{}},{\"name\":\"Online Co-Op\",\"type\":\"long\",\"nullable\":true,\"metadata\":{}},{\"name\":\"Open World\",\"type\":\"long\",\"nullable\":true,\"metadata\":{}},{\"name\":\"Open World Survival Craft\",\"type\":\"long\",\"nullable\":true,\"metadata\":{}},{\"name\":\"Otome\",\"type\":\"long\",\"nullable\":true,\"metadata\":{}},{\"name\":\"Outbreak Sim\",\"type\":\"long\",\"nullable\":true,\"metadata\":{}},{\"name\":\"Parkour\",\"type\":\"long\",\"nullable\":true,\"metadata\":{}},{\"name\":\"Parody \",\"type\":\"long\",\"nullable\":true,\"metadata\":{}},{\"name\":\"Party\",\"type\":\"long\",\"nullable\":true,\"metadata\":{}},{\"name\":\"Party Game\",\"type\":\"long\",\"nullable\":true,\"metadata\":{}},{\"name\":\"Party-Based RPG\",\"type\":\"long\",\"nullable\":true,\"metadata\":{}},{\"name\":\"Perma Death\",\"type\":\"long\",\"nullable\":true,\"metadata\":{}},{\"name\":\"Philosophical\",\"type\":\"long\",\"nullable\":true,\"metadata\":{}},{\"name\":\"Photo Editing\",\"type\":\"long\",\"nullable\":true,\"metadata\":{}},{\"name\":\"Physics\",\"type\":\"long\",\"nullable\":true,\"metadata\":{}},{\"name\":\"Pinball\",\"type\":\"long\",\"nullable\":true,\"metadata\":{}},{\"name\":\"Pirates\",\"type\":\"long\",\"nullable\":true,\"metadata\":{}},{\"name\":\"Pixel Graphics\",\"type\":\"long\",\"nullable\":true,\"metadata\":{}},{\"name\":\"Platformer\",\"type\":\"long\",\"nullable\":true,\"metadata\":{}},{\"name\":\"Point & Click\",\"type\":\"long\",\"nullable\":true,\"metadata\":{}},{\"name\":\"Political\",\"type\":\"long\",\"nullable\":true,\"metadata\":{}},{\"name\":\"Political Sim\",\"type\":\"long\",\"nullable\":true,\"metadata\":{}},{\"name\":\"Politics\",\"type\":\"long\",\"nullable\":true,\"metadata\":{}},{\"name\":\"Pool\",\"type\":\"long\",\"nullable\":true,\"metadata\":{}},{\"name\":\"Post-apocalyptic\",\"type\":\"long\",\"nullable\":true,\"metadata\":{}},{\"name\":\"Precision Platformer\",\"type\":\"long\",\"nullable\":true,\"metadata\":{}},{\"name\":\"Procedural Generation\",\"type\":\"long\",\"nullable\":true,\"metadata\":{}},{\"name\":\"Programming\",\"type\":\"long\",\"nullable\":true,\"metadata\":{}},{\"name\":\"Psychedelic\",\"type\":\"long\",\"nullable\":true,\"metadata\":{}},{\"name\":\"Psychological\",\"type\":\"long\",\"nullable\":true,\"metadata\":{}},{\"name\":\"Psychological Horror\",\"type\":\"long\",\"nullable\":true,\"metadata\":{}},{\"name\":\"Puzzle\",\"type\":\"long\",\"nullable\":true,\"metadata\":{}},{\"name\":\"Puzzle-Platformer\",\"type\":\"long\",\"nullable\":true,\"metadata\":{}},{\"name\":\"PvE\",\"type\":\"long\",\"nullable\":true,\"metadata\":{}},{\"name\":\"PvP\",\"type\":\"long\",\"nullable\":true,\"metadata\":{}},{\"name\":\"Quick-Time Events\",\"type\":\"long\",\"nullable\":true,\"metadata\":{}},{\"name\":\"RPG\",\"type\":\"long\",\"nullable\":true,\"metadata\":{}},{\"name\":\"RPGMaker\",\"type\":\"long\",\"nullable\":true,\"metadata\":{}},{\"name\":\"RTS\",\"type\":\"long\",\"nullable\":true,\"metadata\":{}},{\"name\":\"Racing\",\"type\":\"long\",\"nullable\":true,\"metadata\":{}},{\"name\":\"Real Time Tactics\",\"type\":\"long\",\"nullable\":true,\"metadata\":{}},{\"name\":\"Real-Time\",\"type\":\"long\",\"nullable\":true,\"metadata\":{}},{\"name\":\"Real-Time with Pause\",\"type\":\"long\",\"nullable\":true,\"metadata\":{}},{\"name\":\"Realistic\",\"type\":\"long\",\"nullable\":true,\"metadata\":{}},{\"name\":\"Reboot\",\"type\":\"long\",\"nullable\":true,\"metadata\":{}},{\"name\":\"Relaxing\",\"type\":\"long\",\"nullable\":true,\"metadata\":{}},{\"name\":\"Remake\",\"type\":\"long\",\"nullable\":true,\"metadata\":{}},{\"name\":\"Replay Value\",\"type\":\"long\",\"nullable\":true,\"metadata\":{}},{\"name\":\"Resource Management\",\"type\":\"long\",\"nullable\":true,\"metadata\":{}},{\"name\":\"Retro\",\"type\":\"long\",\"nullable\":true,\"metadata\":{}},{\"name\":\"Rhythm\",\"type\":\"long\",\"nullable\":true,\"metadata\":{}},{\"name\":\"Robots\",\"type\":\"long\",\"nullable\":true,\"metadata\":{}},{\"name\":\"Rock Music\",\"type\":\"long\",\"nullable\":true,\"metadata\":{}},{\"name\":\"Rogue-like\",\"type\":\"long\",\"nullable\":true,\"metadata\":{}},{\"name\":\"Rogue-lite\",\"type\":\"long\",\"nullable\":true,\"metadata\":{}},{\"name\":\"Roguelike Deckbuilder\",\"type\":\"long\",\"nullable\":true,\"metadata\":{}},{\"name\":\"Roguevania\",\"type\":\"long\",\"nullable\":true,\"metadata\":{}},{\"name\":\"Romance\",\"type\":\"long\",\"nullable\":true,\"metadata\":{}},{\"name\":\"Rome\",\"type\":\"long\",\"nullable\":true,\"metadata\":{}},{\"name\":\"Rugby\",\"type\":\"long\",\"nullable\":true,\"metadata\":{}},{\"name\":\"Runner\",\"type\":\"long\",\"nullable\":true,\"metadata\":{}},{\"name\":\"Sailing\",\"type\":\"long\",\"nullable\":true,\"metadata\":{}},{\"name\":\"Sandbox\",\"type\":\"long\",\"nullable\":true,\"metadata\":{}},{\"name\":\"Satire\",\"type\":\"long\",\"nullable\":true,\"metadata\":{}},{\"name\":\"Sci-fi\",\"type\":\"long\",\"nullable\":true,\"metadata\":{}},{\"name\":\"Science\",\"type\":\"long\",\"nullable\":true,\"metadata\":{}},{\"name\":\"Score Attack\",\"type\":\"long\",\"nullable\":true,\"metadata\":{}},{\"name\":\"Sequel\",\"type\":\"long\",\"nullable\":true,\"metadata\":{}},{\"name\":\"Sexual Content\",\"type\":\"long\",\"nullable\":true,\"metadata\":{}},{\"name\":\"Shoot 'Em Up\",\"type\":\"long\",\"nullable\":true,\"metadata\":{}},{\"name\":\"Shooter\",\"type\":\"long\",\"nullable\":true,\"metadata\":{}},{\"name\":\"Shop Keeper\",\"type\":\"long\",\"nullable\":true,\"metadata\":{}},{\"name\":\"Short\",\"type\":\"long\",\"nullable\":true,\"metadata\":{}},{\"name\":\"Side Scroller\",\"type\":\"long\",\"nullable\":true,\"metadata\":{}},{\"name\":\"Silent Protagonist\",\"type\":\"long\",\"nullable\":true,\"metadata\":{}},{\"name\":\"Simulation\",\"type\":\"long\",\"nullable\":true,\"metadata\":{}},{\"name\":\"Singleplayer\",\"type\":\"long\",\"nullable\":true,\"metadata\":{}},{\"name\":\"Skateboarding\",\"type\":\"long\",\"nullable\":true,\"metadata\":{}},{\"name\":\"Skating\",\"type\":\"long\",\"nullable\":true,\"metadata\":{}},{\"name\":\"Skiing\",\"type\":\"long\",\"nullable\":true,\"metadata\":{}},{\"name\":\"Sniper\",\"type\":\"long\",\"nullable\":true,\"metadata\":{}},{\"name\":\"Snooker\",\"type\":\"long\",\"nullable\":true,\"metadata\":{}},{\"name\":\"Snow\",\"type\":\"long\",\"nullable\":true,\"metadata\":{}},{\"name\":\"Snowboarding\",\"type\":\"long\",\"nullable\":true,\"metadata\":{}},{\"name\":\"Soccer\",\"type\":\"long\",\"nullable\":true,\"metadata\":{}},{\"name\":\"Social Deduction\",\"type\":\"long\",\"nullable\":true,\"metadata\":{}},{\"name\":\"Software\",\"type\":\"long\",\"nullable\":true,\"metadata\":{}},{\"name\":\"Software Training\",\"type\":\"long\",\"nullable\":true,\"metadata\":{}},{\"name\":\"Sokoban\",\"type\":\"long\",\"nullable\":true,\"metadata\":{}},{\"name\":\"Solitaire\",\"type\":\"long\",\"nullable\":true,\"metadata\":{}},{\"name\":\"Souls-like\",\"type\":\"long\",\"nullable\":true,\"metadata\":{}},{\"name\":\"Soundtrack\",\"type\":\"long\",\"nullable\":true,\"metadata\":{}},{\"name\":\"Space\",\"type\":\"long\",\"nullable\":true,\"metadata\":{}},{\"name\":\"Space Sim\",\"type\":\"long\",\"nullable\":true,\"metadata\":{}},{\"name\":\"Spaceships\",\"type\":\"long\",\"nullable\":true,\"metadata\":{}},{\"name\":\"Spectacle fighter\",\"type\":\"long\",\"nullable\":true,\"metadata\":{}},{\"name\":\"Spelling\",\"type\":\"long\",\"nullable\":true,\"metadata\":{}},{\"name\":\"Split Screen\",\"type\":\"long\",\"nullable\":true,\"metadata\":{}},{\"name\":\"Sports\",\"type\":\"long\",\"nullable\":true,\"metadata\":{}},{\"name\":\"Stealth\",\"type\":\"long\",\"nullable\":true,\"metadata\":{}},{\"name\":\"Steam Machine\",\"type\":\"long\",\"nullable\":true,\"metadata\":{}},{\"name\":\"Steampunk\",\"type\":\"long\",\"nullable\":true,\"metadata\":{}},{\"name\":\"Story Rich\",\"type\":\"long\",\"nullable\":true,\"metadata\":{}},{\"name\":\"Strategy\",\"type\":\"long\",\"nullable\":true,\"metadata\":{}},{\"name\":\"Strategy RPG\",\"type\":\"long\",\"nullable\":true,\"metadata\":{}},{\"name\":\"Stylized\",\"type\":\"long\",\"nullable\":true,\"metadata\":{}},{\"name\":\"Submarine\",\"type\":\"long\",\"nullable\":true,\"metadata\":{}},{\"name\":\"Superhero\",\"type\":\"long\",\"nullable\":true,\"metadata\":{}},{\"name\":\"Supernatural\",\"type\":\"long\",\"nullable\":true,\"metadata\":{}},{\"name\":\"Surreal\",\"type\":\"long\",\"nullable\":true,\"metadata\":{}},{\"name\":\"Survival\",\"type\":\"long\",\"nullable\":true,\"metadata\":{}},{\"name\":\"Survival Horror\",\"type\":\"long\",\"nullable\":true,\"metadata\":{}},{\"name\":\"Swordplay\",\"type\":\"long\",\"nullable\":true,\"metadata\":{}},{\"name\":\"Tabletop\",\"type\":\"long\",\"nullable\":true,\"metadata\":{}},{\"name\":\"Tactical\",\"type\":\"long\",\"nullable\":true,\"metadata\":{}},{\"name\":\"Tactical RPG\",\"type\":\"long\",\"nullable\":true,\"metadata\":{}},{\"name\":\"Tanks\",\"type\":\"long\",\"nullable\":true,\"metadata\":{}},{\"name\":\"Team-Based\",\"type\":\"long\",\"nullable\":true,\"metadata\":{}},{\"name\":\"Tennis\",\"type\":\"long\",\"nullable\":true,\"metadata\":{}},{\"name\":\"Text-Based\",\"type\":\"long\",\"nullable\":true,\"metadata\":{}},{\"name\":\"Third Person\",\"type\":\"long\",\"nullable\":true,\"metadata\":{}},{\"name\":\"Third-Person Shooter\",\"type\":\"long\",\"nullable\":true,\"metadata\":{}},{\"name\":\"Thriller\",\"type\":\"long\",\"nullable\":true,\"metadata\":{}},{\"name\":\"Tile-Matching\",\"type\":\"long\",\"nullable\":true,\"metadata\":{}},{\"name\":\"Time Attack\",\"type\":\"long\",\"nullable\":true,\"metadata\":{}},{\"name\":\"Time Management\",\"type\":\"long\",\"nullable\":true,\"metadata\":{}},{\"name\":\"Time Manipulation\",\"type\":\"long\",\"nullable\":true,\"metadata\":{}},{\"name\":\"Time Travel\",\"type\":\"long\",\"nullable\":true,\"metadata\":{}},{\"name\":\"Top-Down\",\"type\":\"long\",\"nullable\":true,\"metadata\":{}},{\"name\":\"Top-Down Shooter\",\"type\":\"long\",\"nullable\":true,\"metadata\":{}},{\"name\":\"Touch-Friendly\",\"type\":\"long\",\"nullable\":true,\"metadata\":{}},{\"name\":\"Tower Defense\",\"type\":\"long\",\"nullable\":true,\"metadata\":{}},{\"name\":\"TrackIR\",\"type\":\"long\",\"nullable\":true,\"metadata\":{}},{\"name\":\"Trading\",\"type\":\"long\",\"nullable\":true,\"metadata\":{}},{\"name\":\"Trading Card Game\",\"type\":\"long\",\"nullable\":true,\"metadata\":{}},{\"name\":\"Traditional Roguelike\",\"type\":\"long\",\"nullable\":true,\"metadata\":{}},{\"name\":\"Trains\",\"type\":\"long\",\"nullable\":true,\"metadata\":{}},{\"name\":\"Transhumanism\",\"type\":\"long\",\"nullable\":true,\"metadata\":{}},{\"name\":\"Transportation\",\"type\":\"long\",\"nullable\":true,\"metadata\":{}},{\"name\":\"Trivia\",\"type\":\"long\",\"nullable\":true,\"metadata\":{}},{\"name\":\"Turn-Based\",\"type\":\"long\",\"nullable\":true,\"metadata\":{}},{\"name\":\"Turn-Based Combat\",\"type\":\"long\",\"nullable\":true,\"metadata\":{}},{\"name\":\"Turn-Based Strategy\",\"type\":\"long\",\"nullable\":true,\"metadata\":{}},{\"name\":\"Turn-Based Tactics\",\"type\":\"long\",\"nullable\":true,\"metadata\":{}},{\"name\":\"Tutorial\",\"type\":\"long\",\"nullable\":true,\"metadata\":{}},{\"name\":\"Twin Stick Shooter\",\"type\":\"long\",\"nullable\":true,\"metadata\":{}},{\"name\":\"Typing\",\"type\":\"long\",\"nullable\":true,\"metadata\":{}},{\"name\":\"Underground\",\"type\":\"long\",\"nullable\":true,\"metadata\":{}},{\"name\":\"Underwater\",\"type\":\"long\",\"nullable\":true,\"metadata\":{}},{\"name\":\"Unforgiving\",\"type\":\"long\",\"nullable\":true,\"metadata\":{}},{\"name\":\"Utilities\",\"type\":\"long\",\"nullable\":true,\"metadata\":{}},{\"name\":\"VR\",\"type\":\"long\",\"nullable\":true,\"metadata\":{}},{\"name\":\"VR Only\",\"type\":\"long\",\"nullable\":true,\"metadata\":{}},{\"name\":\"Vampire\",\"type\":\"long\",\"nullable\":true,\"metadata\":{}},{\"name\":\"Vehicular Combat\",\"type\":\"long\",\"nullable\":true,\"metadata\":{}},{\"name\":\"Video Production\",\"type\":\"long\",\"nullable\":true,\"metadata\":{}},{\"name\":\"Vikings\",\"type\":\"long\",\"nullable\":true,\"metadata\":{}},{\"name\":\"Villain Protagonist\",\"type\":\"long\",\"nullable\":true,\"metadata\":{}},{\"name\":\"Violent\",\"type\":\"long\",\"nullable\":true,\"metadata\":{}},{\"name\":\"Visual Novel\",\"type\":\"long\",\"nullable\":true,\"metadata\":{}},{\"name\":\"Voice Control\",\"type\":\"long\",\"nullable\":true,\"metadata\":{}},{\"name\":\"Volleyball\",\"type\":\"long\",\"nullable\":true,\"metadata\":{}},{\"name\":\"Voxel\",\"type\":\"long\",\"nullable\":true,\"metadata\":{}},{\"name\":\"Walking Simulator\",\"type\":\"long\",\"nullable\":true,\"metadata\":{}},{\"name\":\"War\",\"type\":\"long\",\"nullable\":true,\"metadata\":{}},{\"name\":\"Wargame\",\"type\":\"long\",\"nullable\":true,\"metadata\":{}},{\"name\":\"Warhammer 40K\",\"type\":\"long\",\"nullable\":true,\"metadata\":{}},{\"name\":\"Web Publishing\",\"type\":\"long\",\"nullable\":true,\"metadata\":{}},{\"name\":\"Well-Written\",\"type\":\"long\",\"nullable\":true,\"metadata\":{}},{\"name\":\"Werewolves\",\"type\":\"long\",\"nullable\":true,\"metadata\":{}},{\"name\":\"Western\",\"type\":\"long\",\"nullable\":true,\"metadata\":{}},{\"name\":\"Wholesome\",\"type\":\"long\",\"nullable\":true,\"metadata\":{}},{\"name\":\"Word Game\",\"type\":\"long\",\"nullable\":true,\"metadata\":{}},{\"name\":\"World War I\",\"type\":\"long\",\"nullable\":true,\"metadata\":{}},{\"name\":\"World War II\",\"type\":\"long\",\"nullable\":true,\"metadata\":{}},{\"name\":\"Wrestling\",\"type\":\"long\",\"nullable\":true,\"metadata\":{}},{\"name\":\"Zombies\",\"type\":\"long\",\"nullable\":true,\"metadata\":{}},{\"name\":\"e-sports\",\"type\":\"long\",\"nullable\":true,\"metadata\":{}}]}"
        },
        {
         "metadata": "{}",
         "name": "type",
         "type": "\"string\""
        },
        {
         "metadata": "{}",
         "name": "website",
         "type": "\"string\""
        }
       ],
       "type": "table"
      }
     },
     "output_type": "display_data"
    }
   ],
   "source": [
    "display(df_steam_flat.filter(F.col(\"type\") == \"hardware\"))"
   ]
  },
  {
   "cell_type": "code",
   "execution_count": 0,
   "metadata": {
    "application/vnd.databricks.v1+cell": {
     "cellMetadata": {
      "byteLimit": 2048000,
      "rowLimit": 10000
     },
     "inputWidgets": {},
     "nuid": "d9658e56-7b91-4030-a471-73ad7b7800f0",
     "showTitle": false,
     "tableResultSettingsMap": {},
     "title": ""
    }
   },
   "outputs": [],
   "source": [
    "df_steam_flat = df_steam_flat.filter(F.col(\"type\") == \"game\")"
   ]
  },
  {
   "cell_type": "code",
   "execution_count": 0,
   "metadata": {
    "application/vnd.databricks.v1+cell": {
     "cellMetadata": {
      "byteLimit": 2048000,
      "rowLimit": 10000
     },
     "inputWidgets": {},
     "nuid": "835ca89b-ea7d-4fa6-a2ab-c1ad94c286d3",
     "showTitle": false,
     "tableResultSettingsMap": {},
     "title": ""
    }
   },
   "outputs": [
    {
     "output_type": "stream",
     "name": "stdout",
     "output_type": "stream",
     "text": [
      "+----+-----+\n|type|count|\n+----+-----+\n|game|55686|\n+----+-----+\n\n"
     ]
    }
   ],
   "source": [
    "df_steam_flat.groupBy(\"type\").count().show()"
   ]
  },
  {
   "cell_type": "markdown",
   "metadata": {
    "application/vnd.databricks.v1+cell": {
     "cellMetadata": {},
     "inputWidgets": {},
     "nuid": "3b2147d6-2db5-4db4-b8e7-9776940b24a8",
     "showTitle": false,
     "tableResultSettingsMap": {},
     "title": ""
    }
   },
   "source": [
    "---"
   ]
  },
  {
   "cell_type": "markdown",
   "metadata": {
    "application/vnd.databricks.v1+cell": {
     "cellMetadata": {},
     "inputWidgets": {},
     "nuid": "e8962d30-334b-4397-832e-9b8b88749ad1",
     "showTitle": false,
     "tableResultSettingsMap": {},
     "title": ""
    }
   },
   "source": [
    "Format des données"
   ]
  },
  {
   "cell_type": "markdown",
   "metadata": {
    "application/vnd.databricks.v1+cell": {
     "cellMetadata": {
      "byteLimit": 2048000,
      "rowLimit": 10000
     },
     "inputWidgets": {},
     "nuid": "3fa23ee2-5062-40b9-9ce6-e93553fb11ea",
     "showTitle": false,
     "tableResultSettingsMap": {},
     "title": ""
    }
   },
   "source": [
    "Je reprends le format des données. Je vais en caster certaines pour me permettre de les requêter plus facilement :\n",
    "\n",
    "appid : Identifiant, Texte\n",
    "\n",
    "categories : Catégories, Liste\n",
    "\n",
    "ccu : Nombre de jours en simultanés, Long \n",
    "\n",
    "developer : Développeur, Texte\n",
    "\n",
    "discount : Réduction de prix, Float\n",
    "\n",
    "genre : Catégorie, Type de jeu, Texte\n",
    "\n",
    "header_image : Image de présentation, Texte\n",
    "\n",
    "initialprice : Prix d'origine, Float\n",
    "\n",
    "languages : Langues, Texte\n",
    "\n",
    "name : Nom, Texte\n",
    "\n",
    "negative : Nombre d'avis négatifs, Long\n",
    "\n",
    "owners : Plage d'acheteurs (entre x et y jeux vendus), Texte\n",
    "\n",
    "platforms : Plateforme de disponibilité du jeu, Dictionnaire\n",
    "\n",
    "positive : Nombre d'avis positifs, Long\n",
    "\n",
    "price : Prix, Float\n",
    "\n",
    "publisher : Editeur, Texte\n",
    "\n",
    "release_date : Date de sortie, Date\n",
    "\n",
    "required_age : (cf. ci-dessous) Age minimum, Integer\n",
    "\n",
    "short_descrition : Description, Texte\n",
    "\n",
    "tags : Mots-clés + votes des utilisateurs sur chacun des mot-clé (Steam permet aux joueurs d'ajouter des mots-clés aux jeux, et ces votes sont comptabilisés pour afficher les tags les plus populaires), Dictionnaire\n",
    "\n",
    "type : (cf. ci-dessous) Game, Texte\n",
    "\n",
    "website : URL, Texte\n"
   ]
  },
  {
   "cell_type": "code",
   "execution_count": 0,
   "metadata": {
    "application/vnd.databricks.v1+cell": {
     "cellMetadata": {
      "byteLimit": 2048000,
      "rowLimit": 10000
     },
     "inputWidgets": {},
     "nuid": "429de1eb-204a-4180-be28-ab7b50e523dd",
     "showTitle": false,
     "tableResultSettingsMap": {},
     "title": ""
    }
   },
   "outputs": [
    {
     "output_type": "stream",
     "name": "stdout",
     "output_type": "stream",
     "text": [
      "root\n |-- appid: long (nullable = true)\n |-- categories: array (nullable = true)\n |    |-- element: string (containsNull = true)\n |-- ccu: long (nullable = true)\n |-- developer: string (nullable = true)\n |-- discount: string (nullable = true)\n |-- genre: string (nullable = true)\n |-- header_image: string (nullable = true)\n |-- initialprice: string (nullable = true)\n |-- languages: string (nullable = true)\n |-- name: string (nullable = true)\n |-- negative: long (nullable = true)\n |-- owners: string (nullable = true)\n |-- platforms: struct (nullable = true)\n |    |-- linux: boolean (nullable = true)\n |    |-- mac: boolean (nullable = true)\n |    |-- windows: boolean (nullable = true)\n |-- positive: long (nullable = true)\n |-- price: string (nullable = true)\n |-- publisher: string (nullable = true)\n |-- release_date: string (nullable = true)\n |-- required_age: string (nullable = true)\n |-- short_description: string (nullable = true)\n |-- tags: struct (nullable = true)\n |    |-- 1980s: long (nullable = true)\n |    |-- 1990's: long (nullable = true)\n |    |-- 2.5D: long (nullable = true)\n |    |-- 2D: long (nullable = true)\n |    |-- 2D Fighter: long (nullable = true)\n |    |-- 2D Platformer: long (nullable = true)\n |    |-- 360 Video: long (nullable = true)\n |    |-- 3D: long (nullable = true)\n |    |-- 3D Fighter: long (nullable = true)\n |    |-- 3D Platformer: long (nullable = true)\n |    |-- 3D Vision: long (nullable = true)\n |    |-- 4 Player Local: long (nullable = true)\n |    |-- 4X: long (nullable = true)\n |    |-- 6DOF: long (nullable = true)\n |    |-- 8-bit Music: long (nullable = true)\n |    |-- ATV: long (nullable = true)\n |    |-- Abstract: long (nullable = true)\n |    |-- Action: long (nullable = true)\n |    |-- Action RPG: long (nullable = true)\n |    |-- Action RTS: long (nullable = true)\n |    |-- Action Roguelike: long (nullable = true)\n |    |-- Action-Adventure: long (nullable = true)\n |    |-- Addictive: long (nullable = true)\n |    |-- Adventure: long (nullable = true)\n |    |-- Agriculture: long (nullable = true)\n |    |-- Aliens: long (nullable = true)\n |    |-- Alternate History: long (nullable = true)\n |    |-- Ambient: long (nullable = true)\n |    |-- America: long (nullable = true)\n |    |-- Animation & Modeling: long (nullable = true)\n |    |-- Anime: long (nullable = true)\n |    |-- Arcade: long (nullable = true)\n |    |-- Archery: long (nullable = true)\n |    |-- Arena Shooter: long (nullable = true)\n |    |-- Artificial Intelligence: long (nullable = true)\n |    |-- Assassin: long (nullable = true)\n |    |-- Asymmetric VR: long (nullable = true)\n |    |-- Asynchronous Multiplayer: long (nullable = true)\n |    |-- Atmospheric: long (nullable = true)\n |    |-- Audio Production: long (nullable = true)\n |    |-- Auto Battler: long (nullable = true)\n |    |-- Automation: long (nullable = true)\n |    |-- Automobile Sim: long (nullable = true)\n |    |-- BMX: long (nullable = true)\n |    |-- Base-Building: long (nullable = true)\n |    |-- Baseball: long (nullable = true)\n |    |-- Based On A Novel: long (nullable = true)\n |    |-- Basketball: long (nullable = true)\n |    |-- Battle Royale: long (nullable = true)\n |    |-- Beat 'em up: long (nullable = true)\n |    |-- Beautiful: long (nullable = true)\n |    |-- Benchmark: long (nullable = true)\n |    |-- Bikes: long (nullable = true)\n |    |-- Blood: long (nullable = true)\n |    |-- Board Game: long (nullable = true)\n |    |-- Boss Rush: long (nullable = true)\n |    |-- Bowling: long (nullable = true)\n |    |-- Boxing: long (nullable = true)\n |    |-- Building: long (nullable = true)\n |    |-- Bullet Hell: long (nullable = true)\n |    |-- Bullet Time: long (nullable = true)\n |    |-- CRPG: long (nullable = true)\n |    |-- Capitalism: long (nullable = true)\n |    |-- Card Battler: long (nullable = true)\n |    |-- Card Game: long (nullable = true)\n |    |-- Cartoon: long (nullable = true)\n |    |-- Cartoony: long (nullable = true)\n |    |-- Casual: long (nullable = true)\n |    |-- Cats: long (nullable = true)\n |    |-- Character Action Game: long (nullable = true)\n |    |-- Character Customization: long (nullable = true)\n |    |-- Chess: long (nullable = true)\n |    |-- Choices Matter: long (nullable = true)\n |    |-- Choose Your Own Adventure: long (nullable = true)\n |    |-- Cinematic: long (nullable = true)\n |    |-- City Builder: long (nullable = true)\n |    |-- Class-Based: long (nullable = true)\n |    |-- Classic: long (nullable = true)\n |    |-- Clicker: long (nullable = true)\n |    |-- Co-op: long (nullable = true)\n |    |-- Co-op Campaign: long (nullable = true)\n |    |-- Coding: long (nullable = true)\n |    |-- Cold War: long (nullable = true)\n |    |-- Collectathon: long (nullable = true)\n |    |-- Colony Sim: long (nullable = true)\n |    |-- Colorful: long (nullable = true)\n |    |-- Combat: long (nullable = true)\n |    |-- Combat Racing: long (nullable = true)\n |    |-- Comedy: long (nullable = true)\n |    |-- Comic Book: long (nullable = true)\n |    |-- Competitive: long (nullable = true)\n |    |-- Conspiracy: long (nullable = true)\n |    |-- Controller: long (nullable = true)\n |    |-- Conversation: long (nullable = true)\n |    |-- Cooking: long (nullable = true)\n |    |-- Cozy: long (nullable = true)\n |    |-- Crafting: long (nullable = true)\n |    |-- Creature Collector: long (nullable = true)\n |    |-- Cricket: long (nullable = true)\n |    |-- Crime: long (nullable = true)\n |    |-- Crowdfunded: long (nullable = true)\n |    |-- Cult Classic: long (nullable = true)\n |    |-- Cute: long (nullable = true)\n |    |-- Cyberpunk: long (nullable = true)\n |    |-- Cycling: long (nullable = true)\n |    |-- Dark: long (nullable = true)\n |    |-- Dark Comedy: long (nullable = true)\n |    |-- Dark Fantasy: long (nullable = true)\n |    |-- Dark Humor: long (nullable = true)\n |    |-- Dating Sim: long (nullable = true)\n |    |-- Deckbuilding: long (nullable = true)\n |    |-- Demons: long (nullable = true)\n |    |-- Design & Illustration: long (nullable = true)\n |    |-- Destruction: long (nullable = true)\n |    |-- Detective: long (nullable = true)\n |    |-- Difficult: long (nullable = true)\n |    |-- Dinosaurs: long (nullable = true)\n |    |-- Diplomacy: long (nullable = true)\n |    |-- Documentary: long (nullable = true)\n |    |-- Dog: long (nullable = true)\n |    |-- Dragons: long (nullable = true)\n |    |-- Drama: long (nullable = true)\n |    |-- Driving: long (nullable = true)\n |    |-- Dungeon Crawler: long (nullable = true)\n |    |-- Dungeons & Dragons: long (nullable = true)\n |    |-- Dynamic Narration: long (nullable = true)\n |    |-- Dystopian : long (nullable = true)\n |    |-- Early Access: long (nullable = true)\n |    |-- Economy: long (nullable = true)\n |    |-- Education: long (nullable = true)\n |    |-- Electronic: long (nullable = true)\n |    |-- Electronic Music: long (nullable = true)\n |    |-- Emotional: long (nullable = true)\n |    |-- Epic: long (nullable = true)\n |    |-- Episodic: long (nullable = true)\n |    |-- Escape Room: long (nullable = true)\n |    |-- Experience: long (nullable = true)\n |    |-- Experimental: long (nullable = true)\n |    |-- Exploration: long (nullable = true)\n |    |-- FMV: long (nullable = true)\n |    |-- FPS: long (nullable = true)\n |    |-- Faith: long (nullable = true)\n |    |-- Family Friendly: long (nullable = true)\n |    |-- Fantasy: long (nullable = true)\n |    |-- Farming: long (nullable = true)\n |    |-- Farming Sim: long (nullable = true)\n |    |-- Fast-Paced: long (nullable = true)\n |    |-- Feature Film: long (nullable = true)\n |    |-- Female Protagonist: long (nullable = true)\n |    |-- Fighting: long (nullable = true)\n |    |-- First-Person: long (nullable = true)\n |    |-- Fishing: long (nullable = true)\n |    |-- Flight: long (nullable = true)\n |    |-- Football: long (nullable = true)\n |    |-- Foreign: long (nullable = true)\n |    |-- Free to Play: long (nullable = true)\n |    |-- Funny: long (nullable = true)\n |    |-- Futuristic: long (nullable = true)\n |    |-- Gambling: long (nullable = true)\n |    |-- Game Development: long (nullable = true)\n |    |-- GameMaker: long (nullable = true)\n |    |-- Games Workshop: long (nullable = true)\n |    |-- Gaming: long (nullable = true)\n |    |-- God Game: long (nullable = true)\n |    |-- Golf: long (nullable = true)\n |    |-- Gore: long (nullable = true)\n |    |-- Gothic: long (nullable = true)\n |    |-- Grand Strategy: long (nullable = true)\n |    |-- Great Soundtrack: long (nullable = true)\n |    |-- Grid-Based Movement: long (nullable = true)\n |    |-- Gun Customization: long (nullable = true)\n |    |-- Hack and Slash: long (nullable = true)\n |    |-- Hacking: long (nullable = true)\n |    |-- Hand-drawn: long (nullable = true)\n |    |-- Hardware: long (nullable = true)\n |    |-- Heist: long (nullable = true)\n |    |-- Hentai: long (nullable = true)\n |    |-- Hero Shooter: long (nullable = true)\n |    |-- Hex Grid: long (nullable = true)\n |    |-- Hidden Object: long (nullable = true)\n |    |-- Historical: long (nullable = true)\n |    |-- Hockey: long (nullable = true)\n |    |-- Horror: long (nullable = true)\n |    |-- Horses: long (nullable = true)\n |    |-- Hunting: long (nullable = true)\n |    |-- Idler: long (nullable = true)\n |    |-- Illuminati: long (nullable = true)\n |    |-- Immersive: long (nullable = true)\n |    |-- Immersive Sim: long (nullable = true)\n |    |-- Indie: long (nullable = true)\n |    |-- Instrumental Music: long (nullable = true)\n |    |-- Intentionally Awkward Controls: long (nullable = true)\n |    |-- Interactive Fiction: long (nullable = true)\n |    |-- Inventory Management: long (nullable = true)\n |    |-- Investigation: long (nullable = true)\n |    |-- Isometric: long (nullable = true)\n |    |-- JRPG: long (nullable = true)\n |    |-- Jet: long (nullable = true)\n |    |-- Job Simulator: long (nullable = true)\n |    |-- Jump Scare: long (nullable = true)\n |    |-- Kickstarter: long (nullable = true)\n |    |-- LEGO: long (nullable = true)\n |    |-- LGBTQ+: long (nullable = true)\n |    |-- Lemmings: long (nullable = true)\n |    |-- Level Editor: long (nullable = true)\n |    |-- Life Sim: long (nullable = true)\n |    |-- Linear: long (nullable = true)\n |    |-- Local Co-Op: long (nullable = true)\n |    |-- Local Multiplayer: long (nullable = true)\n |    |-- Logic: long (nullable = true)\n |    |-- Loot: long (nullable = true)\n |    |-- Looter Shooter: long (nullable = true)\n |    |-- Lore-Rich: long (nullable = true)\n |    |-- Lovecraftian: long (nullable = true)\n |    |-- MMORPG: long (nullable = true)\n |    |-- MOBA: long (nullable = true)\n |    |-- Magic: long (nullable = true)\n |    |-- Mahjong: long (nullable = true)\n |    |-- Management: long (nullable = true)\n |    |-- Mars: long (nullable = true)\n |    |-- Martial Arts: long (nullable = true)\n |    |-- Massively Multiplayer: long (nullable = true)\n |    |-- Masterpiece: long (nullable = true)\n |    |-- Match 3: long (nullable = true)\n |    |-- Mature: long (nullable = true)\n |    |-- Mechs: long (nullable = true)\n |    |-- Medical Sim: long (nullable = true)\n |    |-- Medieval: long (nullable = true)\n |    |-- Memes: long (nullable = true)\n |    |-- Metroidvania: long (nullable = true)\n |    |-- Military: long (nullable = true)\n |    |-- Mini Golf: long (nullable = true)\n |    |-- Minigames: long (nullable = true)\n |    |-- Minimalist: long (nullable = true)\n |    |-- Mining: long (nullable = true)\n |    |-- Mod: long (nullable = true)\n |    |-- Moddable: long (nullable = true)\n |    |-- Modern: long (nullable = true)\n |    |-- Motocross: long (nullable = true)\n |    |-- Motorbike: long (nullable = true)\n |    |-- Mouse only: long (nullable = true)\n |    |-- Movie: long (nullable = true)\n |    |-- Multiplayer: long (nullable = true)\n |    |-- Multiple Endings: long (nullable = true)\n |    |-- Music: long (nullable = true)\n |    |-- Music-Based Procedural Generation: long (nullable = true)\n |    |-- Musou: long (nullable = true)\n |    |-- Mystery: long (nullable = true)\n |    |-- Mystery Dungeon: long (nullable = true)\n |    |-- Mythology: long (nullable = true)\n |    |-- NSFW: long (nullable = true)\n |    |-- Narration: long (nullable = true)\n |    |-- Narrative: long (nullable = true)\n |    |-- Nature: long (nullable = true)\n |    |-- Naval: long (nullable = true)\n |    |-- Naval Combat: long (nullable = true)\n |    |-- Ninja: long (nullable = true)\n |    |-- Noir: long (nullable = true)\n |    |-- Nonlinear: long (nullable = true)\n |    |-- Nostalgia: long (nullable = true)\n |    |-- Nudity: long (nullable = true)\n |    |-- Offroad: long (nullable = true)\n |    |-- Old School: long (nullable = true)\n |    |-- On-Rails Shooter: long (nullable = true)\n |    |-- Online Co-Op: long (nullable = true)\n |    |-- Open World: long (nullable = true)\n |    |-- Open World Survival Craft: long (nullable = true)\n |    |-- Otome: long (nullable = true)\n |    |-- Outbreak Sim: long (nullable = true)\n |    |-- Parkour: long (nullable = true)\n |    |-- Parody : long (nullable = true)\n |    |-- Party: long (nullable = true)\n |    |-- Party Game: long (nullable = true)\n |    |-- Party-Based RPG: long (nullable = true)\n |    |-- Perma Death: long (nullable = true)\n |    |-- Philosophical: long (nullable = true)\n |    |-- Photo Editing: long (nullable = true)\n |    |-- Physics: long (nullable = true)\n |    |-- Pinball: long (nullable = true)\n |    |-- Pirates: long (nullable = true)\n |    |-- Pixel Graphics: long (nullable = true)\n |    |-- Platformer: long (nullable = true)\n |    |-- Point & Click: long (nullable = true)\n |    |-- Political: long (nullable = true)\n |    |-- Political Sim: long (nullable = true)\n |    |-- Politics: long (nullable = true)\n |    |-- Pool: long (nullable = true)\n |    |-- Post-apocalyptic: long (nullable = true)\n |    |-- Precision Platformer: long (nullable = true)\n |    |-- Procedural Generation: long (nullable = true)\n |    |-- Programming: long (nullable = true)\n |    |-- Psychedelic: long (nullable = true)\n |    |-- Psychological: long (nullable = true)\n |    |-- Psychological Horror: long (nullable = true)\n |    |-- Puzzle: long (nullable = true)\n |    |-- Puzzle-Platformer: long (nullable = true)\n |    |-- PvE: long (nullable = true)\n |    |-- PvP: long (nullable = true)\n |    |-- Quick-Time Events: long (nullable = true)\n |    |-- RPG: long (nullable = true)\n |    |-- RPGMaker: long (nullable = true)\n |    |-- RTS: long (nullable = true)\n |    |-- Racing: long (nullable = true)\n |    |-- Real Time Tactics: long (nullable = true)\n |    |-- Real-Time: long (nullable = true)\n |    |-- Real-Time with Pause: long (nullable = true)\n |    |-- Realistic: long (nullable = true)\n |    |-- Reboot: long (nullable = true)\n |    |-- Relaxing: long (nullable = true)\n |    |-- Remake: long (nullable = true)\n |    |-- Replay Value: long (nullable = true)\n |    |-- Resource Management: long (nullable = true)\n |    |-- Retro: long (nullable = true)\n |    |-- Rhythm: long (nullable = true)\n |    |-- Robots: long (nullable = true)\n |    |-- Rock Music: long (nullable = true)\n |    |-- Rogue-like: long (nullable = true)\n |    |-- Rogue-lite: long (nullable = true)\n |    |-- Roguelike Deckbuilder: long (nullable = true)\n |    |-- Roguevania: long (nullable = true)\n |    |-- Romance: long (nullable = true)\n |    |-- Rome: long (nullable = true)\n |    |-- Rugby: long (nullable = true)\n |    |-- Runner: long (nullable = true)\n |    |-- Sailing: long (nullable = true)\n |    |-- Sandbox: long (nullable = true)\n |    |-- Satire: long (nullable = true)\n |    |-- Sci-fi: long (nullable = true)\n |    |-- Science: long (nullable = true)\n |    |-- Score Attack: long (nullable = true)\n |    |-- Sequel: long (nullable = true)\n |    |-- Sexual Content: long (nullable = true)\n |    |-- Shoot 'Em Up: long (nullable = true)\n |    |-- Shooter: long (nullable = true)\n |    |-- Shop Keeper: long (nullable = true)\n |    |-- Short: long (nullable = true)\n |    |-- Side Scroller: long (nullable = true)\n |    |-- Silent Protagonist: long (nullable = true)\n |    |-- Simulation: long (nullable = true)\n |    |-- Singleplayer: long (nullable = true)\n |    |-- Skateboarding: long (nullable = true)\n |    |-- Skating: long (nullable = true)\n |    |-- Skiing: long (nullable = true)\n |    |-- Sniper: long (nullable = true)\n |    |-- Snooker: long (nullable = true)\n |    |-- Snow: long (nullable = true)\n |    |-- Snowboarding: long (nullable = true)\n |    |-- Soccer: long (nullable = true)\n |    |-- Social Deduction: long (nullable = true)\n |    |-- Software: long (nullable = true)\n |    |-- Software Training: long (nullable = true)\n |    |-- Sokoban: long (nullable = true)\n |    |-- Solitaire: long (nullable = true)\n |    |-- Souls-like: long (nullable = true)\n |    |-- Soundtrack: long (nullable = true)\n |    |-- Space: long (nullable = true)\n |    |-- Space Sim: long (nullable = true)\n |    |-- Spaceships: long (nullable = true)\n |    |-- Spectacle fighter: long (nullable = true)\n |    |-- Spelling: long (nullable = true)\n |    |-- Split Screen: long (nullable = true)\n |    |-- Sports: long (nullable = true)\n |    |-- Stealth: long (nullable = true)\n |    |-- Steam Machine: long (nullable = true)\n |    |-- Steampunk: long (nullable = true)\n |    |-- Story Rich: long (nullable = true)\n |    |-- Strategy: long (nullable = true)\n |    |-- Strategy RPG: long (nullable = true)\n |    |-- Stylized: long (nullable = true)\n |    |-- Submarine: long (nullable = true)\n |    |-- Superhero: long (nullable = true)\n |    |-- Supernatural: long (nullable = true)\n |    |-- Surreal: long (nullable = true)\n |    |-- Survival: long (nullable = true)\n |    |-- Survival Horror: long (nullable = true)\n |    |-- Swordplay: long (nullable = true)\n |    |-- Tabletop: long (nullable = true)\n |    |-- Tactical: long (nullable = true)\n |    |-- Tactical RPG: long (nullable = true)\n |    |-- Tanks: long (nullable = true)\n |    |-- Team-Based: long (nullable = true)\n |    |-- Tennis: long (nullable = true)\n |    |-- Text-Based: long (nullable = true)\n |    |-- Third Person: long (nullable = true)\n |    |-- Third-Person Shooter: long (nullable = true)\n |    |-- Thriller: long (nullable = true)\n |    |-- Tile-Matching: long (nullable = true)\n |    |-- Time Attack: long (nullable = true)\n |    |-- Time Management: long (nullable = true)\n |    |-- Time Manipulation: long (nullable = true)\n |    |-- Time Travel: long (nullable = true)\n |    |-- Top-Down: long (nullable = true)\n |    |-- Top-Down Shooter: long (nullable = true)\n |    |-- Touch-Friendly: long (nullable = true)\n |    |-- Tower Defense: long (nullable = true)\n |    |-- TrackIR: long (nullable = true)\n |    |-- Trading: long (nullable = true)\n |    |-- Trading Card Game: long (nullable = true)\n |    |-- Traditional Roguelike: long (nullable = true)\n |    |-- Trains: long (nullable = true)\n |    |-- Transhumanism: long (nullable = true)\n |    |-- Transportation: long (nullable = true)\n |    |-- Trivia: long (nullable = true)\n |    |-- Turn-Based: long (nullable = true)\n |    |-- Turn-Based Combat: long (nullable = true)\n |    |-- Turn-Based Strategy: long (nullable = true)\n |    |-- Turn-Based Tactics: long (nullable = true)\n |    |-- Tutorial: long (nullable = true)\n |    |-- Twin Stick Shooter: long (nullable = true)\n |    |-- Typing: long (nullable = true)\n |    |-- Underground: long (nullable = true)\n |    |-- Underwater: long (nullable = true)\n |    |-- Unforgiving: long (nullable = true)\n |    |-- Utilities: long (nullable = true)\n |    |-- VR: long (nullable = true)\n |    |-- VR Only: long (nullable = true)\n |    |-- Vampire: long (nullable = true)\n |    |-- Vehicular Combat: long (nullable = true)\n |    |-- Video Production: long (nullable = true)\n |    |-- Vikings: long (nullable = true)\n |    |-- Villain Protagonist: long (nullable = true)\n |    |-- Violent: long (nullable = true)\n |    |-- Visual Novel: long (nullable = true)\n |    |-- Voice Control: long (nullable = true)\n |    |-- Volleyball: long (nullable = true)\n |    |-- Voxel: long (nullable = true)\n |    |-- Walking Simulator: long (nullable = true)\n |    |-- War: long (nullable = true)\n |    |-- Wargame: long (nullable = true)\n |    |-- Warhammer 40K: long (nullable = true)\n |    |-- Web Publishing: long (nullable = true)\n |    |-- Well-Written: long (nullable = true)\n |    |-- Werewolves: long (nullable = true)\n |    |-- Western: long (nullable = true)\n |    |-- Wholesome: long (nullable = true)\n |    |-- Word Game: long (nullable = true)\n |    |-- World War I: long (nullable = true)\n |    |-- World War II: long (nullable = true)\n |    |-- Wrestling: long (nullable = true)\n |    |-- Zombies: long (nullable = true)\n |    |-- e-sports: long (nullable = true)\n |-- type: string (nullable = true)\n |-- website: string (nullable = true)\n\n"
     ]
    }
   ],
   "source": [
    "df_steam_flat.printSchema()"
   ]
  },
  {
   "cell_type": "markdown",
   "metadata": {
    "application/vnd.databricks.v1+cell": {
     "cellMetadata": {
      "byteLimit": 2048000,
      "rowLimit": 10000
     },
     "inputWidgets": {},
     "nuid": "3bafbfc7-1a48-4953-99a5-57be62bfe5e2",
     "showTitle": false,
     "tableResultSettingsMap": {},
     "title": ""
    }
   },
   "source": [
    "Les données à caster sont donc :\n",
    "\n",
    "appid : Texte\n",
    "\n",
    "discount: Float\n",
    "\n",
    "initialprice : Float\n",
    "\n",
    "price: Float\n",
    "\n",
    "release_date : Date\n",
    "\n",
    "required_age : Integer"
   ]
  },
  {
   "cell_type": "code",
   "execution_count": 0,
   "metadata": {
    "application/vnd.databricks.v1+cell": {
     "cellMetadata": {
      "byteLimit": 2048000,
      "rowLimit": 10000
     },
     "inputWidgets": {},
     "nuid": "63cdd21a-90b2-4287-ad55-c8a97a188628",
     "showTitle": false,
     "tableResultSettingsMap": {},
     "title": ""
    }
   },
   "outputs": [],
   "source": [
    "df_steam_flat = df_steam_flat \\\n",
    "  .withColumn(\"appid\", F.col(\"appid\").cast(\"string\")) \\\n",
    "  .withColumn(\"discount\", F.col(\"discount\").cast(\"float\")) \\\n",
    "  .withColumn(\"initialprice\", F.col(\"initialprice\").cast(\"float\")) \\\n",
    "  .withColumn(\"price\", F.col(\"price\").cast(\"float\")) \\\n",
    "  .withColumn(\"required_age\", F.col(\"required_age\").cast(\"int\"))"
   ]
  },
  {
   "cell_type": "markdown",
   "metadata": {
    "application/vnd.databricks.v1+cell": {
     "cellMetadata": {},
     "inputWidgets": {},
     "nuid": "443a0687-7e0e-4c89-a9fe-2c20836174f6",
     "showTitle": false,
     "tableResultSettingsMap": {},
     "title": ""
    }
   },
   "source": [
    "---"
   ]
  },
  {
   "cell_type": "markdown",
   "metadata": {
    "application/vnd.databricks.v1+cell": {
     "cellMetadata": {},
     "inputWidgets": {},
     "nuid": "95f257af-daff-4df5-982b-e7e6f51003a7",
     "showTitle": false,
     "tableResultSettingsMap": {},
     "title": ""
    }
   },
   "source": [
    "`release_date`"
   ]
  },
  {
   "cell_type": "code",
   "execution_count": 0,
   "metadata": {
    "application/vnd.databricks.v1+cell": {
     "cellMetadata": {
      "byteLimit": 2048000,
      "rowLimit": 10000
     },
     "inputWidgets": {},
     "nuid": "56ac95d9-2693-40f3-8c28-5066446d22fa",
     "showTitle": false,
     "tableResultSettingsMap": {},
     "title": ""
    }
   },
   "outputs": [
    {
     "output_type": "stream",
     "name": "stdout",
     "output_type": "stream",
     "text": [
      "+------------+\n|release_date|\n+------------+\n|   2000/11/1|\n|  2021/05/14|\n|  2020/10/16|\n|  2020/10/14|\n|  2019/03/30|\n|  2019/06/24|\n|  2019/01/24|\n|   2019/04/8|\n|   2019/01/6|\n|   2021/09/9|\n|  2019/12/17|\n|  2021/02/16|\n|   2019/01/3|\n|   2019/02/1|\n|  2019/11/22|\n|  2019/05/24|\n|   2019/02/4|\n|   2021/12/5|\n|  2019/02/11|\n|  2019/03/21|\n+------------+\nonly showing top 20 rows\n\n"
     ]
    }
   ],
   "source": [
    "df_steam_flat.select(F.col(\"release_date\")).show(20)"
   ]
  },
  {
   "cell_type": "code",
   "execution_count": 0,
   "metadata": {
    "application/vnd.databricks.v1+cell": {
     "cellMetadata": {
      "byteLimit": 2048000,
      "rowLimit": 10000
     },
     "inputWidgets": {},
     "nuid": "3116d042-147d-4cfb-8620-b12a606330fe",
     "showTitle": false,
     "tableResultSettingsMap": {},
     "title": ""
    }
   },
   "outputs": [],
   "source": [
    "  df_steam_flat = df_steam_flat.withColumn(\"release_date\", F.to_timestamp(F.col(\"release_date\"), format=\"y/M/d\"))"
   ]
  },
  {
   "cell_type": "code",
   "execution_count": 0,
   "metadata": {
    "application/vnd.databricks.v1+cell": {
     "cellMetadata": {
      "byteLimit": 2048000,
      "rowLimit": 10000
     },
     "inputWidgets": {},
     "nuid": "cdc5123e-9c27-4a73-bbc7-0574dbc5cb7a",
     "showTitle": false,
     "tableResultSettingsMap": {},
     "title": ""
    }
   },
   "outputs": [
    {
     "output_type": "stream",
     "name": "stdout",
     "output_type": "stream",
     "text": [
      "+-------------------+\n|       release_date|\n+-------------------+\n|2000-11-01 00:00:00|\n|2021-05-14 00:00:00|\n|2020-10-16 00:00:00|\n|2020-10-14 00:00:00|\n|2019-03-30 00:00:00|\n|2019-06-24 00:00:00|\n|2019-01-24 00:00:00|\n|2019-04-08 00:00:00|\n|2019-01-06 00:00:00|\n|2021-09-09 00:00:00|\n|2019-12-17 00:00:00|\n|2021-02-16 00:00:00|\n|2019-01-03 00:00:00|\n|2019-02-01 00:00:00|\n|2019-11-22 00:00:00|\n|2019-05-24 00:00:00|\n|2019-02-04 00:00:00|\n|2021-12-05 00:00:00|\n|2019-02-11 00:00:00|\n|2019-03-21 00:00:00|\n+-------------------+\nonly showing top 20 rows\n\n"
     ]
    }
   ],
   "source": [
    "df_steam_flat.select(F.col(\"release_date\")).show(20)\n"
   ]
  },
  {
   "cell_type": "markdown",
   "metadata": {
    "application/vnd.databricks.v1+cell": {
     "cellMetadata": {},
     "inputWidgets": {},
     "nuid": "f176ebd7-24e2-4bfe-ade8-60ef26e30352",
     "showTitle": false,
     "tableResultSettingsMap": {},
     "title": ""
    }
   },
   "source": [
    "Je visualise les dates de sortie des jeux vidéos"
   ]
  },
  {
   "cell_type": "code",
   "execution_count": 0,
   "metadata": {
    "application/vnd.databricks.v1+cell": {
     "cellMetadata": {
      "byteLimit": 2048000,
      "rowLimit": 10000
     },
     "inputWidgets": {},
     "nuid": "395fb61e-e1d2-4f1f-b7a3-ae079e617784",
     "showTitle": false,
     "tableResultSettingsMap": {},
     "title": ""
    }
   },
   "outputs": [
    {
     "output_type": "display_data",
     "data": {
      "text/html": [
       "<style scoped>\n",
       "  .table-result-container {\n",
       "    max-height: 300px;\n",
       "    overflow: auto;\n",
       "  }\n",
       "  table, th, td {\n",
       "    border: 1px solid black;\n",
       "    border-collapse: collapse;\n",
       "  }\n",
       "  th, td {\n",
       "    padding: 5px;\n",
       "  }\n",
       "  th {\n",
       "    text-align: left;\n",
       "  }\n",
       "</style><div class='table-result-container'><table class='table-result'><thead style='background-color: white'><tr><th>release_date</th><th>nb_games</th></tr></thead><tbody><tr><td>null</td><td>222</td></tr><tr><td>2020-01-17T00:00:00.000+0000</td><td>74</td></tr><tr><td>2022-09-30T00:00:00.000+0000</td><td>64</td></tr><tr><td>2020-10-15T00:00:00.000+0000</td><td>63</td></tr><tr><td>2021-09-30T00:00:00.000+0000</td><td>62</td></tr><tr><td>2021-10-14T00:00:00.000+0000</td><td>59</td></tr><tr><td>2022-09-01T00:00:00.000+0000</td><td>58</td></tr><tr><td>2021-02-26T00:00:00.000+0000</td><td>58</td></tr><tr><td>2020-07-31T00:00:00.000+0000</td><td>57</td></tr><tr><td>2021-06-17T00:00:00.000+0000</td><td>57</td></tr><tr><td>2020-10-30T00:00:00.000+0000</td><td>56</td></tr><tr><td>2022-10-14T00:00:00.000+0000</td><td>56</td></tr><tr><td>2021-04-30T00:00:00.000+0000</td><td>56</td></tr><tr><td>2020-02-20T00:00:00.000+0000</td><td>55</td></tr><tr><td>2019-12-12T00:00:00.000+0000</td><td>55</td></tr><tr><td>2021-01-28T00:00:00.000+0000</td><td>55</td></tr><tr><td>2022-07-28T00:00:00.000+0000</td><td>55</td></tr><tr><td>2021-07-29T00:00:00.000+0000</td><td>55</td></tr><tr><td>2020-06-18T00:00:00.000+0000</td><td>54</td></tr><tr><td>2016-04-05T00:00:00.000+0000</td><td>54</td></tr><tr><td>2021-02-18T00:00:00.000+0000</td><td>54</td></tr><tr><td>2021-12-15T00:00:00.000+0000</td><td>53</td></tr><tr><td>2021-10-01T00:00:00.000+0000</td><td>53</td></tr><tr><td>2020-10-22T00:00:00.000+0000</td><td>52</td></tr><tr><td>2022-05-26T00:00:00.000+0000</td><td>52</td></tr><tr><td>2020-12-04T00:00:00.000+0000</td><td>52</td></tr><tr><td>2017-12-01T00:00:00.000+0000</td><td>52</td></tr><tr><td>2020-11-20T00:00:00.000+0000</td><td>52</td></tr><tr><td>2018-07-13T00:00:00.000+0000</td><td>51</td></tr><tr><td>2021-10-29T00:00:00.000+0000</td><td>51</td></tr><tr><td>2019-01-31T00:00:00.000+0000</td><td>51</td></tr><tr><td>2020-07-17T00:00:00.000+0000</td><td>51</td></tr><tr><td>2021-04-15T00:00:00.000+0000</td><td>51</td></tr><tr><td>2018-11-09T00:00:00.000+0000</td><td>50</td></tr><tr><td>2021-06-04T00:00:00.000+0000</td><td>50</td></tr><tr><td>2021-11-11T00:00:00.000+0000</td><td>50</td></tr><tr><td>2022-09-29T00:00:00.000+0000</td><td>50</td></tr><tr><td>2019-07-25T00:00:00.000+0000</td><td>50</td></tr><tr><td>2021-07-30T00:00:00.000+0000</td><td>50</td></tr><tr><td>2020-11-05T00:00:00.000+0000</td><td>50</td></tr><tr><td>2021-03-25T00:00:00.000+0000</td><td>50</td></tr><tr><td>2018-06-15T00:00:00.000+0000</td><td>50</td></tr><tr><td>2022-10-13T00:00:00.000+0000</td><td>49</td></tr><tr><td>2020-12-15T00:00:00.000+0000</td><td>49</td></tr><tr><td>2021-12-02T00:00:00.000+0000</td><td>49</td></tr><tr><td>2021-02-04T00:00:00.000+0000</td><td>49</td></tr><tr><td>2020-11-19T00:00:00.000+0000</td><td>49</td></tr><tr><td>2018-09-14T00:00:00.000+0000</td><td>49</td></tr><tr><td>2021-09-09T00:00:00.000+0000</td><td>49</td></tr><tr><td>2020-08-07T00:00:00.000+0000</td><td>49</td></tr><tr><td>2021-07-20T00:00:00.000+0000</td><td>48</td></tr><tr><td>2022-04-28T00:00:00.000+0000</td><td>48</td></tr><tr><td>2020-09-03T00:00:00.000+0000</td><td>48</td></tr><tr><td>2021-02-25T00:00:00.000+0000</td><td>48</td></tr><tr><td>2022-01-21T00:00:00.000+0000</td><td>48</td></tr><tr><td>2021-03-12T00:00:00.000+0000</td><td>48</td></tr><tr><td>2018-08-17T00:00:00.000+0000</td><td>48</td></tr><tr><td>2018-11-16T00:00:00.000+0000</td><td>48</td></tr><tr><td>2021-12-03T00:00:00.000+0000</td><td>48</td></tr><tr><td>2022-10-28T00:00:00.000+0000</td><td>48</td></tr><tr><td>2018-02-08T00:00:00.000+0000</td><td>47</td></tr><tr><td>2018-05-17T00:00:00.000+0000</td><td>47</td></tr><tr><td>2021-03-31T00:00:00.000+0000</td><td>47</td></tr><tr><td>2020-10-23T00:00:00.000+0000</td><td>47</td></tr><tr><td>2021-10-28T00:00:00.000+0000</td><td>47</td></tr><tr><td>2018-03-08T00:00:00.000+0000</td><td>47</td></tr><tr><td>2021-10-22T00:00:00.000+0000</td><td>47</td></tr><tr><td>2019-12-13T00:00:00.000+0000</td><td>46</td></tr><tr><td>2022-07-15T00:00:00.000+0000</td><td>46</td></tr><tr><td>2021-04-23T00:00:00.000+0000</td><td>46</td></tr><tr><td>2022-10-27T00:00:00.000+0000</td><td>46</td></tr><tr><td>2022-05-20T00:00:00.000+0000</td><td>46</td></tr><tr><td>2022-06-17T00:00:00.000+0000</td><td>46</td></tr><tr><td>2021-03-26T00:00:00.000+0000</td><td>46</td></tr><tr><td>2020-08-20T00:00:00.000+0000</td><td>46</td></tr><tr><td>2021-02-19T00:00:00.000+0000</td><td>46</td></tr><tr><td>2021-10-21T00:00:00.000+0000</td><td>46</td></tr><tr><td>2018-04-13T00:00:00.000+0000</td><td>46</td></tr><tr><td>2017-09-15T00:00:00.000+0000</td><td>46</td></tr><tr><td>2020-11-06T00:00:00.000+0000</td><td>46</td></tr><tr><td>2019-02-22T00:00:00.000+0000</td><td>46</td></tr><tr><td>2019-08-30T00:00:00.000+0000</td><td>46</td></tr><tr><td>2019-02-28T00:00:00.000+0000</td><td>46</td></tr><tr><td>2018-11-30T00:00:00.000+0000</td><td>45</td></tr><tr><td>2022-03-01T00:00:00.000+0000</td><td>45</td></tr><tr><td>2018-11-15T00:00:00.000+0000</td><td>45</td></tr><tr><td>2021-01-21T00:00:00.000+0000</td><td>45</td></tr><tr><td>2022-08-04T00:00:00.000+0000</td><td>45</td></tr><tr><td>2020-08-27T00:00:00.000+0000</td><td>45</td></tr><tr><td>2022-10-20T00:00:00.000+0000</td><td>45</td></tr><tr><td>2021-11-05T00:00:00.000+0000</td><td>45</td></tr><tr><td>2021-10-07T00:00:00.000+0000</td><td>44</td></tr><tr><td>2021-12-16T00:00:00.000+0000</td><td>44</td></tr><tr><td>2018-04-06T00:00:00.000+0000</td><td>44</td></tr><tr><td>2022-05-13T00:00:00.000+0000</td><td>44</td></tr><tr><td>2022-05-19T00:00:00.000+0000</td><td>44</td></tr><tr><td>2021-04-08T00:00:00.000+0000</td><td>44</td></tr><tr><td>2022-11-04T00:00:00.000+0000</td><td>44</td></tr><tr><td>2019-04-18T00:00:00.000+0000</td><td>44</td></tr><tr><td>2022-04-21T00:00:00.000+0000</td><td>44</td></tr><tr><td>2020-11-12T00:00:00.000+0000</td><td>44</td></tr><tr><td>2020-06-04T00:00:00.000+0000</td><td>44</td></tr><tr><td>2021-08-26T00:00:00.000+0000</td><td>44</td></tr><tr><td>2021-09-15T00:00:00.000+0000</td><td>44</td></tr><tr><td>2022-01-07T00:00:00.000+0000</td><td>44</td></tr><tr><td>2018-04-03T00:00:00.000+0000</td><td>44</td></tr><tr><td>2020-08-14T00:00:00.000+0000</td><td>44</td></tr><tr><td>2022-11-03T00:00:00.000+0000</td><td>44</td></tr><tr><td>2018-02-13T00:00:00.000+0000</td><td>43</td></tr><tr><td>2022-03-31T00:00:00.000+0000</td><td>43</td></tr><tr><td>2018-04-27T00:00:00.000+0000</td><td>43</td></tr><tr><td>2022-09-15T00:00:00.000+0000</td><td>43</td></tr><tr><td>2020-08-06T00:00:00.000+0000</td><td>43</td></tr><tr><td>2022-09-09T00:00:00.000+0000</td><td>43</td></tr><tr><td>2018-09-28T00:00:00.000+0000</td><td>43</td></tr><tr><td>2022-03-04T00:00:00.000+0000</td><td>43</td></tr><tr><td>2021-11-18T00:00:00.000+0000</td><td>43</td></tr><tr><td>2021-07-22T00:00:00.000+0000</td><td>43</td></tr><tr><td>2018-12-14T00:00:00.000+0000</td><td>43</td></tr><tr><td>2017-10-31T00:00:00.000+0000</td><td>43</td></tr><tr><td>2022-07-08T00:00:00.000+0000</td><td>43</td></tr><tr><td>2020-05-28T00:00:00.000+0000</td><td>43</td></tr><tr><td>2018-12-20T00:00:00.000+0000</td><td>43</td></tr><tr><td>2022-07-29T00:00:00.000+0000</td><td>43</td></tr><tr><td>2018-05-31T00:00:00.000+0000</td><td>43</td></tr><tr><td>2020-08-28T00:00:00.000+0000</td><td>43</td></tr><tr><td>2020-09-24T00:00:00.000+0000</td><td>43</td></tr><tr><td>2021-03-18T00:00:00.000+0000</td><td>42</td></tr><tr><td>2022-02-11T00:00:00.000+0000</td><td>42</td></tr><tr><td>2020-10-29T00:00:00.000+0000</td><td>42</td></tr><tr><td>2020-10-16T00:00:00.000+0000</td><td>42</td></tr><tr><td>2020-10-20T00:00:00.000+0000</td><td>42</td></tr><tr><td>2021-11-12T00:00:00.000+0000</td><td>42</td></tr><tr><td>2018-03-30T00:00:00.000+0000</td><td>42</td></tr><tr><td>2020-10-14T00:00:00.000+0000</td><td>42</td></tr><tr><td>2021-10-08T00:00:00.000+0000</td><td>42</td></tr><tr><td>2022-04-29T00:00:00.000+0000</td><td>42</td></tr><tr><td>2022-01-20T00:00:00.000+0000</td><td>42</td></tr><tr><td>2020-09-25T00:00:00.000+0000</td><td>42</td></tr><tr><td>2021-09-17T00:00:00.000+0000</td><td>42</td></tr><tr><td>2021-03-30T00:00:00.000+0000</td><td>42</td></tr><tr><td>2021-12-01T00:00:00.000+0000</td><td>42</td></tr><tr><td>2021-03-05T00:00:00.000+0000</td><td>42</td></tr><tr><td>2021-04-29T00:00:00.000+0000</td><td>42</td></tr><tr><td>2022-05-31T00:00:00.000+0000</td><td>42</td></tr><tr><td>2017-12-15T00:00:00.000+0000</td><td>42</td></tr><tr><td>2017-09-29T00:00:00.000+0000</td><td>42</td></tr><tr><td>2022-05-12T00:00:00.000+0000</td><td>42</td></tr><tr><td>2019-05-23T00:00:00.000+0000</td><td>41</td></tr><tr><td>2019-11-14T00:00:00.000+0000</td><td>41</td></tr><tr><td>2019-02-01T00:00:00.000+0000</td><td>41</td></tr><tr><td>2018-04-20T00:00:00.000+0000</td><td>41</td></tr><tr><td>2018-03-02T00:00:00.000+0000</td><td>41</td></tr><tr><td>2016-12-15T00:00:00.000+0000</td><td>41</td></tr><tr><td>2022-08-25T00:00:00.000+0000</td><td>41</td></tr><tr><td>2021-02-05T00:00:00.000+0000</td><td>41</td></tr><tr><td>2020-07-16T00:00:00.000+0000</td><td>41</td></tr><tr><td>2021-06-24T00:00:00.000+0000</td><td>41</td></tr><tr><td>2017-12-18T00:00:00.000+0000</td><td>40</td></tr><tr><td>2020-08-21T00:00:00.000+0000</td><td>40</td></tr><tr><td>2021-06-01T00:00:00.000+0000</td><td>40</td></tr><tr><td>2016-12-16T00:00:00.000+0000</td><td>40</td></tr><tr><td>2020-09-30T00:00:00.000+0000</td><td>40</td></tr><tr><td>2021-10-15T00:00:00.000+0000</td><td>40</td></tr><tr><td>2020-07-23T00:00:00.000+0000</td><td>40</td></tr><tr><td>2017-09-14T00:00:00.000+0000</td><td>40</td></tr><tr><td>2018-04-24T00:00:00.000+0000</td><td>40</td></tr><tr><td>2019-03-29T00:00:00.000+0000</td><td>40</td></tr><tr><td>2018-03-09T00:00:00.000+0000</td><td>40</td></tr><tr><td>2020-07-30T00:00:00.000+0000</td><td>40</td></tr><tr><td>2020-08-31T00:00:00.000+0000</td><td>40</td></tr><tr><td>2021-09-24T00:00:00.000+0000</td><td>40</td></tr><tr><td>2019-08-01T00:00:00.000+0000</td><td>40</td></tr><tr><td>2020-12-21T00:00:00.000+0000</td><td>40</td></tr><tr><td>2020-10-01T00:00:00.000+0000</td><td>40</td></tr><tr><td>2020-05-15T00:00:00.000+0000</td><td>40</td></tr><tr><td>2021-11-19T00:00:00.000+0000</td><td>40</td></tr><tr><td>2022-01-13T00:00:00.000+0000</td><td>40</td></tr><tr><td>2021-05-27T00:00:00.000+0000</td><td>40</td></tr><tr><td>2020-04-17T00:00:00.000+0000</td><td>40</td></tr><tr><td>2022-06-16T00:00:00.000+0000</td><td>40</td></tr><tr><td>2022-03-18T00:00:00.000+0000</td><td>40</td></tr><tr><td>2021-07-15T00:00:00.000+0000</td><td>40</td></tr><tr><td>2022-08-18T00:00:00.000+0000</td><td>39</td></tr><tr><td>2021-01-29T00:00:00.000+0000</td><td>39</td></tr><tr><td>2022-02-10T00:00:00.000+0000</td><td>39</td></tr><tr><td>2017-08-15T00:00:00.000+0000</td><td>39</td></tr><tr><td>2019-09-26T00:00:00.000+0000</td><td>39</td></tr><tr><td>2022-05-05T00:00:00.000+0000</td><td>39</td></tr><tr><td>2019-03-28T00:00:00.000+0000</td><td>39</td></tr><tr><td>2021-12-10T00:00:00.000+0000</td><td>39</td></tr><tr><td>2021-10-13T00:00:00.000+0000</td><td>39</td></tr><tr><td>2021-11-04T00:00:00.000+0000</td><td>39</td></tr><tr><td>2020-02-14T00:00:00.000+0000</td><td>39</td></tr><tr><td>2022-07-07T00:00:00.000+0000</td><td>39</td></tr><tr><td>2019-11-01T00:00:00.000+0000</td><td>39</td></tr><tr><td>2019-05-31T00:00:00.000+0000</td><td>39</td></tr><tr><td>2022-02-24T00:00:00.000+0000</td><td>39</td></tr><tr><td>2018-05-03T00:00:00.000+0000</td><td>39</td></tr><tr><td>2021-01-22T00:00:00.000+0000</td><td>39</td></tr><tr><td>2020-05-22T00:00:00.000+0000</td><td>39</td></tr><tr><td>2017-11-01T00:00:00.000+0000</td><td>39</td></tr><tr><td>2019-09-27T00:00:00.000+0000</td><td>39</td></tr><tr><td>2021-08-27T00:00:00.000+0000</td><td>38</td></tr><tr><td>2018-02-27T00:00:00.000+0000</td><td>38</td></tr><tr><td>2022-10-25T00:00:00.000+0000</td><td>38</td></tr><tr><td>2021-08-25T00:00:00.000+0000</td><td>38</td></tr><tr><td>2021-09-16T00:00:00.000+0000</td><td>38</td></tr><tr><td>2019-10-24T00:00:00.000+0000</td><td>38</td></tr><tr><td>2022-06-01T00:00:00.000+0000</td><td>38</td></tr><tr><td>2020-04-30T00:00:00.000+0000</td><td>38</td></tr><tr><td>2017-11-02T00:00:00.000+0000</td><td>38</td></tr><tr><td>2020-12-11T00:00:00.000+0000</td><td>38</td></tr><tr><td>2020-04-29T00:00:00.000+0000</td><td>38</td></tr><tr><td>2016-09-29T00:00:00.000+0000</td><td>38</td></tr><tr><td>2018-08-30T00:00:00.000+0000</td><td>38</td></tr><tr><td>2016-10-14T00:00:00.000+0000</td><td>38</td></tr><tr><td>2021-06-18T00:00:00.000+0000</td><td>38</td></tr><tr><td>2022-01-14T00:00:00.000+0000</td><td>38</td></tr><tr><td>2018-03-29T00:00:00.000+0000</td><td>38</td></tr><tr><td>2018-10-31T00:00:00.000+0000</td><td>38</td></tr><tr><td>2018-07-26T00:00:00.000+0000</td><td>38</td></tr><tr><td>2021-12-17T00:00:00.000+0000</td><td>38</td></tr><tr><td>2022-06-20T00:00:00.000+0000</td><td>38</td></tr><tr><td>2021-04-16T00:00:00.000+0000</td><td>38</td></tr><tr><td>2018-05-04T00:00:00.000+0000</td><td>38</td></tr><tr><td>2021-03-04T00:00:00.000+0000</td><td>38</td></tr><tr><td>2021-06-10T00:00:00.000+0000</td><td>38</td></tr><tr><td>2017-09-12T00:00:00.000+0000</td><td>38</td></tr><tr><td>2022-10-31T00:00:00.000+0000</td><td>38</td></tr><tr><td>2022-07-21T00:00:00.000+0000</td><td>38</td></tr><tr><td>2019-05-17T00:00:00.000+0000</td><td>38</td></tr><tr><td>2021-05-28T00:00:00.000+0000</td><td>38</td></tr><tr><td>2022-05-18T00:00:00.000+0000</td><td>37</td></tr><tr><td>2018-09-20T00:00:00.000+0000</td><td>37</td></tr><tr><td>2022-02-25T00:00:00.000+0000</td><td>37</td></tr><tr><td>2019-04-25T00:00:00.000+0000</td><td>37</td></tr><tr><td>2021-11-16T00:00:00.000+0000</td><td>37</td></tr><tr><td>2019-04-30T00:00:00.000+0000</td><td>37</td></tr><tr><td>2022-08-19T00:00:00.000+0000</td><td>37</td></tr><tr><td>2018-03-15T00:00:00.000+0000</td><td>37</td></tr><tr><td>2022-03-17T00:00:00.000+0000</td><td>37</td></tr><tr><td>2020-12-03T00:00:00.000+0000</td><td>37</td></tr><tr><td>2019-03-01T00:00:00.000+0000</td><td>37</td></tr><tr><td>2020-09-10T00:00:00.000+0000</td><td>37</td></tr><tr><td>2019-05-24T00:00:00.000+0000</td><td>37</td></tr><tr><td>2020-09-01T00:00:00.000+0000</td><td>37</td></tr><tr><td>2017-09-19T00:00:00.000+0000</td><td>37</td></tr><tr><td>2022-10-24T00:00:00.000+0000</td><td>37</td></tr><tr><td>2021-10-19T00:00:00.000+0000</td><td>37</td></tr><tr><td>2021-05-14T00:00:00.000+0000</td><td>37</td></tr><tr><td>2022-05-25T00:00:00.000+0000</td><td>37</td></tr><tr><td>2022-09-23T00:00:00.000+0000</td><td>37</td></tr><tr><td>2018-03-07T00:00:00.000+0000</td><td>37</td></tr><tr><td>2022-04-22T00:00:00.000+0000</td><td>37</td></tr><tr><td>2020-07-10T00:00:00.000+0000</td><td>37</td></tr><tr><td>2022-10-26T00:00:00.000+0000</td><td>37</td></tr><tr><td>2022-03-11T00:00:00.000+0000</td><td>37</td></tr><tr><td>2019-05-16T00:00:00.000+0000</td><td>37</td></tr><tr><td>2018-08-23T00:00:00.000+0000</td><td>37</td></tr><tr><td>2020-05-27T00:00:00.000+0000</td><td>37</td></tr><tr><td>2022-01-27T00:00:00.000+0000</td><td>37</td></tr><tr><td>2021-10-26T00:00:00.000+0000</td><td>37</td></tr><tr><td>2021-05-06T00:00:00.000+0000</td><td>37</td></tr><tr><td>2022-09-27T00:00:00.000+0000</td><td>37</td></tr><tr><td>2019-04-05T00:00:00.000+0000</td><td>37</td></tr><tr><td>2022-03-24T00:00:00.000+0000</td><td>37</td></tr><tr><td>2021-08-31T00:00:00.000+0000</td><td>37</td></tr><tr><td>2017-10-13T00:00:00.000+0000</td><td>37</td></tr><tr><td>2022-03-10T00:00:00.000+0000</td><td>37</td></tr><tr><td>2022-08-30T00:00:00.000+0000</td><td>37</td></tr><tr><td>2018-09-13T00:00:00.000+0000</td><td>37</td></tr><tr><td>2018-06-01T00:00:00.000+0000</td><td>36</td></tr><tr><td>2021-08-05T00:00:00.000+0000</td><td>36</td></tr><tr><td>2017-04-18T00:00:00.000+0000</td><td>36</td></tr><tr><td>2018-03-12T00:00:00.000+0000</td><td>36</td></tr><tr><td>2020-02-27T00:00:00.000+0000</td><td>36</td></tr><tr><td>2020-11-13T00:00:00.000+0000</td><td>36</td></tr><tr><td>2017-08-25T00:00:00.000+0000</td><td>36</td></tr><tr><td>2021-08-20T00:00:00.000+0000</td><td>36</td></tr><tr><td>2021-04-01T00:00:00.000+0000</td><td>36</td></tr><tr><td>2017-07-14T00:00:00.000+0000</td><td>36</td></tr><tr><td>2022-10-21T00:00:00.000+0000</td><td>36</td></tr><tr><td>2019-03-15T00:00:00.000+0000</td><td>36</td></tr><tr><td>2017-12-08T00:00:00.000+0000</td><td>36</td></tr><tr><td>2020-12-01T00:00:00.000+0000</td><td>36</td></tr><tr><td>2018-08-31T00:00:00.000+0000</td><td>36</td></tr><tr><td>2022-11-01T00:00:00.000+0000</td><td>36</td></tr><tr><td>2019-04-26T00:00:00.000+0000</td><td>36</td></tr><tr><td>2017-09-01T00:00:00.000+0000</td><td>36</td></tr><tr><td>2020-02-13T00:00:00.000+0000</td><td>36</td></tr><tr><td>2020-12-07T00:00:00.000+0000</td><td>36</td></tr><tr><td>2018-02-14T00:00:00.000+0000</td><td>36</td></tr><tr><td>2022-08-26T00:00:00.000+0000</td><td>36</td></tr><tr><td>2017-08-31T00:00:00.000+0000</td><td>36</td></tr><tr><td>2020-03-26T00:00:00.000+0000</td><td>36</td></tr><tr><td>2017-10-20T00:00:00.000+0000</td><td>36</td></tr><tr><td>2018-02-22T00:00:00.000+0000</td><td>36</td></tr><tr><td>2019-10-31T00:00:00.000+0000</td><td>36</td></tr><tr><td>2021-12-09T00:00:00.000+0000</td><td>36</td></tr><tr><td>2018-11-29T00:00:00.000+0000</td><td>36</td></tr><tr><td>2020-12-10T00:00:00.000+0000</td><td>36</td></tr><tr><td>2018-05-15T00:00:00.000+0000</td><td>35</td></tr><tr><td>2020-09-17T00:00:00.000+0000</td><td>35</td></tr><tr><td>2017-10-05T00:00:00.000+0000</td><td>35</td></tr><tr><td>2022-06-03T00:00:00.000+0000</td><td>35</td></tr><tr><td>2018-07-12T00:00:00.000+0000</td><td>35</td></tr><tr><td>2016-07-26T00:00:00.000+0000</td><td>35</td></tr><tr><td>2020-12-22T00:00:00.000+0000</td><td>35</td></tr><tr><td>2019-08-08T00:00:00.000+0000</td><td>35</td></tr><tr><td>2022-06-21T00:00:00.000+0000</td><td>35</td></tr><tr><td>2021-05-21T00:00:00.000+0000</td><td>35</td></tr><tr><td>2019-09-05T00:00:00.000+0000</td><td>35</td></tr><tr><td>2018-11-02T00:00:00.000+0000</td><td>35</td></tr><tr><td>2021-10-20T00:00:00.000+0000</td><td>35</td></tr><tr><td>2022-08-31T00:00:00.000+0000</td><td>35</td></tr><tr><td>2017-12-07T00:00:00.000+0000</td><td>35</td></tr><tr><td>2019-07-30T00:00:00.000+0000</td><td>35</td></tr><tr><td>2022-02-04T00:00:00.000+0000</td><td>35</td></tr><tr><td>2020-10-13T00:00:00.000+0000</td><td>35</td></tr><tr><td>2022-05-06T00:00:00.000+0000</td><td>35</td></tr><tr><td>2020-11-02T00:00:00.000+0000</td><td>35</td></tr><tr><td>2019-04-11T00:00:00.000+0000</td><td>35</td></tr><tr><td>2019-02-27T00:00:00.000+0000</td><td>35</td></tr><tr><td>2022-04-20T00:00:00.000+0000</td><td>35</td></tr><tr><td>2021-02-12T00:00:00.000+0000</td><td>35</td></tr><tr><td>2018-09-27T00:00:00.000+0000</td><td>35</td></tr><tr><td>2021-10-06T00:00:00.000+0000</td><td>35</td></tr><tr><td>2017-07-20T00:00:00.000+0000</td><td>35</td></tr><tr><td>2021-09-28T00:00:00.000+0000</td><td>35</td></tr><tr><td>2017-03-17T00:00:00.000+0000</td><td>35</td></tr><tr><td>2022-08-01T00:00:00.000+0000</td><td>35</td></tr><tr><td>2018-04-19T00:00:00.000+0000</td><td>35</td></tr><tr><td>2018-09-06T00:00:00.000+0000</td><td>35</td></tr><tr><td>2019-08-15T00:00:00.000+0000</td><td>35</td></tr><tr><td>2022-06-15T00:00:00.000+0000</td><td>35</td></tr><tr><td>2018-02-28T00:00:00.000+0000</td><td>35</td></tr><tr><td>2018-08-03T00:00:00.000+0000</td><td>35</td></tr><tr><td>2022-03-03T00:00:00.000+0000</td><td>35</td></tr><tr><td>2021-02-17T00:00:00.000+0000</td><td>35</td></tr><tr><td>2022-03-29T00:00:00.000+0000</td><td>35</td></tr><tr><td>2018-01-31T00:00:00.000+0000</td><td>34</td></tr><tr><td>2020-06-19T00:00:00.000+0000</td><td>34</td></tr><tr><td>2018-12-19T00:00:00.000+0000</td><td>34</td></tr><tr><td>2021-09-02T00:00:00.000+0000</td><td>34</td></tr><tr><td>2020-07-24T00:00:00.000+0000</td><td>34</td></tr><tr><td>2020-11-04T00:00:00.000+0000</td><td>34</td></tr><tr><td>2018-06-28T00:00:00.000+0000</td><td>34</td></tr><tr><td>2021-03-01T00:00:00.000+0000</td><td>34</td></tr><tr><td>2017-03-31T00:00:00.000+0000</td><td>34</td></tr><tr><td>2018-11-08T00:00:00.000+0000</td><td>34</td></tr><tr><td>2020-09-18T00:00:00.000+0000</td><td>34</td></tr><tr><td>2020-05-01T00:00:00.000+0000</td><td>34</td></tr><tr><td>2020-03-13T00:00:00.000+0000</td><td>34</td></tr><tr><td>2021-07-23T00:00:00.000+0000</td><td>34</td></tr><tr><td>2021-09-10T00:00:00.000+0000</td><td>34</td></tr><tr><td>2019-04-04T00:00:00.000+0000</td><td>34</td></tr><tr><td>2022-09-22T00:00:00.000+0000</td><td>34</td></tr><tr><td>2018-07-20T00:00:00.000+0000</td><td>34</td></tr><tr><td>2019-05-30T00:00:00.000+0000</td><td>34</td></tr><tr><td>2022-07-14T00:00:00.000+0000</td><td>34</td></tr><tr><td>2019-04-19T00:00:00.000+0000</td><td>34</td></tr><tr><td>2022-10-06T00:00:00.000+0000</td><td>34</td></tr><tr><td>2020-07-28T00:00:00.000+0000</td><td>34</td></tr><tr><td>2022-08-03T00:00:00.000+0000</td><td>34</td></tr><tr><td>2020-09-22T00:00:00.000+0000</td><td>34</td></tr><tr><td>2022-03-15T00:00:00.000+0000</td><td>34</td></tr><tr><td>2016-08-25T00:00:00.000+0000</td><td>34</td></tr><tr><td>2021-08-13T00:00:00.000+0000</td><td>34</td></tr><tr><td>2022-06-30T00:00:00.000+0000</td><td>34</td></tr><tr><td>2017-11-10T00:00:00.000+0000</td><td>34</td></tr><tr><td>2022-10-17T00:00:00.000+0000</td><td>34</td></tr><tr><td>2018-03-26T00:00:00.000+0000</td><td>34</td></tr><tr><td>2017-11-20T00:00:00.000+0000</td><td>34</td></tr><tr><td>2017-12-14T00:00:00.000+0000</td><td>34</td></tr><tr><td>2022-02-22T00:00:00.000+0000</td><td>34</td></tr><tr><td>2019-07-26T00:00:00.000+0000</td><td>34</td></tr><tr><td>2021-06-11T00:00:00.000+0000</td><td>34</td></tr><tr><td>2021-03-19T00:00:00.000+0000</td><td>34</td></tr><tr><td>2017-10-06T00:00:00.000+0000</td><td>34</td></tr><tr><td>2018-10-05T00:00:00.000+0000</td><td>34</td></tr><tr><td>2022-07-11T00:00:00.000+0000</td><td>34</td></tr><tr><td>2018-12-21T00:00:00.000+0000</td><td>34</td></tr><tr><td>2021-11-17T00:00:00.000+0000</td><td>34</td></tr><tr><td>2017-07-27T00:00:00.000+0000</td><td>34</td></tr><tr><td>2019-08-29T00:00:00.000+0000</td><td>34</td></tr><tr><td>2019-10-10T00:00:00.000+0000</td><td>33</td></tr><tr><td>2019-09-11T00:00:00.000+0000</td><td>33</td></tr><tr><td>2020-06-11T00:00:00.000+0000</td><td>33</td></tr><tr><td>2021-05-07T00:00:00.000+0000</td><td>33</td></tr><tr><td>2022-03-25T00:00:00.000+0000</td><td>33</td></tr><tr><td>2021-09-23T00:00:00.000+0000</td><td>33</td></tr><tr><td>2020-01-30T00:00:00.000+0000</td><td>33</td></tr><tr><td>2022-03-02T00:00:00.000+0000</td><td>33</td></tr><tr><td>2019-11-07T00:00:00.000+0000</td><td>33</td></tr><tr><td>2016-10-27T00:00:00.000+0000</td><td>33</td></tr><tr><td>2021-12-20T00:00:00.000+0000</td><td>33</td></tr><tr><td>2022-08-05T00:00:00.000+0000</td><td>33</td></tr><tr><td>2017-12-21T00:00:00.000+0000</td><td>33</td></tr><tr><td>2019-06-20T00:00:00.000+0000</td><td>33</td></tr><tr><td>2021-12-14T00:00:00.000+0000</td><td>33</td></tr><tr><td>2020-06-25T00:00:00.000+0000</td><td>33</td></tr><tr><td>2017-10-16T00:00:00.000+0000</td><td>33</td></tr><tr><td>2020-02-28T00:00:00.000+0000</td><td>33</td></tr><tr><td>2018-02-20T00:00:00.000+0000</td><td>33</td></tr><tr><td>2021-12-07T00:00:00.000+0000</td><td>33</td></tr><tr><td>2017-09-22T00:00:00.000+0000</td><td>33</td></tr><tr><td>2018-10-11T00:00:00.000+0000</td><td>33</td></tr><tr><td>2020-05-08T00:00:00.000+0000</td><td>33</td></tr><tr><td>2022-02-18T00:00:00.000+0000</td><td>33</td></tr><tr><td>2017-10-24T00:00:00.000+0000</td><td>33</td></tr><tr><td>2017-10-25T00:00:00.000+0000</td><td>33</td></tr><tr><td>2018-05-09T00:00:00.000+0000</td><td>33</td></tr><tr><td>2020-09-29T00:00:00.000+0000</td><td>33</td></tr><tr><td>2018-02-01T00:00:00.000+0000</td><td>33</td></tr><tr><td>2020-10-28T00:00:00.000+0000</td><td>33</td></tr><tr><td>2017-08-04T00:00:00.000+0000</td><td>33</td></tr><tr><td>2022-10-11T00:00:00.000+0000</td><td>33</td></tr><tr><td>2019-01-25T00:00:00.000+0000</td><td>33</td></tr><tr><td>2019-12-11T00:00:00.000+0000</td><td>33</td></tr><tr><td>2019-10-17T00:00:00.000+0000</td><td>33</td></tr><tr><td>2021-05-31T00:00:00.000+0000</td><td>33</td></tr><tr><td>2020-04-16T00:00:00.000+0000</td><td>33</td></tr><tr><td>2021-03-15T00:00:00.000+0000</td><td>33</td></tr><tr><td>2017-11-22T00:00:00.000+0000</td><td>33</td></tr><tr><td>2020-09-04T00:00:00.000+0000</td><td>33</td></tr><tr><td>2021-08-06T00:00:00.000+0000</td><td>33</td></tr><tr><td>2018-12-07T00:00:00.000+0000</td><td>33</td></tr><tr><td>2017-09-21T00:00:00.000+0000</td><td>33</td></tr><tr><td>2019-01-18T00:00:00.000+0000</td><td>33</td></tr><tr><td>2018-06-05T00:00:00.000+0000</td><td>33</td></tr><tr><td>2021-11-30T00:00:00.000+0000</td><td>33</td></tr><tr><td>2017-11-17T00:00:00.000+0000</td><td>33</td></tr><tr><td>2019-07-18T00:00:00.000+0000</td><td>33</td></tr><tr><td>2018-07-27T00:00:00.000+0000</td><td>32</td></tr><tr><td>2021-03-03T00:00:00.000+0000</td><td>32</td></tr><tr><td>2017-10-19T00:00:00.000+0000</td><td>32</td></tr><tr><td>2022-09-14T00:00:00.000+0000</td><td>32</td></tr><tr><td>2019-12-05T00:00:00.000+0000</td><td>32</td></tr><tr><td>2020-04-24T00:00:00.000+0000</td><td>32</td></tr><tr><td>2020-12-18T00:00:00.000+0000</td><td>32</td></tr><tr><td>2021-04-09T00:00:00.000+0000</td><td>32</td></tr><tr><td>2017-11-29T00:00:00.000+0000</td><td>32</td></tr><tr><td>2021-11-01T00:00:00.000+0000</td><td>32</td></tr><tr><td>2017-07-21T00:00:00.000+0000</td><td>32</td></tr><tr><td>2018-11-01T00:00:00.000+0000</td><td>32</td></tr><tr><td>2017-08-08T00:00:00.000+0000</td><td>32</td></tr><tr><td>2020-05-29T00:00:00.000+0000</td><td>32</td></tr><tr><td>2020-05-21T00:00:00.000+0000</td><td>32</td></tr><tr><td>2019-07-19T00:00:00.000+0000</td><td>32</td></tr><tr><td>2020-03-19T00:00:00.000+0000</td><td>32</td></tr><tr><td>2019-09-30T00:00:00.000+0000</td><td>32</td></tr><tr><td>2020-11-25T00:00:00.000+0000</td><td>32</td></tr><tr><td>2020-10-08T00:00:00.000+0000</td><td>32</td></tr><tr><td>2021-10-12T00:00:00.000+0000</td><td>32</td></tr><tr><td>2018-04-26T00:00:00.000+0000</td><td>32</td></tr><tr><td>2019-09-19T00:00:00.000+0000</td><td>32</td></tr><tr><td>2020-07-03T00:00:00.000+0000</td><td>32</td></tr><tr><td>2021-07-09T00:00:00.000+0000</td><td>32</td></tr><tr><td>2017-08-17T00:00:00.000+0000</td><td>32</td></tr><tr><td>2021-02-24T00:00:00.000+0000</td><td>32</td></tr><tr><td>2020-02-25T00:00:00.000+0000</td><td>32</td></tr><tr><td>2018-05-29T00:00:00.000+0000</td><td>32</td></tr><tr><td>2021-03-23T00:00:00.000+0000</td><td>32</td></tr><tr><td>2018-03-20T00:00:00.000+0000</td><td>32</td></tr><tr><td>2019-09-06T00:00:00.000+0000</td><td>32</td></tr><tr><td>2020-03-20T00:00:00.000+0000</td><td>32</td></tr><tr><td>2019-10-18T00:00:00.000+0000</td><td>32</td></tr><tr><td>2020-06-12T00:00:00.000+0000</td><td>32</td></tr><tr><td>2021-05-05T00:00:00.000+0000</td><td>32</td></tr><tr><td>2017-12-20T00:00:00.000+0000</td><td>32</td></tr><tr><td>2021-07-26T00:00:00.000+0000</td><td>32</td></tr><tr><td>2019-01-22T00:00:00.000+0000</td><td>32</td></tr><tr><td>2020-04-10T00:00:00.000+0000</td><td>32</td></tr><tr><td>2020-03-31T00:00:00.000+0000</td><td>31</td></tr><tr><td>2020-10-09T00:00:00.000+0000</td><td>31</td></tr><tr><td>2019-02-14T00:00:00.000+0000</td><td>31</td></tr><tr><td>2022-05-27T00:00:00.000+0000</td><td>31</td></tr><tr><td>2021-05-17T00:00:00.000+0000</td><td>31</td></tr><tr><td>2021-01-05T00:00:00.000+0000</td><td>31</td></tr><tr><td>2018-05-18T00:00:00.000+0000</td><td>31</td></tr><tr><td>2017-07-13T00:00:00.000+0000</td><td>31</td></tr><tr><td>2018-06-19T00:00:00.000+0000</td><td>31</td></tr><tr><td>2022-08-11T00:00:00.000+0000</td><td>31</td></tr><tr><td>2018-01-18T00:00:00.000+0000</td><td>31</td></tr><tr><td>2017-02-24T00:00:00.000+0000</td><td>31</td></tr><tr><td>2019-08-22T00:00:00.000+0000</td><td>31</td></tr><tr><td>2021-05-20T00:00:00.000+0000</td><td>31</td></tr><tr><td>2020-11-30T00:00:00.000+0000</td><td>31</td></tr><tr><td>2019-05-10T00:00:00.000+0000</td><td>31</td></tr><tr><td>2018-08-01T00:00:00.000+0000</td><td>31</td></tr><tr><td>2021-06-22T00:00:00.000+0000</td><td>31</td></tr><tr><td>2020-04-21T00:00:00.000+0000</td><td>31</td></tr><tr><td>2022-02-09T00:00:00.000+0000</td><td>31</td></tr><tr><td>2019-03-22T00:00:00.000+0000</td><td>31</td></tr><tr><td>2020-06-16T00:00:00.000+0000</td><td>31</td></tr><tr><td>2020-06-23T00:00:00.000+0000</td><td>31</td></tr><tr><td>2021-06-29T00:00:00.000+0000</td><td>31</td></tr><tr><td>2022-04-01T00:00:00.000+0000</td><td>31</td></tr><tr><td>2017-06-15T00:00:00.000+0000</td><td>31</td></tr><tr><td>2018-04-18T00:00:00.000+0000</td><td>31</td></tr><tr><td>2018-10-18T00:00:00.000+0000</td><td>31</td></tr><tr><td>2021-09-01T00:00:00.000+0000</td><td>31</td></tr><tr><td>2022-09-28T00:00:00.000+0000</td><td>31</td></tr><tr><td>2020-05-14T00:00:00.000+0000</td><td>31</td></tr><tr><td>2021-01-15T00:00:00.000+0000</td><td>31</td></tr><tr><td>2018-10-25T00:00:00.000+0000</td><td>31</td></tr><tr><td>2019-03-14T00:00:00.000+0000</td><td>31</td></tr><tr><td>2022-02-21T00:00:00.000+0000</td><td>31</td></tr><tr><td>2016-08-29T00:00:00.000+0000</td><td>31</td></tr><tr><td>2020-09-16T00:00:00.000+0000</td><td>31</td></tr><tr><td>2019-07-12T00:00:00.000+0000</td><td>31</td></tr><tr><td>2022-08-17T00:00:00.000+0000</td><td>31</td></tr><tr><td>2022-01-06T00:00:00.000+0000</td><td>31</td></tr><tr><td>2018-12-04T00:00:00.000+0000</td><td>31</td></tr><tr><td>2022-03-08T00:00:00.000+0000</td><td>31</td></tr><tr><td>2017-10-12T00:00:00.000+0000</td><td>31</td></tr><tr><td>2020-11-11T00:00:00.000+0000</td><td>31</td></tr><tr><td>2019-01-17T00:00:00.000+0000</td><td>31</td></tr><tr><td>2019-05-28T00:00:00.000+0000</td><td>31</td></tr><tr><td>2018-09-21T00:00:00.000+0000</td><td>31</td></tr><tr><td>2020-07-14T00:00:00.000+0000</td><td>31</td></tr><tr><td>2022-06-23T00:00:00.000+0000</td><td>31</td></tr><tr><td>2017-12-06T00:00:00.000+0000</td><td>31</td></tr><tr><td>2019-09-13T00:00:00.000+0000</td><td>31</td></tr><tr><td>2018-07-19T00:00:00.000+0000</td><td>31</td></tr><tr><td>2019-09-20T00:00:00.000+0000</td><td>31</td></tr><tr><td>2021-12-21T00:00:00.000+0000</td><td>31</td></tr><tr><td>2020-11-26T00:00:00.000+0000</td><td>31</td></tr><tr><td>2022-04-07T00:00:00.000+0000</td><td>30</td></tr><tr><td>2018-08-16T00:00:00.000+0000</td><td>30</td></tr><tr><td>2017-06-08T00:00:00.000+0000</td><td>30</td></tr><tr><td>2022-06-09T00:00:00.000+0000</td><td>30</td></tr><tr><td>2017-11-07T00:00:00.000+0000</td><td>30</td></tr><tr><td>2021-09-29T00:00:00.000+0000</td><td>30</td></tr><tr><td>2021-07-16T00:00:00.000+0000</td><td>30</td></tr><tr><td>2021-05-13T00:00:00.000+0000</td><td>30</td></tr><tr><td>2017-10-26T00:00:00.000+0000</td><td>30</td></tr><tr><td>2021-05-19T00:00:00.000+0000</td><td>30</td></tr><tr><td>2022-06-10T00:00:00.000+0000</td><td>30</td></tr><tr><td>2018-11-06T00:00:00.000+0000</td><td>30</td></tr><tr><td>2019-08-16T00:00:00.000+0000</td><td>30</td></tr><tr><td>2018-03-01T00:00:00.000+0000</td><td>30</td></tr><tr><td>2022-09-16T00:00:00.000+0000</td><td>30</td></tr><tr><td>2018-02-23T00:00:00.000+0000</td><td>30</td></tr><tr><td>2018-05-10T00:00:00.000+0000</td><td>30</td></tr><tr><td>2022-10-07T00:00:00.000+0000</td><td>30</td></tr><tr><td>2021-11-09T00:00:00.000+0000</td><td>30</td></tr><tr><td>2020-09-21T00:00:00.000+0000</td><td>30</td></tr><tr><td>2022-03-23T00:00:00.000+0000</td><td>30</td></tr><tr><td>2020-08-25T00:00:00.000+0000</td><td>30</td></tr><tr><td>2018-09-18T00:00:00.000+0000</td><td>30</td></tr><tr><td>2017-09-28T00:00:00.000+0000</td><td>30</td></tr><tr><td>2020-10-21T00:00:00.000+0000</td><td>30</td></tr><tr><td>2019-05-21T00:00:00.000+0000</td><td>30</td></tr><tr><td>2018-10-17T00:00:00.000+0000</td><td>30</td></tr><tr><td>2018-07-31T00:00:00.000+0000</td><td>30</td></tr><tr><td>2021-02-16T00:00:00.000+0000</td><td>30</td></tr><tr><td>2017-10-18T00:00:00.000+0000</td><td>30</td></tr><tr><td>2017-09-07T00:00:00.000+0000</td><td>30</td></tr><tr><td>2017-12-19T00:00:00.000+0000</td><td>30</td></tr><tr><td>2020-03-06T00:00:00.000+0000</td><td>30</td></tr><tr><td>2018-08-10T00:00:00.000+0000</td><td>30</td></tr><tr><td>2019-08-23T00:00:00.000+0000</td><td>30</td></tr><tr><td>2017-09-26T00:00:00.000+0000</td><td>30</td></tr><tr><td>2020-05-07T00:00:00.000+0000</td><td>30</td></tr><tr><td>2022-02-17T00:00:00.000+0000</td><td>30</td></tr><tr><td>2020-04-23T00:00:00.000+0000</td><td>30</td></tr><tr><td>2020-01-23T00:00:00.000+0000</td><td>30</td></tr><tr><td>2021-11-08T00:00:00.000+0000</td><td>30</td></tr><tr><td>2018-06-21T00:00:00.000+0000</td><td>30</td></tr><tr><td>2017-10-17T00:00:00.000+0000</td><td>30</td></tr><tr><td>2018-10-15T00:00:00.000+0000</td><td>30</td></tr><tr><td>2022-10-12T00:00:00.000+0000</td><td>30</td></tr><tr><td>2021-02-11T00:00:00.000+0000</td><td>30</td></tr><tr><td>2017-11-30T00:00:00.000+0000</td><td>30</td></tr><tr><td>2021-07-14T00:00:00.000+0000</td><td>30</td></tr><tr><td>2019-10-22T00:00:00.000+0000</td><td>30</td></tr><tr><td>2022-07-22T00:00:00.000+0000</td><td>30</td></tr><tr><td>2018-02-06T00:00:00.000+0000</td><td>30</td></tr><tr><td>2018-12-18T00:00:00.000+0000</td><td>30</td></tr><tr><td>2019-12-19T00:00:00.000+0000</td><td>30</td></tr><tr><td>2018-10-01T00:00:00.000+0000</td><td>30</td></tr><tr><td>2022-09-08T00:00:00.000+0000</td><td>30</td></tr><tr><td>2021-03-24T00:00:00.000+0000</td><td>30</td></tr><tr><td>2019-11-15T00:00:00.000+0000</td><td>30</td></tr><tr><td>2018-01-26T00:00:00.000+0000</td><td>30</td></tr><tr><td>2021-02-01T00:00:00.000+0000</td><td>30</td></tr><tr><td>2022-07-19T00:00:00.000+0000</td><td>30</td></tr><tr><td>2021-01-06T00:00:00.000+0000</td><td>30</td></tr><tr><td>2016-11-18T00:00:00.000+0000</td><td>29</td></tr><tr><td>2017-08-02T00:00:00.000+0000</td><td>29</td></tr><tr><td>2018-09-25T00:00:00.000+0000</td><td>29</td></tr><tr><td>2018-11-12T00:00:00.000+0000</td><td>29</td></tr><tr><td>2019-10-04T00:00:00.000+0000</td><td>29</td></tr><tr><td>2022-05-11T00:00:00.000+0000</td><td>29</td></tr><tr><td>2022-09-20T00:00:00.000+0000</td><td>29</td></tr><tr><td>2017-10-10T00:00:00.000+0000</td><td>29</td></tr><tr><td>2017-11-14T00:00:00.000+0000</td><td>29</td></tr><tr><td>2021-11-24T00:00:00.000+0000</td><td>29</td></tr><tr><td>2018-06-12T00:00:00.000+0000</td><td>29</td></tr><tr><td>2019-12-20T00:00:00.000+0000</td><td>29</td></tr><tr><td>2021-03-10T00:00:00.000+0000</td><td>29</td></tr><tr><td>2021-08-12T00:00:00.000+0000</td><td>29</td></tr><tr><td>2021-01-20T00:00:00.000+0000</td><td>29</td></tr><tr><td>2020-09-07T00:00:00.000+0000</td><td>29</td></tr><tr><td>2020-11-17T00:00:00.000+0000</td><td>29</td></tr><tr><td>2016-12-13T00:00:00.000+0000</td><td>29</td></tr><tr><td>2022-02-03T00:00:00.000+0000</td><td>29</td></tr><tr><td>2021-12-22T00:00:00.000+0000</td><td>29</td></tr><tr><td>2020-11-18T00:00:00.000+0000</td><td>29</td></tr><tr><td>2016-09-02T00:00:00.000+0000</td><td>29</td></tr><tr><td>2018-09-26T00:00:00.000+0000</td><td>29</td></tr><tr><td>2019-03-07T00:00:00.000+0000</td><td>29</td></tr><tr><td>2018-05-08T00:00:00.000+0000</td><td>29</td></tr><tr><td>2019-11-20T00:00:00.000+0000</td><td>29</td></tr><tr><td>2020-11-10T00:00:00.000+0000</td><td>29</td></tr><tr><td>2018-07-17T00:00:00.000+0000</td><td>29</td></tr><tr><td>2022-01-28T00:00:00.000+0000</td><td>29</td></tr><tr><td>2018-12-03T00:00:00.000+0000</td><td>29</td></tr><tr><td>2018-09-12T00:00:00.000+0000</td><td>29</td></tr><tr><td>2022-03-14T00:00:00.000+0000</td><td>29</td></tr><tr><td>2018-07-06T00:00:00.000+0000</td><td>29</td></tr><tr><td>2018-08-08T00:00:00.000+0000</td><td>29</td></tr><tr><td>2016-11-17T00:00:00.000+0000</td><td>29</td></tr><tr><td>2018-03-22T00:00:00.000+0000</td><td>29</td></tr><tr><td>2020-06-30T00:00:00.000+0000</td><td>29</td></tr><tr><td>2019-09-03T00:00:00.000+0000</td><td>29</td></tr><tr><td>2022-07-13T00:00:00.000+0000</td><td>29</td></tr><tr><td>2022-08-12T00:00:00.000+0000</td><td>29</td></tr><tr><td>2020-10-27T00:00:00.000+0000</td><td>29</td></tr><tr><td>2018-03-16T00:00:00.000+0000</td><td>29</td></tr><tr><td>2020-02-21T00:00:00.000+0000</td><td>29</td></tr><tr><td>2020-06-15T00:00:00.000+0000</td><td>29</td></tr><tr><td>2019-08-07T00:00:00.000+0000</td><td>29</td></tr><tr><td>2021-02-10T00:00:00.000+0000</td><td>29</td></tr><tr><td>2022-06-02T00:00:00.000+0000</td><td>29</td></tr><tr><td>2020-05-19T00:00:00.000+0000</td><td>29</td></tr><tr><td>2021-03-02T00:00:00.000+0000</td><td>29</td></tr><tr><td>2018-10-26T00:00:00.000+0000</td><td>29</td></tr><tr><td>2018-12-28T00:00:00.000+0000</td><td>29</td></tr><tr><td>2021-07-27T00:00:00.000+0000</td><td>29</td></tr><tr><td>2022-03-30T00:00:00.000+0000</td><td>29</td></tr><tr><td>2017-09-08T00:00:00.000+0000</td><td>29</td></tr><tr><td>2021-03-16T00:00:00.000+0000</td><td>28</td></tr><tr><td>2022-10-10T00:00:00.000+0000</td><td>28</td></tr><tr><td>2022-04-14T00:00:00.000+0000</td><td>28</td></tr><tr><td>2021-09-08T00:00:00.000+0000</td><td>28</td></tr><tr><td>2019-06-06T00:00:00.000+0000</td><td>28</td></tr><tr><td>2016-10-19T00:00:00.000+0000</td><td>28</td></tr><tr><td>2018-05-25T00:00:00.000+0000</td><td>28</td></tr><tr><td>2019-10-25T00:00:00.000+0000</td><td>28</td></tr><tr><td>2020-08-03T00:00:00.000+0000</td><td>28</td></tr><tr><td>2021-04-20T00:00:00.000+0000</td><td>28</td></tr><tr><td>2022-05-02T00:00:00.000+0000</td><td>28</td></tr><tr><td>2019-08-14T00:00:00.000+0000</td><td>28</td></tr><tr><td>2022-10-18T00:00:00.000+0000</td><td>28</td></tr><tr><td>2019-08-27T00:00:00.000+0000</td><td>28</td></tr><tr><td>2019-02-19T00:00:00.000+0000</td><td>28</td></tr><tr><td>2020-08-11T00:00:00.000+0000</td><td>28</td></tr><tr><td>2018-11-14T00:00:00.000+0000</td><td>28</td></tr><tr><td>2020-02-06T00:00:00.000+0000</td><td>28</td></tr><tr><td>2021-01-14T00:00:00.000+0000</td><td>28</td></tr><tr><td>2020-02-24T00:00:00.000+0000</td><td>28</td></tr><tr><td>2020-05-20T00:00:00.000+0000</td><td>28</td></tr><tr><td>2018-03-27T00:00:00.000+0000</td><td>28</td></tr><tr><td>2021-01-07T00:00:00.000+0000</td><td>28</td></tr><tr><td>2022-04-15T00:00:00.000+0000</td><td>28</td></tr><tr><td>2022-08-22T00:00:00.000+0000</td><td>28</td></tr><tr><td>2017-07-31T00:00:00.000+0000</td><td>28</td></tr><tr><td>2022-03-09T00:00:00.000+0000</td><td>28</td></tr><tr><td>2018-09-05T00:00:00.000+0000</td><td>28</td></tr><tr><td>2019-03-11T00:00:00.000+0000</td><td>28</td></tr><tr><td>2022-08-09T00:00:00.000+0000</td><td>28</td></tr><tr><td>2022-07-12T00:00:00.000+0000</td><td>28</td></tr><tr><td>2014-05-05T00:00:00.000+0000</td><td>28</td></tr><tr><td>2018-09-07T00:00:00.000+0000</td><td>28</td></tr><tr><td>2019-01-23T00:00:00.000+0000</td><td>28</td></tr><tr><td>2020-12-24T00:00:00.000+0000</td><td>28</td></tr><tr><td>2019-11-08T00:00:00.000+0000</td><td>28</td></tr><tr><td>2018-04-30T00:00:00.000+0000</td><td>28</td></tr><tr><td>2020-09-23T00:00:00.000+0000</td><td>28</td></tr><tr><td>2019-05-09T00:00:00.000+0000</td><td>28</td></tr><tr><td>2017-12-12T00:00:00.000+0000</td><td>28</td></tr><tr><td>2016-12-20T00:00:00.000+0000</td><td>28</td></tr><tr><td>2019-02-08T00:00:00.000+0000</td><td>28</td></tr><tr><td>2020-08-13T00:00:00.000+0000</td><td>28</td></tr><tr><td>2021-08-02T00:00:00.000+0000</td><td>28</td></tr><tr><td>2020-10-02T00:00:00.000+0000</td><td>28</td></tr><tr><td>2019-11-22T00:00:00.000+0000</td><td>28</td></tr><tr><td>2020-01-28T00:00:00.000+0000</td><td>28</td></tr><tr><td>2018-04-12T00:00:00.000+0000</td><td>28</td></tr><tr><td>2020-12-17T00:00:00.000+0000</td><td>28</td></tr><tr><td>2021-02-23T00:00:00.000+0000</td><td>28</td></tr><tr><td>2017-09-27T00:00:00.000+0000</td><td>28</td></tr><tr><td>2018-12-11T00:00:00.000+0000</td><td>28</td></tr><tr><td>2019-12-18T00:00:00.000+0000</td><td>28</td></tr><tr><td>2020-11-09T00:00:00.000+0000</td><td>28</td></tr><tr><td>2017-08-03T00:00:00.000+0000</td><td>28</td></tr><tr><td>2018-12-17T00:00:00.000+0000</td><td>28</td></tr><tr><td>2019-06-07T00:00:00.000+0000</td><td>28</td></tr><tr><td>2022-01-17T00:00:00.000+0000</td><td>28</td></tr><tr><td>2018-07-25T00:00:00.000+0000</td><td>28</td></tr><tr><td>2018-05-11T00:00:00.000+0000</td><td>27</td></tr><tr><td>2017-07-25T00:00:00.000+0000</td><td>27</td></tr><tr><td>2018-03-05T00:00:00.000+0000</td><td>27</td></tr><tr><td>2020-12-02T00:00:00.000+0000</td><td>27</td></tr><tr><td>2018-07-30T00:00:00.000+0000</td><td>27</td></tr><tr><td>2017-03-10T00:00:00.000+0000</td><td>27</td></tr><tr><td>2020-01-03T00:00:00.000+0000</td><td>27</td></tr><tr><td>2022-09-02T00:00:00.000+0000</td><td>27</td></tr><tr><td>2022-08-08T00:00:00.000+0000</td><td>27</td></tr><tr><td>2021-11-26T00:00:00.000+0000</td><td>27</td></tr><tr><td>2017-08-29T00:00:00.000+0000</td><td>27</td></tr><tr><td>2016-09-22T00:00:00.000+0000</td><td>27</td></tr><tr><td>2017-04-28T00:00:00.000+0000</td><td>27</td></tr><tr><td>2020-04-14T00:00:00.000+0000</td><td>27</td></tr><tr><td>2020-04-09T00:00:00.000+0000</td><td>27</td></tr><tr><td>2019-07-10T00:00:00.000+0000</td><td>27</td></tr><tr><td>2021-06-03T00:00:00.000+0000</td><td>27</td></tr><tr><td>2020-01-31T00:00:00.000+0000</td><td>27</td></tr><tr><td>2021-06-25T00:00:00.000+0000</td><td>27</td></tr><tr><td>2017-12-05T00:00:00.000+0000</td><td>27</td></tr><tr><td>2022-07-01T00:00:00.000+0000</td><td>27</td></tr><tr><td>2020-07-29T00:00:00.000+0000</td><td>27</td></tr><tr><td>2021-12-08T00:00:00.000+0000</td><td>27</td></tr><tr><td>2019-08-02T00:00:00.000+0000</td><td>27</td></tr><tr><td>2018-03-13T00:00:00.000+0000</td><td>27</td></tr><tr><td>2018-06-06T00:00:00.000+0000</td><td>27</td></tr><tr><td>2019-04-29T00:00:00.000+0000</td><td>27</td></tr><tr><td>2020-07-15T00:00:00.000+0000</td><td>27</td></tr><tr><td>2018-10-09T00:00:00.000+0000</td><td>27</td></tr><tr><td>2017-11-09T00:00:00.000+0000</td><td>27</td></tr><tr><td>2019-10-03T00:00:00.000+0000</td><td>27</td></tr><tr><td>2017-07-28T00:00:00.000+0000</td><td>27</td></tr><tr><td>2021-04-22T00:00:00.000+0000</td><td>27</td></tr><tr><td>2020-08-26T00:00:00.000+0000</td><td>27</td></tr><tr><td>2021-08-19T00:00:00.000+0000</td><td>27</td></tr><tr><td>2020-03-27T00:00:00.000+0000</td><td>27</td></tr><tr><td>2022-05-09T00:00:00.000+0000</td><td>27</td></tr><tr><td>2020-12-16T00:00:00.000+0000</td><td>27</td></tr><tr><td>2018-07-10T00:00:00.000+0000</td><td>27</td></tr><tr><td>2020-07-22T00:00:00.000+0000</td><td>27</td></tr><tr><td>2020-06-05T00:00:00.000+0000</td><td>27</td></tr><tr><td>2020-06-17T00:00:00.000+0000</td><td>27</td></tr><tr><td>2017-08-01T00:00:00.000+0000</td><td>27</td></tr><tr><td>2018-03-28T00:00:00.000+0000</td><td>27</td></tr><tr><td>2016-10-26T00:00:00.000+0000</td><td>27</td></tr><tr><td>2014-06-06T00:00:00.000+0000</td><td>27</td></tr><tr><td>2018-02-05T00:00:00.000+0000</td><td>27</td></tr><tr><td>2019-09-12T00:00:00.000+0000</td><td>27</td></tr><tr><td>2022-10-05T00:00:00.000+0000</td><td>27</td></tr><tr><td>2018-04-02T00:00:00.000+0000</td><td>27</td></tr><tr><td>2021-07-08T00:00:00.000+0000</td><td>26</td></tr><tr><td>2020-05-13T00:00:00.000+0000</td><td>26</td></tr><tr><td>2021-09-07T00:00:00.000+0000</td><td>26</td></tr><tr><td>2021-08-18T00:00:00.000+0000</td><td>26</td></tr><tr><td>2019-03-08T00:00:00.000+0000</td><td>26</td></tr><tr><td>2022-08-24T00:00:00.000+0000</td><td>26</td></tr><tr><td>2017-10-11T00:00:00.000+0000</td><td>26</td></tr><tr><td>2018-12-06T00:00:00.000+0000</td><td>26</td></tr><tr><td>2018-02-07T00:00:00.000+0000</td><td>26</td></tr><tr><td>2020-08-05T00:00:00.000+0000</td><td>26</td></tr><tr><td>2021-04-07T00:00:00.000+0000</td><td>26</td></tr><tr><td>2019-09-23T00:00:00.000+0000</td><td>26</td></tr><tr><td>2021-11-15T00:00:00.000+0000</td><td>26</td></tr><tr><td>2019-06-17T00:00:00.000+0000</td><td>26</td></tr><tr><td>2019-06-28T00:00:00.000+0000</td><td>26</td></tr><tr><td>2016-12-01T00:00:00.000+0000</td><td>26</td></tr><tr><td>2019-11-27T00:00:00.000+0000</td><td>26</td></tr><tr><td>2020-09-08T00:00:00.000+0000</td><td>26</td></tr><tr><td>2018-11-20T00:00:00.000+0000</td><td>26</td></tr><tr><td>2018-08-21T00:00:00.000+0000</td><td>26</td></tr><tr><td>2017-08-10T00:00:00.000+0000</td><td>26</td></tr><tr><td>2018-05-01T00:00:00.000+0000</td><td>26</td></tr><tr><td>2018-05-02T00:00:00.000+0000</td><td>26</td></tr><tr><td>2020-07-21T00:00:00.000+0000</td><td>26</td></tr><tr><td>2018-02-02T00:00:00.000+0000</td><td>26</td></tr><tr><td>2016-03-04T00:00:00.000+0000</td><td>26</td></tr><tr><td>2018-03-06T00:00:00.000+0000</td><td>26</td></tr><tr><td>2018-01-23T00:00:00.000+0000</td><td>26</td></tr><tr><td>2020-07-01T00:00:00.000+0000</td><td>26</td></tr><tr><td>2020-12-23T00:00:00.000+0000</td><td>26</td></tr><tr><td>2021-01-25T00:00:00.000+0000</td><td>26</td></tr><tr><td>2018-11-07T00:00:00.000+0000</td><td>26</td></tr><tr><td>2019-07-23T00:00:00.000+0000</td><td>26</td></tr><tr><td>2018-03-23T00:00:00.000+0000</td><td>26</td></tr><tr><td>2018-07-16T00:00:00.000+0000</td><td>26</td></tr><tr><td>2022-02-28T00:00:00.000+0000</td><td>26</td></tr><tr><td>2022-01-19T00:00:00.000+0000</td><td>26</td></tr><tr><td>2018-06-20T00:00:00.000+0000</td><td>26</td></tr><tr><td>2019-06-25T00:00:00.000+0000</td><td>26</td></tr><tr><td>2019-02-21T00:00:00.000+0000</td><td>26</td></tr><tr><td>2019-06-19T00:00:00.000+0000</td><td>26</td></tr><tr><td>2021-09-03T00:00:00.000+0000</td><td>26</td></tr><tr><td>2022-09-07T00:00:00.000+0000</td><td>26</td></tr><tr><td>2017-08-11T00:00:00.000+0000</td><td>26</td></tr><tr><td>2018-06-08T00:00:00.000+0000</td><td>26</td></tr><tr><td>2018-06-29T00:00:00.000+0000</td><td>26</td></tr><tr><td>2018-10-19T00:00:00.000+0000</td><td>25</td></tr><tr><td>2017-03-24T00:00:00.000+0000</td><td>25</td></tr><tr><td>2020-02-07T00:00:00.000+0000</td><td>25</td></tr><tr><td>2021-08-17T00:00:00.000+0000</td><td>25</td></tr><tr><td>2021-04-02T00:00:00.000+0000</td><td>25</td></tr><tr><td>2020-09-15T00:00:00.000+0000</td><td>25</td></tr><tr><td>2019-09-24T00:00:00.000+0000</td><td>25</td></tr><tr><td>2020-05-18T00:00:00.000+0000</td><td>25</td></tr><tr><td>2018-02-12T00:00:00.000+0000</td><td>25</td></tr><tr><td>2018-08-07T00:00:00.000+0000</td><td>25</td></tr><tr><td>2020-10-06T00:00:00.000+0000</td><td>25</td></tr><tr><td>2016-04-22T00:00:00.000+0000</td><td>25</td></tr><tr><td>2020-03-03T00:00:00.000+0000</td><td>25</td></tr><tr><td>2020-02-12T00:00:00.000+0000</td><td>25</td></tr><tr><td>2022-01-26T00:00:00.000+0000</td><td>25</td></tr><tr><td>2016-10-28T00:00:00.000+0000</td><td>25</td></tr><tr><td>2019-01-30T00:00:00.000+0000</td><td>25</td></tr><tr><td>2016-06-03T00:00:00.000+0000</td><td>25</td></tr><tr><td>2021-08-24T00:00:00.000+0000</td><td>25</td></tr><tr><td>2019-01-24T00:00:00.000+0000</td><td>25</td></tr><tr><td>2018-10-10T00:00:00.000+0000</td><td>25</td></tr><tr><td>2019-01-04T00:00:00.000+0000</td><td>25</td></tr><tr><td>2019-06-11T00:00:00.000+0000</td><td>25</td></tr><tr><td>2021-10-27T00:00:00.000+0000</td><td>25</td></tr><tr><td>2022-02-02T00:00:00.000+0000</td><td>25</td></tr><tr><td>2018-01-19T00:00:00.000+0000</td><td>25</td></tr><tr><td>2018-01-05T00:00:00.000+0000</td><td>25</td></tr><tr><td>2018-06-07T00:00:00.000+0000</td><td>25</td></tr><tr><td>2021-01-27T00:00:00.000+0000</td><td>25</td></tr><tr><td>2019-02-13T00:00:00.000+0000</td><td>25</td></tr><tr><td>2021-09-14T00:00:00.000+0000</td><td>25</td></tr><tr><td>2022-07-27T00:00:00.000+0000</td><td>25</td></tr><tr><td>2019-11-21T00:00:00.000+0000</td><td>25</td></tr><tr><td>2022-06-14T00:00:00.000+0000</td><td>25</td></tr><tr><td>2019-12-16T00:00:00.000+0000</td><td>25</td></tr><tr><td>2022-03-28T00:00:00.000+0000</td><td>25</td></tr><tr><td>2019-05-15T00:00:00.000+0000</td><td>25</td></tr><tr><td>2021-01-18T00:00:00.000+0000</td><td>25</td></tr><tr><td>2019-02-15T00:00:00.000+0000</td><td>25</td></tr><tr><td>2021-06-09T00:00:00.000+0000</td><td>25</td></tr><tr><td>2021-09-21T00:00:00.000+0000</td><td>25</td></tr><tr><td>2018-03-14T00:00:00.000+0000</td><td>25</td></tr><tr><td>2021-08-11T00:00:00.000+0000</td><td>25</td></tr><tr><td>2020-04-01T00:00:00.000+0000</td><td>25</td></tr><tr><td>2022-05-03T00:00:00.000+0000</td><td>25</td></tr><tr><td>2020-12-25T00:00:00.000+0000</td><td>25</td></tr><tr><td>2019-02-26T00:00:00.000+0000</td><td>25</td></tr><tr><td>2020-01-14T00:00:00.000+0000</td><td>25</td></tr><tr><td>2020-05-26T00:00:00.000+0000</td><td>25</td></tr><tr><td>2016-12-19T00:00:00.000+0000</td><td>25</td></tr><tr><td>2022-08-23T00:00:00.000+0000</td><td>25</td></tr><tr><td>2020-10-19T00:00:00.000+0000</td><td>25</td></tr><tr><td>2022-03-16T00:00:00.000+0000</td><td>25</td></tr><tr><td>2018-08-28T00:00:00.000+0000</td><td>25</td></tr><tr><td>2018-11-23T00:00:00.000+0000</td><td>25</td></tr><tr><td>2022-07-20T00:00:00.000+0000</td><td>25</td></tr><tr><td>2022-07-26T00:00:00.000+0000</td><td>25</td></tr><tr><td>2017-06-20T00:00:00.000+0000</td><td>25</td></tr><tr><td>2018-07-02T00:00:00.000+0000</td><td>25</td></tr><tr><td>2022-04-08T00:00:00.000+0000</td><td>25</td></tr><tr><td>2018-06-14T00:00:00.000+0000</td><td>25</td></tr><tr><td>2018-08-15T00:00:00.000+0000</td><td>25</td></tr><tr><td>2018-05-16T00:00:00.000+0000</td><td>25</td></tr><tr><td>2021-05-25T00:00:00.000+0000</td><td>25</td></tr><tr><td>2019-06-13T00:00:00.000+0000</td><td>25</td></tr><tr><td>2018-01-25T00:00:00.000+0000</td><td>25</td></tr><tr><td>2020-03-12T00:00:00.000+0000</td><td>25</td></tr><tr><td>2022-05-24T00:00:00.000+0000</td><td>25</td></tr><tr><td>2020-07-13T00:00:00.000+0000</td><td>24</td></tr><tr><td>2020-07-09T00:00:00.000+0000</td><td>24</td></tr><tr><td>2020-06-26T00:00:00.000+0000</td><td>24</td></tr><tr><td>2022-09-13T00:00:00.000+0000</td><td>24</td></tr><tr><td>2018-11-05T00:00:00.000+0000</td><td>24</td></tr><tr><td>2022-09-06T00:00:00.000+0000</td><td>24</td></tr><tr><td>2019-11-05T00:00:00.000+0000</td><td>24</td></tr><tr><td>2021-08-16T00:00:00.000+0000</td><td>24</td></tr><tr><td>2022-09-12T00:00:00.000+0000</td><td>24</td></tr><tr><td>2020-02-26T00:00:00.000+0000</td><td>24</td></tr><tr><td>2017-02-17T00:00:00.000+0000</td><td>24</td></tr><tr><td>2022-08-10T00:00:00.000+0000</td><td>24</td></tr><tr><td>2018-08-29T00:00:00.000+0000</td><td>24</td></tr><tr><td>2018-09-19T00:00:00.000+0000</td><td>24</td></tr><tr><td>2017-12-13T00:00:00.000+0000</td><td>24</td></tr><tr><td>2021-04-05T00:00:00.000+0000</td><td>24</td></tr><tr><td>2021-07-28T00:00:00.000+0000</td><td>24</td></tr><tr><td>2022-04-27T00:00:00.000+0000</td><td>24</td></tr><tr><td>2022-01-25T00:00:00.000+0000</td><td>24</td></tr><tr><td>2019-11-11T00:00:00.000+0000</td><td>24</td></tr><tr><td>2020-11-23T00:00:00.000+0000</td><td>24</td></tr><tr><td>2017-11-15T00:00:00.000+0000</td><td>24</td></tr><tr><td>2021-07-13T00:00:00.000+0000</td><td>24</td></tr><tr><td>2017-08-07T00:00:00.000+0000</td><td>24</td></tr><tr><td>2018-10-30T00:00:00.000+0000</td><td>24</td></tr><tr><td>2019-07-31T00:00:00.000+0000</td><td>24</td></tr><tr><td>2021-07-21T00:00:00.000+0000</td><td>24</td></tr><tr><td>2018-02-19T00:00:00.000+0000</td><td>24</td></tr><tr><td>2022-03-07T00:00:00.000+0000</td><td>24</td></tr><tr><td>2017-04-21T00:00:00.000+0000</td><td>24</td></tr><tr><td>2017-09-13T00:00:00.000+0000</td><td>24</td></tr><tr><td>2016-09-20T00:00:00.000+0000</td><td>24</td></tr><tr><td>2022-01-11T00:00:00.000+0000</td><td>24</td></tr><tr><td>2022-06-22T00:00:00.000+0000</td><td>24</td></tr><tr><td>2017-03-28T00:00:00.000+0000</td><td>24</td></tr><tr><td>2019-05-29T00:00:00.000+0000</td><td>24</td></tr><tr><td>2020-11-27T00:00:00.000+0000</td><td>24</td></tr><tr><td>2016-08-26T00:00:00.000+0000</td><td>24</td></tr><tr><td>2018-09-03T00:00:00.000+0000</td><td>24</td></tr><tr><td>2017-11-28T00:00:00.000+0000</td><td>24</td></tr><tr><td>2017-05-18T00:00:00.000+0000</td><td>24</td></tr><tr><td>2018-08-13T00:00:00.000+0000</td><td>24</td></tr><tr><td>2022-01-10T00:00:00.000+0000</td><td>24</td></tr><tr><td>2021-01-26T00:00:00.000+0000</td><td>24</td></tr><tr><td>2022-01-24T00:00:00.000+0000</td><td>24</td></tr><tr><td>2017-04-27T00:00:00.000+0000</td><td>24</td></tr><tr><td>2020-04-20T00:00:00.000+0000</td><td>24</td></tr><tr><td>2016-09-30T00:00:00.000+0000</td><td>24</td></tr><tr><td>2020-04-22T00:00:00.000+0000</td><td>24</td></tr><tr><td>2017-07-07T00:00:00.000+0000</td><td>24</td></tr><tr><td>2017-10-23T00:00:00.000+0000</td><td>24</td></tr><tr><td>2019-10-15T00:00:00.000+0000</td><td>24</td></tr><tr><td>2020-08-10T00:00:00.000+0000</td><td>24</td></tr><tr><td>2022-04-13T00:00:00.000+0000</td><td>24</td></tr><tr><td>2022-01-18T00:00:00.000+0000</td><td>24</td></tr><tr><td>2016-12-08T00:00:00.000+0000</td><td>24</td></tr><tr><td>2019-10-01T00:00:00.000+0000</td><td>24</td></tr><tr><td>2018-06-22T00:00:00.000+0000</td><td>24</td></tr><tr><td>2020-08-17T00:00:00.000+0000</td><td>24</td></tr><tr><td>2017-09-20T00:00:00.000+0000</td><td>24</td></tr><tr><td>2021-06-08T00:00:00.000+0000</td><td>24</td></tr><tr><td>2020-04-03T00:00:00.000+0000</td><td>24</td></tr><tr><td>2020-11-03T00:00:00.000+0000</td><td>24</td></tr><tr><td>2018-02-15T00:00:00.000+0000</td><td>24</td></tr><tr><td>2017-09-11T00:00:00.000+0000</td><td>24</td></tr><tr><td>2021-01-19T00:00:00.000+0000</td><td>24</td></tr><tr><td>2021-01-08T00:00:00.000+0000</td><td>24</td></tr><tr><td>2019-03-26T00:00:00.000+0000</td><td>24</td></tr><tr><td>2021-04-12T00:00:00.000+0000</td><td>24</td></tr><tr><td>2022-05-10T00:00:00.000+0000</td><td>24</td></tr><tr><td>2017-06-16T00:00:00.000+0000</td><td>24</td></tr><tr><td>2020-09-11T00:00:00.000+0000</td><td>24</td></tr><tr><td>2017-03-08T00:00:00.000+0000</td><td>24</td></tr><tr><td>2018-07-18T00:00:00.000+0000</td><td>24</td></tr><tr><td>2017-05-31T00:00:00.000+0000</td><td>24</td></tr><tr><td>2016-07-07T00:00:00.000+0000</td><td>24</td></tr><tr><td>2021-02-03T00:00:00.000+0000</td><td>24</td></tr><tr><td>2021-06-30T00:00:00.000+0000</td><td>24</td></tr><tr><td>2016-11-30T00:00:00.000+0000</td><td>23</td></tr><tr><td>2017-11-13T00:00:00.000+0000</td><td>23</td></tr><tr><td>2018-10-16T00:00:00.000+0000</td><td>23</td></tr><tr><td>2016-11-11T00:00:00.000+0000</td><td>23</td></tr><tr><td>2019-04-24T00:00:00.000+0000</td><td>23</td></tr><tr><td>2020-01-06T00:00:00.000+0000</td><td>23</td></tr><tr><td>2017-08-24T00:00:00.000+0000</td><td>23</td></tr><tr><td>2018-11-28T00:00:00.000+0000</td><td>23</td></tr><tr><td>2018-01-22T00:00:00.000+0000</td><td>23</td></tr><tr><td>2019-01-07T00:00:00.000+0000</td><td>23</td></tr><tr><td>2018-08-02T00:00:00.000+0000</td><td>23</td></tr><tr><td>2017-01-20T00:00:00.000+0000</td><td>23</td></tr><tr><td>2021-04-14T00:00:00.000+0000</td><td>23</td></tr><tr><td>2019-12-10T00:00:00.000+0000</td><td>23</td></tr><tr><td>2020-12-29T00:00:00.000+0000</td><td>23</td></tr><tr><td>2020-01-16T00:00:00.000+0000</td><td>23</td></tr><tr><td>2018-08-14T00:00:00.000+0000</td><td>23</td></tr><tr><td>2019-05-07T00:00:00.000+0000</td><td>23</td></tr><tr><td>2018-07-05T00:00:00.000+0000</td><td>23</td></tr><tr><td>2017-05-26T00:00:00.000+0000</td><td>23</td></tr><tr><td>2022-09-19T00:00:00.000+0000</td><td>23</td></tr><tr><td>2022-02-15T00:00:00.000+0000</td><td>23</td></tr><tr><td>2017-11-16T00:00:00.000+0000</td><td>23</td></tr><tr><td>2019-08-13T00:00:00.000+0000</td><td>23</td></tr><tr><td>2017-02-14T00:00:00.000+0000</td><td>23</td></tr><tr><td>2017-06-22T00:00:00.000+0000</td><td>23</td></tr><tr><td>2022-09-05T00:00:00.000+0000</td><td>23</td></tr><tr><td>2018-09-04T00:00:00.000+0000</td><td>23</td></tr><tr><td>2020-08-12T00:00:00.000+0000</td><td>23</td></tr><tr><td>2018-05-24T00:00:00.000+0000</td><td>23</td></tr><tr><td>2018-04-05T00:00:00.000+0000</td><td>23</td></tr><tr><td>2020-04-28T00:00:00.000+0000</td><td>23</td></tr><tr><td>2021-05-18T00:00:00.000+0000</td><td>23</td></tr><tr><td>2020-04-15T00:00:00.000+0000</td><td>23</td></tr><tr><td>2020-12-08T00:00:00.000+0000</td><td>23</td></tr><tr><td>2020-04-02T00:00:00.000+0000</td><td>23</td></tr><tr><td>2017-02-02T00:00:00.000+0000</td><td>23</td></tr><tr><td>2021-12-23T00:00:00.000+0000</td><td>23</td></tr><tr><td>2019-06-24T00:00:00.000+0000</td><td>23</td></tr><tr><td>2017-08-28T00:00:00.000+0000</td><td>23</td></tr><tr><td>2017-02-21T00:00:00.000+0000</td><td>23</td></tr><tr><td>2020-05-12T00:00:00.000+0000</td><td>23</td></tr><tr><td>2022-08-15T00:00:00.000+0000</td><td>23</td></tr><tr><td>2016-07-21T00:00:00.000+0000</td><td>23</td></tr><tr><td>2021-03-17T00:00:00.000+0000</td><td>23</td></tr><tr><td>2022-05-30T00:00:00.000+0000</td><td>23</td></tr><tr><td>2021-04-13T00:00:00.000+0000</td><td>23</td></tr><tr><td>2017-01-19T00:00:00.000+0000</td><td>23</td></tr><tr><td>2018-11-27T00:00:00.000+0000</td><td>23</td></tr><tr><td>2021-11-29T00:00:00.000+0000</td><td>23</td></tr><tr><td>2017-07-19T00:00:00.000+0000</td><td>23</td></tr><tr><td>2021-06-21T00:00:00.000+0000</td><td>23</td></tr><tr><td>2018-06-18T00:00:00.000+0000</td><td>23</td></tr><tr><td>2018-04-17T00:00:00.000+0000</td><td>23</td></tr><tr><td>2017-05-05T00:00:00.000+0000</td><td>23</td></tr><tr><td>2022-02-07T00:00:00.000+0000</td><td>23</td></tr><tr><td>2020-03-05T00:00:00.000+0000</td><td>23</td></tr><tr><td>2017-04-07T00:00:00.000+0000</td><td>23</td></tr><tr><td>2020-12-28T00:00:00.000+0000</td><td>23</td></tr><tr><td>2019-08-26T00:00:00.000+0000</td><td>23</td></tr><tr><td>2022-01-31T00:00:00.000+0000</td><td>23</td></tr><tr><td>2018-05-07T00:00:00.000+0000</td><td>23</td></tr><tr><td>2021-11-10T00:00:00.000+0000</td><td>23</td></tr><tr><td>2017-08-09T00:00:00.000+0000</td><td>23</td></tr><tr><td>2016-07-29T00:00:00.000+0000</td><td>23</td></tr><tr><td>2019-04-01T00:00:00.000+0000</td><td>23</td></tr><tr><td>2021-01-12T00:00:00.000+0000</td><td>23</td></tr><tr><td>2022-10-03T00:00:00.000+0000</td><td>23</td></tr><tr><td>2019-10-30T00:00:00.000+0000</td><td>22</td></tr><tr><td>2018-03-21T00:00:00.000+0000</td><td>22</td></tr><tr><td>2019-05-03T00:00:00.000+0000</td><td>22</td></tr><tr><td>2018-11-21T00:00:00.000+0000</td><td>22</td></tr><tr><td>2022-10-19T00:00:00.000+0000</td><td>22</td></tr><tr><td>2020-10-12T00:00:00.000+0000</td><td>22</td></tr><tr><td>2021-03-29T00:00:00.000+0000</td><td>22</td></tr><tr><td>2018-01-24T00:00:00.000+0000</td><td>22</td></tr><tr><td>2021-08-23T00:00:00.000+0000</td><td>22</td></tr><tr><td>2018-10-24T00:00:00.000+0000</td><td>22</td></tr><tr><td>2016-04-28T00:00:00.000+0000</td><td>22</td></tr><tr><td>2021-09-27T00:00:00.000+0000</td><td>22</td></tr><tr><td>2018-07-11T00:00:00.000+0000</td><td>22</td></tr><tr><td>2016-09-08T00:00:00.000+0000</td><td>22</td></tr><tr><td>2016-08-08T00:00:00.000+0000</td><td>22</td></tr><tr><td>2018-04-10T00:00:00.000+0000</td><td>22</td></tr><tr><td>2016-06-01T00:00:00.000+0000</td><td>22</td></tr><tr><td>2021-10-05T00:00:00.000+0000</td><td>22</td></tr><tr><td>2020-10-05T00:00:00.000+0000</td><td>22</td></tr><tr><td>2020-01-09T00:00:00.000+0000</td><td>22</td></tr><tr><td>2022-02-16T00:00:00.000+0000</td><td>22</td></tr><tr><td>2020-03-09T00:00:00.000+0000</td><td>22</td></tr><tr><td>2017-12-22T00:00:00.000+0000</td><td>22</td></tr><tr><td>2021-11-03T00:00:00.000+0000</td><td>22</td></tr><tr><td>2019-02-20T00:00:00.000+0000</td><td>22</td></tr><tr><td>2018-07-24T00:00:00.000+0000</td><td>22</td></tr><tr><td>2021-08-04T00:00:00.000+0000</td><td>22</td></tr><tr><td>2017-10-04T00:00:00.000+0000</td><td>22</td></tr><tr><td>2022-08-02T00:00:00.000+0000</td><td>22</td></tr><tr><td>2018-10-03T00:00:00.000+0000</td><td>22</td></tr><tr><td>2020-12-31T00:00:00.000+0000</td><td>22</td></tr><tr><td>2020-05-05T00:00:00.000+0000</td><td>22</td></tr><tr><td>2018-11-13T00:00:00.000+0000</td><td>22</td></tr><tr><td>2018-10-23T00:00:00.000+0000</td><td>22</td></tr><tr><td>2019-06-14T00:00:00.000+0000</td><td>22</td></tr><tr><td>2019-05-20T00:00:00.000+0000</td><td>22</td></tr><tr><td>2017-04-13T00:00:00.000+0000</td><td>22</td></tr><tr><td>2019-08-09T00:00:00.000+0000</td><td>22</td></tr><tr><td>2016-06-02T00:00:00.000+0000</td><td>22</td></tr><tr><td>2019-06-21T00:00:00.000+0000</td><td>22</td></tr><tr><td>2016-10-25T00:00:00.000+0000</td><td>22</td></tr><tr><td>2019-02-25T00:00:00.000+0000</td><td>22</td></tr><tr><td>2022-05-16T00:00:00.000+0000</td><td>22</td></tr><tr><td>2017-12-04T00:00:00.000+0000</td><td>22</td></tr><tr><td>2019-04-12T00:00:00.000+0000</td><td>22</td></tr><tr><td>2018-10-22T00:00:00.000+0000</td><td>22</td></tr><tr><td>2017-07-26T00:00:00.000+0000</td><td>22</td></tr><tr><td>2020-09-28T00:00:00.000+0000</td><td>22</td></tr><tr><td>2018-01-16T00:00:00.000+0000</td><td>22</td></tr><tr><td>2019-05-22T00:00:00.000+0000</td><td>22</td></tr><tr><td>2017-10-27T00:00:00.000+0000</td><td>22</td></tr><tr><td>2017-11-08T00:00:00.000+0000</td><td>22</td></tr><tr><td>2017-06-09T00:00:00.000+0000</td><td>22</td></tr><tr><td>2019-07-29T00:00:00.000+0000</td><td>22</td></tr><tr><td>2015-05-28T00:00:00.000+0000</td><td>22</td></tr><tr><td>2016-07-08T00:00:00.000+0000</td><td>22</td></tr><tr><td>2020-02-04T00:00:00.000+0000</td><td>22</td></tr><tr><td>2017-05-19T00:00:00.000+0000</td><td>22</td></tr><tr><td>2019-09-02T00:00:00.000+0000</td><td>22</td></tr><tr><td>2016-12-07T00:00:00.000+0000</td><td>22</td></tr><tr><td>2018-11-26T00:00:00.000+0000</td><td>22</td></tr><tr><td>2017-04-11T00:00:00.000+0000</td><td>22</td></tr><tr><td>2019-05-01T00:00:00.000+0000</td><td>22</td></tr><tr><td>2019-03-21T00:00:00.000+0000</td><td>21</td></tr><tr><td>2022-05-04T00:00:00.000+0000</td><td>21</td></tr><tr><td>2021-07-01T00:00:00.000+0000</td><td>21</td></tr><tr><td>2019-02-06T00:00:00.000+0000</td><td>21</td></tr><tr><td>2018-05-28T00:00:00.000+0000</td><td>21</td></tr><tr><td>2017-03-14T00:00:00.000+0000</td><td>21</td></tr><tr><td>2016-07-12T00:00:00.000+0000</td><td>21</td></tr><tr><td>2018-06-27T00:00:00.000+0000</td><td>21</td></tr><tr><td>2021-10-04T00:00:00.000+0000</td><td>21</td></tr><tr><td>2016-04-04T00:00:00.000+0000</td><td>21</td></tr><tr><td>2019-11-06T00:00:00.000+0000</td><td>21</td></tr><tr><td>2021-02-08T00:00:00.000+0000</td><td>21</td></tr><tr><td>2018-07-23T00:00:00.000+0000</td><td>21</td></tr><tr><td>2022-01-12T00:00:00.000+0000</td><td>21</td></tr><tr><td>2017-12-29T00:00:00.000+0000</td><td>21</td></tr><tr><td>2017-10-30T00:00:00.000+0000</td><td>21</td></tr><tr><td>2022-04-05T00:00:00.000+0000</td><td>21</td></tr><tr><td>2018-12-10T00:00:00.000+0000</td><td>21</td></tr><tr><td>2021-12-06T00:00:00.000+0000</td><td>21</td></tr><tr><td>2018-10-04T00:00:00.000+0000</td><td>21</td></tr><tr><td>2021-05-03T00:00:00.000+0000</td><td>21</td></tr><tr><td>2020-03-23T00:00:00.000+0000</td><td>21</td></tr><tr><td>2016-04-29T00:00:00.000+0000</td><td>21</td></tr><tr><td>2022-02-08T00:00:00.000+0000</td><td>21</td></tr><tr><td>2021-01-31T00:00:00.000+0000</td><td>21</td></tr><tr><td>2015-11-20T00:00:00.000+0000</td><td>21</td></tr><tr><td>2017-08-22T00:00:00.000+0000</td><td>21</td></tr><tr><td>2016-03-24T00:00:00.000+0000</td><td>21</td></tr><tr><td>2018-09-10T00:00:00.000+0000</td><td>21</td></tr><tr><td>2015-06-25T00:00:00.000+0000</td><td>21</td></tr><tr><td>2016-11-04T00:00:00.000+0000</td><td>21</td></tr><tr><td>2021-08-09T00:00:00.000+0000</td><td>21</td></tr><tr><td>2019-07-11T00:00:00.000+0000</td><td>21</td></tr><tr><td>2021-03-11T00:00:00.000+0000</td><td>21</td></tr><tr><td>2019-10-16T00:00:00.000+0000</td><td>21</td></tr><tr><td>2016-12-22T00:00:00.000+0000</td><td>21</td></tr><tr><td>2018-12-12T00:00:00.000+0000</td><td>21</td></tr><tr><td>2020-06-09T00:00:00.000+0000</td><td>21</td></tr><tr><td>2021-04-27T00:00:00.000+0000</td><td>21</td></tr><tr><td>2019-12-06T00:00:00.000+0000</td><td>21</td></tr><tr><td>2015-12-10T00:00:00.000+0000</td><td>21</td></tr><tr><td>2019-11-28T00:00:00.000+0000</td><td>21</td></tr><tr><td>2019-12-04T00:00:00.000+0000</td><td>21</td></tr><tr><td>2018-06-04T00:00:00.000+0000</td><td>21</td></tr><tr><td>2016-09-01T00:00:00.000+0000</td><td>21</td></tr><tr><td>2017-04-05T00:00:00.000+0000</td><td>21</td></tr><tr><td>2017-11-21T00:00:00.000+0000</td><td>21</td></tr><tr><td>2019-11-18T00:00:00.000+0000</td><td>21</td></tr><tr><td>2018-08-24T00:00:00.000+0000</td><td>21</td></tr><tr><td>2018-09-24T00:00:00.000+0000</td><td>21</td></tr><tr><td>2020-05-25T00:00:00.000+0000</td><td>21</td></tr><tr><td>2018-02-26T00:00:00.000+0000</td><td>21</td></tr><tr><td>2019-01-28T00:00:00.000+0000</td><td>21</td></tr><tr><td>2017-07-06T00:00:00.000+0000</td><td>21</td></tr><tr><td>2018-04-25T00:00:00.000+0000</td><td>21</td></tr><tr><td>2019-07-03T00:00:00.000+0000</td><td>21</td></tr><tr><td>2019-06-27T00:00:00.000+0000</td><td>21</td></tr><tr><td>2016-06-17T00:00:00.000+0000</td><td>21</td></tr><tr><td>2017-12-27T00:00:00.000+0000</td><td>21</td></tr><tr><td>2020-02-03T00:00:00.000+0000</td><td>21</td></tr><tr><td>2019-10-23T00:00:00.000+0000</td><td>21</td></tr><tr><td>2016-05-19T00:00:00.000+0000</td><td>21</td></tr><tr><td>2016-09-16T00:00:00.000+0000</td><td>21</td></tr><tr><td>2018-04-16T00:00:00.000+0000</td><td>21</td></tr><tr><td>2021-06-15T00:00:00.000+0000</td><td>21</td></tr><tr><td>2021-11-25T00:00:00.000+0000</td><td>21</td></tr><tr><td>2021-08-10T00:00:00.000+0000</td><td>21</td></tr><tr><td>2021-02-28T00:00:00.000+0000</td><td>21</td></tr><tr><td>2014-04-17T00:00:00.000+0000</td><td>21</td></tr><tr><td>2019-08-28T00:00:00.000+0000</td><td>21</td></tr><tr><td>2017-02-23T00:00:00.000+0000</td><td>21</td></tr><tr><td>2018-05-21T00:00:00.000+0000</td><td>21</td></tr><tr><td>2016-10-21T00:00:00.000+0000</td><td>21</td></tr><tr><td>2022-02-01T00:00:00.000+0000</td><td>21</td></tr><tr><td>2019-03-05T00:00:00.000+0000</td><td>21</td></tr><tr><td>2017-06-01T00:00:00.000+0000</td><td>21</td></tr><tr><td>2020-10-26T00:00:00.000+0000</td><td>21</td></tr><tr><td>2017-03-16T00:00:00.000+0000</td><td>21</td></tr><tr><td>2018-09-17T00:00:00.000+0000</td><td>21</td></tr><tr><td>2019-08-06T00:00:00.000+0000</td><td>21</td></tr><tr><td>2021-10-18T00:00:00.000+0000</td><td>21</td></tr><tr><td>2019-10-08T00:00:00.000+0000</td><td>21</td></tr><tr><td>2021-04-26T00:00:00.000+0000</td><td>21</td></tr><tr><td>2019-08-05T00:00:00.000+0000</td><td>21</td></tr><tr><td>2022-09-26T00:00:00.000+0000</td><td>21</td></tr><tr><td>2018-04-23T00:00:00.000+0000</td><td>21</td></tr><tr><td>2021-08-30T00:00:00.000+0000</td><td>21</td></tr><tr><td>2017-05-30T00:00:00.000+0000</td><td>21</td></tr><tr><td>2016-10-20T00:00:00.000+0000</td><td>21</td></tr><tr><td>2019-10-07T00:00:00.000+0000</td><td>21</td></tr><tr><td>2020-08-04T00:00:00.000+0000</td><td>21</td></tr><tr><td>2016-12-02T00:00:00.000+0000</td><td>21</td></tr><tr><td>2016-07-05T00:00:00.000+0000</td><td>21</td></tr><tr><td>2019-05-06T00:00:00.000+0000</td><td>21</td></tr><tr><td>2019-12-02T00:00:00.000+0000</td><td>20</td></tr><tr><td>2018-12-24T00:00:00.000+0000</td><td>20</td></tr><tr><td>2020-08-24T00:00:00.000+0000</td><td>20</td></tr><tr><td>2016-05-31T00:00:00.000+0000</td><td>20</td></tr><tr><td>2016-10-06T00:00:00.000+0000</td><td>20</td></tr><tr><td>2016-08-23T00:00:00.000+0000</td><td>20</td></tr><tr><td>2022-06-29T00:00:00.000+0000</td><td>20</td></tr><tr><td>2017-05-04T00:00:00.000+0000</td><td>20</td></tr><tr><td>2020-05-04T00:00:00.000+0000</td><td>20</td></tr><tr><td>2018-04-04T00:00:00.000+0000</td><td>20</td></tr><tr><td>2020-03-10T00:00:00.000+0000</td><td>20</td></tr><tr><td>2021-07-02T00:00:00.000+0000</td><td>20</td></tr><tr><td>2018-10-02T00:00:00.000+0000</td><td>20</td></tr><tr><td>2017-01-30T00:00:00.000+0000</td><td>20</td></tr><tr><td>2022-06-28T00:00:00.000+0000</td><td>20</td></tr><tr><td>2021-12-24T00:00:00.000+0000</td><td>20</td></tr><tr><td>2017-10-02T00:00:00.000+0000</td><td>20</td></tr><tr><td>2019-09-18T00:00:00.000+0000</td><td>20</td></tr><tr><td>2018-08-09T00:00:00.000+0000</td><td>20</td></tr><tr><td>2016-07-22T00:00:00.000+0000</td><td>20</td></tr><tr><td>2016-11-03T00:00:00.000+0000</td><td>20</td></tr><tr><td>2014-10-06T00:00:00.000+0000</td><td>20</td></tr><tr><td>2017-09-25T00:00:00.000+0000</td><td>20</td></tr><tr><td>2018-01-29T00:00:00.000+0000</td><td>20</td></tr><tr><td>2020-03-30T00:00:00.000+0000</td><td>20</td></tr><tr><td>2021-12-30T00:00:00.000+0000</td><td>20</td></tr><tr><td>2016-08-09T00:00:00.000+0000</td><td>20</td></tr><tr><td>2019-04-09T00:00:00.000+0000</td><td>20</td></tr><tr><td>2016-05-06T00:00:00.000+0000</td><td>20</td></tr><tr><td>2019-05-27T00:00:00.000+0000</td><td>20</td></tr><tr><td>2019-12-31T00:00:00.000+0000</td><td>20</td></tr><tr><td>2017-03-03T00:00:00.000+0000</td><td>20</td></tr><tr><td>2016-05-27T00:00:00.000+0000</td><td>20</td></tr><tr><td>2015-10-21T00:00:00.000+0000</td><td>20</td></tr><tr><td>2020-07-02T00:00:00.000+0000</td><td>20</td></tr><tr><td>2020-02-10T00:00:00.000+0000</td><td>20</td></tr><tr><td>2019-11-04T00:00:00.000+0000</td><td>20</td></tr><tr><td>2019-04-03T00:00:00.000+0000</td><td>20</td></tr><tr><td>2020-12-09T00:00:00.000+0000</td><td>20</td></tr><tr><td>2019-02-07T00:00:00.000+0000</td><td>20</td></tr><tr><td>2021-11-02T00:00:00.000+0000</td><td>20</td></tr><tr><td>2018-06-13T00:00:00.000+0000</td><td>20</td></tr><tr><td>2018-01-30T00:00:00.000+0000</td><td>20</td></tr><tr><td>2017-10-03T00:00:00.000+0000</td><td>20</td></tr><tr><td>2019-11-26T00:00:00.000+0000</td><td>20</td></tr><tr><td>2018-05-30T00:00:00.000+0000</td><td>20</td></tr><tr><td>2017-02-01T00:00:00.000+0000</td><td>20</td></tr><tr><td>2018-01-11T00:00:00.000+0000</td><td>20</td></tr><tr><td>2015-09-30T00:00:00.000+0000</td><td>20</td></tr><tr><td>2016-08-04T00:00:00.000+0000</td><td>20</td></tr><tr><td>2017-02-27T00:00:00.000+0000</td><td>20</td></tr><tr><td>2022-08-16T00:00:00.000+0000</td><td>20</td></tr><tr><td>2021-02-22T00:00:00.000+0000</td><td>20</td></tr><tr><td>2019-04-08T00:00:00.000+0000</td><td>20</td></tr><tr><td>2019-04-15T00:00:00.000+0000</td><td>20</td></tr><tr><td>2017-08-30T00:00:00.000+0000</td><td>20</td></tr><tr><td>2020-01-29T00:00:00.000+0000</td><td>20</td></tr><tr><td>2022-06-24T00:00:00.000+0000</td><td>20</td></tr><tr><td>2021-05-04T00:00:00.000+0000</td><td>20</td></tr><tr><td>2016-12-21T00:00:00.000+0000</td><td>20</td></tr><tr><td>2019-12-17T00:00:00.000+0000</td><td>20</td></tr><tr><td>2020-01-24T00:00:00.000+0000</td><td>20</td></tr><tr><td>2017-12-11T00:00:00.000+0000</td><td>20</td></tr><tr><td>2016-11-02T00:00:00.000+0000</td><td>20</td></tr><tr><td>2018-08-20T00:00:00.000+0000</td><td>20</td></tr><tr><td>2019-10-11T00:00:00.000+0000</td><td>20</td></tr><tr><td>2019-03-13T00:00:00.000+0000</td><td>20</td></tr><tr><td>2021-06-23T00:00:00.000+0000</td><td>20</td></tr><tr><td>2021-04-28T00:00:00.000+0000</td><td>20</td></tr><tr><td>2019-05-02T00:00:00.000+0000</td><td>20</td></tr><tr><td>2022-03-22T00:00:00.000+0000</td><td>20</td></tr><tr><td>2019-06-04T00:00:00.000+0000</td><td>20</td></tr><tr><td>2020-06-01T00:00:00.000+0000</td><td>20</td></tr><tr><td>2022-11-02T00:00:00.000+0000</td><td>20</td></tr><tr><td>2021-10-25T00:00:00.000+0000</td><td>20</td></tr><tr><td>2018-12-13T00:00:00.000+0000</td><td>19</td></tr><tr><td>2017-01-31T00:00:00.000+0000</td><td>19</td></tr><tr><td>2017-07-17T00:00:00.000+0000</td><td>19</td></tr><tr><td>2022-06-08T00:00:00.000+0000</td><td>19</td></tr><tr><td>2015-09-24T00:00:00.000+0000</td><td>19</td></tr><tr><td>2018-04-11T00:00:00.000+0000</td><td>19</td></tr><tr><td>2016-06-14T00:00:00.000+0000</td><td>19</td></tr><tr><td>2019-11-29T00:00:00.000+0000</td><td>19</td></tr><tr><td>2017-02-09T00:00:00.000+0000</td><td>19</td></tr><tr><td>2019-10-09T00:00:00.000+0000</td><td>19</td></tr><tr><td>2020-11-16T00:00:00.000+0000</td><td>19</td></tr><tr><td>2016-07-19T00:00:00.000+0000</td><td>19</td></tr><tr><td>2020-06-22T00:00:00.000+0000</td><td>19</td></tr><tr><td>2018-10-29T00:00:00.000+0000</td><td>19</td></tr><tr><td>2018-01-12T00:00:00.000+0000</td><td>19</td></tr><tr><td>2019-03-18T00:00:00.000+0000</td><td>19</td></tr><tr><td>2018-02-09T00:00:00.000+0000</td><td>19</td></tr><tr><td>2020-08-18T00:00:00.000+0000</td><td>19</td></tr><tr><td>2021-01-11T00:00:00.000+0000</td><td>19</td></tr><tr><td>2020-03-02T00:00:00.000+0000</td><td>19</td></tr><tr><td>2007-08-03T00:00:00.000+0000</td><td>19</td></tr><tr><td>2020-01-15T00:00:00.000+0000</td><td>19</td></tr><tr><td>2020-11-24T00:00:00.000+0000</td><td>19</td></tr><tr><td>2019-11-25T00:00:00.000+0000</td><td>19</td></tr><tr><td>2016-03-03T00:00:00.000+0000</td><td>19</td></tr><tr><td>2016-11-01T00:00:00.000+0000</td><td>19</td></tr><tr><td>2020-01-13T00:00:00.000+0000</td><td>19</td></tr><tr><td>2017-02-13T00:00:00.000+0000</td><td>19</td></tr><tr><td>2018-05-22T00:00:00.000+0000</td><td>19</td></tr><tr><td>2020-10-07T00:00:00.000+0000</td><td>19</td></tr><tr><td>2022-04-26T00:00:00.000+0000</td><td>19</td></tr><tr><td>2016-02-18T00:00:00.000+0000</td><td>19</td></tr><tr><td>2020-07-20T00:00:00.000+0000</td><td>19</td></tr><tr><td>2020-01-10T00:00:00.000+0000</td><td>19</td></tr><tr><td>2019-05-13T00:00:00.000+0000</td><td>19</td></tr><tr><td>2019-08-19T00:00:00.000+0000</td><td>19</td></tr><tr><td>2020-09-09T00:00:00.000+0000</td><td>19</td></tr><tr><td>2016-03-29T00:00:00.000+0000</td><td>19</td></tr><tr><td>2016-11-22T00:00:00.000+0000</td><td>19</td></tr><tr><td>2022-07-18T00:00:00.000+0000</td><td>19</td></tr><tr><td>2020-01-27T00:00:00.000+0000</td><td>19</td></tr><tr><td>2018-11-19T00:00:00.000+0000</td><td>19</td></tr><tr><td>2017-04-25T00:00:00.000+0000</td><td>19</td></tr><tr><td>2019-02-04T00:00:00.000+0000</td><td>19</td></tr><tr><td>2020-06-10T00:00:00.000+0000</td><td>19</td></tr><tr><td>2019-03-12T00:00:00.000+0000</td><td>19</td></tr><tr><td>2021-02-02T00:00:00.000+0000</td><td>19</td></tr><tr><td>2021-03-22T00:00:00.000+0000</td><td>19</td></tr><tr><td>2019-10-29T00:00:00.000+0000</td><td>19</td></tr><tr><td>2019-07-09T00:00:00.000+0000</td><td>19</td></tr><tr><td>2017-06-02T00:00:00.000+0000</td><td>19</td></tr><tr><td>2016-11-09T00:00:00.000+0000</td><td>19</td></tr><tr><td>2017-08-23T00:00:00.000+0000</td><td>19</td></tr><tr><td>2020-03-16T00:00:00.000+0000</td><td>19</td></tr><tr><td>2022-02-14T00:00:00.000+0000</td><td>19</td></tr><tr><td>2020-04-27T00:00:00.000+0000</td><td>19</td></tr><tr><td>2015-06-04T00:00:00.000+0000</td><td>19</td></tr><tr><td>2017-03-30T00:00:00.000+0000</td><td>19</td></tr><tr><td>2018-01-15T00:00:00.000+0000</td><td>19</td></tr><tr><td>2015-10-23T00:00:00.000+0000</td><td>19</td></tr><tr><td>2021-02-15T00:00:00.000+0000</td><td>19</td></tr><tr><td>2018-10-12T00:00:00.000+0000</td><td>19</td></tr><tr><td>2021-12-27T00:00:00.000+0000</td><td>19</td></tr><tr><td>2019-12-03T00:00:00.000+0000</td><td>19</td></tr><tr><td>2021-06-02T00:00:00.000+0000</td><td>19</td></tr><tr><td>2017-01-26T00:00:00.000+0000</td><td>19</td></tr><tr><td>2019-04-17T00:00:00.000+0000</td><td>19</td></tr><tr><td>2016-10-24T00:00:00.000+0000</td><td>19</td></tr><tr><td>2020-02-17T00:00:00.000+0000</td><td>19</td></tr><tr><td>2021-09-06T00:00:00.000+0000</td><td>19</td></tr><tr><td>2022-04-06T00:00:00.000+0000</td><td>19</td></tr><tr><td>2015-12-18T00:00:00.000+0000</td><td>19</td></tr><tr><td>2020-06-24T00:00:00.000+0000</td><td>19</td></tr><tr><td>2017-01-13T00:00:00.000+0000</td><td>19</td></tr><tr><td>2017-04-04T00:00:00.000+0000</td><td>19</td></tr><tr><td>2017-02-10T00:00:00.000+0000</td><td>19</td></tr><tr><td>2021-12-31T00:00:00.000+0000</td><td>19</td></tr><tr><td>2016-11-15T00:00:00.000+0000</td><td>19</td></tr><tr><td>2020-12-14T00:00:00.000+0000</td><td>19</td></tr><tr><td>2017-05-12T00:00:00.000+0000</td><td>19</td></tr><tr><td>2019-03-06T00:00:00.000+0000</td><td>19</td></tr><tr><td>2016-02-25T00:00:00.000+0000</td><td>19</td></tr><tr><td>2019-08-21T00:00:00.000+0000</td><td>19</td></tr><tr><td>2020-01-02T00:00:00.000+0000</td><td>19</td></tr><tr><td>2016-08-31T00:00:00.000+0000</td><td>19</td></tr><tr><td>2021-12-13T00:00:00.000+0000</td><td>18</td></tr><tr><td>2020-08-19T00:00:00.000+0000</td><td>18</td></tr><tr><td>2021-03-08T00:00:00.000+0000</td><td>18</td></tr><tr><td>2019-01-01T00:00:00.000+0000</td><td>18</td></tr><tr><td>2021-02-07T00:00:00.000+0000</td><td>18</td></tr><tr><td>2020-08-01T00:00:00.000+0000</td><td>18</td></tr><tr><td>2018-12-05T00:00:00.000+0000</td><td>18</td></tr><tr><td>2022-06-25T00:00:00.000+0000</td><td>18</td></tr><tr><td>2019-06-03T00:00:00.000+0000</td><td>18</td></tr><tr><td>2019-11-19T00:00:00.000+0000</td><td>18</td></tr><tr><td>2016-03-18T00:00:00.000+0000</td><td>18</td></tr><tr><td>2019-03-25T00:00:00.000+0000</td><td>18</td></tr><tr><td>2020-01-21T00:00:00.000+0000</td><td>18</td></tr><tr><td>2018-01-10T00:00:00.000+0000</td><td>18</td></tr><tr><td>2017-05-17T00:00:00.000+0000</td><td>18</td></tr><tr><td>2021-11-23T00:00:00.000+0000</td><td>18</td></tr><tr><td>2022-04-04T00:00:00.000+0000</td><td>18</td></tr><tr><td>2019-01-03T00:00:00.000+0000</td><td>18</td></tr><tr><td>2022-05-23T00:00:00.000+0000</td><td>18</td></tr><tr><td>2017-03-15T00:00:00.000+0000</td><td>18</td></tr><tr><td>2015-04-23T00:00:00.000+0000</td><td>18</td></tr><tr><td>2020-09-02T00:00:00.000+0000</td><td>18</td></tr><tr><td>2021-03-09T00:00:00.000+0000</td><td>18</td></tr><tr><td>2018-07-09T00:00:00.000+0000</td><td>18</td></tr><tr><td>2017-08-16T00:00:00.000+0000</td><td>18</td></tr><tr><td>2016-10-07T00:00:00.000+0000</td><td>18</td></tr><tr><td>2021-06-14T00:00:00.000+0000</td><td>18</td></tr><tr><td>2016-11-16T00:00:00.000+0000</td><td>18</td></tr><tr><td>2020-12-30T00:00:00.000+0000</td><td>18</td></tr><tr><td>2016-04-21T00:00:00.000+0000</td><td>18</td></tr><tr><td>2017-05-10T00:00:00.000+0000</td><td>18</td></tr><tr><td>2015-12-21T00:00:00.000+0000</td><td>18</td></tr><tr><td>2017-10-09T00:00:00.000+0000</td><td>18</td></tr><tr><td>2016-11-07T00:00:00.000+0000</td><td>18</td></tr><tr><td>2019-02-18T00:00:00.000+0000</td><td>18</td></tr><tr><td>2017-02-08T00:00:00.000+0000</td><td>18</td></tr><tr><td>2016-02-12T00:00:00.000+0000</td><td>18</td></tr><tr><td>2019-12-09T00:00:00.000+0000</td><td>18</td></tr><tr><td>2018-05-23T00:00:00.000+0000</td><td>18</td></tr><tr><td>2016-03-31T00:00:00.000+0000</td><td>18</td></tr><tr><td>2017-02-16T00:00:00.000+0000</td><td>18</td></tr><tr><td>2021-09-13T00:00:00.000+0000</td><td>18</td></tr><tr><td>2016-12-14T00:00:00.000+0000</td><td>18</td></tr><tr><td>2015-06-01T00:00:00.000+0000</td><td>18</td></tr><tr><td>2017-05-11T00:00:00.000+0000</td><td>18</td></tr><tr><td>2021-06-07T00:00:00.000+0000</td><td>18</td></tr><tr><td>2021-05-12T00:00:00.000+0000</td><td>18</td></tr><tr><td>2016-11-21T00:00:00.000+0000</td><td>18</td></tr><tr><td>2017-07-12T00:00:00.000+0000</td><td>18</td></tr><tr><td>2019-04-22T00:00:00.000+0000</td><td>18</td></tr><tr><td>2021-06-16T00:00:00.000+0000</td><td>18</td></tr><tr><td>2017-02-15T00:00:00.000+0000</td><td>18</td></tr><tr><td>2020-05-11T00:00:00.000+0000</td><td>18</td></tr><tr><td>2016-04-19T00:00:00.000+0000</td><td>18</td></tr><tr><td>2018-08-27T00:00:00.000+0000</td><td>18</td></tr><tr><td>2019-11-12T00:00:00.000+0000</td><td>18</td></tr><tr><td>2019-09-10T00:00:00.000+0000</td><td>18</td></tr><tr><td>2020-03-11T00:00:00.000+0000</td><td>18</td></tr><tr><td>2018-05-14T00:00:00.000+0000</td><td>18</td></tr><tr><td>2019-09-04T00:00:00.000+0000</td><td>18</td></tr><tr><td>2019-09-16T00:00:00.000+0000</td><td>18</td></tr><tr><td>2015-09-25T00:00:00.000+0000</td><td>18</td></tr><tr><td>2020-03-04T00:00:00.000+0000</td><td>18</td></tr><tr><td>2022-08-29T00:00:00.000+0000</td><td>18</td></tr><tr><td>2017-05-29T00:00:00.000+0000</td><td>18</td></tr><tr><td>2020-02-18T00:00:00.000+0000</td><td>18</td></tr><tr><td>2022-07-25T00:00:00.000+0000</td><td>18</td></tr><tr><td>2019-01-15T00:00:00.000+0000</td><td>18</td></tr><tr><td>2015-02-27T00:00:00.000+0000</td><td>18</td></tr><tr><td>2019-01-21T00:00:00.000+0000</td><td>18</td></tr><tr><td>2022-06-07T00:00:00.000+0000</td><td>18</td></tr><tr><td>2016-06-07T00:00:00.000+0000</td><td>18</td></tr><tr><td>2017-08-14T00:00:00.000+0000</td><td>18</td></tr><tr><td>2017-11-24T00:00:00.000+0000</td><td>18</td></tr><tr><td>2020-02-05T00:00:00.000+0000</td><td>18</td></tr><tr><td>2019-07-16T00:00:00.000+0000</td><td>17</td></tr><tr><td>2018-01-09T00:00:00.000+0000</td><td>17</td></tr><tr><td>2020-06-29T00:00:00.000+0000</td><td>17</td></tr><tr><td>2019-10-21T00:00:00.000+0000</td><td>17</td></tr><tr><td>2021-06-28T00:00:00.000+0000</td><td>17</td></tr><tr><td>2018-11-22T00:00:00.000+0000</td><td>17</td></tr><tr><td>2017-01-06T00:00:00.000+0000</td><td>17</td></tr><tr><td>2018-08-22T00:00:00.000+0000</td><td>17</td></tr><tr><td>2020-03-18T00:00:00.000+0000</td><td>17</td></tr><tr><td>2021-05-26T00:00:00.000+0000</td><td>17</td></tr><tr><td>2022-04-19T00:00:00.000+0000</td><td>17</td></tr><tr><td>2019-01-10T00:00:00.000+0000</td><td>17</td></tr><tr><td>2017-11-03T00:00:00.000+0000</td><td>17</td></tr><tr><td>2019-02-11T00:00:00.000+0000</td><td>17</td></tr><tr><td>2021-12-29T00:00:00.000+0000</td><td>17</td></tr><tr><td>2020-02-19T00:00:00.000+0000</td><td>17</td></tr><tr><td>2020-01-01T00:00:00.000+0000</td><td>17</td></tr><tr><td>2017-03-20T00:00:00.000+0000</td><td>17</td></tr><tr><td>2017-05-22T00:00:00.000+0000</td><td>17</td></tr><tr><td>2019-09-17T00:00:00.000+0000</td><td>17</td></tr><tr><td>2015-09-03T00:00:00.000+0000</td><td>17</td></tr><tr><td>2017-09-06T00:00:00.000+0000</td><td>17</td></tr><tr><td>2018-08-06T00:00:00.000+0000</td><td>17</td></tr><tr><td>2019-01-11T00:00:00.000+0000</td><td>17</td></tr><tr><td>2016-01-26T00:00:00.000+0000</td><td>17</td></tr><tr><td>2017-03-29T00:00:00.000+0000</td><td>17</td></tr><tr><td>2020-07-27T00:00:00.000+0000</td><td>17</td></tr><tr><td>2019-08-12T00:00:00.000+0000</td><td>17</td></tr><tr><td>2016-08-02T00:00:00.000+0000</td><td>17</td></tr><tr><td>2022-01-05T00:00:00.000+0000</td><td>17</td></tr><tr><td>2017-03-09T00:00:00.000+0000</td><td>17</td></tr><tr><td>2017-09-18T00:00:00.000+0000</td><td>17</td></tr><tr><td>2018-12-26T00:00:00.000+0000</td><td>17</td></tr><tr><td>2015-08-31T00:00:00.000+0000</td><td>17</td></tr><tr><td>2014-12-04T00:00:00.000+0000</td><td>17</td></tr><tr><td>2017-05-23T00:00:00.000+0000</td><td>17</td></tr><tr><td>2017-04-20T00:00:00.000+0000</td><td>17</td></tr><tr><td>2021-05-10T00:00:00.000+0000</td><td>17</td></tr><tr><td>2016-10-18T00:00:00.000+0000</td><td>17</td></tr><tr><td>2015-11-02T00:00:00.000+0000</td><td>17</td></tr><tr><td>2017-03-02T00:00:00.000+0000</td><td>17</td></tr><tr><td>2015-09-23T00:00:00.000+0000</td><td>17</td></tr><tr><td>2019-10-14T00:00:00.000+0000</td><td>17</td></tr><tr><td>2015-11-05T00:00:00.000+0000</td><td>17</td></tr><tr><td>2018-09-11T00:00:00.000+0000</td><td>17</td></tr><tr><td>2019-07-17T00:00:00.000+0000</td><td>17</td></tr><tr><td>2016-11-10T00:00:00.000+0000</td><td>17</td></tr><tr><td>2016-03-01T00:00:00.000+0000</td><td>17</td></tr><tr><td>2016-08-24T00:00:00.000+0000</td><td>17</td></tr><tr><td>2020-04-07T00:00:00.000+0000</td><td>17</td></tr><tr><td>2016-09-26T00:00:00.000+0000</td><td>17</td></tr><tr><td>2019-09-09T00:00:00.000+0000</td><td>17</td></tr><tr><td>2021-09-20T00:00:00.000+0000</td><td>17</td></tr><tr><td>2019-03-20T00:00:00.000+0000</td><td>17</td></tr><tr><td>2019-07-24T00:00:00.000+0000</td><td>17</td></tr><tr><td>2017-11-27T00:00:00.000+0000</td><td>17</td></tr><tr><td>2018-02-21T00:00:00.000+0000</td><td>17</td></tr><tr><td>2020-03-17T00:00:00.000+0000</td><td>17</td></tr><tr><td>2020-04-08T00:00:00.000+0000</td><td>17</td></tr><tr><td>2016-03-25T00:00:00.000+0000</td><td>17</td></tr><tr><td>2015-08-20T00:00:00.000+0000</td><td>17</td></tr><tr><td>2020-07-07T00:00:00.000+0000</td><td>17</td></tr><tr><td>2017-02-20T00:00:00.000+0000</td><td>17</td></tr><tr><td>2019-06-18T00:00:00.000+0000</td><td>16</td></tr><tr><td>2016-02-01T00:00:00.000+0000</td><td>16</td></tr><tr><td>2019-12-23T00:00:00.000+0000</td><td>16</td></tr><tr><td>2019-01-29T00:00:00.000+0000</td><td>16</td></tr><tr><td>2017-09-05T00:00:00.000+0000</td><td>16</td></tr><tr><td>2017-11-23T00:00:00.000+0000</td><td>16</td></tr><tr><td>2015-08-21T00:00:00.000+0000</td><td>16</td></tr><tr><td>2016-07-25T00:00:00.000+0000</td><td>16</td></tr><tr><td>2015-02-13T00:00:00.000+0000</td><td>16</td></tr><tr><td>2019-04-10T00:00:00.000+0000</td><td>16</td></tr><tr><td>2016-08-10T00:00:00.000+0000</td><td>16</td></tr><tr><td>2022-06-06T00:00:00.000+0000</td><td>16</td></tr><tr><td>2016-07-15T00:00:00.000+0000</td><td>16</td></tr><tr><td>2015-07-30T00:00:00.000+0000</td><td>16</td></tr><tr><td>2019-04-02T00:00:00.000+0000</td><td>16</td></tr><tr><td>2021-04-19T00:00:00.000+0000</td><td>16</td></tr><tr><td>2020-05-31T00:00:00.000+0000</td><td>16</td></tr><tr><td>2021-01-01T00:00:00.000+0000</td><td>16</td></tr><tr><td>2020-03-25T00:00:00.000+0000</td><td>16</td></tr><tr><td>2017-03-23T00:00:00.000+0000</td><td>16</td></tr><tr><td>2016-09-23T00:00:00.000+0000</td><td>16</td></tr><tr><td>2016-09-12T00:00:00.000+0000</td><td>16</td></tr><tr><td>2021-12-04T00:00:00.000+0000</td><td>16</td></tr><tr><td>2020-05-06T00:00:00.000+0000</td><td>16</td></tr><tr><td>2021-10-02T00:00:00.000+0000</td><td>16</td></tr><tr><td>2021-07-07T00:00:00.000+0000</td><td>16</td></tr><tr><td>2022-03-21T00:00:00.000+0000</td><td>16</td></tr><tr><td>2021-01-13T00:00:00.000+0000</td><td>16</td></tr><tr><td>2016-06-09T00:00:00.000+0000</td><td>16</td></tr><tr><td>2016-09-09T00:00:00.000+0000</td><td>16</td></tr><tr><td>2020-07-08T00:00:00.000+0000</td><td>16</td></tr><tr><td>2022-05-17T00:00:00.000+0000</td><td>16</td></tr><tr><td>2018-03-19T00:00:00.000+0000</td><td>16</td></tr><tr><td>2015-10-01T00:00:00.000+0000</td><td>16</td></tr><tr><td>2006-08-30T00:00:00.000+0000</td><td>16</td></tr><tr><td>2017-04-06T00:00:00.000+0000</td><td>16</td></tr><tr><td>2018-02-16T00:00:00.000+0000</td><td>16</td></tr><tr><td>2015-08-27T00:00:00.000+0000</td><td>16</td></tr><tr><td>2016-01-08T00:00:00.000+0000</td><td>16</td></tr><tr><td>2017-05-24T00:00:00.000+0000</td><td>16</td></tr><tr><td>2016-01-19T00:00:00.000+0000</td><td>16</td></tr><tr><td>2017-02-22T00:00:00.000+0000</td><td>16</td></tr><tr><td>2015-05-22T00:00:00.000+0000</td><td>16</td></tr><tr><td>2018-01-17T00:00:00.000+0000</td><td>16</td></tr><tr><td>2017-01-24T00:00:00.000+0000</td><td>16</td></tr><tr><td>2022-04-12T00:00:00.000+0000</td><td>16</td></tr><tr><td>2016-12-05T00:00:00.000+0000</td><td>16</td></tr><tr><td>2016-11-29T00:00:00.000+0000</td><td>16</td></tr><tr><td>2017-07-18T00:00:00.000+0000</td><td>16</td></tr><tr><td>2014-05-30T00:00:00.000+0000</td><td>16</td></tr><tr><td>2019-05-14T00:00:00.000+0000</td><td>16</td></tr><tr><td>2016-01-15T00:00:00.000+0000</td><td>16</td></tr><tr><td>2017-06-30T00:00:00.000+0000</td><td>16</td></tr><tr><td>2019-06-05T00:00:00.000+0000</td><td>16</td></tr><tr><td>2021-05-24T00:00:00.000+0000</td><td>16</td></tr><tr><td>2015-05-11T00:00:00.000+0000</td><td>16</td></tr><tr><td>2015-08-14T00:00:00.000+0000</td><td>16</td></tr><tr><td>2022-09-21T00:00:00.000+0000</td><td>16</td></tr><tr><td>2017-01-16T00:00:00.000+0000</td><td>16</td></tr><tr><td>2016-06-16T00:00:00.000+0000</td><td>16</td></tr><tr><td>2016-09-05T00:00:00.000+0000</td><td>16</td></tr><tr><td>2018-01-04T00:00:00.000+0000</td><td>16</td></tr><tr><td>2017-02-03T00:00:00.000+0000</td><td>16</td></tr><tr><td>2019-04-16T00:00:00.000+0000</td><td>16</td></tr><tr><td>2015-01-30T00:00:00.000+0000</td><td>16</td></tr><tr><td>2019-01-09T00:00:00.000+0000</td><td>16</td></tr><tr><td>2015-10-16T00:00:00.000+0000</td><td>16</td></tr><tr><td>2019-09-25T00:00:00.000+0000</td><td>16</td></tr><tr><td>2015-07-16T00:00:00.000+0000</td><td>16</td></tr><tr><td>2020-01-20T00:00:00.000+0000</td><td>16</td></tr><tr><td>2022-01-03T00:00:00.000+0000</td><td>15</td></tr><tr><td>2019-02-05T00:00:00.000+0000</td><td>15</td></tr><tr><td>2019-03-27T00:00:00.000+0000</td><td>15</td></tr><tr><td>2015-02-19T00:00:00.000+0000</td><td>15</td></tr><tr><td>2022-04-11T00:00:00.000+0000</td><td>15</td></tr><tr><td>2015-09-17T00:00:00.000+0000</td><td>15</td></tr><tr><td>2016-08-18T00:00:00.000+0000</td><td>15</td></tr><tr><td>2021-10-16T00:00:00.000+0000</td><td>15</td></tr><tr><td>2016-10-31T00:00:00.000+0000</td><td>15</td></tr><tr><td>2020-04-13T00:00:00.000+0000</td><td>15</td></tr><tr><td>2016-04-07T00:00:00.000+0000</td><td>15</td></tr><tr><td>2016-05-12T00:00:00.000+0000</td><td>15</td></tr><tr><td>2016-06-22T00:00:00.000+0000</td><td>15</td></tr><tr><td>2016-04-01T00:00:00.000+0000</td><td>15</td></tr><tr><td>2015-10-15T00:00:00.000+0000</td><td>15</td></tr><tr><td>2019-03-19T00:00:00.000+0000</td><td>15</td></tr><tr><td>2022-07-04T00:00:00.000+0000</td><td>15</td></tr><tr><td>2016-10-05T00:00:00.000+0000</td><td>15</td></tr><tr><td>2017-01-12T00:00:00.000+0000</td><td>15</td></tr><tr><td>2017-07-10T00:00:00.000+0000</td><td>15</td></tr><tr><td>2018-12-31T00:00:00.000+0000</td><td>15</td></tr><tr><td>2016-09-15T00:00:00.000+0000</td><td>15</td></tr><tr><td>2021-08-03T00:00:00.000+0000</td><td>15</td></tr><tr><td>2014-05-15T00:00:00.000+0000</td><td>15</td></tr><tr><td>2015-06-05T00:00:00.000+0000</td><td>15</td></tr><tr><td>2015-03-25T00:00:00.000+0000</td><td>15</td></tr><tr><td>2016-10-17T00:00:00.000+0000</td><td>15</td></tr><tr><td>2016-12-09T00:00:00.000+0000</td><td>15</td></tr><tr><td>2015-07-17T00:00:00.000+0000</td><td>15</td></tr><tr><td>2017-11-06T00:00:00.000+0000</td><td>15</td></tr><tr><td>2018-06-25T00:00:00.000+0000</td><td>15</td></tr><tr><td>2021-07-12T00:00:00.000+0000</td><td>15</td></tr><tr><td>2016-11-23T00:00:00.000+0000</td><td>15</td></tr><tr><td>2016-10-03T00:00:00.000+0000</td><td>15</td></tr><tr><td>2022-06-13T00:00:00.000+0000</td><td>15</td></tr><tr><td>2015-12-03T00:00:00.000+0000</td><td>15</td></tr><tr><td>2017-01-17T00:00:00.000+0000</td><td>15</td></tr><tr><td>2021-05-11T00:00:00.000+0000</td><td>15</td></tr><tr><td>2015-07-23T00:00:00.000+0000</td><td>15</td></tr><tr><td>2016-08-17T00:00:00.000+0000</td><td>15</td></tr><tr><td>2022-02-23T00:00:00.000+0000</td><td>15</td></tr><tr><td>2016-06-21T00:00:00.000+0000</td><td>15</td></tr><tr><td>2014-05-01T00:00:00.000+0000</td><td>15</td></tr><tr><td>2015-04-01T00:00:00.000+0000</td><td>15</td></tr><tr><td>2017-09-04T00:00:00.000+0000</td><td>15</td></tr><tr><td>2018-10-08T00:00:00.000+0000</td><td>15</td></tr><tr><td>2017-12-28T00:00:00.000+0000</td><td>15</td></tr><tr><td>2016-12-06T00:00:00.000+0000</td><td>15</td></tr><tr><td>2015-07-31T00:00:00.000+0000</td><td>15</td></tr><tr><td>2016-08-16T00:00:00.000+0000</td><td>15</td></tr><tr><td>2016-11-28T00:00:00.000+0000</td><td>15</td></tr><tr><td>2016-06-10T00:00:00.000+0000</td><td>15</td></tr><tr><td>2016-09-14T00:00:00.000+0000</td><td>15</td></tr><tr><td>2016-09-13T00:00:00.000+0000</td><td>15</td></tr><tr><td>2017-03-06T00:00:00.000+0000</td><td>15</td></tr><tr><td>2016-09-28T00:00:00.000+0000</td><td>15</td></tr><tr><td>2022-04-18T00:00:00.000+0000</td><td>15</td></tr><tr><td>2022-10-04T00:00:00.000+0000</td><td>15</td></tr><tr><td>2020-06-08T00:00:00.000+0000</td><td>15</td></tr><tr><td>2017-06-19T00:00:00.000+0000</td><td>15</td></tr><tr><td>2016-01-29T00:00:00.000+0000</td><td>15</td></tr><tr><td>2021-04-21T00:00:00.000+0000</td><td>15</td></tr><tr><td>2017-02-06T00:00:00.000+0000</td><td>15</td></tr><tr><td>2020-06-03T00:00:00.000+0000</td><td>15</td></tr><tr><td>2015-11-09T00:00:00.000+0000</td><td>15</td></tr><tr><td>2017-05-25T00:00:00.000+0000</td><td>15</td></tr><tr><td>2016-04-14T00:00:00.000+0000</td><td>15</td></tr><tr><td>2016-08-03T00:00:00.000+0000</td><td>15</td></tr><tr><td>2021-04-06T00:00:00.000+0000</td><td>15</td></tr><tr><td>2015-05-29T00:00:00.000+0000</td><td>15</td></tr><tr><td>2016-10-13T00:00:00.000+0000</td><td>15</td></tr><tr><td>2016-10-04T00:00:00.000+0000</td><td>15</td></tr><tr><td>2018-07-04T00:00:00.000+0000</td><td>15</td></tr><tr><td>2015-02-24T00:00:00.000+0000</td><td>15</td></tr><tr><td>2016-02-15T00:00:00.000+0000</td><td>15</td></tr><tr><td>2014-05-16T00:00:00.000+0000</td><td>15</td></tr><tr><td>2015-08-25T00:00:00.000+0000</td><td>15</td></tr><tr><td>2016-05-26T00:00:00.000+0000</td><td>15</td></tr><tr><td>2016-05-17T00:00:00.000+0000</td><td>15</td></tr><tr><td>2021-09-22T00:00:00.000+0000</td><td>15</td></tr><tr><td>2017-01-05T00:00:00.000+0000</td><td>15</td></tr><tr><td>2019-10-28T00:00:00.000+0000</td><td>15</td></tr><tr><td>2016-11-14T00:00:00.000+0000</td><td>14</td></tr><tr><td>2020-02-11T00:00:00.000+0000</td><td>14</td></tr><tr><td>2017-04-19T00:00:00.000+0000</td><td>14</td></tr><tr><td>2016-01-21T00:00:00.000+0000</td><td>14</td></tr><tr><td>2020-01-22T00:00:00.000+0000</td><td>14</td></tr><tr><td>2019-03-04T00:00:00.000+0000</td><td>14</td></tr><tr><td>2015-04-27T00:00:00.000+0000</td><td>14</td></tr><tr><td>2016-03-30T00:00:00.000+0000</td><td>14</td></tr><tr><td>2015-05-25T00:00:00.000+0000</td><td>14</td></tr><tr><td>2016-08-01T00:00:00.000+0000</td><td>14</td></tr><tr><td>2010-04-21T00:00:00.000+0000</td><td>14</td></tr><tr><td>2017-03-07T00:00:00.000+0000</td><td>14</td></tr><tr><td>2017-05-16T00:00:00.000+0000</td><td>14</td></tr><tr><td>2020-04-19T00:00:00.000+0000</td><td>14</td></tr><tr><td>2015-01-26T00:00:00.000+0000</td><td>14</td></tr><tr><td>2016-03-07T00:00:00.000+0000</td><td>14</td></tr><tr><td>2021-07-19T00:00:00.000+0000</td><td>14</td></tr><tr><td>2009-06-18T00:00:00.000+0000</td><td>14</td></tr><tr><td>2021-07-25T00:00:00.000+0000</td><td>14</td></tr><tr><td>2015-04-30T00:00:00.000+0000</td><td>14</td></tr><tr><td>2022-10-01T00:00:00.000+0000</td><td>14</td></tr><tr><td>2022-02-27T00:00:00.000+0000</td><td>14</td></tr><tr><td>2015-10-09T00:00:00.000+0000</td><td>14</td></tr><tr><td>2017-07-11T00:00:00.000+0000</td><td>14</td></tr><tr><td>2016-05-20T00:00:00.000+0000</td><td>14</td></tr><tr><td>2022-08-27T00:00:00.000+0000</td><td>14</td></tr><tr><td>2013-11-05T00:00:00.000+0000</td><td>14</td></tr><tr><td>2016-12-23T00:00:00.000+0000</td><td>14</td></tr><tr><td>2017-02-28T00:00:00.000+0000</td><td>14</td></tr><tr><td>2021-11-06T00:00:00.000+0000</td><td>14</td></tr><tr><td>2018-01-08T00:00:00.000+0000</td><td>14</td></tr><tr><td>2016-06-15T00:00:00.000+0000</td><td>14</td></tr><tr><td>2019-07-05T00:00:00.000+0000</td><td>14</td></tr><tr><td>2016-08-22T00:00:00.000+0000</td><td>14</td></tr><tr><td>2016-04-27T00:00:00.000+0000</td><td>14</td></tr><tr><td>2015-05-15T00:00:00.000+0000</td><td>14</td></tr><tr><td>2016-07-13T00:00:00.000+0000</td><td>14</td></tr><tr><td>2020-11-01T00:00:00.000+0000</td><td>14</td></tr><tr><td>2019-06-10T00:00:00.000+0000</td><td>14</td></tr><tr><td>2015-05-26T00:00:00.000+0000</td><td>14</td></tr><tr><td>2016-02-19T00:00:00.000+0000</td><td>14</td></tr><tr><td>2017-05-15T00:00:00.000+0000</td><td>14</td></tr><tr><td>2016-05-05T00:00:00.000+0000</td><td>14</td></tr><tr><td>2015-05-01T00:00:00.000+0000</td><td>14</td></tr><tr><td>2016-08-19T00:00:00.000+0000</td><td>14</td></tr><tr><td>2015-07-24T00:00:00.000+0000</td><td>14</td></tr><tr><td>2016-04-08T00:00:00.000+0000</td><td>14</td></tr><tr><td>2016-03-22T00:00:00.000+0000</td><td>14</td></tr><tr><td>2017-06-23T00:00:00.000+0000</td><td>14</td></tr><tr><td>2020-03-24T00:00:00.000+0000</td><td>14</td></tr><tr><td>2017-05-01T00:00:00.000+0000</td><td>14</td></tr><tr><td>2015-04-02T00:00:00.000+0000</td><td>14</td></tr><tr><td>2016-02-29T00:00:00.000+0000</td><td>14</td></tr><tr><td>2017-06-27T00:00:00.000+0000</td><td>14</td></tr><tr><td>2015-08-24T00:00:00.000+0000</td><td>14</td></tr><tr><td>2016-12-28T00:00:00.000+0000</td><td>14</td></tr><tr><td>2017-06-29T00:00:00.000+0000</td><td>14</td></tr><tr><td>2015-04-28T00:00:00.000+0000</td><td>14</td></tr><tr><td>2017-04-14T00:00:00.000+0000</td><td>14</td></tr><tr><td>2019-06-12T00:00:00.000+0000</td><td>14</td></tr><tr><td>2020-12-20T00:00:00.000+0000</td><td>14</td></tr><tr><td>2015-05-08T00:00:00.000+0000</td><td>14</td></tr><tr><td>2019-05-08T00:00:00.000+0000</td><td>14</td></tr><tr><td>2015-01-29T00:00:00.000+0000</td><td>14</td></tr><tr><td>2016-11-25T00:00:00.000+0000</td><td>14</td></tr><tr><td>2020-09-14T00:00:00.000+0000</td><td>14</td></tr><tr><td>2017-03-27T00:00:00.000+0000</td><td>14</td></tr><tr><td>2015-09-29T00:00:00.000+0000</td><td>14</td></tr><tr><td>2021-07-06T00:00:00.000+0000</td><td>13</td></tr><tr><td>2015-03-27T00:00:00.000+0000</td><td>13</td></tr><tr><td>2015-10-19T00:00:00.000+0000</td><td>13</td></tr><tr><td>2016-01-22T00:00:00.000+0000</td><td>13</td></tr><tr><td>2014-06-16T00:00:00.000+0000</td><td>13</td></tr><tr><td>2015-11-06T00:00:00.000+0000</td><td>13</td></tr><tr><td>2022-10-22T00:00:00.000+0000</td><td>13</td></tr><tr><td>2014-10-23T00:00:00.000+0000</td><td>13</td></tr><tr><td>2015-07-10T00:00:00.000+0000</td><td>13</td></tr><tr><td>2020-06-02T00:00:00.000+0000</td><td>13</td></tr><tr><td>2015-05-21T00:00:00.000+0000</td><td>13</td></tr><tr><td>2015-10-29T00:00:00.000+0000</td><td>13</td></tr><tr><td>2015-08-28T00:00:00.000+0000</td><td>13</td></tr><tr><td>2017-01-27T00:00:00.000+0000</td><td>13</td></tr><tr><td>2015-08-18T00:00:00.000+0000</td><td>13</td></tr><tr><td>2021-02-27T00:00:00.000+0000</td><td>13</td></tr><tr><td>2016-03-28T00:00:00.000+0000</td><td>13</td></tr><tr><td>2018-04-09T00:00:00.000+0000</td><td>13</td></tr><tr><td>2014-11-20T00:00:00.000+0000</td><td>13</td></tr><tr><td>2015-06-26T00:00:00.000+0000</td><td>13</td></tr><tr><td>2019-08-20T00:00:00.000+0000</td><td>13</td></tr><tr><td>2019-07-15T00:00:00.000+0000</td><td>13</td></tr><tr><td>2016-08-15T00:00:00.000+0000</td><td>13</td></tr><tr><td>2020-05-16T00:00:00.000+0000</td><td>13</td></tr><tr><td>2018-09-01T00:00:00.000+0000</td><td>13</td></tr><tr><td>2018-01-03T00:00:00.000+0000</td><td>13</td></tr><tr><td>2016-12-12T00:00:00.000+0000</td><td>13</td></tr><tr><td>2020-01-07T00:00:00.000+0000</td><td>13</td></tr><tr><td>2017-03-21T00:00:00.000+0000</td><td>13</td></tr><tr><td>2010-10-26T00:00:00.000+0000</td><td>13</td></tr><tr><td>2019-07-22T00:00:00.000+0000</td><td>13</td></tr><tr><td>2022-01-15T00:00:00.000+0000</td><td>13</td></tr><tr><td>2016-04-20T00:00:00.000+0000</td><td>13</td></tr><tr><td>2017-08-21T00:00:00.000+0000</td><td>13</td></tr><tr><td>2016-06-06T00:00:00.000+0000</td><td>13</td></tr><tr><td>2017-06-21T00:00:00.000+0000</td><td>13</td></tr><tr><td>2017-08-18T00:00:00.000+0000</td><td>13</td></tr><tr><td>2018-07-03T00:00:00.000+0000</td><td>13</td></tr><tr><td>2016-08-30T00:00:00.000+0000</td><td>13</td></tr><tr><td>2022-04-25T00:00:00.000+0000</td><td>13</td></tr><tr><td>2016-07-28T00:00:00.000+0000</td><td>13</td></tr><tr><td>2022-04-16T00:00:00.000+0000</td><td>13</td></tr><tr><td>2017-02-07T00:00:00.000+0000</td><td>13</td></tr><tr><td>2016-11-08T00:00:00.000+0000</td><td>13</td></tr><tr><td>2014-07-17T00:00:00.000+0000</td><td>13</td></tr><tr><td>2020-07-04T00:00:00.000+0000</td><td>13</td></tr><tr><td>2016-09-21T00:00:00.000+0000</td><td>13</td></tr><tr><td>2017-05-03T00:00:00.000+0000</td><td>13</td></tr><tr><td>2017-04-24T00:00:00.000+0000</td><td>13</td></tr><tr><td>2015-05-12T00:00:00.000+0000</td><td>13</td></tr><tr><td>2015-12-04T00:00:00.000+0000</td><td>13</td></tr><tr><td>2022-10-30T00:00:00.000+0000</td><td>13</td></tr><tr><td>2014-04-24T00:00:00.000+0000</td><td>13</td></tr><tr><td>2017-01-10T00:00:00.000+0000</td><td>13</td></tr><tr><td>2017-07-04T00:00:00.000+0000</td><td>13</td></tr><tr><td>2016-03-11T00:00:00.000+0000</td><td>12</td></tr><tr><td>2022-06-18T00:00:00.000+0000</td><td>12</td></tr><tr><td>2014-03-27T00:00:00.000+0000</td><td>12</td></tr><tr><td>2017-06-12T00:00:00.000+0000</td><td>12</td></tr><tr><td>2016-02-03T00:00:00.000+0000</td><td>12</td></tr><tr><td>2016-04-15T00:00:00.000+0000</td><td>12</td></tr><tr><td>2021-02-21T00:00:00.000+0000</td><td>12</td></tr><tr><td>2019-10-26T00:00:00.000+0000</td><td>12</td></tr><tr><td>2020-01-05T00:00:00.000+0000</td><td>12</td></tr><tr><td>2016-09-06T00:00:00.000+0000</td><td>12</td></tr><tr><td>2019-11-13T00:00:00.000+0000</td><td>12</td></tr><tr><td>2017-01-02T00:00:00.000+0000</td><td>12</td></tr><tr><td>2022-09-03T00:00:00.000+0000</td><td>12</td></tr><tr><td>2015-03-26T00:00:00.000+0000</td><td>12</td></tr><tr><td>2015-09-16T00:00:00.000+0000</td><td>12</td></tr><tr><td>2022-07-06T00:00:00.000+0000</td><td>12</td></tr><tr><td>2016-05-03T00:00:00.000+0000</td><td>12</td></tr><tr><td>2021-11-22T00:00:00.000+0000</td><td>12</td></tr><tr><td>2015-02-02T00:00:00.000+0000</td><td>12</td></tr><tr><td>2015-04-16T00:00:00.000+0000</td><td>12</td></tr><tr><td>2016-02-26T00:00:00.000+0000</td><td>12</td></tr><tr><td>2022-01-04T00:00:00.000+0000</td><td>12</td></tr><tr><td>2019-07-04T00:00:00.000+0000</td><td>12</td></tr><tr><td>2017-01-25T00:00:00.000+0000</td><td>12</td></tr><tr><td>2015-12-15T00:00:00.000+0000</td><td>12</td></tr><tr><td>2014-05-08T00:00:00.000+0000</td><td>12</td></tr><tr><td>2014-07-03T00:00:00.000+0000</td><td>12</td></tr><tr><td>2010-06-01T00:00:00.000+0000</td><td>12</td></tr><tr><td>2015-07-28T00:00:00.000+0000</td><td>12</td></tr><tr><td>2017-05-09T00:00:00.000+0000</td><td>12</td></tr><tr><td>2016-08-11T00:00:00.000+0000</td><td>12</td></tr><tr><td>2021-06-05T00:00:00.000+0000</td><td>12</td></tr><tr><td>2019-02-12T00:00:00.000+0000</td><td>12</td></tr><tr><td>2018-06-02T00:00:00.000+0000</td><td>12</td></tr><tr><td>2019-10-02T00:00:00.000+0000</td><td>12</td></tr><tr><td>2021-05-01T00:00:00.000+0000</td><td>12</td></tr><tr><td>2018-12-27T00:00:00.000+0000</td><td>12</td></tr><tr><td>2014-09-15T00:00:00.000+0000</td><td>12</td></tr><tr><td>2021-10-30T00:00:00.000+0000</td><td>12</td></tr><tr><td>2022-07-05T00:00:00.000+0000</td><td>12</td></tr><tr><td>2016-02-24T00:00:00.000+0000</td><td>12</td></tr><tr><td>2017-04-12T00:00:00.000+0000</td><td>12</td></tr><tr><td>2016-06-20T00:00:00.000+0000</td><td>12</td></tr><tr><td>2022-02-19T00:00:00.000+0000</td><td>12</td></tr><tr><td>2015-02-12T00:00:00.000+0000</td><td>12</td></tr><tr><td>2015-07-06T00:00:00.000+0000</td><td>12</td></tr><tr><td>2020-11-29T00:00:00.000+0000</td><td>12</td></tr><tr><td>2015-02-25T00:00:00.000+0000</td><td>12</td></tr><tr><td>2016-05-13T00:00:00.000+0000</td><td>12</td></tr><tr><td>2017-04-03T00:00:00.000+0000</td><td>12</td></tr><tr><td>2016-01-27T00:00:00.000+0000</td><td>12</td></tr><tr><td>2014-12-11T00:00:00.000+0000</td><td>12</td></tr><tr><td>2014-05-22T00:00:00.000+0000</td><td>12</td></tr><tr><td>2022-07-02T00:00:00.000+0000</td><td>12</td></tr><tr><td>2017-06-05T00:00:00.000+0000</td><td>12</td></tr><tr><td>2015-06-02T00:00:00.000+0000</td><td>12</td></tr><tr><td>2022-01-30T00:00:00.000+0000</td><td>12</td></tr><tr><td>2020-07-19T00:00:00.000+0000</td><td>12</td></tr><tr><td>2020-07-12T00:00:00.000+0000</td><td>12</td></tr><tr><td>2015-12-02T00:00:00.000+0000</td><td>12</td></tr><tr><td>2015-10-02T00:00:00.000+0000</td><td>12</td></tr><tr><td>2015-09-02T00:00:00.000+0000</td><td>12</td></tr><tr><td>2017-06-28T00:00:00.000+0000</td><td>12</td></tr><tr><td>2019-04-23T00:00:00.000+0000</td><td>12</td></tr><tr><td>2015-04-24T00:00:00.000+0000</td><td>12</td></tr><tr><td>2017-01-11T00:00:00.000+0000</td><td>12</td></tr><tr><td>2020-01-12T00:00:00.000+0000</td><td>12</td></tr><tr><td>2015-08-03T00:00:00.000+0000</td><td>12</td></tr><tr><td>2016-02-22T00:00:00.000+0000</td><td>12</td></tr><tr><td>2014-11-14T00:00:00.000+0000</td><td>12</td></tr><tr><td>2015-01-16T00:00:00.000+0000</td><td>12</td></tr><tr><td>2021-08-01T00:00:00.000+0000</td><td>12</td></tr><tr><td>2017-01-23T00:00:00.000+0000</td><td>12</td></tr><tr><td>2014-08-22T00:00:00.000+0000</td><td>12</td></tr><tr><td>2015-11-23T00:00:00.000+0000</td><td>12</td></tr><tr><td>2022-01-08T00:00:00.000+0000</td><td>12</td></tr><tr><td>2014-10-30T00:00:00.000+0000</td><td>12</td></tr><tr><td>2016-03-10T00:00:00.000+0000</td><td>11</td></tr><tr><td>2015-01-08T00:00:00.000+0000</td><td>11</td></tr><tr><td>2022-04-30T00:00:00.000+0000</td><td>11</td></tr><tr><td>2022-07-16T00:00:00.000+0000</td><td>11</td></tr><tr><td>2017-06-06T00:00:00.000+0000</td><td>11</td></tr><tr><td>2019-06-26T00:00:00.000+0000</td><td>11</td></tr><tr><td>2015-07-09T00:00:00.000+0000</td><td>11</td></tr><tr><td>2018-01-02T00:00:00.000+0000</td><td>11</td></tr><tr><td>2012-11-28T00:00:00.000+0000</td><td>11</td></tr><tr><td>2015-07-08T00:00:00.000+0000</td><td>11</td></tr><tr><td>2021-10-11T00:00:00.000+0000</td><td>11</td></tr><tr><td>2015-09-11T00:00:00.000+0000</td><td>11</td></tr><tr><td>2015-10-28T00:00:00.000+0000</td><td>11</td></tr><tr><td>2020-07-18T00:00:00.000+0000</td><td>11</td></tr><tr><td>2020-10-31T00:00:00.000+0000</td><td>11</td></tr><tr><td>2022-03-13T00:00:00.000+0000</td><td>11</td></tr><tr><td>2015-07-07T00:00:00.000+0000</td><td>11</td></tr><tr><td>2016-03-16T00:00:00.000+0000</td><td>11</td></tr><tr><td>2015-11-13T00:00:00.000+0000</td><td>11</td></tr><tr><td>2016-07-18T00:00:00.000+0000</td><td>11</td></tr><tr><td>2020-04-06T00:00:00.000+0000</td><td>11</td></tr><tr><td>2016-05-10T00:00:00.000+0000</td><td>11</td></tr><tr><td>2016-07-11T00:00:00.000+0000</td><td>11</td></tr><tr><td>2016-03-23T00:00:00.000+0000</td><td>11</td></tr><tr><td>2016-03-21T00:00:00.000+0000</td><td>11</td></tr><tr><td>2016-06-23T00:00:00.000+0000</td><td>11</td></tr><tr><td>2016-02-02T00:00:00.000+0000</td><td>11</td></tr><tr><td>2017-04-10T00:00:00.000+0000</td><td>11</td></tr><tr><td>2015-09-15T00:00:00.000+0000</td><td>11</td></tr><tr><td>2018-01-01T00:00:00.000+0000</td><td>11</td></tr><tr><td>2021-08-28T00:00:00.000+0000</td><td>11</td></tr><tr><td>2014-10-24T00:00:00.000+0000</td><td>11</td></tr><tr><td>2014-10-17T00:00:00.000+0000</td><td>11</td></tr><tr><td>2015-05-04T00:00:00.000+0000</td><td>11</td></tr><tr><td>2014-06-12T00:00:00.000+0000</td><td>11</td></tr><tr><td>2017-03-13T00:00:00.000+0000</td><td>11</td></tr><tr><td>2021-11-07T00:00:00.000+0000</td><td>11</td></tr><tr><td>2015-02-04T00:00:00.000+0000</td><td>11</td></tr><tr><td>2014-04-16T00:00:00.000+0000</td><td>11</td></tr><tr><td>2021-02-09T00:00:00.000+0000</td><td>11</td></tr><tr><td>2022-01-16T00:00:00.000+0000</td><td>11</td></tr><tr><td>2015-06-30T00:00:00.000+0000</td><td>11</td></tr><tr><td>2015-10-13T00:00:00.000+0000</td><td>11</td></tr><tr><td>2015-11-19T00:00:00.000+0000</td><td>11</td></tr><tr><td>2019-12-26T00:00:00.000+0000</td><td>11</td></tr><tr><td>2014-11-07T00:00:00.000+0000</td><td>11</td></tr><tr><td>2015-07-29T00:00:00.000+0000</td><td>11</td></tr><tr><td>2017-07-05T00:00:00.000+0000</td><td>11</td></tr><tr><td>2016-08-05T00:00:00.000+0000</td><td>11</td></tr><tr><td>2015-12-01T00:00:00.000+0000</td><td>11</td></tr><tr><td>2022-05-14T00:00:00.000+0000</td><td>11</td></tr><tr><td>2015-04-20T00:00:00.000+0000</td><td>11</td></tr><tr><td>2020-06-07T00:00:00.000+0000</td><td>11</td></tr><tr><td>2015-12-07T00:00:00.000+0000</td><td>11</td></tr><tr><td>2015-04-17T00:00:00.000+0000</td><td>11</td></tr><tr><td>2014-05-21T00:00:00.000+0000</td><td>11</td></tr><tr><td>2016-01-11T00:00:00.000+0000</td><td>11</td></tr><tr><td>2015-05-14T00:00:00.000+0000</td><td>11</td></tr><tr><td>2021-02-20T00:00:00.000+0000</td><td>11</td></tr><tr><td>2015-04-10T00:00:00.000+0000</td><td>11</td></tr><tr><td>2017-12-26T00:00:00.000+0000</td><td>11</td></tr><tr><td>2022-06-12T00:00:00.000+0000</td><td>11</td></tr><tr><td>2021-10-31T00:00:00.000+0000</td><td>11</td></tr><tr><td>2016-07-20T00:00:00.000+0000</td><td>11</td></tr><tr><td>2019-01-08T00:00:00.000+0000</td><td>11</td></tr><tr><td>2016-08-12T00:00:00.000+0000</td><td>11</td></tr><tr><td>2021-01-24T00:00:00.000+0000</td><td>11</td></tr><tr><td>2016-02-16T00:00:00.000+0000</td><td>11</td></tr><tr><td>2016-06-13T00:00:00.000+0000</td><td>11</td></tr><tr><td>2022-02-13T00:00:00.000+0000</td><td>11</td></tr><tr><td>2022-03-27T00:00:00.000+0000</td><td>11</td></tr><tr><td>2020-05-23T00:00:00.000+0000</td><td>11</td></tr><tr><td>2017-07-24T00:00:00.000+0000</td><td>11</td></tr><tr><td>2022-06-04T00:00:00.000+0000</td><td>11</td></tr><tr><td>2015-04-22T00:00:00.000+0000</td><td>11</td></tr><tr><td>2014-05-29T00:00:00.000+0000</td><td>11</td></tr><tr><td>2016-10-10T00:00:00.000+0000</td><td>11</td></tr><tr><td>2015-01-15T00:00:00.000+0000</td><td>11</td></tr><tr><td>2015-03-30T00:00:00.000+0000</td><td>10</td></tr><tr><td>2020-04-18T00:00:00.000+0000</td><td>10</td></tr><tr><td>2021-03-20T00:00:00.000+0000</td><td>10</td></tr><tr><td>2015-03-02T00:00:00.000+0000</td><td>10</td></tr><tr><td>2022-03-12T00:00:00.000+0000</td><td>10</td></tr><tr><td>2014-08-08T00:00:00.000+0000</td><td>10</td></tr><tr><td>2022-04-24T00:00:00.000+0000</td><td>10</td></tr><tr><td>2021-03-06T00:00:00.000+0000</td><td>10</td></tr><tr><td>2022-01-23T00:00:00.000+0000</td><td>10</td></tr><tr><td>2022-03-06T00:00:00.000+0000</td><td>10</td></tr><tr><td>2015-07-15T00:00:00.000+0000</td><td>10</td></tr><tr><td>2014-02-13T00:00:00.000+0000</td><td>10</td></tr><tr><td>2017-06-07T00:00:00.000+0000</td><td>10</td></tr><tr><td>2014-07-09T00:00:00.000+0000</td><td>10</td></tr><tr><td>2015-09-18T00:00:00.000+0000</td><td>10</td></tr><tr><td>2018-04-29T00:00:00.000+0000</td><td>10</td></tr><tr><td>2021-08-22T00:00:00.000+0000</td><td>10</td></tr><tr><td>2021-12-18T00:00:00.000+0000</td><td>10</td></tr><tr><td>2018-09-30T00:00:00.000+0000</td><td>10</td></tr><tr><td>2015-10-20T00:00:00.000+0000</td><td>10</td></tr><tr><td>2020-08-30T00:00:00.000+0000</td><td>10</td></tr><tr><td>2014-07-15T00:00:00.000+0000</td><td>10</td></tr><tr><td>2015-06-03T00:00:00.000+0000</td><td>10</td></tr><tr><td>2019-12-27T00:00:00.000+0000</td><td>10</td></tr><tr><td>2015-10-30T00:00:00.000+0000</td><td>10</td></tr><tr><td>2019-01-14T00:00:00.000+0000</td><td>10</td></tr><tr><td>2016-05-18T00:00:00.000+0000</td><td>10</td></tr><tr><td>2016-02-17T00:00:00.000+0000</td><td>10</td></tr><tr><td>2015-09-22T00:00:00.000+0000</td><td>10</td></tr><tr><td>2019-12-08T00:00:00.000+0000</td><td>10</td></tr><tr><td>2021-03-14T00:00:00.000+0000</td><td>10</td></tr><tr><td>2017-03-01T00:00:00.000+0000</td><td>10</td></tr><tr><td>2017-01-04T00:00:00.000+0000</td><td>10</td></tr><tr><td>2015-11-18T00:00:00.000+0000</td><td>10</td></tr><tr><td>2015-09-04T00:00:00.000+0000</td><td>10</td></tr><tr><td>2016-04-18T00:00:00.000+0000</td><td>10</td></tr><tr><td>2018-06-11T00:00:00.000+0000</td><td>10</td></tr><tr><td>2019-11-17T00:00:00.000+0000</td><td>10</td></tr><tr><td>2016-01-28T00:00:00.000+0000</td><td>10</td></tr><tr><td>2021-01-04T00:00:00.000+0000</td><td>10</td></tr><tr><td>2017-03-22T00:00:00.000+0000</td><td>10</td></tr><tr><td>2022-02-12T00:00:00.000+0000</td><td>10</td></tr><tr><td>2022-07-31T00:00:00.000+0000</td><td>10</td></tr><tr><td>2020-02-02T00:00:00.000+0000</td><td>10</td></tr><tr><td>2021-03-27T00:00:00.000+0000</td><td>10</td></tr><tr><td>2014-11-21T00:00:00.000+0000</td><td>10</td></tr><tr><td>2017-07-03T00:00:00.000+0000</td><td>10</td></tr><tr><td>2021-09-11T00:00:00.000+0000</td><td>10</td></tr><tr><td>2014-09-18T00:00:00.000+0000</td><td>10</td></tr><tr><td>2014-03-28T00:00:00.000+0000</td><td>10</td></tr><tr><td>2015-12-08T00:00:00.000+0000</td><td>10</td></tr><tr><td>2015-11-16T00:00:00.000+0000</td><td>10</td></tr><tr><td>2014-07-14T00:00:00.000+0000</td><td>10</td></tr><tr><td>2019-12-25T00:00:00.000+0000</td><td>10</td></tr><tr><td>2015-11-24T00:00:00.000+0000</td><td>10</td></tr><tr><td>2011-01-26T00:00:00.000+0000</td><td>10</td></tr><tr><td>2020-05-09T00:00:00.000+0000</td><td>10</td></tr><tr><td>2015-12-11T00:00:00.000+0000</td><td>10</td></tr><tr><td>2015-08-19T00:00:00.000+0000</td><td>10</td></tr><tr><td>2021-03-13T00:00:00.000+0000</td><td>10</td></tr><tr><td>2021-09-04T00:00:00.000+0000</td><td>10</td></tr><tr><td>2015-11-30T00:00:00.000+0000</td><td>10</td></tr><tr><td>2015-02-03T00:00:00.000+0000</td><td>10</td></tr><tr><td>2015-12-17T00:00:00.000+0000</td><td>10</td></tr><tr><td>2017-06-14T00:00:00.000+0000</td><td>10</td></tr><tr><td>2014-07-11T00:00:00.000+0000</td><td>10</td></tr><tr><td>2020-12-27T00:00:00.000+0000</td><td>10</td></tr><tr><td>2015-02-06T00:00:00.000+0000</td><td>10</td></tr><tr><td>2016-09-07T00:00:00.000+0000</td><td>10</td></tr><tr><td>2015-10-22T00:00:00.000+0000</td><td>10</td></tr><tr><td>2015-06-08T00:00:00.000+0000</td><td>10</td></tr><tr><td>2016-03-02T00:00:00.000+0000</td><td>10</td></tr><tr><td>2015-04-09T00:00:00.000+0000</td><td>10</td></tr><tr><td>2016-04-13T00:00:00.000+0000</td><td>10</td></tr><tr><td>2020-11-14T00:00:00.000+0000</td><td>10</td></tr><tr><td>2016-06-08T00:00:00.000+0000</td><td>10</td></tr><tr><td>2016-05-25T00:00:00.000+0000</td><td>10</td></tr><tr><td>2021-07-31T00:00:00.000+0000</td><td>10</td></tr><tr><td>2009-07-08T00:00:00.000+0000</td><td>10</td></tr><tr><td>2016-10-11T00:00:00.000+0000</td><td>10</td></tr><tr><td>2022-02-20T00:00:00.000+0000</td><td>10</td></tr><tr><td>2016-07-14T00:00:00.000+0000</td><td>10</td></tr><tr><td>2018-03-11T00:00:00.000+0000</td><td>10</td></tr><tr><td>2021-05-02T00:00:00.000+0000</td><td>10</td></tr><tr><td>2014-12-16T00:00:00.000+0000</td><td>10</td></tr><tr><td>2016-03-15T00:00:00.000+0000</td><td>10</td></tr><tr><td>2014-07-01T00:00:00.000+0000</td><td>10</td></tr><tr><td>2014-04-18T00:00:00.000+0000</td><td>10</td></tr><tr><td>2010-09-13T00:00:00.000+0000</td><td>10</td></tr><tr><td>2015-06-24T00:00:00.000+0000</td><td>10</td></tr><tr><td>2015-11-12T00:00:00.000+0000</td><td>10</td></tr><tr><td>2016-10-12T00:00:00.000+0000</td><td>10</td></tr><tr><td>2017-05-08T00:00:00.000+0000</td><td>10</td></tr><tr><td>2019-01-02T00:00:00.000+0000</td><td>10</td></tr><tr><td>2022-09-04T00:00:00.000+0000</td><td>10</td></tr><tr><td>2021-04-03T00:00:00.000+0000</td><td>10</td></tr><tr><td>2015-09-28T00:00:00.000+0000</td><td>9</td></tr><tr><td>2021-12-28T00:00:00.000+0000</td><td>9</td></tr><tr><td>2019-09-07T00:00:00.000+0000</td><td>9</td></tr><tr><td>2014-07-31T00:00:00.000+0000</td><td>9</td></tr><tr><td>2014-08-15T00:00:00.000+0000</td><td>9</td></tr><tr><td>2016-02-23T00:00:00.000+0000</td><td>9</td></tr><tr><td>2015-10-08T00:00:00.000+0000</td><td>9</td></tr><tr><td>2022-07-03T00:00:00.000+0000</td><td>9</td></tr><tr><td>2014-10-28T00:00:00.000+0000</td><td>9</td></tr><tr><td>2015-10-12T00:00:00.000+0000</td><td>9</td></tr><tr><td>2020-01-04T00:00:00.000+0000</td><td>9</td></tr><tr><td>2020-05-17T00:00:00.000+0000</td><td>9</td></tr><tr><td>2015-12-22T00:00:00.000+0000</td><td>9</td></tr><tr><td>2015-06-23T00:00:00.000+0000</td><td>9</td></tr><tr><td>2015-09-10T00:00:00.000+0000</td><td>9</td></tr><tr><td>2018-08-11T00:00:00.000+0000</td><td>9</td></tr><tr><td>2014-07-16T00:00:00.000+0000</td><td>9</td></tr><tr><td>2014-04-15T00:00:00.000+0000</td><td>9</td></tr><tr><td>2022-05-29T00:00:00.000+0000</td><td>9</td></tr><tr><td>2015-01-28T00:00:00.000+0000</td><td>9</td></tr><tr><td>2014-12-18T00:00:00.000+0000</td><td>9</td></tr><tr><td>2015-10-27T00:00:00.000+0000</td><td>9</td></tr><tr><td>2019-07-01T00:00:00.000+0000</td><td>9</td></tr><tr><td>2007-03-15T00:00:00.000+0000</td><td>9</td></tr><tr><td>2014-09-12T00:00:00.000+0000</td><td>9</td></tr><tr><td>2021-02-14T00:00:00.000+0000</td><td>9</td></tr><tr><td>2019-04-06T00:00:00.000+0000</td><td>9</td></tr><tr><td>2021-02-13T00:00:00.000+0000</td><td>9</td></tr><tr><td>2021-05-15T00:00:00.000+0000</td><td>9</td></tr><tr><td>2022-04-02T00:00:00.000+0000</td><td>9</td></tr><tr><td>2015-01-22T00:00:00.000+0000</td><td>9</td></tr><tr><td>2013-12-03T00:00:00.000+0000</td><td>9</td></tr><tr><td>2019-09-21T00:00:00.000+0000</td><td>9</td></tr><tr><td>2015-10-05T00:00:00.000+0000</td><td>9</td></tr><tr><td>2016-05-04T00:00:00.000+0000</td><td>9</td></tr><tr><td>2016-02-11T00:00:00.000+0000</td><td>9</td></tr><tr><td>2020-11-22T00:00:00.000+0000</td><td>9</td></tr><tr><td>2021-07-05T00:00:00.000+0000</td><td>9</td></tr><tr><td>2022-06-27T00:00:00.000+0000</td><td>9</td></tr><tr><td>2015-04-29T00:00:00.000+0000</td><td>9</td></tr><tr><td>2018-12-25T00:00:00.000+0000</td><td>9</td></tr><tr><td>2015-07-20T00:00:00.000+0000</td><td>9</td></tr><tr><td>2015-03-17T00:00:00.000+0000</td><td>9</td></tr><tr><td>2018-12-15T00:00:00.000+0000</td><td>9</td></tr><tr><td>2016-12-29T00:00:00.000+0000</td><td>9</td></tr><tr><td>2021-11-14T00:00:00.000+0000</td><td>9</td></tr><tr><td>2022-09-10T00:00:00.000+0000</td><td>9</td></tr><tr><td>2015-09-01T00:00:00.000+0000</td><td>9</td></tr><tr><td>2014-07-25T00:00:00.000+0000</td><td>9</td></tr><tr><td>2015-08-26T00:00:00.000+0000</td><td>9</td></tr><tr><td>2014-09-16T00:00:00.000+0000</td><td>9</td></tr><tr><td>2016-07-27T00:00:00.000+0000</td><td>9</td></tr><tr><td>2015-07-13T00:00:00.000+0000</td><td>9</td></tr><tr><td>2016-04-25T00:00:00.000+0000</td><td>9</td></tr><tr><td>2020-02-29T00:00:00.000+0000</td><td>9</td></tr><tr><td>2015-01-09T00:00:00.000+0000</td><td>9</td></tr><tr><td>2016-07-06T00:00:00.000+0000</td><td>9</td></tr><tr><td>2021-09-25T00:00:00.000+0000</td><td>9</td></tr><tr><td>2019-01-05T00:00:00.000+0000</td><td>9</td></tr><tr><td>2016-05-02T00:00:00.000+0000</td><td>9</td></tr><tr><td>2017-04-17T00:00:00.000+0000</td><td>9</td></tr><tr><td>2016-01-05T00:00:00.000+0000</td><td>9</td></tr><tr><td>2014-05-23T00:00:00.000+0000</td><td>9</td></tr><tr><td>2014-09-17T00:00:00.000+0000</td><td>9</td></tr><tr><td>2016-09-27T00:00:00.000+0000</td><td>9</td></tr><tr><td>2019-11-10T00:00:00.000+0000</td><td>9</td></tr><tr><td>2018-05-19T00:00:00.000+0000</td><td>9</td></tr><tr><td>2015-11-17T00:00:00.000+0000</td><td>9</td></tr><tr><td>2020-02-15T00:00:00.000+0000</td><td>9</td></tr><tr><td>2022-05-28T00:00:00.000+0000</td><td>9</td></tr><tr><td>2022-10-09T00:00:00.000+0000</td><td>9</td></tr><tr><td>2020-03-07T00:00:00.000+0000</td><td>9</td></tr><tr><td>2021-05-16T00:00:00.000+0000</td><td>9</td></tr><tr><td>2022-03-19T00:00:00.000+0000</td><td>9</td></tr><tr><td>2014-04-23T00:00:00.000+0000</td><td>9</td></tr><tr><td>2012-05-02T00:00:00.000+0000</td><td>9</td></tr><tr><td>2013-12-05T00:00:00.000+0000</td><td>9</td></tr><tr><td>2021-06-12T00:00:00.000+0000</td><td>9</td></tr><tr><td>2020-07-25T00:00:00.000+0000</td><td>9</td></tr><tr><td>2021-01-16T00:00:00.000+0000</td><td>9</td></tr><tr><td>2016-11-24T00:00:00.000+0000</td><td>9</td></tr><tr><td>2016-04-11T00:00:00.000+0000</td><td>9</td></tr><tr><td>2016-12-30T00:00:00.000+0000</td><td>9</td></tr><tr><td>2013-10-17T00:00:00.000+0000</td><td>9</td></tr><tr><td>2014-07-18T00:00:00.000+0000</td><td>9</td></tr><tr><td>2015-07-22T00:00:00.000+0000</td><td>9</td></tr><tr><td>2018-10-14T00:00:00.000+0000</td><td>9</td></tr><tr><td>2021-12-05T00:00:00.000+0000</td><td>9</td></tr><tr><td>2014-09-23T00:00:00.000+0000</td><td>9</td></tr><tr><td>2014-04-25T00:00:00.000+0000</td><td>9</td></tr><tr><td>2019-01-06T00:00:00.000+0000</td><td>9</td></tr><tr><td>2015-08-10T00:00:00.000+0000</td><td>9</td></tr><tr><td>2016-01-14T00:00:00.000+0000</td><td>9</td></tr><tr><td>2016-07-01T00:00:00.000+0000</td><td>9</td></tr><tr><td>2014-11-18T00:00:00.000+0000</td><td>9</td></tr><tr><td>2019-11-24T00:00:00.000+0000</td><td>9</td></tr><tr><td>2009-08-27T00:00:00.000+0000</td><td>9</td></tr><tr><td>2018-02-17T00:00:00.000+0000</td><td>9</td></tr><tr><td>2015-12-09T00:00:00.000+0000</td><td>9</td></tr><tr><td>2018-11-17T00:00:00.000+0000</td><td>9</td></tr><tr><td>2014-11-06T00:00:00.000+0000</td><td>9</td></tr><tr><td>2014-04-03T00:00:00.000+0000</td><td>9</td></tr><tr><td>2021-05-23T00:00:00.000+0000</td><td>9</td></tr><tr><td>2019-12-24T00:00:00.000+0000</td><td>9</td></tr><tr><td>2017-06-13T00:00:00.000+0000</td><td>9</td></tr><tr><td>2018-06-26T00:00:00.000+0000</td><td>9</td></tr><tr><td>2015-03-12T00:00:00.000+0000</td><td>9</td></tr><tr><td>2022-02-05T00:00:00.000+0000</td><td>9</td></tr><tr><td>2022-05-01T00:00:00.000+0000</td><td>8</td></tr><tr><td>2014-09-05T00:00:00.000+0000</td><td>8</td></tr><tr><td>2011-08-26T00:00:00.000+0000</td><td>8</td></tr><tr><td>2016-01-18T00:00:00.000+0000</td><td>8</td></tr><tr><td>2015-12-14T00:00:00.000+0000</td><td>8</td></tr><tr><td>2014-04-11T00:00:00.000+0000</td><td>8</td></tr><tr><td>2014-12-15T00:00:00.000+0000</td><td>8</td></tr><tr><td>2015-10-26T00:00:00.000+0000</td><td>8</td></tr><tr><td>2016-03-17T00:00:00.000+0000</td><td>8</td></tr><tr><td>2014-04-04T00:00:00.000+0000</td><td>8</td></tr><tr><td>2020-12-05T00:00:00.000+0000</td><td>8</td></tr><tr><td>2013-09-27T00:00:00.000+0000</td><td>8</td></tr><tr><td>2015-05-06T00:00:00.000+0000</td><td>8</td></tr><tr><td>2016-02-04T00:00:00.000+0000</td><td>8</td></tr><tr><td>2015-01-12T00:00:00.000+0000</td><td>8</td></tr><tr><td>2019-07-14T00:00:00.000+0000</td><td>8</td></tr><tr><td>2020-07-05T00:00:00.000+0000</td><td>8</td></tr><tr><td>2022-10-15T00:00:00.000+0000</td><td>8</td></tr><tr><td>2015-03-05T00:00:00.000+0000</td><td>8</td></tr><tr><td>2015-01-23T00:00:00.000+0000</td><td>8</td></tr><tr><td>2013-10-24T00:00:00.000+0000</td><td>8</td></tr><tr><td>2016-12-27T00:00:00.000+0000</td><td>8</td></tr><tr><td>2015-07-01T00:00:00.000+0000</td><td>8</td></tr><tr><td>2020-04-26T00:00:00.000+0000</td><td>8</td></tr><tr><td>2021-05-08T00:00:00.000+0000</td><td>8</td></tr><tr><td>2016-09-19T00:00:00.000+0000</td><td>8</td></tr><tr><td>2021-10-17T00:00:00.000+0000</td><td>8</td></tr><tr><td>2017-05-02T00:00:00.000+0000</td><td>8</td></tr><tr><td>2015-09-08T00:00:00.000+0000</td><td>8</td></tr><tr><td>2019-04-14T00:00:00.000+0000</td><td>8</td></tr><tr><td>2019-09-01T00:00:00.000+0000</td><td>8</td></tr><tr><td>2014-11-11T00:00:00.000+0000</td><td>8</td></tr><tr><td>2008-01-04T00:00:00.000+0000</td><td>8</td></tr><tr><td>2019-10-20T00:00:00.000+0000</td><td>8</td></tr><tr><td>2014-03-06T00:00:00.000+0000</td><td>8</td></tr><tr><td>2022-04-09T00:00:00.000+0000</td><td>8</td></tr><tr><td>2015-03-13T00:00:00.000+0000</td><td>8</td></tr><tr><td>2021-01-02T00:00:00.000+0000</td><td>8</td></tr><tr><td>2017-12-31T00:00:00.000+0000</td><td>8</td></tr><tr><td>2010-05-06T00:00:00.000+0000</td><td>8</td></tr><tr><td>2021-05-22T00:00:00.000+0000</td><td>8</td></tr><tr><td>2022-04-03T00:00:00.000+0000</td><td>8</td></tr><tr><td>2015-06-29T00:00:00.000+0000</td><td>8</td></tr><tr><td>2019-08-31T00:00:00.000+0000</td><td>8</td></tr><tr><td>2015-07-03T00:00:00.000+0000</td><td>8</td></tr><tr><td>2019-03-09T00:00:00.000+0000</td><td>8</td></tr><tr><td>2020-06-21T00:00:00.000+0000</td><td>8</td></tr><tr><td>2018-09-08T00:00:00.000+0000</td><td>8</td></tr><tr><td>2022-07-23T00:00:00.000+0000</td><td>8</td></tr><tr><td>2016-05-09T00:00:00.000+0000</td><td>8</td></tr><tr><td>2019-11-23T00:00:00.000+0000</td><td>8</td></tr><tr><td>2021-01-10T00:00:00.000+0000</td><td>8</td></tr><tr><td>2019-04-20T00:00:00.000+0000</td><td>8</td></tr><tr><td>2014-09-19T00:00:00.000+0000</td><td>8</td></tr><tr><td>2014-10-22T00:00:00.000+0000</td><td>8</td></tr><tr><td>2019-02-16T00:00:00.000+0000</td><td>8</td></tr><tr><td>2015-01-20T00:00:00.000+0000</td><td>8</td></tr><tr><td>2014-02-14T00:00:00.000+0000</td><td>8</td></tr><tr><td>2016-05-11T00:00:00.000+0000</td><td>8</td></tr><tr><td>2019-07-02T00:00:00.000+0000</td><td>8</td></tr><tr><td>2014-10-09T00:00:00.000+0000</td><td>8</td></tr><tr><td>2013-12-13T00:00:00.000+0000</td><td>8</td></tr><tr><td>2020-07-06T00:00:00.000+0000</td><td>8</td></tr><tr><td>2016-01-20T00:00:00.000+0000</td><td>8</td></tr><tr><td>2015-07-02T00:00:00.000+0000</td><td>8</td></tr><tr><td>2016-01-07T00:00:00.000+0000</td><td>8</td></tr><tr><td>2014-06-13T00:00:00.000+0000</td><td>8</td></tr><tr><td>2015-05-05T00:00:00.000+0000</td><td>8</td></tr><tr><td>2016-05-24T00:00:00.000+0000</td><td>8</td></tr><tr><td>2015-04-03T00:00:00.000+0000</td><td>8</td></tr><tr><td>2009-10-10T00:00:00.000+0000</td><td>8</td></tr><tr><td>2017-07-16T00:00:00.000+0000</td><td>8</td></tr><tr><td>2009-07-17T00:00:00.000+0000</td><td>8</td></tr><tr><td>2015-10-06T00:00:00.000+0000</td><td>8</td></tr><tr><td>2020-09-06T00:00:00.000+0000</td><td>8</td></tr><tr><td>2014-10-16T00:00:00.000+0000</td><td>8</td></tr><tr><td>2017-12-23T00:00:00.000+0000</td><td>8</td></tr><tr><td>2021-04-11T00:00:00.000+0000</td><td>8</td></tr><tr><td>2019-09-08T00:00:00.000+0000</td><td>8</td></tr><tr><td>2020-05-24T00:00:00.000+0000</td><td>8</td></tr><tr><td>2019-11-03T00:00:00.000+0000</td><td>8</td></tr><tr><td>2015-08-04T00:00:00.000+0000</td><td>8</td></tr><tr><td>2018-07-21T00:00:00.000+0000</td><td>8</td></tr><tr><td>2021-07-24T00:00:00.000+0000</td><td>8</td></tr><tr><td>2014-10-10T00:00:00.000+0000</td><td>8</td></tr><tr><td>2016-04-12T00:00:00.000+0000</td><td>8</td></tr><tr><td>2019-10-27T00:00:00.000+0000</td><td>8</td></tr><tr><td>2015-08-12T00:00:00.000+0000</td><td>8</td></tr><tr><td>2015-08-11T00:00:00.000+0000</td><td>8</td></tr><tr><td>2015-07-27T00:00:00.000+0000</td><td>8</td></tr><tr><td>2020-05-30T00:00:00.000+0000</td><td>8</td></tr><tr><td>2022-07-24T00:00:00.000+0000</td><td>8</td></tr><tr><td>2019-12-14T00:00:00.000+0000</td><td>8</td></tr><tr><td>2017-01-18T00:00:00.000+0000</td><td>8</td></tr><tr><td>2021-09-12T00:00:00.000+0000</td><td>8</td></tr><tr><td>2017-04-26T00:00:00.000+0000</td><td>8</td></tr><tr><td>2018-09-09T00:00:00.000+0000</td><td>7</td></tr><tr><td>2020-12-12T00:00:00.000+0000</td><td>7</td></tr><tr><td>2020-02-16T00:00:00.000+0000</td><td>7</td></tr><tr><td>2014-03-11T00:00:00.000+0000</td><td>7</td></tr><tr><td>2016-02-09T00:00:00.000+0000</td><td>7</td></tr><tr><td>2013-10-29T00:00:00.000+0000</td><td>7</td></tr><tr><td>2015-05-07T00:00:00.000+0000</td><td>7</td></tr><tr><td>2022-08-14T00:00:00.000+0000</td><td>7</td></tr><tr><td>2014-05-06T00:00:00.000+0000</td><td>7</td></tr><tr><td>2015-02-20T00:00:00.000+0000</td><td>7</td></tr><tr><td>2015-08-13T00:00:00.000+0000</td><td>7</td></tr><tr><td>2019-08-17T00:00:00.000+0000</td><td>7</td></tr><tr><td>2019-11-16T00:00:00.000+0000</td><td>7</td></tr><tr><td>2022-09-25T00:00:00.000+0000</td><td>7</td></tr><tr><td>2014-10-27T00:00:00.000+0000</td><td>7</td></tr><tr><td>2020-10-04T00:00:00.000+0000</td><td>7</td></tr><tr><td>2013-11-15T00:00:00.000+0000</td><td>7</td></tr><tr><td>2014-11-25T00:00:00.000+0000</td><td>7</td></tr><tr><td>2014-08-29T00:00:00.000+0000</td><td>7</td></tr><tr><td>2016-03-14T00:00:00.000+0000</td><td>7</td></tr><tr><td>2015-02-26T00:00:00.000+0000</td><td>7</td></tr><tr><td>2017-09-03T00:00:00.000+0000</td><td>7</td></tr><tr><td>2019-08-24T00:00:00.000+0000</td><td>7</td></tr><tr><td>2015-03-03T00:00:00.000+0000</td><td>7</td></tr><tr><td>2014-11-12T00:00:00.000+0000</td><td>7</td></tr><tr><td>2014-02-05T00:00:00.000+0000</td><td>7</td></tr><tr><td>2020-08-02T00:00:00.000+0000</td><td>7</td></tr><tr><td>2014-03-25T00:00:00.000+0000</td><td>7</td></tr><tr><td>2014-12-09T00:00:00.000+0000</td><td>7</td></tr><tr><td>2014-12-22T00:00:00.000+0000</td><td>7</td></tr><tr><td>2022-01-01T00:00:00.000+0000</td><td>7</td></tr><tr><td>2020-12-13T00:00:00.000+0000</td><td>7</td></tr><tr><td>2021-07-04T00:00:00.000+0000</td><td>7</td></tr><tr><td>2015-11-10T00:00:00.000+0000</td><td>7</td></tr><tr><td>2016-07-04T00:00:00.000+0000</td><td>7</td></tr><tr><td>2021-02-06T00:00:00.000+0000</td><td>7</td></tr><tr><td>2014-06-05T00:00:00.000+0000</td><td>7</td></tr><tr><td>2015-06-22T00:00:00.000+0000</td><td>7</td></tr><tr><td>2019-02-02T00:00:00.000+0000</td><td>7</td></tr><tr><td>2015-10-14T00:00:00.000+0000</td><td>7</td></tr><tr><td>2015-03-24T00:00:00.000+0000</td><td>7</td></tr><tr><td>2014-09-25T00:00:00.000+0000</td><td>7</td></tr><tr><td>2018-06-16T00:00:00.000+0000</td><td>7</td></tr><tr><td>2022-03-26T00:00:00.000+0000</td><td>7</td></tr><tr><td>2017-10-07T00:00:00.000+0000</td><td>7</td></tr><tr><td>2021-11-27T00:00:00.000+0000</td><td>7</td></tr><tr><td>2020-02-01T00:00:00.000+0000</td><td>7</td></tr><tr><td>2015-11-04T00:00:00.000+0000</td><td>7</td></tr><tr><td>2021-06-20T00:00:00.000+0000</td><td>7</td></tr><tr><td>2014-09-29T00:00:00.000+0000</td><td>7</td></tr><tr><td>2018-06-30T00:00:00.000+0000</td><td>7</td></tr><tr><td>2021-09-05T00:00:00.000+0000</td><td>7</td></tr><tr><td>2019-12-28T00:00:00.000+0000</td><td>7</td></tr><tr><td>2014-12-05T00:00:00.000+0000</td><td>7</td></tr><tr><td>2022-06-11T00:00:00.000+0000</td><td>7</td></tr><tr><td>2014-12-10T00:00:00.000+0000</td><td>7</td></tr><tr><td>2018-10-21T00:00:00.000+0000</td><td>7</td></tr><tr><td>2015-08-07T00:00:00.000+0000</td><td>7</td></tr><tr><td>2016-01-25T00:00:00.000+0000</td><td>7</td></tr><tr><td>2021-05-30T00:00:00.000+0000</td><td>7</td></tr><tr><td>2021-01-30T00:00:00.000+0000</td><td>7</td></tr><tr><td>2020-01-26T00:00:00.000+0000</td><td>7</td></tr><tr><td>2008-07-29T00:00:00.000+0000</td><td>7</td></tr><tr><td>2009-06-16T00:00:00.000+0000</td><td>7</td></tr><tr><td>2015-03-19T00:00:00.000+0000</td><td>7</td></tr><tr><td>2020-09-20T00:00:00.000+0000</td><td>7</td></tr><tr><td>2022-08-13T00:00:00.000+0000</td><td>7</td></tr><tr><td>2015-08-05T00:00:00.000+0000</td><td>7</td></tr><tr><td>2019-11-09T00:00:00.000+0000</td><td>7</td></tr><tr><td>2014-08-21T00:00:00.000+0000</td><td>7</td></tr><tr><td>2022-10-08T00:00:00.000+0000</td><td>7</td></tr><tr><td>2014-02-19T00:00:00.000+0000</td><td>7</td></tr><tr><td>2015-09-21T00:00:00.000+0000</td><td>7</td></tr><tr><td>2014-07-10T00:00:00.000+0000</td><td>7</td></tr><tr><td>2021-07-10T00:00:00.000+0000</td><td>7</td></tr><tr><td>2014-11-24T00:00:00.000+0000</td><td>7</td></tr><tr><td>2016-03-08T00:00:00.000+0000</td><td>7</td></tr><tr><td>2015-03-23T00:00:00.000+0000</td><td>7</td></tr><tr><td>2019-05-19T00:00:00.000+0000</td><td>7</td></tr><tr><td>2015-04-21T00:00:00.000+0000</td><td>7</td></tr><tr><td>2020-12-19T00:00:00.000+0000</td><td>7</td></tr><tr><td>2021-06-19T00:00:00.000+0000</td><td>7</td></tr><tr><td>2014-11-26T00:00:00.000+0000</td><td>7</td></tr><tr><td>2016-01-12T00:00:00.000+0000</td><td>7</td></tr><tr><td>2017-12-17T00:00:00.000+0000</td><td>7</td></tr><tr><td>2020-07-26T00:00:00.000+0000</td><td>7</td></tr><tr><td>2018-07-29T00:00:00.000+0000</td><td>7</td></tr><tr><td>2020-06-13T00:00:00.000+0000</td><td>7</td></tr><tr><td>2020-09-13T00:00:00.000+0000</td><td>7</td></tr><tr><td>2022-02-06T00:00:00.000+0000</td><td>7</td></tr><tr><td>2019-08-11T00:00:00.000+0000</td><td>7</td></tr><tr><td>2021-09-26T00:00:00.000+0000</td><td>7</td></tr><tr><td>2018-03-18T00:00:00.000+0000</td><td>7</td></tr><tr><td>2019-08-03T00:00:00.000+0000</td><td>7</td></tr><tr><td>2022-07-10T00:00:00.000+0000</td><td>7</td></tr><tr><td>2014-12-03T00:00:00.000+0000</td><td>7</td></tr><tr><td>2018-11-04T00:00:00.000+0000</td><td>7</td></tr><tr><td>2020-01-11T00:00:00.000+0000</td><td>7</td></tr><tr><td>2021-11-20T00:00:00.000+0000</td><td>7</td></tr><tr><td>2009-11-04T00:00:00.000+0000</td><td>7</td></tr><tr><td>2018-07-28T00:00:00.000+0000</td><td>7</td></tr><tr><td>2015-05-27T00:00:00.000+0000</td><td>7</td></tr><tr><td>2019-08-10T00:00:00.000+0000</td><td>7</td></tr><tr><td>2014-06-10T00:00:00.000+0000</td><td>7</td></tr><tr><td>2019-12-22T00:00:00.000+0000</td><td>7</td></tr><tr><td>2008-03-12T00:00:00.000+0000</td><td>7</td></tr><tr><td>2020-04-04T00:00:00.000+0000</td><td>7</td></tr><tr><td>2021-08-15T00:00:00.000+0000</td><td>7</td></tr><tr><td>2014-11-10T00:00:00.000+0000</td><td>7</td></tr><tr><td>2016-04-26T00:00:00.000+0000</td><td>7</td></tr><tr><td>2009-08-12T00:00:00.000+0000</td><td>7</td></tr><tr><td>2020-10-03T00:00:00.000+0000</td><td>7</td></tr><tr><td>2014-11-19T00:00:00.000+0000</td><td>7</td></tr><tr><td>2021-12-12T00:00:00.000+0000</td><td>7</td></tr><tr><td>2021-07-17T00:00:00.000+0000</td><td>7</td></tr><tr><td>2014-02-25T00:00:00.000+0000</td><td>7</td></tr><tr><td>2021-12-11T00:00:00.000+0000</td><td>7</td></tr><tr><td>2020-04-11T00:00:00.000+0000</td><td>6</td></tr><tr><td>2020-09-05T00:00:00.000+0000</td><td>6</td></tr><tr><td>2018-03-25T00:00:00.000+0000</td><td>6</td></tr><tr><td>2022-05-07T00:00:00.000+0000</td><td>6</td></tr><tr><td>2014-03-14T00:00:00.000+0000</td><td>6</td></tr><tr><td>2019-10-06T00:00:00.000+0000</td><td>6</td></tr><tr><td>2020-02-22T00:00:00.000+0000</td><td>6</td></tr><tr><td>2017-11-18T00:00:00.000+0000</td><td>6</td></tr><tr><td>2014-07-07T00:00:00.000+0000</td><td>6</td></tr><tr><td>2015-09-07T00:00:00.000+0000</td><td>6</td></tr><tr><td>2020-08-23T00:00:00.000+0000</td><td>6</td></tr><tr><td>2018-12-22T00:00:00.000+0000</td><td>6</td></tr><tr><td>2021-04-10T00:00:00.000+0000</td><td>6</td></tr><tr><td>2015-03-04T00:00:00.000+0000</td><td>6</td></tr><tr><td>2022-11-05T00:00:00.000+0000</td><td>6</td></tr><tr><td>2015-03-06T00:00:00.000+0000</td><td>6</td></tr><tr><td>2013-09-20T00:00:00.000+0000</td><td>6</td></tr><tr><td>2014-12-19T00:00:00.000+0000</td><td>6</td></tr><tr><td>2014-06-04T00:00:00.000+0000</td><td>6</td></tr><tr><td>2014-02-18T00:00:00.000+0000</td><td>6</td></tr><tr><td>2022-05-22T00:00:00.000+0000</td><td>6</td></tr><tr><td>2022-03-20T00:00:00.000+0000</td><td>6</td></tr><tr><td>2021-10-10T00:00:00.000+0000</td><td>6</td></tr><tr><td>2018-04-21T00:00:00.000+0000</td><td>6</td></tr><tr><td>2021-04-25T00:00:00.000+0000</td><td>6</td></tr><tr><td>2018-03-17T00:00:00.000+0000</td><td>6</td></tr><tr><td>2015-03-11T00:00:00.000+0000</td><td>6</td></tr><tr><td>2019-10-05T00:00:00.000+0000</td><td>6</td></tr><tr><td>2014-10-15T00:00:00.000+0000</td><td>6</td></tr><tr><td>2009-12-17T00:00:00.000+0000</td><td>6</td></tr><tr><td>2018-06-17T00:00:00.000+0000</td><td>6</td></tr><tr><td>2014-08-05T00:00:00.000+0000</td><td>6</td></tr><tr><td>2019-01-19T00:00:00.000+0000</td><td>6</td></tr><tr><td>2016-03-09T00:00:00.000+0000</td><td>6</td></tr><tr><td>2019-07-27T00:00:00.000+0000</td><td>6</td></tr><tr><td>2021-12-19T00:00:00.000+0000</td><td>6</td></tr><tr><td>2019-12-30T00:00:00.000+0000</td><td>6</td></tr><tr><td>2015-09-09T00:00:00.000+0000</td><td>6</td></tr><tr><td>2015-06-09T00:00:00.000+0000</td><td>6</td></tr><tr><td>2018-04-15T00:00:00.000+0000</td><td>6</td></tr><tr><td>2022-01-22T00:00:00.000+0000</td><td>6</td></tr><tr><td>2022-09-11T00:00:00.000+0000</td><td>6</td></tr><tr><td>2021-10-24T00:00:00.000+0000</td><td>6</td></tr><tr><td>2021-08-21T00:00:00.000+0000</td><td>6</td></tr><tr><td>2016-05-30T00:00:00.000+0000</td><td>6</td></tr><tr><td>2018-01-28T00:00:00.000+0000</td><td>6</td></tr><tr><td>2019-06-30T00:00:00.000+0000</td><td>6</td></tr><tr><td>2013-10-18T00:00:00.000+0000</td><td>6</td></tr><tr><td>2012-05-11T00:00:00.000+0000</td><td>6</td></tr><tr><td>2013-09-10T00:00:00.000+0000</td><td>6</td></tr><tr><td>2014-04-30T00:00:00.000+0000</td><td>6</td></tr><tr><td>2015-06-11T00:00:00.000+0000</td><td>6</td></tr><tr><td>2015-08-06T00:00:00.000+0000</td><td>6</td></tr><tr><td>2015-10-07T00:00:00.000+0000</td><td>6</td></tr><tr><td>2014-01-30T00:00:00.000+0000</td><td>6</td></tr><tr><td>2021-11-21T00:00:00.000+0000</td><td>6</td></tr><tr><td>2014-04-29T00:00:00.000+0000</td><td>6</td></tr><tr><td>2020-11-15T00:00:00.000+0000</td><td>6</td></tr><tr><td>2021-01-03T00:00:00.000+0000</td><td>6</td></tr><tr><td>2007-06-15T00:00:00.000+0000</td><td>6</td></tr><tr><td>2021-10-23T00:00:00.000+0000</td><td>6</td></tr><tr><td>2020-09-27T00:00:00.000+0000</td><td>6</td></tr><tr><td>2022-03-05T00:00:00.000+0000</td><td>6</td></tr><tr><td>2019-09-28T00:00:00.000+0000</td><td>6</td></tr><tr><td>2021-01-23T00:00:00.000+0000</td><td>6</td></tr><tr><td>2012-10-17T00:00:00.000+0000</td><td>6</td></tr><tr><td>2021-08-08T00:00:00.000+0000</td><td>6</td></tr><tr><td>2022-07-09T00:00:00.000+0000</td><td>6</td></tr><tr><td>2018-01-14T00:00:00.000+0000</td><td>6</td></tr><tr><td>2020-05-03T00:00:00.000+0000</td><td>6</td></tr><tr><td>2017-09-17T00:00:00.000+0000</td><td>6</td></tr><tr><td>2020-11-21T00:00:00.000+0000</td><td>6</td></tr><tr><td>2014-03-20T00:00:00.000+0000</td><td>6</td></tr><tr><td>2014-08-27T00:00:00.000+0000</td><td>6</td></tr><tr><td>2011-10-28T00:00:00.000+0000</td><td>6</td></tr><tr><td>2020-09-26T00:00:00.000+0000</td><td>6</td></tr><tr><td>2014-01-10T00:00:00.000+0000</td><td>6</td></tr><tr><td>2019-09-22T00:00:00.000+0000</td><td>6</td></tr><tr><td>2020-10-24T00:00:00.000+0000</td><td>6</td></tr><tr><td>2015-02-05T00:00:00.000+0000</td><td>6</td></tr><tr><td>2014-02-06T00:00:00.000+0000</td><td>6</td></tr><tr><td>2020-04-25T00:00:00.000+0000</td><td>6</td></tr><tr><td>2009-03-19T00:00:00.000+0000</td><td>6</td></tr><tr><td>2010-10-08T00:00:00.000+0000</td><td>6</td></tr><tr><td>2022-01-09T00:00:00.000+0000</td><td>6</td></tr><tr><td>2020-11-08T00:00:00.000+0000</td><td>6</td></tr><tr><td>2022-09-18T00:00:00.000+0000</td><td>6</td></tr><tr><td>2020-10-17T00:00:00.000+0000</td><td>6</td></tr><tr><td>2009-09-16T00:00:00.000+0000</td><td>6</td></tr><tr><td>2020-03-14T00:00:00.000+0000</td><td>6</td></tr><tr><td>2014-11-04T00:00:00.000+0000</td><td>6</td></tr><tr><td>2014-02-07T00:00:00.000+0000</td><td>6</td></tr><tr><td>2014-03-17T00:00:00.000+0000</td><td>6</td></tr><tr><td>2021-12-25T00:00:00.000+0000</td><td>6</td></tr><tr><td>2021-03-21T00:00:00.000+0000</td><td>6</td></tr><tr><td>2014-04-01T00:00:00.000+0000</td><td>6</td></tr><tr><td>2021-03-07T00:00:00.000+0000</td><td>6</td></tr><tr><td>2014-03-13T00:00:00.000+0000</td><td>6</td></tr><tr><td>2019-01-26T00:00:00.000+0000</td><td>6</td></tr><tr><td>2020-03-22T00:00:00.000+0000</td><td>6</td></tr><tr><td>2017-09-30T00:00:00.000+0000</td><td>6</td></tr><tr><td>2018-09-22T00:00:00.000+0000</td><td>6</td></tr><tr><td>2019-11-30T00:00:00.000+0000</td><td>6</td></tr><tr><td>2013-10-25T00:00:00.000+0000</td><td>6</td></tr><tr><td>2014-12-08T00:00:00.000+0000</td><td>6</td></tr><tr><td>2021-05-29T00:00:00.000+0000</td><td>6</td></tr><tr><td>2015-11-03T00:00:00.000+0000</td><td>6</td></tr><tr><td>2018-04-07T00:00:00.000+0000</td><td>6</td></tr><tr><td>2022-08-07T00:00:00.000+0000</td><td>6</td></tr><tr><td>2019-10-12T00:00:00.000+0000</td><td>6</td></tr><tr><td>2019-06-22T00:00:00.000+0000</td><td>6</td></tr><tr><td>2021-04-04T00:00:00.000+0000</td><td>6</td></tr><tr><td>2018-07-01T00:00:00.000+0000</td><td>6</td></tr><tr><td>2020-01-25T00:00:00.000+0000</td><td>6</td></tr><tr><td>2014-08-06T00:00:00.000+0000</td><td>6</td></tr><tr><td>2020-12-06T00:00:00.000+0000</td><td>6</td></tr><tr><td>2016-05-16T00:00:00.000+0000</td><td>6</td></tr><tr><td>2014-05-09T00:00:00.000+0000</td><td>6</td></tr><tr><td>2020-10-18T00:00:00.000+0000</td><td>6</td></tr><tr><td>2019-01-16T00:00:00.000+0000</td><td>6</td></tr><tr><td>2018-10-07T00:00:00.000+0000</td><td>6</td></tr><tr><td>2015-12-16T00:00:00.000+0000</td><td>6</td></tr><tr><td>2014-08-19T00:00:00.000+0000</td><td>6</td></tr><tr><td>2022-04-17T00:00:00.000+0000</td><td>6</td></tr><tr><td>2015-05-20T00:00:00.000+0000</td><td>6</td></tr><tr><td>2015-02-17T00:00:00.000+0000</td><td>6</td></tr><tr><td>2015-11-11T00:00:00.000+0000</td><td>6</td></tr><tr><td>2007-03-29T00:00:00.000+0000</td><td>6</td></tr><tr><td>2013-11-06T00:00:00.000+0000</td><td>6</td></tr><tr><td>2019-10-13T00:00:00.000+0000</td><td>6</td></tr><tr><td>2014-05-12T00:00:00.000+0000</td><td>6</td></tr><tr><td>2022-04-23T00:00:00.000+0000</td><td>6</td></tr><tr><td>2018-06-03T00:00:00.000+0000</td><td>6</td></tr><tr><td>2021-07-11T00:00:00.000+0000</td><td>6</td></tr><tr><td>2020-07-11T00:00:00.000+0000</td><td>6</td></tr><tr><td>2021-01-09T00:00:00.000+0000</td><td>6</td></tr><tr><td>2017-01-03T00:00:00.000+0000</td><td>6</td></tr><tr><td>2019-09-29T00:00:00.000+0000</td><td>6</td></tr><tr><td>2022-05-15T00:00:00.000+0000</td><td>6</td></tr><tr><td>2022-08-20T00:00:00.000+0000</td><td>6</td></tr><tr><td>2015-08-17T00:00:00.000+0000</td><td>6</td></tr><tr><td>2014-08-01T00:00:00.000+0000</td><td>6</td></tr><tr><td>2015-03-31T00:00:00.000+0000</td><td>6</td></tr><tr><td>2008-05-16T00:00:00.000+0000</td><td>6</td></tr><tr><td>2015-07-14T00:00:00.000+0000</td><td>5</td></tr><tr><td>2019-11-02T00:00:00.000+0000</td><td>5</td></tr><tr><td>2014-08-26T00:00:00.000+0000</td><td>5</td></tr><tr><td>2014-07-08T00:00:00.000+0000</td><td>5</td></tr><tr><td>2016-08-14T00:00:00.000+0000</td><td>5</td></tr><tr><td>2020-03-15T00:00:00.000+0000</td><td>5</td></tr><tr><td>2014-11-13T00:00:00.000+0000</td><td>5</td></tr><tr><td>2018-09-02T00:00:00.000+0000</td><td>5</td></tr><tr><td>2014-01-06T00:00:00.000+0000</td><td>5</td></tr><tr><td>2017-12-25T00:00:00.000+0000</td><td>5</td></tr><tr><td>2015-07-21T00:00:00.000+0000</td><td>5</td></tr><tr><td>2017-07-30T00:00:00.000+0000</td><td>5</td></tr><tr><td>2022-10-16T00:00:00.000+0000</td><td>5</td></tr><tr><td>2019-06-09T00:00:00.000+0000</td><td>5</td></tr><tr><td>2019-05-04T00:00:00.000+0000</td><td>5</td></tr><tr><td>2012-11-09T00:00:00.000+0000</td><td>5</td></tr><tr><td>2020-06-14T00:00:00.000+0000</td><td>5</td></tr><tr><td>2017-10-21T00:00:00.000+0000</td><td>5</td></tr><tr><td>2020-01-08T00:00:00.000+0000</td><td>5</td></tr><tr><td>2019-03-31T00:00:00.000+0000</td><td>5</td></tr><tr><td>2013-11-19T00:00:00.000+0000</td><td>5</td></tr><tr><td>2021-04-18T00:00:00.000+0000</td><td>5</td></tr><tr><td>2013-12-12T00:00:00.000+0000</td><td>5</td></tr><tr><td>2014-02-17T00:00:00.000+0000</td><td>5</td></tr><tr><td>2011-10-19T00:00:00.000+0000</td><td>5</td></tr><tr><td>2021-04-17T00:00:00.000+0000</td><td>5</td></tr><tr><td>2019-07-13T00:00:00.000+0000</td><td>5</td></tr><tr><td>2016-12-11T00:00:00.000+0000</td><td>5</td></tr><tr><td>2019-10-19T00:00:00.000+0000</td><td>5</td></tr><tr><td>2022-08-28T00:00:00.000+0000</td><td>5</td></tr><tr><td>2015-03-10T00:00:00.000+0000</td><td>5</td></tr><tr><td>2021-08-14T00:00:00.000+0000</td><td>5</td></tr><tr><td>2016-12-18T00:00:00.000+0000</td><td>5</td></tr><tr><td>2009-05-27T00:00:00.000+0000</td><td>5</td></tr><tr><td>2021-01-17T00:00:00.000+0000</td><td>5</td></tr><tr><td>2020-02-23T00:00:00.000+0000</td><td>5</td></tr><tr><td>2013-09-18T00:00:00.000+0000</td><td>5</td></tr><tr><td>2015-01-07T00:00:00.000+0000</td><td>5</td></tr><tr><td>2021-10-09T00:00:00.000+0000</td><td>5</td></tr><tr><td>2013-12-06T00:00:00.000+0000</td><td>5</td></tr><tr><td>2022-08-21T00:00:00.000+0000</td><td>5</td></tr><tr><td>2014-04-10T00:00:00.000+0000</td><td>5</td></tr><tr><td>2015-05-18T00:00:00.000+0000</td><td>5</td></tr><tr><td>2015-03-09T00:00:00.000+0000</td><td>5</td></tr><tr><td>2014-07-02T00:00:00.000+0000</td><td>5</td></tr><tr><td>2019-06-15T00:00:00.000+0000</td><td>5</td></tr><tr><td>2011-09-28T00:00:00.000+0000</td><td>5</td></tr><tr><td>2014-12-17T00:00:00.000+0000</td><td>5</td></tr><tr><td>2017-11-25T00:00:00.000+0000</td><td>5</td></tr><tr><td>2020-05-10T00:00:00.000+0000</td><td>5</td></tr><tr><td>2012-09-27T00:00:00.000+0000</td><td>5</td></tr><tr><td>2022-07-30T00:00:00.000+0000</td><td>5</td></tr><tr><td>2020-06-06T00:00:00.000+0000</td><td>5</td></tr><tr><td>2020-09-19T00:00:00.000+0000</td><td>5</td></tr><tr><td>2020-02-08T00:00:00.000+0000</td><td>5</td></tr><tr><td>2013-11-18T00:00:00.000+0000</td><td>5</td></tr><tr><td>2014-01-31T00:00:00.000+0000</td><td>5</td></tr><tr><td>2015-03-18T00:00:00.000+0000</td><td>5</td></tr><tr><td>2014-08-18T00:00:00.000+0000</td><td>5</td></tr><tr><td>2014-04-22T00:00:00.000+0000</td><td>5</td></tr><tr><td>2017-01-29T00:00:00.000+0000</td><td>5</td></tr><tr><td>2022-07-17T00:00:00.000+0000</td><td>5</td></tr><tr><td>2009-05-06T00:00:00.000+0000</td><td>5</td></tr><tr><td>2018-12-16T00:00:00.000+0000</td><td>5</td></tr><tr><td>2022-08-06T00:00:00.000+0000</td><td>5</td></tr><tr><td>2018-06-10T00:00:00.000+0000</td><td>5</td></tr><tr><td>2018-07-14T00:00:00.000+0000</td><td>5</td></tr><tr><td>2020-03-01T00:00:00.000+0000</td><td>5</td></tr><tr><td>2009-09-17T00:00:00.000+0000</td><td>5</td></tr><tr><td>2015-09-14T00:00:00.000+0000</td><td>5</td></tr><tr><td>2018-11-03T00:00:00.000+0000</td><td>5</td></tr><tr><td>2014-09-30T00:00:00.000+0000</td><td>5</td></tr><tr><td>2015-01-02T00:00:00.000+0000</td><td>5</td></tr><tr><td>2013-09-26T00:00:00.000+0000</td><td>5</td></tr><tr><td>2014-03-05T00:00:00.000+0000</td><td>5</td></tr><tr><td>2018-12-08T00:00:00.000+0000</td><td>5</td></tr><tr><td>2020-08-09T00:00:00.000+0000</td><td>5</td></tr><tr><td>2019-04-28T00:00:00.000+0000</td><td>5</td></tr><tr><td>2022-10-02T00:00:00.000+0000</td><td>5</td></tr><tr><td>2014-07-22T00:00:00.000+0000</td><td>5</td></tr><tr><td>2014-06-17T00:00:00.000+0000</td><td>5</td></tr><tr><td>2011-10-24T00:00:00.000+0000</td><td>5</td></tr><tr><td>2013-10-08T00:00:00.000+0000</td><td>5</td></tr><tr><td>2020-01-18T00:00:00.000+0000</td><td>5</td></tr><tr><td>2012-10-29T00:00:00.000+0000</td><td>5</td></tr><tr><td>2018-08-25T00:00:00.000+0000</td><td>5</td></tr><tr><td>2020-11-07T00:00:00.000+0000</td><td>5</td></tr><tr><td>2014-07-04T00:00:00.000+0000</td><td>5</td></tr><tr><td>2017-08-19T00:00:00.000+0000</td><td>5</td></tr><tr><td>2014-05-02T00:00:00.000+0000</td><td>5</td></tr><tr><td>2021-10-03T00:00:00.000+0000</td><td>5</td></tr><tr><td>2022-10-23T00:00:00.000+0000</td><td>5</td></tr><tr><td>2018-04-01T00:00:00.000+0000</td><td>5</td></tr><tr><td>2019-12-07T00:00:00.000+0000</td><td>5</td></tr><tr><td>2020-08-29T00:00:00.000+0000</td><td>5</td></tr><tr><td>2013-08-29T00:00:00.000+0000</td><td>5</td></tr><tr><td>2014-01-03T00:00:00.000+0000</td><td>5</td></tr><tr><td>2018-11-11T00:00:00.000+0000</td><td>5</td></tr><tr><td>2019-03-30T00:00:00.000+0000</td><td>5</td></tr><tr><td>2012-10-11T00:00:00.000+0000</td><td>5</td></tr><tr><td>2015-02-23T00:00:00.000+0000</td><td>5</td></tr><tr><td>2019-02-09T00:00:00.000+0000</td><td>5</td></tr><tr><td>2019-02-23T00:00:00.000+0000</td><td>5</td></tr><tr><td>2014-10-02T00:00:00.000+0000</td><td>5</td></tr><tr><td>2019-02-24T00:00:00.000+0000</td><td>5</td></tr><tr><td>2014-12-12T00:00:00.000+0000</td><td>5</td></tr><tr><td>2021-03-28T00:00:00.000+0000</td><td>5</td></tr><tr><td>2019-12-29T00:00:00.000+0000</td><td>5</td></tr><tr><td>2014-08-11T00:00:00.000+0000</td><td>5</td></tr><tr><td>2017-07-15T00:00:00.000+0000</td><td>5</td></tr><tr><td>2018-03-24T00:00:00.000+0000</td><td>5</td></tr><tr><td>2021-04-24T00:00:00.000+0000</td><td>5</td></tr><tr><td>2022-04-10T00:00:00.000+0000</td><td>5</td></tr><tr><td>2015-01-19T00:00:00.000+0000</td><td>5</td></tr><tr><td>2020-03-08T00:00:00.000+0000</td><td>5</td></tr><tr><td>2014-06-03T00:00:00.000+0000</td><td>5</td></tr><tr><td>2020-06-20T00:00:00.000+0000</td><td>5</td></tr><tr><td>2013-03-18T00:00:00.000+0000</td><td>5</td></tr><tr><td>2017-11-12T00:00:00.000+0000</td><td>5</td></tr><tr><td>2010-02-15T00:00:00.000+0000</td><td>5</td></tr><tr><td>2016-06-27T00:00:00.000+0000</td><td>5</td></tr><tr><td>2014-02-27T00:00:00.000+0000</td><td>5</td></tr><tr><td>2014-02-21T00:00:00.000+0000</td><td>5</td></tr><tr><td>2014-08-07T00:00:00.000+0000</td><td>5</td></tr><tr><td>2018-05-13T00:00:00.000+0000</td><td>5</td></tr><tr><td>2019-06-02T00:00:00.000+0000</td><td>5</td></tr><tr><td>2014-07-21T00:00:00.000+0000</td><td>5</td></tr><tr><td>2014-03-12T00:00:00.000+0000</td><td>5</td></tr><tr><td>2018-07-07T00:00:00.000+0000</td><td>5</td></tr><tr><td>2014-03-10T00:00:00.000+0000</td><td>5</td></tr><tr><td>2013-10-21T00:00:00.000+0000</td><td>5</td></tr><tr><td>2018-12-02T00:00:00.000+0000</td><td>5</td></tr><tr><td>2019-12-21T00:00:00.000+0000</td><td>5</td></tr><tr><td>2019-08-25T00:00:00.000+0000</td><td>5</td></tr><tr><td>2008-06-10T00:00:00.000+0000</td><td>5</td></tr><tr><td>2019-08-18T00:00:00.000+0000</td><td>5</td></tr><tr><td>2013-12-04T00:00:00.000+0000</td><td>5</td></tr><tr><td>2014-10-20T00:00:00.000+0000</td><td>5</td></tr><tr><td>2017-09-02T00:00:00.000+0000</td><td>5</td></tr><tr><td>2020-10-10T00:00:00.000+0000</td><td>5</td></tr><tr><td>2016-04-06T00:00:00.000+0000</td><td>5</td></tr><tr><td>2017-01-09T00:00:00.000+0000</td><td>5</td></tr><tr><td>2012-02-22T00:00:00.000+0000</td><td>5</td></tr><tr><td>2020-08-22T00:00:00.000+0000</td><td>5</td></tr><tr><td>2017-12-02T00:00:00.000+0000</td><td>5</td></tr><tr><td>2016-01-04T00:00:00.000+0000</td><td>5</td></tr><tr><td>2018-12-01T00:00:00.000+0000</td><td>5</td></tr><tr><td>2014-05-20T00:00:00.000+0000</td><td>5</td></tr><tr><td>2018-11-24T00:00:00.000+0000</td><td>5</td></tr><tr><td>2018-03-04T00:00:00.000+0000</td><td>5</td></tr><tr><td>2015-02-09T00:00:00.000+0000</td><td>5</td></tr><tr><td>2022-05-21T00:00:00.000+0000</td><td>5</td></tr><tr><td>2020-03-29T00:00:00.000+0000</td><td>5</td></tr><tr><td>2022-10-29T00:00:00.000+0000</td><td>5</td></tr><tr><td>2015-04-07T00:00:00.000+0000</td><td>5</td></tr><tr><td>2014-08-04T00:00:00.000+0000</td><td>4</td></tr><tr><td>2020-04-12T00:00:00.000+0000</td><td>4</td></tr><tr><td>2022-01-02T00:00:00.000+0000</td><td>4</td></tr><tr><td>2012-01-19T00:00:00.000+0000</td><td>4</td></tr><tr><td>2006-10-13T00:00:00.000+0000</td><td>4</td></tr><tr><td>2010-04-28T00:00:00.000+0000</td><td>4</td></tr><tr><td>2013-10-11T00:00:00.000+0000</td><td>4</td></tr><tr><td>2010-07-09T00:00:00.000+0000</td><td>4</td></tr><tr><td>2019-03-10T00:00:00.000+0000</td><td>4</td></tr><tr><td>2012-04-23T00:00:00.000+0000</td><td>4</td></tr><tr><td>2020-12-26T00:00:00.000+0000</td><td>4</td></tr><tr><td>2020-06-28T00:00:00.000+0000</td><td>4</td></tr><tr><td>2013-01-31T00:00:00.000+0000</td><td>4</td></tr><tr><td>2014-08-25T00:00:00.000+0000</td><td>4</td></tr><tr><td>2016-10-02T00:00:00.000+0000</td><td>4</td></tr><tr><td>2017-07-23T00:00:00.000+0000</td><td>4</td></tr><tr><td>2018-02-03T00:00:00.000+0000</td><td>4</td></tr><tr><td>2013-11-08T00:00:00.000+0000</td><td>4</td></tr><tr><td>2015-05-19T00:00:00.000+0000</td><td>4</td></tr><tr><td>2017-08-27T00:00:00.000+0000</td><td>4</td></tr><tr><td>2008-05-13T00:00:00.000+0000</td><td>4</td></tr><tr><td>2014-01-23T00:00:00.000+0000</td><td>4</td></tr><tr><td>2014-02-11T00:00:00.000+0000</td><td>4</td></tr><tr><td>2017-06-26T00:00:00.000+0000</td><td>4</td></tr><tr><td>2019-01-12T00:00:00.000+0000</td><td>4</td></tr><tr><td>2018-08-18T00:00:00.000+0000</td><td>4</td></tr><tr><td>2021-07-18T00:00:00.000+0000</td><td>4</td></tr><tr><td>2012-10-23T00:00:00.000+0000</td><td>4</td></tr><tr><td>2019-01-20T00:00:00.000+0000</td><td>4</td></tr><tr><td>2014-09-26T00:00:00.000+0000</td><td>4</td></tr><tr><td>2013-10-04T00:00:00.000+0000</td><td>4</td></tr><tr><td>2015-04-13T00:00:00.000+0000</td><td>4</td></tr><tr><td>2016-01-06T00:00:00.000+0000</td><td>4</td></tr><tr><td>2014-05-28T00:00:00.000+0000</td><td>4</td></tr><tr><td>2009-08-19T00:00:00.000+0000</td><td>4</td></tr><tr><td>2014-10-07T00:00:00.000+0000</td><td>4</td></tr><tr><td>2017-11-19T00:00:00.000+0000</td><td>4</td></tr><tr><td>2013-05-24T00:00:00.000+0000</td><td>4</td></tr><tr><td>2013-09-13T00:00:00.000+0000</td><td>4</td></tr><tr><td>2011-04-08T00:00:00.000+0000</td><td>4</td></tr><tr><td>2022-02-26T00:00:00.000+0000</td><td>4</td></tr><tr><td>2017-09-24T00:00:00.000+0000</td><td>4</td></tr><tr><td>2018-10-20T00:00:00.000+0000</td><td>4</td></tr><tr><td>2014-09-22T00:00:00.000+0000</td><td>4</td></tr><tr><td>2014-12-01T00:00:00.000+0000</td><td>4</td></tr><tr><td>2021-11-13T00:00:00.000+0000</td><td>4</td></tr><tr><td>2021-11-28T00:00:00.000+0000</td><td>4</td></tr><tr><td>2008-01-29T00:00:00.000+0000</td><td>4</td></tr><tr><td>2021-06-06T00:00:00.000+0000</td><td>4</td></tr><tr><td>2017-07-08T00:00:00.000+0000</td><td>4</td></tr><tr><td>2018-02-25T00:00:00.000+0000</td><td>4</td></tr><tr><td>2022-11-06T00:00:00.000+0000</td><td>4</td></tr><tr><td>2015-04-14T00:00:00.000+0000</td><td>4</td></tr><tr><td>2013-05-22T00:00:00.000+0000</td><td>4</td></tr><tr><td>2010-10-15T00:00:00.000+0000</td><td>4</td></tr><tr><td>2015-01-21T00:00:00.000+0000</td><td>4</td></tr><tr><td>2018-02-04T00:00:00.000+0000</td><td>4</td></tr><tr><td>2016-06-28T00:00:00.000+0000</td><td>4</td></tr><tr><td>2015-03-20T00:00:00.000+0000</td><td>4</td></tr><tr><td>2018-08-04T00:00:00.000+0000</td><td>4</td></tr><tr><td>2018-03-10T00:00:00.000+0000</td><td>4</td></tr><tr><td>2019-05-18T00:00:00.000+0000</td><td>4</td></tr><tr><td>2011-03-22T00:00:00.000+0000</td><td>4</td></tr><tr><td>2018-09-29T00:00:00.000+0000</td><td>4</td></tr><tr><td>2015-02-11T00:00:00.000+0000</td><td>4</td></tr><tr><td>2015-06-10T00:00:00.000+0000</td><td>4</td></tr><tr><td>2018-05-20T00:00:00.000+0000</td><td>4</td></tr><tr><td>2014-03-07T00:00:00.000+0000</td><td>4</td></tr><tr><td>2017-08-12T00:00:00.000+0000</td><td>4</td></tr><tr><td>2013-10-14T00:00:00.000+0000</td><td>4</td></tr><tr><td>2010-02-11T00:00:00.000+0000</td><td>4</td></tr><tr><td>2021-06-26T00:00:00.000+0000</td><td>4</td></tr><tr><td>2009-08-06T00:00:00.000+0000</td><td>4</td></tr><tr><td>2014-10-14T00:00:00.000+0000</td><td>4</td></tr><tr><td>2022-05-08T00:00:00.000+0000</td><td>4</td></tr><tr><td>2019-06-16T00:00:00.000+0000</td><td>4</td></tr><tr><td>2013-09-24T00:00:00.000+0000</td><td>4</td></tr><tr><td>2019-09-14T00:00:00.000+0000</td><td>4</td></tr><tr><td>2012-11-19T00:00:00.000+0000</td><td>4</td></tr><tr><td>2022-06-05T00:00:00.000+0000</td><td>4</td></tr><tr><td>2016-06-30T00:00:00.000+0000</td><td>4</td></tr><tr><td>2017-12-03T00:00:00.000+0000</td><td>4</td></tr><tr><td>2014-07-24T00:00:00.000+0000</td><td>4</td></tr><tr><td>2017-10-15T00:00:00.000+0000</td><td>4</td></tr><tr><td>2008-12-19T00:00:00.000+0000</td><td>4</td></tr><tr><td>2009-10-06T00:00:00.000+0000</td><td>4</td></tr><tr><td>2020-10-25T00:00:00.000+0000</td><td>4</td></tr><tr><td>2015-04-15T00:00:00.000+0000</td><td>4</td></tr><tr><td>2021-05-09T00:00:00.000+0000</td><td>4</td></tr><tr><td>2010-03-02T00:00:00.000+0000</td><td>4</td></tr><tr><td>2011-02-28T00:00:00.000+0000</td><td>4</td></tr><tr><td>2017-10-14T00:00:00.000+0000</td><td>4</td></tr><tr><td>2010-07-12T00:00:00.000+0000</td><td>4</td></tr><tr><td>2015-02-16T00:00:00.000+0000</td><td>4</td></tr><tr><td>2010-06-25T00:00:00.000+0000</td><td>4</td></tr><tr><td>2014-11-28T00:00:00.000+0000</td><td>4</td></tr><tr><td>2020-08-08T00:00:00.000+0000</td><td>4</td></tr><tr><td>2013-08-15T00:00:00.000+0000</td><td>4</td></tr><tr><td>2014-02-20T00:00:00.000+0000</td><td>4</td></tr><tr><td>2015-01-27T00:00:00.000+0000</td><td>4</td></tr><tr><td>2010-11-05T00:00:00.000+0000</td><td>4</td></tr><tr><td>2018-05-27T00:00:00.000+0000</td><td>4</td></tr><tr><td>2017-01-22T00:00:00.000+0000</td><td>4</td></tr><tr><td>2019-02-17T00:00:00.000+0000</td><td>4</td></tr><tr><td>2018-06-09T00:00:00.000+0000</td><td>4</td></tr><tr><td>2017-08-26T00:00:00.000+0000</td><td>4</td></tr><tr><td>2016-05-23T00:00:00.000+0000</td><td>4</td></tr><tr><td>2012-01-13T00:00:00.000+0000</td><td>4</td></tr><tr><td>2012-12-13T00:00:00.000+0000</td><td>4</td></tr><tr><td>2014-03-21T00:00:00.000+0000</td><td>4</td></tr><tr><td>2014-04-08T00:00:00.000+0000</td><td>4</td></tr><tr><td>2020-02-09T00:00:00.000+0000</td><td>4</td></tr><tr><td>2021-09-19T00:00:00.000+0000</td><td>4</td></tr><tr><td>2014-01-22T00:00:00.000+0000</td><td>4</td></tr><tr><td>2014-01-29T00:00:00.000+0000</td><td>4</td></tr><tr><td>2019-02-03T00:00:00.000+0000</td><td>4</td></tr><tr><td>2019-08-04T00:00:00.000+0000</td><td>4</td></tr><tr><td>2020-03-21T00:00:00.000+0000</td><td>4</td></tr><tr><td>2021-09-18T00:00:00.000+0000</td><td>4</td></tr><tr><td>2017-12-24T00:00:00.000+0000</td><td>4</td></tr><tr><td>2018-03-03T00:00:00.000+0000</td><td>4</td></tr><tr><td>2011-05-09T00:00:00.000+0000</td><td>4</td></tr><tr><td>2011-07-13T00:00:00.000+0000</td><td>4</td></tr><tr><td>2012-06-19T00:00:00.000+0000</td><td>4</td></tr><tr><td>2014-07-23T00:00:00.000+0000</td><td>4</td></tr><tr><td>2016-12-04T00:00:00.000+0000</td><td>4</td></tr><tr><td>2008-09-04T00:00:00.000+0000</td><td>4</td></tr><tr><td>2011-09-27T00:00:00.000+0000</td><td>4</td></tr><tr><td>2019-05-11T00:00:00.000+0000</td><td>4</td></tr><tr><td>2013-10-16T00:00:00.000+0000</td><td>4</td></tr><tr><td>2011-06-21T00:00:00.000+0000</td><td>4</td></tr><tr><td>2015-01-13T00:00:00.000+0000</td><td>4</td></tr><tr><td>2009-02-13T00:00:00.000+0000</td><td>4</td></tr><tr><td>2012-05-31T00:00:00.000+0000</td><td>4</td></tr><tr><td>2022-06-19T00:00:00.000+0000</td><td>4</td></tr><tr><td>2014-01-16T00:00:00.000+0000</td><td>4</td></tr><tr><td>2018-12-09T00:00:00.000+0000</td><td>4</td></tr><tr><td>2018-01-06T00:00:00.000+0000</td><td>4</td></tr><tr><td>2021-12-26T00:00:00.000+0000</td><td>4</td></tr><tr><td>2015-03-16T00:00:00.000+0000</td><td>4</td></tr><tr><td>2012-12-06T00:00:00.000+0000</td><td>4</td></tr><tr><td>2017-09-16T00:00:00.000+0000</td><td>4</td></tr><tr><td>2016-12-17T00:00:00.000+0000</td><td>4</td></tr><tr><td>2022-01-29T00:00:00.000+0000</td><td>4</td></tr><tr><td>2013-11-04T00:00:00.000+0000</td><td>4</td></tr><tr><td>2014-09-04T00:00:00.000+0000</td><td>4</td></tr><tr><td>2016-10-01T00:00:00.000+0000</td><td>4</td></tr><tr><td>2014-01-28T00:00:00.000+0000</td><td>4</td></tr><tr><td>2022-09-24T00:00:00.000+0000</td><td>4</td></tr><tr><td>2017-07-22T00:00:00.000+0000</td><td>4</td></tr><tr><td>2019-07-20T00:00:00.000+0000</td><td>4</td></tr><tr><td>2021-08-07T00:00:00.000+0000</td><td>4</td></tr><tr><td>2014-02-24T00:00:00.000+0000</td><td>4</td></tr><tr><td>2010-04-20T00:00:00.000+0000</td><td>4</td></tr><tr><td>2018-12-23T00:00:00.000+0000</td><td>4</td></tr><tr><td>2014-10-01T00:00:00.000+0000</td><td>4</td></tr><tr><td>2014-06-11T00:00:00.000+0000</td><td>4</td></tr><tr><td>2014-03-18T00:00:00.000+0000</td><td>4</td></tr><tr><td>2019-06-01T00:00:00.000+0000</td><td>4</td></tr><tr><td>2011-03-04T00:00:00.000+0000</td><td>4</td></tr><tr><td>2015-05-13T00:00:00.000+0000</td><td>4</td></tr><tr><td>2013-10-31T00:00:00.000+0000</td><td>3</td></tr><tr><td>2010-11-02T00:00:00.000+0000</td><td>3</td></tr><tr><td>2009-11-13T00:00:00.000+0000</td><td>3</td></tr><tr><td>2011-10-18T00:00:00.000+0000</td><td>3</td></tr><tr><td>2019-05-12T00:00:00.000+0000</td><td>3</td></tr><tr><td>2019-12-01T00:00:00.000+0000</td><td>3</td></tr><tr><td>2008-05-12T00:00:00.000+0000</td><td>3</td></tr><tr><td>2009-09-15T00:00:00.000+0000</td><td>3</td></tr><tr><td>2012-08-24T00:00:00.000+0000</td><td>3</td></tr><tr><td>2017-06-03T00:00:00.000+0000</td><td>3</td></tr><tr><td>2014-10-29T00:00:00.000+0000</td><td>3</td></tr><tr><td>2011-03-01T00:00:00.000+0000</td><td>3</td></tr><tr><td>2010-11-18T00:00:00.000+0000</td><td>3</td></tr><tr><td>2019-07-28T00:00:00.000+0000</td><td>3</td></tr><tr><td>2012-08-02T00:00:00.000+0000</td><td>3</td></tr><tr><td>2017-05-21T00:00:00.000+0000</td><td>3</td></tr><tr><td>2014-07-29T00:00:00.000+0000</td><td>3</td></tr><tr><td>2014-10-03T00:00:00.000+0000</td><td>3</td></tr><tr><td>2016-08-06T00:00:00.000+0000</td><td>3</td></tr><tr><td>2008-06-13T00:00:00.000+0000</td><td>3</td></tr><tr><td>2010-02-20T00:00:00.000+0000</td><td>3</td></tr><tr><td>2020-03-28T00:00:00.000+0000</td><td>3</td></tr><tr><td>2011-07-25T00:00:00.000+0000</td><td>3</td></tr><tr><td>2012-08-14T00:00:00.000+0000</td><td>3</td></tr><tr><td>2013-04-16T00:00:00.000+0000</td><td>3</td></tr><tr><td>2013-05-30T00:00:00.000+0000</td><td>3</td></tr><tr><td>2009-07-07T00:00:00.000+0000</td><td>3</td></tr><tr><td>2014-12-29T00:00:00.000+0000</td><td>3</td></tr><tr><td>2018-12-30T00:00:00.000+0000</td><td>3</td></tr><tr><td>2009-11-19T00:00:00.000+0000</td><td>3</td></tr><tr><td>2015-11-27T00:00:00.000+0000</td><td>3</td></tr><tr><td>2010-11-30T00:00:00.000+0000</td><td>3</td></tr><tr><td>2017-07-29T00:00:00.000+0000</td><td>3</td></tr><tr><td>2012-05-22T00:00:00.000+0000</td><td>3</td></tr><tr><td>2015-11-25T00:00:00.000+0000</td><td>3</td></tr><tr><td>2016-05-22T00:00:00.000+0000</td><td>3</td></tr><tr><td>2014-10-08T00:00:00.000+0000</td><td>3</td></tr><tr><td>2016-01-13T00:00:00.000+0000</td><td>3</td></tr><tr><td>2017-04-09T00:00:00.000+0000</td><td>3</td></tr><tr><td>2014-09-09T00:00:00.000+0000</td><td>3</td></tr><tr><td>2009-10-29T00:00:00.000+0000</td><td>3</td></tr><tr><td>2010-10-29T00:00:00.000+0000</td><td>3</td></tr><tr><td>2016-11-05T00:00:00.000+0000</td><td>3</td></tr><tr><td>2010-01-28T00:00:00.000+0000</td><td>3</td></tr><tr><td>2013-06-05T00:00:00.000+0000</td><td>3</td></tr><tr><td>2019-01-27T00:00:00.000+0000</td><td>3</td></tr><tr><td>2011-10-11T00:00:00.000+0000</td><td>3</td></tr><tr><td>2019-04-13T00:00:00.000+0000</td><td>3</td></tr><tr><td>2013-02-18T00:00:00.000+0000</td><td>3</td></tr><tr><td>2012-06-13T00:00:00.000+0000</td><td>3</td></tr><tr><td>2013-10-01T00:00:00.000+0000</td><td>3</td></tr><tr><td>2013-05-15T00:00:00.000+0000</td><td>3</td></tr><tr><td>2013-06-27T00:00:00.000+0000</td><td>3</td></tr><tr><td>2014-05-07T00:00:00.000+0000</td><td>3</td></tr><tr><td>2008-11-03T00:00:00.000+0000</td><td>3</td></tr><tr><td>2011-04-20T00:00:00.000+0000</td><td>3</td></tr><tr><td>2010-02-18T00:00:00.000+0000</td><td>3</td></tr><tr><td>2013-08-08T00:00:00.000+0000</td><td>3</td></tr><tr><td>2012-03-16T00:00:00.000+0000</td><td>3</td></tr><tr><td>2014-06-09T00:00:00.000+0000</td><td>3</td></tr><tr><td>2014-02-03T00:00:00.000+0000</td><td>3</td></tr><tr><td>2018-02-10T00:00:00.000+0000</td><td>3</td></tr><tr><td>2019-03-03T00:00:00.000+0000</td><td>3</td></tr><tr><td>2013-04-24T00:00:00.000+0000</td><td>3</td></tr><tr><td>2013-11-07T00:00:00.000+0000</td><td>3</td></tr><tr><td>2014-10-21T00:00:00.000+0000</td><td>3</td></tr><tr><td>2013-11-20T00:00:00.000+0000</td><td>3</td></tr><tr><td>2017-02-05T00:00:00.000+0000</td><td>3</td></tr><tr><td>2014-03-04T00:00:00.000+0000</td><td>3</td></tr><tr><td>2018-01-21T00:00:00.000+0000</td><td>3</td></tr><tr><td>2013-02-22T00:00:00.000+0000</td><td>3</td></tr><tr><td>2017-04-29T00:00:00.000+0000</td><td>3</td></tr><tr><td>2019-03-16T00:00:00.000+0000</td><td>3</td></tr><tr><td>2013-12-17T00:00:00.000+0000</td><td>3</td></tr><tr><td>2017-09-10T00:00:00.000+0000</td><td>3</td></tr><tr><td>2011-07-29T00:00:00.000+0000</td><td>3</td></tr><tr><td>2010-07-08T00:00:00.000+0000</td><td>3</td></tr><tr><td>2016-06-29T00:00:00.000+0000</td><td>3</td></tr><tr><td>2013-04-30T00:00:00.000+0000</td><td>3</td></tr><tr><td>2019-02-10T00:00:00.000+0000</td><td>3</td></tr><tr><td>2019-01-13T00:00:00.000+0000</td><td>3</td></tr><tr><td>2019-03-17T00:00:00.000+0000</td><td>3</td></tr><tr><td>2017-08-06T00:00:00.000+0000</td><td>3</td></tr><tr><td>2013-12-16T00:00:00.000+0000</td><td>3</td></tr><tr><td>2012-06-22T00:00:00.000+0000</td><td>3</td></tr><tr><td>2012-06-12T00:00:00.000+0000</td><td>3</td></tr><tr><td>2013-12-09T00:00:00.000+0000</td><td>3</td></tr><tr><td>2016-08-07T00:00:00.000+0000</td><td>3</td></tr><tr><td>2013-09-12T00:00:00.000+0000</td><td>3</td></tr><tr><td>2013-11-01T00:00:00.000+0000</td><td>3</td></tr><tr><td>2013-08-22T00:00:00.000+0000</td><td>3</td></tr><tr><td>2015-12-31T00:00:00.000+0000</td><td>3</td></tr><tr><td>2016-10-16T00:00:00.000+0000</td><td>3</td></tr><tr><td>2019-03-24T00:00:00.000+0000</td><td>3</td></tr><tr><td>2011-09-15T00:00:00.000+0000</td><td>3</td></tr><tr><td>2013-05-01T00:00:00.000+0000</td><td>3</td></tr><tr><td>2014-10-13T00:00:00.000+0000</td><td>3</td></tr><tr><td>2013-04-19T00:00:00.000+0000</td><td>3</td></tr><tr><td>2017-10-01T00:00:00.000+0000</td><td>3</td></tr><tr><td>2018-02-11T00:00:00.000+0000</td><td>3</td></tr><tr><td>2013-07-03T00:00:00.000+0000</td><td>3</td></tr><tr><td>2013-07-29T00:00:00.000+0000</td><td>3</td></tr><tr><td>2007-07-17T00:00:00.000+0000</td><td>3</td></tr><tr><td>2014-04-02T00:00:00.000+0000</td><td>3</td></tr><tr><td>2014-12-31T00:00:00.000+0000</td><td>3</td></tr><tr><td>2021-08-29T00:00:00.000+0000</td><td>3</td></tr><tr><td>2020-10-11T00:00:00.000+0000</td><td>3</td></tr><tr><td>2012-10-30T00:00:00.000+0000</td><td>3</td></tr><tr><td>2007-08-28T00:00:00.000+0000</td><td>3</td></tr><tr><td>2019-06-23T00:00:00.000+0000</td><td>3</td></tr><tr><td>2013-06-07T00:00:00.000+0000</td><td>3</td></tr><tr><td>2009-04-30T00:00:00.000+0000</td><td>3</td></tr><tr><td>2013-12-10T00:00:00.000+0000</td><td>3</td></tr><tr><td>2013-09-04T00:00:00.000+0000</td><td>3</td></tr><tr><td>2010-10-11T00:00:00.000+0000</td><td>3</td></tr><tr><td>2019-03-02T00:00:00.000+0000</td><td>3</td></tr><tr><td>2013-04-26T00:00:00.000+0000</td><td>3</td></tr><tr><td>2017-08-05T00:00:00.000+0000</td><td>3</td></tr><tr><td>2018-08-12T00:00:00.000+0000</td><td>3</td></tr><tr><td>2014-05-13T00:00:00.000+0000</td><td>3</td></tr><tr><td>2009-07-23T00:00:00.000+0000</td><td>3</td></tr><tr><td>2012-03-28T00:00:00.000+0000</td><td>3</td></tr><tr><td>2014-12-24T00:00:00.000+0000</td><td>3</td></tr><tr><td>2017-10-28T00:00:00.000+0000</td><td>3</td></tr><tr><td>2017-04-30T00:00:00.000+0000</td><td>3</td></tr><tr><td>2017-10-29T00:00:00.000+0000</td><td>3</td></tr><tr><td>2010-01-13T00:00:00.000+0000</td><td>3</td></tr><tr><td>2008-07-15T00:00:00.000+0000</td><td>3</td></tr><tr><td>2019-09-15T00:00:00.000+0000</td><td>3</td></tr><tr><td>2009-10-27T00:00:00.000+0000</td><td>3</td></tr><tr><td>2020-08-16T00:00:00.000+0000</td><td>3</td></tr><tr><td>2016-06-24T00:00:00.000+0000</td><td>3</td></tr><tr><td>2011-01-27T00:00:00.000+0000</td><td>3</td></tr><tr><td>2013-12-11T00:00:00.000+0000</td><td>3</td></tr><tr><td>2015-01-05T00:00:00.000+0000</td><td>3</td></tr><tr><td>2011-04-21T00:00:00.000+0000</td><td>3</td></tr><tr><td>2013-02-27T00:00:00.000+0000</td><td>3</td></tr><tr><td>2012-03-21T00:00:00.000+0000</td><td>3</td></tr><tr><td>2014-08-13T00:00:00.000+0000</td><td>3</td></tr><tr><td>2014-01-27T00:00:00.000+0000</td><td>3</td></tr><tr><td>2018-09-16T00:00:00.000+0000</td><td>3</td></tr><tr><td>2010-10-25T00:00:00.000+0000</td><td>3</td></tr><tr><td>2015-04-06T00:00:00.000+0000</td><td>3</td></tr><tr><td>2013-11-22T00:00:00.000+0000</td><td>3</td></tr><tr><td>2006-09-14T00:00:00.000+0000</td><td>3</td></tr><tr><td>2019-06-08T00:00:00.000+0000</td><td>3</td></tr><tr><td>2008-03-17T00:00:00.000+0000</td><td>3</td></tr><tr><td>2008-06-17T00:00:00.000+0000</td><td>3</td></tr><tr><td>2012-03-14T00:00:00.000+0000</td><td>3</td></tr><tr><td>2012-08-06T00:00:00.000+0000</td><td>3</td></tr><tr><td>2014-01-08T00:00:00.000+0000</td><td>3</td></tr><tr><td>2009-09-03T00:00:00.000+0000</td><td>3</td></tr><tr><td>2014-06-30T00:00:00.000+0000</td><td>3</td></tr><tr><td>2013-08-13T00:00:00.000+0000</td><td>3</td></tr><tr><td>2010-06-07T00:00:00.000+0000</td><td>3</td></tr><tr><td>2021-06-13T00:00:00.000+0000</td><td>3</td></tr><tr><td>2017-11-05T00:00:00.000+0000</td><td>3</td></tr><tr><td>2019-12-15T00:00:00.000+0000</td><td>3</td></tr><tr><td>2015-11-26T00:00:00.000+0000</td><td>3</td></tr><tr><td>2019-05-26T00:00:00.000+0000</td><td>3</td></tr><tr><td>2014-03-24T00:00:00.000+0000</td><td>3</td></tr><tr><td>2018-06-23T00:00:00.000+0000</td><td>3</td></tr><tr><td>2012-03-29T00:00:00.000+0000</td><td>3</td></tr><tr><td>2012-10-16T00:00:00.000+0000</td><td>3</td></tr><tr><td>2019-07-08T00:00:00.000+0000</td><td>3</td></tr><tr><td>2008-12-18T00:00:00.000+0000</td><td>3</td></tr><tr><td>2018-10-06T00:00:00.000+0000</td><td>3</td></tr><tr><td>2014-07-30T00:00:00.000+0000</td><td>3</td></tr><tr><td>2007-10-10T00:00:00.000+0000</td><td>3</td></tr><tr><td>2008-04-16T00:00:00.000+0000</td><td>3</td></tr><tr><td>2014-12-02T00:00:00.000+0000</td><td>3</td></tr><tr><td>2012-08-28T00:00:00.000+0000</td><td>3</td></tr><tr><td>2011-11-15T00:00:00.000+0000</td><td>3</td></tr><tr><td>2006-10-25T00:00:00.000+0000</td><td>3</td></tr><tr><td>2016-12-10T00:00:00.000+0000</td><td>3</td></tr><tr><td>2011-03-14T00:00:00.000+0000</td><td>3</td></tr><tr><td>2018-09-15T00:00:00.000+0000</td><td>3</td></tr><tr><td>2012-09-13T00:00:00.000+0000</td><td>3</td></tr><tr><td>2011-06-08T00:00:00.000+0000</td><td>3</td></tr><tr><td>2013-03-19T00:00:00.000+0000</td><td>3</td></tr><tr><td>2014-02-28T00:00:00.000+0000</td><td>3</td></tr><tr><td>2018-04-14T00:00:00.000+0000</td><td>3</td></tr><tr><td>2014-01-24T00:00:00.000+0000</td><td>3</td></tr><tr><td>2013-06-20T00:00:00.000+0000</td><td>3</td></tr><tr><td>2022-06-26T00:00:00.000+0000</td><td>3</td></tr><tr><td>2022-11-10T00:00:00.000+0000</td><td>3</td></tr><tr><td>2017-10-22T00:00:00.000+0000</td><td>3</td></tr><tr><td>2020-05-02T00:00:00.000+0000</td><td>3</td></tr><tr><td>2016-11-27T00:00:00.000+0000</td><td>3</td></tr><tr><td>2009-03-09T00:00:00.000+0000</td><td>3</td></tr><tr><td>2006-10-26T00:00:00.000+0000</td><td>3</td></tr><tr><td>2014-11-05T00:00:00.000+0000</td><td>3</td></tr><tr><td>2017-05-27T00:00:00.000+0000</td><td>3</td></tr><tr><td>2020-01-19T00:00:00.000+0000</td><td>3</td></tr><tr><td>2014-03-19T00:00:00.000+0000</td><td>3</td></tr><tr><td>2017-09-23T00:00:00.000+0000</td><td>3</td></tr><tr><td>2011-06-14T00:00:00.000+0000</td><td>3</td></tr><tr><td>2017-04-23T00:00:00.000+0000</td><td>3</td></tr><tr><td>2015-12-23T00:00:00.000+0000</td><td>3</td></tr><tr><td>2014-09-02T00:00:00.000+0000</td><td>3</td></tr><tr><td>2019-03-23T00:00:00.000+0000</td><td>3</td></tr><tr><td>2013-11-13T00:00:00.000+0000</td><td>3</td></tr><tr><td>2014-04-28T00:00:00.000+0000</td><td>3</td></tr><tr><td>2018-01-27T00:00:00.000+0000</td><td>3</td></tr><tr><td>2013-08-28T00:00:00.000+0000</td><td>3</td></tr><tr><td>2020-08-15T00:00:00.000+0000</td><td>3</td></tr><tr><td>2014-05-19T00:00:00.000+0000</td><td>3</td></tr><tr><td>2014-01-21T00:00:00.000+0000</td><td>3</td></tr><tr><td>2012-03-01T00:00:00.000+0000</td><td>3</td></tr><tr><td>2017-04-01T00:00:00.000+0000</td><td>3</td></tr><tr><td>2009-07-20T00:00:00.000+0000</td><td>3</td></tr><tr><td>2011-10-26T00:00:00.000+0000</td><td>3</td></tr><tr><td>2018-10-27T00:00:00.000+0000</td><td>3</td></tr><tr><td>2009-01-23T00:00:00.000+0000</td><td>3</td></tr><tr><td>2018-05-26T00:00:00.000+0000</td><td>3</td></tr><tr><td>2022-11-07T00:00:00.000+0000</td><td>3</td></tr><tr><td>2019-04-07T00:00:00.000+0000</td><td>3</td></tr><tr><td>2009-12-02T00:00:00.000+0000</td><td>3</td></tr><tr><td>2016-08-28T00:00:00.000+0000</td><td>3</td></tr><tr><td>2018-05-05T00:00:00.000+0000</td><td>3</td></tr><tr><td>2010-09-17T00:00:00.000+0000</td><td>3</td></tr><tr><td>2022-09-17T00:00:00.000+0000</td><td>3</td></tr><tr><td>2010-06-24T00:00:00.000+0000</td><td>3</td></tr><tr><td>2016-09-11T00:00:00.000+0000</td><td>3</td></tr><tr><td>2008-10-10T00:00:00.000+0000</td><td>3</td></tr><tr><td>2012-09-19T00:00:00.000+0000</td><td>3</td></tr><tr><td>2012-09-07T00:00:00.000+0000</td><td>3</td></tr><tr><td>2014-07-28T00:00:00.000+0000</td><td>3</td></tr><tr><td>2018-11-18T00:00:00.000+0000</td><td>3</td></tr><tr><td>2014-12-23T00:00:00.000+0000</td><td>3</td></tr><tr><td>2006-12-21T00:00:00.000+0000</td><td>2</td></tr><tr><td>2007-12-13T00:00:00.000+0000</td><td>2</td></tr><tr><td>2017-08-20T00:00:00.000+0000</td><td>2</td></tr><tr><td>2012-10-10T00:00:00.000+0000</td><td>2</td></tr><tr><td>2013-04-29T00:00:00.000+0000</td><td>2</td></tr><tr><td>2006-07-06T00:00:00.000+0000</td><td>2</td></tr><tr><td>2013-11-21T00:00:00.000+0000</td><td>2</td></tr><tr><td>2016-04-30T00:00:00.000+0000</td><td>2</td></tr><tr><td>2009-10-07T00:00:00.000+0000</td><td>2</td></tr><tr><td>2016-02-08T00:00:00.000+0000</td><td>2</td></tr><tr><td>2017-11-11T00:00:00.000+0000</td><td>2</td></tr><tr><td>2010-03-26T00:00:00.000+0000</td><td>2</td></tr><tr><td>2014-09-01T00:00:00.000+0000</td><td>2</td></tr><tr><td>2012-09-25T00:00:00.000+0000</td><td>2</td></tr><tr><td>2016-07-17T00:00:00.000+0000</td><td>2</td></tr><tr><td>2010-02-03T00:00:00.000+0000</td><td>2</td></tr><tr><td>2012-04-11T00:00:00.000+0000</td><td>2</td></tr><tr><td>2015-06-18T00:00:00.000+0000</td><td>2</td></tr><tr><td>2010-05-28T00:00:00.000+0000</td><td>2</td></tr><tr><td>2017-01-14T00:00:00.000+0000</td><td>2</td></tr><tr><td>2011-05-19T00:00:00.000+0000</td><td>2</td></tr><tr><td>2016-05-29T00:00:00.000+0000</td><td>2</td></tr><tr><td>2015-02-18T00:00:00.000+0000</td><td>2</td></tr><tr><td>2021-06-27T00:00:00.000+0000</td><td>2</td></tr><tr><td>2017-12-30T00:00:00.000+0000</td><td>2</td></tr><tr><td>2012-09-28T00:00:00.000+0000</td><td>2</td></tr><tr><td>2009-11-24T00:00:00.000+0000</td><td>2</td></tr><tr><td>2009-10-21T00:00:00.000+0000</td><td>2</td></tr><tr><td>2016-05-14T00:00:00.000+0000</td><td>2</td></tr><tr><td>2012-10-12T00:00:00.000+0000</td><td>2</td></tr><tr><td>2013-03-14T00:00:00.000+0000</td><td>2</td></tr><tr><td>2012-12-05T00:00:00.000+0000</td><td>2</td></tr><tr><td>2011-09-29T00:00:00.000+0000</td><td>2</td></tr><tr><td>2008-11-07T00:00:00.000+0000</td><td>2</td></tr><tr><td>2010-09-02T00:00:00.000+0000</td><td>2</td></tr><tr><td>2006-07-21T00:00:00.000+0000</td><td>2</td></tr><tr><td>2009-09-29T00:00:00.000+0000</td><td>2</td></tr><tr><td>2011-07-19T00:00:00.000+0000</td><td>2</td></tr><tr><td>2010-12-20T00:00:00.000+0000</td><td>2</td></tr><tr><td>2014-05-27T00:00:00.000+0000</td><td>2</td></tr><tr><td>2011-09-21T00:00:00.000+0000</td><td>2</td></tr><tr><td>2008-10-08T00:00:00.000+0000</td><td>2</td></tr><tr><td>2013-01-09T00:00:00.000+0000</td><td>2</td></tr><tr><td>2008-11-18T00:00:00.000+0000</td><td>2</td></tr><tr><td>2014-06-26T00:00:00.000+0000</td><td>2</td></tr><tr><td>2012-12-11T00:00:00.000+0000</td><td>2</td></tr><tr><td>2008-12-12T00:00:00.000+0000</td><td>2</td></tr><tr><td>2010-07-19T00:00:00.000+0000</td><td>2</td></tr><tr><td>2013-11-27T00:00:00.000+0000</td><td>2</td></tr><tr><td>2019-05-05T00:00:00.000+0000</td><td>2</td></tr><tr><td>2011-05-06T00:00:00.000+0000</td><td>2</td></tr><tr><td>2014-06-20T00:00:00.000+0000</td><td>2</td></tr><tr><td>2009-10-16T00:00:00.000+0000</td><td>2</td></tr><tr><td>2011-06-24T00:00:00.000+0000</td><td>2</td></tr><tr><td>2013-05-29T00:00:00.000+0000</td><td>2</td></tr><tr><td>2011-08-02T00:00:00.000+0000</td><td>2</td></tr><tr><td>2017-05-14T00:00:00.000+0000</td><td>2</td></tr><tr><td>2012-04-19T00:00:00.000+0000</td><td>2</td></tr><tr><td>2008-12-15T00:00:00.000+0000</td><td>2</td></tr><tr><td>2016-11-06T00:00:00.000+0000</td><td>2</td></tr><tr><td>2015-02-10T00:00:00.000+0000</td><td>2</td></tr><tr><td>2009-11-11T00:00:00.000+0000</td><td>2</td></tr><tr><td>2016-09-03T00:00:00.000+0000</td><td>2</td></tr><tr><td>2018-08-05T00:00:00.000+0000</td><td>2</td></tr><tr><td>2012-07-30T00:00:00.000+0000</td><td>2</td></tr><tr><td>2015-01-14T00:00:00.000+0000</td><td>2</td></tr><tr><td>2017-02-18T00:00:00.000+0000</td><td>2</td></tr><tr><td>2014-11-03T00:00:00.000+0000</td><td>2</td></tr><tr><td>2012-08-23T00:00:00.000+0000</td><td>2</td></tr><tr><td>2016-05-07T00:00:00.000+0000</td><td>2</td></tr><tr><td>2018-06-24T00:00:00.000+0000</td><td>2</td></tr><tr><td>2009-03-05T00:00:00.000+0000</td><td>2</td></tr><tr><td>2013-03-28T00:00:00.000+0000</td><td>2</td></tr><tr><td>2009-08-07T00:00:00.000+0000</td><td>2</td></tr><tr><td>2012-12-19T00:00:00.000+0000</td><td>2</td></tr><tr><td>2010-04-12T00:00:00.000+0000</td><td>2</td></tr><tr><td>2013-03-22T00:00:00.000+0000</td><td>2</td></tr><tr><td>2012-01-31T00:00:00.000+0000</td><td>2</td></tr><tr><td>2013-03-20T00:00:00.000+0000</td><td>2</td></tr><tr><td>2007-03-14T00:00:00.000+0000</td><td>2</td></tr><tr><td>2020-04-05T00:00:00.000+0000</td><td>2</td></tr><tr><td>2011-06-09T00:00:00.000+0000</td><td>2</td></tr><tr><td>2011-11-30T00:00:00.000+0000</td><td>2</td></tr><tr><td>2010-06-03T00:00:00.000+0000</td><td>2</td></tr><tr><td>2016-08-20T00:00:00.000+0000</td><td>2</td></tr><tr><td>2010-09-23T00:00:00.000+0000</td><td>2</td></tr><tr><td>2011-04-15T00:00:00.000+0000</td><td>2</td></tr><tr><td>2009-07-13T00:00:00.000+0000</td><td>2</td></tr><tr><td>2018-02-24T00:00:00.000+0000</td><td>2</td></tr><tr><td>2020-06-27T00:00:00.000+0000</td><td>2</td></tr><tr><td>2009-11-06T00:00:00.000+0000</td><td>2</td></tr><tr><td>2009-07-28T00:00:00.000+0000</td><td>2</td></tr><tr><td>2015-06-19T00:00:00.000+0000</td><td>2</td></tr><tr><td>2012-09-14T00:00:00.000+0000</td><td>2</td></tr><tr><td>2010-12-03T00:00:00.000+0000</td><td>2</td></tr><tr><td>2008-09-17T00:00:00.000+0000</td><td>2</td></tr><tr><td>2018-11-25T00:00:00.000+0000</td><td>2</td></tr><tr><td>2013-11-11T00:00:00.000+0000</td><td>2</td></tr><tr><td>2014-11-27T00:00:00.000+0000</td><td>2</td></tr><tr><td>2017-12-16T00:00:00.000+0000</td><td>2</td></tr><tr><td>2014-09-03T00:00:00.000+0000</td><td>2</td></tr><tr><td>2012-11-12T00:00:00.000+0000</td><td>2</td></tr><tr><td>2010-07-16T00:00:00.000+0000</td><td>2</td></tr><tr><td>2016-10-23T00:00:00.000+0000</td><td>2</td></tr><tr><td>2009-11-18T00:00:00.000+0000</td><td>2</td></tr><tr><td>2012-01-05T00:00:00.000+0000</td><td>2</td></tr><tr><td>2001-06-01T00:00:00.000+0000</td><td>2</td></tr><tr><td>2018-07-22T00:00:00.000+0000</td><td>2</td></tr><tr><td>2011-05-04T00:00:00.000+0000</td><td>2</td></tr><tr><td>2018-12-29T00:00:00.000+0000</td><td>2</td></tr><tr><td>2013-02-14T00:00:00.000+0000</td><td>2</td></tr><tr><td>2017-02-11T00:00:00.000+0000</td><td>2</td></tr><tr><td>2011-08-17T00:00:00.000+0000</td><td>2</td></tr><tr><td>2011-05-26T00:00:00.000+0000</td><td>2</td></tr><tr><td>2012-06-27T00:00:00.000+0000</td><td>2</td></tr><tr><td>2009-02-18T00:00:00.000+0000</td><td>2</td></tr><tr><td>2013-06-18T00:00:00.000+0000</td><td>2</td></tr><tr><td>2011-11-16T00:00:00.000+0000</td><td>2</td></tr><tr><td>2012-08-30T00:00:00.000+0000</td><td>2</td></tr><tr><td>2017-03-18T00:00:00.000+0000</td><td>2</td></tr><tr><td>2016-07-30T00:00:00.000+0000</td><td>2</td></tr><tr><td>2016-09-17T00:00:00.000+0000</td><td>2</td></tr><tr><td>2012-06-25T00:00:00.000+0000</td><td>2</td></tr><tr><td>2013-08-02T00:00:00.000+0000</td><td>2</td></tr><tr><td>2010-04-29T00:00:00.000+0000</td><td>2</td></tr><tr><td>2012-05-25T00:00:00.000+0000</td><td>2</td></tr><tr><td>2016-12-26T00:00:00.000+0000</td><td>2</td></tr><tr><td>2014-04-07T00:00:00.000+0000</td><td>2</td></tr><tr><td>2018-09-23T00:00:00.000+0000</td><td>2</td></tr><tr><td>2012-02-16T00:00:00.000+0000</td><td>2</td></tr><tr><td>2014-06-18T00:00:00.000+0000</td><td>2</td></tr><tr><td>2008-04-09T00:00:00.000+0000</td><td>2</td></tr><tr><td>2009-07-01T00:00:00.000+0000</td><td>2</td></tr><tr><td>2013-10-30T00:00:00.000+0000</td><td>2</td></tr><tr><td>2014-02-04T00:00:00.000+0000</td><td>2</td></tr><tr><td>2012-09-11T00:00:00.000+0000</td><td>2</td></tr><tr><td>2011-01-19T00:00:00.000+0000</td><td>2</td></tr><tr><td>2011-05-11T00:00:00.000+0000</td><td>2</td></tr><tr><td>2013-08-27T00:00:00.000+0000</td><td>2</td></tr><tr><td>2017-04-08T00:00:00.000+0000</td><td>2</td></tr><tr><td>2009-12-15T00:00:00.000+0000</td><td>2</td></tr><tr><td>2014-02-26T00:00:00.000+0000</td><td>2</td></tr><tr><td>2011-01-20T00:00:00.000+0000</td><td>2</td></tr><tr><td>2016-06-11T00:00:00.000+0000</td><td>2</td></tr><tr><td>2018-04-28T00:00:00.000+0000</td><td>2</td></tr><tr><td>2011-09-01T00:00:00.000+0000</td><td>2</td></tr><tr><td>2012-10-24T00:00:00.000+0000</td><td>2</td></tr><tr><td>2009-02-23T00:00:00.000+0000</td><td>2</td></tr><tr><td>2006-02-07T00:00:00.000+0000</td><td>2</td></tr><tr><td>2018-05-06T00:00:00.000+0000</td><td>2</td></tr><tr><td>2011-02-23T00:00:00.000+0000</td><td>2</td></tr><tr><td>2012-07-31T00:00:00.000+0000</td><td>2</td></tr><tr><td>2014-05-26T00:00:00.000+0000</td><td>2</td></tr><tr><td>2010-11-22T00:00:00.000+0000</td><td>2</td></tr><tr><td>2012-04-16T00:00:00.000+0000</td><td>2</td></tr><tr><td>2012-11-01T00:00:00.000+0000</td><td>2</td></tr><tr><td>2014-04-09T00:00:00.000+0000</td><td>2</td></tr><tr><td>2017-06-24T00:00:00.000+0000</td><td>2</td></tr><tr><td>2017-11-26T00:00:00.000+0000</td><td>2</td></tr><tr><td>2013-11-12T00:00:00.000+0000</td><td>2</td></tr><tr><td>2012-04-27T00:00:00.000+0000</td><td>2</td></tr><tr><td>2019-06-29T00:00:00.000+0000</td><td>2</td></tr><tr><td>2014-09-11T00:00:00.000+0000</td><td>2</td></tr><tr><td>2009-07-02T00:00:00.000+0000</td><td>2</td></tr><tr><td>2010-08-03T00:00:00.000+0000</td><td>2</td></tr><tr><td>2014-01-14T00:00:00.000+0000</td><td>2</td></tr><tr><td>2011-03-17T00:00:00.000+0000</td><td>2</td></tr><tr><td>2017-02-26T00:00:00.000+0000</td><td>2</td></tr><tr><td>2009-04-02T00:00:00.000+0000</td><td>2</td></tr><tr><td>2010-10-06T00:00:00.000+0000</td><td>2</td></tr><tr><td>2017-09-09T00:00:00.000+0000</td><td>2</td></tr><tr><td>2011-09-16T00:00:00.000+0000</td><td>2</td></tr><tr><td>2013-06-26T00:00:00.000+0000</td><td>2</td></tr><tr><td>2009-07-29T00:00:00.000+0000</td><td>2</td></tr><tr><td>2013-07-25T00:00:00.000+0000</td><td>2</td></tr><tr><td>2010-12-02T00:00:00.000+0000</td><td>2</td></tr><tr><td>2014-10-31T00:00:00.000+0000</td><td>2</td></tr><tr><td>2010-03-15T00:00:00.000+0000</td><td>2</td></tr><tr><td>2011-10-20T00:00:00.000+0000</td><td>2</td></tr><tr><td>2009-08-24T00:00:00.000+0000</td><td>2</td></tr><tr><td>2011-06-17T00:00:00.000+0000</td><td>2</td></tr><tr><td>2018-02-18T00:00:00.000+0000</td><td>2</td></tr><tr><td>2008-08-07T00:00:00.000+0000</td><td>2</td></tr><tr><td>2009-04-22T00:00:00.000+0000</td><td>2</td></tr><tr><td>2018-10-13T00:00:00.000+0000</td><td>2</td></tr><tr><td>2012-10-22T00:00:00.000+0000</td><td>2</td></tr><tr><td>2009-05-01T00:00:00.000+0000</td><td>2</td></tr><tr><td>2012-02-14T00:00:00.000+0000</td><td>2</td></tr><tr><td>2014-01-09T00:00:00.000+0000</td><td>2</td></tr><tr><td>2016-11-13T00:00:00.000+0000</td><td>2</td></tr><tr><td>2016-02-10T00:00:00.000+0000</td><td>2</td></tr><tr><td>2016-07-16T00:00:00.000+0000</td><td>2</td></tr><tr><td>2009-03-04T00:00:00.000+0000</td><td>2</td></tr><tr><td>2013-08-26T00:00:00.000+0000</td><td>2</td></tr><tr><td>2019-07-21T00:00:00.000+0000</td><td>2</td></tr><tr><td>2010-09-27T00:00:00.000+0000</td><td>2</td></tr><tr><td>2015-01-06T00:00:00.000+0000</td><td>2</td></tr><tr><td>2017-01-28T00:00:00.000+0000</td><td>2</td></tr><tr><td>2010-07-15T00:00:00.000+0000</td><td>2</td></tr><tr><td>2007-08-07T00:00:00.000+0000</td><td>2</td></tr><tr><td>2012-01-25T00:00:00.000+0000</td><td>2</td></tr><tr><td>2012-07-02T00:00:00.000+0000</td><td>2</td></tr><tr><td>2010-02-22T00:00:00.000+0000</td><td>2</td></tr><tr><td>2012-05-18T00:00:00.000+0000</td><td>2</td></tr><tr><td>2014-03-31T00:00:00.000+0000</td><td>2</td></tr><tr><td>2008-09-30T00:00:00.000+0000</td><td>2</td></tr><tr><td>2011-08-31T00:00:00.000+0000</td><td>2</td></tr><tr><td>2012-02-02T00:00:00.000+0000</td><td>2</td></tr><tr><td>2016-04-16T00:00:00.000+0000</td><td>2</td></tr><tr><td>2013-04-04T00:00:00.000+0000</td><td>2</td></tr><tr><td>2014-09-24T00:00:00.000+0000</td><td>2</td></tr><tr><td>2011-08-08T00:00:00.000+0000</td><td>2</td></tr><tr><td>2012-05-16T00:00:00.000+0000</td><td>2</td></tr><tr><td>2011-11-18T00:00:00.000+0000</td><td>2</td></tr><tr><td>2018-07-08T00:00:00.000+0000</td><td>2</td></tr><tr><td>2013-04-05T00:00:00.000+0000</td><td>2</td></tr><tr><td>2013-03-25T00:00:00.000+0000</td><td>2</td></tr><tr><td>2004-11-01T00:00:00.000+0000</td><td>2</td></tr><tr><td>2008-10-03T00:00:00.000+0000</td><td>2</td></tr><tr><td>2009-02-10T00:00:00.000+0000</td><td>2</td></tr><tr><td>2008-09-29T00:00:00.000+0000</td><td>2</td></tr><tr><td>2012-11-20T00:00:00.000+0000</td><td>2</td></tr><tr><td>2008-04-01T00:00:00.000+0000</td><td>2</td></tr><tr><td>2013-04-25T00:00:00.000+0000</td><td>2</td></tr><tr><td>2010-08-12T00:00:00.000+0000</td><td>2</td></tr><tr><td>2012-08-21T00:00:00.000+0000</td><td>2</td></tr><tr><td>2009-04-07T00:00:00.000+0000</td><td>2</td></tr><tr><td>2011-08-30T00:00:00.000+0000</td><td>2</td></tr><tr><td>2014-06-25T00:00:00.000+0000</td><td>2</td></tr><tr><td>2014-03-03T00:00:00.000+0000</td><td>2</td></tr><tr><td>2012-02-03T00:00:00.000+0000</td><td>2</td></tr><tr><td>2013-02-28T00:00:00.000+0000</td><td>2</td></tr><tr><td>2013-07-04T00:00:00.000+0000</td><td>2</td></tr><tr><td>2012-11-02T00:00:00.000+0000</td><td>2</td></tr><tr><td>2012-04-26T00:00:00.000+0000</td><td>2</td></tr><tr><td>2011-08-15T00:00:00.000+0000</td><td>2</td></tr><tr><td>2008-08-28T00:00:00.000+0000</td><td>2</td></tr><tr><td>2011-12-14T00:00:00.000+0000</td><td>2</td></tr><tr><td>2009-10-30T00:00:00.000+0000</td><td>2</td></tr><tr><td>2010-09-24T00:00:00.000+0000</td><td>2</td></tr><tr><td>2018-07-15T00:00:00.000+0000</td><td>2</td></tr><tr><td>2009-01-07T00:00:00.000+0000</td><td>2</td></tr><tr><td>2013-03-21T00:00:00.000+0000</td><td>2</td></tr><tr><td>2012-09-04T00:00:00.000+0000</td><td>2</td></tr><tr><td>2013-02-26T00:00:00.000+0000</td><td>2</td></tr><tr><td>2012-02-08T00:00:00.000+0000</td><td>2</td></tr><tr><td>2012-04-12T00:00:00.000+0000</td><td>2</td></tr><tr><td>2016-09-18T00:00:00.000+0000</td><td>2</td></tr><tr><td>2010-10-28T00:00:00.000+0000</td><td>2</td></tr><tr><td>2011-04-29T00:00:00.000+0000</td><td>2</td></tr><tr><td>2013-06-24T00:00:00.000+0000</td><td>2</td></tr><tr><td>2010-08-04T00:00:00.000+0000</td><td>2</td></tr><tr><td>2012-10-31T00:00:00.000+0000</td><td>2</td></tr><tr><td>2013-02-06T00:00:00.000+0000</td><td>2</td></tr><tr><td>2013-10-28T00:00:00.000+0000</td><td>2</td></tr><tr><td>2016-07-10T00:00:00.000+0000</td><td>2</td></tr><tr><td>2013-01-23T00:00:00.000+0000</td><td>2</td></tr><tr><td>2011-06-15T00:00:00.000+0000</td><td>2</td></tr><tr><td>2010-05-12T00:00:00.000+0000</td><td>2</td></tr><tr><td>2018-08-19T00:00:00.000+0000</td><td>2</td></tr><tr><td>2012-09-24T00:00:00.000+0000</td><td>2</td></tr><tr><td>2011-11-21T00:00:00.000+0000</td><td>2</td></tr><tr><td>2017-11-04T00:00:00.000+0000</td><td>2</td></tr><tr><td>2014-06-23T00:00:00.000+0000</td><td>2</td></tr><tr><td>2016-10-30T00:00:00.000+0000</td><td>2</td></tr><tr><td>2015-04-08T00:00:00.000+0000</td><td>2</td></tr><tr><td>2009-11-16T00:00:00.000+0000</td><td>2</td></tr><tr><td>2017-02-12T00:00:00.000+0000</td><td>2</td></tr><tr><td>2012-08-31T00:00:00.000+0000</td><td>2</td></tr><tr><td>2012-08-01T00:00:00.000+0000</td><td>2</td></tr><tr><td>2011-08-04T00:00:00.000+0000</td><td>2</td></tr><tr><td>2011-01-25T00:00:00.000+0000</td><td>2</td></tr><tr><td>2009-10-14T00:00:00.000+0000</td><td>2</td></tr><tr><td>2018-04-08T00:00:00.000+0000</td><td>2</td></tr><tr><td>2011-06-01T00:00:00.000+0000</td><td>2</td></tr><tr><td>2020-09-12T00:00:00.000+0000</td><td>2</td></tr><tr><td>2013-10-15T00:00:00.000+0000</td><td>2</td></tr><tr><td>2011-10-03T00:00:00.000+0000</td><td>2</td></tr><tr><td>2009-08-17T00:00:00.000+0000</td><td>2</td></tr><tr><td>2010-08-27T00:00:00.000+0000</td><td>2</td></tr><tr><td>2012-11-27T00:00:00.000+0000</td><td>2</td></tr><tr><td>2012-09-21T00:00:00.000+0000</td><td>2</td></tr><tr><td>2010-04-15T00:00:00.000+0000</td><td>2</td></tr><tr><td>2000-11-01T00:00:00.000+0000</td><td>2</td></tr><tr><td>2013-10-09T00:00:00.000+0000</td><td>2</td></tr><tr><td>2011-07-15T00:00:00.000+0000</td><td>2</td></tr><tr><td>2012-08-09T00:00:00.000+0000</td><td>2</td></tr><tr><td>2011-11-02T00:00:00.000+0000</td><td>2</td></tr><tr><td>2018-01-13T00:00:00.000+0000</td><td>2</td></tr><tr><td>2012-05-24T00:00:00.000+0000</td><td>2</td></tr><tr><td>2011-08-19T00:00:00.000+0000</td><td>2</td></tr><tr><td>2007-04-06T00:00:00.000+0000</td><td>2</td></tr><tr><td>2013-08-06T00:00:00.000+0000</td><td>2</td></tr><tr><td>2009-09-23T00:00:00.000+0000</td><td>2</td></tr><tr><td>2011-05-16T00:00:00.000+0000</td><td>2</td></tr><tr><td>2010-12-23T00:00:00.000+0000</td><td>2</td></tr><tr><td>2011-11-22T00:00:00.000+0000</td><td>2</td></tr><tr><td>2009-04-15T00:00:00.000+0000</td><td>2</td></tr><tr><td>2009-02-04T00:00:00.000+0000</td><td>2</td></tr><tr><td>2013-10-02T00:00:00.000+0000</td><td>2</td></tr><tr><td>2010-09-14T00:00:00.000+0000</td><td>2</td></tr><tr><td>2013-06-21T00:00:00.000+0000</td><td>2</td></tr><tr><td>2014-01-15T00:00:00.000+0000</td><td>2</td></tr><tr><td>2012-05-10T00:00:00.000+0000</td><td>2</td></tr><tr><td>2010-11-17T00:00:00.000+0000</td><td>2</td></tr><tr><td>2012-08-29T00:00:00.000+0000</td><td>2</td></tr><tr><td>2010-01-22T00:00:00.000+0000</td><td>2</td></tr><tr><td>2017-01-07T00:00:00.000+0000</td><td>2</td></tr><tr><td>2009-05-29T00:00:00.000+0000</td><td>2</td></tr><tr><td>2012-10-25T00:00:00.000+0000</td><td>2</td></tr><tr><td>2016-02-05T00:00:00.000+0000</td><td>2</td></tr><tr><td>2012-04-24T00:00:00.000+0000</td><td>2</td></tr><tr><td>2013-05-17T00:00:00.000+0000</td><td>2</td></tr><tr><td>2013-11-14T00:00:00.000+0000</td><td>2</td></tr><tr><td>2009-11-12T00:00:00.000+0000</td><td>2</td></tr><tr><td>2012-09-20T00:00:00.000+0000</td><td>2</td></tr><tr><td>2010-09-28T00:00:00.000+0000</td><td>2</td></tr><tr><td>2012-11-07T00:00:00.000+0000</td><td>2</td></tr><tr><td>2015-12-24T00:00:00.000+0000</td><td>2</td></tr><tr><td>2012-04-17T00:00:00.000+0000</td><td>2</td></tr><tr><td>2007-03-20T00:00:00.000+0000</td><td>2</td></tr><tr><td>2007-05-04T00:00:00.000+0000</td><td>2</td></tr><tr><td>2013-12-19T00:00:00.000+0000</td><td>2</td></tr><tr><td>2013-07-11T00:00:00.000+0000</td><td>2</td></tr><tr><td>2011-08-24T00:00:00.000+0000</td><td>2</td></tr><tr><td>2009-10-15T00:00:00.000+0000</td><td>1</td></tr><tr><td>2016-03-13T00:00:00.000+0000</td><td>1</td></tr><tr><td>2010-04-19T00:00:00.000+0000</td><td>1</td></tr><tr><td>2016-12-24T00:00:00.000+0000</td><td>1</td></tr><tr><td>2010-10-22T00:00:00.000+0000</td><td>1</td></tr><tr><td>2007-07-24T00:00:00.000+0000</td><td>1</td></tr><tr><td>2011-05-25T00:00:00.000+0000</td><td>1</td></tr><tr><td>2012-12-17T00:00:00.000+0000</td><td>1</td></tr><tr><td>2013-07-08T00:00:00.000+0000</td><td>1</td></tr><tr><td>2012-01-16T00:00:00.000+0000</td><td>1</td></tr><tr><td>2014-01-20T00:00:00.000+0000</td><td>1</td></tr><tr><td>2010-04-08T00:00:00.000+0000</td><td>1</td></tr><tr><td>2016-08-21T00:00:00.000+0000</td><td>1</td></tr><tr><td>2017-03-25T00:00:00.000+0000</td><td>1</td></tr><tr><td>2012-12-18T00:00:00.000+0000</td><td>1</td></tr><tr><td>2008-09-19T00:00:00.000+0000</td><td>1</td></tr><tr><td>1999-04-01T00:00:00.000+0000</td><td>1</td></tr><tr><td>2013-02-12T00:00:00.000+0000</td><td>1</td></tr><tr><td>2010-01-19T00:00:00.000+0000</td><td>1</td></tr><tr><td>2009-05-15T00:00:00.000+0000</td><td>1</td></tr><tr><td>2017-03-12T00:00:00.000+0000</td><td>1</td></tr><tr><td>2007-02-27T00:00:00.000+0000</td><td>1</td></tr><tr><td>2013-03-29T00:00:00.000+0000</td><td>1</td></tr><tr><td>2010-03-03T00:00:00.000+0000</td><td>1</td></tr><tr><td>2014-09-08T00:00:00.000+0000</td><td>1</td></tr><tr><td>1997-06-30T00:00:00.000+0000</td><td>1</td></tr><tr><td>2012-03-22T00:00:00.000+0000</td><td>1</td></tr><tr><td>2009-04-27T00:00:00.000+0000</td><td>1</td></tr><tr><td>2013-08-20T00:00:00.000+0000</td><td>1</td></tr><tr><td>2008-06-05T00:00:00.000+0000</td><td>1</td></tr><tr><td>2012-07-23T00:00:00.000+0000</td><td>1</td></tr><tr><td>2014-02-10T00:00:00.000+0000</td><td>1</td></tr><tr><td>2008-07-31T00:00:00.000+0000</td><td>1</td></tr><tr><td>2012-04-20T00:00:00.000+0000</td><td>1</td></tr><tr><td>2016-04-10T00:00:00.000+0000</td><td>1</td></tr><tr><td>2011-02-03T00:00:00.000+0000</td><td>1</td></tr><tr><td>2012-03-30T00:00:00.000+0000</td><td>1</td></tr><tr><td>2017-01-01T00:00:00.000+0000</td><td>1</td></tr><tr><td>2011-04-04T00:00:00.000+0000</td><td>1</td></tr><tr><td>2014-03-26T00:00:00.000+0000</td><td>1</td></tr><tr><td>2012-05-07T00:00:00.000+0000</td><td>1</td></tr><tr><td>2011-05-20T00:00:00.000+0000</td><td>1</td></tr><tr><td>2015-10-31T00:00:00.000+0000</td><td>1</td></tr><tr><td>2010-10-07T00:00:00.000+0000</td><td>1</td></tr><tr><td>2019-05-25T00:00:00.000+0000</td><td>1</td></tr><tr><td>2008-04-18T00:00:00.000+0000</td><td>1</td></tr><tr><td>2009-06-26T00:00:00.000+0000</td><td>1</td></tr><tr><td>2013-10-10T00:00:00.000+0000</td><td>1</td></tr><tr><td>2009-04-10T00:00:00.000+0000</td><td>1</td></tr><tr><td>2009-03-23T00:00:00.000+0000</td><td>1</td></tr><tr><td>2008-03-05T00:00:00.000+0000</td><td>1</td></tr><tr><td>2011-12-06T00:00:00.000+0000</td><td>1</td></tr><tr><td>2007-03-22T00:00:00.000+0000</td><td>1</td></tr><tr><td>2016-05-08T00:00:00.000+0000</td><td>1</td></tr><tr><td>2007-06-18T00:00:00.000+0000</td><td>1</td></tr><tr><td>2009-05-20T00:00:00.000+0000</td><td>1</td></tr><tr><td>2006-11-20T00:00:00.000+0000</td><td>1</td></tr><tr><td>2011-09-07T00:00:00.000+0000</td><td>1</td></tr><tr><td>2010-12-17T00:00:00.000+0000</td><td>1</td></tr><tr><td>2008-11-17T00:00:00.000+0000</td><td>1</td></tr><tr><td>2013-03-08T00:00:00.000+0000</td><td>1</td></tr><tr><td>2009-04-17T00:00:00.000+0000</td><td>1</td></tr><tr><td>2007-07-03T00:00:00.000+0000</td><td>1</td></tr><tr><td>2012-06-28T00:00:00.000+0000</td><td>1</td></tr><tr><td>2017-06-04T00:00:00.000+0000</td><td>1</td></tr><tr><td>2012-02-28T00:00:00.000+0000</td><td>1</td></tr><tr><td>2016-09-10T00:00:00.000+0000</td><td>1</td></tr><tr><td>2013-08-19T00:00:00.000+0000</td><td>1</td></tr><tr><td>2013-10-07T00:00:00.000+0000</td><td>1</td></tr><tr><td>2012-02-27T00:00:00.000+0000</td><td>1</td></tr><tr><td>2018-08-26T00:00:00.000+0000</td><td>1</td></tr><tr><td>2012-02-24T00:00:00.000+0000</td><td>1</td></tr><tr><td>2009-05-26T00:00:00.000+0000</td><td>1</td></tr><tr><td>2009-04-21T00:00:00.000+0000</td><td>1</td></tr><tr><td>2012-10-26T00:00:00.000+0000</td><td>1</td></tr><tr><td>2011-01-24T00:00:00.000+0000</td><td>1</td></tr><tr><td>2005-10-12T00:00:00.000+0000</td><td>1</td></tr><tr><td>2017-06-25T00:00:00.000+0000</td><td>1</td></tr><tr><td>2011-11-03T00:00:00.000+0000</td><td>1</td></tr><tr><td>2009-02-25T00:00:00.000+0000</td><td>1</td></tr><tr><td>2011-02-25T00:00:00.000+0000</td><td>1</td></tr><tr><td>2012-07-25T00:00:00.000+0000</td><td>1</td></tr><tr><td>2012-10-05T00:00:00.000+0000</td><td>1</td></tr><tr><td>2013-04-01T00:00:00.000+0000</td><td>1</td></tr><tr><td>2013-01-15T00:00:00.000+0000</td><td>1</td></tr><tr><td>2016-11-20T00:00:00.000+0000</td><td>1</td></tr><tr><td>2012-08-13T00:00:00.000+0000</td><td>1</td></tr><tr><td>2014-06-19T00:00:00.000+0000</td><td>1</td></tr><tr><td>2009-07-31T00:00:00.000+0000</td><td>1</td></tr><tr><td>2009-11-03T00:00:00.000+0000</td><td>1</td></tr><tr><td>2009-12-04T00:00:00.000+0000</td><td>1</td></tr><tr><td>2016-10-15T00:00:00.000+0000</td><td>1</td></tr><tr><td>2007-10-26T00:00:00.000+0000</td><td>1</td></tr><tr><td>2010-02-12T00:00:00.000+0000</td><td>1</td></tr><tr><td>2007-02-14T00:00:00.000+0000</td><td>1</td></tr><tr><td>2012-07-12T00:00:00.000+0000</td><td>1</td></tr><tr><td>2008-12-08T00:00:00.000+0000</td><td>1</td></tr><tr><td>2008-07-18T00:00:00.000+0000</td><td>1</td></tr><tr><td>2014-01-13T00:00:00.000+0000</td><td>1</td></tr><tr><td>2019-07-07T00:00:00.000+0000</td><td>1</td></tr><tr><td>2008-05-28T00:00:00.000+0000</td><td>1</td></tr><tr><td>2013-08-12T00:00:00.000+0000</td><td>1</td></tr><tr><td>2012-01-24T00:00:00.000+0000</td><td>1</td></tr><tr><td>2011-11-10T00:00:00.000+0000</td><td>1</td></tr><tr><td>2013-07-23T00:00:00.000+0000</td><td>1</td></tr><tr><td>2012-04-25T00:00:00.000+0000</td><td>1</td></tr><tr><td>2013-04-09T00:00:00.000+0000</td><td>1</td></tr><tr><td>2009-01-28T00:00:00.000+0000</td><td>1</td></tr><tr><td>2010-07-06T00:00:00.000+0000</td><td>1</td></tr><tr><td>2017-03-11T00:00:00.000+0000</td><td>1</td></tr><tr><td>2011-02-22T00:00:00.000+0000</td><td>1</td></tr><tr><td>2013-07-24T00:00:00.000+0000</td><td>1</td></tr><tr><td>2007-08-06T00:00:00.000+0000</td><td>1</td></tr><tr><td>2017-03-04T00:00:00.000+0000</td><td>1</td></tr><tr><td>2008-11-01T00:00:00.000+0000</td><td>1</td></tr><tr><td>2011-12-13T00:00:00.000+0000</td><td>1</td></tr><tr><td>2012-11-30T00:00:00.000+0000</td><td>1</td></tr><tr><td>2009-12-10T00:00:00.000+0000</td><td>1</td></tr><tr><td>2009-09-14T00:00:00.000+0000</td><td>1</td></tr><tr><td>2009-09-21T00:00:00.000+0000</td><td>1</td></tr><tr><td>2010-06-14T00:00:00.000+0000</td><td>1</td></tr><tr><td>2008-10-31T00:00:00.000+0000</td><td>1</td></tr><tr><td>2013-05-23T00:00:00.000+0000</td><td>1</td></tr><tr><td>2013-09-09T00:00:00.000+0000</td><td>1</td></tr><tr><td>2008-05-21T00:00:00.000+0000</td><td>1</td></tr><tr><td>2010-07-07T00:00:00.000+0000</td><td>1</td></tr><tr><td>2010-06-29T00:00:00.000+0000</td><td>1</td></tr><tr><td>2008-02-29T00:00:00.000+0000</td><td>1</td></tr><tr><td>2012-03-08T00:00:00.000+0000</td><td>1</td></tr><tr><td>2002-08-28T00:00:00.000+0000</td><td>1</td></tr><tr><td>2014-04-14T00:00:00.000+0000</td><td>1</td></tr><tr><td>2015-12-29T00:00:00.000+0000</td><td>1</td></tr><tr><td>2009-06-04T00:00:00.000+0000</td><td>1</td></tr><tr><td>2006-09-11T00:00:00.000+0000</td><td>1</td></tr><tr><td>2013-02-25T00:00:00.000+0000</td><td>1</td></tr><tr><td>1998-11-08T00:00:00.000+0000</td><td>1</td></tr><tr><td>2009-01-08T00:00:00.000+0000</td><td>1</td></tr><tr><td>2001-12-01T00:00:00.000+0000</td><td>1</td></tr><tr><td>2010-03-10T00:00:00.000+0000</td><td>1</td></tr><tr><td>2013-04-02T00:00:00.000+0000</td><td>1</td></tr><tr><td>2009-07-16T00:00:00.000+0000</td><td>1</td></tr><tr><td>2009-05-14T00:00:00.000+0000</td><td>1</td></tr><tr><td>2011-07-18T00:00:00.000+0000</td><td>1</td></tr><tr><td>2011-05-17T00:00:00.000+0000</td><td>1</td></tr><tr><td>2016-10-22T00:00:00.000+0000</td><td>1</td></tr><tr><td>2006-10-16T00:00:00.000+0000</td><td>1</td></tr><tr><td>2012-11-06T00:00:00.000+0000</td><td>1</td></tr><tr><td>2010-11-23T00:00:00.000+0000</td><td>1</td></tr><tr><td>2009-11-05T00:00:00.000+0000</td><td>1</td></tr><tr><td>2010-05-21T00:00:00.000+0000</td><td>1</td></tr><tr><td>2011-07-27T00:00:00.000+0000</td><td>1</td></tr><tr><td>2017-08-13T00:00:00.000+0000</td><td>1</td></tr><tr><td>2012-04-04T00:00:00.000+0000</td><td>1</td></tr><tr><td>2007-11-07T00:00:00.000+0000</td><td>1</td></tr><tr><td>2012-04-06T00:00:00.000+0000</td><td>1</td></tr><tr><td>2007-10-30T00:00:00.000+0000</td><td>1</td></tr><tr><td>2006-09-29T00:00:00.000+0000</td><td>1</td></tr><tr><td>2012-03-19T00:00:00.000+0000</td><td>1</td></tr><tr><td>2012-05-17T00:00:00.000+0000</td><td>1</td></tr><tr><td>2022-11-11T00:00:00.000+0000</td><td>1</td></tr><tr><td>2012-07-27T00:00:00.000+0000</td><td>1</td></tr><tr><td>2016-08-27T00:00:00.000+0000</td><td>1</td></tr><tr><td>2012-06-20T00:00:00.000+0000</td><td>1</td></tr><tr><td>2013-10-23T00:00:00.000+0000</td><td>1</td></tr><tr><td>2009-03-06T00:00:00.000+0000</td><td>1</td></tr><tr><td>2011-05-03T00:00:00.000+0000</td><td>1</td></tr><tr><td>2009-07-09T00:00:00.000+0000</td><td>1</td></tr><tr><td>2012-03-20T00:00:00.000+0000</td><td>1</td></tr><tr><td>2013-11-25T00:00:00.000+0000</td><td>1</td></tr><tr><td>2010-03-17T00:00:00.000+0000</td><td>1</td></tr><tr><td>2008-09-23T00:00:00.000+0000</td><td>1</td></tr><tr><td>2010-09-08T00:00:00.000+0000</td><td>1</td></tr><tr><td>2016-06-12T00:00:00.000+0000</td><td>1</td></tr><tr><td>2012-02-20T00:00:00.000+0000</td><td>1</td></tr><tr><td>2010-07-20T00:00:00.000+0000</td><td>1</td></tr><tr><td>2008-02-28T00:00:00.000+0000</td><td>1</td></tr><tr><td>2014-08-20T00:00:00.000+0000</td><td>1</td></tr><tr><td>2011-02-24T00:00:00.000+0000</td><td>1</td></tr><tr><td>2016-08-13T00:00:00.000+0000</td><td>1</td></tr><tr><td>2010-11-01T00:00:00.000+0000</td><td>1</td></tr><tr><td>2013-08-09T00:00:00.000+0000</td><td>1</td></tr><tr><td>2006-04-01T00:00:00.000+0000</td><td>1</td></tr><tr><td>2011-08-11T00:00:00.000+0000</td><td>1</td></tr><tr><td>2013-01-07T00:00:00.000+0000</td><td>1</td></tr><tr><td>2009-10-20T00:00:00.000+0000</td><td>1</td></tr><tr><td>2012-01-27T00:00:00.000+0000</td><td>1</td></tr><tr><td>2008-10-16T00:00:00.000+0000</td><td>1</td></tr><tr><td>2014-08-12T00:00:00.000+0000</td><td>1</td></tr><tr><td>2017-07-09T00:00:00.000+0000</td><td>1</td></tr><tr><td>2007-03-27T00:00:00.000+0000</td><td>1</td></tr><tr><td>2011-04-28T00:00:00.000+0000</td><td>1</td></tr><tr><td>2008-07-08T00:00:00.000+0000</td><td>1</td></tr><tr><td>2009-02-11T00:00:00.000+0000</td><td>1</td></tr><tr><td>2010-08-17T00:00:00.000+0000</td><td>1</td></tr><tr><td>2010-09-22T00:00:00.000+0000</td><td>1</td></tr><tr><td>2009-09-05T00:00:00.000+0000</td><td>1</td></tr><tr><td>2008-12-05T00:00:00.000+0000</td><td>1</td></tr><tr><td>2017-07-01T00:00:00.000+0000</td><td>1</td></tr><tr><td>2010-10-04T00:00:00.000+0000</td><td>1</td></tr><tr><td>2010-01-12T00:00:00.000+0000</td><td>1</td></tr><tr><td>2015-08-29T00:00:00.000+0000</td><td>1</td></tr><tr><td>2003-11-01T00:00:00.000+0000</td><td>1</td></tr><tr><td>2008-10-21T00:00:00.000+0000</td><td>1</td></tr><tr><td>2012-05-14T00:00:00.000+0000</td><td>1</td></tr><tr><td>2010-11-08T00:00:00.000+0000</td><td>1</td></tr><tr><td>2010-04-23T00:00:00.000+0000</td><td>1</td></tr><tr><td>2013-11-29T00:00:00.000+0000</td><td>1</td></tr><tr><td>2012-03-15T00:00:00.000+0000</td><td>1</td></tr><tr><td>2012-07-04T00:00:00.000+0000</td><td>1</td></tr><tr><td>2009-10-08T00:00:00.000+0000</td><td>1</td></tr><tr><td>2016-04-23T00:00:00.000+0000</td><td>1</td></tr><tr><td>2008-06-27T00:00:00.000+0000</td><td>1</td></tr><tr><td>2008-09-15T00:00:00.000+0000</td><td>1</td></tr><tr><td>2009-05-05T00:00:00.000+0000</td><td>1</td></tr><tr><td>2010-03-04T00:00:00.000+0000</td><td>1</td></tr><tr><td>2011-06-07T00:00:00.000+0000</td><td>1</td></tr><tr><td>2013-07-01T00:00:00.000+0000</td><td>1</td></tr><tr><td>2010-12-10T00:00:00.000+0000</td><td>1</td></tr><tr><td>2011-03-24T00:00:00.000+0000</td><td>1</td></tr><tr><td>2011-06-30T00:00:00.000+0000</td><td>1</td></tr><tr><td>2008-07-28T00:00:00.000+0000</td><td>1</td></tr><tr><td>2012-10-02T00:00:00.000+0000</td><td>1</td></tr><tr><td>2009-11-25T00:00:00.000+0000</td><td>1</td></tr><tr><td>2007-02-02T00:00:00.000+0000</td><td>1</td></tr><tr><td>2008-02-15T00:00:00.000+0000</td><td>1</td></tr><tr><td>2013-01-24T00:00:00.000+0000</td><td>1</td></tr><tr><td>2017-10-08T00:00:00.000+0000</td><td>1</td></tr><tr><td>2009-12-23T00:00:00.000+0000</td><td>1</td></tr><tr><td>2008-01-18T00:00:00.000+0000</td><td>1</td></tr><tr><td>2009-01-29T00:00:00.000+0000</td><td>1</td></tr><tr><td>2013-05-14T00:00:00.000+0000</td><td>1</td></tr><tr><td>2013-02-19T00:00:00.000+0000</td><td>1</td></tr><tr><td>2009-07-15T00:00:00.000+0000</td><td>1</td></tr><tr><td>2010-03-23T00:00:00.000+0000</td><td>1</td></tr><tr><td>2008-11-19T00:00:00.000+0000</td><td>1</td></tr><tr><td>2009-01-09T00:00:00.000+0000</td><td>1</td></tr><tr><td>2012-04-05T00:00:00.000+0000</td><td>1</td></tr><tr><td>2011-01-31T00:00:00.000+0000</td><td>1</td></tr><tr><td>2010-01-08T00:00:00.000+0000</td><td>1</td></tr><tr><td>2007-06-05T00:00:00.000+0000</td><td>1</td></tr><tr><td>2009-09-28T00:00:00.000+0000</td><td>1</td></tr><tr><td>2011-02-02T00:00:00.000+0000</td><td>1</td></tr><tr><td>2011-09-05T00:00:00.000+0000</td><td>1</td></tr><tr><td>2009-05-22T00:00:00.000+0000</td><td>1</td></tr><tr><td>2012-02-10T00:00:00.000+0000</td><td>1</td></tr><tr><td>2005-10-27T00:00:00.000+0000</td><td>1</td></tr><tr><td>2009-11-01T00:00:00.000+0000</td><td>1</td></tr><tr><td>2010-08-19T00:00:00.000+0000</td><td>1</td></tr><tr><td>2010-07-30T00:00:00.000+0000</td><td>1</td></tr><tr><td>2008-05-22T00:00:00.000+0000</td><td>1</td></tr><tr><td>2013-09-02T00:00:00.000+0000</td><td>1</td></tr><tr><td>2012-11-08T00:00:00.000+0000</td><td>1</td></tr><tr><td>2012-01-30T00:00:00.000+0000</td><td>1</td></tr><tr><td>2005-04-01T00:00:00.000+0000</td><td>1</td></tr><tr><td>2008-03-21T00:00:00.000+0000</td><td>1</td></tr><tr><td>2009-06-23T00:00:00.000+0000</td><td>1</td></tr><tr><td>2021-07-03T00:00:00.000+0000</td><td>1</td></tr><tr><td>2013-02-01T00:00:00.000+0000</td><td>1</td></tr><tr><td>2010-02-17T00:00:00.000+0000</td><td>1</td></tr><tr><td>2010-02-23T00:00:00.000+0000</td><td>1</td></tr><tr><td>2016-05-15T00:00:00.000+0000</td><td>1</td></tr><tr><td>2010-11-16T00:00:00.000+0000</td><td>1</td></tr><tr><td>2009-12-22T00:00:00.000+0000</td><td>1</td></tr><tr><td>2013-11-28T00:00:00.000+0000</td><td>1</td></tr><tr><td>2011-06-02T00:00:00.000+0000</td><td>1</td></tr><tr><td>2008-08-21T00:00:00.000+0000</td><td>1</td></tr><tr><td>2010-12-07T00:00:00.000+0000</td><td>1</td></tr><tr><td>2013-05-28T00:00:00.000+0000</td><td>1</td></tr><tr><td>2008-11-25T00:00:00.000+0000</td><td>1</td></tr><tr><td>2009-10-22T00:00:00.000+0000</td><td>1</td></tr><tr><td>2007-06-22T00:00:00.000+0000</td><td>1</td></tr><tr><td>2014-05-14T00:00:00.000+0000</td><td>1</td></tr><tr><td>2007-10-15T00:00:00.000+0000</td><td>1</td></tr><tr><td>2020-11-28T00:00:00.000+0000</td><td>1</td></tr><tr><td>2011-03-29T00:00:00.000+0000</td><td>1</td></tr><tr><td>2006-12-14T00:00:00.000+0000</td><td>1</td></tr><tr><td>2007-07-20T00:00:00.000+0000</td><td>1</td></tr><tr><td>2011-10-14T00:00:00.000+0000</td><td>1</td></tr><tr><td>2014-08-14T00:00:00.000+0000</td><td>1</td></tr><tr><td>2011-09-13T00:00:00.000+0000</td><td>1</td></tr><tr><td>2016-11-12T00:00:00.000+0000</td><td>1</td></tr><tr><td>2008-02-08T00:00:00.000+0000</td><td>1</td></tr><tr><td>2008-11-21T00:00:00.000+0000</td><td>1</td></tr><tr><td>2008-06-30T00:00:00.000+0000</td><td>1</td></tr><tr><td>2013-09-05T00:00:00.000+0000</td><td>1</td></tr><tr><td>2011-11-17T00:00:00.000+0000</td><td>1</td></tr><tr><td>2011-04-19T00:00:00.000+0000</td><td>1</td></tr><tr><td>2003-05-01T00:00:00.000+0000</td><td>1</td></tr><tr><td>2011-09-19T00:00:00.000+0000</td><td>1</td></tr><tr><td>2006-11-07T00:00:00.000+0000</td><td>1</td></tr><tr><td>2011-10-27T00:00:00.000+0000</td><td>1</td></tr><tr><td>2017-05-06T00:00:00.000+0000</td><td>1</td></tr><tr><td>2011-05-12T00:00:00.000+0000</td><td>1</td></tr><tr><td>2012-12-12T00:00:00.000+0000</td><td>1</td></tr><tr><td>2009-01-22T00:00:00.000+0000</td><td>1</td></tr><tr><td>2015-12-05T00:00:00.000+0000</td><td>1</td></tr><tr><td>2009-08-28T00:00:00.000+0000</td><td>1</td></tr><tr><td>2015-12-25T00:00:00.000+0000</td><td>1</td></tr><tr><td>2006-03-14T00:00:00.000+0000</td><td>1</td></tr><tr><td>2012-08-15T00:00:00.000+0000</td><td>1</td></tr><tr><td>2012-06-08T00:00:00.000+0000</td><td>1</td></tr><tr><td>2012-06-07T00:00:00.000+0000</td><td>1</td></tr><tr><td>2013-08-23T00:00:00.000+0000</td><td>1</td></tr><tr><td>2011-02-10T00:00:00.000+0000</td><td>1</td></tr><tr><td>2016-04-03T00:00:00.000+0000</td><td>1</td></tr><tr><td>2010-11-26T00:00:00.000+0000</td><td>1</td></tr><tr><td>2011-04-27T00:00:00.000+0000</td><td>1</td></tr><tr><td>2010-02-16T00:00:00.000+0000</td><td>1</td></tr><tr><td>2012-02-09T00:00:00.000+0000</td><td>1</td></tr><tr><td>2007-11-21T00:00:00.000+0000</td><td>1</td></tr><tr><td>2008-02-20T00:00:00.000+0000</td><td>1</td></tr><tr><td>2004-03-17T00:00:00.000+0000</td><td>1</td></tr><tr><td>2009-02-12T00:00:00.000+0000</td><td>1</td></tr><tr><td>2013-05-09T00:00:00.000+0000</td><td>1</td></tr><tr><td>2009-05-12T00:00:00.000+0000</td><td>1</td></tr><tr><td>2012-02-17T00:00:00.000+0000</td><td>1</td></tr><tr><td>2008-07-01T00:00:00.000+0000</td><td>1</td></tr><tr><td>2009-02-27T00:00:00.000+0000</td><td>1</td></tr><tr><td>2012-02-29T00:00:00.000+0000</td><td>1</td></tr><tr><td>2005-08-16T00:00:00.000+0000</td><td>1</td></tr><tr><td>2007-01-12T00:00:00.000+0000</td><td>1</td></tr><tr><td>2006-11-15T00:00:00.000+0000</td><td>1</td></tr><tr><td>2013-05-10T00:00:00.000+0000</td><td>1</td></tr><tr><td>2012-09-03T00:00:00.000+0000</td><td>1</td></tr><tr><td>2012-08-20T00:00:00.000+0000</td><td>1</td></tr><tr><td>2013-03-11T00:00:00.000+0000</td><td>1</td></tr><tr><td>2010-11-10T00:00:00.000+0000</td><td>1</td></tr><tr><td>2008-07-09T00:00:00.000+0000</td><td>1</td></tr><tr><td>2012-01-11T00:00:00.000+0000</td><td>1</td></tr><tr><td>2007-08-21T00:00:00.000+0000</td><td>1</td></tr><tr><td>2016-04-09T00:00:00.000+0000</td><td>1</td></tr><tr><td>2012-12-10T00:00:00.000+0000</td><td>1</td></tr><tr><td>2007-10-16T00:00:00.000+0000</td><td>1</td></tr><tr><td>2009-11-17T00:00:00.000+0000</td><td>1</td></tr><tr><td>2010-03-18T00:00:00.000+0000</td><td>1</td></tr><tr><td>2010-12-14T00:00:00.000+0000</td><td>1</td></tr><tr><td>2010-03-31T00:00:00.000+0000</td><td>1</td></tr><tr><td>2008-05-08T00:00:00.000+0000</td><td>1</td></tr><tr><td>2013-09-19T00:00:00.000+0000</td><td>1</td></tr><tr><td>2015-01-01T00:00:00.000+0000</td><td>1</td></tr><tr><td>2009-12-03T00:00:00.000+0000</td><td>1</td></tr><tr><td>1997-11-14T00:00:00.000+0000</td><td>1</td></tr><tr><td>2006-11-24T00:00:00.000+0000</td><td>1</td></tr><tr><td>2009-07-27T00:00:00.000+0000</td><td>1</td></tr><tr><td>2007-08-29T00:00:00.000+0000</td><td>1</td></tr><tr><td>2011-10-13T00:00:00.000+0000</td><td>1</td></tr><tr><td>2010-06-04T00:00:00.000+0000</td><td>1</td></tr><tr><td>2010-12-15T00:00:00.000+0000</td><td>1</td></tr><tr><td>2007-09-24T00:00:00.000+0000</td><td>1</td></tr><tr><td>2013-01-25T00:00:00.000+0000</td><td>1</td></tr><tr><td>2008-09-16T00:00:00.000+0000</td><td>1</td></tr><tr><td>2011-05-31T00:00:00.000+0000</td><td>1</td></tr><tr><td>2015-12-28T00:00:00.000+0000</td><td>1</td></tr><tr><td>2011-09-30T00:00:00.000+0000</td><td>1</td></tr><tr><td>2009-07-30T00:00:00.000+0000</td><td>1</td></tr><tr><td>2005-07-14T00:00:00.000+0000</td><td>1</td></tr><tr><td>2008-10-13T00:00:00.000+0000</td><td>1</td></tr><tr><td>2004-11-16T00:00:00.000+0000</td><td>1</td></tr><tr><td>2006-06-01T00:00:00.000+0000</td><td>1</td></tr><tr><td>2009-07-06T00:00:00.000+0000</td><td>1</td></tr><tr><td>2016-07-31T00:00:00.000+0000</td><td>1</td></tr><tr><td>2016-07-23T00:00:00.000+0000</td><td>1</td></tr><tr><td>2011-06-10T00:00:00.000+0000</td><td>1</td></tr><tr><td>2019-07-06T00:00:00.000+0000</td><td>1</td></tr><tr><td>2008-10-20T00:00:00.000+0000</td><td>1</td></tr><tr><td>2016-05-01T00:00:00.000+0000</td><td>1</td></tr><tr><td>1999-09-08T00:00:00.000+0000</td><td>1</td></tr><tr><td>2009-09-04T00:00:00.000+0000</td><td>1</td></tr><tr><td>2010-07-28T00:00:00.000+0000</td><td>1</td></tr><tr><td>2014-06-07T00:00:00.000+0000</td><td>1</td></tr><tr><td>2012-07-24T00:00:00.000+0000</td><td>1</td></tr><tr><td>2009-08-05T00:00:00.000+0000</td><td>1</td></tr><tr><td>2011-04-22T00:00:00.000+0000</td><td>1</td></tr><tr><td>2018-11-10T00:00:00.000+0000</td><td>1</td></tr><tr><td>2012-10-01T00:00:00.000+0000</td><td>1</td></tr><tr><td>2010-07-13T00:00:00.000+0000</td><td>1</td></tr><tr><td>2011-08-16T00:00:00.000+0000</td><td>1</td></tr><tr><td>2009-09-25T00:00:00.000+0000</td><td>1</td></tr><tr><td>2014-08-02T00:00:00.000+0000</td><td>1</td></tr><tr><td>2008-10-23T00:00:00.000+0000</td><td>1</td></tr><tr><td>2012-10-03T00:00:00.000+0000</td><td>1</td></tr><tr><td>2007-06-29T00:00:00.000+0000</td><td>1</td></tr><tr><td>2008-10-28T00:00:00.000+0000</td><td>1</td></tr><tr><td>2011-05-23T00:00:00.000+0000</td><td>1</td></tr><tr><td>2012-10-15T00:00:00.000+0000</td><td>1</td></tr><tr><td>2011-11-14T00:00:00.000+0000</td><td>1</td></tr><tr><td>2013-09-03T00:00:00.000+0000</td><td>1</td></tr><tr><td>2007-05-01T00:00:00.000+0000</td><td>1</td></tr><tr><td>2009-06-12T00:00:00.000+0000</td><td>1</td></tr><tr><td>2010-12-01T00:00:00.000+0000</td><td>1</td></tr><tr><td>2009-07-21T00:00:00.000+0000</td><td>1</td></tr><tr><td>2006-05-10T00:00:00.000+0000</td><td>1</td></tr><tr><td>2008-12-01T00:00:00.000+0000</td><td>1</td></tr><tr><td>2013-04-10T00:00:00.000+0000</td><td>1</td></tr><tr><td>2009-12-11T00:00:00.000+0000</td><td>1</td></tr><tr><td>2009-03-02T00:00:00.000+0000</td><td>1</td></tr><tr><td>2009-03-26T00:00:00.000+0000</td><td>1</td></tr><tr><td>2011-09-08T00:00:00.000+0000</td><td>1</td></tr><tr><td>2010-03-16T00:00:00.000+0000</td><td>1</td></tr><tr><td>2011-01-12T00:00:00.000+0000</td><td>1</td></tr><tr><td>2017-01-21T00:00:00.000+0000</td><td>1</td></tr><tr><td>2012-08-07T00:00:00.000+0000</td><td>1</td></tr><tr><td>2012-07-09T00:00:00.000+0000</td><td>1</td></tr><tr><td>2008-10-15T00:00:00.000+0000</td><td>1</td></tr><tr><td>2011-03-02T00:00:00.000+0000</td><td>1</td></tr><tr><td>2016-02-28T00:00:00.000+0000</td><td>1</td></tr><tr><td>2016-04-17T00:00:00.000+0000</td><td>1</td></tr><tr><td>2016-09-25T00:00:00.000+0000</td><td>1</td></tr><tr><td>2007-09-11T00:00:00.000+0000</td><td>1</td></tr><tr><td>2004-06-01T00:00:00.000+0000</td><td>1</td></tr><tr><td>2016-12-03T00:00:00.000+0000</td><td>1</td></tr><tr><td>2009-12-01T00:00:00.000+0000</td><td>1</td></tr><tr><td>2012-06-06T00:00:00.000+0000</td><td>1</td></tr><tr><td>2009-12-09T00:00:00.000+0000</td><td>1</td></tr><tr><td>2017-04-22T00:00:00.000+0000</td><td>1</td></tr><tr><td>2010-08-06T00:00:00.000+0000</td><td>1</td></tr><tr><td>2007-11-08T00:00:00.000+0000</td><td>1</td></tr><tr><td>2013-04-15T00:00:00.000+0000</td><td>1</td></tr><tr><td>2013-04-08T00:00:00.000+0000</td><td>1</td></tr><tr><td>2016-03-20T00:00:00.000+0000</td><td>1</td></tr><tr><td>2011-10-31T00:00:00.000+0000</td><td>1</td></tr><tr><td>2012-08-03T00:00:00.000+0000</td><td>1</td></tr><tr><td>2007-11-14T00:00:00.000+0000</td><td>1</td></tr><tr><td>2008-02-13T00:00:00.000+0000</td><td>1</td></tr><tr><td>2012-12-21T00:00:00.000+0000</td><td>1</td></tr><tr><td>2014-06-27T00:00:00.000+0000</td><td>1</td></tr><tr><td>2016-06-04T00:00:00.000+0000</td><td>1</td></tr><tr><td>2011-07-26T00:00:00.000+0000</td><td>1</td></tr><tr><td>2008-05-19T00:00:00.000+0000</td><td>1</td></tr><tr><td>2009-04-09T00:00:00.000+0000</td><td>1</td></tr><tr><td>2009-08-25T00:00:00.000+0000</td><td>1</td></tr><tr><td>2011-12-19T00:00:00.000+0000</td><td>1</td></tr><tr><td>2013-04-18T00:00:00.000+0000</td><td>1</td></tr><tr><td>2010-02-25T00:00:00.000+0000</td><td>1</td></tr><tr><td>2010-06-21T00:00:00.000+0000</td><td>1</td></tr><tr><td>2010-09-10T00:00:00.000+0000</td><td>1</td></tr><tr><td>2008-09-25T00:00:00.000+0000</td><td>1</td></tr><tr><td>2016-03-19T00:00:00.000+0000</td><td>1</td></tr><tr><td>2006-05-01T00:00:00.000+0000</td><td>1</td></tr><tr><td>2009-10-28T00:00:00.000+0000</td><td>1</td></tr><tr><td>2010-10-12T00:00:00.000+0000</td><td>1</td></tr><tr><td>2007-11-05T00:00:00.000+0000</td><td>1</td></tr><tr><td>2011-03-15T00:00:00.000+0000</td><td>1</td></tr><tr><td>2011-09-26T00:00:00.000+0000</td><td>1</td></tr><tr><td>2013-05-16T00:00:00.000+0000</td><td>1</td></tr><tr><td>2013-10-22T00:00:00.000+0000</td><td>1</td></tr><tr><td>2013-03-04T00:00:00.000+0000</td><td>1</td></tr><tr><td>2007-07-12T00:00:00.000+0000</td><td>1</td></tr><tr><td>2018-04-22T00:00:00.000+0000</td><td>1</td></tr><tr><td>2011-07-20T00:00:00.000+0000</td><td>1</td></tr><tr><td>2016-04-24T00:00:00.000+0000</td><td>1</td></tr><tr><td>2010-09-29T00:00:00.000+0000</td><td>1</td></tr><tr><td>2017-04-02T00:00:00.000+0000</td><td>1</td></tr><tr><td>2007-06-12T00:00:00.000+0000</td><td>1</td></tr><tr><td>2008-08-26T00:00:00.000+0000</td><td>1</td></tr><tr><td>2013-03-15T00:00:00.000+0000</td><td>1</td></tr><tr><td>2012-12-07T00:00:00.000+0000</td><td>1</td></tr><tr><td>2009-03-18T00:00:00.000+0000</td><td>1</td></tr><tr><td>2011-11-23T00:00:00.000+0000</td><td>1</td></tr><tr><td>2013-02-21T00:00:00.000+0000</td><td>1</td></tr><tr><td>2016-03-06T00:00:00.000+0000</td><td>1</td></tr><tr><td>2013-01-08T00:00:00.000+0000</td><td>1</td></tr><tr><td>2010-04-05T00:00:00.000+0000</td><td>1</td></tr><tr><td>2018-03-31T00:00:00.000+0000</td><td>1</td></tr><tr><td>2010-09-20T00:00:00.000+0000</td><td>1</td></tr><tr><td>2008-06-24T00:00:00.000+0000</td><td>1</td></tr><tr><td>2012-09-26T00:00:00.000+0000</td><td>1</td></tr><tr><td>2013-07-09T00:00:00.000+0000</td><td>1</td></tr><tr><td>2011-05-14T00:00:00.000+0000</td><td>1</td></tr><tr><td>2010-05-25T00:00:00.000+0000</td><td>1</td></tr><tr><td>2010-08-30T00:00:00.000+0000</td><td>1</td></tr><tr><td>2010-01-15T00:00:00.000+0000</td><td>1</td></tr><tr><td>2005-07-11T00:00:00.000+0000</td><td>1</td></tr><tr><td>2007-09-21T00:00:00.000+0000</td><td>1</td></tr><tr><td>2010-10-01T00:00:00.000+0000</td><td>1</td></tr><tr><td>2013-10-03T00:00:00.000+0000</td><td>1</td></tr><tr><td>2013-01-16T00:00:00.000+0000</td><td>1</td></tr><tr><td>2007-03-06T00:00:00.000+0000</td><td>1</td></tr><tr><td>2013-06-03T00:00:00.000+0000</td><td>1</td></tr><tr><td>2009-01-14T00:00:00.000+0000</td><td>1</td></tr><tr><td>2009-04-08T00:00:00.000+0000</td><td>1</td></tr><tr><td>2009-04-14T00:00:00.000+0000</td><td>1</td></tr><tr><td>2010-02-09T00:00:00.000+0000</td><td>1</td></tr><tr><td>2011-09-23T00:00:00.000+0000</td><td>1</td></tr><tr><td>2010-04-14T00:00:00.000+0000</td><td>1</td></tr><tr><td>2012-05-04T00:00:00.000+0000</td><td>1</td></tr><tr><td>2008-12-10T00:00:00.000+0000</td><td>1</td></tr><tr><td>2011-11-01T00:00:00.000+0000</td><td>1</td></tr><tr><td>2003-07-01T00:00:00.000+0000</td><td>1</td></tr><tr><td>2012-09-06T00:00:00.000+0000</td><td>1</td></tr><tr><td>2010-08-26T00:00:00.000+0000</td><td>1</td></tr><tr><td>2007-06-01T00:00:00.000+0000</td><td>1</td></tr><tr><td>2001-03-15T00:00:00.000+0000</td><td>1</td></tr><tr><td>2012-07-10T00:00:00.000+0000</td><td>1</td></tr><tr><td>2017-05-07T00:00:00.000+0000</td><td>1</td></tr><tr><td>2017-12-10T00:00:00.000+0000</td><td>1</td></tr><tr><td>2011-12-07T00:00:00.000+0000</td><td>1</td></tr><tr><td>2013-05-13T00:00:00.000+0000</td><td>1</td></tr><tr><td>2016-12-31T00:00:00.000+0000</td><td>1</td></tr><tr><td>2010-09-06T00:00:00.000+0000</td><td>1</td></tr><tr><td>2009-04-29T00:00:00.000+0000</td><td>1</td></tr><tr><td>2012-08-08T00:00:00.000+0000</td><td>1</td></tr><tr><td>2008-11-13T00:00:00.000+0000</td><td>1</td></tr><tr><td>2016-09-04T00:00:00.000+0000</td><td>1</td></tr><tr><td>2008-07-17T00:00:00.000+0000</td><td>1</td></tr><tr><td>2012-04-09T00:00:00.000+0000</td><td>1</td></tr><tr><td>2006-10-11T00:00:00.000+0000</td><td>1</td></tr><tr><td>2013-09-11T00:00:00.000+0000</td><td>1</td></tr><tr><td>2006-11-01T00:00:00.000+0000</td><td>1</td></tr><tr><td>2006-12-19T00:00:00.000+0000</td><td>1</td></tr><tr><td>2010-06-10T00:00:00.000+0000</td><td>1</td></tr><tr><td>2009-09-30T00:00:00.000+0000</td><td>1</td></tr><tr><td>2016-06-19T00:00:00.000+0000</td><td>1</td></tr><tr><td>2019-04-21T00:00:00.000+0000</td><td>1</td></tr><tr><td>2012-11-16T00:00:00.000+0000</td><td>1</td></tr><tr><td>2013-06-28T00:00:00.000+0000</td><td>1</td></tr><tr><td>2009-06-22T00:00:00.000+0000</td><td>1</td></tr><tr><td>2009-06-30T00:00:00.000+0000</td><td>1</td></tr><tr><td>2010-12-18T00:00:00.000+0000</td><td>1</td></tr><tr><td>2008-10-22T00:00:00.000+0000</td><td>1</td></tr><tr><td>2012-10-18T00:00:00.000+0000</td><td>1</td></tr><tr><td>2006-07-26T00:00:00.000+0000</td><td>1</td></tr><tr><td>2015-11-01T00:00:00.000+0000</td><td>1</td></tr><tr><td>2012-03-06T00:00:00.000+0000</td><td>1</td></tr><tr><td>2006-08-24T00:00:00.000+0000</td><td>1</td></tr><tr><td>2011-06-20T00:00:00.000+0000</td><td>1</td></tr><tr><td>2012-12-03T00:00:00.000+0000</td><td>1</td></tr><tr><td>2011-12-02T00:00:00.000+0000</td><td>1</td></tr><tr><td>2006-10-05T00:00:00.000+0000</td><td>1</td></tr><tr><td>2007-12-14T00:00:00.000+0000</td><td>1</td></tr><tr><td>2008-08-18T00:00:00.000+0000</td><td>1</td></tr><tr><td>2004-03-01T00:00:00.000+0000</td><td>1</td></tr><tr><td>2009-06-17T00:00:00.000+0000</td><td>1</td></tr><tr><td>2011-12-16T00:00:00.000+0000</td><td>1</td></tr><tr><td>2008-06-20T00:00:00.000+0000</td><td>1</td></tr><tr><td>2010-03-01T00:00:00.000+0000</td><td>1</td></tr><tr><td>2009-07-24T00:00:00.000+0000</td><td>1</td></tr><tr><td>2013-01-30T00:00:00.000+0000</td><td>1</td></tr><tr><td>2006-05-08T00:00:00.000+0000</td><td>1</td></tr><tr><td>2015-05-30T00:00:00.000+0000</td><td>1</td></tr><tr><td>2014-09-10T00:00:00.000+0000</td><td>1</td></tr><tr><td>2013-03-07T00:00:00.000+0000</td><td>1</td></tr><tr><td>2008-09-22T00:00:00.000+0000</td><td>1</td></tr><tr><td>2006-07-11T00:00:00.000+0000</td><td>1</td></tr><tr><td>2007-01-24T00:00:00.000+0000</td><td>1</td></tr><tr><td>2017-04-16T00:00:00.000+0000</td><td>1</td></tr><tr><td>2012-05-28T00:00:00.000+0000</td><td>1</td></tr><tr><td>2013-03-13T00:00:00.000+0000</td><td>1</td></tr><tr><td>2009-08-20T00:00:00.000+0000</td><td>1</td></tr><tr><td>2013-01-10T00:00:00.000+0000</td><td>1</td></tr><tr><td>2012-06-21T00:00:00.000+0000</td><td>1</td></tr><tr><td>2012-04-10T00:00:00.000+0000</td><td>1</td></tr><tr><td>2017-02-04T00:00:00.000+0000</td><td>1</td></tr><tr><td>2006-11-22T00:00:00.000+0000</td><td>1</td></tr><tr><td>2013-06-25T00:00:00.000+0000</td><td>1</td></tr><tr><td>2009-08-04T00:00:00.000+0000</td><td>1</td></tr><tr><td>2016-11-26T00:00:00.000+0000</td><td>1</td></tr><tr><td>2011-11-08T00:00:00.000+0000</td><td>1</td></tr><tr><td>2013-07-02T00:00:00.000+0000</td><td>1</td></tr><tr><td>2011-04-05T00:00:00.000+0000</td><td>1</td></tr><tr><td>2015-06-17T00:00:00.000+0000</td><td>1</td></tr><tr><td>2013-06-06T00:00:00.000+0000</td><td>1</td></tr><tr><td>2006-08-23T00:00:00.000+0000</td><td>1</td></tr><tr><td>2012-07-05T00:00:00.000+0000</td><td>1</td></tr><tr><td>2012-08-22T00:00:00.000+0000</td><td>1</td></tr><tr><td>2016-01-01T00:00:00.000+0000</td><td>1</td></tr><tr><td>2009-02-06T00:00:00.000+0000</td><td>1</td></tr><tr><td>2013-11-26T00:00:00.000+0000</td><td>1</td></tr><tr><td>2009-08-18T00:00:00.000+0000</td><td>1</td></tr><tr><td>2012-01-17T00:00:00.000+0000</td><td>1</td></tr><tr><td>2011-08-29T00:00:00.000+0000</td><td>1</td></tr><tr><td>2013-09-06T00:00:00.000+0000</td><td>1</td></tr><tr><td>2016-06-05T00:00:00.000+0000</td><td>1</td></tr><tr><td>2009-02-24T00:00:00.000+0000</td><td>1</td></tr><tr><td>2012-03-02T00:00:00.000+0000</td><td>1</td></tr><tr><td>2015-06-16T00:00:00.000+0000</td><td>1</td></tr><tr><td>2011-10-12T00:00:00.000+0000</td><td>1</td></tr><tr><td>2013-07-31T00:00:00.000+0000</td><td>1</td></tr><tr><td>2006-11-29T00:00:00.000+0000</td><td>1</td></tr><tr><td>2016-06-26T00:00:00.000+0000</td><td>1</td></tr><tr><td>2016-10-08T00:00:00.000+0000</td><td>1</td></tr><tr><td>2010-09-07T00:00:00.000+0000</td><td>1</td></tr><tr><td>2012-02-07T00:00:00.000+0000</td><td>1</td></tr><tr><td>2015-12-30T00:00:00.000+0000</td><td>1</td></tr><tr><td>2007-04-03T00:00:00.000+0000</td><td>1</td></tr><tr><td>2008-11-14T00:00:00.000+0000</td><td>1</td></tr><tr><td>2011-01-21T00:00:00.000+0000</td><td>1</td></tr><tr><td>2010-02-19T00:00:00.000+0000</td><td>1</td></tr><tr><td>2011-11-07T00:00:00.000+0000</td><td>1</td></tr><tr><td>2013-04-12T00:00:00.000+0000</td><td>1</td></tr><tr><td>2010-10-20T00:00:00.000+0000</td><td>1</td></tr><tr><td>2011-04-18T00:00:00.000+0000</td><td>1</td></tr><tr><td>2008-10-24T00:00:00.000+0000</td><td>1</td></tr><tr><td>2014-11-17T00:00:00.000+0000</td><td>1</td></tr><tr><td>2011-11-29T00:00:00.000+0000</td><td>1</td></tr><tr><td>2007-06-26T00:00:00.000+0000</td><td>1</td></tr><tr><td>2011-03-16T00:00:00.000+0000</td><td>1</td></tr><tr><td>2012-05-08T00:00:00.000+0000</td><td>1</td></tr><tr><td>2009-10-01T00:00:00.000+0000</td><td>1</td></tr><tr><td>2010-08-20T00:00:00.000+0000</td><td>1</td></tr><tr><td>2015-06-15T00:00:00.000+0000</td><td>1</td></tr><tr><td>2017-02-19T00:00:00.000+0000</td><td>1</td></tr><tr><td>2013-09-16T00:00:00.000+0000</td><td>1</td></tr><tr><td>2010-01-27T00:00:00.000+0000</td><td>1</td></tr><tr><td>2013-05-02T00:00:00.000+0000</td><td>1</td></tr><tr><td>2015-12-06T00:00:00.000+0000</td><td>1</td></tr><tr><td>2009-03-12T00:00:00.000+0000</td><td>1</td></tr><tr><td>1999-11-01T00:00:00.000+0000</td><td>1</td></tr></tbody></table></div>"
      ]
     },
     "metadata": {
      "application/vnd.databricks.v1+output": {
       "addedWidgets": {},
       "aggData": [],
       "aggError": "",
       "aggOverflow": false,
       "aggSchema": [],
       "aggSeriesLimitReached": false,
       "aggType": "",
       "arguments": {},
       "columnCustomDisplayInfos": {},
       "data": [
        [
         null,
         222
        ],
        [
         "2020-01-17T00:00:00.000+0000",
         74
        ],
        [
         "2022-09-30T00:00:00.000+0000",
         64
        ],
        [
         "2020-10-15T00:00:00.000+0000",
         63
        ],
        [
         "2021-09-30T00:00:00.000+0000",
         62
        ],
        [
         "2021-10-14T00:00:00.000+0000",
         59
        ],
        [
         "2022-09-01T00:00:00.000+0000",
         58
        ],
        [
         "2021-02-26T00:00:00.000+0000",
         58
        ],
        [
         "2020-07-31T00:00:00.000+0000",
         57
        ],
        [
         "2021-06-17T00:00:00.000+0000",
         57
        ],
        [
         "2020-10-30T00:00:00.000+0000",
         56
        ],
        [
         "2022-10-14T00:00:00.000+0000",
         56
        ],
        [
         "2021-04-30T00:00:00.000+0000",
         56
        ],
        [
         "2020-02-20T00:00:00.000+0000",
         55
        ],
        [
         "2019-12-12T00:00:00.000+0000",
         55
        ],
        [
         "2021-01-28T00:00:00.000+0000",
         55
        ],
        [
         "2022-07-28T00:00:00.000+0000",
         55
        ],
        [
         "2021-07-29T00:00:00.000+0000",
         55
        ],
        [
         "2020-06-18T00:00:00.000+0000",
         54
        ],
        [
         "2016-04-05T00:00:00.000+0000",
         54
        ],
        [
         "2021-02-18T00:00:00.000+0000",
         54
        ],
        [
         "2021-12-15T00:00:00.000+0000",
         53
        ],
        [
         "2021-10-01T00:00:00.000+0000",
         53
        ],
        [
         "2020-10-22T00:00:00.000+0000",
         52
        ],
        [
         "2022-05-26T00:00:00.000+0000",
         52
        ],
        [
         "2020-12-04T00:00:00.000+0000",
         52
        ],
        [
         "2017-12-01T00:00:00.000+0000",
         52
        ],
        [
         "2020-11-20T00:00:00.000+0000",
         52
        ],
        [
         "2018-07-13T00:00:00.000+0000",
         51
        ],
        [
         "2021-10-29T00:00:00.000+0000",
         51
        ],
        [
         "2019-01-31T00:00:00.000+0000",
         51
        ],
        [
         "2020-07-17T00:00:00.000+0000",
         51
        ],
        [
         "2021-04-15T00:00:00.000+0000",
         51
        ],
        [
         "2018-11-09T00:00:00.000+0000",
         50
        ],
        [
         "2021-06-04T00:00:00.000+0000",
         50
        ],
        [
         "2021-11-11T00:00:00.000+0000",
         50
        ],
        [
         "2022-09-29T00:00:00.000+0000",
         50
        ],
        [
         "2019-07-25T00:00:00.000+0000",
         50
        ],
        [
         "2021-07-30T00:00:00.000+0000",
         50
        ],
        [
         "2020-11-05T00:00:00.000+0000",
         50
        ],
        [
         "2021-03-25T00:00:00.000+0000",
         50
        ],
        [
         "2018-06-15T00:00:00.000+0000",
         50
        ],
        [
         "2022-10-13T00:00:00.000+0000",
         49
        ],
        [
         "2020-12-15T00:00:00.000+0000",
         49
        ],
        [
         "2021-12-02T00:00:00.000+0000",
         49
        ],
        [
         "2021-02-04T00:00:00.000+0000",
         49
        ],
        [
         "2020-11-19T00:00:00.000+0000",
         49
        ],
        [
         "2018-09-14T00:00:00.000+0000",
         49
        ],
        [
         "2021-09-09T00:00:00.000+0000",
         49
        ],
        [
         "2020-08-07T00:00:00.000+0000",
         49
        ],
        [
         "2021-07-20T00:00:00.000+0000",
         48
        ],
        [
         "2022-04-28T00:00:00.000+0000",
         48
        ],
        [
         "2020-09-03T00:00:00.000+0000",
         48
        ],
        [
         "2021-02-25T00:00:00.000+0000",
         48
        ],
        [
         "2022-01-21T00:00:00.000+0000",
         48
        ],
        [
         "2021-03-12T00:00:00.000+0000",
         48
        ],
        [
         "2018-08-17T00:00:00.000+0000",
         48
        ],
        [
         "2018-11-16T00:00:00.000+0000",
         48
        ],
        [
         "2021-12-03T00:00:00.000+0000",
         48
        ],
        [
         "2022-10-28T00:00:00.000+0000",
         48
        ],
        [
         "2018-02-08T00:00:00.000+0000",
         47
        ],
        [
         "2018-05-17T00:00:00.000+0000",
         47
        ],
        [
         "2021-03-31T00:00:00.000+0000",
         47
        ],
        [
         "2020-10-23T00:00:00.000+0000",
         47
        ],
        [
         "2021-10-28T00:00:00.000+0000",
         47
        ],
        [
         "2018-03-08T00:00:00.000+0000",
         47
        ],
        [
         "2021-10-22T00:00:00.000+0000",
         47
        ],
        [
         "2019-12-13T00:00:00.000+0000",
         46
        ],
        [
         "2022-07-15T00:00:00.000+0000",
         46
        ],
        [
         "2021-04-23T00:00:00.000+0000",
         46
        ],
        [
         "2022-10-27T00:00:00.000+0000",
         46
        ],
        [
         "2022-05-20T00:00:00.000+0000",
         46
        ],
        [
         "2022-06-17T00:00:00.000+0000",
         46
        ],
        [
         "2021-03-26T00:00:00.000+0000",
         46
        ],
        [
         "2020-08-20T00:00:00.000+0000",
         46
        ],
        [
         "2021-02-19T00:00:00.000+0000",
         46
        ],
        [
         "2021-10-21T00:00:00.000+0000",
         46
        ],
        [
         "2018-04-13T00:00:00.000+0000",
         46
        ],
        [
         "2017-09-15T00:00:00.000+0000",
         46
        ],
        [
         "2020-11-06T00:00:00.000+0000",
         46
        ],
        [
         "2019-02-22T00:00:00.000+0000",
         46
        ],
        [
         "2019-08-30T00:00:00.000+0000",
         46
        ],
        [
         "2019-02-28T00:00:00.000+0000",
         46
        ],
        [
         "2018-11-30T00:00:00.000+0000",
         45
        ],
        [
         "2022-03-01T00:00:00.000+0000",
         45
        ],
        [
         "2018-11-15T00:00:00.000+0000",
         45
        ],
        [
         "2021-01-21T00:00:00.000+0000",
         45
        ],
        [
         "2022-08-04T00:00:00.000+0000",
         45
        ],
        [
         "2020-08-27T00:00:00.000+0000",
         45
        ],
        [
         "2022-10-20T00:00:00.000+0000",
         45
        ],
        [
         "2021-11-05T00:00:00.000+0000",
         45
        ],
        [
         "2021-10-07T00:00:00.000+0000",
         44
        ],
        [
         "2021-12-16T00:00:00.000+0000",
         44
        ],
        [
         "2018-04-06T00:00:00.000+0000",
         44
        ],
        [
         "2022-05-13T00:00:00.000+0000",
         44
        ],
        [
         "2022-05-19T00:00:00.000+0000",
         44
        ],
        [
         "2021-04-08T00:00:00.000+0000",
         44
        ],
        [
         "2022-11-04T00:00:00.000+0000",
         44
        ],
        [
         "2019-04-18T00:00:00.000+0000",
         44
        ],
        [
         "2022-04-21T00:00:00.000+0000",
         44
        ],
        [
         "2020-11-12T00:00:00.000+0000",
         44
        ],
        [
         "2020-06-04T00:00:00.000+0000",
         44
        ],
        [
         "2021-08-26T00:00:00.000+0000",
         44
        ],
        [
         "2021-09-15T00:00:00.000+0000",
         44
        ],
        [
         "2022-01-07T00:00:00.000+0000",
         44
        ],
        [
         "2018-04-03T00:00:00.000+0000",
         44
        ],
        [
         "2020-08-14T00:00:00.000+0000",
         44
        ],
        [
         "2022-11-03T00:00:00.000+0000",
         44
        ],
        [
         "2018-02-13T00:00:00.000+0000",
         43
        ],
        [
         "2022-03-31T00:00:00.000+0000",
         43
        ],
        [
         "2018-04-27T00:00:00.000+0000",
         43
        ],
        [
         "2022-09-15T00:00:00.000+0000",
         43
        ],
        [
         "2020-08-06T00:00:00.000+0000",
         43
        ],
        [
         "2022-09-09T00:00:00.000+0000",
         43
        ],
        [
         "2018-09-28T00:00:00.000+0000",
         43
        ],
        [
         "2022-03-04T00:00:00.000+0000",
         43
        ],
        [
         "2021-11-18T00:00:00.000+0000",
         43
        ],
        [
         "2021-07-22T00:00:00.000+0000",
         43
        ],
        [
         "2018-12-14T00:00:00.000+0000",
         43
        ],
        [
         "2017-10-31T00:00:00.000+0000",
         43
        ],
        [
         "2022-07-08T00:00:00.000+0000",
         43
        ],
        [
         "2020-05-28T00:00:00.000+0000",
         43
        ],
        [
         "2018-12-20T00:00:00.000+0000",
         43
        ],
        [
         "2022-07-29T00:00:00.000+0000",
         43
        ],
        [
         "2018-05-31T00:00:00.000+0000",
         43
        ],
        [
         "2020-08-28T00:00:00.000+0000",
         43
        ],
        [
         "2020-09-24T00:00:00.000+0000",
         43
        ],
        [
         "2021-03-18T00:00:00.000+0000",
         42
        ],
        [
         "2022-02-11T00:00:00.000+0000",
         42
        ],
        [
         "2020-10-29T00:00:00.000+0000",
         42
        ],
        [
         "2020-10-16T00:00:00.000+0000",
         42
        ],
        [
         "2020-10-20T00:00:00.000+0000",
         42
        ],
        [
         "2021-11-12T00:00:00.000+0000",
         42
        ],
        [
         "2018-03-30T00:00:00.000+0000",
         42
        ],
        [
         "2020-10-14T00:00:00.000+0000",
         42
        ],
        [
         "2021-10-08T00:00:00.000+0000",
         42
        ],
        [
         "2022-04-29T00:00:00.000+0000",
         42
        ],
        [
         "2022-01-20T00:00:00.000+0000",
         42
        ],
        [
         "2020-09-25T00:00:00.000+0000",
         42
        ],
        [
         "2021-09-17T00:00:00.000+0000",
         42
        ],
        [
         "2021-03-30T00:00:00.000+0000",
         42
        ],
        [
         "2021-12-01T00:00:00.000+0000",
         42
        ],
        [
         "2021-03-05T00:00:00.000+0000",
         42
        ],
        [
         "2021-04-29T00:00:00.000+0000",
         42
        ],
        [
         "2022-05-31T00:00:00.000+0000",
         42
        ],
        [
         "2017-12-15T00:00:00.000+0000",
         42
        ],
        [
         "2017-09-29T00:00:00.000+0000",
         42
        ],
        [
         "2022-05-12T00:00:00.000+0000",
         42
        ],
        [
         "2019-05-23T00:00:00.000+0000",
         41
        ],
        [
         "2019-11-14T00:00:00.000+0000",
         41
        ],
        [
         "2019-02-01T00:00:00.000+0000",
         41
        ],
        [
         "2018-04-20T00:00:00.000+0000",
         41
        ],
        [
         "2018-03-02T00:00:00.000+0000",
         41
        ],
        [
         "2016-12-15T00:00:00.000+0000",
         41
        ],
        [
         "2022-08-25T00:00:00.000+0000",
         41
        ],
        [
         "2021-02-05T00:00:00.000+0000",
         41
        ],
        [
         "2020-07-16T00:00:00.000+0000",
         41
        ],
        [
         "2021-06-24T00:00:00.000+0000",
         41
        ],
        [
         "2017-12-18T00:00:00.000+0000",
         40
        ],
        [
         "2020-08-21T00:00:00.000+0000",
         40
        ],
        [
         "2021-06-01T00:00:00.000+0000",
         40
        ],
        [
         "2016-12-16T00:00:00.000+0000",
         40
        ],
        [
         "2020-09-30T00:00:00.000+0000",
         40
        ],
        [
         "2021-10-15T00:00:00.000+0000",
         40
        ],
        [
         "2020-07-23T00:00:00.000+0000",
         40
        ],
        [
         "2017-09-14T00:00:00.000+0000",
         40
        ],
        [
         "2018-04-24T00:00:00.000+0000",
         40
        ],
        [
         "2019-03-29T00:00:00.000+0000",
         40
        ],
        [
         "2018-03-09T00:00:00.000+0000",
         40
        ],
        [
         "2020-07-30T00:00:00.000+0000",
         40
        ],
        [
         "2020-08-31T00:00:00.000+0000",
         40
        ],
        [
         "2021-09-24T00:00:00.000+0000",
         40
        ],
        [
         "2019-08-01T00:00:00.000+0000",
         40
        ],
        [
         "2020-12-21T00:00:00.000+0000",
         40
        ],
        [
         "2020-10-01T00:00:00.000+0000",
         40
        ],
        [
         "2020-05-15T00:00:00.000+0000",
         40
        ],
        [
         "2021-11-19T00:00:00.000+0000",
         40
        ],
        [
         "2022-01-13T00:00:00.000+0000",
         40
        ],
        [
         "2021-05-27T00:00:00.000+0000",
         40
        ],
        [
         "2020-04-17T00:00:00.000+0000",
         40
        ],
        [
         "2022-06-16T00:00:00.000+0000",
         40
        ],
        [
         "2022-03-18T00:00:00.000+0000",
         40
        ],
        [
         "2021-07-15T00:00:00.000+0000",
         40
        ],
        [
         "2022-08-18T00:00:00.000+0000",
         39
        ],
        [
         "2021-01-29T00:00:00.000+0000",
         39
        ],
        [
         "2022-02-10T00:00:00.000+0000",
         39
        ],
        [
         "2017-08-15T00:00:00.000+0000",
         39
        ],
        [
         "2019-09-26T00:00:00.000+0000",
         39
        ],
        [
         "2022-05-05T00:00:00.000+0000",
         39
        ],
        [
         "2019-03-28T00:00:00.000+0000",
         39
        ],
        [
         "2021-12-10T00:00:00.000+0000",
         39
        ],
        [
         "2021-10-13T00:00:00.000+0000",
         39
        ],
        [
         "2021-11-04T00:00:00.000+0000",
         39
        ],
        [
         "2020-02-14T00:00:00.000+0000",
         39
        ],
        [
         "2022-07-07T00:00:00.000+0000",
         39
        ],
        [
         "2019-11-01T00:00:00.000+0000",
         39
        ],
        [
         "2019-05-31T00:00:00.000+0000",
         39
        ],
        [
         "2022-02-24T00:00:00.000+0000",
         39
        ],
        [
         "2018-05-03T00:00:00.000+0000",
         39
        ],
        [
         "2021-01-22T00:00:00.000+0000",
         39
        ],
        [
         "2020-05-22T00:00:00.000+0000",
         39
        ],
        [
         "2017-11-01T00:00:00.000+0000",
         39
        ],
        [
         "2019-09-27T00:00:00.000+0000",
         39
        ],
        [
         "2021-08-27T00:00:00.000+0000",
         38
        ],
        [
         "2018-02-27T00:00:00.000+0000",
         38
        ],
        [
         "2022-10-25T00:00:00.000+0000",
         38
        ],
        [
         "2021-08-25T00:00:00.000+0000",
         38
        ],
        [
         "2021-09-16T00:00:00.000+0000",
         38
        ],
        [
         "2019-10-24T00:00:00.000+0000",
         38
        ],
        [
         "2022-06-01T00:00:00.000+0000",
         38
        ],
        [
         "2020-04-30T00:00:00.000+0000",
         38
        ],
        [
         "2017-11-02T00:00:00.000+0000",
         38
        ],
        [
         "2020-12-11T00:00:00.000+0000",
         38
        ],
        [
         "2020-04-29T00:00:00.000+0000",
         38
        ],
        [
         "2016-09-29T00:00:00.000+0000",
         38
        ],
        [
         "2018-08-30T00:00:00.000+0000",
         38
        ],
        [
         "2016-10-14T00:00:00.000+0000",
         38
        ],
        [
         "2021-06-18T00:00:00.000+0000",
         38
        ],
        [
         "2022-01-14T00:00:00.000+0000",
         38
        ],
        [
         "2018-03-29T00:00:00.000+0000",
         38
        ],
        [
         "2018-10-31T00:00:00.000+0000",
         38
        ],
        [
         "2018-07-26T00:00:00.000+0000",
         38
        ],
        [
         "2021-12-17T00:00:00.000+0000",
         38
        ],
        [
         "2022-06-20T00:00:00.000+0000",
         38
        ],
        [
         "2021-04-16T00:00:00.000+0000",
         38
        ],
        [
         "2018-05-04T00:00:00.000+0000",
         38
        ],
        [
         "2021-03-04T00:00:00.000+0000",
         38
        ],
        [
         "2021-06-10T00:00:00.000+0000",
         38
        ],
        [
         "2017-09-12T00:00:00.000+0000",
         38
        ],
        [
         "2022-10-31T00:00:00.000+0000",
         38
        ],
        [
         "2022-07-21T00:00:00.000+0000",
         38
        ],
        [
         "2019-05-17T00:00:00.000+0000",
         38
        ],
        [
         "2021-05-28T00:00:00.000+0000",
         38
        ],
        [
         "2022-05-18T00:00:00.000+0000",
         37
        ],
        [
         "2018-09-20T00:00:00.000+0000",
         37
        ],
        [
         "2022-02-25T00:00:00.000+0000",
         37
        ],
        [
         "2019-04-25T00:00:00.000+0000",
         37
        ],
        [
         "2021-11-16T00:00:00.000+0000",
         37
        ],
        [
         "2019-04-30T00:00:00.000+0000",
         37
        ],
        [
         "2022-08-19T00:00:00.000+0000",
         37
        ],
        [
         "2018-03-15T00:00:00.000+0000",
         37
        ],
        [
         "2022-03-17T00:00:00.000+0000",
         37
        ],
        [
         "2020-12-03T00:00:00.000+0000",
         37
        ],
        [
         "2019-03-01T00:00:00.000+0000",
         37
        ],
        [
         "2020-09-10T00:00:00.000+0000",
         37
        ],
        [
         "2019-05-24T00:00:00.000+0000",
         37
        ],
        [
         "2020-09-01T00:00:00.000+0000",
         37
        ],
        [
         "2017-09-19T00:00:00.000+0000",
         37
        ],
        [
         "2022-10-24T00:00:00.000+0000",
         37
        ],
        [
         "2021-10-19T00:00:00.000+0000",
         37
        ],
        [
         "2021-05-14T00:00:00.000+0000",
         37
        ],
        [
         "2022-05-25T00:00:00.000+0000",
         37
        ],
        [
         "2022-09-23T00:00:00.000+0000",
         37
        ],
        [
         "2018-03-07T00:00:00.000+0000",
         37
        ],
        [
         "2022-04-22T00:00:00.000+0000",
         37
        ],
        [
         "2020-07-10T00:00:00.000+0000",
         37
        ],
        [
         "2022-10-26T00:00:00.000+0000",
         37
        ],
        [
         "2022-03-11T00:00:00.000+0000",
         37
        ],
        [
         "2019-05-16T00:00:00.000+0000",
         37
        ],
        [
         "2018-08-23T00:00:00.000+0000",
         37
        ],
        [
         "2020-05-27T00:00:00.000+0000",
         37
        ],
        [
         "2022-01-27T00:00:00.000+0000",
         37
        ],
        [
         "2021-10-26T00:00:00.000+0000",
         37
        ],
        [
         "2021-05-06T00:00:00.000+0000",
         37
        ],
        [
         "2022-09-27T00:00:00.000+0000",
         37
        ],
        [
         "2019-04-05T00:00:00.000+0000",
         37
        ],
        [
         "2022-03-24T00:00:00.000+0000",
         37
        ],
        [
         "2021-08-31T00:00:00.000+0000",
         37
        ],
        [
         "2017-10-13T00:00:00.000+0000",
         37
        ],
        [
         "2022-03-10T00:00:00.000+0000",
         37
        ],
        [
         "2022-08-30T00:00:00.000+0000",
         37
        ],
        [
         "2018-09-13T00:00:00.000+0000",
         37
        ],
        [
         "2018-06-01T00:00:00.000+0000",
         36
        ],
        [
         "2021-08-05T00:00:00.000+0000",
         36
        ],
        [
         "2017-04-18T00:00:00.000+0000",
         36
        ],
        [
         "2018-03-12T00:00:00.000+0000",
         36
        ],
        [
         "2020-02-27T00:00:00.000+0000",
         36
        ],
        [
         "2020-11-13T00:00:00.000+0000",
         36
        ],
        [
         "2017-08-25T00:00:00.000+0000",
         36
        ],
        [
         "2021-08-20T00:00:00.000+0000",
         36
        ],
        [
         "2021-04-01T00:00:00.000+0000",
         36
        ],
        [
         "2017-07-14T00:00:00.000+0000",
         36
        ],
        [
         "2022-10-21T00:00:00.000+0000",
         36
        ],
        [
         "2019-03-15T00:00:00.000+0000",
         36
        ],
        [
         "2017-12-08T00:00:00.000+0000",
         36
        ],
        [
         "2020-12-01T00:00:00.000+0000",
         36
        ],
        [
         "2018-08-31T00:00:00.000+0000",
         36
        ],
        [
         "2022-11-01T00:00:00.000+0000",
         36
        ],
        [
         "2019-04-26T00:00:00.000+0000",
         36
        ],
        [
         "2017-09-01T00:00:00.000+0000",
         36
        ],
        [
         "2020-02-13T00:00:00.000+0000",
         36
        ],
        [
         "2020-12-07T00:00:00.000+0000",
         36
        ],
        [
         "2018-02-14T00:00:00.000+0000",
         36
        ],
        [
         "2022-08-26T00:00:00.000+0000",
         36
        ],
        [
         "2017-08-31T00:00:00.000+0000",
         36
        ],
        [
         "2020-03-26T00:00:00.000+0000",
         36
        ],
        [
         "2017-10-20T00:00:00.000+0000",
         36
        ],
        [
         "2018-02-22T00:00:00.000+0000",
         36
        ],
        [
         "2019-10-31T00:00:00.000+0000",
         36
        ],
        [
         "2021-12-09T00:00:00.000+0000",
         36
        ],
        [
         "2018-11-29T00:00:00.000+0000",
         36
        ],
        [
         "2020-12-10T00:00:00.000+0000",
         36
        ],
        [
         "2018-05-15T00:00:00.000+0000",
         35
        ],
        [
         "2020-09-17T00:00:00.000+0000",
         35
        ],
        [
         "2017-10-05T00:00:00.000+0000",
         35
        ],
        [
         "2022-06-03T00:00:00.000+0000",
         35
        ],
        [
         "2018-07-12T00:00:00.000+0000",
         35
        ],
        [
         "2016-07-26T00:00:00.000+0000",
         35
        ],
        [
         "2020-12-22T00:00:00.000+0000",
         35
        ],
        [
         "2019-08-08T00:00:00.000+0000",
         35
        ],
        [
         "2022-06-21T00:00:00.000+0000",
         35
        ],
        [
         "2021-05-21T00:00:00.000+0000",
         35
        ],
        [
         "2019-09-05T00:00:00.000+0000",
         35
        ],
        [
         "2018-11-02T00:00:00.000+0000",
         35
        ],
        [
         "2021-10-20T00:00:00.000+0000",
         35
        ],
        [
         "2022-08-31T00:00:00.000+0000",
         35
        ],
        [
         "2017-12-07T00:00:00.000+0000",
         35
        ],
        [
         "2019-07-30T00:00:00.000+0000",
         35
        ],
        [
         "2022-02-04T00:00:00.000+0000",
         35
        ],
        [
         "2020-10-13T00:00:00.000+0000",
         35
        ],
        [
         "2022-05-06T00:00:00.000+0000",
         35
        ],
        [
         "2020-11-02T00:00:00.000+0000",
         35
        ],
        [
         "2019-04-11T00:00:00.000+0000",
         35
        ],
        [
         "2019-02-27T00:00:00.000+0000",
         35
        ],
        [
         "2022-04-20T00:00:00.000+0000",
         35
        ],
        [
         "2021-02-12T00:00:00.000+0000",
         35
        ],
        [
         "2018-09-27T00:00:00.000+0000",
         35
        ],
        [
         "2021-10-06T00:00:00.000+0000",
         35
        ],
        [
         "2017-07-20T00:00:00.000+0000",
         35
        ],
        [
         "2021-09-28T00:00:00.000+0000",
         35
        ],
        [
         "2017-03-17T00:00:00.000+0000",
         35
        ],
        [
         "2022-08-01T00:00:00.000+0000",
         35
        ],
        [
         "2018-04-19T00:00:00.000+0000",
         35
        ],
        [
         "2018-09-06T00:00:00.000+0000",
         35
        ],
        [
         "2019-08-15T00:00:00.000+0000",
         35
        ],
        [
         "2022-06-15T00:00:00.000+0000",
         35
        ],
        [
         "2018-02-28T00:00:00.000+0000",
         35
        ],
        [
         "2018-08-03T00:00:00.000+0000",
         35
        ],
        [
         "2022-03-03T00:00:00.000+0000",
         35
        ],
        [
         "2021-02-17T00:00:00.000+0000",
         35
        ],
        [
         "2022-03-29T00:00:00.000+0000",
         35
        ],
        [
         "2018-01-31T00:00:00.000+0000",
         34
        ],
        [
         "2020-06-19T00:00:00.000+0000",
         34
        ],
        [
         "2018-12-19T00:00:00.000+0000",
         34
        ],
        [
         "2021-09-02T00:00:00.000+0000",
         34
        ],
        [
         "2020-07-24T00:00:00.000+0000",
         34
        ],
        [
         "2020-11-04T00:00:00.000+0000",
         34
        ],
        [
         "2018-06-28T00:00:00.000+0000",
         34
        ],
        [
         "2021-03-01T00:00:00.000+0000",
         34
        ],
        [
         "2017-03-31T00:00:00.000+0000",
         34
        ],
        [
         "2018-11-08T00:00:00.000+0000",
         34
        ],
        [
         "2020-09-18T00:00:00.000+0000",
         34
        ],
        [
         "2020-05-01T00:00:00.000+0000",
         34
        ],
        [
         "2020-03-13T00:00:00.000+0000",
         34
        ],
        [
         "2021-07-23T00:00:00.000+0000",
         34
        ],
        [
         "2021-09-10T00:00:00.000+0000",
         34
        ],
        [
         "2019-04-04T00:00:00.000+0000",
         34
        ],
        [
         "2022-09-22T00:00:00.000+0000",
         34
        ],
        [
         "2018-07-20T00:00:00.000+0000",
         34
        ],
        [
         "2019-05-30T00:00:00.000+0000",
         34
        ],
        [
         "2022-07-14T00:00:00.000+0000",
         34
        ],
        [
         "2019-04-19T00:00:00.000+0000",
         34
        ],
        [
         "2022-10-06T00:00:00.000+0000",
         34
        ],
        [
         "2020-07-28T00:00:00.000+0000",
         34
        ],
        [
         "2022-08-03T00:00:00.000+0000",
         34
        ],
        [
         "2020-09-22T00:00:00.000+0000",
         34
        ],
        [
         "2022-03-15T00:00:00.000+0000",
         34
        ],
        [
         "2016-08-25T00:00:00.000+0000",
         34
        ],
        [
         "2021-08-13T00:00:00.000+0000",
         34
        ],
        [
         "2022-06-30T00:00:00.000+0000",
         34
        ],
        [
         "2017-11-10T00:00:00.000+0000",
         34
        ],
        [
         "2022-10-17T00:00:00.000+0000",
         34
        ],
        [
         "2018-03-26T00:00:00.000+0000",
         34
        ],
        [
         "2017-11-20T00:00:00.000+0000",
         34
        ],
        [
         "2017-12-14T00:00:00.000+0000",
         34
        ],
        [
         "2022-02-22T00:00:00.000+0000",
         34
        ],
        [
         "2019-07-26T00:00:00.000+0000",
         34
        ],
        [
         "2021-06-11T00:00:00.000+0000",
         34
        ],
        [
         "2021-03-19T00:00:00.000+0000",
         34
        ],
        [
         "2017-10-06T00:00:00.000+0000",
         34
        ],
        [
         "2018-10-05T00:00:00.000+0000",
         34
        ],
        [
         "2022-07-11T00:00:00.000+0000",
         34
        ],
        [
         "2018-12-21T00:00:00.000+0000",
         34
        ],
        [
         "2021-11-17T00:00:00.000+0000",
         34
        ],
        [
         "2017-07-27T00:00:00.000+0000",
         34
        ],
        [
         "2019-08-29T00:00:00.000+0000",
         34
        ],
        [
         "2019-10-10T00:00:00.000+0000",
         33
        ],
        [
         "2019-09-11T00:00:00.000+0000",
         33
        ],
        [
         "2020-06-11T00:00:00.000+0000",
         33
        ],
        [
         "2021-05-07T00:00:00.000+0000",
         33
        ],
        [
         "2022-03-25T00:00:00.000+0000",
         33
        ],
        [
         "2021-09-23T00:00:00.000+0000",
         33
        ],
        [
         "2020-01-30T00:00:00.000+0000",
         33
        ],
        [
         "2022-03-02T00:00:00.000+0000",
         33
        ],
        [
         "2019-11-07T00:00:00.000+0000",
         33
        ],
        [
         "2016-10-27T00:00:00.000+0000",
         33
        ],
        [
         "2021-12-20T00:00:00.000+0000",
         33
        ],
        [
         "2022-08-05T00:00:00.000+0000",
         33
        ],
        [
         "2017-12-21T00:00:00.000+0000",
         33
        ],
        [
         "2019-06-20T00:00:00.000+0000",
         33
        ],
        [
         "2021-12-14T00:00:00.000+0000",
         33
        ],
        [
         "2020-06-25T00:00:00.000+0000",
         33
        ],
        [
         "2017-10-16T00:00:00.000+0000",
         33
        ],
        [
         "2020-02-28T00:00:00.000+0000",
         33
        ],
        [
         "2018-02-20T00:00:00.000+0000",
         33
        ],
        [
         "2021-12-07T00:00:00.000+0000",
         33
        ],
        [
         "2017-09-22T00:00:00.000+0000",
         33
        ],
        [
         "2018-10-11T00:00:00.000+0000",
         33
        ],
        [
         "2020-05-08T00:00:00.000+0000",
         33
        ],
        [
         "2022-02-18T00:00:00.000+0000",
         33
        ],
        [
         "2017-10-24T00:00:00.000+0000",
         33
        ],
        [
         "2017-10-25T00:00:00.000+0000",
         33
        ],
        [
         "2018-05-09T00:00:00.000+0000",
         33
        ],
        [
         "2020-09-29T00:00:00.000+0000",
         33
        ],
        [
         "2018-02-01T00:00:00.000+0000",
         33
        ],
        [
         "2020-10-28T00:00:00.000+0000",
         33
        ],
        [
         "2017-08-04T00:00:00.000+0000",
         33
        ],
        [
         "2022-10-11T00:00:00.000+0000",
         33
        ],
        [
         "2019-01-25T00:00:00.000+0000",
         33
        ],
        [
         "2019-12-11T00:00:00.000+0000",
         33
        ],
        [
         "2019-10-17T00:00:00.000+0000",
         33
        ],
        [
         "2021-05-31T00:00:00.000+0000",
         33
        ],
        [
         "2020-04-16T00:00:00.000+0000",
         33
        ],
        [
         "2021-03-15T00:00:00.000+0000",
         33
        ],
        [
         "2017-11-22T00:00:00.000+0000",
         33
        ],
        [
         "2020-09-04T00:00:00.000+0000",
         33
        ],
        [
         "2021-08-06T00:00:00.000+0000",
         33
        ],
        [
         "2018-12-07T00:00:00.000+0000",
         33
        ],
        [
         "2017-09-21T00:00:00.000+0000",
         33
        ],
        [
         "2019-01-18T00:00:00.000+0000",
         33
        ],
        [
         "2018-06-05T00:00:00.000+0000",
         33
        ],
        [
         "2021-11-30T00:00:00.000+0000",
         33
        ],
        [
         "2017-11-17T00:00:00.000+0000",
         33
        ],
        [
         "2019-07-18T00:00:00.000+0000",
         33
        ],
        [
         "2018-07-27T00:00:00.000+0000",
         32
        ],
        [
         "2021-03-03T00:00:00.000+0000",
         32
        ],
        [
         "2017-10-19T00:00:00.000+0000",
         32
        ],
        [
         "2022-09-14T00:00:00.000+0000",
         32
        ],
        [
         "2019-12-05T00:00:00.000+0000",
         32
        ],
        [
         "2020-04-24T00:00:00.000+0000",
         32
        ],
        [
         "2020-12-18T00:00:00.000+0000",
         32
        ],
        [
         "2021-04-09T00:00:00.000+0000",
         32
        ],
        [
         "2017-11-29T00:00:00.000+0000",
         32
        ],
        [
         "2021-11-01T00:00:00.000+0000",
         32
        ],
        [
         "2017-07-21T00:00:00.000+0000",
         32
        ],
        [
         "2018-11-01T00:00:00.000+0000",
         32
        ],
        [
         "2017-08-08T00:00:00.000+0000",
         32
        ],
        [
         "2020-05-29T00:00:00.000+0000",
         32
        ],
        [
         "2020-05-21T00:00:00.000+0000",
         32
        ],
        [
         "2019-07-19T00:00:00.000+0000",
         32
        ],
        [
         "2020-03-19T00:00:00.000+0000",
         32
        ],
        [
         "2019-09-30T00:00:00.000+0000",
         32
        ],
        [
         "2020-11-25T00:00:00.000+0000",
         32
        ],
        [
         "2020-10-08T00:00:00.000+0000",
         32
        ],
        [
         "2021-10-12T00:00:00.000+0000",
         32
        ],
        [
         "2018-04-26T00:00:00.000+0000",
         32
        ],
        [
         "2019-09-19T00:00:00.000+0000",
         32
        ],
        [
         "2020-07-03T00:00:00.000+0000",
         32
        ],
        [
         "2021-07-09T00:00:00.000+0000",
         32
        ],
        [
         "2017-08-17T00:00:00.000+0000",
         32
        ],
        [
         "2021-02-24T00:00:00.000+0000",
         32
        ],
        [
         "2020-02-25T00:00:00.000+0000",
         32
        ],
        [
         "2018-05-29T00:00:00.000+0000",
         32
        ],
        [
         "2021-03-23T00:00:00.000+0000",
         32
        ],
        [
         "2018-03-20T00:00:00.000+0000",
         32
        ],
        [
         "2019-09-06T00:00:00.000+0000",
         32
        ],
        [
         "2020-03-20T00:00:00.000+0000",
         32
        ],
        [
         "2019-10-18T00:00:00.000+0000",
         32
        ],
        [
         "2020-06-12T00:00:00.000+0000",
         32
        ],
        [
         "2021-05-05T00:00:00.000+0000",
         32
        ],
        [
         "2017-12-20T00:00:00.000+0000",
         32
        ],
        [
         "2021-07-26T00:00:00.000+0000",
         32
        ],
        [
         "2019-01-22T00:00:00.000+0000",
         32
        ],
        [
         "2020-04-10T00:00:00.000+0000",
         32
        ],
        [
         "2020-03-31T00:00:00.000+0000",
         31
        ],
        [
         "2020-10-09T00:00:00.000+0000",
         31
        ],
        [
         "2019-02-14T00:00:00.000+0000",
         31
        ],
        [
         "2022-05-27T00:00:00.000+0000",
         31
        ],
        [
         "2021-05-17T00:00:00.000+0000",
         31
        ],
        [
         "2021-01-05T00:00:00.000+0000",
         31
        ],
        [
         "2018-05-18T00:00:00.000+0000",
         31
        ],
        [
         "2017-07-13T00:00:00.000+0000",
         31
        ],
        [
         "2018-06-19T00:00:00.000+0000",
         31
        ],
        [
         "2022-08-11T00:00:00.000+0000",
         31
        ],
        [
         "2018-01-18T00:00:00.000+0000",
         31
        ],
        [
         "2017-02-24T00:00:00.000+0000",
         31
        ],
        [
         "2019-08-22T00:00:00.000+0000",
         31
        ],
        [
         "2021-05-20T00:00:00.000+0000",
         31
        ],
        [
         "2020-11-30T00:00:00.000+0000",
         31
        ],
        [
         "2019-05-10T00:00:00.000+0000",
         31
        ],
        [
         "2018-08-01T00:00:00.000+0000",
         31
        ],
        [
         "2021-06-22T00:00:00.000+0000",
         31
        ],
        [
         "2020-04-21T00:00:00.000+0000",
         31
        ],
        [
         "2022-02-09T00:00:00.000+0000",
         31
        ],
        [
         "2019-03-22T00:00:00.000+0000",
         31
        ],
        [
         "2020-06-16T00:00:00.000+0000",
         31
        ],
        [
         "2020-06-23T00:00:00.000+0000",
         31
        ],
        [
         "2021-06-29T00:00:00.000+0000",
         31
        ],
        [
         "2022-04-01T00:00:00.000+0000",
         31
        ],
        [
         "2017-06-15T00:00:00.000+0000",
         31
        ],
        [
         "2018-04-18T00:00:00.000+0000",
         31
        ],
        [
         "2018-10-18T00:00:00.000+0000",
         31
        ],
        [
         "2021-09-01T00:00:00.000+0000",
         31
        ],
        [
         "2022-09-28T00:00:00.000+0000",
         31
        ],
        [
         "2020-05-14T00:00:00.000+0000",
         31
        ],
        [
         "2021-01-15T00:00:00.000+0000",
         31
        ],
        [
         "2018-10-25T00:00:00.000+0000",
         31
        ],
        [
         "2019-03-14T00:00:00.000+0000",
         31
        ],
        [
         "2022-02-21T00:00:00.000+0000",
         31
        ],
        [
         "2016-08-29T00:00:00.000+0000",
         31
        ],
        [
         "2020-09-16T00:00:00.000+0000",
         31
        ],
        [
         "2019-07-12T00:00:00.000+0000",
         31
        ],
        [
         "2022-08-17T00:00:00.000+0000",
         31
        ],
        [
         "2022-01-06T00:00:00.000+0000",
         31
        ],
        [
         "2018-12-04T00:00:00.000+0000",
         31
        ],
        [
         "2022-03-08T00:00:00.000+0000",
         31
        ],
        [
         "2017-10-12T00:00:00.000+0000",
         31
        ],
        [
         "2020-11-11T00:00:00.000+0000",
         31
        ],
        [
         "2019-01-17T00:00:00.000+0000",
         31
        ],
        [
         "2019-05-28T00:00:00.000+0000",
         31
        ],
        [
         "2018-09-21T00:00:00.000+0000",
         31
        ],
        [
         "2020-07-14T00:00:00.000+0000",
         31
        ],
        [
         "2022-06-23T00:00:00.000+0000",
         31
        ],
        [
         "2017-12-06T00:00:00.000+0000",
         31
        ],
        [
         "2019-09-13T00:00:00.000+0000",
         31
        ],
        [
         "2018-07-19T00:00:00.000+0000",
         31
        ],
        [
         "2019-09-20T00:00:00.000+0000",
         31
        ],
        [
         "2021-12-21T00:00:00.000+0000",
         31
        ],
        [
         "2020-11-26T00:00:00.000+0000",
         31
        ],
        [
         "2022-04-07T00:00:00.000+0000",
         30
        ],
        [
         "2018-08-16T00:00:00.000+0000",
         30
        ],
        [
         "2017-06-08T00:00:00.000+0000",
         30
        ],
        [
         "2022-06-09T00:00:00.000+0000",
         30
        ],
        [
         "2017-11-07T00:00:00.000+0000",
         30
        ],
        [
         "2021-09-29T00:00:00.000+0000",
         30
        ],
        [
         "2021-07-16T00:00:00.000+0000",
         30
        ],
        [
         "2021-05-13T00:00:00.000+0000",
         30
        ],
        [
         "2017-10-26T00:00:00.000+0000",
         30
        ],
        [
         "2021-05-19T00:00:00.000+0000",
         30
        ],
        [
         "2022-06-10T00:00:00.000+0000",
         30
        ],
        [
         "2018-11-06T00:00:00.000+0000",
         30
        ],
        [
         "2019-08-16T00:00:00.000+0000",
         30
        ],
        [
         "2018-03-01T00:00:00.000+0000",
         30
        ],
        [
         "2022-09-16T00:00:00.000+0000",
         30
        ],
        [
         "2018-02-23T00:00:00.000+0000",
         30
        ],
        [
         "2018-05-10T00:00:00.000+0000",
         30
        ],
        [
         "2022-10-07T00:00:00.000+0000",
         30
        ],
        [
         "2021-11-09T00:00:00.000+0000",
         30
        ],
        [
         "2020-09-21T00:00:00.000+0000",
         30
        ],
        [
         "2022-03-23T00:00:00.000+0000",
         30
        ],
        [
         "2020-08-25T00:00:00.000+0000",
         30
        ],
        [
         "2018-09-18T00:00:00.000+0000",
         30
        ],
        [
         "2017-09-28T00:00:00.000+0000",
         30
        ],
        [
         "2020-10-21T00:00:00.000+0000",
         30
        ],
        [
         "2019-05-21T00:00:00.000+0000",
         30
        ],
        [
         "2018-10-17T00:00:00.000+0000",
         30
        ],
        [
         "2018-07-31T00:00:00.000+0000",
         30
        ],
        [
         "2021-02-16T00:00:00.000+0000",
         30
        ],
        [
         "2017-10-18T00:00:00.000+0000",
         30
        ],
        [
         "2017-09-07T00:00:00.000+0000",
         30
        ],
        [
         "2017-12-19T00:00:00.000+0000",
         30
        ],
        [
         "2020-03-06T00:00:00.000+0000",
         30
        ],
        [
         "2018-08-10T00:00:00.000+0000",
         30
        ],
        [
         "2019-08-23T00:00:00.000+0000",
         30
        ],
        [
         "2017-09-26T00:00:00.000+0000",
         30
        ],
        [
         "2020-05-07T00:00:00.000+0000",
         30
        ],
        [
         "2022-02-17T00:00:00.000+0000",
         30
        ],
        [
         "2020-04-23T00:00:00.000+0000",
         30
        ],
        [
         "2020-01-23T00:00:00.000+0000",
         30
        ],
        [
         "2021-11-08T00:00:00.000+0000",
         30
        ],
        [
         "2018-06-21T00:00:00.000+0000",
         30
        ],
        [
         "2017-10-17T00:00:00.000+0000",
         30
        ],
        [
         "2018-10-15T00:00:00.000+0000",
         30
        ],
        [
         "2022-10-12T00:00:00.000+0000",
         30
        ],
        [
         "2021-02-11T00:00:00.000+0000",
         30
        ],
        [
         "2017-11-30T00:00:00.000+0000",
         30
        ],
        [
         "2021-07-14T00:00:00.000+0000",
         30
        ],
        [
         "2019-10-22T00:00:00.000+0000",
         30
        ],
        [
         "2022-07-22T00:00:00.000+0000",
         30
        ],
        [
         "2018-02-06T00:00:00.000+0000",
         30
        ],
        [
         "2018-12-18T00:00:00.000+0000",
         30
        ],
        [
         "2019-12-19T00:00:00.000+0000",
         30
        ],
        [
         "2018-10-01T00:00:00.000+0000",
         30
        ],
        [
         "2022-09-08T00:00:00.000+0000",
         30
        ],
        [
         "2021-03-24T00:00:00.000+0000",
         30
        ],
        [
         "2019-11-15T00:00:00.000+0000",
         30
        ],
        [
         "2018-01-26T00:00:00.000+0000",
         30
        ],
        [
         "2021-02-01T00:00:00.000+0000",
         30
        ],
        [
         "2022-07-19T00:00:00.000+0000",
         30
        ],
        [
         "2021-01-06T00:00:00.000+0000",
         30
        ],
        [
         "2016-11-18T00:00:00.000+0000",
         29
        ],
        [
         "2017-08-02T00:00:00.000+0000",
         29
        ],
        [
         "2018-09-25T00:00:00.000+0000",
         29
        ],
        [
         "2018-11-12T00:00:00.000+0000",
         29
        ],
        [
         "2019-10-04T00:00:00.000+0000",
         29
        ],
        [
         "2022-05-11T00:00:00.000+0000",
         29
        ],
        [
         "2022-09-20T00:00:00.000+0000",
         29
        ],
        [
         "2017-10-10T00:00:00.000+0000",
         29
        ],
        [
         "2017-11-14T00:00:00.000+0000",
         29
        ],
        [
         "2021-11-24T00:00:00.000+0000",
         29
        ],
        [
         "2018-06-12T00:00:00.000+0000",
         29
        ],
        [
         "2019-12-20T00:00:00.000+0000",
         29
        ],
        [
         "2021-03-10T00:00:00.000+0000",
         29
        ],
        [
         "2021-08-12T00:00:00.000+0000",
         29
        ],
        [
         "2021-01-20T00:00:00.000+0000",
         29
        ],
        [
         "2020-09-07T00:00:00.000+0000",
         29
        ],
        [
         "2020-11-17T00:00:00.000+0000",
         29
        ],
        [
         "2016-12-13T00:00:00.000+0000",
         29
        ],
        [
         "2022-02-03T00:00:00.000+0000",
         29
        ],
        [
         "2021-12-22T00:00:00.000+0000",
         29
        ],
        [
         "2020-11-18T00:00:00.000+0000",
         29
        ],
        [
         "2016-09-02T00:00:00.000+0000",
         29
        ],
        [
         "2018-09-26T00:00:00.000+0000",
         29
        ],
        [
         "2019-03-07T00:00:00.000+0000",
         29
        ],
        [
         "2018-05-08T00:00:00.000+0000",
         29
        ],
        [
         "2019-11-20T00:00:00.000+0000",
         29
        ],
        [
         "2020-11-10T00:00:00.000+0000",
         29
        ],
        [
         "2018-07-17T00:00:00.000+0000",
         29
        ],
        [
         "2022-01-28T00:00:00.000+0000",
         29
        ],
        [
         "2018-12-03T00:00:00.000+0000",
         29
        ],
        [
         "2018-09-12T00:00:00.000+0000",
         29
        ],
        [
         "2022-03-14T00:00:00.000+0000",
         29
        ],
        [
         "2018-07-06T00:00:00.000+0000",
         29
        ],
        [
         "2018-08-08T00:00:00.000+0000",
         29
        ],
        [
         "2016-11-17T00:00:00.000+0000",
         29
        ],
        [
         "2018-03-22T00:00:00.000+0000",
         29
        ],
        [
         "2020-06-30T00:00:00.000+0000",
         29
        ],
        [
         "2019-09-03T00:00:00.000+0000",
         29
        ],
        [
         "2022-07-13T00:00:00.000+0000",
         29
        ],
        [
         "2022-08-12T00:00:00.000+0000",
         29
        ],
        [
         "2020-10-27T00:00:00.000+0000",
         29
        ],
        [
         "2018-03-16T00:00:00.000+0000",
         29
        ],
        [
         "2020-02-21T00:00:00.000+0000",
         29
        ],
        [
         "2020-06-15T00:00:00.000+0000",
         29
        ],
        [
         "2019-08-07T00:00:00.000+0000",
         29
        ],
        [
         "2021-02-10T00:00:00.000+0000",
         29
        ],
        [
         "2022-06-02T00:00:00.000+0000",
         29
        ],
        [
         "2020-05-19T00:00:00.000+0000",
         29
        ],
        [
         "2021-03-02T00:00:00.000+0000",
         29
        ],
        [
         "2018-10-26T00:00:00.000+0000",
         29
        ],
        [
         "2018-12-28T00:00:00.000+0000",
         29
        ],
        [
         "2021-07-27T00:00:00.000+0000",
         29
        ],
        [
         "2022-03-30T00:00:00.000+0000",
         29
        ],
        [
         "2017-09-08T00:00:00.000+0000",
         29
        ],
        [
         "2021-03-16T00:00:00.000+0000",
         28
        ],
        [
         "2022-10-10T00:00:00.000+0000",
         28
        ],
        [
         "2022-04-14T00:00:00.000+0000",
         28
        ],
        [
         "2021-09-08T00:00:00.000+0000",
         28
        ],
        [
         "2019-06-06T00:00:00.000+0000",
         28
        ],
        [
         "2016-10-19T00:00:00.000+0000",
         28
        ],
        [
         "2018-05-25T00:00:00.000+0000",
         28
        ],
        [
         "2019-10-25T00:00:00.000+0000",
         28
        ],
        [
         "2020-08-03T00:00:00.000+0000",
         28
        ],
        [
         "2021-04-20T00:00:00.000+0000",
         28
        ],
        [
         "2022-05-02T00:00:00.000+0000",
         28
        ],
        [
         "2019-08-14T00:00:00.000+0000",
         28
        ],
        [
         "2022-10-18T00:00:00.000+0000",
         28
        ],
        [
         "2019-08-27T00:00:00.000+0000",
         28
        ],
        [
         "2019-02-19T00:00:00.000+0000",
         28
        ],
        [
         "2020-08-11T00:00:00.000+0000",
         28
        ],
        [
         "2018-11-14T00:00:00.000+0000",
         28
        ],
        [
         "2020-02-06T00:00:00.000+0000",
         28
        ],
        [
         "2021-01-14T00:00:00.000+0000",
         28
        ],
        [
         "2020-02-24T00:00:00.000+0000",
         28
        ],
        [
         "2020-05-20T00:00:00.000+0000",
         28
        ],
        [
         "2018-03-27T00:00:00.000+0000",
         28
        ],
        [
         "2021-01-07T00:00:00.000+0000",
         28
        ],
        [
         "2022-04-15T00:00:00.000+0000",
         28
        ],
        [
         "2022-08-22T00:00:00.000+0000",
         28
        ],
        [
         "2017-07-31T00:00:00.000+0000",
         28
        ],
        [
         "2022-03-09T00:00:00.000+0000",
         28
        ],
        [
         "2018-09-05T00:00:00.000+0000",
         28
        ],
        [
         "2019-03-11T00:00:00.000+0000",
         28
        ],
        [
         "2022-08-09T00:00:00.000+0000",
         28
        ],
        [
         "2022-07-12T00:00:00.000+0000",
         28
        ],
        [
         "2014-05-05T00:00:00.000+0000",
         28
        ],
        [
         "2018-09-07T00:00:00.000+0000",
         28
        ],
        [
         "2019-01-23T00:00:00.000+0000",
         28
        ],
        [
         "2020-12-24T00:00:00.000+0000",
         28
        ],
        [
         "2019-11-08T00:00:00.000+0000",
         28
        ],
        [
         "2018-04-30T00:00:00.000+0000",
         28
        ],
        [
         "2020-09-23T00:00:00.000+0000",
         28
        ],
        [
         "2019-05-09T00:00:00.000+0000",
         28
        ],
        [
         "2017-12-12T00:00:00.000+0000",
         28
        ],
        [
         "2016-12-20T00:00:00.000+0000",
         28
        ],
        [
         "2019-02-08T00:00:00.000+0000",
         28
        ],
        [
         "2020-08-13T00:00:00.000+0000",
         28
        ],
        [
         "2021-08-02T00:00:00.000+0000",
         28
        ],
        [
         "2020-10-02T00:00:00.000+0000",
         28
        ],
        [
         "2019-11-22T00:00:00.000+0000",
         28
        ],
        [
         "2020-01-28T00:00:00.000+0000",
         28
        ],
        [
         "2018-04-12T00:00:00.000+0000",
         28
        ],
        [
         "2020-12-17T00:00:00.000+0000",
         28
        ],
        [
         "2021-02-23T00:00:00.000+0000",
         28
        ],
        [
         "2017-09-27T00:00:00.000+0000",
         28
        ],
        [
         "2018-12-11T00:00:00.000+0000",
         28
        ],
        [
         "2019-12-18T00:00:00.000+0000",
         28
        ],
        [
         "2020-11-09T00:00:00.000+0000",
         28
        ],
        [
         "2017-08-03T00:00:00.000+0000",
         28
        ],
        [
         "2018-12-17T00:00:00.000+0000",
         28
        ],
        [
         "2019-06-07T00:00:00.000+0000",
         28
        ],
        [
         "2022-01-17T00:00:00.000+0000",
         28
        ],
        [
         "2018-07-25T00:00:00.000+0000",
         28
        ],
        [
         "2018-05-11T00:00:00.000+0000",
         27
        ],
        [
         "2017-07-25T00:00:00.000+0000",
         27
        ],
        [
         "2018-03-05T00:00:00.000+0000",
         27
        ],
        [
         "2020-12-02T00:00:00.000+0000",
         27
        ],
        [
         "2018-07-30T00:00:00.000+0000",
         27
        ],
        [
         "2017-03-10T00:00:00.000+0000",
         27
        ],
        [
         "2020-01-03T00:00:00.000+0000",
         27
        ],
        [
         "2022-09-02T00:00:00.000+0000",
         27
        ],
        [
         "2022-08-08T00:00:00.000+0000",
         27
        ],
        [
         "2021-11-26T00:00:00.000+0000",
         27
        ],
        [
         "2017-08-29T00:00:00.000+0000",
         27
        ],
        [
         "2016-09-22T00:00:00.000+0000",
         27
        ],
        [
         "2017-04-28T00:00:00.000+0000",
         27
        ],
        [
         "2020-04-14T00:00:00.000+0000",
         27
        ],
        [
         "2020-04-09T00:00:00.000+0000",
         27
        ],
        [
         "2019-07-10T00:00:00.000+0000",
         27
        ],
        [
         "2021-06-03T00:00:00.000+0000",
         27
        ],
        [
         "2020-01-31T00:00:00.000+0000",
         27
        ],
        [
         "2021-06-25T00:00:00.000+0000",
         27
        ],
        [
         "2017-12-05T00:00:00.000+0000",
         27
        ],
        [
         "2022-07-01T00:00:00.000+0000",
         27
        ],
        [
         "2020-07-29T00:00:00.000+0000",
         27
        ],
        [
         "2021-12-08T00:00:00.000+0000",
         27
        ],
        [
         "2019-08-02T00:00:00.000+0000",
         27
        ],
        [
         "2018-03-13T00:00:00.000+0000",
         27
        ],
        [
         "2018-06-06T00:00:00.000+0000",
         27
        ],
        [
         "2019-04-29T00:00:00.000+0000",
         27
        ],
        [
         "2020-07-15T00:00:00.000+0000",
         27
        ],
        [
         "2018-10-09T00:00:00.000+0000",
         27
        ],
        [
         "2017-11-09T00:00:00.000+0000",
         27
        ],
        [
         "2019-10-03T00:00:00.000+0000",
         27
        ],
        [
         "2017-07-28T00:00:00.000+0000",
         27
        ],
        [
         "2021-04-22T00:00:00.000+0000",
         27
        ],
        [
         "2020-08-26T00:00:00.000+0000",
         27
        ],
        [
         "2021-08-19T00:00:00.000+0000",
         27
        ],
        [
         "2020-03-27T00:00:00.000+0000",
         27
        ],
        [
         "2022-05-09T00:00:00.000+0000",
         27
        ],
        [
         "2020-12-16T00:00:00.000+0000",
         27
        ],
        [
         "2018-07-10T00:00:00.000+0000",
         27
        ],
        [
         "2020-07-22T00:00:00.000+0000",
         27
        ],
        [
         "2020-06-05T00:00:00.000+0000",
         27
        ],
        [
         "2020-06-17T00:00:00.000+0000",
         27
        ],
        [
         "2017-08-01T00:00:00.000+0000",
         27
        ],
        [
         "2018-03-28T00:00:00.000+0000",
         27
        ],
        [
         "2016-10-26T00:00:00.000+0000",
         27
        ],
        [
         "2014-06-06T00:00:00.000+0000",
         27
        ],
        [
         "2018-02-05T00:00:00.000+0000",
         27
        ],
        [
         "2019-09-12T00:00:00.000+0000",
         27
        ],
        [
         "2022-10-05T00:00:00.000+0000",
         27
        ],
        [
         "2018-04-02T00:00:00.000+0000",
         27
        ],
        [
         "2021-07-08T00:00:00.000+0000",
         26
        ],
        [
         "2020-05-13T00:00:00.000+0000",
         26
        ],
        [
         "2021-09-07T00:00:00.000+0000",
         26
        ],
        [
         "2021-08-18T00:00:00.000+0000",
         26
        ],
        [
         "2019-03-08T00:00:00.000+0000",
         26
        ],
        [
         "2022-08-24T00:00:00.000+0000",
         26
        ],
        [
         "2017-10-11T00:00:00.000+0000",
         26
        ],
        [
         "2018-12-06T00:00:00.000+0000",
         26
        ],
        [
         "2018-02-07T00:00:00.000+0000",
         26
        ],
        [
         "2020-08-05T00:00:00.000+0000",
         26
        ],
        [
         "2021-04-07T00:00:00.000+0000",
         26
        ],
        [
         "2019-09-23T00:00:00.000+0000",
         26
        ],
        [
         "2021-11-15T00:00:00.000+0000",
         26
        ],
        [
         "2019-06-17T00:00:00.000+0000",
         26
        ],
        [
         "2019-06-28T00:00:00.000+0000",
         26
        ],
        [
         "2016-12-01T00:00:00.000+0000",
         26
        ],
        [
         "2019-11-27T00:00:00.000+0000",
         26
        ],
        [
         "2020-09-08T00:00:00.000+0000",
         26
        ],
        [
         "2018-11-20T00:00:00.000+0000",
         26
        ],
        [
         "2018-08-21T00:00:00.000+0000",
         26
        ],
        [
         "2017-08-10T00:00:00.000+0000",
         26
        ],
        [
         "2018-05-01T00:00:00.000+0000",
         26
        ],
        [
         "2018-05-02T00:00:00.000+0000",
         26
        ],
        [
         "2020-07-21T00:00:00.000+0000",
         26
        ],
        [
         "2018-02-02T00:00:00.000+0000",
         26
        ],
        [
         "2016-03-04T00:00:00.000+0000",
         26
        ],
        [
         "2018-03-06T00:00:00.000+0000",
         26
        ],
        [
         "2018-01-23T00:00:00.000+0000",
         26
        ],
        [
         "2020-07-01T00:00:00.000+0000",
         26
        ],
        [
         "2020-12-23T00:00:00.000+0000",
         26
        ],
        [
         "2021-01-25T00:00:00.000+0000",
         26
        ],
        [
         "2018-11-07T00:00:00.000+0000",
         26
        ],
        [
         "2019-07-23T00:00:00.000+0000",
         26
        ],
        [
         "2018-03-23T00:00:00.000+0000",
         26
        ],
        [
         "2018-07-16T00:00:00.000+0000",
         26
        ],
        [
         "2022-02-28T00:00:00.000+0000",
         26
        ],
        [
         "2022-01-19T00:00:00.000+0000",
         26
        ],
        [
         "2018-06-20T00:00:00.000+0000",
         26
        ],
        [
         "2019-06-25T00:00:00.000+0000",
         26
        ],
        [
         "2019-02-21T00:00:00.000+0000",
         26
        ],
        [
         "2019-06-19T00:00:00.000+0000",
         26
        ],
        [
         "2021-09-03T00:00:00.000+0000",
         26
        ],
        [
         "2022-09-07T00:00:00.000+0000",
         26
        ],
        [
         "2017-08-11T00:00:00.000+0000",
         26
        ],
        [
         "2018-06-08T00:00:00.000+0000",
         26
        ],
        [
         "2018-06-29T00:00:00.000+0000",
         26
        ],
        [
         "2018-10-19T00:00:00.000+0000",
         25
        ],
        [
         "2017-03-24T00:00:00.000+0000",
         25
        ],
        [
         "2020-02-07T00:00:00.000+0000",
         25
        ],
        [
         "2021-08-17T00:00:00.000+0000",
         25
        ],
        [
         "2021-04-02T00:00:00.000+0000",
         25
        ],
        [
         "2020-09-15T00:00:00.000+0000",
         25
        ],
        [
         "2019-09-24T00:00:00.000+0000",
         25
        ],
        [
         "2020-05-18T00:00:00.000+0000",
         25
        ],
        [
         "2018-02-12T00:00:00.000+0000",
         25
        ],
        [
         "2018-08-07T00:00:00.000+0000",
         25
        ],
        [
         "2020-10-06T00:00:00.000+0000",
         25
        ],
        [
         "2016-04-22T00:00:00.000+0000",
         25
        ],
        [
         "2020-03-03T00:00:00.000+0000",
         25
        ],
        [
         "2020-02-12T00:00:00.000+0000",
         25
        ],
        [
         "2022-01-26T00:00:00.000+0000",
         25
        ],
        [
         "2016-10-28T00:00:00.000+0000",
         25
        ],
        [
         "2019-01-30T00:00:00.000+0000",
         25
        ],
        [
         "2016-06-03T00:00:00.000+0000",
         25
        ],
        [
         "2021-08-24T00:00:00.000+0000",
         25
        ],
        [
         "2019-01-24T00:00:00.000+0000",
         25
        ],
        [
         "2018-10-10T00:00:00.000+0000",
         25
        ],
        [
         "2019-01-04T00:00:00.000+0000",
         25
        ],
        [
         "2019-06-11T00:00:00.000+0000",
         25
        ],
        [
         "2021-10-27T00:00:00.000+0000",
         25
        ],
        [
         "2022-02-02T00:00:00.000+0000",
         25
        ],
        [
         "2018-01-19T00:00:00.000+0000",
         25
        ],
        [
         "2018-01-05T00:00:00.000+0000",
         25
        ],
        [
         "2018-06-07T00:00:00.000+0000",
         25
        ],
        [
         "2021-01-27T00:00:00.000+0000",
         25
        ],
        [
         "2019-02-13T00:00:00.000+0000",
         25
        ],
        [
         "2021-09-14T00:00:00.000+0000",
         25
        ],
        [
         "2022-07-27T00:00:00.000+0000",
         25
        ],
        [
         "2019-11-21T00:00:00.000+0000",
         25
        ],
        [
         "2022-06-14T00:00:00.000+0000",
         25
        ],
        [
         "2019-12-16T00:00:00.000+0000",
         25
        ],
        [
         "2022-03-28T00:00:00.000+0000",
         25
        ],
        [
         "2019-05-15T00:00:00.000+0000",
         25
        ],
        [
         "2021-01-18T00:00:00.000+0000",
         25
        ],
        [
         "2019-02-15T00:00:00.000+0000",
         25
        ],
        [
         "2021-06-09T00:00:00.000+0000",
         25
        ],
        [
         "2021-09-21T00:00:00.000+0000",
         25
        ],
        [
         "2018-03-14T00:00:00.000+0000",
         25
        ],
        [
         "2021-08-11T00:00:00.000+0000",
         25
        ],
        [
         "2020-04-01T00:00:00.000+0000",
         25
        ],
        [
         "2022-05-03T00:00:00.000+0000",
         25
        ],
        [
         "2020-12-25T00:00:00.000+0000",
         25
        ],
        [
         "2019-02-26T00:00:00.000+0000",
         25
        ],
        [
         "2020-01-14T00:00:00.000+0000",
         25
        ],
        [
         "2020-05-26T00:00:00.000+0000",
         25
        ],
        [
         "2016-12-19T00:00:00.000+0000",
         25
        ],
        [
         "2022-08-23T00:00:00.000+0000",
         25
        ],
        [
         "2020-10-19T00:00:00.000+0000",
         25
        ],
        [
         "2022-03-16T00:00:00.000+0000",
         25
        ],
        [
         "2018-08-28T00:00:00.000+0000",
         25
        ],
        [
         "2018-11-23T00:00:00.000+0000",
         25
        ],
        [
         "2022-07-20T00:00:00.000+0000",
         25
        ],
        [
         "2022-07-26T00:00:00.000+0000",
         25
        ],
        [
         "2017-06-20T00:00:00.000+0000",
         25
        ],
        [
         "2018-07-02T00:00:00.000+0000",
         25
        ],
        [
         "2022-04-08T00:00:00.000+0000",
         25
        ],
        [
         "2018-06-14T00:00:00.000+0000",
         25
        ],
        [
         "2018-08-15T00:00:00.000+0000",
         25
        ],
        [
         "2018-05-16T00:00:00.000+0000",
         25
        ],
        [
         "2021-05-25T00:00:00.000+0000",
         25
        ],
        [
         "2019-06-13T00:00:00.000+0000",
         25
        ],
        [
         "2018-01-25T00:00:00.000+0000",
         25
        ],
        [
         "2020-03-12T00:00:00.000+0000",
         25
        ],
        [
         "2022-05-24T00:00:00.000+0000",
         25
        ],
        [
         "2020-07-13T00:00:00.000+0000",
         24
        ],
        [
         "2020-07-09T00:00:00.000+0000",
         24
        ],
        [
         "2020-06-26T00:00:00.000+0000",
         24
        ],
        [
         "2022-09-13T00:00:00.000+0000",
         24
        ],
        [
         "2018-11-05T00:00:00.000+0000",
         24
        ],
        [
         "2022-09-06T00:00:00.000+0000",
         24
        ],
        [
         "2019-11-05T00:00:00.000+0000",
         24
        ],
        [
         "2021-08-16T00:00:00.000+0000",
         24
        ],
        [
         "2022-09-12T00:00:00.000+0000",
         24
        ],
        [
         "2020-02-26T00:00:00.000+0000",
         24
        ],
        [
         "2017-02-17T00:00:00.000+0000",
         24
        ],
        [
         "2022-08-10T00:00:00.000+0000",
         24
        ],
        [
         "2018-08-29T00:00:00.000+0000",
         24
        ],
        [
         "2018-09-19T00:00:00.000+0000",
         24
        ],
        [
         "2017-12-13T00:00:00.000+0000",
         24
        ],
        [
         "2021-04-05T00:00:00.000+0000",
         24
        ],
        [
         "2021-07-28T00:00:00.000+0000",
         24
        ],
        [
         "2022-04-27T00:00:00.000+0000",
         24
        ],
        [
         "2022-01-25T00:00:00.000+0000",
         24
        ],
        [
         "2019-11-11T00:00:00.000+0000",
         24
        ],
        [
         "2020-11-23T00:00:00.000+0000",
         24
        ],
        [
         "2017-11-15T00:00:00.000+0000",
         24
        ],
        [
         "2021-07-13T00:00:00.000+0000",
         24
        ],
        [
         "2017-08-07T00:00:00.000+0000",
         24
        ],
        [
         "2018-10-30T00:00:00.000+0000",
         24
        ],
        [
         "2019-07-31T00:00:00.000+0000",
         24
        ],
        [
         "2021-07-21T00:00:00.000+0000",
         24
        ],
        [
         "2018-02-19T00:00:00.000+0000",
         24
        ],
        [
         "2022-03-07T00:00:00.000+0000",
         24
        ],
        [
         "2017-04-21T00:00:00.000+0000",
         24
        ],
        [
         "2017-09-13T00:00:00.000+0000",
         24
        ],
        [
         "2016-09-20T00:00:00.000+0000",
         24
        ],
        [
         "2022-01-11T00:00:00.000+0000",
         24
        ],
        [
         "2022-06-22T00:00:00.000+0000",
         24
        ],
        [
         "2017-03-28T00:00:00.000+0000",
         24
        ],
        [
         "2019-05-29T00:00:00.000+0000",
         24
        ],
        [
         "2020-11-27T00:00:00.000+0000",
         24
        ],
        [
         "2016-08-26T00:00:00.000+0000",
         24
        ],
        [
         "2018-09-03T00:00:00.000+0000",
         24
        ],
        [
         "2017-11-28T00:00:00.000+0000",
         24
        ],
        [
         "2017-05-18T00:00:00.000+0000",
         24
        ],
        [
         "2018-08-13T00:00:00.000+0000",
         24
        ],
        [
         "2022-01-10T00:00:00.000+0000",
         24
        ],
        [
         "2021-01-26T00:00:00.000+0000",
         24
        ],
        [
         "2022-01-24T00:00:00.000+0000",
         24
        ],
        [
         "2017-04-27T00:00:00.000+0000",
         24
        ],
        [
         "2020-04-20T00:00:00.000+0000",
         24
        ],
        [
         "2016-09-30T00:00:00.000+0000",
         24
        ],
        [
         "2020-04-22T00:00:00.000+0000",
         24
        ],
        [
         "2017-07-07T00:00:00.000+0000",
         24
        ],
        [
         "2017-10-23T00:00:00.000+0000",
         24
        ],
        [
         "2019-10-15T00:00:00.000+0000",
         24
        ],
        [
         "2020-08-10T00:00:00.000+0000",
         24
        ],
        [
         "2022-04-13T00:00:00.000+0000",
         24
        ],
        [
         "2022-01-18T00:00:00.000+0000",
         24
        ],
        [
         "2016-12-08T00:00:00.000+0000",
         24
        ],
        [
         "2019-10-01T00:00:00.000+0000",
         24
        ],
        [
         "2018-06-22T00:00:00.000+0000",
         24
        ],
        [
         "2020-08-17T00:00:00.000+0000",
         24
        ],
        [
         "2017-09-20T00:00:00.000+0000",
         24
        ],
        [
         "2021-06-08T00:00:00.000+0000",
         24
        ],
        [
         "2020-04-03T00:00:00.000+0000",
         24
        ],
        [
         "2020-11-03T00:00:00.000+0000",
         24
        ],
        [
         "2018-02-15T00:00:00.000+0000",
         24
        ],
        [
         "2017-09-11T00:00:00.000+0000",
         24
        ],
        [
         "2021-01-19T00:00:00.000+0000",
         24
        ],
        [
         "2021-01-08T00:00:00.000+0000",
         24
        ],
        [
         "2019-03-26T00:00:00.000+0000",
         24
        ],
        [
         "2021-04-12T00:00:00.000+0000",
         24
        ],
        [
         "2022-05-10T00:00:00.000+0000",
         24
        ],
        [
         "2017-06-16T00:00:00.000+0000",
         24
        ],
        [
         "2020-09-11T00:00:00.000+0000",
         24
        ],
        [
         "2017-03-08T00:00:00.000+0000",
         24
        ],
        [
         "2018-07-18T00:00:00.000+0000",
         24
        ],
        [
         "2017-05-31T00:00:00.000+0000",
         24
        ],
        [
         "2016-07-07T00:00:00.000+0000",
         24
        ],
        [
         "2021-02-03T00:00:00.000+0000",
         24
        ],
        [
         "2021-06-30T00:00:00.000+0000",
         24
        ],
        [
         "2016-11-30T00:00:00.000+0000",
         23
        ],
        [
         "2017-11-13T00:00:00.000+0000",
         23
        ],
        [
         "2018-10-16T00:00:00.000+0000",
         23
        ],
        [
         "2016-11-11T00:00:00.000+0000",
         23
        ],
        [
         "2019-04-24T00:00:00.000+0000",
         23
        ],
        [
         "2020-01-06T00:00:00.000+0000",
         23
        ],
        [
         "2017-08-24T00:00:00.000+0000",
         23
        ],
        [
         "2018-11-28T00:00:00.000+0000",
         23
        ],
        [
         "2018-01-22T00:00:00.000+0000",
         23
        ],
        [
         "2019-01-07T00:00:00.000+0000",
         23
        ],
        [
         "2018-08-02T00:00:00.000+0000",
         23
        ],
        [
         "2017-01-20T00:00:00.000+0000",
         23
        ],
        [
         "2021-04-14T00:00:00.000+0000",
         23
        ],
        [
         "2019-12-10T00:00:00.000+0000",
         23
        ],
        [
         "2020-12-29T00:00:00.000+0000",
         23
        ],
        [
         "2020-01-16T00:00:00.000+0000",
         23
        ],
        [
         "2018-08-14T00:00:00.000+0000",
         23
        ],
        [
         "2019-05-07T00:00:00.000+0000",
         23
        ],
        [
         "2018-07-05T00:00:00.000+0000",
         23
        ],
        [
         "2017-05-26T00:00:00.000+0000",
         23
        ],
        [
         "2022-09-19T00:00:00.000+0000",
         23
        ],
        [
         "2022-02-15T00:00:00.000+0000",
         23
        ],
        [
         "2017-11-16T00:00:00.000+0000",
         23
        ],
        [
         "2019-08-13T00:00:00.000+0000",
         23
        ],
        [
         "2017-02-14T00:00:00.000+0000",
         23
        ],
        [
         "2017-06-22T00:00:00.000+0000",
         23
        ],
        [
         "2022-09-05T00:00:00.000+0000",
         23
        ],
        [
         "2018-09-04T00:00:00.000+0000",
         23
        ],
        [
         "2020-08-12T00:00:00.000+0000",
         23
        ],
        [
         "2018-05-24T00:00:00.000+0000",
         23
        ],
        [
         "2018-04-05T00:00:00.000+0000",
         23
        ],
        [
         "2020-04-28T00:00:00.000+0000",
         23
        ],
        [
         "2021-05-18T00:00:00.000+0000",
         23
        ],
        [
         "2020-04-15T00:00:00.000+0000",
         23
        ],
        [
         "2020-12-08T00:00:00.000+0000",
         23
        ],
        [
         "2020-04-02T00:00:00.000+0000",
         23
        ],
        [
         "2017-02-02T00:00:00.000+0000",
         23
        ],
        [
         "2021-12-23T00:00:00.000+0000",
         23
        ],
        [
         "2019-06-24T00:00:00.000+0000",
         23
        ],
        [
         "2017-08-28T00:00:00.000+0000",
         23
        ],
        [
         "2017-02-21T00:00:00.000+0000",
         23
        ],
        [
         "2020-05-12T00:00:00.000+0000",
         23
        ],
        [
         "2022-08-15T00:00:00.000+0000",
         23
        ],
        [
         "2016-07-21T00:00:00.000+0000",
         23
        ],
        [
         "2021-03-17T00:00:00.000+0000",
         23
        ],
        [
         "2022-05-30T00:00:00.000+0000",
         23
        ],
        [
         "2021-04-13T00:00:00.000+0000",
         23
        ],
        [
         "2017-01-19T00:00:00.000+0000",
         23
        ],
        [
         "2018-11-27T00:00:00.000+0000",
         23
        ],
        [
         "2021-11-29T00:00:00.000+0000",
         23
        ],
        [
         "2017-07-19T00:00:00.000+0000",
         23
        ],
        [
         "2021-06-21T00:00:00.000+0000",
         23
        ],
        [
         "2018-06-18T00:00:00.000+0000",
         23
        ],
        [
         "2018-04-17T00:00:00.000+0000",
         23
        ],
        [
         "2017-05-05T00:00:00.000+0000",
         23
        ],
        [
         "2022-02-07T00:00:00.000+0000",
         23
        ],
        [
         "2020-03-05T00:00:00.000+0000",
         23
        ],
        [
         "2017-04-07T00:00:00.000+0000",
         23
        ],
        [
         "2020-12-28T00:00:00.000+0000",
         23
        ],
        [
         "2019-08-26T00:00:00.000+0000",
         23
        ],
        [
         "2022-01-31T00:00:00.000+0000",
         23
        ],
        [
         "2018-05-07T00:00:00.000+0000",
         23
        ],
        [
         "2021-11-10T00:00:00.000+0000",
         23
        ],
        [
         "2017-08-09T00:00:00.000+0000",
         23
        ],
        [
         "2016-07-29T00:00:00.000+0000",
         23
        ],
        [
         "2019-04-01T00:00:00.000+0000",
         23
        ],
        [
         "2021-01-12T00:00:00.000+0000",
         23
        ],
        [
         "2022-10-03T00:00:00.000+0000",
         23
        ],
        [
         "2019-10-30T00:00:00.000+0000",
         22
        ],
        [
         "2018-03-21T00:00:00.000+0000",
         22
        ],
        [
         "2019-05-03T00:00:00.000+0000",
         22
        ],
        [
         "2018-11-21T00:00:00.000+0000",
         22
        ],
        [
         "2022-10-19T00:00:00.000+0000",
         22
        ],
        [
         "2020-10-12T00:00:00.000+0000",
         22
        ],
        [
         "2021-03-29T00:00:00.000+0000",
         22
        ],
        [
         "2018-01-24T00:00:00.000+0000",
         22
        ],
        [
         "2021-08-23T00:00:00.000+0000",
         22
        ],
        [
         "2018-10-24T00:00:00.000+0000",
         22
        ],
        [
         "2016-04-28T00:00:00.000+0000",
         22
        ],
        [
         "2021-09-27T00:00:00.000+0000",
         22
        ],
        [
         "2018-07-11T00:00:00.000+0000",
         22
        ],
        [
         "2016-09-08T00:00:00.000+0000",
         22
        ],
        [
         "2016-08-08T00:00:00.000+0000",
         22
        ],
        [
         "2018-04-10T00:00:00.000+0000",
         22
        ],
        [
         "2016-06-01T00:00:00.000+0000",
         22
        ],
        [
         "2021-10-05T00:00:00.000+0000",
         22
        ],
        [
         "2020-10-05T00:00:00.000+0000",
         22
        ],
        [
         "2020-01-09T00:00:00.000+0000",
         22
        ],
        [
         "2022-02-16T00:00:00.000+0000",
         22
        ],
        [
         "2020-03-09T00:00:00.000+0000",
         22
        ],
        [
         "2017-12-22T00:00:00.000+0000",
         22
        ],
        [
         "2021-11-03T00:00:00.000+0000",
         22
        ],
        [
         "2019-02-20T00:00:00.000+0000",
         22
        ],
        [
         "2018-07-24T00:00:00.000+0000",
         22
        ],
        [
         "2021-08-04T00:00:00.000+0000",
         22
        ],
        [
         "2017-10-04T00:00:00.000+0000",
         22
        ],
        [
         "2022-08-02T00:00:00.000+0000",
         22
        ],
        [
         "2018-10-03T00:00:00.000+0000",
         22
        ],
        [
         "2020-12-31T00:00:00.000+0000",
         22
        ],
        [
         "2020-05-05T00:00:00.000+0000",
         22
        ],
        [
         "2018-11-13T00:00:00.000+0000",
         22
        ],
        [
         "2018-10-23T00:00:00.000+0000",
         22
        ],
        [
         "2019-06-14T00:00:00.000+0000",
         22
        ],
        [
         "2019-05-20T00:00:00.000+0000",
         22
        ],
        [
         "2017-04-13T00:00:00.000+0000",
         22
        ],
        [
         "2019-08-09T00:00:00.000+0000",
         22
        ],
        [
         "2016-06-02T00:00:00.000+0000",
         22
        ],
        [
         "2019-06-21T00:00:00.000+0000",
         22
        ],
        [
         "2016-10-25T00:00:00.000+0000",
         22
        ],
        [
         "2019-02-25T00:00:00.000+0000",
         22
        ],
        [
         "2022-05-16T00:00:00.000+0000",
         22
        ],
        [
         "2017-12-04T00:00:00.000+0000",
         22
        ],
        [
         "2019-04-12T00:00:00.000+0000",
         22
        ],
        [
         "2018-10-22T00:00:00.000+0000",
         22
        ],
        [
         "2017-07-26T00:00:00.000+0000",
         22
        ],
        [
         "2020-09-28T00:00:00.000+0000",
         22
        ],
        [
         "2018-01-16T00:00:00.000+0000",
         22
        ],
        [
         "2019-05-22T00:00:00.000+0000",
         22
        ],
        [
         "2017-10-27T00:00:00.000+0000",
         22
        ],
        [
         "2017-11-08T00:00:00.000+0000",
         22
        ],
        [
         "2017-06-09T00:00:00.000+0000",
         22
        ],
        [
         "2019-07-29T00:00:00.000+0000",
         22
        ],
        [
         "2015-05-28T00:00:00.000+0000",
         22
        ],
        [
         "2016-07-08T00:00:00.000+0000",
         22
        ],
        [
         "2020-02-04T00:00:00.000+0000",
         22
        ],
        [
         "2017-05-19T00:00:00.000+0000",
         22
        ],
        [
         "2019-09-02T00:00:00.000+0000",
         22
        ],
        [
         "2016-12-07T00:00:00.000+0000",
         22
        ],
        [
         "2018-11-26T00:00:00.000+0000",
         22
        ],
        [
         "2017-04-11T00:00:00.000+0000",
         22
        ],
        [
         "2019-05-01T00:00:00.000+0000",
         22
        ],
        [
         "2019-03-21T00:00:00.000+0000",
         21
        ],
        [
         "2022-05-04T00:00:00.000+0000",
         21
        ],
        [
         "2021-07-01T00:00:00.000+0000",
         21
        ],
        [
         "2019-02-06T00:00:00.000+0000",
         21
        ],
        [
         "2018-05-28T00:00:00.000+0000",
         21
        ],
        [
         "2017-03-14T00:00:00.000+0000",
         21
        ],
        [
         "2016-07-12T00:00:00.000+0000",
         21
        ],
        [
         "2018-06-27T00:00:00.000+0000",
         21
        ],
        [
         "2021-10-04T00:00:00.000+0000",
         21
        ],
        [
         "2016-04-04T00:00:00.000+0000",
         21
        ],
        [
         "2019-11-06T00:00:00.000+0000",
         21
        ],
        [
         "2021-02-08T00:00:00.000+0000",
         21
        ],
        [
         "2018-07-23T00:00:00.000+0000",
         21
        ],
        [
         "2022-01-12T00:00:00.000+0000",
         21
        ],
        [
         "2017-12-29T00:00:00.000+0000",
         21
        ],
        [
         "2017-10-30T00:00:00.000+0000",
         21
        ],
        [
         "2022-04-05T00:00:00.000+0000",
         21
        ],
        [
         "2018-12-10T00:00:00.000+0000",
         21
        ],
        [
         "2021-12-06T00:00:00.000+0000",
         21
        ],
        [
         "2018-10-04T00:00:00.000+0000",
         21
        ],
        [
         "2021-05-03T00:00:00.000+0000",
         21
        ],
        [
         "2020-03-23T00:00:00.000+0000",
         21
        ],
        [
         "2016-04-29T00:00:00.000+0000",
         21
        ],
        [
         "2022-02-08T00:00:00.000+0000",
         21
        ],
        [
         "2021-01-31T00:00:00.000+0000",
         21
        ],
        [
         "2015-11-20T00:00:00.000+0000",
         21
        ],
        [
         "2017-08-22T00:00:00.000+0000",
         21
        ],
        [
         "2016-03-24T00:00:00.000+0000",
         21
        ],
        [
         "2018-09-10T00:00:00.000+0000",
         21
        ],
        [
         "2015-06-25T00:00:00.000+0000",
         21
        ],
        [
         "2016-11-04T00:00:00.000+0000",
         21
        ],
        [
         "2021-08-09T00:00:00.000+0000",
         21
        ],
        [
         "2019-07-11T00:00:00.000+0000",
         21
        ],
        [
         "2021-03-11T00:00:00.000+0000",
         21
        ],
        [
         "2019-10-16T00:00:00.000+0000",
         21
        ],
        [
         "2016-12-22T00:00:00.000+0000",
         21
        ],
        [
         "2018-12-12T00:00:00.000+0000",
         21
        ],
        [
         "2020-06-09T00:00:00.000+0000",
         21
        ],
        [
         "2021-04-27T00:00:00.000+0000",
         21
        ],
        [
         "2019-12-06T00:00:00.000+0000",
         21
        ],
        [
         "2015-12-10T00:00:00.000+0000",
         21
        ],
        [
         "2019-11-28T00:00:00.000+0000",
         21
        ],
        [
         "2019-12-04T00:00:00.000+0000",
         21
        ],
        [
         "2018-06-04T00:00:00.000+0000",
         21
        ],
        [
         "2016-09-01T00:00:00.000+0000",
         21
        ],
        [
         "2017-04-05T00:00:00.000+0000",
         21
        ],
        [
         "2017-11-21T00:00:00.000+0000",
         21
        ],
        [
         "2019-11-18T00:00:00.000+0000",
         21
        ],
        [
         "2018-08-24T00:00:00.000+0000",
         21
        ],
        [
         "2018-09-24T00:00:00.000+0000",
         21
        ],
        [
         "2020-05-25T00:00:00.000+0000",
         21
        ],
        [
         "2018-02-26T00:00:00.000+0000",
         21
        ],
        [
         "2019-01-28T00:00:00.000+0000",
         21
        ],
        [
         "2017-07-06T00:00:00.000+0000",
         21
        ],
        [
         "2018-04-25T00:00:00.000+0000",
         21
        ],
        [
         "2019-07-03T00:00:00.000+0000",
         21
        ],
        [
         "2019-06-27T00:00:00.000+0000",
         21
        ],
        [
         "2016-06-17T00:00:00.000+0000",
         21
        ],
        [
         "2017-12-27T00:00:00.000+0000",
         21
        ],
        [
         "2020-02-03T00:00:00.000+0000",
         21
        ],
        [
         "2019-10-23T00:00:00.000+0000",
         21
        ],
        [
         "2016-05-19T00:00:00.000+0000",
         21
        ],
        [
         "2016-09-16T00:00:00.000+0000",
         21
        ],
        [
         "2018-04-16T00:00:00.000+0000",
         21
        ],
        [
         "2021-06-15T00:00:00.000+0000",
         21
        ],
        [
         "2021-11-25T00:00:00.000+0000",
         21
        ],
        [
         "2021-08-10T00:00:00.000+0000",
         21
        ],
        [
         "2021-02-28T00:00:00.000+0000",
         21
        ],
        [
         "2014-04-17T00:00:00.000+0000",
         21
        ],
        [
         "2019-08-28T00:00:00.000+0000",
         21
        ],
        [
         "2017-02-23T00:00:00.000+0000",
         21
        ],
        [
         "2018-05-21T00:00:00.000+0000",
         21
        ],
        [
         "2016-10-21T00:00:00.000+0000",
         21
        ],
        [
         "2022-02-01T00:00:00.000+0000",
         21
        ],
        [
         "2019-03-05T00:00:00.000+0000",
         21
        ],
        [
         "2017-06-01T00:00:00.000+0000",
         21
        ],
        [
         "2020-10-26T00:00:00.000+0000",
         21
        ],
        [
         "2017-03-16T00:00:00.000+0000",
         21
        ],
        [
         "2018-09-17T00:00:00.000+0000",
         21
        ],
        [
         "2019-08-06T00:00:00.000+0000",
         21
        ],
        [
         "2021-10-18T00:00:00.000+0000",
         21
        ],
        [
         "2019-10-08T00:00:00.000+0000",
         21
        ],
        [
         "2021-04-26T00:00:00.000+0000",
         21
        ],
        [
         "2019-08-05T00:00:00.000+0000",
         21
        ],
        [
         "2022-09-26T00:00:00.000+0000",
         21
        ],
        [
         "2018-04-23T00:00:00.000+0000",
         21
        ],
        [
         "2021-08-30T00:00:00.000+0000",
         21
        ],
        [
         "2017-05-30T00:00:00.000+0000",
         21
        ],
        [
         "2016-10-20T00:00:00.000+0000",
         21
        ],
        [
         "2019-10-07T00:00:00.000+0000",
         21
        ],
        [
         "2020-08-04T00:00:00.000+0000",
         21
        ],
        [
         "2016-12-02T00:00:00.000+0000",
         21
        ],
        [
         "2016-07-05T00:00:00.000+0000",
         21
        ],
        [
         "2019-05-06T00:00:00.000+0000",
         21
        ],
        [
         "2019-12-02T00:00:00.000+0000",
         20
        ],
        [
         "2018-12-24T00:00:00.000+0000",
         20
        ],
        [
         "2020-08-24T00:00:00.000+0000",
         20
        ],
        [
         "2016-05-31T00:00:00.000+0000",
         20
        ],
        [
         "2016-10-06T00:00:00.000+0000",
         20
        ],
        [
         "2016-08-23T00:00:00.000+0000",
         20
        ],
        [
         "2022-06-29T00:00:00.000+0000",
         20
        ],
        [
         "2017-05-04T00:00:00.000+0000",
         20
        ],
        [
         "2020-05-04T00:00:00.000+0000",
         20
        ],
        [
         "2018-04-04T00:00:00.000+0000",
         20
        ],
        [
         "2020-03-10T00:00:00.000+0000",
         20
        ],
        [
         "2021-07-02T00:00:00.000+0000",
         20
        ],
        [
         "2018-10-02T00:00:00.000+0000",
         20
        ],
        [
         "2017-01-30T00:00:00.000+0000",
         20
        ],
        [
         "2022-06-28T00:00:00.000+0000",
         20
        ],
        [
         "2021-12-24T00:00:00.000+0000",
         20
        ],
        [
         "2017-10-02T00:00:00.000+0000",
         20
        ],
        [
         "2019-09-18T00:00:00.000+0000",
         20
        ],
        [
         "2018-08-09T00:00:00.000+0000",
         20
        ],
        [
         "2016-07-22T00:00:00.000+0000",
         20
        ],
        [
         "2016-11-03T00:00:00.000+0000",
         20
        ],
        [
         "2014-10-06T00:00:00.000+0000",
         20
        ],
        [
         "2017-09-25T00:00:00.000+0000",
         20
        ],
        [
         "2018-01-29T00:00:00.000+0000",
         20
        ],
        [
         "2020-03-30T00:00:00.000+0000",
         20
        ],
        [
         "2021-12-30T00:00:00.000+0000",
         20
        ],
        [
         "2016-08-09T00:00:00.000+0000",
         20
        ],
        [
         "2019-04-09T00:00:00.000+0000",
         20
        ],
        [
         "2016-05-06T00:00:00.000+0000",
         20
        ],
        [
         "2019-05-27T00:00:00.000+0000",
         20
        ],
        [
         "2019-12-31T00:00:00.000+0000",
         20
        ],
        [
         "2017-03-03T00:00:00.000+0000",
         20
        ],
        [
         "2016-05-27T00:00:00.000+0000",
         20
        ],
        [
         "2015-10-21T00:00:00.000+0000",
         20
        ],
        [
         "2020-07-02T00:00:00.000+0000",
         20
        ],
        [
         "2020-02-10T00:00:00.000+0000",
         20
        ],
        [
         "2019-11-04T00:00:00.000+0000",
         20
        ],
        [
         "2019-04-03T00:00:00.000+0000",
         20
        ],
        [
         "2020-12-09T00:00:00.000+0000",
         20
        ],
        [
         "2019-02-07T00:00:00.000+0000",
         20
        ],
        [
         "2021-11-02T00:00:00.000+0000",
         20
        ],
        [
         "2018-06-13T00:00:00.000+0000",
         20
        ],
        [
         "2018-01-30T00:00:00.000+0000",
         20
        ],
        [
         "2017-10-03T00:00:00.000+0000",
         20
        ],
        [
         "2019-11-26T00:00:00.000+0000",
         20
        ],
        [
         "2018-05-30T00:00:00.000+0000",
         20
        ],
        [
         "2017-02-01T00:00:00.000+0000",
         20
        ],
        [
         "2018-01-11T00:00:00.000+0000",
         20
        ],
        [
         "2015-09-30T00:00:00.000+0000",
         20
        ],
        [
         "2016-08-04T00:00:00.000+0000",
         20
        ],
        [
         "2017-02-27T00:00:00.000+0000",
         20
        ],
        [
         "2022-08-16T00:00:00.000+0000",
         20
        ],
        [
         "2021-02-22T00:00:00.000+0000",
         20
        ],
        [
         "2019-04-08T00:00:00.000+0000",
         20
        ],
        [
         "2019-04-15T00:00:00.000+0000",
         20
        ],
        [
         "2017-08-30T00:00:00.000+0000",
         20
        ],
        [
         "2020-01-29T00:00:00.000+0000",
         20
        ],
        [
         "2022-06-24T00:00:00.000+0000",
         20
        ],
        [
         "2021-05-04T00:00:00.000+0000",
         20
        ],
        [
         "2016-12-21T00:00:00.000+0000",
         20
        ],
        [
         "2019-12-17T00:00:00.000+0000",
         20
        ],
        [
         "2020-01-24T00:00:00.000+0000",
         20
        ],
        [
         "2017-12-11T00:00:00.000+0000",
         20
        ],
        [
         "2016-11-02T00:00:00.000+0000",
         20
        ],
        [
         "2018-08-20T00:00:00.000+0000",
         20
        ],
        [
         "2019-10-11T00:00:00.000+0000",
         20
        ],
        [
         "2019-03-13T00:00:00.000+0000",
         20
        ],
        [
         "2021-06-23T00:00:00.000+0000",
         20
        ],
        [
         "2021-04-28T00:00:00.000+0000",
         20
        ],
        [
         "2019-05-02T00:00:00.000+0000",
         20
        ],
        [
         "2022-03-22T00:00:00.000+0000",
         20
        ],
        [
         "2019-06-04T00:00:00.000+0000",
         20
        ],
        [
         "2020-06-01T00:00:00.000+0000",
         20
        ],
        [
         "2022-11-02T00:00:00.000+0000",
         20
        ],
        [
         "2021-10-25T00:00:00.000+0000",
         20
        ],
        [
         "2018-12-13T00:00:00.000+0000",
         19
        ],
        [
         "2017-01-31T00:00:00.000+0000",
         19
        ],
        [
         "2017-07-17T00:00:00.000+0000",
         19
        ],
        [
         "2022-06-08T00:00:00.000+0000",
         19
        ],
        [
         "2015-09-24T00:00:00.000+0000",
         19
        ],
        [
         "2018-04-11T00:00:00.000+0000",
         19
        ],
        [
         "2016-06-14T00:00:00.000+0000",
         19
        ],
        [
         "2019-11-29T00:00:00.000+0000",
         19
        ],
        [
         "2017-02-09T00:00:00.000+0000",
         19
        ],
        [
         "2019-10-09T00:00:00.000+0000",
         19
        ],
        [
         "2020-11-16T00:00:00.000+0000",
         19
        ],
        [
         "2016-07-19T00:00:00.000+0000",
         19
        ],
        [
         "2020-06-22T00:00:00.000+0000",
         19
        ],
        [
         "2018-10-29T00:00:00.000+0000",
         19
        ],
        [
         "2018-01-12T00:00:00.000+0000",
         19
        ],
        [
         "2019-03-18T00:00:00.000+0000",
         19
        ],
        [
         "2018-02-09T00:00:00.000+0000",
         19
        ],
        [
         "2020-08-18T00:00:00.000+0000",
         19
        ],
        [
         "2021-01-11T00:00:00.000+0000",
         19
        ],
        [
         "2020-03-02T00:00:00.000+0000",
         19
        ],
        [
         "2007-08-03T00:00:00.000+0000",
         19
        ],
        [
         "2020-01-15T00:00:00.000+0000",
         19
        ],
        [
         "2020-11-24T00:00:00.000+0000",
         19
        ],
        [
         "2019-11-25T00:00:00.000+0000",
         19
        ],
        [
         "2016-03-03T00:00:00.000+0000",
         19
        ],
        [
         "2016-11-01T00:00:00.000+0000",
         19
        ],
        [
         "2020-01-13T00:00:00.000+0000",
         19
        ],
        [
         "2017-02-13T00:00:00.000+0000",
         19
        ],
        [
         "2018-05-22T00:00:00.000+0000",
         19
        ],
        [
         "2020-10-07T00:00:00.000+0000",
         19
        ],
        [
         "2022-04-26T00:00:00.000+0000",
         19
        ],
        [
         "2016-02-18T00:00:00.000+0000",
         19
        ],
        [
         "2020-07-20T00:00:00.000+0000",
         19
        ],
        [
         "2020-01-10T00:00:00.000+0000",
         19
        ],
        [
         "2019-05-13T00:00:00.000+0000",
         19
        ],
        [
         "2019-08-19T00:00:00.000+0000",
         19
        ],
        [
         "2020-09-09T00:00:00.000+0000",
         19
        ],
        [
         "2016-03-29T00:00:00.000+0000",
         19
        ],
        [
         "2016-11-22T00:00:00.000+0000",
         19
        ],
        [
         "2022-07-18T00:00:00.000+0000",
         19
        ],
        [
         "2020-01-27T00:00:00.000+0000",
         19
        ],
        [
         "2018-11-19T00:00:00.000+0000",
         19
        ],
        [
         "2017-04-25T00:00:00.000+0000",
         19
        ],
        [
         "2019-02-04T00:00:00.000+0000",
         19
        ],
        [
         "2020-06-10T00:00:00.000+0000",
         19
        ],
        [
         "2019-03-12T00:00:00.000+0000",
         19
        ],
        [
         "2021-02-02T00:00:00.000+0000",
         19
        ],
        [
         "2021-03-22T00:00:00.000+0000",
         19
        ],
        [
         "2019-10-29T00:00:00.000+0000",
         19
        ],
        [
         "2019-07-09T00:00:00.000+0000",
         19
        ],
        [
         "2017-06-02T00:00:00.000+0000",
         19
        ],
        [
         "2016-11-09T00:00:00.000+0000",
         19
        ],
        [
         "2017-08-23T00:00:00.000+0000",
         19
        ],
        [
         "2020-03-16T00:00:00.000+0000",
         19
        ],
        [
         "2022-02-14T00:00:00.000+0000",
         19
        ],
        [
         "2020-04-27T00:00:00.000+0000",
         19
        ],
        [
         "2015-06-04T00:00:00.000+0000",
         19
        ],
        [
         "2017-03-30T00:00:00.000+0000",
         19
        ],
        [
         "2018-01-15T00:00:00.000+0000",
         19
        ],
        [
         "2015-10-23T00:00:00.000+0000",
         19
        ],
        [
         "2021-02-15T00:00:00.000+0000",
         19
        ],
        [
         "2018-10-12T00:00:00.000+0000",
         19
        ],
        [
         "2021-12-27T00:00:00.000+0000",
         19
        ],
        [
         "2019-12-03T00:00:00.000+0000",
         19
        ],
        [
         "2021-06-02T00:00:00.000+0000",
         19
        ],
        [
         "2017-01-26T00:00:00.000+0000",
         19
        ],
        [
         "2019-04-17T00:00:00.000+0000",
         19
        ],
        [
         "2016-10-24T00:00:00.000+0000",
         19
        ],
        [
         "2020-02-17T00:00:00.000+0000",
         19
        ],
        [
         "2021-09-06T00:00:00.000+0000",
         19
        ],
        [
         "2022-04-06T00:00:00.000+0000",
         19
        ],
        [
         "2015-12-18T00:00:00.000+0000",
         19
        ],
        [
         "2020-06-24T00:00:00.000+0000",
         19
        ],
        [
         "2017-01-13T00:00:00.000+0000",
         19
        ],
        [
         "2017-04-04T00:00:00.000+0000",
         19
        ],
        [
         "2017-02-10T00:00:00.000+0000",
         19
        ],
        [
         "2021-12-31T00:00:00.000+0000",
         19
        ],
        [
         "2016-11-15T00:00:00.000+0000",
         19
        ],
        [
         "2020-12-14T00:00:00.000+0000",
         19
        ],
        [
         "2017-05-12T00:00:00.000+0000",
         19
        ],
        [
         "2019-03-06T00:00:00.000+0000",
         19
        ],
        [
         "2016-02-25T00:00:00.000+0000",
         19
        ],
        [
         "2019-08-21T00:00:00.000+0000",
         19
        ],
        [
         "2020-01-02T00:00:00.000+0000",
         19
        ],
        [
         "2016-08-31T00:00:00.000+0000",
         19
        ],
        [
         "2021-12-13T00:00:00.000+0000",
         18
        ],
        [
         "2020-08-19T00:00:00.000+0000",
         18
        ],
        [
         "2021-03-08T00:00:00.000+0000",
         18
        ],
        [
         "2019-01-01T00:00:00.000+0000",
         18
        ],
        [
         "2021-02-07T00:00:00.000+0000",
         18
        ],
        [
         "2020-08-01T00:00:00.000+0000",
         18
        ],
        [
         "2018-12-05T00:00:00.000+0000",
         18
        ],
        [
         "2022-06-25T00:00:00.000+0000",
         18
        ],
        [
         "2019-06-03T00:00:00.000+0000",
         18
        ],
        [
         "2019-11-19T00:00:00.000+0000",
         18
        ],
        [
         "2016-03-18T00:00:00.000+0000",
         18
        ],
        [
         "2019-03-25T00:00:00.000+0000",
         18
        ],
        [
         "2020-01-21T00:00:00.000+0000",
         18
        ],
        [
         "2018-01-10T00:00:00.000+0000",
         18
        ],
        [
         "2017-05-17T00:00:00.000+0000",
         18
        ],
        [
         "2021-11-23T00:00:00.000+0000",
         18
        ],
        [
         "2022-04-04T00:00:00.000+0000",
         18
        ],
        [
         "2019-01-03T00:00:00.000+0000",
         18
        ],
        [
         "2022-05-23T00:00:00.000+0000",
         18
        ],
        [
         "2017-03-15T00:00:00.000+0000",
         18
        ],
        [
         "2015-04-23T00:00:00.000+0000",
         18
        ],
        [
         "2020-09-02T00:00:00.000+0000",
         18
        ],
        [
         "2021-03-09T00:00:00.000+0000",
         18
        ],
        [
         "2018-07-09T00:00:00.000+0000",
         18
        ],
        [
         "2017-08-16T00:00:00.000+0000",
         18
        ],
        [
         "2016-10-07T00:00:00.000+0000",
         18
        ],
        [
         "2021-06-14T00:00:00.000+0000",
         18
        ],
        [
         "2016-11-16T00:00:00.000+0000",
         18
        ],
        [
         "2020-12-30T00:00:00.000+0000",
         18
        ],
        [
         "2016-04-21T00:00:00.000+0000",
         18
        ],
        [
         "2017-05-10T00:00:00.000+0000",
         18
        ],
        [
         "2015-12-21T00:00:00.000+0000",
         18
        ],
        [
         "2017-10-09T00:00:00.000+0000",
         18
        ],
        [
         "2016-11-07T00:00:00.000+0000",
         18
        ],
        [
         "2019-02-18T00:00:00.000+0000",
         18
        ],
        [
         "2017-02-08T00:00:00.000+0000",
         18
        ],
        [
         "2016-02-12T00:00:00.000+0000",
         18
        ],
        [
         "2019-12-09T00:00:00.000+0000",
         18
        ],
        [
         "2018-05-23T00:00:00.000+0000",
         18
        ],
        [
         "2016-03-31T00:00:00.000+0000",
         18
        ],
        [
         "2017-02-16T00:00:00.000+0000",
         18
        ],
        [
         "2021-09-13T00:00:00.000+0000",
         18
        ],
        [
         "2016-12-14T00:00:00.000+0000",
         18
        ],
        [
         "2015-06-01T00:00:00.000+0000",
         18
        ],
        [
         "2017-05-11T00:00:00.000+0000",
         18
        ],
        [
         "2021-06-07T00:00:00.000+0000",
         18
        ],
        [
         "2021-05-12T00:00:00.000+0000",
         18
        ],
        [
         "2016-11-21T00:00:00.000+0000",
         18
        ],
        [
         "2017-07-12T00:00:00.000+0000",
         18
        ],
        [
         "2019-04-22T00:00:00.000+0000",
         18
        ],
        [
         "2021-06-16T00:00:00.000+0000",
         18
        ],
        [
         "2017-02-15T00:00:00.000+0000",
         18
        ],
        [
         "2020-05-11T00:00:00.000+0000",
         18
        ],
        [
         "2016-04-19T00:00:00.000+0000",
         18
        ],
        [
         "2018-08-27T00:00:00.000+0000",
         18
        ],
        [
         "2019-11-12T00:00:00.000+0000",
         18
        ],
        [
         "2019-09-10T00:00:00.000+0000",
         18
        ],
        [
         "2020-03-11T00:00:00.000+0000",
         18
        ],
        [
         "2018-05-14T00:00:00.000+0000",
         18
        ],
        [
         "2019-09-04T00:00:00.000+0000",
         18
        ],
        [
         "2019-09-16T00:00:00.000+0000",
         18
        ],
        [
         "2015-09-25T00:00:00.000+0000",
         18
        ],
        [
         "2020-03-04T00:00:00.000+0000",
         18
        ],
        [
         "2022-08-29T00:00:00.000+0000",
         18
        ],
        [
         "2017-05-29T00:00:00.000+0000",
         18
        ],
        [
         "2020-02-18T00:00:00.000+0000",
         18
        ],
        [
         "2022-07-25T00:00:00.000+0000",
         18
        ],
        [
         "2019-01-15T00:00:00.000+0000",
         18
        ],
        [
         "2015-02-27T00:00:00.000+0000",
         18
        ],
        [
         "2019-01-21T00:00:00.000+0000",
         18
        ],
        [
         "2022-06-07T00:00:00.000+0000",
         18
        ],
        [
         "2016-06-07T00:00:00.000+0000",
         18
        ],
        [
         "2017-08-14T00:00:00.000+0000",
         18
        ],
        [
         "2017-11-24T00:00:00.000+0000",
         18
        ],
        [
         "2020-02-05T00:00:00.000+0000",
         18
        ],
        [
         "2019-07-16T00:00:00.000+0000",
         17
        ],
        [
         "2018-01-09T00:00:00.000+0000",
         17
        ],
        [
         "2020-06-29T00:00:00.000+0000",
         17
        ],
        [
         "2019-10-21T00:00:00.000+0000",
         17
        ],
        [
         "2021-06-28T00:00:00.000+0000",
         17
        ],
        [
         "2018-11-22T00:00:00.000+0000",
         17
        ],
        [
         "2017-01-06T00:00:00.000+0000",
         17
        ],
        [
         "2018-08-22T00:00:00.000+0000",
         17
        ],
        [
         "2020-03-18T00:00:00.000+0000",
         17
        ],
        [
         "2021-05-26T00:00:00.000+0000",
         17
        ],
        [
         "2022-04-19T00:00:00.000+0000",
         17
        ],
        [
         "2019-01-10T00:00:00.000+0000",
         17
        ],
        [
         "2017-11-03T00:00:00.000+0000",
         17
        ],
        [
         "2019-02-11T00:00:00.000+0000",
         17
        ],
        [
         "2021-12-29T00:00:00.000+0000",
         17
        ],
        [
         "2020-02-19T00:00:00.000+0000",
         17
        ],
        [
         "2020-01-01T00:00:00.000+0000",
         17
        ],
        [
         "2017-03-20T00:00:00.000+0000",
         17
        ],
        [
         "2017-05-22T00:00:00.000+0000",
         17
        ],
        [
         "2019-09-17T00:00:00.000+0000",
         17
        ],
        [
         "2015-09-03T00:00:00.000+0000",
         17
        ],
        [
         "2017-09-06T00:00:00.000+0000",
         17
        ],
        [
         "2018-08-06T00:00:00.000+0000",
         17
        ],
        [
         "2019-01-11T00:00:00.000+0000",
         17
        ],
        [
         "2016-01-26T00:00:00.000+0000",
         17
        ],
        [
         "2017-03-29T00:00:00.000+0000",
         17
        ],
        [
         "2020-07-27T00:00:00.000+0000",
         17
        ],
        [
         "2019-08-12T00:00:00.000+0000",
         17
        ],
        [
         "2016-08-02T00:00:00.000+0000",
         17
        ],
        [
         "2022-01-05T00:00:00.000+0000",
         17
        ],
        [
         "2017-03-09T00:00:00.000+0000",
         17
        ],
        [
         "2017-09-18T00:00:00.000+0000",
         17
        ],
        [
         "2018-12-26T00:00:00.000+0000",
         17
        ],
        [
         "2015-08-31T00:00:00.000+0000",
         17
        ],
        [
         "2014-12-04T00:00:00.000+0000",
         17
        ],
        [
         "2017-05-23T00:00:00.000+0000",
         17
        ],
        [
         "2017-04-20T00:00:00.000+0000",
         17
        ],
        [
         "2021-05-10T00:00:00.000+0000",
         17
        ],
        [
         "2016-10-18T00:00:00.000+0000",
         17
        ],
        [
         "2015-11-02T00:00:00.000+0000",
         17
        ],
        [
         "2017-03-02T00:00:00.000+0000",
         17
        ],
        [
         "2015-09-23T00:00:00.000+0000",
         17
        ],
        [
         "2019-10-14T00:00:00.000+0000",
         17
        ],
        [
         "2015-11-05T00:00:00.000+0000",
         17
        ],
        [
         "2018-09-11T00:00:00.000+0000",
         17
        ],
        [
         "2019-07-17T00:00:00.000+0000",
         17
        ],
        [
         "2016-11-10T00:00:00.000+0000",
         17
        ],
        [
         "2016-03-01T00:00:00.000+0000",
         17
        ],
        [
         "2016-08-24T00:00:00.000+0000",
         17
        ],
        [
         "2020-04-07T00:00:00.000+0000",
         17
        ],
        [
         "2016-09-26T00:00:00.000+0000",
         17
        ],
        [
         "2019-09-09T00:00:00.000+0000",
         17
        ],
        [
         "2021-09-20T00:00:00.000+0000",
         17
        ],
        [
         "2019-03-20T00:00:00.000+0000",
         17
        ],
        [
         "2019-07-24T00:00:00.000+0000",
         17
        ],
        [
         "2017-11-27T00:00:00.000+0000",
         17
        ],
        [
         "2018-02-21T00:00:00.000+0000",
         17
        ],
        [
         "2020-03-17T00:00:00.000+0000",
         17
        ],
        [
         "2020-04-08T00:00:00.000+0000",
         17
        ],
        [
         "2016-03-25T00:00:00.000+0000",
         17
        ],
        [
         "2015-08-20T00:00:00.000+0000",
         17
        ],
        [
         "2020-07-07T00:00:00.000+0000",
         17
        ],
        [
         "2017-02-20T00:00:00.000+0000",
         17
        ],
        [
         "2019-06-18T00:00:00.000+0000",
         16
        ],
        [
         "2016-02-01T00:00:00.000+0000",
         16
        ],
        [
         "2019-12-23T00:00:00.000+0000",
         16
        ],
        [
         "2019-01-29T00:00:00.000+0000",
         16
        ],
        [
         "2017-09-05T00:00:00.000+0000",
         16
        ],
        [
         "2017-11-23T00:00:00.000+0000",
         16
        ],
        [
         "2015-08-21T00:00:00.000+0000",
         16
        ],
        [
         "2016-07-25T00:00:00.000+0000",
         16
        ],
        [
         "2015-02-13T00:00:00.000+0000",
         16
        ],
        [
         "2019-04-10T00:00:00.000+0000",
         16
        ],
        [
         "2016-08-10T00:00:00.000+0000",
         16
        ],
        [
         "2022-06-06T00:00:00.000+0000",
         16
        ],
        [
         "2016-07-15T00:00:00.000+0000",
         16
        ],
        [
         "2015-07-30T00:00:00.000+0000",
         16
        ],
        [
         "2019-04-02T00:00:00.000+0000",
         16
        ],
        [
         "2021-04-19T00:00:00.000+0000",
         16
        ],
        [
         "2020-05-31T00:00:00.000+0000",
         16
        ],
        [
         "2021-01-01T00:00:00.000+0000",
         16
        ],
        [
         "2020-03-25T00:00:00.000+0000",
         16
        ],
        [
         "2017-03-23T00:00:00.000+0000",
         16
        ],
        [
         "2016-09-23T00:00:00.000+0000",
         16
        ],
        [
         "2016-09-12T00:00:00.000+0000",
         16
        ],
        [
         "2021-12-04T00:00:00.000+0000",
         16
        ],
        [
         "2020-05-06T00:00:00.000+0000",
         16
        ],
        [
         "2021-10-02T00:00:00.000+0000",
         16
        ],
        [
         "2021-07-07T00:00:00.000+0000",
         16
        ],
        [
         "2022-03-21T00:00:00.000+0000",
         16
        ],
        [
         "2021-01-13T00:00:00.000+0000",
         16
        ],
        [
         "2016-06-09T00:00:00.000+0000",
         16
        ],
        [
         "2016-09-09T00:00:00.000+0000",
         16
        ],
        [
         "2020-07-08T00:00:00.000+0000",
         16
        ],
        [
         "2022-05-17T00:00:00.000+0000",
         16
        ],
        [
         "2018-03-19T00:00:00.000+0000",
         16
        ],
        [
         "2015-10-01T00:00:00.000+0000",
         16
        ],
        [
         "2006-08-30T00:00:00.000+0000",
         16
        ],
        [
         "2017-04-06T00:00:00.000+0000",
         16
        ],
        [
         "2018-02-16T00:00:00.000+0000",
         16
        ],
        [
         "2015-08-27T00:00:00.000+0000",
         16
        ],
        [
         "2016-01-08T00:00:00.000+0000",
         16
        ],
        [
         "2017-05-24T00:00:00.000+0000",
         16
        ],
        [
         "2016-01-19T00:00:00.000+0000",
         16
        ],
        [
         "2017-02-22T00:00:00.000+0000",
         16
        ],
        [
         "2015-05-22T00:00:00.000+0000",
         16
        ],
        [
         "2018-01-17T00:00:00.000+0000",
         16
        ],
        [
         "2017-01-24T00:00:00.000+0000",
         16
        ],
        [
         "2022-04-12T00:00:00.000+0000",
         16
        ],
        [
         "2016-12-05T00:00:00.000+0000",
         16
        ],
        [
         "2016-11-29T00:00:00.000+0000",
         16
        ],
        [
         "2017-07-18T00:00:00.000+0000",
         16
        ],
        [
         "2014-05-30T00:00:00.000+0000",
         16
        ],
        [
         "2019-05-14T00:00:00.000+0000",
         16
        ],
        [
         "2016-01-15T00:00:00.000+0000",
         16
        ],
        [
         "2017-06-30T00:00:00.000+0000",
         16
        ],
        [
         "2019-06-05T00:00:00.000+0000",
         16
        ],
        [
         "2021-05-24T00:00:00.000+0000",
         16
        ],
        [
         "2015-05-11T00:00:00.000+0000",
         16
        ],
        [
         "2015-08-14T00:00:00.000+0000",
         16
        ],
        [
         "2022-09-21T00:00:00.000+0000",
         16
        ],
        [
         "2017-01-16T00:00:00.000+0000",
         16
        ],
        [
         "2016-06-16T00:00:00.000+0000",
         16
        ],
        [
         "2016-09-05T00:00:00.000+0000",
         16
        ],
        [
         "2018-01-04T00:00:00.000+0000",
         16
        ],
        [
         "2017-02-03T00:00:00.000+0000",
         16
        ],
        [
         "2019-04-16T00:00:00.000+0000",
         16
        ],
        [
         "2015-01-30T00:00:00.000+0000",
         16
        ],
        [
         "2019-01-09T00:00:00.000+0000",
         16
        ],
        [
         "2015-10-16T00:00:00.000+0000",
         16
        ],
        [
         "2019-09-25T00:00:00.000+0000",
         16
        ],
        [
         "2015-07-16T00:00:00.000+0000",
         16
        ],
        [
         "2020-01-20T00:00:00.000+0000",
         16
        ],
        [
         "2022-01-03T00:00:00.000+0000",
         15
        ],
        [
         "2019-02-05T00:00:00.000+0000",
         15
        ],
        [
         "2019-03-27T00:00:00.000+0000",
         15
        ],
        [
         "2015-02-19T00:00:00.000+0000",
         15
        ],
        [
         "2022-04-11T00:00:00.000+0000",
         15
        ],
        [
         "2015-09-17T00:00:00.000+0000",
         15
        ],
        [
         "2016-08-18T00:00:00.000+0000",
         15
        ],
        [
         "2021-10-16T00:00:00.000+0000",
         15
        ],
        [
         "2016-10-31T00:00:00.000+0000",
         15
        ],
        [
         "2020-04-13T00:00:00.000+0000",
         15
        ],
        [
         "2016-04-07T00:00:00.000+0000",
         15
        ],
        [
         "2016-05-12T00:00:00.000+0000",
         15
        ],
        [
         "2016-06-22T00:00:00.000+0000",
         15
        ],
        [
         "2016-04-01T00:00:00.000+0000",
         15
        ],
        [
         "2015-10-15T00:00:00.000+0000",
         15
        ],
        [
         "2019-03-19T00:00:00.000+0000",
         15
        ],
        [
         "2022-07-04T00:00:00.000+0000",
         15
        ],
        [
         "2016-10-05T00:00:00.000+0000",
         15
        ],
        [
         "2017-01-12T00:00:00.000+0000",
         15
        ],
        [
         "2017-07-10T00:00:00.000+0000",
         15
        ],
        [
         "2018-12-31T00:00:00.000+0000",
         15
        ],
        [
         "2016-09-15T00:00:00.000+0000",
         15
        ],
        [
         "2021-08-03T00:00:00.000+0000",
         15
        ],
        [
         "2014-05-15T00:00:00.000+0000",
         15
        ],
        [
         "2015-06-05T00:00:00.000+0000",
         15
        ],
        [
         "2015-03-25T00:00:00.000+0000",
         15
        ],
        [
         "2016-10-17T00:00:00.000+0000",
         15
        ],
        [
         "2016-12-09T00:00:00.000+0000",
         15
        ],
        [
         "2015-07-17T00:00:00.000+0000",
         15
        ],
        [
         "2017-11-06T00:00:00.000+0000",
         15
        ],
        [
         "2018-06-25T00:00:00.000+0000",
         15
        ],
        [
         "2021-07-12T00:00:00.000+0000",
         15
        ],
        [
         "2016-11-23T00:00:00.000+0000",
         15
        ],
        [
         "2016-10-03T00:00:00.000+0000",
         15
        ],
        [
         "2022-06-13T00:00:00.000+0000",
         15
        ],
        [
         "2015-12-03T00:00:00.000+0000",
         15
        ],
        [
         "2017-01-17T00:00:00.000+0000",
         15
        ],
        [
         "2021-05-11T00:00:00.000+0000",
         15
        ],
        [
         "2015-07-23T00:00:00.000+0000",
         15
        ],
        [
         "2016-08-17T00:00:00.000+0000",
         15
        ],
        [
         "2022-02-23T00:00:00.000+0000",
         15
        ],
        [
         "2016-06-21T00:00:00.000+0000",
         15
        ],
        [
         "2014-05-01T00:00:00.000+0000",
         15
        ],
        [
         "2015-04-01T00:00:00.000+0000",
         15
        ],
        [
         "2017-09-04T00:00:00.000+0000",
         15
        ],
        [
         "2018-10-08T00:00:00.000+0000",
         15
        ],
        [
         "2017-12-28T00:00:00.000+0000",
         15
        ],
        [
         "2016-12-06T00:00:00.000+0000",
         15
        ],
        [
         "2015-07-31T00:00:00.000+0000",
         15
        ],
        [
         "2016-08-16T00:00:00.000+0000",
         15
        ],
        [
         "2016-11-28T00:00:00.000+0000",
         15
        ],
        [
         "2016-06-10T00:00:00.000+0000",
         15
        ],
        [
         "2016-09-14T00:00:00.000+0000",
         15
        ],
        [
         "2016-09-13T00:00:00.000+0000",
         15
        ],
        [
         "2017-03-06T00:00:00.000+0000",
         15
        ],
        [
         "2016-09-28T00:00:00.000+0000",
         15
        ],
        [
         "2022-04-18T00:00:00.000+0000",
         15
        ],
        [
         "2022-10-04T00:00:00.000+0000",
         15
        ],
        [
         "2020-06-08T00:00:00.000+0000",
         15
        ],
        [
         "2017-06-19T00:00:00.000+0000",
         15
        ],
        [
         "2016-01-29T00:00:00.000+0000",
         15
        ],
        [
         "2021-04-21T00:00:00.000+0000",
         15
        ],
        [
         "2017-02-06T00:00:00.000+0000",
         15
        ],
        [
         "2020-06-03T00:00:00.000+0000",
         15
        ],
        [
         "2015-11-09T00:00:00.000+0000",
         15
        ],
        [
         "2017-05-25T00:00:00.000+0000",
         15
        ],
        [
         "2016-04-14T00:00:00.000+0000",
         15
        ],
        [
         "2016-08-03T00:00:00.000+0000",
         15
        ],
        [
         "2021-04-06T00:00:00.000+0000",
         15
        ],
        [
         "2015-05-29T00:00:00.000+0000",
         15
        ],
        [
         "2016-10-13T00:00:00.000+0000",
         15
        ],
        [
         "2016-10-04T00:00:00.000+0000",
         15
        ],
        [
         "2018-07-04T00:00:00.000+0000",
         15
        ],
        [
         "2015-02-24T00:00:00.000+0000",
         15
        ],
        [
         "2016-02-15T00:00:00.000+0000",
         15
        ],
        [
         "2014-05-16T00:00:00.000+0000",
         15
        ],
        [
         "2015-08-25T00:00:00.000+0000",
         15
        ],
        [
         "2016-05-26T00:00:00.000+0000",
         15
        ],
        [
         "2016-05-17T00:00:00.000+0000",
         15
        ],
        [
         "2021-09-22T00:00:00.000+0000",
         15
        ],
        [
         "2017-01-05T00:00:00.000+0000",
         15
        ],
        [
         "2019-10-28T00:00:00.000+0000",
         15
        ],
        [
         "2016-11-14T00:00:00.000+0000",
         14
        ],
        [
         "2020-02-11T00:00:00.000+0000",
         14
        ],
        [
         "2017-04-19T00:00:00.000+0000",
         14
        ],
        [
         "2016-01-21T00:00:00.000+0000",
         14
        ],
        [
         "2020-01-22T00:00:00.000+0000",
         14
        ],
        [
         "2019-03-04T00:00:00.000+0000",
         14
        ],
        [
         "2015-04-27T00:00:00.000+0000",
         14
        ],
        [
         "2016-03-30T00:00:00.000+0000",
         14
        ],
        [
         "2015-05-25T00:00:00.000+0000",
         14
        ],
        [
         "2016-08-01T00:00:00.000+0000",
         14
        ],
        [
         "2010-04-21T00:00:00.000+0000",
         14
        ],
        [
         "2017-03-07T00:00:00.000+0000",
         14
        ],
        [
         "2017-05-16T00:00:00.000+0000",
         14
        ],
        [
         "2020-04-19T00:00:00.000+0000",
         14
        ],
        [
         "2015-01-26T00:00:00.000+0000",
         14
        ],
        [
         "2016-03-07T00:00:00.000+0000",
         14
        ],
        [
         "2021-07-19T00:00:00.000+0000",
         14
        ],
        [
         "2009-06-18T00:00:00.000+0000",
         14
        ],
        [
         "2021-07-25T00:00:00.000+0000",
         14
        ],
        [
         "2015-04-30T00:00:00.000+0000",
         14
        ],
        [
         "2022-10-01T00:00:00.000+0000",
         14
        ],
        [
         "2022-02-27T00:00:00.000+0000",
         14
        ],
        [
         "2015-10-09T00:00:00.000+0000",
         14
        ],
        [
         "2017-07-11T00:00:00.000+0000",
         14
        ],
        [
         "2016-05-20T00:00:00.000+0000",
         14
        ],
        [
         "2022-08-27T00:00:00.000+0000",
         14
        ],
        [
         "2013-11-05T00:00:00.000+0000",
         14
        ],
        [
         "2016-12-23T00:00:00.000+0000",
         14
        ],
        [
         "2017-02-28T00:00:00.000+0000",
         14
        ],
        [
         "2021-11-06T00:00:00.000+0000",
         14
        ],
        [
         "2018-01-08T00:00:00.000+0000",
         14
        ],
        [
         "2016-06-15T00:00:00.000+0000",
         14
        ],
        [
         "2019-07-05T00:00:00.000+0000",
         14
        ],
        [
         "2016-08-22T00:00:00.000+0000",
         14
        ],
        [
         "2016-04-27T00:00:00.000+0000",
         14
        ],
        [
         "2015-05-15T00:00:00.000+0000",
         14
        ],
        [
         "2016-07-13T00:00:00.000+0000",
         14
        ],
        [
         "2020-11-01T00:00:00.000+0000",
         14
        ],
        [
         "2019-06-10T00:00:00.000+0000",
         14
        ],
        [
         "2015-05-26T00:00:00.000+0000",
         14
        ],
        [
         "2016-02-19T00:00:00.000+0000",
         14
        ],
        [
         "2017-05-15T00:00:00.000+0000",
         14
        ],
        [
         "2016-05-05T00:00:00.000+0000",
         14
        ],
        [
         "2015-05-01T00:00:00.000+0000",
         14
        ],
        [
         "2016-08-19T00:00:00.000+0000",
         14
        ],
        [
         "2015-07-24T00:00:00.000+0000",
         14
        ],
        [
         "2016-04-08T00:00:00.000+0000",
         14
        ],
        [
         "2016-03-22T00:00:00.000+0000",
         14
        ],
        [
         "2017-06-23T00:00:00.000+0000",
         14
        ],
        [
         "2020-03-24T00:00:00.000+0000",
         14
        ],
        [
         "2017-05-01T00:00:00.000+0000",
         14
        ],
        [
         "2015-04-02T00:00:00.000+0000",
         14
        ],
        [
         "2016-02-29T00:00:00.000+0000",
         14
        ],
        [
         "2017-06-27T00:00:00.000+0000",
         14
        ],
        [
         "2015-08-24T00:00:00.000+0000",
         14
        ],
        [
         "2016-12-28T00:00:00.000+0000",
         14
        ],
        [
         "2017-06-29T00:00:00.000+0000",
         14
        ],
        [
         "2015-04-28T00:00:00.000+0000",
         14
        ],
        [
         "2017-04-14T00:00:00.000+0000",
         14
        ],
        [
         "2019-06-12T00:00:00.000+0000",
         14
        ],
        [
         "2020-12-20T00:00:00.000+0000",
         14
        ],
        [
         "2015-05-08T00:00:00.000+0000",
         14
        ],
        [
         "2019-05-08T00:00:00.000+0000",
         14
        ],
        [
         "2015-01-29T00:00:00.000+0000",
         14
        ],
        [
         "2016-11-25T00:00:00.000+0000",
         14
        ],
        [
         "2020-09-14T00:00:00.000+0000",
         14
        ],
        [
         "2017-03-27T00:00:00.000+0000",
         14
        ],
        [
         "2015-09-29T00:00:00.000+0000",
         14
        ],
        [
         "2021-07-06T00:00:00.000+0000",
         13
        ],
        [
         "2015-03-27T00:00:00.000+0000",
         13
        ],
        [
         "2015-10-19T00:00:00.000+0000",
         13
        ],
        [
         "2016-01-22T00:00:00.000+0000",
         13
        ],
        [
         "2014-06-16T00:00:00.000+0000",
         13
        ],
        [
         "2015-11-06T00:00:00.000+0000",
         13
        ],
        [
         "2022-10-22T00:00:00.000+0000",
         13
        ],
        [
         "2014-10-23T00:00:00.000+0000",
         13
        ],
        [
         "2015-07-10T00:00:00.000+0000",
         13
        ],
        [
         "2020-06-02T00:00:00.000+0000",
         13
        ],
        [
         "2015-05-21T00:00:00.000+0000",
         13
        ],
        [
         "2015-10-29T00:00:00.000+0000",
         13
        ],
        [
         "2015-08-28T00:00:00.000+0000",
         13
        ],
        [
         "2017-01-27T00:00:00.000+0000",
         13
        ],
        [
         "2015-08-18T00:00:00.000+0000",
         13
        ],
        [
         "2021-02-27T00:00:00.000+0000",
         13
        ],
        [
         "2016-03-28T00:00:00.000+0000",
         13
        ],
        [
         "2018-04-09T00:00:00.000+0000",
         13
        ],
        [
         "2014-11-20T00:00:00.000+0000",
         13
        ],
        [
         "2015-06-26T00:00:00.000+0000",
         13
        ],
        [
         "2019-08-20T00:00:00.000+0000",
         13
        ],
        [
         "2019-07-15T00:00:00.000+0000",
         13
        ],
        [
         "2016-08-15T00:00:00.000+0000",
         13
        ],
        [
         "2020-05-16T00:00:00.000+0000",
         13
        ],
        [
         "2018-09-01T00:00:00.000+0000",
         13
        ],
        [
         "2018-01-03T00:00:00.000+0000",
         13
        ],
        [
         "2016-12-12T00:00:00.000+0000",
         13
        ],
        [
         "2020-01-07T00:00:00.000+0000",
         13
        ],
        [
         "2017-03-21T00:00:00.000+0000",
         13
        ],
        [
         "2010-10-26T00:00:00.000+0000",
         13
        ],
        [
         "2019-07-22T00:00:00.000+0000",
         13
        ],
        [
         "2022-01-15T00:00:00.000+0000",
         13
        ],
        [
         "2016-04-20T00:00:00.000+0000",
         13
        ],
        [
         "2017-08-21T00:00:00.000+0000",
         13
        ],
        [
         "2016-06-06T00:00:00.000+0000",
         13
        ],
        [
         "2017-06-21T00:00:00.000+0000",
         13
        ],
        [
         "2017-08-18T00:00:00.000+0000",
         13
        ],
        [
         "2018-07-03T00:00:00.000+0000",
         13
        ],
        [
         "2016-08-30T00:00:00.000+0000",
         13
        ],
        [
         "2022-04-25T00:00:00.000+0000",
         13
        ],
        [
         "2016-07-28T00:00:00.000+0000",
         13
        ],
        [
         "2022-04-16T00:00:00.000+0000",
         13
        ],
        [
         "2017-02-07T00:00:00.000+0000",
         13
        ],
        [
         "2016-11-08T00:00:00.000+0000",
         13
        ],
        [
         "2014-07-17T00:00:00.000+0000",
         13
        ],
        [
         "2020-07-04T00:00:00.000+0000",
         13
        ],
        [
         "2016-09-21T00:00:00.000+0000",
         13
        ],
        [
         "2017-05-03T00:00:00.000+0000",
         13
        ],
        [
         "2017-04-24T00:00:00.000+0000",
         13
        ],
        [
         "2015-05-12T00:00:00.000+0000",
         13
        ],
        [
         "2015-12-04T00:00:00.000+0000",
         13
        ],
        [
         "2022-10-30T00:00:00.000+0000",
         13
        ],
        [
         "2014-04-24T00:00:00.000+0000",
         13
        ],
        [
         "2017-01-10T00:00:00.000+0000",
         13
        ],
        [
         "2017-07-04T00:00:00.000+0000",
         13
        ],
        [
         "2016-03-11T00:00:00.000+0000",
         12
        ],
        [
         "2022-06-18T00:00:00.000+0000",
         12
        ],
        [
         "2014-03-27T00:00:00.000+0000",
         12
        ],
        [
         "2017-06-12T00:00:00.000+0000",
         12
        ],
        [
         "2016-02-03T00:00:00.000+0000",
         12
        ],
        [
         "2016-04-15T00:00:00.000+0000",
         12
        ],
        [
         "2021-02-21T00:00:00.000+0000",
         12
        ],
        [
         "2019-10-26T00:00:00.000+0000",
         12
        ],
        [
         "2020-01-05T00:00:00.000+0000",
         12
        ],
        [
         "2016-09-06T00:00:00.000+0000",
         12
        ],
        [
         "2019-11-13T00:00:00.000+0000",
         12
        ],
        [
         "2017-01-02T00:00:00.000+0000",
         12
        ],
        [
         "2022-09-03T00:00:00.000+0000",
         12
        ],
        [
         "2015-03-26T00:00:00.000+0000",
         12
        ],
        [
         "2015-09-16T00:00:00.000+0000",
         12
        ],
        [
         "2022-07-06T00:00:00.000+0000",
         12
        ],
        [
         "2016-05-03T00:00:00.000+0000",
         12
        ],
        [
         "2021-11-22T00:00:00.000+0000",
         12
        ],
        [
         "2015-02-02T00:00:00.000+0000",
         12
        ],
        [
         "2015-04-16T00:00:00.000+0000",
         12
        ],
        [
         "2016-02-26T00:00:00.000+0000",
         12
        ],
        [
         "2022-01-04T00:00:00.000+0000",
         12
        ],
        [
         "2019-07-04T00:00:00.000+0000",
         12
        ],
        [
         "2017-01-25T00:00:00.000+0000",
         12
        ],
        [
         "2015-12-15T00:00:00.000+0000",
         12
        ],
        [
         "2014-05-08T00:00:00.000+0000",
         12
        ],
        [
         "2014-07-03T00:00:00.000+0000",
         12
        ],
        [
         "2010-06-01T00:00:00.000+0000",
         12
        ],
        [
         "2015-07-28T00:00:00.000+0000",
         12
        ],
        [
         "2017-05-09T00:00:00.000+0000",
         12
        ],
        [
         "2016-08-11T00:00:00.000+0000",
         12
        ],
        [
         "2021-06-05T00:00:00.000+0000",
         12
        ],
        [
         "2019-02-12T00:00:00.000+0000",
         12
        ],
        [
         "2018-06-02T00:00:00.000+0000",
         12
        ],
        [
         "2019-10-02T00:00:00.000+0000",
         12
        ],
        [
         "2021-05-01T00:00:00.000+0000",
         12
        ],
        [
         "2018-12-27T00:00:00.000+0000",
         12
        ],
        [
         "2014-09-15T00:00:00.000+0000",
         12
        ],
        [
         "2021-10-30T00:00:00.000+0000",
         12
        ],
        [
         "2022-07-05T00:00:00.000+0000",
         12
        ],
        [
         "2016-02-24T00:00:00.000+0000",
         12
        ],
        [
         "2017-04-12T00:00:00.000+0000",
         12
        ],
        [
         "2016-06-20T00:00:00.000+0000",
         12
        ],
        [
         "2022-02-19T00:00:00.000+0000",
         12
        ],
        [
         "2015-02-12T00:00:00.000+0000",
         12
        ],
        [
         "2015-07-06T00:00:00.000+0000",
         12
        ],
        [
         "2020-11-29T00:00:00.000+0000",
         12
        ],
        [
         "2015-02-25T00:00:00.000+0000",
         12
        ],
        [
         "2016-05-13T00:00:00.000+0000",
         12
        ],
        [
         "2017-04-03T00:00:00.000+0000",
         12
        ],
        [
         "2016-01-27T00:00:00.000+0000",
         12
        ],
        [
         "2014-12-11T00:00:00.000+0000",
         12
        ],
        [
         "2014-05-22T00:00:00.000+0000",
         12
        ],
        [
         "2022-07-02T00:00:00.000+0000",
         12
        ],
        [
         "2017-06-05T00:00:00.000+0000",
         12
        ],
        [
         "2015-06-02T00:00:00.000+0000",
         12
        ],
        [
         "2022-01-30T00:00:00.000+0000",
         12
        ],
        [
         "2020-07-19T00:00:00.000+0000",
         12
        ],
        [
         "2020-07-12T00:00:00.000+0000",
         12
        ],
        [
         "2015-12-02T00:00:00.000+0000",
         12
        ],
        [
         "2015-10-02T00:00:00.000+0000",
         12
        ],
        [
         "2015-09-02T00:00:00.000+0000",
         12
        ],
        [
         "2017-06-28T00:00:00.000+0000",
         12
        ],
        [
         "2019-04-23T00:00:00.000+0000",
         12
        ],
        [
         "2015-04-24T00:00:00.000+0000",
         12
        ],
        [
         "2017-01-11T00:00:00.000+0000",
         12
        ],
        [
         "2020-01-12T00:00:00.000+0000",
         12
        ],
        [
         "2015-08-03T00:00:00.000+0000",
         12
        ],
        [
         "2016-02-22T00:00:00.000+0000",
         12
        ],
        [
         "2014-11-14T00:00:00.000+0000",
         12
        ],
        [
         "2015-01-16T00:00:00.000+0000",
         12
        ],
        [
         "2021-08-01T00:00:00.000+0000",
         12
        ],
        [
         "2017-01-23T00:00:00.000+0000",
         12
        ],
        [
         "2014-08-22T00:00:00.000+0000",
         12
        ],
        [
         "2015-11-23T00:00:00.000+0000",
         12
        ],
        [
         "2022-01-08T00:00:00.000+0000",
         12
        ],
        [
         "2014-10-30T00:00:00.000+0000",
         12
        ],
        [
         "2016-03-10T00:00:00.000+0000",
         11
        ],
        [
         "2015-01-08T00:00:00.000+0000",
         11
        ],
        [
         "2022-04-30T00:00:00.000+0000",
         11
        ],
        [
         "2022-07-16T00:00:00.000+0000",
         11
        ],
        [
         "2017-06-06T00:00:00.000+0000",
         11
        ],
        [
         "2019-06-26T00:00:00.000+0000",
         11
        ],
        [
         "2015-07-09T00:00:00.000+0000",
         11
        ],
        [
         "2018-01-02T00:00:00.000+0000",
         11
        ],
        [
         "2012-11-28T00:00:00.000+0000",
         11
        ],
        [
         "2015-07-08T00:00:00.000+0000",
         11
        ],
        [
         "2021-10-11T00:00:00.000+0000",
         11
        ],
        [
         "2015-09-11T00:00:00.000+0000",
         11
        ],
        [
         "2015-10-28T00:00:00.000+0000",
         11
        ],
        [
         "2020-07-18T00:00:00.000+0000",
         11
        ],
        [
         "2020-10-31T00:00:00.000+0000",
         11
        ],
        [
         "2022-03-13T00:00:00.000+0000",
         11
        ],
        [
         "2015-07-07T00:00:00.000+0000",
         11
        ],
        [
         "2016-03-16T00:00:00.000+0000",
         11
        ],
        [
         "2015-11-13T00:00:00.000+0000",
         11
        ],
        [
         "2016-07-18T00:00:00.000+0000",
         11
        ],
        [
         "2020-04-06T00:00:00.000+0000",
         11
        ],
        [
         "2016-05-10T00:00:00.000+0000",
         11
        ],
        [
         "2016-07-11T00:00:00.000+0000",
         11
        ],
        [
         "2016-03-23T00:00:00.000+0000",
         11
        ],
        [
         "2016-03-21T00:00:00.000+0000",
         11
        ],
        [
         "2016-06-23T00:00:00.000+0000",
         11
        ],
        [
         "2016-02-02T00:00:00.000+0000",
         11
        ],
        [
         "2017-04-10T00:00:00.000+0000",
         11
        ],
        [
         "2015-09-15T00:00:00.000+0000",
         11
        ],
        [
         "2018-01-01T00:00:00.000+0000",
         11
        ],
        [
         "2021-08-28T00:00:00.000+0000",
         11
        ],
        [
         "2014-10-24T00:00:00.000+0000",
         11
        ],
        [
         "2014-10-17T00:00:00.000+0000",
         11
        ],
        [
         "2015-05-04T00:00:00.000+0000",
         11
        ],
        [
         "2014-06-12T00:00:00.000+0000",
         11
        ],
        [
         "2017-03-13T00:00:00.000+0000",
         11
        ],
        [
         "2021-11-07T00:00:00.000+0000",
         11
        ],
        [
         "2015-02-04T00:00:00.000+0000",
         11
        ],
        [
         "2014-04-16T00:00:00.000+0000",
         11
        ],
        [
         "2021-02-09T00:00:00.000+0000",
         11
        ],
        [
         "2022-01-16T00:00:00.000+0000",
         11
        ],
        [
         "2015-06-30T00:00:00.000+0000",
         11
        ],
        [
         "2015-10-13T00:00:00.000+0000",
         11
        ],
        [
         "2015-11-19T00:00:00.000+0000",
         11
        ],
        [
         "2019-12-26T00:00:00.000+0000",
         11
        ],
        [
         "2014-11-07T00:00:00.000+0000",
         11
        ],
        [
         "2015-07-29T00:00:00.000+0000",
         11
        ],
        [
         "2017-07-05T00:00:00.000+0000",
         11
        ],
        [
         "2016-08-05T00:00:00.000+0000",
         11
        ],
        [
         "2015-12-01T00:00:00.000+0000",
         11
        ],
        [
         "2022-05-14T00:00:00.000+0000",
         11
        ],
        [
         "2015-04-20T00:00:00.000+0000",
         11
        ],
        [
         "2020-06-07T00:00:00.000+0000",
         11
        ],
        [
         "2015-12-07T00:00:00.000+0000",
         11
        ],
        [
         "2015-04-17T00:00:00.000+0000",
         11
        ],
        [
         "2014-05-21T00:00:00.000+0000",
         11
        ],
        [
         "2016-01-11T00:00:00.000+0000",
         11
        ],
        [
         "2015-05-14T00:00:00.000+0000",
         11
        ],
        [
         "2021-02-20T00:00:00.000+0000",
         11
        ],
        [
         "2015-04-10T00:00:00.000+0000",
         11
        ],
        [
         "2017-12-26T00:00:00.000+0000",
         11
        ],
        [
         "2022-06-12T00:00:00.000+0000",
         11
        ],
        [
         "2021-10-31T00:00:00.000+0000",
         11
        ],
        [
         "2016-07-20T00:00:00.000+0000",
         11
        ],
        [
         "2019-01-08T00:00:00.000+0000",
         11
        ],
        [
         "2016-08-12T00:00:00.000+0000",
         11
        ],
        [
         "2021-01-24T00:00:00.000+0000",
         11
        ],
        [
         "2016-02-16T00:00:00.000+0000",
         11
        ],
        [
         "2016-06-13T00:00:00.000+0000",
         11
        ],
        [
         "2022-02-13T00:00:00.000+0000",
         11
        ],
        [
         "2022-03-27T00:00:00.000+0000",
         11
        ],
        [
         "2020-05-23T00:00:00.000+0000",
         11
        ],
        [
         "2017-07-24T00:00:00.000+0000",
         11
        ],
        [
         "2022-06-04T00:00:00.000+0000",
         11
        ],
        [
         "2015-04-22T00:00:00.000+0000",
         11
        ],
        [
         "2014-05-29T00:00:00.000+0000",
         11
        ],
        [
         "2016-10-10T00:00:00.000+0000",
         11
        ],
        [
         "2015-01-15T00:00:00.000+0000",
         11
        ],
        [
         "2015-03-30T00:00:00.000+0000",
         10
        ],
        [
         "2020-04-18T00:00:00.000+0000",
         10
        ],
        [
         "2021-03-20T00:00:00.000+0000",
         10
        ],
        [
         "2015-03-02T00:00:00.000+0000",
         10
        ],
        [
         "2022-03-12T00:00:00.000+0000",
         10
        ],
        [
         "2014-08-08T00:00:00.000+0000",
         10
        ],
        [
         "2022-04-24T00:00:00.000+0000",
         10
        ],
        [
         "2021-03-06T00:00:00.000+0000",
         10
        ],
        [
         "2022-01-23T00:00:00.000+0000",
         10
        ],
        [
         "2022-03-06T00:00:00.000+0000",
         10
        ],
        [
         "2015-07-15T00:00:00.000+0000",
         10
        ],
        [
         "2014-02-13T00:00:00.000+0000",
         10
        ],
        [
         "2017-06-07T00:00:00.000+0000",
         10
        ],
        [
         "2014-07-09T00:00:00.000+0000",
         10
        ],
        [
         "2015-09-18T00:00:00.000+0000",
         10
        ],
        [
         "2018-04-29T00:00:00.000+0000",
         10
        ],
        [
         "2021-08-22T00:00:00.000+0000",
         10
        ],
        [
         "2021-12-18T00:00:00.000+0000",
         10
        ],
        [
         "2018-09-30T00:00:00.000+0000",
         10
        ],
        [
         "2015-10-20T00:00:00.000+0000",
         10
        ],
        [
         "2020-08-30T00:00:00.000+0000",
         10
        ],
        [
         "2014-07-15T00:00:00.000+0000",
         10
        ],
        [
         "2015-06-03T00:00:00.000+0000",
         10
        ],
        [
         "2019-12-27T00:00:00.000+0000",
         10
        ],
        [
         "2015-10-30T00:00:00.000+0000",
         10
        ],
        [
         "2019-01-14T00:00:00.000+0000",
         10
        ],
        [
         "2016-05-18T00:00:00.000+0000",
         10
        ],
        [
         "2016-02-17T00:00:00.000+0000",
         10
        ],
        [
         "2015-09-22T00:00:00.000+0000",
         10
        ],
        [
         "2019-12-08T00:00:00.000+0000",
         10
        ],
        [
         "2021-03-14T00:00:00.000+0000",
         10
        ],
        [
         "2017-03-01T00:00:00.000+0000",
         10
        ],
        [
         "2017-01-04T00:00:00.000+0000",
         10
        ],
        [
         "2015-11-18T00:00:00.000+0000",
         10
        ],
        [
         "2015-09-04T00:00:00.000+0000",
         10
        ],
        [
         "2016-04-18T00:00:00.000+0000",
         10
        ],
        [
         "2018-06-11T00:00:00.000+0000",
         10
        ],
        [
         "2019-11-17T00:00:00.000+0000",
         10
        ],
        [
         "2016-01-28T00:00:00.000+0000",
         10
        ],
        [
         "2021-01-04T00:00:00.000+0000",
         10
        ],
        [
         "2017-03-22T00:00:00.000+0000",
         10
        ],
        [
         "2022-02-12T00:00:00.000+0000",
         10
        ],
        [
         "2022-07-31T00:00:00.000+0000",
         10
        ],
        [
         "2020-02-02T00:00:00.000+0000",
         10
        ],
        [
         "2021-03-27T00:00:00.000+0000",
         10
        ],
        [
         "2014-11-21T00:00:00.000+0000",
         10
        ],
        [
         "2017-07-03T00:00:00.000+0000",
         10
        ],
        [
         "2021-09-11T00:00:00.000+0000",
         10
        ],
        [
         "2014-09-18T00:00:00.000+0000",
         10
        ],
        [
         "2014-03-28T00:00:00.000+0000",
         10
        ],
        [
         "2015-12-08T00:00:00.000+0000",
         10
        ],
        [
         "2015-11-16T00:00:00.000+0000",
         10
        ],
        [
         "2014-07-14T00:00:00.000+0000",
         10
        ],
        [
         "2019-12-25T00:00:00.000+0000",
         10
        ],
        [
         "2015-11-24T00:00:00.000+0000",
         10
        ],
        [
         "2011-01-26T00:00:00.000+0000",
         10
        ],
        [
         "2020-05-09T00:00:00.000+0000",
         10
        ],
        [
         "2015-12-11T00:00:00.000+0000",
         10
        ],
        [
         "2015-08-19T00:00:00.000+0000",
         10
        ],
        [
         "2021-03-13T00:00:00.000+0000",
         10
        ],
        [
         "2021-09-04T00:00:00.000+0000",
         10
        ],
        [
         "2015-11-30T00:00:00.000+0000",
         10
        ],
        [
         "2015-02-03T00:00:00.000+0000",
         10
        ],
        [
         "2015-12-17T00:00:00.000+0000",
         10
        ],
        [
         "2017-06-14T00:00:00.000+0000",
         10
        ],
        [
         "2014-07-11T00:00:00.000+0000",
         10
        ],
        [
         "2020-12-27T00:00:00.000+0000",
         10
        ],
        [
         "2015-02-06T00:00:00.000+0000",
         10
        ],
        [
         "2016-09-07T00:00:00.000+0000",
         10
        ],
        [
         "2015-10-22T00:00:00.000+0000",
         10
        ],
        [
         "2015-06-08T00:00:00.000+0000",
         10
        ],
        [
         "2016-03-02T00:00:00.000+0000",
         10
        ],
        [
         "2015-04-09T00:00:00.000+0000",
         10
        ],
        [
         "2016-04-13T00:00:00.000+0000",
         10
        ],
        [
         "2020-11-14T00:00:00.000+0000",
         10
        ],
        [
         "2016-06-08T00:00:00.000+0000",
         10
        ],
        [
         "2016-05-25T00:00:00.000+0000",
         10
        ],
        [
         "2021-07-31T00:00:00.000+0000",
         10
        ],
        [
         "2009-07-08T00:00:00.000+0000",
         10
        ],
        [
         "2016-10-11T00:00:00.000+0000",
         10
        ],
        [
         "2022-02-20T00:00:00.000+0000",
         10
        ],
        [
         "2016-07-14T00:00:00.000+0000",
         10
        ],
        [
         "2018-03-11T00:00:00.000+0000",
         10
        ],
        [
         "2021-05-02T00:00:00.000+0000",
         10
        ],
        [
         "2014-12-16T00:00:00.000+0000",
         10
        ],
        [
         "2016-03-15T00:00:00.000+0000",
         10
        ],
        [
         "2014-07-01T00:00:00.000+0000",
         10
        ],
        [
         "2014-04-18T00:00:00.000+0000",
         10
        ],
        [
         "2010-09-13T00:00:00.000+0000",
         10
        ],
        [
         "2015-06-24T00:00:00.000+0000",
         10
        ],
        [
         "2015-11-12T00:00:00.000+0000",
         10
        ],
        [
         "2016-10-12T00:00:00.000+0000",
         10
        ],
        [
         "2017-05-08T00:00:00.000+0000",
         10
        ],
        [
         "2019-01-02T00:00:00.000+0000",
         10
        ],
        [
         "2022-09-04T00:00:00.000+0000",
         10
        ],
        [
         "2021-04-03T00:00:00.000+0000",
         10
        ],
        [
         "2015-09-28T00:00:00.000+0000",
         9
        ],
        [
         "2021-12-28T00:00:00.000+0000",
         9
        ],
        [
         "2019-09-07T00:00:00.000+0000",
         9
        ],
        [
         "2014-07-31T00:00:00.000+0000",
         9
        ],
        [
         "2014-08-15T00:00:00.000+0000",
         9
        ],
        [
         "2016-02-23T00:00:00.000+0000",
         9
        ],
        [
         "2015-10-08T00:00:00.000+0000",
         9
        ],
        [
         "2022-07-03T00:00:00.000+0000",
         9
        ],
        [
         "2014-10-28T00:00:00.000+0000",
         9
        ],
        [
         "2015-10-12T00:00:00.000+0000",
         9
        ],
        [
         "2020-01-04T00:00:00.000+0000",
         9
        ],
        [
         "2020-05-17T00:00:00.000+0000",
         9
        ],
        [
         "2015-12-22T00:00:00.000+0000",
         9
        ],
        [
         "2015-06-23T00:00:00.000+0000",
         9
        ],
        [
         "2015-09-10T00:00:00.000+0000",
         9
        ],
        [
         "2018-08-11T00:00:00.000+0000",
         9
        ],
        [
         "2014-07-16T00:00:00.000+0000",
         9
        ],
        [
         "2014-04-15T00:00:00.000+0000",
         9
        ],
        [
         "2022-05-29T00:00:00.000+0000",
         9
        ],
        [
         "2015-01-28T00:00:00.000+0000",
         9
        ],
        [
         "2014-12-18T00:00:00.000+0000",
         9
        ],
        [
         "2015-10-27T00:00:00.000+0000",
         9
        ],
        [
         "2019-07-01T00:00:00.000+0000",
         9
        ],
        [
         "2007-03-15T00:00:00.000+0000",
         9
        ],
        [
         "2014-09-12T00:00:00.000+0000",
         9
        ],
        [
         "2021-02-14T00:00:00.000+0000",
         9
        ],
        [
         "2019-04-06T00:00:00.000+0000",
         9
        ],
        [
         "2021-02-13T00:00:00.000+0000",
         9
        ],
        [
         "2021-05-15T00:00:00.000+0000",
         9
        ],
        [
         "2022-04-02T00:00:00.000+0000",
         9
        ],
        [
         "2015-01-22T00:00:00.000+0000",
         9
        ],
        [
         "2013-12-03T00:00:00.000+0000",
         9
        ],
        [
         "2019-09-21T00:00:00.000+0000",
         9
        ],
        [
         "2015-10-05T00:00:00.000+0000",
         9
        ],
        [
         "2016-05-04T00:00:00.000+0000",
         9
        ],
        [
         "2016-02-11T00:00:00.000+0000",
         9
        ],
        [
         "2020-11-22T00:00:00.000+0000",
         9
        ],
        [
         "2021-07-05T00:00:00.000+0000",
         9
        ],
        [
         "2022-06-27T00:00:00.000+0000",
         9
        ],
        [
         "2015-04-29T00:00:00.000+0000",
         9
        ],
        [
         "2018-12-25T00:00:00.000+0000",
         9
        ],
        [
         "2015-07-20T00:00:00.000+0000",
         9
        ],
        [
         "2015-03-17T00:00:00.000+0000",
         9
        ],
        [
         "2018-12-15T00:00:00.000+0000",
         9
        ],
        [
         "2016-12-29T00:00:00.000+0000",
         9
        ],
        [
         "2021-11-14T00:00:00.000+0000",
         9
        ],
        [
         "2022-09-10T00:00:00.000+0000",
         9
        ],
        [
         "2015-09-01T00:00:00.000+0000",
         9
        ],
        [
         "2014-07-25T00:00:00.000+0000",
         9
        ],
        [
         "2015-08-26T00:00:00.000+0000",
         9
        ],
        [
         "2014-09-16T00:00:00.000+0000",
         9
        ],
        [
         "2016-07-27T00:00:00.000+0000",
         9
        ],
        [
         "2015-07-13T00:00:00.000+0000",
         9
        ],
        [
         "2016-04-25T00:00:00.000+0000",
         9
        ],
        [
         "2020-02-29T00:00:00.000+0000",
         9
        ],
        [
         "2015-01-09T00:00:00.000+0000",
         9
        ],
        [
         "2016-07-06T00:00:00.000+0000",
         9
        ],
        [
         "2021-09-25T00:00:00.000+0000",
         9
        ],
        [
         "2019-01-05T00:00:00.000+0000",
         9
        ],
        [
         "2016-05-02T00:00:00.000+0000",
         9
        ],
        [
         "2017-04-17T00:00:00.000+0000",
         9
        ],
        [
         "2016-01-05T00:00:00.000+0000",
         9
        ],
        [
         "2014-05-23T00:00:00.000+0000",
         9
        ],
        [
         "2014-09-17T00:00:00.000+0000",
         9
        ],
        [
         "2016-09-27T00:00:00.000+0000",
         9
        ],
        [
         "2019-11-10T00:00:00.000+0000",
         9
        ],
        [
         "2018-05-19T00:00:00.000+0000",
         9
        ],
        [
         "2015-11-17T00:00:00.000+0000",
         9
        ],
        [
         "2020-02-15T00:00:00.000+0000",
         9
        ],
        [
         "2022-05-28T00:00:00.000+0000",
         9
        ],
        [
         "2022-10-09T00:00:00.000+0000",
         9
        ],
        [
         "2020-03-07T00:00:00.000+0000",
         9
        ],
        [
         "2021-05-16T00:00:00.000+0000",
         9
        ],
        [
         "2022-03-19T00:00:00.000+0000",
         9
        ],
        [
         "2014-04-23T00:00:00.000+0000",
         9
        ],
        [
         "2012-05-02T00:00:00.000+0000",
         9
        ],
        [
         "2013-12-05T00:00:00.000+0000",
         9
        ],
        [
         "2021-06-12T00:00:00.000+0000",
         9
        ],
        [
         "2020-07-25T00:00:00.000+0000",
         9
        ],
        [
         "2021-01-16T00:00:00.000+0000",
         9
        ],
        [
         "2016-11-24T00:00:00.000+0000",
         9
        ],
        [
         "2016-04-11T00:00:00.000+0000",
         9
        ],
        [
         "2016-12-30T00:00:00.000+0000",
         9
        ],
        [
         "2013-10-17T00:00:00.000+0000",
         9
        ],
        [
         "2014-07-18T00:00:00.000+0000",
         9
        ],
        [
         "2015-07-22T00:00:00.000+0000",
         9
        ],
        [
         "2018-10-14T00:00:00.000+0000",
         9
        ],
        [
         "2021-12-05T00:00:00.000+0000",
         9
        ],
        [
         "2014-09-23T00:00:00.000+0000",
         9
        ],
        [
         "2014-04-25T00:00:00.000+0000",
         9
        ],
        [
         "2019-01-06T00:00:00.000+0000",
         9
        ],
        [
         "2015-08-10T00:00:00.000+0000",
         9
        ],
        [
         "2016-01-14T00:00:00.000+0000",
         9
        ],
        [
         "2016-07-01T00:00:00.000+0000",
         9
        ],
        [
         "2014-11-18T00:00:00.000+0000",
         9
        ],
        [
         "2019-11-24T00:00:00.000+0000",
         9
        ],
        [
         "2009-08-27T00:00:00.000+0000",
         9
        ],
        [
         "2018-02-17T00:00:00.000+0000",
         9
        ],
        [
         "2015-12-09T00:00:00.000+0000",
         9
        ],
        [
         "2018-11-17T00:00:00.000+0000",
         9
        ],
        [
         "2014-11-06T00:00:00.000+0000",
         9
        ],
        [
         "2014-04-03T00:00:00.000+0000",
         9
        ],
        [
         "2021-05-23T00:00:00.000+0000",
         9
        ],
        [
         "2019-12-24T00:00:00.000+0000",
         9
        ],
        [
         "2017-06-13T00:00:00.000+0000",
         9
        ],
        [
         "2018-06-26T00:00:00.000+0000",
         9
        ],
        [
         "2015-03-12T00:00:00.000+0000",
         9
        ],
        [
         "2022-02-05T00:00:00.000+0000",
         9
        ],
        [
         "2022-05-01T00:00:00.000+0000",
         8
        ],
        [
         "2014-09-05T00:00:00.000+0000",
         8
        ],
        [
         "2011-08-26T00:00:00.000+0000",
         8
        ],
        [
         "2016-01-18T00:00:00.000+0000",
         8
        ],
        [
         "2015-12-14T00:00:00.000+0000",
         8
        ],
        [
         "2014-04-11T00:00:00.000+0000",
         8
        ],
        [
         "2014-12-15T00:00:00.000+0000",
         8
        ],
        [
         "2015-10-26T00:00:00.000+0000",
         8
        ],
        [
         "2016-03-17T00:00:00.000+0000",
         8
        ],
        [
         "2014-04-04T00:00:00.000+0000",
         8
        ],
        [
         "2020-12-05T00:00:00.000+0000",
         8
        ],
        [
         "2013-09-27T00:00:00.000+0000",
         8
        ],
        [
         "2015-05-06T00:00:00.000+0000",
         8
        ],
        [
         "2016-02-04T00:00:00.000+0000",
         8
        ],
        [
         "2015-01-12T00:00:00.000+0000",
         8
        ],
        [
         "2019-07-14T00:00:00.000+0000",
         8
        ],
        [
         "2020-07-05T00:00:00.000+0000",
         8
        ],
        [
         "2022-10-15T00:00:00.000+0000",
         8
        ],
        [
         "2015-03-05T00:00:00.000+0000",
         8
        ],
        [
         "2015-01-23T00:00:00.000+0000",
         8
        ],
        [
         "2013-10-24T00:00:00.000+0000",
         8
        ],
        [
         "2016-12-27T00:00:00.000+0000",
         8
        ],
        [
         "2015-07-01T00:00:00.000+0000",
         8
        ],
        [
         "2020-04-26T00:00:00.000+0000",
         8
        ],
        [
         "2021-05-08T00:00:00.000+0000",
         8
        ],
        [
         "2016-09-19T00:00:00.000+0000",
         8
        ],
        [
         "2021-10-17T00:00:00.000+0000",
         8
        ],
        [
         "2017-05-02T00:00:00.000+0000",
         8
        ],
        [
         "2015-09-08T00:00:00.000+0000",
         8
        ],
        [
         "2019-04-14T00:00:00.000+0000",
         8
        ],
        [
         "2019-09-01T00:00:00.000+0000",
         8
        ],
        [
         "2014-11-11T00:00:00.000+0000",
         8
        ],
        [
         "2008-01-04T00:00:00.000+0000",
         8
        ],
        [
         "2019-10-20T00:00:00.000+0000",
         8
        ],
        [
         "2014-03-06T00:00:00.000+0000",
         8
        ],
        [
         "2022-04-09T00:00:00.000+0000",
         8
        ],
        [
         "2015-03-13T00:00:00.000+0000",
         8
        ],
        [
         "2021-01-02T00:00:00.000+0000",
         8
        ],
        [
         "2017-12-31T00:00:00.000+0000",
         8
        ],
        [
         "2010-05-06T00:00:00.000+0000",
         8
        ],
        [
         "2021-05-22T00:00:00.000+0000",
         8
        ],
        [
         "2022-04-03T00:00:00.000+0000",
         8
        ],
        [
         "2015-06-29T00:00:00.000+0000",
         8
        ],
        [
         "2019-08-31T00:00:00.000+0000",
         8
        ],
        [
         "2015-07-03T00:00:00.000+0000",
         8
        ],
        [
         "2019-03-09T00:00:00.000+0000",
         8
        ],
        [
         "2020-06-21T00:00:00.000+0000",
         8
        ],
        [
         "2018-09-08T00:00:00.000+0000",
         8
        ],
        [
         "2022-07-23T00:00:00.000+0000",
         8
        ],
        [
         "2016-05-09T00:00:00.000+0000",
         8
        ],
        [
         "2019-11-23T00:00:00.000+0000",
         8
        ],
        [
         "2021-01-10T00:00:00.000+0000",
         8
        ],
        [
         "2019-04-20T00:00:00.000+0000",
         8
        ],
        [
         "2014-09-19T00:00:00.000+0000",
         8
        ],
        [
         "2014-10-22T00:00:00.000+0000",
         8
        ],
        [
         "2019-02-16T00:00:00.000+0000",
         8
        ],
        [
         "2015-01-20T00:00:00.000+0000",
         8
        ],
        [
         "2014-02-14T00:00:00.000+0000",
         8
        ],
        [
         "2016-05-11T00:00:00.000+0000",
         8
        ],
        [
         "2019-07-02T00:00:00.000+0000",
         8
        ],
        [
         "2014-10-09T00:00:00.000+0000",
         8
        ],
        [
         "2013-12-13T00:00:00.000+0000",
         8
        ],
        [
         "2020-07-06T00:00:00.000+0000",
         8
        ],
        [
         "2016-01-20T00:00:00.000+0000",
         8
        ],
        [
         "2015-07-02T00:00:00.000+0000",
         8
        ],
        [
         "2016-01-07T00:00:00.000+0000",
         8
        ],
        [
         "2014-06-13T00:00:00.000+0000",
         8
        ],
        [
         "2015-05-05T00:00:00.000+0000",
         8
        ],
        [
         "2016-05-24T00:00:00.000+0000",
         8
        ],
        [
         "2015-04-03T00:00:00.000+0000",
         8
        ],
        [
         "2009-10-10T00:00:00.000+0000",
         8
        ],
        [
         "2017-07-16T00:00:00.000+0000",
         8
        ],
        [
         "2009-07-17T00:00:00.000+0000",
         8
        ],
        [
         "2015-10-06T00:00:00.000+0000",
         8
        ],
        [
         "2020-09-06T00:00:00.000+0000",
         8
        ],
        [
         "2014-10-16T00:00:00.000+0000",
         8
        ],
        [
         "2017-12-23T00:00:00.000+0000",
         8
        ],
        [
         "2021-04-11T00:00:00.000+0000",
         8
        ],
        [
         "2019-09-08T00:00:00.000+0000",
         8
        ],
        [
         "2020-05-24T00:00:00.000+0000",
         8
        ],
        [
         "2019-11-03T00:00:00.000+0000",
         8
        ],
        [
         "2015-08-04T00:00:00.000+0000",
         8
        ],
        [
         "2018-07-21T00:00:00.000+0000",
         8
        ],
        [
         "2021-07-24T00:00:00.000+0000",
         8
        ],
        [
         "2014-10-10T00:00:00.000+0000",
         8
        ],
        [
         "2016-04-12T00:00:00.000+0000",
         8
        ],
        [
         "2019-10-27T00:00:00.000+0000",
         8
        ],
        [
         "2015-08-12T00:00:00.000+0000",
         8
        ],
        [
         "2015-08-11T00:00:00.000+0000",
         8
        ],
        [
         "2015-07-27T00:00:00.000+0000",
         8
        ],
        [
         "2020-05-30T00:00:00.000+0000",
         8
        ],
        [
         "2022-07-24T00:00:00.000+0000",
         8
        ],
        [
         "2019-12-14T00:00:00.000+0000",
         8
        ],
        [
         "2017-01-18T00:00:00.000+0000",
         8
        ],
        [
         "2021-09-12T00:00:00.000+0000",
         8
        ],
        [
         "2017-04-26T00:00:00.000+0000",
         8
        ],
        [
         "2018-09-09T00:00:00.000+0000",
         7
        ],
        [
         "2020-12-12T00:00:00.000+0000",
         7
        ],
        [
         "2020-02-16T00:00:00.000+0000",
         7
        ],
        [
         "2014-03-11T00:00:00.000+0000",
         7
        ],
        [
         "2016-02-09T00:00:00.000+0000",
         7
        ],
        [
         "2013-10-29T00:00:00.000+0000",
         7
        ],
        [
         "2015-05-07T00:00:00.000+0000",
         7
        ],
        [
         "2022-08-14T00:00:00.000+0000",
         7
        ],
        [
         "2014-05-06T00:00:00.000+0000",
         7
        ],
        [
         "2015-02-20T00:00:00.000+0000",
         7
        ],
        [
         "2015-08-13T00:00:00.000+0000",
         7
        ],
        [
         "2019-08-17T00:00:00.000+0000",
         7
        ],
        [
         "2019-11-16T00:00:00.000+0000",
         7
        ],
        [
         "2022-09-25T00:00:00.000+0000",
         7
        ],
        [
         "2014-10-27T00:00:00.000+0000",
         7
        ],
        [
         "2020-10-04T00:00:00.000+0000",
         7
        ],
        [
         "2013-11-15T00:00:00.000+0000",
         7
        ],
        [
         "2014-11-25T00:00:00.000+0000",
         7
        ],
        [
         "2014-08-29T00:00:00.000+0000",
         7
        ],
        [
         "2016-03-14T00:00:00.000+0000",
         7
        ],
        [
         "2015-02-26T00:00:00.000+0000",
         7
        ],
        [
         "2017-09-03T00:00:00.000+0000",
         7
        ],
        [
         "2019-08-24T00:00:00.000+0000",
         7
        ],
        [
         "2015-03-03T00:00:00.000+0000",
         7
        ],
        [
         "2014-11-12T00:00:00.000+0000",
         7
        ],
        [
         "2014-02-05T00:00:00.000+0000",
         7
        ],
        [
         "2020-08-02T00:00:00.000+0000",
         7
        ],
        [
         "2014-03-25T00:00:00.000+0000",
         7
        ],
        [
         "2014-12-09T00:00:00.000+0000",
         7
        ],
        [
         "2014-12-22T00:00:00.000+0000",
         7
        ],
        [
         "2022-01-01T00:00:00.000+0000",
         7
        ],
        [
         "2020-12-13T00:00:00.000+0000",
         7
        ],
        [
         "2021-07-04T00:00:00.000+0000",
         7
        ],
        [
         "2015-11-10T00:00:00.000+0000",
         7
        ],
        [
         "2016-07-04T00:00:00.000+0000",
         7
        ],
        [
         "2021-02-06T00:00:00.000+0000",
         7
        ],
        [
         "2014-06-05T00:00:00.000+0000",
         7
        ],
        [
         "2015-06-22T00:00:00.000+0000",
         7
        ],
        [
         "2019-02-02T00:00:00.000+0000",
         7
        ],
        [
         "2015-10-14T00:00:00.000+0000",
         7
        ],
        [
         "2015-03-24T00:00:00.000+0000",
         7
        ],
        [
         "2014-09-25T00:00:00.000+0000",
         7
        ],
        [
         "2018-06-16T00:00:00.000+0000",
         7
        ],
        [
         "2022-03-26T00:00:00.000+0000",
         7
        ],
        [
         "2017-10-07T00:00:00.000+0000",
         7
        ],
        [
         "2021-11-27T00:00:00.000+0000",
         7
        ],
        [
         "2020-02-01T00:00:00.000+0000",
         7
        ],
        [
         "2015-11-04T00:00:00.000+0000",
         7
        ],
        [
         "2021-06-20T00:00:00.000+0000",
         7
        ],
        [
         "2014-09-29T00:00:00.000+0000",
         7
        ],
        [
         "2018-06-30T00:00:00.000+0000",
         7
        ],
        [
         "2021-09-05T00:00:00.000+0000",
         7
        ],
        [
         "2019-12-28T00:00:00.000+0000",
         7
        ],
        [
         "2014-12-05T00:00:00.000+0000",
         7
        ],
        [
         "2022-06-11T00:00:00.000+0000",
         7
        ],
        [
         "2014-12-10T00:00:00.000+0000",
         7
        ],
        [
         "2018-10-21T00:00:00.000+0000",
         7
        ],
        [
         "2015-08-07T00:00:00.000+0000",
         7
        ],
        [
         "2016-01-25T00:00:00.000+0000",
         7
        ],
        [
         "2021-05-30T00:00:00.000+0000",
         7
        ],
        [
         "2021-01-30T00:00:00.000+0000",
         7
        ],
        [
         "2020-01-26T00:00:00.000+0000",
         7
        ],
        [
         "2008-07-29T00:00:00.000+0000",
         7
        ],
        [
         "2009-06-16T00:00:00.000+0000",
         7
        ],
        [
         "2015-03-19T00:00:00.000+0000",
         7
        ],
        [
         "2020-09-20T00:00:00.000+0000",
         7
        ],
        [
         "2022-08-13T00:00:00.000+0000",
         7
        ],
        [
         "2015-08-05T00:00:00.000+0000",
         7
        ],
        [
         "2019-11-09T00:00:00.000+0000",
         7
        ],
        [
         "2014-08-21T00:00:00.000+0000",
         7
        ],
        [
         "2022-10-08T00:00:00.000+0000",
         7
        ],
        [
         "2014-02-19T00:00:00.000+0000",
         7
        ],
        [
         "2015-09-21T00:00:00.000+0000",
         7
        ],
        [
         "2014-07-10T00:00:00.000+0000",
         7
        ],
        [
         "2021-07-10T00:00:00.000+0000",
         7
        ],
        [
         "2014-11-24T00:00:00.000+0000",
         7
        ],
        [
         "2016-03-08T00:00:00.000+0000",
         7
        ],
        [
         "2015-03-23T00:00:00.000+0000",
         7
        ],
        [
         "2019-05-19T00:00:00.000+0000",
         7
        ],
        [
         "2015-04-21T00:00:00.000+0000",
         7
        ],
        [
         "2020-12-19T00:00:00.000+0000",
         7
        ],
        [
         "2021-06-19T00:00:00.000+0000",
         7
        ],
        [
         "2014-11-26T00:00:00.000+0000",
         7
        ],
        [
         "2016-01-12T00:00:00.000+0000",
         7
        ],
        [
         "2017-12-17T00:00:00.000+0000",
         7
        ],
        [
         "2020-07-26T00:00:00.000+0000",
         7
        ],
        [
         "2018-07-29T00:00:00.000+0000",
         7
        ],
        [
         "2020-06-13T00:00:00.000+0000",
         7
        ],
        [
         "2020-09-13T00:00:00.000+0000",
         7
        ],
        [
         "2022-02-06T00:00:00.000+0000",
         7
        ],
        [
         "2019-08-11T00:00:00.000+0000",
         7
        ],
        [
         "2021-09-26T00:00:00.000+0000",
         7
        ],
        [
         "2018-03-18T00:00:00.000+0000",
         7
        ],
        [
         "2019-08-03T00:00:00.000+0000",
         7
        ],
        [
         "2022-07-10T00:00:00.000+0000",
         7
        ],
        [
         "2014-12-03T00:00:00.000+0000",
         7
        ],
        [
         "2018-11-04T00:00:00.000+0000",
         7
        ],
        [
         "2020-01-11T00:00:00.000+0000",
         7
        ],
        [
         "2021-11-20T00:00:00.000+0000",
         7
        ],
        [
         "2009-11-04T00:00:00.000+0000",
         7
        ],
        [
         "2018-07-28T00:00:00.000+0000",
         7
        ],
        [
         "2015-05-27T00:00:00.000+0000",
         7
        ],
        [
         "2019-08-10T00:00:00.000+0000",
         7
        ],
        [
         "2014-06-10T00:00:00.000+0000",
         7
        ],
        [
         "2019-12-22T00:00:00.000+0000",
         7
        ],
        [
         "2008-03-12T00:00:00.000+0000",
         7
        ],
        [
         "2020-04-04T00:00:00.000+0000",
         7
        ],
        [
         "2021-08-15T00:00:00.000+0000",
         7
        ],
        [
         "2014-11-10T00:00:00.000+0000",
         7
        ],
        [
         "2016-04-26T00:00:00.000+0000",
         7
        ],
        [
         "2009-08-12T00:00:00.000+0000",
         7
        ],
        [
         "2020-10-03T00:00:00.000+0000",
         7
        ],
        [
         "2014-11-19T00:00:00.000+0000",
         7
        ],
        [
         "2021-12-12T00:00:00.000+0000",
         7
        ],
        [
         "2021-07-17T00:00:00.000+0000",
         7
        ],
        [
         "2014-02-25T00:00:00.000+0000",
         7
        ],
        [
         "2021-12-11T00:00:00.000+0000",
         7
        ],
        [
         "2020-04-11T00:00:00.000+0000",
         6
        ],
        [
         "2020-09-05T00:00:00.000+0000",
         6
        ],
        [
         "2018-03-25T00:00:00.000+0000",
         6
        ],
        [
         "2022-05-07T00:00:00.000+0000",
         6
        ],
        [
         "2014-03-14T00:00:00.000+0000",
         6
        ],
        [
         "2019-10-06T00:00:00.000+0000",
         6
        ],
        [
         "2020-02-22T00:00:00.000+0000",
         6
        ],
        [
         "2017-11-18T00:00:00.000+0000",
         6
        ],
        [
         "2014-07-07T00:00:00.000+0000",
         6
        ],
        [
         "2015-09-07T00:00:00.000+0000",
         6
        ],
        [
         "2020-08-23T00:00:00.000+0000",
         6
        ],
        [
         "2018-12-22T00:00:00.000+0000",
         6
        ],
        [
         "2021-04-10T00:00:00.000+0000",
         6
        ],
        [
         "2015-03-04T00:00:00.000+0000",
         6
        ],
        [
         "2022-11-05T00:00:00.000+0000",
         6
        ],
        [
         "2015-03-06T00:00:00.000+0000",
         6
        ],
        [
         "2013-09-20T00:00:00.000+0000",
         6
        ],
        [
         "2014-12-19T00:00:00.000+0000",
         6
        ],
        [
         "2014-06-04T00:00:00.000+0000",
         6
        ],
        [
         "2014-02-18T00:00:00.000+0000",
         6
        ],
        [
         "2022-05-22T00:00:00.000+0000",
         6
        ],
        [
         "2022-03-20T00:00:00.000+0000",
         6
        ],
        [
         "2021-10-10T00:00:00.000+0000",
         6
        ],
        [
         "2018-04-21T00:00:00.000+0000",
         6
        ],
        [
         "2021-04-25T00:00:00.000+0000",
         6
        ],
        [
         "2018-03-17T00:00:00.000+0000",
         6
        ],
        [
         "2015-03-11T00:00:00.000+0000",
         6
        ],
        [
         "2019-10-05T00:00:00.000+0000",
         6
        ],
        [
         "2014-10-15T00:00:00.000+0000",
         6
        ],
        [
         "2009-12-17T00:00:00.000+0000",
         6
        ],
        [
         "2018-06-17T00:00:00.000+0000",
         6
        ],
        [
         "2014-08-05T00:00:00.000+0000",
         6
        ],
        [
         "2019-01-19T00:00:00.000+0000",
         6
        ],
        [
         "2016-03-09T00:00:00.000+0000",
         6
        ],
        [
         "2019-07-27T00:00:00.000+0000",
         6
        ],
        [
         "2021-12-19T00:00:00.000+0000",
         6
        ],
        [
         "2019-12-30T00:00:00.000+0000",
         6
        ],
        [
         "2015-09-09T00:00:00.000+0000",
         6
        ],
        [
         "2015-06-09T00:00:00.000+0000",
         6
        ],
        [
         "2018-04-15T00:00:00.000+0000",
         6
        ],
        [
         "2022-01-22T00:00:00.000+0000",
         6
        ],
        [
         "2022-09-11T00:00:00.000+0000",
         6
        ],
        [
         "2021-10-24T00:00:00.000+0000",
         6
        ],
        [
         "2021-08-21T00:00:00.000+0000",
         6
        ],
        [
         "2016-05-30T00:00:00.000+0000",
         6
        ],
        [
         "2018-01-28T00:00:00.000+0000",
         6
        ],
        [
         "2019-06-30T00:00:00.000+0000",
         6
        ],
        [
         "2013-10-18T00:00:00.000+0000",
         6
        ],
        [
         "2012-05-11T00:00:00.000+0000",
         6
        ],
        [
         "2013-09-10T00:00:00.000+0000",
         6
        ],
        [
         "2014-04-30T00:00:00.000+0000",
         6
        ],
        [
         "2015-06-11T00:00:00.000+0000",
         6
        ],
        [
         "2015-08-06T00:00:00.000+0000",
         6
        ],
        [
         "2015-10-07T00:00:00.000+0000",
         6
        ],
        [
         "2014-01-30T00:00:00.000+0000",
         6
        ],
        [
         "2021-11-21T00:00:00.000+0000",
         6
        ],
        [
         "2014-04-29T00:00:00.000+0000",
         6
        ],
        [
         "2020-11-15T00:00:00.000+0000",
         6
        ],
        [
         "2021-01-03T00:00:00.000+0000",
         6
        ],
        [
         "2007-06-15T00:00:00.000+0000",
         6
        ],
        [
         "2021-10-23T00:00:00.000+0000",
         6
        ],
        [
         "2020-09-27T00:00:00.000+0000",
         6
        ],
        [
         "2022-03-05T00:00:00.000+0000",
         6
        ],
        [
         "2019-09-28T00:00:00.000+0000",
         6
        ],
        [
         "2021-01-23T00:00:00.000+0000",
         6
        ],
        [
         "2012-10-17T00:00:00.000+0000",
         6
        ],
        [
         "2021-08-08T00:00:00.000+0000",
         6
        ],
        [
         "2022-07-09T00:00:00.000+0000",
         6
        ],
        [
         "2018-01-14T00:00:00.000+0000",
         6
        ],
        [
         "2020-05-03T00:00:00.000+0000",
         6
        ],
        [
         "2017-09-17T00:00:00.000+0000",
         6
        ],
        [
         "2020-11-21T00:00:00.000+0000",
         6
        ],
        [
         "2014-03-20T00:00:00.000+0000",
         6
        ],
        [
         "2014-08-27T00:00:00.000+0000",
         6
        ],
        [
         "2011-10-28T00:00:00.000+0000",
         6
        ],
        [
         "2020-09-26T00:00:00.000+0000",
         6
        ],
        [
         "2014-01-10T00:00:00.000+0000",
         6
        ],
        [
         "2019-09-22T00:00:00.000+0000",
         6
        ],
        [
         "2020-10-24T00:00:00.000+0000",
         6
        ],
        [
         "2015-02-05T00:00:00.000+0000",
         6
        ],
        [
         "2014-02-06T00:00:00.000+0000",
         6
        ],
        [
         "2020-04-25T00:00:00.000+0000",
         6
        ],
        [
         "2009-03-19T00:00:00.000+0000",
         6
        ],
        [
         "2010-10-08T00:00:00.000+0000",
         6
        ],
        [
         "2022-01-09T00:00:00.000+0000",
         6
        ],
        [
         "2020-11-08T00:00:00.000+0000",
         6
        ],
        [
         "2022-09-18T00:00:00.000+0000",
         6
        ],
        [
         "2020-10-17T00:00:00.000+0000",
         6
        ],
        [
         "2009-09-16T00:00:00.000+0000",
         6
        ],
        [
         "2020-03-14T00:00:00.000+0000",
         6
        ],
        [
         "2014-11-04T00:00:00.000+0000",
         6
        ],
        [
         "2014-02-07T00:00:00.000+0000",
         6
        ],
        [
         "2014-03-17T00:00:00.000+0000",
         6
        ],
        [
         "2021-12-25T00:00:00.000+0000",
         6
        ],
        [
         "2021-03-21T00:00:00.000+0000",
         6
        ],
        [
         "2014-04-01T00:00:00.000+0000",
         6
        ],
        [
         "2021-03-07T00:00:00.000+0000",
         6
        ],
        [
         "2014-03-13T00:00:00.000+0000",
         6
        ],
        [
         "2019-01-26T00:00:00.000+0000",
         6
        ],
        [
         "2020-03-22T00:00:00.000+0000",
         6
        ],
        [
         "2017-09-30T00:00:00.000+0000",
         6
        ],
        [
         "2018-09-22T00:00:00.000+0000",
         6
        ],
        [
         "2019-11-30T00:00:00.000+0000",
         6
        ],
        [
         "2013-10-25T00:00:00.000+0000",
         6
        ],
        [
         "2014-12-08T00:00:00.000+0000",
         6
        ],
        [
         "2021-05-29T00:00:00.000+0000",
         6
        ],
        [
         "2015-11-03T00:00:00.000+0000",
         6
        ],
        [
         "2018-04-07T00:00:00.000+0000",
         6
        ],
        [
         "2022-08-07T00:00:00.000+0000",
         6
        ],
        [
         "2019-10-12T00:00:00.000+0000",
         6
        ],
        [
         "2019-06-22T00:00:00.000+0000",
         6
        ],
        [
         "2021-04-04T00:00:00.000+0000",
         6
        ],
        [
         "2018-07-01T00:00:00.000+0000",
         6
        ],
        [
         "2020-01-25T00:00:00.000+0000",
         6
        ],
        [
         "2014-08-06T00:00:00.000+0000",
         6
        ],
        [
         "2020-12-06T00:00:00.000+0000",
         6
        ],
        [
         "2016-05-16T00:00:00.000+0000",
         6
        ],
        [
         "2014-05-09T00:00:00.000+0000",
         6
        ],
        [
         "2020-10-18T00:00:00.000+0000",
         6
        ],
        [
         "2019-01-16T00:00:00.000+0000",
         6
        ],
        [
         "2018-10-07T00:00:00.000+0000",
         6
        ],
        [
         "2015-12-16T00:00:00.000+0000",
         6
        ],
        [
         "2014-08-19T00:00:00.000+0000",
         6
        ],
        [
         "2022-04-17T00:00:00.000+0000",
         6
        ],
        [
         "2015-05-20T00:00:00.000+0000",
         6
        ],
        [
         "2015-02-17T00:00:00.000+0000",
         6
        ],
        [
         "2015-11-11T00:00:00.000+0000",
         6
        ],
        [
         "2007-03-29T00:00:00.000+0000",
         6
        ],
        [
         "2013-11-06T00:00:00.000+0000",
         6
        ],
        [
         "2019-10-13T00:00:00.000+0000",
         6
        ],
        [
         "2014-05-12T00:00:00.000+0000",
         6
        ],
        [
         "2022-04-23T00:00:00.000+0000",
         6
        ],
        [
         "2018-06-03T00:00:00.000+0000",
         6
        ],
        [
         "2021-07-11T00:00:00.000+0000",
         6
        ],
        [
         "2020-07-11T00:00:00.000+0000",
         6
        ],
        [
         "2021-01-09T00:00:00.000+0000",
         6
        ],
        [
         "2017-01-03T00:00:00.000+0000",
         6
        ],
        [
         "2019-09-29T00:00:00.000+0000",
         6
        ],
        [
         "2022-05-15T00:00:00.000+0000",
         6
        ],
        [
         "2022-08-20T00:00:00.000+0000",
         6
        ],
        [
         "2015-08-17T00:00:00.000+0000",
         6
        ],
        [
         "2014-08-01T00:00:00.000+0000",
         6
        ],
        [
         "2015-03-31T00:00:00.000+0000",
         6
        ],
        [
         "2008-05-16T00:00:00.000+0000",
         6
        ],
        [
         "2015-07-14T00:00:00.000+0000",
         5
        ],
        [
         "2019-11-02T00:00:00.000+0000",
         5
        ],
        [
         "2014-08-26T00:00:00.000+0000",
         5
        ],
        [
         "2014-07-08T00:00:00.000+0000",
         5
        ],
        [
         "2016-08-14T00:00:00.000+0000",
         5
        ],
        [
         "2020-03-15T00:00:00.000+0000",
         5
        ],
        [
         "2014-11-13T00:00:00.000+0000",
         5
        ],
        [
         "2018-09-02T00:00:00.000+0000",
         5
        ],
        [
         "2014-01-06T00:00:00.000+0000",
         5
        ],
        [
         "2017-12-25T00:00:00.000+0000",
         5
        ],
        [
         "2015-07-21T00:00:00.000+0000",
         5
        ],
        [
         "2017-07-30T00:00:00.000+0000",
         5
        ],
        [
         "2022-10-16T00:00:00.000+0000",
         5
        ],
        [
         "2019-06-09T00:00:00.000+0000",
         5
        ],
        [
         "2019-05-04T00:00:00.000+0000",
         5
        ],
        [
         "2012-11-09T00:00:00.000+0000",
         5
        ],
        [
         "2020-06-14T00:00:00.000+0000",
         5
        ],
        [
         "2017-10-21T00:00:00.000+0000",
         5
        ],
        [
         "2020-01-08T00:00:00.000+0000",
         5
        ],
        [
         "2019-03-31T00:00:00.000+0000",
         5
        ],
        [
         "2013-11-19T00:00:00.000+0000",
         5
        ],
        [
         "2021-04-18T00:00:00.000+0000",
         5
        ],
        [
         "2013-12-12T00:00:00.000+0000",
         5
        ],
        [
         "2014-02-17T00:00:00.000+0000",
         5
        ],
        [
         "2011-10-19T00:00:00.000+0000",
         5
        ],
        [
         "2021-04-17T00:00:00.000+0000",
         5
        ],
        [
         "2019-07-13T00:00:00.000+0000",
         5
        ],
        [
         "2016-12-11T00:00:00.000+0000",
         5
        ],
        [
         "2019-10-19T00:00:00.000+0000",
         5
        ],
        [
         "2022-08-28T00:00:00.000+0000",
         5
        ],
        [
         "2015-03-10T00:00:00.000+0000",
         5
        ],
        [
         "2021-08-14T00:00:00.000+0000",
         5
        ],
        [
         "2016-12-18T00:00:00.000+0000",
         5
        ],
        [
         "2009-05-27T00:00:00.000+0000",
         5
        ],
        [
         "2021-01-17T00:00:00.000+0000",
         5
        ],
        [
         "2020-02-23T00:00:00.000+0000",
         5
        ],
        [
         "2013-09-18T00:00:00.000+0000",
         5
        ],
        [
         "2015-01-07T00:00:00.000+0000",
         5
        ],
        [
         "2021-10-09T00:00:00.000+0000",
         5
        ],
        [
         "2013-12-06T00:00:00.000+0000",
         5
        ],
        [
         "2022-08-21T00:00:00.000+0000",
         5
        ],
        [
         "2014-04-10T00:00:00.000+0000",
         5
        ],
        [
         "2015-05-18T00:00:00.000+0000",
         5
        ],
        [
         "2015-03-09T00:00:00.000+0000",
         5
        ],
        [
         "2014-07-02T00:00:00.000+0000",
         5
        ],
        [
         "2019-06-15T00:00:00.000+0000",
         5
        ],
        [
         "2011-09-28T00:00:00.000+0000",
         5
        ],
        [
         "2014-12-17T00:00:00.000+0000",
         5
        ],
        [
         "2017-11-25T00:00:00.000+0000",
         5
        ],
        [
         "2020-05-10T00:00:00.000+0000",
         5
        ],
        [
         "2012-09-27T00:00:00.000+0000",
         5
        ],
        [
         "2022-07-30T00:00:00.000+0000",
         5
        ],
        [
         "2020-06-06T00:00:00.000+0000",
         5
        ],
        [
         "2020-09-19T00:00:00.000+0000",
         5
        ],
        [
         "2020-02-08T00:00:00.000+0000",
         5
        ],
        [
         "2013-11-18T00:00:00.000+0000",
         5
        ],
        [
         "2014-01-31T00:00:00.000+0000",
         5
        ],
        [
         "2015-03-18T00:00:00.000+0000",
         5
        ],
        [
         "2014-08-18T00:00:00.000+0000",
         5
        ],
        [
         "2014-04-22T00:00:00.000+0000",
         5
        ],
        [
         "2017-01-29T00:00:00.000+0000",
         5
        ],
        [
         "2022-07-17T00:00:00.000+0000",
         5
        ],
        [
         "2009-05-06T00:00:00.000+0000",
         5
        ],
        [
         "2018-12-16T00:00:00.000+0000",
         5
        ],
        [
         "2022-08-06T00:00:00.000+0000",
         5
        ],
        [
         "2018-06-10T00:00:00.000+0000",
         5
        ],
        [
         "2018-07-14T00:00:00.000+0000",
         5
        ],
        [
         "2020-03-01T00:00:00.000+0000",
         5
        ],
        [
         "2009-09-17T00:00:00.000+0000",
         5
        ],
        [
         "2015-09-14T00:00:00.000+0000",
         5
        ],
        [
         "2018-11-03T00:00:00.000+0000",
         5
        ],
        [
         "2014-09-30T00:00:00.000+0000",
         5
        ],
        [
         "2015-01-02T00:00:00.000+0000",
         5
        ],
        [
         "2013-09-26T00:00:00.000+0000",
         5
        ],
        [
         "2014-03-05T00:00:00.000+0000",
         5
        ],
        [
         "2018-12-08T00:00:00.000+0000",
         5
        ],
        [
         "2020-08-09T00:00:00.000+0000",
         5
        ],
        [
         "2019-04-28T00:00:00.000+0000",
         5
        ],
        [
         "2022-10-02T00:00:00.000+0000",
         5
        ],
        [
         "2014-07-22T00:00:00.000+0000",
         5
        ],
        [
         "2014-06-17T00:00:00.000+0000",
         5
        ],
        [
         "2011-10-24T00:00:00.000+0000",
         5
        ],
        [
         "2013-10-08T00:00:00.000+0000",
         5
        ],
        [
         "2020-01-18T00:00:00.000+0000",
         5
        ],
        [
         "2012-10-29T00:00:00.000+0000",
         5
        ],
        [
         "2018-08-25T00:00:00.000+0000",
         5
        ],
        [
         "2020-11-07T00:00:00.000+0000",
         5
        ],
        [
         "2014-07-04T00:00:00.000+0000",
         5
        ],
        [
         "2017-08-19T00:00:00.000+0000",
         5
        ],
        [
         "2014-05-02T00:00:00.000+0000",
         5
        ],
        [
         "2021-10-03T00:00:00.000+0000",
         5
        ],
        [
         "2022-10-23T00:00:00.000+0000",
         5
        ],
        [
         "2018-04-01T00:00:00.000+0000",
         5
        ],
        [
         "2019-12-07T00:00:00.000+0000",
         5
        ],
        [
         "2020-08-29T00:00:00.000+0000",
         5
        ],
        [
         "2013-08-29T00:00:00.000+0000",
         5
        ],
        [
         "2014-01-03T00:00:00.000+0000",
         5
        ],
        [
         "2018-11-11T00:00:00.000+0000",
         5
        ],
        [
         "2019-03-30T00:00:00.000+0000",
         5
        ],
        [
         "2012-10-11T00:00:00.000+0000",
         5
        ],
        [
         "2015-02-23T00:00:00.000+0000",
         5
        ],
        [
         "2019-02-09T00:00:00.000+0000",
         5
        ],
        [
         "2019-02-23T00:00:00.000+0000",
         5
        ],
        [
         "2014-10-02T00:00:00.000+0000",
         5
        ],
        [
         "2019-02-24T00:00:00.000+0000",
         5
        ],
        [
         "2014-12-12T00:00:00.000+0000",
         5
        ],
        [
         "2021-03-28T00:00:00.000+0000",
         5
        ],
        [
         "2019-12-29T00:00:00.000+0000",
         5
        ],
        [
         "2014-08-11T00:00:00.000+0000",
         5
        ],
        [
         "2017-07-15T00:00:00.000+0000",
         5
        ],
        [
         "2018-03-24T00:00:00.000+0000",
         5
        ],
        [
         "2021-04-24T00:00:00.000+0000",
         5
        ],
        [
         "2022-04-10T00:00:00.000+0000",
         5
        ],
        [
         "2015-01-19T00:00:00.000+0000",
         5
        ],
        [
         "2020-03-08T00:00:00.000+0000",
         5
        ],
        [
         "2014-06-03T00:00:00.000+0000",
         5
        ],
        [
         "2020-06-20T00:00:00.000+0000",
         5
        ],
        [
         "2013-03-18T00:00:00.000+0000",
         5
        ],
        [
         "2017-11-12T00:00:00.000+0000",
         5
        ],
        [
         "2010-02-15T00:00:00.000+0000",
         5
        ],
        [
         "2016-06-27T00:00:00.000+0000",
         5
        ],
        [
         "2014-02-27T00:00:00.000+0000",
         5
        ],
        [
         "2014-02-21T00:00:00.000+0000",
         5
        ],
        [
         "2014-08-07T00:00:00.000+0000",
         5
        ],
        [
         "2018-05-13T00:00:00.000+0000",
         5
        ],
        [
         "2019-06-02T00:00:00.000+0000",
         5
        ],
        [
         "2014-07-21T00:00:00.000+0000",
         5
        ],
        [
         "2014-03-12T00:00:00.000+0000",
         5
        ],
        [
         "2018-07-07T00:00:00.000+0000",
         5
        ],
        [
         "2014-03-10T00:00:00.000+0000",
         5
        ],
        [
         "2013-10-21T00:00:00.000+0000",
         5
        ],
        [
         "2018-12-02T00:00:00.000+0000",
         5
        ],
        [
         "2019-12-21T00:00:00.000+0000",
         5
        ],
        [
         "2019-08-25T00:00:00.000+0000",
         5
        ],
        [
         "2008-06-10T00:00:00.000+0000",
         5
        ],
        [
         "2019-08-18T00:00:00.000+0000",
         5
        ],
        [
         "2013-12-04T00:00:00.000+0000",
         5
        ],
        [
         "2014-10-20T00:00:00.000+0000",
         5
        ],
        [
         "2017-09-02T00:00:00.000+0000",
         5
        ],
        [
         "2020-10-10T00:00:00.000+0000",
         5
        ],
        [
         "2016-04-06T00:00:00.000+0000",
         5
        ],
        [
         "2017-01-09T00:00:00.000+0000",
         5
        ],
        [
         "2012-02-22T00:00:00.000+0000",
         5
        ],
        [
         "2020-08-22T00:00:00.000+0000",
         5
        ],
        [
         "2017-12-02T00:00:00.000+0000",
         5
        ],
        [
         "2016-01-04T00:00:00.000+0000",
         5
        ],
        [
         "2018-12-01T00:00:00.000+0000",
         5
        ],
        [
         "2014-05-20T00:00:00.000+0000",
         5
        ],
        [
         "2018-11-24T00:00:00.000+0000",
         5
        ],
        [
         "2018-03-04T00:00:00.000+0000",
         5
        ],
        [
         "2015-02-09T00:00:00.000+0000",
         5
        ],
        [
         "2022-05-21T00:00:00.000+0000",
         5
        ],
        [
         "2020-03-29T00:00:00.000+0000",
         5
        ],
        [
         "2022-10-29T00:00:00.000+0000",
         5
        ],
        [
         "2015-04-07T00:00:00.000+0000",
         5
        ],
        [
         "2014-08-04T00:00:00.000+0000",
         4
        ],
        [
         "2020-04-12T00:00:00.000+0000",
         4
        ],
        [
         "2022-01-02T00:00:00.000+0000",
         4
        ],
        [
         "2012-01-19T00:00:00.000+0000",
         4
        ],
        [
         "2006-10-13T00:00:00.000+0000",
         4
        ],
        [
         "2010-04-28T00:00:00.000+0000",
         4
        ],
        [
         "2013-10-11T00:00:00.000+0000",
         4
        ],
        [
         "2010-07-09T00:00:00.000+0000",
         4
        ],
        [
         "2019-03-10T00:00:00.000+0000",
         4
        ],
        [
         "2012-04-23T00:00:00.000+0000",
         4
        ],
        [
         "2020-12-26T00:00:00.000+0000",
         4
        ],
        [
         "2020-06-28T00:00:00.000+0000",
         4
        ],
        [
         "2013-01-31T00:00:00.000+0000",
         4
        ],
        [
         "2014-08-25T00:00:00.000+0000",
         4
        ],
        [
         "2016-10-02T00:00:00.000+0000",
         4
        ],
        [
         "2017-07-23T00:00:00.000+0000",
         4
        ],
        [
         "2018-02-03T00:00:00.000+0000",
         4
        ],
        [
         "2013-11-08T00:00:00.000+0000",
         4
        ],
        [
         "2015-05-19T00:00:00.000+0000",
         4
        ],
        [
         "2017-08-27T00:00:00.000+0000",
         4
        ],
        [
         "2008-05-13T00:00:00.000+0000",
         4
        ],
        [
         "2014-01-23T00:00:00.000+0000",
         4
        ],
        [
         "2014-02-11T00:00:00.000+0000",
         4
        ],
        [
         "2017-06-26T00:00:00.000+0000",
         4
        ],
        [
         "2019-01-12T00:00:00.000+0000",
         4
        ],
        [
         "2018-08-18T00:00:00.000+0000",
         4
        ],
        [
         "2021-07-18T00:00:00.000+0000",
         4
        ],
        [
         "2012-10-23T00:00:00.000+0000",
         4
        ],
        [
         "2019-01-20T00:00:00.000+0000",
         4
        ],
        [
         "2014-09-26T00:00:00.000+0000",
         4
        ],
        [
         "2013-10-04T00:00:00.000+0000",
         4
        ],
        [
         "2015-04-13T00:00:00.000+0000",
         4
        ],
        [
         "2016-01-06T00:00:00.000+0000",
         4
        ],
        [
         "2014-05-28T00:00:00.000+0000",
         4
        ],
        [
         "2009-08-19T00:00:00.000+0000",
         4
        ],
        [
         "2014-10-07T00:00:00.000+0000",
         4
        ],
        [
         "2017-11-19T00:00:00.000+0000",
         4
        ],
        [
         "2013-05-24T00:00:00.000+0000",
         4
        ],
        [
         "2013-09-13T00:00:00.000+0000",
         4
        ],
        [
         "2011-04-08T00:00:00.000+0000",
         4
        ],
        [
         "2022-02-26T00:00:00.000+0000",
         4
        ],
        [
         "2017-09-24T00:00:00.000+0000",
         4
        ],
        [
         "2018-10-20T00:00:00.000+0000",
         4
        ],
        [
         "2014-09-22T00:00:00.000+0000",
         4
        ],
        [
         "2014-12-01T00:00:00.000+0000",
         4
        ],
        [
         "2021-11-13T00:00:00.000+0000",
         4
        ],
        [
         "2021-11-28T00:00:00.000+0000",
         4
        ],
        [
         "2008-01-29T00:00:00.000+0000",
         4
        ],
        [
         "2021-06-06T00:00:00.000+0000",
         4
        ],
        [
         "2017-07-08T00:00:00.000+0000",
         4
        ],
        [
         "2018-02-25T00:00:00.000+0000",
         4
        ],
        [
         "2022-11-06T00:00:00.000+0000",
         4
        ],
        [
         "2015-04-14T00:00:00.000+0000",
         4
        ],
        [
         "2013-05-22T00:00:00.000+0000",
         4
        ],
        [
         "2010-10-15T00:00:00.000+0000",
         4
        ],
        [
         "2015-01-21T00:00:00.000+0000",
         4
        ],
        [
         "2018-02-04T00:00:00.000+0000",
         4
        ],
        [
         "2016-06-28T00:00:00.000+0000",
         4
        ],
        [
         "2015-03-20T00:00:00.000+0000",
         4
        ],
        [
         "2018-08-04T00:00:00.000+0000",
         4
        ],
        [
         "2018-03-10T00:00:00.000+0000",
         4
        ],
        [
         "2019-05-18T00:00:00.000+0000",
         4
        ],
        [
         "2011-03-22T00:00:00.000+0000",
         4
        ],
        [
         "2018-09-29T00:00:00.000+0000",
         4
        ],
        [
         "2015-02-11T00:00:00.000+0000",
         4
        ],
        [
         "2015-06-10T00:00:00.000+0000",
         4
        ],
        [
         "2018-05-20T00:00:00.000+0000",
         4
        ],
        [
         "2014-03-07T00:00:00.000+0000",
         4
        ],
        [
         "2017-08-12T00:00:00.000+0000",
         4
        ],
        [
         "2013-10-14T00:00:00.000+0000",
         4
        ],
        [
         "2010-02-11T00:00:00.000+0000",
         4
        ],
        [
         "2021-06-26T00:00:00.000+0000",
         4
        ],
        [
         "2009-08-06T00:00:00.000+0000",
         4
        ],
        [
         "2014-10-14T00:00:00.000+0000",
         4
        ],
        [
         "2022-05-08T00:00:00.000+0000",
         4
        ],
        [
         "2019-06-16T00:00:00.000+0000",
         4
        ],
        [
         "2013-09-24T00:00:00.000+0000",
         4
        ],
        [
         "2019-09-14T00:00:00.000+0000",
         4
        ],
        [
         "2012-11-19T00:00:00.000+0000",
         4
        ],
        [
         "2022-06-05T00:00:00.000+0000",
         4
        ],
        [
         "2016-06-30T00:00:00.000+0000",
         4
        ],
        [
         "2017-12-03T00:00:00.000+0000",
         4
        ],
        [
         "2014-07-24T00:00:00.000+0000",
         4
        ],
        [
         "2017-10-15T00:00:00.000+0000",
         4
        ],
        [
         "2008-12-19T00:00:00.000+0000",
         4
        ],
        [
         "2009-10-06T00:00:00.000+0000",
         4
        ],
        [
         "2020-10-25T00:00:00.000+0000",
         4
        ],
        [
         "2015-04-15T00:00:00.000+0000",
         4
        ],
        [
         "2021-05-09T00:00:00.000+0000",
         4
        ],
        [
         "2010-03-02T00:00:00.000+0000",
         4
        ],
        [
         "2011-02-28T00:00:00.000+0000",
         4
        ],
        [
         "2017-10-14T00:00:00.000+0000",
         4
        ],
        [
         "2010-07-12T00:00:00.000+0000",
         4
        ],
        [
         "2015-02-16T00:00:00.000+0000",
         4
        ],
        [
         "2010-06-25T00:00:00.000+0000",
         4
        ],
        [
         "2014-11-28T00:00:00.000+0000",
         4
        ],
        [
         "2020-08-08T00:00:00.000+0000",
         4
        ],
        [
         "2013-08-15T00:00:00.000+0000",
         4
        ],
        [
         "2014-02-20T00:00:00.000+0000",
         4
        ],
        [
         "2015-01-27T00:00:00.000+0000",
         4
        ],
        [
         "2010-11-05T00:00:00.000+0000",
         4
        ],
        [
         "2018-05-27T00:00:00.000+0000",
         4
        ],
        [
         "2017-01-22T00:00:00.000+0000",
         4
        ],
        [
         "2019-02-17T00:00:00.000+0000",
         4
        ],
        [
         "2018-06-09T00:00:00.000+0000",
         4
        ],
        [
         "2017-08-26T00:00:00.000+0000",
         4
        ],
        [
         "2016-05-23T00:00:00.000+0000",
         4
        ],
        [
         "2012-01-13T00:00:00.000+0000",
         4
        ],
        [
         "2012-12-13T00:00:00.000+0000",
         4
        ],
        [
         "2014-03-21T00:00:00.000+0000",
         4
        ],
        [
         "2014-04-08T00:00:00.000+0000",
         4
        ],
        [
         "2020-02-09T00:00:00.000+0000",
         4
        ],
        [
         "2021-09-19T00:00:00.000+0000",
         4
        ],
        [
         "2014-01-22T00:00:00.000+0000",
         4
        ],
        [
         "2014-01-29T00:00:00.000+0000",
         4
        ],
        [
         "2019-02-03T00:00:00.000+0000",
         4
        ],
        [
         "2019-08-04T00:00:00.000+0000",
         4
        ],
        [
         "2020-03-21T00:00:00.000+0000",
         4
        ],
        [
         "2021-09-18T00:00:00.000+0000",
         4
        ],
        [
         "2017-12-24T00:00:00.000+0000",
         4
        ],
        [
         "2018-03-03T00:00:00.000+0000",
         4
        ],
        [
         "2011-05-09T00:00:00.000+0000",
         4
        ],
        [
         "2011-07-13T00:00:00.000+0000",
         4
        ],
        [
         "2012-06-19T00:00:00.000+0000",
         4
        ],
        [
         "2014-07-23T00:00:00.000+0000",
         4
        ],
        [
         "2016-12-04T00:00:00.000+0000",
         4
        ],
        [
         "2008-09-04T00:00:00.000+0000",
         4
        ],
        [
         "2011-09-27T00:00:00.000+0000",
         4
        ],
        [
         "2019-05-11T00:00:00.000+0000",
         4
        ],
        [
         "2013-10-16T00:00:00.000+0000",
         4
        ],
        [
         "2011-06-21T00:00:00.000+0000",
         4
        ],
        [
         "2015-01-13T00:00:00.000+0000",
         4
        ],
        [
         "2009-02-13T00:00:00.000+0000",
         4
        ],
        [
         "2012-05-31T00:00:00.000+0000",
         4
        ],
        [
         "2022-06-19T00:00:00.000+0000",
         4
        ],
        [
         "2014-01-16T00:00:00.000+0000",
         4
        ],
        [
         "2018-12-09T00:00:00.000+0000",
         4
        ],
        [
         "2018-01-06T00:00:00.000+0000",
         4
        ],
        [
         "2021-12-26T00:00:00.000+0000",
         4
        ],
        [
         "2015-03-16T00:00:00.000+0000",
         4
        ],
        [
         "2012-12-06T00:00:00.000+0000",
         4
        ],
        [
         "2017-09-16T00:00:00.000+0000",
         4
        ],
        [
         "2016-12-17T00:00:00.000+0000",
         4
        ],
        [
         "2022-01-29T00:00:00.000+0000",
         4
        ],
        [
         "2013-11-04T00:00:00.000+0000",
         4
        ],
        [
         "2014-09-04T00:00:00.000+0000",
         4
        ],
        [
         "2016-10-01T00:00:00.000+0000",
         4
        ],
        [
         "2014-01-28T00:00:00.000+0000",
         4
        ],
        [
         "2022-09-24T00:00:00.000+0000",
         4
        ],
        [
         "2017-07-22T00:00:00.000+0000",
         4
        ],
        [
         "2019-07-20T00:00:00.000+0000",
         4
        ],
        [
         "2021-08-07T00:00:00.000+0000",
         4
        ],
        [
         "2014-02-24T00:00:00.000+0000",
         4
        ],
        [
         "2010-04-20T00:00:00.000+0000",
         4
        ],
        [
         "2018-12-23T00:00:00.000+0000",
         4
        ],
        [
         "2014-10-01T00:00:00.000+0000",
         4
        ],
        [
         "2014-06-11T00:00:00.000+0000",
         4
        ],
        [
         "2014-03-18T00:00:00.000+0000",
         4
        ],
        [
         "2019-06-01T00:00:00.000+0000",
         4
        ],
        [
         "2011-03-04T00:00:00.000+0000",
         4
        ],
        [
         "2015-05-13T00:00:00.000+0000",
         4
        ],
        [
         "2013-10-31T00:00:00.000+0000",
         3
        ],
        [
         "2010-11-02T00:00:00.000+0000",
         3
        ],
        [
         "2009-11-13T00:00:00.000+0000",
         3
        ],
        [
         "2011-10-18T00:00:00.000+0000",
         3
        ],
        [
         "2019-05-12T00:00:00.000+0000",
         3
        ],
        [
         "2019-12-01T00:00:00.000+0000",
         3
        ],
        [
         "2008-05-12T00:00:00.000+0000",
         3
        ],
        [
         "2009-09-15T00:00:00.000+0000",
         3
        ],
        [
         "2012-08-24T00:00:00.000+0000",
         3
        ],
        [
         "2017-06-03T00:00:00.000+0000",
         3
        ],
        [
         "2014-10-29T00:00:00.000+0000",
         3
        ],
        [
         "2011-03-01T00:00:00.000+0000",
         3
        ],
        [
         "2010-11-18T00:00:00.000+0000",
         3
        ],
        [
         "2019-07-28T00:00:00.000+0000",
         3
        ],
        [
         "2012-08-02T00:00:00.000+0000",
         3
        ],
        [
         "2017-05-21T00:00:00.000+0000",
         3
        ],
        [
         "2014-07-29T00:00:00.000+0000",
         3
        ],
        [
         "2014-10-03T00:00:00.000+0000",
         3
        ],
        [
         "2016-08-06T00:00:00.000+0000",
         3
        ],
        [
         "2008-06-13T00:00:00.000+0000",
         3
        ],
        [
         "2010-02-20T00:00:00.000+0000",
         3
        ],
        [
         "2020-03-28T00:00:00.000+0000",
         3
        ],
        [
         "2011-07-25T00:00:00.000+0000",
         3
        ],
        [
         "2012-08-14T00:00:00.000+0000",
         3
        ],
        [
         "2013-04-16T00:00:00.000+0000",
         3
        ],
        [
         "2013-05-30T00:00:00.000+0000",
         3
        ],
        [
         "2009-07-07T00:00:00.000+0000",
         3
        ],
        [
         "2014-12-29T00:00:00.000+0000",
         3
        ],
        [
         "2018-12-30T00:00:00.000+0000",
         3
        ],
        [
         "2009-11-19T00:00:00.000+0000",
         3
        ],
        [
         "2015-11-27T00:00:00.000+0000",
         3
        ],
        [
         "2010-11-30T00:00:00.000+0000",
         3
        ],
        [
         "2017-07-29T00:00:00.000+0000",
         3
        ],
        [
         "2012-05-22T00:00:00.000+0000",
         3
        ],
        [
         "2015-11-25T00:00:00.000+0000",
         3
        ],
        [
         "2016-05-22T00:00:00.000+0000",
         3
        ],
        [
         "2014-10-08T00:00:00.000+0000",
         3
        ],
        [
         "2016-01-13T00:00:00.000+0000",
         3
        ],
        [
         "2017-04-09T00:00:00.000+0000",
         3
        ],
        [
         "2014-09-09T00:00:00.000+0000",
         3
        ],
        [
         "2009-10-29T00:00:00.000+0000",
         3
        ],
        [
         "2010-10-29T00:00:00.000+0000",
         3
        ],
        [
         "2016-11-05T00:00:00.000+0000",
         3
        ],
        [
         "2010-01-28T00:00:00.000+0000",
         3
        ],
        [
         "2013-06-05T00:00:00.000+0000",
         3
        ],
        [
         "2019-01-27T00:00:00.000+0000",
         3
        ],
        [
         "2011-10-11T00:00:00.000+0000",
         3
        ],
        [
         "2019-04-13T00:00:00.000+0000",
         3
        ],
        [
         "2013-02-18T00:00:00.000+0000",
         3
        ],
        [
         "2012-06-13T00:00:00.000+0000",
         3
        ],
        [
         "2013-10-01T00:00:00.000+0000",
         3
        ],
        [
         "2013-05-15T00:00:00.000+0000",
         3
        ],
        [
         "2013-06-27T00:00:00.000+0000",
         3
        ],
        [
         "2014-05-07T00:00:00.000+0000",
         3
        ],
        [
         "2008-11-03T00:00:00.000+0000",
         3
        ],
        [
         "2011-04-20T00:00:00.000+0000",
         3
        ],
        [
         "2010-02-18T00:00:00.000+0000",
         3
        ],
        [
         "2013-08-08T00:00:00.000+0000",
         3
        ],
        [
         "2012-03-16T00:00:00.000+0000",
         3
        ],
        [
         "2014-06-09T00:00:00.000+0000",
         3
        ],
        [
         "2014-02-03T00:00:00.000+0000",
         3
        ],
        [
         "2018-02-10T00:00:00.000+0000",
         3
        ],
        [
         "2019-03-03T00:00:00.000+0000",
         3
        ],
        [
         "2013-04-24T00:00:00.000+0000",
         3
        ],
        [
         "2013-11-07T00:00:00.000+0000",
         3
        ],
        [
         "2014-10-21T00:00:00.000+0000",
         3
        ],
        [
         "2013-11-20T00:00:00.000+0000",
         3
        ],
        [
         "2017-02-05T00:00:00.000+0000",
         3
        ],
        [
         "2014-03-04T00:00:00.000+0000",
         3
        ],
        [
         "2018-01-21T00:00:00.000+0000",
         3
        ],
        [
         "2013-02-22T00:00:00.000+0000",
         3
        ],
        [
         "2017-04-29T00:00:00.000+0000",
         3
        ],
        [
         "2019-03-16T00:00:00.000+0000",
         3
        ],
        [
         "2013-12-17T00:00:00.000+0000",
         3
        ],
        [
         "2017-09-10T00:00:00.000+0000",
         3
        ],
        [
         "2011-07-29T00:00:00.000+0000",
         3
        ],
        [
         "2010-07-08T00:00:00.000+0000",
         3
        ],
        [
         "2016-06-29T00:00:00.000+0000",
         3
        ],
        [
         "2013-04-30T00:00:00.000+0000",
         3
        ],
        [
         "2019-02-10T00:00:00.000+0000",
         3
        ],
        [
         "2019-01-13T00:00:00.000+0000",
         3
        ],
        [
         "2019-03-17T00:00:00.000+0000",
         3
        ],
        [
         "2017-08-06T00:00:00.000+0000",
         3
        ],
        [
         "2013-12-16T00:00:00.000+0000",
         3
        ],
        [
         "2012-06-22T00:00:00.000+0000",
         3
        ],
        [
         "2012-06-12T00:00:00.000+0000",
         3
        ],
        [
         "2013-12-09T00:00:00.000+0000",
         3
        ],
        [
         "2016-08-07T00:00:00.000+0000",
         3
        ],
        [
         "2013-09-12T00:00:00.000+0000",
         3
        ],
        [
         "2013-11-01T00:00:00.000+0000",
         3
        ],
        [
         "2013-08-22T00:00:00.000+0000",
         3
        ],
        [
         "2015-12-31T00:00:00.000+0000",
         3
        ],
        [
         "2016-10-16T00:00:00.000+0000",
         3
        ],
        [
         "2019-03-24T00:00:00.000+0000",
         3
        ],
        [
         "2011-09-15T00:00:00.000+0000",
         3
        ],
        [
         "2013-05-01T00:00:00.000+0000",
         3
        ],
        [
         "2014-10-13T00:00:00.000+0000",
         3
        ],
        [
         "2013-04-19T00:00:00.000+0000",
         3
        ],
        [
         "2017-10-01T00:00:00.000+0000",
         3
        ],
        [
         "2018-02-11T00:00:00.000+0000",
         3
        ],
        [
         "2013-07-03T00:00:00.000+0000",
         3
        ],
        [
         "2013-07-29T00:00:00.000+0000",
         3
        ],
        [
         "2007-07-17T00:00:00.000+0000",
         3
        ],
        [
         "2014-04-02T00:00:00.000+0000",
         3
        ],
        [
         "2014-12-31T00:00:00.000+0000",
         3
        ],
        [
         "2021-08-29T00:00:00.000+0000",
         3
        ],
        [
         "2020-10-11T00:00:00.000+0000",
         3
        ],
        [
         "2012-10-30T00:00:00.000+0000",
         3
        ],
        [
         "2007-08-28T00:00:00.000+0000",
         3
        ],
        [
         "2019-06-23T00:00:00.000+0000",
         3
        ],
        [
         "2013-06-07T00:00:00.000+0000",
         3
        ],
        [
         "2009-04-30T00:00:00.000+0000",
         3
        ],
        [
         "2013-12-10T00:00:00.000+0000",
         3
        ],
        [
         "2013-09-04T00:00:00.000+0000",
         3
        ],
        [
         "2010-10-11T00:00:00.000+0000",
         3
        ],
        [
         "2019-03-02T00:00:00.000+0000",
         3
        ],
        [
         "2013-04-26T00:00:00.000+0000",
         3
        ],
        [
         "2017-08-05T00:00:00.000+0000",
         3
        ],
        [
         "2018-08-12T00:00:00.000+0000",
         3
        ],
        [
         "2014-05-13T00:00:00.000+0000",
         3
        ],
        [
         "2009-07-23T00:00:00.000+0000",
         3
        ],
        [
         "2012-03-28T00:00:00.000+0000",
         3
        ],
        [
         "2014-12-24T00:00:00.000+0000",
         3
        ],
        [
         "2017-10-28T00:00:00.000+0000",
         3
        ],
        [
         "2017-04-30T00:00:00.000+0000",
         3
        ],
        [
         "2017-10-29T00:00:00.000+0000",
         3
        ],
        [
         "2010-01-13T00:00:00.000+0000",
         3
        ],
        [
         "2008-07-15T00:00:00.000+0000",
         3
        ],
        [
         "2019-09-15T00:00:00.000+0000",
         3
        ],
        [
         "2009-10-27T00:00:00.000+0000",
         3
        ],
        [
         "2020-08-16T00:00:00.000+0000",
         3
        ],
        [
         "2016-06-24T00:00:00.000+0000",
         3
        ],
        [
         "2011-01-27T00:00:00.000+0000",
         3
        ],
        [
         "2013-12-11T00:00:00.000+0000",
         3
        ],
        [
         "2015-01-05T00:00:00.000+0000",
         3
        ],
        [
         "2011-04-21T00:00:00.000+0000",
         3
        ],
        [
         "2013-02-27T00:00:00.000+0000",
         3
        ],
        [
         "2012-03-21T00:00:00.000+0000",
         3
        ],
        [
         "2014-08-13T00:00:00.000+0000",
         3
        ],
        [
         "2014-01-27T00:00:00.000+0000",
         3
        ],
        [
         "2018-09-16T00:00:00.000+0000",
         3
        ],
        [
         "2010-10-25T00:00:00.000+0000",
         3
        ],
        [
         "2015-04-06T00:00:00.000+0000",
         3
        ],
        [
         "2013-11-22T00:00:00.000+0000",
         3
        ],
        [
         "2006-09-14T00:00:00.000+0000",
         3
        ],
        [
         "2019-06-08T00:00:00.000+0000",
         3
        ],
        [
         "2008-03-17T00:00:00.000+0000",
         3
        ],
        [
         "2008-06-17T00:00:00.000+0000",
         3
        ],
        [
         "2012-03-14T00:00:00.000+0000",
         3
        ],
        [
         "2012-08-06T00:00:00.000+0000",
         3
        ],
        [
         "2014-01-08T00:00:00.000+0000",
         3
        ],
        [
         "2009-09-03T00:00:00.000+0000",
         3
        ],
        [
         "2014-06-30T00:00:00.000+0000",
         3
        ],
        [
         "2013-08-13T00:00:00.000+0000",
         3
        ],
        [
         "2010-06-07T00:00:00.000+0000",
         3
        ],
        [
         "2021-06-13T00:00:00.000+0000",
         3
        ],
        [
         "2017-11-05T00:00:00.000+0000",
         3
        ],
        [
         "2019-12-15T00:00:00.000+0000",
         3
        ],
        [
         "2015-11-26T00:00:00.000+0000",
         3
        ],
        [
         "2019-05-26T00:00:00.000+0000",
         3
        ],
        [
         "2014-03-24T00:00:00.000+0000",
         3
        ],
        [
         "2018-06-23T00:00:00.000+0000",
         3
        ],
        [
         "2012-03-29T00:00:00.000+0000",
         3
        ],
        [
         "2012-10-16T00:00:00.000+0000",
         3
        ],
        [
         "2019-07-08T00:00:00.000+0000",
         3
        ],
        [
         "2008-12-18T00:00:00.000+0000",
         3
        ],
        [
         "2018-10-06T00:00:00.000+0000",
         3
        ],
        [
         "2014-07-30T00:00:00.000+0000",
         3
        ],
        [
         "2007-10-10T00:00:00.000+0000",
         3
        ],
        [
         "2008-04-16T00:00:00.000+0000",
         3
        ],
        [
         "2014-12-02T00:00:00.000+0000",
         3
        ],
        [
         "2012-08-28T00:00:00.000+0000",
         3
        ],
        [
         "2011-11-15T00:00:00.000+0000",
         3
        ],
        [
         "2006-10-25T00:00:00.000+0000",
         3
        ],
        [
         "2016-12-10T00:00:00.000+0000",
         3
        ],
        [
         "2011-03-14T00:00:00.000+0000",
         3
        ],
        [
         "2018-09-15T00:00:00.000+0000",
         3
        ],
        [
         "2012-09-13T00:00:00.000+0000",
         3
        ],
        [
         "2011-06-08T00:00:00.000+0000",
         3
        ],
        [
         "2013-03-19T00:00:00.000+0000",
         3
        ],
        [
         "2014-02-28T00:00:00.000+0000",
         3
        ],
        [
         "2018-04-14T00:00:00.000+0000",
         3
        ],
        [
         "2014-01-24T00:00:00.000+0000",
         3
        ],
        [
         "2013-06-20T00:00:00.000+0000",
         3
        ],
        [
         "2022-06-26T00:00:00.000+0000",
         3
        ],
        [
         "2022-11-10T00:00:00.000+0000",
         3
        ],
        [
         "2017-10-22T00:00:00.000+0000",
         3
        ],
        [
         "2020-05-02T00:00:00.000+0000",
         3
        ],
        [
         "2016-11-27T00:00:00.000+0000",
         3
        ],
        [
         "2009-03-09T00:00:00.000+0000",
         3
        ],
        [
         "2006-10-26T00:00:00.000+0000",
         3
        ],
        [
         "2014-11-05T00:00:00.000+0000",
         3
        ],
        [
         "2017-05-27T00:00:00.000+0000",
         3
        ],
        [
         "2020-01-19T00:00:00.000+0000",
         3
        ],
        [
         "2014-03-19T00:00:00.000+0000",
         3
        ],
        [
         "2017-09-23T00:00:00.000+0000",
         3
        ],
        [
         "2011-06-14T00:00:00.000+0000",
         3
        ],
        [
         "2017-04-23T00:00:00.000+0000",
         3
        ],
        [
         "2015-12-23T00:00:00.000+0000",
         3
        ],
        [
         "2014-09-02T00:00:00.000+0000",
         3
        ],
        [
         "2019-03-23T00:00:00.000+0000",
         3
        ],
        [
         "2013-11-13T00:00:00.000+0000",
         3
        ],
        [
         "2014-04-28T00:00:00.000+0000",
         3
        ],
        [
         "2018-01-27T00:00:00.000+0000",
         3
        ],
        [
         "2013-08-28T00:00:00.000+0000",
         3
        ],
        [
         "2020-08-15T00:00:00.000+0000",
         3
        ],
        [
         "2014-05-19T00:00:00.000+0000",
         3
        ],
        [
         "2014-01-21T00:00:00.000+0000",
         3
        ],
        [
         "2012-03-01T00:00:00.000+0000",
         3
        ],
        [
         "2017-04-01T00:00:00.000+0000",
         3
        ],
        [
         "2009-07-20T00:00:00.000+0000",
         3
        ],
        [
         "2011-10-26T00:00:00.000+0000",
         3
        ],
        [
         "2018-10-27T00:00:00.000+0000",
         3
        ],
        [
         "2009-01-23T00:00:00.000+0000",
         3
        ],
        [
         "2018-05-26T00:00:00.000+0000",
         3
        ],
        [
         "2022-11-07T00:00:00.000+0000",
         3
        ],
        [
         "2019-04-07T00:00:00.000+0000",
         3
        ],
        [
         "2009-12-02T00:00:00.000+0000",
         3
        ],
        [
         "2016-08-28T00:00:00.000+0000",
         3
        ],
        [
         "2018-05-05T00:00:00.000+0000",
         3
        ],
        [
         "2010-09-17T00:00:00.000+0000",
         3
        ],
        [
         "2022-09-17T00:00:00.000+0000",
         3
        ],
        [
         "2010-06-24T00:00:00.000+0000",
         3
        ],
        [
         "2016-09-11T00:00:00.000+0000",
         3
        ],
        [
         "2008-10-10T00:00:00.000+0000",
         3
        ],
        [
         "2012-09-19T00:00:00.000+0000",
         3
        ],
        [
         "2012-09-07T00:00:00.000+0000",
         3
        ],
        [
         "2014-07-28T00:00:00.000+0000",
         3
        ],
        [
         "2018-11-18T00:00:00.000+0000",
         3
        ],
        [
         "2014-12-23T00:00:00.000+0000",
         3
        ],
        [
         "2006-12-21T00:00:00.000+0000",
         2
        ],
        [
         "2007-12-13T00:00:00.000+0000",
         2
        ],
        [
         "2017-08-20T00:00:00.000+0000",
         2
        ],
        [
         "2012-10-10T00:00:00.000+0000",
         2
        ],
        [
         "2013-04-29T00:00:00.000+0000",
         2
        ],
        [
         "2006-07-06T00:00:00.000+0000",
         2
        ],
        [
         "2013-11-21T00:00:00.000+0000",
         2
        ],
        [
         "2016-04-30T00:00:00.000+0000",
         2
        ],
        [
         "2009-10-07T00:00:00.000+0000",
         2
        ],
        [
         "2016-02-08T00:00:00.000+0000",
         2
        ],
        [
         "2017-11-11T00:00:00.000+0000",
         2
        ],
        [
         "2010-03-26T00:00:00.000+0000",
         2
        ],
        [
         "2014-09-01T00:00:00.000+0000",
         2
        ],
        [
         "2012-09-25T00:00:00.000+0000",
         2
        ],
        [
         "2016-07-17T00:00:00.000+0000",
         2
        ],
        [
         "2010-02-03T00:00:00.000+0000",
         2
        ],
        [
         "2012-04-11T00:00:00.000+0000",
         2
        ],
        [
         "2015-06-18T00:00:00.000+0000",
         2
        ],
        [
         "2010-05-28T00:00:00.000+0000",
         2
        ],
        [
         "2017-01-14T00:00:00.000+0000",
         2
        ],
        [
         "2011-05-19T00:00:00.000+0000",
         2
        ],
        [
         "2016-05-29T00:00:00.000+0000",
         2
        ],
        [
         "2015-02-18T00:00:00.000+0000",
         2
        ],
        [
         "2021-06-27T00:00:00.000+0000",
         2
        ],
        [
         "2017-12-30T00:00:00.000+0000",
         2
        ],
        [
         "2012-09-28T00:00:00.000+0000",
         2
        ],
        [
         "2009-11-24T00:00:00.000+0000",
         2
        ],
        [
         "2009-10-21T00:00:00.000+0000",
         2
        ],
        [
         "2016-05-14T00:00:00.000+0000",
         2
        ],
        [
         "2012-10-12T00:00:00.000+0000",
         2
        ],
        [
         "2013-03-14T00:00:00.000+0000",
         2
        ],
        [
         "2012-12-05T00:00:00.000+0000",
         2
        ],
        [
         "2011-09-29T00:00:00.000+0000",
         2
        ],
        [
         "2008-11-07T00:00:00.000+0000",
         2
        ],
        [
         "2010-09-02T00:00:00.000+0000",
         2
        ],
        [
         "2006-07-21T00:00:00.000+0000",
         2
        ],
        [
         "2009-09-29T00:00:00.000+0000",
         2
        ],
        [
         "2011-07-19T00:00:00.000+0000",
         2
        ],
        [
         "2010-12-20T00:00:00.000+0000",
         2
        ],
        [
         "2014-05-27T00:00:00.000+0000",
         2
        ],
        [
         "2011-09-21T00:00:00.000+0000",
         2
        ],
        [
         "2008-10-08T00:00:00.000+0000",
         2
        ],
        [
         "2013-01-09T00:00:00.000+0000",
         2
        ],
        [
         "2008-11-18T00:00:00.000+0000",
         2
        ],
        [
         "2014-06-26T00:00:00.000+0000",
         2
        ],
        [
         "2012-12-11T00:00:00.000+0000",
         2
        ],
        [
         "2008-12-12T00:00:00.000+0000",
         2
        ],
        [
         "2010-07-19T00:00:00.000+0000",
         2
        ],
        [
         "2013-11-27T00:00:00.000+0000",
         2
        ],
        [
         "2019-05-05T00:00:00.000+0000",
         2
        ],
        [
         "2011-05-06T00:00:00.000+0000",
         2
        ],
        [
         "2014-06-20T00:00:00.000+0000",
         2
        ],
        [
         "2009-10-16T00:00:00.000+0000",
         2
        ],
        [
         "2011-06-24T00:00:00.000+0000",
         2
        ],
        [
         "2013-05-29T00:00:00.000+0000",
         2
        ],
        [
         "2011-08-02T00:00:00.000+0000",
         2
        ],
        [
         "2017-05-14T00:00:00.000+0000",
         2
        ],
        [
         "2012-04-19T00:00:00.000+0000",
         2
        ],
        [
         "2008-12-15T00:00:00.000+0000",
         2
        ],
        [
         "2016-11-06T00:00:00.000+0000",
         2
        ],
        [
         "2015-02-10T00:00:00.000+0000",
         2
        ],
        [
         "2009-11-11T00:00:00.000+0000",
         2
        ],
        [
         "2016-09-03T00:00:00.000+0000",
         2
        ],
        [
         "2018-08-05T00:00:00.000+0000",
         2
        ],
        [
         "2012-07-30T00:00:00.000+0000",
         2
        ],
        [
         "2015-01-14T00:00:00.000+0000",
         2
        ],
        [
         "2017-02-18T00:00:00.000+0000",
         2
        ],
        [
         "2014-11-03T00:00:00.000+0000",
         2
        ],
        [
         "2012-08-23T00:00:00.000+0000",
         2
        ],
        [
         "2016-05-07T00:00:00.000+0000",
         2
        ],
        [
         "2018-06-24T00:00:00.000+0000",
         2
        ],
        [
         "2009-03-05T00:00:00.000+0000",
         2
        ],
        [
         "2013-03-28T00:00:00.000+0000",
         2
        ],
        [
         "2009-08-07T00:00:00.000+0000",
         2
        ],
        [
         "2012-12-19T00:00:00.000+0000",
         2
        ],
        [
         "2010-04-12T00:00:00.000+0000",
         2
        ],
        [
         "2013-03-22T00:00:00.000+0000",
         2
        ],
        [
         "2012-01-31T00:00:00.000+0000",
         2
        ],
        [
         "2013-03-20T00:00:00.000+0000",
         2
        ],
        [
         "2007-03-14T00:00:00.000+0000",
         2
        ],
        [
         "2020-04-05T00:00:00.000+0000",
         2
        ],
        [
         "2011-06-09T00:00:00.000+0000",
         2
        ],
        [
         "2011-11-30T00:00:00.000+0000",
         2
        ],
        [
         "2010-06-03T00:00:00.000+0000",
         2
        ],
        [
         "2016-08-20T00:00:00.000+0000",
         2
        ],
        [
         "2010-09-23T00:00:00.000+0000",
         2
        ],
        [
         "2011-04-15T00:00:00.000+0000",
         2
        ],
        [
         "2009-07-13T00:00:00.000+0000",
         2
        ],
        [
         "2018-02-24T00:00:00.000+0000",
         2
        ],
        [
         "2020-06-27T00:00:00.000+0000",
         2
        ],
        [
         "2009-11-06T00:00:00.000+0000",
         2
        ],
        [
         "2009-07-28T00:00:00.000+0000",
         2
        ],
        [
         "2015-06-19T00:00:00.000+0000",
         2
        ],
        [
         "2012-09-14T00:00:00.000+0000",
         2
        ],
        [
         "2010-12-03T00:00:00.000+0000",
         2
        ],
        [
         "2008-09-17T00:00:00.000+0000",
         2
        ],
        [
         "2018-11-25T00:00:00.000+0000",
         2
        ],
        [
         "2013-11-11T00:00:00.000+0000",
         2
        ],
        [
         "2014-11-27T00:00:00.000+0000",
         2
        ],
        [
         "2017-12-16T00:00:00.000+0000",
         2
        ],
        [
         "2014-09-03T00:00:00.000+0000",
         2
        ],
        [
         "2012-11-12T00:00:00.000+0000",
         2
        ],
        [
         "2010-07-16T00:00:00.000+0000",
         2
        ],
        [
         "2016-10-23T00:00:00.000+0000",
         2
        ],
        [
         "2009-11-18T00:00:00.000+0000",
         2
        ],
        [
         "2012-01-05T00:00:00.000+0000",
         2
        ],
        [
         "2001-06-01T00:00:00.000+0000",
         2
        ],
        [
         "2018-07-22T00:00:00.000+0000",
         2
        ],
        [
         "2011-05-04T00:00:00.000+0000",
         2
        ],
        [
         "2018-12-29T00:00:00.000+0000",
         2
        ],
        [
         "2013-02-14T00:00:00.000+0000",
         2
        ],
        [
         "2017-02-11T00:00:00.000+0000",
         2
        ],
        [
         "2011-08-17T00:00:00.000+0000",
         2
        ],
        [
         "2011-05-26T00:00:00.000+0000",
         2
        ],
        [
         "2012-06-27T00:00:00.000+0000",
         2
        ],
        [
         "2009-02-18T00:00:00.000+0000",
         2
        ],
        [
         "2013-06-18T00:00:00.000+0000",
         2
        ],
        [
         "2011-11-16T00:00:00.000+0000",
         2
        ],
        [
         "2012-08-30T00:00:00.000+0000",
         2
        ],
        [
         "2017-03-18T00:00:00.000+0000",
         2
        ],
        [
         "2016-07-30T00:00:00.000+0000",
         2
        ],
        [
         "2016-09-17T00:00:00.000+0000",
         2
        ],
        [
         "2012-06-25T00:00:00.000+0000",
         2
        ],
        [
         "2013-08-02T00:00:00.000+0000",
         2
        ],
        [
         "2010-04-29T00:00:00.000+0000",
         2
        ],
        [
         "2012-05-25T00:00:00.000+0000",
         2
        ],
        [
         "2016-12-26T00:00:00.000+0000",
         2
        ],
        [
         "2014-04-07T00:00:00.000+0000",
         2
        ],
        [
         "2018-09-23T00:00:00.000+0000",
         2
        ],
        [
         "2012-02-16T00:00:00.000+0000",
         2
        ],
        [
         "2014-06-18T00:00:00.000+0000",
         2
        ],
        [
         "2008-04-09T00:00:00.000+0000",
         2
        ],
        [
         "2009-07-01T00:00:00.000+0000",
         2
        ],
        [
         "2013-10-30T00:00:00.000+0000",
         2
        ],
        [
         "2014-02-04T00:00:00.000+0000",
         2
        ],
        [
         "2012-09-11T00:00:00.000+0000",
         2
        ],
        [
         "2011-01-19T00:00:00.000+0000",
         2
        ],
        [
         "2011-05-11T00:00:00.000+0000",
         2
        ],
        [
         "2013-08-27T00:00:00.000+0000",
         2
        ],
        [
         "2017-04-08T00:00:00.000+0000",
         2
        ],
        [
         "2009-12-15T00:00:00.000+0000",
         2
        ],
        [
         "2014-02-26T00:00:00.000+0000",
         2
        ],
        [
         "2011-01-20T00:00:00.000+0000",
         2
        ],
        [
         "2016-06-11T00:00:00.000+0000",
         2
        ],
        [
         "2018-04-28T00:00:00.000+0000",
         2
        ],
        [
         "2011-09-01T00:00:00.000+0000",
         2
        ],
        [
         "2012-10-24T00:00:00.000+0000",
         2
        ],
        [
         "2009-02-23T00:00:00.000+0000",
         2
        ],
        [
         "2006-02-07T00:00:00.000+0000",
         2
        ],
        [
         "2018-05-06T00:00:00.000+0000",
         2
        ],
        [
         "2011-02-23T00:00:00.000+0000",
         2
        ],
        [
         "2012-07-31T00:00:00.000+0000",
         2
        ],
        [
         "2014-05-26T00:00:00.000+0000",
         2
        ],
        [
         "2010-11-22T00:00:00.000+0000",
         2
        ],
        [
         "2012-04-16T00:00:00.000+0000",
         2
        ],
        [
         "2012-11-01T00:00:00.000+0000",
         2
        ],
        [
         "2014-04-09T00:00:00.000+0000",
         2
        ],
        [
         "2017-06-24T00:00:00.000+0000",
         2
        ],
        [
         "2017-11-26T00:00:00.000+0000",
         2
        ],
        [
         "2013-11-12T00:00:00.000+0000",
         2
        ],
        [
         "2012-04-27T00:00:00.000+0000",
         2
        ],
        [
         "2019-06-29T00:00:00.000+0000",
         2
        ],
        [
         "2014-09-11T00:00:00.000+0000",
         2
        ],
        [
         "2009-07-02T00:00:00.000+0000",
         2
        ],
        [
         "2010-08-03T00:00:00.000+0000",
         2
        ],
        [
         "2014-01-14T00:00:00.000+0000",
         2
        ],
        [
         "2011-03-17T00:00:00.000+0000",
         2
        ],
        [
         "2017-02-26T00:00:00.000+0000",
         2
        ],
        [
         "2009-04-02T00:00:00.000+0000",
         2
        ],
        [
         "2010-10-06T00:00:00.000+0000",
         2
        ],
        [
         "2017-09-09T00:00:00.000+0000",
         2
        ],
        [
         "2011-09-16T00:00:00.000+0000",
         2
        ],
        [
         "2013-06-26T00:00:00.000+0000",
         2
        ],
        [
         "2009-07-29T00:00:00.000+0000",
         2
        ],
        [
         "2013-07-25T00:00:00.000+0000",
         2
        ],
        [
         "2010-12-02T00:00:00.000+0000",
         2
        ],
        [
         "2014-10-31T00:00:00.000+0000",
         2
        ],
        [
         "2010-03-15T00:00:00.000+0000",
         2
        ],
        [
         "2011-10-20T00:00:00.000+0000",
         2
        ],
        [
         "2009-08-24T00:00:00.000+0000",
         2
        ],
        [
         "2011-06-17T00:00:00.000+0000",
         2
        ],
        [
         "2018-02-18T00:00:00.000+0000",
         2
        ],
        [
         "2008-08-07T00:00:00.000+0000",
         2
        ],
        [
         "2009-04-22T00:00:00.000+0000",
         2
        ],
        [
         "2018-10-13T00:00:00.000+0000",
         2
        ],
        [
         "2012-10-22T00:00:00.000+0000",
         2
        ],
        [
         "2009-05-01T00:00:00.000+0000",
         2
        ],
        [
         "2012-02-14T00:00:00.000+0000",
         2
        ],
        [
         "2014-01-09T00:00:00.000+0000",
         2
        ],
        [
         "2016-11-13T00:00:00.000+0000",
         2
        ],
        [
         "2016-02-10T00:00:00.000+0000",
         2
        ],
        [
         "2016-07-16T00:00:00.000+0000",
         2
        ],
        [
         "2009-03-04T00:00:00.000+0000",
         2
        ],
        [
         "2013-08-26T00:00:00.000+0000",
         2
        ],
        [
         "2019-07-21T00:00:00.000+0000",
         2
        ],
        [
         "2010-09-27T00:00:00.000+0000",
         2
        ],
        [
         "2015-01-06T00:00:00.000+0000",
         2
        ],
        [
         "2017-01-28T00:00:00.000+0000",
         2
        ],
        [
         "2010-07-15T00:00:00.000+0000",
         2
        ],
        [
         "2007-08-07T00:00:00.000+0000",
         2
        ],
        [
         "2012-01-25T00:00:00.000+0000",
         2
        ],
        [
         "2012-07-02T00:00:00.000+0000",
         2
        ],
        [
         "2010-02-22T00:00:00.000+0000",
         2
        ],
        [
         "2012-05-18T00:00:00.000+0000",
         2
        ],
        [
         "2014-03-31T00:00:00.000+0000",
         2
        ],
        [
         "2008-09-30T00:00:00.000+0000",
         2
        ],
        [
         "2011-08-31T00:00:00.000+0000",
         2
        ],
        [
         "2012-02-02T00:00:00.000+0000",
         2
        ],
        [
         "2016-04-16T00:00:00.000+0000",
         2
        ],
        [
         "2013-04-04T00:00:00.000+0000",
         2
        ],
        [
         "2014-09-24T00:00:00.000+0000",
         2
        ],
        [
         "2011-08-08T00:00:00.000+0000",
         2
        ],
        [
         "2012-05-16T00:00:00.000+0000",
         2
        ],
        [
         "2011-11-18T00:00:00.000+0000",
         2
        ],
        [
         "2018-07-08T00:00:00.000+0000",
         2
        ],
        [
         "2013-04-05T00:00:00.000+0000",
         2
        ],
        [
         "2013-03-25T00:00:00.000+0000",
         2
        ],
        [
         "2004-11-01T00:00:00.000+0000",
         2
        ],
        [
         "2008-10-03T00:00:00.000+0000",
         2
        ],
        [
         "2009-02-10T00:00:00.000+0000",
         2
        ],
        [
         "2008-09-29T00:00:00.000+0000",
         2
        ],
        [
         "2012-11-20T00:00:00.000+0000",
         2
        ],
        [
         "2008-04-01T00:00:00.000+0000",
         2
        ],
        [
         "2013-04-25T00:00:00.000+0000",
         2
        ],
        [
         "2010-08-12T00:00:00.000+0000",
         2
        ],
        [
         "2012-08-21T00:00:00.000+0000",
         2
        ],
        [
         "2009-04-07T00:00:00.000+0000",
         2
        ],
        [
         "2011-08-30T00:00:00.000+0000",
         2
        ],
        [
         "2014-06-25T00:00:00.000+0000",
         2
        ],
        [
         "2014-03-03T00:00:00.000+0000",
         2
        ],
        [
         "2012-02-03T00:00:00.000+0000",
         2
        ],
        [
         "2013-02-28T00:00:00.000+0000",
         2
        ],
        [
         "2013-07-04T00:00:00.000+0000",
         2
        ],
        [
         "2012-11-02T00:00:00.000+0000",
         2
        ],
        [
         "2012-04-26T00:00:00.000+0000",
         2
        ],
        [
         "2011-08-15T00:00:00.000+0000",
         2
        ],
        [
         "2008-08-28T00:00:00.000+0000",
         2
        ],
        [
         "2011-12-14T00:00:00.000+0000",
         2
        ],
        [
         "2009-10-30T00:00:00.000+0000",
         2
        ],
        [
         "2010-09-24T00:00:00.000+0000",
         2
        ],
        [
         "2018-07-15T00:00:00.000+0000",
         2
        ],
        [
         "2009-01-07T00:00:00.000+0000",
         2
        ],
        [
         "2013-03-21T00:00:00.000+0000",
         2
        ],
        [
         "2012-09-04T00:00:00.000+0000",
         2
        ],
        [
         "2013-02-26T00:00:00.000+0000",
         2
        ],
        [
         "2012-02-08T00:00:00.000+0000",
         2
        ],
        [
         "2012-04-12T00:00:00.000+0000",
         2
        ],
        [
         "2016-09-18T00:00:00.000+0000",
         2
        ],
        [
         "2010-10-28T00:00:00.000+0000",
         2
        ],
        [
         "2011-04-29T00:00:00.000+0000",
         2
        ],
        [
         "2013-06-24T00:00:00.000+0000",
         2
        ],
        [
         "2010-08-04T00:00:00.000+0000",
         2
        ],
        [
         "2012-10-31T00:00:00.000+0000",
         2
        ],
        [
         "2013-02-06T00:00:00.000+0000",
         2
        ],
        [
         "2013-10-28T00:00:00.000+0000",
         2
        ],
        [
         "2016-07-10T00:00:00.000+0000",
         2
        ],
        [
         "2013-01-23T00:00:00.000+0000",
         2
        ],
        [
         "2011-06-15T00:00:00.000+0000",
         2
        ],
        [
         "2010-05-12T00:00:00.000+0000",
         2
        ],
        [
         "2018-08-19T00:00:00.000+0000",
         2
        ],
        [
         "2012-09-24T00:00:00.000+0000",
         2
        ],
        [
         "2011-11-21T00:00:00.000+0000",
         2
        ],
        [
         "2017-11-04T00:00:00.000+0000",
         2
        ],
        [
         "2014-06-23T00:00:00.000+0000",
         2
        ],
        [
         "2016-10-30T00:00:00.000+0000",
         2
        ],
        [
         "2015-04-08T00:00:00.000+0000",
         2
        ],
        [
         "2009-11-16T00:00:00.000+0000",
         2
        ],
        [
         "2017-02-12T00:00:00.000+0000",
         2
        ],
        [
         "2012-08-31T00:00:00.000+0000",
         2
        ],
        [
         "2012-08-01T00:00:00.000+0000",
         2
        ],
        [
         "2011-08-04T00:00:00.000+0000",
         2
        ],
        [
         "2011-01-25T00:00:00.000+0000",
         2
        ],
        [
         "2009-10-14T00:00:00.000+0000",
         2
        ],
        [
         "2018-04-08T00:00:00.000+0000",
         2
        ],
        [
         "2011-06-01T00:00:00.000+0000",
         2
        ],
        [
         "2020-09-12T00:00:00.000+0000",
         2
        ],
        [
         "2013-10-15T00:00:00.000+0000",
         2
        ],
        [
         "2011-10-03T00:00:00.000+0000",
         2
        ],
        [
         "2009-08-17T00:00:00.000+0000",
         2
        ],
        [
         "2010-08-27T00:00:00.000+0000",
         2
        ],
        [
         "2012-11-27T00:00:00.000+0000",
         2
        ],
        [
         "2012-09-21T00:00:00.000+0000",
         2
        ],
        [
         "2010-04-15T00:00:00.000+0000",
         2
        ],
        [
         "2000-11-01T00:00:00.000+0000",
         2
        ],
        [
         "2013-10-09T00:00:00.000+0000",
         2
        ],
        [
         "2011-07-15T00:00:00.000+0000",
         2
        ],
        [
         "2012-08-09T00:00:00.000+0000",
         2
        ],
        [
         "2011-11-02T00:00:00.000+0000",
         2
        ],
        [
         "2018-01-13T00:00:00.000+0000",
         2
        ],
        [
         "2012-05-24T00:00:00.000+0000",
         2
        ],
        [
         "2011-08-19T00:00:00.000+0000",
         2
        ],
        [
         "2007-04-06T00:00:00.000+0000",
         2
        ],
        [
         "2013-08-06T00:00:00.000+0000",
         2
        ],
        [
         "2009-09-23T00:00:00.000+0000",
         2
        ],
        [
         "2011-05-16T00:00:00.000+0000",
         2
        ],
        [
         "2010-12-23T00:00:00.000+0000",
         2
        ],
        [
         "2011-11-22T00:00:00.000+0000",
         2
        ],
        [
         "2009-04-15T00:00:00.000+0000",
         2
        ],
        [
         "2009-02-04T00:00:00.000+0000",
         2
        ],
        [
         "2013-10-02T00:00:00.000+0000",
         2
        ],
        [
         "2010-09-14T00:00:00.000+0000",
         2
        ],
        [
         "2013-06-21T00:00:00.000+0000",
         2
        ],
        [
         "2014-01-15T00:00:00.000+0000",
         2
        ],
        [
         "2012-05-10T00:00:00.000+0000",
         2
        ],
        [
         "2010-11-17T00:00:00.000+0000",
         2
        ],
        [
         "2012-08-29T00:00:00.000+0000",
         2
        ],
        [
         "2010-01-22T00:00:00.000+0000",
         2
        ],
        [
         "2017-01-07T00:00:00.000+0000",
         2
        ],
        [
         "2009-05-29T00:00:00.000+0000",
         2
        ],
        [
         "2012-10-25T00:00:00.000+0000",
         2
        ],
        [
         "2016-02-05T00:00:00.000+0000",
         2
        ],
        [
         "2012-04-24T00:00:00.000+0000",
         2
        ],
        [
         "2013-05-17T00:00:00.000+0000",
         2
        ],
        [
         "2013-11-14T00:00:00.000+0000",
         2
        ],
        [
         "2009-11-12T00:00:00.000+0000",
         2
        ],
        [
         "2012-09-20T00:00:00.000+0000",
         2
        ],
        [
         "2010-09-28T00:00:00.000+0000",
         2
        ],
        [
         "2012-11-07T00:00:00.000+0000",
         2
        ],
        [
         "2015-12-24T00:00:00.000+0000",
         2
        ],
        [
         "2012-04-17T00:00:00.000+0000",
         2
        ],
        [
         "2007-03-20T00:00:00.000+0000",
         2
        ],
        [
         "2007-05-04T00:00:00.000+0000",
         2
        ],
        [
         "2013-12-19T00:00:00.000+0000",
         2
        ],
        [
         "2013-07-11T00:00:00.000+0000",
         2
        ],
        [
         "2011-08-24T00:00:00.000+0000",
         2
        ],
        [
         "2009-10-15T00:00:00.000+0000",
         1
        ],
        [
         "2016-03-13T00:00:00.000+0000",
         1
        ],
        [
         "2010-04-19T00:00:00.000+0000",
         1
        ],
        [
         "2016-12-24T00:00:00.000+0000",
         1
        ],
        [
         "2010-10-22T00:00:00.000+0000",
         1
        ],
        [
         "2007-07-24T00:00:00.000+0000",
         1
        ],
        [
         "2011-05-25T00:00:00.000+0000",
         1
        ],
        [
         "2012-12-17T00:00:00.000+0000",
         1
        ],
        [
         "2013-07-08T00:00:00.000+0000",
         1
        ],
        [
         "2012-01-16T00:00:00.000+0000",
         1
        ],
        [
         "2014-01-20T00:00:00.000+0000",
         1
        ],
        [
         "2010-04-08T00:00:00.000+0000",
         1
        ],
        [
         "2016-08-21T00:00:00.000+0000",
         1
        ],
        [
         "2017-03-25T00:00:00.000+0000",
         1
        ],
        [
         "2012-12-18T00:00:00.000+0000",
         1
        ],
        [
         "2008-09-19T00:00:00.000+0000",
         1
        ],
        [
         "1999-04-01T00:00:00.000+0000",
         1
        ],
        [
         "2013-02-12T00:00:00.000+0000",
         1
        ],
        [
         "2010-01-19T00:00:00.000+0000",
         1
        ],
        [
         "2009-05-15T00:00:00.000+0000",
         1
        ],
        [
         "2017-03-12T00:00:00.000+0000",
         1
        ],
        [
         "2007-02-27T00:00:00.000+0000",
         1
        ],
        [
         "2013-03-29T00:00:00.000+0000",
         1
        ],
        [
         "2010-03-03T00:00:00.000+0000",
         1
        ],
        [
         "2014-09-08T00:00:00.000+0000",
         1
        ],
        [
         "1997-06-30T00:00:00.000+0000",
         1
        ],
        [
         "2012-03-22T00:00:00.000+0000",
         1
        ],
        [
         "2009-04-27T00:00:00.000+0000",
         1
        ],
        [
         "2013-08-20T00:00:00.000+0000",
         1
        ],
        [
         "2008-06-05T00:00:00.000+0000",
         1
        ],
        [
         "2012-07-23T00:00:00.000+0000",
         1
        ],
        [
         "2014-02-10T00:00:00.000+0000",
         1
        ],
        [
         "2008-07-31T00:00:00.000+0000",
         1
        ],
        [
         "2012-04-20T00:00:00.000+0000",
         1
        ],
        [
         "2016-04-10T00:00:00.000+0000",
         1
        ],
        [
         "2011-02-03T00:00:00.000+0000",
         1
        ],
        [
         "2012-03-30T00:00:00.000+0000",
         1
        ],
        [
         "2017-01-01T00:00:00.000+0000",
         1
        ],
        [
         "2011-04-04T00:00:00.000+0000",
         1
        ],
        [
         "2014-03-26T00:00:00.000+0000",
         1
        ],
        [
         "2012-05-07T00:00:00.000+0000",
         1
        ],
        [
         "2011-05-20T00:00:00.000+0000",
         1
        ],
        [
         "2015-10-31T00:00:00.000+0000",
         1
        ],
        [
         "2010-10-07T00:00:00.000+0000",
         1
        ],
        [
         "2019-05-25T00:00:00.000+0000",
         1
        ],
        [
         "2008-04-18T00:00:00.000+0000",
         1
        ],
        [
         "2009-06-26T00:00:00.000+0000",
         1
        ],
        [
         "2013-10-10T00:00:00.000+0000",
         1
        ],
        [
         "2009-04-10T00:00:00.000+0000",
         1
        ],
        [
         "2009-03-23T00:00:00.000+0000",
         1
        ],
        [
         "2008-03-05T00:00:00.000+0000",
         1
        ],
        [
         "2011-12-06T00:00:00.000+0000",
         1
        ],
        [
         "2007-03-22T00:00:00.000+0000",
         1
        ],
        [
         "2016-05-08T00:00:00.000+0000",
         1
        ],
        [
         "2007-06-18T00:00:00.000+0000",
         1
        ],
        [
         "2009-05-20T00:00:00.000+0000",
         1
        ],
        [
         "2006-11-20T00:00:00.000+0000",
         1
        ],
        [
         "2011-09-07T00:00:00.000+0000",
         1
        ],
        [
         "2010-12-17T00:00:00.000+0000",
         1
        ],
        [
         "2008-11-17T00:00:00.000+0000",
         1
        ],
        [
         "2013-03-08T00:00:00.000+0000",
         1
        ],
        [
         "2009-04-17T00:00:00.000+0000",
         1
        ],
        [
         "2007-07-03T00:00:00.000+0000",
         1
        ],
        [
         "2012-06-28T00:00:00.000+0000",
         1
        ],
        [
         "2017-06-04T00:00:00.000+0000",
         1
        ],
        [
         "2012-02-28T00:00:00.000+0000",
         1
        ],
        [
         "2016-09-10T00:00:00.000+0000",
         1
        ],
        [
         "2013-08-19T00:00:00.000+0000",
         1
        ],
        [
         "2013-10-07T00:00:00.000+0000",
         1
        ],
        [
         "2012-02-27T00:00:00.000+0000",
         1
        ],
        [
         "2018-08-26T00:00:00.000+0000",
         1
        ],
        [
         "2012-02-24T00:00:00.000+0000",
         1
        ],
        [
         "2009-05-26T00:00:00.000+0000",
         1
        ],
        [
         "2009-04-21T00:00:00.000+0000",
         1
        ],
        [
         "2012-10-26T00:00:00.000+0000",
         1
        ],
        [
         "2011-01-24T00:00:00.000+0000",
         1
        ],
        [
         "2005-10-12T00:00:00.000+0000",
         1
        ],
        [
         "2017-06-25T00:00:00.000+0000",
         1
        ],
        [
         "2011-11-03T00:00:00.000+0000",
         1
        ],
        [
         "2009-02-25T00:00:00.000+0000",
         1
        ],
        [
         "2011-02-25T00:00:00.000+0000",
         1
        ],
        [
         "2012-07-25T00:00:00.000+0000",
         1
        ],
        [
         "2012-10-05T00:00:00.000+0000",
         1
        ],
        [
         "2013-04-01T00:00:00.000+0000",
         1
        ],
        [
         "2013-01-15T00:00:00.000+0000",
         1
        ],
        [
         "2016-11-20T00:00:00.000+0000",
         1
        ],
        [
         "2012-08-13T00:00:00.000+0000",
         1
        ],
        [
         "2014-06-19T00:00:00.000+0000",
         1
        ],
        [
         "2009-07-31T00:00:00.000+0000",
         1
        ],
        [
         "2009-11-03T00:00:00.000+0000",
         1
        ],
        [
         "2009-12-04T00:00:00.000+0000",
         1
        ],
        [
         "2016-10-15T00:00:00.000+0000",
         1
        ],
        [
         "2007-10-26T00:00:00.000+0000",
         1
        ],
        [
         "2010-02-12T00:00:00.000+0000",
         1
        ],
        [
         "2007-02-14T00:00:00.000+0000",
         1
        ],
        [
         "2012-07-12T00:00:00.000+0000",
         1
        ],
        [
         "2008-12-08T00:00:00.000+0000",
         1
        ],
        [
         "2008-07-18T00:00:00.000+0000",
         1
        ],
        [
         "2014-01-13T00:00:00.000+0000",
         1
        ],
        [
         "2019-07-07T00:00:00.000+0000",
         1
        ],
        [
         "2008-05-28T00:00:00.000+0000",
         1
        ],
        [
         "2013-08-12T00:00:00.000+0000",
         1
        ],
        [
         "2012-01-24T00:00:00.000+0000",
         1
        ],
        [
         "2011-11-10T00:00:00.000+0000",
         1
        ],
        [
         "2013-07-23T00:00:00.000+0000",
         1
        ],
        [
         "2012-04-25T00:00:00.000+0000",
         1
        ],
        [
         "2013-04-09T00:00:00.000+0000",
         1
        ],
        [
         "2009-01-28T00:00:00.000+0000",
         1
        ],
        [
         "2010-07-06T00:00:00.000+0000",
         1
        ],
        [
         "2017-03-11T00:00:00.000+0000",
         1
        ],
        [
         "2011-02-22T00:00:00.000+0000",
         1
        ],
        [
         "2013-07-24T00:00:00.000+0000",
         1
        ],
        [
         "2007-08-06T00:00:00.000+0000",
         1
        ],
        [
         "2017-03-04T00:00:00.000+0000",
         1
        ],
        [
         "2008-11-01T00:00:00.000+0000",
         1
        ],
        [
         "2011-12-13T00:00:00.000+0000",
         1
        ],
        [
         "2012-11-30T00:00:00.000+0000",
         1
        ],
        [
         "2009-12-10T00:00:00.000+0000",
         1
        ],
        [
         "2009-09-14T00:00:00.000+0000",
         1
        ],
        [
         "2009-09-21T00:00:00.000+0000",
         1
        ],
        [
         "2010-06-14T00:00:00.000+0000",
         1
        ],
        [
         "2008-10-31T00:00:00.000+0000",
         1
        ],
        [
         "2013-05-23T00:00:00.000+0000",
         1
        ],
        [
         "2013-09-09T00:00:00.000+0000",
         1
        ],
        [
         "2008-05-21T00:00:00.000+0000",
         1
        ],
        [
         "2010-07-07T00:00:00.000+0000",
         1
        ],
        [
         "2010-06-29T00:00:00.000+0000",
         1
        ],
        [
         "2008-02-29T00:00:00.000+0000",
         1
        ],
        [
         "2012-03-08T00:00:00.000+0000",
         1
        ],
        [
         "2002-08-28T00:00:00.000+0000",
         1
        ],
        [
         "2014-04-14T00:00:00.000+0000",
         1
        ],
        [
         "2015-12-29T00:00:00.000+0000",
         1
        ],
        [
         "2009-06-04T00:00:00.000+0000",
         1
        ],
        [
         "2006-09-11T00:00:00.000+0000",
         1
        ],
        [
         "2013-02-25T00:00:00.000+0000",
         1
        ],
        [
         "1998-11-08T00:00:00.000+0000",
         1
        ],
        [
         "2009-01-08T00:00:00.000+0000",
         1
        ],
        [
         "2001-12-01T00:00:00.000+0000",
         1
        ],
        [
         "2010-03-10T00:00:00.000+0000",
         1
        ],
        [
         "2013-04-02T00:00:00.000+0000",
         1
        ],
        [
         "2009-07-16T00:00:00.000+0000",
         1
        ],
        [
         "2009-05-14T00:00:00.000+0000",
         1
        ],
        [
         "2011-07-18T00:00:00.000+0000",
         1
        ],
        [
         "2011-05-17T00:00:00.000+0000",
         1
        ],
        [
         "2016-10-22T00:00:00.000+0000",
         1
        ],
        [
         "2006-10-16T00:00:00.000+0000",
         1
        ],
        [
         "2012-11-06T00:00:00.000+0000",
         1
        ],
        [
         "2010-11-23T00:00:00.000+0000",
         1
        ],
        [
         "2009-11-05T00:00:00.000+0000",
         1
        ],
        [
         "2010-05-21T00:00:00.000+0000",
         1
        ],
        [
         "2011-07-27T00:00:00.000+0000",
         1
        ],
        [
         "2017-08-13T00:00:00.000+0000",
         1
        ],
        [
         "2012-04-04T00:00:00.000+0000",
         1
        ],
        [
         "2007-11-07T00:00:00.000+0000",
         1
        ],
        [
         "2012-04-06T00:00:00.000+0000",
         1
        ],
        [
         "2007-10-30T00:00:00.000+0000",
         1
        ],
        [
         "2006-09-29T00:00:00.000+0000",
         1
        ],
        [
         "2012-03-19T00:00:00.000+0000",
         1
        ],
        [
         "2012-05-17T00:00:00.000+0000",
         1
        ],
        [
         "2022-11-11T00:00:00.000+0000",
         1
        ],
        [
         "2012-07-27T00:00:00.000+0000",
         1
        ],
        [
         "2016-08-27T00:00:00.000+0000",
         1
        ],
        [
         "2012-06-20T00:00:00.000+0000",
         1
        ],
        [
         "2013-10-23T00:00:00.000+0000",
         1
        ],
        [
         "2009-03-06T00:00:00.000+0000",
         1
        ],
        [
         "2011-05-03T00:00:00.000+0000",
         1
        ],
        [
         "2009-07-09T00:00:00.000+0000",
         1
        ],
        [
         "2012-03-20T00:00:00.000+0000",
         1
        ],
        [
         "2013-11-25T00:00:00.000+0000",
         1
        ],
        [
         "2010-03-17T00:00:00.000+0000",
         1
        ],
        [
         "2008-09-23T00:00:00.000+0000",
         1
        ],
        [
         "2010-09-08T00:00:00.000+0000",
         1
        ],
        [
         "2016-06-12T00:00:00.000+0000",
         1
        ],
        [
         "2012-02-20T00:00:00.000+0000",
         1
        ],
        [
         "2010-07-20T00:00:00.000+0000",
         1
        ],
        [
         "2008-02-28T00:00:00.000+0000",
         1
        ],
        [
         "2014-08-20T00:00:00.000+0000",
         1
        ],
        [
         "2011-02-24T00:00:00.000+0000",
         1
        ],
        [
         "2016-08-13T00:00:00.000+0000",
         1
        ],
        [
         "2010-11-01T00:00:00.000+0000",
         1
        ],
        [
         "2013-08-09T00:00:00.000+0000",
         1
        ],
        [
         "2006-04-01T00:00:00.000+0000",
         1
        ],
        [
         "2011-08-11T00:00:00.000+0000",
         1
        ],
        [
         "2013-01-07T00:00:00.000+0000",
         1
        ],
        [
         "2009-10-20T00:00:00.000+0000",
         1
        ],
        [
         "2012-01-27T00:00:00.000+0000",
         1
        ],
        [
         "2008-10-16T00:00:00.000+0000",
         1
        ],
        [
         "2014-08-12T00:00:00.000+0000",
         1
        ],
        [
         "2017-07-09T00:00:00.000+0000",
         1
        ],
        [
         "2007-03-27T00:00:00.000+0000",
         1
        ],
        [
         "2011-04-28T00:00:00.000+0000",
         1
        ],
        [
         "2008-07-08T00:00:00.000+0000",
         1
        ],
        [
         "2009-02-11T00:00:00.000+0000",
         1
        ],
        [
         "2010-08-17T00:00:00.000+0000",
         1
        ],
        [
         "2010-09-22T00:00:00.000+0000",
         1
        ],
        [
         "2009-09-05T00:00:00.000+0000",
         1
        ],
        [
         "2008-12-05T00:00:00.000+0000",
         1
        ],
        [
         "2017-07-01T00:00:00.000+0000",
         1
        ],
        [
         "2010-10-04T00:00:00.000+0000",
         1
        ],
        [
         "2010-01-12T00:00:00.000+0000",
         1
        ],
        [
         "2015-08-29T00:00:00.000+0000",
         1
        ],
        [
         "2003-11-01T00:00:00.000+0000",
         1
        ],
        [
         "2008-10-21T00:00:00.000+0000",
         1
        ],
        [
         "2012-05-14T00:00:00.000+0000",
         1
        ],
        [
         "2010-11-08T00:00:00.000+0000",
         1
        ],
        [
         "2010-04-23T00:00:00.000+0000",
         1
        ],
        [
         "2013-11-29T00:00:00.000+0000",
         1
        ],
        [
         "2012-03-15T00:00:00.000+0000",
         1
        ],
        [
         "2012-07-04T00:00:00.000+0000",
         1
        ],
        [
         "2009-10-08T00:00:00.000+0000",
         1
        ],
        [
         "2016-04-23T00:00:00.000+0000",
         1
        ],
        [
         "2008-06-27T00:00:00.000+0000",
         1
        ],
        [
         "2008-09-15T00:00:00.000+0000",
         1
        ],
        [
         "2009-05-05T00:00:00.000+0000",
         1
        ],
        [
         "2010-03-04T00:00:00.000+0000",
         1
        ],
        [
         "2011-06-07T00:00:00.000+0000",
         1
        ],
        [
         "2013-07-01T00:00:00.000+0000",
         1
        ],
        [
         "2010-12-10T00:00:00.000+0000",
         1
        ],
        [
         "2011-03-24T00:00:00.000+0000",
         1
        ],
        [
         "2011-06-30T00:00:00.000+0000",
         1
        ],
        [
         "2008-07-28T00:00:00.000+0000",
         1
        ],
        [
         "2012-10-02T00:00:00.000+0000",
         1
        ],
        [
         "2009-11-25T00:00:00.000+0000",
         1
        ],
        [
         "2007-02-02T00:00:00.000+0000",
         1
        ],
        [
         "2008-02-15T00:00:00.000+0000",
         1
        ],
        [
         "2013-01-24T00:00:00.000+0000",
         1
        ],
        [
         "2017-10-08T00:00:00.000+0000",
         1
        ],
        [
         "2009-12-23T00:00:00.000+0000",
         1
        ],
        [
         "2008-01-18T00:00:00.000+0000",
         1
        ],
        [
         "2009-01-29T00:00:00.000+0000",
         1
        ],
        [
         "2013-05-14T00:00:00.000+0000",
         1
        ],
        [
         "2013-02-19T00:00:00.000+0000",
         1
        ],
        [
         "2009-07-15T00:00:00.000+0000",
         1
        ],
        [
         "2010-03-23T00:00:00.000+0000",
         1
        ],
        [
         "2008-11-19T00:00:00.000+0000",
         1
        ],
        [
         "2009-01-09T00:00:00.000+0000",
         1
        ],
        [
         "2012-04-05T00:00:00.000+0000",
         1
        ],
        [
         "2011-01-31T00:00:00.000+0000",
         1
        ],
        [
         "2010-01-08T00:00:00.000+0000",
         1
        ],
        [
         "2007-06-05T00:00:00.000+0000",
         1
        ],
        [
         "2009-09-28T00:00:00.000+0000",
         1
        ],
        [
         "2011-02-02T00:00:00.000+0000",
         1
        ],
        [
         "2011-09-05T00:00:00.000+0000",
         1
        ],
        [
         "2009-05-22T00:00:00.000+0000",
         1
        ],
        [
         "2012-02-10T00:00:00.000+0000",
         1
        ],
        [
         "2005-10-27T00:00:00.000+0000",
         1
        ],
        [
         "2009-11-01T00:00:00.000+0000",
         1
        ],
        [
         "2010-08-19T00:00:00.000+0000",
         1
        ],
        [
         "2010-07-30T00:00:00.000+0000",
         1
        ],
        [
         "2008-05-22T00:00:00.000+0000",
         1
        ],
        [
         "2013-09-02T00:00:00.000+0000",
         1
        ],
        [
         "2012-11-08T00:00:00.000+0000",
         1
        ],
        [
         "2012-01-30T00:00:00.000+0000",
         1
        ],
        [
         "2005-04-01T00:00:00.000+0000",
         1
        ],
        [
         "2008-03-21T00:00:00.000+0000",
         1
        ],
        [
         "2009-06-23T00:00:00.000+0000",
         1
        ],
        [
         "2021-07-03T00:00:00.000+0000",
         1
        ],
        [
         "2013-02-01T00:00:00.000+0000",
         1
        ],
        [
         "2010-02-17T00:00:00.000+0000",
         1
        ],
        [
         "2010-02-23T00:00:00.000+0000",
         1
        ],
        [
         "2016-05-15T00:00:00.000+0000",
         1
        ],
        [
         "2010-11-16T00:00:00.000+0000",
         1
        ],
        [
         "2009-12-22T00:00:00.000+0000",
         1
        ],
        [
         "2013-11-28T00:00:00.000+0000",
         1
        ],
        [
         "2011-06-02T00:00:00.000+0000",
         1
        ],
        [
         "2008-08-21T00:00:00.000+0000",
         1
        ],
        [
         "2010-12-07T00:00:00.000+0000",
         1
        ],
        [
         "2013-05-28T00:00:00.000+0000",
         1
        ],
        [
         "2008-11-25T00:00:00.000+0000",
         1
        ],
        [
         "2009-10-22T00:00:00.000+0000",
         1
        ],
        [
         "2007-06-22T00:00:00.000+0000",
         1
        ],
        [
         "2014-05-14T00:00:00.000+0000",
         1
        ],
        [
         "2007-10-15T00:00:00.000+0000",
         1
        ],
        [
         "2020-11-28T00:00:00.000+0000",
         1
        ],
        [
         "2011-03-29T00:00:00.000+0000",
         1
        ],
        [
         "2006-12-14T00:00:00.000+0000",
         1
        ],
        [
         "2007-07-20T00:00:00.000+0000",
         1
        ],
        [
         "2011-10-14T00:00:00.000+0000",
         1
        ],
        [
         "2014-08-14T00:00:00.000+0000",
         1
        ],
        [
         "2011-09-13T00:00:00.000+0000",
         1
        ],
        [
         "2016-11-12T00:00:00.000+0000",
         1
        ],
        [
         "2008-02-08T00:00:00.000+0000",
         1
        ],
        [
         "2008-11-21T00:00:00.000+0000",
         1
        ],
        [
         "2008-06-30T00:00:00.000+0000",
         1
        ],
        [
         "2013-09-05T00:00:00.000+0000",
         1
        ],
        [
         "2011-11-17T00:00:00.000+0000",
         1
        ],
        [
         "2011-04-19T00:00:00.000+0000",
         1
        ],
        [
         "2003-05-01T00:00:00.000+0000",
         1
        ],
        [
         "2011-09-19T00:00:00.000+0000",
         1
        ],
        [
         "2006-11-07T00:00:00.000+0000",
         1
        ],
        [
         "2011-10-27T00:00:00.000+0000",
         1
        ],
        [
         "2017-05-06T00:00:00.000+0000",
         1
        ],
        [
         "2011-05-12T00:00:00.000+0000",
         1
        ],
        [
         "2012-12-12T00:00:00.000+0000",
         1
        ],
        [
         "2009-01-22T00:00:00.000+0000",
         1
        ],
        [
         "2015-12-05T00:00:00.000+0000",
         1
        ],
        [
         "2009-08-28T00:00:00.000+0000",
         1
        ],
        [
         "2015-12-25T00:00:00.000+0000",
         1
        ],
        [
         "2006-03-14T00:00:00.000+0000",
         1
        ],
        [
         "2012-08-15T00:00:00.000+0000",
         1
        ],
        [
         "2012-06-08T00:00:00.000+0000",
         1
        ],
        [
         "2012-06-07T00:00:00.000+0000",
         1
        ],
        [
         "2013-08-23T00:00:00.000+0000",
         1
        ],
        [
         "2011-02-10T00:00:00.000+0000",
         1
        ],
        [
         "2016-04-03T00:00:00.000+0000",
         1
        ],
        [
         "2010-11-26T00:00:00.000+0000",
         1
        ],
        [
         "2011-04-27T00:00:00.000+0000",
         1
        ],
        [
         "2010-02-16T00:00:00.000+0000",
         1
        ],
        [
         "2012-02-09T00:00:00.000+0000",
         1
        ],
        [
         "2007-11-21T00:00:00.000+0000",
         1
        ],
        [
         "2008-02-20T00:00:00.000+0000",
         1
        ],
        [
         "2004-03-17T00:00:00.000+0000",
         1
        ],
        [
         "2009-02-12T00:00:00.000+0000",
         1
        ],
        [
         "2013-05-09T00:00:00.000+0000",
         1
        ],
        [
         "2009-05-12T00:00:00.000+0000",
         1
        ],
        [
         "2012-02-17T00:00:00.000+0000",
         1
        ],
        [
         "2008-07-01T00:00:00.000+0000",
         1
        ],
        [
         "2009-02-27T00:00:00.000+0000",
         1
        ],
        [
         "2012-02-29T00:00:00.000+0000",
         1
        ],
        [
         "2005-08-16T00:00:00.000+0000",
         1
        ],
        [
         "2007-01-12T00:00:00.000+0000",
         1
        ],
        [
         "2006-11-15T00:00:00.000+0000",
         1
        ],
        [
         "2013-05-10T00:00:00.000+0000",
         1
        ],
        [
         "2012-09-03T00:00:00.000+0000",
         1
        ],
        [
         "2012-08-20T00:00:00.000+0000",
         1
        ],
        [
         "2013-03-11T00:00:00.000+0000",
         1
        ],
        [
         "2010-11-10T00:00:00.000+0000",
         1
        ],
        [
         "2008-07-09T00:00:00.000+0000",
         1
        ],
        [
         "2012-01-11T00:00:00.000+0000",
         1
        ],
        [
         "2007-08-21T00:00:00.000+0000",
         1
        ],
        [
         "2016-04-09T00:00:00.000+0000",
         1
        ],
        [
         "2012-12-10T00:00:00.000+0000",
         1
        ],
        [
         "2007-10-16T00:00:00.000+0000",
         1
        ],
        [
         "2009-11-17T00:00:00.000+0000",
         1
        ],
        [
         "2010-03-18T00:00:00.000+0000",
         1
        ],
        [
         "2010-12-14T00:00:00.000+0000",
         1
        ],
        [
         "2010-03-31T00:00:00.000+0000",
         1
        ],
        [
         "2008-05-08T00:00:00.000+0000",
         1
        ],
        [
         "2013-09-19T00:00:00.000+0000",
         1
        ],
        [
         "2015-01-01T00:00:00.000+0000",
         1
        ],
        [
         "2009-12-03T00:00:00.000+0000",
         1
        ],
        [
         "1997-11-14T00:00:00.000+0000",
         1
        ],
        [
         "2006-11-24T00:00:00.000+0000",
         1
        ],
        [
         "2009-07-27T00:00:00.000+0000",
         1
        ],
        [
         "2007-08-29T00:00:00.000+0000",
         1
        ],
        [
         "2011-10-13T00:00:00.000+0000",
         1
        ],
        [
         "2010-06-04T00:00:00.000+0000",
         1
        ],
        [
         "2010-12-15T00:00:00.000+0000",
         1
        ],
        [
         "2007-09-24T00:00:00.000+0000",
         1
        ],
        [
         "2013-01-25T00:00:00.000+0000",
         1
        ],
        [
         "2008-09-16T00:00:00.000+0000",
         1
        ],
        [
         "2011-05-31T00:00:00.000+0000",
         1
        ],
        [
         "2015-12-28T00:00:00.000+0000",
         1
        ],
        [
         "2011-09-30T00:00:00.000+0000",
         1
        ],
        [
         "2009-07-30T00:00:00.000+0000",
         1
        ],
        [
         "2005-07-14T00:00:00.000+0000",
         1
        ],
        [
         "2008-10-13T00:00:00.000+0000",
         1
        ],
        [
         "2004-11-16T00:00:00.000+0000",
         1
        ],
        [
         "2006-06-01T00:00:00.000+0000",
         1
        ],
        [
         "2009-07-06T00:00:00.000+0000",
         1
        ],
        [
         "2016-07-31T00:00:00.000+0000",
         1
        ],
        [
         "2016-07-23T00:00:00.000+0000",
         1
        ],
        [
         "2011-06-10T00:00:00.000+0000",
         1
        ],
        [
         "2019-07-06T00:00:00.000+0000",
         1
        ],
        [
         "2008-10-20T00:00:00.000+0000",
         1
        ],
        [
         "2016-05-01T00:00:00.000+0000",
         1
        ],
        [
         "1999-09-08T00:00:00.000+0000",
         1
        ],
        [
         "2009-09-04T00:00:00.000+0000",
         1
        ],
        [
         "2010-07-28T00:00:00.000+0000",
         1
        ],
        [
         "2014-06-07T00:00:00.000+0000",
         1
        ],
        [
         "2012-07-24T00:00:00.000+0000",
         1
        ],
        [
         "2009-08-05T00:00:00.000+0000",
         1
        ],
        [
         "2011-04-22T00:00:00.000+0000",
         1
        ],
        [
         "2018-11-10T00:00:00.000+0000",
         1
        ],
        [
         "2012-10-01T00:00:00.000+0000",
         1
        ],
        [
         "2010-07-13T00:00:00.000+0000",
         1
        ],
        [
         "2011-08-16T00:00:00.000+0000",
         1
        ],
        [
         "2009-09-25T00:00:00.000+0000",
         1
        ],
        [
         "2014-08-02T00:00:00.000+0000",
         1
        ],
        [
         "2008-10-23T00:00:00.000+0000",
         1
        ],
        [
         "2012-10-03T00:00:00.000+0000",
         1
        ],
        [
         "2007-06-29T00:00:00.000+0000",
         1
        ],
        [
         "2008-10-28T00:00:00.000+0000",
         1
        ],
        [
         "2011-05-23T00:00:00.000+0000",
         1
        ],
        [
         "2012-10-15T00:00:00.000+0000",
         1
        ],
        [
         "2011-11-14T00:00:00.000+0000",
         1
        ],
        [
         "2013-09-03T00:00:00.000+0000",
         1
        ],
        [
         "2007-05-01T00:00:00.000+0000",
         1
        ],
        [
         "2009-06-12T00:00:00.000+0000",
         1
        ],
        [
         "2010-12-01T00:00:00.000+0000",
         1
        ],
        [
         "2009-07-21T00:00:00.000+0000",
         1
        ],
        [
         "2006-05-10T00:00:00.000+0000",
         1
        ],
        [
         "2008-12-01T00:00:00.000+0000",
         1
        ],
        [
         "2013-04-10T00:00:00.000+0000",
         1
        ],
        [
         "2009-12-11T00:00:00.000+0000",
         1
        ],
        [
         "2009-03-02T00:00:00.000+0000",
         1
        ],
        [
         "2009-03-26T00:00:00.000+0000",
         1
        ],
        [
         "2011-09-08T00:00:00.000+0000",
         1
        ],
        [
         "2010-03-16T00:00:00.000+0000",
         1
        ],
        [
         "2011-01-12T00:00:00.000+0000",
         1
        ],
        [
         "2017-01-21T00:00:00.000+0000",
         1
        ],
        [
         "2012-08-07T00:00:00.000+0000",
         1
        ],
        [
         "2012-07-09T00:00:00.000+0000",
         1
        ],
        [
         "2008-10-15T00:00:00.000+0000",
         1
        ],
        [
         "2011-03-02T00:00:00.000+0000",
         1
        ],
        [
         "2016-02-28T00:00:00.000+0000",
         1
        ],
        [
         "2016-04-17T00:00:00.000+0000",
         1
        ],
        [
         "2016-09-25T00:00:00.000+0000",
         1
        ],
        [
         "2007-09-11T00:00:00.000+0000",
         1
        ],
        [
         "2004-06-01T00:00:00.000+0000",
         1
        ],
        [
         "2016-12-03T00:00:00.000+0000",
         1
        ],
        [
         "2009-12-01T00:00:00.000+0000",
         1
        ],
        [
         "2012-06-06T00:00:00.000+0000",
         1
        ],
        [
         "2009-12-09T00:00:00.000+0000",
         1
        ],
        [
         "2017-04-22T00:00:00.000+0000",
         1
        ],
        [
         "2010-08-06T00:00:00.000+0000",
         1
        ],
        [
         "2007-11-08T00:00:00.000+0000",
         1
        ],
        [
         "2013-04-15T00:00:00.000+0000",
         1
        ],
        [
         "2013-04-08T00:00:00.000+0000",
         1
        ],
        [
         "2016-03-20T00:00:00.000+0000",
         1
        ],
        [
         "2011-10-31T00:00:00.000+0000",
         1
        ],
        [
         "2012-08-03T00:00:00.000+0000",
         1
        ],
        [
         "2007-11-14T00:00:00.000+0000",
         1
        ],
        [
         "2008-02-13T00:00:00.000+0000",
         1
        ],
        [
         "2012-12-21T00:00:00.000+0000",
         1
        ],
        [
         "2014-06-27T00:00:00.000+0000",
         1
        ],
        [
         "2016-06-04T00:00:00.000+0000",
         1
        ],
        [
         "2011-07-26T00:00:00.000+0000",
         1
        ],
        [
         "2008-05-19T00:00:00.000+0000",
         1
        ],
        [
         "2009-04-09T00:00:00.000+0000",
         1
        ],
        [
         "2009-08-25T00:00:00.000+0000",
         1
        ],
        [
         "2011-12-19T00:00:00.000+0000",
         1
        ],
        [
         "2013-04-18T00:00:00.000+0000",
         1
        ],
        [
         "2010-02-25T00:00:00.000+0000",
         1
        ],
        [
         "2010-06-21T00:00:00.000+0000",
         1
        ],
        [
         "2010-09-10T00:00:00.000+0000",
         1
        ],
        [
         "2008-09-25T00:00:00.000+0000",
         1
        ],
        [
         "2016-03-19T00:00:00.000+0000",
         1
        ],
        [
         "2006-05-01T00:00:00.000+0000",
         1
        ],
        [
         "2009-10-28T00:00:00.000+0000",
         1
        ],
        [
         "2010-10-12T00:00:00.000+0000",
         1
        ],
        [
         "2007-11-05T00:00:00.000+0000",
         1
        ],
        [
         "2011-03-15T00:00:00.000+0000",
         1
        ],
        [
         "2011-09-26T00:00:00.000+0000",
         1
        ],
        [
         "2013-05-16T00:00:00.000+0000",
         1
        ],
        [
         "2013-10-22T00:00:00.000+0000",
         1
        ],
        [
         "2013-03-04T00:00:00.000+0000",
         1
        ],
        [
         "2007-07-12T00:00:00.000+0000",
         1
        ],
        [
         "2018-04-22T00:00:00.000+0000",
         1
        ],
        [
         "2011-07-20T00:00:00.000+0000",
         1
        ],
        [
         "2016-04-24T00:00:00.000+0000",
         1
        ],
        [
         "2010-09-29T00:00:00.000+0000",
         1
        ],
        [
         "2017-04-02T00:00:00.000+0000",
         1
        ],
        [
         "2007-06-12T00:00:00.000+0000",
         1
        ],
        [
         "2008-08-26T00:00:00.000+0000",
         1
        ],
        [
         "2013-03-15T00:00:00.000+0000",
         1
        ],
        [
         "2012-12-07T00:00:00.000+0000",
         1
        ],
        [
         "2009-03-18T00:00:00.000+0000",
         1
        ],
        [
         "2011-11-23T00:00:00.000+0000",
         1
        ],
        [
         "2013-02-21T00:00:00.000+0000",
         1
        ],
        [
         "2016-03-06T00:00:00.000+0000",
         1
        ],
        [
         "2013-01-08T00:00:00.000+0000",
         1
        ],
        [
         "2010-04-05T00:00:00.000+0000",
         1
        ],
        [
         "2018-03-31T00:00:00.000+0000",
         1
        ],
        [
         "2010-09-20T00:00:00.000+0000",
         1
        ],
        [
         "2008-06-24T00:00:00.000+0000",
         1
        ],
        [
         "2012-09-26T00:00:00.000+0000",
         1
        ],
        [
         "2013-07-09T00:00:00.000+0000",
         1
        ],
        [
         "2011-05-14T00:00:00.000+0000",
         1
        ],
        [
         "2010-05-25T00:00:00.000+0000",
         1
        ],
        [
         "2010-08-30T00:00:00.000+0000",
         1
        ],
        [
         "2010-01-15T00:00:00.000+0000",
         1
        ],
        [
         "2005-07-11T00:00:00.000+0000",
         1
        ],
        [
         "2007-09-21T00:00:00.000+0000",
         1
        ],
        [
         "2010-10-01T00:00:00.000+0000",
         1
        ],
        [
         "2013-10-03T00:00:00.000+0000",
         1
        ],
        [
         "2013-01-16T00:00:00.000+0000",
         1
        ],
        [
         "2007-03-06T00:00:00.000+0000",
         1
        ],
        [
         "2013-06-03T00:00:00.000+0000",
         1
        ],
        [
         "2009-01-14T00:00:00.000+0000",
         1
        ],
        [
         "2009-04-08T00:00:00.000+0000",
         1
        ],
        [
         "2009-04-14T00:00:00.000+0000",
         1
        ],
        [
         "2010-02-09T00:00:00.000+0000",
         1
        ],
        [
         "2011-09-23T00:00:00.000+0000",
         1
        ],
        [
         "2010-04-14T00:00:00.000+0000",
         1
        ],
        [
         "2012-05-04T00:00:00.000+0000",
         1
        ],
        [
         "2008-12-10T00:00:00.000+0000",
         1
        ],
        [
         "2011-11-01T00:00:00.000+0000",
         1
        ],
        [
         "2003-07-01T00:00:00.000+0000",
         1
        ],
        [
         "2012-09-06T00:00:00.000+0000",
         1
        ],
        [
         "2010-08-26T00:00:00.000+0000",
         1
        ],
        [
         "2007-06-01T00:00:00.000+0000",
         1
        ],
        [
         "2001-03-15T00:00:00.000+0000",
         1
        ],
        [
         "2012-07-10T00:00:00.000+0000",
         1
        ],
        [
         "2017-05-07T00:00:00.000+0000",
         1
        ],
        [
         "2017-12-10T00:00:00.000+0000",
         1
        ],
        [
         "2011-12-07T00:00:00.000+0000",
         1
        ],
        [
         "2013-05-13T00:00:00.000+0000",
         1
        ],
        [
         "2016-12-31T00:00:00.000+0000",
         1
        ],
        [
         "2010-09-06T00:00:00.000+0000",
         1
        ],
        [
         "2009-04-29T00:00:00.000+0000",
         1
        ],
        [
         "2012-08-08T00:00:00.000+0000",
         1
        ],
        [
         "2008-11-13T00:00:00.000+0000",
         1
        ],
        [
         "2016-09-04T00:00:00.000+0000",
         1
        ],
        [
         "2008-07-17T00:00:00.000+0000",
         1
        ],
        [
         "2012-04-09T00:00:00.000+0000",
         1
        ],
        [
         "2006-10-11T00:00:00.000+0000",
         1
        ],
        [
         "2013-09-11T00:00:00.000+0000",
         1
        ],
        [
         "2006-11-01T00:00:00.000+0000",
         1
        ],
        [
         "2006-12-19T00:00:00.000+0000",
         1
        ],
        [
         "2010-06-10T00:00:00.000+0000",
         1
        ],
        [
         "2009-09-30T00:00:00.000+0000",
         1
        ],
        [
         "2016-06-19T00:00:00.000+0000",
         1
        ],
        [
         "2019-04-21T00:00:00.000+0000",
         1
        ],
        [
         "2012-11-16T00:00:00.000+0000",
         1
        ],
        [
         "2013-06-28T00:00:00.000+0000",
         1
        ],
        [
         "2009-06-22T00:00:00.000+0000",
         1
        ],
        [
         "2009-06-30T00:00:00.000+0000",
         1
        ],
        [
         "2010-12-18T00:00:00.000+0000",
         1
        ],
        [
         "2008-10-22T00:00:00.000+0000",
         1
        ],
        [
         "2012-10-18T00:00:00.000+0000",
         1
        ],
        [
         "2006-07-26T00:00:00.000+0000",
         1
        ],
        [
         "2015-11-01T00:00:00.000+0000",
         1
        ],
        [
         "2012-03-06T00:00:00.000+0000",
         1
        ],
        [
         "2006-08-24T00:00:00.000+0000",
         1
        ],
        [
         "2011-06-20T00:00:00.000+0000",
         1
        ],
        [
         "2012-12-03T00:00:00.000+0000",
         1
        ],
        [
         "2011-12-02T00:00:00.000+0000",
         1
        ],
        [
         "2006-10-05T00:00:00.000+0000",
         1
        ],
        [
         "2007-12-14T00:00:00.000+0000",
         1
        ],
        [
         "2008-08-18T00:00:00.000+0000",
         1
        ],
        [
         "2004-03-01T00:00:00.000+0000",
         1
        ],
        [
         "2009-06-17T00:00:00.000+0000",
         1
        ],
        [
         "2011-12-16T00:00:00.000+0000",
         1
        ],
        [
         "2008-06-20T00:00:00.000+0000",
         1
        ],
        [
         "2010-03-01T00:00:00.000+0000",
         1
        ],
        [
         "2009-07-24T00:00:00.000+0000",
         1
        ],
        [
         "2013-01-30T00:00:00.000+0000",
         1
        ],
        [
         "2006-05-08T00:00:00.000+0000",
         1
        ],
        [
         "2015-05-30T00:00:00.000+0000",
         1
        ],
        [
         "2014-09-10T00:00:00.000+0000",
         1
        ],
        [
         "2013-03-07T00:00:00.000+0000",
         1
        ],
        [
         "2008-09-22T00:00:00.000+0000",
         1
        ],
        [
         "2006-07-11T00:00:00.000+0000",
         1
        ],
        [
         "2007-01-24T00:00:00.000+0000",
         1
        ],
        [
         "2017-04-16T00:00:00.000+0000",
         1
        ],
        [
         "2012-05-28T00:00:00.000+0000",
         1
        ],
        [
         "2013-03-13T00:00:00.000+0000",
         1
        ],
        [
         "2009-08-20T00:00:00.000+0000",
         1
        ],
        [
         "2013-01-10T00:00:00.000+0000",
         1
        ],
        [
         "2012-06-21T00:00:00.000+0000",
         1
        ],
        [
         "2012-04-10T00:00:00.000+0000",
         1
        ],
        [
         "2017-02-04T00:00:00.000+0000",
         1
        ],
        [
         "2006-11-22T00:00:00.000+0000",
         1
        ],
        [
         "2013-06-25T00:00:00.000+0000",
         1
        ],
        [
         "2009-08-04T00:00:00.000+0000",
         1
        ],
        [
         "2016-11-26T00:00:00.000+0000",
         1
        ],
        [
         "2011-11-08T00:00:00.000+0000",
         1
        ],
        [
         "2013-07-02T00:00:00.000+0000",
         1
        ],
        [
         "2011-04-05T00:00:00.000+0000",
         1
        ],
        [
         "2015-06-17T00:00:00.000+0000",
         1
        ],
        [
         "2013-06-06T00:00:00.000+0000",
         1
        ],
        [
         "2006-08-23T00:00:00.000+0000",
         1
        ],
        [
         "2012-07-05T00:00:00.000+0000",
         1
        ],
        [
         "2012-08-22T00:00:00.000+0000",
         1
        ],
        [
         "2016-01-01T00:00:00.000+0000",
         1
        ],
        [
         "2009-02-06T00:00:00.000+0000",
         1
        ],
        [
         "2013-11-26T00:00:00.000+0000",
         1
        ],
        [
         "2009-08-18T00:00:00.000+0000",
         1
        ],
        [
         "2012-01-17T00:00:00.000+0000",
         1
        ],
        [
         "2011-08-29T00:00:00.000+0000",
         1
        ],
        [
         "2013-09-06T00:00:00.000+0000",
         1
        ],
        [
         "2016-06-05T00:00:00.000+0000",
         1
        ],
        [
         "2009-02-24T00:00:00.000+0000",
         1
        ],
        [
         "2012-03-02T00:00:00.000+0000",
         1
        ],
        [
         "2015-06-16T00:00:00.000+0000",
         1
        ],
        [
         "2011-10-12T00:00:00.000+0000",
         1
        ],
        [
         "2013-07-31T00:00:00.000+0000",
         1
        ],
        [
         "2006-11-29T00:00:00.000+0000",
         1
        ],
        [
         "2016-06-26T00:00:00.000+0000",
         1
        ],
        [
         "2016-10-08T00:00:00.000+0000",
         1
        ],
        [
         "2010-09-07T00:00:00.000+0000",
         1
        ],
        [
         "2012-02-07T00:00:00.000+0000",
         1
        ],
        [
         "2015-12-30T00:00:00.000+0000",
         1
        ],
        [
         "2007-04-03T00:00:00.000+0000",
         1
        ],
        [
         "2008-11-14T00:00:00.000+0000",
         1
        ],
        [
         "2011-01-21T00:00:00.000+0000",
         1
        ],
        [
         "2010-02-19T00:00:00.000+0000",
         1
        ],
        [
         "2011-11-07T00:00:00.000+0000",
         1
        ],
        [
         "2013-04-12T00:00:00.000+0000",
         1
        ],
        [
         "2010-10-20T00:00:00.000+0000",
         1
        ],
        [
         "2011-04-18T00:00:00.000+0000",
         1
        ],
        [
         "2008-10-24T00:00:00.000+0000",
         1
        ],
        [
         "2014-11-17T00:00:00.000+0000",
         1
        ],
        [
         "2011-11-29T00:00:00.000+0000",
         1
        ],
        [
         "2007-06-26T00:00:00.000+0000",
         1
        ],
        [
         "2011-03-16T00:00:00.000+0000",
         1
        ],
        [
         "2012-05-08T00:00:00.000+0000",
         1
        ],
        [
         "2009-10-01T00:00:00.000+0000",
         1
        ],
        [
         "2010-08-20T00:00:00.000+0000",
         1
        ],
        [
         "2015-06-15T00:00:00.000+0000",
         1
        ],
        [
         "2017-02-19T00:00:00.000+0000",
         1
        ],
        [
         "2013-09-16T00:00:00.000+0000",
         1
        ],
        [
         "2010-01-27T00:00:00.000+0000",
         1
        ],
        [
         "2013-05-02T00:00:00.000+0000",
         1
        ],
        [
         "2015-12-06T00:00:00.000+0000",
         1
        ],
        [
         "2009-03-12T00:00:00.000+0000",
         1
        ],
        [
         "1999-11-01T00:00:00.000+0000",
         1
        ]
       ],
       "datasetInfos": [],
       "dbfsResultPath": null,
       "isJsonSchema": true,
       "metadata": {},
       "overflow": false,
       "plotOptions": {
        "customPlotOptions": {},
        "displayType": "table",
        "pivotAggregation": null,
        "pivotColumns": null,
        "xColumns": null,
        "yColumns": null
       },
       "removedWidgets": [],
       "schema": [
        {
         "metadata": "{}",
         "name": "release_date",
         "type": "\"timestamp\""
        },
        {
         "metadata": "{}",
         "name": "nb_games",
         "type": "\"long\""
        }
       ],
       "type": "table"
      }
     },
     "output_type": "display_data"
    },
    {
     "output_type": "display_data",
     "data": {
      "text/plain": [
       "Databricks visualization. Run in Databricks to view."
      ]
     },
     "metadata": {
      "application/vnd.databricks.v1.subcommand+json": {
       "baseErrorDetails": null,
       "bindings": {},
       "collapsed": false,
       "command": "%python\n__backend_agg_display_orig = display\n__backend_agg_dfs = []\ndef __backend_agg_display_new(df):\n    __backend_agg_df_modules = [\"pandas.core.frame\", \"databricks.koalas.frame\", \"pyspark.sql.dataframe\", \"pyspark.pandas.frame\", \"pyspark.sql.connect.dataframe\"]\n    if (type(df).__module__ in __backend_agg_df_modules and type(df).__name__ == 'DataFrame') or isinstance(df, list):\n        __backend_agg_dfs.append(df)\n\ndisplay = __backend_agg_display_new\n\ndef __backend_agg_user_code_fn():\n    import base64\n    exec(base64.standard_b64decode(\"ZGlzcGxheShkZl9zdGVhbV9mbGF0Lmdyb3VwQnkoInJlbGVhc2VfZGF0ZSIpLmFnZyhGLmNvdW50RGlzdGluY3QoImFwcGlkIikuYWxpYXMoIm5iX2dhbWVzIikpLm9yZGVyQnkoRi5kZXNjKCJuYl9nYW1lcyIpKSk=\").decode())\n\ntry:\n    # run user code\n    __backend_agg_user_code_fn()\n\n    #reset display function\n    display = __backend_agg_display_orig\n\n    if len(__backend_agg_dfs) > 0:\n        # create a temp view\n        if type(__backend_agg_dfs[0]).__module__ == \"databricks.koalas.frame\":\n            # koalas dataframe\n            __backend_agg_dfs[0].to_spark().createOrReplaceTempView(\"DatabricksViewdee025b\")\n        elif type(__backend_agg_dfs[0]).__module__ == \"pandas.core.frame\" or isinstance(__backend_agg_dfs[0], list):\n            # pandas dataframe\n            spark.createDataFrame(__backend_agg_dfs[0]).createOrReplaceTempView(\"DatabricksViewdee025b\")\n        else:\n            __backend_agg_dfs[0].createOrReplaceTempView(\"DatabricksViewdee025b\")\n        #run backend agg\n        display(spark.sql(\"\"\"WITH q AS (select * from DatabricksViewdee025b) SELECT `release_date`,`nb_games` FROM q\"\"\"))\n    else:\n        displayHTML(\"dataframe no longer exists. If you're using dataframe.display(), use display(dataframe) instead.\")\n\n\nfinally:\n    spark.sql(\"drop view if exists DatabricksViewdee025b\")\n    display = __backend_agg_display_orig\n    del __backend_agg_display_new\n    del __backend_agg_display_orig\n    del __backend_agg_dfs\n    del __backend_agg_user_code_fn\n\n",
       "commandTitle": "Visulisation de la date de sortie des jeux",
       "commandType": "auto",
       "commandVersion": 0,
       "commentThread": [],
       "commentsVisible": false,
       "contentSha256Hex": null,
       "customPlotOptions": {
        "redashChart": [
         {
          "key": "type",
          "value": "CHART"
         },
         {
          "key": "options",
          "value": {
           "alignYAxesAtZero": true,
           "coefficient": 1,
           "columnConfigurationMap": {
            "x": {
             "column": "release_date",
             "id": "column_51e3f657481"
            },
            "y": [
             {
              "column": "nb_games",
              "id": "column_51e3f657482"
             }
            ]
           },
           "dateTimeFormat": "DD/MM/YYYY HH:mm",
           "direction": {
            "type": "counterclockwise"
           },
           "error_y": {
            "type": "data",
            "visible": true
           },
           "globalSeriesType": "scatter",
           "legend": {
            "traceorder": "normal"
           },
           "missingValuesAsZero": false,
           "numberFormat": "0,0.[00000]",
           "percentFormat": "0[.]00%",
           "series": {
            "error_y": {
             "type": "data",
             "visible": true
            },
            "stacking": null
           },
           "seriesOptions": {
            "column_51e3f657482": {
             "color": "#50F5ED",
             "name": "nb_games",
             "type": "scatter",
             "yAxis": 0
            },
            "nb_games": {
             "color": "#50F5ED",
             "name": "nb_games",
             "type": "scatter",
             "yAxis": 0
            }
           },
           "showDataLabels": false,
           "sizemode": "diameter",
           "sortX": true,
           "sortY": true,
           "swappedAxes": false,
           "textFormat": "",
           "useAggregationsUi": true,
           "valuesOptions": {},
           "version": 2,
           "xAxis": {
            "labels": {
             "enabled": true
            },
            "title": {
             "text": "Date de sortie"
            },
            "type": "-"
           },
           "yAxis": [
            {
             "title": {
              "text": "Nombre de jeux"
             },
             "type": "-"
            },
            {
             "opposite": true,
             "type": "-"
            }
           ]
          }
         }
        ]
       },
       "datasetPreviewNameToCmdIdMap": {},
       "diffDeletes": [],
       "diffInserts": [],
       "displayType": "redashChart",
       "error": null,
       "errorDetails": null,
       "errorSummary": null,
       "errorTraceType": null,
       "finishTime": 0,
       "globalVars": {},
       "guid": "",
       "height": "auto",
       "hideCommandCode": false,
       "hideCommandResult": false,
       "iPythonMetadata": null,
       "inputWidgets": {},
       "isLockedInExamMode": false,
       "latestUser": "a user",
       "latestUserId": null,
       "listResultMetadata": null,
       "metadata": {},
       "nuid": "fdd6c11b-f3cd-4856-b3d8-39983861b0c1",
       "origId": 0,
       "parentHierarchy": [],
       "pivotAggregation": null,
       "pivotColumns": null,
       "position": 12.088526725769043,
       "resultDbfsErrorMessage": null,
       "resultDbfsStatus": "INLINED_IN_TREE",
       "results": null,
       "showCommandTitle": false,
       "startTime": 0,
       "state": "input",
       "streamStates": {},
       "subcommandOptions": {
        "queryPlan": {
         "selects": [
          {
           "column": "release_date",
           "type": "column"
          },
          {
           "column": "nb_games",
           "type": "column"
          }
         ]
        }
       },
       "submitTime": 0,
       "subtype": "tableResultSubCmd.visualization",
       "tableResultIndex": 0,
       "tableResultSettingsMap": {},
       "useConsistentColors": false,
       "version": "CommandV1",
       "width": "auto",
       "workflows": [],
       "xColumns": null,
       "yColumns": null
      }
     },
     "output_type": "display_data"
    }
   ],
   "source": [
    "display(df_steam_flat.groupBy(\"release_date\").agg(F.countDistinct(\"appid\").alias(\"nb_games\")).orderBy(F.desc(\"nb_games\")))"
   ]
  },
  {
   "cell_type": "markdown",
   "metadata": {
    "application/vnd.databricks.v1+cell": {
     "cellMetadata": {},
     "inputWidgets": {},
     "nuid": "e0eba3c4-a35f-4a7c-9df1-eb447033b6e8",
     "showTitle": false,
     "tableResultSettingsMap": {},
     "title": ""
    }
   },
   "source": [
    "Cette visualisation rapide me permet de constater qu'il y a une explosion de la sortie de jeux sur steam à partir de l'année 2014"
   ]
  },
  {
   "cell_type": "markdown",
   "metadata": {
    "application/vnd.databricks.v1+cell": {
     "cellMetadata": {},
     "inputWidgets": {},
     "nuid": "932f6b63-dea5-4d89-b191-bd4419c846ad",
     "showTitle": false,
     "tableResultSettingsMap": {},
     "title": ""
    }
   },
   "source": [
    "---"
   ]
  },
  {
   "cell_type": "markdown",
   "metadata": {
    "application/vnd.databricks.v1+cell": {
     "cellMetadata": {},
     "inputWidgets": {},
     "nuid": "1b30fa2d-bbd8-4f26-822d-5c711e62fe27",
     "showTitle": false,
     "tableResultSettingsMap": {},
     "title": ""
    }
   },
   "source": [
    "Etude des prix"
   ]
  },
  {
   "cell_type": "code",
   "execution_count": 0,
   "metadata": {
    "application/vnd.databricks.v1+cell": {
     "cellMetadata": {
      "byteLimit": 2048000,
      "rowLimit": 10000
     },
     "inputWidgets": {},
     "nuid": "4768876f-0fa9-47aa-9e35-b7f6dcbc85b0",
     "showTitle": false,
     "tableResultSettingsMap": {},
     "title": ""
    }
   },
   "outputs": [
    {
     "output_type": "display_data",
     "data": {
      "text/html": [
       "<style scoped>\n",
       "  .table-result-container {\n",
       "    max-height: 300px;\n",
       "    overflow: auto;\n",
       "  }\n",
       "  table, th, td {\n",
       "    border: 1px solid black;\n",
       "    border-collapse: collapse;\n",
       "  }\n",
       "  th, td {\n",
       "    padding: 5px;\n",
       "  }\n",
       "  th {\n",
       "    text-align: left;\n",
       "  }\n",
       "</style><div class='table-result-container'><table class='table-result'><thead style='background-color: white'><tr><th>summary</th><th>appid</th><th>ccu</th><th>developer</th><th>discount</th><th>genre</th><th>header_image</th><th>initialprice</th><th>languages</th><th>name</th><th>negative</th><th>owners</th><th>positive</th><th>price</th><th>publisher</th><th>required_age</th><th>short_description</th><th>type</th><th>website</th></tr></thead><tbody><tr><td>count</td><td>55686</td><td>55686</td><td>55686</td><td>55686</td><td>55686</td><td>55686</td><td>55686</td><td>55686</td><td>55686</td><td>55686</td><td>55686</td><td>55686</td><td>55686</td><td>55686</td><td>55686</td><td>55686</td><td>55686</td><td>55686</td></tr><tr><td>mean</td><td>1025624.7874510649</td><td>138.97207556656969</td><td>67392.0</td><td>2.6040117803397624</td><td>null</td><td>null</td><td>797.6236217361635</td><td>null</td><td>Infinity</td><td>241.82297166253636</td><td>null</td><td>1470.878694824552</td><td>773.3401213949646</td><td>2001.0</td><td>0.1857378874402902</td><td>null</td><td>null</td><td>null</td></tr><tr><td>stddev</td><td>522798.4087328436</td><td>6002.3372242551</td><td>210681.70504552333</td><td>12.887635112557996</td><td>null</td><td>null</td><td>1104.7949315559604</td><td>null</td><td>NaN</td><td>5765.668726815331</td><td>null</td><td>30984.117176566946</td><td>1093.167581116487</td><td>1921.8937275510318</td><td>1.7214162791461722</td><td>null</td><td>null</td><td>null</td></tr><tr><td>min</td><td>10</td><td>0</td><td></td><td>0.0</td><td></td><td>https://cdn.akamai.steamstatic.com/steam/apps/10/header.jpg?t=1666823513</td><td>0.0</td><td></td><td> Fieldrunners 2</td><td>0</td><td>0 .. 20,000</td><td>0</td><td>0.0</td><td></td><td>0</td><td></td><td>game</td><td></td></tr><tr><td>max</td><td>999990</td><td>874053</td><td>＼上／</td><td>90.0</td><td>Web Publishing</td><td>https://cdn.akamai.steamstatic.com/steam/apps/999990/header.jpg?t=1610733322</td><td>99900.0</td><td>Turkish</td><td>～Daydream～蝶が舞う頃に</td><td>908515</td><td>500,000 .. 1,000,000</td><td>5943345</td><td>99900.0</td><td>Ｌｅｍｏｎ　Ｂａｌｍ</td><td>35</td><td>🚗 Take part in a roller coaster of emotions with Louise embarking on a road trip of a lifetime through the late 1960s USA, trying to show her son Mitch how to navigate the often cruel modern world. Your choices matter! ✅</td><td>game</td><td>www.windybeard.com</td></tr></tbody></table></div>"
      ]
     },
     "metadata": {
      "application/vnd.databricks.v1+output": {
       "addedWidgets": {},
       "aggData": [],
       "aggError": "",
       "aggOverflow": false,
       "aggSchema": [],
       "aggSeriesLimitReached": false,
       "aggType": "",
       "arguments": {},
       "columnCustomDisplayInfos": {},
       "data": [
        [
         "count",
         "55686",
         "55686",
         "55686",
         "55686",
         "55686",
         "55686",
         "55686",
         "55686",
         "55686",
         "55686",
         "55686",
         "55686",
         "55686",
         "55686",
         "55686",
         "55686",
         "55686",
         "55686"
        ],
        [
         "mean",
         "1025624.7874510649",
         "138.97207556656969",
         "67392.0",
         "2.6040117803397624",
         null,
         null,
         "797.6236217361635",
         null,
         "Infinity",
         "241.82297166253636",
         null,
         "1470.878694824552",
         "773.3401213949646",
         "2001.0",
         "0.1857378874402902",
         null,
         null,
         null
        ],
        [
         "stddev",
         "522798.4087328436",
         "6002.3372242551",
         "210681.70504552333",
         "12.887635112557996",
         null,
         null,
         "1104.7949315559604",
         null,
         "NaN",
         "5765.668726815331",
         null,
         "30984.117176566946",
         "1093.167581116487",
         "1921.8937275510318",
         "1.7214162791461722",
         null,
         null,
         null
        ],
        [
         "min",
         "10",
         "0",
         "",
         "0.0",
         "",
         "https://cdn.akamai.steamstatic.com/steam/apps/10/header.jpg?t=1666823513",
         "0.0",
         "",
         " Fieldrunners 2",
         "0",
         "0 .. 20,000",
         "0",
         "0.0",
         "",
         "0",
         "",
         "game",
         ""
        ],
        [
         "max",
         "999990",
         "874053",
         "＼上／",
         "90.0",
         "Web Publishing",
         "https://cdn.akamai.steamstatic.com/steam/apps/999990/header.jpg?t=1610733322",
         "99900.0",
         "Turkish",
         "～Daydream～蝶が舞う頃に",
         "908515",
         "500,000 .. 1,000,000",
         "5943345",
         "99900.0",
         "Ｌｅｍｏｎ　Ｂａｌｍ",
         "35",
         "🚗 Take part in a roller coaster of emotions with Louise embarking on a road trip of a lifetime through the late 1960s USA, trying to show her son Mitch how to navigate the often cruel modern world. Your choices matter! ✅",
         "game",
         "www.windybeard.com"
        ]
       ],
       "datasetInfos": [],
       "dbfsResultPath": null,
       "isJsonSchema": true,
       "metadata": {},
       "overflow": false,
       "plotOptions": {
        "customPlotOptions": {},
        "displayType": "table",
        "pivotAggregation": null,
        "pivotColumns": null,
        "xColumns": null,
        "yColumns": null
       },
       "removedWidgets": [],
       "schema": [
        {
         "metadata": "{}",
         "name": "summary",
         "type": "\"string\""
        },
        {
         "metadata": "{}",
         "name": "appid",
         "type": "\"string\""
        },
        {
         "metadata": "{}",
         "name": "ccu",
         "type": "\"string\""
        },
        {
         "metadata": "{}",
         "name": "developer",
         "type": "\"string\""
        },
        {
         "metadata": "{}",
         "name": "discount",
         "type": "\"string\""
        },
        {
         "metadata": "{}",
         "name": "genre",
         "type": "\"string\""
        },
        {
         "metadata": "{}",
         "name": "header_image",
         "type": "\"string\""
        },
        {
         "metadata": "{}",
         "name": "initialprice",
         "type": "\"string\""
        },
        {
         "metadata": "{}",
         "name": "languages",
         "type": "\"string\""
        },
        {
         "metadata": "{}",
         "name": "name",
         "type": "\"string\""
        },
        {
         "metadata": "{}",
         "name": "negative",
         "type": "\"string\""
        },
        {
         "metadata": "{}",
         "name": "owners",
         "type": "\"string\""
        },
        {
         "metadata": "{}",
         "name": "positive",
         "type": "\"string\""
        },
        {
         "metadata": "{}",
         "name": "price",
         "type": "\"string\""
        },
        {
         "metadata": "{}",
         "name": "publisher",
         "type": "\"string\""
        },
        {
         "metadata": "{}",
         "name": "required_age",
         "type": "\"string\""
        },
        {
         "metadata": "{}",
         "name": "short_description",
         "type": "\"string\""
        },
        {
         "metadata": "{}",
         "name": "type",
         "type": "\"string\""
        },
        {
         "metadata": "{}",
         "name": "website",
         "type": "\"string\""
        }
       ],
       "type": "table"
      }
     },
     "output_type": "display_data"
    }
   ],
   "source": [
    "display(df_steam_flat.describe())"
   ]
  },
  {
   "cell_type": "markdown",
   "metadata": {
    "application/vnd.databricks.v1+cell": {
     "cellMetadata": {
      "byteLimit": 2048000,
      "rowLimit": 10000
     },
     "inputWidgets": {},
     "nuid": "befa6315-6fb3-42e3-9ee3-12fc7c832173",
     "showTitle": false,
     "tableResultSettingsMap": {},
     "title": ""
    }
   },
   "source": [
    "Les prix max me semblent élevés"
   ]
  },
  {
   "cell_type": "markdown",
   "metadata": {
    "application/vnd.databricks.v1+cell": {
     "cellMetadata": {},
     "inputWidgets": {},
     "nuid": "e79e298a-83aa-4e60-ac74-6be1f846160f",
     "showTitle": false,
     "tableResultSettingsMap": {},
     "title": ""
    }
   },
   "source": [
    "`initialeprice`"
   ]
  },
  {
   "cell_type": "code",
   "execution_count": 0,
   "metadata": {
    "application/vnd.databricks.v1+cell": {
     "cellMetadata": {
      "byteLimit": 2048000,
      "rowLimit": 10000
     },
     "inputWidgets": {},
     "nuid": "9cce2d1e-7dbe-464d-bcdc-5cb728ea4c6a",
     "showTitle": false,
     "tableResultSettingsMap": {},
     "title": ""
    }
   },
   "outputs": [
    {
     "output_type": "display_data",
     "data": {
      "text/html": [
       "<style scoped>\n",
       "  .table-result-container {\n",
       "    max-height: 300px;\n",
       "    overflow: auto;\n",
       "  }\n",
       "  table, th, td {\n",
       "    border: 1px solid black;\n",
       "    border-collapse: collapse;\n",
       "  }\n",
       "  th, td {\n",
       "    padding: 5px;\n",
       "  }\n",
       "  th {\n",
       "    text-align: left;\n",
       "  }\n",
       "</style><div class='table-result-container'><table class='table-result'><thead style='background-color: white'><tr><th>initialprice</th><th>appid_count</th></tr></thead><tbody><tr><td>3599.0</td><td>1</td></tr><tr><td>550.0</td><td>1</td></tr><tr><td>500.0</td><td>20</td></tr><tr><td>360.0</td><td>1</td></tr><tr><td>2599.0</td><td>1</td></tr><tr><td>969.0</td><td>1</td></tr><tr><td>3595.0</td><td>2</td></tr><tr><td>379.0</td><td>2</td></tr><tr><td>1558.0</td><td>1</td></tr><tr><td>6499.0</td><td>7</td></tr><tr><td>187.0</td><td>1</td></tr><tr><td>189.0</td><td>1</td></tr><tr><td>4495.0</td><td>1</td></tr><tr><td>90.0</td><td>34</td></tr><tr><td>449.0</td><td>3</td></tr><tr><td>1025.0</td><td>1</td></tr><tr><td>1599.0</td><td>228</td></tr><tr><td>2999.0</td><td>906</td></tr><tr><td>2099.0</td><td>3</td></tr><tr><td>1337.0</td><td>1</td></tr><tr><td>529.0</td><td>4</td></tr><tr><td>99.0</td><td>5439</td></tr><tr><td>3990.0</td><td>1</td></tr><tr><td>549.0</td><td>1</td></tr><tr><td>24900.0</td><td>1</td></tr><tr><td>4498.0</td><td>1</td></tr><tr><td>577.0</td><td>1</td></tr><tr><td>9900.0</td><td>2</td></tr><tr><td>350.0</td><td>1</td></tr><tr><td>229.0</td><td>1</td></tr><tr><td>4999.0</td><td>200</td></tr><tr><td>222.0</td><td>1</td></tr><tr><td>29990.0</td><td>1</td></tr><tr><td>1999.0</td><td>2992</td></tr><tr><td>2260.0</td><td>1</td></tr><tr><td>100.0</td><td>17</td></tr><tr><td>1240.0</td><td>1</td></tr><tr><td>299.0</td><td>3736</td></tr><tr><td>2299.0</td><td>6</td></tr><tr><td>1500.0</td><td>10</td></tr><tr><td>386.0</td><td>1</td></tr><tr><td>698.0</td><td>1</td></tr><tr><td>2990.0</td><td>1</td></tr><tr><td>329.0</td><td>1</td></tr><tr><td>2004.0</td><td>1</td></tr><tr><td>288.0</td><td>1</td></tr><tr><td>1299.0</td><td>851</td></tr><tr><td>2397.0</td><td>1</td></tr><tr><td>249.0</td><td>12</td></tr><tr><td>293.0</td><td>1</td></tr><tr><td>179.0</td><td>1</td></tr><tr><td>5795.0</td><td>1</td></tr><tr><td>1499.0</td><td>3027</td></tr><tr><td>1510.0</td><td>1</td></tr><tr><td>3196.0</td><td>1</td></tr><tr><td>14999.0</td><td>6</td></tr><tr><td>2998.0</td><td>2</td></tr><tr><td>6495.0</td><td>1</td></tr><tr><td>14900.0</td><td>1</td></tr><tr><td>1666.0</td><td>1</td></tr><tr><td>7499.0</td><td>7</td></tr><tr><td>1997.0</td><td>1</td></tr><tr><td>639.0</td><td>2</td></tr><tr><td>1969.0</td><td>1</td></tr><tr><td>459.0</td><td>1</td></tr><tr><td>349.0</td><td>5</td></tr><tr><td>1799.0</td><td>297</td></tr><tr><td>649.0</td><td>1</td></tr><tr><td>388.0</td><td>1</td></tr><tr><td>1995.0</td><td>2</td></tr><tr><td>8999.0</td><td>5</td></tr><tr><td>2499.0</td><td>936</td></tr><tr><td>250.0</td><td>5</td></tr><tr><td>1199.0</td><td>850</td></tr><tr><td>2109.0</td><td>1</td></tr><tr><td>369.0</td><td>1</td></tr><tr><td>1295.0</td><td>1</td></tr><tr><td>519.0</td><td>1</td></tr><tr><td>990.0</td><td>6</td></tr><tr><td>1249.0</td><td>6</td></tr><tr><td>1450.0</td><td>1</td></tr><tr><td>479.0</td><td>1</td></tr><tr><td>5995.0</td><td>1</td></tr><tr><td>133.0</td><td>1</td></tr><tr><td>590.0</td><td>1</td></tr><tr><td>4000.0</td><td>1</td></tr><tr><td>400.0</td><td>6</td></tr><tr><td>397.0</td><td>2</td></tr><tr><td>3999.0</td><td>447</td></tr><tr><td>799.0</td><td>1631</td></tr><tr><td>430.0</td><td>1</td></tr><tr><td>1449.0</td><td>2</td></tr><tr><td>700.0</td><td>1</td></tr><tr><td>2000.0</td><td>5</td></tr><tr><td>1600.0</td><td>1</td></tr><tr><td>631.0</td><td>1</td></tr><tr><td>1984.0</td><td>1</td></tr><tr><td>749.0</td><td>4</td></tr><tr><td>6995.0</td><td>1</td></tr><tr><td>599.0</td><td>1926</td></tr><tr><td>149.0</td><td>9</td></tr><tr><td>1949.0</td><td>1</td></tr><tr><td>195.0</td><td>1</td></tr><tr><td>9999.0</td><td>24</td></tr><tr><td>1996.0</td><td>1</td></tr><tr><td>1990.0</td><td>2</td></tr><tr><td>6903.0</td><td>1</td></tr><tr><td>499.0</td><td>6518</td></tr><tr><td>12499.0</td><td>1</td></tr><tr><td>998.0</td><td>1</td></tr><tr><td>3500.0</td><td>1</td></tr><tr><td>200.0</td><td>7</td></tr><tr><td>389.0</td><td>1</td></tr><tr><td>50.0</td><td>1</td></tr><tr><td>999.0</td><td>6336</td></tr><tr><td>2449.0</td><td>1</td></tr><tr><td>140.0</td><td>1</td></tr><tr><td>1029.0</td><td>1</td></tr><tr><td>2899.0</td><td>2</td></tr><tr><td>3299.0</td><td>1</td></tr><tr><td>129.0</td><td>4</td></tr><tr><td>169.0</td><td>1</td></tr><tr><td>1399.0</td><td>272</td></tr><tr><td>495.0</td><td>1</td></tr><tr><td>150.0</td><td>6</td></tr><tr><td>1495.0</td><td>1</td></tr><tr><td>1000.0</td><td>10</td></tr><tr><td>800.0</td><td>3</td></tr><tr><td>900.0</td><td>2</td></tr><tr><td>159.0</td><td>1</td></tr><tr><td>399.0</td><td>2591</td></tr><tr><td>188.0</td><td>1</td></tr><tr><td>6999.0</td><td>27</td></tr><tr><td>699.0</td><td>1964</td></tr><tr><td>4499.0</td><td>47</td></tr><tr><td>420.0</td><td>8</td></tr><tr><td>3000.0</td><td>1</td></tr><tr><td>199.0</td><td>4285</td></tr><tr><td>600.0</td><td>5</td></tr><tr><td>666.0</td><td>3</td></tr><tr><td>147.0</td><td>2</td></tr><tr><td>5999.0</td><td>194</td></tr><tr><td>333.0</td><td>1</td></tr><tr><td>610.0</td><td>1</td></tr><tr><td>995.0</td><td>2</td></tr><tr><td>98.0</td><td>2</td></tr><tr><td>2199.0</td><td>12</td></tr><tr><td>1099.0</td><td>460</td></tr><tr><td>795.0</td><td>1</td></tr><tr><td>145.0</td><td>1</td></tr><tr><td>777.0</td><td>1</td></tr><tr><td>1777.0</td><td>1</td></tr><tr><td>1313.0</td><td>1</td></tr><tr><td>558.0</td><td>1</td></tr><tr><td>259.0</td><td>1</td></tr><tr><td>929.0</td><td>1</td></tr><tr><td>99900.0</td><td>1</td></tr><tr><td>2995.0</td><td>1</td></tr><tr><td>819.0</td><td>1</td></tr><tr><td>5499.0</td><td>15</td></tr><tr><td>12999.0</td><td>5</td></tr><tr><td>2799.0</td><td>1</td></tr><tr><td>198.0</td><td>1</td></tr><tr><td>245.0</td><td>1</td></tr><tr><td>8499.0</td><td>1</td></tr><tr><td>2699.0</td><td>3</td></tr><tr><td>136.0</td><td>1</td></tr><tr><td>890.0</td><td>1</td></tr><tr><td>2399.0</td><td>5</td></tr><tr><td>680.0</td><td>1</td></tr><tr><td>290.0</td><td>1</td></tr><tr><td>5274.0</td><td>1</td></tr><tr><td>1900.0</td><td>2</td></tr><tr><td>488.0</td><td>1</td></tr><tr><td>4500.0</td><td>1</td></tr><tr><td>142.0</td><td>1</td></tr><tr><td>2500.0</td><td>3</td></tr><tr><td>3900.0</td><td>1</td></tr><tr><td>2479.0</td><td>1</td></tr><tr><td>1899.0</td><td>150</td></tr><tr><td>1149.0</td><td>1</td></tr><tr><td>1190.0</td><td>1</td></tr><tr><td>300.0</td><td>9</td></tr><tr><td>1699.0</td><td>189</td></tr><tr><td>750.0</td><td>1</td></tr><tr><td>565.0</td><td>1</td></tr><tr><td>230.0</td><td>1</td></tr><tr><td>9499.0</td><td>4</td></tr><tr><td>26999.0</td><td>1</td></tr><tr><td>3199.0</td><td>1</td></tr><tr><td>11999.0</td><td>2</td></tr><tr><td>888.0</td><td>1</td></tr><tr><td>19999.0</td><td>18</td></tr><tr><td>898.0</td><td>1</td></tr><tr><td>0.0</td><td>7779</td></tr><tr><td>1290.0</td><td>1</td></tr><tr><td>7999.0</td><td>14</td></tr><tr><td>433.0</td><td>1</td></tr><tr><td>1200.0</td><td>4</td></tr><tr><td>706.0</td><td>1</td></tr><tr><td>899.0</td><td>756</td></tr><tr><td>3499.0</td><td>161</td></tr><tr><td>3939.0</td><td>1</td></tr></tbody></table></div>"
      ]
     },
     "metadata": {
      "application/vnd.databricks.v1+output": {
       "addedWidgets": {},
       "aggData": [],
       "aggError": "",
       "aggOverflow": false,
       "aggSchema": [],
       "aggSeriesLimitReached": false,
       "aggType": "",
       "arguments": {},
       "columnCustomDisplayInfos": {},
       "data": [
        [
         3599.0,
         1
        ],
        [
         550.0,
         1
        ],
        [
         500.0,
         20
        ],
        [
         360.0,
         1
        ],
        [
         2599.0,
         1
        ],
        [
         969.0,
         1
        ],
        [
         3595.0,
         2
        ],
        [
         379.0,
         2
        ],
        [
         1558.0,
         1
        ],
        [
         6499.0,
         7
        ],
        [
         187.0,
         1
        ],
        [
         189.0,
         1
        ],
        [
         4495.0,
         1
        ],
        [
         90.0,
         34
        ],
        [
         449.0,
         3
        ],
        [
         1025.0,
         1
        ],
        [
         1599.0,
         228
        ],
        [
         2999.0,
         906
        ],
        [
         2099.0,
         3
        ],
        [
         1337.0,
         1
        ],
        [
         529.0,
         4
        ],
        [
         99.0,
         5439
        ],
        [
         3990.0,
         1
        ],
        [
         549.0,
         1
        ],
        [
         24900.0,
         1
        ],
        [
         4498.0,
         1
        ],
        [
         577.0,
         1
        ],
        [
         9900.0,
         2
        ],
        [
         350.0,
         1
        ],
        [
         229.0,
         1
        ],
        [
         4999.0,
         200
        ],
        [
         222.0,
         1
        ],
        [
         29990.0,
         1
        ],
        [
         1999.0,
         2992
        ],
        [
         2260.0,
         1
        ],
        [
         100.0,
         17
        ],
        [
         1240.0,
         1
        ],
        [
         299.0,
         3736
        ],
        [
         2299.0,
         6
        ],
        [
         1500.0,
         10
        ],
        [
         386.0,
         1
        ],
        [
         698.0,
         1
        ],
        [
         2990.0,
         1
        ],
        [
         329.0,
         1
        ],
        [
         2004.0,
         1
        ],
        [
         288.0,
         1
        ],
        [
         1299.0,
         851
        ],
        [
         2397.0,
         1
        ],
        [
         249.0,
         12
        ],
        [
         293.0,
         1
        ],
        [
         179.0,
         1
        ],
        [
         5795.0,
         1
        ],
        [
         1499.0,
         3027
        ],
        [
         1510.0,
         1
        ],
        [
         3196.0,
         1
        ],
        [
         14999.0,
         6
        ],
        [
         2998.0,
         2
        ],
        [
         6495.0,
         1
        ],
        [
         14900.0,
         1
        ],
        [
         1666.0,
         1
        ],
        [
         7499.0,
         7
        ],
        [
         1997.0,
         1
        ],
        [
         639.0,
         2
        ],
        [
         1969.0,
         1
        ],
        [
         459.0,
         1
        ],
        [
         349.0,
         5
        ],
        [
         1799.0,
         297
        ],
        [
         649.0,
         1
        ],
        [
         388.0,
         1
        ],
        [
         1995.0,
         2
        ],
        [
         8999.0,
         5
        ],
        [
         2499.0,
         936
        ],
        [
         250.0,
         5
        ],
        [
         1199.0,
         850
        ],
        [
         2109.0,
         1
        ],
        [
         369.0,
         1
        ],
        [
         1295.0,
         1
        ],
        [
         519.0,
         1
        ],
        [
         990.0,
         6
        ],
        [
         1249.0,
         6
        ],
        [
         1450.0,
         1
        ],
        [
         479.0,
         1
        ],
        [
         5995.0,
         1
        ],
        [
         133.0,
         1
        ],
        [
         590.0,
         1
        ],
        [
         4000.0,
         1
        ],
        [
         400.0,
         6
        ],
        [
         397.0,
         2
        ],
        [
         3999.0,
         447
        ],
        [
         799.0,
         1631
        ],
        [
         430.0,
         1
        ],
        [
         1449.0,
         2
        ],
        [
         700.0,
         1
        ],
        [
         2000.0,
         5
        ],
        [
         1600.0,
         1
        ],
        [
         631.0,
         1
        ],
        [
         1984.0,
         1
        ],
        [
         749.0,
         4
        ],
        [
         6995.0,
         1
        ],
        [
         599.0,
         1926
        ],
        [
         149.0,
         9
        ],
        [
         1949.0,
         1
        ],
        [
         195.0,
         1
        ],
        [
         9999.0,
         24
        ],
        [
         1996.0,
         1
        ],
        [
         1990.0,
         2
        ],
        [
         6903.0,
         1
        ],
        [
         499.0,
         6518
        ],
        [
         12499.0,
         1
        ],
        [
         998.0,
         1
        ],
        [
         3500.0,
         1
        ],
        [
         200.0,
         7
        ],
        [
         389.0,
         1
        ],
        [
         50.0,
         1
        ],
        [
         999.0,
         6336
        ],
        [
         2449.0,
         1
        ],
        [
         140.0,
         1
        ],
        [
         1029.0,
         1
        ],
        [
         2899.0,
         2
        ],
        [
         3299.0,
         1
        ],
        [
         129.0,
         4
        ],
        [
         169.0,
         1
        ],
        [
         1399.0,
         272
        ],
        [
         495.0,
         1
        ],
        [
         150.0,
         6
        ],
        [
         1495.0,
         1
        ],
        [
         1000.0,
         10
        ],
        [
         800.0,
         3
        ],
        [
         900.0,
         2
        ],
        [
         159.0,
         1
        ],
        [
         399.0,
         2591
        ],
        [
         188.0,
         1
        ],
        [
         6999.0,
         27
        ],
        [
         699.0,
         1964
        ],
        [
         4499.0,
         47
        ],
        [
         420.0,
         8
        ],
        [
         3000.0,
         1
        ],
        [
         199.0,
         4285
        ],
        [
         600.0,
         5
        ],
        [
         666.0,
         3
        ],
        [
         147.0,
         2
        ],
        [
         5999.0,
         194
        ],
        [
         333.0,
         1
        ],
        [
         610.0,
         1
        ],
        [
         995.0,
         2
        ],
        [
         98.0,
         2
        ],
        [
         2199.0,
         12
        ],
        [
         1099.0,
         460
        ],
        [
         795.0,
         1
        ],
        [
         145.0,
         1
        ],
        [
         777.0,
         1
        ],
        [
         1777.0,
         1
        ],
        [
         1313.0,
         1
        ],
        [
         558.0,
         1
        ],
        [
         259.0,
         1
        ],
        [
         929.0,
         1
        ],
        [
         99900.0,
         1
        ],
        [
         2995.0,
         1
        ],
        [
         819.0,
         1
        ],
        [
         5499.0,
         15
        ],
        [
         12999.0,
         5
        ],
        [
         2799.0,
         1
        ],
        [
         198.0,
         1
        ],
        [
         245.0,
         1
        ],
        [
         8499.0,
         1
        ],
        [
         2699.0,
         3
        ],
        [
         136.0,
         1
        ],
        [
         890.0,
         1
        ],
        [
         2399.0,
         5
        ],
        [
         680.0,
         1
        ],
        [
         290.0,
         1
        ],
        [
         5274.0,
         1
        ],
        [
         1900.0,
         2
        ],
        [
         488.0,
         1
        ],
        [
         4500.0,
         1
        ],
        [
         142.0,
         1
        ],
        [
         2500.0,
         3
        ],
        [
         3900.0,
         1
        ],
        [
         2479.0,
         1
        ],
        [
         1899.0,
         150
        ],
        [
         1149.0,
         1
        ],
        [
         1190.0,
         1
        ],
        [
         300.0,
         9
        ],
        [
         1699.0,
         189
        ],
        [
         750.0,
         1
        ],
        [
         565.0,
         1
        ],
        [
         230.0,
         1
        ],
        [
         9499.0,
         4
        ],
        [
         26999.0,
         1
        ],
        [
         3199.0,
         1
        ],
        [
         11999.0,
         2
        ],
        [
         888.0,
         1
        ],
        [
         19999.0,
         18
        ],
        [
         898.0,
         1
        ],
        [
         0.0,
         7779
        ],
        [
         1290.0,
         1
        ],
        [
         7999.0,
         14
        ],
        [
         433.0,
         1
        ],
        [
         1200.0,
         4
        ],
        [
         706.0,
         1
        ],
        [
         899.0,
         756
        ],
        [
         3499.0,
         161
        ],
        [
         3939.0,
         1
        ]
       ],
       "datasetInfos": [],
       "dbfsResultPath": null,
       "isJsonSchema": true,
       "metadata": {},
       "overflow": false,
       "plotOptions": {
        "customPlotOptions": {},
        "displayType": "table",
        "pivotAggregation": null,
        "pivotColumns": null,
        "xColumns": null,
        "yColumns": null
       },
       "removedWidgets": [],
       "schema": [
        {
         "metadata": "{}",
         "name": "initialprice",
         "type": "\"float\""
        },
        {
         "metadata": "{}",
         "name": "appid_count",
         "type": "\"long\""
        }
       ],
       "type": "table"
      }
     },
     "output_type": "display_data"
    },
    {
     "output_type": "display_data",
     "data": {
      "text/plain": [
       "Databricks visualization. Run in Databricks to view."
      ]
     },
     "metadata": {
      "application/vnd.databricks.v1.subcommand+json": {
       "baseErrorDetails": null,
       "bindings": {},
       "collapsed": false,
       "command": "%python\n__backend_agg_display_orig = display\n__backend_agg_dfs = []\ndef __backend_agg_display_new(df):\n    __backend_agg_df_modules = [\"pandas.core.frame\", \"databricks.koalas.frame\", \"pyspark.sql.dataframe\", \"pyspark.pandas.frame\", \"pyspark.sql.connect.dataframe\"]\n    if (type(df).__module__ in __backend_agg_df_modules and type(df).__name__ == 'DataFrame') or isinstance(df, list):\n        __backend_agg_dfs.append(df)\n\ndisplay = __backend_agg_display_new\n\ndef __backend_agg_user_code_fn():\n    import base64\n    exec(base64.standard_b64decode(\"ZGlzcGxheShkZl9zdGVhbV9mbGF0Lmdyb3VwQnkoImluaXRpYWxwcmljZSIpLmFnZyhGLmNvdW50RGlzdGluY3QoImFwcGlkIikuYWxpYXMoImFwcGlkX2NvdW50IikpLm9yZGVyQnkoRi5kZXNjKCJpbml0aWFscHJpY2UiKSkudG9QYW5kYXMoKSk=\").decode())\n\ntry:\n    # run user code\n    __backend_agg_user_code_fn()\n\n    #reset display function\n    display = __backend_agg_display_orig\n\n    if len(__backend_agg_dfs) > 0:\n        # create a temp view\n        if type(__backend_agg_dfs[0]).__module__ == \"databricks.koalas.frame\":\n            # koalas dataframe\n            __backend_agg_dfs[0].to_spark().createOrReplaceTempView(\"DatabricksView6e49bd4\")\n        elif type(__backend_agg_dfs[0]).__module__ == \"pandas.core.frame\" or isinstance(__backend_agg_dfs[0], list):\n            # pandas dataframe\n            spark.createDataFrame(__backend_agg_dfs[0]).createOrReplaceTempView(\"DatabricksView6e49bd4\")\n        else:\n            __backend_agg_dfs[0].createOrReplaceTempView(\"DatabricksView6e49bd4\")\n        #run backend agg\n        display(spark.sql(\"\"\"WITH q AS (select * from DatabricksView6e49bd4) SELECT `initialprice`,`appid_count` FROM q\"\"\"))\n    else:\n        displayHTML(\"dataframe no longer exists. If you're using dataframe.display(), use display(dataframe) instead.\")\n\n\nfinally:\n    spark.sql(\"drop view if exists DatabricksView6e49bd4\")\n    display = __backend_agg_display_orig\n    del __backend_agg_display_new\n    del __backend_agg_display_orig\n    del __backend_agg_dfs\n    del __backend_agg_user_code_fn\n\n",
       "commandTitle": "Distribution du prix initial",
       "commandType": "auto",
       "commandVersion": 0,
       "commentThread": [],
       "commentsVisible": false,
       "contentSha256Hex": null,
       "customPlotOptions": {
        "redashChart": [
         {
          "key": "type",
          "value": "CHART"
         },
         {
          "key": "options",
          "value": {
           "alignYAxesAtZero": true,
           "coefficient": 1,
           "columnConfigurationMap": {
            "x": {
             "column": "initialprice",
             "id": "column_51e3f657509"
            },
            "y": [
             {
              "column": "appid_count",
              "id": "column_51e3f657510"
             }
            ]
           },
           "dateTimeFormat": "DD/MM/YYYY HH:mm",
           "direction": {
            "type": "counterclockwise"
           },
           "error_y": {
            "type": "data",
            "visible": true
           },
           "globalSeriesType": "line",
           "isAggregationOn": false,
           "legend": {
            "traceorder": "normal"
           },
           "missingValuesAsZero": true,
           "numberFormat": "0,0.[00000]",
           "percentFormat": "0[.]00%",
           "series": {
            "error_y": {
             "type": "data",
             "visible": true
            },
            "stacking": null
           },
           "seriesOptions": {
            "appid_count": {
             "color": "#50F5ED",
             "name": "appid_count",
             "type": "line",
             "yAxis": 0
            }
           },
           "showDataLabels": false,
           "sizemode": "diameter",
           "sortX": true,
           "sortY": true,
           "swappedAxes": false,
           "textFormat": "",
           "useAggregationsUi": true,
           "valuesOptions": {},
           "version": 2,
           "xAxis": {
            "labels": {
             "enabled": true
            },
            "title": {
             "text": "Prix initial"
            },
            "type": "-"
           },
           "yAxis": [
            {
             "title": {
              "text": "Nombre de jeux"
             },
             "type": "-"
            },
            {
             "opposite": true,
             "type": "-"
            }
           ]
          }
         }
        ]
       },
       "datasetPreviewNameToCmdIdMap": {},
       "diffDeletes": [],
       "diffInserts": [],
       "displayType": "redashChart",
       "error": null,
       "errorDetails": null,
       "errorSummary": null,
       "errorTraceType": null,
       "finishTime": 0,
       "globalVars": {},
       "guid": "",
       "height": "auto",
       "hideCommandCode": false,
       "hideCommandResult": false,
       "iPythonMetadata": null,
       "inputWidgets": {},
       "isLockedInExamMode": false,
       "latestUser": "a user",
       "latestUserId": null,
       "listResultMetadata": null,
       "metadata": {},
       "nuid": "3bf89d20-6dad-4f53-9a82-7c203a84800c",
       "origId": 0,
       "parentHierarchy": [],
       "pivotAggregation": null,
       "pivotColumns": null,
       "position": 12.204127311706543,
       "resultDbfsErrorMessage": null,
       "resultDbfsStatus": "INLINED_IN_TREE",
       "results": null,
       "showCommandTitle": false,
       "startTime": 0,
       "state": "input",
       "streamStates": {},
       "subcommandOptions": {
        "queryPlan": {
         "selects": [
          {
           "column": "initialprice",
           "type": "column"
          },
          {
           "column": "appid_count",
           "type": "column"
          }
         ]
        }
       },
       "submitTime": 0,
       "subtype": "tableResultSubCmd.visualization",
       "tableResultIndex": 0,
       "tableResultSettingsMap": {},
       "useConsistentColors": false,
       "version": "CommandV1",
       "width": "auto",
       "workflows": [],
       "xColumns": null,
       "yColumns": null
      }
     },
     "output_type": "display_data"
    }
   ],
   "source": [
    "display(df_steam_flat.groupBy(\"initialprice\").agg(F.countDistinct(\"appid\").alias(\"appid_count\")))"
   ]
  },
  {
   "cell_type": "markdown",
   "metadata": {
    "application/vnd.databricks.v1+cell": {
     "cellMetadata": {},
     "inputWidgets": {},
     "nuid": "5f9fb659-4e80-48f1-9104-36e16c3e49d7",
     "showTitle": false,
     "tableResultSettingsMap": {},
     "title": ""
    }
   },
   "source": [
    "`price`"
   ]
  },
  {
   "cell_type": "code",
   "execution_count": 0,
   "metadata": {
    "application/vnd.databricks.v1+cell": {
     "cellMetadata": {
      "byteLimit": 2048000,
      "rowLimit": 10000
     },
     "inputWidgets": {},
     "nuid": "83926a54-10e6-4437-9c57-78ef1bd1f31e",
     "showTitle": false,
     "tableResultSettingsMap": {},
     "title": ""
    }
   },
   "outputs": [
    {
     "output_type": "display_data",
     "data": {
      "text/html": [
       "<style scoped>\n",
       "  .table-result-container {\n",
       "    max-height: 300px;\n",
       "    overflow: auto;\n",
       "  }\n",
       "  table, th, td {\n",
       "    border: 1px solid black;\n",
       "    border-collapse: collapse;\n",
       "  }\n",
       "  th, td {\n",
       "    padding: 5px;\n",
       "  }\n",
       "  th {\n",
       "    text-align: left;\n",
       "  }\n",
       "</style><div class='table-result-container'><table class='table-result'><thead style='background-color: white'><tr><th>price</th><th>appid_count</th></tr></thead><tbody><tr><td>3599.0</td><td>4</td></tr><tr><td>714.0</td><td>2</td></tr><tr><td>3749.0</td><td>1</td></tr><tr><td>769.0</td><td>1</td></tr><tr><td>550.0</td><td>1</td></tr><tr><td>64.0</td><td>3</td></tr><tr><td>107.0</td><td>1</td></tr><tr><td>500.0</td><td>20</td></tr><tr><td>1438.0</td><td>1</td></tr><tr><td>1079.0</td><td>4</td></tr><tr><td>360.0</td><td>1</td></tr><tr><td>911.0</td><td>1</td></tr><tr><td>2599.0</td><td>2</td></tr><tr><td>324.0</td><td>6</td></tr><tr><td>5624.0</td><td>1</td></tr><tr><td>224.0</td><td>12</td></tr><tr><td>510.0</td><td>2</td></tr><tr><td>969.0</td><td>1</td></tr><tr><td>959.0</td><td>3</td></tr><tr><td>39.0</td><td>7</td></tr><tr><td>132.0</td><td>1</td></tr><tr><td>239.0</td><td>27</td></tr><tr><td>3595.0</td><td>1</td></tr><tr><td>1139.0</td><td>1</td></tr><tr><td>1979.0</td><td>1</td></tr><tr><td>379.0</td><td>2</td></tr><tr><td>30.0</td><td>2</td></tr><tr><td>274.0</td><td>1</td></tr><tr><td>1558.0</td><td>1</td></tr><tr><td>183.0</td><td>1</td></tr><tr><td>1349.0</td><td>9</td></tr><tr><td>6499.0</td><td>6</td></tr><tr><td>1119.0</td><td>1</td></tr><tr><td>187.0</td><td>1</td></tr><tr><td>4969.0</td><td>1</td></tr><tr><td>2279.0</td><td>1</td></tr><tr><td>189.0</td><td>2</td></tr><tr><td>4495.0</td><td>1</td></tr><tr><td>90.0</td><td>32</td></tr><tr><td>419.0</td><td>11</td></tr><tr><td>449.0</td><td>41</td></tr><tr><td>1599.0</td><td>230</td></tr><tr><td>1025.0</td><td>1</td></tr><tr><td>2999.0</td><td>865</td></tr><tr><td>41.0</td><td>10</td></tr><tr><td>559.0</td><td>9</td></tr><tr><td>485.0</td><td>1</td></tr><tr><td>2099.0</td><td>5</td></tr><tr><td>1337.0</td><td>1</td></tr><tr><td>529.0</td><td>1</td></tr><tr><td>99.0</td><td>5241</td></tr><tr><td>91.0</td><td>4</td></tr><tr><td>3990.0</td><td>1</td></tr><tr><td>174.0</td><td>12</td></tr><tr><td>29.0</td><td>11</td></tr><tr><td>214.0</td><td>1</td></tr><tr><td>549.0</td><td>6</td></tr><tr><td>24900.0</td><td>1</td></tr><tr><td>4498.0</td><td>1</td></tr><tr><td>134.0</td><td>3</td></tr><tr><td>294.0</td><td>1</td></tr><tr><td>577.0</td><td>1</td></tr><tr><td>219.0</td><td>14</td></tr><tr><td>9900.0</td><td>1</td></tr><tr><td>494.0</td><td>2</td></tr><tr><td>424.0</td><td>4</td></tr><tr><td>254.0</td><td>2</td></tr><tr><td>350.0</td><td>1</td></tr><tr><td>229.0</td><td>1</td></tr><tr><td>428.0</td><td>1</td></tr><tr><td>623.0</td><td>1</td></tr><tr><td>89.0</td><td>25</td></tr><tr><td>4999.0</td><td>190</td></tr><tr><td>197.0</td><td>3</td></tr><tr><td>1259.0</td><td>5</td></tr><tr><td>222.0</td><td>1</td></tr><tr><td>1019.0</td><td>3</td></tr><tr><td>29990.0</td><td>1</td></tr><tr><td>1999.0</td><td>2820</td></tr><tr><td>624.0</td><td>5</td></tr><tr><td>263.0</td><td>1</td></tr><tr><td>124.0</td><td>21</td></tr><tr><td>100.0</td><td>16</td></tr><tr><td>2260.0</td><td>1</td></tr><tr><td>1240.0</td><td>1</td></tr><tr><td>299.0</td><td>3637</td></tr><tr><td>2124.0</td><td>1</td></tr><tr><td>314.0</td><td>1</td></tr><tr><td>2299.0</td><td>5</td></tr><tr><td>271.0</td><td>4</td></tr><tr><td>1500.0</td><td>9</td></tr><tr><td>67.0</td><td>2</td></tr><tr><td>1639.0</td><td>1</td></tr><tr><td>269.0</td><td>8</td></tr><tr><td>49.0</td><td>303</td></tr><tr><td>2024.0</td><td>1</td></tr><tr><td>386.0</td><td>1</td></tr><tr><td>698.0</td><td>1</td></tr><tr><td>329.0</td><td>2</td></tr><tr><td>2990.0</td><td>1</td></tr><tr><td>56.0</td><td>2</td></tr><tr><td>2004.0</td><td>1</td></tr><tr><td>15999.0</td><td>1</td></tr><tr><td>288.0</td><td>1</td></tr><tr><td>54.0</td><td>21</td></tr><tr><td>1299.0</td><td>796</td></tr><tr><td>509.0</td><td>10</td></tr><tr><td>569.0</td><td>1</td></tr><tr><td>2459.0</td><td>1</td></tr><tr><td>2397.0</td><td>1</td></tr><tr><td>249.0</td><td>99</td></tr><tr><td>293.0</td><td>1</td></tr><tr><td>179.0</td><td>23</td></tr><tr><td>359.0</td><td>20</td></tr><tr><td>194.0</td><td>2</td></tr><tr><td>5795.0</td><td>1</td></tr><tr><td>839.0</td><td>5</td></tr><tr><td>1499.0</td><td>2878</td></tr><tr><td>1519.0</td><td>2</td></tr><tr><td>1510.0</td><td>1</td></tr><tr><td>38.0</td><td>7</td></tr><tr><td>764.0</td><td>1</td></tr><tr><td>3196.0</td><td>1</td></tr><tr><td>14999.0</td><td>6</td></tr><tr><td>2998.0</td><td>2</td></tr><tr><td>51.0</td><td>51</td></tr><tr><td>6495.0</td><td>1</td></tr><tr><td>14900.0</td><td>1</td></tr><tr><td>236.0</td><td>1</td></tr><tr><td>1666.0</td><td>1</td></tr><tr><td>1359.0</td><td>2</td></tr><tr><td>7499.0</td><td>3</td></tr><tr><td>879.0</td><td>1</td></tr><tr><td>1997.0</td><td>1</td></tr><tr><td>639.0</td><td>6</td></tr><tr><td>493.0</td><td>3</td></tr><tr><td>1969.0</td><td>1</td></tr><tr><td>459.0</td><td>1</td></tr><tr><td>65.0</td><td>1</td></tr><tr><td>1124.0</td><td>7</td></tr><tr><td>349.0</td><td>45</td></tr><tr><td>1724.0</td><td>1</td></tr><tr><td>1799.0</td><td>286</td></tr><tr><td>391.0</td><td>1</td></tr><tr><td>649.0</td><td>13</td></tr><tr><td>3366.0</td><td>1</td></tr><tr><td>388.0</td><td>1</td></tr><tr><td>1624.0</td><td>4</td></tr><tr><td>53.0</td><td>5</td></tr><tr><td>1995.0</td><td>2</td></tr><tr><td>8999.0</td><td>5</td></tr><tr><td>2499.0</td><td>862</td></tr><tr><td>849.0</td><td>8</td></tr><tr><td>158.0</td><td>2</td></tr><tr><td>250.0</td><td>5</td></tr><tr><td>1199.0</td><td>822</td></tr><tr><td>2109.0</td><td>1</td></tr><tr><td>123.0</td><td>2</td></tr><tr><td>579.0</td><td>1</td></tr><tr><td>369.0</td><td>1</td></tr><tr><td>519.0</td><td>4</td></tr><tr><td>1295.0</td><td>1</td></tr><tr><td>1529.0</td><td>3</td></tr><tr><td>1279.0</td><td>1</td></tr><tr><td>514.0</td><td>1</td></tr><tr><td>77.0</td><td>4</td></tr><tr><td>594.0</td><td>2</td></tr><tr><td>1249.0</td><td>14</td></tr><tr><td>990.0</td><td>6</td></tr><tr><td>1450.0</td><td>1</td></tr><tr><td>573.0</td><td>1</td></tr><tr><td>909.0</td><td>3</td></tr><tr><td>870.0</td><td>1</td></tr><tr><td>479.0</td><td>18</td></tr><tr><td>1224.0</td><td>1</td></tr><tr><td>5995.0</td><td>1</td></tr><tr><td>659.0</td><td>2</td></tr><tr><td>133.0</td><td>2</td></tr><tr><td>216.0</td><td>1</td></tr><tr><td>1274.0</td><td>5</td></tr><tr><td>590.0</td><td>1</td></tr><tr><td>251.0</td><td>1</td></tr><tr><td>209.0</td><td>34</td></tr><tr><td>4000.0</td><td>1</td></tr><tr><td>1889.0</td><td>1</td></tr><tr><td>400.0</td><td>6</td></tr><tr><td>57.0</td><td>3</td></tr><tr><td>949.0</td><td>1</td></tr><tr><td>397.0</td><td>2</td></tr><tr><td>3999.0</td><td>428</td></tr><tr><td>799.0</td><td>1580</td></tr><tr><td>154.0</td><td>3</td></tr><tr><td>430.0</td><td>1</td></tr><tr><td>1049.0</td><td>9</td></tr><tr><td>1189.0</td><td>1</td></tr><tr><td>1449.0</td><td>2</td></tr><tr><td>700.0</td><td>1</td></tr><tr><td>2000.0</td><td>5</td></tr><tr><td>719.0</td><td>5</td></tr><tr><td>1600.0</td><td>1</td></tr><tr><td>1574.0</td><td>1</td></tr><tr><td>749.0</td><td>40</td></tr><tr><td>631.0</td><td>1</td></tr><tr><td>83.0</td><td>2</td></tr><tr><td>1984.0</td><td>1</td></tr><tr><td>6995.0</td><td>1</td></tr><tr><td>599.0</td><td>1854</td></tr><tr><td>1949.0</td><td>2</td></tr><tr><td>149.0</td><td>73</td></tr><tr><td>71.0</td><td>1</td></tr><tr><td>1874.0</td><td>2</td></tr><tr><td>195.0</td><td>1</td></tr><tr><td>9999.0</td><td>24</td></tr><tr><td>1996.0</td><td>1</td></tr><tr><td>1990.0</td><td>2</td></tr><tr><td>6903.0</td><td>1</td></tr><tr><td>374.0</td><td>29</td></tr><tr><td>499.0</td><td>6250</td></tr><tr><td>12499.0</td><td>1</td></tr><tr><td>119.0</td><td>40</td></tr><tr><td>974.0</td><td>13</td></tr><tr><td>998.0</td><td>1</td></tr><tr><td>377.0</td><td>2</td></tr><tr><td>3500.0</td><td>1</td></tr><tr><td>200.0</td><td>8</td></tr><tr><td>389.0</td><td>8</td></tr><tr><td>854.0</td><td>1</td></tr><tr><td>50.0</td><td>25</td></tr><tr><td>999.0</td><td>6126</td></tr><tr><td>2449.0</td><td>1</td></tr><tr><td>140.0</td><td>1</td></tr><tr><td>2339.0</td><td>1</td></tr><tr><td>989.0</td><td>7</td></tr><tr><td>2899.0</td><td>2</td></tr><tr><td>3299.0</td><td>1</td></tr><tr><td>169.0</td><td>7</td></tr><tr><td>129.0</td><td>8</td></tr><tr><td>103.0</td><td>4</td></tr><tr><td>80.0</td><td>1</td></tr><tr><td>76.0</td><td>1</td></tr><tr><td>1399.0</td><td>276</td></tr><tr><td>2249.0</td><td>4</td></tr><tr><td>109.0</td><td>5</td></tr><tr><td>874.0</td><td>1</td></tr><tr><td>524.0</td><td>7</td></tr><tr><td>495.0</td><td>1</td></tr><tr><td>150.0</td><td>6</td></tr><tr><td>1495.0</td><td>1</td></tr><tr><td>69.0</td><td>38</td></tr><tr><td>44.0</td><td>1</td></tr><tr><td>1000.0</td><td>10</td></tr><tr><td>557.0</td><td>1</td></tr><tr><td>800.0</td><td>3</td></tr><tr><td>900.0</td><td>2</td></tr><tr><td>159.0</td><td>25</td></tr><tr><td>809.0</td><td>1</td></tr><tr><td>399.0</td><td>2530</td></tr><tr><td>188.0</td><td>1</td></tr><tr><td>203.0</td><td>1</td></tr><tr><td>6999.0</td><td>25</td></tr><tr><td>45.0</td><td>2</td></tr><tr><td>62.0</td><td>1</td></tr><tr><td>489.0</td><td>3</td></tr><tr><td>699.0</td><td>1856</td></tr><tr><td>464.0</td><td>1</td></tr><tr><td>4499.0</td><td>44</td></tr><tr><td>164.0</td><td>1</td></tr><tr><td>584.0</td><td>2</td></tr><tr><td>420.0</td><td>8</td></tr><tr><td>3000.0</td><td>1</td></tr><tr><td>199.0</td><td>4193</td></tr><tr><td>600.0</td><td>5</td></tr><tr><td>463.0</td><td>1</td></tr><tr><td>191.0</td><td>1</td></tr><tr><td>1004.0</td><td>3</td></tr><tr><td>666.0</td><td>3</td></tr><tr><td>147.0</td><td>2</td></tr><tr><td>81.0</td><td>2</td></tr><tr><td>95.0</td><td>1</td></tr><tr><td>5999.0</td><td>187</td></tr><tr><td>375.0</td><td>1</td></tr><tr><td>333.0</td><td>1</td></tr><tr><td>610.0</td><td>1</td></tr><tr><td>995.0</td><td>2</td></tr><tr><td>98.0</td><td>1</td></tr><tr><td>2199.0</td><td>9</td></tr><tr><td>1099.0</td><td>430</td></tr><tr><td>795.0</td><td>1</td></tr><tr><td>145.0</td><td>1</td></tr><tr><td>1749.0</td><td>7</td></tr><tr><td>139.0</td><td>19</td></tr><tr><td>777.0</td><td>1</td></tr><tr><td>1777.0</td><td>1</td></tr><tr><td>59.0</td><td>97</td></tr><tr><td>259.0</td><td>11</td></tr><tr><td>1313.0</td><td>1</td></tr><tr><td>1339.0</td><td>1</td></tr><tr><td>558.0</td><td>1</td></tr><tr><td>339.0</td><td>6</td></tr><tr><td>84.0</td><td>3</td></tr><tr><td>929.0</td><td>1</td></tr><tr><td>99900.0</td><td>1</td></tr><tr><td>303.0</td><td>1</td></tr><tr><td>2995.0</td><td>1</td></tr><tr><td>104.0</td><td>6</td></tr><tr><td>79.0</td><td>40</td></tr><tr><td>819.0</td><td>1</td></tr><tr><td>824.0</td><td>4</td></tr><tr><td>5499.0</td><td>15</td></tr><tr><td>309.0</td><td>4</td></tr><tr><td>12999.0</td><td>5</td></tr><tr><td>454.0</td><td>3</td></tr><tr><td>1329.0</td><td>2</td></tr><tr><td>2799.0</td><td>2</td></tr><tr><td>198.0</td><td>1</td></tr><tr><td>245.0</td><td>1</td></tr><tr><td>2699.0</td><td>6</td></tr><tr><td>8499.0</td><td>1</td></tr><tr><td>319.0</td><td>6</td></tr><tr><td>136.0</td><td>1</td></tr><tr><td>279.0</td><td>22</td></tr><tr><td>890.0</td><td>1</td></tr><tr><td>2399.0</td><td>9</td></tr><tr><td>439.0</td><td>4</td></tr><tr><td>619.0</td><td>1</td></tr><tr><td>680.0</td><td>1</td></tr><tr><td>31.0</td><td>6</td></tr><tr><td>987.0</td><td>1</td></tr><tr><td>636.0</td><td>1</td></tr><tr><td>290.0</td><td>1</td></tr><tr><td>5274.0</td><td>1</td></tr><tr><td>1900.0</td><td>2</td></tr><tr><td>488.0</td><td>1</td></tr><tr><td>1104.0</td><td>2</td></tr><tr><td>674.0</td><td>4</td></tr><tr><td>979.0</td><td>3</td></tr><tr><td>142.0</td><td>1</td></tr><tr><td>2500.0</td><td>3</td></tr><tr><td>4500.0</td><td>1</td></tr><tr><td>3900.0</td><td>1</td></tr><tr><td>244.0</td><td>4</td></tr><tr><td>2479.0</td><td>1</td></tr><tr><td>1899.0</td><td>141</td></tr><tr><td>1149.0</td><td>1</td></tr><tr><td>1190.0</td><td>1</td></tr><tr><td>1039.0</td><td>4</td></tr><tr><td>28.0</td><td>20</td></tr><tr><td>300.0</td><td>9</td></tr><tr><td>1699.0</td><td>185</td></tr><tr><td>750.0</td><td>1</td></tr><tr><td>629.0</td><td>9</td></tr><tr><td>565.0</td><td>1</td></tr><tr><td>679.0</td><td>7</td></tr><tr><td>230.0</td><td>1</td></tr><tr><td>9499.0</td><td>4</td></tr><tr><td>26999.0</td><td>1</td></tr><tr><td>3199.0</td><td>3</td></tr><tr><td>135.0</td><td>1</td></tr><tr><td>11999.0</td><td>2</td></tr><tr><td>779.0</td><td>7</td></tr><tr><td>155.0</td><td>1</td></tr><tr><td>888.0</td><td>1</td></tr><tr><td>19999.0</td><td>17</td></tr><tr><td>669.0</td><td>7</td></tr><tr><td>736.0</td><td>1</td></tr><tr><td>111.0</td><td>1</td></tr><tr><td>61.0</td><td>2</td></tr><tr><td>37.0</td><td>19</td></tr><tr><td>898.0</td><td>1</td></tr><tr><td>0.0</td><td>7779</td></tr><tr><td>7999.0</td><td>13</td></tr><tr><td>1290.0</td><td>1</td></tr><tr><td>1473.0</td><td>1</td></tr><tr><td>1169.0</td><td>5</td></tr><tr><td>373.0</td><td>1</td></tr><tr><td>433.0</td><td>1</td></tr><tr><td>1439.0</td><td>1</td></tr><tr><td>1200.0</td><td>4</td></tr><tr><td>75.0</td><td>2</td></tr><tr><td>706.0</td><td>1</td></tr><tr><td>74.0</td><td>34</td></tr><tr><td>539.0</td><td>4</td></tr><tr><td>899.0</td><td>753</td></tr><tr><td>3499.0</td><td>155</td></tr><tr><td>3939.0</td><td>1</td></tr></tbody></table></div>"
      ]
     },
     "metadata": {
      "application/vnd.databricks.v1+output": {
       "addedWidgets": {},
       "aggData": [],
       "aggError": "",
       "aggOverflow": false,
       "aggSchema": [],
       "aggSeriesLimitReached": false,
       "aggType": "",
       "arguments": {},
       "columnCustomDisplayInfos": {},
       "data": [
        [
         3599.0,
         4
        ],
        [
         714.0,
         2
        ],
        [
         3749.0,
         1
        ],
        [
         769.0,
         1
        ],
        [
         550.0,
         1
        ],
        [
         64.0,
         3
        ],
        [
         107.0,
         1
        ],
        [
         500.0,
         20
        ],
        [
         1438.0,
         1
        ],
        [
         1079.0,
         4
        ],
        [
         360.0,
         1
        ],
        [
         911.0,
         1
        ],
        [
         2599.0,
         2
        ],
        [
         324.0,
         6
        ],
        [
         5624.0,
         1
        ],
        [
         224.0,
         12
        ],
        [
         510.0,
         2
        ],
        [
         969.0,
         1
        ],
        [
         959.0,
         3
        ],
        [
         39.0,
         7
        ],
        [
         132.0,
         1
        ],
        [
         239.0,
         27
        ],
        [
         3595.0,
         1
        ],
        [
         1139.0,
         1
        ],
        [
         1979.0,
         1
        ],
        [
         379.0,
         2
        ],
        [
         30.0,
         2
        ],
        [
         274.0,
         1
        ],
        [
         1558.0,
         1
        ],
        [
         183.0,
         1
        ],
        [
         1349.0,
         9
        ],
        [
         6499.0,
         6
        ],
        [
         1119.0,
         1
        ],
        [
         187.0,
         1
        ],
        [
         4969.0,
         1
        ],
        [
         2279.0,
         1
        ],
        [
         189.0,
         2
        ],
        [
         4495.0,
         1
        ],
        [
         90.0,
         32
        ],
        [
         419.0,
         11
        ],
        [
         449.0,
         41
        ],
        [
         1599.0,
         230
        ],
        [
         1025.0,
         1
        ],
        [
         2999.0,
         865
        ],
        [
         41.0,
         10
        ],
        [
         559.0,
         9
        ],
        [
         485.0,
         1
        ],
        [
         2099.0,
         5
        ],
        [
         1337.0,
         1
        ],
        [
         529.0,
         1
        ],
        [
         99.0,
         5241
        ],
        [
         91.0,
         4
        ],
        [
         3990.0,
         1
        ],
        [
         174.0,
         12
        ],
        [
         29.0,
         11
        ],
        [
         214.0,
         1
        ],
        [
         549.0,
         6
        ],
        [
         24900.0,
         1
        ],
        [
         4498.0,
         1
        ],
        [
         134.0,
         3
        ],
        [
         294.0,
         1
        ],
        [
         577.0,
         1
        ],
        [
         219.0,
         14
        ],
        [
         9900.0,
         1
        ],
        [
         494.0,
         2
        ],
        [
         424.0,
         4
        ],
        [
         254.0,
         2
        ],
        [
         350.0,
         1
        ],
        [
         229.0,
         1
        ],
        [
         428.0,
         1
        ],
        [
         623.0,
         1
        ],
        [
         89.0,
         25
        ],
        [
         4999.0,
         190
        ],
        [
         197.0,
         3
        ],
        [
         1259.0,
         5
        ],
        [
         222.0,
         1
        ],
        [
         1019.0,
         3
        ],
        [
         29990.0,
         1
        ],
        [
         1999.0,
         2820
        ],
        [
         624.0,
         5
        ],
        [
         263.0,
         1
        ],
        [
         124.0,
         21
        ],
        [
         100.0,
         16
        ],
        [
         2260.0,
         1
        ],
        [
         1240.0,
         1
        ],
        [
         299.0,
         3637
        ],
        [
         2124.0,
         1
        ],
        [
         314.0,
         1
        ],
        [
         2299.0,
         5
        ],
        [
         271.0,
         4
        ],
        [
         1500.0,
         9
        ],
        [
         67.0,
         2
        ],
        [
         1639.0,
         1
        ],
        [
         269.0,
         8
        ],
        [
         49.0,
         303
        ],
        [
         2024.0,
         1
        ],
        [
         386.0,
         1
        ],
        [
         698.0,
         1
        ],
        [
         329.0,
         2
        ],
        [
         2990.0,
         1
        ],
        [
         56.0,
         2
        ],
        [
         2004.0,
         1
        ],
        [
         15999.0,
         1
        ],
        [
         288.0,
         1
        ],
        [
         54.0,
         21
        ],
        [
         1299.0,
         796
        ],
        [
         509.0,
         10
        ],
        [
         569.0,
         1
        ],
        [
         2459.0,
         1
        ],
        [
         2397.0,
         1
        ],
        [
         249.0,
         99
        ],
        [
         293.0,
         1
        ],
        [
         179.0,
         23
        ],
        [
         359.0,
         20
        ],
        [
         194.0,
         2
        ],
        [
         5795.0,
         1
        ],
        [
         839.0,
         5
        ],
        [
         1499.0,
         2878
        ],
        [
         1519.0,
         2
        ],
        [
         1510.0,
         1
        ],
        [
         38.0,
         7
        ],
        [
         764.0,
         1
        ],
        [
         3196.0,
         1
        ],
        [
         14999.0,
         6
        ],
        [
         2998.0,
         2
        ],
        [
         51.0,
         51
        ],
        [
         6495.0,
         1
        ],
        [
         14900.0,
         1
        ],
        [
         236.0,
         1
        ],
        [
         1666.0,
         1
        ],
        [
         1359.0,
         2
        ],
        [
         7499.0,
         3
        ],
        [
         879.0,
         1
        ],
        [
         1997.0,
         1
        ],
        [
         639.0,
         6
        ],
        [
         493.0,
         3
        ],
        [
         1969.0,
         1
        ],
        [
         459.0,
         1
        ],
        [
         65.0,
         1
        ],
        [
         1124.0,
         7
        ],
        [
         349.0,
         45
        ],
        [
         1724.0,
         1
        ],
        [
         1799.0,
         286
        ],
        [
         391.0,
         1
        ],
        [
         649.0,
         13
        ],
        [
         3366.0,
         1
        ],
        [
         388.0,
         1
        ],
        [
         1624.0,
         4
        ],
        [
         53.0,
         5
        ],
        [
         1995.0,
         2
        ],
        [
         8999.0,
         5
        ],
        [
         2499.0,
         862
        ],
        [
         849.0,
         8
        ],
        [
         158.0,
         2
        ],
        [
         250.0,
         5
        ],
        [
         1199.0,
         822
        ],
        [
         2109.0,
         1
        ],
        [
         123.0,
         2
        ],
        [
         579.0,
         1
        ],
        [
         369.0,
         1
        ],
        [
         519.0,
         4
        ],
        [
         1295.0,
         1
        ],
        [
         1529.0,
         3
        ],
        [
         1279.0,
         1
        ],
        [
         514.0,
         1
        ],
        [
         77.0,
         4
        ],
        [
         594.0,
         2
        ],
        [
         1249.0,
         14
        ],
        [
         990.0,
         6
        ],
        [
         1450.0,
         1
        ],
        [
         573.0,
         1
        ],
        [
         909.0,
         3
        ],
        [
         870.0,
         1
        ],
        [
         479.0,
         18
        ],
        [
         1224.0,
         1
        ],
        [
         5995.0,
         1
        ],
        [
         659.0,
         2
        ],
        [
         133.0,
         2
        ],
        [
         216.0,
         1
        ],
        [
         1274.0,
         5
        ],
        [
         590.0,
         1
        ],
        [
         251.0,
         1
        ],
        [
         209.0,
         34
        ],
        [
         4000.0,
         1
        ],
        [
         1889.0,
         1
        ],
        [
         400.0,
         6
        ],
        [
         57.0,
         3
        ],
        [
         949.0,
         1
        ],
        [
         397.0,
         2
        ],
        [
         3999.0,
         428
        ],
        [
         799.0,
         1580
        ],
        [
         154.0,
         3
        ],
        [
         430.0,
         1
        ],
        [
         1049.0,
         9
        ],
        [
         1189.0,
         1
        ],
        [
         1449.0,
         2
        ],
        [
         700.0,
         1
        ],
        [
         2000.0,
         5
        ],
        [
         719.0,
         5
        ],
        [
         1600.0,
         1
        ],
        [
         1574.0,
         1
        ],
        [
         749.0,
         40
        ],
        [
         631.0,
         1
        ],
        [
         83.0,
         2
        ],
        [
         1984.0,
         1
        ],
        [
         6995.0,
         1
        ],
        [
         599.0,
         1854
        ],
        [
         1949.0,
         2
        ],
        [
         149.0,
         73
        ],
        [
         71.0,
         1
        ],
        [
         1874.0,
         2
        ],
        [
         195.0,
         1
        ],
        [
         9999.0,
         24
        ],
        [
         1996.0,
         1
        ],
        [
         1990.0,
         2
        ],
        [
         6903.0,
         1
        ],
        [
         374.0,
         29
        ],
        [
         499.0,
         6250
        ],
        [
         12499.0,
         1
        ],
        [
         119.0,
         40
        ],
        [
         974.0,
         13
        ],
        [
         998.0,
         1
        ],
        [
         377.0,
         2
        ],
        [
         3500.0,
         1
        ],
        [
         200.0,
         8
        ],
        [
         389.0,
         8
        ],
        [
         854.0,
         1
        ],
        [
         50.0,
         25
        ],
        [
         999.0,
         6126
        ],
        [
         2449.0,
         1
        ],
        [
         140.0,
         1
        ],
        [
         2339.0,
         1
        ],
        [
         989.0,
         7
        ],
        [
         2899.0,
         2
        ],
        [
         3299.0,
         1
        ],
        [
         169.0,
         7
        ],
        [
         129.0,
         8
        ],
        [
         103.0,
         4
        ],
        [
         80.0,
         1
        ],
        [
         76.0,
         1
        ],
        [
         1399.0,
         276
        ],
        [
         2249.0,
         4
        ],
        [
         109.0,
         5
        ],
        [
         874.0,
         1
        ],
        [
         524.0,
         7
        ],
        [
         495.0,
         1
        ],
        [
         150.0,
         6
        ],
        [
         1495.0,
         1
        ],
        [
         69.0,
         38
        ],
        [
         44.0,
         1
        ],
        [
         1000.0,
         10
        ],
        [
         557.0,
         1
        ],
        [
         800.0,
         3
        ],
        [
         900.0,
         2
        ],
        [
         159.0,
         25
        ],
        [
         809.0,
         1
        ],
        [
         399.0,
         2530
        ],
        [
         188.0,
         1
        ],
        [
         203.0,
         1
        ],
        [
         6999.0,
         25
        ],
        [
         45.0,
         2
        ],
        [
         62.0,
         1
        ],
        [
         489.0,
         3
        ],
        [
         699.0,
         1856
        ],
        [
         464.0,
         1
        ],
        [
         4499.0,
         44
        ],
        [
         164.0,
         1
        ],
        [
         584.0,
         2
        ],
        [
         420.0,
         8
        ],
        [
         3000.0,
         1
        ],
        [
         199.0,
         4193
        ],
        [
         600.0,
         5
        ],
        [
         463.0,
         1
        ],
        [
         191.0,
         1
        ],
        [
         1004.0,
         3
        ],
        [
         666.0,
         3
        ],
        [
         147.0,
         2
        ],
        [
         81.0,
         2
        ],
        [
         95.0,
         1
        ],
        [
         5999.0,
         187
        ],
        [
         375.0,
         1
        ],
        [
         333.0,
         1
        ],
        [
         610.0,
         1
        ],
        [
         995.0,
         2
        ],
        [
         98.0,
         1
        ],
        [
         2199.0,
         9
        ],
        [
         1099.0,
         430
        ],
        [
         795.0,
         1
        ],
        [
         145.0,
         1
        ],
        [
         1749.0,
         7
        ],
        [
         139.0,
         19
        ],
        [
         777.0,
         1
        ],
        [
         1777.0,
         1
        ],
        [
         59.0,
         97
        ],
        [
         259.0,
         11
        ],
        [
         1313.0,
         1
        ],
        [
         1339.0,
         1
        ],
        [
         558.0,
         1
        ],
        [
         339.0,
         6
        ],
        [
         84.0,
         3
        ],
        [
         929.0,
         1
        ],
        [
         99900.0,
         1
        ],
        [
         303.0,
         1
        ],
        [
         2995.0,
         1
        ],
        [
         104.0,
         6
        ],
        [
         79.0,
         40
        ],
        [
         819.0,
         1
        ],
        [
         824.0,
         4
        ],
        [
         5499.0,
         15
        ],
        [
         309.0,
         4
        ],
        [
         12999.0,
         5
        ],
        [
         454.0,
         3
        ],
        [
         1329.0,
         2
        ],
        [
         2799.0,
         2
        ],
        [
         198.0,
         1
        ],
        [
         245.0,
         1
        ],
        [
         2699.0,
         6
        ],
        [
         8499.0,
         1
        ],
        [
         319.0,
         6
        ],
        [
         136.0,
         1
        ],
        [
         279.0,
         22
        ],
        [
         890.0,
         1
        ],
        [
         2399.0,
         9
        ],
        [
         439.0,
         4
        ],
        [
         619.0,
         1
        ],
        [
         680.0,
         1
        ],
        [
         31.0,
         6
        ],
        [
         987.0,
         1
        ],
        [
         636.0,
         1
        ],
        [
         290.0,
         1
        ],
        [
         5274.0,
         1
        ],
        [
         1900.0,
         2
        ],
        [
         488.0,
         1
        ],
        [
         1104.0,
         2
        ],
        [
         674.0,
         4
        ],
        [
         979.0,
         3
        ],
        [
         142.0,
         1
        ],
        [
         2500.0,
         3
        ],
        [
         4500.0,
         1
        ],
        [
         3900.0,
         1
        ],
        [
         244.0,
         4
        ],
        [
         2479.0,
         1
        ],
        [
         1899.0,
         141
        ],
        [
         1149.0,
         1
        ],
        [
         1190.0,
         1
        ],
        [
         1039.0,
         4
        ],
        [
         28.0,
         20
        ],
        [
         300.0,
         9
        ],
        [
         1699.0,
         185
        ],
        [
         750.0,
         1
        ],
        [
         629.0,
         9
        ],
        [
         565.0,
         1
        ],
        [
         679.0,
         7
        ],
        [
         230.0,
         1
        ],
        [
         9499.0,
         4
        ],
        [
         26999.0,
         1
        ],
        [
         3199.0,
         3
        ],
        [
         135.0,
         1
        ],
        [
         11999.0,
         2
        ],
        [
         779.0,
         7
        ],
        [
         155.0,
         1
        ],
        [
         888.0,
         1
        ],
        [
         19999.0,
         17
        ],
        [
         669.0,
         7
        ],
        [
         736.0,
         1
        ],
        [
         111.0,
         1
        ],
        [
         61.0,
         2
        ],
        [
         37.0,
         19
        ],
        [
         898.0,
         1
        ],
        [
         0.0,
         7779
        ],
        [
         7999.0,
         13
        ],
        [
         1290.0,
         1
        ],
        [
         1473.0,
         1
        ],
        [
         1169.0,
         5
        ],
        [
         373.0,
         1
        ],
        [
         433.0,
         1
        ],
        [
         1439.0,
         1
        ],
        [
         1200.0,
         4
        ],
        [
         75.0,
         2
        ],
        [
         706.0,
         1
        ],
        [
         74.0,
         34
        ],
        [
         539.0,
         4
        ],
        [
         899.0,
         753
        ],
        [
         3499.0,
         155
        ],
        [
         3939.0,
         1
        ]
       ],
       "datasetInfos": [],
       "dbfsResultPath": null,
       "isJsonSchema": true,
       "metadata": {},
       "overflow": false,
       "plotOptions": {
        "customPlotOptions": {},
        "displayType": "table",
        "pivotAggregation": null,
        "pivotColumns": null,
        "xColumns": null,
        "yColumns": null
       },
       "removedWidgets": [],
       "schema": [
        {
         "metadata": "{}",
         "name": "price",
         "type": "\"float\""
        },
        {
         "metadata": "{}",
         "name": "appid_count",
         "type": "\"long\""
        }
       ],
       "type": "table"
      }
     },
     "output_type": "display_data"
    },
    {
     "output_type": "display_data",
     "data": {
      "text/plain": [
       "Databricks visualization. Run in Databricks to view."
      ]
     },
     "metadata": {
      "application/vnd.databricks.v1.subcommand+json": {
       "baseErrorDetails": null,
       "bindings": {},
       "collapsed": false,
       "command": "%python\n__backend_agg_display_orig = display\n__backend_agg_dfs = []\ndef __backend_agg_display_new(df):\n    __backend_agg_df_modules = [\"pandas.core.frame\", \"databricks.koalas.frame\", \"pyspark.sql.dataframe\", \"pyspark.pandas.frame\", \"pyspark.sql.connect.dataframe\"]\n    if (type(df).__module__ in __backend_agg_df_modules and type(df).__name__ == 'DataFrame') or isinstance(df, list):\n        __backend_agg_dfs.append(df)\n\ndisplay = __backend_agg_display_new\n\ndef __backend_agg_user_code_fn():\n    import base64\n    exec(base64.standard_b64decode(\"ZGlzcGxheShkZl9zdGVhbV9mbGF0Lmdyb3VwQnkoInByaWNlIikuYWdnKEYuY291bnREaXN0aW5jdCgiYXBwaWQiKS5hbGlhcygiYXBwaWRfY291bnQiKSkp\").decode())\n\ntry:\n    # run user code\n    __backend_agg_user_code_fn()\n\n    #reset display function\n    display = __backend_agg_display_orig\n\n    if len(__backend_agg_dfs) > 0:\n        # create a temp view\n        if type(__backend_agg_dfs[0]).__module__ == \"databricks.koalas.frame\":\n            # koalas dataframe\n            __backend_agg_dfs[0].to_spark().createOrReplaceTempView(\"DatabricksView860913a\")\n        elif type(__backend_agg_dfs[0]).__module__ == \"pandas.core.frame\" or isinstance(__backend_agg_dfs[0], list):\n            # pandas dataframe\n            spark.createDataFrame(__backend_agg_dfs[0]).createOrReplaceTempView(\"DatabricksView860913a\")\n        else:\n            __backend_agg_dfs[0].createOrReplaceTempView(\"DatabricksView860913a\")\n        #run backend agg\n        display(spark.sql(\"\"\"WITH q AS (select * from DatabricksView860913a) SELECT `price`,`appid_count` FROM q\"\"\"))\n    else:\n        displayHTML(\"dataframe no longer exists. If you're using dataframe.display(), use display(dataframe) instead.\")\n\n\nfinally:\n    spark.sql(\"drop view if exists DatabricksView860913a\")\n    display = __backend_agg_display_orig\n    del __backend_agg_display_new\n    del __backend_agg_display_orig\n    del __backend_agg_dfs\n    del __backend_agg_user_code_fn\n\n",
       "commandTitle": "Distribution du prix",
       "commandType": "auto",
       "commandVersion": 0,
       "commentThread": [],
       "commentsVisible": false,
       "contentSha256Hex": null,
       "customPlotOptions": {
        "redashChart": [
         {
          "key": "type",
          "value": "CHART"
         },
         {
          "key": "options",
          "value": {
           "alignYAxesAtZero": true,
           "coefficient": 1,
           "columnConfigurationMap": {
            "x": {
             "column": "price",
             "id": "column_51e3f657513"
            },
            "y": [
             {
              "column": "appid_count",
              "id": "column_51e3f657514"
             }
            ]
           },
           "dateTimeFormat": "DD/MM/YYYY HH:mm",
           "direction": {
            "type": "counterclockwise"
           },
           "error_y": {
            "type": "data",
            "visible": true
           },
           "globalSeriesType": "line",
           "isAggregationOn": false,
           "legend": {
            "traceorder": "normal"
           },
           "missingValuesAsZero": true,
           "numberFormat": "0,0.[00000]",
           "percentFormat": "0[.]00%",
           "series": {
            "error_y": {
             "type": "data",
             "visible": true
            },
            "stacking": null
           },
           "seriesOptions": {
            "appid_count": {
             "color": "#50F5ED",
             "name": "appid_count",
             "type": "line",
             "yAxis": 0
            }
           },
           "showDataLabels": false,
           "sizemode": "diameter",
           "sortX": true,
           "sortY": true,
           "swappedAxes": false,
           "textFormat": "",
           "useAggregationsUi": true,
           "valuesOptions": {},
           "version": 2,
           "xAxis": {
            "labels": {
             "enabled": true
            },
            "title": {
             "text": "Prix"
            },
            "type": "-"
           },
           "yAxis": [
            {
             "title": {
              "text": "Nombre de jeux"
             },
             "type": "-"
            },
            {
             "opposite": true,
             "type": "-"
            }
           ]
          }
         }
        ]
       },
       "datasetPreviewNameToCmdIdMap": {},
       "diffDeletes": [],
       "diffInserts": [],
       "displayType": "redashChart",
       "error": null,
       "errorDetails": null,
       "errorSummary": null,
       "errorTraceType": null,
       "finishTime": 0,
       "globalVars": {},
       "guid": "",
       "height": "auto",
       "hideCommandCode": false,
       "hideCommandResult": false,
       "iPythonMetadata": null,
       "inputWidgets": {},
       "isLockedInExamMode": false,
       "latestUser": "a user",
       "latestUserId": null,
       "listResultMetadata": null,
       "metadata": {},
       "nuid": "519ba07d-7c8a-46b6-b01d-e6286f460b9c",
       "origId": 0,
       "parentHierarchy": [],
       "pivotAggregation": null,
       "pivotColumns": null,
       "position": 12.551783561706543,
       "resultDbfsErrorMessage": null,
       "resultDbfsStatus": "INLINED_IN_TREE",
       "results": null,
       "showCommandTitle": false,
       "startTime": 0,
       "state": "input",
       "streamStates": {},
       "subcommandOptions": {
        "queryPlan": {
         "selects": [
          {
           "column": "price",
           "type": "column"
          },
          {
           "column": "appid_count",
           "type": "column"
          }
         ]
        }
       },
       "submitTime": 0,
       "subtype": "tableResultSubCmd.visualization",
       "tableResultIndex": 0,
       "tableResultSettingsMap": {},
       "useConsistentColors": false,
       "version": "CommandV1",
       "width": "auto",
       "workflows": [],
       "xColumns": null,
       "yColumns": null
      }
     },
     "output_type": "display_data"
    }
   ],
   "source": [
    "display(df_steam_flat.groupBy(\"price\").agg(F.countDistinct(\"appid\").alias(\"appid_count\")))"
   ]
  },
  {
   "cell_type": "markdown",
   "metadata": {
    "application/vnd.databricks.v1+cell": {
     "cellMetadata": {
      "byteLimit": 2048000,
      "rowLimit": 10000
     },
     "inputWidgets": {},
     "nuid": "d07a37ae-f99d-46ad-a324-b6e3db734d3a",
     "showTitle": false,
     "tableResultSettingsMap": {},
     "title": ""
    }
   },
   "source": [
    "Il y a des valeurs extrêmes concernant les prix, je vais les filtrer"
   ]
  },
  {
   "cell_type": "code",
   "execution_count": 0,
   "metadata": {
    "application/vnd.databricks.v1+cell": {
     "cellMetadata": {
      "byteLimit": 2048000,
      "rowLimit": 10000
     },
     "inputWidgets": {},
     "nuid": "c7826323-3868-452a-943a-10d4d71348ba",
     "showTitle": false,
     "tableResultSettingsMap": {},
     "title": ""
    }
   },
   "outputs": [],
   "source": [
    "# Liste des colonnes à traiter\n",
    "col_outliers = [\"price\", \"initialprice\"]\n",
    "\n",
    "# Pour chaque colonne, calculer la moyenne et l'écart-type, puis filtrer les outliers\n",
    "for col in col_outliers:\n",
    "    # Calcul des statistiques\n",
    "    stats = df_steam_flat.select(\n",
    "        F.mean(F.col(col)).alias(\"mean\"),\n",
    "        F.stddev(F.col(col)).alias(\"stddev\")\n",
    "    ).collect()[0]\n",
    "\n",
    "    mean_val = stats[\"mean\"]\n",
    "    stddev_val = stats[\"stddev\"]\n",
    "\n",
    "    upper_bound = mean_val + 3 * stddev_val\n",
    "    lower_bound = mean_val - 3 * stddev_val\n",
    "\n",
    "    # Filtrer les outliers\n",
    "    df_steam_flat = df_steam_flat.filter((F.col(col) <= upper_bound) & (F.col(col) >= lower_bound))"
   ]
  },
  {
   "cell_type": "markdown",
   "metadata": {
    "application/vnd.databricks.v1+cell": {
     "cellMetadata": {},
     "inputWidgets": {},
     "nuid": "bf5ed0d9-b312-42be-a165-bee2d96e4186",
     "showTitle": false,
     "tableResultSettingsMap": {},
     "title": ""
    }
   },
   "source": [
    "Je visualise à nouveau la distribution des prix"
   ]
  },
  {
   "cell_type": "markdown",
   "metadata": {
    "application/vnd.databricks.v1+cell": {
     "cellMetadata": {},
     "inputWidgets": {},
     "nuid": "f9af9a53-b492-4e85-ac6c-aeac5c79a014",
     "showTitle": false,
     "tableResultSettingsMap": {},
     "title": ""
    }
   },
   "source": [
    "`initialprice`"
   ]
  },
  {
   "cell_type": "code",
   "execution_count": 0,
   "metadata": {
    "application/vnd.databricks.v1+cell": {
     "cellMetadata": {
      "byteLimit": 2048000,
      "rowLimit": 10000
     },
     "inputWidgets": {},
     "nuid": "9d3b3619-44df-4472-94a4-56255a0ef5c1",
     "showTitle": false,
     "tableResultSettingsMap": {},
     "title": ""
    }
   },
   "outputs": [
    {
     "output_type": "display_data",
     "data": {
      "text/html": [
       "<style scoped>\n",
       "  .table-result-container {\n",
       "    max-height: 300px;\n",
       "    overflow: auto;\n",
       "  }\n",
       "  table, th, td {\n",
       "    border: 1px solid black;\n",
       "    border-collapse: collapse;\n",
       "  }\n",
       "  th, td {\n",
       "    padding: 5px;\n",
       "  }\n",
       "  th {\n",
       "    text-align: left;\n",
       "  }\n",
       "</style><div class='table-result-container'><table class='table-result'><thead style='background-color: white'><tr><th>initialprice</th><th>appid_count</th></tr></thead><tbody><tr><td>550.0</td><td>1</td></tr><tr><td>500.0</td><td>20</td></tr><tr><td>360.0</td><td>1</td></tr><tr><td>2599.0</td><td>1</td></tr><tr><td>969.0</td><td>1</td></tr><tr><td>379.0</td><td>2</td></tr><tr><td>1558.0</td><td>1</td></tr><tr><td>187.0</td><td>1</td></tr><tr><td>189.0</td><td>1</td></tr><tr><td>90.0</td><td>34</td></tr><tr><td>449.0</td><td>3</td></tr><tr><td>1025.0</td><td>1</td></tr><tr><td>1599.0</td><td>228</td></tr><tr><td>2999.0</td><td>906</td></tr><tr><td>2099.0</td><td>3</td></tr><tr><td>1337.0</td><td>1</td></tr><tr><td>529.0</td><td>4</td></tr><tr><td>99.0</td><td>5439</td></tr><tr><td>549.0</td><td>1</td></tr><tr><td>577.0</td><td>1</td></tr><tr><td>350.0</td><td>1</td></tr><tr><td>229.0</td><td>1</td></tr><tr><td>222.0</td><td>1</td></tr><tr><td>1999.0</td><td>2992</td></tr><tr><td>2260.0</td><td>1</td></tr><tr><td>100.0</td><td>17</td></tr><tr><td>1240.0</td><td>1</td></tr><tr><td>299.0</td><td>3736</td></tr><tr><td>2299.0</td><td>6</td></tr><tr><td>1500.0</td><td>10</td></tr><tr><td>386.0</td><td>1</td></tr><tr><td>698.0</td><td>1</td></tr><tr><td>2990.0</td><td>1</td></tr><tr><td>329.0</td><td>1</td></tr><tr><td>2004.0</td><td>1</td></tr><tr><td>288.0</td><td>1</td></tr><tr><td>1299.0</td><td>851</td></tr><tr><td>2397.0</td><td>1</td></tr><tr><td>249.0</td><td>12</td></tr><tr><td>293.0</td><td>1</td></tr><tr><td>179.0</td><td>1</td></tr><tr><td>1499.0</td><td>3027</td></tr><tr><td>1510.0</td><td>1</td></tr><tr><td>2998.0</td><td>2</td></tr><tr><td>1666.0</td><td>1</td></tr><tr><td>1997.0</td><td>1</td></tr><tr><td>639.0</td><td>2</td></tr><tr><td>1969.0</td><td>1</td></tr><tr><td>459.0</td><td>1</td></tr><tr><td>349.0</td><td>5</td></tr><tr><td>1799.0</td><td>297</td></tr><tr><td>649.0</td><td>1</td></tr><tr><td>388.0</td><td>1</td></tr><tr><td>1995.0</td><td>2</td></tr><tr><td>2499.0</td><td>936</td></tr><tr><td>250.0</td><td>5</td></tr><tr><td>1199.0</td><td>850</td></tr><tr><td>2109.0</td><td>1</td></tr><tr><td>369.0</td><td>1</td></tr><tr><td>1295.0</td><td>1</td></tr><tr><td>519.0</td><td>1</td></tr><tr><td>990.0</td><td>6</td></tr><tr><td>1249.0</td><td>6</td></tr><tr><td>1450.0</td><td>1</td></tr><tr><td>479.0</td><td>1</td></tr><tr><td>133.0</td><td>1</td></tr><tr><td>590.0</td><td>1</td></tr><tr><td>400.0</td><td>6</td></tr><tr><td>397.0</td><td>2</td></tr><tr><td>799.0</td><td>1631</td></tr><tr><td>430.0</td><td>1</td></tr><tr><td>1449.0</td><td>2</td></tr><tr><td>700.0</td><td>1</td></tr><tr><td>2000.0</td><td>5</td></tr><tr><td>1600.0</td><td>1</td></tr><tr><td>631.0</td><td>1</td></tr><tr><td>1984.0</td><td>1</td></tr><tr><td>749.0</td><td>4</td></tr><tr><td>599.0</td><td>1926</td></tr><tr><td>149.0</td><td>9</td></tr><tr><td>1949.0</td><td>1</td></tr><tr><td>195.0</td><td>1</td></tr><tr><td>1996.0</td><td>1</td></tr><tr><td>1990.0</td><td>2</td></tr><tr><td>499.0</td><td>6518</td></tr><tr><td>998.0</td><td>1</td></tr><tr><td>200.0</td><td>7</td></tr><tr><td>389.0</td><td>1</td></tr><tr><td>50.0</td><td>1</td></tr><tr><td>999.0</td><td>6336</td></tr><tr><td>2449.0</td><td>1</td></tr><tr><td>140.0</td><td>1</td></tr><tr><td>1029.0</td><td>1</td></tr><tr><td>2899.0</td><td>2</td></tr><tr><td>129.0</td><td>4</td></tr><tr><td>169.0</td><td>1</td></tr><tr><td>1399.0</td><td>272</td></tr><tr><td>495.0</td><td>1</td></tr><tr><td>150.0</td><td>6</td></tr><tr><td>1495.0</td><td>1</td></tr><tr><td>1000.0</td><td>10</td></tr><tr><td>800.0</td><td>3</td></tr><tr><td>900.0</td><td>2</td></tr><tr><td>159.0</td><td>1</td></tr><tr><td>399.0</td><td>2591</td></tr><tr><td>188.0</td><td>1</td></tr><tr><td>699.0</td><td>1964</td></tr><tr><td>420.0</td><td>8</td></tr><tr><td>3000.0</td><td>1</td></tr><tr><td>199.0</td><td>4285</td></tr><tr><td>600.0</td><td>5</td></tr><tr><td>666.0</td><td>3</td></tr><tr><td>147.0</td><td>2</td></tr><tr><td>333.0</td><td>1</td></tr><tr><td>610.0</td><td>1</td></tr><tr><td>995.0</td><td>2</td></tr><tr><td>98.0</td><td>2</td></tr><tr><td>2199.0</td><td>12</td></tr><tr><td>1099.0</td><td>460</td></tr><tr><td>795.0</td><td>1</td></tr><tr><td>145.0</td><td>1</td></tr><tr><td>777.0</td><td>1</td></tr><tr><td>1777.0</td><td>1</td></tr><tr><td>1313.0</td><td>1</td></tr><tr><td>558.0</td><td>1</td></tr><tr><td>259.0</td><td>1</td></tr><tr><td>929.0</td><td>1</td></tr><tr><td>2995.0</td><td>1</td></tr><tr><td>819.0</td><td>1</td></tr><tr><td>2799.0</td><td>1</td></tr><tr><td>198.0</td><td>1</td></tr><tr><td>245.0</td><td>1</td></tr><tr><td>2699.0</td><td>3</td></tr><tr><td>136.0</td><td>1</td></tr><tr><td>890.0</td><td>1</td></tr><tr><td>2399.0</td><td>5</td></tr><tr><td>680.0</td><td>1</td></tr><tr><td>290.0</td><td>1</td></tr><tr><td>1900.0</td><td>2</td></tr><tr><td>488.0</td><td>1</td></tr><tr><td>142.0</td><td>1</td></tr><tr><td>2500.0</td><td>3</td></tr><tr><td>2479.0</td><td>1</td></tr><tr><td>1899.0</td><td>150</td></tr><tr><td>1149.0</td><td>1</td></tr><tr><td>1190.0</td><td>1</td></tr><tr><td>300.0</td><td>9</td></tr><tr><td>1699.0</td><td>189</td></tr><tr><td>750.0</td><td>1</td></tr><tr><td>565.0</td><td>1</td></tr><tr><td>230.0</td><td>1</td></tr><tr><td>888.0</td><td>1</td></tr><tr><td>898.0</td><td>1</td></tr><tr><td>0.0</td><td>7779</td></tr><tr><td>1290.0</td><td>1</td></tr><tr><td>433.0</td><td>1</td></tr><tr><td>1200.0</td><td>4</td></tr><tr><td>706.0</td><td>1</td></tr><tr><td>899.0</td><td>756</td></tr></tbody></table></div>"
      ]
     },
     "metadata": {
      "application/vnd.databricks.v1+output": {
       "addedWidgets": {},
       "aggData": [],
       "aggError": "",
       "aggOverflow": false,
       "aggSchema": [],
       "aggSeriesLimitReached": false,
       "aggType": "",
       "arguments": {},
       "columnCustomDisplayInfos": {},
       "data": [
        [
         550.0,
         1
        ],
        [
         500.0,
         20
        ],
        [
         360.0,
         1
        ],
        [
         2599.0,
         1
        ],
        [
         969.0,
         1
        ],
        [
         379.0,
         2
        ],
        [
         1558.0,
         1
        ],
        [
         187.0,
         1
        ],
        [
         189.0,
         1
        ],
        [
         90.0,
         34
        ],
        [
         449.0,
         3
        ],
        [
         1025.0,
         1
        ],
        [
         1599.0,
         228
        ],
        [
         2999.0,
         906
        ],
        [
         2099.0,
         3
        ],
        [
         1337.0,
         1
        ],
        [
         529.0,
         4
        ],
        [
         99.0,
         5439
        ],
        [
         549.0,
         1
        ],
        [
         577.0,
         1
        ],
        [
         350.0,
         1
        ],
        [
         229.0,
         1
        ],
        [
         222.0,
         1
        ],
        [
         1999.0,
         2992
        ],
        [
         2260.0,
         1
        ],
        [
         100.0,
         17
        ],
        [
         1240.0,
         1
        ],
        [
         299.0,
         3736
        ],
        [
         2299.0,
         6
        ],
        [
         1500.0,
         10
        ],
        [
         386.0,
         1
        ],
        [
         698.0,
         1
        ],
        [
         2990.0,
         1
        ],
        [
         329.0,
         1
        ],
        [
         2004.0,
         1
        ],
        [
         288.0,
         1
        ],
        [
         1299.0,
         851
        ],
        [
         2397.0,
         1
        ],
        [
         249.0,
         12
        ],
        [
         293.0,
         1
        ],
        [
         179.0,
         1
        ],
        [
         1499.0,
         3027
        ],
        [
         1510.0,
         1
        ],
        [
         2998.0,
         2
        ],
        [
         1666.0,
         1
        ],
        [
         1997.0,
         1
        ],
        [
         639.0,
         2
        ],
        [
         1969.0,
         1
        ],
        [
         459.0,
         1
        ],
        [
         349.0,
         5
        ],
        [
         1799.0,
         297
        ],
        [
         649.0,
         1
        ],
        [
         388.0,
         1
        ],
        [
         1995.0,
         2
        ],
        [
         2499.0,
         936
        ],
        [
         250.0,
         5
        ],
        [
         1199.0,
         850
        ],
        [
         2109.0,
         1
        ],
        [
         369.0,
         1
        ],
        [
         1295.0,
         1
        ],
        [
         519.0,
         1
        ],
        [
         990.0,
         6
        ],
        [
         1249.0,
         6
        ],
        [
         1450.0,
         1
        ],
        [
         479.0,
         1
        ],
        [
         133.0,
         1
        ],
        [
         590.0,
         1
        ],
        [
         400.0,
         6
        ],
        [
         397.0,
         2
        ],
        [
         799.0,
         1631
        ],
        [
         430.0,
         1
        ],
        [
         1449.0,
         2
        ],
        [
         700.0,
         1
        ],
        [
         2000.0,
         5
        ],
        [
         1600.0,
         1
        ],
        [
         631.0,
         1
        ],
        [
         1984.0,
         1
        ],
        [
         749.0,
         4
        ],
        [
         599.0,
         1926
        ],
        [
         149.0,
         9
        ],
        [
         1949.0,
         1
        ],
        [
         195.0,
         1
        ],
        [
         1996.0,
         1
        ],
        [
         1990.0,
         2
        ],
        [
         499.0,
         6518
        ],
        [
         998.0,
         1
        ],
        [
         200.0,
         7
        ],
        [
         389.0,
         1
        ],
        [
         50.0,
         1
        ],
        [
         999.0,
         6336
        ],
        [
         2449.0,
         1
        ],
        [
         140.0,
         1
        ],
        [
         1029.0,
         1
        ],
        [
         2899.0,
         2
        ],
        [
         129.0,
         4
        ],
        [
         169.0,
         1
        ],
        [
         1399.0,
         272
        ],
        [
         495.0,
         1
        ],
        [
         150.0,
         6
        ],
        [
         1495.0,
         1
        ],
        [
         1000.0,
         10
        ],
        [
         800.0,
         3
        ],
        [
         900.0,
         2
        ],
        [
         159.0,
         1
        ],
        [
         399.0,
         2591
        ],
        [
         188.0,
         1
        ],
        [
         699.0,
         1964
        ],
        [
         420.0,
         8
        ],
        [
         3000.0,
         1
        ],
        [
         199.0,
         4285
        ],
        [
         600.0,
         5
        ],
        [
         666.0,
         3
        ],
        [
         147.0,
         2
        ],
        [
         333.0,
         1
        ],
        [
         610.0,
         1
        ],
        [
         995.0,
         2
        ],
        [
         98.0,
         2
        ],
        [
         2199.0,
         12
        ],
        [
         1099.0,
         460
        ],
        [
         795.0,
         1
        ],
        [
         145.0,
         1
        ],
        [
         777.0,
         1
        ],
        [
         1777.0,
         1
        ],
        [
         1313.0,
         1
        ],
        [
         558.0,
         1
        ],
        [
         259.0,
         1
        ],
        [
         929.0,
         1
        ],
        [
         2995.0,
         1
        ],
        [
         819.0,
         1
        ],
        [
         2799.0,
         1
        ],
        [
         198.0,
         1
        ],
        [
         245.0,
         1
        ],
        [
         2699.0,
         3
        ],
        [
         136.0,
         1
        ],
        [
         890.0,
         1
        ],
        [
         2399.0,
         5
        ],
        [
         680.0,
         1
        ],
        [
         290.0,
         1
        ],
        [
         1900.0,
         2
        ],
        [
         488.0,
         1
        ],
        [
         142.0,
         1
        ],
        [
         2500.0,
         3
        ],
        [
         2479.0,
         1
        ],
        [
         1899.0,
         150
        ],
        [
         1149.0,
         1
        ],
        [
         1190.0,
         1
        ],
        [
         300.0,
         9
        ],
        [
         1699.0,
         189
        ],
        [
         750.0,
         1
        ],
        [
         565.0,
         1
        ],
        [
         230.0,
         1
        ],
        [
         888.0,
         1
        ],
        [
         898.0,
         1
        ],
        [
         0.0,
         7779
        ],
        [
         1290.0,
         1
        ],
        [
         433.0,
         1
        ],
        [
         1200.0,
         4
        ],
        [
         706.0,
         1
        ],
        [
         899.0,
         756
        ]
       ],
       "datasetInfos": [],
       "dbfsResultPath": null,
       "isJsonSchema": true,
       "metadata": {},
       "overflow": false,
       "plotOptions": {
        "customPlotOptions": {},
        "displayType": "table",
        "pivotAggregation": null,
        "pivotColumns": null,
        "xColumns": null,
        "yColumns": null
       },
       "removedWidgets": [],
       "schema": [
        {
         "metadata": "{}",
         "name": "initialprice",
         "type": "\"float\""
        },
        {
         "metadata": "{}",
         "name": "appid_count",
         "type": "\"long\""
        }
       ],
       "type": "table"
      }
     },
     "output_type": "display_data"
    },
    {
     "output_type": "display_data",
     "data": {
      "text/plain": [
       "Databricks visualization. Run in Databricks to view."
      ]
     },
     "metadata": {
      "application/vnd.databricks.v1.subcommand+json": {
       "baseErrorDetails": null,
       "bindings": {},
       "collapsed": false,
       "command": "%python\n__backend_agg_display_orig = display\n__backend_agg_dfs = []\ndef __backend_agg_display_new(df):\n    __backend_agg_df_modules = [\"pandas.core.frame\", \"databricks.koalas.frame\", \"pyspark.sql.dataframe\", \"pyspark.pandas.frame\", \"pyspark.sql.connect.dataframe\"]\n    if (type(df).__module__ in __backend_agg_df_modules and type(df).__name__ == 'DataFrame') or isinstance(df, list):\n        __backend_agg_dfs.append(df)\n\ndisplay = __backend_agg_display_new\n\ndef __backend_agg_user_code_fn():\n    import base64\n    exec(base64.standard_b64decode(\"ZGlzcGxheShkZl9zdGVhbV9mbGF0Lmdyb3VwQnkoImluaXRpYWxwcmljZSIpLmFnZyhGLmNvdW50RGlzdGluY3QoImFwcGlkIikuYWxpYXMoImFwcGlkX2NvdW50IikpKQ==\").decode())\n\ntry:\n    # run user code\n    __backend_agg_user_code_fn()\n\n    #reset display function\n    display = __backend_agg_display_orig\n\n    if len(__backend_agg_dfs) > 0:\n        # create a temp view\n        if type(__backend_agg_dfs[0]).__module__ == \"databricks.koalas.frame\":\n            # koalas dataframe\n            __backend_agg_dfs[0].to_spark().createOrReplaceTempView(\"DatabricksView055dc0c\")\n        elif type(__backend_agg_dfs[0]).__module__ == \"pandas.core.frame\" or isinstance(__backend_agg_dfs[0], list):\n            # pandas dataframe\n            spark.createDataFrame(__backend_agg_dfs[0]).createOrReplaceTempView(\"DatabricksView055dc0c\")\n        else:\n            __backend_agg_dfs[0].createOrReplaceTempView(\"DatabricksView055dc0c\")\n        #run backend agg\n        display(spark.sql(\"\"\"WITH q AS (select * from DatabricksView055dc0c) SELECT `initialprice`,`appid_count` FROM q\"\"\"))\n    else:\n        displayHTML(\"dataframe no longer exists. If you're using dataframe.display(), use display(dataframe) instead.\")\n\n\nfinally:\n    spark.sql(\"drop view if exists DatabricksView055dc0c\")\n    display = __backend_agg_display_orig\n    del __backend_agg_display_new\n    del __backend_agg_display_orig\n    del __backend_agg_dfs\n    del __backend_agg_user_code_fn\n\n",
       "commandTitle": "Distribution du prix initial",
       "commandType": "auto",
       "commandVersion": 0,
       "commentThread": [],
       "commentsVisible": false,
       "contentSha256Hex": null,
       "customPlotOptions": {
        "redashChart": [
         {
          "key": "type",
          "value": "CHART"
         },
         {
          "key": "options",
          "value": {
           "alignYAxesAtZero": true,
           "coefficient": 1,
           "columnConfigurationMap": {
            "x": {
             "column": "initialprice",
             "id": "column_51e3f657528"
            },
            "y": [
             {
              "column": "appid_count",
              "id": "column_51e3f657529"
             }
            ]
           },
           "dateTimeFormat": "DD/MM/YYYY HH:mm",
           "direction": {
            "type": "counterclockwise"
           },
           "error_y": {
            "type": "data",
            "visible": true
           },
           "globalSeriesType": "line",
           "isAggregationOn": false,
           "legend": {
            "traceorder": "normal"
           },
           "missingValuesAsZero": true,
           "numberFormat": "0,0.[00000]",
           "percentFormat": "0[.]00%",
           "series": {
            "error_y": {
             "type": "data",
             "visible": true
            },
            "stacking": null
           },
           "seriesOptions": {
            "appid_count": {
             "color": "#50F5ED",
             "name": "appid_count",
             "type": "line",
             "yAxis": 0
            }
           },
           "showDataLabels": false,
           "sizemode": "diameter",
           "sortX": true,
           "sortY": true,
           "swappedAxes": false,
           "textFormat": "",
           "useAggregationsUi": true,
           "valuesOptions": {},
           "version": 2,
           "xAxis": {
            "labels": {
             "enabled": true
            },
            "title": {
             "text": "Prix initial"
            },
            "type": "-"
           },
           "yAxis": [
            {
             "title": {
              "text": "Nombre de jeux"
             },
             "type": "-"
            },
            {
             "opposite": true,
             "type": "-"
            }
           ]
          }
         }
        ]
       },
       "datasetPreviewNameToCmdIdMap": {},
       "diffDeletes": [],
       "diffInserts": [],
       "displayType": "redashChart",
       "error": null,
       "errorDetails": null,
       "errorSummary": null,
       "errorTraceType": null,
       "finishTime": 0,
       "globalVars": {},
       "guid": "",
       "height": "auto",
       "hideCommandCode": false,
       "hideCommandResult": false,
       "iPythonMetadata": null,
       "inputWidgets": {},
       "isLockedInExamMode": false,
       "latestUser": "a user",
       "latestUserId": null,
       "listResultMetadata": null,
       "metadata": {},
       "nuid": "a8ceb2cb-9945-4369-a9ef-afbd9dd4230d",
       "origId": 0,
       "parentHierarchy": [],
       "pivotAggregation": null,
       "pivotColumns": null,
       "position": 12.638697624206543,
       "resultDbfsErrorMessage": null,
       "resultDbfsStatus": "INLINED_IN_TREE",
       "results": null,
       "showCommandTitle": false,
       "startTime": 0,
       "state": "input",
       "streamStates": {},
       "subcommandOptions": {
        "queryPlan": {
         "selects": [
          {
           "column": "initialprice",
           "type": "column"
          },
          {
           "column": "appid_count",
           "type": "column"
          }
         ]
        }
       },
       "submitTime": 0,
       "subtype": "tableResultSubCmd.visualization",
       "tableResultIndex": 0,
       "tableResultSettingsMap": {},
       "useConsistentColors": false,
       "version": "CommandV1",
       "width": "auto",
       "workflows": [],
       "xColumns": null,
       "yColumns": null
      }
     },
     "output_type": "display_data"
    }
   ],
   "source": [
    "display(df_steam_flat.groupBy(\"initialprice\").agg(F.countDistinct(\"appid\").alias(\"appid_count\")))"
   ]
  },
  {
   "cell_type": "markdown",
   "metadata": {
    "application/vnd.databricks.v1+cell": {
     "cellMetadata": {},
     "inputWidgets": {},
     "nuid": "119236c0-7af8-4501-a99f-2375bd79eb5f",
     "showTitle": false,
     "tableResultSettingsMap": {},
     "title": ""
    }
   },
   "source": [
    "`price`"
   ]
  },
  {
   "cell_type": "code",
   "execution_count": 0,
   "metadata": {
    "application/vnd.databricks.v1+cell": {
     "cellMetadata": {
      "byteLimit": 2048000,
      "rowLimit": 10000
     },
     "inputWidgets": {},
     "nuid": "fcf8ec5a-913e-42a4-9233-69c74a184c66",
     "showTitle": false,
     "tableResultSettingsMap": {},
     "title": ""
    }
   },
   "outputs": [
    {
     "output_type": "display_data",
     "data": {
      "text/html": [
       "<style scoped>\n",
       "  .table-result-container {\n",
       "    max-height: 300px;\n",
       "    overflow: auto;\n",
       "  }\n",
       "  table, th, td {\n",
       "    border: 1px solid black;\n",
       "    border-collapse: collapse;\n",
       "  }\n",
       "  th, td {\n",
       "    padding: 5px;\n",
       "  }\n",
       "  th {\n",
       "    text-align: left;\n",
       "  }\n",
       "</style><div class='table-result-container'><table class='table-result'><thead style='background-color: white'><tr><th>price</th><th>appid_count</th></tr></thead><tbody><tr><td>714.0</td><td>2</td></tr><tr><td>769.0</td><td>1</td></tr><tr><td>550.0</td><td>1</td></tr><tr><td>64.0</td><td>3</td></tr><tr><td>107.0</td><td>1</td></tr><tr><td>500.0</td><td>20</td></tr><tr><td>1079.0</td><td>4</td></tr><tr><td>360.0</td><td>1</td></tr><tr><td>911.0</td><td>1</td></tr><tr><td>2599.0</td><td>1</td></tr><tr><td>324.0</td><td>6</td></tr><tr><td>224.0</td><td>12</td></tr><tr><td>510.0</td><td>2</td></tr><tr><td>969.0</td><td>1</td></tr><tr><td>959.0</td><td>3</td></tr><tr><td>39.0</td><td>7</td></tr><tr><td>132.0</td><td>1</td></tr><tr><td>239.0</td><td>27</td></tr><tr><td>1139.0</td><td>1</td></tr><tr><td>1979.0</td><td>1</td></tr><tr><td>379.0</td><td>2</td></tr><tr><td>30.0</td><td>2</td></tr><tr><td>274.0</td><td>1</td></tr><tr><td>1558.0</td><td>1</td></tr><tr><td>183.0</td><td>1</td></tr><tr><td>1349.0</td><td>9</td></tr><tr><td>1119.0</td><td>1</td></tr><tr><td>187.0</td><td>1</td></tr><tr><td>2279.0</td><td>1</td></tr><tr><td>189.0</td><td>2</td></tr><tr><td>90.0</td><td>32</td></tr><tr><td>419.0</td><td>11</td></tr><tr><td>449.0</td><td>39</td></tr><tr><td>1599.0</td><td>229</td></tr><tr><td>1025.0</td><td>1</td></tr><tr><td>2999.0</td><td>857</td></tr><tr><td>41.0</td><td>10</td></tr><tr><td>559.0</td><td>9</td></tr><tr><td>485.0</td><td>1</td></tr><tr><td>2099.0</td><td>5</td></tr><tr><td>1337.0</td><td>1</td></tr><tr><td>529.0</td><td>1</td></tr><tr><td>99.0</td><td>5241</td></tr><tr><td>91.0</td><td>4</td></tr><tr><td>174.0</td><td>12</td></tr><tr><td>29.0</td><td>11</td></tr><tr><td>214.0</td><td>1</td></tr><tr><td>549.0</td><td>6</td></tr><tr><td>134.0</td><td>3</td></tr><tr><td>294.0</td><td>1</td></tr><tr><td>577.0</td><td>1</td></tr><tr><td>219.0</td><td>14</td></tr><tr><td>494.0</td><td>2</td></tr><tr><td>424.0</td><td>4</td></tr><tr><td>254.0</td><td>2</td></tr><tr><td>350.0</td><td>1</td></tr><tr><td>229.0</td><td>1</td></tr><tr><td>428.0</td><td>1</td></tr><tr><td>623.0</td><td>1</td></tr><tr><td>89.0</td><td>25</td></tr><tr><td>197.0</td><td>3</td></tr><tr><td>1259.0</td><td>5</td></tr><tr><td>222.0</td><td>1</td></tr><tr><td>1019.0</td><td>3</td></tr><tr><td>1999.0</td><td>2816</td></tr><tr><td>624.0</td><td>5</td></tr><tr><td>263.0</td><td>1</td></tr><tr><td>124.0</td><td>21</td></tr><tr><td>100.0</td><td>16</td></tr><tr><td>2260.0</td><td>1</td></tr><tr><td>1240.0</td><td>1</td></tr><tr><td>299.0</td><td>3637</td></tr><tr><td>2124.0</td><td>1</td></tr><tr><td>314.0</td><td>1</td></tr><tr><td>2299.0</td><td>5</td></tr><tr><td>271.0</td><td>4</td></tr><tr><td>1500.0</td><td>9</td></tr><tr><td>67.0</td><td>2</td></tr><tr><td>1639.0</td><td>1</td></tr><tr><td>269.0</td><td>8</td></tr><tr><td>49.0</td><td>303</td></tr><tr><td>386.0</td><td>1</td></tr><tr><td>698.0</td><td>1</td></tr><tr><td>329.0</td><td>2</td></tr><tr><td>2990.0</td><td>1</td></tr><tr><td>56.0</td><td>2</td></tr><tr><td>2004.0</td><td>1</td></tr><tr><td>288.0</td><td>1</td></tr><tr><td>54.0</td><td>21</td></tr><tr><td>1299.0</td><td>796</td></tr><tr><td>509.0</td><td>10</td></tr><tr><td>569.0</td><td>1</td></tr><tr><td>2397.0</td><td>1</td></tr><tr><td>249.0</td><td>99</td></tr><tr><td>293.0</td><td>1</td></tr><tr><td>179.0</td><td>23</td></tr><tr><td>359.0</td><td>20</td></tr><tr><td>194.0</td><td>2</td></tr><tr><td>839.0</td><td>5</td></tr><tr><td>1499.0</td><td>2876</td></tr><tr><td>1519.0</td><td>2</td></tr><tr><td>1510.0</td><td>1</td></tr><tr><td>38.0</td><td>7</td></tr><tr><td>764.0</td><td>1</td></tr><tr><td>2998.0</td><td>2</td></tr><tr><td>51.0</td><td>51</td></tr><tr><td>236.0</td><td>1</td></tr><tr><td>1666.0</td><td>1</td></tr><tr><td>1359.0</td><td>1</td></tr><tr><td>879.0</td><td>1</td></tr><tr><td>1997.0</td><td>1</td></tr><tr><td>639.0</td><td>6</td></tr><tr><td>493.0</td><td>3</td></tr><tr><td>1969.0</td><td>1</td></tr><tr><td>459.0</td><td>1</td></tr><tr><td>65.0</td><td>1</td></tr><tr><td>1124.0</td><td>7</td></tr><tr><td>349.0</td><td>44</td></tr><tr><td>1724.0</td><td>1</td></tr><tr><td>1799.0</td><td>285</td></tr><tr><td>391.0</td><td>1</td></tr><tr><td>649.0</td><td>13</td></tr><tr><td>388.0</td><td>1</td></tr><tr><td>1624.0</td><td>4</td></tr><tr><td>53.0</td><td>5</td></tr><tr><td>1995.0</td><td>2</td></tr><tr><td>2499.0</td><td>861</td></tr><tr><td>849.0</td><td>8</td></tr><tr><td>158.0</td><td>2</td></tr><tr><td>250.0</td><td>5</td></tr><tr><td>1199.0</td><td>822</td></tr><tr><td>2109.0</td><td>1</td></tr><tr><td>123.0</td><td>2</td></tr><tr><td>579.0</td><td>1</td></tr><tr><td>369.0</td><td>1</td></tr><tr><td>519.0</td><td>4</td></tr><tr><td>1295.0</td><td>1</td></tr><tr><td>1529.0</td><td>3</td></tr><tr><td>1279.0</td><td>1</td></tr><tr><td>514.0</td><td>1</td></tr><tr><td>77.0</td><td>4</td></tr><tr><td>594.0</td><td>2</td></tr><tr><td>1249.0</td><td>13</td></tr><tr><td>990.0</td><td>6</td></tr><tr><td>1450.0</td><td>1</td></tr><tr><td>573.0</td><td>1</td></tr><tr><td>909.0</td><td>3</td></tr><tr><td>870.0</td><td>1</td></tr><tr><td>479.0</td><td>18</td></tr><tr><td>659.0</td><td>2</td></tr><tr><td>133.0</td><td>2</td></tr><tr><td>216.0</td><td>1</td></tr><tr><td>1274.0</td><td>5</td></tr><tr><td>590.0</td><td>1</td></tr><tr><td>251.0</td><td>1</td></tr><tr><td>209.0</td><td>34</td></tr><tr><td>1889.0</td><td>1</td></tr><tr><td>400.0</td><td>6</td></tr><tr><td>57.0</td><td>3</td></tr><tr><td>949.0</td><td>1</td></tr><tr><td>397.0</td><td>2</td></tr><tr><td>799.0</td><td>1580</td></tr><tr><td>154.0</td><td>3</td></tr><tr><td>430.0</td><td>1</td></tr><tr><td>1049.0</td><td>9</td></tr><tr><td>1189.0</td><td>1</td></tr><tr><td>1449.0</td><td>2</td></tr><tr><td>700.0</td><td>1</td></tr><tr><td>2000.0</td><td>5</td></tr><tr><td>719.0</td><td>5</td></tr><tr><td>1600.0</td><td>1</td></tr><tr><td>1574.0</td><td>1</td></tr><tr><td>749.0</td><td>40</td></tr><tr><td>631.0</td><td>1</td></tr><tr><td>83.0</td><td>2</td></tr><tr><td>1984.0</td><td>1</td></tr><tr><td>599.0</td><td>1852</td></tr><tr><td>1949.0</td><td>2</td></tr><tr><td>149.0</td><td>73</td></tr><tr><td>71.0</td><td>1</td></tr><tr><td>1874.0</td><td>2</td></tr><tr><td>195.0</td><td>1</td></tr><tr><td>1996.0</td><td>1</td></tr><tr><td>1990.0</td><td>2</td></tr><tr><td>374.0</td><td>29</td></tr><tr><td>499.0</td><td>6248</td></tr><tr><td>119.0</td><td>40</td></tr><tr><td>974.0</td><td>13</td></tr><tr><td>998.0</td><td>1</td></tr><tr><td>377.0</td><td>2</td></tr><tr><td>200.0</td><td>8</td></tr><tr><td>389.0</td><td>8</td></tr><tr><td>854.0</td><td>1</td></tr><tr><td>50.0</td><td>25</td></tr><tr><td>999.0</td><td>6124</td></tr><tr><td>2449.0</td><td>1</td></tr><tr><td>140.0</td><td>1</td></tr><tr><td>2339.0</td><td>1</td></tr><tr><td>989.0</td><td>7</td></tr><tr><td>2899.0</td><td>2</td></tr><tr><td>169.0</td><td>7</td></tr><tr><td>129.0</td><td>8</td></tr><tr><td>103.0</td><td>4</td></tr><tr><td>80.0</td><td>1</td></tr><tr><td>76.0</td><td>1</td></tr><tr><td>1399.0</td><td>274</td></tr><tr><td>2249.0</td><td>3</td></tr><tr><td>109.0</td><td>5</td></tr><tr><td>524.0</td><td>7</td></tr><tr><td>495.0</td><td>1</td></tr><tr><td>150.0</td><td>6</td></tr><tr><td>1495.0</td><td>1</td></tr><tr><td>69.0</td><td>38</td></tr><tr><td>44.0</td><td>1</td></tr><tr><td>1000.0</td><td>10</td></tr><tr><td>557.0</td><td>1</td></tr><tr><td>800.0</td><td>3</td></tr><tr><td>900.0</td><td>2</td></tr><tr><td>159.0</td><td>25</td></tr><tr><td>809.0</td><td>1</td></tr><tr><td>399.0</td><td>2529</td></tr><tr><td>188.0</td><td>1</td></tr><tr><td>203.0</td><td>1</td></tr><tr><td>45.0</td><td>2</td></tr><tr><td>62.0</td><td>1</td></tr><tr><td>489.0</td><td>3</td></tr><tr><td>699.0</td><td>1856</td></tr><tr><td>464.0</td><td>1</td></tr><tr><td>164.0</td><td>1</td></tr><tr><td>584.0</td><td>2</td></tr><tr><td>420.0</td><td>8</td></tr><tr><td>3000.0</td><td>1</td></tr><tr><td>199.0</td><td>4193</td></tr><tr><td>600.0</td><td>5</td></tr><tr><td>463.0</td><td>1</td></tr><tr><td>191.0</td><td>1</td></tr><tr><td>1004.0</td><td>3</td></tr><tr><td>666.0</td><td>3</td></tr><tr><td>147.0</td><td>2</td></tr><tr><td>81.0</td><td>2</td></tr><tr><td>95.0</td><td>1</td></tr><tr><td>375.0</td><td>1</td></tr><tr><td>333.0</td><td>1</td></tr><tr><td>610.0</td><td>1</td></tr><tr><td>995.0</td><td>2</td></tr><tr><td>98.0</td><td>1</td></tr><tr><td>2199.0</td><td>9</td></tr><tr><td>1099.0</td><td>430</td></tr><tr><td>795.0</td><td>1</td></tr><tr><td>145.0</td><td>1</td></tr><tr><td>1749.0</td><td>4</td></tr><tr><td>139.0</td><td>19</td></tr><tr><td>777.0</td><td>1</td></tr><tr><td>1777.0</td><td>1</td></tr><tr><td>59.0</td><td>97</td></tr><tr><td>259.0</td><td>11</td></tr><tr><td>1313.0</td><td>1</td></tr><tr><td>1339.0</td><td>1</td></tr><tr><td>558.0</td><td>1</td></tr><tr><td>339.0</td><td>6</td></tr><tr><td>84.0</td><td>3</td></tr><tr><td>929.0</td><td>1</td></tr><tr><td>303.0</td><td>1</td></tr><tr><td>2995.0</td><td>1</td></tr><tr><td>104.0</td><td>6</td></tr><tr><td>79.0</td><td>40</td></tr><tr><td>819.0</td><td>1</td></tr><tr><td>824.0</td><td>4</td></tr><tr><td>309.0</td><td>4</td></tr><tr><td>454.0</td><td>3</td></tr><tr><td>1329.0</td><td>2</td></tr><tr><td>2799.0</td><td>1</td></tr><tr><td>198.0</td><td>1</td></tr><tr><td>245.0</td><td>1</td></tr><tr><td>2699.0</td><td>6</td></tr><tr><td>319.0</td><td>6</td></tr><tr><td>136.0</td><td>1</td></tr><tr><td>279.0</td><td>22</td></tr><tr><td>890.0</td><td>1</td></tr><tr><td>2399.0</td><td>7</td></tr><tr><td>439.0</td><td>4</td></tr><tr><td>619.0</td><td>1</td></tr><tr><td>680.0</td><td>1</td></tr><tr><td>31.0</td><td>6</td></tr><tr><td>987.0</td><td>1</td></tr><tr><td>636.0</td><td>1</td></tr><tr><td>290.0</td><td>1</td></tr><tr><td>1900.0</td><td>2</td></tr><tr><td>488.0</td><td>1</td></tr><tr><td>1104.0</td><td>2</td></tr><tr><td>674.0</td><td>4</td></tr><tr><td>979.0</td><td>3</td></tr><tr><td>142.0</td><td>1</td></tr><tr><td>2500.0</td><td>3</td></tr><tr><td>2479.0</td><td>1</td></tr><tr><td>244.0</td><td>4</td></tr><tr><td>1899.0</td><td>141</td></tr><tr><td>1149.0</td><td>1</td></tr><tr><td>1190.0</td><td>1</td></tr><tr><td>1039.0</td><td>4</td></tr><tr><td>28.0</td><td>20</td></tr><tr><td>300.0</td><td>9</td></tr><tr><td>1699.0</td><td>183</td></tr><tr><td>750.0</td><td>1</td></tr><tr><td>629.0</td><td>9</td></tr><tr><td>565.0</td><td>1</td></tr><tr><td>679.0</td><td>7</td></tr><tr><td>230.0</td><td>1</td></tr><tr><td>135.0</td><td>1</td></tr><tr><td>779.0</td><td>7</td></tr><tr><td>155.0</td><td>1</td></tr><tr><td>888.0</td><td>1</td></tr><tr><td>669.0</td><td>7</td></tr><tr><td>736.0</td><td>1</td></tr><tr><td>111.0</td><td>1</td></tr><tr><td>61.0</td><td>2</td></tr><tr><td>37.0</td><td>19</td></tr><tr><td>898.0</td><td>1</td></tr><tr><td>0.0</td><td>7779</td></tr><tr><td>1290.0</td><td>1</td></tr><tr><td>1473.0</td><td>1</td></tr><tr><td>1169.0</td><td>5</td></tr><tr><td>373.0</td><td>1</td></tr><tr><td>433.0</td><td>1</td></tr><tr><td>1439.0</td><td>1</td></tr><tr><td>1200.0</td><td>4</td></tr><tr><td>75.0</td><td>2</td></tr><tr><td>706.0</td><td>1</td></tr><tr><td>74.0</td><td>34</td></tr><tr><td>539.0</td><td>4</td></tr><tr><td>899.0</td><td>753</td></tr></tbody></table></div>"
      ]
     },
     "metadata": {
      "application/vnd.databricks.v1+output": {
       "addedWidgets": {},
       "aggData": [],
       "aggError": "",
       "aggOverflow": false,
       "aggSchema": [],
       "aggSeriesLimitReached": false,
       "aggType": "",
       "arguments": {},
       "columnCustomDisplayInfos": {},
       "data": [
        [
         714.0,
         2
        ],
        [
         769.0,
         1
        ],
        [
         550.0,
         1
        ],
        [
         64.0,
         3
        ],
        [
         107.0,
         1
        ],
        [
         500.0,
         20
        ],
        [
         1079.0,
         4
        ],
        [
         360.0,
         1
        ],
        [
         911.0,
         1
        ],
        [
         2599.0,
         1
        ],
        [
         324.0,
         6
        ],
        [
         224.0,
         12
        ],
        [
         510.0,
         2
        ],
        [
         969.0,
         1
        ],
        [
         959.0,
         3
        ],
        [
         39.0,
         7
        ],
        [
         132.0,
         1
        ],
        [
         239.0,
         27
        ],
        [
         1139.0,
         1
        ],
        [
         1979.0,
         1
        ],
        [
         379.0,
         2
        ],
        [
         30.0,
         2
        ],
        [
         274.0,
         1
        ],
        [
         1558.0,
         1
        ],
        [
         183.0,
         1
        ],
        [
         1349.0,
         9
        ],
        [
         1119.0,
         1
        ],
        [
         187.0,
         1
        ],
        [
         2279.0,
         1
        ],
        [
         189.0,
         2
        ],
        [
         90.0,
         32
        ],
        [
         419.0,
         11
        ],
        [
         449.0,
         39
        ],
        [
         1599.0,
         229
        ],
        [
         1025.0,
         1
        ],
        [
         2999.0,
         857
        ],
        [
         41.0,
         10
        ],
        [
         559.0,
         9
        ],
        [
         485.0,
         1
        ],
        [
         2099.0,
         5
        ],
        [
         1337.0,
         1
        ],
        [
         529.0,
         1
        ],
        [
         99.0,
         5241
        ],
        [
         91.0,
         4
        ],
        [
         174.0,
         12
        ],
        [
         29.0,
         11
        ],
        [
         214.0,
         1
        ],
        [
         549.0,
         6
        ],
        [
         134.0,
         3
        ],
        [
         294.0,
         1
        ],
        [
         577.0,
         1
        ],
        [
         219.0,
         14
        ],
        [
         494.0,
         2
        ],
        [
         424.0,
         4
        ],
        [
         254.0,
         2
        ],
        [
         350.0,
         1
        ],
        [
         229.0,
         1
        ],
        [
         428.0,
         1
        ],
        [
         623.0,
         1
        ],
        [
         89.0,
         25
        ],
        [
         197.0,
         3
        ],
        [
         1259.0,
         5
        ],
        [
         222.0,
         1
        ],
        [
         1019.0,
         3
        ],
        [
         1999.0,
         2816
        ],
        [
         624.0,
         5
        ],
        [
         263.0,
         1
        ],
        [
         124.0,
         21
        ],
        [
         100.0,
         16
        ],
        [
         2260.0,
         1
        ],
        [
         1240.0,
         1
        ],
        [
         299.0,
         3637
        ],
        [
         2124.0,
         1
        ],
        [
         314.0,
         1
        ],
        [
         2299.0,
         5
        ],
        [
         271.0,
         4
        ],
        [
         1500.0,
         9
        ],
        [
         67.0,
         2
        ],
        [
         1639.0,
         1
        ],
        [
         269.0,
         8
        ],
        [
         49.0,
         303
        ],
        [
         386.0,
         1
        ],
        [
         698.0,
         1
        ],
        [
         329.0,
         2
        ],
        [
         2990.0,
         1
        ],
        [
         56.0,
         2
        ],
        [
         2004.0,
         1
        ],
        [
         288.0,
         1
        ],
        [
         54.0,
         21
        ],
        [
         1299.0,
         796
        ],
        [
         509.0,
         10
        ],
        [
         569.0,
         1
        ],
        [
         2397.0,
         1
        ],
        [
         249.0,
         99
        ],
        [
         293.0,
         1
        ],
        [
         179.0,
         23
        ],
        [
         359.0,
         20
        ],
        [
         194.0,
         2
        ],
        [
         839.0,
         5
        ],
        [
         1499.0,
         2876
        ],
        [
         1519.0,
         2
        ],
        [
         1510.0,
         1
        ],
        [
         38.0,
         7
        ],
        [
         764.0,
         1
        ],
        [
         2998.0,
         2
        ],
        [
         51.0,
         51
        ],
        [
         236.0,
         1
        ],
        [
         1666.0,
         1
        ],
        [
         1359.0,
         1
        ],
        [
         879.0,
         1
        ],
        [
         1997.0,
         1
        ],
        [
         639.0,
         6
        ],
        [
         493.0,
         3
        ],
        [
         1969.0,
         1
        ],
        [
         459.0,
         1
        ],
        [
         65.0,
         1
        ],
        [
         1124.0,
         7
        ],
        [
         349.0,
         44
        ],
        [
         1724.0,
         1
        ],
        [
         1799.0,
         285
        ],
        [
         391.0,
         1
        ],
        [
         649.0,
         13
        ],
        [
         388.0,
         1
        ],
        [
         1624.0,
         4
        ],
        [
         53.0,
         5
        ],
        [
         1995.0,
         2
        ],
        [
         2499.0,
         861
        ],
        [
         849.0,
         8
        ],
        [
         158.0,
         2
        ],
        [
         250.0,
         5
        ],
        [
         1199.0,
         822
        ],
        [
         2109.0,
         1
        ],
        [
         123.0,
         2
        ],
        [
         579.0,
         1
        ],
        [
         369.0,
         1
        ],
        [
         519.0,
         4
        ],
        [
         1295.0,
         1
        ],
        [
         1529.0,
         3
        ],
        [
         1279.0,
         1
        ],
        [
         514.0,
         1
        ],
        [
         77.0,
         4
        ],
        [
         594.0,
         2
        ],
        [
         1249.0,
         13
        ],
        [
         990.0,
         6
        ],
        [
         1450.0,
         1
        ],
        [
         573.0,
         1
        ],
        [
         909.0,
         3
        ],
        [
         870.0,
         1
        ],
        [
         479.0,
         18
        ],
        [
         659.0,
         2
        ],
        [
         133.0,
         2
        ],
        [
         216.0,
         1
        ],
        [
         1274.0,
         5
        ],
        [
         590.0,
         1
        ],
        [
         251.0,
         1
        ],
        [
         209.0,
         34
        ],
        [
         1889.0,
         1
        ],
        [
         400.0,
         6
        ],
        [
         57.0,
         3
        ],
        [
         949.0,
         1
        ],
        [
         397.0,
         2
        ],
        [
         799.0,
         1580
        ],
        [
         154.0,
         3
        ],
        [
         430.0,
         1
        ],
        [
         1049.0,
         9
        ],
        [
         1189.0,
         1
        ],
        [
         1449.0,
         2
        ],
        [
         700.0,
         1
        ],
        [
         2000.0,
         5
        ],
        [
         719.0,
         5
        ],
        [
         1600.0,
         1
        ],
        [
         1574.0,
         1
        ],
        [
         749.0,
         40
        ],
        [
         631.0,
         1
        ],
        [
         83.0,
         2
        ],
        [
         1984.0,
         1
        ],
        [
         599.0,
         1852
        ],
        [
         1949.0,
         2
        ],
        [
         149.0,
         73
        ],
        [
         71.0,
         1
        ],
        [
         1874.0,
         2
        ],
        [
         195.0,
         1
        ],
        [
         1996.0,
         1
        ],
        [
         1990.0,
         2
        ],
        [
         374.0,
         29
        ],
        [
         499.0,
         6248
        ],
        [
         119.0,
         40
        ],
        [
         974.0,
         13
        ],
        [
         998.0,
         1
        ],
        [
         377.0,
         2
        ],
        [
         200.0,
         8
        ],
        [
         389.0,
         8
        ],
        [
         854.0,
         1
        ],
        [
         50.0,
         25
        ],
        [
         999.0,
         6124
        ],
        [
         2449.0,
         1
        ],
        [
         140.0,
         1
        ],
        [
         2339.0,
         1
        ],
        [
         989.0,
         7
        ],
        [
         2899.0,
         2
        ],
        [
         169.0,
         7
        ],
        [
         129.0,
         8
        ],
        [
         103.0,
         4
        ],
        [
         80.0,
         1
        ],
        [
         76.0,
         1
        ],
        [
         1399.0,
         274
        ],
        [
         2249.0,
         3
        ],
        [
         109.0,
         5
        ],
        [
         524.0,
         7
        ],
        [
         495.0,
         1
        ],
        [
         150.0,
         6
        ],
        [
         1495.0,
         1
        ],
        [
         69.0,
         38
        ],
        [
         44.0,
         1
        ],
        [
         1000.0,
         10
        ],
        [
         557.0,
         1
        ],
        [
         800.0,
         3
        ],
        [
         900.0,
         2
        ],
        [
         159.0,
         25
        ],
        [
         809.0,
         1
        ],
        [
         399.0,
         2529
        ],
        [
         188.0,
         1
        ],
        [
         203.0,
         1
        ],
        [
         45.0,
         2
        ],
        [
         62.0,
         1
        ],
        [
         489.0,
         3
        ],
        [
         699.0,
         1856
        ],
        [
         464.0,
         1
        ],
        [
         164.0,
         1
        ],
        [
         584.0,
         2
        ],
        [
         420.0,
         8
        ],
        [
         3000.0,
         1
        ],
        [
         199.0,
         4193
        ],
        [
         600.0,
         5
        ],
        [
         463.0,
         1
        ],
        [
         191.0,
         1
        ],
        [
         1004.0,
         3
        ],
        [
         666.0,
         3
        ],
        [
         147.0,
         2
        ],
        [
         81.0,
         2
        ],
        [
         95.0,
         1
        ],
        [
         375.0,
         1
        ],
        [
         333.0,
         1
        ],
        [
         610.0,
         1
        ],
        [
         995.0,
         2
        ],
        [
         98.0,
         1
        ],
        [
         2199.0,
         9
        ],
        [
         1099.0,
         430
        ],
        [
         795.0,
         1
        ],
        [
         145.0,
         1
        ],
        [
         1749.0,
         4
        ],
        [
         139.0,
         19
        ],
        [
         777.0,
         1
        ],
        [
         1777.0,
         1
        ],
        [
         59.0,
         97
        ],
        [
         259.0,
         11
        ],
        [
         1313.0,
         1
        ],
        [
         1339.0,
         1
        ],
        [
         558.0,
         1
        ],
        [
         339.0,
         6
        ],
        [
         84.0,
         3
        ],
        [
         929.0,
         1
        ],
        [
         303.0,
         1
        ],
        [
         2995.0,
         1
        ],
        [
         104.0,
         6
        ],
        [
         79.0,
         40
        ],
        [
         819.0,
         1
        ],
        [
         824.0,
         4
        ],
        [
         309.0,
         4
        ],
        [
         454.0,
         3
        ],
        [
         1329.0,
         2
        ],
        [
         2799.0,
         1
        ],
        [
         198.0,
         1
        ],
        [
         245.0,
         1
        ],
        [
         2699.0,
         6
        ],
        [
         319.0,
         6
        ],
        [
         136.0,
         1
        ],
        [
         279.0,
         22
        ],
        [
         890.0,
         1
        ],
        [
         2399.0,
         7
        ],
        [
         439.0,
         4
        ],
        [
         619.0,
         1
        ],
        [
         680.0,
         1
        ],
        [
         31.0,
         6
        ],
        [
         987.0,
         1
        ],
        [
         636.0,
         1
        ],
        [
         290.0,
         1
        ],
        [
         1900.0,
         2
        ],
        [
         488.0,
         1
        ],
        [
         1104.0,
         2
        ],
        [
         674.0,
         4
        ],
        [
         979.0,
         3
        ],
        [
         142.0,
         1
        ],
        [
         2500.0,
         3
        ],
        [
         2479.0,
         1
        ],
        [
         244.0,
         4
        ],
        [
         1899.0,
         141
        ],
        [
         1149.0,
         1
        ],
        [
         1190.0,
         1
        ],
        [
         1039.0,
         4
        ],
        [
         28.0,
         20
        ],
        [
         300.0,
         9
        ],
        [
         1699.0,
         183
        ],
        [
         750.0,
         1
        ],
        [
         629.0,
         9
        ],
        [
         565.0,
         1
        ],
        [
         679.0,
         7
        ],
        [
         230.0,
         1
        ],
        [
         135.0,
         1
        ],
        [
         779.0,
         7
        ],
        [
         155.0,
         1
        ],
        [
         888.0,
         1
        ],
        [
         669.0,
         7
        ],
        [
         736.0,
         1
        ],
        [
         111.0,
         1
        ],
        [
         61.0,
         2
        ],
        [
         37.0,
         19
        ],
        [
         898.0,
         1
        ],
        [
         0.0,
         7779
        ],
        [
         1290.0,
         1
        ],
        [
         1473.0,
         1
        ],
        [
         1169.0,
         5
        ],
        [
         373.0,
         1
        ],
        [
         433.0,
         1
        ],
        [
         1439.0,
         1
        ],
        [
         1200.0,
         4
        ],
        [
         75.0,
         2
        ],
        [
         706.0,
         1
        ],
        [
         74.0,
         34
        ],
        [
         539.0,
         4
        ],
        [
         899.0,
         753
        ]
       ],
       "datasetInfos": [],
       "dbfsResultPath": null,
       "isJsonSchema": true,
       "metadata": {},
       "overflow": false,
       "plotOptions": {
        "customPlotOptions": {},
        "displayType": "table",
        "pivotAggregation": null,
        "pivotColumns": null,
        "xColumns": null,
        "yColumns": null
       },
       "removedWidgets": [],
       "schema": [
        {
         "metadata": "{}",
         "name": "price",
         "type": "\"float\""
        },
        {
         "metadata": "{}",
         "name": "appid_count",
         "type": "\"long\""
        }
       ],
       "type": "table"
      }
     },
     "output_type": "display_data"
    },
    {
     "output_type": "display_data",
     "data": {
      "text/plain": [
       "Databricks visualization. Run in Databricks to view."
      ]
     },
     "metadata": {
      "application/vnd.databricks.v1.subcommand+json": {
       "baseErrorDetails": null,
       "bindings": {},
       "collapsed": false,
       "command": "%python\n__backend_agg_display_orig = display\n__backend_agg_dfs = []\ndef __backend_agg_display_new(df):\n    __backend_agg_df_modules = [\"pandas.core.frame\", \"databricks.koalas.frame\", \"pyspark.sql.dataframe\", \"pyspark.pandas.frame\", \"pyspark.sql.connect.dataframe\"]\n    if (type(df).__module__ in __backend_agg_df_modules and type(df).__name__ == 'DataFrame') or isinstance(df, list):\n        __backend_agg_dfs.append(df)\n\ndisplay = __backend_agg_display_new\n\ndef __backend_agg_user_code_fn():\n    import base64\n    exec(base64.standard_b64decode(\"ZGlzcGxheShkZl9zdGVhbV9mbGF0Lmdyb3VwQnkoInByaWNlIikuYWdnKEYuY291bnREaXN0aW5jdCgiYXBwaWQiKS5hbGlhcygiYXBwaWRfY291bnQiKSkp\").decode())\n\ntry:\n    # run user code\n    __backend_agg_user_code_fn()\n\n    #reset display function\n    display = __backend_agg_display_orig\n\n    if len(__backend_agg_dfs) > 0:\n        # create a temp view\n        if type(__backend_agg_dfs[0]).__module__ == \"databricks.koalas.frame\":\n            # koalas dataframe\n            __backend_agg_dfs[0].to_spark().createOrReplaceTempView(\"DatabricksView6e8e75a\")\n        elif type(__backend_agg_dfs[0]).__module__ == \"pandas.core.frame\" or isinstance(__backend_agg_dfs[0], list):\n            # pandas dataframe\n            spark.createDataFrame(__backend_agg_dfs[0]).createOrReplaceTempView(\"DatabricksView6e8e75a\")\n        else:\n            __backend_agg_dfs[0].createOrReplaceTempView(\"DatabricksView6e8e75a\")\n        #run backend agg\n        display(spark.sql(\"\"\"WITH q AS (select * from DatabricksView6e8e75a) SELECT `price`,`appid_count` FROM q\"\"\"))\n    else:\n        displayHTML(\"dataframe no longer exists. If you're using dataframe.display(), use display(dataframe) instead.\")\n\n\nfinally:\n    spark.sql(\"drop view if exists DatabricksView6e8e75a\")\n    display = __backend_agg_display_orig\n    del __backend_agg_display_new\n    del __backend_agg_display_orig\n    del __backend_agg_dfs\n    del __backend_agg_user_code_fn\n\n",
       "commandTitle": "Distribution du prix",
       "commandType": "auto",
       "commandVersion": 0,
       "commentThread": [],
       "commentsVisible": false,
       "contentSha256Hex": null,
       "customPlotOptions": {
        "redashChart": [
         {
          "key": "type",
          "value": "CHART"
         },
         {
          "key": "options",
          "value": {
           "alignYAxesAtZero": true,
           "coefficient": 1,
           "columnConfigurationMap": {
            "x": {
             "column": "price",
             "id": "column_51e3f657534"
            },
            "y": [
             {
              "column": "appid_count",
              "id": "column_51e3f657535"
             }
            ]
           },
           "dateTimeFormat": "DD/MM/YYYY HH:mm",
           "direction": {
            "type": "counterclockwise"
           },
           "error_y": {
            "type": "data",
            "visible": true
           },
           "globalSeriesType": "line",
           "isAggregationOn": false,
           "legend": {
            "traceorder": "normal"
           },
           "missingValuesAsZero": true,
           "numberFormat": "0,0.[00000]",
           "percentFormat": "0[.]00%",
           "series": {
            "error_y": {
             "type": "data",
             "visible": true
            },
            "stacking": null
           },
           "seriesOptions": {
            "appid_count": {
             "color": "#50F5ED",
             "name": "appid_count",
             "type": "line",
             "yAxis": 0
            }
           },
           "showDataLabels": false,
           "sizemode": "diameter",
           "sortX": true,
           "sortY": true,
           "swappedAxes": false,
           "textFormat": "",
           "useAggregationsUi": true,
           "valuesOptions": {},
           "version": 2,
           "xAxis": {
            "labels": {
             "enabled": true
            },
            "title": {
             "text": "Prix"
            },
            "type": "-"
           },
           "yAxis": [
            {
             "title": {
              "text": "Nombre de jeux"
             },
             "type": "-"
            },
            {
             "opposite": true,
             "type": "-"
            }
           ]
          }
         }
        ]
       },
       "datasetPreviewNameToCmdIdMap": {},
       "diffDeletes": [],
       "diffInserts": [],
       "displayType": "redashChart",
       "error": null,
       "errorDetails": null,
       "errorSummary": null,
       "errorTraceType": null,
       "finishTime": 0,
       "globalVars": {},
       "guid": "",
       "height": "auto",
       "hideCommandCode": false,
       "hideCommandResult": false,
       "iPythonMetadata": null,
       "inputWidgets": {},
       "isLockedInExamMode": false,
       "latestUser": "a user",
       "latestUserId": null,
       "listResultMetadata": null,
       "metadata": {},
       "nuid": "99872159-743d-4539-8fcf-43e613718ce1",
       "origId": 0,
       "parentHierarchy": [],
       "pivotAggregation": null,
       "pivotColumns": null,
       "position": 12.642115592956543,
       "resultDbfsErrorMessage": null,
       "resultDbfsStatus": "INLINED_IN_TREE",
       "results": null,
       "showCommandTitle": false,
       "startTime": 0,
       "state": "input",
       "streamStates": {},
       "subcommandOptions": {
        "queryPlan": {
         "selects": [
          {
           "column": "price",
           "type": "column"
          },
          {
           "column": "appid_count",
           "type": "column"
          }
         ]
        }
       },
       "submitTime": 0,
       "subtype": "tableResultSubCmd.visualization",
       "tableResultIndex": 0,
       "tableResultSettingsMap": {},
       "useConsistentColors": false,
       "version": "CommandV1",
       "width": "auto",
       "workflows": [],
       "xColumns": null,
       "yColumns": null
      }
     },
     "output_type": "display_data"
    }
   ],
   "source": [
    "display(df_steam_flat.groupBy(\"price\").agg(F.countDistinct(\"appid\").alias(\"appid_count\")))"
   ]
  },
  {
   "cell_type": "code",
   "execution_count": 0,
   "metadata": {
    "application/vnd.databricks.v1+cell": {
     "cellMetadata": {
      "byteLimit": 2048000,
      "rowLimit": 10000
     },
     "inputWidgets": {},
     "nuid": "accae504-7b1b-42f6-9391-03e4aa236ef3",
     "showTitle": false,
     "tableResultSettingsMap": {},
     "title": ""
    }
   },
   "outputs": [
    {
     "output_type": "stream",
     "name": "stdout",
     "output_type": "stream",
     "text": [
      "Out[81]: 54474"
     ]
    }
   ],
   "source": [
    "df_steam_flat.count()"
   ]
  },
  {
   "cell_type": "markdown",
   "metadata": {
    "application/vnd.databricks.v1+cell": {
     "cellMetadata": {
      "byteLimit": 2048000,
      "rowLimit": 10000
     },
     "inputWidgets": {},
     "nuid": "3c685da8-f889-4249-abc5-950ec938a581",
     "showTitle": false,
     "tableResultSettingsMap": {},
     "title": ""
    }
   },
   "source": [
    "Les données sont maintenant prêtes pour l'analyse"
   ]
  },
  {
   "cell_type": "markdown",
   "metadata": {
    "application/vnd.databricks.v1+cell": {
     "cellMetadata": {
      "byteLimit": 2048000,
      "rowLimit": 10000
     },
     "inputWidgets": {},
     "nuid": "5d7135eb-88af-432a-9e0d-17e951a90ebb",
     "showTitle": false,
     "tableResultSettingsMap": {},
     "title": ""
    }
   },
   "source": [
    "---"
   ]
  },
  {
   "cell_type": "markdown",
   "metadata": {
    "application/vnd.databricks.v1+cell": {
     "cellMetadata": {},
     "inputWidgets": {},
     "nuid": "34a18a82-db92-4276-b90a-addbd9f87e14",
     "showTitle": false,
     "tableResultSettingsMap": {},
     "title": ""
    }
   },
   "source": [
    "Sauvegarde du fichier préprocessé"
   ]
  },
  {
   "cell_type": "code",
   "execution_count": 0,
   "metadata": {
    "application/vnd.databricks.v1+cell": {
     "cellMetadata": {
      "byteLimit": 2048000,
      "rowLimit": 10000
     },
     "inputWidgets": {},
     "nuid": "1063e530-1dc7-47c2-8796-56820cfe0d39",
     "showTitle": false,
     "tableResultSettingsMap": {},
     "title": ""
    }
   },
   "outputs": [],
   "source": [
    "df_steam_flat.write.mode(\"overwrite\").json(\"/dbfs/FileStore/export/steam_flat_prep.json\")"
   ]
  }
 ],
 "metadata": {
  "application/vnd.databricks.v1+notebook": {
   "computePreferences": null,
   "dashboards": [],
   "environmentMetadata": {
    "base_environment": "",
    "environment_version": "1"
   },
   "inputWidgetPreferences": null,
   "language": "python",
   "notebookMetadata": {
    "pythonIndentUnit": 4
   },
   "notebookName": "02_Steam_Preprocessing",
   "widgets": {}
  }
 },
 "nbformat": 4,
 "nbformat_minor": 0
}