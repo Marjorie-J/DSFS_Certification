{
 "cells": [
  {
   "cell_type": "markdown",
   "metadata": {
    "application/vnd.databricks.v1+cell": {
     "cellMetadata": {},
     "inputWidgets": {},
     "nuid": "66a879bc-8bbd-4b54-8d46-818b5e62e36a",
     "showTitle": false,
     "tableResultSettingsMap": {},
     "title": ""
    }
   },
   "source": [
    "# 05_Steam_Plateformes"
   ]
  },
  {
   "cell_type": "markdown",
   "metadata": {
    "application/vnd.databricks.v1+cell": {
     "cellMetadata": {},
     "inputWidgets": {},
     "nuid": "400c3f57-5c21-4799-88d0-5426f574f1bf",
     "showTitle": false,
     "tableResultSettingsMap": {},
     "title": ""
    }
   },
   "source": [
    "---"
   ]
  },
  {
   "cell_type": "code",
   "execution_count": 0,
   "metadata": {
    "application/vnd.databricks.v1+cell": {
     "cellMetadata": {
      "byteLimit": 2048000,
      "rowLimit": 10000
     },
     "inputWidgets": {},
     "nuid": "5b1b2360-d7cb-488f-8f86-15adbd285e78",
     "showTitle": false,
     "tableResultSettingsMap": {},
     "title": ""
    }
   },
   "outputs": [],
   "source": [
    "from pyspark.sql import functions as F\n",
    "from pyspark.sql import Row"
   ]
  },
  {
   "cell_type": "markdown",
   "metadata": {
    "application/vnd.databricks.v1+cell": {
     "cellMetadata": {
      "byteLimit": 2048000,
      "rowLimit": 10000
     },
     "inputWidgets": {},
     "nuid": "1a0e7df6-539b-4f8b-93e7-dc1c8c42240b",
     "showTitle": false,
     "tableResultSettingsMap": {},
     "title": ""
    }
   },
   "source": [
    "### Chargement du dataset"
   ]
  },
  {
   "cell_type": "code",
   "execution_count": 0,
   "metadata": {
    "application/vnd.databricks.v1+cell": {
     "cellMetadata": {
      "byteLimit": 2048000,
      "rowLimit": 10000
     },
     "inputWidgets": {},
     "nuid": "b782dfd7-9019-427e-b250-67f5876d52c3",
     "showTitle": false,
     "tableResultSettingsMap": {},
     "title": ""
    }
   },
   "outputs": [],
   "source": [
    "df_steam_flat = spark.read.json(\"/dbfs/FileStore/export/steam_flat_prep.json\")"
   ]
  },
  {
   "cell_type": "markdown",
   "metadata": {
    "application/vnd.databricks.v1+cell": {
     "cellMetadata": {},
     "inputWidgets": {},
     "nuid": "ee87caad-466d-45d1-9b59-3611f563e470",
     "showTitle": false,
     "tableResultSettingsMap": {},
     "title": ""
    }
   },
   "source": [
    "---"
   ]
  },
  {
   "cell_type": "markdown",
   "metadata": {
    "application/vnd.databricks.v1+cell": {
     "cellMetadata": {
      "byteLimit": 2048000,
      "rowLimit": 10000
     },
     "inputWidgets": {},
     "nuid": "95cae285-71bc-4205-88a3-c1904dfd33c5",
     "showTitle": false,
     "tableResultSettingsMap": {},
     "title": ""
    }
   },
   "source": [
    "### Analyse des plateformes"
   ]
  },
  {
   "cell_type": "markdown",
   "metadata": {
    "application/vnd.databricks.v1+cell": {
     "cellMetadata": {
      "byteLimit": 2048000,
      "rowLimit": 10000
     },
     "inputWidgets": {},
     "nuid": "611587a6-ae1b-43d3-ae29-65e60b8f8f9d",
     "showTitle": false,
     "tableResultSettingsMap": {},
     "title": ""
    }
   },
   "source": [
    "La plupart des jeux sont-ils disponibles sur Windows/Mac/Linux ?"
   ]
  },
  {
   "cell_type": "code",
   "execution_count": 0,
   "metadata": {
    "application/vnd.databricks.v1+cell": {
     "cellMetadata": {
      "byteLimit": 2048000,
      "rowLimit": 10000
     },
     "inputWidgets": {},
     "nuid": "9ea40d7f-3229-4947-aafe-ebad46757242",
     "showTitle": false,
     "tableResultSettingsMap": {},
     "title": ""
    }
   },
   "outputs": [
    {
     "output_type": "display_data",
     "data": {
      "text/html": [
       "<div>\n",
       "<style scoped>\n",
       "    .dataframe tbody tr th:only-of-type {\n",
       "        vertical-align: middle;\n",
       "    }\n",
       "\n",
       "    .dataframe tbody tr th {\n",
       "        vertical-align: top;\n",
       "    }\n",
       "\n",
       "    .dataframe thead th {\n",
       "        text-align: right;\n",
       "    }\n",
       "</style>\n",
       "<table border=\"1\" class=\"dataframe\">\n",
       "  <thead>\n",
       "    <tr style=\"text-align: right;\">\n",
       "      <th></th>\n",
       "      <th>platforms</th>\n",
       "    </tr>\n",
       "  </thead>\n",
       "  <tbody>\n",
       "    <tr>\n",
       "      <th>0</th>\n",
       "      <td>{'linux': False, 'mac': False, 'windows': True}</td>\n",
       "    </tr>\n",
       "    <tr>\n",
       "      <th>1</th>\n",
       "      <td>{'linux': False, 'mac': False, 'windows': True}</td>\n",
       "    </tr>\n",
       "    <tr>\n",
       "      <th>2</th>\n",
       "      <td>{'linux': False, 'mac': False, 'windows': True}</td>\n",
       "    </tr>\n",
       "    <tr>\n",
       "      <th>3</th>\n",
       "      <td>{'linux': False, 'mac': False, 'windows': True}</td>\n",
       "    </tr>\n",
       "    <tr>\n",
       "      <th>4</th>\n",
       "      <td>{'linux': False, 'mac': False, 'windows': True}</td>\n",
       "    </tr>\n",
       "  </tbody>\n",
       "</table>\n",
       "</div>"
      ]
     },
     "metadata": {
      "application/vnd.databricks.v1+output": {
       "addedWidgets": {},
       "arguments": {},
       "data": "<div>\n<style scoped>\n    .dataframe tbody tr th:only-of-type {\n        vertical-align: middle;\n    }\n\n    .dataframe tbody tr th {\n        vertical-align: top;\n    }\n\n    .dataframe thead th {\n        text-align: right;\n    }\n</style>\n<table border=\"1\" class=\"dataframe\">\n  <thead>\n    <tr style=\"text-align: right;\">\n      <th></th>\n      <th>platforms</th>\n    </tr>\n  </thead>\n  <tbody>\n    <tr>\n      <th>0</th>\n      <td>{'linux': False, 'mac': False, 'windows': True}</td>\n    </tr>\n    <tr>\n      <th>1</th>\n      <td>{'linux': False, 'mac': False, 'windows': True}</td>\n    </tr>\n    <tr>\n      <th>2</th>\n      <td>{'linux': False, 'mac': False, 'windows': True}</td>\n    </tr>\n    <tr>\n      <th>3</th>\n      <td>{'linux': False, 'mac': False, 'windows': True}</td>\n    </tr>\n    <tr>\n      <th>4</th>\n      <td>{'linux': False, 'mac': False, 'windows': True}</td>\n    </tr>\n  </tbody>\n</table>\n</div>",
       "datasetInfos": [],
       "metadata": {},
       "removedWidgets": [],
       "textData": null,
       "type": "htmlSandbox"
      }
     },
     "output_type": "display_data"
    }
   ],
   "source": [
    "df_steam_flat.select(\"platforms\").limit(5).toPandas()"
   ]
  },
  {
   "cell_type": "markdown",
   "metadata": {
    "application/vnd.databricks.v1+cell": {
     "cellMetadata": {
      "byteLimit": 2048000,
      "rowLimit": 10000
     },
     "inputWidgets": {},
     "nuid": "4d5b0cc5-8bf1-40e0-b8cd-932cdd9046e8",
     "showTitle": false,
     "tableResultSettingsMap": {},
     "title": ""
    }
   },
   "source": [
    "Je veux récupérer la colonne `platforms` qui est un dictionnaire"
   ]
  },
  {
   "cell_type": "code",
   "execution_count": 0,
   "metadata": {
    "application/vnd.databricks.v1+cell": {
     "cellMetadata": {
      "byteLimit": 2048000,
      "rowLimit": 10000
     },
     "inputWidgets": {},
     "nuid": "12bcfc4e-59ad-4708-9fc5-238c409146ec",
     "showTitle": false,
     "tableResultSettingsMap": {},
     "title": ""
    }
   },
   "outputs": [
    {
     "output_type": "stream",
     "name": "stdout",
     "output_type": "stream",
     "text": [
      "root\n |-- appid: string (nullable = true)\n |-- categories: array (nullable = true)\n |    |-- element: string (containsNull = true)\n |-- ccu: long (nullable = true)\n |-- developer: string (nullable = true)\n |-- discount: double (nullable = true)\n |-- genre: string (nullable = true)\n |-- header_image: string (nullable = true)\n |-- initialprice: double (nullable = true)\n |-- languages: string (nullable = true)\n |-- name: string (nullable = true)\n |-- negative: long (nullable = true)\n |-- owners: string (nullable = true)\n |-- positive: long (nullable = true)\n |-- price: double (nullable = true)\n |-- publisher: string (nullable = true)\n |-- release_date: string (nullable = true)\n |-- required_age: long (nullable = true)\n |-- short_description: string (nullable = true)\n |-- tags: struct (nullable = true)\n |    |-- 1980s: long (nullable = true)\n |    |-- 1990's: long (nullable = true)\n |    |-- 2.5D: long (nullable = true)\n |    |-- 2D: long (nullable = true)\n |    |-- 2D Fighter: long (nullable = true)\n |    |-- 2D Platformer: long (nullable = true)\n |    |-- 360 Video: long (nullable = true)\n |    |-- 3D: long (nullable = true)\n |    |-- 3D Fighter: long (nullable = true)\n |    |-- 3D Platformer: long (nullable = true)\n |    |-- 3D Vision: long (nullable = true)\n |    |-- 4 Player Local: long (nullable = true)\n |    |-- 4X: long (nullable = true)\n |    |-- 6DOF: long (nullable = true)\n |    |-- 8-bit Music: long (nullable = true)\n |    |-- ATV: long (nullable = true)\n |    |-- Abstract: long (nullable = true)\n |    |-- Action: long (nullable = true)\n |    |-- Action RPG: long (nullable = true)\n |    |-- Action RTS: long (nullable = true)\n |    |-- Action Roguelike: long (nullable = true)\n |    |-- Action-Adventure: long (nullable = true)\n |    |-- Addictive: long (nullable = true)\n |    |-- Adventure: long (nullable = true)\n |    |-- Agriculture: long (nullable = true)\n |    |-- Aliens: long (nullable = true)\n |    |-- Alternate History: long (nullable = true)\n |    |-- Ambient: long (nullable = true)\n |    |-- America: long (nullable = true)\n |    |-- Animation & Modeling: long (nullable = true)\n |    |-- Anime: long (nullable = true)\n |    |-- Arcade: long (nullable = true)\n |    |-- Archery: long (nullable = true)\n |    |-- Arena Shooter: long (nullable = true)\n |    |-- Artificial Intelligence: long (nullable = true)\n |    |-- Assassin: long (nullable = true)\n |    |-- Asymmetric VR: long (nullable = true)\n |    |-- Asynchronous Multiplayer: long (nullable = true)\n |    |-- Atmospheric: long (nullable = true)\n |    |-- Audio Production: long (nullable = true)\n |    |-- Auto Battler: long (nullable = true)\n |    |-- Automation: long (nullable = true)\n |    |-- Automobile Sim: long (nullable = true)\n |    |-- BMX: long (nullable = true)\n |    |-- Base-Building: long (nullable = true)\n |    |-- Baseball: long (nullable = true)\n |    |-- Based On A Novel: long (nullable = true)\n |    |-- Basketball: long (nullable = true)\n |    |-- Battle Royale: long (nullable = true)\n |    |-- Beat 'em up: long (nullable = true)\n |    |-- Beautiful: long (nullable = true)\n |    |-- Benchmark: long (nullable = true)\n |    |-- Bikes: long (nullable = true)\n |    |-- Blood: long (nullable = true)\n |    |-- Board Game: long (nullable = true)\n |    |-- Boss Rush: long (nullable = true)\n |    |-- Bowling: long (nullable = true)\n |    |-- Boxing: long (nullable = true)\n |    |-- Building: long (nullable = true)\n |    |-- Bullet Hell: long (nullable = true)\n |    |-- Bullet Time: long (nullable = true)\n |    |-- CRPG: long (nullable = true)\n |    |-- Capitalism: long (nullable = true)\n |    |-- Card Battler: long (nullable = true)\n |    |-- Card Game: long (nullable = true)\n |    |-- Cartoon: long (nullable = true)\n |    |-- Cartoony: long (nullable = true)\n |    |-- Casual: long (nullable = true)\n |    |-- Cats: long (nullable = true)\n |    |-- Character Action Game: long (nullable = true)\n |    |-- Character Customization: long (nullable = true)\n |    |-- Chess: long (nullable = true)\n |    |-- Choices Matter: long (nullable = true)\n |    |-- Choose Your Own Adventure: long (nullable = true)\n |    |-- Cinematic: long (nullable = true)\n |    |-- City Builder: long (nullable = true)\n |    |-- Class-Based: long (nullable = true)\n |    |-- Classic: long (nullable = true)\n |    |-- Clicker: long (nullable = true)\n |    |-- Co-op: long (nullable = true)\n |    |-- Co-op Campaign: long (nullable = true)\n |    |-- Coding: long (nullable = true)\n |    |-- Cold War: long (nullable = true)\n |    |-- Collectathon: long (nullable = true)\n |    |-- Colony Sim: long (nullable = true)\n |    |-- Colorful: long (nullable = true)\n |    |-- Combat: long (nullable = true)\n |    |-- Combat Racing: long (nullable = true)\n |    |-- Comedy: long (nullable = true)\n |    |-- Comic Book: long (nullable = true)\n |    |-- Competitive: long (nullable = true)\n |    |-- Conspiracy: long (nullable = true)\n |    |-- Controller: long (nullable = true)\n |    |-- Conversation: long (nullable = true)\n |    |-- Cooking: long (nullable = true)\n |    |-- Cozy: long (nullable = true)\n |    |-- Crafting: long (nullable = true)\n |    |-- Creature Collector: long (nullable = true)\n |    |-- Cricket: long (nullable = true)\n |    |-- Crime: long (nullable = true)\n |    |-- Crowdfunded: long (nullable = true)\n |    |-- Cult Classic: long (nullable = true)\n |    |-- Cute: long (nullable = true)\n |    |-- Cyberpunk: long (nullable = true)\n |    |-- Cycling: long (nullable = true)\n |    |-- Dark: long (nullable = true)\n |    |-- Dark Comedy: long (nullable = true)\n |    |-- Dark Fantasy: long (nullable = true)\n |    |-- Dark Humor: long (nullable = true)\n |    |-- Dating Sim: long (nullable = true)\n |    |-- Deckbuilding: long (nullable = true)\n |    |-- Demons: long (nullable = true)\n |    |-- Design & Illustration: long (nullable = true)\n |    |-- Destruction: long (nullable = true)\n |    |-- Detective: long (nullable = true)\n |    |-- Difficult: long (nullable = true)\n |    |-- Dinosaurs: long (nullable = true)\n |    |-- Diplomacy: long (nullable = true)\n |    |-- Documentary: long (nullable = true)\n |    |-- Dog: long (nullable = true)\n |    |-- Dragons: long (nullable = true)\n |    |-- Drama: long (nullable = true)\n |    |-- Driving: long (nullable = true)\n |    |-- Dungeon Crawler: long (nullable = true)\n |    |-- Dungeons & Dragons: long (nullable = true)\n |    |-- Dynamic Narration: long (nullable = true)\n |    |-- Dystopian : long (nullable = true)\n |    |-- Early Access: long (nullable = true)\n |    |-- Economy: long (nullable = true)\n |    |-- Education: long (nullable = true)\n |    |-- Electronic: long (nullable = true)\n |    |-- Electronic Music: long (nullable = true)\n |    |-- Emotional: long (nullable = true)\n |    |-- Epic: long (nullable = true)\n |    |-- Episodic: long (nullable = true)\n |    |-- Escape Room: long (nullable = true)\n |    |-- Experience: long (nullable = true)\n |    |-- Experimental: long (nullable = true)\n |    |-- Exploration: long (nullable = true)\n |    |-- FMV: long (nullable = true)\n |    |-- FPS: long (nullable = true)\n |    |-- Faith: long (nullable = true)\n |    |-- Family Friendly: long (nullable = true)\n |    |-- Fantasy: long (nullable = true)\n |    |-- Farming: long (nullable = true)\n |    |-- Farming Sim: long (nullable = true)\n |    |-- Fast-Paced: long (nullable = true)\n |    |-- Feature Film: long (nullable = true)\n |    |-- Female Protagonist: long (nullable = true)\n |    |-- Fighting: long (nullable = true)\n |    |-- First-Person: long (nullable = true)\n |    |-- Fishing: long (nullable = true)\n |    |-- Flight: long (nullable = true)\n |    |-- Football: long (nullable = true)\n |    |-- Foreign: long (nullable = true)\n |    |-- Free to Play: long (nullable = true)\n |    |-- Funny: long (nullable = true)\n |    |-- Futuristic: long (nullable = true)\n |    |-- Gambling: long (nullable = true)\n |    |-- Game Development: long (nullable = true)\n |    |-- GameMaker: long (nullable = true)\n |    |-- Games Workshop: long (nullable = true)\n |    |-- Gaming: long (nullable = true)\n |    |-- God Game: long (nullable = true)\n |    |-- Golf: long (nullable = true)\n |    |-- Gore: long (nullable = true)\n |    |-- Gothic: long (nullable = true)\n |    |-- Grand Strategy: long (nullable = true)\n |    |-- Great Soundtrack: long (nullable = true)\n |    |-- Grid-Based Movement: long (nullable = true)\n |    |-- Gun Customization: long (nullable = true)\n |    |-- Hack and Slash: long (nullable = true)\n |    |-- Hacking: long (nullable = true)\n |    |-- Hand-drawn: long (nullable = true)\n |    |-- Hardware: long (nullable = true)\n |    |-- Heist: long (nullable = true)\n |    |-- Hentai: long (nullable = true)\n |    |-- Hero Shooter: long (nullable = true)\n |    |-- Hex Grid: long (nullable = true)\n |    |-- Hidden Object: long (nullable = true)\n |    |-- Historical: long (nullable = true)\n |    |-- Hockey: long (nullable = true)\n |    |-- Horror: long (nullable = true)\n |    |-- Horses: long (nullable = true)\n |    |-- Hunting: long (nullable = true)\n |    |-- Idler: long (nullable = true)\n |    |-- Illuminati: long (nullable = true)\n |    |-- Immersive: long (nullable = true)\n |    |-- Immersive Sim: long (nullable = true)\n |    |-- Indie: long (nullable = true)\n |    |-- Instrumental Music: long (nullable = true)\n |    |-- Intentionally Awkward Controls: long (nullable = true)\n |    |-- Interactive Fiction: long (nullable = true)\n |    |-- Inventory Management: long (nullable = true)\n |    |-- Investigation: long (nullable = true)\n |    |-- Isometric: long (nullable = true)\n |    |-- JRPG: long (nullable = true)\n |    |-- Jet: long (nullable = true)\n |    |-- Job Simulator: long (nullable = true)\n |    |-- Jump Scare: long (nullable = true)\n |    |-- Kickstarter: long (nullable = true)\n |    |-- LEGO: long (nullable = true)\n |    |-- LGBTQ+: long (nullable = true)\n |    |-- Lemmings: long (nullable = true)\n |    |-- Level Editor: long (nullable = true)\n |    |-- Life Sim: long (nullable = true)\n |    |-- Linear: long (nullable = true)\n |    |-- Local Co-Op: long (nullable = true)\n |    |-- Local Multiplayer: long (nullable = true)\n |    |-- Logic: long (nullable = true)\n |    |-- Loot: long (nullable = true)\n |    |-- Looter Shooter: long (nullable = true)\n |    |-- Lore-Rich: long (nullable = true)\n |    |-- Lovecraftian: long (nullable = true)\n |    |-- MMORPG: long (nullable = true)\n |    |-- MOBA: long (nullable = true)\n |    |-- Magic: long (nullable = true)\n |    |-- Mahjong: long (nullable = true)\n |    |-- Management: long (nullable = true)\n |    |-- Mars: long (nullable = true)\n |    |-- Martial Arts: long (nullable = true)\n |    |-- Massively Multiplayer: long (nullable = true)\n |    |-- Masterpiece: long (nullable = true)\n |    |-- Match 3: long (nullable = true)\n |    |-- Mature: long (nullable = true)\n |    |-- Mechs: long (nullable = true)\n |    |-- Medical Sim: long (nullable = true)\n |    |-- Medieval: long (nullable = true)\n |    |-- Memes: long (nullable = true)\n |    |-- Metroidvania: long (nullable = true)\n |    |-- Military: long (nullable = true)\n |    |-- Mini Golf: long (nullable = true)\n |    |-- Minigames: long (nullable = true)\n |    |-- Minimalist: long (nullable = true)\n |    |-- Mining: long (nullable = true)\n |    |-- Mod: long (nullable = true)\n |    |-- Moddable: long (nullable = true)\n |    |-- Modern: long (nullable = true)\n |    |-- Motocross: long (nullable = true)\n |    |-- Motorbike: long (nullable = true)\n |    |-- Mouse only: long (nullable = true)\n |    |-- Movie: long (nullable = true)\n |    |-- Multiplayer: long (nullable = true)\n |    |-- Multiple Endings: long (nullable = true)\n |    |-- Music: long (nullable = true)\n |    |-- Music-Based Procedural Generation: long (nullable = true)\n |    |-- Musou: long (nullable = true)\n |    |-- Mystery: long (nullable = true)\n |    |-- Mystery Dungeon: long (nullable = true)\n |    |-- Mythology: long (nullable = true)\n |    |-- NSFW: long (nullable = true)\n |    |-- Narration: long (nullable = true)\n |    |-- Narrative: long (nullable = true)\n |    |-- Nature: long (nullable = true)\n |    |-- Naval: long (nullable = true)\n |    |-- Naval Combat: long (nullable = true)\n |    |-- Ninja: long (nullable = true)\n |    |-- Noir: long (nullable = true)\n |    |-- Nonlinear: long (nullable = true)\n |    |-- Nostalgia: long (nullable = true)\n |    |-- Nudity: long (nullable = true)\n |    |-- Offroad: long (nullable = true)\n |    |-- Old School: long (nullable = true)\n |    |-- On-Rails Shooter: long (nullable = true)\n |    |-- Online Co-Op: long (nullable = true)\n |    |-- Open World: long (nullable = true)\n |    |-- Open World Survival Craft: long (nullable = true)\n |    |-- Otome: long (nullable = true)\n |    |-- Outbreak Sim: long (nullable = true)\n |    |-- Parkour: long (nullable = true)\n |    |-- Parody : long (nullable = true)\n |    |-- Party: long (nullable = true)\n |    |-- Party Game: long (nullable = true)\n |    |-- Party-Based RPG: long (nullable = true)\n |    |-- Perma Death: long (nullable = true)\n |    |-- Philosophical: long (nullable = true)\n |    |-- Photo Editing: long (nullable = true)\n |    |-- Physics: long (nullable = true)\n |    |-- Pinball: long (nullable = true)\n |    |-- Pirates: long (nullable = true)\n |    |-- Pixel Graphics: long (nullable = true)\n |    |-- Platformer: long (nullable = true)\n |    |-- Point & Click: long (nullable = true)\n |    |-- Political: long (nullable = true)\n |    |-- Political Sim: long (nullable = true)\n |    |-- Politics: long (nullable = true)\n |    |-- Pool: long (nullable = true)\n |    |-- Post-apocalyptic: long (nullable = true)\n |    |-- Precision Platformer: long (nullable = true)\n |    |-- Procedural Generation: long (nullable = true)\n |    |-- Programming: long (nullable = true)\n |    |-- Psychedelic: long (nullable = true)\n |    |-- Psychological: long (nullable = true)\n |    |-- Psychological Horror: long (nullable = true)\n |    |-- Puzzle: long (nullable = true)\n |    |-- Puzzle-Platformer: long (nullable = true)\n |    |-- PvE: long (nullable = true)\n |    |-- PvP: long (nullable = true)\n |    |-- Quick-Time Events: long (nullable = true)\n |    |-- RPG: long (nullable = true)\n |    |-- RPGMaker: long (nullable = true)\n |    |-- RTS: long (nullable = true)\n |    |-- Racing: long (nullable = true)\n |    |-- Real Time Tactics: long (nullable = true)\n |    |-- Real-Time: long (nullable = true)\n |    |-- Real-Time with Pause: long (nullable = true)\n |    |-- Realistic: long (nullable = true)\n |    |-- Reboot: long (nullable = true)\n |    |-- Relaxing: long (nullable = true)\n |    |-- Remake: long (nullable = true)\n |    |-- Replay Value: long (nullable = true)\n |    |-- Resource Management: long (nullable = true)\n |    |-- Retro: long (nullable = true)\n |    |-- Rhythm: long (nullable = true)\n |    |-- Robots: long (nullable = true)\n |    |-- Rock Music: long (nullable = true)\n |    |-- Rogue-like: long (nullable = true)\n |    |-- Rogue-lite: long (nullable = true)\n |    |-- Roguelike Deckbuilder: long (nullable = true)\n |    |-- Roguevania: long (nullable = true)\n |    |-- Romance: long (nullable = true)\n |    |-- Rome: long (nullable = true)\n |    |-- Rugby: long (nullable = true)\n |    |-- Runner: long (nullable = true)\n |    |-- Sailing: long (nullable = true)\n |    |-- Sandbox: long (nullable = true)\n |    |-- Satire: long (nullable = true)\n |    |-- Sci-fi: long (nullable = true)\n |    |-- Science: long (nullable = true)\n |    |-- Score Attack: long (nullable = true)\n |    |-- Sequel: long (nullable = true)\n |    |-- Sexual Content: long (nullable = true)\n |    |-- Shoot 'Em Up: long (nullable = true)\n |    |-- Shooter: long (nullable = true)\n |    |-- Shop Keeper: long (nullable = true)\n |    |-- Short: long (nullable = true)\n |    |-- Side Scroller: long (nullable = true)\n |    |-- Silent Protagonist: long (nullable = true)\n |    |-- Simulation: long (nullable = true)\n |    |-- Singleplayer: long (nullable = true)\n |    |-- Skateboarding: long (nullable = true)\n |    |-- Skating: long (nullable = true)\n |    |-- Skiing: long (nullable = true)\n |    |-- Sniper: long (nullable = true)\n |    |-- Snooker: long (nullable = true)\n |    |-- Snow: long (nullable = true)\n |    |-- Snowboarding: long (nullable = true)\n |    |-- Soccer: long (nullable = true)\n |    |-- Social Deduction: long (nullable = true)\n |    |-- Software: long (nullable = true)\n |    |-- Software Training: long (nullable = true)\n |    |-- Sokoban: long (nullable = true)\n |    |-- Solitaire: long (nullable = true)\n |    |-- Souls-like: long (nullable = true)\n |    |-- Soundtrack: long (nullable = true)\n |    |-- Space: long (nullable = true)\n |    |-- Space Sim: long (nullable = true)\n |    |-- Spaceships: long (nullable = true)\n |    |-- Spectacle fighter: long (nullable = true)\n |    |-- Spelling: long (nullable = true)\n |    |-- Split Screen: long (nullable = true)\n |    |-- Sports: long (nullable = true)\n |    |-- Stealth: long (nullable = true)\n |    |-- Steam Machine: long (nullable = true)\n |    |-- Steampunk: long (nullable = true)\n |    |-- Story Rich: long (nullable = true)\n |    |-- Strategy: long (nullable = true)\n |    |-- Strategy RPG: long (nullable = true)\n |    |-- Stylized: long (nullable = true)\n |    |-- Submarine: long (nullable = true)\n |    |-- Superhero: long (nullable = true)\n |    |-- Supernatural: long (nullable = true)\n |    |-- Surreal: long (nullable = true)\n |    |-- Survival: long (nullable = true)\n |    |-- Survival Horror: long (nullable = true)\n |    |-- Swordplay: long (nullable = true)\n |    |-- Tabletop: long (nullable = true)\n |    |-- Tactical: long (nullable = true)\n |    |-- Tactical RPG: long (nullable = true)\n |    |-- Tanks: long (nullable = true)\n |    |-- Team-Based: long (nullable = true)\n |    |-- Tennis: long (nullable = true)\n |    |-- Text-Based: long (nullable = true)\n |    |-- Third Person: long (nullable = true)\n |    |-- Third-Person Shooter: long (nullable = true)\n |    |-- Thriller: long (nullable = true)\n |    |-- Tile-Matching: long (nullable = true)\n |    |-- Time Attack: long (nullable = true)\n |    |-- Time Management: long (nullable = true)\n |    |-- Time Manipulation: long (nullable = true)\n |    |-- Time Travel: long (nullable = true)\n |    |-- Top-Down: long (nullable = true)\n |    |-- Top-Down Shooter: long (nullable = true)\n |    |-- Touch-Friendly: long (nullable = true)\n |    |-- Tower Defense: long (nullable = true)\n |    |-- TrackIR: long (nullable = true)\n |    |-- Trading: long (nullable = true)\n |    |-- Trading Card Game: long (nullable = true)\n |    |-- Traditional Roguelike: long (nullable = true)\n |    |-- Trains: long (nullable = true)\n |    |-- Transhumanism: long (nullable = true)\n |    |-- Transportation: long (nullable = true)\n |    |-- Trivia: long (nullable = true)\n |    |-- Turn-Based: long (nullable = true)\n |    |-- Turn-Based Combat: long (nullable = true)\n |    |-- Turn-Based Strategy: long (nullable = true)\n |    |-- Turn-Based Tactics: long (nullable = true)\n |    |-- Tutorial: long (nullable = true)\n |    |-- Twin Stick Shooter: long (nullable = true)\n |    |-- Typing: long (nullable = true)\n |    |-- Underground: long (nullable = true)\n |    |-- Underwater: long (nullable = true)\n |    |-- Unforgiving: long (nullable = true)\n |    |-- Utilities: long (nullable = true)\n |    |-- VR: long (nullable = true)\n |    |-- VR Only: long (nullable = true)\n |    |-- Vampire: long (nullable = true)\n |    |-- Vehicular Combat: long (nullable = true)\n |    |-- Video Production: long (nullable = true)\n |    |-- Vikings: long (nullable = true)\n |    |-- Villain Protagonist: long (nullable = true)\n |    |-- Violent: long (nullable = true)\n |    |-- Visual Novel: long (nullable = true)\n |    |-- Voice Control: long (nullable = true)\n |    |-- Volleyball: long (nullable = true)\n |    |-- Voxel: long (nullable = true)\n |    |-- Walking Simulator: long (nullable = true)\n |    |-- War: long (nullable = true)\n |    |-- Wargame: long (nullable = true)\n |    |-- Warhammer 40K: long (nullable = true)\n |    |-- Web Publishing: long (nullable = true)\n |    |-- Well-Written: long (nullable = true)\n |    |-- Werewolves: long (nullable = true)\n |    |-- Western: long (nullable = true)\n |    |-- Wholesome: long (nullable = true)\n |    |-- Word Game: long (nullable = true)\n |    |-- World War I: long (nullable = true)\n |    |-- World War II: long (nullable = true)\n |    |-- Wrestling: long (nullable = true)\n |    |-- Zombies: long (nullable = true)\n |    |-- e-sports: long (nullable = true)\n |-- type: string (nullable = true)\n |-- website: string (nullable = true)\n |-- platform_linux: boolean (nullable = true)\n |-- platform_mac: boolean (nullable = true)\n |-- platform_windows: boolean (nullable = true)\n\n"
     ]
    }
   ],
   "source": [
    "df_platforms = df_steam_flat \\\n",
    "    .withColumn(\"platform_linux\", F.col(\"platforms\").getField(\"linux\")) \\\n",
    "    .withColumn(\"platform_mac\", F.col('platforms').getField(\"mac\")) \\\n",
    "    .withColumn(\"platform_windows\", F.col('platforms').getField(\"windows\")) \\\n",
    "    .drop(\"platforms\")\n",
    "df_platforms.printSchema()"
   ]
  },
  {
   "cell_type": "code",
   "execution_count": 0,
   "metadata": {
    "application/vnd.databricks.v1+cell": {
     "cellMetadata": {
      "byteLimit": 2048000,
      "rowLimit": 10000
     },
     "inputWidgets": {},
     "nuid": "44dd331b-bd75-4893-90dd-86bca9614ec1",
     "showTitle": false,
     "tableResultSettingsMap": {},
     "title": ""
    }
   },
   "outputs": [],
   "source": [
    "df_platforms = df_platforms \\\n",
    "    .withColumn(\"platform_linux\", F.when(F.col(\"platform_linux\") == True, 1).otherwise(0)) \\\n",
    "    .withColumn(\"platform_mac\", F.when(F.col(\"platform_mac\") == True, 1).otherwise(0)) \\\n",
    "    .withColumn(\"platform_windows\", F.when(F.col(\"platform_windows\") == True, 1).otherwise(0))\n"
   ]
  },
  {
   "cell_type": "code",
   "execution_count": 0,
   "metadata": {
    "application/vnd.databricks.v1+cell": {
     "cellMetadata": {
      "byteLimit": 2048000,
      "rowLimit": 10000
     },
     "inputWidgets": {},
     "nuid": "7aff4201-a242-4fd8-9826-d258aebab380",
     "showTitle": false,
     "tableResultSettingsMap": {},
     "title": ""
    }
   },
   "outputs": [
    {
     "output_type": "display_data",
     "data": {
      "text/html": [
       "<div>\n",
       "<style scoped>\n",
       "    .dataframe tbody tr th:only-of-type {\n",
       "        vertical-align: middle;\n",
       "    }\n",
       "\n",
       "    .dataframe tbody tr th {\n",
       "        vertical-align: top;\n",
       "    }\n",
       "\n",
       "    .dataframe thead th {\n",
       "        text-align: right;\n",
       "    }\n",
       "</style>\n",
       "<table border=\"1\" class=\"dataframe\">\n",
       "  <thead>\n",
       "    <tr style=\"text-align: right;\">\n",
       "      <th></th>\n",
       "      <th>appid</th>\n",
       "      <th>platform_linux</th>\n",
       "      <th>platform_mac</th>\n",
       "      <th>platform_windows</th>\n",
       "    </tr>\n",
       "  </thead>\n",
       "  <tbody>\n",
       "    <tr>\n",
       "      <th>0</th>\n",
       "      <td>686260</td>\n",
       "      <td>0</td>\n",
       "      <td>0</td>\n",
       "      <td>1</td>\n",
       "    </tr>\n",
       "    <tr>\n",
       "      <th>1</th>\n",
       "      <td>686270</td>\n",
       "      <td>0</td>\n",
       "      <td>0</td>\n",
       "      <td>1</td>\n",
       "    </tr>\n",
       "    <tr>\n",
       "      <th>2</th>\n",
       "      <td>686290</td>\n",
       "      <td>0</td>\n",
       "      <td>0</td>\n",
       "      <td>1</td>\n",
       "    </tr>\n",
       "    <tr>\n",
       "      <th>3</th>\n",
       "      <td>686300</td>\n",
       "      <td>0</td>\n",
       "      <td>0</td>\n",
       "      <td>1</td>\n",
       "    </tr>\n",
       "    <tr>\n",
       "      <th>4</th>\n",
       "      <td>686340</td>\n",
       "      <td>0</td>\n",
       "      <td>0</td>\n",
       "      <td>1</td>\n",
       "    </tr>\n",
       "  </tbody>\n",
       "</table>\n",
       "</div>"
      ]
     },
     "metadata": {
      "application/vnd.databricks.v1+output": {
       "addedWidgets": {},
       "arguments": {},
       "data": "<div>\n<style scoped>\n    .dataframe tbody tr th:only-of-type {\n        vertical-align: middle;\n    }\n\n    .dataframe tbody tr th {\n        vertical-align: top;\n    }\n\n    .dataframe thead th {\n        text-align: right;\n    }\n</style>\n<table border=\"1\" class=\"dataframe\">\n  <thead>\n    <tr style=\"text-align: right;\">\n      <th></th>\n      <th>appid</th>\n      <th>platform_linux</th>\n      <th>platform_mac</th>\n      <th>platform_windows</th>\n    </tr>\n  </thead>\n  <tbody>\n    <tr>\n      <th>0</th>\n      <td>686260</td>\n      <td>0</td>\n      <td>0</td>\n      <td>1</td>\n    </tr>\n    <tr>\n      <th>1</th>\n      <td>686270</td>\n      <td>0</td>\n      <td>0</td>\n      <td>1</td>\n    </tr>\n    <tr>\n      <th>2</th>\n      <td>686290</td>\n      <td>0</td>\n      <td>0</td>\n      <td>1</td>\n    </tr>\n    <tr>\n      <th>3</th>\n      <td>686300</td>\n      <td>0</td>\n      <td>0</td>\n      <td>1</td>\n    </tr>\n    <tr>\n      <th>4</th>\n      <td>686340</td>\n      <td>0</td>\n      <td>0</td>\n      <td>1</td>\n    </tr>\n  </tbody>\n</table>\n</div>",
       "datasetInfos": [],
       "metadata": {},
       "removedWidgets": [],
       "textData": null,
       "type": "htmlSandbox"
      }
     },
     "output_type": "display_data"
    }
   ],
   "source": [
    "df_platforms.select(\"appid\", \"platform_linux\", \"platform_mac\", \"platform_windows\").limit(5).toPandas()"
   ]
  },
  {
   "cell_type": "markdown",
   "metadata": {
    "application/vnd.databricks.v1+cell": {
     "cellMetadata": {},
     "inputWidgets": {},
     "nuid": "0377bc88-eaa9-4bb2-bac3-7f2d43ff4c87",
     "showTitle": false,
     "tableResultSettingsMap": {},
     "title": ""
    }
   },
   "source": [
    "Maintenant, pour chaque jeux, nous pouvons savoir sur quelle(s) plateforme(s) il est disponible."
   ]
  },
  {
   "cell_type": "code",
   "execution_count": 0,
   "metadata": {
    "application/vnd.databricks.v1+cell": {
     "cellMetadata": {
      "byteLimit": 2048000,
      "rowLimit": 10000
     },
     "inputWidgets": {},
     "nuid": "5abe508d-72b5-4585-93c9-4cdc1eba32cd",
     "showTitle": false,
     "tableResultSettingsMap": {},
     "title": ""
    }
   },
   "outputs": [
    {
     "output_type": "display_data",
     "data": {
      "text/html": [
       "<style scoped>\n",
       "  .table-result-container {\n",
       "    max-height: 300px;\n",
       "    overflow: auto;\n",
       "  }\n",
       "  table, th, td {\n",
       "    border: 1px solid black;\n",
       "    border-collapse: collapse;\n",
       "  }\n",
       "  th, td {\n",
       "    padding: 5px;\n",
       "  }\n",
       "  th {\n",
       "    text-align: left;\n",
       "  }\n",
       "</style><div class='table-result-container'><table class='table-result'><thead style='background-color: white'><tr><th>nb_games_linux</th><th>nb_games_mac</th><th>nb_games_windows</th></tr></thead><tbody><tr><td>8457</td><td>12769</td><td>55670</td></tr></tbody></table></div>"
      ]
     },
     "metadata": {
      "application/vnd.databricks.v1+output": {
       "addedWidgets": {},
       "aggData": [],
       "aggError": "",
       "aggOverflow": false,
       "aggSchema": [],
       "aggSeriesLimitReached": false,
       "aggType": "",
       "arguments": {},
       "columnCustomDisplayInfos": {},
       "data": [
        [
         8457,
         12769,
         55670
        ]
       ],
       "datasetInfos": [],
       "dbfsResultPath": null,
       "isJsonSchema": true,
       "metadata": {},
       "overflow": false,
       "plotOptions": {
        "customPlotOptions": {},
        "displayType": "table",
        "pivotAggregation": null,
        "pivotColumns": null,
        "xColumns": null,
        "yColumns": null
       },
       "removedWidgets": [],
       "schema": [
        {
         "metadata": "{}",
         "name": "nb_games_linux",
         "type": "\"long\""
        },
        {
         "metadata": "{}",
         "name": "nb_games_mac",
         "type": "\"long\""
        },
        {
         "metadata": "{}",
         "name": "nb_games_windows",
         "type": "\"long\""
        }
       ],
       "type": "table"
      }
     },
     "output_type": "display_data"
    },
    {
     "output_type": "display_data",
     "data": {
      "text/plain": [
       "Databricks visualization. Run in Databricks to view."
      ]
     },
     "metadata": {
      "application/vnd.databricks.v1.subcommand+json": {
       "baseErrorDetails": null,
       "bindings": {},
       "collapsed": false,
       "command": "%python\n__backend_agg_display_orig = display\n__backend_agg_dfs = []\ndef __backend_agg_display_new(df):\n    __backend_agg_df_modules = [\"pandas.core.frame\", \"databricks.koalas.frame\", \"pyspark.sql.dataframe\", \"pyspark.pandas.frame\", \"pyspark.sql.connect.dataframe\"]\n    if (type(df).__module__ in __backend_agg_df_modules and type(df).__name__ == 'DataFrame') or isinstance(df, list):\n        __backend_agg_dfs.append(df)\n\ndisplay = __backend_agg_display_new\n\ndef __backend_agg_user_code_fn():\n    import base64\n    exec(base64.standard_b64decode(\"ZGlzcGxheShkZl9wbGF0Zm9ybXMuYWdnKAogICAgRi5zdW0oInBsYXRmb3JtX2xpbnV4IikuYWxpYXMoIm5iX2dhbWVzX2xpbnV4IiksCiAgICBGLnN1bSgicGxhdGZvcm1fbWFjIikuYWxpYXMoIm5iX2dhbWVzX21hYyIpLAogICAgRi5zdW0oInBsYXRmb3JtX3dpbmRvd3MiKS5hbGlhcygibmJfZ2FtZXNfd2luZG93cyIpCikpCg==\").decode())\n\ntry:\n    # run user code\n    __backend_agg_user_code_fn()\n\n    #reset display function\n    display = __backend_agg_display_orig\n\n    if len(__backend_agg_dfs) > 0:\n        # create a temp view\n        if type(__backend_agg_dfs[0]).__module__ == \"databricks.koalas.frame\":\n            # koalas dataframe\n            __backend_agg_dfs[0].to_spark().createOrReplaceTempView(\"DatabricksView73a1f01\")\n        elif type(__backend_agg_dfs[0]).__module__ == \"pandas.core.frame\" or isinstance(__backend_agg_dfs[0], list):\n            # pandas dataframe\n            spark.createDataFrame(__backend_agg_dfs[0]).createOrReplaceTempView(\"DatabricksView73a1f01\")\n        else:\n            __backend_agg_dfs[0].createOrReplaceTempView(\"DatabricksView73a1f01\")\n        #run backend agg\n        display(spark.sql(\"\"\"WITH q AS (select * from DatabricksView73a1f01) SELECT SUM(`nb_games_linux`) `column_149a9d7a451`,SUM(`nb_games_mac`) `column_149a9d7a454`,SUM(`nb_games_windows`) `column_149a9d7a457` FROM q GROUP BY GROUPING SETS (())\"\"\"))\n    else:\n        displayHTML(\"dataframe no longer exists. If you're using dataframe.display(), use display(dataframe) instead.\")\n\n\nfinally:\n    spark.sql(\"drop view if exists DatabricksView73a1f01\")\n    display = __backend_agg_display_orig\n    del __backend_agg_display_new\n    del __backend_agg_display_orig\n    del __backend_agg_dfs\n    del __backend_agg_user_code_fn\n\n",
       "commandTitle": "Nombre de jeux disponibles par plateforme",
       "commandType": "auto",
       "commandVersion": 0,
       "commentThread": [],
       "commentsVisible": false,
       "contentSha256Hex": null,
       "customPlotOptions": {
        "redashChart": [
         {
          "key": "type",
          "value": "CHART"
         },
         {
          "key": "options",
          "value": {
           "alignYAxesAtZero": true,
           "coefficient": 1,
           "columnConfigurationMap": {
            "y": [
             {
              "column": "nb_games_linux",
              "id": "column_149a9d7a451",
              "transform": "SUM"
             },
             {
              "column": "nb_games_mac",
              "id": "column_149a9d7a454",
              "transform": "SUM"
             },
             {
              "column": "nb_games_windows",
              "id": "column_149a9d7a457",
              "transform": "SUM"
             }
            ]
           },
           "dateTimeFormat": "DD/MM/YYYY HH:mm",
           "direction": {
            "type": "counterclockwise"
           },
           "error_y": {
            "type": "data",
            "visible": true
           },
           "globalSeriesType": "column",
           "isAggregationOn": true,
           "legend": {
            "traceorder": "normal"
           },
           "missingValuesAsZero": true,
           "numberFormat": "0,0.[00000]",
           "percentFormat": "0[.]00%",
           "series": {
            "error_y": {
             "type": "data",
             "visible": true
            },
            "stacking": null
           },
           "seriesOptions": {
            "column_149a9d7a446": {
             "type": "column",
             "yAxis": 0
            },
            "column_149a9d7a451": {
             "color": "#FB8D3D",
             "name": "Linux",
             "type": "column",
             "yAxis": 0
            },
            "column_149a9d7a454": {
             "color": "#799CFF",
             "name": "Mac",
             "type": "column",
             "yAxis": 0
            },
            "column_149a9d7a457": {
             "color": "#50F5ED",
             "name": "Windows",
             "type": "column",
             "yAxis": 0
            },
            "nb_games_mac": {
             "type": "column",
             "yAxis": 0
            }
           },
           "showDataLabels": false,
           "sizemode": "diameter",
           "sortX": true,
           "sortY": true,
           "swappedAxes": false,
           "textFormat": "",
           "useAggregationsUi": true,
           "valuesOptions": {},
           "version": 2,
           "xAxis": {
            "labels": {
             "enabled": false
            },
            "title": {
             "text": "Plateformes"
            },
            "type": "-"
           },
           "yAxis": [
            {
             "title": {
              "text": "Nombre de jeux"
             },
             "type": "-"
            },
            {
             "opposite": true,
             "type": "-"
            }
           ]
          }
         }
        ]
       },
       "datasetPreviewNameToCmdIdMap": {},
       "diffDeletes": [],
       "diffInserts": [],
       "displayType": "redashChart",
       "error": null,
       "errorDetails": null,
       "errorSummary": null,
       "errorTraceType": null,
       "finishTime": 0,
       "globalVars": {},
       "guid": "",
       "height": "auto",
       "hideCommandCode": false,
       "hideCommandResult": false,
       "iPythonMetadata": null,
       "inputWidgets": {},
       "isLockedInExamMode": false,
       "latestUser": "a user",
       "latestUserId": null,
       "listResultMetadata": null,
       "metadata": {},
       "nuid": "057b2928-47e0-4b23-8033-60c8ef270c29",
       "origId": 0,
       "parentHierarchy": [],
       "pivotAggregation": null,
       "pivotColumns": null,
       "position": 36.11428356170654,
       "resultDbfsErrorMessage": null,
       "resultDbfsStatus": "INLINED_IN_TREE",
       "results": null,
       "showCommandTitle": false,
       "startTime": 0,
       "state": "input",
       "streamStates": {},
       "subcommandOptions": {
        "queryPlan": {
         "groups": [],
         "selects": [
          {
           "alias": "column_149a9d7a451",
           "args": [
            {
             "column": "nb_games_linux",
             "type": "column"
            }
           ],
           "function": "SUM",
           "type": "function"
          },
          {
           "alias": "column_149a9d7a454",
           "args": [
            {
             "column": "nb_games_mac",
             "type": "column"
            }
           ],
           "function": "SUM",
           "type": "function"
          },
          {
           "alias": "column_149a9d7a457",
           "args": [
            {
             "column": "nb_games_windows",
             "type": "column"
            }
           ],
           "function": "SUM",
           "type": "function"
          }
         ]
        }
       },
       "submitTime": 0,
       "subtype": "tableResultSubCmd.visualization",
       "tableResultIndex": 0,
       "tableResultSettingsMap": {},
       "useConsistentColors": false,
       "version": "CommandV1",
       "width": "auto",
       "workflows": [],
       "xColumns": null,
       "yColumns": null
      }
     },
     "output_type": "display_data"
    }
   ],
   "source": [
    "display(df_platforms.agg(\n",
    "    F.sum(\"platform_linux\").alias(\"nb_games_linux\"),\n",
    "    F.sum(\"platform_mac\").alias(\"nb_games_mac\"),\n",
    "    F.sum(\"platform_windows\").alias(\"nb_games_windows\")\n",
    "))\n"
   ]
  },
  {
   "cell_type": "markdown",
   "metadata": {
    "application/vnd.databricks.v1+cell": {
     "cellMetadata": {
      "byteLimit": 2048000,
      "rowLimit": 10000
     },
     "inputWidgets": {},
     "nuid": "b159b57e-7329-498a-9fe7-3454848ea254",
     "showTitle": false,
     "tableResultSettingsMap": {},
     "title": ""
    }
   },
   "source": [
    "55670 jeux sont disponibles sur **Windows**, soit quasiment la totalité des jeux.\n",
    "\n",
    "12769 sont disponibles sur Mac et 8457 sur Linux"
   ]
  },
  {
   "cell_type": "markdown",
   "metadata": {
    "application/vnd.databricks.v1+cell": {
     "cellMetadata": {},
     "inputWidgets": {},
     "nuid": "e4d88c06-dbfb-4973-8fcf-dd3b424f58e7",
     "showTitle": false,
     "tableResultSettingsMap": {},
     "title": ""
    }
   },
   "source": [
    "---"
   ]
  },
  {
   "cell_type": "markdown",
   "metadata": {
    "application/vnd.databricks.v1+cell": {
     "cellMetadata": {
      "byteLimit": 2048000,
      "rowLimit": 10000
     },
     "inputWidgets": {},
     "nuid": "032a6185-0c8d-4e73-85ef-4c6b3caa72f2",
     "showTitle": false,
     "tableResultSettingsMap": {},
     "title": ""
    }
   },
   "source": [
    "Certains genres ont-ils tendance à être disponibles de préférence sur certaines plateformes ?"
   ]
  },
  {
   "cell_type": "code",
   "execution_count": 0,
   "metadata": {
    "application/vnd.databricks.v1+cell": {
     "cellMetadata": {
      "byteLimit": 2048000,
      "rowLimit": 10000
     },
     "inputWidgets": {},
     "nuid": "52c2ae6b-7e76-468d-a72e-c60461094699",
     "showTitle": false,
     "tableResultSettingsMap": {},
     "title": ""
    }
   },
   "outputs": [
    {
     "output_type": "display_data",
     "data": {
      "text/html": [
       "<div>\n",
       "<style scoped>\n",
       "    .dataframe tbody tr th:only-of-type {\n",
       "        vertical-align: middle;\n",
       "    }\n",
       "\n",
       "    .dataframe tbody tr th {\n",
       "        vertical-align: top;\n",
       "    }\n",
       "\n",
       "    .dataframe thead th {\n",
       "        text-align: right;\n",
       "    }\n",
       "</style>\n",
       "<table border=\"1\" class=\"dataframe\">\n",
       "  <thead>\n",
       "    <tr style=\"text-align: right;\">\n",
       "      <th></th>\n",
       "      <th>genre</th>\n",
       "    </tr>\n",
       "  </thead>\n",
       "  <tbody>\n",
       "    <tr>\n",
       "      <th>0</th>\n",
       "      <td>Indie, Simulation, Strategy</td>\n",
       "    </tr>\n",
       "    <tr>\n",
       "      <th>1</th>\n",
       "      <td>Adventure, Free to Play, Indie</td>\n",
       "    </tr>\n",
       "    <tr>\n",
       "      <th>2</th>\n",
       "      <td>Action, Adventure, Casual, Indie, Sports, Stra...</td>\n",
       "    </tr>\n",
       "    <tr>\n",
       "      <th>3</th>\n",
       "      <td>Action, Casual, Indie</td>\n",
       "    </tr>\n",
       "    <tr>\n",
       "      <th>4</th>\n",
       "      <td>Adventure, Free to Play, Indie</td>\n",
       "    </tr>\n",
       "  </tbody>\n",
       "</table>\n",
       "</div>"
      ]
     },
     "metadata": {
      "application/vnd.databricks.v1+output": {
       "addedWidgets": {},
       "arguments": {},
       "data": "<div>\n<style scoped>\n    .dataframe tbody tr th:only-of-type {\n        vertical-align: middle;\n    }\n\n    .dataframe tbody tr th {\n        vertical-align: top;\n    }\n\n    .dataframe thead th {\n        text-align: right;\n    }\n</style>\n<table border=\"1\" class=\"dataframe\">\n  <thead>\n    <tr style=\"text-align: right;\">\n      <th></th>\n      <th>genre</th>\n    </tr>\n  </thead>\n  <tbody>\n    <tr>\n      <th>0</th>\n      <td>Indie, Simulation, Strategy</td>\n    </tr>\n    <tr>\n      <th>1</th>\n      <td>Adventure, Free to Play, Indie</td>\n    </tr>\n    <tr>\n      <th>2</th>\n      <td>Action, Adventure, Casual, Indie, Sports, Stra...</td>\n    </tr>\n    <tr>\n      <th>3</th>\n      <td>Action, Casual, Indie</td>\n    </tr>\n    <tr>\n      <th>4</th>\n      <td>Adventure, Free to Play, Indie</td>\n    </tr>\n  </tbody>\n</table>\n</div>",
       "datasetInfos": [],
       "metadata": {},
       "removedWidgets": [],
       "textData": null,
       "type": "htmlSandbox"
      }
     },
     "output_type": "display_data"
    }
   ],
   "source": [
    "df_steam_flat.select(\"genre\").limit(5).toPandas()"
   ]
  },
  {
   "cell_type": "markdown",
   "metadata": {
    "application/vnd.databricks.v1+cell": {
     "cellMetadata": {},
     "inputWidgets": {},
     "nuid": "bebf055c-8abe-4d49-9b91-62a956be9a83",
     "showTitle": false,
     "tableResultSettingsMap": {},
     "title": ""
    }
   },
   "source": [
    "Je veux récupérer la colonne `genre` qui est une chaine de caractère où chaque genre est séparé par une virgule"
   ]
  },
  {
   "cell_type": "code",
   "execution_count": 0,
   "metadata": {
    "application/vnd.databricks.v1+cell": {
     "cellMetadata": {
      "byteLimit": 2048000,
      "rowLimit": 10000
     },
     "inputWidgets": {},
     "nuid": "7d981aea-2b9c-49ea-8ad1-ea784b26a7f4",
     "showTitle": false,
     "tableResultSettingsMap": {},
     "title": ""
    }
   },
   "outputs": [
    {
     "output_type": "display_data",
     "data": {
      "text/html": [
       "<div>\n",
       "<style scoped>\n",
       "    .dataframe tbody tr th:only-of-type {\n",
       "        vertical-align: middle;\n",
       "    }\n",
       "\n",
       "    .dataframe tbody tr th {\n",
       "        vertical-align: top;\n",
       "    }\n",
       "\n",
       "    .dataframe thead th {\n",
       "        text-align: right;\n",
       "    }\n",
       "</style>\n",
       "<table border=\"1\" class=\"dataframe\">\n",
       "  <thead>\n",
       "    <tr style=\"text-align: right;\">\n",
       "      <th></th>\n",
       "      <th>genre_list</th>\n",
       "    </tr>\n",
       "  </thead>\n",
       "  <tbody>\n",
       "    <tr>\n",
       "      <th>0</th>\n",
       "      <td>[Indie,  Simulation,  Strategy]</td>\n",
       "    </tr>\n",
       "    <tr>\n",
       "      <th>1</th>\n",
       "      <td>[Adventure,  Free to Play,  Indie]</td>\n",
       "    </tr>\n",
       "    <tr>\n",
       "      <th>2</th>\n",
       "      <td>[Action,  Adventure,  Casual,  Indie,  Sports,...</td>\n",
       "    </tr>\n",
       "    <tr>\n",
       "      <th>3</th>\n",
       "      <td>[Action,  Casual,  Indie]</td>\n",
       "    </tr>\n",
       "    <tr>\n",
       "      <th>4</th>\n",
       "      <td>[Adventure,  Free to Play,  Indie]</td>\n",
       "    </tr>\n",
       "  </tbody>\n",
       "</table>\n",
       "</div>"
      ]
     },
     "metadata": {
      "application/vnd.databricks.v1+output": {
       "addedWidgets": {},
       "arguments": {},
       "data": "<div>\n<style scoped>\n    .dataframe tbody tr th:only-of-type {\n        vertical-align: middle;\n    }\n\n    .dataframe tbody tr th {\n        vertical-align: top;\n    }\n\n    .dataframe thead th {\n        text-align: right;\n    }\n</style>\n<table border=\"1\" class=\"dataframe\">\n  <thead>\n    <tr style=\"text-align: right;\">\n      <th></th>\n      <th>genre_list</th>\n    </tr>\n  </thead>\n  <tbody>\n    <tr>\n      <th>0</th>\n      <td>[Indie,  Simulation,  Strategy]</td>\n    </tr>\n    <tr>\n      <th>1</th>\n      <td>[Adventure,  Free to Play,  Indie]</td>\n    </tr>\n    <tr>\n      <th>2</th>\n      <td>[Action,  Adventure,  Casual,  Indie,  Sports,...</td>\n    </tr>\n    <tr>\n      <th>3</th>\n      <td>[Action,  Casual,  Indie]</td>\n    </tr>\n    <tr>\n      <th>4</th>\n      <td>[Adventure,  Free to Play,  Indie]</td>\n    </tr>\n  </tbody>\n</table>\n</div>",
       "datasetInfos": [],
       "metadata": {},
       "removedWidgets": [],
       "textData": null,
       "type": "htmlSandbox"
      }
     },
     "output_type": "display_data"
    }
   ],
   "source": [
    "df_platforms_genre = df_platforms \\\n",
    "  .withColumn(\"genre_list\", F.split(F.col(\"genre\"),\",\")) \\\n",
    "    .drop(\"genre\")\n",
    "df_platforms_genre.select(\"genre_list\").limit(5).toPandas()"
   ]
  },
  {
   "cell_type": "code",
   "execution_count": 0,
   "metadata": {
    "application/vnd.databricks.v1+cell": {
     "cellMetadata": {
      "byteLimit": 2048000,
      "rowLimit": 10000
     },
     "inputWidgets": {},
     "nuid": "98f8844d-14be-4dde-9532-3185310aa144",
     "showTitle": false,
     "tableResultSettingsMap": {},
     "title": ""
    }
   },
   "outputs": [
    {
     "output_type": "display_data",
     "data": {
      "text/html": [
       "<div>\n",
       "<style scoped>\n",
       "    .dataframe tbody tr th:only-of-type {\n",
       "        vertical-align: middle;\n",
       "    }\n",
       "\n",
       "    .dataframe tbody tr th {\n",
       "        vertical-align: top;\n",
       "    }\n",
       "\n",
       "    .dataframe thead th {\n",
       "        text-align: right;\n",
       "    }\n",
       "</style>\n",
       "<table border=\"1\" class=\"dataframe\">\n",
       "  <thead>\n",
       "    <tr style=\"text-align: right;\">\n",
       "      <th></th>\n",
       "      <th>appid</th>\n",
       "      <th>genre</th>\n",
       "    </tr>\n",
       "  </thead>\n",
       "  <tbody>\n",
       "    <tr>\n",
       "      <th>0</th>\n",
       "      <td>686260</td>\n",
       "      <td>Indie</td>\n",
       "    </tr>\n",
       "    <tr>\n",
       "      <th>1</th>\n",
       "      <td>686260</td>\n",
       "      <td>Simulation</td>\n",
       "    </tr>\n",
       "    <tr>\n",
       "      <th>2</th>\n",
       "      <td>686260</td>\n",
       "      <td>Strategy</td>\n",
       "    </tr>\n",
       "    <tr>\n",
       "      <th>3</th>\n",
       "      <td>686270</td>\n",
       "      <td>Adventure</td>\n",
       "    </tr>\n",
       "    <tr>\n",
       "      <th>4</th>\n",
       "      <td>686270</td>\n",
       "      <td>Free to Play</td>\n",
       "    </tr>\n",
       "  </tbody>\n",
       "</table>\n",
       "</div>"
      ]
     },
     "metadata": {
      "application/vnd.databricks.v1+output": {
       "addedWidgets": {},
       "arguments": {},
       "data": "<div>\n<style scoped>\n    .dataframe tbody tr th:only-of-type {\n        vertical-align: middle;\n    }\n\n    .dataframe tbody tr th {\n        vertical-align: top;\n    }\n\n    .dataframe thead th {\n        text-align: right;\n    }\n</style>\n<table border=\"1\" class=\"dataframe\">\n  <thead>\n    <tr style=\"text-align: right;\">\n      <th></th>\n      <th>appid</th>\n      <th>genre</th>\n    </tr>\n  </thead>\n  <tbody>\n    <tr>\n      <th>0</th>\n      <td>686260</td>\n      <td>Indie</td>\n    </tr>\n    <tr>\n      <th>1</th>\n      <td>686260</td>\n      <td>Simulation</td>\n    </tr>\n    <tr>\n      <th>2</th>\n      <td>686260</td>\n      <td>Strategy</td>\n    </tr>\n    <tr>\n      <th>3</th>\n      <td>686270</td>\n      <td>Adventure</td>\n    </tr>\n    <tr>\n      <th>4</th>\n      <td>686270</td>\n      <td>Free to Play</td>\n    </tr>\n  </tbody>\n</table>\n</div>",
       "datasetInfos": [],
       "metadata": {},
       "removedWidgets": [],
       "textData": null,
       "type": "htmlSandbox"
      }
     },
     "output_type": "display_data"
    }
   ],
   "source": [
    "df_platforms_genre_exploded = df_platforms_genre.withColumn(\"genre\", F.explode(\"genre_list\"))\n",
    "df_platforms_genre_exploded.select(\"appid\", \"genre\").limit(5).toPandas()"
   ]
  },
  {
   "cell_type": "markdown",
   "metadata": {
    "application/vnd.databricks.v1+cell": {
     "cellMetadata": {},
     "inputWidgets": {},
     "nuid": "f2b2a58e-2247-450a-89b1-3971159ea462",
     "showTitle": false,
     "tableResultSettingsMap": {},
     "title": ""
    }
   },
   "source": [
    "Maintenant, pour chaque jeux, nous pouvons savoir à quel(s) genre(s) il est associé."
   ]
  },
  {
   "cell_type": "code",
   "execution_count": 0,
   "metadata": {
    "application/vnd.databricks.v1+cell": {
     "cellMetadata": {
      "byteLimit": 2048000,
      "rowLimit": 10000
     },
     "inputWidgets": {},
     "nuid": "9cb9c3a9-b0db-4175-a0eb-1620fc070a4a",
     "showTitle": false,
     "tableResultSettingsMap": {},
     "title": ""
    }
   },
   "outputs": [
    {
     "output_type": "display_data",
     "data": {
      "text/html": [
       "<div>\n",
       "<style scoped>\n",
       "    .dataframe tbody tr th:only-of-type {\n",
       "        vertical-align: middle;\n",
       "    }\n",
       "\n",
       "    .dataframe tbody tr th {\n",
       "        vertical-align: top;\n",
       "    }\n",
       "\n",
       "    .dataframe thead th {\n",
       "        text-align: right;\n",
       "    }\n",
       "</style>\n",
       "<table border=\"1\" class=\"dataframe\">\n",
       "  <thead>\n",
       "    <tr style=\"text-align: right;\">\n",
       "      <th></th>\n",
       "      <th>genre</th>\n",
       "      <th>nb_games</th>\n",
       "      <th>linux_sum</th>\n",
       "      <th>mac_sum</th>\n",
       "      <th>windows_sum</th>\n",
       "    </tr>\n",
       "  </thead>\n",
       "  <tbody>\n",
       "    <tr>\n",
       "      <th>0</th>\n",
       "      <td>Sports</td>\n",
       "      <td>2425</td>\n",
       "      <td>282</td>\n",
       "      <td>478</td>\n",
       "      <td>2424</td>\n",
       "    </tr>\n",
       "    <tr>\n",
       "      <th>1</th>\n",
       "      <td>Education</td>\n",
       "      <td>141</td>\n",
       "      <td>7</td>\n",
       "      <td>18</td>\n",
       "      <td>141</td>\n",
       "    </tr>\n",
       "    <tr>\n",
       "      <th>2</th>\n",
       "      <td>Massively Multiplayer</td>\n",
       "      <td>45</td>\n",
       "      <td>1</td>\n",
       "      <td>8</td>\n",
       "      <td>45</td>\n",
       "    </tr>\n",
       "    <tr>\n",
       "      <th>3</th>\n",
       "      <td>Simulation</td>\n",
       "      <td>9449</td>\n",
       "      <td>1382</td>\n",
       "      <td>2165</td>\n",
       "      <td>9446</td>\n",
       "    </tr>\n",
       "    <tr>\n",
       "      <th>4</th>\n",
       "      <td>Sexual Content</td>\n",
       "      <td>54</td>\n",
       "      <td>7</td>\n",
       "      <td>13</td>\n",
       "      <td>54</td>\n",
       "    </tr>\n",
       "  </tbody>\n",
       "</table>\n",
       "</div>"
      ]
     },
     "metadata": {
      "application/vnd.databricks.v1+output": {
       "addedWidgets": {},
       "arguments": {},
       "data": "<div>\n<style scoped>\n    .dataframe tbody tr th:only-of-type {\n        vertical-align: middle;\n    }\n\n    .dataframe tbody tr th {\n        vertical-align: top;\n    }\n\n    .dataframe thead th {\n        text-align: right;\n    }\n</style>\n<table border=\"1\" class=\"dataframe\">\n  <thead>\n    <tr style=\"text-align: right;\">\n      <th></th>\n      <th>genre</th>\n      <th>nb_games</th>\n      <th>linux_sum</th>\n      <th>mac_sum</th>\n      <th>windows_sum</th>\n    </tr>\n  </thead>\n  <tbody>\n    <tr>\n      <th>0</th>\n      <td>Sports</td>\n      <td>2425</td>\n      <td>282</td>\n      <td>478</td>\n      <td>2424</td>\n    </tr>\n    <tr>\n      <th>1</th>\n      <td>Education</td>\n      <td>141</td>\n      <td>7</td>\n      <td>18</td>\n      <td>141</td>\n    </tr>\n    <tr>\n      <th>2</th>\n      <td>Massively Multiplayer</td>\n      <td>45</td>\n      <td>1</td>\n      <td>8</td>\n      <td>45</td>\n    </tr>\n    <tr>\n      <th>3</th>\n      <td>Simulation</td>\n      <td>9449</td>\n      <td>1382</td>\n      <td>2165</td>\n      <td>9446</td>\n    </tr>\n    <tr>\n      <th>4</th>\n      <td>Sexual Content</td>\n      <td>54</td>\n      <td>7</td>\n      <td>13</td>\n      <td>54</td>\n    </tr>\n  </tbody>\n</table>\n</div>",
       "datasetInfos": [],
       "metadata": {},
       "removedWidgets": [],
       "textData": null,
       "type": "htmlSandbox"
      }
     },
     "output_type": "display_data"
    }
   ],
   "source": [
    "# Nombre de jeux disponibles pour chacune des plateformes, par genre\n",
    "df_genre_prefered_platforms = df_platforms_genre_exploded.groupBy(\"genre\").agg(\n",
    "    F.count(\"appid\").alias(\"nb_games\"),\n",
    "    F.sum(\"platform_linux\").alias(\"linux_sum\"),\n",
    "    F.sum(\"platform_mac\").alias(\"mac_sum\"),\n",
    "    F.sum(\"platform_windows\").alias(\"windows_sum\"))\n",
    "\n",
    "df_genre_prefered_platforms.limit(5).toPandas()"
   ]
  },
  {
   "cell_type": "code",
   "execution_count": 0,
   "metadata": {
    "application/vnd.databricks.v1+cell": {
     "cellMetadata": {
      "byteLimit": 2048000,
      "rowLimit": 10000
     },
     "inputWidgets": {},
     "nuid": "3e793a0c-33ad-47f4-a9a2-9b71da5435c7",
     "showTitle": false,
     "tableResultSettingsMap": {},
     "title": ""
    }
   },
   "outputs": [
    {
     "output_type": "display_data",
     "data": {
      "text/html": [
       "<style scoped>\n",
       "  .table-result-container {\n",
       "    max-height: 300px;\n",
       "    overflow: auto;\n",
       "  }\n",
       "  table, th, td {\n",
       "    border: 1px solid black;\n",
       "    border-collapse: collapse;\n",
       "  }\n",
       "  th, td {\n",
       "    padding: 5px;\n",
       "  }\n",
       "  th {\n",
       "    text-align: left;\n",
       "  }\n",
       "</style><div class='table-result-container'><table class='table-result'><thead style='background-color: white'><tr><th>genre</th><th>linux_percent</th><th>mac_percent</th><th>windows_percent</th><th>max_percent</th><th>max_column</th></tr></thead><tbody><tr><td> Sports</td><td>11.628865979381443</td><td>19.711340206185568</td><td>99.95876288659794</td><td>99.95876288659794</td><td>windows_percent</td></tr><tr><td>Education</td><td>4.964539007092199</td><td>12.76595744680851</td><td>100.0</td><td>100.0</td><td>windows_percent</td></tr><tr><td>Massively Multiplayer</td><td>2.2222222222222223</td><td>17.77777777777778</td><td>100.0</td><td>100.0</td><td>windows_percent</td></tr><tr><td> Simulation</td><td>14.625886337178537</td><td>22.912477510847708</td><td>99.96825060853001</td><td>99.96825060853001</td><td>windows_percent</td></tr><tr><td>Sexual Content</td><td>12.962962962962962</td><td>24.074074074074073</td><td>100.0</td><td>100.0</td><td>windows_percent</td></tr><tr><td>Adventure</td><td>17.423423423423422</td><td>28.144144144144146</td><td>99.97297297297297</td><td>99.97297297297297</td><td>windows_percent</td></tr><tr><td> Web Publishing</td><td>6.153846153846154</td><td>21.53846153846154</td><td>100.0</td><td>100.0</td><td>windows_percent</td></tr><tr><td>Sports</td><td>1.4705882352941175</td><td>10.294117647058822</td><td>100.0</td><td>100.0</td><td>windows_percent</td></tr><tr><td>Audio Production</td><td>5.405405405405405</td><td>26.126126126126124</td><td>98.1981981981982</td><td>98.1981981981982</td><td>windows_percent</td></tr><tr><td> Design & Illustration</td><td>15.53398058252427</td><td>30.582524271844658</td><td>100.0</td><td>100.0</td><td>windows_percent</td></tr><tr><td>Video Production</td><td>0.0</td><td>0.0</td><td>100.0</td><td>100.0</td><td>windows_percent</td></tr><tr><td> Nudity</td><td>10.714285714285714</td><td>14.285714285714285</td><td>100.0</td><td>100.0</td><td>windows_percent</td></tr><tr><td>Animation & Modeling</td><td>12.173913043478262</td><td>23.043478260869566</td><td>100.0</td><td>100.0</td><td>windows_percent</td></tr><tr><td>Racing</td><td>7.570977917981073</td><td>12.933753943217665</td><td>100.0</td><td>100.0</td><td>windows_percent</td></tr><tr><td>Gore</td><td>6.25</td><td>6.25</td><td>100.0</td><td>100.0</td><td>windows_percent</td></tr><tr><td> Education</td><td>7.2992700729927</td><td>21.897810218978105</td><td>100.0</td><td>100.0</td><td>windows_percent</td></tr><tr><td>Design & Illustration</td><td>13.114754098360656</td><td>17.21311475409836</td><td>100.0</td><td>100.0</td><td>windows_percent</td></tr><tr><td> Casual</td><td>14.99428011112927</td><td>22.634417388462165</td><td>99.98365746036934</td><td>99.98365746036934</td><td>windows_percent</td></tr><tr><td>Software Training</td><td>3.3333333333333335</td><td>0.0</td><td>100.0</td><td>100.0</td><td>windows_percent</td></tr><tr><td> Accounting</td><td>0.0</td><td>16.666666666666664</td><td>100.0</td><td>100.0</td><td>windows_percent</td></tr><tr><td>Photo Editing</td><td>0.0</td><td>0.0</td><td>100.0</td><td>100.0</td><td>windows_percent</td></tr><tr><td>Utilities</td><td>3.643724696356275</td><td>6.477732793522267</td><td>100.0</td><td>100.0</td><td>windows_percent</td></tr><tr><td>Violent</td><td>11.851851851851853</td><td>18.51851851851852</td><td>100.0</td><td>100.0</td><td>windows_percent</td></tr><tr><td> Gore</td><td>15.66265060240964</td><td>22.89156626506024</td><td>100.0</td><td>100.0</td><td>windows_percent</td></tr><tr><td> Indie</td><td>17.26401547343434</td><td>24.426340005275033</td><td>99.98827770125722</td><td>99.98827770125722</td><td>windows_percent</td></tr><tr><td> Strategy</td><td>16.983047406354686</td><td>27.499746218658004</td><td>99.96954623896052</td><td>99.96954623896052</td><td>windows_percent</td></tr><tr><td> Racing</td><td>15.697346132128743</td><td>21.287408243929985</td><td>99.94353472614343</td><td>99.94353472614343</td><td>windows_percent</td></tr><tr><td> Software Training</td><td>8.571428571428571</td><td>20.952380952380953</td><td>100.0</td><td>100.0</td><td>windows_percent</td></tr><tr><td> RPG</td><td>16.711558730530506</td><td>24.546199789202483</td><td>99.98828902681814</td><td>99.98828902681814</td><td>windows_percent</td></tr><tr><td> Free to Play</td><td>14.147790568139621</td><td>24.136650575566282</td><td>99.92573338284441</td><td>99.92573338284441</td><td>windows_percent</td></tr><tr><td>Nudity</td><td>18.75</td><td>31.25</td><td>100.0</td><td>100.0</td><td>windows_percent</td></tr><tr><td> Early Access</td><td>10.297029702970297</td><td>14.653465346534652</td><td>100.0</td><td>100.0</td><td>windows_percent</td></tr><tr><td> Action</td><td>6.993006993006993</td><td>10.48951048951049</td><td>100.0</td><td>100.0</td><td>windows_percent</td></tr><tr><td> Game Development</td><td>22.22222222222222</td><td>33.33333333333333</td><td>100.0</td><td>100.0</td><td>windows_percent</td></tr><tr><td> Violent</td><td>18.181818181818183</td><td>24.242424242424242</td><td>100.0</td><td>100.0</td><td>windows_percent</td></tr><tr><td> Video Production</td><td>3.614457831325301</td><td>13.855421686746988</td><td>100.0</td><td>100.0</td><td>windows_percent</td></tr><tr><td> Utilities</td><td>9.536784741144414</td><td>21.25340599455041</td><td>99.72752043596729</td><td>99.72752043596729</td><td>windows_percent</td></tr><tr><td>Early Access</td><td>11.11111111111111</td><td>22.22222222222222</td><td>100.0</td><td>100.0</td><td>windows_percent</td></tr><tr><td> Massively Multiplayer</td><td>11.591072714182864</td><td>18.430525557955363</td><td>99.92800575953925</td><td>99.92800575953925</td><td>windows_percent</td></tr><tr><td>Casual</td><td>15.082304526748972</td><td>24.187242798353907</td><td>99.98971193415638</td><td>99.98971193415638</td><td>windows_percent</td></tr><tr><td> Animation & Modeling</td><td>10.81081081081081</td><td>21.62162162162162</td><td>100.0</td><td>100.0</td><td>windows_percent</td></tr><tr><td> Adventure</td><td>13.482582070073285</td><td>18.783254693303885</td><td>99.98996084730449</td><td>99.98996084730449</td><td>windows_percent</td></tr><tr><td></td><td>25.949367088607595</td><td>34.177215189873415</td><td>98.73417721518987</td><td>98.73417721518987</td><td>windows_percent</td></tr><tr><td> Photo Editing</td><td>5.88235294117647</td><td>19.11764705882353</td><td>100.0</td><td>100.0</td><td>windows_percent</td></tr><tr><td>Action</td><td>14.433701657458563</td><td>19.492403314917127</td><td>99.98705110497238</td><td>99.98705110497238</td><td>windows_percent</td></tr><tr><td>Strategy</td><td>14.196762141967623</td><td>28.144458281444585</td><td>100.0</td><td>100.0</td><td>windows_percent</td></tr><tr><td> Audio Production</td><td>2.3255813953488373</td><td>23.25581395348837</td><td>100.0</td><td>100.0</td><td>windows_percent</td></tr><tr><td>Indie</td><td>19.730438038187945</td><td>29.07150879820292</td><td>99.98128041931861</td><td>99.98128041931861</td><td>windows_percent</td></tr><tr><td>Free to Play</td><td>13.32378223495702</td><td>27.936962750716333</td><td>100.0</td><td>100.0</td><td>windows_percent</td></tr><tr><td>RPG</td><td>11.1731843575419</td><td>17.039106145251395</td><td>100.0</td><td>100.0</td><td>windows_percent</td></tr><tr><td>Simulation</td><td>11.265004616805172</td><td>20.129270544783008</td><td>99.90766389658357</td><td>99.90766389658357</td><td>windows_percent</td></tr><tr><td>Web Publishing</td><td>0.0</td><td>0.0</td><td>100.0</td><td>100.0</td><td>windows_percent</td></tr><tr><td>Accounting</td><td>0.0</td><td>25.0</td><td>100.0</td><td>100.0</td><td>windows_percent</td></tr><tr><td> Movie</td><td>0.0</td><td>0.0</td><td>100.0</td><td>100.0</td><td>windows_percent</td></tr><tr><td>Game Development</td><td>42.857142857142854</td><td>57.14285714285714</td><td>100.0</td><td>100.0</td><td>windows_percent</td></tr></tbody></table></div>"
      ]
     },
     "metadata": {
      "application/vnd.databricks.v1+output": {
       "addedWidgets": {},
       "aggData": [],
       "aggError": "",
       "aggOverflow": false,
       "aggSchema": [],
       "aggSeriesLimitReached": false,
       "aggType": "",
       "arguments": {},
       "columnCustomDisplayInfos": {},
       "data": [
        [
         " Sports",
         11.628865979381443,
         19.711340206185568,
         99.95876288659794,
         99.95876288659794,
         "windows_percent"
        ],
        [
         "Education",
         4.964539007092199,
         12.76595744680851,
         100.0,
         100.0,
         "windows_percent"
        ],
        [
         "Massively Multiplayer",
         2.2222222222222223,
         17.77777777777778,
         100.0,
         100.0,
         "windows_percent"
        ],
        [
         " Simulation",
         14.625886337178537,
         22.912477510847708,
         99.96825060853001,
         99.96825060853001,
         "windows_percent"
        ],
        [
         "Sexual Content",
         12.962962962962962,
         24.074074074074073,
         100.0,
         100.0,
         "windows_percent"
        ],
        [
         "Adventure",
         17.423423423423422,
         28.144144144144146,
         99.97297297297297,
         99.97297297297297,
         "windows_percent"
        ],
        [
         " Web Publishing",
         6.153846153846154,
         21.53846153846154,
         100.0,
         100.0,
         "windows_percent"
        ],
        [
         "Sports",
         1.4705882352941175,
         10.294117647058822,
         100.0,
         100.0,
         "windows_percent"
        ],
        [
         "Audio Production",
         5.405405405405405,
         26.126126126126124,
         98.1981981981982,
         98.1981981981982,
         "windows_percent"
        ],
        [
         " Design & Illustration",
         15.53398058252427,
         30.582524271844658,
         100.0,
         100.0,
         "windows_percent"
        ],
        [
         "Video Production",
         0.0,
         0.0,
         100.0,
         100.0,
         "windows_percent"
        ],
        [
         " Nudity",
         10.714285714285714,
         14.285714285714285,
         100.0,
         100.0,
         "windows_percent"
        ],
        [
         "Animation & Modeling",
         12.173913043478262,
         23.043478260869566,
         100.0,
         100.0,
         "windows_percent"
        ],
        [
         "Racing",
         7.570977917981073,
         12.933753943217665,
         100.0,
         100.0,
         "windows_percent"
        ],
        [
         "Gore",
         6.25,
         6.25,
         100.0,
         100.0,
         "windows_percent"
        ],
        [
         " Education",
         7.2992700729927,
         21.897810218978105,
         100.0,
         100.0,
         "windows_percent"
        ],
        [
         "Design & Illustration",
         13.114754098360656,
         17.21311475409836,
         100.0,
         100.0,
         "windows_percent"
        ],
        [
         " Casual",
         14.99428011112927,
         22.634417388462165,
         99.98365746036934,
         99.98365746036934,
         "windows_percent"
        ],
        [
         "Software Training",
         3.3333333333333335,
         0.0,
         100.0,
         100.0,
         "windows_percent"
        ],
        [
         " Accounting",
         0.0,
         16.666666666666664,
         100.0,
         100.0,
         "windows_percent"
        ],
        [
         "Photo Editing",
         0.0,
         0.0,
         100.0,
         100.0,
         "windows_percent"
        ],
        [
         "Utilities",
         3.643724696356275,
         6.477732793522267,
         100.0,
         100.0,
         "windows_percent"
        ],
        [
         "Violent",
         11.851851851851853,
         18.51851851851852,
         100.0,
         100.0,
         "windows_percent"
        ],
        [
         " Gore",
         15.66265060240964,
         22.89156626506024,
         100.0,
         100.0,
         "windows_percent"
        ],
        [
         " Indie",
         17.26401547343434,
         24.426340005275033,
         99.98827770125722,
         99.98827770125722,
         "windows_percent"
        ],
        [
         " Strategy",
         16.983047406354686,
         27.499746218658004,
         99.96954623896052,
         99.96954623896052,
         "windows_percent"
        ],
        [
         " Racing",
         15.697346132128743,
         21.287408243929985,
         99.94353472614343,
         99.94353472614343,
         "windows_percent"
        ],
        [
         " Software Training",
         8.571428571428571,
         20.952380952380953,
         100.0,
         100.0,
         "windows_percent"
        ],
        [
         " RPG",
         16.711558730530506,
         24.546199789202483,
         99.98828902681814,
         99.98828902681814,
         "windows_percent"
        ],
        [
         " Free to Play",
         14.147790568139621,
         24.136650575566282,
         99.92573338284441,
         99.92573338284441,
         "windows_percent"
        ],
        [
         "Nudity",
         18.75,
         31.25,
         100.0,
         100.0,
         "windows_percent"
        ],
        [
         " Early Access",
         10.297029702970297,
         14.653465346534652,
         100.0,
         100.0,
         "windows_percent"
        ],
        [
         " Action",
         6.993006993006993,
         10.48951048951049,
         100.0,
         100.0,
         "windows_percent"
        ],
        [
         " Game Development",
         22.22222222222222,
         33.33333333333333,
         100.0,
         100.0,
         "windows_percent"
        ],
        [
         " Violent",
         18.181818181818183,
         24.242424242424242,
         100.0,
         100.0,
         "windows_percent"
        ],
        [
         " Video Production",
         3.614457831325301,
         13.855421686746988,
         100.0,
         100.0,
         "windows_percent"
        ],
        [
         " Utilities",
         9.536784741144414,
         21.25340599455041,
         99.72752043596729,
         99.72752043596729,
         "windows_percent"
        ],
        [
         "Early Access",
         11.11111111111111,
         22.22222222222222,
         100.0,
         100.0,
         "windows_percent"
        ],
        [
         " Massively Multiplayer",
         11.591072714182864,
         18.430525557955363,
         99.92800575953925,
         99.92800575953925,
         "windows_percent"
        ],
        [
         "Casual",
         15.082304526748972,
         24.187242798353907,
         99.98971193415638,
         99.98971193415638,
         "windows_percent"
        ],
        [
         " Animation & Modeling",
         10.81081081081081,
         21.62162162162162,
         100.0,
         100.0,
         "windows_percent"
        ],
        [
         " Adventure",
         13.482582070073285,
         18.783254693303885,
         99.98996084730449,
         99.98996084730449,
         "windows_percent"
        ],
        [
         "",
         25.949367088607595,
         34.177215189873415,
         98.73417721518987,
         98.73417721518987,
         "windows_percent"
        ],
        [
         " Photo Editing",
         5.88235294117647,
         19.11764705882353,
         100.0,
         100.0,
         "windows_percent"
        ],
        [
         "Action",
         14.433701657458563,
         19.492403314917127,
         99.98705110497238,
         99.98705110497238,
         "windows_percent"
        ],
        [
         "Strategy",
         14.196762141967623,
         28.144458281444585,
         100.0,
         100.0,
         "windows_percent"
        ],
        [
         " Audio Production",
         2.3255813953488373,
         23.25581395348837,
         100.0,
         100.0,
         "windows_percent"
        ],
        [
         "Indie",
         19.730438038187945,
         29.07150879820292,
         99.98128041931861,
         99.98128041931861,
         "windows_percent"
        ],
        [
         "Free to Play",
         13.32378223495702,
         27.936962750716333,
         100.0,
         100.0,
         "windows_percent"
        ],
        [
         "RPG",
         11.1731843575419,
         17.039106145251395,
         100.0,
         100.0,
         "windows_percent"
        ],
        [
         "Simulation",
         11.265004616805172,
         20.129270544783008,
         99.90766389658357,
         99.90766389658357,
         "windows_percent"
        ],
        [
         "Web Publishing",
         0.0,
         0.0,
         100.0,
         100.0,
         "windows_percent"
        ],
        [
         "Accounting",
         0.0,
         25.0,
         100.0,
         100.0,
         "windows_percent"
        ],
        [
         " Movie",
         0.0,
         0.0,
         100.0,
         100.0,
         "windows_percent"
        ],
        [
         "Game Development",
         42.857142857142854,
         57.14285714285714,
         100.0,
         100.0,
         "windows_percent"
        ]
       ],
       "datasetInfos": [],
       "dbfsResultPath": null,
       "isJsonSchema": true,
       "metadata": {},
       "overflow": false,
       "plotOptions": {
        "customPlotOptions": {},
        "displayType": "table",
        "pivotAggregation": null,
        "pivotColumns": null,
        "xColumns": null,
        "yColumns": null
       },
       "removedWidgets": [],
       "schema": [
        {
         "metadata": "{}",
         "name": "genre",
         "type": "\"string\""
        },
        {
         "metadata": "{}",
         "name": "linux_percent",
         "type": "\"double\""
        },
        {
         "metadata": "{}",
         "name": "mac_percent",
         "type": "\"double\""
        },
        {
         "metadata": "{}",
         "name": "windows_percent",
         "type": "\"double\""
        },
        {
         "metadata": "{}",
         "name": "max_percent",
         "type": "\"double\""
        },
        {
         "metadata": "{}",
         "name": "max_column",
         "type": "\"string\""
        }
       ],
       "type": "table"
      }
     },
     "output_type": "display_data"
    },
    {
     "output_type": "display_data",
     "data": {
      "text/plain": [
       "Databricks visualization. Run in Databricks to view."
      ]
     },
     "metadata": {
      "application/vnd.databricks.v1.subcommand+json": {
       "baseErrorDetails": null,
       "bindings": {},
       "collapsed": false,
       "command": "%python\n__backend_agg_display_orig = display\n__backend_agg_dfs = []\ndef __backend_agg_display_new(df):\n    __backend_agg_df_modules = [\"pandas.core.frame\", \"databricks.koalas.frame\", \"pyspark.sql.dataframe\", \"pyspark.pandas.frame\", \"pyspark.sql.connect.dataframe\"]\n    if (type(df).__module__ in __backend_agg_df_modules and type(df).__name__ == 'DataFrame') or isinstance(df, list):\n        __backend_agg_dfs.append(df)\n\ndisplay = __backend_agg_display_new\n\ndef __backend_agg_user_code_fn():\n    import base64\n    exec(base64.standard_b64decode(\"IyBDYWxjdWwgZHUgcG91cmNlbnRhZ2UgZGUgZGlzcG9uaWJpbGl0w6lzIGRlcyBnZW5yZXMsIHNlbG9uIGxlcyBwbGF0ZWZvcm1lcwpkZl9yYXRpb19nZW5yZV9wbGF0Zm9ybXMgPSBkZl9nZW5yZV9wcmVmZXJlZF9wbGF0Zm9ybXMuc2VsZWN0KAogICAgImdlbnJlIiwKICAgIChGLmNvbCgibGludXhfc3VtIikgLyBGLmNvbCgibmJfZ2FtZXMiKSAqIDEwMCkuYWxpYXMoImxpbnV4X3BlcmNlbnQiKSwKICAgIChGLmNvbCgibWFjX3N1bSIpIC8gRi5jb2woIm5iX2dhbWVzIikgKiAxMDApLmFsaWFzKCJtYWNfcGVyY2VudCIpLAogICAgKEYuY29sKCJ3aW5kb3dzX3N1bSIpIC8gRi5jb2woIm5iX2dhbWVzIikgKiAxMDApLmFsaWFzKCJ3aW5kb3dzX3BlcmNlbnQiKSkKCiMgQWZmaWNoYWdlIGR1IG1laWxsZXVyIHBvdXJjZW50YWdlLCBldCBkdSBub20gZGUgbGEgcGxhdGVmb3JtZSBhc3NvY2nDqWUKZGZfcmF0aW9fZ2VucmVfcGxhdGZvcm1zID0gZGZfcmF0aW9fZ2VucmVfcGxhdGZvcm1zIFwKICAgIC53aXRoQ29sdW1uKCJtYXhfcGVyY2VudCIsIEYuZ3JlYXRlc3QoImxpbnV4X3BlcmNlbnQiLCAibWFjX3BlcmNlbnQiLCAid2luZG93c19wZXJjZW50IikpIFwKICAgIC53aXRoQ29sdW1uKCJtYXhfY29sdW1uIiwgXAogICAgICAgIEYud2hlbihGLmNvbCgibWF4X3BlcmNlbnQiKSA9PSBGLmNvbCgibGludXhfcGVyY2VudCIpLCAibGludXhfcGVyY2VudCIpIFwKICAgICAgICAud2hlbihGLmNvbCgibWF4X3BlcmNlbnQiKSA9PSBGLmNvbCgibWFjX3BlcmNlbnQiKSwgIm1hY19wZXJjZW50IikgXAogICAgICAgIC53aGVuKEYuY29sKCJtYXhfcGVyY2VudCIpID09IEYuY29sKCJ3aW5kb3dzX3BlcmNlbnQiKSwgIndpbmRvd3NfcGVyY2VudCIpKQoKZGlzcGxheShkZl9yYXRpb19nZW5yZV9wbGF0Zm9ybXMp\").decode())\n\ntry:\n    # run user code\n    __backend_agg_user_code_fn()\n\n    #reset display function\n    display = __backend_agg_display_orig\n\n    if len(__backend_agg_dfs) > 0:\n        # create a temp view\n        if type(__backend_agg_dfs[0]).__module__ == \"databricks.koalas.frame\":\n            # koalas dataframe\n            __backend_agg_dfs[0].to_spark().createOrReplaceTempView(\"DatabricksView5e5f8af\")\n        elif type(__backend_agg_dfs[0]).__module__ == \"pandas.core.frame\" or isinstance(__backend_agg_dfs[0], list):\n            # pandas dataframe\n            spark.createDataFrame(__backend_agg_dfs[0]).createOrReplaceTempView(\"DatabricksView5e5f8af\")\n        else:\n            __backend_agg_dfs[0].createOrReplaceTempView(\"DatabricksView5e5f8af\")\n        #run backend agg\n        display(spark.sql(\"\"\"WITH q AS (select * from DatabricksView5e5f8af) SELECT `genre`,SUM(`max_percent`) `column_149a9d7a473`,`max_column` FROM q GROUP BY `genre`,`max_column`\"\"\"))\n    else:\n        displayHTML(\"dataframe no longer exists. If you're using dataframe.display(), use display(dataframe) instead.\")\n\n\nfinally:\n    spark.sql(\"drop view if exists DatabricksView5e5f8af\")\n    display = __backend_agg_display_orig\n    del __backend_agg_display_new\n    del __backend_agg_display_orig\n    del __backend_agg_dfs\n    del __backend_agg_user_code_fn\n\n",
       "commandTitle": "Pourcentage de disponibilité des jeux sur la plateforme la plus représentée de leur genre",
       "commandType": "auto",
       "commandVersion": 0,
       "commentThread": [],
       "commentsVisible": false,
       "contentSha256Hex": null,
       "customPlotOptions": {
        "redashChart": [
         {
          "key": "type",
          "value": "CHART"
         },
         {
          "key": "options",
          "value": {
           "alignYAxesAtZero": true,
           "coefficient": 1,
           "columnConfigurationMap": {
            "series": {
             "column": "max_column",
             "id": "column_149a9d7a475"
            },
            "x": {
             "column": "genre",
             "id": "column_149a9d7a471"
            },
            "y": [
             {
              "column": "max_percent",
              "id": "column_149a9d7a473"
             }
            ]
           },
           "dateTimeFormat": "DD/MM/YYYY HH:mm",
           "direction": {
            "type": "counterclockwise"
           },
           "error_y": {
            "type": "data",
            "visible": true
           },
           "globalSeriesType": "column",
           "isAggregationOn": false,
           "legend": {
            "traceorder": "normal"
           },
           "missingValuesAsZero": true,
           "numberFormat": "0,0.[00000]",
           "percentFormat": "0[.]00%",
           "series": {
            "error_y": {
             "type": "data",
             "visible": true
            },
            "stacking": null
           },
           "seriesOptions": {
            "column_149a9d7a473": {
             "type": "column",
             "yAxis": 0
            },
            "max_percent": {
             "type": "column",
             "yAxis": 0
            },
            "windows_percent": {
             "color": "#50F5ED",
             "name": "Windows"
            }
           },
           "showDataLabels": false,
           "sizemode": "diameter",
           "sortX": true,
           "sortY": true,
           "swappedAxes": false,
           "textFormat": "",
           "useAggregationsUi": true,
           "valuesOptions": {},
           "version": 2,
           "xAxis": {
            "labels": {
             "enabled": true
            },
            "title": {
             "text": "Genre"
            },
            "type": "-"
           },
           "yAxis": [
            {
             "title": {
              "text": "Pourcentage de disponibilité sur la plateforme principale"
             },
             "type": "-"
            },
            {
             "opposite": true,
             "type": "-"
            }
           ]
          }
         }
        ]
       },
       "datasetPreviewNameToCmdIdMap": {},
       "diffDeletes": [],
       "diffInserts": [],
       "displayType": "redashChart",
       "error": null,
       "errorDetails": null,
       "errorSummary": null,
       "errorTraceType": null,
       "finishTime": 0,
       "globalVars": {},
       "guid": "",
       "height": "auto",
       "hideCommandCode": false,
       "hideCommandResult": false,
       "iPythonMetadata": null,
       "inputWidgets": {},
       "isLockedInExamMode": false,
       "latestUser": "a user",
       "latestUserId": null,
       "listResultMetadata": null,
       "metadata": {},
       "nuid": "9c48bb2c-c476-4b50-ac3b-5ab79a600165",
       "origId": 0,
       "parentHierarchy": [],
       "pivotAggregation": null,
       "pivotColumns": null,
       "position": 37.95803356170654,
       "resultDbfsErrorMessage": null,
       "resultDbfsStatus": "INLINED_IN_TREE",
       "results": null,
       "showCommandTitle": false,
       "startTime": 0,
       "state": "input",
       "streamStates": {},
       "subcommandOptions": {
        "queryPlan": {
         "selects": [
          {
           "column": "genre",
           "type": "column"
          },
          {
           "column": "max_percent",
           "type": "column"
          },
          {
           "column": "max_column",
           "type": "column"
          }
         ]
        }
       },
       "submitTime": 0,
       "subtype": "tableResultSubCmd.visualization",
       "tableResultIndex": 0,
       "tableResultSettingsMap": {},
       "useConsistentColors": false,
       "version": "CommandV1",
       "width": "auto",
       "workflows": [],
       "xColumns": null,
       "yColumns": null
      }
     },
     "output_type": "display_data"
    }
   ],
   "source": [
    "# Calcul du pourcentage de disponibilités des genres, selon les plateformes\n",
    "df_ratio_genre_platforms = df_genre_prefered_platforms.select(\n",
    "    \"genre\",\n",
    "    (F.col(\"linux_sum\") / F.col(\"nb_games\") * 100).alias(\"linux_percent\"),\n",
    "    (F.col(\"mac_sum\") / F.col(\"nb_games\") * 100).alias(\"mac_percent\"),\n",
    "    (F.col(\"windows_sum\") / F.col(\"nb_games\") * 100).alias(\"windows_percent\"))\n",
    "\n",
    "# Affichage du meilleur pourcentage, et du nom de la plateforme associée\n",
    "df_ratio_genre_platforms = df_ratio_genre_platforms \\\n",
    "    .withColumn(\"max_percent\", F.greatest(\"linux_percent\", \"mac_percent\", \"windows_percent\")) \\\n",
    "    .withColumn(\"max_column\", \\\n",
    "        F.when(F.col(\"max_percent\") == F.col(\"linux_percent\"), \"linux_percent\") \\\n",
    "        .when(F.col(\"max_percent\") == F.col(\"mac_percent\"), \"mac_percent\") \\\n",
    "        .when(F.col(\"max_percent\") == F.col(\"windows_percent\"), \"windows_percent\"))\n",
    "\n",
    "display(df_ratio_genre_platforms)"
   ]
  },
  {
   "cell_type": "markdown",
   "metadata": {
    "application/vnd.databricks.v1+cell": {
     "cellMetadata": {
      "byteLimit": 2048000,
      "rowLimit": 10000
     },
     "inputWidgets": {},
     "nuid": "64a5c8c1-428c-4ae6-b18a-00d794203ce7",
     "showTitle": false,
     "tableResultSettingsMap": {},
     "title": ""
    }
   },
   "source": [
    "Tous les genres sont disponibles sur **Windows** à au moins 98%. \n",
    "\n",
    "Il s'agit de la plateforme principale, quel que soit le genre"
   ]
  }
 ],
 "metadata": {
  "application/vnd.databricks.v1+notebook": {
   "computePreferences": null,
   "dashboards": [],
   "environmentMetadata": {
    "base_environment": "",
    "environment_version": "1"
   },
   "inputWidgetPreferences": null,
   "language": "python",
   "notebookMetadata": {
    "pythonIndentUnit": 4
   },
   "notebookName": "05_Steam_Plateformes",
   "widgets": {}
  }
 },
 "nbformat": 4,
 "nbformat_minor": 0
}