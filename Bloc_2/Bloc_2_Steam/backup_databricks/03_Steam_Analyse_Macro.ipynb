{
 "cells": [
  {
   "cell_type": "markdown",
   "metadata": {
    "application/vnd.databricks.v1+cell": {
     "cellMetadata": {
      "byteLimit": 2048000,
      "rowLimit": 10000
     },
     "inputWidgets": {},
     "nuid": "03f6dc7f-daf0-4089-a263-4a83cc84ffaf",
     "showTitle": false,
     "tableResultSettingsMap": {},
     "title": ""
    }
   },
   "source": [
    "# 03_Steam_Analyse_Macro"
   ]
  },
  {
   "cell_type": "markdown",
   "metadata": {
    "application/vnd.databricks.v1+cell": {
     "cellMetadata": {
      "byteLimit": 2048000,
      "rowLimit": 10000
     },
     "inputWidgets": {},
     "nuid": "e5e4ae1d-ef50-492f-b7d4-a87a9b707e74",
     "showTitle": false,
     "tableResultSettingsMap": {},
     "title": ""
    }
   },
   "source": [
    "---"
   ]
  },
  {
   "cell_type": "code",
   "execution_count": 0,
   "metadata": {
    "application/vnd.databricks.v1+cell": {
     "cellMetadata": {
      "byteLimit": 2048000,
      "rowLimit": 10000
     },
     "inputWidgets": {},
     "nuid": "5b1b2360-d7cb-488f-8f86-15adbd285e78",
     "showTitle": false,
     "tableResultSettingsMap": {},
     "title": ""
    }
   },
   "outputs": [],
   "source": [
    "from pyspark.sql import functions as F\n",
    "from pyspark.sql import Row"
   ]
  },
  {
   "cell_type": "markdown",
   "metadata": {
    "application/vnd.databricks.v1+cell": {
     "cellMetadata": {
      "byteLimit": 2048000,
      "rowLimit": 10000
     },
     "inputWidgets": {},
     "nuid": "1a0e7df6-539b-4f8b-93e7-dc1c8c42240b",
     "showTitle": false,
     "tableResultSettingsMap": {},
     "title": ""
    }
   },
   "source": [
    "### Chargement du dataset"
   ]
  },
  {
   "cell_type": "code",
   "execution_count": 0,
   "metadata": {
    "application/vnd.databricks.v1+cell": {
     "cellMetadata": {
      "byteLimit": 2048000,
      "rowLimit": 10000
     },
     "inputWidgets": {},
     "nuid": "b782dfd7-9019-427e-b250-67f5876d52c3",
     "showTitle": false,
     "tableResultSettingsMap": {},
     "title": ""
    }
   },
   "outputs": [],
   "source": [
    "df_steam_flat = spark.read.json(\"/dbfs/FileStore/export/steam_flat_prep.json\")"
   ]
  },
  {
   "cell_type": "markdown",
   "metadata": {
    "application/vnd.databricks.v1+cell": {
     "cellMetadata": {
      "byteLimit": 2048000,
      "rowLimit": 10000
     },
     "inputWidgets": {},
     "nuid": "5d7135eb-88af-432a-9e0d-17e951a90ebb",
     "showTitle": false,
     "tableResultSettingsMap": {},
     "title": ""
    }
   },
   "source": [
    "---"
   ]
  },
  {
   "cell_type": "markdown",
   "metadata": {
    "application/vnd.databricks.v1+cell": {
     "cellMetadata": {
      "byteLimit": 2048000,
      "rowLimit": 10000
     },
     "inputWidgets": {},
     "nuid": "a3d96ab7-591d-43d7-887b-9671cb3d88ac",
     "showTitle": false,
     "tableResultSettingsMap": {},
     "title": ""
    }
   },
   "source": [
    "### Analyse \"macro\" des données"
   ]
  },
  {
   "cell_type": "markdown",
   "metadata": {
    "application/vnd.databricks.v1+cell": {
     "cellMetadata": {
      "byteLimit": 2048000,
      "rowLimit": 10000
     },
     "inputWidgets": {},
     "nuid": "b014d146-643e-4f4f-bfa9-107bdb48bf46",
     "showTitle": true,
     "tableResultSettingsMap": {},
     "title": ""
    }
   },
   "source": [
    "Quel éditeur a publié le plus de jeux sur Steam?"
   ]
  },
  {
   "cell_type": "code",
   "execution_count": 0,
   "metadata": {
    "application/vnd.databricks.v1+cell": {
     "cellMetadata": {
      "byteLimit": 2048000,
      "rowLimit": 10000
     },
     "inputWidgets": {},
     "nuid": "ad2aa0b8-6fcb-422a-93bd-6a4d7f9890b5",
     "showTitle": false,
     "tableResultSettingsMap": {},
     "title": ""
    }
   },
   "outputs": [
    {
     "output_type": "display_data",
     "data": {
      "text/html": [
       "<style scoped>\n",
       "  .table-result-container {\n",
       "    max-height: 300px;\n",
       "    overflow: auto;\n",
       "  }\n",
       "  table, th, td {\n",
       "    border: 1px solid black;\n",
       "    border-collapse: collapse;\n",
       "  }\n",
       "  th, td {\n",
       "    padding: 5px;\n",
       "  }\n",
       "  th {\n",
       "    text-align: left;\n",
       "  }\n",
       "</style><div class='table-result-container'><table class='table-result'><thead style='background-color: white'><tr><th>publisher</th><th>nb_games</th></tr></thead><tbody><tr><td>Big Fish Games</td><td>422</td></tr><tr><td>8floor</td><td>202</td></tr><tr><td>Strategy First</td><td>150</td></tr><tr><td>SEGA</td><td>143</td></tr><tr><td>Choice of Games</td><td>140</td></tr></tbody></table></div>"
      ]
     },
     "metadata": {
      "application/vnd.databricks.v1+output": {
       "addedWidgets": {},
       "aggData": [],
       "aggError": "",
       "aggOverflow": false,
       "aggSchema": [],
       "aggSeriesLimitReached": false,
       "aggType": "",
       "arguments": {},
       "columnCustomDisplayInfos": {},
       "data": [
        [
         "Big Fish Games",
         422
        ],
        [
         "8floor",
         202
        ],
        [
         "Strategy First",
         150
        ],
        [
         "SEGA",
         143
        ],
        [
         "Choice of Games",
         140
        ]
       ],
       "datasetInfos": [],
       "dbfsResultPath": null,
       "isJsonSchema": true,
       "metadata": {},
       "overflow": false,
       "plotOptions": {
        "customPlotOptions": {},
        "displayType": "table",
        "pivotAggregation": null,
        "pivotColumns": null,
        "xColumns": null,
        "yColumns": null
       },
       "removedWidgets": [],
       "schema": [
        {
         "metadata": "{}",
         "name": "publisher",
         "type": "\"string\""
        },
        {
         "metadata": "{}",
         "name": "nb_games",
         "type": "\"long\""
        }
       ],
       "type": "table"
      }
     },
     "output_type": "display_data"
    },
    {
     "output_type": "display_data",
     "data": {
      "text/plain": [
       "Databricks visualization. Run in Databricks to view."
      ]
     },
     "metadata": {
      "application/vnd.databricks.v1.subcommand+json": {
       "baseErrorDetails": null,
       "bindings": {},
       "collapsed": false,
       "command": "%python\n__backend_agg_display_orig = display\n__backend_agg_dfs = []\ndef __backend_agg_display_new(df):\n    __backend_agg_df_modules = [\"pandas.core.frame\", \"databricks.koalas.frame\", \"pyspark.sql.dataframe\", \"pyspark.pandas.frame\", \"pyspark.sql.connect.dataframe\"]\n    if (type(df).__module__ in __backend_agg_df_modules and type(df).__name__ == 'DataFrame') or isinstance(df, list):\n        __backend_agg_dfs.append(df)\n\ndisplay = __backend_agg_display_new\n\ndef __backend_agg_user_code_fn():\n    import base64\n    exec(base64.standard_b64decode(\"ZGlzcGxheShkZl9zdGVhbV9mbGF0Lmdyb3VwQnkoInB1Ymxpc2hlciIpLmFnZyhGLmNvdW50RGlzdGluY3QoImFwcGlkIikuYWxpYXMoIm5iX2dhbWVzIikpLm9yZGVyQnkoRi5kZXNjKCJuYl9nYW1lcyIpKS5saW1pdCg1KS50b1BhbmRhcygpKQ==\").decode())\n\ntry:\n    # run user code\n    __backend_agg_user_code_fn()\n\n    #reset display function\n    display = __backend_agg_display_orig\n\n    if len(__backend_agg_dfs) > 0:\n        # create a temp view\n        if type(__backend_agg_dfs[0]).__module__ == \"databricks.koalas.frame\":\n            # koalas dataframe\n            __backend_agg_dfs[0].to_spark().createOrReplaceTempView(\"DatabricksViewf350fcb\")\n        elif type(__backend_agg_dfs[0]).__module__ == \"pandas.core.frame\" or isinstance(__backend_agg_dfs[0], list):\n            # pandas dataframe\n            spark.createDataFrame(__backend_agg_dfs[0]).createOrReplaceTempView(\"DatabricksViewf350fcb\")\n        else:\n            __backend_agg_dfs[0].createOrReplaceTempView(\"DatabricksViewf350fcb\")\n        #run backend agg\n        display(spark.sql(\"\"\"WITH q AS (select * from DatabricksViewf350fcb) SELECT `publisher`,`nb_games` FROM q\"\"\"))\n    else:\n        displayHTML(\"dataframe no longer exists. If you're using dataframe.display(), use display(dataframe) instead.\")\n\n\nfinally:\n    spark.sql(\"drop view if exists DatabricksViewf350fcb\")\n    display = __backend_agg_display_orig\n    del __backend_agg_display_new\n    del __backend_agg_display_orig\n    del __backend_agg_dfs\n    del __backend_agg_user_code_fn\n\n",
       "commandTitle": "Répartition du nombre de jeux publiés par éditeur",
       "commandType": "auto",
       "commandVersion": 0,
       "commentThread": [],
       "commentsVisible": false,
       "contentSha256Hex": null,
       "customPlotOptions": {
        "redashChart": [
         {
          "key": "type",
          "value": "CHART"
         },
         {
          "key": "options",
          "value": {
           "alignYAxesAtZero": true,
           "coefficient": 1,
           "columnConfigurationMap": {
            "x": {
             "column": "publisher",
             "id": "column_9f541f27431"
            },
            "y": [
             {
              "column": "nb_games",
              "id": "column_9f541f27432"
             }
            ]
           },
           "dateTimeFormat": "DD/MM/YYYY HH:mm",
           "direction": {
            "type": "counterclockwise"
           },
           "error_y": {
            "type": "data",
            "visible": true
           },
           "globalSeriesType": "column",
           "isAggregationOn": false,
           "legend": {
            "traceorder": "normal"
           },
           "missingValuesAsZero": true,
           "numberFormat": "0,0.[00000]",
           "percentFormat": "0[.]00%",
           "series": {
            "error_y": {
             "type": "data",
             "visible": true
            },
            "stacking": null
           },
           "seriesOptions": {
            "nb_games": {
             "color": "#50F5ED",
             "name": "Pourcentage de jeux publiés",
             "type": "column",
             "yAxis": 0
            }
           },
           "showDataLabels": false,
           "sizemode": "diameter",
           "sortX": false,
           "sortY": true,
           "swappedAxes": false,
           "textFormat": "",
           "useAggregationsUi": true,
           "valuesOptions": {
            "8floor": {
             "color": "#FB8D3D"
            },
            "Big Fish Games": {
             "color": "#50F5ED"
            },
            "Choice of Games": {
             "color": "#8CFFB4"
            },
            "SEGA": {
             "color": "#B554FF"
            },
            "Strategy First": {
             "color": "#799CFF"
            }
           },
           "version": 2,
           "xAxis": {
            "labels": {
             "enabled": true
            },
            "title": {
             "text": "Editeur"
            },
            "type": "-"
           },
           "yAxis": [
            {
             "title": {
              "text": "Nombre de jeux"
             },
             "type": "-"
            },
            {
             "opposite": true,
             "type": "-"
            }
           ]
          }
         }
        ]
       },
       "datasetPreviewNameToCmdIdMap": {},
       "diffDeletes": [],
       "diffInserts": [],
       "displayType": "redashChart",
       "error": null,
       "errorDetails": null,
       "errorSummary": null,
       "errorTraceType": null,
       "finishTime": 0,
       "globalVars": {},
       "guid": "",
       "height": "auto",
       "hideCommandCode": false,
       "hideCommandResult": false,
       "iPythonMetadata": null,
       "inputWidgets": {},
       "isLockedInExamMode": false,
       "latestUser": "a user",
       "latestUserId": null,
       "listResultMetadata": null,
       "metadata": {
        "byteLimit": 2048000,
        "rowLimit": 10000
       },
       "nuid": "f6875306-ac78-45c9-a9f7-cda3c85fb16f",
       "origId": 0,
       "parentHierarchy": [],
       "pivotAggregation": null,
       "pivotColumns": null,
       "position": 14.989283561706543,
       "resultDbfsErrorMessage": null,
       "resultDbfsStatus": "INLINED_IN_TREE",
       "results": null,
       "showCommandTitle": false,
       "startTime": 0,
       "state": "finished",
       "streamStates": {},
       "subcommandOptions": {
        "queryPlan": {
         "selects": [
          {
           "column": "publisher",
           "type": "column"
          },
          {
           "column": "nb_games",
           "type": "column"
          }
         ]
        }
       },
       "submitTime": 0,
       "subtype": "tableResultSubCmd.visualization",
       "tableResultIndex": 0,
       "tableResultSettingsMap": {},
       "useConsistentColors": false,
       "version": "CommandV1",
       "width": "auto",
       "workflows": [],
       "xColumns": null,
       "yColumns": null
      }
     },
     "output_type": "display_data"
    }
   ],
   "source": [
    "display(df_steam_flat.groupBy(\"publisher\").agg(F.countDistinct(\"appid\").alias(\"nb_games\")).orderBy(F.desc(\"nb_games\")).limit(5).toPandas())"
   ]
  },
  {
   "cell_type": "markdown",
   "metadata": {
    "application/vnd.databricks.v1+cell": {
     "cellMetadata": {
      "byteLimit": 2048000,
      "rowLimit": 10000
     },
     "inputWidgets": {},
     "nuid": "52da2646-fd7a-4c4f-b16b-658551de9444",
     "showTitle": false,
     "tableResultSettingsMap": {},
     "title": ""
    }
   },
   "source": [
    "L’éditeur ayant publié le plus de jeux sur Steam est **Big Fish Games** avec 422 titres, suivi de **8floor** avec 202 jeux.\n",
    "\n",
    "Comparé au nombre total de jeux disponibles sur la plateforme (environ 50 000), ces chiffres restent relativement faibles. Cela suggère une forte diversité d’éditeurs sur Steam, sans qu’un acteur ne domine massivement le marché."
   ]
  },
  {
   "cell_type": "markdown",
   "metadata": {
    "application/vnd.databricks.v1+cell": {
     "cellMetadata": {
      "byteLimit": 2048000,
      "rowLimit": 10000
     },
     "inputWidgets": {},
     "nuid": "a8957e9e-8a1f-4277-b5a6-8b7c236df245",
     "showTitle": false,
     "tableResultSettingsMap": {},
     "title": ""
    }
   },
   "source": [
    "---"
   ]
  },
  {
   "cell_type": "markdown",
   "metadata": {
    "application/vnd.databricks.v1+cell": {
     "cellMetadata": {
      "byteLimit": 2048000,
      "rowLimit": 10000
     },
     "inputWidgets": {},
     "nuid": "27163e55-de72-4535-b3ff-30c467a34c61",
     "showTitle": false,
     "tableResultSettingsMap": {},
     "title": ""
    }
   },
   "source": [
    "Quels sont les jeux les mieux notés ?"
   ]
  },
  {
   "cell_type": "code",
   "execution_count": 0,
   "metadata": {
    "application/vnd.databricks.v1+cell": {
     "cellMetadata": {
      "byteLimit": 2048000,
      "rowLimit": 10000
     },
     "inputWidgets": {},
     "nuid": "40d172b3-41cf-4c05-b711-f83ee573d1db",
     "showTitle": false,
     "tableResultSettingsMap": {},
     "title": ""
    }
   },
   "outputs": [
    {
     "output_type": "display_data",
     "data": {
      "text/html": [
       "<style scoped>\n",
       "  .table-result-container {\n",
       "    max-height: 300px;\n",
       "    overflow: auto;\n",
       "  }\n",
       "  table, th, td {\n",
       "    border: 1px solid black;\n",
       "    border-collapse: collapse;\n",
       "  }\n",
       "  th, td {\n",
       "    padding: 5px;\n",
       "  }\n",
       "  th {\n",
       "    text-align: left;\n",
       "  }\n",
       "</style><div class='table-result-container'><table class='table-result'><thead style='background-color: white'><tr><th>name</th><th>positive</th></tr></thead><tbody><tr><td>Counter-Strike: Global Offensive</td><td>5943345</td></tr><tr><td>Dota 2</td><td>1534895</td></tr><tr><td>Grand Theft Auto V</td><td>1229265</td></tr><tr><td>PUBG: BATTLEGROUNDS</td><td>1185361</td></tr><tr><td>Terraria</td><td>1014711</td></tr><tr><td>Tom Clancy's Rainbow Six Siege</td><td>942910</td></tr><tr><td>Garry's Mod</td><td>861240</td></tr><tr><td>Team Fortress 2</td><td>846407</td></tr><tr><td>Left 4 Dead 2</td><td>643836</td></tr><tr><td>Among Us</td><td>586302</td></tr></tbody></table></div>"
      ]
     },
     "metadata": {
      "application/vnd.databricks.v1+output": {
       "addedWidgets": {},
       "aggData": [],
       "aggError": "",
       "aggOverflow": false,
       "aggSchema": [],
       "aggSeriesLimitReached": false,
       "aggType": "",
       "arguments": {},
       "columnCustomDisplayInfos": {},
       "data": [
        [
         "Counter-Strike: Global Offensive",
         5943345
        ],
        [
         "Dota 2",
         1534895
        ],
        [
         "Grand Theft Auto V",
         1229265
        ],
        [
         "PUBG: BATTLEGROUNDS",
         1185361
        ],
        [
         "Terraria",
         1014711
        ],
        [
         "Tom Clancy's Rainbow Six Siege",
         942910
        ],
        [
         "Garry's Mod",
         861240
        ],
        [
         "Team Fortress 2",
         846407
        ],
        [
         "Left 4 Dead 2",
         643836
        ],
        [
         "Among Us",
         586302
        ]
       ],
       "datasetInfos": [],
       "dbfsResultPath": null,
       "isJsonSchema": true,
       "metadata": {},
       "overflow": false,
       "plotOptions": {
        "customPlotOptions": {},
        "displayType": "table",
        "pivotAggregation": null,
        "pivotColumns": null,
        "xColumns": null,
        "yColumns": null
       },
       "removedWidgets": [],
       "schema": [
        {
         "metadata": "{}",
         "name": "name",
         "type": "\"string\""
        },
        {
         "metadata": "{}",
         "name": "positive",
         "type": "\"long\""
        }
       ],
       "type": "table"
      }
     },
     "output_type": "display_data"
    },
    {
     "output_type": "display_data",
     "data": {
      "text/plain": [
       "Databricks visualization. Run in Databricks to view."
      ]
     },
     "metadata": {
      "application/vnd.databricks.v1.subcommand+json": {
       "baseErrorDetails": null,
       "bindings": {},
       "collapsed": false,
       "command": "%python\n__backend_agg_display_orig = display\n__backend_agg_dfs = []\ndef __backend_agg_display_new(df):\n    __backend_agg_df_modules = [\"pandas.core.frame\", \"databricks.koalas.frame\", \"pyspark.sql.dataframe\", \"pyspark.pandas.frame\", \"pyspark.sql.connect.dataframe\"]\n    if (type(df).__module__ in __backend_agg_df_modules and type(df).__name__ == 'DataFrame') or isinstance(df, list):\n        __backend_agg_dfs.append(df)\n\ndisplay = __backend_agg_display_new\n\ndef __backend_agg_user_code_fn():\n    import base64\n    exec(base64.standard_b64decode(\"ZGlzcGxheShkZl9zdGVhbV9mbGF0LnNlbGVjdCgibmFtZSIsICJwb3NpdGl2ZSIpLm9yZGVyQnkoRi5kZXNjKCJwb3NpdGl2ZSIpKS5saW1pdCgxMCkudG9QYW5kYXMoKSk=\").decode())\n\ntry:\n    # run user code\n    __backend_agg_user_code_fn()\n\n    #reset display function\n    display = __backend_agg_display_orig\n\n    if len(__backend_agg_dfs) > 0:\n        # create a temp view\n        if type(__backend_agg_dfs[0]).__module__ == \"databricks.koalas.frame\":\n            # koalas dataframe\n            __backend_agg_dfs[0].to_spark().createOrReplaceTempView(\"DatabricksView02ec158\")\n        elif type(__backend_agg_dfs[0]).__module__ == \"pandas.core.frame\" or isinstance(__backend_agg_dfs[0], list):\n            # pandas dataframe\n            spark.createDataFrame(__backend_agg_dfs[0]).createOrReplaceTempView(\"DatabricksView02ec158\")\n        else:\n            __backend_agg_dfs[0].createOrReplaceTempView(\"DatabricksView02ec158\")\n        #run backend agg\n        display(spark.sql(\"\"\"WITH q AS (select * from DatabricksView02ec158) SELECT `name`,`positive` FROM q\"\"\"))\n    else:\n        displayHTML(\"dataframe no longer exists. If you're using dataframe.display(), use display(dataframe) instead.\")\n\n\nfinally:\n    spark.sql(\"drop view if exists DatabricksView02ec158\")\n    display = __backend_agg_display_orig\n    del __backend_agg_display_new\n    del __backend_agg_display_orig\n    del __backend_agg_dfs\n    del __backend_agg_user_code_fn\n\n",
       "commandTitle": "Visualisation des jeux les mieux notés",
       "commandType": "auto",
       "commandVersion": 0,
       "commentThread": [],
       "commentsVisible": false,
       "contentSha256Hex": null,
       "customPlotOptions": {
        "redashChart": [
         {
          "key": "type",
          "value": "CHART"
         },
         {
          "key": "options",
          "value": {
           "alignYAxesAtZero": true,
           "coefficient": 1,
           "columnConfigurationMap": {
            "x": {
             "column": "name",
             "id": "column_9f541f27440"
            },
            "y": [
             {
              "column": "positive",
              "id": "column_9f541f27441"
             }
            ]
           },
           "dateTimeFormat": "DD/MM/YYYY HH:mm",
           "direction": {
            "type": "counterclockwise"
           },
           "error_y": {
            "type": "data",
            "visible": true
           },
           "globalSeriesType": "column",
           "hideXAxis": false,
           "isAggregationOn": false,
           "legend": {
            "traceorder": "normal"
           },
           "missingValuesAsZero": true,
           "numberFormat": "0,0.[00000]",
           "percentFormat": "0[.]00%",
           "reverseX": false,
           "series": {
            "error_y": {
             "type": "data",
             "visible": true
            },
            "stacking": null
           },
           "seriesOptions": {
            "positive": {
             "color": "#50F5ED",
             "name": "positive",
             "type": "column",
             "yAxis": 0
            }
           },
           "showDataLabels": false,
           "sizemode": "diameter",
           "sortX": false,
           "sortY": true,
           "swappedAxes": true,
           "textFormat": "",
           "useAggregationsUi": true,
           "valuesOptions": {},
           "version": 2,
           "xAxis": {
            "labels": {
             "enabled": true
            },
            "title": {
             "text": "Jeux"
            },
            "type": "-"
           },
           "yAxis": [
            {
             "title": {
              "text": "Notes positives"
             },
             "type": "-"
            },
            {
             "opposite": true,
             "type": "-"
            }
           ]
          }
         }
        ]
       },
       "datasetPreviewNameToCmdIdMap": {},
       "diffDeletes": [],
       "diffInserts": [],
       "displayType": "redashChart",
       "error": null,
       "errorDetails": null,
       "errorSummary": null,
       "errorTraceType": null,
       "finishTime": 0,
       "globalVars": {},
       "guid": "",
       "height": "auto",
       "hideCommandCode": false,
       "hideCommandResult": false,
       "iPythonMetadata": null,
       "inputWidgets": {},
       "isLockedInExamMode": false,
       "latestUser": "a user",
       "latestUserId": null,
       "listResultMetadata": null,
       "metadata": {
        "byteLimit": 2048000,
        "rowLimit": 10000
       },
       "nuid": "e79e9fdb-ac11-4dd4-8833-e93e361be1d0",
       "origId": 0,
       "parentHierarchy": [],
       "pivotAggregation": null,
       "pivotColumns": null,
       "position": 16.489283561706543,
       "resultDbfsErrorMessage": null,
       "resultDbfsStatus": "INLINED_IN_TREE",
       "results": null,
       "showCommandTitle": false,
       "startTime": 0,
       "state": "finished",
       "streamStates": {},
       "subcommandOptions": {
        "queryPlan": {
         "selects": [
          {
           "column": "name",
           "type": "column"
          },
          {
           "column": "positive",
           "type": "column"
          }
         ]
        }
       },
       "submitTime": 0,
       "subtype": "tableResultSubCmd.visualization",
       "tableResultIndex": 0,
       "tableResultSettingsMap": {},
       "useConsistentColors": false,
       "version": "CommandV1",
       "width": "auto",
       "workflows": [],
       "xColumns": null,
       "yColumns": null
      }
     },
     "output_type": "display_data"
    }
   ],
   "source": [
    "display(df_steam_flat.select(\"name\", \"positive\").orderBy(F.desc(\"positive\")).limit(10).toPandas())"
   ]
  },
  {
   "cell_type": "markdown",
   "metadata": {
    "application/vnd.databricks.v1+cell": {
     "cellMetadata": {
      "byteLimit": 2048000,
      "rowLimit": 10000
     },
     "inputWidgets": {},
     "nuid": "89ee7f2e-2c2e-4896-8ba1-c13471909a0f",
     "showTitle": false,
     "tableResultSettingsMap": {},
     "title": ""
    }
   },
   "source": [
    "Le jeu le mieux noté — et de loin — est Counter-Strike: Global Offensive, avec près de 6 millions de commentaires positifs.\n",
    "\n",
    "Il est suivi par Dota 2 et Grand Theft Auto V, qui comptabilisent respectivement environ 1,5 million et 1,2 million de commentaires positifs."
   ]
  },
  {
   "cell_type": "markdown",
   "metadata": {
    "application/vnd.databricks.v1+cell": {
     "cellMetadata": {
      "byteLimit": 2048000,
      "rowLimit": 10000
     },
     "inputWidgets": {},
     "nuid": "db5a501f-f9f2-470d-8022-c15ba8a6bb6a",
     "showTitle": false,
     "tableResultSettingsMap": {},
     "title": ""
    }
   },
   "source": [
    "---"
   ]
  },
  {
   "cell_type": "markdown",
   "metadata": {
    "application/vnd.databricks.v1+cell": {
     "cellMetadata": {
      "byteLimit": 2048000,
      "rowLimit": 10000
     },
     "inputWidgets": {},
     "nuid": "7e282e8f-e3b7-42d2-b6a5-9ffa2a274934",
     "showTitle": false,
     "tableResultSettingsMap": {},
     "title": ""
    }
   },
   "source": [
    "Y a-t-il eu plus de sorties de jeux certaines années ? Y a-t-il eu plus ou moins de sorties de jeux pendant le Covid par exemple ?"
   ]
  },
  {
   "cell_type": "markdown",
   "metadata": {
    "application/vnd.databricks.v1+cell": {
     "cellMetadata": {
      "byteLimit": 2048000,
      "rowLimit": 10000
     },
     "inputWidgets": {},
     "nuid": "3504b4a4-4d98-49ff-a52b-e55580948614",
     "showTitle": false,
     "tableResultSettingsMap": {},
     "title": ""
    }
   },
   "source": [
    "Je crée la colonne `year_release`"
   ]
  },
  {
   "cell_type": "code",
   "execution_count": 0,
   "metadata": {
    "application/vnd.databricks.v1+cell": {
     "cellMetadata": {
      "byteLimit": 2048000,
      "rowLimit": 10000
     },
     "inputWidgets": {},
     "nuid": "9a992b68-b7ef-4d77-ad4e-31316e3cc733",
     "showTitle": false,
     "tableResultSettingsMap": {},
     "title": ""
    }
   },
   "outputs": [
    {
     "output_type": "display_data",
     "data": {
      "text/html": [
       "<div>\n",
       "<style scoped>\n",
       "    .dataframe tbody tr th:only-of-type {\n",
       "        vertical-align: middle;\n",
       "    }\n",
       "\n",
       "    .dataframe tbody tr th {\n",
       "        vertical-align: top;\n",
       "    }\n",
       "\n",
       "    .dataframe thead th {\n",
       "        text-align: right;\n",
       "    }\n",
       "</style>\n",
       "<table border=\"1\" class=\"dataframe\">\n",
       "  <thead>\n",
       "    <tr style=\"text-align: right;\">\n",
       "      <th></th>\n",
       "      <th>appid</th>\n",
       "      <th>categories</th>\n",
       "      <th>ccu</th>\n",
       "      <th>developer</th>\n",
       "      <th>discount</th>\n",
       "      <th>genre</th>\n",
       "      <th>header_image</th>\n",
       "      <th>initialprice</th>\n",
       "      <th>languages</th>\n",
       "      <th>name</th>\n",
       "      <th>...</th>\n",
       "      <th>positive</th>\n",
       "      <th>price</th>\n",
       "      <th>publisher</th>\n",
       "      <th>release_date</th>\n",
       "      <th>required_age</th>\n",
       "      <th>short_description</th>\n",
       "      <th>tags</th>\n",
       "      <th>type</th>\n",
       "      <th>website</th>\n",
       "      <th>year_release</th>\n",
       "    </tr>\n",
       "  </thead>\n",
       "  <tbody>\n",
       "    <tr>\n",
       "      <th>0</th>\n",
       "      <td>686260</td>\n",
       "      <td>[Multi-player, Single-player, Co-op, Steam Clo...</td>\n",
       "      <td>6</td>\n",
       "      <td>Petroglyph</td>\n",
       "      <td>80.0</td>\n",
       "      <td>Indie, Simulation, Strategy</td>\n",
       "      <td>https://cdn.akamai.steamstatic.com/steam/apps/...</td>\n",
       "      <td>999.0</td>\n",
       "      <td>English, French, German, Spanish - Spain, Kore...</td>\n",
       "      <td>Forged Battalion</td>\n",
       "      <td>...</td>\n",
       "      <td>613</td>\n",
       "      <td>199.0</td>\n",
       "      <td>Team17 Digital Ltd</td>\n",
       "      <td>2018-08-14T00:00:00.000Z</td>\n",
       "      <td>0</td>\n",
       "      <td>Customize your unique faction in a new take on...</td>\n",
       "      <td>{'1980s': None, '1990's': None, '2.5D': None, ...</td>\n",
       "      <td>game</td>\n",
       "      <td>http://www.petroglyphgames.com/games</td>\n",
       "      <td>2018</td>\n",
       "    </tr>\n",
       "    <tr>\n",
       "      <th>1</th>\n",
       "      <td>686270</td>\n",
       "      <td>[Single-player, Partial Controller Support]</td>\n",
       "      <td>0</td>\n",
       "      <td>Alexandre Rozier, Corentin Serrie, Sarah Gross...</td>\n",
       "      <td>0.0</td>\n",
       "      <td>Adventure, Free to Play, Indie</td>\n",
       "      <td>https://cdn.akamai.steamstatic.com/steam/apps/...</td>\n",
       "      <td>0.0</td>\n",
       "      <td>English</td>\n",
       "      <td>Kiitsu</td>\n",
       "      <td>...</td>\n",
       "      <td>2</td>\n",
       "      <td>0.0</td>\n",
       "      <td>Alexandre Rozier</td>\n",
       "      <td>2018-04-18T00:00:00.000Z</td>\n",
       "      <td>0</td>\n",
       "      <td>In this beautiful low-poly world, the water of...</td>\n",
       "      <td>{'1980s': None, '1990's': None, '2.5D': None, ...</td>\n",
       "      <td>game</td>\n",
       "      <td>https://kiitsu.l4th.fr/</td>\n",
       "      <td>2018</td>\n",
       "    </tr>\n",
       "    <tr>\n",
       "      <th>2</th>\n",
       "      <td>686290</td>\n",
       "      <td>[Single-player, Stats, Steam Achievements, Ste...</td>\n",
       "      <td>0</td>\n",
       "      <td>DL Softworks</td>\n",
       "      <td>0.0</td>\n",
       "      <td>Action, Adventure, Casual, Indie, Sports, Stra...</td>\n",
       "      <td>https://cdn.akamai.steamstatic.com/steam/apps/...</td>\n",
       "      <td>699.0</td>\n",
       "      <td>English</td>\n",
       "      <td>RADical ROACH: Infinity</td>\n",
       "      <td>...</td>\n",
       "      <td>1</td>\n",
       "      <td>699.0</td>\n",
       "      <td>DL Softworks</td>\n",
       "      <td>2022-02-11T00:00:00.000Z</td>\n",
       "      <td>0</td>\n",
       "      <td>A Uniquely Radicalized Adventure Every Flight!</td>\n",
       "      <td>{'1980s': 134.0, '1990's': None, '2.5D': None,...</td>\n",
       "      <td>game</td>\n",
       "      <td></td>\n",
       "      <td>2022</td>\n",
       "    </tr>\n",
       "    <tr>\n",
       "      <th>3</th>\n",
       "      <td>686300</td>\n",
       "      <td>[Single-player, Steam Achievements]</td>\n",
       "      <td>0</td>\n",
       "      <td>Mantis Games</td>\n",
       "      <td>0.0</td>\n",
       "      <td>Action, Casual, Indie</td>\n",
       "      <td>https://cdn.akamai.steamstatic.com/steam/apps/...</td>\n",
       "      <td>99.0</td>\n",
       "      <td>English</td>\n",
       "      <td>Neon Coliseum</td>\n",
       "      <td>...</td>\n",
       "      <td>2</td>\n",
       "      <td>99.0</td>\n",
       "      <td>Displacement Studios</td>\n",
       "      <td>2017-09-04T00:00:00.000Z</td>\n",
       "      <td>0</td>\n",
       "      <td>Neon Сoliseum is a fun and simple but at the s...</td>\n",
       "      <td>{'1980s': None, '1990's': None, '2.5D': None, ...</td>\n",
       "      <td>game</td>\n",
       "      <td></td>\n",
       "      <td>2017</td>\n",
       "    </tr>\n",
       "    <tr>\n",
       "      <th>4</th>\n",
       "      <td>686340</td>\n",
       "      <td>[Single-player]</td>\n",
       "      <td>0</td>\n",
       "      <td>Threevol</td>\n",
       "      <td>0.0</td>\n",
       "      <td>Adventure, Free to Play, Indie</td>\n",
       "      <td>https://cdn.akamai.steamstatic.com/steam/apps/...</td>\n",
       "      <td>0.0</td>\n",
       "      <td>English</td>\n",
       "      <td>Insanity VR: Last Score</td>\n",
       "      <td>...</td>\n",
       "      <td>143</td>\n",
       "      <td>0.0</td>\n",
       "      <td>Threevol</td>\n",
       "      <td>2017-08-15T00:00:00.000Z</td>\n",
       "      <td>0</td>\n",
       "      <td>Insanity VR combines an immersive and intuitiv...</td>\n",
       "      <td>{'1980s': None, '1990's': None, '2.5D': None, ...</td>\n",
       "      <td>game</td>\n",
       "      <td>http://insanity.vlyn.at/</td>\n",
       "      <td>2017</td>\n",
       "    </tr>\n",
       "  </tbody>\n",
       "</table>\n",
       "<p>5 rows × 23 columns</p>\n",
       "</div>"
      ]
     },
     "metadata": {
      "application/vnd.databricks.v1+output": {
       "addedWidgets": {},
       "arguments": {},
       "data": "<div>\n<style scoped>\n    .dataframe tbody tr th:only-of-type {\n        vertical-align: middle;\n    }\n\n    .dataframe tbody tr th {\n        vertical-align: top;\n    }\n\n    .dataframe thead th {\n        text-align: right;\n    }\n</style>\n<table border=\"1\" class=\"dataframe\">\n  <thead>\n    <tr style=\"text-align: right;\">\n      <th></th>\n      <th>appid</th>\n      <th>categories</th>\n      <th>ccu</th>\n      <th>developer</th>\n      <th>discount</th>\n      <th>genre</th>\n      <th>header_image</th>\n      <th>initialprice</th>\n      <th>languages</th>\n      <th>name</th>\n      <th>...</th>\n      <th>positive</th>\n      <th>price</th>\n      <th>publisher</th>\n      <th>release_date</th>\n      <th>required_age</th>\n      <th>short_description</th>\n      <th>tags</th>\n      <th>type</th>\n      <th>website</th>\n      <th>year_release</th>\n    </tr>\n  </thead>\n  <tbody>\n    <tr>\n      <th>0</th>\n      <td>686260</td>\n      <td>[Multi-player, Single-player, Co-op, Steam Clo...</td>\n      <td>6</td>\n      <td>Petroglyph</td>\n      <td>80.0</td>\n      <td>Indie, Simulation, Strategy</td>\n      <td>https://cdn.akamai.steamstatic.com/steam/apps/...</td>\n      <td>999.0</td>\n      <td>English, French, German, Spanish - Spain, Kore...</td>\n      <td>Forged Battalion</td>\n      <td>...</td>\n      <td>613</td>\n      <td>199.0</td>\n      <td>Team17 Digital Ltd</td>\n      <td>2018-08-14T00:00:00.000Z</td>\n      <td>0</td>\n      <td>Customize your unique faction in a new take on...</td>\n      <td>{'1980s': None, '1990's': None, '2.5D': None, ...</td>\n      <td>game</td>\n      <td>http://www.petroglyphgames.com/games</td>\n      <td>2018</td>\n    </tr>\n    <tr>\n      <th>1</th>\n      <td>686270</td>\n      <td>[Single-player, Partial Controller Support]</td>\n      <td>0</td>\n      <td>Alexandre Rozier, Corentin Serrie, Sarah Gross...</td>\n      <td>0.0</td>\n      <td>Adventure, Free to Play, Indie</td>\n      <td>https://cdn.akamai.steamstatic.com/steam/apps/...</td>\n      <td>0.0</td>\n      <td>English</td>\n      <td>Kiitsu</td>\n      <td>...</td>\n      <td>2</td>\n      <td>0.0</td>\n      <td>Alexandre Rozier</td>\n      <td>2018-04-18T00:00:00.000Z</td>\n      <td>0</td>\n      <td>In this beautiful low-poly world, the water of...</td>\n      <td>{'1980s': None, '1990's': None, '2.5D': None, ...</td>\n      <td>game</td>\n      <td>https://kiitsu.l4th.fr/</td>\n      <td>2018</td>\n    </tr>\n    <tr>\n      <th>2</th>\n      <td>686290</td>\n      <td>[Single-player, Stats, Steam Achievements, Ste...</td>\n      <td>0</td>\n      <td>DL Softworks</td>\n      <td>0.0</td>\n      <td>Action, Adventure, Casual, Indie, Sports, Stra...</td>\n      <td>https://cdn.akamai.steamstatic.com/steam/apps/...</td>\n      <td>699.0</td>\n      <td>English</td>\n      <td>RADical ROACH: Infinity</td>\n      <td>...</td>\n      <td>1</td>\n      <td>699.0</td>\n      <td>DL Softworks</td>\n      <td>2022-02-11T00:00:00.000Z</td>\n      <td>0</td>\n      <td>A Uniquely Radicalized Adventure Every Flight!</td>\n      <td>{'1980s': 134.0, '1990's': None, '2.5D': None,...</td>\n      <td>game</td>\n      <td></td>\n      <td>2022</td>\n    </tr>\n    <tr>\n      <th>3</th>\n      <td>686300</td>\n      <td>[Single-player, Steam Achievements]</td>\n      <td>0</td>\n      <td>Mantis Games</td>\n      <td>0.0</td>\n      <td>Action, Casual, Indie</td>\n      <td>https://cdn.akamai.steamstatic.com/steam/apps/...</td>\n      <td>99.0</td>\n      <td>English</td>\n      <td>Neon Coliseum</td>\n      <td>...</td>\n      <td>2</td>\n      <td>99.0</td>\n      <td>Displacement Studios</td>\n      <td>2017-09-04T00:00:00.000Z</td>\n      <td>0</td>\n      <td>Neon Сoliseum is a fun and simple but at the s...</td>\n      <td>{'1980s': None, '1990's': None, '2.5D': None, ...</td>\n      <td>game</td>\n      <td></td>\n      <td>2017</td>\n    </tr>\n    <tr>\n      <th>4</th>\n      <td>686340</td>\n      <td>[Single-player]</td>\n      <td>0</td>\n      <td>Threevol</td>\n      <td>0.0</td>\n      <td>Adventure, Free to Play, Indie</td>\n      <td>https://cdn.akamai.steamstatic.com/steam/apps/...</td>\n      <td>0.0</td>\n      <td>English</td>\n      <td>Insanity VR: Last Score</td>\n      <td>...</td>\n      <td>143</td>\n      <td>0.0</td>\n      <td>Threevol</td>\n      <td>2017-08-15T00:00:00.000Z</td>\n      <td>0</td>\n      <td>Insanity VR combines an immersive and intuitiv...</td>\n      <td>{'1980s': None, '1990's': None, '2.5D': None, ...</td>\n      <td>game</td>\n      <td>http://insanity.vlyn.at/</td>\n      <td>2017</td>\n    </tr>\n  </tbody>\n</table>\n<p>5 rows × 23 columns</p>\n</div>",
       "datasetInfos": [],
       "metadata": {},
       "removedWidgets": [],
       "textData": null,
       "type": "htmlSandbox"
      }
     },
     "output_type": "display_data"
    }
   ],
   "source": [
    "from pyspark.sql.functions import year\n",
    "\n",
    "df_steam_flat = df_steam_flat.withColumn(\"year_release\", year(F.col(\"release_date\")))\n",
    "df_steam_flat.limit(5).toPandas()"
   ]
  },
  {
   "cell_type": "code",
   "execution_count": 0,
   "metadata": {
    "application/vnd.databricks.v1+cell": {
     "cellMetadata": {
      "byteLimit": 2048000,
      "rowLimit": 10000
     },
     "inputWidgets": {},
     "nuid": "cadf199b-31de-420e-9df6-54993ba5045b",
     "showTitle": false,
     "tableResultSettingsMap": {},
     "title": ""
    }
   },
   "outputs": [
    {
     "output_type": "display_data",
     "data": {
      "text/html": [
       "<style scoped>\n",
       "  .table-result-container {\n",
       "    max-height: 300px;\n",
       "    overflow: auto;\n",
       "  }\n",
       "  table, th, td {\n",
       "    border: 1px solid black;\n",
       "    border-collapse: collapse;\n",
       "  }\n",
       "  th, td {\n",
       "    padding: 5px;\n",
       "  }\n",
       "  th {\n",
       "    text-align: left;\n",
       "  }\n",
       "</style><div class='table-result-container'><table class='table-result'><thead style='background-color: white'><tr><th>year_release</th><th>nb_games</th></tr></thead><tbody><tr><td>2021</td><td>8566</td></tr><tr><td>2020</td><td>8110</td></tr><tr><td>2018</td><td>7535</td></tr><tr><td>2022</td><td>7214</td></tr><tr><td>2019</td><td>6794</td></tr><tr><td>2017</td><td>5898</td></tr><tr><td>2016</td><td>4110</td></tr><tr><td>2015</td><td>2521</td></tr><tr><td>2014</td><td>1516</td></tr><tr><td>2013</td><td>461</td></tr></tbody></table></div>"
      ]
     },
     "metadata": {
      "application/vnd.databricks.v1+output": {
       "addedWidgets": {},
       "aggData": [],
       "aggError": "",
       "aggOverflow": false,
       "aggSchema": [],
       "aggSeriesLimitReached": false,
       "aggType": "",
       "arguments": {},
       "columnCustomDisplayInfos": {},
       "data": [
        [
         2021,
         8566
        ],
        [
         2020,
         8110
        ],
        [
         2018,
         7535
        ],
        [
         2022,
         7214
        ],
        [
         2019,
         6794
        ],
        [
         2017,
         5898
        ],
        [
         2016,
         4110
        ],
        [
         2015,
         2521
        ],
        [
         2014,
         1516
        ],
        [
         2013,
         461
        ]
       ],
       "datasetInfos": [],
       "dbfsResultPath": null,
       "isJsonSchema": true,
       "metadata": {},
       "overflow": false,
       "plotOptions": {
        "customPlotOptions": {},
        "displayType": "table",
        "pivotAggregation": null,
        "pivotColumns": null,
        "xColumns": null,
        "yColumns": null
       },
       "removedWidgets": [],
       "schema": [
        {
         "metadata": "{}",
         "name": "year_release",
         "type": "\"integer\""
        },
        {
         "metadata": "{}",
         "name": "nb_games",
         "type": "\"long\""
        }
       ],
       "type": "table"
      }
     },
     "output_type": "display_data"
    },
    {
     "output_type": "display_data",
     "data": {
      "text/plain": [
       "Databricks visualization. Run in Databricks to view."
      ]
     },
     "metadata": {
      "application/vnd.databricks.v1.subcommand+json": {
       "baseErrorDetails": null,
       "bindings": {},
       "collapsed": false,
       "command": "%python\n__backend_agg_display_orig = display\n__backend_agg_dfs = []\ndef __backend_agg_display_new(df):\n    __backend_agg_df_modules = [\"pandas.core.frame\", \"databricks.koalas.frame\", \"pyspark.sql.dataframe\", \"pyspark.pandas.frame\", \"pyspark.sql.connect.dataframe\"]\n    if (type(df).__module__ in __backend_agg_df_modules and type(df).__name__ == 'DataFrame') or isinstance(df, list):\n        __backend_agg_dfs.append(df)\n\ndisplay = __backend_agg_display_new\n\ndef __backend_agg_user_code_fn():\n    import base64\n    exec(base64.standard_b64decode(\"ZGlzcGxheShkZl9zdGVhbV9mbGF0Lmdyb3VwQnkoInllYXJfcmVsZWFzZSIpLmFnZyhGLmNvdW50RGlzdGluY3QoImFwcGlkIikuYWxpYXMoIm5iX2dhbWVzIikpLm9yZGVyQnkoRi5kZXNjKCJuYl9nYW1lcyIpKS5saW1pdCgxMCkudG9QYW5kYXMoKSk=\").decode())\n\ntry:\n    # run user code\n    __backend_agg_user_code_fn()\n\n    #reset display function\n    display = __backend_agg_display_orig\n\n    if len(__backend_agg_dfs) > 0:\n        # create a temp view\n        if type(__backend_agg_dfs[0]).__module__ == \"databricks.koalas.frame\":\n            # koalas dataframe\n            __backend_agg_dfs[0].to_spark().createOrReplaceTempView(\"DatabricksViewfc8e7cf\")\n        elif type(__backend_agg_dfs[0]).__module__ == \"pandas.core.frame\" or isinstance(__backend_agg_dfs[0], list):\n            # pandas dataframe\n            spark.createDataFrame(__backend_agg_dfs[0]).createOrReplaceTempView(\"DatabricksViewfc8e7cf\")\n        else:\n            __backend_agg_dfs[0].createOrReplaceTempView(\"DatabricksViewfc8e7cf\")\n        #run backend agg\n        display(spark.sql(\"\"\"WITH q AS (select * from DatabricksViewfc8e7cf) SELECT `year_release`,`nb_games` FROM q\"\"\"))\n    else:\n        displayHTML(\"dataframe no longer exists. If you're using dataframe.display(), use display(dataframe) instead.\")\n\n\nfinally:\n    spark.sql(\"drop view if exists DatabricksViewfc8e7cf\")\n    display = __backend_agg_display_orig\n    del __backend_agg_display_new\n    del __backend_agg_display_orig\n    del __backend_agg_dfs\n    del __backend_agg_user_code_fn\n\n",
       "commandTitle": "Répartition du nombre de jeux par année de sortie",
       "commandType": "auto",
       "commandVersion": 0,
       "commentThread": [],
       "commentsVisible": false,
       "contentSha256Hex": null,
       "customPlotOptions": {
        "redashChart": [
         {
          "key": "type",
          "value": "CHART"
         },
         {
          "key": "options",
          "value": {
           "alignYAxesAtZero": true,
           "coefficient": 1,
           "columnConfigurationMap": {
            "x": {
             "column": "year_release",
             "id": "column_9f541f27452"
            },
            "y": [
             {
              "column": "nb_games",
              "id": "column_9f541f27456"
             }
            ]
           },
           "dateTimeFormat": "DD/MM/YYYY HH:mm",
           "direction": {
            "type": "counterclockwise"
           },
           "error_y": {
            "type": "data",
            "visible": true
           },
           "globalSeriesType": "column",
           "isAggregationOn": false,
           "legend": {
            "traceorder": "normal"
           },
           "missingValuesAsZero": true,
           "numBins": 10,
           "numberFormat": "0,0.[00000]",
           "percentFormat": "0[.]00%",
           "series": {
            "error_y": {
             "type": "data",
             "visible": true
            },
            "stacking": null
           },
           "seriesOptions": {
            "nb_games": {
             "color": "#50F5ED",
             "type": "column",
             "yAxis": 0
            }
           },
           "showDataLabels": false,
           "sizemode": "diameter",
           "sortX": true,
           "sortY": true,
           "swappedAxes": false,
           "textFormat": "",
           "useAggregationsUi": true,
           "valuesOptions": {},
           "version": 2,
           "xAxis": {
            "labels": {
             "enabled": true
            },
            "title": {
             "text": "Année de sortie"
            },
            "type": "-"
           },
           "yAxis": [
            {
             "title": {
              "text": "Nombre de jeux"
             },
             "type": "-"
            },
            {
             "opposite": true,
             "type": "-"
            }
           ]
          }
         }
        ]
       },
       "datasetPreviewNameToCmdIdMap": {},
       "diffDeletes": [],
       "diffInserts": [],
       "displayType": "redashChart",
       "error": null,
       "errorDetails": null,
       "errorSummary": null,
       "errorTraceType": null,
       "finishTime": 0,
       "globalVars": {},
       "guid": "",
       "height": "auto",
       "hideCommandCode": false,
       "hideCommandResult": false,
       "iPythonMetadata": null,
       "inputWidgets": {},
       "isLockedInExamMode": false,
       "latestUser": "a user",
       "latestUserId": null,
       "listResultMetadata": null,
       "metadata": {
        "byteLimit": 2048000,
        "rowLimit": 10000
       },
       "nuid": "45b0817e-6250-4171-b44f-7f6ddeca9594",
       "origId": 0,
       "parentHierarchy": [],
       "pivotAggregation": null,
       "pivotColumns": null,
       "position": 18.614283561706543,
       "resultDbfsErrorMessage": null,
       "resultDbfsStatus": "INLINED_IN_TREE",
       "results": null,
       "showCommandTitle": false,
       "startTime": 0,
       "state": "finished",
       "streamStates": {},
       "subcommandOptions": {
        "queryPlan": {
         "selects": [
          {
           "column": "year_release",
           "type": "column"
          },
          {
           "column": "nb_games",
           "type": "column"
          }
         ]
        }
       },
       "submitTime": 0,
       "subtype": "tableResultSubCmd.visualization",
       "tableResultIndex": 0,
       "tableResultSettingsMap": {},
       "useConsistentColors": false,
       "version": "CommandV1",
       "width": "auto",
       "workflows": [],
       "xColumns": null,
       "yColumns": null
      }
     },
     "output_type": "display_data"
    }
   ],
   "source": [
    "display(df_steam_flat.groupBy(\"year_release\").agg(F.countDistinct(\"appid\").alias(\"nb_games\")).orderBy(F.desc(\"nb_games\")).limit(10).toPandas())"
   ]
  },
  {
   "cell_type": "markdown",
   "metadata": {
    "application/vnd.databricks.v1+cell": {
     "cellMetadata": {
      "byteLimit": 2048000,
      "rowLimit": 10000
     },
     "inputWidgets": {},
     "nuid": "7f2c70fa-99eb-41e2-8f58-eb7b3f3ffb0c",
     "showTitle": false,
     "tableResultSettingsMap": {},
     "title": ""
    }
   },
   "source": [
    "Les années ayant vu le plus grand nombre de sorties de jeux sur Steam sont 2020 et 2021, avec plus de 8 000 jeux publiés chaque année. Ce pic coïncide avec la période de la pandémie de Covid-19.\n",
    "\n",
    "On observe également une tendance générale à la hausse du nombre de jeux disponibles sur la plateforme, bien que des baisses aient été enregistrées en 2019 et 2022."
   ]
  },
  {
   "cell_type": "markdown",
   "metadata": {
    "application/vnd.databricks.v1+cell": {
     "cellMetadata": {
      "byteLimit": 2048000,
      "rowLimit": 10000
     },
     "inputWidgets": {},
     "nuid": "92c7f8e4-3c35-4e05-a0e1-9344f6bad2de",
     "showTitle": false,
     "tableResultSettingsMap": {},
     "title": ""
    }
   },
   "source": [
    "---"
   ]
  },
  {
   "cell_type": "markdown",
   "metadata": {
    "application/vnd.databricks.v1+cell": {
     "cellMetadata": {
      "byteLimit": 2048000,
      "rowLimit": 10000
     },
     "inputWidgets": {},
     "nuid": "a3d64604-6279-451d-bee4-d8ab83bda8bc",
     "showTitle": false,
     "tableResultSettingsMap": {},
     "title": ""
    }
   },
   "source": [
    "Existe-t-il beaucoup de jeux avec une réduction ?"
   ]
  },
  {
   "cell_type": "code",
   "execution_count": 0,
   "metadata": {
    "application/vnd.databricks.v1+cell": {
     "cellMetadata": {
      "byteLimit": 2048000,
      "rowLimit": 10000
     },
     "inputWidgets": {},
     "nuid": "280c1131-94a6-413e-ab06-24c252ddc5e3",
     "showTitle": false,
     "tableResultSettingsMap": {},
     "title": ""
    }
   },
   "outputs": [
    {
     "output_type": "display_data",
     "data": {
      "text/html": [
       "<style scoped>\n",
       "  .table-result-container {\n",
       "    max-height: 300px;\n",
       "    overflow: auto;\n",
       "  }\n",
       "  table, th, td {\n",
       "    border: 1px solid black;\n",
       "    border-collapse: collapse;\n",
       "  }\n",
       "  th, td {\n",
       "    padding: 5px;\n",
       "  }\n",
       "  th {\n",
       "    text-align: left;\n",
       "  }\n",
       "</style><div class='table-result-container'><table class='table-result'><thead style='background-color: white'><tr><th>has_discount</th><th>count</th></tr></thead><tbody><tr><td>Avec réduction</td><td>2460</td></tr><tr><td>Sans réduction</td><td>52014</td></tr></tbody></table></div>"
      ]
     },
     "metadata": {
      "application/vnd.databricks.v1+output": {
       "addedWidgets": {},
       "aggData": [],
       "aggError": "",
       "aggOverflow": false,
       "aggSchema": [],
       "aggSeriesLimitReached": false,
       "aggType": "",
       "arguments": {},
       "columnCustomDisplayInfos": {},
       "data": [
        [
         "Avec réduction",
         2460
        ],
        [
         "Sans réduction",
         52014
        ]
       ],
       "datasetInfos": [],
       "dbfsResultPath": null,
       "isJsonSchema": true,
       "metadata": {},
       "overflow": false,
       "plotOptions": {
        "customPlotOptions": {},
        "displayType": "table",
        "pivotAggregation": null,
        "pivotColumns": null,
        "xColumns": null,
        "yColumns": null
       },
       "removedWidgets": [],
       "schema": [
        {
         "metadata": "{}",
         "name": "has_discount",
         "type": "\"string\""
        },
        {
         "metadata": "{}",
         "name": "count",
         "type": "\"long\""
        }
       ],
       "type": "table"
      }
     },
     "output_type": "display_data"
    },
    {
     "output_type": "display_data",
     "data": {
      "text/plain": [
       "Databricks visualization. Run in Databricks to view."
      ]
     },
     "metadata": {
      "application/vnd.databricks.v1.subcommand+json": {
       "baseErrorDetails": null,
       "bindings": {},
       "collapsed": false,
       "command": "%python\n__backend_agg_display_orig = display\n__backend_agg_dfs = []\ndef __backend_agg_display_new(df):\n    __backend_agg_df_modules = [\"pandas.core.frame\", \"databricks.koalas.frame\", \"pyspark.sql.dataframe\", \"pyspark.pandas.frame\", \"pyspark.sql.connect.dataframe\"]\n    if (type(df).__module__ in __backend_agg_df_modules and type(df).__name__ == 'DataFrame') or isinstance(df, list):\n        __backend_agg_dfs.append(df)\n\ndisplay = __backend_agg_display_new\n\ndef __backend_agg_user_code_fn():\n    import base64\n    exec(base64.standard_b64decode(\"ZGlzcGxheShkZl9zdGVhbV9mbGF0LndpdGhDb2x1bW4oImhhc19kaXNjb3VudCIsIEYud2hlbihGLmNvbCgiZGlzY291bnQiKSA+IDAsICJBdmVjIHLDqWR1Y3Rpb24iKS5vdGhlcndpc2UoIlNhbnMgcsOpZHVjdGlvbiIpKS5ncm91cEJ5KCJoYXNfZGlzY291bnQiKS5jb3VudCgpKQ==\").decode())\n\ntry:\n    # run user code\n    __backend_agg_user_code_fn()\n\n    #reset display function\n    display = __backend_agg_display_orig\n\n    if len(__backend_agg_dfs) > 0:\n        # create a temp view\n        if type(__backend_agg_dfs[0]).__module__ == \"databricks.koalas.frame\":\n            # koalas dataframe\n            __backend_agg_dfs[0].to_spark().createOrReplaceTempView(\"DatabricksViewbbb7ea3\")\n        elif type(__backend_agg_dfs[0]).__module__ == \"pandas.core.frame\" or isinstance(__backend_agg_dfs[0], list):\n            # pandas dataframe\n            spark.createDataFrame(__backend_agg_dfs[0]).createOrReplaceTempView(\"DatabricksViewbbb7ea3\")\n        else:\n            __backend_agg_dfs[0].createOrReplaceTempView(\"DatabricksViewbbb7ea3\")\n        #run backend agg\n        display(spark.sql(\"\"\"WITH q AS (select * from DatabricksViewbbb7ea3) SELECT `has_discount`,`count` FROM q\"\"\"))\n    else:\n        displayHTML(\"dataframe no longer exists. If you're using dataframe.display(), use display(dataframe) instead.\")\n\n\nfinally:\n    spark.sql(\"drop view if exists DatabricksViewbbb7ea3\")\n    display = __backend_agg_display_orig\n    del __backend_agg_display_new\n    del __backend_agg_display_orig\n    del __backend_agg_dfs\n    del __backend_agg_user_code_fn\n\n",
       "commandTitle": "Répartition des réductions",
       "commandType": "auto",
       "commandVersion": 0,
       "commentThread": [],
       "commentsVisible": false,
       "contentSha256Hex": null,
       "customPlotOptions": {
        "redashChart": [
         {
          "key": "type",
          "value": "CHART"
         },
         {
          "key": "options",
          "value": {
           "alignYAxesAtZero": true,
           "coefficient": 1,
           "columnConfigurationMap": {
            "x": {
             "column": "has_discount",
             "id": "column_9f541f27473"
            },
            "y": [
             {
              "column": "count",
              "id": "column_9f541f27474"
             }
            ]
           },
           "dateTimeFormat": "DD/MM/YYYY HH:mm",
           "direction": {
            "type": "counterclockwise"
           },
           "error_y": {
            "type": "data",
            "visible": true
           },
           "globalSeriesType": "pie",
           "isAggregationOn": false,
           "legend": {
            "traceorder": "normal"
           },
           "missingValuesAsZero": true,
           "numberFormat": "0,0.[00000]",
           "percentFormat": "0[.]00%",
           "series": {
            "error_y": {
             "type": "data",
             "visible": true
            },
            "stacking": null
           },
           "seriesOptions": {
            "count": {
             "name": "Réductions",
             "type": "pie",
             "yAxis": 0
            }
           },
           "showDataLabels": true,
           "sizemode": "diameter",
           "sortX": true,
           "sortY": true,
           "swappedAxes": false,
           "textFormat": "",
           "useAggregationsUi": true,
           "valuesOptions": {
            "Avec réduction": {
             "color": "#FB8D3D"
            },
            "Sans réduction": {
             "color": "#50F5ED"
            }
           },
           "version": 2,
           "xAxis": {
            "labels": {
             "enabled": true
            },
            "type": "-"
           },
           "yAxis": [
            {
             "type": "-"
            },
            {
             "opposite": true,
             "type": "-"
            }
           ]
          }
         }
        ]
       },
       "datasetPreviewNameToCmdIdMap": {},
       "diffDeletes": [],
       "diffInserts": [],
       "displayType": "redashChart",
       "error": null,
       "errorDetails": null,
       "errorSummary": null,
       "errorTraceType": null,
       "finishTime": 0,
       "globalVars": {},
       "guid": "",
       "height": "auto",
       "hideCommandCode": false,
       "hideCommandResult": false,
       "iPythonMetadata": null,
       "inputWidgets": {},
       "isLockedInExamMode": false,
       "latestUser": "a user",
       "latestUserId": null,
       "listResultMetadata": null,
       "metadata": {
        "byteLimit": 2048000,
        "rowLimit": 10000
       },
       "nuid": "5a80e964-9627-4bd0-b82e-d1aa07ec03d7",
       "origId": 0,
       "parentHierarchy": [],
       "pivotAggregation": null,
       "pivotColumns": null,
       "position": 20.364283561706543,
       "resultDbfsErrorMessage": null,
       "resultDbfsStatus": "INLINED_IN_TREE",
       "results": null,
       "showCommandTitle": false,
       "startTime": 0,
       "state": "finished",
       "streamStates": {},
       "subcommandOptions": {
        "queryPlan": {
         "selects": [
          {
           "column": "has_discount",
           "type": "column"
          },
          {
           "column": "count",
           "type": "column"
          }
         ]
        }
       },
       "submitTime": 0,
       "subtype": "tableResultSubCmd.visualization",
       "tableResultIndex": 0,
       "tableResultSettingsMap": {},
       "useConsistentColors": false,
       "version": "CommandV1",
       "width": "auto",
       "workflows": [],
       "xColumns": null,
       "yColumns": null
      }
     },
     "output_type": "display_data"
    }
   ],
   "source": [
    "display(df_steam_flat.withColumn(\"has_discount\", F.when(F.col(\"discount\") > 0, \"Avec réduction\").otherwise(\"Sans réduction\")).groupBy(\"has_discount\").count())"
   ]
  },
  {
   "cell_type": "markdown",
   "metadata": {
    "application/vnd.databricks.v1+cell": {
     "cellMetadata": {
      "byteLimit": 2048000,
      "rowLimit": 10000
     },
     "inputWidgets": {},
     "nuid": "fddaabb3-69c0-4da7-a4ea-9429cce4a410",
     "showTitle": false,
     "tableResultSettingsMap": {},
     "title": ""
    }
   },
   "source": [
    "Seuls 4,52 % des jeux bénéficient actuellement d’une réduction, contre 95,48 % qui ne sont pas en promotion."
   ]
  },
  {
   "cell_type": "markdown",
   "metadata": {
    "application/vnd.databricks.v1+cell": {
     "cellMetadata": {
      "byteLimit": 2048000,
      "rowLimit": 10000
     },
     "inputWidgets": {},
     "nuid": "2f9c84d5-876c-4ebb-adf5-31b30767c894",
     "showTitle": false,
     "tableResultSettingsMap": {},
     "title": ""
    }
   },
   "source": [
    "---"
   ]
  },
  {
   "cell_type": "markdown",
   "metadata": {
    "application/vnd.databricks.v1+cell": {
     "cellMetadata": {
      "byteLimit": 2048000,
      "rowLimit": 10000
     },
     "inputWidgets": {},
     "nuid": "9b327525-fc7c-45d3-b145-a9aa534b4adf",
     "showTitle": false,
     "tableResultSettingsMap": {},
     "title": ""
    }
   },
   "source": [
    "Quels langages sont les plus représentés ?"
   ]
  },
  {
   "cell_type": "code",
   "execution_count": 0,
   "metadata": {
    "application/vnd.databricks.v1+cell": {
     "cellMetadata": {
      "byteLimit": 2048000,
      "rowLimit": 10000
     },
     "inputWidgets": {},
     "nuid": "8462c5a7-2cbd-4ed3-82c0-61096a0ed3b5",
     "showTitle": false,
     "tableResultSettingsMap": {},
     "title": ""
    }
   },
   "outputs": [
    {
     "output_type": "display_data",
     "data": {
      "text/html": [
       "<div>\n",
       "<style scoped>\n",
       "    .dataframe tbody tr th:only-of-type {\n",
       "        vertical-align: middle;\n",
       "    }\n",
       "\n",
       "    .dataframe tbody tr th {\n",
       "        vertical-align: top;\n",
       "    }\n",
       "\n",
       "    .dataframe thead th {\n",
       "        text-align: right;\n",
       "    }\n",
       "</style>\n",
       "<table border=\"1\" class=\"dataframe\">\n",
       "  <thead>\n",
       "    <tr style=\"text-align: right;\">\n",
       "      <th></th>\n",
       "      <th>languages</th>\n",
       "    </tr>\n",
       "  </thead>\n",
       "  <tbody>\n",
       "    <tr>\n",
       "      <th>0</th>\n",
       "      <td>English, French, German, Spanish - Spain, Kore...</td>\n",
       "    </tr>\n",
       "    <tr>\n",
       "      <th>1</th>\n",
       "      <td>English</td>\n",
       "    </tr>\n",
       "    <tr>\n",
       "      <th>2</th>\n",
       "      <td>English</td>\n",
       "    </tr>\n",
       "    <tr>\n",
       "      <th>3</th>\n",
       "      <td>English</td>\n",
       "    </tr>\n",
       "    <tr>\n",
       "      <th>4</th>\n",
       "      <td>English</td>\n",
       "    </tr>\n",
       "  </tbody>\n",
       "</table>\n",
       "</div>"
      ]
     },
     "metadata": {
      "application/vnd.databricks.v1+output": {
       "addedWidgets": {},
       "arguments": {},
       "data": "<div>\n<style scoped>\n    .dataframe tbody tr th:only-of-type {\n        vertical-align: middle;\n    }\n\n    .dataframe tbody tr th {\n        vertical-align: top;\n    }\n\n    .dataframe thead th {\n        text-align: right;\n    }\n</style>\n<table border=\"1\" class=\"dataframe\">\n  <thead>\n    <tr style=\"text-align: right;\">\n      <th></th>\n      <th>languages</th>\n    </tr>\n  </thead>\n  <tbody>\n    <tr>\n      <th>0</th>\n      <td>English, French, German, Spanish - Spain, Kore...</td>\n    </tr>\n    <tr>\n      <th>1</th>\n      <td>English</td>\n    </tr>\n    <tr>\n      <th>2</th>\n      <td>English</td>\n    </tr>\n    <tr>\n      <th>3</th>\n      <td>English</td>\n    </tr>\n    <tr>\n      <th>4</th>\n      <td>English</td>\n    </tr>\n  </tbody>\n</table>\n</div>",
       "datasetInfos": [],
       "metadata": {},
       "removedWidgets": [],
       "textData": null,
       "type": "htmlSandbox"
      }
     },
     "output_type": "display_data"
    }
   ],
   "source": [
    "df_steam_flat.select(\"languages\").limit(5).toPandas()"
   ]
  },
  {
   "cell_type": "markdown",
   "metadata": {
    "application/vnd.databricks.v1+cell": {
     "cellMetadata": {
      "byteLimit": 2048000,
      "rowLimit": 10000
     },
     "inputWidgets": {},
     "nuid": "034a90b8-cda6-4ad5-8fe6-d05e5a3e2b43",
     "showTitle": false,
     "tableResultSettingsMap": {},
     "title": ""
    }
   },
   "source": [
    "Les langages sont stockés comme une chaine de caractère, chacun séparé par une virgule. \n",
    "\n",
    "Je vais tout d'abord en faire une liste, puis j'explode cette colonne."
   ]
  },
  {
   "cell_type": "code",
   "execution_count": 0,
   "metadata": {
    "application/vnd.databricks.v1+cell": {
     "cellMetadata": {
      "byteLimit": 2048000,
      "rowLimit": 10000
     },
     "inputWidgets": {},
     "nuid": "659bec7c-7cd1-4597-a219-4599bd0e8244",
     "showTitle": false,
     "tableResultSettingsMap": {},
     "title": ""
    }
   },
   "outputs": [
    {
     "output_type": "display_data",
     "data": {
      "text/html": [
       "<div>\n",
       "<style scoped>\n",
       "    .dataframe tbody tr th:only-of-type {\n",
       "        vertical-align: middle;\n",
       "    }\n",
       "\n",
       "    .dataframe tbody tr th {\n",
       "        vertical-align: top;\n",
       "    }\n",
       "\n",
       "    .dataframe thead th {\n",
       "        text-align: right;\n",
       "    }\n",
       "</style>\n",
       "<table border=\"1\" class=\"dataframe\">\n",
       "  <thead>\n",
       "    <tr style=\"text-align: right;\">\n",
       "      <th></th>\n",
       "      <th>languages_list</th>\n",
       "    </tr>\n",
       "  </thead>\n",
       "  <tbody>\n",
       "    <tr>\n",
       "      <th>0</th>\n",
       "      <td>[English, French, German, Spanish - Spain, Kor...</td>\n",
       "    </tr>\n",
       "    <tr>\n",
       "      <th>1</th>\n",
       "      <td>[English]</td>\n",
       "    </tr>\n",
       "    <tr>\n",
       "      <th>2</th>\n",
       "      <td>[English]</td>\n",
       "    </tr>\n",
       "    <tr>\n",
       "      <th>3</th>\n",
       "      <td>[English]</td>\n",
       "    </tr>\n",
       "    <tr>\n",
       "      <th>4</th>\n",
       "      <td>[English]</td>\n",
       "    </tr>\n",
       "  </tbody>\n",
       "</table>\n",
       "</div>"
      ]
     },
     "metadata": {
      "application/vnd.databricks.v1+output": {
       "addedWidgets": {},
       "arguments": {},
       "data": "<div>\n<style scoped>\n    .dataframe tbody tr th:only-of-type {\n        vertical-align: middle;\n    }\n\n    .dataframe tbody tr th {\n        vertical-align: top;\n    }\n\n    .dataframe thead th {\n        text-align: right;\n    }\n</style>\n<table border=\"1\" class=\"dataframe\">\n  <thead>\n    <tr style=\"text-align: right;\">\n      <th></th>\n      <th>languages_list</th>\n    </tr>\n  </thead>\n  <tbody>\n    <tr>\n      <th>0</th>\n      <td>[English, French, German, Spanish - Spain, Kor...</td>\n    </tr>\n    <tr>\n      <th>1</th>\n      <td>[English]</td>\n    </tr>\n    <tr>\n      <th>2</th>\n      <td>[English]</td>\n    </tr>\n    <tr>\n      <th>3</th>\n      <td>[English]</td>\n    </tr>\n    <tr>\n      <th>4</th>\n      <td>[English]</td>\n    </tr>\n  </tbody>\n</table>\n</div>",
       "datasetInfos": [],
       "metadata": {},
       "removedWidgets": [],
       "textData": null,
       "type": "htmlSandbox"
      }
     },
     "output_type": "display_data"
    }
   ],
   "source": [
    "df_steam_languages = df_steam_flat \\\n",
    "    .withColumn(\"languages_list\", F.split(F.col(\"languages\"), \",\")) \\\n",
    "    .withColumn(\"languages_list\", F.expr(\"transform(languages_list, x -> trim(x))\")) \\\n",
    "    .drop(\"languages\")\n",
    "df_steam_languages.select(\"languages_list\").limit(5).toPandas()"
   ]
  },
  {
   "cell_type": "code",
   "execution_count": 0,
   "metadata": {
    "application/vnd.databricks.v1+cell": {
     "cellMetadata": {
      "byteLimit": 2048000,
      "rowLimit": 10000
     },
     "inputWidgets": {},
     "nuid": "65fce9e5-2964-474a-9dc3-0bc245ccf161",
     "showTitle": false,
     "tableResultSettingsMap": {},
     "title": ""
    }
   },
   "outputs": [
    {
     "output_type": "display_data",
     "data": {
      "text/html": [
       "<style scoped>\n",
       "  .table-result-container {\n",
       "    max-height: 300px;\n",
       "    overflow: auto;\n",
       "  }\n",
       "  table, th, td {\n",
       "    border: 1px solid black;\n",
       "    border-collapse: collapse;\n",
       "  }\n",
       "  th, td {\n",
       "    padding: 5px;\n",
       "  }\n",
       "  th {\n",
       "    text-align: left;\n",
       "  }\n",
       "</style><div class='table-result-container'><table class='table-result'><thead style='background-color: white'><tr><th>lang</th></tr></thead><tbody><tr><td>Urdu</td></tr><tr><td>Portuguese - Portugal</td></tr><tr><td>Turkish</td></tr><tr><td>Persian</td></tr><tr><td>Spanish - Spain</td></tr><tr><td>Finnish</td></tr><tr><td>Malay</td></tr><tr><td>Thai</td></tr><tr><td>Indonesian</td></tr><tr><td>Belarusian</td></tr><tr><td>Mongolian</td></tr><tr><td>Portuguese - Brazil</td></tr><tr><td>Ukrainian</td></tr><tr><td>Irish</td></tr><tr><td>Polish</td></tr><tr><td>Dari</td></tr><tr><td>Japanese</td></tr><tr><td>English</td></tr><tr><td>Vietnamese</td></tr><tr><td>Hebrew</td></tr><tr><td>Croatian</td></tr><tr><td>Serbian</td></tr><tr><td>Portuguese</td></tr><tr><td>Hungarian</td></tr><tr><td>Italian</td></tr><tr><td>Danish</td></tr><tr><td>Catalan</td></tr><tr><td>Simplified Chinese</td></tr><tr><td>Romanian</td></tr><tr><td>Afrikaans</td></tr><tr><td>#lang_slovakian</td></tr><tr><td>Russian</td></tr><tr><td>Korean</td></tr><tr><td>Hindi</td></tr><tr><td>French</td></tr><tr><td>Norwegian</td></tr><tr><td>Lithuanian</td></tr><tr><td>Basque</td></tr><tr><td>Spanish - Latin America</td></tr><tr><td>Bulgarian</td></tr><tr><td>Kazakh</td></tr><tr><td>Dutch</td></tr><tr><td>Arabic</td></tr><tr><td>Latvian</td></tr><tr><td>Slovak</td></tr><tr><td>Greek</td></tr><tr><td></td></tr><tr><td>German</td></tr><tr><td>Not supported</td></tr><tr><td>Galician</td></tr><tr><td>Welsh</td></tr><tr><td>Traditional Chinese</td></tr><tr><td>Swedish</td></tr><tr><td>Azerbaijani</td></tr><tr><td>Czech</td></tr><tr><td>Bangla</td></tr><tr><td>Russian\r\n",
       "[b]*[/b]</td></tr><tr><td>Icelandic</td></tr><tr><td>Bosnian</td></tr><tr><td>Filipino</td></tr><tr><td>Marathi</td></tr><tr><td>Georgian</td></tr><tr><td>Tamil</td></tr><tr><td>English[b]*[/b]</td></tr><tr><td>Italian \r\n",
       "\r\n",
       "[b]*[/b]</td></tr><tr><td>Estonian</td></tr><tr><td>Traditional Chinese (text only)</td></tr><tr><td>German;</td></tr><tr><td>Uzbek</td></tr><tr><td>Swahili</td></tr><tr><td>Albanian</td></tr><tr><td>Japanese \r\n",
       "\r\n",
       "[b]*[/b]</td></tr><tr><td>French[b]*[/b]</td></tr><tr><td>English (full audio)</td></tr><tr><td>English Dutch  English</td></tr><tr><td>German[b]*[/b]</td></tr><tr><td>Spanish - Spain\r\n",
       "[b]*[/b]</td></tr><tr><td>Korean[b]*[/b]</td></tr><tr><td>Spanish - Spain[b]*[/b]</td></tr><tr><td>Macedonian</td></tr><tr><td>Slovenian</td></tr><tr><td>Italian[b]*[/b]</td></tr><tr><td>Valencian</td></tr><tr><td>Maori</td></tr><tr><td>(all with full audio support)</td></tr><tr><td>Telugu</td></tr><tr><td>Luxembourgish</td></tr><tr><td>Punjabi (Gurmukhi)</td></tr><tr><td>Kannada</td></tr><tr><td>English\r\n",
       "Russian\r\n",
       "Spanish - Spain\r\n",
       "Japanese\r\n",
       "Czech</td></tr><tr><td>Russian\r\n",
       "English\r\n",
       "Spanish - Spain\r\n",
       "French\r\n",
       "Japanese\r\n",
       "Czech</td></tr></tbody></table></div>"
      ]
     },
     "metadata": {
      "application/vnd.databricks.v1+output": {
       "addedWidgets": {},
       "aggData": [],
       "aggError": "",
       "aggOverflow": false,
       "aggSchema": [],
       "aggSeriesLimitReached": false,
       "aggType": "",
       "arguments": {},
       "columnCustomDisplayInfos": {},
       "data": [
        [
         "Urdu"
        ],
        [
         "Portuguese - Portugal"
        ],
        [
         "Turkish"
        ],
        [
         "Persian"
        ],
        [
         "Spanish - Spain"
        ],
        [
         "Finnish"
        ],
        [
         "Malay"
        ],
        [
         "Thai"
        ],
        [
         "Indonesian"
        ],
        [
         "Belarusian"
        ],
        [
         "Mongolian"
        ],
        [
         "Portuguese - Brazil"
        ],
        [
         "Ukrainian"
        ],
        [
         "Irish"
        ],
        [
         "Polish"
        ],
        [
         "Dari"
        ],
        [
         "Japanese"
        ],
        [
         "English"
        ],
        [
         "Vietnamese"
        ],
        [
         "Hebrew"
        ],
        [
         "Croatian"
        ],
        [
         "Serbian"
        ],
        [
         "Portuguese"
        ],
        [
         "Hungarian"
        ],
        [
         "Italian"
        ],
        [
         "Danish"
        ],
        [
         "Catalan"
        ],
        [
         "Simplified Chinese"
        ],
        [
         "Romanian"
        ],
        [
         "Afrikaans"
        ],
        [
         "#lang_slovakian"
        ],
        [
         "Russian"
        ],
        [
         "Korean"
        ],
        [
         "Hindi"
        ],
        [
         "French"
        ],
        [
         "Norwegian"
        ],
        [
         "Lithuanian"
        ],
        [
         "Basque"
        ],
        [
         "Spanish - Latin America"
        ],
        [
         "Bulgarian"
        ],
        [
         "Kazakh"
        ],
        [
         "Dutch"
        ],
        [
         "Arabic"
        ],
        [
         "Latvian"
        ],
        [
         "Slovak"
        ],
        [
         "Greek"
        ],
        [
         ""
        ],
        [
         "German"
        ],
        [
         "Not supported"
        ],
        [
         "Galician"
        ],
        [
         "Welsh"
        ],
        [
         "Traditional Chinese"
        ],
        [
         "Swedish"
        ],
        [
         "Azerbaijani"
        ],
        [
         "Czech"
        ],
        [
         "Bangla"
        ],
        [
         "Russian\r\n[b]*[/b]"
        ],
        [
         "Icelandic"
        ],
        [
         "Bosnian"
        ],
        [
         "Filipino"
        ],
        [
         "Marathi"
        ],
        [
         "Georgian"
        ],
        [
         "Tamil"
        ],
        [
         "English[b]*[/b]"
        ],
        [
         "Italian \r\n\r\n[b]*[/b]"
        ],
        [
         "Estonian"
        ],
        [
         "Traditional Chinese (text only)"
        ],
        [
         "German;"
        ],
        [
         "Uzbek"
        ],
        [
         "Swahili"
        ],
        [
         "Albanian"
        ],
        [
         "Japanese \r\n\r\n[b]*[/b]"
        ],
        [
         "French[b]*[/b]"
        ],
        [
         "English (full audio)"
        ],
        [
         "English Dutch  English"
        ],
        [
         "German[b]*[/b]"
        ],
        [
         "Spanish - Spain\r\n[b]*[/b]"
        ],
        [
         "Korean[b]*[/b]"
        ],
        [
         "Spanish - Spain[b]*[/b]"
        ],
        [
         "Macedonian"
        ],
        [
         "Slovenian"
        ],
        [
         "Italian[b]*[/b]"
        ],
        [
         "Valencian"
        ],
        [
         "Maori"
        ],
        [
         "(all with full audio support)"
        ],
        [
         "Telugu"
        ],
        [
         "Luxembourgish"
        ],
        [
         "Punjabi (Gurmukhi)"
        ],
        [
         "Kannada"
        ],
        [
         "English\r\nRussian\r\nSpanish - Spain\r\nJapanese\r\nCzech"
        ],
        [
         "Russian\r\nEnglish\r\nSpanish - Spain\r\nFrench\r\nJapanese\r\nCzech"
        ]
       ],
       "datasetInfos": [],
       "dbfsResultPath": null,
       "isJsonSchema": true,
       "metadata": {},
       "overflow": false,
       "plotOptions": {
        "customPlotOptions": {},
        "displayType": "table",
        "pivotAggregation": null,
        "pivotColumns": null,
        "xColumns": null,
        "yColumns": null
       },
       "removedWidgets": [],
       "schema": [
        {
         "metadata": "{}",
         "name": "lang",
         "type": "\"string\""
        }
       ],
       "type": "table"
      }
     },
     "output_type": "display_data"
    }
   ],
   "source": [
    "df_steam_languages_exploded = df_steam_languages.withColumn(\"lang\", F.explode(\"languages_list\"))\n",
    "display(df_steam_languages_exploded.select(\"lang\").distinct().toPandas())"
   ]
  },
  {
   "cell_type": "code",
   "execution_count": 0,
   "metadata": {
    "application/vnd.databricks.v1+cell": {
     "cellMetadata": {
      "byteLimit": 2048000,
      "rowLimit": 10000
     },
     "inputWidgets": {},
     "nuid": "8c18b2ac-b7f6-4dfd-8dd4-274e86456355",
     "showTitle": false,
     "tableResultSettingsMap": {},
     "title": ""
    }
   },
   "outputs": [
    {
     "output_type": "display_data",
     "data": {
      "text/html": [
       "<style scoped>\n",
       "  .table-result-container {\n",
       "    max-height: 300px;\n",
       "    overflow: auto;\n",
       "  }\n",
       "  table, th, td {\n",
       "    border: 1px solid black;\n",
       "    border-collapse: collapse;\n",
       "  }\n",
       "  th, td {\n",
       "    padding: 5px;\n",
       "  }\n",
       "  th {\n",
       "    text-align: left;\n",
       "  }\n",
       "</style><div class='table-result-container'><table class='table-result'><thead style='background-color: white'><tr><th>lang</th><th>nb_games</th></tr></thead><tbody><tr><td>English</td><td>53917</td></tr><tr><td>German</td><td>13352</td></tr><tr><td>French</td><td>12752</td></tr><tr><td>Russian</td><td>12455</td></tr><tr><td>Simplified Chinese</td><td>12206</td></tr><tr><td>Spanish - Spain</td><td>11615</td></tr><tr><td>Japanese</td><td>9719</td></tr><tr><td>Italian</td><td>8778</td></tr><tr><td>Portuguese - Brazil</td><td>6383</td></tr><tr><td>Korean</td><td>6168</td></tr></tbody></table></div>"
      ]
     },
     "metadata": {
      "application/vnd.databricks.v1+output": {
       "addedWidgets": {},
       "aggData": [],
       "aggError": "",
       "aggOverflow": false,
       "aggSchema": [],
       "aggSeriesLimitReached": false,
       "aggType": "",
       "arguments": {},
       "columnCustomDisplayInfos": {},
       "data": [
        [
         "English",
         53917
        ],
        [
         "German",
         13352
        ],
        [
         "French",
         12752
        ],
        [
         "Russian",
         12455
        ],
        [
         "Simplified Chinese",
         12206
        ],
        [
         "Spanish - Spain",
         11615
        ],
        [
         "Japanese",
         9719
        ],
        [
         "Italian",
         8778
        ],
        [
         "Portuguese - Brazil",
         6383
        ],
        [
         "Korean",
         6168
        ]
       ],
       "datasetInfos": [],
       "dbfsResultPath": null,
       "isJsonSchema": true,
       "metadata": {},
       "overflow": false,
       "plotOptions": {
        "customPlotOptions": {},
        "displayType": "table",
        "pivotAggregation": null,
        "pivotColumns": null,
        "xColumns": null,
        "yColumns": null
       },
       "removedWidgets": [],
       "schema": [
        {
         "metadata": "{}",
         "name": "lang",
         "type": "\"string\""
        },
        {
         "metadata": "{}",
         "name": "nb_games",
         "type": "\"long\""
        }
       ],
       "type": "table"
      }
     },
     "output_type": "display_data"
    },
    {
     "output_type": "display_data",
     "data": {
      "text/plain": [
       "Databricks visualization. Run in Databricks to view."
      ]
     },
     "metadata": {
      "application/vnd.databricks.v1.subcommand+json": {
       "baseErrorDetails": null,
       "bindings": {},
       "collapsed": false,
       "command": "%python\n__backend_agg_display_orig = display\n__backend_agg_dfs = []\ndef __backend_agg_display_new(df):\n    __backend_agg_df_modules = [\"pandas.core.frame\", \"databricks.koalas.frame\", \"pyspark.sql.dataframe\", \"pyspark.pandas.frame\", \"pyspark.sql.connect.dataframe\"]\n    if (type(df).__module__ in __backend_agg_df_modules and type(df).__name__ == 'DataFrame') or isinstance(df, list):\n        __backend_agg_dfs.append(df)\n\ndisplay = __backend_agg_display_new\n\ndef __backend_agg_user_code_fn():\n    import base64\n    exec(base64.standard_b64decode(\"ZGlzcGxheShkZl9zdGVhbV9sYW5ndWFnZXNfZXhwbG9kZWQuZ3JvdXBCeSgibGFuZyIpLmFnZyhGLmNvdW50RGlzdGluY3QoImFwcGlkIikuYWxpYXMoIm5iX2dhbWVzIikpLm9yZGVyQnkoRi5kZXNjKCJuYl9nYW1lcyIpKS5saW1pdCgxMCkudG9QYW5kYXMoKSk=\").decode())\n\ntry:\n    # run user code\n    __backend_agg_user_code_fn()\n\n    #reset display function\n    display = __backend_agg_display_orig\n\n    if len(__backend_agg_dfs) > 0:\n        # create a temp view\n        if type(__backend_agg_dfs[0]).__module__ == \"databricks.koalas.frame\":\n            # koalas dataframe\n            __backend_agg_dfs[0].to_spark().createOrReplaceTempView(\"DatabricksView32a8d91\")\n        elif type(__backend_agg_dfs[0]).__module__ == \"pandas.core.frame\" or isinstance(__backend_agg_dfs[0], list):\n            # pandas dataframe\n            spark.createDataFrame(__backend_agg_dfs[0]).createOrReplaceTempView(\"DatabricksView32a8d91\")\n        else:\n            __backend_agg_dfs[0].createOrReplaceTempView(\"DatabricksView32a8d91\")\n        #run backend agg\n        display(spark.sql(\"\"\"WITH q AS (select * from DatabricksView32a8d91) SELECT `lang`,`nb_games` FROM q\"\"\"))\n    else:\n        displayHTML(\"dataframe no longer exists. If you're using dataframe.display(), use display(dataframe) instead.\")\n\n\nfinally:\n    spark.sql(\"drop view if exists DatabricksView32a8d91\")\n    display = __backend_agg_display_orig\n    del __backend_agg_display_new\n    del __backend_agg_display_orig\n    del __backend_agg_dfs\n    del __backend_agg_user_code_fn\n\n",
       "commandTitle": "Visualisation du nombre de jeux par langue",
       "commandType": "auto",
       "commandVersion": 0,
       "commentThread": [],
       "commentsVisible": false,
       "contentSha256Hex": null,
       "customPlotOptions": {
        "redashChart": [
         {
          "key": "type",
          "value": "CHART"
         },
         {
          "key": "options",
          "value": {
           "alignYAxesAtZero": true,
           "coefficient": 1,
           "columnConfigurationMap": {
            "x": {
             "column": "lang",
             "id": "column_9f541f27484"
            },
            "y": [
             {
              "column": "nb_games",
              "id": "column_9f541f27485"
             }
            ]
           },
           "dateTimeFormat": "DD/MM/YYYY HH:mm",
           "direction": {
            "type": "counterclockwise"
           },
           "error_y": {
            "type": "data",
            "visible": true
           },
           "globalSeriesType": "column",
           "isAggregationOn": false,
           "legend": {
            "traceorder": "normal"
           },
           "missingValuesAsZero": true,
           "numberFormat": "0,0.[00000]",
           "percentFormat": "0[.]00%",
           "series": {
            "error_y": {
             "type": "data",
             "visible": true
            },
            "stacking": null
           },
           "seriesOptions": {
            "nb_games": {
             "color": "#50F5ED",
             "name": "nb_games",
             "type": "column",
             "yAxis": 0
            }
           },
           "showDataLabels": false,
           "sizemode": "diameter",
           "sortX": false,
           "sortY": true,
           "swappedAxes": true,
           "textFormat": "",
           "useAggregationsUi": true,
           "valuesOptions": {},
           "version": 2,
           "xAxis": {
            "labels": {
             "enabled": true
            },
            "title": {
             "text": "Langage"
            },
            "type": "-"
           },
           "yAxis": [
            {
             "title": {
              "text": "Nombre de jeux"
             },
             "type": "-"
            },
            {
             "opposite": true,
             "type": "-"
            }
           ]
          }
         }
        ]
       },
       "datasetPreviewNameToCmdIdMap": {},
       "diffDeletes": [],
       "diffInserts": [],
       "displayType": "redashChart",
       "error": null,
       "errorDetails": null,
       "errorSummary": null,
       "errorTraceType": null,
       "finishTime": 0,
       "globalVars": {},
       "guid": "",
       "height": "auto",
       "hideCommandCode": false,
       "hideCommandResult": false,
       "iPythonMetadata": null,
       "inputWidgets": {},
       "isLockedInExamMode": false,
       "latestUser": "a user",
       "latestUserId": null,
       "listResultMetadata": null,
       "metadata": {
        "byteLimit": 2048000,
        "rowLimit": 10000
       },
       "nuid": "a992579e-6870-422a-8b56-315562202aa3",
       "origId": 0,
       "parentHierarchy": [],
       "pivotAggregation": null,
       "pivotColumns": null,
       "position": 22.489283561706543,
       "resultDbfsErrorMessage": null,
       "resultDbfsStatus": "INLINED_IN_TREE",
       "results": null,
       "showCommandTitle": false,
       "startTime": 0,
       "state": "input",
       "streamStates": {},
       "subcommandOptions": {
        "queryPlan": {
         "selects": [
          {
           "column": "lang",
           "type": "column"
          },
          {
           "column": "nb_games",
           "type": "column"
          }
         ]
        }
       },
       "submitTime": 0,
       "subtype": "tableResultSubCmd.visualization",
       "tableResultIndex": 0,
       "tableResultSettingsMap": {},
       "useConsistentColors": false,
       "version": "CommandV1",
       "width": "auto",
       "workflows": [],
       "xColumns": null,
       "yColumns": null
      }
     },
     "output_type": "display_data"
    }
   ],
   "source": [
    "display(df_steam_languages_exploded.groupBy(\"lang\").agg(F.countDistinct(\"appid\").alias(\"nb_games\")).orderBy(F.desc(\"nb_games\")).limit(10).toPandas())"
   ]
  },
  {
   "cell_type": "markdown",
   "metadata": {
    "application/vnd.databricks.v1+cell": {
     "cellMetadata": {
      "byteLimit": 2048000,
      "rowLimit": 10000
     },
     "inputWidgets": {},
     "nuid": "5e9bd628-7b41-4cda-a92b-3766ba37b538",
     "showTitle": false,
     "tableResultSettingsMap": {},
     "title": ""
    }
   },
   "source": [
    "La **langue anglaise** domine largement la plateforme, avec 53 917 jeux disponibles.\n",
    "\n",
    "Elle est suivie par l’allemand et le français, avec respectivement 13 352 et 12 752 jeux."
   ]
  },
  {
   "cell_type": "markdown",
   "metadata": {
    "application/vnd.databricks.v1+cell": {
     "cellMetadata": {
      "byteLimit": 2048000,
      "rowLimit": 10000
     },
     "inputWidgets": {},
     "nuid": "713e8bc1-6da4-4969-8d32-910a2673a61c",
     "showTitle": false,
     "tableResultSettingsMap": {},
     "title": ""
    }
   },
   "source": [
    "---"
   ]
  },
  {
   "cell_type": "markdown",
   "metadata": {
    "application/vnd.databricks.v1+cell": {
     "cellMetadata": {
      "byteLimit": 2048000,
      "rowLimit": 10000
     },
     "inputWidgets": {},
     "nuid": "e81b2528-22eb-4760-bee6-5bc1dc88c564",
     "showTitle": false,
     "tableResultSettingsMap": {},
     "title": ""
    }
   },
   "source": [
    "Y a-t-il beaucoup de jeux interdit aux enfants de moins de 16/18 ans ?"
   ]
  },
  {
   "cell_type": "markdown",
   "metadata": {
    "application/vnd.databricks.v1+cell": {
     "cellMetadata": {
      "byteLimit": 2048000,
      "rowLimit": 10000
     },
     "inputWidgets": {},
     "nuid": "658d05fe-6c9a-42e0-b746-a61a51beb30d",
     "showTitle": false,
     "tableResultSettingsMap": {},
     "title": ""
    }
   },
   "source": [
    "Je compte le nombre de jeux par âge requis."
   ]
  },
  {
   "cell_type": "code",
   "execution_count": 0,
   "metadata": {
    "application/vnd.databricks.v1+cell": {
     "cellMetadata": {
      "byteLimit": 2048000,
      "rowLimit": 10000
     },
     "inputWidgets": {},
     "nuid": "3709bdfd-a9b5-42a3-a64c-0f39ce3352fe",
     "showTitle": false,
     "tableResultSettingsMap": {},
     "title": ""
    }
   },
   "outputs": [
    {
     "output_type": "display_data",
     "data": {
      "text/html": [
       "<div>\n",
       "<style scoped>\n",
       "    .dataframe tbody tr th:only-of-type {\n",
       "        vertical-align: middle;\n",
       "    }\n",
       "\n",
       "    .dataframe tbody tr th {\n",
       "        vertical-align: top;\n",
       "    }\n",
       "\n",
       "    .dataframe thead th {\n",
       "        text-align: right;\n",
       "    }\n",
       "</style>\n",
       "<table border=\"1\" class=\"dataframe\">\n",
       "  <thead>\n",
       "    <tr style=\"text-align: right;\">\n",
       "      <th></th>\n",
       "      <th>required_age</th>\n",
       "      <th>nb_games</th>\n",
       "    </tr>\n",
       "  </thead>\n",
       "  <tbody>\n",
       "    <tr>\n",
       "      <th>0</th>\n",
       "      <td>0</td>\n",
       "      <td>53919</td>\n",
       "    </tr>\n",
       "    <tr>\n",
       "      <th>1</th>\n",
       "      <td>15</td>\n",
       "      <td>210</td>\n",
       "    </tr>\n",
       "    <tr>\n",
       "      <th>2</th>\n",
       "      <td>18</td>\n",
       "      <td>188</td>\n",
       "    </tr>\n",
       "    <tr>\n",
       "      <th>3</th>\n",
       "      <td>16</td>\n",
       "      <td>37</td>\n",
       "    </tr>\n",
       "    <tr>\n",
       "      <th>4</th>\n",
       "      <td>17</td>\n",
       "      <td>34</td>\n",
       "    </tr>\n",
       "    <tr>\n",
       "      <th>5</th>\n",
       "      <td>12</td>\n",
       "      <td>31</td>\n",
       "    </tr>\n",
       "    <tr>\n",
       "      <th>6</th>\n",
       "      <td>13</td>\n",
       "      <td>25</td>\n",
       "    </tr>\n",
       "    <tr>\n",
       "      <th>7</th>\n",
       "      <td>14</td>\n",
       "      <td>8</td>\n",
       "    </tr>\n",
       "    <tr>\n",
       "      <th>8</th>\n",
       "      <td>10</td>\n",
       "      <td>6</td>\n",
       "    </tr>\n",
       "    <tr>\n",
       "      <th>9</th>\n",
       "      <td>7</td>\n",
       "      <td>3</td>\n",
       "    </tr>\n",
       "    <tr>\n",
       "      <th>10</th>\n",
       "      <td>3</td>\n",
       "      <td>3</td>\n",
       "    </tr>\n",
       "    <tr>\n",
       "      <th>11</th>\n",
       "      <td>8</td>\n",
       "      <td>3</td>\n",
       "    </tr>\n",
       "    <tr>\n",
       "      <th>12</th>\n",
       "      <td>6</td>\n",
       "      <td>2</td>\n",
       "    </tr>\n",
       "    <tr>\n",
       "      <th>13</th>\n",
       "      <td>9</td>\n",
       "      <td>1</td>\n",
       "    </tr>\n",
       "    <tr>\n",
       "      <th>14</th>\n",
       "      <td>5</td>\n",
       "      <td>1</td>\n",
       "    </tr>\n",
       "    <tr>\n",
       "      <th>15</th>\n",
       "      <td>35</td>\n",
       "      <td>1</td>\n",
       "    </tr>\n",
       "    <tr>\n",
       "      <th>16</th>\n",
       "      <td>21</td>\n",
       "      <td>1</td>\n",
       "    </tr>\n",
       "    <tr>\n",
       "      <th>17</th>\n",
       "      <td>20</td>\n",
       "      <td>1</td>\n",
       "    </tr>\n",
       "  </tbody>\n",
       "</table>\n",
       "</div>"
      ]
     },
     "metadata": {
      "application/vnd.databricks.v1+output": {
       "addedWidgets": {},
       "arguments": {},
       "data": "<div>\n<style scoped>\n    .dataframe tbody tr th:only-of-type {\n        vertical-align: middle;\n    }\n\n    .dataframe tbody tr th {\n        vertical-align: top;\n    }\n\n    .dataframe thead th {\n        text-align: right;\n    }\n</style>\n<table border=\"1\" class=\"dataframe\">\n  <thead>\n    <tr style=\"text-align: right;\">\n      <th></th>\n      <th>required_age</th>\n      <th>nb_games</th>\n    </tr>\n  </thead>\n  <tbody>\n    <tr>\n      <th>0</th>\n      <td>0</td>\n      <td>53919</td>\n    </tr>\n    <tr>\n      <th>1</th>\n      <td>15</td>\n      <td>210</td>\n    </tr>\n    <tr>\n      <th>2</th>\n      <td>18</td>\n      <td>188</td>\n    </tr>\n    <tr>\n      <th>3</th>\n      <td>16</td>\n      <td>37</td>\n    </tr>\n    <tr>\n      <th>4</th>\n      <td>17</td>\n      <td>34</td>\n    </tr>\n    <tr>\n      <th>5</th>\n      <td>12</td>\n      <td>31</td>\n    </tr>\n    <tr>\n      <th>6</th>\n      <td>13</td>\n      <td>25</td>\n    </tr>\n    <tr>\n      <th>7</th>\n      <td>14</td>\n      <td>8</td>\n    </tr>\n    <tr>\n      <th>8</th>\n      <td>10</td>\n      <td>6</td>\n    </tr>\n    <tr>\n      <th>9</th>\n      <td>7</td>\n      <td>3</td>\n    </tr>\n    <tr>\n      <th>10</th>\n      <td>3</td>\n      <td>3</td>\n    </tr>\n    <tr>\n      <th>11</th>\n      <td>8</td>\n      <td>3</td>\n    </tr>\n    <tr>\n      <th>12</th>\n      <td>6</td>\n      <td>2</td>\n    </tr>\n    <tr>\n      <th>13</th>\n      <td>9</td>\n      <td>1</td>\n    </tr>\n    <tr>\n      <th>14</th>\n      <td>5</td>\n      <td>1</td>\n    </tr>\n    <tr>\n      <th>15</th>\n      <td>35</td>\n      <td>1</td>\n    </tr>\n    <tr>\n      <th>16</th>\n      <td>21</td>\n      <td>1</td>\n    </tr>\n    <tr>\n      <th>17</th>\n      <td>20</td>\n      <td>1</td>\n    </tr>\n  </tbody>\n</table>\n</div>",
       "datasetInfos": [],
       "metadata": {},
       "removedWidgets": [],
       "textData": null,
       "type": "htmlSandbox"
      }
     },
     "output_type": "display_data"
    }
   ],
   "source": [
    "df_steam_flat.groupBy(\"required_age\").agg(F.countDistinct(\"appid\").alias(\"nb_games\")).orderBy(F.desc(\"nb_games\")).toPandas()"
   ]
  },
  {
   "cell_type": "code",
   "execution_count": 0,
   "metadata": {
    "application/vnd.databricks.v1+cell": {
     "cellMetadata": {
      "byteLimit": 2048000,
      "rowLimit": 10000
     },
     "inputWidgets": {},
     "nuid": "85b81c3e-5854-4347-98f7-05c4f81d616d",
     "showTitle": false,
     "tableResultSettingsMap": {},
     "title": ""
    }
   },
   "outputs": [
    {
     "output_type": "display_data",
     "data": {
      "text/html": [
       "<style scoped>\n",
       "  .table-result-container {\n",
       "    max-height: 300px;\n",
       "    overflow: auto;\n",
       "  }\n",
       "  table, th, td {\n",
       "    border: 1px solid black;\n",
       "    border-collapse: collapse;\n",
       "  }\n",
       "  th, td {\n",
       "    padding: 5px;\n",
       "  }\n",
       "  th {\n",
       "    text-align: left;\n",
       "  }\n",
       "</style><div class='table-result-container'><table class='table-result'><thead style='background-color: white'><tr><th>age_category</th><th>count</th></tr></thead><tbody><tr><td>16</td><td>37</td></tr><tr><td>18+</td><td>191</td></tr><tr><td>17</td><td>34</td></tr><tr><td><16</td><td>54212</td></tr></tbody></table></div>"
      ]
     },
     "metadata": {
      "application/vnd.databricks.v1+output": {
       "addedWidgets": {},
       "aggData": [],
       "aggError": "",
       "aggOverflow": false,
       "aggSchema": [],
       "aggSeriesLimitReached": false,
       "aggType": "",
       "arguments": {},
       "columnCustomDisplayInfos": {},
       "data": [
        [
         "16",
         37
        ],
        [
         "18+",
         191
        ],
        [
         "17",
         34
        ],
        [
         "<16",
         54212
        ]
       ],
       "datasetInfos": [],
       "dbfsResultPath": null,
       "isJsonSchema": true,
       "metadata": {},
       "overflow": false,
       "plotOptions": {
        "customPlotOptions": {},
        "displayType": "table",
        "pivotAggregation": null,
        "pivotColumns": null,
        "xColumns": null,
        "yColumns": null
       },
       "removedWidgets": [],
       "schema": [
        {
         "metadata": "{}",
         "name": "age_category",
         "type": "\"string\""
        },
        {
         "metadata": "{}",
         "name": "count",
         "type": "\"long\""
        }
       ],
       "type": "table"
      }
     },
     "output_type": "display_data"
    },
    {
     "output_type": "display_data",
     "data": {
      "text/plain": [
       "Databricks visualization. Run in Databricks to view."
      ]
     },
     "metadata": {
      "application/vnd.databricks.v1.subcommand+json": {
       "baseErrorDetails": null,
       "bindings": {},
       "collapsed": false,
       "command": "%python\n__backend_agg_display_orig = display\n__backend_agg_dfs = []\ndef __backend_agg_display_new(df):\n    __backend_agg_df_modules = [\"pandas.core.frame\", \"databricks.koalas.frame\", \"pyspark.sql.dataframe\", \"pyspark.pandas.frame\", \"pyspark.sql.connect.dataframe\"]\n    if (type(df).__module__ in __backend_agg_df_modules and type(df).__name__ == 'DataFrame') or isinstance(df, list):\n        __backend_agg_dfs.append(df)\n\ndisplay = __backend_agg_display_new\n\ndef __backend_agg_user_code_fn():\n    import base64\n    exec(base64.standard_b64decode(\"ZGlzcGxheShkZl9zdGVhbV9mbGF0LndpdGhDb2x1bW4oCiAgICAiYWdlX2NhdGVnb3J5IiwKICAgIEYud2hlbihGLmNvbCgicmVxdWlyZWRfYWdlIikgPj0gMTgsICIxOCsiKQogICAgIC53aGVuKEYuY29sKCJyZXF1aXJlZF9hZ2UiKSA+PSAxNywgIjE3IikKICAgICAud2hlbihGLmNvbCgicmVxdWlyZWRfYWdlIikgPj0gMTYsICIxNiIpCiAgICAgLm90aGVyd2lzZSgiPDE2IikKKS5ncm91cEJ5KCJhZ2VfY2F0ZWdvcnkiKS5jb3VudCgpKQ==\").decode())\n\ntry:\n    # run user code\n    __backend_agg_user_code_fn()\n\n    #reset display function\n    display = __backend_agg_display_orig\n\n    if len(__backend_agg_dfs) > 0:\n        # create a temp view\n        if type(__backend_agg_dfs[0]).__module__ == \"databricks.koalas.frame\":\n            # koalas dataframe\n            __backend_agg_dfs[0].to_spark().createOrReplaceTempView(\"DatabricksView60273f2\")\n        elif type(__backend_agg_dfs[0]).__module__ == \"pandas.core.frame\" or isinstance(__backend_agg_dfs[0], list):\n            # pandas dataframe\n            spark.createDataFrame(__backend_agg_dfs[0]).createOrReplaceTempView(\"DatabricksView60273f2\")\n        else:\n            __backend_agg_dfs[0].createOrReplaceTempView(\"DatabricksView60273f2\")\n        #run backend agg\n        display(spark.sql(\"\"\"WITH q AS (select * from DatabricksView60273f2) SELECT `age_category`,`count` FROM q\"\"\"))\n    else:\n        displayHTML(\"dataframe no longer exists. If you're using dataframe.display(), use display(dataframe) instead.\")\n\n\nfinally:\n    spark.sql(\"drop view if exists DatabricksView60273f2\")\n    display = __backend_agg_display_orig\n    del __backend_agg_display_new\n    del __backend_agg_display_orig\n    del __backend_agg_dfs\n    del __backend_agg_user_code_fn\n\n",
       "commandTitle": "Visualisation du nombre de jeux par âge minimum requis",
       "commandType": "auto",
       "commandVersion": 0,
       "commentThread": [],
       "commentsVisible": false,
       "contentSha256Hex": null,
       "customPlotOptions": {
        "redashChart": [
         {
          "key": "type",
          "value": "CHART"
         },
         {
          "key": "options",
          "value": {
           "alignYAxesAtZero": true,
           "coefficient": 1,
           "columnConfigurationMap": {
            "x": {
             "column": "age_category",
             "id": "column_9f541f27497"
            },
            "y": [
             {
              "column": "count",
              "id": "column_9f541f27500"
             }
            ]
           },
           "dateTimeFormat": "DD/MM/YYYY HH:mm",
           "direction": {
            "type": "counterclockwise"
           },
           "error_y": {
            "type": "data",
            "visible": true
           },
           "globalSeriesType": "column",
           "isAggregationOn": false,
           "legend": {
            "traceorder": "normal"
           },
           "missingValuesAsZero": true,
           "numBins": 10,
           "numberFormat": "0,0.[00000]",
           "percentFormat": "0[.]00%",
           "reverseX": false,
           "series": {
            "error_y": {
             "type": "data",
             "visible": true
            },
            "percentValues": false,
            "stacking": null
           },
           "seriesOptions": {
            "count": {
             "color": "#50F5ED",
             "type": "column",
             "yAxis": 0
            }
           },
           "showDataLabels": false,
           "sizemode": "diameter",
           "sortX": true,
           "sortY": true,
           "swappedAxes": false,
           "textFormat": "",
           "useAggregationsUi": true,
           "valuesOptions": {},
           "version": 2,
           "xAxis": {
            "labels": {
             "enabled": true
            },
            "title": {
             "text": "Age"
            },
            "type": "-"
           },
           "yAxis": [
            {
             "title": {
              "text": "Nombre de jeux"
             },
             "type": "-"
            },
            {
             "opposite": true,
             "type": "-"
            }
           ]
          }
         }
        ]
       },
       "datasetPreviewNameToCmdIdMap": {},
       "diffDeletes": [],
       "diffInserts": [],
       "displayType": "redashChart",
       "error": null,
       "errorDetails": null,
       "errorSummary": null,
       "errorTraceType": null,
       "finishTime": 0,
       "globalVars": {},
       "guid": "",
       "height": "auto",
       "hideCommandCode": false,
       "hideCommandResult": false,
       "iPythonMetadata": null,
       "inputWidgets": {},
       "isLockedInExamMode": false,
       "latestUser": "a user",
       "latestUserId": null,
       "listResultMetadata": null,
       "metadata": {
        "byteLimit": 2048000,
        "rowLimit": 10000
       },
       "nuid": "e4d8d4c7-df4d-4d69-981b-e04af6218e34",
       "origId": 0,
       "parentHierarchy": [],
       "pivotAggregation": null,
       "pivotColumns": null,
       "position": 23.364283561706543,
       "resultDbfsErrorMessage": null,
       "resultDbfsStatus": "INLINED_IN_TREE",
       "results": null,
       "showCommandTitle": false,
       "startTime": 0,
       "state": "finished",
       "streamStates": {},
       "subcommandOptions": {
        "queryPlan": {
         "selects": [
          {
           "column": "age_category",
           "type": "column"
          },
          {
           "column": "count",
           "type": "column"
          }
         ]
        }
       },
       "submitTime": 0,
       "subtype": "tableResultSubCmd.visualization",
       "tableResultIndex": 0,
       "tableResultSettingsMap": {},
       "useConsistentColors": false,
       "version": "CommandV1",
       "width": "auto",
       "workflows": [],
       "xColumns": null,
       "yColumns": null
      }
     },
     "output_type": "display_data"
    }
   ],
   "source": [
    "display(df_steam_flat.withColumn(\n",
    "    \"age_category\",\n",
    "    F.when(F.col(\"required_age\") >= 18, \"18+\")\n",
    "     .when(F.col(\"required_age\") >= 17, \"17\")\n",
    "     .when(F.col(\"required_age\") >= 16, \"16\")\n",
    "     .otherwise(\"<16\")\n",
    ").groupBy(\"age_category\").count())"
   ]
  },
  {
   "cell_type": "markdown",
   "metadata": {
    "application/vnd.databricks.v1+cell": {
     "cellMetadata": {
      "byteLimit": 2048000,
      "rowLimit": 10000
     },
     "inputWidgets": {},
     "nuid": "36fb97d3-95dc-410e-b871-c8f1612d2a1d",
     "showTitle": false,
     "tableResultSettingsMap": {},
     "title": ""
    }
   },
   "source": [
    "Pour plus de visibilité, je ne vais pas afficher les moins de 16 ans"
   ]
  },
  {
   "cell_type": "code",
   "execution_count": 0,
   "metadata": {
    "application/vnd.databricks.v1+cell": {
     "cellMetadata": {
      "byteLimit": 2048000,
      "rowLimit": 10000
     },
     "inputWidgets": {},
     "nuid": "4423b006-1d6f-40c2-a05a-9cbfd7fa7b42",
     "showTitle": false,
     "tableResultSettingsMap": {},
     "title": ""
    }
   },
   "outputs": [
    {
     "output_type": "display_data",
     "data": {
      "text/html": [
       "<style scoped>\n",
       "  .table-result-container {\n",
       "    max-height: 300px;\n",
       "    overflow: auto;\n",
       "  }\n",
       "  table, th, td {\n",
       "    border: 1px solid black;\n",
       "    border-collapse: collapse;\n",
       "  }\n",
       "  th, td {\n",
       "    padding: 5px;\n",
       "  }\n",
       "  th {\n",
       "    text-align: left;\n",
       "  }\n",
       "</style><div class='table-result-container'><table class='table-result'><thead style='background-color: white'><tr><th>age_category</th><th>count</th></tr></thead><tbody><tr><td>16</td><td>37</td></tr><tr><td>18+</td><td>191</td></tr><tr><td>17</td><td>34</td></tr></tbody></table></div>"
      ]
     },
     "metadata": {
      "application/vnd.databricks.v1+output": {
       "addedWidgets": {},
       "aggData": [],
       "aggError": "",
       "aggOverflow": false,
       "aggSchema": [],
       "aggSeriesLimitReached": false,
       "aggType": "",
       "arguments": {},
       "columnCustomDisplayInfos": {},
       "data": [
        [
         "16",
         37
        ],
        [
         "18+",
         191
        ],
        [
         "17",
         34
        ]
       ],
       "datasetInfos": [],
       "dbfsResultPath": null,
       "isJsonSchema": true,
       "metadata": {},
       "overflow": false,
       "plotOptions": {
        "customPlotOptions": {},
        "displayType": "table",
        "pivotAggregation": null,
        "pivotColumns": null,
        "xColumns": null,
        "yColumns": null
       },
       "removedWidgets": [],
       "schema": [
        {
         "metadata": "{}",
         "name": "age_category",
         "type": "\"string\""
        },
        {
         "metadata": "{}",
         "name": "count",
         "type": "\"long\""
        }
       ],
       "type": "table"
      }
     },
     "output_type": "display_data"
    },
    {
     "output_type": "display_data",
     "data": {
      "text/plain": [
       "Databricks visualization. Run in Databricks to view."
      ]
     },
     "metadata": {
      "application/vnd.databricks.v1.subcommand+json": {
       "baseErrorDetails": null,
       "bindings": {},
       "collapsed": false,
       "command": "%python\n__backend_agg_display_orig = display\n__backend_agg_dfs = []\ndef __backend_agg_display_new(df):\n    __backend_agg_df_modules = [\"pandas.core.frame\", \"databricks.koalas.frame\", \"pyspark.sql.dataframe\", \"pyspark.pandas.frame\", \"pyspark.sql.connect.dataframe\"]\n    if (type(df).__module__ in __backend_agg_df_modules and type(df).__name__ == 'DataFrame') or isinstance(df, list):\n        __backend_agg_dfs.append(df)\n\ndisplay = __backend_agg_display_new\n\ndef __backend_agg_user_code_fn():\n    import base64\n    exec(base64.standard_b64decode(\"ZGZfZmlsdGVyZWRfYWdlID0gZGZfc3RlYW1fZmxhdC5maWx0ZXIoRi5jb2woInJlcXVpcmVkX2FnZSIpID49IDE2KQoKZGlzcGxheShkZl9maWx0ZXJlZF9hZ2Uud2l0aENvbHVtbigKICAgICJhZ2VfY2F0ZWdvcnkiLAogICAgRi53aGVuKEYuY29sKCJyZXF1aXJlZF9hZ2UiKSA+PSAxOCwgIjE4KyIpCiAgICAgLndoZW4oRi5jb2woInJlcXVpcmVkX2FnZSIpID49IDE3LCAiMTciKQogICAgIC5vdGhlcndpc2UoIjE2IikKKS5ncm91cEJ5KCJhZ2VfY2F0ZWdvcnkiKS5jb3VudCgpKQ==\").decode())\n\ntry:\n    # run user code\n    __backend_agg_user_code_fn()\n\n    #reset display function\n    display = __backend_agg_display_orig\n\n    if len(__backend_agg_dfs) > 0:\n        # create a temp view\n        if type(__backend_agg_dfs[0]).__module__ == \"databricks.koalas.frame\":\n            # koalas dataframe\n            __backend_agg_dfs[0].to_spark().createOrReplaceTempView(\"DatabricksView81fc559\")\n        elif type(__backend_agg_dfs[0]).__module__ == \"pandas.core.frame\" or isinstance(__backend_agg_dfs[0], list):\n            # pandas dataframe\n            spark.createDataFrame(__backend_agg_dfs[0]).createOrReplaceTempView(\"DatabricksView81fc559\")\n        else:\n            __backend_agg_dfs[0].createOrReplaceTempView(\"DatabricksView81fc559\")\n        #run backend agg\n        display(spark.sql(\"\"\"WITH q AS (select * from DatabricksView81fc559) SELECT `age_category`,`count` FROM q\"\"\"))\n    else:\n        displayHTML(\"dataframe no longer exists. If you're using dataframe.display(), use display(dataframe) instead.\")\n\n\nfinally:\n    spark.sql(\"drop view if exists DatabricksView81fc559\")\n    display = __backend_agg_display_orig\n    del __backend_agg_display_new\n    del __backend_agg_display_orig\n    del __backend_agg_dfs\n    del __backend_agg_user_code_fn\n\n",
       "commandTitle": "Visualisation du nombre de jeux par âge minimum requis",
       "commandType": "auto",
       "commandVersion": 0,
       "commentThread": [],
       "commentsVisible": false,
       "contentSha256Hex": null,
       "customPlotOptions": {
        "redashChart": [
         {
          "key": "type",
          "value": "CHART"
         },
         {
          "key": "options",
          "value": {
           "alignYAxesAtZero": true,
           "coefficient": 1,
           "columnConfigurationMap": {
            "x": {
             "column": "age_category",
             "id": "column_9f541f27511"
            },
            "y": [
             {
              "column": "count",
              "id": "column_9f541f27512"
             }
            ]
           },
           "dateTimeFormat": "DD/MM/YYYY HH:mm",
           "direction": {
            "type": "counterclockwise"
           },
           "error_y": {
            "type": "data",
            "visible": true
           },
           "globalSeriesType": "column",
           "isAggregationOn": false,
           "legend": {
            "traceorder": "normal"
           },
           "missingValuesAsZero": true,
           "numberFormat": "0,0.[00000]",
           "percentFormat": "0[.]00%",
           "series": {
            "error_y": {
             "type": "data",
             "visible": true
            },
            "stacking": null
           },
           "seriesOptions": {
            "count": {
             "color": "#50F5ED",
             "name": "count",
             "type": "column",
             "yAxis": 0
            }
           },
           "showDataLabels": false,
           "sizemode": "diameter",
           "sortX": true,
           "sortY": true,
           "swappedAxes": false,
           "textFormat": "",
           "useAggregationsUi": true,
           "valuesOptions": {},
           "version": 2,
           "xAxis": {
            "labels": {
             "enabled": true
            },
            "title": {
             "text": "Age"
            },
            "type": "-"
           },
           "yAxis": [
            {
             "title": {
              "text": "Nombre de jeux"
             },
             "type": "-"
            },
            {
             "opposite": true,
             "type": "-"
            }
           ]
          }
         }
        ]
       },
       "datasetPreviewNameToCmdIdMap": {},
       "diffDeletes": [],
       "diffInserts": [],
       "displayType": "redashChart",
       "error": null,
       "errorDetails": null,
       "errorSummary": null,
       "errorTraceType": null,
       "finishTime": 0,
       "globalVars": {},
       "guid": "",
       "height": "auto",
       "hideCommandCode": false,
       "hideCommandResult": false,
       "iPythonMetadata": null,
       "inputWidgets": {},
       "isLockedInExamMode": false,
       "latestUser": "a user",
       "latestUserId": null,
       "listResultMetadata": null,
       "metadata": {
        "byteLimit": 2048000,
        "rowLimit": 10000
       },
       "nuid": "6dfe81ee-8022-4106-afe3-a277f353e333",
       "origId": 0,
       "parentHierarchy": [],
       "pivotAggregation": null,
       "pivotColumns": null,
       "position": 23.458033561706543,
       "resultDbfsErrorMessage": null,
       "resultDbfsStatus": "INLINED_IN_TREE",
       "results": null,
       "showCommandTitle": false,
       "startTime": 0,
       "state": "finished",
       "streamStates": {},
       "subcommandOptions": {
        "queryPlan": {
         "selects": [
          {
           "column": "age_category",
           "type": "column"
          },
          {
           "column": "count",
           "type": "column"
          }
         ]
        }
       },
       "submitTime": 0,
       "subtype": "tableResultSubCmd.visualization",
       "tableResultIndex": 0,
       "tableResultSettingsMap": {},
       "useConsistentColors": false,
       "version": "CommandV1",
       "width": "auto",
       "workflows": [],
       "xColumns": null,
       "yColumns": null
      }
     },
     "output_type": "display_data"
    }
   ],
   "source": [
    "df_filtered_age = df_steam_flat.filter(F.col(\"required_age\") >= 16)\n",
    "\n",
    "display(df_filtered_age.withColumn(\n",
    "    \"age_category\",\n",
    "    F.when(F.col(\"required_age\") >= 18, \"18+\")\n",
    "     .when(F.col(\"required_age\") >= 17, \"17\")\n",
    "     .otherwise(\"16\")\n",
    ").groupBy(\"age_category\").count())"
   ]
  },
  {
   "cell_type": "markdown",
   "metadata": {
    "application/vnd.databricks.v1+cell": {
     "cellMetadata": {
      "byteLimit": 2048000,
      "rowLimit": 10000
     },
     "inputWidgets": {},
     "nuid": "213e27ab-5cef-434a-a199-938fa8fbe4b8",
     "showTitle": false,
     "tableResultSettingsMap": {},
     "title": ""
    }
   },
   "source": [
    "Sur l’ensemble des jeux disponibles sur la plateforme (environ 50 000), **très peu sont interdits aux mineurs**.\n",
    "Seuls 37 jeux sont interdits aux moins de 16 ans, 34 aux moins de 17 ans, et 191 aux moins de 18 ans."
   ]
  }
 ],
 "metadata": {
  "application/vnd.databricks.v1+notebook": {
   "computePreferences": null,
   "dashboards": [],
   "environmentMetadata": {
    "base_environment": "",
    "environment_version": "1"
   },
   "inputWidgetPreferences": null,
   "language": "python",
   "notebookMetadata": {
    "pythonIndentUnit": 4
   },
   "notebookName": "03_Steam_Analyse_Macro",
   "widgets": {}
  }
 },
 "nbformat": 4,
 "nbformat_minor": 0
}