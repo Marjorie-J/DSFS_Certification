{
 "cells": [
  {
   "cell_type": "markdown",
   "metadata": {},
   "source": [
    "# 1. Lecture CSV"
   ]
  },
  {
   "cell_type": "code",
   "execution_count": 1,
   "metadata": {},
   "outputs": [],
   "source": [
    "import pandas as pd\n",
    "from sklearn.model_selection import train_test_split\n",
    "from sklearn.pipeline import Pipeline\n",
    "from sklearn.impute import SimpleImputer\n",
    "from sklearn.preprocessing import  OneHotEncoder, StandardScaler\n",
    "from sklearn.compose import ColumnTransformer\n",
    "from sklearn.linear_model import LinearRegression, Ridge, Lasso\n",
    "from sklearn.model_selection import cross_val_score, GridSearchCV"
   ]
  },
  {
   "cell_type": "code",
   "execution_count": 2,
   "metadata": {},
   "outputs": [
    {
     "data": {
      "text/html": [
       "<div>\n",
       "<style scoped>\n",
       "    .dataframe tbody tr th:only-of-type {\n",
       "        vertical-align: middle;\n",
       "    }\n",
       "\n",
       "    .dataframe tbody tr th {\n",
       "        vertical-align: top;\n",
       "    }\n",
       "\n",
       "    .dataframe thead th {\n",
       "        text-align: right;\n",
       "    }\n",
       "</style>\n",
       "<table border=\"1\" class=\"dataframe\">\n",
       "  <thead>\n",
       "    <tr style=\"text-align: right;\">\n",
       "      <th></th>\n",
       "      <th>Store</th>\n",
       "      <th>Weekly_Sales</th>\n",
       "      <th>Holiday_Flag</th>\n",
       "      <th>Temperature</th>\n",
       "      <th>Fuel_Price</th>\n",
       "      <th>CPI</th>\n",
       "      <th>Unemployment</th>\n",
       "      <th>Year</th>\n",
       "      <th>Month</th>\n",
       "      <th>Day</th>\n",
       "    </tr>\n",
       "  </thead>\n",
       "  <tbody>\n",
       "    <tr>\n",
       "      <th>0</th>\n",
       "      <td>6</td>\n",
       "      <td>1572117.54</td>\n",
       "      <td>0</td>\n",
       "      <td>59.61</td>\n",
       "      <td>3.045</td>\n",
       "      <td>214.777523</td>\n",
       "      <td>6.858</td>\n",
       "      <td>2011.0</td>\n",
       "      <td>2.0</td>\n",
       "      <td>18.0</td>\n",
       "    </tr>\n",
       "    <tr>\n",
       "      <th>1</th>\n",
       "      <td>13</td>\n",
       "      <td>1807545.43</td>\n",
       "      <td>0</td>\n",
       "      <td>42.38</td>\n",
       "      <td>3.435</td>\n",
       "      <td>128.616064</td>\n",
       "      <td>7.470</td>\n",
       "      <td>2011.0</td>\n",
       "      <td>3.0</td>\n",
       "      <td>25.0</td>\n",
       "    </tr>\n",
       "    <tr>\n",
       "      <th>2</th>\n",
       "      <td>11</td>\n",
       "      <td>1244390.03</td>\n",
       "      <td>0</td>\n",
       "      <td>84.57</td>\n",
       "      <td>NaN</td>\n",
       "      <td>214.556497</td>\n",
       "      <td>7.346</td>\n",
       "      <td>NaN</td>\n",
       "      <td>NaN</td>\n",
       "      <td>NaN</td>\n",
       "    </tr>\n",
       "    <tr>\n",
       "      <th>3</th>\n",
       "      <td>6</td>\n",
       "      <td>1644470.66</td>\n",
       "      <td>0</td>\n",
       "      <td>78.89</td>\n",
       "      <td>2.759</td>\n",
       "      <td>212.412888</td>\n",
       "      <td>7.092</td>\n",
       "      <td>2010.0</td>\n",
       "      <td>5.0</td>\n",
       "      <td>28.0</td>\n",
       "    </tr>\n",
       "    <tr>\n",
       "      <th>4</th>\n",
       "      <td>4</td>\n",
       "      <td>1857533.70</td>\n",
       "      <td>0</td>\n",
       "      <td>NaN</td>\n",
       "      <td>2.756</td>\n",
       "      <td>126.160226</td>\n",
       "      <td>7.896</td>\n",
       "      <td>2010.0</td>\n",
       "      <td>5.0</td>\n",
       "      <td>28.0</td>\n",
       "    </tr>\n",
       "  </tbody>\n",
       "</table>\n",
       "</div>"
      ],
      "text/plain": [
       "   Store  Weekly_Sales  Holiday_Flag  Temperature  Fuel_Price         CPI  \\\n",
       "0      6    1572117.54             0        59.61       3.045  214.777523   \n",
       "1     13    1807545.43             0        42.38       3.435  128.616064   \n",
       "2     11    1244390.03             0        84.57         NaN  214.556497   \n",
       "3      6    1644470.66             0        78.89       2.759  212.412888   \n",
       "4      4    1857533.70             0          NaN       2.756  126.160226   \n",
       "\n",
       "   Unemployment    Year  Month   Day  \n",
       "0         6.858  2011.0    2.0  18.0  \n",
       "1         7.470  2011.0    3.0  25.0  \n",
       "2         7.346     NaN    NaN   NaN  \n",
       "3         7.092  2010.0    5.0  28.0  \n",
       "4         7.896  2010.0    5.0  28.0  "
      ]
     },
     "execution_count": 2,
     "metadata": {},
     "output_type": "execute_result"
    }
   ],
   "source": [
    "df = pd.read_csv(\"../datas/Walmart_Store_sales_clean.csv\")\n",
    "df.head()"
   ]
  },
  {
   "cell_type": "markdown",
   "metadata": {},
   "source": [
    "---"
   ]
  },
  {
   "cell_type": "markdown",
   "metadata": {},
   "source": [
    "# 2. Fight overfitting"
   ]
  },
  {
   "cell_type": "markdown",
   "metadata": {},
   "source": [
    "## 2.1 Découpage stratifié des données"
   ]
  },
  {
   "cell_type": "markdown",
   "metadata": {},
   "source": [
    "Nous avons vu, d'après les coefficients de regression, que la variable qui a le plus d'influence sur la valeur cible est `Store`. \n",
    "\n",
    "Je vais donc, dans un premier temps, m'assurer que la proportion des différents magasins reste la même dans la répartition des jeux de données."
   ]
  },
  {
   "cell_type": "code",
   "execution_count": 3,
   "metadata": {},
   "outputs": [
    {
     "name": "stdout",
     "output_type": "stream",
     "text": [
      "<bound method NDFrame.head of      Store  Holiday_Flag  Temperature  Fuel_Price         CPI  Unemployment  \\\n",
      "0        6             0        59.61       3.045  214.777523         6.858   \n",
      "1       13             0        42.38       3.435  128.616064         7.470   \n",
      "2       11             0        84.57         NaN  214.556497         7.346   \n",
      "3        6             0        78.89       2.759  212.412888         7.092   \n",
      "4        4             0          NaN       2.756  126.160226         7.896   \n",
      "..     ...           ...          ...         ...         ...           ...   \n",
      "126     14             0        72.62       2.780  182.442420         8.899   \n",
      "127      7             0        20.74       2.778         NaN           NaN   \n",
      "128     17             0        57.14       2.841  126.111903           NaN   \n",
      "129      8             0        86.05       3.638  219.007525           NaN   \n",
      "130     19             0        55.20       4.170  137.923067         8.150   \n",
      "\n",
      "       Year  Month   Day  \n",
      "0    2011.0    2.0  18.0  \n",
      "1    2011.0    3.0  25.0  \n",
      "2       NaN    NaN   NaN  \n",
      "3    2010.0    5.0  28.0  \n",
      "4    2010.0    5.0  28.0  \n",
      "..      ...    ...   ...  \n",
      "126  2010.0    6.0  18.0  \n",
      "127     NaN    NaN   NaN  \n",
      "128  2010.0    6.0  11.0  \n",
      "129  2011.0    8.0  12.0  \n",
      "130  2012.0    4.0  20.0  \n",
      "\n",
      "[131 rows x 9 columns]>\n",
      "0      1572117.54\n",
      "1      1807545.43\n",
      "2      1244390.03\n",
      "3      1644470.66\n",
      "4      1857533.70\n",
      "          ...    \n",
      "126    2248645.59\n",
      "127     716388.81\n",
      "128     845252.21\n",
      "129     856796.10\n",
      "130    1255087.26\n",
      "Name: Weekly_Sales, Length: 131, dtype: float64\n"
     ]
    }
   ],
   "source": [
    "target = \"Weekly_Sales\"\n",
    "\n",
    "x = df.drop(target, axis=1)\n",
    "y = df[target]\n",
    "\n",
    "print(x.head)\n",
    "print(y)"
   ]
  },
  {
   "cell_type": "markdown",
   "metadata": {},
   "source": [
    "Je stratifie sur le Magasin"
   ]
  },
  {
   "cell_type": "code",
   "execution_count": 4,
   "metadata": {},
   "outputs": [],
   "source": [
    "x_train, x_test, y_train, y_test = train_test_split(x, y, test_size=0.2, random_state=42, stratify=x[\"Store\"])"
   ]
  },
  {
   "cell_type": "code",
   "execution_count": 5,
   "metadata": {},
   "outputs": [],
   "source": [
    "numerical_columns = [\"Temperature\", \"Fuel_Price\", \"CPI\", \"Unemployment\", \"Year\", \"Month\", \"Day\"]\n",
    "categorical_columns = [\"Store\", \"Holiday_Flag\"]\n",
    "\n",
    "numeric_transformer = Pipeline(steps=[\n",
    "    (\"imputer\", SimpleImputer(strategy=\"mean\")),\n",
    "    (\"scaler\", StandardScaler())\n",
    "])\n",
    "\n",
    "categorical_transformer = Pipeline(\n",
    "    steps=[\n",
    "    (\"encoder\", OneHotEncoder(drop=\"first\", handle_unknown=\"ignore\"))\n",
    "    ])\n",
    "\n",
    "preprocessor = ColumnTransformer(\n",
    "    transformers=[\n",
    "        (\"num\", numeric_transformer, numerical_columns),\n",
    "        (\"cat\", categorical_transformer, categorical_columns)\n",
    "    ])\n",
    "\n",
    "x_train = preprocessor.fit_transform(x_train)\n",
    "x_test = preprocessor.transform(x_test) "
   ]
  },
  {
   "cell_type": "code",
   "execution_count": 6,
   "metadata": {},
   "outputs": [
    {
     "name": "stdout",
     "output_type": "stream",
     "text": [
      "R2 score training : 0.9720924485232406\n",
      "R2 score test : 0.9514792505670808\n"
     ]
    }
   ],
   "source": [
    "lr = LinearRegression()\n",
    "lr.fit(x_train, y_train)\n",
    "\n",
    "# Dans un modèle de régression linéaire, on utilise le score R2. Ce score analyse dans quelle mesure les prédictions sont proches des valeurs réelles.\n",
    "print(\"R2 score training :\", lr.score(x_train, y_train))\n",
    "print(\"R2 score test :\",  lr.score(x_test, y_test))"
   ]
  },
  {
   "cell_type": "markdown",
   "metadata": {},
   "source": [
    "La stratification a aidé à obtenir un score de test beaucoup plus proche du score d'entraînement. On observe moins d’overfitting."
   ]
  },
  {
   "cell_type": "code",
   "execution_count": 7,
   "metadata": {},
   "outputs": [
    {
     "name": "stdout",
     "output_type": "stream",
     "text": [
      "The cross-validated R2-score is :  0.936963848548281\n",
      "The standard deviation is :  0.034551806447655375\n"
     ]
    }
   ],
   "source": [
    "scores = cross_val_score(lr, x_train, y_train, cv = 10)\n",
    "\n",
    "print(\"The cross-validated R2-score is : \", scores.mean())\n",
    "print(\"The standard deviation is : \", scores.std())"
   ]
  },
  {
   "cell_type": "markdown",
   "metadata": {},
   "source": [
    "Le score moyen (0.93) se rapproche du score sur le test stratifié (0.95), ce qui confirme la bonne généralisation du modèle.\n",
    "\n",
    "L’écart-type est faible (0.03), ça veut dire que la performance du modèle est stable sur les différentes partitions de jeux d'entraînement pendant la validation croisée."
   ]
  },
  {
   "cell_type": "markdown",
   "metadata": {},
   "source": [
    "---"
   ]
  },
  {
   "cell_type": "markdown",
   "metadata": {},
   "source": [
    "Sauvegarde des résultats dans un Dataframe"
   ]
  },
  {
   "cell_type": "code",
   "execution_count": 8,
   "metadata": {},
   "outputs": [
    {
     "name": "stderr",
     "output_type": "stream",
     "text": [
      "/tmp/ipykernel_1901/2616532116.py:3: FutureWarning: The behavior of DataFrame concatenation with empty or all-NA entries is deprecated. In a future version, this will no longer exclude empty or all-NA columns when determining the result dtypes. To retain the old behavior, exclude the relevant entries before the concat operation.\n",
      "  scores_df = pd.concat([scores_df, pd.DataFrame(new_rows)], ignore_index=True)\n"
     ]
    }
   ],
   "source": [
    "scores_df = pd.DataFrame(columns = [\"model\", \"R2\"])\n",
    "new_rows = [{\"model\": \"baseline_stratify\", \"R2\": lr.score(x_test, y_test)}]\n",
    "scores_df = pd.concat([scores_df, pd.DataFrame(new_rows)], ignore_index=True)\n",
    "scores_df.to_csv(\"../datas/Walmart_Scores.csv\", mode=\"a\", header=False, index=False)"
   ]
  },
  {
   "cell_type": "markdown",
   "metadata": {},
   "source": [
    "---"
   ]
  },
  {
   "cell_type": "markdown",
   "metadata": {},
   "source": [
    "## 2.2 Ridge et Lasso"
   ]
  },
  {
   "cell_type": "markdown",
   "metadata": {},
   "source": [
    "Ridge et Lasso sont des techniques de régularisation qui ajoutent une pénalité aux coefficients d'un modèle de régression linéaire, afin d'éviter le surapprentissage (overfitting)."
   ]
  },
  {
   "cell_type": "markdown",
   "metadata": {},
   "source": [
    "#### Ridge"
   ]
  },
  {
   "cell_type": "code",
   "execution_count": 9,
   "metadata": {},
   "outputs": [
    {
     "name": "stdout",
     "output_type": "stream",
     "text": [
      "R2 score training : 0.9334419096463248\n",
      "R2 score test : 0.8907935192529417\n"
     ]
    }
   ],
   "source": [
    "ridge = Ridge()\n",
    "ridge.fit(x_train, y_train)\n",
    "\n",
    "# Dans un modèle de régression linéaire, on utilise le score R2. Ce score analyse dans quelle mesure les prédictions sont proches des valeurs réelles.\n",
    "print(\"R2 score training :\", ridge.score(x_train, y_train))\n",
    "print(\"R2 score test :\",  ridge.score(x_test, y_test))"
   ]
  },
  {
   "cell_type": "code",
   "execution_count": 10,
   "metadata": {},
   "outputs": [
    {
     "name": "stdout",
     "output_type": "stream",
     "text": [
      "The cross-validated R2-score is :  0.8606127835985309\n",
      "The standard deviation is :  0.04322351203557292\n"
     ]
    }
   ],
   "source": [
    "scores = cross_val_score(ridge, x_train, y_train, cv = 10)\n",
    "\n",
    "print(\"The cross-validated R2-score is : \", scores.mean())\n",
    "print(\"The standard deviation is : \", scores.std())"
   ]
  },
  {
   "cell_type": "markdown",
   "metadata": {},
   "source": [
    "Avec Ridge :\n",
    "- Le score sur le set d’entraînement diminue par rapport au modèle de base, ce qui indique une réduction de l’overfitting. Cependant, un surapprentissage persiste, avec un écart d’environ 0.04 entre les scores d’entraînement et de test. L'overfitting est donc réduit mais moins qu'avec le modèle de régression linéaire stratifié.\n",
    "- Le score moyen obtenu par validation croisée se rapproche du score de test, ce qui renforce la fiabilité du modèle. Toutefois, ce score reste relativement bas."
   ]
  },
  {
   "cell_type": "markdown",
   "metadata": {},
   "source": [
    "#### Lasso"
   ]
  },
  {
   "cell_type": "code",
   "execution_count": 11,
   "metadata": {},
   "outputs": [
    {
     "name": "stdout",
     "output_type": "stream",
     "text": [
      "R2 score training : 0.9720924457440111\n",
      "R2 score test : 0.9514777614582287\n"
     ]
    }
   ],
   "source": [
    "lasso = Lasso()\n",
    "lasso.fit(x_train, y_train)\n",
    "\n",
    "# Dans un modèle de régression linéaire, on utilise le score R2. Ce score analyse dans quelle mesure les prédictions sont proches des valeurs réelles.\n",
    "print(\"R2 score training :\", lasso.score(x_train, y_train))\n",
    "print(\"R2 score test :\",  lasso.score(x_test, y_test))"
   ]
  },
  {
   "cell_type": "code",
   "execution_count": 12,
   "metadata": {},
   "outputs": [
    {
     "name": "stdout",
     "output_type": "stream",
     "text": [
      "The cross-validated R2-score is :  0.9369724491943223\n",
      "The standard deviation is :  0.03454459556999177\n"
     ]
    }
   ],
   "source": [
    "scores = cross_val_score(lasso, x_train, y_train, cv = 10)\n",
    "\n",
    "print(\"The cross-validated R2-score is : \", scores.mean())\n",
    "print(\"The standard deviation is : \", scores.std())"
   ]
  },
  {
   "cell_type": "markdown",
   "metadata": {},
   "source": [
    "Avec Lasso :\n",
    "- Les scores d'entraînement et de test sont proches, ce qui indique une diminution de l’overfitting.\n",
    "- Le score moyen en validation croisée est également proche du score de test, avec une faible variance (0.03), ce qui reflète une bonne stabilité du modèle.\n",
    "\n",
    "Ces résultats étant très proches de ceux obtenus avec la régression linéaire stratifiée, l’intérêt d’utiliser une technique de régularisation comme Lasso reste limité dans ce cas."
   ]
  },
  {
   "cell_type": "markdown",
   "metadata": {},
   "source": [
    "---"
   ]
  },
  {
   "cell_type": "markdown",
   "metadata": {},
   "source": [
    "Sauvegarde des résultats dans un dataframe"
   ]
  },
  {
   "cell_type": "code",
   "execution_count": 13,
   "metadata": {},
   "outputs": [
    {
     "name": "stderr",
     "output_type": "stream",
     "text": [
      "/tmp/ipykernel_1901/1424266185.py:4: FutureWarning: The behavior of DataFrame concatenation with empty or all-NA entries is deprecated. In a future version, this will no longer exclude empty or all-NA columns when determining the result dtypes. To retain the old behavior, exclude the relevant entries before the concat operation.\n",
      "  scores_df = pd.concat([scores_df, pd.DataFrame(new_rows)], ignore_index=True)\n"
     ]
    }
   ],
   "source": [
    "scores_df = pd.DataFrame(columns = [\"model\", \"R2\"])\n",
    "new_rows = [{\"model\": \"ridge\", \"R2\": ridge.score(x_test, y_test)},\n",
    "            {\"model\": \"lasso\", \"R2\": lasso.score(x_test, y_test)}]\n",
    "scores_df = pd.concat([scores_df, pd.DataFrame(new_rows)], ignore_index=True)\n",
    "scores_df.to_csv(\"../datas/Walmart_Scores.csv\", mode=\"a\", header=False, index=False)"
   ]
  },
  {
   "cell_type": "markdown",
   "metadata": {},
   "source": [
    "---"
   ]
  },
  {
   "cell_type": "markdown",
   "metadata": {},
   "source": [
    "## 2.3 Bonus : Hyperparamètres"
   ]
  },
  {
   "cell_type": "markdown",
   "metadata": {},
   "source": [
    "Pour chacune de ces techniques de régularisation, il faut trouver le paramètre optimum"
   ]
  },
  {
   "cell_type": "code",
   "execution_count": 14,
   "metadata": {},
   "outputs": [
    {
     "name": "stdout",
     "output_type": "stream",
     "text": [
      "Best hyperparameters :  {'alpha': 0.01}\n",
      "Best R2 score :  0.9489277603372974\n"
     ]
    }
   ],
   "source": [
    "# Je teste plusieurs alpha pour Ridge\n",
    "regressor = Ridge()\n",
    "params = {\"alpha\": [0.001, 0.005, 0.01, 0.05, 0.1, 0.5]}\n",
    "\n",
    "best_ridge = GridSearchCV(regressor, param_grid=params, cv=5)\n",
    "best_ridge.fit(x_train, y_train)\n",
    "print(\"Best hyperparameters : \", best_ridge.best_params_)\n",
    "print(\"Best R2 score : \", best_ridge.best_score_)"
   ]
  },
  {
   "cell_type": "code",
   "execution_count": 15,
   "metadata": {},
   "outputs": [
    {
     "name": "stdout",
     "output_type": "stream",
     "text": [
      "Best hyperparameters :  {'alpha': 0.5}\n",
      "Best R2 score :  0.9485252395495568\n"
     ]
    }
   ],
   "source": [
    "# Idem pour Lasso\n",
    "regressor = Lasso(max_iter=2000)\n",
    "params = {\"alpha\": [0.001, 0.005, 0.01, 0.05, 0.1, 0.5]}\n",
    "\n",
    "best_lasso = GridSearchCV(regressor, param_grid=params, cv=5)\n",
    "best_lasso.fit(x_train, y_train)\n",
    "print(\"Best hyperparameters : \", best_lasso.best_params_)\n",
    "print(\"Best R2 score : \", best_lasso.best_score_)"
   ]
  },
  {
   "cell_type": "code",
   "execution_count": 16,
   "metadata": {},
   "outputs": [
    {
     "name": "stdout",
     "output_type": "stream",
     "text": [
      "RIDGE // R2 score on training set :  0.972070656699971\n",
      "RIDGE // R2 score on test set :  0.9514662487695481\n",
      "---\n",
      "LASSO // R2 score on training set :  0.9720924478283968\n",
      "LASSO // R2 score on test set :  0.9514785068848646\n"
     ]
    }
   ],
   "source": [
    "# Print R2 scores\n",
    "print(\"RIDGE // R2 score on training set : \", best_ridge.score(x_train, y_train))\n",
    "print(\"RIDGE // R2 score on test set : \", best_ridge.score(x_test, y_test))\n",
    "\n",
    "print(\"---\")\n",
    "\n",
    "print(\"LASSO // R2 score on training set : \", best_lasso.score(x_train, y_train))\n",
    "print(\"LASSO // R2 score on test set : \", best_lasso.score(x_test, y_test))"
   ]
  },
  {
   "cell_type": "code",
   "execution_count": 17,
   "metadata": {},
   "outputs": [
    {
     "name": "stdout",
     "output_type": "stream",
     "text": [
      "RIDGE // The cross-validated R2-score is :  0.9372466116438914\n",
      "RIDGE // The standard deviation is :  0.03403792410422212\n",
      "---\n",
      "LASSO // The cross-validated R2-score is :  0.936968147667859\n",
      "LASSO // The standard deviation is :  0.03454820221698877\n"
     ]
    }
   ],
   "source": [
    "scores_ridge = cross_val_score(best_ridge.best_estimator_, x_train, y_train, cv = 10)\n",
    "print(\"RIDGE // The cross-validated R2-score is : \", scores_ridge.mean())\n",
    "print(\"RIDGE // The standard deviation is : \", scores_ridge.std())\n",
    "\n",
    "print(\"---\")\n",
    "\n",
    "scores_lasso = cross_val_score(best_lasso.best_estimator_, x_train, y_train, cv = 10)\n",
    "print(\"LASSO // The cross-validated R2-score is : \", scores_lasso.mean())\n",
    "print(\"LASSO // The standard deviation is : \", scores_lasso.std())"
   ]
  },
  {
   "cell_type": "markdown",
   "metadata": {},
   "source": [
    "Concernant Ridge, les performances ont été significativement améliorées par rapport au modèle Ridge classique sans ajustement des hyperparamètres.\n",
    "\n",
    "Concernant Lasso, on observe peu d'amélioration des performances en ajustant les hyperparamètres.\n",
    "\n",
    "En appliquant les hyperparamètres, les résultats sont très proches entre Ridge et Lasso, aussi bien sur les ensembles d’entraînement que de test.\n",
    "\n",
    "La validation croisée confirme cette observation avec des scores moyens très similaires."
   ]
  },
  {
   "cell_type": "markdown",
   "metadata": {},
   "source": [
    "---"
   ]
  },
  {
   "cell_type": "markdown",
   "metadata": {},
   "source": [
    "Sauvegarde des résultats dans un dataframe"
   ]
  },
  {
   "cell_type": "code",
   "execution_count": 18,
   "metadata": {},
   "outputs": [
    {
     "name": "stderr",
     "output_type": "stream",
     "text": [
      "/tmp/ipykernel_1901/4017976665.py:4: FutureWarning: The behavior of DataFrame concatenation with empty or all-NA entries is deprecated. In a future version, this will no longer exclude empty or all-NA columns when determining the result dtypes. To retain the old behavior, exclude the relevant entries before the concat operation.\n",
      "  scores_df = pd.concat([scores_df, pd.DataFrame(new_rows)], ignore_index=True)\n"
     ]
    }
   ],
   "source": [
    "scores_df = pd.DataFrame(columns = [\"model\", \"R2\"])\n",
    "new_rows = [{\"model\": \"best_ridge\", \"R2\": best_ridge.score(x_test, y_test)},\n",
    "            {\"model\": \"best_lasso\", \"R2\": best_lasso.score(x_test, y_test)}]\n",
    "scores_df = pd.concat([scores_df, pd.DataFrame(new_rows)], ignore_index=True)\n",
    "scores_df.to_csv(\"../datas/Walmart_Scores.csv\", mode=\"a\", header=False, index=False)"
   ]
  }
 ],
 "metadata": {
  "kernelspec": {
   "display_name": "dsfs_env",
   "language": "python",
   "name": "python3"
  },
  "language_info": {
   "codemirror_mode": {
    "name": "ipython",
    "version": 3
   },
   "file_extension": ".py",
   "mimetype": "text/x-python",
   "name": "python",
   "nbconvert_exporter": "python",
   "pygments_lexer": "ipython3",
   "version": "3.12.3"
  }
 },
 "nbformat": 4,
 "nbformat_minor": 2
}
