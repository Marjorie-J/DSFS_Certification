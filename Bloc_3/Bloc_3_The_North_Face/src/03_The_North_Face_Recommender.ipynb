{
 "cells": [
  {
   "cell_type": "markdown",
   "id": "d2e942e4",
   "metadata": {},
   "source": [
    "# 1. Lecture CSV"
   ]
  },
  {
   "cell_type": "code",
   "execution_count": 1,
   "id": "56e7143b",
   "metadata": {},
   "outputs": [],
   "source": [
    "import pandas as pd\n",
    "import random"
   ]
  },
  {
   "cell_type": "code",
   "execution_count": 2,
   "id": "311158b3",
   "metadata": {},
   "outputs": [],
   "source": [
    "# Permet d\"afficher toute la largeur de chaque colonne\n",
    "pd.set_option(\"display.max_colwidth\", 200)"
   ]
  },
  {
   "cell_type": "code",
   "execution_count": 3,
   "id": "9024d78f",
   "metadata": {},
   "outputs": [
    {
     "data": {
      "text/html": [
       "<div>\n",
       "<style scoped>\n",
       "    .dataframe tbody tr th:only-of-type {\n",
       "        vertical-align: middle;\n",
       "    }\n",
       "\n",
       "    .dataframe tbody tr th {\n",
       "        vertical-align: top;\n",
       "    }\n",
       "\n",
       "    .dataframe thead th {\n",
       "        text-align: right;\n",
       "    }\n",
       "</style>\n",
       "<table border=\"1\" class=\"dataframe\">\n",
       "  <thead>\n",
       "    <tr style=\"text-align: right;\">\n",
       "      <th></th>\n",
       "      <th>description</th>\n",
       "      <th>description_clean</th>\n",
       "      <th>description_nlp_ready</th>\n",
       "      <th>cluster</th>\n",
       "    </tr>\n",
       "    <tr>\n",
       "      <th>id</th>\n",
       "      <th></th>\n",
       "      <th></th>\n",
       "      <th></th>\n",
       "      <th></th>\n",
       "    </tr>\n",
       "  </thead>\n",
       "  <tbody>\n",
       "    <tr>\n",
       "      <th>1</th>\n",
       "      <td>Active classic boxers - There's a reason why our boxers are a cult favorite - they keep their cool, especially in sticky situations. The quick-drying, lightweight underwear takes up minimal space ...</td>\n",
       "      <td>active classic boxers   there s a reason why our boxers are a cult favorite   they keep their cool  especially in sticky situations  the quick drying  lightweight underwear takes up minimal space ...</td>\n",
       "      <td>active classic boxer s reason boxer cult favorite cool especially sticky situation quick dry lightweight underwear take minimal space travel pack expose brush waistband offer skin softness panel c...</td>\n",
       "      <td>0</td>\n",
       "    </tr>\n",
       "    <tr>\n",
       "      <th>2</th>\n",
       "      <td>Active sport boxer briefs - Skinning up Glory requires enough movement without your boxers deciding to poach their own route. The form-fitting Active Sport Boxer Briefs are made from breathable 93...</td>\n",
       "      <td>active sport boxer briefs   skinning up glory requires enough movement without your boxers deciding to poach their own route  the form fitting active sport boxer briefs are made from breathable   ...</td>\n",
       "      <td>active sport boxer brief skin glory require movement boxer decide poach route form fit active sport boxer brief breathable recycle s fast wicke dry quickly spandex stretch seamless waistband soft ...</td>\n",
       "      <td>0</td>\n",
       "    </tr>\n",
       "    <tr>\n",
       "      <th>3</th>\n",
       "      <td>Active sport briefs - These superbreathable no-fly briefs are the minimalist's choice for high-octane endeavors. Made from a blend of fast-wicking, quick-drying 93% polyester (71% recycled) and 7%...</td>\n",
       "      <td>active sport briefs   these superbreathable no fly briefs are the minimalist s choice for high octane endeavors  made from a blend of fast wicking  quick drying   polyester   recycled  and   spand...</td>\n",
       "      <td>active sport brief superbreathable fly brief minimalist s choice high octane endeavor blend fast wicke quick dry recycle spandex stretch mesh support open mesh cool airflow soft edging leg opening...</td>\n",
       "      <td>0</td>\n",
       "    </tr>\n",
       "    <tr>\n",
       "      <th>4</th>\n",
       "      <td>Alpine guide pants - Skin in, climb ice, switch to rock, traverse a knife-edge ridge and boogie back down - these durable, weather-resistant and breathable soft-shell pants keep stride on every mo...</td>\n",
       "      <td>alpine guide pants   skin in  climb ice  switch to rock  traverse a knife edge ridge and boogie back down   these durable  weather resistant and breathable soft shell pants keep stride on every mo...</td>\n",
       "      <td>alpine guide pant skin climb ice switch rock traverse knife edge ridge boogie durable weather resistant breathable soft shell pant stride mountain endeavor midweight stretch weave won t restrict m...</td>\n",
       "      <td>1</td>\n",
       "    </tr>\n",
       "    <tr>\n",
       "      <th>5</th>\n",
       "      <td>Alpine wind jkt - On high ridges, steep ice and anything alpine, this jacket serves as a true \"best of all worlds\" staple. It excels as a stand-alone shell for blustery rock climbs, cool-weather t...</td>\n",
       "      <td>alpine wind jkt   on high ridges  steep ice and anything alpine  this jacket serves as a true  best of all worlds  staple  it excels as a stand alone shell for blustery rock climbs  cool weather t...</td>\n",
       "      <td>alpine wind jkt high ridge steep ice alpine jacket serve true good world staple excel stand shell blustery rock climb cool weather trail run high output ski tour condition ice alpine climb functio...</td>\n",
       "      <td>1</td>\n",
       "    </tr>\n",
       "  </tbody>\n",
       "</table>\n",
       "</div>"
      ],
      "text/plain": [
       "                                                                                                                                                                                                description  \\\n",
       "id                                                                                                                                                                                                            \n",
       "1   Active classic boxers - There's a reason why our boxers are a cult favorite - they keep their cool, especially in sticky situations. The quick-drying, lightweight underwear takes up minimal space ...   \n",
       "2   Active sport boxer briefs - Skinning up Glory requires enough movement without your boxers deciding to poach their own route. The form-fitting Active Sport Boxer Briefs are made from breathable 93...   \n",
       "3   Active sport briefs - These superbreathable no-fly briefs are the minimalist's choice for high-octane endeavors. Made from a blend of fast-wicking, quick-drying 93% polyester (71% recycled) and 7%...   \n",
       "4   Alpine guide pants - Skin in, climb ice, switch to rock, traverse a knife-edge ridge and boogie back down - these durable, weather-resistant and breathable soft-shell pants keep stride on every mo...   \n",
       "5   Alpine wind jkt - On high ridges, steep ice and anything alpine, this jacket serves as a true \"best of all worlds\" staple. It excels as a stand-alone shell for blustery rock climbs, cool-weather t...   \n",
       "\n",
       "                                                                                                                                                                                          description_clean  \\\n",
       "id                                                                                                                                                                                                            \n",
       "1   active classic boxers   there s a reason why our boxers are a cult favorite   they keep their cool  especially in sticky situations  the quick drying  lightweight underwear takes up minimal space ...   \n",
       "2   active sport boxer briefs   skinning up glory requires enough movement without your boxers deciding to poach their own route  the form fitting active sport boxer briefs are made from breathable   ...   \n",
       "3   active sport briefs   these superbreathable no fly briefs are the minimalist s choice for high octane endeavors  made from a blend of fast wicking  quick drying   polyester   recycled  and   spand...   \n",
       "4   alpine guide pants   skin in  climb ice  switch to rock  traverse a knife edge ridge and boogie back down   these durable  weather resistant and breathable soft shell pants keep stride on every mo...   \n",
       "5   alpine wind jkt   on high ridges  steep ice and anything alpine  this jacket serves as a true  best of all worlds  staple  it excels as a stand alone shell for blustery rock climbs  cool weather t...   \n",
       "\n",
       "                                                                                                                                                                                      description_nlp_ready  \\\n",
       "id                                                                                                                                                                                                            \n",
       "1   active classic boxer s reason boxer cult favorite cool especially sticky situation quick dry lightweight underwear take minimal space travel pack expose brush waistband offer skin softness panel c...   \n",
       "2   active sport boxer brief skin glory require movement boxer decide poach route form fit active sport boxer brief breathable recycle s fast wicke dry quickly spandex stretch seamless waistband soft ...   \n",
       "3   active sport brief superbreathable fly brief minimalist s choice high octane endeavor blend fast wicke quick dry recycle spandex stretch mesh support open mesh cool airflow soft edging leg opening...   \n",
       "4   alpine guide pant skin climb ice switch rock traverse knife edge ridge boogie durable weather resistant breathable soft shell pant stride mountain endeavor midweight stretch weave won t restrict m...   \n",
       "5   alpine wind jkt high ridge steep ice alpine jacket serve true good world staple excel stand shell blustery rock climb cool weather trail run high output ski tour condition ice alpine climb functio...   \n",
       "\n",
       "    cluster  \n",
       "id           \n",
       "1         0  \n",
       "2         0  \n",
       "3         0  \n",
       "4         1  \n",
       "5         1  "
      ]
     },
     "execution_count": 3,
     "metadata": {},
     "output_type": "execute_result"
    }
   ],
   "source": [
    "df_corpus = pd.read_csv(\"../datas/sample-data-clean-clusters.csv\", index_col=\"id\")\n",
    "df_corpus.head()"
   ]
  },
  {
   "cell_type": "markdown",
   "id": "7d316301",
   "metadata": {},
   "source": [
    "---"
   ]
  },
  {
   "cell_type": "markdown",
   "id": "0ade3114",
   "metadata": {},
   "source": [
    "# 2. Système de recommendations"
   ]
  },
  {
   "cell_type": "code",
   "execution_count": 4,
   "id": "d780969b",
   "metadata": {},
   "outputs": [],
   "source": [
    "def find_similar_items(item_id):\n",
    "    # Item inexistant\n",
    "    if item_id not in df_corpus.index:\n",
    "        print(\"Cet item n'existe pas.\")\n",
    "        return []\n",
    "\n",
    "    cluster_id = df_corpus.loc[item_id, \"cluster\"]\n",
    "    \n",
    "    # Item hors cluster\n",
    "    if cluster_id == -1:\n",
    "        print(\"Cet item ne peut pas être rapproché d'un autre item.\")\n",
    "        return []\n",
    "\n",
    "    # Obtenir tous les items du même cluster, sauf l'item demandé\n",
    "    mask_same_cluster_items = ((df_corpus[\"cluster\"] == cluster_id) & (df_corpus.index != item_id))\n",
    "    same_cluster_items = df_corpus[mask_same_cluster_items].index.tolist()\n",
    "\n",
    "    # Sélectionner 5 items aléatoirement (ou moins si pas assez)\n",
    "    return random.sample(same_cluster_items, min(5, len(same_cluster_items)))"
   ]
  },
  {
   "cell_type": "code",
   "execution_count": 5,
   "id": "3aa5af0d",
   "metadata": {},
   "outputs": [
    {
     "name": "stdout",
     "output_type": "stream",
     "text": [
      "Item 77  : L/s rashguard - The 30-UPF fabric of our Long-Sleeved Rashguard keeps the sun from sizzling your skin. Made from a durable and protective blend of 84% all-recycled polyester/16% spandex. With seamless underarm gussets and chafe-free construction. The drawstring loop at front secures to board shorts.<br><br><b>Details:</b><ul> <li>Recycled polyester (100%) rashguard has 30-UPF sun protection </li> <li>Mock turtleneck protects neck from sun and rolls over to shield from wetsuit zipper</li> <li>Seamless underarm gussets and flat-seam construction avoids chafe</li> <li>Self-loop at front hem secures to board shorts</li> <li>Flying-fish graphic (only on fog)</li></ul><br><br><b>Fabric: </b>5.8-oz 84% all-recycled polyester/16% spandex<br><br><b>Weight: </b>(187 g 6.5 oz)<br><br>Made in USA.\n",
      "Items similaires :\n",
      "  - Item 361 : S/s rashguard - The 30-UPF fabric of our Short-Sleeved Rashguard keeps the sun from sizzling your skin. Made from a durable and protective blend of 84% all-recycled polyester/16% spandex. With seamless underarm gussets and chafe-free construction. The drawstring loop at front secures to board shorts.<br><br><b>Details:</b><ul> <li>Recycled polyester (100%) rashguard has 30-UPF sun protection</li> <li>Mock turtleneck protects neck from sun and rolls over to shield from wetsuit zipper</li> <li>Seamless underarm gussets and flat-seam construction avoids chafe</li> <li>Self-loop at front hem secures to board shorts</li> <li>Flying-fish graphic (only on fog)</li></ul><br><br><b>Fabric: </b>5.8-oz 84% all-recycled polyester/16% spandex<br><br><b>Weight: </b>(158 g 5.5 oz)<br><br>Made in USA.\n",
      "  - Item 226 : S/s rashguard - The 30-UPF fabric of our Short-Sleeved Rashguard keeps the sun from sizzling your skin. With a slim neckband, seamless underarm gussets and set-in sleeves for chafe-free paddling. Made from a soft fabric blend of 84% all-recycled polyester/16% spandex in solid colors that match our swimwear and board shorts.<br><br><b>Details:</b><ul> <li>Stretchy all-recycled polyester/spandex fabric offers protection against chafing and sun</li> <li>30-UPF sun protection</li> <li>Mock neck and set-in short sleeves with seamless underarm gussets and flat-seam construction</li></ul><br><br><b>Fabric: </b>5.8-oz 84% all-recycled polyester/16% spandex<br><br><b>Weight: </b>(129 g 4.5 oz)<br><br>Made in USA.\n",
      "  - Item 195 : L/s rashguard - The 30-UPF fabric of our Long-Sleeved Rashguard keeps the sun from sizzling your skin. With a slim neckline, wide underarm panels and ergonomically placed seams. Made from a durable blend of 5.8-oz 84% all-recycled polyester/16% spandex.<br><br><b>Details:</b><ul> <li>Stretchy all-recycled polyester/spandex fabric offers protection against chafing and sun</li> <li>30-UPF sun protection</li> <li>Mock neck and set-in long sleeves with seamless underarm gussets and flat-seam construction</li></ul><br><br><b>Fabric: </b>5.8-oz 84% all-recycled polyester/16% spandex<br><br><b>Weight: </b>(164 g 5.7 oz)<br><br>Made in USA.\n",
      "  - Item 75 : L/s hooded rashguard - The 30-UPF fabric of our Long-Sleeved Rashguard keeps the sun from sizzling your skin. Made from a durable and protective blend of 84% all-recycled polyester/16% spandex. With seamless underarm gussets and chafe-free construction. The drawstring loop at front secures to board shorts.<br><br><b>Details:</b><ul> <li>All-recycled polyester rashguard has 30-UPF sun protection</li> <li>Sun-blocking 3-panel hood with built-in neoprene visor snugs with locking drawcord</li> <li>Rear zip-pocket stores surf/paddle essentials</li> <li>Seamless underarm gussets and flat-seam construction avoids chafe</li> <li>Self-loop at front hem secures to board shorts</li></ul><br><br><b>Fabric: </b>5.8-oz 84% all-recycled polyester/16% spandex<br><br><b>Weight: </b>(239 g 8.3 oz)<br><br>Made in USA.\n",
      "  - Item 418 : Rashguard - Sanctuary from sun and chill alike: This hardworking top is made of a stretchy blend of quick-drying, 5.8-oz 84% polyester (100% recycled)/16% spandex with built-in 30-UPF sun protection. Its seamless underarm gussets let kids move naturally during swimming, boarding or castle-building. A low-profile mock turtleneck design provides neck coverage; flat-seam construction throughout keeps the action friction-free.<br><br><b>Details:</b><ul> <li>Our rashguard features a stretchy blend fabric with built-in 30-UPF sun protection</li> <li>Seamless underarm gussets</li> <li>Flat-seam construction for friction-free surfing</li> <li>Low-profile mock turtleneck provides neck coverage</li></ul><br><br><b>Fabric: </b>5.8-oz 84% all-recycled polyester/16% spandex with 30-UPF sun protection<br><br><b>Weight: </b>(115 g 4 oz)<br><br>Made in USA.\n"
     ]
    }
   ],
   "source": [
    "# Interaction utilisateur\n",
    "user_input = int(input(\"Entrez l'identifiant d'un produit : \"))\n",
    "\n",
    "same_items = find_similar_items(user_input)\n",
    "\n",
    "if same_items:\n",
    "    print(\"Item\", user_input, \" :\", df_corpus.loc[user_input, \"description\"])\n",
    "    print(\"Items similaires :\")\n",
    "    for s in same_items:\n",
    "       print(f\"  - Item {s} : {df_corpus.loc[s, \"description\"]}\")"
   ]
  }
 ],
 "metadata": {
  "kernelspec": {
   "display_name": "dsfs_env",
   "language": "python",
   "name": "python3"
  },
  "language_info": {
   "codemirror_mode": {
    "name": "ipython",
    "version": 3
   },
   "file_extension": ".py",
   "mimetype": "text/x-python",
   "name": "python",
   "nbconvert_exporter": "python",
   "pygments_lexer": "ipython3",
   "version": "3.12.3"
  }
 },
 "nbformat": 4,
 "nbformat_minor": 5
}
