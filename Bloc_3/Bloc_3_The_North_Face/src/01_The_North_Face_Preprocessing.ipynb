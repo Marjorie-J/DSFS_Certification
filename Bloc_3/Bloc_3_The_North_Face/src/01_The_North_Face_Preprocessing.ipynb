{
 "cells": [
  {
   "cell_type": "markdown",
   "id": "d2e942e4",
   "metadata": {},
   "source": [
    "# 1. Lecture CSV"
   ]
  },
  {
   "cell_type": "code",
   "execution_count": 1,
   "id": "56e7143b",
   "metadata": {},
   "outputs": [],
   "source": [
    "import en_core_web_sm\n",
    "\n",
    "import matplotlib.pyplot as plt\n",
    "import numpy as np\n",
    "import pandas as pd\n",
    "import plotly.express as px\n",
    "\n",
    "from spacy.lang.en.stop_words import STOP_WORDS\n",
    "\n",
    "from PIL import Image\n",
    "\n",
    "import wordcloud"
   ]
  },
  {
   "cell_type": "code",
   "execution_count": 2,
   "id": "311158b3",
   "metadata": {},
   "outputs": [],
   "source": [
    "# Permet d\"afficher toute la largeur de chaque colonne\n",
    "pd.set_option(\"display.max_colwidth\", 200)"
   ]
  },
  {
   "cell_type": "code",
   "execution_count": 3,
   "id": "9024d78f",
   "metadata": {},
   "outputs": [
    {
     "data": {
      "text/html": [
       "<div>\n",
       "<style scoped>\n",
       "    .dataframe tbody tr th:only-of-type {\n",
       "        vertical-align: middle;\n",
       "    }\n",
       "\n",
       "    .dataframe tbody tr th {\n",
       "        vertical-align: top;\n",
       "    }\n",
       "\n",
       "    .dataframe thead th {\n",
       "        text-align: right;\n",
       "    }\n",
       "</style>\n",
       "<table border=\"1\" class=\"dataframe\">\n",
       "  <thead>\n",
       "    <tr style=\"text-align: right;\">\n",
       "      <th></th>\n",
       "      <th>description</th>\n",
       "    </tr>\n",
       "    <tr>\n",
       "      <th>id</th>\n",
       "      <th></th>\n",
       "    </tr>\n",
       "  </thead>\n",
       "  <tbody>\n",
       "    <tr>\n",
       "      <th>1</th>\n",
       "      <td>Active classic boxers - There's a reason why our boxers are a cult favorite - they keep their cool, especially in sticky situations. The quick-drying, lightweight underwear takes up minimal space ...</td>\n",
       "    </tr>\n",
       "    <tr>\n",
       "      <th>2</th>\n",
       "      <td>Active sport boxer briefs - Skinning up Glory requires enough movement without your boxers deciding to poach their own route. The form-fitting Active Sport Boxer Briefs are made from breathable 93...</td>\n",
       "    </tr>\n",
       "    <tr>\n",
       "      <th>3</th>\n",
       "      <td>Active sport briefs - These superbreathable no-fly briefs are the minimalist's choice for high-octane endeavors. Made from a blend of fast-wicking, quick-drying 93% polyester (71% recycled) and 7%...</td>\n",
       "    </tr>\n",
       "    <tr>\n",
       "      <th>4</th>\n",
       "      <td>Alpine guide pants - Skin in, climb ice, switch to rock, traverse a knife-edge ridge and boogie back down - these durable, weather-resistant and breathable soft-shell pants keep stride on every mo...</td>\n",
       "    </tr>\n",
       "    <tr>\n",
       "      <th>5</th>\n",
       "      <td>Alpine wind jkt - On high ridges, steep ice and anything alpine, this jacket serves as a true \"best of all worlds\" staple. It excels as a stand-alone shell for blustery rock climbs, cool-weather t...</td>\n",
       "    </tr>\n",
       "  </tbody>\n",
       "</table>\n",
       "</div>"
      ],
      "text/plain": [
       "                                                                                                                                                                                                description\n",
       "id                                                                                                                                                                                                         \n",
       "1   Active classic boxers - There's a reason why our boxers are a cult favorite - they keep their cool, especially in sticky situations. The quick-drying, lightweight underwear takes up minimal space ...\n",
       "2   Active sport boxer briefs - Skinning up Glory requires enough movement without your boxers deciding to poach their own route. The form-fitting Active Sport Boxer Briefs are made from breathable 93...\n",
       "3   Active sport briefs - These superbreathable no-fly briefs are the minimalist's choice for high-octane endeavors. Made from a blend of fast-wicking, quick-drying 93% polyester (71% recycled) and 7%...\n",
       "4   Alpine guide pants - Skin in, climb ice, switch to rock, traverse a knife-edge ridge and boogie back down - these durable, weather-resistant and breathable soft-shell pants keep stride on every mo...\n",
       "5   Alpine wind jkt - On high ridges, steep ice and anything alpine, this jacket serves as a true \"best of all worlds\" staple. It excels as a stand-alone shell for blustery rock climbs, cool-weather t..."
      ]
     },
     "execution_count": 3,
     "metadata": {},
     "output_type": "execute_result"
    }
   ],
   "source": [
    "df_corpus = pd.read_csv(\"../datas/sample-data.csv\", index_col=\"id\")\n",
    "df_corpus.head()"
   ]
  },
  {
   "cell_type": "markdown",
   "id": "7d316301",
   "metadata": {},
   "source": [
    "---"
   ]
  },
  {
   "cell_type": "markdown",
   "id": "158e9b07",
   "metadata": {},
   "source": [
    "# 2. Preprocessing"
   ]
  },
  {
   "cell_type": "code",
   "execution_count": 4,
   "id": "291a616a",
   "metadata": {},
   "outputs": [
    {
     "name": "stdout",
     "output_type": "stream",
     "text": [
      "id\n",
      "1      Active classic boxers - There's a reason why our boxers are a cult favorite - they keep their cool, especially in sticky situations. The quick-drying, lightweight underwear takes up minimal space ...\n",
      "2      Active sport boxer briefs - Skinning up Glory requires enough movement without your boxers deciding to poach their own route. The form-fitting Active Sport Boxer Briefs are made from breathable 93...\n",
      "3      Active sport briefs - These superbreathable no-fly briefs are the minimalist's choice for high-octane endeavors. Made from a blend of fast-wicking, quick-drying 93% polyester (71% recycled) and 7%...\n",
      "4      Alpine guide pants - Skin in, climb ice, switch to rock, traverse a knife-edge ridge and boogie back down - these durable, weather-resistant and breathable soft-shell pants keep stride on every mo...\n",
      "5      Alpine wind jkt - On high ridges, steep ice and anything alpine, this jacket serves as a true \"best of all worlds\" staple. It excels as a stand-alone shell for blustery rock climbs, cool-weather t...\n",
      "                                                                                                        ...                                                                                                   \n",
      "496    Cap 2 bottoms - Cut loose from the maddening crowds and search out the undone. Capilene 2 fabric balances fast-drying performance with lightweight insulation so you can go where others haven't. Ma...\n",
      "497    Cap 2 crew - This crew takes the edge off fickle weather. In clearing conditions, it has the fastest dry time of all our performance baselayer fabrics, with an open-knit construction that breathes...\n",
      "498    All-time shell - No need to use that morning Times as an umbrella. The All-Times' handsome matte-finish, 100% recycled polyester shell provides tasteful sports-coat-length coverage for the vicissi...\n",
      "499    All-wear cargo shorts - All-Wear Cargo Shorts bask in the glory of sweat stains, paint splatters and caked-on mud - and get the job done every time. Resilient, garment-washed 5.2-oz 100% organic c...\n",
      "500    All-wear shorts - Time to simplify? Our All-Wear shorts prove that one short really can go anywhere. Made from comfortable garment-washed 100% organic cotton canvas, they withstand hard work and a...\n",
      "Name: description, Length: 500, dtype: object\n"
     ]
    }
   ],
   "source": [
    "print(df_corpus[\"description\"])"
   ]
  },
  {
   "cell_type": "markdown",
   "id": "fe5ee3f5",
   "metadata": {},
   "source": [
    "Les descriptions d'articles semblent être en HTML (balises)"
   ]
  },
  {
   "cell_type": "markdown",
   "id": "c052fb28",
   "metadata": {},
   "source": [
    "## 2.1 Nettoyage\n",
    "- On enlève la ponctuation\n",
    "- On passe en minuscules\n",
    "- On enlève les balises HTML"
   ]
  },
  {
   "cell_type": "code",
   "execution_count": 5,
   "id": "be09fcff",
   "metadata": {},
   "outputs": [
    {
     "data": {
      "text/html": [
       "<div>\n",
       "<style scoped>\n",
       "    .dataframe tbody tr th:only-of-type {\n",
       "        vertical-align: middle;\n",
       "    }\n",
       "\n",
       "    .dataframe tbody tr th {\n",
       "        vertical-align: top;\n",
       "    }\n",
       "\n",
       "    .dataframe thead th {\n",
       "        text-align: right;\n",
       "    }\n",
       "</style>\n",
       "<table border=\"1\" class=\"dataframe\">\n",
       "  <thead>\n",
       "    <tr style=\"text-align: right;\">\n",
       "      <th></th>\n",
       "      <th>description</th>\n",
       "      <th>description_clean</th>\n",
       "    </tr>\n",
       "    <tr>\n",
       "      <th>id</th>\n",
       "      <th></th>\n",
       "      <th></th>\n",
       "    </tr>\n",
       "  </thead>\n",
       "  <tbody>\n",
       "    <tr>\n",
       "      <th>1</th>\n",
       "      <td>Active classic boxers - There's a reason why our boxers are a cult favorite - they keep their cool, especially in sticky situations. The quick-drying, lightweight underwear takes up minimal space ...</td>\n",
       "      <td>active classic boxers   there s a reason why our boxers are a cult favorite   they keep their cool  especially in sticky situations  the quick drying  lightweight underwear takes up minimal space ...</td>\n",
       "    </tr>\n",
       "    <tr>\n",
       "      <th>2</th>\n",
       "      <td>Active sport boxer briefs - Skinning up Glory requires enough movement without your boxers deciding to poach their own route. The form-fitting Active Sport Boxer Briefs are made from breathable 93...</td>\n",
       "      <td>active sport boxer briefs   skinning up glory requires enough movement without your boxers deciding to poach their own route  the form fitting active sport boxer briefs are made from breathable   ...</td>\n",
       "    </tr>\n",
       "    <tr>\n",
       "      <th>3</th>\n",
       "      <td>Active sport briefs - These superbreathable no-fly briefs are the minimalist's choice for high-octane endeavors. Made from a blend of fast-wicking, quick-drying 93% polyester (71% recycled) and 7%...</td>\n",
       "      <td>active sport briefs   these superbreathable no fly briefs are the minimalist s choice for high octane endeavors  made from a blend of fast wicking  quick drying   polyester   recycled  and   spand...</td>\n",
       "    </tr>\n",
       "    <tr>\n",
       "      <th>4</th>\n",
       "      <td>Alpine guide pants - Skin in, climb ice, switch to rock, traverse a knife-edge ridge and boogie back down - these durable, weather-resistant and breathable soft-shell pants keep stride on every mo...</td>\n",
       "      <td>alpine guide pants   skin in  climb ice  switch to rock  traverse a knife edge ridge and boogie back down   these durable  weather resistant and breathable soft shell pants keep stride on every mo...</td>\n",
       "    </tr>\n",
       "    <tr>\n",
       "      <th>5</th>\n",
       "      <td>Alpine wind jkt - On high ridges, steep ice and anything alpine, this jacket serves as a true \"best of all worlds\" staple. It excels as a stand-alone shell for blustery rock climbs, cool-weather t...</td>\n",
       "      <td>alpine wind jkt   on high ridges  steep ice and anything alpine  this jacket serves as a true  best of all worlds  staple  it excels as a stand alone shell for blustery rock climbs  cool weather t...</td>\n",
       "    </tr>\n",
       "  </tbody>\n",
       "</table>\n",
       "</div>"
      ],
      "text/plain": [
       "                                                                                                                                                                                                description  \\\n",
       "id                                                                                                                                                                                                            \n",
       "1   Active classic boxers - There's a reason why our boxers are a cult favorite - they keep their cool, especially in sticky situations. The quick-drying, lightweight underwear takes up minimal space ...   \n",
       "2   Active sport boxer briefs - Skinning up Glory requires enough movement without your boxers deciding to poach their own route. The form-fitting Active Sport Boxer Briefs are made from breathable 93...   \n",
       "3   Active sport briefs - These superbreathable no-fly briefs are the minimalist's choice for high-octane endeavors. Made from a blend of fast-wicking, quick-drying 93% polyester (71% recycled) and 7%...   \n",
       "4   Alpine guide pants - Skin in, climb ice, switch to rock, traverse a knife-edge ridge and boogie back down - these durable, weather-resistant and breathable soft-shell pants keep stride on every mo...   \n",
       "5   Alpine wind jkt - On high ridges, steep ice and anything alpine, this jacket serves as a true \"best of all worlds\" staple. It excels as a stand-alone shell for blustery rock climbs, cool-weather t...   \n",
       "\n",
       "                                                                                                                                                                                          description_clean  \n",
       "id                                                                                                                                                                                                           \n",
       "1   active classic boxers   there s a reason why our boxers are a cult favorite   they keep their cool  especially in sticky situations  the quick drying  lightweight underwear takes up minimal space ...  \n",
       "2   active sport boxer briefs   skinning up glory requires enough movement without your boxers deciding to poach their own route  the form fitting active sport boxer briefs are made from breathable   ...  \n",
       "3   active sport briefs   these superbreathable no fly briefs are the minimalist s choice for high octane endeavors  made from a blend of fast wicking  quick drying   polyester   recycled  and   spand...  \n",
       "4   alpine guide pants   skin in  climb ice  switch to rock  traverse a knife edge ridge and boogie back down   these durable  weather resistant and breathable soft shell pants keep stride on every mo...  \n",
       "5   alpine wind jkt   on high ridges  steep ice and anything alpine  this jacket serves as a true  best of all worlds  staple  it excels as a stand alone shell for blustery rock climbs  cool weather t...  "
      ]
     },
     "execution_count": 5,
     "metadata": {},
     "output_type": "execute_result"
    }
   ],
   "source": [
    "# On enlève les caractères spéciaux (sauts de ligne, ...)\n",
    "df_corpus[\"description_clean\"] = df_corpus[\"description\"].str.replace(r\"\\s+\", \" \", regex=True).str.strip()\n",
    "\n",
    "# On enlève les balises HTML\n",
    "df_corpus[\"description_clean\"] = df_corpus[\"description_clean\"].str.replace(r\"<.*?>\", \" \", regex=True)\n",
    "\n",
    "# On enlève la ponctuation et tout ce qui est numérique\n",
    "df_corpus[\"description_clean\"] = df_corpus[\"description_clean\"].str.replace(r\"[^A-Za-z ]+\", \" \", regex = True)\n",
    "\n",
    "# On passe en minuscule\n",
    "df_corpus[\"description_clean\"] = df_corpus[\"description_clean\"].fillna(\"\").apply(lambda x: x.lower())\n",
    "\n",
    "df_corpus.head()"
   ]
  },
  {
   "cell_type": "code",
   "execution_count": 6,
   "id": "7cfe8ab4",
   "metadata": {},
   "outputs": [],
   "source": [
    "nlp = en_core_web_sm.load()"
   ]
  },
  {
   "cell_type": "code",
   "execution_count": 7,
   "id": "85bb3d9c",
   "metadata": {},
   "outputs": [],
   "source": [
    "corpus_clean = \" \".join(df_corpus[\"description_clean\"].astype(str))\n",
    "doc = nlp(corpus_clean)"
   ]
  },
  {
   "cell_type": "markdown",
   "id": "d990cc2a",
   "metadata": {},
   "source": [
    "Wordcloud après nettoyage du texte"
   ]
  },
  {
   "cell_type": "code",
   "execution_count": 8,
   "id": "cae128d0",
   "metadata": {},
   "outputs": [],
   "source": [
    "the_north_face_mask = np.array(Image.open(\"../utils/mountain.jpg\"))\n",
    "wd = wordcloud.WordCloud(background_color=\"white\", contour_width=1, contour_color=\"steelblue\", mask = the_north_face_mask)"
   ]
  },
  {
   "cell_type": "code",
   "execution_count": 9,
   "id": "27e08b14",
   "metadata": {},
   "outputs": [
    {
     "data": {
      "image/png": "[encoded data removed]",
      "text/plain": [
       "<Figure size 640x480 with 1 Axes>"
      ]
     },
     "metadata": {},
     "output_type": "display_data"
    }
   ],
   "source": [
    "cloud = wd.generate(doc.text)\n",
    "plt.imshow(cloud)\n",
    "plt.title(\"Wordcloud après nettoyage\")\n",
    "plt.axis(\"off\")\n",
    "plt.show()"
   ]
  },
  {
   "cell_type": "markdown",
   "id": "e2a59b2b",
   "metadata": {},
   "source": [
    "## 2.2 Common Words"
   ]
  },
  {
   "cell_type": "markdown",
   "id": "efe6349e",
   "metadata": {},
   "source": [
    "Lemmatization + Tokenization du corpus"
   ]
  },
  {
   "cell_type": "code",
   "execution_count": 10,
   "id": "86aff227",
   "metadata": {},
   "outputs": [],
   "source": [
    "lemmatized_doc = [token.lemma_ for token in doc if token.text not in STOP_WORDS]"
   ]
  },
  {
   "cell_type": "code",
   "execution_count": 11,
   "id": "3fffefea",
   "metadata": {},
   "outputs": [
    {
     "data": {
      "text/plain": [
       "['active',\n",
       " 'classic',\n",
       " 'boxer',\n",
       " '  ',\n",
       " 's',\n",
       " 'reason',\n",
       " 'boxer',\n",
       " 'cult',\n",
       " 'favorite',\n",
       " '  ']"
      ]
     },
     "execution_count": 11,
     "metadata": {},
     "output_type": "execute_result"
    }
   ],
   "source": [
    "lemmatized_doc[0:10]"
   ]
  },
  {
   "cell_type": "markdown",
   "id": "e5ad65df",
   "metadata": {},
   "source": [
    "On identifie les mots les plus présents du corpus"
   ]
  },
  {
   "cell_type": "code",
   "execution_count": 12,
   "id": "9f1b5cb7",
   "metadata": {},
   "outputs": [
    {
     "name": "stdout",
     "output_type": "stream",
     "text": [
      "Nombre total de mots dans le corpus : 70642\n"
     ]
    }
   ],
   "source": [
    "total_mots = len(lemmatized_doc)\n",
    "print(f\"Nombre total de mots dans le corpus : {total_mots}\")"
   ]
  },
  {
   "cell_type": "code",
   "execution_count": 13,
   "id": "c2cb881c",
   "metadata": {},
   "outputs": [],
   "source": [
    "df_cw = pd.DataFrame()\n",
    "\n",
    "df_cw[\"Texte\"] = lemmatized_doc\n",
    "df_cw[\"Occurence\"] = df_cw[\"Texte\"].map( df_cw[\"Texte\"].value_counts())\n",
    "df_cw = df_cw.drop_duplicates(keep=\"first\")"
   ]
  },
  {
   "cell_type": "code",
   "execution_count": 14,
   "id": "b33bb374",
   "metadata": {},
   "outputs": [
    {
     "data": {
      "application/vnd.plotly.v1+json": {
       "config": {
        "plotlyServerURL": "https://plot.ly"
       },
       "data": [
        {
         "hovertemplate": "Mot=%{x}<br>Nombre d'occurrences=%{marker.color}<extra></extra>",
         "legendgroup": "",
         "marker": {
          "color": {
           "bdata": "SCKUEi4HKQV7BGkE6ANMA8QCwAKuAqwCqwI0Ah0CAQLGAb4BjgGHAQ==",
           "dtype": "i2"
          },
          "coloraxis": "coloraxis",
          "pattern": {
           "shape": ""
          }
         },
         "name": "",
         "orientation": "v",
         "showlegend": false,
         "textposition": "auto",
         "type": "bar",
         "x": [
          " ",
          "  ",
          "   ",
          "    ",
          "oz",
          "recycle",
          "fabric",
          "pocket",
          "polyester",
          "recyclable",
          "thread",
          "common",
          "program",
          "detail",
          "weight",
          "g",
          "organic",
          "cotton",
          "soft",
          "water"
         ],
         "xaxis": "x",
         "y": {
          "bdata": "SCKUEi4HKQV7BGkE6ANMA8QCwAKuAqwCqwI0Ah0CAQLGAb4BjgGHAQ==",
          "dtype": "i2"
         },
         "yaxis": "y"
        }
       ],
       "layout": {
        "barmode": "relative",
        "coloraxis": {
         "colorbar": {
          "title": {
           "text": "Nombre d'occurrences"
          }
         },
         "colorscale": [
          [
           0,
           "#440154"
          ],
          [
           0.1111111111111111,
           "#482878"
          ],
          [
           0.2222222222222222,
           "#3e4989"
          ],
          [
           0.3333333333333333,
           "#31688e"
          ],
          [
           0.4444444444444444,
           "#26828e"
          ],
          [
           0.5555555555555556,
           "#1f9e89"
          ],
          [
           0.6666666666666666,
           "#35b779"
          ],
          [
           0.7777777777777778,
           "#6ece58"
          ],
          [
           0.8888888888888888,
           "#b5de2b"
          ],
          [
           1,
           "#fde725"
          ]
         ]
        },
        "legend": {
         "tracegroupgap": 0
        },
        "template": {
         "data": {
          "bar": [
           {
            "error_x": {
             "color": "#2a3f5f"
            },
            "error_y": {
             "color": "#2a3f5f"
            },
            "marker": {
             "line": {
              "color": "#E5ECF6",
              "width": 0.5
             },
             "pattern": {
              "fillmode": "overlay",
              "size": 10,
              "solidity": 0.2
             }
            },
            "type": "bar"
           }
          ],
          "barpolar": [
           {
            "marker": {
             "line": {
              "color": "#E5ECF6",
              "width": 0.5
             },
             "pattern": {
              "fillmode": "overlay",
              "size": 10,
              "solidity": 0.2
             }
            },
            "type": "barpolar"
           }
          ],
          "carpet": [
           {
            "aaxis": {
             "endlinecolor": "#2a3f5f",
             "gridcolor": "white",
             "linecolor": "white",
             "minorgridcolor": "white",
             "startlinecolor": "#2a3f5f"
            },
            "baxis": {
             "endlinecolor": "#2a3f5f",
             "gridcolor": "white",
             "linecolor": "white",
             "minorgridcolor": "white",
             "startlinecolor": "#2a3f5f"
            },
            "type": "carpet"
           }
          ],
          "choropleth": [
           {
            "colorbar": {
             "outlinewidth": 0,
             "ticks": ""
            },
            "type": "choropleth"
           }
          ],
          "contour": [
           {
            "colorbar": {
             "outlinewidth": 0,
             "ticks": ""
            },
            "colorscale": [
             [
              0,
              "#0d0887"
             ],
             [
              0.1111111111111111,
              "#46039f"
             ],
             [
              0.2222222222222222,
              "#7201a8"
             ],
             [
              0.3333333333333333,
              "#9c179e"
             ],
             [
              0.4444444444444444,
              "#bd3786"
             ],
             [
              0.5555555555555556,
              "#d8576b"
             ],
             [
              0.6666666666666666,
              "#ed7953"
             ],
             [
              0.7777777777777778,
              "#fb9f3a"
             ],
             [
              0.8888888888888888,
              "#fdca26"
             ],
             [
              1,
              "#f0f921"
             ]
            ],
            "type": "contour"
           }
          ],
          "contourcarpet": [
           {
            "colorbar": {
             "outlinewidth": 0,
             "ticks": ""
            },
            "type": "contourcarpet"
           }
          ],
          "heatmap": [
           {
            "colorbar": {
             "outlinewidth": 0,
             "ticks": ""
            },
            "colorscale": [
             [
              0,
              "#0d0887"
             ],
             [
              0.1111111111111111,
              "#46039f"
             ],
             [
              0.2222222222222222,
              "#7201a8"
             ],
             [
              0.3333333333333333,
              "#9c179e"
             ],
             [
              0.4444444444444444,
              "#bd3786"
             ],
             [
              0.5555555555555556,
              "#d8576b"
             ],
             [
              0.6666666666666666,
              "#ed7953"
             ],
             [
              0.7777777777777778,
              "#fb9f3a"
             ],
             [
              0.8888888888888888,
              "#fdca26"
             ],
             [
              1,
              "#f0f921"
             ]
            ],
            "type": "heatmap"
           }
          ],
          "histogram": [
           {
            "marker": {
             "pattern": {
              "fillmode": "overlay",
              "size": 10,
              "solidity": 0.2
             }
            },
            "type": "histogram"
           }
          ],
          "histogram2d": [
           {
            "colorbar": {
             "outlinewidth": 0,
             "ticks": ""
            },
            "colorscale": [
             [
              0,
              "#0d0887"
             ],
             [
              0.1111111111111111,
              "#46039f"
             ],
             [
              0.2222222222222222,
              "#7201a8"
             ],
             [
              0.3333333333333333,
              "#9c179e"
             ],
             [
              0.4444444444444444,
              "#bd3786"
             ],
             [
              0.5555555555555556,
              "#d8576b"
             ],
             [
              0.6666666666666666,
              "#ed7953"
             ],
             [
              0.7777777777777778,
              "#fb9f3a"
             ],
             [
              0.8888888888888888,
              "#fdca26"
             ],
             [
              1,
              "#f0f921"
             ]
            ],
            "type": "histogram2d"
           }
          ],
          "histogram2dcontour": [
           {
            "colorbar": {
             "outlinewidth": 0,
             "ticks": ""
            },
            "colorscale": [
             [
              0,
              "#0d0887"
             ],
             [
              0.1111111111111111,
              "#46039f"
             ],
             [
              0.2222222222222222,
              "#7201a8"
             ],
             [
              0.3333333333333333,
              "#9c179e"
             ],
             [
              0.4444444444444444,
              "#bd3786"
             ],
             [
              0.5555555555555556,
              "#d8576b"
             ],
             [
              0.6666666666666666,
              "#ed7953"
             ],
             [
              0.7777777777777778,
              "#fb9f3a"
             ],
             [
              0.8888888888888888,
              "#fdca26"
             ],
             [
              1,
              "#f0f921"
             ]
            ],
            "type": "histogram2dcontour"
           }
          ],
          "mesh3d": [
           {
            "colorbar": {
             "outlinewidth": 0,
             "ticks": ""
            },
            "type": "mesh3d"
           }
          ],
          "parcoords": [
           {
            "line": {
             "colorbar": {
              "outlinewidth": 0,
              "ticks": ""
             }
            },
            "type": "parcoords"
           }
          ],
          "pie": [
           {
            "automargin": true,
            "type": "pie"
           }
          ],
          "scatter": [
           {
            "fillpattern": {
             "fillmode": "overlay",
             "size": 10,
             "solidity": 0.2
            },
            "type": "scatter"
           }
          ],
          "scatter3d": [
           {
            "line": {
             "colorbar": {
              "outlinewidth": 0,
              "ticks": ""
             }
            },
            "marker": {
             "colorbar": {
              "outlinewidth": 0,
              "ticks": ""
             }
            },
            "type": "scatter3d"
           }
          ],
          "scattercarpet": [
           {
            "marker": {
             "colorbar": {
              "outlinewidth": 0,
              "ticks": ""
             }
            },
            "type": "scattercarpet"
           }
          ],
          "scattergeo": [
           {
            "marker": {
             "colorbar": {
              "outlinewidth": 0,
              "ticks": ""
             }
            },
            "type": "scattergeo"
           }
          ],
          "scattergl": [
           {
            "marker": {
             "colorbar": {
              "outlinewidth": 0,
              "ticks": ""
             }
            },
            "type": "scattergl"
           }
          ],
          "scattermap": [
           {
            "marker": {
             "colorbar": {
              "outlinewidth": 0,
              "ticks": ""
             }
            },
            "type": "scattermap"
           }
          ],
          "scattermapbox": [
           {
            "marker": {
             "colorbar": {
              "outlinewidth": 0,
              "ticks": ""
             }
            },
            "type": "scattermapbox"
           }
          ],
          "scatterpolar": [
           {
            "marker": {
             "colorbar": {
              "outlinewidth": 0,
              "ticks": ""
             }
            },
            "type": "scatterpolar"
           }
          ],
          "scatterpolargl": [
           {
            "marker": {
             "colorbar": {
              "outlinewidth": 0,
              "ticks": ""
             }
            },
            "type": "scatterpolargl"
           }
          ],
          "scatterternary": [
           {
            "marker": {
             "colorbar": {
              "outlinewidth": 0,
              "ticks": ""
             }
            },
            "type": "scatterternary"
           }
          ],
          "surface": [
           {
            "colorbar": {
             "outlinewidth": 0,
             "ticks": ""
            },
            "colorscale": [
             [
              0,
              "#0d0887"
             ],
             [
              0.1111111111111111,
              "#46039f"
             ],
             [
              0.2222222222222222,
              "#7201a8"
             ],
             [
              0.3333333333333333,
              "#9c179e"
             ],
             [
              0.4444444444444444,
              "#bd3786"
             ],
             [
              0.5555555555555556,
              "#d8576b"
             ],
             [
              0.6666666666666666,
              "#ed7953"
             ],
             [
              0.7777777777777778,
              "#fb9f3a"
             ],
             [
              0.8888888888888888,
              "#fdca26"
             ],
             [
              1,
              "#f0f921"
             ]
            ],
            "type": "surface"
           }
          ],
          "table": [
           {
            "cells": {
             "fill": {
              "color": "#EBF0F8"
             },
             "line": {
              "color": "white"
             }
            },
            "header": {
             "fill": {
              "color": "#C8D4E3"
             },
             "line": {
              "color": "white"
             }
            },
            "type": "table"
           }
          ]
         },
         "layout": {
          "annotationdefaults": {
           "arrowcolor": "#2a3f5f",
           "arrowhead": 0,
           "arrowwidth": 1
          },
          "autotypenumbers": "strict",
          "coloraxis": {
           "colorbar": {
            "outlinewidth": 0,
            "ticks": ""
           }
          },
          "colorscale": {
           "diverging": [
            [
             0,
             "#8e0152"
            ],
            [
             0.1,
             "#c51b7d"
            ],
            [
             0.2,
             "#de77ae"
            ],
            [
             0.3,
             "#f1b6da"
            ],
            [
             0.4,
             "#fde0ef"
            ],
            [
             0.5,
             "#f7f7f7"
            ],
            [
             0.6,
             "#e6f5d0"
            ],
            [
             0.7,
             "#b8e186"
            ],
            [
             0.8,
             "#7fbc41"
            ],
            [
             0.9,
             "#4d9221"
            ],
            [
             1,
             "#276419"
            ]
           ],
           "sequential": [
            [
             0,
             "#0d0887"
            ],
            [
             0.1111111111111111,
             "#46039f"
            ],
            [
             0.2222222222222222,
             "#7201a8"
            ],
            [
             0.3333333333333333,
             "#9c179e"
            ],
            [
             0.4444444444444444,
             "#bd3786"
            ],
            [
             0.5555555555555556,
             "#d8576b"
            ],
            [
             0.6666666666666666,
             "#ed7953"
            ],
            [
             0.7777777777777778,
             "#fb9f3a"
            ],
            [
             0.8888888888888888,
             "#fdca26"
            ],
            [
             1,
             "#f0f921"
            ]
           ],
           "sequentialminus": [
            [
             0,
             "#0d0887"
            ],
            [
             0.1111111111111111,
             "#46039f"
            ],
            [
             0.2222222222222222,
             "#7201a8"
            ],
            [
             0.3333333333333333,
             "#9c179e"
            ],
            [
             0.4444444444444444,
             "#bd3786"
            ],
            [
             0.5555555555555556,
             "#d8576b"
            ],
            [
             0.6666666666666666,
             "#ed7953"
            ],
            [
             0.7777777777777778,
             "#fb9f3a"
            ],
            [
             0.8888888888888888,
             "#fdca26"
            ],
            [
             1,
             "#f0f921"
            ]
           ]
          },
          "colorway": [
           "#636efa",
           "#EF553B",
           "#00cc96",
           "#ab63fa",
           "#FFA15A",
           "#19d3f3",
           "#FF6692",
           "#B6E880",
           "#FF97FF",
           "#FECB52"
          ],
          "font": {
           "color": "#2a3f5f"
          },
          "geo": {
           "bgcolor": "white",
           "lakecolor": "white",
           "landcolor": "#E5ECF6",
           "showlakes": true,
           "showland": true,
           "subunitcolor": "white"
          },
          "hoverlabel": {
           "align": "left"
          },
          "hovermode": "closest",
          "mapbox": {
           "style": "light"
          },
          "paper_bgcolor": "white",
          "plot_bgcolor": "#E5ECF6",
          "polar": {
           "angularaxis": {
            "gridcolor": "white",
            "linecolor": "white",
            "ticks": ""
           },
           "bgcolor": "#E5ECF6",
           "radialaxis": {
            "gridcolor": "white",
            "linecolor": "white",
            "ticks": ""
           }
          },
          "scene": {
           "xaxis": {
            "backgroundcolor": "#E5ECF6",
            "gridcolor": "white",
            "gridwidth": 2,
            "linecolor": "white",
            "showbackground": true,
            "ticks": "",
            "zerolinecolor": "white"
           },
           "yaxis": {
            "backgroundcolor": "#E5ECF6",
            "gridcolor": "white",
            "gridwidth": 2,
            "linecolor": "white",
            "showbackground": true,
            "ticks": "",
            "zerolinecolor": "white"
           },
           "zaxis": {
            "backgroundcolor": "#E5ECF6",
            "gridcolor": "white",
            "gridwidth": 2,
            "linecolor": "white",
            "showbackground": true,
            "ticks": "",
            "zerolinecolor": "white"
           }
          },
          "shapedefaults": {
           "line": {
            "color": "#2a3f5f"
           }
          },
          "ternary": {
           "aaxis": {
            "gridcolor": "white",
            "linecolor": "white",
            "ticks": ""
           },
           "baxis": {
            "gridcolor": "white",
            "linecolor": "white",
            "ticks": ""
           },
           "bgcolor": "#E5ECF6",
           "caxis": {
            "gridcolor": "white",
            "linecolor": "white",
            "ticks": ""
           }
          },
          "title": {
           "x": 0.05
          },
          "xaxis": {
           "automargin": true,
           "gridcolor": "white",
           "linecolor": "white",
           "ticks": "",
           "title": {
            "standoff": 15
           },
           "zerolinecolor": "white",
           "zerolinewidth": 2
          },
          "yaxis": {
           "automargin": true,
           "gridcolor": "white",
           "linecolor": "white",
           "ticks": "",
           "title": {
            "standoff": 15
           },
           "zerolinecolor": "white",
           "zerolinewidth": 2
          }
         }
        },
        "title": {
         "text": "Top 20 des mots les plus fréquents",
         "x": 0.5
        },
        "xaxis": {
         "anchor": "y",
         "domain": [
          0,
          1
         ],
         "tickangle": -45,
         "title": {
          "text": "Mot"
         }
        },
        "yaxis": {
         "anchor": "x",
         "domain": [
          0,
          1
         ],
         "title": {
          "text": "Nombre d'occurrences"
         }
        }
       }
      }
     },
     "metadata": {},
     "output_type": "display_data"
    }
   ],
   "source": [
    "top_words = df_cw.sort_values(\"Occurence\", ascending=False).head(20)\n",
    "\n",
    "# Barplot interactif\n",
    "fig = px.bar(top_words, x=\"Texte\", y=\"Occurence\",\n",
    "    title=\"Top 20 des mots les plus fréquents\",\n",
    "    labels={\"Texte\": \"Mot\", \"Occurence\": \"Nombre d\\'occurrences\"},\n",
    "    color=\"Occurence\", color_continuous_scale=\"viridis\")\n",
    "\n",
    "fig.update_layout(xaxis_tickangle=-45, title_x=0.5)\n",
    "fig.show()"
   ]
  },
  {
   "cell_type": "markdown",
   "id": "51afe977",
   "metadata": {},
   "source": [
    "Je considère qu’un mot est \"commun\" s’il apparaît dans plus de 1% du corpus"
   ]
  },
  {
   "cell_type": "code",
   "execution_count": 15,
   "id": "6922ec9b",
   "metadata": {},
   "outputs": [
    {
     "data": {
      "text/plain": [
       "['  ', ' ', 'oz', 'recycle', 'polyester', '    ', '   ', 'fabric', 'pocket']"
      ]
     },
     "execution_count": 15,
     "metadata": {},
     "output_type": "execute_result"
    }
   ],
   "source": [
    "# Ceux qui apparaissent plus de 1% du total\n",
    "seuil_common = 0.01 * total_mots\n",
    "mask = (df_cw[\"Occurence\"] > seuil_common)\n",
    "\n",
    "common_words = df_cw[mask][\"Texte\"].to_list()\n",
    "common_words"
   ]
  },
  {
   "cell_type": "markdown",
   "id": "9a276ce4",
   "metadata": {},
   "source": [
    "J'ajoute les common words aux stop words"
   ]
  },
  {
   "cell_type": "code",
   "execution_count": 16,
   "id": "6c8d3843",
   "metadata": {},
   "outputs": [],
   "source": [
    "STOP_WORDS = STOP_WORDS.union(common_words)"
   ]
  },
  {
   "cell_type": "markdown",
   "id": "e44337a2",
   "metadata": {},
   "source": [
    "## 2.3 Stop Words"
   ]
  },
  {
   "cell_type": "markdown",
   "id": "51717ed0",
   "metadata": {},
   "source": [
    "Lemmatization + Tokenization + on enlève les Stop Words - Pour chaque article"
   ]
  },
  {
   "cell_type": "code",
   "execution_count": 17,
   "id": "cf53c0e9",
   "metadata": {},
   "outputs": [
    {
     "data": {
      "text/plain": [
       "id\n",
       "1      [active, classic, boxer, s, reason, boxer, cult, favorite, cool, especially, sticky, situation, quick, dry, lightweight, underwear, take, minimal, space, travel, pack, expose, brush, waistband, of...\n",
       "2      [active, sport, boxer, brief, skin, glory, require, movement, boxer, decide, poach, route, form, fit, active, sport, boxer, brief, breathable, recycle, s, fast, wicke, dry, quickly, spandex, stret...\n",
       "3      [active, sport, brief, superbreathable, fly, brief, minimalist, s, choice, high, octane, endeavor, blend, fast, wicke, quick, dry, recycle, spandex, stretch, mesh, support, open, mesh, cool, airfl...\n",
       "4      [alpine, guide, pant, skin, climb, ice, switch, rock, traverse, knife, edge, ridge, boogie, durable, weather, resistant, breathable, soft, shell, pant, stride, mountain, endeavor, midweight, stret...\n",
       "5      [alpine, wind, jkt, high, ridge, steep, ice, alpine, jacket, serve, true, good, world, staple, excel, stand, shell, blustery, rock, climb, cool, weather, trail, run, high, output, ski, tour, condi...\n",
       "                                                                                                        ...                                                                                                   \n",
       "496    [cap, bottom, cut, loose, madden, crowd, search, undone, capilene, balance, fast, dry, performance, lightweight, insulation, haven, t, open, knit, recycle, provide, exceptional, breathability, wic...\n",
       "497    [cap, crew, crew, take, edge, fickle, weather, clearing, condition, fast, dry, time, performance, baselayer, fabric, open, knit, construction, breathe, wick, dry, cool, weather, window, shut, wear...\n",
       "498    [time, shell, need, use, morning, time, umbrella, time, handsome, matte, finish, recycle, shell, provide, tasteful, sport, coat, length, coverage, vicissitude, weather, city, country, hardy, layer...\n",
       "499    [wear, cargo, short, wear, cargo, short, bask, glory, sweat, stain, paint, splatter, cake, mud, job, time, resilient, garment, wash, organic, cotton, canvas, soften, washing, offset, seam, win, t,...\n",
       "500    [wear, short, time, simplify, wear, short, prove, short, comfortable, garment, wash, organic, cotton, canvas, withstand, hard, work, arduous, journey, remain, unfazed, durable, soft, touch, featur...\n",
       "Name: description_clean, Length: 500, dtype: object"
      ]
     },
     "execution_count": 17,
     "metadata": {},
     "output_type": "execute_result"
    }
   ],
   "source": [
    "tokenized_doc = df_corpus[\"description_clean\"].apply(lambda doc: [token.lemma_ for token in nlp(doc) if token.text not in STOP_WORDS])\n",
    "tokenized_doc"
   ]
  },
  {
   "cell_type": "code",
   "execution_count": 18,
   "id": "d269e939",
   "metadata": {},
   "outputs": [
    {
     "data": {
      "text/html": [
       "<div>\n",
       "<style scoped>\n",
       "    .dataframe tbody tr th:only-of-type {\n",
       "        vertical-align: middle;\n",
       "    }\n",
       "\n",
       "    .dataframe tbody tr th {\n",
       "        vertical-align: top;\n",
       "    }\n",
       "\n",
       "    .dataframe thead th {\n",
       "        text-align: right;\n",
       "    }\n",
       "</style>\n",
       "<table border=\"1\" class=\"dataframe\">\n",
       "  <thead>\n",
       "    <tr style=\"text-align: right;\">\n",
       "      <th></th>\n",
       "      <th>description</th>\n",
       "      <th>description_clean</th>\n",
       "      <th>description_nlp_ready</th>\n",
       "    </tr>\n",
       "    <tr>\n",
       "      <th>id</th>\n",
       "      <th></th>\n",
       "      <th></th>\n",
       "      <th></th>\n",
       "    </tr>\n",
       "  </thead>\n",
       "  <tbody>\n",
       "    <tr>\n",
       "      <th>1</th>\n",
       "      <td>Active classic boxers - There's a reason why our boxers are a cult favorite - they keep their cool, especially in sticky situations. The quick-drying, lightweight underwear takes up minimal space ...</td>\n",
       "      <td>active classic boxers   there s a reason why our boxers are a cult favorite   they keep their cool  especially in sticky situations  the quick drying  lightweight underwear takes up minimal space ...</td>\n",
       "      <td>active classic boxer s reason boxer cult favorite cool especially sticky situation quick dry lightweight underwear take minimal space travel pack expose brush waistband offer skin softness panel c...</td>\n",
       "    </tr>\n",
       "    <tr>\n",
       "      <th>2</th>\n",
       "      <td>Active sport boxer briefs - Skinning up Glory requires enough movement without your boxers deciding to poach their own route. The form-fitting Active Sport Boxer Briefs are made from breathable 93...</td>\n",
       "      <td>active sport boxer briefs   skinning up glory requires enough movement without your boxers deciding to poach their own route  the form fitting active sport boxer briefs are made from breathable   ...</td>\n",
       "      <td>active sport boxer brief skin glory require movement boxer decide poach route form fit active sport boxer brief breathable recycle s fast wicke dry quickly spandex stretch seamless waistband soft ...</td>\n",
       "    </tr>\n",
       "    <tr>\n",
       "      <th>3</th>\n",
       "      <td>Active sport briefs - These superbreathable no-fly briefs are the minimalist's choice for high-octane endeavors. Made from a blend of fast-wicking, quick-drying 93% polyester (71% recycled) and 7%...</td>\n",
       "      <td>active sport briefs   these superbreathable no fly briefs are the minimalist s choice for high octane endeavors  made from a blend of fast wicking  quick drying   polyester   recycled  and   spand...</td>\n",
       "      <td>active sport brief superbreathable fly brief minimalist s choice high octane endeavor blend fast wicke quick dry recycle spandex stretch mesh support open mesh cool airflow soft edging leg opening...</td>\n",
       "    </tr>\n",
       "    <tr>\n",
       "      <th>4</th>\n",
       "      <td>Alpine guide pants - Skin in, climb ice, switch to rock, traverse a knife-edge ridge and boogie back down - these durable, weather-resistant and breathable soft-shell pants keep stride on every mo...</td>\n",
       "      <td>alpine guide pants   skin in  climb ice  switch to rock  traverse a knife edge ridge and boogie back down   these durable  weather resistant and breathable soft shell pants keep stride on every mo...</td>\n",
       "      <td>alpine guide pant skin climb ice switch rock traverse knife edge ridge boogie durable weather resistant breathable soft shell pant stride mountain endeavor midweight stretch weave won t restrict m...</td>\n",
       "    </tr>\n",
       "    <tr>\n",
       "      <th>5</th>\n",
       "      <td>Alpine wind jkt - On high ridges, steep ice and anything alpine, this jacket serves as a true \"best of all worlds\" staple. It excels as a stand-alone shell for blustery rock climbs, cool-weather t...</td>\n",
       "      <td>alpine wind jkt   on high ridges  steep ice and anything alpine  this jacket serves as a true  best of all worlds  staple  it excels as a stand alone shell for blustery rock climbs  cool weather t...</td>\n",
       "      <td>alpine wind jkt high ridge steep ice alpine jacket serve true good world staple excel stand shell blustery rock climb cool weather trail run high output ski tour condition ice alpine climb functio...</td>\n",
       "    </tr>\n",
       "  </tbody>\n",
       "</table>\n",
       "</div>"
      ],
      "text/plain": [
       "                                                                                                                                                                                                description  \\\n",
       "id                                                                                                                                                                                                            \n",
       "1   Active classic boxers - There's a reason why our boxers are a cult favorite - they keep their cool, especially in sticky situations. The quick-drying, lightweight underwear takes up minimal space ...   \n",
       "2   Active sport boxer briefs - Skinning up Glory requires enough movement without your boxers deciding to poach their own route. The form-fitting Active Sport Boxer Briefs are made from breathable 93...   \n",
       "3   Active sport briefs - These superbreathable no-fly briefs are the minimalist's choice for high-octane endeavors. Made from a blend of fast-wicking, quick-drying 93% polyester (71% recycled) and 7%...   \n",
       "4   Alpine guide pants - Skin in, climb ice, switch to rock, traverse a knife-edge ridge and boogie back down - these durable, weather-resistant and breathable soft-shell pants keep stride on every mo...   \n",
       "5   Alpine wind jkt - On high ridges, steep ice and anything alpine, this jacket serves as a true \"best of all worlds\" staple. It excels as a stand-alone shell for blustery rock climbs, cool-weather t...   \n",
       "\n",
       "                                                                                                                                                                                          description_clean  \\\n",
       "id                                                                                                                                                                                                            \n",
       "1   active classic boxers   there s a reason why our boxers are a cult favorite   they keep their cool  especially in sticky situations  the quick drying  lightweight underwear takes up minimal space ...   \n",
       "2   active sport boxer briefs   skinning up glory requires enough movement without your boxers deciding to poach their own route  the form fitting active sport boxer briefs are made from breathable   ...   \n",
       "3   active sport briefs   these superbreathable no fly briefs are the minimalist s choice for high octane endeavors  made from a blend of fast wicking  quick drying   polyester   recycled  and   spand...   \n",
       "4   alpine guide pants   skin in  climb ice  switch to rock  traverse a knife edge ridge and boogie back down   these durable  weather resistant and breathable soft shell pants keep stride on every mo...   \n",
       "5   alpine wind jkt   on high ridges  steep ice and anything alpine  this jacket serves as a true  best of all worlds  staple  it excels as a stand alone shell for blustery rock climbs  cool weather t...   \n",
       "\n",
       "                                                                                                                                                                                      description_nlp_ready  \n",
       "id                                                                                                                                                                                                           \n",
       "1   active classic boxer s reason boxer cult favorite cool especially sticky situation quick dry lightweight underwear take minimal space travel pack expose brush waistband offer skin softness panel c...  \n",
       "2   active sport boxer brief skin glory require movement boxer decide poach route form fit active sport boxer brief breathable recycle s fast wicke dry quickly spandex stretch seamless waistband soft ...  \n",
       "3   active sport brief superbreathable fly brief minimalist s choice high octane endeavor blend fast wicke quick dry recycle spandex stretch mesh support open mesh cool airflow soft edging leg opening...  \n",
       "4   alpine guide pant skin climb ice switch rock traverse knife edge ridge boogie durable weather resistant breathable soft shell pant stride mountain endeavor midweight stretch weave won t restrict m...  \n",
       "5   alpine wind jkt high ridge steep ice alpine jacket serve true good world staple excel stand shell blustery rock climb cool weather trail run high output ski tour condition ice alpine climb functio...  "
      ]
     },
     "execution_count": 18,
     "metadata": {},
     "output_type": "execute_result"
    }
   ],
   "source": [
    "df_corpus[\"description_nlp_ready\"] = [\" \".join(x) for x in tokenized_doc]\n",
    "df_corpus.head()"
   ]
  },
  {
   "cell_type": "code",
   "execution_count": 19,
   "id": "33ffc480",
   "metadata": {},
   "outputs": [],
   "source": [
    "corpus_tokenized = \" \".join(df_corpus[\"description_nlp_ready\"].astype(str))\n",
    "doc = nlp(corpus_tokenized)"
   ]
  },
  {
   "cell_type": "markdown",
   "id": "eae75c9d",
   "metadata": {},
   "source": [
    "Wordcloud après la suppression des common words et stop words"
   ]
  },
  {
   "cell_type": "code",
   "execution_count": 20,
   "id": "f4c630a3",
   "metadata": {},
   "outputs": [
    {
     "data": {
      "image/png": "[encoded data removed]",
      "text/plain": [
       "<Figure size 640x480 with 1 Axes>"
      ]
     },
     "metadata": {},
     "output_type": "display_data"
    }
   ],
   "source": [
    "cloud = wd.generate(doc.text)\n",
    "plt.imshow(cloud)\n",
    "plt.title(\"Wordcloud après suppression common et stop words\")\n",
    "plt.axis(\"off\")\n",
    "plt.show()"
   ]
  },
  {
   "cell_type": "markdown",
   "id": "881e9868",
   "metadata": {},
   "source": [
    "---"
   ]
  },
  {
   "cell_type": "markdown",
   "id": "3ffcf2b0",
   "metadata": {},
   "source": [
    "Sauvegarde du fichier préprocessé"
   ]
  },
  {
   "cell_type": "code",
   "execution_count": 21,
   "id": "df596935",
   "metadata": {},
   "outputs": [],
   "source": [
    "df_corpus.to_csv(\"../datas/sample-data-clean.csv\")"
   ]
  }
 ],
 "metadata": {
  "kernelspec": {
   "display_name": "dsfs_env",
   "language": "python",
   "name": "python3"
  },
  "language_info": {
   "codemirror_mode": {
    "name": "ipython",
    "version": 3
   },
   "file_extension": ".py",
   "mimetype": "text/x-python",
   "name": "python",
   "nbconvert_exporter": "python",
   "pygments_lexer": "ipython3",
   "version": "3.12.3"
  }
 },
 "nbformat": 4,
 "nbformat_minor": 5
}
