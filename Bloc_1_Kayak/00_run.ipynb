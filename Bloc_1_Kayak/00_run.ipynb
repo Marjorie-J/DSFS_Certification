{
 "cells": [
  {
   "cell_type": "markdown",
   "id": "70b214eb",
   "metadata": {},
   "source": [
    "Notebook qui lance tous les autres"
   ]
  },
  {
   "cell_type": "code",
   "execution_count": 1,
   "id": "6b7ed669",
   "metadata": {},
   "outputs": [
    {
     "name": "stdout",
     "output_type": "stream",
     "text": [
      "Get weather information Mont Saint Michel\n",
      "Get weather information Saint Malo\n",
      "Get weather information Bayeux\n",
      "Get weather information Le Havre\n",
      "Get weather information Rouen\n",
      "Get weather information Paris\n",
      "Get weather information Amiens\n",
      "Get weather information Lille\n",
      "Get weather information Strasbourg\n",
      "Get weather information Chateau du Haut Koenigsbourg\n",
      "Get weather information Colmar\n",
      "Get weather information Eguisheim\n",
      "Get weather information Besancon\n",
      "Get weather information Dijon\n",
      "Get weather information Annecy\n",
      "Get weather information Grenoble\n",
      "Get weather information Lyon\n",
      "Get weather information Gorges du Verdon\n",
      "Get weather information Bormes les Mimosas\n",
      "Get weather information Cassis\n",
      "Get weather information Marseille\n",
      "Get weather information Aix en Provence\n",
      "Get weather information Avignon\n",
      "Get weather information Uzes\n",
      "Get weather information Nimes\n",
      "Get weather information Aigues Mortes\n",
      "Get weather information Saintes Maries de la mer\n",
      "Get weather information Collioure\n",
      "Get weather information Carcassonne\n",
      "Get weather information Ariege\n",
      "Get weather information Toulouse\n",
      "Get weather information Montauban\n",
      "Get weather information Biarritz\n",
      "Get weather information Bayonne\n",
      "Get weather information La Rochelle\n",
      "Ecriture CSV\n"
     ]
    },
    {
     "name": "stderr",
     "output_type": "stream",
     "text": [
      "2025-04-27 17:02:33 [scrapy.utils.log] INFO: Scrapy 2.12.0 started (bot: scrapybot)\n",
      "2025-04-27 17:02:33 [scrapy.utils.log] INFO: Versions: lxml 5.3.1.0, libxml2 2.11.7, cssselect 1.2.0, parsel 1.10.0, w3lib 2.1.2, Twisted 23.10.0, Python 3.12.3 | packaged by conda-forge | (main, Apr 15 2024, 18:20:11) [MSC v.1938 64 bit (AMD64)], pyOpenSSL 24.2.1 (OpenSSL 3.5.0 8 Apr 2025), cryptography 43.0.0, Platform Windows-11-10.0.26100-SP0\n",
      "2025-04-27 17:02:33 [scrapy.addons] INFO: Enabled addons:\n",
      "[]\n",
      "2025-04-27 17:02:33 [scrapy.extensions.telnet] INFO: Telnet Password: bca187a094b973f1\n",
      "2025-04-27 17:02:33 [scrapy.middleware] INFO: Enabled extensions:\n",
      "['scrapy.extensions.corestats.CoreStats',\n",
      " 'scrapy.extensions.telnet.TelnetConsole',\n",
      " 'scrapy.extensions.feedexport.FeedExporter',\n",
      " 'scrapy.extensions.logstats.LogStats']\n",
      "2025-04-27 17:02:33 [scrapy.crawler] INFO: Overridden settings:\n",
      "{'LOG_LEVEL': 20, 'USER_AGENT': 'Chrome/97.0'}\n",
      "2025-04-27 17:02:34 [scrapy.middleware] INFO: Enabled downloader middlewares:\n",
      "['scrapy.downloadermiddlewares.offsite.OffsiteMiddleware',\n",
      " 'scrapy.downloadermiddlewares.httpauth.HttpAuthMiddleware',\n",
      " 'scrapy.downloadermiddlewares.downloadtimeout.DownloadTimeoutMiddleware',\n",
      " 'scrapy.downloadermiddlewares.defaultheaders.DefaultHeadersMiddleware',\n",
      " 'scrapy.downloadermiddlewares.useragent.UserAgentMiddleware',\n",
      " 'scrapy.downloadermiddlewares.retry.RetryMiddleware',\n",
      " 'scrapy.downloadermiddlewares.redirect.MetaRefreshMiddleware',\n",
      " 'scrapy.downloadermiddlewares.httpcompression.HttpCompressionMiddleware',\n",
      " 'scrapy.downloadermiddlewares.redirect.RedirectMiddleware',\n",
      " 'scrapy.downloadermiddlewares.cookies.CookiesMiddleware',\n",
      " 'scrapy.downloadermiddlewares.httpproxy.HttpProxyMiddleware',\n",
      " 'scrapy.downloadermiddlewares.stats.DownloaderStats']\n",
      "2025-04-27 17:02:34 [scrapy.middleware] INFO: Enabled spider middlewares:\n",
      "['scrapy.spidermiddlewares.httperror.HttpErrorMiddleware',\n",
      " 'scrapy.spidermiddlewares.referer.RefererMiddleware',\n",
      " 'scrapy.spidermiddlewares.urllength.UrlLengthMiddleware',\n",
      " 'scrapy.spidermiddlewares.depth.DepthMiddleware']\n",
      "2025-04-27 17:02:34 [scrapy.middleware] INFO: Enabled item pipelines:\n",
      "[]\n",
      "2025-04-27 17:02:34 [scrapy.core.engine] INFO: Spider opened\n",
      "2025-04-27 17:02:34 [scrapy.extensions.logstats] INFO: Crawled 0 pages (at 0 pages/min), scraped 0 items (at 0 items/min)\n",
      "2025-04-27 17:02:34 [scrapy.extensions.telnet] INFO: Telnet console listening on 127.0.0.1:6023\n",
      "2025-04-27 17:02:34 [scrapy.addons] INFO: Enabled addons:\n",
      "[]\n",
      "2025-04-27 17:02:34 [scrapy.extensions.telnet] INFO: Telnet Password: 54ad86734e1b46c1\n",
      "2025-04-27 17:02:34 [scrapy.middleware] INFO: Enabled extensions:\n",
      "['scrapy.extensions.corestats.CoreStats',\n",
      " 'scrapy.extensions.telnet.TelnetConsole',\n",
      " 'scrapy.extensions.feedexport.FeedExporter',\n",
      " 'scrapy.extensions.logstats.LogStats']\n",
      "2025-04-27 17:02:34 [scrapy.crawler] INFO: Overridden settings:\n",
      "{'LOG_LEVEL': 20, 'USER_AGENT': 'Chrome/97.0'}\n",
      "2025-04-27 17:02:34 [scrapy.middleware] INFO: Enabled downloader middlewares:\n",
      "['scrapy.downloadermiddlewares.offsite.OffsiteMiddleware',\n",
      " 'scrapy.downloadermiddlewares.httpauth.HttpAuthMiddleware',\n",
      " 'scrapy.downloadermiddlewares.downloadtimeout.DownloadTimeoutMiddleware',\n",
      " 'scrapy.downloadermiddlewares.defaultheaders.DefaultHeadersMiddleware',\n",
      " 'scrapy.downloadermiddlewares.useragent.UserAgentMiddleware',\n",
      " 'scrapy.downloadermiddlewares.retry.RetryMiddleware',\n",
      " 'scrapy.downloadermiddlewares.redirect.MetaRefreshMiddleware',\n",
      " 'scrapy.downloadermiddlewares.httpcompression.HttpCompressionMiddleware',\n",
      " 'scrapy.downloadermiddlewares.redirect.RedirectMiddleware',\n",
      " 'scrapy.downloadermiddlewares.cookies.CookiesMiddleware',\n",
      " 'scrapy.downloadermiddlewares.httpproxy.HttpProxyMiddleware',\n",
      " 'scrapy.downloadermiddlewares.stats.DownloaderStats']\n",
      "2025-04-27 17:02:34 [scrapy.middleware] INFO: Enabled spider middlewares:\n",
      "['scrapy.spidermiddlewares.httperror.HttpErrorMiddleware',\n",
      " 'scrapy.spidermiddlewares.referer.RefererMiddleware',\n",
      " 'scrapy.spidermiddlewares.urllength.UrlLengthMiddleware',\n",
      " 'scrapy.spidermiddlewares.depth.DepthMiddleware']\n",
      "2025-04-27 17:02:34 [scrapy.middleware] INFO: Enabled item pipelines:\n",
      "[]\n",
      "2025-04-27 17:02:34 [scrapy.core.engine] INFO: Spider opened\n",
      "2025-04-27 17:02:34 [scrapy.extensions.logstats] INFO: Crawled 0 pages (at 0 pages/min), scraped 0 items (at 0 items/min)\n",
      "2025-04-27 17:02:34 [scrapy.extensions.telnet] INFO: Telnet console listening on 127.0.0.1:6024\n",
      "2025-04-27 17:02:34 [scrapy.addons] INFO: Enabled addons:\n",
      "[]\n",
      "2025-04-27 17:02:34 [scrapy.extensions.telnet] INFO: Telnet Password: b92d61c1aa28eac5\n",
      "2025-04-27 17:02:34 [scrapy.middleware] INFO: Enabled extensions:\n",
      "['scrapy.extensions.corestats.CoreStats',\n",
      " 'scrapy.extensions.telnet.TelnetConsole',\n",
      " 'scrapy.extensions.feedexport.FeedExporter',\n",
      " 'scrapy.extensions.logstats.LogStats']\n",
      "2025-04-27 17:02:34 [scrapy.crawler] INFO: Overridden settings:\n",
      "{'LOG_LEVEL': 20, 'USER_AGENT': 'Chrome/97.0'}\n",
      "2025-04-27 17:02:34 [scrapy.middleware] INFO: Enabled downloader middlewares:\n",
      "['scrapy.downloadermiddlewares.offsite.OffsiteMiddleware',\n",
      " 'scrapy.downloadermiddlewares.httpauth.HttpAuthMiddleware',\n",
      " 'scrapy.downloadermiddlewares.downloadtimeout.DownloadTimeoutMiddleware',\n",
      " 'scrapy.downloadermiddlewares.defaultheaders.DefaultHeadersMiddleware',\n",
      " 'scrapy.downloadermiddlewares.useragent.UserAgentMiddleware',\n",
      " 'scrapy.downloadermiddlewares.retry.RetryMiddleware',\n",
      " 'scrapy.downloadermiddlewares.redirect.MetaRefreshMiddleware',\n",
      " 'scrapy.downloadermiddlewares.httpcompression.HttpCompressionMiddleware',\n",
      " 'scrapy.downloadermiddlewares.redirect.RedirectMiddleware',\n",
      " 'scrapy.downloadermiddlewares.cookies.CookiesMiddleware',\n",
      " 'scrapy.downloadermiddlewares.httpproxy.HttpProxyMiddleware',\n",
      " 'scrapy.downloadermiddlewares.stats.DownloaderStats']\n",
      "2025-04-27 17:02:34 [scrapy.middleware] INFO: Enabled spider middlewares:\n",
      "['scrapy.spidermiddlewares.httperror.HttpErrorMiddleware',\n",
      " 'scrapy.spidermiddlewares.referer.RefererMiddleware',\n",
      " 'scrapy.spidermiddlewares.urllength.UrlLengthMiddleware',\n",
      " 'scrapy.spidermiddlewares.depth.DepthMiddleware']\n",
      "2025-04-27 17:02:34 [scrapy.middleware] INFO: Enabled item pipelines:\n",
      "[]\n",
      "2025-04-27 17:02:34 [scrapy.core.engine] INFO: Spider opened\n",
      "2025-04-27 17:02:34 [scrapy.extensions.logstats] INFO: Crawled 0 pages (at 0 pages/min), scraped 0 items (at 0 items/min)\n",
      "2025-04-27 17:02:34 [scrapy.extensions.telnet] INFO: Telnet console listening on 127.0.0.1:6025\n",
      "2025-04-27 17:02:34 [scrapy.addons] INFO: Enabled addons:\n",
      "[]\n",
      "2025-04-27 17:02:34 [scrapy.extensions.telnet] INFO: Telnet Password: e9f27f7eb07efc2e\n",
      "2025-04-27 17:02:34 [scrapy.middleware] INFO: Enabled extensions:\n",
      "['scrapy.extensions.corestats.CoreStats',\n",
      " 'scrapy.extensions.telnet.TelnetConsole',\n",
      " 'scrapy.extensions.feedexport.FeedExporter',\n",
      " 'scrapy.extensions.logstats.LogStats']\n",
      "2025-04-27 17:02:34 [scrapy.crawler] INFO: Overridden settings:\n",
      "{'LOG_LEVEL': 20, 'USER_AGENT': 'Chrome/97.0'}\n",
      "2025-04-27 17:02:34 [scrapy.middleware] INFO: Enabled downloader middlewares:\n",
      "['scrapy.downloadermiddlewares.offsite.OffsiteMiddleware',\n",
      " 'scrapy.downloadermiddlewares.httpauth.HttpAuthMiddleware',\n",
      " 'scrapy.downloadermiddlewares.downloadtimeout.DownloadTimeoutMiddleware',\n",
      " 'scrapy.downloadermiddlewares.defaultheaders.DefaultHeadersMiddleware',\n",
      " 'scrapy.downloadermiddlewares.useragent.UserAgentMiddleware',\n",
      " 'scrapy.downloadermiddlewares.retry.RetryMiddleware',\n",
      " 'scrapy.downloadermiddlewares.redirect.MetaRefreshMiddleware',\n",
      " 'scrapy.downloadermiddlewares.httpcompression.HttpCompressionMiddleware',\n",
      " 'scrapy.downloadermiddlewares.redirect.RedirectMiddleware',\n",
      " 'scrapy.downloadermiddlewares.cookies.CookiesMiddleware',\n",
      " 'scrapy.downloadermiddlewares.httpproxy.HttpProxyMiddleware',\n",
      " 'scrapy.downloadermiddlewares.stats.DownloaderStats']\n",
      "2025-04-27 17:02:34 [scrapy.middleware] INFO: Enabled spider middlewares:\n",
      "['scrapy.spidermiddlewares.httperror.HttpErrorMiddleware',\n",
      " 'scrapy.spidermiddlewares.referer.RefererMiddleware',\n",
      " 'scrapy.spidermiddlewares.urllength.UrlLengthMiddleware',\n",
      " 'scrapy.spidermiddlewares.depth.DepthMiddleware']\n",
      "2025-04-27 17:02:34 [scrapy.middleware] INFO: Enabled item pipelines:\n",
      "[]\n",
      "2025-04-27 17:02:34 [scrapy.core.engine] INFO: Spider opened\n",
      "2025-04-27 17:02:34 [scrapy.extensions.logstats] INFO: Crawled 0 pages (at 0 pages/min), scraped 0 items (at 0 items/min)\n",
      "2025-04-27 17:02:34 [scrapy.extensions.telnet] INFO: Telnet console listening on 127.0.0.1:6026\n",
      "2025-04-27 17:02:34 [scrapy.addons] INFO: Enabled addons:\n",
      "[]\n",
      "2025-04-27 17:02:34 [scrapy.extensions.telnet] INFO: Telnet Password: 1c3e2a002d14ea9e\n",
      "2025-04-27 17:02:34 [scrapy.middleware] INFO: Enabled extensions:\n",
      "['scrapy.extensions.corestats.CoreStats',\n",
      " 'scrapy.extensions.telnet.TelnetConsole',\n",
      " 'scrapy.extensions.feedexport.FeedExporter',\n",
      " 'scrapy.extensions.logstats.LogStats']\n",
      "2025-04-27 17:02:34 [scrapy.crawler] INFO: Overridden settings:\n",
      "{'LOG_LEVEL': 20, 'USER_AGENT': 'Chrome/97.0'}\n",
      "2025-04-27 17:02:34 [scrapy.middleware] INFO: Enabled downloader middlewares:\n",
      "['scrapy.downloadermiddlewares.offsite.OffsiteMiddleware',\n",
      " 'scrapy.downloadermiddlewares.httpauth.HttpAuthMiddleware',\n",
      " 'scrapy.downloadermiddlewares.downloadtimeout.DownloadTimeoutMiddleware',\n",
      " 'scrapy.downloadermiddlewares.defaultheaders.DefaultHeadersMiddleware',\n",
      " 'scrapy.downloadermiddlewares.useragent.UserAgentMiddleware',\n",
      " 'scrapy.downloadermiddlewares.retry.RetryMiddleware',\n",
      " 'scrapy.downloadermiddlewares.redirect.MetaRefreshMiddleware',\n",
      " 'scrapy.downloadermiddlewares.httpcompression.HttpCompressionMiddleware',\n",
      " 'scrapy.downloadermiddlewares.redirect.RedirectMiddleware',\n",
      " 'scrapy.downloadermiddlewares.cookies.CookiesMiddleware',\n",
      " 'scrapy.downloadermiddlewares.httpproxy.HttpProxyMiddleware',\n",
      " 'scrapy.downloadermiddlewares.stats.DownloaderStats']\n",
      "2025-04-27 17:02:34 [scrapy.middleware] INFO: Enabled spider middlewares:\n",
      "['scrapy.spidermiddlewares.httperror.HttpErrorMiddleware',\n",
      " 'scrapy.spidermiddlewares.referer.RefererMiddleware',\n",
      " 'scrapy.spidermiddlewares.urllength.UrlLengthMiddleware',\n",
      " 'scrapy.spidermiddlewares.depth.DepthMiddleware']\n",
      "2025-04-27 17:02:34 [scrapy.middleware] INFO: Enabled item pipelines:\n",
      "[]\n",
      "2025-04-27 17:02:34 [scrapy.core.engine] INFO: Spider opened\n",
      "2025-04-27 17:02:34 [scrapy.extensions.logstats] INFO: Crawled 0 pages (at 0 pages/min), scraped 0 items (at 0 items/min)\n",
      "2025-04-27 17:02:34 [scrapy.extensions.telnet] INFO: Telnet console listening on 127.0.0.1:6027\n",
      "2025-04-27 17:02:34 [scrapy.addons] INFO: Enabled addons:\n",
      "[]\n",
      "2025-04-27 17:02:34 [scrapy.extensions.telnet] INFO: Telnet Password: c3a2a15140d4d64d\n",
      "2025-04-27 17:02:34 [scrapy.middleware] INFO: Enabled extensions:\n",
      "['scrapy.extensions.corestats.CoreStats',\n",
      " 'scrapy.extensions.telnet.TelnetConsole',\n",
      " 'scrapy.extensions.feedexport.FeedExporter',\n",
      " 'scrapy.extensions.logstats.LogStats']\n",
      "2025-04-27 17:02:34 [scrapy.crawler] INFO: Overridden settings:\n",
      "{'LOG_LEVEL': 20, 'USER_AGENT': 'Chrome/97.0'}\n",
      "2025-04-27 17:02:34 [scrapy.middleware] INFO: Enabled downloader middlewares:\n",
      "['scrapy.downloadermiddlewares.offsite.OffsiteMiddleware',\n",
      " 'scrapy.downloadermiddlewares.httpauth.HttpAuthMiddleware',\n",
      " 'scrapy.downloadermiddlewares.downloadtimeout.DownloadTimeoutMiddleware',\n",
      " 'scrapy.downloadermiddlewares.defaultheaders.DefaultHeadersMiddleware',\n",
      " 'scrapy.downloadermiddlewares.useragent.UserAgentMiddleware',\n",
      " 'scrapy.downloadermiddlewares.retry.RetryMiddleware',\n",
      " 'scrapy.downloadermiddlewares.redirect.MetaRefreshMiddleware',\n",
      " 'scrapy.downloadermiddlewares.httpcompression.HttpCompressionMiddleware',\n",
      " 'scrapy.downloadermiddlewares.redirect.RedirectMiddleware',\n",
      " 'scrapy.downloadermiddlewares.cookies.CookiesMiddleware',\n",
      " 'scrapy.downloadermiddlewares.httpproxy.HttpProxyMiddleware',\n",
      " 'scrapy.downloadermiddlewares.stats.DownloaderStats']\n",
      "2025-04-27 17:02:34 [scrapy.middleware] INFO: Enabled spider middlewares:\n",
      "['scrapy.spidermiddlewares.httperror.HttpErrorMiddleware',\n",
      " 'scrapy.spidermiddlewares.referer.RefererMiddleware',\n",
      " 'scrapy.spidermiddlewares.urllength.UrlLengthMiddleware',\n",
      " 'scrapy.spidermiddlewares.depth.DepthMiddleware']\n",
      "2025-04-27 17:02:34 [scrapy.middleware] INFO: Enabled item pipelines:\n",
      "[]\n",
      "2025-04-27 17:02:34 [scrapy.core.engine] INFO: Spider opened\n",
      "2025-04-27 17:02:34 [scrapy.extensions.logstats] INFO: Crawled 0 pages (at 0 pages/min), scraped 0 items (at 0 items/min)\n",
      "2025-04-27 17:02:34 [scrapy.extensions.telnet] INFO: Telnet console listening on 127.0.0.1:6028\n",
      "2025-04-27 17:02:34 [scrapy.addons] INFO: Enabled addons:\n",
      "[]\n",
      "2025-04-27 17:02:34 [scrapy.extensions.telnet] INFO: Telnet Password: e674958f9dd751b7\n",
      "2025-04-27 17:02:34 [scrapy.middleware] INFO: Enabled extensions:\n",
      "['scrapy.extensions.corestats.CoreStats',\n",
      " 'scrapy.extensions.telnet.TelnetConsole',\n",
      " 'scrapy.extensions.feedexport.FeedExporter',\n",
      " 'scrapy.extensions.logstats.LogStats']\n",
      "2025-04-27 17:02:34 [scrapy.crawler] INFO: Overridden settings:\n",
      "{'LOG_LEVEL': 20, 'USER_AGENT': 'Chrome/97.0'}\n",
      "2025-04-27 17:02:34 [scrapy.middleware] INFO: Enabled downloader middlewares:\n",
      "['scrapy.downloadermiddlewares.offsite.OffsiteMiddleware',\n",
      " 'scrapy.downloadermiddlewares.httpauth.HttpAuthMiddleware',\n",
      " 'scrapy.downloadermiddlewares.downloadtimeout.DownloadTimeoutMiddleware',\n",
      " 'scrapy.downloadermiddlewares.defaultheaders.DefaultHeadersMiddleware',\n",
      " 'scrapy.downloadermiddlewares.useragent.UserAgentMiddleware',\n",
      " 'scrapy.downloadermiddlewares.retry.RetryMiddleware',\n",
      " 'scrapy.downloadermiddlewares.redirect.MetaRefreshMiddleware',\n",
      " 'scrapy.downloadermiddlewares.httpcompression.HttpCompressionMiddleware',\n",
      " 'scrapy.downloadermiddlewares.redirect.RedirectMiddleware',\n",
      " 'scrapy.downloadermiddlewares.cookies.CookiesMiddleware',\n",
      " 'scrapy.downloadermiddlewares.httpproxy.HttpProxyMiddleware',\n",
      " 'scrapy.downloadermiddlewares.stats.DownloaderStats']\n",
      "2025-04-27 17:02:34 [scrapy.middleware] INFO: Enabled spider middlewares:\n",
      "['scrapy.spidermiddlewares.httperror.HttpErrorMiddleware',\n",
      " 'scrapy.spidermiddlewares.referer.RefererMiddleware',\n",
      " 'scrapy.spidermiddlewares.urllength.UrlLengthMiddleware',\n",
      " 'scrapy.spidermiddlewares.depth.DepthMiddleware']\n",
      "2025-04-27 17:02:34 [scrapy.middleware] INFO: Enabled item pipelines:\n",
      "[]\n",
      "2025-04-27 17:02:34 [scrapy.core.engine] INFO: Spider opened\n",
      "2025-04-27 17:02:34 [scrapy.extensions.logstats] INFO: Crawled 0 pages (at 0 pages/min), scraped 0 items (at 0 items/min)\n",
      "2025-04-27 17:02:34 [scrapy.extensions.telnet] INFO: Telnet console listening on 127.0.0.1:6029\n",
      "2025-04-27 17:02:34 [scrapy.addons] INFO: Enabled addons:\n",
      "[]\n",
      "2025-04-27 17:02:34 [scrapy.extensions.telnet] INFO: Telnet Password: 7a457feea0f246c0\n",
      "2025-04-27 17:02:34 [scrapy.middleware] INFO: Enabled extensions:\n",
      "['scrapy.extensions.corestats.CoreStats',\n",
      " 'scrapy.extensions.telnet.TelnetConsole',\n",
      " 'scrapy.extensions.feedexport.FeedExporter',\n",
      " 'scrapy.extensions.logstats.LogStats']\n",
      "2025-04-27 17:02:34 [scrapy.crawler] INFO: Overridden settings:\n",
      "{'LOG_LEVEL': 20, 'USER_AGENT': 'Chrome/97.0'}\n",
      "2025-04-27 17:02:34 [scrapy.middleware] INFO: Enabled downloader middlewares:\n",
      "['scrapy.downloadermiddlewares.offsite.OffsiteMiddleware',\n",
      " 'scrapy.downloadermiddlewares.httpauth.HttpAuthMiddleware',\n",
      " 'scrapy.downloadermiddlewares.downloadtimeout.DownloadTimeoutMiddleware',\n",
      " 'scrapy.downloadermiddlewares.defaultheaders.DefaultHeadersMiddleware',\n",
      " 'scrapy.downloadermiddlewares.useragent.UserAgentMiddleware',\n",
      " 'scrapy.downloadermiddlewares.retry.RetryMiddleware',\n",
      " 'scrapy.downloadermiddlewares.redirect.MetaRefreshMiddleware',\n",
      " 'scrapy.downloadermiddlewares.httpcompression.HttpCompressionMiddleware',\n",
      " 'scrapy.downloadermiddlewares.redirect.RedirectMiddleware',\n",
      " 'scrapy.downloadermiddlewares.cookies.CookiesMiddleware',\n",
      " 'scrapy.downloadermiddlewares.httpproxy.HttpProxyMiddleware',\n",
      " 'scrapy.downloadermiddlewares.stats.DownloaderStats']\n",
      "2025-04-27 17:02:34 [scrapy.middleware] INFO: Enabled spider middlewares:\n",
      "['scrapy.spidermiddlewares.httperror.HttpErrorMiddleware',\n",
      " 'scrapy.spidermiddlewares.referer.RefererMiddleware',\n",
      " 'scrapy.spidermiddlewares.urllength.UrlLengthMiddleware',\n",
      " 'scrapy.spidermiddlewares.depth.DepthMiddleware']\n",
      "2025-04-27 17:02:34 [scrapy.middleware] INFO: Enabled item pipelines:\n",
      "[]\n",
      "2025-04-27 17:02:34 [scrapy.core.engine] INFO: Spider opened\n",
      "2025-04-27 17:02:34 [scrapy.extensions.logstats] INFO: Crawled 0 pages (at 0 pages/min), scraped 0 items (at 0 items/min)\n",
      "2025-04-27 17:02:34 [scrapy.extensions.telnet] INFO: Telnet console listening on 127.0.0.1:6030\n",
      "2025-04-27 17:02:34 [scrapy.addons] INFO: Enabled addons:\n",
      "[]\n",
      "2025-04-27 17:02:34 [scrapy.extensions.telnet] INFO: Telnet Password: e2fbc51bff4764ea\n",
      "2025-04-27 17:02:34 [scrapy.middleware] INFO: Enabled extensions:\n",
      "['scrapy.extensions.corestats.CoreStats',\n",
      " 'scrapy.extensions.telnet.TelnetConsole',\n",
      " 'scrapy.extensions.feedexport.FeedExporter',\n",
      " 'scrapy.extensions.logstats.LogStats']\n",
      "2025-04-27 17:02:34 [scrapy.crawler] INFO: Overridden settings:\n",
      "{'LOG_LEVEL': 20, 'USER_AGENT': 'Chrome/97.0'}\n",
      "2025-04-27 17:02:34 [scrapy.middleware] INFO: Enabled downloader middlewares:\n",
      "['scrapy.downloadermiddlewares.offsite.OffsiteMiddleware',\n",
      " 'scrapy.downloadermiddlewares.httpauth.HttpAuthMiddleware',\n",
      " 'scrapy.downloadermiddlewares.downloadtimeout.DownloadTimeoutMiddleware',\n",
      " 'scrapy.downloadermiddlewares.defaultheaders.DefaultHeadersMiddleware',\n",
      " 'scrapy.downloadermiddlewares.useragent.UserAgentMiddleware',\n",
      " 'scrapy.downloadermiddlewares.retry.RetryMiddleware',\n",
      " 'scrapy.downloadermiddlewares.redirect.MetaRefreshMiddleware',\n",
      " 'scrapy.downloadermiddlewares.httpcompression.HttpCompressionMiddleware',\n",
      " 'scrapy.downloadermiddlewares.redirect.RedirectMiddleware',\n",
      " 'scrapy.downloadermiddlewares.cookies.CookiesMiddleware',\n",
      " 'scrapy.downloadermiddlewares.httpproxy.HttpProxyMiddleware',\n",
      " 'scrapy.downloadermiddlewares.stats.DownloaderStats']\n",
      "2025-04-27 17:02:34 [scrapy.middleware] INFO: Enabled spider middlewares:\n",
      "['scrapy.spidermiddlewares.httperror.HttpErrorMiddleware',\n",
      " 'scrapy.spidermiddlewares.referer.RefererMiddleware',\n",
      " 'scrapy.spidermiddlewares.urllength.UrlLengthMiddleware',\n",
      " 'scrapy.spidermiddlewares.depth.DepthMiddleware']\n",
      "2025-04-27 17:02:34 [scrapy.middleware] INFO: Enabled item pipelines:\n",
      "[]\n",
      "2025-04-27 17:02:34 [scrapy.core.engine] INFO: Spider opened\n",
      "2025-04-27 17:02:34 [scrapy.extensions.logstats] INFO: Crawled 0 pages (at 0 pages/min), scraped 0 items (at 0 items/min)\n",
      "2025-04-27 17:02:34 [scrapy.extensions.telnet] INFO: Telnet console listening on 127.0.0.1:6031\n",
      "2025-04-27 17:02:34 [scrapy.addons] INFO: Enabled addons:\n",
      "[]\n",
      "2025-04-27 17:02:34 [scrapy.extensions.telnet] INFO: Telnet Password: c99d460a90dccb2f\n",
      "2025-04-27 17:02:34 [scrapy.middleware] INFO: Enabled extensions:\n",
      "['scrapy.extensions.corestats.CoreStats',\n",
      " 'scrapy.extensions.telnet.TelnetConsole',\n",
      " 'scrapy.extensions.feedexport.FeedExporter',\n",
      " 'scrapy.extensions.logstats.LogStats']\n",
      "2025-04-27 17:02:34 [scrapy.crawler] INFO: Overridden settings:\n",
      "{'LOG_LEVEL': 20, 'USER_AGENT': 'Chrome/97.0'}\n",
      "2025-04-27 17:02:34 [scrapy.middleware] INFO: Enabled downloader middlewares:\n",
      "['scrapy.downloadermiddlewares.offsite.OffsiteMiddleware',\n",
      " 'scrapy.downloadermiddlewares.httpauth.HttpAuthMiddleware',\n",
      " 'scrapy.downloadermiddlewares.downloadtimeout.DownloadTimeoutMiddleware',\n",
      " 'scrapy.downloadermiddlewares.defaultheaders.DefaultHeadersMiddleware',\n",
      " 'scrapy.downloadermiddlewares.useragent.UserAgentMiddleware',\n",
      " 'scrapy.downloadermiddlewares.retry.RetryMiddleware',\n",
      " 'scrapy.downloadermiddlewares.redirect.MetaRefreshMiddleware',\n",
      " 'scrapy.downloadermiddlewares.httpcompression.HttpCompressionMiddleware',\n",
      " 'scrapy.downloadermiddlewares.redirect.RedirectMiddleware',\n",
      " 'scrapy.downloadermiddlewares.cookies.CookiesMiddleware',\n",
      " 'scrapy.downloadermiddlewares.httpproxy.HttpProxyMiddleware',\n",
      " 'scrapy.downloadermiddlewares.stats.DownloaderStats']\n",
      "2025-04-27 17:02:34 [scrapy.middleware] INFO: Enabled spider middlewares:\n",
      "['scrapy.spidermiddlewares.httperror.HttpErrorMiddleware',\n",
      " 'scrapy.spidermiddlewares.referer.RefererMiddleware',\n",
      " 'scrapy.spidermiddlewares.urllength.UrlLengthMiddleware',\n",
      " 'scrapy.spidermiddlewares.depth.DepthMiddleware']\n",
      "2025-04-27 17:02:34 [scrapy.middleware] INFO: Enabled item pipelines:\n",
      "[]\n",
      "2025-04-27 17:02:34 [scrapy.core.engine] INFO: Spider opened\n",
      "2025-04-27 17:02:34 [scrapy.extensions.logstats] INFO: Crawled 0 pages (at 0 pages/min), scraped 0 items (at 0 items/min)\n",
      "2025-04-27 17:02:34 [scrapy.extensions.telnet] INFO: Telnet console listening on 127.0.0.1:6032\n",
      "2025-04-27 17:02:34 [scrapy.addons] INFO: Enabled addons:\n",
      "[]\n",
      "2025-04-27 17:02:34 [scrapy.extensions.telnet] INFO: Telnet Password: 08fb48ada18fca1e\n",
      "2025-04-27 17:02:34 [scrapy.middleware] INFO: Enabled extensions:\n",
      "['scrapy.extensions.corestats.CoreStats',\n",
      " 'scrapy.extensions.telnet.TelnetConsole',\n",
      " 'scrapy.extensions.feedexport.FeedExporter',\n",
      " 'scrapy.extensions.logstats.LogStats']\n",
      "2025-04-27 17:02:34 [scrapy.crawler] INFO: Overridden settings:\n",
      "{'LOG_LEVEL': 20, 'USER_AGENT': 'Chrome/97.0'}\n",
      "2025-04-27 17:02:34 [scrapy.middleware] INFO: Enabled downloader middlewares:\n",
      "['scrapy.downloadermiddlewares.offsite.OffsiteMiddleware',\n",
      " 'scrapy.downloadermiddlewares.httpauth.HttpAuthMiddleware',\n",
      " 'scrapy.downloadermiddlewares.downloadtimeout.DownloadTimeoutMiddleware',\n",
      " 'scrapy.downloadermiddlewares.defaultheaders.DefaultHeadersMiddleware',\n",
      " 'scrapy.downloadermiddlewares.useragent.UserAgentMiddleware',\n",
      " 'scrapy.downloadermiddlewares.retry.RetryMiddleware',\n",
      " 'scrapy.downloadermiddlewares.redirect.MetaRefreshMiddleware',\n",
      " 'scrapy.downloadermiddlewares.httpcompression.HttpCompressionMiddleware',\n",
      " 'scrapy.downloadermiddlewares.redirect.RedirectMiddleware',\n",
      " 'scrapy.downloadermiddlewares.cookies.CookiesMiddleware',\n",
      " 'scrapy.downloadermiddlewares.httpproxy.HttpProxyMiddleware',\n",
      " 'scrapy.downloadermiddlewares.stats.DownloaderStats']\n",
      "2025-04-27 17:02:34 [scrapy.middleware] INFO: Enabled spider middlewares:\n",
      "['scrapy.spidermiddlewares.httperror.HttpErrorMiddleware',\n",
      " 'scrapy.spidermiddlewares.referer.RefererMiddleware',\n",
      " 'scrapy.spidermiddlewares.urllength.UrlLengthMiddleware',\n",
      " 'scrapy.spidermiddlewares.depth.DepthMiddleware']\n",
      "2025-04-27 17:02:34 [scrapy.middleware] INFO: Enabled item pipelines:\n",
      "[]\n",
      "2025-04-27 17:02:34 [scrapy.core.engine] INFO: Spider opened\n",
      "2025-04-27 17:02:34 [scrapy.extensions.logstats] INFO: Crawled 0 pages (at 0 pages/min), scraped 0 items (at 0 items/min)\n",
      "2025-04-27 17:02:34 [scrapy.extensions.telnet] INFO: Telnet console listening on 127.0.0.1:6033\n",
      "2025-04-27 17:02:34 [scrapy.addons] INFO: Enabled addons:\n",
      "[]\n",
      "2025-04-27 17:02:34 [scrapy.extensions.telnet] INFO: Telnet Password: fdf0aaea08a3edd5\n",
      "2025-04-27 17:02:34 [scrapy.middleware] INFO: Enabled extensions:\n",
      "['scrapy.extensions.corestats.CoreStats',\n",
      " 'scrapy.extensions.telnet.TelnetConsole',\n",
      " 'scrapy.extensions.feedexport.FeedExporter',\n",
      " 'scrapy.extensions.logstats.LogStats']\n",
      "2025-04-27 17:02:34 [scrapy.crawler] INFO: Overridden settings:\n",
      "{'LOG_LEVEL': 20, 'USER_AGENT': 'Chrome/97.0'}\n",
      "2025-04-27 17:02:34 [scrapy.middleware] INFO: Enabled downloader middlewares:\n",
      "['scrapy.downloadermiddlewares.offsite.OffsiteMiddleware',\n",
      " 'scrapy.downloadermiddlewares.httpauth.HttpAuthMiddleware',\n",
      " 'scrapy.downloadermiddlewares.downloadtimeout.DownloadTimeoutMiddleware',\n",
      " 'scrapy.downloadermiddlewares.defaultheaders.DefaultHeadersMiddleware',\n",
      " 'scrapy.downloadermiddlewares.useragent.UserAgentMiddleware',\n",
      " 'scrapy.downloadermiddlewares.retry.RetryMiddleware',\n",
      " 'scrapy.downloadermiddlewares.redirect.MetaRefreshMiddleware',\n",
      " 'scrapy.downloadermiddlewares.httpcompression.HttpCompressionMiddleware',\n",
      " 'scrapy.downloadermiddlewares.redirect.RedirectMiddleware',\n",
      " 'scrapy.downloadermiddlewares.cookies.CookiesMiddleware',\n",
      " 'scrapy.downloadermiddlewares.httpproxy.HttpProxyMiddleware',\n",
      " 'scrapy.downloadermiddlewares.stats.DownloaderStats']\n",
      "2025-04-27 17:02:34 [scrapy.middleware] INFO: Enabled spider middlewares:\n",
      "['scrapy.spidermiddlewares.httperror.HttpErrorMiddleware',\n",
      " 'scrapy.spidermiddlewares.referer.RefererMiddleware',\n",
      " 'scrapy.spidermiddlewares.urllength.UrlLengthMiddleware',\n",
      " 'scrapy.spidermiddlewares.depth.DepthMiddleware']\n",
      "2025-04-27 17:02:34 [scrapy.middleware] INFO: Enabled item pipelines:\n",
      "[]\n",
      "2025-04-27 17:02:34 [scrapy.core.engine] INFO: Spider opened\n",
      "2025-04-27 17:02:34 [scrapy.extensions.logstats] INFO: Crawled 0 pages (at 0 pages/min), scraped 0 items (at 0 items/min)\n",
      "2025-04-27 17:02:34 [scrapy.extensions.telnet] INFO: Telnet console listening on 127.0.0.1:6034\n",
      "2025-04-27 17:02:34 [scrapy.addons] INFO: Enabled addons:\n",
      "[]\n",
      "2025-04-27 17:02:34 [scrapy.extensions.telnet] INFO: Telnet Password: 00e96d86a3561082\n",
      "2025-04-27 17:02:34 [scrapy.middleware] INFO: Enabled extensions:\n",
      "['scrapy.extensions.corestats.CoreStats',\n",
      " 'scrapy.extensions.telnet.TelnetConsole',\n",
      " 'scrapy.extensions.feedexport.FeedExporter',\n",
      " 'scrapy.extensions.logstats.LogStats']\n",
      "2025-04-27 17:02:34 [scrapy.crawler] INFO: Overridden settings:\n",
      "{'LOG_LEVEL': 20, 'USER_AGENT': 'Chrome/97.0'}\n",
      "2025-04-27 17:02:34 [scrapy.middleware] INFO: Enabled downloader middlewares:\n",
      "['scrapy.downloadermiddlewares.offsite.OffsiteMiddleware',\n",
      " 'scrapy.downloadermiddlewares.httpauth.HttpAuthMiddleware',\n",
      " 'scrapy.downloadermiddlewares.downloadtimeout.DownloadTimeoutMiddleware',\n",
      " 'scrapy.downloadermiddlewares.defaultheaders.DefaultHeadersMiddleware',\n",
      " 'scrapy.downloadermiddlewares.useragent.UserAgentMiddleware',\n",
      " 'scrapy.downloadermiddlewares.retry.RetryMiddleware',\n",
      " 'scrapy.downloadermiddlewares.redirect.MetaRefreshMiddleware',\n",
      " 'scrapy.downloadermiddlewares.httpcompression.HttpCompressionMiddleware',\n",
      " 'scrapy.downloadermiddlewares.redirect.RedirectMiddleware',\n",
      " 'scrapy.downloadermiddlewares.cookies.CookiesMiddleware',\n",
      " 'scrapy.downloadermiddlewares.httpproxy.HttpProxyMiddleware',\n",
      " 'scrapy.downloadermiddlewares.stats.DownloaderStats']\n",
      "2025-04-27 17:02:34 [scrapy.middleware] INFO: Enabled spider middlewares:\n",
      "['scrapy.spidermiddlewares.httperror.HttpErrorMiddleware',\n",
      " 'scrapy.spidermiddlewares.referer.RefererMiddleware',\n",
      " 'scrapy.spidermiddlewares.urllength.UrlLengthMiddleware',\n",
      " 'scrapy.spidermiddlewares.depth.DepthMiddleware']\n",
      "2025-04-27 17:02:34 [scrapy.middleware] INFO: Enabled item pipelines:\n",
      "[]\n",
      "2025-04-27 17:02:34 [scrapy.core.engine] INFO: Spider opened\n",
      "2025-04-27 17:02:34 [scrapy.extensions.logstats] INFO: Crawled 0 pages (at 0 pages/min), scraped 0 items (at 0 items/min)\n",
      "2025-04-27 17:02:34 [scrapy.extensions.telnet] INFO: Telnet console listening on 127.0.0.1:6035\n",
      "2025-04-27 17:02:34 [scrapy.addons] INFO: Enabled addons:\n",
      "[]\n",
      "2025-04-27 17:02:34 [scrapy.extensions.telnet] INFO: Telnet Password: 8e24d9e293a03c87\n",
      "2025-04-27 17:02:34 [scrapy.middleware] INFO: Enabled extensions:\n",
      "['scrapy.extensions.corestats.CoreStats',\n",
      " 'scrapy.extensions.telnet.TelnetConsole',\n",
      " 'scrapy.extensions.feedexport.FeedExporter',\n",
      " 'scrapy.extensions.logstats.LogStats']\n",
      "2025-04-27 17:02:34 [scrapy.crawler] INFO: Overridden settings:\n",
      "{'LOG_LEVEL': 20, 'USER_AGENT': 'Chrome/97.0'}\n",
      "2025-04-27 17:02:34 [scrapy.middleware] INFO: Enabled downloader middlewares:\n",
      "['scrapy.downloadermiddlewares.offsite.OffsiteMiddleware',\n",
      " 'scrapy.downloadermiddlewares.httpauth.HttpAuthMiddleware',\n",
      " 'scrapy.downloadermiddlewares.downloadtimeout.DownloadTimeoutMiddleware',\n",
      " 'scrapy.downloadermiddlewares.defaultheaders.DefaultHeadersMiddleware',\n",
      " 'scrapy.downloadermiddlewares.useragent.UserAgentMiddleware',\n",
      " 'scrapy.downloadermiddlewares.retry.RetryMiddleware',\n",
      " 'scrapy.downloadermiddlewares.redirect.MetaRefreshMiddleware',\n",
      " 'scrapy.downloadermiddlewares.httpcompression.HttpCompressionMiddleware',\n",
      " 'scrapy.downloadermiddlewares.redirect.RedirectMiddleware',\n",
      " 'scrapy.downloadermiddlewares.cookies.CookiesMiddleware',\n",
      " 'scrapy.downloadermiddlewares.httpproxy.HttpProxyMiddleware',\n",
      " 'scrapy.downloadermiddlewares.stats.DownloaderStats']\n",
      "2025-04-27 17:02:34 [scrapy.middleware] INFO: Enabled spider middlewares:\n",
      "['scrapy.spidermiddlewares.httperror.HttpErrorMiddleware',\n",
      " 'scrapy.spidermiddlewares.referer.RefererMiddleware',\n",
      " 'scrapy.spidermiddlewares.urllength.UrlLengthMiddleware',\n",
      " 'scrapy.spidermiddlewares.depth.DepthMiddleware']\n",
      "2025-04-27 17:02:34 [scrapy.middleware] INFO: Enabled item pipelines:\n",
      "[]\n",
      "2025-04-27 17:02:34 [scrapy.core.engine] INFO: Spider opened\n",
      "2025-04-27 17:02:34 [scrapy.extensions.logstats] INFO: Crawled 0 pages (at 0 pages/min), scraped 0 items (at 0 items/min)\n",
      "2025-04-27 17:02:34 [scrapy.extensions.telnet] INFO: Telnet console listening on 127.0.0.1:6036\n",
      "2025-04-27 17:02:34 [scrapy.addons] INFO: Enabled addons:\n",
      "[]\n",
      "2025-04-27 17:02:34 [scrapy.extensions.telnet] INFO: Telnet Password: 6b7866a8e0f3c15b\n",
      "2025-04-27 17:02:34 [scrapy.middleware] INFO: Enabled extensions:\n",
      "['scrapy.extensions.corestats.CoreStats',\n",
      " 'scrapy.extensions.telnet.TelnetConsole',\n",
      " 'scrapy.extensions.feedexport.FeedExporter',\n",
      " 'scrapy.extensions.logstats.LogStats']\n",
      "2025-04-27 17:02:34 [scrapy.crawler] INFO: Overridden settings:\n",
      "{'LOG_LEVEL': 20, 'USER_AGENT': 'Chrome/97.0'}\n",
      "2025-04-27 17:02:34 [scrapy.middleware] INFO: Enabled downloader middlewares:\n",
      "['scrapy.downloadermiddlewares.offsite.OffsiteMiddleware',\n",
      " 'scrapy.downloadermiddlewares.httpauth.HttpAuthMiddleware',\n",
      " 'scrapy.downloadermiddlewares.downloadtimeout.DownloadTimeoutMiddleware',\n",
      " 'scrapy.downloadermiddlewares.defaultheaders.DefaultHeadersMiddleware',\n",
      " 'scrapy.downloadermiddlewares.useragent.UserAgentMiddleware',\n",
      " 'scrapy.downloadermiddlewares.retry.RetryMiddleware',\n",
      " 'scrapy.downloadermiddlewares.redirect.MetaRefreshMiddleware',\n",
      " 'scrapy.downloadermiddlewares.httpcompression.HttpCompressionMiddleware',\n",
      " 'scrapy.downloadermiddlewares.redirect.RedirectMiddleware',\n",
      " 'scrapy.downloadermiddlewares.cookies.CookiesMiddleware',\n",
      " 'scrapy.downloadermiddlewares.httpproxy.HttpProxyMiddleware',\n",
      " 'scrapy.downloadermiddlewares.stats.DownloaderStats']\n",
      "2025-04-27 17:02:34 [scrapy.middleware] INFO: Enabled spider middlewares:\n",
      "['scrapy.spidermiddlewares.httperror.HttpErrorMiddleware',\n",
      " 'scrapy.spidermiddlewares.referer.RefererMiddleware',\n",
      " 'scrapy.spidermiddlewares.urllength.UrlLengthMiddleware',\n",
      " 'scrapy.spidermiddlewares.depth.DepthMiddleware']\n",
      "2025-04-27 17:02:34 [scrapy.middleware] INFO: Enabled item pipelines:\n",
      "[]\n",
      "2025-04-27 17:02:34 [scrapy.core.engine] INFO: Spider opened\n",
      "2025-04-27 17:02:34 [scrapy.extensions.logstats] INFO: Crawled 0 pages (at 0 pages/min), scraped 0 items (at 0 items/min)\n",
      "2025-04-27 17:02:34 [scrapy.extensions.telnet] INFO: Telnet console listening on 127.0.0.1:6037\n",
      "2025-04-27 17:02:34 [scrapy.addons] INFO: Enabled addons:\n",
      "[]\n",
      "2025-04-27 17:02:34 [scrapy.extensions.telnet] INFO: Telnet Password: 687e96e2464d114f\n",
      "2025-04-27 17:02:34 [scrapy.middleware] INFO: Enabled extensions:\n",
      "['scrapy.extensions.corestats.CoreStats',\n",
      " 'scrapy.extensions.telnet.TelnetConsole',\n",
      " 'scrapy.extensions.feedexport.FeedExporter',\n",
      " 'scrapy.extensions.logstats.LogStats']\n",
      "2025-04-27 17:02:34 [scrapy.crawler] INFO: Overridden settings:\n",
      "{'LOG_LEVEL': 20, 'USER_AGENT': 'Chrome/97.0'}\n",
      "2025-04-27 17:02:34 [scrapy.middleware] INFO: Enabled downloader middlewares:\n",
      "['scrapy.downloadermiddlewares.offsite.OffsiteMiddleware',\n",
      " 'scrapy.downloadermiddlewares.httpauth.HttpAuthMiddleware',\n",
      " 'scrapy.downloadermiddlewares.downloadtimeout.DownloadTimeoutMiddleware',\n",
      " 'scrapy.downloadermiddlewares.defaultheaders.DefaultHeadersMiddleware',\n",
      " 'scrapy.downloadermiddlewares.useragent.UserAgentMiddleware',\n",
      " 'scrapy.downloadermiddlewares.retry.RetryMiddleware',\n",
      " 'scrapy.downloadermiddlewares.redirect.MetaRefreshMiddleware',\n",
      " 'scrapy.downloadermiddlewares.httpcompression.HttpCompressionMiddleware',\n",
      " 'scrapy.downloadermiddlewares.redirect.RedirectMiddleware',\n",
      " 'scrapy.downloadermiddlewares.cookies.CookiesMiddleware',\n",
      " 'scrapy.downloadermiddlewares.httpproxy.HttpProxyMiddleware',\n",
      " 'scrapy.downloadermiddlewares.stats.DownloaderStats']\n",
      "2025-04-27 17:02:34 [scrapy.middleware] INFO: Enabled spider middlewares:\n",
      "['scrapy.spidermiddlewares.httperror.HttpErrorMiddleware',\n",
      " 'scrapy.spidermiddlewares.referer.RefererMiddleware',\n",
      " 'scrapy.spidermiddlewares.urllength.UrlLengthMiddleware',\n",
      " 'scrapy.spidermiddlewares.depth.DepthMiddleware']\n",
      "2025-04-27 17:02:34 [scrapy.middleware] INFO: Enabled item pipelines:\n",
      "[]\n",
      "2025-04-27 17:02:34 [scrapy.core.engine] INFO: Spider opened\n",
      "2025-04-27 17:02:34 [scrapy.extensions.logstats] INFO: Crawled 0 pages (at 0 pages/min), scraped 0 items (at 0 items/min)\n",
      "2025-04-27 17:02:34 [scrapy.extensions.telnet] INFO: Telnet console listening on 127.0.0.1:6038\n",
      "2025-04-27 17:02:34 [scrapy.addons] INFO: Enabled addons:\n",
      "[]\n",
      "2025-04-27 17:02:34 [scrapy.extensions.telnet] INFO: Telnet Password: aa7d5eedf8e62117\n",
      "2025-04-27 17:02:34 [scrapy.middleware] INFO: Enabled extensions:\n",
      "['scrapy.extensions.corestats.CoreStats',\n",
      " 'scrapy.extensions.telnet.TelnetConsole',\n",
      " 'scrapy.extensions.feedexport.FeedExporter',\n",
      " 'scrapy.extensions.logstats.LogStats']\n",
      "2025-04-27 17:02:34 [scrapy.crawler] INFO: Overridden settings:\n",
      "{'LOG_LEVEL': 20, 'USER_AGENT': 'Chrome/97.0'}\n",
      "2025-04-27 17:02:34 [scrapy.middleware] INFO: Enabled downloader middlewares:\n",
      "['scrapy.downloadermiddlewares.offsite.OffsiteMiddleware',\n",
      " 'scrapy.downloadermiddlewares.httpauth.HttpAuthMiddleware',\n",
      " 'scrapy.downloadermiddlewares.downloadtimeout.DownloadTimeoutMiddleware',\n",
      " 'scrapy.downloadermiddlewares.defaultheaders.DefaultHeadersMiddleware',\n",
      " 'scrapy.downloadermiddlewares.useragent.UserAgentMiddleware',\n",
      " 'scrapy.downloadermiddlewares.retry.RetryMiddleware',\n",
      " 'scrapy.downloadermiddlewares.redirect.MetaRefreshMiddleware',\n",
      " 'scrapy.downloadermiddlewares.httpcompression.HttpCompressionMiddleware',\n",
      " 'scrapy.downloadermiddlewares.redirect.RedirectMiddleware',\n",
      " 'scrapy.downloadermiddlewares.cookies.CookiesMiddleware',\n",
      " 'scrapy.downloadermiddlewares.httpproxy.HttpProxyMiddleware',\n",
      " 'scrapy.downloadermiddlewares.stats.DownloaderStats']\n",
      "2025-04-27 17:02:34 [scrapy.middleware] INFO: Enabled spider middlewares:\n",
      "['scrapy.spidermiddlewares.httperror.HttpErrorMiddleware',\n",
      " 'scrapy.spidermiddlewares.referer.RefererMiddleware',\n",
      " 'scrapy.spidermiddlewares.urllength.UrlLengthMiddleware',\n",
      " 'scrapy.spidermiddlewares.depth.DepthMiddleware']\n",
      "2025-04-27 17:02:34 [scrapy.middleware] INFO: Enabled item pipelines:\n",
      "[]\n",
      "2025-04-27 17:02:34 [scrapy.core.engine] INFO: Spider opened\n",
      "2025-04-27 17:02:34 [scrapy.extensions.logstats] INFO: Crawled 0 pages (at 0 pages/min), scraped 0 items (at 0 items/min)\n",
      "2025-04-27 17:02:34 [scrapy.extensions.telnet] INFO: Telnet console listening on 127.0.0.1:6039\n",
      "2025-04-27 17:02:34 [scrapy.addons] INFO: Enabled addons:\n",
      "[]\n",
      "2025-04-27 17:02:34 [scrapy.extensions.telnet] INFO: Telnet Password: b62bab686d2dbbd3\n",
      "2025-04-27 17:02:34 [scrapy.middleware] INFO: Enabled extensions:\n",
      "['scrapy.extensions.corestats.CoreStats',\n",
      " 'scrapy.extensions.telnet.TelnetConsole',\n",
      " 'scrapy.extensions.feedexport.FeedExporter',\n",
      " 'scrapy.extensions.logstats.LogStats']\n",
      "2025-04-27 17:02:34 [scrapy.crawler] INFO: Overridden settings:\n",
      "{'LOG_LEVEL': 20, 'USER_AGENT': 'Chrome/97.0'}\n",
      "2025-04-27 17:02:34 [scrapy.middleware] INFO: Enabled downloader middlewares:\n",
      "['scrapy.downloadermiddlewares.offsite.OffsiteMiddleware',\n",
      " 'scrapy.downloadermiddlewares.httpauth.HttpAuthMiddleware',\n",
      " 'scrapy.downloadermiddlewares.downloadtimeout.DownloadTimeoutMiddleware',\n",
      " 'scrapy.downloadermiddlewares.defaultheaders.DefaultHeadersMiddleware',\n",
      " 'scrapy.downloadermiddlewares.useragent.UserAgentMiddleware',\n",
      " 'scrapy.downloadermiddlewares.retry.RetryMiddleware',\n",
      " 'scrapy.downloadermiddlewares.redirect.MetaRefreshMiddleware',\n",
      " 'scrapy.downloadermiddlewares.httpcompression.HttpCompressionMiddleware',\n",
      " 'scrapy.downloadermiddlewares.redirect.RedirectMiddleware',\n",
      " 'scrapy.downloadermiddlewares.cookies.CookiesMiddleware',\n",
      " 'scrapy.downloadermiddlewares.httpproxy.HttpProxyMiddleware',\n",
      " 'scrapy.downloadermiddlewares.stats.DownloaderStats']\n",
      "2025-04-27 17:02:34 [scrapy.middleware] INFO: Enabled spider middlewares:\n",
      "['scrapy.spidermiddlewares.httperror.HttpErrorMiddleware',\n",
      " 'scrapy.spidermiddlewares.referer.RefererMiddleware',\n",
      " 'scrapy.spidermiddlewares.urllength.UrlLengthMiddleware',\n",
      " 'scrapy.spidermiddlewares.depth.DepthMiddleware']\n",
      "2025-04-27 17:02:34 [scrapy.middleware] INFO: Enabled item pipelines:\n",
      "[]\n",
      "2025-04-27 17:02:34 [scrapy.core.engine] INFO: Spider opened\n",
      "2025-04-27 17:02:34 [scrapy.extensions.logstats] INFO: Crawled 0 pages (at 0 pages/min), scraped 0 items (at 0 items/min)\n",
      "2025-04-27 17:02:34 [scrapy.extensions.telnet] INFO: Telnet console listening on 127.0.0.1:6040\n",
      "2025-04-27 17:02:34 [scrapy.addons] INFO: Enabled addons:\n",
      "[]\n",
      "2025-04-27 17:02:34 [scrapy.extensions.telnet] INFO: Telnet Password: b4aa5fe70eb085d2\n",
      "2025-04-27 17:02:34 [scrapy.middleware] INFO: Enabled extensions:\n",
      "['scrapy.extensions.corestats.CoreStats',\n",
      " 'scrapy.extensions.telnet.TelnetConsole',\n",
      " 'scrapy.extensions.feedexport.FeedExporter',\n",
      " 'scrapy.extensions.logstats.LogStats']\n",
      "2025-04-27 17:02:34 [scrapy.crawler] INFO: Overridden settings:\n",
      "{'LOG_LEVEL': 20, 'USER_AGENT': 'Chrome/97.0'}\n",
      "2025-04-27 17:02:34 [scrapy.middleware] INFO: Enabled downloader middlewares:\n",
      "['scrapy.downloadermiddlewares.offsite.OffsiteMiddleware',\n",
      " 'scrapy.downloadermiddlewares.httpauth.HttpAuthMiddleware',\n",
      " 'scrapy.downloadermiddlewares.downloadtimeout.DownloadTimeoutMiddleware',\n",
      " 'scrapy.downloadermiddlewares.defaultheaders.DefaultHeadersMiddleware',\n",
      " 'scrapy.downloadermiddlewares.useragent.UserAgentMiddleware',\n",
      " 'scrapy.downloadermiddlewares.retry.RetryMiddleware',\n",
      " 'scrapy.downloadermiddlewares.redirect.MetaRefreshMiddleware',\n",
      " 'scrapy.downloadermiddlewares.httpcompression.HttpCompressionMiddleware',\n",
      " 'scrapy.downloadermiddlewares.redirect.RedirectMiddleware',\n",
      " 'scrapy.downloadermiddlewares.cookies.CookiesMiddleware',\n",
      " 'scrapy.downloadermiddlewares.httpproxy.HttpProxyMiddleware',\n",
      " 'scrapy.downloadermiddlewares.stats.DownloaderStats']\n",
      "2025-04-27 17:02:34 [scrapy.middleware] INFO: Enabled spider middlewares:\n",
      "['scrapy.spidermiddlewares.httperror.HttpErrorMiddleware',\n",
      " 'scrapy.spidermiddlewares.referer.RefererMiddleware',\n",
      " 'scrapy.spidermiddlewares.urllength.UrlLengthMiddleware',\n",
      " 'scrapy.spidermiddlewares.depth.DepthMiddleware']\n",
      "2025-04-27 17:02:34 [scrapy.middleware] INFO: Enabled item pipelines:\n",
      "[]\n",
      "2025-04-27 17:02:34 [scrapy.core.engine] INFO: Spider opened\n",
      "2025-04-27 17:02:34 [scrapy.extensions.logstats] INFO: Crawled 0 pages (at 0 pages/min), scraped 0 items (at 0 items/min)\n",
      "2025-04-27 17:02:34 [scrapy.extensions.telnet] INFO: Telnet console listening on 127.0.0.1:6041\n",
      "2025-04-27 17:02:34 [scrapy.addons] INFO: Enabled addons:\n",
      "[]\n",
      "2025-04-27 17:02:34 [scrapy.extensions.telnet] INFO: Telnet Password: 54f755e4b7ddb39e\n",
      "2025-04-27 17:02:34 [scrapy.middleware] INFO: Enabled extensions:\n",
      "['scrapy.extensions.corestats.CoreStats',\n",
      " 'scrapy.extensions.telnet.TelnetConsole',\n",
      " 'scrapy.extensions.feedexport.FeedExporter',\n",
      " 'scrapy.extensions.logstats.LogStats']\n",
      "2025-04-27 17:02:34 [scrapy.crawler] INFO: Overridden settings:\n",
      "{'LOG_LEVEL': 20, 'USER_AGENT': 'Chrome/97.0'}\n",
      "2025-04-27 17:02:34 [scrapy.middleware] INFO: Enabled downloader middlewares:\n",
      "['scrapy.downloadermiddlewares.offsite.OffsiteMiddleware',\n",
      " 'scrapy.downloadermiddlewares.httpauth.HttpAuthMiddleware',\n",
      " 'scrapy.downloadermiddlewares.downloadtimeout.DownloadTimeoutMiddleware',\n",
      " 'scrapy.downloadermiddlewares.defaultheaders.DefaultHeadersMiddleware',\n",
      " 'scrapy.downloadermiddlewares.useragent.UserAgentMiddleware',\n",
      " 'scrapy.downloadermiddlewares.retry.RetryMiddleware',\n",
      " 'scrapy.downloadermiddlewares.redirect.MetaRefreshMiddleware',\n",
      " 'scrapy.downloadermiddlewares.httpcompression.HttpCompressionMiddleware',\n",
      " 'scrapy.downloadermiddlewares.redirect.RedirectMiddleware',\n",
      " 'scrapy.downloadermiddlewares.cookies.CookiesMiddleware',\n",
      " 'scrapy.downloadermiddlewares.httpproxy.HttpProxyMiddleware',\n",
      " 'scrapy.downloadermiddlewares.stats.DownloaderStats']\n",
      "2025-04-27 17:02:34 [scrapy.middleware] INFO: Enabled spider middlewares:\n",
      "['scrapy.spidermiddlewares.httperror.HttpErrorMiddleware',\n",
      " 'scrapy.spidermiddlewares.referer.RefererMiddleware',\n",
      " 'scrapy.spidermiddlewares.urllength.UrlLengthMiddleware',\n",
      " 'scrapy.spidermiddlewares.depth.DepthMiddleware']\n",
      "2025-04-27 17:02:34 [scrapy.middleware] INFO: Enabled item pipelines:\n",
      "[]\n",
      "2025-04-27 17:02:34 [scrapy.core.engine] INFO: Spider opened\n",
      "2025-04-27 17:02:34 [scrapy.extensions.logstats] INFO: Crawled 0 pages (at 0 pages/min), scraped 0 items (at 0 items/min)\n",
      "2025-04-27 17:02:34 [scrapy.extensions.telnet] INFO: Telnet console listening on 127.0.0.1:6042\n",
      "2025-04-27 17:02:34 [scrapy.addons] INFO: Enabled addons:\n",
      "[]\n",
      "2025-04-27 17:02:34 [scrapy.extensions.telnet] INFO: Telnet Password: a1c227562fc5b2af\n",
      "2025-04-27 17:02:34 [scrapy.middleware] INFO: Enabled extensions:\n",
      "['scrapy.extensions.corestats.CoreStats',\n",
      " 'scrapy.extensions.telnet.TelnetConsole',\n",
      " 'scrapy.extensions.feedexport.FeedExporter',\n",
      " 'scrapy.extensions.logstats.LogStats']\n",
      "2025-04-27 17:02:34 [scrapy.crawler] INFO: Overridden settings:\n",
      "{'LOG_LEVEL': 20, 'USER_AGENT': 'Chrome/97.0'}\n",
      "2025-04-27 17:02:34 [scrapy.middleware] INFO: Enabled downloader middlewares:\n",
      "['scrapy.downloadermiddlewares.offsite.OffsiteMiddleware',\n",
      " 'scrapy.downloadermiddlewares.httpauth.HttpAuthMiddleware',\n",
      " 'scrapy.downloadermiddlewares.downloadtimeout.DownloadTimeoutMiddleware',\n",
      " 'scrapy.downloadermiddlewares.defaultheaders.DefaultHeadersMiddleware',\n",
      " 'scrapy.downloadermiddlewares.useragent.UserAgentMiddleware',\n",
      " 'scrapy.downloadermiddlewares.retry.RetryMiddleware',\n",
      " 'scrapy.downloadermiddlewares.redirect.MetaRefreshMiddleware',\n",
      " 'scrapy.downloadermiddlewares.httpcompression.HttpCompressionMiddleware',\n",
      " 'scrapy.downloadermiddlewares.redirect.RedirectMiddleware',\n",
      " 'scrapy.downloadermiddlewares.cookies.CookiesMiddleware',\n",
      " 'scrapy.downloadermiddlewares.httpproxy.HttpProxyMiddleware',\n",
      " 'scrapy.downloadermiddlewares.stats.DownloaderStats']\n",
      "2025-04-27 17:02:34 [scrapy.middleware] INFO: Enabled spider middlewares:\n",
      "['scrapy.spidermiddlewares.httperror.HttpErrorMiddleware',\n",
      " 'scrapy.spidermiddlewares.referer.RefererMiddleware',\n",
      " 'scrapy.spidermiddlewares.urllength.UrlLengthMiddleware',\n",
      " 'scrapy.spidermiddlewares.depth.DepthMiddleware']\n",
      "2025-04-27 17:02:34 [scrapy.middleware] INFO: Enabled item pipelines:\n",
      "[]\n",
      "2025-04-27 17:02:34 [scrapy.core.engine] INFO: Spider opened\n",
      "2025-04-27 17:02:34 [scrapy.extensions.logstats] INFO: Crawled 0 pages (at 0 pages/min), scraped 0 items (at 0 items/min)\n",
      "2025-04-27 17:02:34 [scrapy.extensions.telnet] INFO: Telnet console listening on 127.0.0.1:6043\n",
      "2025-04-27 17:02:34 [scrapy.addons] INFO: Enabled addons:\n",
      "[]\n",
      "2025-04-27 17:02:34 [scrapy.extensions.telnet] INFO: Telnet Password: ed040010b2db6962\n",
      "2025-04-27 17:02:34 [scrapy.middleware] INFO: Enabled extensions:\n",
      "['scrapy.extensions.corestats.CoreStats',\n",
      " 'scrapy.extensions.telnet.TelnetConsole',\n",
      " 'scrapy.extensions.feedexport.FeedExporter',\n",
      " 'scrapy.extensions.logstats.LogStats']\n",
      "2025-04-27 17:02:34 [scrapy.crawler] INFO: Overridden settings:\n",
      "{'LOG_LEVEL': 20, 'USER_AGENT': 'Chrome/97.0'}\n",
      "2025-04-27 17:02:34 [scrapy.middleware] INFO: Enabled downloader middlewares:\n",
      "['scrapy.downloadermiddlewares.offsite.OffsiteMiddleware',\n",
      " 'scrapy.downloadermiddlewares.httpauth.HttpAuthMiddleware',\n",
      " 'scrapy.downloadermiddlewares.downloadtimeout.DownloadTimeoutMiddleware',\n",
      " 'scrapy.downloadermiddlewares.defaultheaders.DefaultHeadersMiddleware',\n",
      " 'scrapy.downloadermiddlewares.useragent.UserAgentMiddleware',\n",
      " 'scrapy.downloadermiddlewares.retry.RetryMiddleware',\n",
      " 'scrapy.downloadermiddlewares.redirect.MetaRefreshMiddleware',\n",
      " 'scrapy.downloadermiddlewares.httpcompression.HttpCompressionMiddleware',\n",
      " 'scrapy.downloadermiddlewares.redirect.RedirectMiddleware',\n",
      " 'scrapy.downloadermiddlewares.cookies.CookiesMiddleware',\n",
      " 'scrapy.downloadermiddlewares.httpproxy.HttpProxyMiddleware',\n",
      " 'scrapy.downloadermiddlewares.stats.DownloaderStats']\n",
      "2025-04-27 17:02:34 [scrapy.middleware] INFO: Enabled spider middlewares:\n",
      "['scrapy.spidermiddlewares.httperror.HttpErrorMiddleware',\n",
      " 'scrapy.spidermiddlewares.referer.RefererMiddleware',\n",
      " 'scrapy.spidermiddlewares.urllength.UrlLengthMiddleware',\n",
      " 'scrapy.spidermiddlewares.depth.DepthMiddleware']\n",
      "2025-04-27 17:02:34 [scrapy.middleware] INFO: Enabled item pipelines:\n",
      "[]\n",
      "2025-04-27 17:02:34 [scrapy.core.engine] INFO: Spider opened\n",
      "2025-04-27 17:02:34 [scrapy.extensions.logstats] INFO: Crawled 0 pages (at 0 pages/min), scraped 0 items (at 0 items/min)\n",
      "2025-04-27 17:02:34 [scrapy.extensions.telnet] INFO: Telnet console listening on 127.0.0.1:6044\n",
      "2025-04-27 17:02:34 [scrapy.addons] INFO: Enabled addons:\n",
      "[]\n",
      "2025-04-27 17:02:34 [scrapy.extensions.telnet] INFO: Telnet Password: 05db88c1bb24c0d5\n",
      "2025-04-27 17:02:34 [scrapy.middleware] INFO: Enabled extensions:\n",
      "['scrapy.extensions.corestats.CoreStats',\n",
      " 'scrapy.extensions.telnet.TelnetConsole',\n",
      " 'scrapy.extensions.feedexport.FeedExporter',\n",
      " 'scrapy.extensions.logstats.LogStats']\n",
      "2025-04-27 17:02:34 [scrapy.crawler] INFO: Overridden settings:\n",
      "{'LOG_LEVEL': 20, 'USER_AGENT': 'Chrome/97.0'}\n",
      "2025-04-27 17:02:34 [scrapy.middleware] INFO: Enabled downloader middlewares:\n",
      "['scrapy.downloadermiddlewares.offsite.OffsiteMiddleware',\n",
      " 'scrapy.downloadermiddlewares.httpauth.HttpAuthMiddleware',\n",
      " 'scrapy.downloadermiddlewares.downloadtimeout.DownloadTimeoutMiddleware',\n",
      " 'scrapy.downloadermiddlewares.defaultheaders.DefaultHeadersMiddleware',\n",
      " 'scrapy.downloadermiddlewares.useragent.UserAgentMiddleware',\n",
      " 'scrapy.downloadermiddlewares.retry.RetryMiddleware',\n",
      " 'scrapy.downloadermiddlewares.redirect.MetaRefreshMiddleware',\n",
      " 'scrapy.downloadermiddlewares.httpcompression.HttpCompressionMiddleware',\n",
      " 'scrapy.downloadermiddlewares.redirect.RedirectMiddleware',\n",
      " 'scrapy.downloadermiddlewares.cookies.CookiesMiddleware',\n",
      " 'scrapy.downloadermiddlewares.httpproxy.HttpProxyMiddleware',\n",
      " 'scrapy.downloadermiddlewares.stats.DownloaderStats']\n",
      "2025-04-27 17:02:34 [scrapy.middleware] INFO: Enabled spider middlewares:\n",
      "['scrapy.spidermiddlewares.httperror.HttpErrorMiddleware',\n",
      " 'scrapy.spidermiddlewares.referer.RefererMiddleware',\n",
      " 'scrapy.spidermiddlewares.urllength.UrlLengthMiddleware',\n",
      " 'scrapy.spidermiddlewares.depth.DepthMiddleware']\n",
      "2025-04-27 17:02:34 [scrapy.middleware] INFO: Enabled item pipelines:\n",
      "[]\n",
      "2025-04-27 17:02:34 [scrapy.core.engine] INFO: Spider opened\n",
      "2025-04-27 17:02:34 [scrapy.extensions.logstats] INFO: Crawled 0 pages (at 0 pages/min), scraped 0 items (at 0 items/min)\n",
      "2025-04-27 17:02:34 [scrapy.extensions.telnet] INFO: Telnet console listening on 127.0.0.1:6045\n",
      "2025-04-27 17:02:34 [scrapy.addons] INFO: Enabled addons:\n",
      "[]\n",
      "2025-04-27 17:02:34 [scrapy.extensions.telnet] INFO: Telnet Password: 113dbada878509c5\n",
      "2025-04-27 17:02:34 [scrapy.middleware] INFO: Enabled extensions:\n",
      "['scrapy.extensions.corestats.CoreStats',\n",
      " 'scrapy.extensions.telnet.TelnetConsole',\n",
      " 'scrapy.extensions.feedexport.FeedExporter',\n",
      " 'scrapy.extensions.logstats.LogStats']\n",
      "2025-04-27 17:02:34 [scrapy.crawler] INFO: Overridden settings:\n",
      "{'LOG_LEVEL': 20, 'USER_AGENT': 'Chrome/97.0'}\n",
      "2025-04-27 17:02:34 [scrapy.middleware] INFO: Enabled downloader middlewares:\n",
      "['scrapy.downloadermiddlewares.offsite.OffsiteMiddleware',\n",
      " 'scrapy.downloadermiddlewares.httpauth.HttpAuthMiddleware',\n",
      " 'scrapy.downloadermiddlewares.downloadtimeout.DownloadTimeoutMiddleware',\n",
      " 'scrapy.downloadermiddlewares.defaultheaders.DefaultHeadersMiddleware',\n",
      " 'scrapy.downloadermiddlewares.useragent.UserAgentMiddleware',\n",
      " 'scrapy.downloadermiddlewares.retry.RetryMiddleware',\n",
      " 'scrapy.downloadermiddlewares.redirect.MetaRefreshMiddleware',\n",
      " 'scrapy.downloadermiddlewares.httpcompression.HttpCompressionMiddleware',\n",
      " 'scrapy.downloadermiddlewares.redirect.RedirectMiddleware',\n",
      " 'scrapy.downloadermiddlewares.cookies.CookiesMiddleware',\n",
      " 'scrapy.downloadermiddlewares.httpproxy.HttpProxyMiddleware',\n",
      " 'scrapy.downloadermiddlewares.stats.DownloaderStats']\n",
      "2025-04-27 17:02:34 [scrapy.middleware] INFO: Enabled spider middlewares:\n",
      "['scrapy.spidermiddlewares.httperror.HttpErrorMiddleware',\n",
      " 'scrapy.spidermiddlewares.referer.RefererMiddleware',\n",
      " 'scrapy.spidermiddlewares.urllength.UrlLengthMiddleware',\n",
      " 'scrapy.spidermiddlewares.depth.DepthMiddleware']\n",
      "2025-04-27 17:02:34 [scrapy.middleware] INFO: Enabled item pipelines:\n",
      "[]\n",
      "2025-04-27 17:02:34 [scrapy.core.engine] INFO: Spider opened\n",
      "2025-04-27 17:02:34 [scrapy.extensions.logstats] INFO: Crawled 0 pages (at 0 pages/min), scraped 0 items (at 0 items/min)\n",
      "2025-04-27 17:02:34 [scrapy.extensions.telnet] INFO: Telnet console listening on 127.0.0.1:6046\n",
      "2025-04-27 17:02:34 [scrapy.addons] INFO: Enabled addons:\n",
      "[]\n",
      "2025-04-27 17:02:34 [scrapy.extensions.telnet] INFO: Telnet Password: 0ce6a19621490eca\n",
      "2025-04-27 17:02:34 [scrapy.middleware] INFO: Enabled extensions:\n",
      "['scrapy.extensions.corestats.CoreStats',\n",
      " 'scrapy.extensions.telnet.TelnetConsole',\n",
      " 'scrapy.extensions.feedexport.FeedExporter',\n",
      " 'scrapy.extensions.logstats.LogStats']\n",
      "2025-04-27 17:02:34 [scrapy.crawler] INFO: Overridden settings:\n",
      "{'LOG_LEVEL': 20, 'USER_AGENT': 'Chrome/97.0'}\n",
      "2025-04-27 17:02:34 [scrapy.middleware] INFO: Enabled downloader middlewares:\n",
      "['scrapy.downloadermiddlewares.offsite.OffsiteMiddleware',\n",
      " 'scrapy.downloadermiddlewares.httpauth.HttpAuthMiddleware',\n",
      " 'scrapy.downloadermiddlewares.downloadtimeout.DownloadTimeoutMiddleware',\n",
      " 'scrapy.downloadermiddlewares.defaultheaders.DefaultHeadersMiddleware',\n",
      " 'scrapy.downloadermiddlewares.useragent.UserAgentMiddleware',\n",
      " 'scrapy.downloadermiddlewares.retry.RetryMiddleware',\n",
      " 'scrapy.downloadermiddlewares.redirect.MetaRefreshMiddleware',\n",
      " 'scrapy.downloadermiddlewares.httpcompression.HttpCompressionMiddleware',\n",
      " 'scrapy.downloadermiddlewares.redirect.RedirectMiddleware',\n",
      " 'scrapy.downloadermiddlewares.cookies.CookiesMiddleware',\n",
      " 'scrapy.downloadermiddlewares.httpproxy.HttpProxyMiddleware',\n",
      " 'scrapy.downloadermiddlewares.stats.DownloaderStats']\n",
      "2025-04-27 17:02:34 [scrapy.middleware] INFO: Enabled spider middlewares:\n",
      "['scrapy.spidermiddlewares.httperror.HttpErrorMiddleware',\n",
      " 'scrapy.spidermiddlewares.referer.RefererMiddleware',\n",
      " 'scrapy.spidermiddlewares.urllength.UrlLengthMiddleware',\n",
      " 'scrapy.spidermiddlewares.depth.DepthMiddleware']\n",
      "2025-04-27 17:02:34 [scrapy.middleware] INFO: Enabled item pipelines:\n",
      "[]\n",
      "2025-04-27 17:02:34 [scrapy.core.engine] INFO: Spider opened\n",
      "2025-04-27 17:02:34 [scrapy.extensions.logstats] INFO: Crawled 0 pages (at 0 pages/min), scraped 0 items (at 0 items/min)\n",
      "2025-04-27 17:02:34 [scrapy.extensions.telnet] INFO: Telnet console listening on 127.0.0.1:6047\n",
      "2025-04-27 17:02:34 [scrapy.addons] INFO: Enabled addons:\n",
      "[]\n",
      "2025-04-27 17:02:34 [scrapy.extensions.telnet] INFO: Telnet Password: 49128fe466595b13\n",
      "2025-04-27 17:02:34 [scrapy.middleware] INFO: Enabled extensions:\n",
      "['scrapy.extensions.corestats.CoreStats',\n",
      " 'scrapy.extensions.telnet.TelnetConsole',\n",
      " 'scrapy.extensions.feedexport.FeedExporter',\n",
      " 'scrapy.extensions.logstats.LogStats']\n",
      "2025-04-27 17:02:34 [scrapy.crawler] INFO: Overridden settings:\n",
      "{'LOG_LEVEL': 20, 'USER_AGENT': 'Chrome/97.0'}\n",
      "2025-04-27 17:02:34 [scrapy.middleware] INFO: Enabled downloader middlewares:\n",
      "['scrapy.downloadermiddlewares.offsite.OffsiteMiddleware',\n",
      " 'scrapy.downloadermiddlewares.httpauth.HttpAuthMiddleware',\n",
      " 'scrapy.downloadermiddlewares.downloadtimeout.DownloadTimeoutMiddleware',\n",
      " 'scrapy.downloadermiddlewares.defaultheaders.DefaultHeadersMiddleware',\n",
      " 'scrapy.downloadermiddlewares.useragent.UserAgentMiddleware',\n",
      " 'scrapy.downloadermiddlewares.retry.RetryMiddleware',\n",
      " 'scrapy.downloadermiddlewares.redirect.MetaRefreshMiddleware',\n",
      " 'scrapy.downloadermiddlewares.httpcompression.HttpCompressionMiddleware',\n",
      " 'scrapy.downloadermiddlewares.redirect.RedirectMiddleware',\n",
      " 'scrapy.downloadermiddlewares.cookies.CookiesMiddleware',\n",
      " 'scrapy.downloadermiddlewares.httpproxy.HttpProxyMiddleware',\n",
      " 'scrapy.downloadermiddlewares.stats.DownloaderStats']\n",
      "2025-04-27 17:02:34 [scrapy.middleware] INFO: Enabled spider middlewares:\n",
      "['scrapy.spidermiddlewares.httperror.HttpErrorMiddleware',\n",
      " 'scrapy.spidermiddlewares.referer.RefererMiddleware',\n",
      " 'scrapy.spidermiddlewares.urllength.UrlLengthMiddleware',\n",
      " 'scrapy.spidermiddlewares.depth.DepthMiddleware']\n",
      "2025-04-27 17:02:34 [scrapy.middleware] INFO: Enabled item pipelines:\n",
      "[]\n",
      "2025-04-27 17:02:34 [scrapy.core.engine] INFO: Spider opened\n",
      "2025-04-27 17:02:34 [scrapy.extensions.logstats] INFO: Crawled 0 pages (at 0 pages/min), scraped 0 items (at 0 items/min)\n",
      "2025-04-27 17:02:34 [scrapy.extensions.telnet] INFO: Telnet console listening on 127.0.0.1:6048\n",
      "2025-04-27 17:02:34 [scrapy.addons] INFO: Enabled addons:\n",
      "[]\n",
      "2025-04-27 17:02:34 [scrapy.extensions.telnet] INFO: Telnet Password: 2a87d384e5c7d9bc\n",
      "2025-04-27 17:02:34 [scrapy.middleware] INFO: Enabled extensions:\n",
      "['scrapy.extensions.corestats.CoreStats',\n",
      " 'scrapy.extensions.telnet.TelnetConsole',\n",
      " 'scrapy.extensions.feedexport.FeedExporter',\n",
      " 'scrapy.extensions.logstats.LogStats']\n",
      "2025-04-27 17:02:34 [scrapy.crawler] INFO: Overridden settings:\n",
      "{'LOG_LEVEL': 20, 'USER_AGENT': 'Chrome/97.0'}\n",
      "2025-04-27 17:02:34 [scrapy.middleware] INFO: Enabled downloader middlewares:\n",
      "['scrapy.downloadermiddlewares.offsite.OffsiteMiddleware',\n",
      " 'scrapy.downloadermiddlewares.httpauth.HttpAuthMiddleware',\n",
      " 'scrapy.downloadermiddlewares.downloadtimeout.DownloadTimeoutMiddleware',\n",
      " 'scrapy.downloadermiddlewares.defaultheaders.DefaultHeadersMiddleware',\n",
      " 'scrapy.downloadermiddlewares.useragent.UserAgentMiddleware',\n",
      " 'scrapy.downloadermiddlewares.retry.RetryMiddleware',\n",
      " 'scrapy.downloadermiddlewares.redirect.MetaRefreshMiddleware',\n",
      " 'scrapy.downloadermiddlewares.httpcompression.HttpCompressionMiddleware',\n",
      " 'scrapy.downloadermiddlewares.redirect.RedirectMiddleware',\n",
      " 'scrapy.downloadermiddlewares.cookies.CookiesMiddleware',\n",
      " 'scrapy.downloadermiddlewares.httpproxy.HttpProxyMiddleware',\n",
      " 'scrapy.downloadermiddlewares.stats.DownloaderStats']\n",
      "2025-04-27 17:02:34 [scrapy.middleware] INFO: Enabled spider middlewares:\n",
      "['scrapy.spidermiddlewares.httperror.HttpErrorMiddleware',\n",
      " 'scrapy.spidermiddlewares.referer.RefererMiddleware',\n",
      " 'scrapy.spidermiddlewares.urllength.UrlLengthMiddleware',\n",
      " 'scrapy.spidermiddlewares.depth.DepthMiddleware']\n",
      "2025-04-27 17:02:34 [scrapy.middleware] INFO: Enabled item pipelines:\n",
      "[]\n",
      "2025-04-27 17:02:34 [scrapy.core.engine] INFO: Spider opened\n",
      "2025-04-27 17:02:34 [scrapy.extensions.logstats] INFO: Crawled 0 pages (at 0 pages/min), scraped 0 items (at 0 items/min)\n",
      "2025-04-27 17:02:34 [scrapy.extensions.telnet] INFO: Telnet console listening on 127.0.0.1:6049\n",
      "2025-04-27 17:02:34 [scrapy.addons] INFO: Enabled addons:\n",
      "[]\n",
      "2025-04-27 17:02:34 [scrapy.extensions.telnet] INFO: Telnet Password: 558e461745e292cb\n",
      "2025-04-27 17:02:34 [scrapy.middleware] INFO: Enabled extensions:\n",
      "['scrapy.extensions.corestats.CoreStats',\n",
      " 'scrapy.extensions.telnet.TelnetConsole',\n",
      " 'scrapy.extensions.feedexport.FeedExporter',\n",
      " 'scrapy.extensions.logstats.LogStats']\n",
      "2025-04-27 17:02:34 [scrapy.crawler] INFO: Overridden settings:\n",
      "{'LOG_LEVEL': 20, 'USER_AGENT': 'Chrome/97.0'}\n",
      "2025-04-27 17:02:34 [scrapy.middleware] INFO: Enabled downloader middlewares:\n",
      "['scrapy.downloadermiddlewares.offsite.OffsiteMiddleware',\n",
      " 'scrapy.downloadermiddlewares.httpauth.HttpAuthMiddleware',\n",
      " 'scrapy.downloadermiddlewares.downloadtimeout.DownloadTimeoutMiddleware',\n",
      " 'scrapy.downloadermiddlewares.defaultheaders.DefaultHeadersMiddleware',\n",
      " 'scrapy.downloadermiddlewares.useragent.UserAgentMiddleware',\n",
      " 'scrapy.downloadermiddlewares.retry.RetryMiddleware',\n",
      " 'scrapy.downloadermiddlewares.redirect.MetaRefreshMiddleware',\n",
      " 'scrapy.downloadermiddlewares.httpcompression.HttpCompressionMiddleware',\n",
      " 'scrapy.downloadermiddlewares.redirect.RedirectMiddleware',\n",
      " 'scrapy.downloadermiddlewares.cookies.CookiesMiddleware',\n",
      " 'scrapy.downloadermiddlewares.httpproxy.HttpProxyMiddleware',\n",
      " 'scrapy.downloadermiddlewares.stats.DownloaderStats']\n",
      "2025-04-27 17:02:34 [scrapy.middleware] INFO: Enabled spider middlewares:\n",
      "['scrapy.spidermiddlewares.httperror.HttpErrorMiddleware',\n",
      " 'scrapy.spidermiddlewares.referer.RefererMiddleware',\n",
      " 'scrapy.spidermiddlewares.urllength.UrlLengthMiddleware',\n",
      " 'scrapy.spidermiddlewares.depth.DepthMiddleware']\n",
      "2025-04-27 17:02:34 [scrapy.middleware] INFO: Enabled item pipelines:\n",
      "[]\n",
      "2025-04-27 17:02:34 [scrapy.core.engine] INFO: Spider opened\n",
      "2025-04-27 17:02:34 [scrapy.extensions.logstats] INFO: Crawled 0 pages (at 0 pages/min), scraped 0 items (at 0 items/min)\n",
      "2025-04-27 17:02:34 [scrapy.extensions.telnet] INFO: Telnet console listening on 127.0.0.1:6050\n",
      "2025-04-27 17:02:34 [scrapy.addons] INFO: Enabled addons:\n",
      "[]\n",
      "2025-04-27 17:02:34 [scrapy.extensions.telnet] INFO: Telnet Password: 81ba8ed36ffbb44a\n",
      "2025-04-27 17:02:34 [scrapy.middleware] INFO: Enabled extensions:\n",
      "['scrapy.extensions.corestats.CoreStats',\n",
      " 'scrapy.extensions.telnet.TelnetConsole',\n",
      " 'scrapy.extensions.feedexport.FeedExporter',\n",
      " 'scrapy.extensions.logstats.LogStats']\n",
      "2025-04-27 17:02:34 [scrapy.crawler] INFO: Overridden settings:\n",
      "{'LOG_LEVEL': 20, 'USER_AGENT': 'Chrome/97.0'}\n",
      "2025-04-27 17:02:34 [scrapy.middleware] INFO: Enabled downloader middlewares:\n",
      "['scrapy.downloadermiddlewares.offsite.OffsiteMiddleware',\n",
      " 'scrapy.downloadermiddlewares.httpauth.HttpAuthMiddleware',\n",
      " 'scrapy.downloadermiddlewares.downloadtimeout.DownloadTimeoutMiddleware',\n",
      " 'scrapy.downloadermiddlewares.defaultheaders.DefaultHeadersMiddleware',\n",
      " 'scrapy.downloadermiddlewares.useragent.UserAgentMiddleware',\n",
      " 'scrapy.downloadermiddlewares.retry.RetryMiddleware',\n",
      " 'scrapy.downloadermiddlewares.redirect.MetaRefreshMiddleware',\n",
      " 'scrapy.downloadermiddlewares.httpcompression.HttpCompressionMiddleware',\n",
      " 'scrapy.downloadermiddlewares.redirect.RedirectMiddleware',\n",
      " 'scrapy.downloadermiddlewares.cookies.CookiesMiddleware',\n",
      " 'scrapy.downloadermiddlewares.httpproxy.HttpProxyMiddleware',\n",
      " 'scrapy.downloadermiddlewares.stats.DownloaderStats']\n",
      "2025-04-27 17:02:34 [scrapy.middleware] INFO: Enabled spider middlewares:\n",
      "['scrapy.spidermiddlewares.httperror.HttpErrorMiddleware',\n",
      " 'scrapy.spidermiddlewares.referer.RefererMiddleware',\n",
      " 'scrapy.spidermiddlewares.urllength.UrlLengthMiddleware',\n",
      " 'scrapy.spidermiddlewares.depth.DepthMiddleware']\n",
      "2025-04-27 17:02:34 [scrapy.middleware] INFO: Enabled item pipelines:\n",
      "[]\n",
      "2025-04-27 17:02:34 [scrapy.core.engine] INFO: Spider opened\n",
      "2025-04-27 17:02:34 [scrapy.extensions.logstats] INFO: Crawled 0 pages (at 0 pages/min), scraped 0 items (at 0 items/min)\n",
      "2025-04-27 17:02:34 [scrapy.extensions.telnet] INFO: Telnet console listening on 127.0.0.1:6051\n",
      "2025-04-27 17:02:34 [scrapy.addons] INFO: Enabled addons:\n",
      "[]\n",
      "2025-04-27 17:02:34 [scrapy.extensions.telnet] INFO: Telnet Password: 3cb70a441f75bb1b\n",
      "2025-04-27 17:02:34 [scrapy.middleware] INFO: Enabled extensions:\n",
      "['scrapy.extensions.corestats.CoreStats',\n",
      " 'scrapy.extensions.telnet.TelnetConsole',\n",
      " 'scrapy.extensions.feedexport.FeedExporter',\n",
      " 'scrapy.extensions.logstats.LogStats']\n",
      "2025-04-27 17:02:34 [scrapy.crawler] INFO: Overridden settings:\n",
      "{'LOG_LEVEL': 20, 'USER_AGENT': 'Chrome/97.0'}\n",
      "2025-04-27 17:02:34 [scrapy.middleware] INFO: Enabled downloader middlewares:\n",
      "['scrapy.downloadermiddlewares.offsite.OffsiteMiddleware',\n",
      " 'scrapy.downloadermiddlewares.httpauth.HttpAuthMiddleware',\n",
      " 'scrapy.downloadermiddlewares.downloadtimeout.DownloadTimeoutMiddleware',\n",
      " 'scrapy.downloadermiddlewares.defaultheaders.DefaultHeadersMiddleware',\n",
      " 'scrapy.downloadermiddlewares.useragent.UserAgentMiddleware',\n",
      " 'scrapy.downloadermiddlewares.retry.RetryMiddleware',\n",
      " 'scrapy.downloadermiddlewares.redirect.MetaRefreshMiddleware',\n",
      " 'scrapy.downloadermiddlewares.httpcompression.HttpCompressionMiddleware',\n",
      " 'scrapy.downloadermiddlewares.redirect.RedirectMiddleware',\n",
      " 'scrapy.downloadermiddlewares.cookies.CookiesMiddleware',\n",
      " 'scrapy.downloadermiddlewares.httpproxy.HttpProxyMiddleware',\n",
      " 'scrapy.downloadermiddlewares.stats.DownloaderStats']\n",
      "2025-04-27 17:02:34 [scrapy.middleware] INFO: Enabled spider middlewares:\n",
      "['scrapy.spidermiddlewares.httperror.HttpErrorMiddleware',\n",
      " 'scrapy.spidermiddlewares.referer.RefererMiddleware',\n",
      " 'scrapy.spidermiddlewares.urllength.UrlLengthMiddleware',\n",
      " 'scrapy.spidermiddlewares.depth.DepthMiddleware']\n",
      "2025-04-27 17:02:34 [scrapy.middleware] INFO: Enabled item pipelines:\n",
      "[]\n",
      "2025-04-27 17:02:34 [scrapy.core.engine] INFO: Spider opened\n",
      "2025-04-27 17:02:34 [scrapy.extensions.logstats] INFO: Crawled 0 pages (at 0 pages/min), scraped 0 items (at 0 items/min)\n",
      "2025-04-27 17:02:34 [scrapy.extensions.telnet] INFO: Telnet console listening on 127.0.0.1:6052\n",
      "2025-04-27 17:02:34 [scrapy.addons] INFO: Enabled addons:\n",
      "[]\n",
      "2025-04-27 17:02:34 [scrapy.extensions.telnet] INFO: Telnet Password: 657bc5a596a0fdbc\n",
      "2025-04-27 17:02:34 [scrapy.middleware] INFO: Enabled extensions:\n",
      "['scrapy.extensions.corestats.CoreStats',\n",
      " 'scrapy.extensions.telnet.TelnetConsole',\n",
      " 'scrapy.extensions.feedexport.FeedExporter',\n",
      " 'scrapy.extensions.logstats.LogStats']\n",
      "2025-04-27 17:02:34 [scrapy.crawler] INFO: Overridden settings:\n",
      "{'LOG_LEVEL': 20, 'USER_AGENT': 'Chrome/97.0'}\n",
      "2025-04-27 17:02:34 [scrapy.middleware] INFO: Enabled downloader middlewares:\n",
      "['scrapy.downloadermiddlewares.offsite.OffsiteMiddleware',\n",
      " 'scrapy.downloadermiddlewares.httpauth.HttpAuthMiddleware',\n",
      " 'scrapy.downloadermiddlewares.downloadtimeout.DownloadTimeoutMiddleware',\n",
      " 'scrapy.downloadermiddlewares.defaultheaders.DefaultHeadersMiddleware',\n",
      " 'scrapy.downloadermiddlewares.useragent.UserAgentMiddleware',\n",
      " 'scrapy.downloadermiddlewares.retry.RetryMiddleware',\n",
      " 'scrapy.downloadermiddlewares.redirect.MetaRefreshMiddleware',\n",
      " 'scrapy.downloadermiddlewares.httpcompression.HttpCompressionMiddleware',\n",
      " 'scrapy.downloadermiddlewares.redirect.RedirectMiddleware',\n",
      " 'scrapy.downloadermiddlewares.cookies.CookiesMiddleware',\n",
      " 'scrapy.downloadermiddlewares.httpproxy.HttpProxyMiddleware',\n",
      " 'scrapy.downloadermiddlewares.stats.DownloaderStats']\n",
      "2025-04-27 17:02:34 [scrapy.middleware] INFO: Enabled spider middlewares:\n",
      "['scrapy.spidermiddlewares.httperror.HttpErrorMiddleware',\n",
      " 'scrapy.spidermiddlewares.referer.RefererMiddleware',\n",
      " 'scrapy.spidermiddlewares.urllength.UrlLengthMiddleware',\n",
      " 'scrapy.spidermiddlewares.depth.DepthMiddleware']\n",
      "2025-04-27 17:02:34 [scrapy.middleware] INFO: Enabled item pipelines:\n",
      "[]\n",
      "2025-04-27 17:02:34 [scrapy.core.engine] INFO: Spider opened\n",
      "2025-04-27 17:02:34 [scrapy.extensions.logstats] INFO: Crawled 0 pages (at 0 pages/min), scraped 0 items (at 0 items/min)\n",
      "2025-04-27 17:02:34 [scrapy.extensions.telnet] INFO: Telnet console listening on 127.0.0.1:6053\n",
      "2025-04-27 17:02:34 [scrapy.addons] INFO: Enabled addons:\n",
      "[]\n",
      "2025-04-27 17:02:34 [scrapy.extensions.telnet] INFO: Telnet Password: f49ded90a7e556c1\n",
      "2025-04-27 17:02:34 [scrapy.middleware] INFO: Enabled extensions:\n",
      "['scrapy.extensions.corestats.CoreStats',\n",
      " 'scrapy.extensions.telnet.TelnetConsole',\n",
      " 'scrapy.extensions.feedexport.FeedExporter',\n",
      " 'scrapy.extensions.logstats.LogStats']\n",
      "2025-04-27 17:02:34 [scrapy.crawler] INFO: Overridden settings:\n",
      "{'LOG_LEVEL': 20, 'USER_AGENT': 'Chrome/97.0'}\n",
      "2025-04-27 17:02:34 [scrapy.middleware] INFO: Enabled downloader middlewares:\n",
      "['scrapy.downloadermiddlewares.offsite.OffsiteMiddleware',\n",
      " 'scrapy.downloadermiddlewares.httpauth.HttpAuthMiddleware',\n",
      " 'scrapy.downloadermiddlewares.downloadtimeout.DownloadTimeoutMiddleware',\n",
      " 'scrapy.downloadermiddlewares.defaultheaders.DefaultHeadersMiddleware',\n",
      " 'scrapy.downloadermiddlewares.useragent.UserAgentMiddleware',\n",
      " 'scrapy.downloadermiddlewares.retry.RetryMiddleware',\n",
      " 'scrapy.downloadermiddlewares.redirect.MetaRefreshMiddleware',\n",
      " 'scrapy.downloadermiddlewares.httpcompression.HttpCompressionMiddleware',\n",
      " 'scrapy.downloadermiddlewares.redirect.RedirectMiddleware',\n",
      " 'scrapy.downloadermiddlewares.cookies.CookiesMiddleware',\n",
      " 'scrapy.downloadermiddlewares.httpproxy.HttpProxyMiddleware',\n",
      " 'scrapy.downloadermiddlewares.stats.DownloaderStats']\n",
      "2025-04-27 17:02:34 [scrapy.middleware] INFO: Enabled spider middlewares:\n",
      "['scrapy.spidermiddlewares.httperror.HttpErrorMiddleware',\n",
      " 'scrapy.spidermiddlewares.referer.RefererMiddleware',\n",
      " 'scrapy.spidermiddlewares.urllength.UrlLengthMiddleware',\n",
      " 'scrapy.spidermiddlewares.depth.DepthMiddleware']\n",
      "2025-04-27 17:02:34 [scrapy.middleware] INFO: Enabled item pipelines:\n",
      "[]\n",
      "2025-04-27 17:02:34 [scrapy.core.engine] INFO: Spider opened\n",
      "2025-04-27 17:02:34 [scrapy.extensions.logstats] INFO: Crawled 0 pages (at 0 pages/min), scraped 0 items (at 0 items/min)\n",
      "2025-04-27 17:02:34 [scrapy.extensions.telnet] INFO: Telnet console listening on 127.0.0.1:6054\n",
      "2025-04-27 17:02:34 [scrapy.addons] INFO: Enabled addons:\n",
      "[]\n",
      "2025-04-27 17:02:34 [scrapy.extensions.telnet] INFO: Telnet Password: 28c82279ad9c926a\n",
      "2025-04-27 17:02:34 [scrapy.middleware] INFO: Enabled extensions:\n",
      "['scrapy.extensions.corestats.CoreStats',\n",
      " 'scrapy.extensions.telnet.TelnetConsole',\n",
      " 'scrapy.extensions.feedexport.FeedExporter',\n",
      " 'scrapy.extensions.logstats.LogStats']\n",
      "2025-04-27 17:02:34 [scrapy.crawler] INFO: Overridden settings:\n",
      "{'LOG_LEVEL': 20, 'USER_AGENT': 'Chrome/97.0'}\n",
      "2025-04-27 17:02:34 [scrapy.middleware] INFO: Enabled downloader middlewares:\n",
      "['scrapy.downloadermiddlewares.offsite.OffsiteMiddleware',\n",
      " 'scrapy.downloadermiddlewares.httpauth.HttpAuthMiddleware',\n",
      " 'scrapy.downloadermiddlewares.downloadtimeout.DownloadTimeoutMiddleware',\n",
      " 'scrapy.downloadermiddlewares.defaultheaders.DefaultHeadersMiddleware',\n",
      " 'scrapy.downloadermiddlewares.useragent.UserAgentMiddleware',\n",
      " 'scrapy.downloadermiddlewares.retry.RetryMiddleware',\n",
      " 'scrapy.downloadermiddlewares.redirect.MetaRefreshMiddleware',\n",
      " 'scrapy.downloadermiddlewares.httpcompression.HttpCompressionMiddleware',\n",
      " 'scrapy.downloadermiddlewares.redirect.RedirectMiddleware',\n",
      " 'scrapy.downloadermiddlewares.cookies.CookiesMiddleware',\n",
      " 'scrapy.downloadermiddlewares.httpproxy.HttpProxyMiddleware',\n",
      " 'scrapy.downloadermiddlewares.stats.DownloaderStats']\n",
      "2025-04-27 17:02:34 [scrapy.middleware] INFO: Enabled spider middlewares:\n",
      "['scrapy.spidermiddlewares.httperror.HttpErrorMiddleware',\n",
      " 'scrapy.spidermiddlewares.referer.RefererMiddleware',\n",
      " 'scrapy.spidermiddlewares.urllength.UrlLengthMiddleware',\n",
      " 'scrapy.spidermiddlewares.depth.DepthMiddleware']\n",
      "2025-04-27 17:02:34 [scrapy.middleware] INFO: Enabled item pipelines:\n",
      "[]\n",
      "2025-04-27 17:02:34 [scrapy.core.engine] INFO: Spider opened\n",
      "2025-04-27 17:02:34 [scrapy.extensions.logstats] INFO: Crawled 0 pages (at 0 pages/min), scraped 0 items (at 0 items/min)\n",
      "2025-04-27 17:02:34 [scrapy.extensions.telnet] INFO: Telnet console listening on 127.0.0.1:6055\n",
      "2025-04-27 17:02:34 [scrapy.addons] INFO: Enabled addons:\n",
      "[]\n",
      "2025-04-27 17:02:34 [scrapy.extensions.telnet] INFO: Telnet Password: 9b1a3e3bb4f5210e\n",
      "2025-04-27 17:02:34 [scrapy.middleware] INFO: Enabled extensions:\n",
      "['scrapy.extensions.corestats.CoreStats',\n",
      " 'scrapy.extensions.telnet.TelnetConsole',\n",
      " 'scrapy.extensions.feedexport.FeedExporter',\n",
      " 'scrapy.extensions.logstats.LogStats']\n",
      "2025-04-27 17:02:34 [scrapy.crawler] INFO: Overridden settings:\n",
      "{'LOG_LEVEL': 20, 'USER_AGENT': 'Chrome/97.0'}\n",
      "2025-04-27 17:02:34 [scrapy.middleware] INFO: Enabled downloader middlewares:\n",
      "['scrapy.downloadermiddlewares.offsite.OffsiteMiddleware',\n",
      " 'scrapy.downloadermiddlewares.httpauth.HttpAuthMiddleware',\n",
      " 'scrapy.downloadermiddlewares.downloadtimeout.DownloadTimeoutMiddleware',\n",
      " 'scrapy.downloadermiddlewares.defaultheaders.DefaultHeadersMiddleware',\n",
      " 'scrapy.downloadermiddlewares.useragent.UserAgentMiddleware',\n",
      " 'scrapy.downloadermiddlewares.retry.RetryMiddleware',\n",
      " 'scrapy.downloadermiddlewares.redirect.MetaRefreshMiddleware',\n",
      " 'scrapy.downloadermiddlewares.httpcompression.HttpCompressionMiddleware',\n",
      " 'scrapy.downloadermiddlewares.redirect.RedirectMiddleware',\n",
      " 'scrapy.downloadermiddlewares.cookies.CookiesMiddleware',\n",
      " 'scrapy.downloadermiddlewares.httpproxy.HttpProxyMiddleware',\n",
      " 'scrapy.downloadermiddlewares.stats.DownloaderStats']\n",
      "2025-04-27 17:02:34 [scrapy.middleware] INFO: Enabled spider middlewares:\n",
      "['scrapy.spidermiddlewares.httperror.HttpErrorMiddleware',\n",
      " 'scrapy.spidermiddlewares.referer.RefererMiddleware',\n",
      " 'scrapy.spidermiddlewares.urllength.UrlLengthMiddleware',\n",
      " 'scrapy.spidermiddlewares.depth.DepthMiddleware']\n",
      "2025-04-27 17:02:34 [scrapy.middleware] INFO: Enabled item pipelines:\n",
      "[]\n",
      "2025-04-27 17:02:34 [scrapy.core.engine] INFO: Spider opened\n",
      "2025-04-27 17:02:34 [scrapy.extensions.logstats] INFO: Crawled 0 pages (at 0 pages/min), scraped 0 items (at 0 items/min)\n",
      "2025-04-27 17:02:34 [scrapy.extensions.telnet] INFO: Telnet console listening on 127.0.0.1:6056\n",
      "2025-04-27 17:02:34 [scrapy.addons] INFO: Enabled addons:\n",
      "[]\n",
      "2025-04-27 17:02:34 [scrapy.extensions.telnet] INFO: Telnet Password: 262dd2c008c10e83\n",
      "2025-04-27 17:02:34 [scrapy.middleware] INFO: Enabled extensions:\n",
      "['scrapy.extensions.corestats.CoreStats',\n",
      " 'scrapy.extensions.telnet.TelnetConsole',\n",
      " 'scrapy.extensions.feedexport.FeedExporter',\n",
      " 'scrapy.extensions.logstats.LogStats']\n",
      "2025-04-27 17:02:34 [scrapy.crawler] INFO: Overridden settings:\n",
      "{'LOG_LEVEL': 20, 'USER_AGENT': 'Chrome/97.0'}\n",
      "2025-04-27 17:02:34 [scrapy.middleware] INFO: Enabled downloader middlewares:\n",
      "['scrapy.downloadermiddlewares.offsite.OffsiteMiddleware',\n",
      " 'scrapy.downloadermiddlewares.httpauth.HttpAuthMiddleware',\n",
      " 'scrapy.downloadermiddlewares.downloadtimeout.DownloadTimeoutMiddleware',\n",
      " 'scrapy.downloadermiddlewares.defaultheaders.DefaultHeadersMiddleware',\n",
      " 'scrapy.downloadermiddlewares.useragent.UserAgentMiddleware',\n",
      " 'scrapy.downloadermiddlewares.retry.RetryMiddleware',\n",
      " 'scrapy.downloadermiddlewares.redirect.MetaRefreshMiddleware',\n",
      " 'scrapy.downloadermiddlewares.httpcompression.HttpCompressionMiddleware',\n",
      " 'scrapy.downloadermiddlewares.redirect.RedirectMiddleware',\n",
      " 'scrapy.downloadermiddlewares.cookies.CookiesMiddleware',\n",
      " 'scrapy.downloadermiddlewares.httpproxy.HttpProxyMiddleware',\n",
      " 'scrapy.downloadermiddlewares.stats.DownloaderStats']\n",
      "2025-04-27 17:02:34 [scrapy.middleware] INFO: Enabled spider middlewares:\n",
      "['scrapy.spidermiddlewares.httperror.HttpErrorMiddleware',\n",
      " 'scrapy.spidermiddlewares.referer.RefererMiddleware',\n",
      " 'scrapy.spidermiddlewares.urllength.UrlLengthMiddleware',\n",
      " 'scrapy.spidermiddlewares.depth.DepthMiddleware']\n",
      "2025-04-27 17:02:34 [scrapy.middleware] INFO: Enabled item pipelines:\n",
      "[]\n",
      "2025-04-27 17:02:34 [scrapy.core.engine] INFO: Spider opened\n",
      "2025-04-27 17:02:34 [scrapy.extensions.logstats] INFO: Crawled 0 pages (at 0 pages/min), scraped 0 items (at 0 items/min)\n",
      "2025-04-27 17:02:34 [scrapy.extensions.telnet] INFO: Telnet console listening on 127.0.0.1:6057\n",
      "2025-04-27 17:02:44 [scrapy.core.scraper] ERROR: Spider error processing <GET https://www.booking.com/hotel/fr/la-fantaisie-paris.fr.html?aid=304142&label=gen173nr-1FCAQoggJCDHNlYXJjaF9wYXJpc0gNWARoTYgBAZgBDbgBCsgBBdgBAegBAfgBA4gCAagCA7gCiY65wAbAAgHSAiRkN2I0NmQ3Ni01NWFhLTQ1N2ItODlmMC1hZjAyMjA2ZGRkODDYAgXgAgE&ucfs=1&arphpl=1&group_adults=2&req_adults=2&no_rooms=1&group_children=0&req_children=0&hpos=20&hapos=20&sr_order=bayesian_review_score&nflt=ht_id%3D204&srpvid=127e69c4777102ec&srepoch=1745766154&from=searchresults> (referer: https://www.booking.com/searchresults.fr.html?ss=Paris&order=bayesian_review_score&nflt=ht_id%3D204)\n",
      "Traceback (most recent call last):\n",
      "  File \"c:\\__DATA_SCIENCE__\\Anaconda\\Lib\\site-packages\\scrapy\\utils\\defer.py\", line 327, in iter_errback\n",
      "    yield next(it)\n",
      "          ^^^^^^^^\n",
      "  File \"c:\\__DATA_SCIENCE__\\Anaconda\\Lib\\site-packages\\scrapy\\utils\\python.py\", line 368, in __next__\n",
      "    return next(self.data)\n",
      "           ^^^^^^^^^^^^^^^\n",
      "  File \"c:\\__DATA_SCIENCE__\\Anaconda\\Lib\\site-packages\\scrapy\\utils\\python.py\", line 368, in __next__\n",
      "    return next(self.data)\n",
      "           ^^^^^^^^^^^^^^^\n",
      "  File \"c:\\__DATA_SCIENCE__\\Anaconda\\Lib\\site-packages\\scrapy\\core\\spidermw.py\", line 106, in process_sync\n",
      "    yield from iterable\n",
      "  File \"c:\\__DATA_SCIENCE__\\Anaconda\\Lib\\site-packages\\scrapy\\spidermiddlewares\\referer.py\", line 379, in <genexpr>\n",
      "    return (self._set_referer(r, response) for r in result)\n",
      "                                                    ^^^^^^\n",
      "  File \"c:\\__DATA_SCIENCE__\\Anaconda\\Lib\\site-packages\\scrapy\\core\\spidermw.py\", line 106, in process_sync\n",
      "    yield from iterable\n",
      "  File \"c:\\__DATA_SCIENCE__\\Anaconda\\Lib\\site-packages\\scrapy\\spidermiddlewares\\urllength.py\", line 57, in <genexpr>\n",
      "    return (r for r in result if self._filter(r, spider))\n",
      "                       ^^^^^^\n",
      "  File \"c:\\__DATA_SCIENCE__\\Anaconda\\Lib\\site-packages\\scrapy\\core\\spidermw.py\", line 106, in process_sync\n",
      "    yield from iterable\n",
      "  File \"c:\\__DATA_SCIENCE__\\Anaconda\\Lib\\site-packages\\scrapy\\spidermiddlewares\\depth.py\", line 54, in <genexpr>\n",
      "    return (r for r in result if self._filter(r, response, spider))\n",
      "                       ^^^^^^\n",
      "  File \"c:\\__DATA_SCIENCE__\\Anaconda\\Lib\\site-packages\\scrapy\\core\\spidermw.py\", line 106, in process_sync\n",
      "    yield from iterable\n",
      "  File \"C:\\Users\\janda\\AppData\\Local\\Temp\\ipykernel_7560\\879105045.py\", line 55, in parse_hotel\n",
      "    coords = latitude = response.xpath(\"//*[@id='map_trigger_header_pin']\").attrib[\"data-atlas-latlng\"]\n",
      "                        ~~~~~~~~~~~~~~~~~~~~~~~~~~~~~~~~~~~~~~~~~~~~~~~~~~~~~~~~~~^^^^^^^^^^^^^^^^^^^^^\n",
      "KeyError: 'data-atlas-latlng'\n",
      "2025-04-27 17:03:14 [scrapy.core.engine] INFO: Closing spider (finished)\n",
      "2025-04-27 17:03:14 [scrapy.extensions.feedexport] INFO: Stored jsonlines feed (20 items) in: datas/hotels.jl\n",
      "2025-04-27 17:03:14 [scrapy.statscollectors] INFO: Dumping Scrapy stats:\n",
      "{'downloader/request_bytes': 29439,\n",
      " 'downloader/request_count': 21,\n",
      " 'downloader/request_method_count/GET': 21,\n",
      " 'downloader/response_bytes': 6268140,\n",
      " 'downloader/response_count': 21,\n",
      " 'downloader/response_status_count/200': 21,\n",
      " 'elapsed_time_seconds': 39.910895,\n",
      " 'feedexport/success_count/FileFeedStorage': 1,\n",
      " 'finish_reason': 'finished',\n",
      " 'finish_time': datetime.datetime(2025, 4, 27, 15, 3, 14, 77317, tzinfo=datetime.timezone.utc),\n",
      " 'httpcompression/response_bytes': 31170000,\n",
      " 'httpcompression/response_count': 21,\n",
      " 'item_scraped_count': 20,\n",
      " 'items_per_minute': None,\n",
      " 'log_count/ERROR': 1,\n",
      " 'log_count/INFO': 321,\n",
      " 'request_depth_max': 1,\n",
      " 'response_received_count': 21,\n",
      " 'responses_per_minute': None,\n",
      " 'scheduler/dequeued': 21,\n",
      " 'scheduler/dequeued/memory': 21,\n",
      " 'scheduler/enqueued': 21,\n",
      " 'scheduler/enqueued/memory': 21,\n",
      " 'start_time': datetime.datetime(2025, 4, 27, 15, 2, 34, 166422, tzinfo=datetime.timezone.utc)}\n",
      "2025-04-27 17:03:14 [scrapy.core.engine] INFO: Spider closed (finished)\n",
      "2025-04-27 17:03:14 [scrapy.core.engine] INFO: Closing spider (finished)\n",
      "2025-04-27 17:03:14 [scrapy.extensions.feedexport] INFO: Stored jsonlines feed (20 items) in: datas/hotels.jl\n",
      "2025-04-27 17:03:14 [scrapy.statscollectors] INFO: Dumping Scrapy stats:\n",
      "{'downloader/request_bytes': 29994,\n",
      " 'downloader/request_count': 21,\n",
      " 'downloader/request_method_count/GET': 21,\n",
      " 'downloader/response_bytes': 6317249,\n",
      " 'downloader/response_count': 21,\n",
      " 'downloader/response_status_count/200': 21,\n",
      " 'elapsed_time_seconds': 39.643424,\n",
      " 'feedexport/success_count/FileFeedStorage': 1,\n",
      " 'finish_reason': 'finished',\n",
      " 'finish_time': datetime.datetime(2025, 4, 27, 15, 3, 14, 146018, tzinfo=datetime.timezone.utc),\n",
      " 'httpcompression/response_bytes': 32285503,\n",
      " 'httpcompression/response_count': 21,\n",
      " 'item_scraped_count': 20,\n",
      " 'items_per_minute': None,\n",
      " 'log_count/ERROR': 1,\n",
      " 'log_count/INFO': 175,\n",
      " 'request_depth_max': 1,\n",
      " 'response_received_count': 21,\n",
      " 'responses_per_minute': None,\n",
      " 'scheduler/dequeued': 21,\n",
      " 'scheduler/dequeued/memory': 21,\n",
      " 'scheduler/enqueued': 21,\n",
      " 'scheduler/enqueued/memory': 21,\n",
      " 'start_time': datetime.datetime(2025, 4, 27, 15, 2, 34, 502594, tzinfo=datetime.timezone.utc)}\n",
      "2025-04-27 17:03:14 [scrapy.core.engine] INFO: Spider closed (finished)\n",
      "2025-04-27 17:03:14 [scrapy.core.engine] INFO: Closing spider (finished)\n",
      "2025-04-27 17:03:14 [scrapy.extensions.feedexport] INFO: Stored jsonlines feed (20 items) in: datas/hotels.jl\n",
      "2025-04-27 17:03:14 [scrapy.statscollectors] INFO: Dumping Scrapy stats:\n",
      "{'downloader/request_bytes': 29152,\n",
      " 'downloader/request_count': 21,\n",
      " 'downloader/request_method_count/GET': 21,\n",
      " 'downloader/response_bytes': 5955733,\n",
      " 'downloader/response_count': 21,\n",
      " 'downloader/response_status_count/200': 21,\n",
      " 'elapsed_time_seconds': 39.312106,\n",
      " 'feedexport/success_count/FileFeedStorage': 1,\n",
      " 'finish_reason': 'finished',\n",
      " 'finish_time': datetime.datetime(2025, 4, 27, 15, 3, 14, 153427, tzinfo=datetime.timezone.utc),\n",
      " 'httpcompression/response_bytes': 29421888,\n",
      " 'httpcompression/response_count': 21,\n",
      " 'item_scraped_count': 20,\n",
      " 'items_per_minute': None,\n",
      " 'log_count/ERROR': 1,\n",
      " 'log_count/INFO': 29,\n",
      " 'request_depth_max': 1,\n",
      " 'response_received_count': 21,\n",
      " 'responses_per_minute': None,\n",
      " 'scheduler/dequeued': 21,\n",
      " 'scheduler/dequeued/memory': 21,\n",
      " 'scheduler/enqueued': 21,\n",
      " 'scheduler/enqueued/memory': 21,\n",
      " 'start_time': datetime.datetime(2025, 4, 27, 15, 2, 34, 841321, tzinfo=datetime.timezone.utc)}\n",
      "2025-04-27 17:03:14 [scrapy.core.engine] INFO: Spider closed (finished)\n",
      "2025-04-27 17:03:16 [scrapy.core.engine] INFO: Closing spider (finished)\n",
      "2025-04-27 17:03:16 [scrapy.extensions.feedexport] INFO: Stored jsonlines feed (19 items) in: datas/hotels.jl\n",
      "2025-04-27 17:03:16 [scrapy.statscollectors] INFO: Dumping Scrapy stats:\n",
      "{'downloader/request_bytes': 29243,\n",
      " 'downloader/request_count': 21,\n",
      " 'downloader/request_method_count/GET': 21,\n",
      " 'downloader/response_bytes': 6243821,\n",
      " 'downloader/response_count': 21,\n",
      " 'downloader/response_status_count/200': 21,\n",
      " 'elapsed_time_seconds': 41.478769,\n",
      " 'feedexport/success_count/FileFeedStorage': 1,\n",
      " 'finish_reason': 'finished',\n",
      " 'finish_time': datetime.datetime(2025, 4, 27, 15, 3, 16, 5656, tzinfo=datetime.timezone.utc),\n",
      " 'httpcompression/response_bytes': 30970196,\n",
      " 'httpcompression/response_count': 21,\n",
      " 'item_scraped_count': 19,\n",
      " 'items_per_minute': None,\n",
      " 'log_count/ERROR': 1,\n",
      " 'log_count/INFO': 173,\n",
      " 'request_depth_max': 1,\n",
      " 'response_received_count': 21,\n",
      " 'responses_per_minute': None,\n",
      " 'scheduler/dequeued': 21,\n",
      " 'scheduler/dequeued/memory': 21,\n",
      " 'scheduler/enqueued': 21,\n",
      " 'scheduler/enqueued/memory': 21,\n",
      " 'start_time': datetime.datetime(2025, 4, 27, 15, 2, 34, 526887, tzinfo=datetime.timezone.utc)}\n",
      "2025-04-27 17:03:16 [scrapy.core.engine] INFO: Spider closed (finished)\n",
      "2025-04-27 17:03:16 [scrapy.core.engine] INFO: Closing spider (finished)\n",
      "2025-04-27 17:03:16 [scrapy.extensions.feedexport] INFO: Stored jsonlines feed (20 items) in: datas/hotels.jl\n",
      "2025-04-27 17:03:16 [scrapy.statscollectors] INFO: Dumping Scrapy stats:\n",
      "{'downloader/request_bytes': 29764,\n",
      " 'downloader/request_count': 21,\n",
      " 'downloader/request_method_count/GET': 21,\n",
      " 'downloader/response_bytes': 6078022,\n",
      " 'downloader/response_count': 21,\n",
      " 'downloader/response_status_count/200': 21,\n",
      " 'elapsed_time_seconds': 41.729709,\n",
      " 'feedexport/success_count/FileFeedStorage': 1,\n",
      " 'finish_reason': 'finished',\n",
      " 'finish_time': datetime.datetime(2025, 4, 27, 15, 3, 16, 13242, tzinfo=datetime.timezone.utc),\n",
      " 'httpcompression/response_bytes': 30978766,\n",
      " 'httpcompression/response_count': 21,\n",
      " 'item_scraped_count': 20,\n",
      " 'items_per_minute': None,\n",
      " 'log_count/ERROR': 1,\n",
      " 'log_count/INFO': 287,\n",
      " 'request_depth_max': 1,\n",
      " 'response_received_count': 21,\n",
      " 'responses_per_minute': None,\n",
      " 'scheduler/dequeued': 21,\n",
      " 'scheduler/dequeued/memory': 21,\n",
      " 'scheduler/enqueued': 21,\n",
      " 'scheduler/enqueued/memory': 21,\n",
      " 'start_time': datetime.datetime(2025, 4, 27, 15, 2, 34, 283533, tzinfo=datetime.timezone.utc)}\n",
      "2025-04-27 17:03:16 [scrapy.core.engine] INFO: Spider closed (finished)\n",
      "2025-04-27 17:03:16 [scrapy.core.engine] INFO: Closing spider (finished)\n",
      "2025-04-27 17:03:16 [scrapy.extensions.feedexport] INFO: Stored jsonlines feed (20 items) in: datas/hotels.jl\n",
      "2025-04-27 17:03:16 [scrapy.statscollectors] INFO: Dumping Scrapy stats:\n",
      "{'downloader/request_bytes': 30150,\n",
      " 'downloader/request_count': 21,\n",
      " 'downloader/request_method_count/GET': 21,\n",
      " 'downloader/response_bytes': 5965549,\n",
      " 'downloader/response_count': 21,\n",
      " 'downloader/response_status_count/200': 21,\n",
      " 'elapsed_time_seconds': 41.922521,\n",
      " 'feedexport/success_count/FileFeedStorage': 1,\n",
      " 'finish_reason': 'finished',\n",
      " 'finish_time': datetime.datetime(2025, 4, 27, 15, 3, 16, 15802, tzinfo=datetime.timezone.utc),\n",
      " 'httpcompression/response_bytes': 29651495,\n",
      " 'httpcompression/response_count': 21,\n",
      " 'item_scraped_count': 20,\n",
      " 'items_per_minute': None,\n",
      " 'log_count/ERROR': 1,\n",
      " 'log_count/INFO': 371,\n",
      " 'request_depth_max': 1,\n",
      " 'response_received_count': 21,\n",
      " 'responses_per_minute': None,\n",
      " 'scheduler/dequeued': 21,\n",
      " 'scheduler/dequeued/memory': 21,\n",
      " 'scheduler/enqueued': 21,\n",
      " 'scheduler/enqueued/memory': 21,\n",
      " 'start_time': datetime.datetime(2025, 4, 27, 15, 2, 34, 93281, tzinfo=datetime.timezone.utc)}\n",
      "2025-04-27 17:03:16 [scrapy.core.engine] INFO: Spider closed (finished)\n",
      "2025-04-27 17:03:16 [scrapy.core.engine] INFO: Closing spider (finished)\n",
      "2025-04-27 17:03:16 [scrapy.extensions.feedexport] INFO: Stored jsonlines feed (20 items) in: datas/hotels.jl\n",
      "2025-04-27 17:03:16 [scrapy.statscollectors] INFO: Dumping Scrapy stats:\n",
      "{'downloader/request_bytes': 29597,\n",
      " 'downloader/request_count': 21,\n",
      " 'downloader/request_method_count/GET': 21,\n",
      " 'downloader/response_bytes': 6252446,\n",
      " 'downloader/response_count': 21,\n",
      " 'downloader/response_status_count/200': 21,\n",
      " 'elapsed_time_seconds': 41.296785,\n",
      " 'feedexport/success_count/FileFeedStorage': 1,\n",
      " 'finish_reason': 'finished',\n",
      " 'finish_time': datetime.datetime(2025, 4, 27, 15, 3, 16, 23276, tzinfo=datetime.timezone.utc),\n",
      " 'httpcompression/response_bytes': 31218349,\n",
      " 'httpcompression/response_count': 21,\n",
      " 'item_scraped_count': 20,\n",
      " 'items_per_minute': None,\n",
      " 'log_count/ERROR': 1,\n",
      " 'log_count/INFO': 105,\n",
      " 'request_depth_max': 1,\n",
      " 'response_received_count': 21,\n",
      " 'responses_per_minute': None,\n",
      " 'scheduler/dequeued': 21,\n",
      " 'scheduler/dequeued/memory': 21,\n",
      " 'scheduler/enqueued': 21,\n",
      " 'scheduler/enqueued/memory': 21,\n",
      " 'start_time': datetime.datetime(2025, 4, 27, 15, 2, 34, 726491, tzinfo=datetime.timezone.utc)}\n",
      "2025-04-27 17:03:16 [scrapy.core.engine] INFO: Spider closed (finished)\n",
      "2025-04-27 17:03:16 [scrapy.core.engine] INFO: Closing spider (finished)\n",
      "2025-04-27 17:03:16 [scrapy.extensions.feedexport] INFO: Stored jsonlines feed (20 items) in: datas/hotels.jl\n",
      "2025-04-27 17:03:16 [scrapy.statscollectors] INFO: Dumping Scrapy stats:\n",
      "{'downloader/request_bytes': 29713,\n",
      " 'downloader/request_count': 21,\n",
      " 'downloader/request_method_count/GET': 21,\n",
      " 'downloader/response_bytes': 6099765,\n",
      " 'downloader/response_count': 21,\n",
      " 'downloader/response_status_count/200': 21,\n",
      " 'elapsed_time_seconds': 41.510533,\n",
      " 'feedexport/success_count/FileFeedStorage': 1,\n",
      " 'finish_reason': 'finished',\n",
      " 'finish_time': datetime.datetime(2025, 4, 27, 15, 3, 16, 53898, tzinfo=datetime.timezone.utc),\n",
      " 'httpcompression/response_bytes': 31419711,\n",
      " 'httpcompression/response_count': 21,\n",
      " 'item_scraped_count': 20,\n",
      " 'items_per_minute': None,\n",
      " 'log_count/ERROR': 1,\n",
      " 'log_count/INFO': 179,\n",
      " 'request_depth_max': 1,\n",
      " 'response_received_count': 21,\n",
      " 'responses_per_minute': None,\n",
      " 'scheduler/dequeued': 21,\n",
      " 'scheduler/dequeued/memory': 21,\n",
      " 'scheduler/enqueued': 21,\n",
      " 'scheduler/enqueued/memory': 21,\n",
      " 'start_time': datetime.datetime(2025, 4, 27, 15, 2, 34, 543365, tzinfo=datetime.timezone.utc)}\n",
      "2025-04-27 17:03:16 [scrapy.core.engine] INFO: Spider closed (finished)\n",
      "2025-04-27 17:03:17 [scrapy.core.engine] INFO: Closing spider (finished)\n",
      "2025-04-27 17:03:17 [scrapy.extensions.feedexport] INFO: Stored jsonlines feed (20 items) in: datas/hotels.jl\n",
      "2025-04-27 17:03:17 [scrapy.statscollectors] INFO: Dumping Scrapy stats:\n",
      "{'downloader/request_bytes': 30246,\n",
      " 'downloader/request_count': 21,\n",
      " 'downloader/request_method_count/GET': 21,\n",
      " 'downloader/response_bytes': 6260831,\n",
      " 'downloader/response_count': 21,\n",
      " 'downloader/response_status_count/200': 21,\n",
      " 'elapsed_time_seconds': 42.676958,\n",
      " 'feedexport/success_count/FileFeedStorage': 1,\n",
      " 'finish_reason': 'finished',\n",
      " 'finish_time': datetime.datetime(2025, 4, 27, 15, 3, 17, 379076, tzinfo=datetime.timezone.utc),\n",
      " 'httpcompression/response_bytes': 31361184,\n",
      " 'httpcompression/response_count': 21,\n",
      " 'item_scraped_count': 20,\n",
      " 'items_per_minute': None,\n",
      " 'log_count/ERROR': 1,\n",
      " 'log_count/INFO': 123,\n",
      " 'request_depth_max': 1,\n",
      " 'response_received_count': 21,\n",
      " 'responses_per_minute': None,\n",
      " 'scheduler/dequeued': 21,\n",
      " 'scheduler/dequeued/memory': 21,\n",
      " 'scheduler/enqueued': 21,\n",
      " 'scheduler/enqueued/memory': 21,\n",
      " 'start_time': datetime.datetime(2025, 4, 27, 15, 2, 34, 702118, tzinfo=datetime.timezone.utc)}\n",
      "2025-04-27 17:03:17 [scrapy.core.engine] INFO: Spider closed (finished)\n",
      "2025-04-27 17:03:17 [scrapy.core.engine] INFO: Closing spider (finished)\n",
      "2025-04-27 17:03:17 [scrapy.extensions.feedexport] INFO: Stored jsonlines feed (20 items) in: datas/hotels.jl\n",
      "2025-04-27 17:03:17 [scrapy.statscollectors] INFO: Dumping Scrapy stats:\n",
      "{'downloader/request_bytes': 29785,\n",
      " 'downloader/request_count': 21,\n",
      " 'downloader/request_method_count/GET': 21,\n",
      " 'downloader/response_bytes': 6060683,\n",
      " 'downloader/response_count': 21,\n",
      " 'downloader/response_status_count/200': 21,\n",
      " 'elapsed_time_seconds': 43.023609,\n",
      " 'feedexport/success_count/FileFeedStorage': 1,\n",
      " 'finish_reason': 'finished',\n",
      " 'finish_time': datetime.datetime(2025, 4, 27, 15, 3, 17, 487838, tzinfo=datetime.timezone.utc),\n",
      " 'httpcompression/response_bytes': 30853041,\n",
      " 'httpcompression/response_count': 21,\n",
      " 'item_scraped_count': 20,\n",
      " 'items_per_minute': None,\n",
      " 'log_count/ERROR': 1,\n",
      " 'log_count/INFO': 227,\n",
      " 'request_depth_max': 1,\n",
      " 'response_received_count': 21,\n",
      " 'responses_per_minute': None,\n",
      " 'scheduler/dequeued': 21,\n",
      " 'scheduler/dequeued/memory': 21,\n",
      " 'scheduler/enqueued': 21,\n",
      " 'scheduler/enqueued/memory': 21,\n",
      " 'start_time': datetime.datetime(2025, 4, 27, 15, 2, 34, 464229, tzinfo=datetime.timezone.utc)}\n",
      "2025-04-27 17:03:17 [scrapy.core.engine] INFO: Spider closed (finished)\n",
      "2025-04-27 17:03:17 [scrapy.core.engine] INFO: Closing spider (finished)\n",
      "2025-04-27 17:03:17 [scrapy.extensions.feedexport] INFO: Stored jsonlines feed (20 items) in: datas/hotels.jl\n",
      "2025-04-27 17:03:17 [scrapy.statscollectors] INFO: Dumping Scrapy stats:\n",
      "{'downloader/request_bytes': 29278,\n",
      " 'downloader/request_count': 21,\n",
      " 'downloader/request_method_count/GET': 21,\n",
      " 'downloader/response_bytes': 5992870,\n",
      " 'downloader/response_count': 21,\n",
      " 'downloader/response_status_count/200': 21,\n",
      " 'elapsed_time_seconds': 43.37918,\n",
      " 'feedexport/success_count/FileFeedStorage': 1,\n",
      " 'finish_reason': 'finished',\n",
      " 'finish_time': datetime.datetime(2025, 4, 27, 15, 3, 17, 523188, tzinfo=datetime.timezone.utc),\n",
      " 'httpcompression/response_bytes': 29980429,\n",
      " 'httpcompression/response_count': 21,\n",
      " 'item_scraped_count': 20,\n",
      " 'items_per_minute': None,\n",
      " 'log_count/ERROR': 1,\n",
      " 'log_count/INFO': 371,\n",
      " 'request_depth_max': 1,\n",
      " 'response_received_count': 21,\n",
      " 'responses_per_minute': None,\n",
      " 'scheduler/dequeued': 21,\n",
      " 'scheduler/dequeued/memory': 21,\n",
      " 'scheduler/enqueued': 21,\n",
      " 'scheduler/enqueued/memory': 21,\n",
      " 'start_time': datetime.datetime(2025, 4, 27, 15, 2, 34, 144008, tzinfo=datetime.timezone.utc)}\n",
      "2025-04-27 17:03:17 [scrapy.core.engine] INFO: Spider closed (finished)\n",
      "2025-04-27 17:03:17 [scrapy.core.engine] INFO: Closing spider (finished)\n",
      "2025-04-27 17:03:17 [scrapy.extensions.feedexport] INFO: Stored jsonlines feed (20 items) in: datas/hotels.jl\n",
      "2025-04-27 17:03:17 [scrapy.statscollectors] INFO: Dumping Scrapy stats:\n",
      "{'downloader/request_bytes': 29461,\n",
      " 'downloader/request_count': 21,\n",
      " 'downloader/request_method_count/GET': 21,\n",
      " 'downloader/response_bytes': 6059159,\n",
      " 'downloader/response_count': 21,\n",
      " 'downloader/response_status_count/200': 21,\n",
      " 'elapsed_time_seconds': 43.209082,\n",
      " 'feedexport/success_count/FileFeedStorage': 1,\n",
      " 'finish_reason': 'finished',\n",
      " 'finish_time': datetime.datetime(2025, 4, 27, 15, 3, 17, 532253, tzinfo=datetime.timezone.utc),\n",
      " 'httpcompression/response_bytes': 30715170,\n",
      " 'httpcompression/response_count': 21,\n",
      " 'item_scraped_count': 20,\n",
      " 'items_per_minute': None,\n",
      " 'log_count/ERROR': 1,\n",
      " 'log_count/INFO': 295,\n",
      " 'request_depth_max': 1,\n",
      " 'response_received_count': 21,\n",
      " 'responses_per_minute': None,\n",
      " 'scheduler/dequeued': 21,\n",
      " 'scheduler/dequeued/memory': 21,\n",
      " 'scheduler/enqueued': 21,\n",
      " 'scheduler/enqueued/memory': 21,\n",
      " 'start_time': datetime.datetime(2025, 4, 27, 15, 2, 34, 323171, tzinfo=datetime.timezone.utc)}\n",
      "2025-04-27 17:03:17 [scrapy.core.engine] INFO: Spider closed (finished)\n",
      "2025-04-27 17:03:17 [scrapy.core.engine] INFO: Closing spider (finished)\n",
      "2025-04-27 17:03:17 [scrapy.extensions.feedexport] INFO: Stored jsonlines feed (20 items) in: datas/hotels.jl\n",
      "2025-04-27 17:03:17 [scrapy.statscollectors] INFO: Dumping Scrapy stats:\n",
      "{'downloader/request_bytes': 29262,\n",
      " 'downloader/request_count': 21,\n",
      " 'downloader/request_method_count/GET': 21,\n",
      " 'downloader/response_bytes': 5998409,\n",
      " 'downloader/response_count': 21,\n",
      " 'downloader/response_status_count/200': 21,\n",
      " 'elapsed_time_seconds': 43.128681,\n",
      " 'feedexport/success_count/FileFeedStorage': 1,\n",
      " 'finish_reason': 'finished',\n",
      " 'finish_time': datetime.datetime(2025, 4, 27, 15, 3, 17, 540918, tzinfo=datetime.timezone.utc),\n",
      " 'httpcompression/response_bytes': 30402145,\n",
      " 'httpcompression/response_count': 21,\n",
      " 'item_scraped_count': 20,\n",
      " 'items_per_minute': None,\n",
      " 'log_count/ERROR': 1,\n",
      " 'log_count/INFO': 259,\n",
      " 'request_depth_max': 1,\n",
      " 'response_received_count': 21,\n",
      " 'responses_per_minute': None,\n",
      " 'scheduler/dequeued': 21,\n",
      " 'scheduler/dequeued/memory': 21,\n",
      " 'scheduler/enqueued': 21,\n",
      " 'scheduler/enqueued/memory': 21,\n",
      " 'start_time': datetime.datetime(2025, 4, 27, 15, 2, 34, 412237, tzinfo=datetime.timezone.utc)}\n",
      "2025-04-27 17:03:17 [scrapy.core.engine] INFO: Spider closed (finished)\n",
      "2025-04-27 17:03:17 [scrapy.core.engine] INFO: Closing spider (finished)\n",
      "2025-04-27 17:03:17 [scrapy.extensions.feedexport] INFO: Stored jsonlines feed (20 items) in: datas/hotels.jl\n",
      "2025-04-27 17:03:17 [scrapy.statscollectors] INFO: Dumping Scrapy stats:\n",
      "{'downloader/request_bytes': 30364,\n",
      " 'downloader/request_count': 21,\n",
      " 'downloader/request_method_count/GET': 21,\n",
      " 'downloader/response_bytes': 6005263,\n",
      " 'downloader/response_count': 21,\n",
      " 'downloader/response_status_count/200': 21,\n",
      " 'elapsed_time_seconds': 43.24669,\n",
      " 'feedexport/success_count/FileFeedStorage': 1,\n",
      " 'finish_reason': 'finished',\n",
      " 'finish_time': datetime.datetime(2025, 4, 27, 15, 3, 17, 544870, tzinfo=datetime.timezone.utc),\n",
      " 'httpcompression/response_bytes': 30279963,\n",
      " 'httpcompression/response_count': 21,\n",
      " 'item_scraped_count': 20,\n",
      " 'items_per_minute': None,\n",
      " 'log_count/ERROR': 1,\n",
      " 'log_count/INFO': 313,\n",
      " 'request_depth_max': 1,\n",
      " 'response_received_count': 21,\n",
      " 'responses_per_minute': None,\n",
      " 'scheduler/dequeued': 21,\n",
      " 'scheduler/dequeued/memory': 21,\n",
      " 'scheduler/enqueued': 21,\n",
      " 'scheduler/enqueued/memory': 21,\n",
      " 'start_time': datetime.datetime(2025, 4, 27, 15, 2, 34, 298180, tzinfo=datetime.timezone.utc)}\n",
      "2025-04-27 17:03:17 [scrapy.core.engine] INFO: Spider closed (finished)\n",
      "2025-04-27 17:03:17 [scrapy.core.engine] INFO: Closing spider (finished)\n",
      "2025-04-27 17:03:17 [scrapy.extensions.feedexport] INFO: Stored jsonlines feed (20 items) in: datas/hotels.jl\n",
      "2025-04-27 17:03:17 [scrapy.statscollectors] INFO: Dumping Scrapy stats:\n",
      "{'downloader/request_bytes': 29416,\n",
      " 'downloader/request_count': 21,\n",
      " 'downloader/request_method_count/GET': 21,\n",
      " 'downloader/response_bytes': 6283666,\n",
      " 'downloader/response_count': 21,\n",
      " 'downloader/response_status_count/200': 21,\n",
      " 'elapsed_time_seconds': 43.431983,\n",
      " 'feedexport/success_count/FileFeedStorage': 1,\n",
      " 'finish_reason': 'finished',\n",
      " 'finish_time': datetime.datetime(2025, 4, 27, 15, 3, 17, 550761, tzinfo=datetime.timezone.utc),\n",
      " 'httpcompression/response_bytes': 31332277,\n",
      " 'httpcompression/response_count': 21,\n",
      " 'item_scraped_count': 20,\n",
      " 'items_per_minute': None,\n",
      " 'log_count/ERROR': 1,\n",
      " 'log_count/INFO': 397,\n",
      " 'request_depth_max': 1,\n",
      " 'response_received_count': 21,\n",
      " 'responses_per_minute': None,\n",
      " 'scheduler/dequeued': 21,\n",
      " 'scheduler/dequeued/memory': 21,\n",
      " 'scheduler/enqueued': 21,\n",
      " 'scheduler/enqueued/memory': 21,\n",
      " 'start_time': datetime.datetime(2025, 4, 27, 15, 2, 34, 118778, tzinfo=datetime.timezone.utc)}\n",
      "2025-04-27 17:03:17 [scrapy.core.engine] INFO: Spider closed (finished)\n",
      "2025-04-27 17:03:17 [scrapy.core.engine] INFO: Closing spider (finished)\n",
      "2025-04-27 17:03:17 [scrapy.extensions.feedexport] INFO: Stored jsonlines feed (20 items) in: datas/hotels.jl\n",
      "2025-04-27 17:03:17 [scrapy.statscollectors] INFO: Dumping Scrapy stats:\n",
      "{'downloader/request_bytes': 29756,\n",
      " 'downloader/request_count': 21,\n",
      " 'downloader/request_method_count/GET': 21,\n",
      " 'downloader/response_bytes': 6036026,\n",
      " 'downloader/response_count': 21,\n",
      " 'downloader/response_status_count/200': 21,\n",
      " 'elapsed_time_seconds': 43.368189,\n",
      " 'feedexport/success_count/FileFeedStorage': 1,\n",
      " 'finish_reason': 'finished',\n",
      " 'finish_time': datetime.datetime(2025, 4, 27, 15, 3, 17, 559158, tzinfo=datetime.timezone.utc),\n",
      " 'httpcompression/response_bytes': 30684613,\n",
      " 'httpcompression/response_count': 21,\n",
      " 'item_scraped_count': 20,\n",
      " 'items_per_minute': None,\n",
      " 'log_count/ERROR': 1,\n",
      " 'log_count/INFO': 371,\n",
      " 'request_depth_max': 1,\n",
      " 'response_received_count': 21,\n",
      " 'responses_per_minute': None,\n",
      " 'scheduler/dequeued': 21,\n",
      " 'scheduler/dequeued/memory': 21,\n",
      " 'scheduler/enqueued': 21,\n",
      " 'scheduler/enqueued/memory': 21,\n",
      " 'start_time': datetime.datetime(2025, 4, 27, 15, 2, 34, 190969, tzinfo=datetime.timezone.utc)}\n",
      "2025-04-27 17:03:17 [scrapy.core.engine] INFO: Spider closed (finished)\n",
      "2025-04-27 17:03:17 [scrapy.core.engine] INFO: Closing spider (finished)\n",
      "2025-04-27 17:03:17 [scrapy.extensions.feedexport] INFO: Stored jsonlines feed (19 items) in: datas/hotels.jl\n",
      "2025-04-27 17:03:17 [scrapy.statscollectors] INFO: Dumping Scrapy stats:\n",
      "{'downloader/request_bytes': 29107,\n",
      " 'downloader/request_count': 21,\n",
      " 'downloader/request_method_count/GET': 21,\n",
      " 'downloader/response_bytes': 5978941,\n",
      " 'downloader/response_count': 21,\n",
      " 'downloader/response_status_count/200': 21,\n",
      " 'elapsed_time_seconds': 43.360223,\n",
      " 'feedexport/success_count/FileFeedStorage': 1,\n",
      " 'finish_reason': 'finished',\n",
      " 'finish_time': datetime.datetime(2025, 4, 27, 15, 3, 17, 567675, tzinfo=datetime.timezone.utc),\n",
      " 'httpcompression/response_bytes': 31077336,\n",
      " 'httpcompression/response_count': 21,\n",
      " 'item_scraped_count': 19,\n",
      " 'items_per_minute': None,\n",
      " 'log_count/ERROR': 1,\n",
      " 'log_count/INFO': 365,\n",
      " 'request_depth_max': 1,\n",
      " 'response_received_count': 21,\n",
      " 'responses_per_minute': None,\n",
      " 'scheduler/dequeued': 21,\n",
      " 'scheduler/dequeued/memory': 21,\n",
      " 'scheduler/enqueued': 21,\n",
      " 'scheduler/enqueued/memory': 21,\n",
      " 'spider_exceptions/KeyError': 1,\n",
      " 'start_time': datetime.datetime(2025, 4, 27, 15, 2, 34, 207452, tzinfo=datetime.timezone.utc)}\n",
      "2025-04-27 17:03:17 [scrapy.core.engine] INFO: Spider closed (finished)\n",
      "2025-04-27 17:03:17 [scrapy.core.engine] INFO: Closing spider (finished)\n",
      "2025-04-27 17:03:17 [scrapy.extensions.feedexport] INFO: Stored jsonlines feed (19 items) in: datas/hotels.jl\n",
      "2025-04-27 17:03:17 [scrapy.statscollectors] INFO: Dumping Scrapy stats:\n",
      "{'downloader/request_bytes': 29359,\n",
      " 'downloader/request_count': 21,\n",
      " 'downloader/request_method_count/GET': 21,\n",
      " 'downloader/response_bytes': 5990953,\n",
      " 'downloader/response_count': 21,\n",
      " 'downloader/response_status_count/200': 21,\n",
      " 'elapsed_time_seconds': 43.108425,\n",
      " 'feedexport/success_count/FileFeedStorage': 1,\n",
      " 'finish_reason': 'finished',\n",
      " 'finish_time': datetime.datetime(2025, 4, 27, 15, 3, 17, 756617, tzinfo=datetime.timezone.utc),\n",
      " 'httpcompression/response_bytes': 30022949,\n",
      " 'httpcompression/response_count': 21,\n",
      " 'item_scraped_count': 19,\n",
      " 'items_per_minute': None,\n",
      " 'log_count/ERROR': 1,\n",
      " 'log_count/INFO': 179,\n",
      " 'request_depth_max': 1,\n",
      " 'response_received_count': 21,\n",
      " 'responses_per_minute': None,\n",
      " 'scheduler/dequeued': 21,\n",
      " 'scheduler/dequeued/memory': 21,\n",
      " 'scheduler/enqueued': 21,\n",
      " 'scheduler/enqueued/memory': 21,\n",
      " 'start_time': datetime.datetime(2025, 4, 27, 15, 2, 34, 648192, tzinfo=datetime.timezone.utc)}\n",
      "2025-04-27 17:03:17 [scrapy.core.engine] INFO: Spider closed (finished)\n",
      "2025-04-27 17:03:17 [scrapy.core.engine] INFO: Closing spider (finished)\n",
      "2025-04-27 17:03:17 [scrapy.extensions.feedexport] INFO: Stored jsonlines feed (20 items) in: datas/hotels.jl\n",
      "2025-04-27 17:03:17 [scrapy.statscollectors] INFO: Dumping Scrapy stats:\n",
      "{'downloader/request_bytes': 29864,\n",
      " 'downloader/request_count': 21,\n",
      " 'downloader/request_method_count/GET': 21,\n",
      " 'downloader/response_bytes': 6068022,\n",
      " 'downloader/response_count': 21,\n",
      " 'downloader/response_status_count/200': 21,\n",
      " 'elapsed_time_seconds': 43.197032,\n",
      " 'feedexport/success_count/FileFeedStorage': 1,\n",
      " 'finish_reason': 'finished',\n",
      " 'finish_time': datetime.datetime(2025, 4, 27, 15, 3, 17, 764741, tzinfo=datetime.timezone.utc),\n",
      " 'httpcompression/response_bytes': 31055563,\n",
      " 'httpcompression/response_count': 21,\n",
      " 'item_scraped_count': 20,\n",
      " 'items_per_minute': None,\n",
      " 'log_count/ERROR': 1,\n",
      " 'log_count/INFO': 213,\n",
      " 'request_depth_max': 1,\n",
      " 'response_received_count': 21,\n",
      " 'responses_per_minute': None,\n",
      " 'scheduler/dequeued': 21,\n",
      " 'scheduler/dequeued/memory': 21,\n",
      " 'scheduler/enqueued': 21,\n",
      " 'scheduler/enqueued/memory': 21,\n",
      " 'start_time': datetime.datetime(2025, 4, 27, 15, 2, 34, 567709, tzinfo=datetime.timezone.utc)}\n",
      "2025-04-27 17:03:17 [scrapy.core.engine] INFO: Spider closed (finished)\n",
      "2025-04-27 17:03:17 [scrapy.core.engine] INFO: Closing spider (finished)\n",
      "2025-04-27 17:03:17 [scrapy.extensions.feedexport] INFO: Stored jsonlines feed (20 items) in: datas/hotels.jl\n",
      "2025-04-27 17:03:17 [scrapy.statscollectors] INFO: Dumping Scrapy stats:\n",
      "{'downloader/request_bytes': 29358,\n",
      " 'downloader/request_count': 21,\n",
      " 'downloader/request_method_count/GET': 21,\n",
      " 'downloader/response_bytes': 5910571,\n",
      " 'downloader/response_count': 21,\n",
      " 'downloader/response_status_count/200': 21,\n",
      " 'elapsed_time_seconds': 43.417303,\n",
      " 'feedexport/success_count/FileFeedStorage': 1,\n",
      " 'finish_reason': 'finished',\n",
      " 'finish_time': datetime.datetime(2025, 4, 27, 15, 3, 17, 773169, tzinfo=datetime.timezone.utc),\n",
      " 'httpcompression/response_bytes': 29201662,\n",
      " 'httpcompression/response_count': 21,\n",
      " 'item_scraped_count': 20,\n",
      " 'items_per_minute': None,\n",
      " 'log_count/ERROR': 1,\n",
      " 'log_count/INFO': 307,\n",
      " 'request_depth_max': 1,\n",
      " 'response_received_count': 21,\n",
      " 'responses_per_minute': None,\n",
      " 'scheduler/dequeued': 21,\n",
      " 'scheduler/dequeued/memory': 21,\n",
      " 'scheduler/enqueued': 21,\n",
      " 'scheduler/enqueued/memory': 21,\n",
      " 'start_time': datetime.datetime(2025, 4, 27, 15, 2, 34, 355866, tzinfo=datetime.timezone.utc)}\n",
      "2025-04-27 17:03:17 [scrapy.core.engine] INFO: Spider closed (finished)\n",
      "2025-04-27 17:03:17 [scrapy.core.engine] INFO: Closing spider (finished)\n",
      "2025-04-27 17:03:17 [scrapy.extensions.feedexport] INFO: Stored jsonlines feed (20 items) in: datas/hotels.jl\n",
      "2025-04-27 17:03:17 [scrapy.statscollectors] INFO: Dumping Scrapy stats:\n",
      "{'downloader/request_bytes': 29401,\n",
      " 'downloader/request_count': 21,\n",
      " 'downloader/request_method_count/GET': 21,\n",
      " 'downloader/response_bytes': 6018459,\n",
      " 'downloader/response_count': 21,\n",
      " 'downloader/response_status_count/200': 21,\n",
      " 'elapsed_time_seconds': 43.543209,\n",
      " 'feedexport/success_count/FileFeedStorage': 1,\n",
      " 'finish_reason': 'finished',\n",
      " 'finish_time': datetime.datetime(2025, 4, 27, 15, 3, 17, 783572, tzinfo=datetime.timezone.utc),\n",
      " 'httpcompression/response_bytes': 30101165,\n",
      " 'httpcompression/response_count': 21,\n",
      " 'item_scraped_count': 20,\n",
      " 'items_per_minute': None,\n",
      " 'log_count/ERROR': 1,\n",
      " 'log_count/INFO': 371,\n",
      " 'request_depth_max': 1,\n",
      " 'response_received_count': 21,\n",
      " 'responses_per_minute': None,\n",
      " 'scheduler/dequeued': 21,\n",
      " 'scheduler/dequeued/memory': 21,\n",
      " 'scheduler/enqueued': 21,\n",
      " 'scheduler/enqueued/memory': 21,\n",
      " 'start_time': datetime.datetime(2025, 4, 27, 15, 2, 34, 240363, tzinfo=datetime.timezone.utc)}\n",
      "2025-04-27 17:03:17 [scrapy.core.engine] INFO: Spider closed (finished)\n",
      "2025-04-27 17:03:17 [scrapy.core.engine] INFO: Closing spider (finished)\n",
      "2025-04-27 17:03:17 [scrapy.extensions.feedexport] INFO: Stored jsonlines feed (20 items) in: datas/hotels.jl\n",
      "2025-04-27 17:03:17 [scrapy.statscollectors] INFO: Dumping Scrapy stats:\n",
      "{'downloader/request_bytes': 29590,\n",
      " 'downloader/request_count': 21,\n",
      " 'downloader/request_method_count/GET': 21,\n",
      " 'downloader/response_bytes': 6056510,\n",
      " 'downloader/response_count': 21,\n",
      " 'downloader/response_status_count/200': 21,\n",
      " 'elapsed_time_seconds': 42.989801,\n",
      " 'feedexport/success_count/FileFeedStorage': 1,\n",
      " 'finish_reason': 'finished',\n",
      " 'finish_time': datetime.datetime(2025, 4, 27, 15, 3, 17, 789789, tzinfo=datetime.timezone.utc),\n",
      " 'httpcompression/response_bytes': 30713054,\n",
      " 'httpcompression/response_count': 21,\n",
      " 'item_scraped_count': 20,\n",
      " 'items_per_minute': None,\n",
      " 'log_count/ERROR': 1,\n",
      " 'log_count/INFO': 135,\n",
      " 'request_depth_max': 1,\n",
      " 'response_received_count': 21,\n",
      " 'responses_per_minute': None,\n",
      " 'scheduler/dequeued': 21,\n",
      " 'scheduler/dequeued/memory': 21,\n",
      " 'scheduler/enqueued': 21,\n",
      " 'scheduler/enqueued/memory': 21,\n",
      " 'start_time': datetime.datetime(2025, 4, 27, 15, 2, 34, 799988, tzinfo=datetime.timezone.utc)}\n",
      "2025-04-27 17:03:17 [scrapy.core.engine] INFO: Spider closed (finished)\n",
      "2025-04-27 17:03:19 [scrapy.core.engine] INFO: Closing spider (finished)\n",
      "2025-04-27 17:03:19 [scrapy.extensions.feedexport] INFO: Stored jsonlines feed (20 items) in: datas/hotels.jl\n",
      "2025-04-27 17:03:19 [scrapy.statscollectors] INFO: Dumping Scrapy stats:\n",
      "{'downloader/request_bytes': 29497,\n",
      " 'downloader/request_count': 21,\n",
      " 'downloader/request_method_count/GET': 21,\n",
      " 'downloader/response_bytes': 5931527,\n",
      " 'downloader/response_count': 21,\n",
      " 'downloader/response_status_count/200': 21,\n",
      " 'elapsed_time_seconds': 44.871201,\n",
      " 'feedexport/success_count/FileFeedStorage': 1,\n",
      " 'finish_reason': 'finished',\n",
      " 'finish_time': datetime.datetime(2025, 4, 27, 15, 3, 19, 687796, tzinfo=datetime.timezone.utc),\n",
      " 'httpcompression/response_bytes': 29328059,\n",
      " 'httpcompression/response_count': 21,\n",
      " 'item_scraped_count': 20,\n",
      " 'items_per_minute': None,\n",
      " 'log_count/ERROR': 1,\n",
      " 'log_count/INFO': 129,\n",
      " 'request_depth_max': 1,\n",
      " 'response_received_count': 21,\n",
      " 'responses_per_minute': None,\n",
      " 'scheduler/dequeued': 21,\n",
      " 'scheduler/dequeued/memory': 21,\n",
      " 'scheduler/enqueued': 21,\n",
      " 'scheduler/enqueued/memory': 21,\n",
      " 'start_time': datetime.datetime(2025, 4, 27, 15, 2, 34, 816595, tzinfo=datetime.timezone.utc)}\n",
      "2025-04-27 17:03:19 [scrapy.core.engine] INFO: Spider closed (finished)\n",
      "2025-04-27 17:03:19 [scrapy.core.engine] INFO: Closing spider (finished)\n",
      "2025-04-27 17:03:19 [scrapy.extensions.feedexport] INFO: Stored jsonlines feed (20 items) in: datas/hotels.jl\n",
      "2025-04-27 17:03:19 [scrapy.statscollectors] INFO: Dumping Scrapy stats:\n",
      "{'downloader/request_bytes': 29372,\n",
      " 'downloader/request_count': 21,\n",
      " 'downloader/request_method_count/GET': 21,\n",
      " 'downloader/response_bytes': 6322102,\n",
      " 'downloader/response_count': 21,\n",
      " 'downloader/response_status_count/200': 21,\n",
      " 'elapsed_time_seconds': 44.87213,\n",
      " 'feedexport/success_count/FileFeedStorage': 1,\n",
      " 'finish_reason': 'finished',\n",
      " 'finish_time': datetime.datetime(2025, 4, 27, 15, 3, 19, 705205, tzinfo=datetime.timezone.utc),\n",
      " 'httpcompression/response_bytes': 32138421,\n",
      " 'httpcompression/response_count': 21,\n",
      " 'item_scraped_count': 20,\n",
      " 'items_per_minute': None,\n",
      " 'log_count/ERROR': 1,\n",
      " 'log_count/INFO': 123,\n",
      " 'request_depth_max': 1,\n",
      " 'response_received_count': 21,\n",
      " 'responses_per_minute': None,\n",
      " 'scheduler/dequeued': 21,\n",
      " 'scheduler/dequeued/memory': 21,\n",
      " 'scheduler/enqueued': 21,\n",
      " 'scheduler/enqueued/memory': 21,\n",
      " 'start_time': datetime.datetime(2025, 4, 27, 15, 2, 34, 833075, tzinfo=datetime.timezone.utc)}\n",
      "2025-04-27 17:03:19 [scrapy.core.engine] INFO: Spider closed (finished)\n",
      "2025-04-27 17:03:19 [scrapy.core.engine] INFO: Closing spider (finished)\n",
      "2025-04-27 17:03:19 [scrapy.extensions.feedexport] INFO: Stored jsonlines feed (20 items) in: datas/hotels.jl\n",
      "2025-04-27 17:03:19 [scrapy.statscollectors] INFO: Dumping Scrapy stats:\n",
      "{'downloader/request_bytes': 29810,\n",
      " 'downloader/request_count': 21,\n",
      " 'downloader/request_method_count/GET': 21,\n",
      " 'downloader/response_bytes': 6031924,\n",
      " 'downloader/response_count': 21,\n",
      " 'downloader/response_status_count/200': 21,\n",
      " 'elapsed_time_seconds': 44.844172,\n",
      " 'feedexport/success_count/FileFeedStorage': 1,\n",
      " 'finish_reason': 'finished',\n",
      " 'finish_time': datetime.datetime(2025, 4, 27, 15, 3, 19, 710218, tzinfo=datetime.timezone.utc),\n",
      " 'httpcompression/response_bytes': 30608403,\n",
      " 'httpcompression/response_count': 21,\n",
      " 'item_scraped_count': 20,\n",
      " 'items_per_minute': None,\n",
      " 'log_count/ERROR': 1,\n",
      " 'log_count/INFO': 107,\n",
      " 'request_depth_max': 1,\n",
      " 'response_received_count': 21,\n",
      " 'responses_per_minute': None,\n",
      " 'scheduler/dequeued': 21,\n",
      " 'scheduler/dequeued/memory': 21,\n",
      " 'scheduler/enqueued': 21,\n",
      " 'scheduler/enqueued/memory': 21,\n",
      " 'start_time': datetime.datetime(2025, 4, 27, 15, 2, 34, 866046, tzinfo=datetime.timezone.utc)}\n",
      "2025-04-27 17:03:19 [scrapy.core.engine] INFO: Spider closed (finished)\n",
      "2025-04-27 17:03:19 [scrapy.core.engine] INFO: Closing spider (finished)\n",
      "2025-04-27 17:03:19 [scrapy.extensions.feedexport] INFO: Stored jsonlines feed (20 items) in: datas/hotels.jl\n",
      "2025-04-27 17:03:19 [scrapy.statscollectors] INFO: Dumping Scrapy stats:\n",
      "{'downloader/request_bytes': 29412,\n",
      " 'downloader/request_count': 21,\n",
      " 'downloader/request_method_count/GET': 21,\n",
      " 'downloader/response_bytes': 6030642,\n",
      " 'downloader/response_count': 21,\n",
      " 'downloader/response_status_count/200': 21,\n",
      " 'elapsed_time_seconds': 45.337907,\n",
      " 'feedexport/success_count/FileFeedStorage': 1,\n",
      " 'finish_reason': 'finished',\n",
      " 'finish_time': datetime.datetime(2025, 4, 27, 15, 3, 19, 718389, tzinfo=datetime.timezone.utc),\n",
      " 'httpcompression/response_bytes': 30434601,\n",
      " 'httpcompression/response_count': 21,\n",
      " 'item_scraped_count': 20,\n",
      " 'items_per_minute': None,\n",
      " 'log_count/ERROR': 1,\n",
      " 'log_count/INFO': 321,\n",
      " 'request_depth_max': 1,\n",
      " 'response_received_count': 21,\n",
      " 'responses_per_minute': None,\n",
      " 'scheduler/dequeued': 21,\n",
      " 'scheduler/dequeued/memory': 21,\n",
      " 'scheduler/enqueued': 21,\n",
      " 'scheduler/enqueued/memory': 21,\n",
      " 'start_time': datetime.datetime(2025, 4, 27, 15, 2, 34, 380482, tzinfo=datetime.timezone.utc)}\n",
      "2025-04-27 17:03:19 [scrapy.core.engine] INFO: Spider closed (finished)\n",
      "2025-04-27 17:03:19 [scrapy.core.engine] INFO: Closing spider (finished)\n",
      "2025-04-27 17:03:19 [scrapy.extensions.feedexport] INFO: Stored jsonlines feed (20 items) in: datas/hotels.jl\n",
      "2025-04-27 17:03:19 [scrapy.statscollectors] INFO: Dumping Scrapy stats:\n",
      "{'downloader/request_bytes': 29590,\n",
      " 'downloader/request_count': 21,\n",
      " 'downloader/request_method_count/GET': 21,\n",
      " 'downloader/response_bytes': 5975848,\n",
      " 'downloader/response_count': 21,\n",
      " 'downloader/response_status_count/200': 21,\n",
      " 'elapsed_time_seconds': 45.13185,\n",
      " 'feedexport/success_count/FileFeedStorage': 1,\n",
      " 'finish_reason': 'finished',\n",
      " 'finish_time': datetime.datetime(2025, 4, 27, 15, 3, 19, 724427, tzinfo=datetime.timezone.utc),\n",
      " 'httpcompression/response_bytes': 29761410,\n",
      " 'httpcompression/response_count': 21,\n",
      " 'item_scraped_count': 20,\n",
      " 'items_per_minute': None,\n",
      " 'log_count/ERROR': 1,\n",
      " 'log_count/INFO': 235,\n",
      " 'request_depth_max': 1,\n",
      " 'response_received_count': 21,\n",
      " 'responses_per_minute': None,\n",
      " 'scheduler/dequeued': 21,\n",
      " 'scheduler/dequeued/memory': 21,\n",
      " 'scheduler/enqueued': 21,\n",
      " 'scheduler/enqueued/memory': 21,\n",
      " 'start_time': datetime.datetime(2025, 4, 27, 15, 2, 34, 592577, tzinfo=datetime.timezone.utc)}\n",
      "2025-04-27 17:03:19 [scrapy.core.engine] INFO: Spider closed (finished)\n",
      "2025-04-27 17:03:19 [scrapy.core.engine] INFO: Closing spider (finished)\n",
      "2025-04-27 17:03:19 [scrapy.extensions.feedexport] INFO: Stored jsonlines feed (20 items) in: datas/hotels.jl\n",
      "2025-04-27 17:03:19 [scrapy.statscollectors] INFO: Dumping Scrapy stats:\n",
      "{'downloader/request_bytes': 29530,\n",
      " 'downloader/request_count': 21,\n",
      " 'downloader/request_method_count/GET': 21,\n",
      " 'downloader/response_bytes': 6032561,\n",
      " 'downloader/response_count': 21,\n",
      " 'downloader/response_status_count/200': 21,\n",
      " 'elapsed_time_seconds': 44.979954,\n",
      " 'feedexport/success_count/FileFeedStorage': 1,\n",
      " 'finish_reason': 'finished',\n",
      " 'finish_time': datetime.datetime(2025, 4, 27, 15, 3, 19, 731376, tzinfo=datetime.timezone.utc),\n",
      " 'httpcompression/response_bytes': 30623670,\n",
      " 'httpcompression/response_count': 21,\n",
      " 'item_scraped_count': 20,\n",
      " 'items_per_minute': None,\n",
      " 'log_count/ERROR': 1,\n",
      " 'log_count/INFO': 179,\n",
      " 'request_depth_max': 1,\n",
      " 'response_received_count': 21,\n",
      " 'responses_per_minute': None,\n",
      " 'scheduler/dequeued': 21,\n",
      " 'scheduler/dequeued/memory': 21,\n",
      " 'scheduler/enqueued': 21,\n",
      " 'scheduler/enqueued/memory': 21,\n",
      " 'start_time': datetime.datetime(2025, 4, 27, 15, 2, 34, 751422, tzinfo=datetime.timezone.utc)}\n",
      "2025-04-27 17:03:19 [scrapy.core.engine] INFO: Spider closed (finished)\n",
      "2025-04-27 17:03:19 [scrapy.core.engine] INFO: Closing spider (finished)\n",
      "2025-04-27 17:03:19 [scrapy.extensions.feedexport] INFO: Stored jsonlines feed (20 items) in: datas/hotels.jl\n",
      "2025-04-27 17:03:19 [scrapy.statscollectors] INFO: Dumping Scrapy stats:\n",
      "{'downloader/request_bytes': 29502,\n",
      " 'downloader/request_count': 21,\n",
      " 'downloader/request_method_count/GET': 21,\n",
      " 'downloader/response_bytes': 6015018,\n",
      " 'downloader/response_count': 21,\n",
      " 'downloader/response_status_count/200': 21,\n",
      " 'elapsed_time_seconds': 45.473641,\n",
      " 'feedexport/success_count/FileFeedStorage': 1,\n",
      " 'finish_reason': 'finished',\n",
      " 'finish_time': datetime.datetime(2025, 4, 27, 15, 3, 19, 738520, tzinfo=datetime.timezone.utc),\n",
      " 'httpcompression/response_bytes': 30109387,\n",
      " 'httpcompression/response_count': 21,\n",
      " 'item_scraped_count': 20,\n",
      " 'items_per_minute': None,\n",
      " 'log_count/ERROR': 1,\n",
      " 'log_count/INFO': 393,\n",
      " 'request_depth_max': 1,\n",
      " 'response_received_count': 21,\n",
      " 'responses_per_minute': None,\n",
      " 'scheduler/dequeued': 21,\n",
      " 'scheduler/dequeued/memory': 21,\n",
      " 'scheduler/enqueued': 21,\n",
      " 'scheduler/enqueued/memory': 21,\n",
      " 'start_time': datetime.datetime(2025, 4, 27, 15, 2, 34, 264879, tzinfo=datetime.timezone.utc)}\n",
      "2025-04-27 17:03:19 [scrapy.core.engine] INFO: Spider closed (finished)\n",
      "2025-04-27 17:03:19 [scrapy.core.engine] INFO: Closing spider (finished)\n",
      "2025-04-27 17:03:19 [scrapy.extensions.feedexport] INFO: Stored jsonlines feed (20 items) in: datas/hotels.jl\n",
      "2025-04-27 17:03:19 [scrapy.statscollectors] INFO: Dumping Scrapy stats:\n",
      "{'downloader/request_bytes': 29181,\n",
      " 'downloader/request_count': 21,\n",
      " 'downloader/request_method_count/GET': 21,\n",
      " 'downloader/response_bytes': 5950356,\n",
      " 'downloader/response_count': 21,\n",
      " 'downloader/response_status_count/200': 21,\n",
      " 'elapsed_time_seconds': 44.970718,\n",
      " 'feedexport/success_count/FileFeedStorage': 1,\n",
      " 'finish_reason': 'finished',\n",
      " 'finish_time': datetime.datetime(2025, 4, 27, 15, 3, 19, 746555, tzinfo=datetime.timezone.utc),\n",
      " 'httpcompression/response_bytes': 29405393,\n",
      " 'httpcompression/response_count': 21,\n",
      " 'item_scraped_count': 20,\n",
      " 'items_per_minute': None,\n",
      " 'log_count/ERROR': 1,\n",
      " 'log_count/INFO': 177,\n",
      " 'request_depth_max': 1,\n",
      " 'response_received_count': 21,\n",
      " 'responses_per_minute': None,\n",
      " 'scheduler/dequeued': 21,\n",
      " 'scheduler/dequeued/memory': 21,\n",
      " 'scheduler/enqueued': 21,\n",
      " 'scheduler/enqueued/memory': 21,\n",
      " 'start_time': datetime.datetime(2025, 4, 27, 15, 2, 34, 775837, tzinfo=datetime.timezone.utc)}\n",
      "2025-04-27 17:03:19 [scrapy.core.engine] INFO: Spider closed (finished)\n",
      "2025-04-27 17:03:19 [scrapy.core.engine] INFO: Closing spider (finished)\n",
      "2025-04-27 17:03:19 [scrapy.extensions.feedexport] INFO: Stored jsonlines feed (20 items) in: datas/hotels.jl\n",
      "2025-04-27 17:03:19 [scrapy.statscollectors] INFO: Dumping Scrapy stats:\n",
      "{'downloader/request_bytes': 29538,\n",
      " 'downloader/request_count': 21,\n",
      " 'downloader/request_method_count/GET': 21,\n",
      " 'downloader/response_bytes': 5969497,\n",
      " 'downloader/response_count': 21,\n",
      " 'downloader/response_status_count/200': 21,\n",
      " 'elapsed_time_seconds': 45.412944,\n",
      " 'feedexport/success_count/FileFeedStorage': 1,\n",
      " 'finish_reason': 'finished',\n",
      " 'finish_time': datetime.datetime(2025, 4, 27, 15, 3, 19, 752579, tzinfo=datetime.timezone.utc),\n",
      " 'httpcompression/response_bytes': 29848078,\n",
      " 'httpcompression/response_count': 21,\n",
      " 'item_scraped_count': 20,\n",
      " 'items_per_minute': None,\n",
      " 'log_count/ERROR': 1,\n",
      " 'log_count/INFO': 361,\n",
      " 'request_depth_max': 1,\n",
      " 'response_received_count': 21,\n",
      " 'responses_per_minute': None,\n",
      " 'scheduler/dequeued': 21,\n",
      " 'scheduler/dequeued/memory': 21,\n",
      " 'scheduler/enqueued': 21,\n",
      " 'scheduler/enqueued/memory': 21,\n",
      " 'start_time': datetime.datetime(2025, 4, 27, 15, 2, 34, 339635, tzinfo=datetime.timezone.utc)}\n",
      "2025-04-27 17:03:19 [scrapy.core.engine] INFO: Spider closed (finished)\n",
      "2025-04-27 17:03:20 [scrapy.core.engine] INFO: Closing spider (finished)\n",
      "2025-04-27 17:03:20 [scrapy.extensions.feedexport] INFO: Stored jsonlines feed (20 items) in: datas/hotels.jl\n",
      "2025-04-27 17:03:20 [scrapy.statscollectors] INFO: Dumping Scrapy stats:\n",
      "{'downloader/request_bytes': 29149,\n",
      " 'downloader/request_count': 21,\n",
      " 'downloader/request_method_count/GET': 21,\n",
      " 'downloader/response_bytes': 6024863,\n",
      " 'downloader/response_count': 21,\n",
      " 'downloader/response_status_count/200': 21,\n",
      " 'elapsed_time_seconds': 45.69276,\n",
      " 'feedexport/success_count/FileFeedStorage': 1,\n",
      " 'finish_reason': 'finished',\n",
      " 'finish_time': datetime.datetime(2025, 4, 27, 15, 3, 20, 311465, tzinfo=datetime.timezone.utc),\n",
      " 'httpcompression/response_bytes': 30543239,\n",
      " 'httpcompression/response_count': 21,\n",
      " 'item_scraped_count': 20,\n",
      " 'items_per_minute': None,\n",
      " 'log_count/ERROR': 1,\n",
      " 'log_count/INFO': 245,\n",
      " 'request_depth_max': 1,\n",
      " 'response_received_count': 21,\n",
      " 'responses_per_minute': None,\n",
      " 'scheduler/dequeued': 21,\n",
      " 'scheduler/dequeued/memory': 21,\n",
      " 'scheduler/enqueued': 21,\n",
      " 'scheduler/enqueued/memory': 21,\n",
      " 'start_time': datetime.datetime(2025, 4, 27, 15, 2, 34, 618705, tzinfo=datetime.timezone.utc)}\n",
      "2025-04-27 17:03:20 [scrapy.core.engine] INFO: Spider closed (finished)\n",
      "2025-04-27 17:03:20 [scrapy.core.engine] INFO: Closing spider (finished)\n",
      "2025-04-27 17:03:20 [scrapy.extensions.feedexport] INFO: Stored jsonlines feed (20 items) in: datas/hotels.jl\n",
      "2025-04-27 17:03:20 [scrapy.statscollectors] INFO: Dumping Scrapy stats:\n",
      "{'downloader/request_bytes': 29940,\n",
      " 'downloader/request_count': 21,\n",
      " 'downloader/request_method_count/GET': 21,\n",
      " 'downloader/response_bytes': 6051123,\n",
      " 'downloader/response_count': 21,\n",
      " 'downloader/response_status_count/200': 21,\n",
      " 'elapsed_time_seconds': 45.635094,\n",
      " 'feedexport/success_count/FileFeedStorage': 1,\n",
      " 'finish_reason': 'finished',\n",
      " 'finish_time': datetime.datetime(2025, 4, 27, 15, 3, 20, 311465, tzinfo=datetime.timezone.utc),\n",
      " 'httpcompression/response_bytes': 30396870,\n",
      " 'httpcompression/response_count': 21,\n",
      " 'item_scraped_count': 20,\n",
      " 'items_per_minute': None,\n",
      " 'log_count/ERROR': 1,\n",
      " 'log_count/INFO': 229,\n",
      " 'request_depth_max': 1,\n",
      " 'response_received_count': 21,\n",
      " 'responses_per_minute': None,\n",
      " 'scheduler/dequeued': 21,\n",
      " 'scheduler/dequeued/memory': 21,\n",
      " 'scheduler/enqueued': 21,\n",
      " 'scheduler/enqueued/memory': 21,\n",
      " 'start_time': datetime.datetime(2025, 4, 27, 15, 2, 34, 676371, tzinfo=datetime.timezone.utc)}\n",
      "2025-04-27 17:03:20 [scrapy.core.engine] INFO: Spider closed (finished)\n",
      "2025-04-27 17:03:20 [scrapy.core.engine] INFO: Closing spider (finished)\n",
      "2025-04-27 17:03:20 [scrapy.extensions.feedexport] INFO: Stored jsonlines feed (20 items) in: datas/hotels.jl\n",
      "2025-04-27 17:03:20 [scrapy.statscollectors] INFO: Dumping Scrapy stats:\n",
      "{'downloader/request_bytes': 29477,\n",
      " 'downloader/request_count': 21,\n",
      " 'downloader/request_method_count/GET': 21,\n",
      " 'downloader/response_bytes': 5962045,\n",
      " 'downloader/response_count': 21,\n",
      " 'downloader/response_status_count/200': 21,\n",
      " 'elapsed_time_seconds': 45.881509,\n",
      " 'feedexport/success_count/FileFeedStorage': 1,\n",
      " 'finish_reason': 'finished',\n",
      " 'finish_time': datetime.datetime(2025, 4, 27, 15, 3, 20, 319482, tzinfo=datetime.timezone.utc),\n",
      " 'httpcompression/response_bytes': 29584758,\n",
      " 'httpcompression/response_count': 21,\n",
      " 'item_scraped_count': 20,\n",
      " 'items_per_minute': None,\n",
      " 'log_count/ERROR': 1,\n",
      " 'log_count/INFO': 333,\n",
      " 'request_depth_max': 1,\n",
      " 'response_received_count': 21,\n",
      " 'responses_per_minute': None,\n",
      " 'scheduler/dequeued': 21,\n",
      " 'scheduler/dequeued/memory': 21,\n",
      " 'scheduler/enqueued': 21,\n",
      " 'scheduler/enqueued/memory': 21,\n",
      " 'start_time': datetime.datetime(2025, 4, 27, 15, 2, 34, 437973, tzinfo=datetime.timezone.utc)}\n",
      "2025-04-27 17:03:20 [scrapy.core.engine] INFO: Spider closed (finished)\n",
      "2025-04-27 17:03:20 [scrapy.core.engine] INFO: Closing spider (finished)\n",
      "2025-04-27 17:03:20 [scrapy.extensions.feedexport] INFO: Stored jsonlines feed (20 items) in: datas/hotels.jl\n",
      "2025-04-27 17:03:20 [scrapy.statscollectors] INFO: Dumping Scrapy stats:\n",
      "{'downloader/request_bytes': 29715,\n",
      " 'downloader/request_count': 21,\n",
      " 'downloader/request_method_count/GET': 21,\n",
      " 'downloader/response_bytes': 5973546,\n",
      " 'downloader/response_count': 21,\n",
      " 'downloader/response_status_count/200': 21,\n",
      " 'elapsed_time_seconds': 45.849738,\n",
      " 'feedexport/success_count/FileFeedStorage': 1,\n",
      " 'finish_reason': 'finished',\n",
      " 'finish_time': datetime.datetime(2025, 4, 27, 15, 3, 20, 336051, tzinfo=datetime.timezone.utc),\n",
      " 'httpcompression/response_bytes': 29938496,\n",
      " 'httpcompression/response_count': 21,\n",
      " 'item_scraped_count': 20,\n",
      " 'items_per_minute': None,\n",
      " 'log_count/ERROR': 1,\n",
      " 'log_count/INFO': 317,\n",
      " 'request_depth_max': 1,\n",
      " 'response_received_count': 21,\n",
      " 'responses_per_minute': None,\n",
      " 'scheduler/dequeued': 21,\n",
      " 'scheduler/dequeued/memory': 21,\n",
      " 'scheduler/enqueued': 21,\n",
      " 'scheduler/enqueued/memory': 21,\n",
      " 'start_time': datetime.datetime(2025, 4, 27, 15, 2, 34, 486313, tzinfo=datetime.timezone.utc)}\n",
      "2025-04-27 17:03:20 [scrapy.core.engine] INFO: Spider closed (finished)\n"
     ]
    },
    {
     "data": {
      "application/vnd.plotly.v1+json": {
       "config": {
        "plotlyServerURL": "https://plot.ly"
       },
       "data": [
        {
         "customdata": [
          [
           48.8534951,
           2.3483915,
           19,
           "ciel dégagé"
          ],
          [
           43.9492493,
           4.8059012,
           18,
           "ciel dégagé"
          ],
          [
           43.5298424,
           5.4474738,
           18,
           "ciel dégagé"
          ],
          [
           43.8374249,
           4.3600687,
           18,
           "ciel dégagé"
          ],
          [
           45.1875602,
           5.7357819,
           18,
           "légère pluie"
          ]
         ],
         "hovertemplate": "<b>%{hovertext}</b><br><br>Conditions=%{customdata[3]}<br>Température moyenne (°C)=%{marker.color}<extra></extra>",
         "hovertext": [
          "Paris",
          "Avignon",
          "Aix en Provence",
          "Nimes",
          "Grenoble"
         ],
         "lat": [
          48.8534951,
          43.9492493,
          43.5298424,
          43.8374249,
          45.1875602
         ],
         "legendgroup": "",
         "lon": [
          2.3483915,
          4.8059012,
          5.4474738,
          4.3600687,
          5.7357819
         ],
         "marker": {
          "color": [
           19,
           18,
           18,
           18,
           18
          ],
          "coloraxis": "coloraxis",
          "size": [
           19,
           18,
           18,
           18,
           18
          ],
          "sizemode": "area",
          "sizeref": 0.0475
         },
         "mode": "markers",
         "name": "",
         "showlegend": false,
         "subplot": "map",
         "type": "scattermap"
        }
       ],
       "layout": {
        "coloraxis": {
         "colorbar": {
          "title": {
           "text": "Température moyenne (°C)"
          }
         },
         "colorscale": [
          [
           0,
           "rgb(0,0,255)"
          ],
          [
           1,
           "rgb(255,0,0)"
          ]
         ]
        },
        "legend": {
         "itemsizing": "constant",
         "tracegroupgap": 0
        },
        "map": {
         "center": {
          "lat": 45.07151438,
          "lon": 4.53952342
         },
         "domain": {
          "x": [
           0,
           1
          ],
          "y": [
           0,
           1
          ]
         },
         "style": "open-street-map",
         "zoom": 4
        },
        "mapbox": {
         "center": {
          "lat": 45.07151438,
          "lon": 4.53952342
         },
         "style": "open-street-map",
         "zoom": 4
        },
        "template": {
         "data": {
          "bar": [
           {
            "error_x": {
             "color": "#2a3f5f"
            },
            "error_y": {
             "color": "#2a3f5f"
            },
            "marker": {
             "line": {
              "color": "#E5ECF6",
              "width": 0.5
             },
             "pattern": {
              "fillmode": "overlay",
              "size": 10,
              "solidity": 0.2
             }
            },
            "type": "bar"
           }
          ],
          "barpolar": [
           {
            "marker": {
             "line": {
              "color": "#E5ECF6",
              "width": 0.5
             },
             "pattern": {
              "fillmode": "overlay",
              "size": 10,
              "solidity": 0.2
             }
            },
            "type": "barpolar"
           }
          ],
          "carpet": [
           {
            "aaxis": {
             "endlinecolor": "#2a3f5f",
             "gridcolor": "white",
             "linecolor": "white",
             "minorgridcolor": "white",
             "startlinecolor": "#2a3f5f"
            },
            "baxis": {
             "endlinecolor": "#2a3f5f",
             "gridcolor": "white",
             "linecolor": "white",
             "minorgridcolor": "white",
             "startlinecolor": "#2a3f5f"
            },
            "type": "carpet"
           }
          ],
          "choropleth": [
           {
            "colorbar": {
             "outlinewidth": 0,
             "ticks": ""
            },
            "type": "choropleth"
           }
          ],
          "contour": [
           {
            "colorbar": {
             "outlinewidth": 0,
             "ticks": ""
            },
            "colorscale": [
             [
              0,
              "#0d0887"
             ],
             [
              0.1111111111111111,
              "#46039f"
             ],
             [
              0.2222222222222222,
              "#7201a8"
             ],
             [
              0.3333333333333333,
              "#9c179e"
             ],
             [
              0.4444444444444444,
              "#bd3786"
             ],
             [
              0.5555555555555556,
              "#d8576b"
             ],
             [
              0.6666666666666666,
              "#ed7953"
             ],
             [
              0.7777777777777778,
              "#fb9f3a"
             ],
             [
              0.8888888888888888,
              "#fdca26"
             ],
             [
              1,
              "#f0f921"
             ]
            ],
            "type": "contour"
           }
          ],
          "contourcarpet": [
           {
            "colorbar": {
             "outlinewidth": 0,
             "ticks": ""
            },
            "type": "contourcarpet"
           }
          ],
          "heatmap": [
           {
            "colorbar": {
             "outlinewidth": 0,
             "ticks": ""
            },
            "colorscale": [
             [
              0,
              "#0d0887"
             ],
             [
              0.1111111111111111,
              "#46039f"
             ],
             [
              0.2222222222222222,
              "#7201a8"
             ],
             [
              0.3333333333333333,
              "#9c179e"
             ],
             [
              0.4444444444444444,
              "#bd3786"
             ],
             [
              0.5555555555555556,
              "#d8576b"
             ],
             [
              0.6666666666666666,
              "#ed7953"
             ],
             [
              0.7777777777777778,
              "#fb9f3a"
             ],
             [
              0.8888888888888888,
              "#fdca26"
             ],
             [
              1,
              "#f0f921"
             ]
            ],
            "type": "heatmap"
           }
          ],
          "heatmapgl": [
           {
            "colorbar": {
             "outlinewidth": 0,
             "ticks": ""
            },
            "colorscale": [
             [
              0,
              "#0d0887"
             ],
             [
              0.1111111111111111,
              "#46039f"
             ],
             [
              0.2222222222222222,
              "#7201a8"
             ],
             [
              0.3333333333333333,
              "#9c179e"
             ],
             [
              0.4444444444444444,
              "#bd3786"
             ],
             [
              0.5555555555555556,
              "#d8576b"
             ],
             [
              0.6666666666666666,
              "#ed7953"
             ],
             [
              0.7777777777777778,
              "#fb9f3a"
             ],
             [
              0.8888888888888888,
              "#fdca26"
             ],
             [
              1,
              "#f0f921"
             ]
            ],
            "type": "heatmapgl"
           }
          ],
          "histogram": [
           {
            "marker": {
             "pattern": {
              "fillmode": "overlay",
              "size": 10,
              "solidity": 0.2
             }
            },
            "type": "histogram"
           }
          ],
          "histogram2d": [
           {
            "colorbar": {
             "outlinewidth": 0,
             "ticks": ""
            },
            "colorscale": [
             [
              0,
              "#0d0887"
             ],
             [
              0.1111111111111111,
              "#46039f"
             ],
             [
              0.2222222222222222,
              "#7201a8"
             ],
             [
              0.3333333333333333,
              "#9c179e"
             ],
             [
              0.4444444444444444,
              "#bd3786"
             ],
             [
              0.5555555555555556,
              "#d8576b"
             ],
             [
              0.6666666666666666,
              "#ed7953"
             ],
             [
              0.7777777777777778,
              "#fb9f3a"
             ],
             [
              0.8888888888888888,
              "#fdca26"
             ],
             [
              1,
              "#f0f921"
             ]
            ],
            "type": "histogram2d"
           }
          ],
          "histogram2dcontour": [
           {
            "colorbar": {
             "outlinewidth": 0,
             "ticks": ""
            },
            "colorscale": [
             [
              0,
              "#0d0887"
             ],
             [
              0.1111111111111111,
              "#46039f"
             ],
             [
              0.2222222222222222,
              "#7201a8"
             ],
             [
              0.3333333333333333,
              "#9c179e"
             ],
             [
              0.4444444444444444,
              "#bd3786"
             ],
             [
              0.5555555555555556,
              "#d8576b"
             ],
             [
              0.6666666666666666,
              "#ed7953"
             ],
             [
              0.7777777777777778,
              "#fb9f3a"
             ],
             [
              0.8888888888888888,
              "#fdca26"
             ],
             [
              1,
              "#f0f921"
             ]
            ],
            "type": "histogram2dcontour"
           }
          ],
          "mesh3d": [
           {
            "colorbar": {
             "outlinewidth": 0,
             "ticks": ""
            },
            "type": "mesh3d"
           }
          ],
          "parcoords": [
           {
            "line": {
             "colorbar": {
              "outlinewidth": 0,
              "ticks": ""
             }
            },
            "type": "parcoords"
           }
          ],
          "pie": [
           {
            "automargin": true,
            "type": "pie"
           }
          ],
          "scatter": [
           {
            "fillpattern": {
             "fillmode": "overlay",
             "size": 10,
             "solidity": 0.2
            },
            "type": "scatter"
           }
          ],
          "scatter3d": [
           {
            "line": {
             "colorbar": {
              "outlinewidth": 0,
              "ticks": ""
             }
            },
            "marker": {
             "colorbar": {
              "outlinewidth": 0,
              "ticks": ""
             }
            },
            "type": "scatter3d"
           }
          ],
          "scattercarpet": [
           {
            "marker": {
             "colorbar": {
              "outlinewidth": 0,
              "ticks": ""
             }
            },
            "type": "scattercarpet"
           }
          ],
          "scattergeo": [
           {
            "marker": {
             "colorbar": {
              "outlinewidth": 0,
              "ticks": ""
             }
            },
            "type": "scattergeo"
           }
          ],
          "scattergl": [
           {
            "marker": {
             "colorbar": {
              "outlinewidth": 0,
              "ticks": ""
             }
            },
            "type": "scattergl"
           }
          ],
          "scattermapbox": [
           {
            "marker": {
             "colorbar": {
              "outlinewidth": 0,
              "ticks": ""
             }
            },
            "type": "scattermapbox"
           }
          ],
          "scatterpolar": [
           {
            "marker": {
             "colorbar": {
              "outlinewidth": 0,
              "ticks": ""
             }
            },
            "type": "scatterpolar"
           }
          ],
          "scatterpolargl": [
           {
            "marker": {
             "colorbar": {
              "outlinewidth": 0,
              "ticks": ""
             }
            },
            "type": "scatterpolargl"
           }
          ],
          "scatterternary": [
           {
            "marker": {
             "colorbar": {
              "outlinewidth": 0,
              "ticks": ""
             }
            },
            "type": "scatterternary"
           }
          ],
          "surface": [
           {
            "colorbar": {
             "outlinewidth": 0,
             "ticks": ""
            },
            "colorscale": [
             [
              0,
              "#0d0887"
             ],
             [
              0.1111111111111111,
              "#46039f"
             ],
             [
              0.2222222222222222,
              "#7201a8"
             ],
             [
              0.3333333333333333,
              "#9c179e"
             ],
             [
              0.4444444444444444,
              "#bd3786"
             ],
             [
              0.5555555555555556,
              "#d8576b"
             ],
             [
              0.6666666666666666,
              "#ed7953"
             ],
             [
              0.7777777777777778,
              "#fb9f3a"
             ],
             [
              0.8888888888888888,
              "#fdca26"
             ],
             [
              1,
              "#f0f921"
             ]
            ],
            "type": "surface"
           }
          ],
          "table": [
           {
            "cells": {
             "fill": {
              "color": "#EBF0F8"
             },
             "line": {
              "color": "white"
             }
            },
            "header": {
             "fill": {
              "color": "#C8D4E3"
             },
             "line": {
              "color": "white"
             }
            },
            "type": "table"
           }
          ]
         },
         "layout": {
          "annotationdefaults": {
           "arrowcolor": "#2a3f5f",
           "arrowhead": 0,
           "arrowwidth": 1
          },
          "autotypenumbers": "strict",
          "coloraxis": {
           "colorbar": {
            "outlinewidth": 0,
            "ticks": ""
           }
          },
          "colorscale": {
           "diverging": [
            [
             0,
             "#8e0152"
            ],
            [
             0.1,
             "#c51b7d"
            ],
            [
             0.2,
             "#de77ae"
            ],
            [
             0.3,
             "#f1b6da"
            ],
            [
             0.4,
             "#fde0ef"
            ],
            [
             0.5,
             "#f7f7f7"
            ],
            [
             0.6,
             "#e6f5d0"
            ],
            [
             0.7,
             "#b8e186"
            ],
            [
             0.8,
             "#7fbc41"
            ],
            [
             0.9,
             "#4d9221"
            ],
            [
             1,
             "#276419"
            ]
           ],
           "sequential": [
            [
             0,
             "#0d0887"
            ],
            [
             0.1111111111111111,
             "#46039f"
            ],
            [
             0.2222222222222222,
             "#7201a8"
            ],
            [
             0.3333333333333333,
             "#9c179e"
            ],
            [
             0.4444444444444444,
             "#bd3786"
            ],
            [
             0.5555555555555556,
             "#d8576b"
            ],
            [
             0.6666666666666666,
             "#ed7953"
            ],
            [
             0.7777777777777778,
             "#fb9f3a"
            ],
            [
             0.8888888888888888,
             "#fdca26"
            ],
            [
             1,
             "#f0f921"
            ]
           ],
           "sequentialminus": [
            [
             0,
             "#0d0887"
            ],
            [
             0.1111111111111111,
             "#46039f"
            ],
            [
             0.2222222222222222,
             "#7201a8"
            ],
            [
             0.3333333333333333,
             "#9c179e"
            ],
            [
             0.4444444444444444,
             "#bd3786"
            ],
            [
             0.5555555555555556,
             "#d8576b"
            ],
            [
             0.6666666666666666,
             "#ed7953"
            ],
            [
             0.7777777777777778,
             "#fb9f3a"
            ],
            [
             0.8888888888888888,
             "#fdca26"
            ],
            [
             1,
             "#f0f921"
            ]
           ]
          },
          "colorway": [
           "#636efa",
           "#EF553B",
           "#00cc96",
           "#ab63fa",
           "#FFA15A",
           "#19d3f3",
           "#FF6692",
           "#B6E880",
           "#FF97FF",
           "#FECB52"
          ],
          "font": {
           "color": "#2a3f5f"
          },
          "geo": {
           "bgcolor": "white",
           "lakecolor": "white",
           "landcolor": "#E5ECF6",
           "showlakes": true,
           "showland": true,
           "subunitcolor": "white"
          },
          "hoverlabel": {
           "align": "left"
          },
          "hovermode": "closest",
          "mapbox": {
           "style": "light"
          },
          "paper_bgcolor": "white",
          "plot_bgcolor": "#E5ECF6",
          "polar": {
           "angularaxis": {
            "gridcolor": "white",
            "linecolor": "white",
            "ticks": ""
           },
           "bgcolor": "#E5ECF6",
           "radialaxis": {
            "gridcolor": "white",
            "linecolor": "white",
            "ticks": ""
           }
          },
          "scene": {
           "xaxis": {
            "backgroundcolor": "#E5ECF6",
            "gridcolor": "white",
            "gridwidth": 2,
            "linecolor": "white",
            "showbackground": true,
            "ticks": "",
            "zerolinecolor": "white"
           },
           "yaxis": {
            "backgroundcolor": "#E5ECF6",
            "gridcolor": "white",
            "gridwidth": 2,
            "linecolor": "white",
            "showbackground": true,
            "ticks": "",
            "zerolinecolor": "white"
           },
           "zaxis": {
            "backgroundcolor": "#E5ECF6",
            "gridcolor": "white",
            "gridwidth": 2,
            "linecolor": "white",
            "showbackground": true,
            "ticks": "",
            "zerolinecolor": "white"
           }
          },
          "shapedefaults": {
           "line": {
            "color": "#2a3f5f"
           }
          },
          "ternary": {
           "aaxis": {
            "gridcolor": "white",
            "linecolor": "white",
            "ticks": ""
           },
           "baxis": {
            "gridcolor": "white",
            "linecolor": "white",
            "ticks": ""
           },
           "bgcolor": "#E5ECF6",
           "caxis": {
            "gridcolor": "white",
            "linecolor": "white",
            "ticks": ""
           }
          },
          "title": {
           "x": 0.05
          },
          "xaxis": {
           "automargin": true,
           "gridcolor": "white",
           "linecolor": "white",
           "ticks": "",
           "title": {
            "standoff": 15
           },
           "zerolinecolor": "white",
           "zerolinewidth": 2
          },
          "yaxis": {
           "automargin": true,
           "gridcolor": "white",
           "linecolor": "white",
           "ticks": "",
           "title": {
            "standoff": 15
           },
           "zerolinecolor": "white",
           "zerolinewidth": 2
          }
         }
        },
        "title": {
         "text": "Top-5 destinations sur les 5 prochains jours"
        }
       }
      }
     },
     "metadata": {},
     "output_type": "display_data"
    },
    {
     "data": {
      "application/vnd.plotly.v1+json": {
       "config": {
        "plotlyServerURL": "https://plot.ly"
       },
       "data": [
        {
         "customdata": [
          [
           "Paris",
           48.8862242254587,
           2.3352813720703125,
           "9,6"
          ],
          [
           "Paris",
           48.85329562419074,
           2.345758080482483,
           "9,3"
          ],
          [
           "Paris",
           48.873954,
           2.3405447,
           "9,6"
          ],
          [
           "Paris",
           48.8482842,
           2.3657250999999637,
           "9,6"
          ],
          [
           "Paris",
           48.844209,
           2.280853,
           "9,2"
          ],
          [
           "Paris",
           48.8527928,
           2.3091826,
           "9,3"
          ],
          [
           "Paris",
           48.86820701,
           2.301493585,
           "9,5"
          ],
          [
           "Paris",
           48.8851169,
           2.3250712,
           "9,4"
          ],
          [
           "Paris",
           48.8657684,
           2.3508444,
           "9,4"
          ],
          [
           "Paris",
           48.871797694118165,
           2.3280876874923706,
           "9,3"
          ],
          [
           "Paris",
           48.83582,
           2.292364,
           "9,4"
          ],
          [
           "Paris",
           48.87151630143544,
           2.301112711593305,
           "9,5"
          ],
          [
           "Paris",
           48.8867476,
           2.2858468,
           "9,4"
          ],
          [
           "Paris",
           48.8613519,
           2.3486811,
           "9,4"
          ],
          [
           "Paris",
           48.84480905370051,
           2.3524400001329013,
           "9,4"
          ],
          [
           "Paris",
           48.8902248,
           2.3451377,
           "9,4"
          ],
          [
           "Paris",
           48.85540194602825,
           2.334118634462357,
           "9,5"
          ],
          [
           "Paris",
           48.86875540097767,
           2.300887402446733,
           "9,6"
          ],
          [
           "Paris",
           48.853485,
           2.336409,
           "9,5"
          ]
         ],
         "hovertemplate": "<b>%{hovertext}</b><br><br>Note utilisateurs=%{customdata[3]}<extra></extra>",
         "hovertext": [
          "<a href='https://www.booking.com/hotel/fr/hoteldesarts.fr.html?aid=304142&label=gen173nr-1FCAQoggJCDHNlYXJjaF9wYXJpc0gNWARoTYgBAZgBDbgBCsgBBdgBAegBAfgBA4gCAagCA7gCiY65wAbAAgHSAiRkN2I0NmQ3Ni01NWFhLTQ1N2ItODlmMC1hZjAyMjA2ZGRkODDYAgXgAgE&ucfs=1&arphpl=1&group_adults=2&req_adults=2&no_rooms=1&group_children=0&req_children=0&hpos=1&hapos=1&sr_order=bayesian_review_score&nflt=ht_id%3D204&srpvid=127e69c4777102ec&srepoch=1745766154&from=searchresults'>Hôtel des Arts Montmartre</a>",
          "<a href='https://www.booking.com/hotel/fr/les-rives-de-notre-dame.fr.html?aid=304142&label=gen173nr-1FCAQoggJCDHNlYXJjaF9wYXJpc0gNWARoTYgBAZgBDbgBCsgBBdgBAegBAfgBA4gCAagCA7gCiY65wAbAAgHSAiRkN2I0NmQ3Ni01NWFhLTQ1N2ItODlmMC1hZjAyMjA2ZGRkODDYAgXgAgE&ucfs=1&arphpl=1&group_adults=2&req_adults=2&no_rooms=1&group_children=0&req_children=0&hpos=19&hapos=19&sr_order=bayesian_review_score&nflt=ht_id%3D204&srpvid=127e69c4777102ec&srepoch=1745766154&from=searchresults'>Les Rives de Notre-Dame</a>",
          "<a href='https://www.booking.com/hotel/fr/madame-drouot-amp-spa-opera.fr.html?aid=304142&label=gen173nr-1FCAQoggJCDHNlYXJjaF9wYXJpc0gNWARoTYgBAZgBDbgBCsgBBdgBAegBAfgBA4gCAagCA7gCiY65wAbAAgHSAiRkN2I0NmQ3Ni01NWFhLTQ1N2ItODlmMC1hZjAyMjA2ZGRkODDYAgXgAgE&ucfs=1&arphpl=1&group_adults=2&req_adults=2&no_rooms=1&group_children=0&req_children=0&hpos=15&hapos=15&sr_order=bayesian_review_score&nflt=ht_id%3D204&srpvid=127e69c4777102ec&srepoch=1745766154&from=searchresults'>Madame Drouot & Spa - Opera</a>",
          "<a href='https://www.booking.com/hotel/fr/goralska-residences-paris-bastille-paris.fr.html?aid=304142&label=gen173nr-1FCAQoggJCDHNlYXJjaF9wYXJpc0gNWARoTYgBAZgBDbgBCsgBBdgBAegBAfgBA4gCAagCA7gCiY65wAbAAgHSAiRkN2I0NmQ3Ni01NWFhLTQ1N2ItODlmMC1hZjAyMjA2ZGRkODDYAgXgAgE&ucfs=1&arphpl=1&group_adults=2&req_adults=2&no_rooms=1&group_children=0&req_children=0&hpos=18&hapos=18&sr_order=bayesian_review_score&nflt=ht_id%3D204&srpvid=127e69c4777102ec&srepoch=1745766154&from=searchresults'>Goralska Résidences Paris Bastille</a>",
          "<a href='https://www.booking.com/hotel/fr/quinzerie.fr.html?aid=304142&label=gen173nr-1FCAQoggJCDHNlYXJjaF9wYXJpc0gNWARoTYgBAZgBDbgBCsgBBdgBAegBAfgBA4gCAagCA7gCiY65wAbAAgHSAiRkN2I0NmQ3Ni01NWFhLTQ1N2ItODlmMC1hZjAyMjA2ZGRkODDYAgXgAgE&ucfs=1&arphpl=1&group_adults=2&req_adults=2&no_rooms=1&group_children=0&req_children=0&hpos=16&hapos=16&sr_order=bayesian_review_score&nflt=ht_id%3D204&srpvid=127e69c4777102ec&srepoch=1745766154&from=searchresults'>Quinzerie hôtel</a>",
          "<a href='https://www.booking.com/hotel/fr/1-75-la-treve.fr.html?aid=304142&label=gen173nr-1FCAQoggJCDHNlYXJjaF9wYXJpc0gNWARoTYgBAZgBDbgBCsgBBdgBAegBAfgBA4gCAagCA7gCiY65wAbAAgHSAiRkN2I0NmQ3Ni01NWFhLTQ1N2ItODlmMC1hZjAyMjA2ZGRkODDYAgXgAgE&ucfs=1&arphpl=1&group_adults=2&req_adults=2&no_rooms=1&group_children=0&req_children=0&hpos=17&hapos=17&sr_order=bayesian_review_score&nflt=ht_id%3D204&srpvid=127e69c4777102ec&srepoch=1745766154&from=searchresults'>1.75 Paris La Trêve</a>",
          "<a href='https://www.booking.com/hotel/fr/bvlgari-paris.fr.html?aid=304142&label=gen173nr-1FCAQoggJCDHNlYXJjaF9wYXJpc0gNWARoTYgBAZgBDbgBCsgBBdgBAegBAfgBA4gCAagCA7gCiY65wAbAAgHSAiRkN2I0NmQ3Ni01NWFhLTQ1N2ItODlmMC1hZjAyMjA2ZGRkODDYAgXgAgE&ucfs=1&arphpl=1&group_adults=2&req_adults=2&no_rooms=1&group_children=0&req_children=0&hpos=14&hapos=14&sr_order=bayesian_review_score&nflt=ht_id%3D204&srpvid=127e69c4777102ec&srepoch=1745766154&from=searchresults'>Bvlgari Hotel Paris</a>",
          "<a href='https://www.booking.com/hotel/fr/eldorado-paris.fr.html?aid=304142&label=gen173nr-1FCAQoggJCDHNlYXJjaF9wYXJpc0gNWARoTYgBAZgBDbgBCsgBBdgBAegBAfgBA4gCAagCA7gCiY65wAbAAgHSAiRkN2I0NmQ3Ni01NWFhLTQ1N2ItODlmMC1hZjAyMjA2ZGRkODDYAgXgAgE&ucfs=1&arphpl=1&group_adults=2&req_adults=2&no_rooms=1&group_children=0&req_children=0&hpos=13&hapos=13&sr_order=bayesian_review_score&nflt=ht_id%3D204&srpvid=127e69c4777102ec&srepoch=1745766154&from=searchresults'>Hôtel Eldorado Paris</a>",
          "<a href='https://www.booking.com/hotel/fr/nestay-sentier.fr.html?aid=304142&label=gen173nr-1FCAQoggJCDHNlYXJjaF9wYXJpc0gNWARoTYgBAZgBDbgBCsgBBdgBAegBAfgBA4gCAagCA7gCiY65wAbAAgHSAiRkN2I0NmQ3Ni01NWFhLTQ1N2ItODlmMC1hZjAyMjA2ZGRkODDYAgXgAgE&ucfs=1&arphpl=1&group_adults=2&req_adults=2&no_rooms=1&group_children=0&req_children=0&hpos=12&hapos=12&sr_order=bayesian_review_score&nflt=ht_id%3D204&srpvid=127e69c4777102ec&srepoch=1745766154&from=searchresults'>Nestay Sentier</a>",
          "<a href='https://www.booking.com/hotel/fr/astraopera.fr.html?aid=304142&label=gen173nr-1FCAQoggJCDHNlYXJjaF9wYXJpc0gNWARoTYgBAZgBDbgBCsgBBdgBAegBAfgBA4gCAagCA7gCiY65wAbAAgHSAiRkN2I0NmQ3Ni01NWFhLTQ1N2ItODlmMC1hZjAyMjA2ZGRkODDYAgXgAgE&ucfs=1&arphpl=1&group_adults=2&req_adults=2&no_rooms=1&group_children=0&req_children=0&hpos=9&hapos=9&sr_order=bayesian_review_score&nflt=ht_id%3D204&srpvid=127e69c4777102ec&srepoch=1745766154&from=searchresults'>Hotel Astra Opera - Astotel</a>",
          "<a href='https://www.booking.com/hotel/fr/lutece-paris.fr.html?aid=304142&label=gen173nr-1FCAQoggJCDHNlYXJjaF9wYXJpc0gNWARoTYgBAZgBDbgBCsgBBdgBAegBAfgBA4gCAagCA7gCiY65wAbAAgHSAiRkN2I0NmQ3Ni01NWFhLTQ1N2ItODlmMC1hZjAyMjA2ZGRkODDYAgXgAgE&ucfs=1&arphpl=1&group_adults=2&req_adults=2&no_rooms=1&group_children=0&req_children=0&hpos=11&hapos=11&sr_order=bayesian_review_score&nflt=ht_id%3D204&srpvid=127e69c4777102ec&srepoch=1745766154&from=searchresults'>Hôtel Moderniste</a>",
          "<a href='https://www.booking.com/hotel/fr/fouquet-s-barriere-paris.fr.html?aid=304142&label=gen173nr-1FCAQoggJCDHNlYXJjaF9wYXJpc0gNWARoTYgBAZgBDbgBCsgBBdgBAegBAfgBA4gCAagCA7gCiY65wAbAAgHSAiRkN2I0NmQ3Ni01NWFhLTQ1N2ItODlmMC1hZjAyMjA2ZGRkODDYAgXgAgE&ucfs=1&arphpl=1&group_adults=2&req_adults=2&no_rooms=1&group_children=0&req_children=0&hpos=10&hapos=10&sr_order=bayesian_review_score&nflt=ht_id%3D204&srpvid=127e69c4777102ec&srepoch=1745766154&from=searchresults'>Hôtel Barrière Fouquet's Paris</a>",
          "<a href='https://www.booking.com/hotel/fr/yuna-porte-maillot-aparthotel.fr.html?aid=304142&label=gen173nr-1FCAQoggJCDHNlYXJjaF9wYXJpc0gNWARoTYgBAZgBDbgBCsgBBdgBAegBAfgBA4gCAagCA7gCiY65wAbAAgHSAiRkN2I0NmQ3Ni01NWFhLTQ1N2ItODlmMC1hZjAyMjA2ZGRkODDYAgXgAgE&ucfs=1&arphpl=1&group_adults=2&req_adults=2&no_rooms=1&group_children=0&req_children=0&hpos=7&hapos=7&sr_order=bayesian_review_score&nflt=ht_id%3D204&srpvid=127e69c4777102ec&srepoch=1745766154&from=searchresults'>Yuna Porte-Maillot - ApartHotel</a>",
          "<a href='https://www.booking.com/hotel/fr/nestay-les-halles.fr.html?aid=304142&label=gen173nr-1FCAQoggJCDHNlYXJjaF9wYXJpc0gNWARoTYgBAZgBDbgBCsgBBdgBAegBAfgBA4gCAagCA7gCiY65wAbAAgHSAiRkN2I0NmQ3Ni01NWFhLTQ1N2ItODlmMC1hZjAyMjA2ZGRkODDYAgXgAgE&ucfs=1&arphpl=1&group_adults=2&req_adults=2&no_rooms=1&group_children=0&req_children=0&hpos=8&hapos=8&sr_order=bayesian_review_score&nflt=ht_id%3D204&srpvid=127e69c4777102ec&srepoch=1745766154&from=searchresults'>Nestay Les Halles</a>",
          "<a href='https://www.booking.com/hotel/fr/monge-paris7.fr.html?aid=304142&label=gen173nr-1FCAQoggJCDHNlYXJjaF9wYXJpc0gNWARoTYgBAZgBDbgBCsgBBdgBAegBAfgBA4gCAagCA7gCiY65wAbAAgHSAiRkN2I0NmQ3Ni01NWFhLTQ1N2ItODlmMC1hZjAyMjA2ZGRkODDYAgXgAgE&ucfs=1&arphpl=1&group_adults=2&req_adults=2&no_rooms=1&group_children=0&req_children=0&hpos=6&hapos=6&sr_order=bayesian_review_score&nflt=ht_id%3D204&srpvid=127e69c4777102ec&srepoch=1745766154&from=searchresults'>Hotel Monge</a>",
          "<a href='https://www.booking.com/hotel/fr/yuna-montmartre-aparthotel.fr.html?aid=304142&label=gen173nr-1FCAQoggJCDHNlYXJjaF9wYXJpc0gNWARoTYgBAZgBDbgBCsgBBdgBAegBAfgBA4gCAagCA7gCiY65wAbAAgHSAiRkN2I0NmQ3Ni01NWFhLTQ1N2ItODlmMC1hZjAyMjA2ZGRkODDYAgXgAgE&ucfs=1&arphpl=1&group_adults=2&req_adults=2&no_rooms=1&group_children=0&req_children=0&hpos=5&hapos=5&sr_order=bayesian_review_score&nflt=ht_id%3D204&srpvid=127e69c4777102ec&srepoch=1745766154&from=searchresults'>Yuna Montmartre - ApartHotel</a>",
          "<a href='https://www.booking.com/hotel/fr/lavillasaintgermaindespres.fr.html?aid=304142&label=gen173nr-1FCAQoggJCDHNlYXJjaF9wYXJpc0gNWARoTYgBAZgBDbgBCsgBBdgBAegBAfgBA4gCAagCA7gCiY65wAbAAgHSAiRkN2I0NmQ3Ni01NWFhLTQ1N2ItODlmMC1hZjAyMjA2ZGRkODDYAgXgAgE&ucfs=1&arphpl=1&group_adults=2&req_adults=2&no_rooms=1&group_children=0&req_children=0&hpos=4&hapos=4&sr_order=bayesian_review_score&nflt=ht_id%3D204&srpvid=127e69c4777102ec&srepoch=1745766154&from=searchresults'>Hotel La Villa Saint Germain Des Prés</a>",
          "<a href='https://www.booking.com/hotel/fr/four-seasons-george-v-paris.fr.html?aid=304142&label=gen173nr-1FCAQoggJCDHNlYXJjaF9wYXJpc0gNWARoTYgBAZgBDbgBCsgBBdgBAegBAfgBA4gCAagCA7gCiY65wAbAAgHSAiRkN2I0NmQ3Ni01NWFhLTQ1N2ItODlmMC1hZjAyMjA2ZGRkODDYAgXgAgE&ucfs=1&arphpl=1&group_adults=2&req_adults=2&no_rooms=1&group_children=0&req_children=0&hpos=3&hapos=3&sr_order=bayesian_review_score&nflt=ht_id%3D204&srpvid=127e69c4777102ec&srepoch=1745766154&from=searchresults'>Four Seasons Hotel George V Paris</a>",
          "<a href='https://www.booking.com/hotel/fr/villa-des-pres.fr.html?aid=304142&label=gen173nr-1FCAQoggJCDHNlYXJjaF9wYXJpc0gNWARoTYgBAZgBDbgBCsgBBdgBAegBAfgBA4gCAagCA7gCiY65wAbAAgHSAiRkN2I0NmQ3Ni01NWFhLTQ1N2ItODlmMC1hZjAyMjA2ZGRkODDYAgXgAgE&ucfs=1&arphpl=1&group_adults=2&req_adults=2&no_rooms=1&group_children=0&req_children=0&hpos=2&hapos=2&sr_order=bayesian_review_score&nflt=ht_id%3D204&srpvid=127e69c4777102ec&srepoch=1745766154&from=searchresults'>Villa-des-Prés</a>"
         ],
         "lat": [
          48.8862242254587,
          48.85329562419074,
          48.873954,
          48.8482842,
          48.844209,
          48.8527928,
          48.86820701,
          48.8851169,
          48.8657684,
          48.871797694118165,
          48.83582,
          48.87151630143544,
          48.8867476,
          48.8613519,
          48.84480905370051,
          48.8902248,
          48.85540194602825,
          48.86875540097767,
          48.853485
         ],
         "legendgroup": "Paris",
         "lon": [
          2.3352813720703125,
          2.345758080482483,
          2.3405447,
          2.3657250999999637,
          2.280853,
          2.3091826,
          2.301493585,
          2.3250712,
          2.3508444,
          2.3280876874923706,
          2.292364,
          2.301112711593305,
          2.2858468,
          2.3486811,
          2.3524400001329013,
          2.3451377,
          2.334118634462357,
          2.300887402446733,
          2.336409
         ],
         "marker": {
          "color": "#636efa",
          "opacity": 0.7,
          "size": 20
         },
         "mode": "markers",
         "name": "Paris",
         "showlegend": true,
         "subplot": "map",
         "type": "scattermap"
        },
        {
         "customdata": [
          [
           "Grenoble",
           45.18928483181276,
           5.7186198234558105,
           "8,9"
          ],
          [
           "Grenoble",
           45.167883,
           5.71176,
           "8,7"
          ],
          [
           "Grenoble",
           45.18495018003908,
           5.72598980937039,
           "8,3"
          ],
          [
           "Grenoble",
           45.19035711261138,
           5.727330967783928,
           "8,2"
          ],
          [
           "Grenoble",
           45.19085898412344,
           5.715724378824234,
           "8,1"
          ],
          [
           "Grenoble",
           45.17927340236415,
           5.7343389093875885,
           "8,5"
          ],
          [
           "Grenoble",
           45.19079329686088,
           5.716696679592133,
           "8,4"
          ],
          [
           "Grenoble",
           45.17557,
           5.713582,
           "8,4"
          ],
          [
           "Grenoble",
           45.186911,
           5.731293,
           "8,5"
          ],
          [
           "Grenoble",
           45.19081503510005,
           5.728548020124435,
           "8,6"
          ],
          [
           "Grenoble",
           45.195810837764,
           5.725446775394,
           "8,6"
          ],
          [
           "Grenoble",
           45.1910782561633,
           5.715598315000534,
           "8,7"
          ],
          [
           "Grenoble",
           45.18410130511121,
           5.732948184013367,
           "8,8"
          ],
          [
           "Grenoble",
           45.186804,
           5.73157,
           "8,9"
          ],
          [
           "Grenoble",
           45.16819994402455,
           5.711994767189026,
           "7,9"
          ],
          [
           "Grenoble",
           45.18960902284928,
           5.712178498506546,
           "7,9"
          ],
          [
           "Grenoble",
           45.18920402005693,
           5.725372284650803,
           "7,9"
          ],
          [
           "Grenoble",
           45.191437879382526,
           5.718498453497887,
           "8,0"
          ],
          [
           "Grenoble",
           45.1906950021105,
           5.712595582008362,
           "8,0"
          ],
          [
           "Grenoble",
           45.19089537199886,
           5.719679966568947,
           "8,0"
          ]
         ],
         "hovertemplate": "<b>%{hovertext}</b><br><br>Note utilisateurs=%{customdata[3]}<extra></extra>",
         "hovertext": [
          "<a href='https://www.booking.com/hotel/fr/royal-grenoble.fr.html?aid=304142&label=gen173nr-1FCAQoggJCD3NlYXJjaF9ncmVub2JsZUgNWARoTYgBAZgBDbgBCsgBBdgBAegBAfgBA4gCAagCA7gCiY65wAbAAgHSAiRmZGQ5MWZmZS00ZTQ2LTQxNTUtOGFmYi04YzlmMTk0ZWMyNzbYAgXgAgE&ucfs=1&arphpl=1&group_adults=2&req_adults=2&no_rooms=1&group_children=0&req_children=0&hpos=1&hapos=1&sr_order=bayesian_review_score&nflt=ht_id%3D204&srpvid=42a369c49e990db5&srepoch=1745766154&from=searchresults'>1924 Hôtel</a>",
          "<a href='https://www.booking.com/hotel/fr/lesdiguieres.fr.html?aid=304142&label=gen173nr-1FCAQoggJCD3NlYXJjaF9ncmVub2JsZUgNWARoTYgBAZgBDbgBCsgBBdgBAegBAfgBA4gCAagCA7gCiY65wAbAAgHSAiRmZGQ5MWZmZS00ZTQ2LTQxNTUtOGFmYi04YzlmMTk0ZWMyNzbYAgXgAgE&ucfs=1&arphpl=1&group_adults=2&req_adults=2&no_rooms=1&group_children=0&req_children=0&hpos=7&hapos=7&sr_order=bayesian_review_score&nflt=ht_id%3D204&srpvid=42a369c49e990db5&srepoch=1745766154&from=searchresults'>Hôtel restaurant d'application Lesdiguieres - Ecole hôtelière -</a>",
          "<a href='https://www.booking.com/hotel/fr/okko-hotels-grenoble-jardin-hoche.fr.html?aid=304142&label=gen173nr-1FCAQoggJCD3NlYXJjaF9ncmVub2JsZUgNWARoTYgBAZgBDbgBCsgBBdgBAegBAfgBA4gCAagCA7gCiY65wAbAAgHSAiRmZGQ5MWZmZS00ZTQ2LTQxNTUtOGFmYi04YzlmMTk0ZWMyNzbYAgXgAgE&ucfs=1&arphpl=1&group_adults=2&req_adults=2&no_rooms=1&group_children=0&req_children=0&hpos=12&hapos=12&sr_order=bayesian_review_score&nflt=ht_id%3D204&srpvid=42a369c49e990db5&srepoch=1745766154&from_sustainable_property_sr=1&from=searchresults'>OKKO Hotels Grenoble Centre</a>",
          "<a href='https://www.booking.com/hotel/fr/de-l-europe-grenoble.fr.html?aid=304142&label=gen173nr-1FCAQoggJCD3NlYXJjaF9ncmVub2JsZUgNWARoTYgBAZgBDbgBCsgBBdgBAegBAfgBA4gCAagCA7gCiY65wAbAAgHSAiRmZGQ5MWZmZS00ZTQ2LTQxNTUtOGFmYi04YzlmMTk0ZWMyNzbYAgXgAgE&ucfs=1&arphpl=1&group_adults=2&req_adults=2&no_rooms=1&group_children=0&req_children=0&hpos=13&hapos=13&sr_order=bayesian_review_score&nflt=ht_id%3D204&srpvid=42a369c49e990db5&srepoch=1745766154&from=searchresults'>Hôtel de l'Europe Grenoble hyper-centre</a>",
          "<a href='https://www.booking.com/hotel/fr/residhotel-le-central-gare.fr.html?aid=304142&label=gen173nr-1FCAQoggJCD3NlYXJjaF9ncmVub2JsZUgNWARoTYgBAZgBDbgBCsgBBdgBAegBAfgBA4gCAagCA7gCiY65wAbAAgHSAiRmZGQ5MWZmZS00ZTQ2LTQxNTUtOGFmYi04YzlmMTk0ZWMyNzbYAgXgAgE&ucfs=1&arphpl=1&group_adults=2&req_adults=2&no_rooms=1&group_children=0&req_children=0&hpos=14&hapos=14&sr_order=bayesian_review_score&nflt=ht_id%3D204&srpvid=42a369c49e990db5&srepoch=1745766154&from=searchresults'>Residhotel Le Central'Gare</a>",
          "<a href='https://www.booking.com/hotel/fr/tempologis-grenoble.fr.html?aid=304142&label=gen173nr-1FCAQoggJCD3NlYXJjaF9ncmVub2JsZUgNWARoTYgBAZgBDbgBCsgBBdgBAegBAfgBA4gCAagCA7gCiY65wAbAAgHSAiRmZGQ5MWZmZS00ZTQ2LTQxNTUtOGFmYi04YzlmMTk0ZWMyNzbYAgXgAgE&ucfs=1&arphpl=1&group_adults=2&req_adults=2&no_rooms=1&group_children=0&req_children=0&hpos=11&hapos=11&sr_order=bayesian_review_score&nflt=ht_id%3D204&srpvid=42a369c49e990db5&srepoch=1745766154&from=searchresults'>Tempologis Grenoble</a>",
          "<a href='https://www.booking.com/hotel/fr/maison-barbillon-grenoble.fr.html?aid=304142&label=gen173nr-1FCAQoggJCD3NlYXJjaF9ncmVub2JsZUgNWARoTYgBAZgBDbgBCsgBBdgBAegBAfgBA4gCAagCA7gCiY65wAbAAgHSAiRmZGQ5MWZmZS00ZTQ2LTQxNTUtOGFmYi04YzlmMTk0ZWMyNzbYAgXgAgE&ucfs=1&arphpl=1&group_adults=2&req_adults=2&no_rooms=1&group_children=0&req_children=0&hpos=10&hapos=10&sr_order=bayesian_review_score&nflt=ht_id%3D204&srpvid=42a369c49e990db5&srepoch=1745766154&from=searchresults'>Maison Barbillon Grenoble - Centre Gare</a>",
          "<a href='https://www.booking.com/hotel/fr/la-petite-maison-grenoble1.fr.html?aid=304142&label=gen173nr-1FCAQoggJCD3NlYXJjaF9ncmVub2JsZUgNWARoTYgBAZgBDbgBCsgBBdgBAegBAfgBA4gCAagCA7gCiY65wAbAAgHSAiRmZGQ5MWZmZS00ZTQ2LTQxNTUtOGFmYi04YzlmMTk0ZWMyNzbYAgXgAgE&ucfs=1&arphpl=1&group_adults=2&req_adults=2&no_rooms=1&group_children=0&req_children=0&hpos=9&hapos=9&sr_order=bayesian_review_score&nflt=ht_id%3D204&srpvid=42a369c49e990db5&srepoch=1745766154&from=searchresults'>La petite Maison</a>",
          "<a href='https://www.booking.com/hotel/fr/rockypop-grenoble.fr.html?aid=304142&label=gen173nr-1FCAQoggJCD3NlYXJjaF9ncmVub2JsZUgNWARoTYgBAZgBDbgBCsgBBdgBAegBAfgBA4gCAagCA7gCiY65wAbAAgHSAiRmZGQ5MWZmZS00ZTQ2LTQxNTUtOGFmYi04YzlmMTk0ZWMyNzbYAgXgAgE&ucfs=1&arphpl=1&group_adults=2&req_adults=2&no_rooms=1&group_children=0&req_children=0&hpos=8&hapos=8&sr_order=bayesian_review_score&nflt=ht_id%3D204&srpvid=42a369c49e990db5&srepoch=1745766154&from=searchresults'>RockyPop Grenoble Hotel</a>",
          "<a href='https://www.booking.com/hotel/fr/le-grand-grenoble-centre.fr.html?aid=304142&label=gen173nr-1FCAQoggJCD3NlYXJjaF9ncmVub2JsZUgNWARoTYgBAZgBDbgBCsgBBdgBAegBAfgBA4gCAagCA7gCiY65wAbAAgHSAiRmZGQ5MWZmZS00ZTQ2LTQxNTUtOGFmYi04YzlmMTk0ZWMyNzbYAgXgAgE&ucfs=1&arphpl=1&group_adults=2&req_adults=2&no_rooms=1&group_children=0&req_children=0&hpos=6&hapos=6&sr_order=bayesian_review_score&nflt=ht_id%3D204&srpvid=42a369c49e990db5&srepoch=1745766154&from=searchresults'>Le Grand Hôtel Grenoble, BW Premier Collection by Best Western</a>",
          "<a href='https://www.booking.com/hotel/fr/apt-paisible-en-centre-ville-parking-salle-de-sport-bar-en-rooftop.fr.html?aid=304142&label=gen173nr-1FCAQoggJCD3NlYXJjaF9ncmVub2JsZUgNWARoTYgBAZgBDbgBCsgBBdgBAegBAfgBA4gCAagCA7gCiY65wAbAAgHSAiRmZGQ5MWZmZS00ZTQ2LTQxNTUtOGFmYi04YzlmMTk0ZWMyNzbYAgXgAgE&ucfs=1&arphpl=1&group_adults=2&req_adults=2&no_rooms=1&group_children=0&req_children=0&hpos=5&hapos=5&sr_order=bayesian_review_score&nflt=ht_id%3D204&srpvid=42a369c49e990db5&srepoch=1745766154&from=searchresults'>The Babel Community Hôtel - Grenoble Bastille</a>",
          "<a href='https://www.booking.com/hotel/fr/hotelterminus.fr.html?aid=304142&label=gen173nr-1FCAQoggJCD3NlYXJjaF9ncmVub2JsZUgNWARoTYgBAZgBDbgBCsgBBdgBAegBAfgBA4gCAagCA7gCiY65wAbAAgHSAiRmZGQ5MWZmZS00ZTQ2LTQxNTUtOGFmYi04YzlmMTk0ZWMyNzbYAgXgAgE&ucfs=1&arphpl=1&group_adults=2&req_adults=2&no_rooms=1&group_children=0&req_children=0&hpos=4&hapos=4&sr_order=bayesian_review_score&nflt=ht_id%3D204&srpvid=42a369c49e990db5&srepoch=1745766154&from=searchresults'>Hôtel Terminus</a>",
          "<a href='https://www.booking.com/hotel/fr/park-grenoble.fr.html?aid=304142&label=gen173nr-1FCAQoggJCD3NlYXJjaF9ncmVub2JsZUgNWARoTYgBAZgBDbgBCsgBBdgBAegBAfgBA4gCAagCA7gCiY65wAbAAgHSAiRmZGQ5MWZmZS00ZTQ2LTQxNTUtOGFmYi04YzlmMTk0ZWMyNzbYAgXgAgE&ucfs=1&arphpl=1&group_adults=2&req_adults=2&no_rooms=1&group_children=0&req_children=0&hpos=3&hapos=3&sr_order=bayesian_review_score&nflt=ht_id%3D204&srpvid=42a369c49e990db5&srepoch=1745766154&from=searchresults'>Park Hôtel Grenoble - MGallery</a>",
          "<a href='https://www.booking.com/hotel/fr/rockypop-grenoble-appartements.fr.html?aid=304142&label=gen173nr-1FCAQoggJCD3NlYXJjaF9ncmVub2JsZUgNWARoTYgBAZgBDbgBCsgBBdgBAegBAfgBA4gCAagCA7gCiY65wAbAAgHSAiRmZGQ5MWZmZS00ZTQ2LTQxNTUtOGFmYi04YzlmMTk0ZWMyNzbYAgXgAgE&ucfs=1&arphpl=1&group_adults=2&req_adults=2&no_rooms=1&group_children=0&req_children=0&hpos=2&hapos=2&sr_order=bayesian_review_score&nflt=ht_id%3D204&srpvid=42a369c49e990db5&srepoch=1745766154&from=searchresults'>RockyPop Grenoble Appartements</a>",
          "<a href='https://www.booking.com/hotel/fr/qualityhotelgrenoble.fr.html?aid=304142&label=gen173nr-1FCAQoggJCD3NlYXJjaF9ncmVub2JsZUgNWARoTYgBAZgBDbgBCsgBBdgBAegBAfgBA4gCAagCA7gCiY65wAbAAgHSAiRmZGQ5MWZmZS00ZTQ2LTQxNTUtOGFmYi04YzlmMTk0ZWMyNzbYAgXgAgE&ucfs=1&arphpl=1&group_adults=2&req_adults=2&no_rooms=1&group_children=0&req_children=0&hpos=20&hapos=20&sr_order=bayesian_review_score&nflt=ht_id%3D204&srpvid=42a369c49e990db5&srepoch=1745766154&from=searchresults'>Kyriad Grenoble Centre</a>",
          "<a href='https://www.booking.com/hotel/fr/hipark.fr.html?aid=304142&label=gen173nr-1FCAQoggJCD3NlYXJjaF9ncmVub2JsZUgNWARoTYgBAZgBDbgBCsgBBdgBAegBAfgBA4gCAagCA7gCiY65wAbAAgHSAiRmZGQ5MWZmZS00ZTQ2LTQxNTUtOGFmYi04YzlmMTk0ZWMyNzbYAgXgAgE&ucfs=1&arphpl=1&group_adults=2&req_adults=2&no_rooms=1&group_children=0&req_children=0&hpos=19&hapos=19&sr_order=bayesian_review_score&nflt=ht_id%3D204&srpvid=42a369c49e990db5&srepoch=1745766154&from=searchresults'>Adagio Grenoble Centre</a>",
          "<a href='https://www.booking.com/hotel/fr/tiangleterre.fr.html?aid=304142&label=gen173nr-1FCAQoggJCD3NlYXJjaF9ncmVub2JsZUgNWARoTYgBAZgBDbgBCsgBBdgBAegBAfgBA4gCAagCA7gCiY65wAbAAgHSAiRmZGQ5MWZmZS00ZTQ2LTQxNTUtOGFmYi04YzlmMTk0ZWMyNzbYAgXgAgE&ucfs=1&arphpl=1&group_adults=2&req_adults=2&no_rooms=1&group_children=0&req_children=0&hpos=18&hapos=18&sr_order=bayesian_review_score&nflt=ht_id%3D204&srpvid=42a369c49e990db5&srepoch=1745766154&from=searchresults'>Hôtel d’Angleterre Grenoble Hyper-Centre</a>",
          "<a href='https://www.booking.com/hotel/fr/gallia-grenoble.fr.html?aid=304142&label=gen173nr-1FCAQoggJCD3NlYXJjaF9ncmVub2JsZUgNWARoTYgBAZgBDbgBCsgBBdgBAegBAfgBA4gCAagCA7gCiY65wAbAAgHSAiRmZGQ5MWZmZS00ZTQ2LTQxNTUtOGFmYi04YzlmMTk0ZWMyNzbYAgXgAgE&ucfs=1&arphpl=1&group_adults=2&req_adults=2&no_rooms=1&group_children=0&req_children=0&hpos=17&hapos=17&sr_order=bayesian_review_score&nflt=ht_id%3D204&srpvid=42a369c49e990db5&srepoch=1745766154&from=searchresults'>Hôtel Gloria</a>",
          "<a href='https://www.booking.com/hotel/fr/grenoble-centre.fr.html?aid=304142&label=gen173nr-1FCAQoggJCD3NlYXJjaF9ncmVub2JsZUgNWARoTYgBAZgBDbgBCsgBBdgBAegBAfgBA4gCAagCA7gCiY65wAbAAgHSAiRmZGQ5MWZmZS00ZTQ2LTQxNTUtOGFmYi04YzlmMTk0ZWMyNzbYAgXgAgE&ucfs=1&arphpl=1&group_adults=2&req_adults=2&no_rooms=1&group_children=0&req_children=0&hpos=16&hapos=16&sr_order=bayesian_review_score&nflt=ht_id%3D204&srpvid=42a369c49e990db5&srepoch=1745766154&from=searchresults'>Novotel Grenoble Centre</a>",
          "<a href='https://www.booking.com/hotel/fr/all-seasons-grenoble-centre-gare-grenoble.fr.html?aid=304142&label=gen173nr-1FCAQoggJCD3NlYXJjaF9ncmVub2JsZUgNWARoTYgBAZgBDbgBCsgBBdgBAegBAfgBA4gCAagCA7gCiY65wAbAAgHSAiRmZGQ5MWZmZS00ZTQ2LTQxNTUtOGFmYi04YzlmMTk0ZWMyNzbYAgXgAgE&ucfs=1&arphpl=1&group_adults=2&req_adults=2&no_rooms=1&group_children=0&req_children=0&hpos=15&hapos=15&sr_order=bayesian_review_score&nflt=ht_id%3D204&srpvid=42a369c49e990db5&srepoch=1745766154&from_sustainable_property_sr=1&from=searchresults'>ibis Styles Grenoble Centre Gare</a>"
         ],
         "lat": [
          45.18928483181276,
          45.167883,
          45.18495018003908,
          45.19035711261138,
          45.19085898412344,
          45.17927340236415,
          45.19079329686088,
          45.17557,
          45.186911,
          45.19081503510005,
          45.195810837764,
          45.1910782561633,
          45.18410130511121,
          45.186804,
          45.16819994402455,
          45.18960902284928,
          45.18920402005693,
          45.191437879382526,
          45.1906950021105,
          45.19089537199886
         ],
         "legendgroup": "Grenoble",
         "lon": [
          5.7186198234558105,
          5.71176,
          5.72598980937039,
          5.727330967783928,
          5.715724378824234,
          5.7343389093875885,
          5.716696679592133,
          5.713582,
          5.731293,
          5.728548020124435,
          5.725446775394,
          5.715598315000534,
          5.732948184013367,
          5.73157,
          5.711994767189026,
          5.712178498506546,
          5.725372284650803,
          5.718498453497887,
          5.712595582008362,
          5.719679966568947
         ],
         "marker": {
          "color": "#EF553B",
          "opacity": 0.7,
          "size": 20
         },
         "mode": "markers",
         "name": "Grenoble",
         "showlegend": true,
         "subplot": "map",
         "type": "scattermap"
        },
        {
         "customdata": [
          [
           "Aix en Provence",
           43.5303448,
           5.4518796,
           "8,8"
          ],
          [
           "Aix en Provence",
           43.52551655199661,
           5.450152158737183,
           "9,2"
          ],
          [
           "Aix en Provence",
           43.53126359885809,
           5.445070043206215,
           "8,7"
          ],
          [
           "Aix en Provence",
           43.5320856,
           5.4515111,
           "8,8"
          ],
          [
           "Aix en Provence",
           43.5255987,
           5.45172079999998,
           "8,6"
          ],
          [
           "Aix en Provence",
           43.4964012,
           5.394397400000003,
           "8,6"
          ],
          [
           "Aix en Provence",
           43.52356201318332,
           5.445937067270279,
           "8,7"
          ],
          [
           "Aix en Provence",
           43.5247755,
           5.45022449999999,
           "8,9"
          ],
          [
           "Aix en Provence",
           43.52116980487331,
           5.496597290039063,
           "9,0"
          ],
          [
           "Aix en Provence",
           43.536101030690894,
           5.448788137561678,
           "9,1"
          ],
          [
           "Aix en Provence",
           43.56879,
           5.47851,
           "9,1"
          ],
          [
           "Aix en Provence",
           43.5435822569446,
           5.373438234640503,
           "9,2"
          ],
          [
           "Aix en Provence",
           43.5433646,
           5.3736497,
           "9,4"
          ],
          [
           "Aix en Provence",
           43.523068,
           5.457699,
           "9,2"
          ],
          [
           "Aix en Provence",
           43.543436200731,
           5.3736957,
           "9,3"
          ],
          [
           "Aix en Provence",
           43.52332474147478,
           5.449725687503815,
           "8,4"
          ],
          [
           "Aix en Provence",
           43.5262404754953,
           5.438204929232597,
           "8,4"
          ],
          [
           "Aix en Provence",
           43.52890621393209,
           5.440869033336639,
           "8,4"
          ],
          [
           "Aix en Provence",
           43.53336324193778,
           5.446056425571442,
           "8,5"
          ],
          [
           "Aix en Provence",
           43.53004967137571,
           5.444146692752838,
           "8,5"
          ]
         ],
         "hovertemplate": "<b>%{hovertext}</b><br><br>Note utilisateurs=%{customdata[3]}<extra></extra>",
         "hovertext": [
          "<a href='https://www.booking.com/hotel/fr/finsonius-studios-aix-en-provence.fr.html?aid=304142&label=gen173nr-1FCAQoggJCFnNlYXJjaF9haXggZW4gcHJvdmVuY2VIDVgEaE2IAQGYAQ24AQrIAQXYAQHoAQH4AQOIAgGoAgO4AomOucAGwAIB0gIkOWY1NzhkZmUtYjUyYS00YTdjLWEyZDktMTdiMDU3N2YzNDcz2AIF4AIB&ucfs=1&arphpl=1&group_adults=2&req_adults=2&no_rooms=1&group_children=0&req_children=0&hpos=15&hapos=15&sr_order=bayesian_review_score&nflt=ht_id%3D204&srpvid=8a2969c487a40fee&srepoch=1745766154&from=searchresults'>Finsonius Studios</a>",
          "<a href='https://www.booking.com/hotel/fr/maison-dauphine.fr.html?aid=304142&label=gen173nr-1FCAQoggJCFnNlYXJjaF9haXggZW4gcHJvdmVuY2VIDVgEaE2IAQGYAQ24AQrIAQXYAQHoAQH4AQOIAgGoAgO4AomOucAGwAIB0gIkOWY1NzhkZmUtYjUyYS00YTdjLWEyZDktMTdiMDU3N2YzNDcz2AIF4AIB&ucfs=1&arphpl=1&group_adults=2&req_adults=2&no_rooms=1&group_children=0&req_children=0&hpos=8&hapos=8&sr_order=bayesian_review_score&nflt=ht_id%3D204&srpvid=8a2969c487a40fee&srepoch=1745766154&from=searchresults'>Maison Dauphine</a>",
          "<a href='https://www.booking.com/hotel/fr/hotel-aquabella.fr.html?aid=304142&label=gen173nr-1FCAQoggJCFnNlYXJjaF9haXggZW4gcHJvdmVuY2VIDVgEaE2IAQGYAQ24AQrIAQXYAQHoAQH4AQOIAgGoAgO4AomOucAGwAIB0gIkOWY1NzhkZmUtYjUyYS00YTdjLWEyZDktMTdiMDU3N2YzNDcz2AIF4AIB&ucfs=1&arphpl=1&group_adults=2&req_adults=2&no_rooms=1&group_children=0&req_children=0&hpos=11&hapos=11&sr_order=bayesian_review_score&nflt=ht_id%3D204&srpvid=8a2969c487a40fee&srepoch=1745766154&from=searchresults'>Aquabella Hôtel & Spa</a>",
          "<a href='https://www.booking.com/hotel/fr/bellegarde-aix-en-provence.fr.html?aid=304142&label=gen173nr-1FCAQoggJCFnNlYXJjaF9haXggZW4gcHJvdmVuY2VIDVgEaE2IAQGYAQ24AQrIAQXYAQHoAQH4AQOIAgGoAgO4AomOucAGwAIB0gIkOWY1NzhkZmUtYjUyYS00YTdjLWEyZDktMTdiMDU3N2YzNDcz2AIF4AIB&ucfs=1&arphpl=1&group_adults=2&req_adults=2&no_rooms=1&group_children=0&req_children=0&hpos=9&hapos=9&sr_order=bayesian_review_score&nflt=ht_id%3D204&srpvid=8a2969c487a40fee&srepoch=1745766154&from=searchresults'>Hôtel Bellegarde by Viktor</a>",
          "<a href='https://www.booking.com/hotel/fr/cardinal.fr.html?aid=304142&label=gen173nr-1FCAQoggJCFnNlYXJjaF9haXggZW4gcHJvdmVuY2VIDVgEaE2IAQGYAQ24AQrIAQXYAQHoAQH4AQOIAgGoAgO4AomOucAGwAIB0gIkOWY1NzhkZmUtYjUyYS00YTdjLWEyZDktMTdiMDU3N2YzNDcz2AIF4AIB&ucfs=1&arphpl=1&group_adults=2&req_adults=2&no_rooms=1&group_children=0&req_children=0&hpos=14&hapos=14&sr_order=bayesian_review_score&nflt=ht_id%3D204&srpvid=8a2969c487a40fee&srepoch=1745766154&from=searchresults'>Hotel Cardinal</a>",
          "<a href='https://www.booking.com/hotel/fr/domaine-and-cie.fr.html?aid=304142&label=gen173nr-1FCAQoggJCFnNlYXJjaF9haXggZW4gcHJvdmVuY2VIDVgEaE2IAQGYAQ24AQrIAQXYAQHoAQH4AQOIAgGoAgO4AomOucAGwAIB0gIkOWY1NzhkZmUtYjUyYS00YTdjLWEyZDktMTdiMDU3N2YzNDcz2AIF4AIB&ucfs=1&arphpl=1&group_adults=2&req_adults=2&no_rooms=1&group_children=0&req_children=0&hpos=13&hapos=13&sr_order=bayesian_review_score&nflt=ht_id%3D204&srpvid=8a2969c487a40fee&srepoch=1745766154&from=searchresults'>Domaine Gaogaia</a>",
          "<a href='https://www.booking.com/hotel/fr/cezanne-aix-en-provence.fr.html?aid=304142&label=gen173nr-1FCAQoggJCFnNlYXJjaF9haXggZW4gcHJvdmVuY2VIDVgEaE2IAQGYAQ24AQrIAQXYAQHoAQH4AQOIAgGoAgO4AomOucAGwAIB0gIkOWY1NzhkZmUtYjUyYS00YTdjLWEyZDktMTdiMDU3N2YzNDcz2AIF4AIB&ucfs=1&arphpl=1&group_adults=2&req_adults=2&no_rooms=1&group_children=0&req_children=0&hpos=10&hapos=10&sr_order=bayesian_review_score&nflt=ht_id%3D204&srpvid=8a2969c487a40fee&srepoch=1745766154&from=searchresults'>Hôtel Cézanne Boutique-Hôtel</a>",
          "<a href='https://www.booking.com/hotel/fr/particulier-28-a-aix-aix-en-provence1.fr.html?aid=304142&label=gen173nr-1FCAQoggJCFnNlYXJjaF9haXggZW4gcHJvdmVuY2VIDVgEaE2IAQGYAQ24AQrIAQXYAQHoAQH4AQOIAgGoAgO4AomOucAGwAIB0gIkOWY1NzhkZmUtYjUyYS00YTdjLWEyZDktMTdiMDU3N2YzNDcz2AIF4AIB&ucfs=1&arphpl=1&group_adults=2&req_adults=2&no_rooms=1&group_children=0&req_children=0&hpos=12&hapos=12&sr_order=bayesian_review_score&nflt=ht_id%3D204&srpvid=8a2969c487a40fee&srepoch=1745766154&from=searchresults'>Hôtel Particulier le 28</a>",
          "<a href='https://www.booking.com/hotel/fr/les-lodges-sainte-victoire.fr.html?aid=304142&label=gen173nr-1FCAQoggJCFnNlYXJjaF9haXggZW4gcHJvdmVuY2VIDVgEaE2IAQGYAQ24AQrIAQXYAQHoAQH4AQOIAgGoAgO4AomOucAGwAIB0gIkOWY1NzhkZmUtYjUyYS00YTdjLWEyZDktMTdiMDU3N2YzNDcz2AIF4AIB&ucfs=1&arphpl=1&group_adults=2&req_adults=2&no_rooms=1&group_children=0&req_children=0&hpos=7&hapos=7&sr_order=bayesian_review_score&nflt=ht_id%3D204&srpvid=8a2969c487a40fee&srepoch=1745766154&from=searchresults'>Les Lodges Sainte-Victoire Hotel & Spa</a>",
          "<a href='https://www.booking.com/hotel/fr/villagallici.fr.html?aid=304142&label=gen173nr-1FCAQoggJCFnNlYXJjaF9haXggZW4gcHJvdmVuY2VIDVgEaE2IAQGYAQ24AQrIAQXYAQHoAQH4AQOIAgGoAgO4AomOucAGwAIB0gIkOWY1NzhkZmUtYjUyYS00YTdjLWEyZDktMTdiMDU3N2YzNDcz2AIF4AIB&ucfs=1&arphpl=1&group_adults=2&req_adults=2&no_rooms=1&group_children=0&req_children=0&hpos=6&hapos=6&sr_order=bayesian_review_score&nflt=ht_id%3D204&srpvid=8a2969c487a40fee&srepoch=1745766154&from=searchresults'>Villa Gallici Hôtel & Spa</a>",
          "<a href='https://www.booking.com/hotel/fr/chateau-de-la-gaude.fr.html?aid=304142&label=gen173nr-1FCAQoggJCFnNlYXJjaF9haXggZW4gcHJvdmVuY2VIDVgEaE2IAQGYAQ24AQrIAQXYAQHoAQH4AQOIAgGoAgO4AomOucAGwAIB0gIkOWY1NzhkZmUtYjUyYS00YTdjLWEyZDktMTdiMDU3N2YzNDcz2AIF4AIB&ucfs=1&arphpl=1&group_adults=2&req_adults=2&no_rooms=1&group_children=0&req_children=0&hpos=5&hapos=5&sr_order=bayesian_review_score&nflt=ht_id%3D204&srpvid=8a2969c487a40fee&srepoch=1745766154&from=searchresults'>Château de la Gaude</a>",
          "<a href='https://www.booking.com/hotel/fr/nuitee-en-provence.fr.html?aid=304142&label=gen173nr-1FCAQoggJCFnNlYXJjaF9haXggZW4gcHJvdmVuY2VIDVgEaE2IAQGYAQ24AQrIAQXYAQHoAQH4AQOIAgGoAgO4AomOucAGwAIB0gIkOWY1NzhkZmUtYjUyYS00YTdjLWEyZDktMTdiMDU3N2YzNDcz2AIF4AIB&ucfs=1&arphpl=1&group_adults=2&req_adults=2&no_rooms=1&group_children=0&req_children=0&hpos=4&hapos=4&sr_order=bayesian_review_score&nflt=ht_id%3D204&srpvid=8a2969c487a40fee&srepoch=1745766154&from=searchresults'>Studios Nuitée en Provence</a>",
          "<a href='https://www.booking.com/hotel/fr/residence-adonis.fr.html?aid=304142&label=gen173nr-1FCAQoggJCFnNlYXJjaF9haXggZW4gcHJvdmVuY2VIDVgEaE2IAQGYAQ24AQrIAQXYAQHoAQH4AQOIAgGoAgO4AomOucAGwAIB0gIkOWY1NzhkZmUtYjUyYS00YTdjLWEyZDktMTdiMDU3N2YzNDcz2AIF4AIB&ucfs=1&arphpl=1&group_adults=2&req_adults=2&no_rooms=1&group_children=0&req_children=0&hpos=3&hapos=3&sr_order=bayesian_review_score&nflt=ht_id%3D204&srpvid=8a2969c487a40fee&srepoch=1745766154&from=searchresults'>Studio Nuitée en Provence 2</a>",
          "<a href='https://www.booking.com/hotel/fr/villa-saint-ange.fr.html?aid=304142&label=gen173nr-1FCAQoggJCFnNlYXJjaF9haXggZW4gcHJvdmVuY2VIDVgEaE2IAQGYAQ24AQrIAQXYAQHoAQH4AQOIAgGoAgO4AomOucAGwAIB0gIkOWY1NzhkZmUtYjUyYS00YTdjLWEyZDktMTdiMDU3N2YzNDcz2AIF4AIB&ucfs=1&arphpl=1&group_adults=2&req_adults=2&no_rooms=1&group_children=0&req_children=0&hpos=2&hapos=2&sr_order=bayesian_review_score&nflt=ht_id%3D204&srpvid=8a2969c487a40fee&srepoch=1745766154&from=searchresults'>Villa Saint-Ange</a>",
          "<a href='https://www.booking.com/hotel/fr/sweet-home-studio-aix-en-provence-terrasse-piscine-resto.fr.html?aid=304142&label=gen173nr-1FCAQoggJCFnNlYXJjaF9haXggZW4gcHJvdmVuY2VIDVgEaE2IAQGYAQ24AQrIAQXYAQHoAQH4AQOIAgGoAgO4AomOucAGwAIB0gIkOWY1NzhkZmUtYjUyYS00YTdjLWEyZDktMTdiMDU3N2YzNDcz2AIF4AIB&ucfs=1&arphpl=1&group_adults=2&req_adults=2&no_rooms=1&group_children=0&req_children=0&hpos=1&hapos=1&sr_order=bayesian_review_score&nflt=ht_id%3D204&srpvid=8a2969c487a40fee&srepoch=1745766154&from=searchresults'>Sweet Home studio Aix en Provence, terrasse, piscine, resto,</a>",
          "<a href='https://www.booking.com/hotel/fr/grand-mercure-roi-rene.fr.html?aid=304142&label=gen173nr-1FCAQoggJCFnNlYXJjaF9haXggZW4gcHJvdmVuY2VIDVgEaE2IAQGYAQ24AQrIAQXYAQHoAQH4AQOIAgGoAgO4AomOucAGwAIB0gIkOWY1NzhkZmUtYjUyYS00YTdjLWEyZDktMTdiMDU3N2YzNDcz2AIF4AIB&ucfs=1&arphpl=1&group_adults=2&req_adults=2&no_rooms=1&group_children=0&req_children=0&hpos=20&hapos=20&sr_order=bayesian_review_score&nflt=ht_id%3D204&srpvid=8a2969c487a40fee&srepoch=1745766154&from_sustainable_property_sr=1&from=searchresults'>Grand Hôtel Roi René Aix en Provence Centre - MGallery</a>",
          "<a href='https://www.booking.com/hotel/fr/renaissance-aix-en-provence.fr.html?aid=304142&label=gen173nr-1FCAQoggJCFnNlYXJjaF9haXggZW4gcHJvdmVuY2VIDVgEaE2IAQGYAQ24AQrIAQXYAQHoAQH4AQOIAgGoAgO4AomOucAGwAIB0gIkOWY1NzhkZmUtYjUyYS00YTdjLWEyZDktMTdiMDU3N2YzNDcz2AIF4AIB&ucfs=1&arphpl=1&group_adults=2&req_adults=2&no_rooms=1&group_children=0&req_children=0&hpos=19&hapos=19&sr_order=bayesian_review_score&nflt=ht_id%3D204&srpvid=8a2969c487a40fee&srepoch=1745766154&from=searchresults'>Renaissance Aix-en-Provence Hotel</a>",
          "<a href='https://www.booking.com/hotel/fr/pierre-vacances-city-centre.fr.html?aid=304142&label=gen173nr-1FCAQoggJCFnNlYXJjaF9haXggZW4gcHJvdmVuY2VIDVgEaE2IAQGYAQ24AQrIAQXYAQHoAQH4AQOIAgGoAgO4AomOucAGwAIB0gIkOWY1NzhkZmUtYjUyYS00YTdjLWEyZDktMTdiMDU3N2YzNDcz2AIF4AIB&ucfs=1&arphpl=1&group_adults=2&req_adults=2&no_rooms=1&group_children=0&req_children=0&hpos=18&hapos=18&sr_order=bayesian_review_score&nflt=ht_id%3D204&srpvid=8a2969c487a40fee&srepoch=1745766154&from_sustainable_property_sr=1&from=searchresults'>Aparthotel Adagio Aix-en-Provence Centre</a>",
          "<a href='https://www.booking.com/hotel/fr/paul.fr.html?aid=304142&label=gen173nr-1FCAQoggJCFnNlYXJjaF9haXggZW4gcHJvdmVuY2VIDVgEaE2IAQGYAQ24AQrIAQXYAQHoAQH4AQOIAgGoAgO4AomOucAGwAIB0gIkOWY1NzhkZmUtYjUyYS00YTdjLWEyZDktMTdiMDU3N2YzNDcz2AIF4AIB&ucfs=1&arphpl=1&group_adults=2&req_adults=2&no_rooms=1&group_children=0&req_children=0&hpos=17&hapos=17&sr_order=bayesian_review_score&nflt=ht_id%3D204&srpvid=8a2969c487a40fee&srepoch=1745766154&from=searchresults'>Hôtel Paul</a>",
          "<a href='https://www.booking.com/hotel/fr/hotel-escaletto.fr.html?aid=304142&label=gen173nr-1FCAQoggJCFnNlYXJjaF9haXggZW4gcHJvdmVuY2VIDVgEaE2IAQGYAQ24AQrIAQXYAQHoAQH4AQOIAgGoAgO4AomOucAGwAIB0gIkOWY1NzhkZmUtYjUyYS00YTdjLWEyZDktMTdiMDU3N2YzNDcz2AIF4AIB&ucfs=1&arphpl=1&group_adults=2&req_adults=2&no_rooms=1&group_children=0&req_children=0&hpos=16&hapos=16&sr_order=bayesian_review_score&nflt=ht_id%3D204&srpvid=8a2969c487a40fee&srepoch=1745766154&from_sustainable_property_sr=1&from=searchresults'>Hôtel Escaletto</a>"
         ],
         "lat": [
          43.5303448,
          43.52551655199661,
          43.53126359885809,
          43.5320856,
          43.5255987,
          43.4964012,
          43.52356201318332,
          43.5247755,
          43.52116980487331,
          43.536101030690894,
          43.56879,
          43.5435822569446,
          43.5433646,
          43.523068,
          43.543436200731,
          43.52332474147478,
          43.5262404754953,
          43.52890621393209,
          43.53336324193778,
          43.53004967137571
         ],
         "legendgroup": "Aix en Provence",
         "lon": [
          5.4518796,
          5.450152158737183,
          5.445070043206215,
          5.4515111,
          5.45172079999998,
          5.394397400000003,
          5.445937067270279,
          5.45022449999999,
          5.496597290039063,
          5.448788137561678,
          5.47851,
          5.373438234640503,
          5.3736497,
          5.457699,
          5.3736957,
          5.449725687503815,
          5.438204929232597,
          5.440869033336639,
          5.446056425571442,
          5.444146692752838
         ],
         "marker": {
          "color": "#00cc96",
          "opacity": 0.7,
          "size": 20
         },
         "mode": "markers",
         "name": "Aix en Provence",
         "showlegend": true,
         "subplot": "map",
         "type": "scattermap"
        },
        {
         "customdata": [
          [
           "Avignon",
           43.943130415176,
           4.799091700562,
           "9,3"
          ],
          [
           "Avignon",
           43.975483683625534,
           4.827437102794647,
           "8,7"
          ],
          [
           "Avignon",
           43.947113,
           4.80333,
           "8,8"
          ],
          [
           "Avignon",
           43.92929,
           4.784118000000035,
           "8,6"
          ],
          [
           "Avignon",
           43.94411137230711,
           4.805795570569671,
           "8,7"
          ],
          [
           "Avignon",
           43.95007659797408,
           4.807706773281097,
           "8,5"
          ],
          [
           "Avignon",
           43.95035466743478,
           4.803230166435242,
           "8,8"
          ],
          [
           "Avignon",
           43.9613237,
           4.8271867,
           "9,8"
          ],
          [
           "Avignon",
           43.94761833011378,
           4.806803539395332,
           "8,9"
          ],
          [
           "Avignon",
           43.9613237,
           4.8271867,
           "9,3"
          ],
          [
           "Avignon",
           43.94403212781474,
           4.80533167719841,
           "8,3"
          ],
          [
           "Avignon",
           43.922757658189205,
           4.804295003414154,
           "8,3"
          ],
          [
           "Avignon",
           43.9427848,
           4.8239056,
           "8,1"
          ],
          [
           "Avignon",
           43.926434777028,
           4.785715099388,
           "8,2"
          ],
          [
           "Avignon",
           43.943629463158565,
           4.812171310186386,
           "8,4"
          ],
          [
           "Avignon",
           43.94896720373931,
           4.805472493171692,
           "8,5"
          ],
          [
           "Avignon",
           43.953827,
           4.8099,
           "8,5"
          ],
          [
           "Avignon",
           43.9496377669598,
           4.806358963251114,
           "8,5"
          ],
          [
           "Avignon",
           43.932979142652,
           4.831906704755,
           "8,6"
          ],
          [
           "Avignon",
           43.926463069619,
           4.785711458483,
           "9,2"
          ]
         ],
         "hovertemplate": "<b>%{hovertext}</b><br><br>Note utilisateurs=%{customdata[3]}<extra></extra>",
         "hovertext": [
          "<a href='https://www.booking.com/hotel/fr/oh-activ-avignon.fr.html?aid=304142&label=gen173nr-1FCAQoggJCDnNlYXJjaF9hdmlnbm9uSA1YBGhNiAEBmAENuAEKyAEF2AEB6AEB-AEDiAIBqAIDuAKJjrnABsACAdICJGY1NzM5M2RhLTRiMGItNDc0Yy1hMzU5LTJmN2VhMDFiOTdmYdgCBeACAQ&ucfs=1&arphpl=1&group_adults=2&req_adults=2&no_rooms=1&group_children=0&req_children=0&hpos=1&hapos=1&sr_order=bayesian_review_score&nflt=ht_id%3D204&srpvid=4deb69c4b614004b&srepoch=1745766154&from=searchresults'>Résidence Services Oh Activ Avignon</a>",
          "<a href='https://www.booking.com/hotel/fr/logis-de-france-la-ferme.fr.html?aid=304142&label=gen173nr-1FCAQoggJCDnNlYXJjaF9hdmlnbm9uSA1YBGhNiAEBmAENuAEKyAEF2AEB6AEB-AEDiAIBqAIDuAKJjrnABsACAdICJGY1NzM5M2RhLTRiMGItNDc0Yy1hMzU5LTJmN2VhMDFiOTdmYdgCBeACAQ&ucfs=1&arphpl=1&group_adults=2&req_adults=2&no_rooms=1&group_children=0&req_children=0&hpos=7&hapos=7&sr_order=bayesian_review_score&nflt=ht_id%3D204&srpvid=4deb69c4b614004b&srepoch=1745766154&from=searchresults'>Logis Hotel la Ferme</a>",
          "<a href='https://www.booking.com/hotel/fr/de-cambis-bw-premier-collection.fr.html?aid=304142&label=gen173nr-1FCAQoggJCDnNlYXJjaF9hdmlnbm9uSA1YBGhNiAEBmAENuAEKyAEF2AEB6AEB-AEDiAIBqAIDuAKJjrnABsACAdICJGY1NzM5M2RhLTRiMGItNDc0Yy1hMzU5LTJmN2VhMDFiOTdmYdgCBeACAQ&ucfs=1&arphpl=1&group_adults=2&req_adults=2&no_rooms=1&group_children=0&req_children=0&hpos=5&hapos=5&sr_order=bayesian_review_score&nflt=ht_id%3D204&srpvid=4deb69c4b614004b&srepoch=1745766154&from=searchresults'>Hotel De Cambis Best Western Premier Collection</a>",
          "<a href='https://www.booking.com/hotel/fr/expresshiavignon.fr.html?aid=304142&label=gen173nr-1FCAQoggJCDnNlYXJjaF9hdmlnbm9uSA1YBGhNiAEBmAENuAEKyAEF2AEB6AEB-AEDiAIBqAIDuAKJjrnABsACAdICJGY1NzM5M2RhLTRiMGItNDc0Yy1hMzU5LTJmN2VhMDFiOTdmYdgCBeACAQ&ucfs=1&arphpl=1&group_adults=2&req_adults=2&no_rooms=1&group_children=0&req_children=0&hpos=9&hapos=9&sr_order=bayesian_review_score&nflt=ht_id%3D204&srpvid=4deb69c4b614004b&srepoch=1745766154&from_sustainable_property_sr=1&from=searchresults'>Mercure Avignon Gare TGV</a>",
          "<a href='https://www.booking.com/hotel/fr/le-colbert-avignon.fr.html?aid=304142&label=gen173nr-1FCAQoggJCDnNlYXJjaF9hdmlnbm9uSA1YBGhNiAEBmAENuAEKyAEF2AEB6AEB-AEDiAIBqAIDuAKJjrnABsACAdICJGY1NzM5M2RhLTRiMGItNDc0Yy1hMzU5LTJmN2VhMDFiOTdmYdgCBeACAQ&ucfs=1&arphpl=1&group_adults=2&req_adults=2&no_rooms=1&group_children=0&req_children=0&hpos=8&hapos=8&sr_order=bayesian_review_score&nflt=ht_id%3D204&srpvid=4deb69c4b614004b&srepoch=1745766154&from=searchresults'>Hôtel Le Colbert</a>",
          "<a href='https://www.booking.com/hotel/fr/la-mirande.fr.html?aid=304142&label=gen173nr-1FCAQoggJCDnNlYXJjaF9hdmlnbm9uSA1YBGhNiAEBmAENuAEKyAEF2AEB6AEB-AEDiAIBqAIDuAKJjrnABsACAdICJGY1NzM5M2RhLTRiMGItNDc0Yy1hMzU5LTJmN2VhMDFiOTdmYdgCBeACAQ&ucfs=1&arphpl=1&group_adults=2&req_adults=2&no_rooms=1&group_children=0&req_children=0&hpos=10&hapos=10&sr_order=bayesian_review_score&nflt=ht_id%3D204&srpvid=4deb69c4b614004b&srepoch=1745766154&from=searchresults'>La Mirande</a>",
          "<a href='https://www.booking.com/hotel/fr/d-europe.fr.html?aid=304142&label=gen173nr-1FCAQoggJCDnNlYXJjaF9hdmlnbm9uSA1YBGhNiAEBmAENuAEKyAEF2AEB6AEB-AEDiAIBqAIDuAKJjrnABsACAdICJGY1NzM5M2RhLTRiMGItNDc0Yy1hMzU5LTJmN2VhMDFiOTdmYdgCBeACAQ&ucfs=1&arphpl=1&group_adults=2&req_adults=2&no_rooms=1&group_children=0&req_children=0&hpos=6&hapos=6&sr_order=bayesian_review_score&nflt=ht_id%3D204&srpvid=4deb69c4b614004b&srepoch=1745766154&from=searchresults'>Hotel d'Europe</a>",
          "<a href='https://www.booking.com/hotel/fr/gite-le-rosier-avignon.fr.html?aid=304142&label=gen173nr-1FCAQoggJCDnNlYXJjaF9hdmlnbm9uSA1YBGhNiAEBmAENuAEKyAEF2AEB6AEB-AEDiAIBqAIDuAKJjrnABsACAdICJGY1NzM5M2RhLTRiMGItNDc0Yy1hMzU5LTJmN2VhMDFiOTdmYdgCBeACAQ&ucfs=1&arphpl=1&group_adults=2&req_adults=2&no_rooms=1&group_children=0&req_children=0&hpos=3&hapos=3&sr_order=bayesian_review_score&nflt=ht_id%3D204&srpvid=4deb69c4b614004b&srepoch=1745766154&from=searchresults'>Gîte Les cyprès de l'ile</a>",
          "<a href='https://www.booking.com/hotel/fr/de-garlande.fr.html?aid=304142&label=gen173nr-1FCAQoggJCDnNlYXJjaF9hdmlnbm9uSA1YBGhNiAEBmAENuAEKyAEF2AEB6AEB-AEDiAIBqAIDuAKJjrnABsACAdICJGY1NzM5M2RhLTRiMGItNDc0Yy1hMzU5LTJmN2VhMDFiOTdmYdgCBeACAQ&ucfs=1&arphpl=1&group_adults=2&req_adults=2&no_rooms=1&group_children=0&req_children=0&hpos=4&hapos=4&sr_order=bayesian_review_score&nflt=ht_id%3D204&srpvid=4deb69c4b614004b&srepoch=1745766154&from=searchresults'>Garlande Hôtel Avignon Centre</a>",
          "<a href='https://www.booking.com/hotel/fr/appartement-les-cypres-de-l-ile.fr.html?aid=304142&label=gen173nr-1FCAQoggJCDnNlYXJjaF9hdmlnbm9uSA1YBGhNiAEBmAENuAEKyAEF2AEB6AEB-AEDiAIBqAIDuAKJjrnABsACAdICJGY1NzM5M2RhLTRiMGItNDc0Yy1hMzU5LTJmN2VhMDFiOTdmYdgCBeACAQ&ucfs=1&arphpl=1&group_adults=2&req_adults=2&no_rooms=1&group_children=0&req_children=0&hpos=2&hapos=2&sr_order=bayesian_review_score&nflt=ht_id%3D204&srpvid=4deb69c4b614004b&srepoch=1745766154&from=searchresults'>Appartement Les Cyprès de l’Île</a>",
          "<a href='https://www.booking.com/hotel/fr/hotel-bristol-avignon.fr.html?aid=304142&label=gen173nr-1FCAQoggJCDnNlYXJjaF9hdmlnbm9uSA1YBGhNiAEBmAENuAEKyAEF2AEB6AEB-AEDiAIBqAIDuAKJjrnABsACAdICJGY1NzM5M2RhLTRiMGItNDc0Yy1hMzU5LTJmN2VhMDFiOTdmYdgCBeACAQ&ucfs=1&arphpl=1&group_adults=2&req_adults=2&no_rooms=1&group_children=0&req_children=0&hpos=20&hapos=20&sr_order=bayesian_review_score&nflt=ht_id%3D204&srpvid=4deb69c4b614004b&srepoch=1745766154&from_sustainable_property_sr=1&from=searchresults'>Hôtel Le Bristol</a>",
          "<a href='https://www.booking.com/hotel/fr/hotellelavarin.fr.html?aid=304142&label=gen173nr-1FCAQoggJCDnNlYXJjaF9hdmlnbm9uSA1YBGhNiAEBmAENuAEKyAEF2AEB6AEB-AEDiAIBqAIDuAKJjrnABsACAdICJGY1NzM5M2RhLTRiMGItNDc0Yy1hMzU5LTJmN2VhMDFiOTdmYdgCBeACAQ&ucfs=1&arphpl=1&group_adults=2&req_adults=2&no_rooms=1&group_children=0&req_children=0&hpos=19&hapos=19&sr_order=bayesian_review_score&nflt=ht_id%3D204&srpvid=4deb69c4b614004b&srepoch=1745766154&from_sustainable_property_sr=1&from=searchresults'>Best Western Plus Le Lavarin</a>",
          "<a href='https://www.booking.com/hotel/fr/residence-service-seniors-montana.fr.html?aid=304142&label=gen173nr-1FCAQoggJCDnNlYXJjaF9hdmlnbm9uSA1YBGhNiAEBmAENuAEKyAEF2AEB6AEB-AEDiAIBqAIDuAKJjrnABsACAdICJGY1NzM5M2RhLTRiMGItNDc0Yy1hMzU5LTJmN2VhMDFiOTdmYdgCBeACAQ&ucfs=1&arphpl=1&group_adults=2&req_adults=2&no_rooms=1&group_children=0&req_children=0&hpos=18&hapos=18&sr_order=bayesian_review_score&nflt=ht_id%3D204&srpvid=4deb69c4b614004b&srepoch=1745766154&from=searchresults'>Résidence Service Seniors MONTANA</a>",
          "<a href='https://www.booking.com/hotel/fr/appart-avignon-gare-tgv-kaelis-202.fr.html?aid=304142&label=gen173nr-1FCAQoggJCDnNlYXJjaF9hdmlnbm9uSA1YBGhNiAEBmAENuAEKyAEF2AEB6AEB-AEDiAIBqAIDuAKJjrnABsACAdICJGY1NzM5M2RhLTRiMGItNDc0Yy1hMzU5LTJmN2VhMDFiOTdmYdgCBeACAQ&ucfs=1&arphpl=1&group_adults=2&req_adults=2&no_rooms=1&group_children=0&req_children=0&hpos=17&hapos=17&sr_order=bayesian_review_score&nflt=ht_id%3D204&srpvid=4deb69c4b614004b&srepoch=1745766154&from=searchresults'>Appart'Hotel - Gare TGV - Courtine - Confluence - 202</a>",
          "<a href='https://www.booking.com/hotel/fr/hotellemagnan.fr.html?aid=304142&label=gen173nr-1FCAQoggJCDnNlYXJjaF9hdmlnbm9uSA1YBGhNiAEBmAENuAEKyAEF2AEB6AEB-AEDiAIBqAIDuAKJjrnABsACAdICJGY1NzM5M2RhLTRiMGItNDc0Yy1hMzU5LTJmN2VhMDFiOTdmYdgCBeACAQ&ucfs=1&arphpl=1&group_adults=2&req_adults=2&no_rooms=1&group_children=0&req_children=0&hpos=16&hapos=16&sr_order=bayesian_review_score&nflt=ht_id%3D204&srpvid=4deb69c4b614004b&srepoch=1745766154&from=searchresults'>Hotel Le Magnan</a>",
          "<a href='https://www.booking.com/hotel/fr/de-l-horloge.fr.html?aid=304142&label=gen173nr-1FCAQoggJCDnNlYXJjaF9hdmlnbm9uSA1YBGhNiAEBmAENuAEKyAEF2AEB6AEB-AEDiAIBqAIDuAKJjrnABsACAdICJGY1NzM5M2RhLTRiMGItNDc0Yy1hMzU5LTJmN2VhMDFiOTdmYdgCBeACAQ&ucfs=1&arphpl=1&group_adults=2&req_adults=2&no_rooms=1&group_children=0&req_children=0&hpos=15&hapos=15&sr_order=bayesian_review_score&nflt=ht_id%3D204&srpvid=4deb69c4b614004b&srepoch=1745766154&from=searchresults'>Hôtel de l'Horloge</a>",
          "<a href='https://www.booking.com/hotel/fr/le-chardonnay-avignon.fr.html?aid=304142&label=gen173nr-1FCAQoggJCDnNlYXJjaF9hdmlnbm9uSA1YBGhNiAEBmAENuAEKyAEF2AEB6AEB-AEDiAIBqAIDuAKJjrnABsACAdICJGY1NzM5M2RhLTRiMGItNDc0Yy1hMzU5LTJmN2VhMDFiOTdmYdgCBeACAQ&ucfs=1&arphpl=1&group_adults=2&req_adults=2&no_rooms=1&group_children=0&req_children=0&hpos=14&hapos=14&sr_order=bayesian_review_score&nflt=ht_id%3D204&srpvid=4deb69c4b614004b&srepoch=1745766154&from=searchresults'>Bateau Hotel à quai Le Chardonnay</a>",
          "<a href='https://www.booking.com/hotel/fr/kyriad-avignon-palais-des-papes-xml.fr.html?aid=304142&label=gen173nr-1FCAQoggJCDnNlYXJjaF9hdmlnbm9uSA1YBGhNiAEBmAENuAEKyAEF2AEB6AEB-AEDiAIBqAIDuAKJjrnABsACAdICJGY1NzM5M2RhLTRiMGItNDc0Yy1hMzU5LTJmN2VhMDFiOTdmYdgCBeACAQ&ucfs=1&arphpl=1&group_adults=2&req_adults=2&no_rooms=1&group_children=0&req_children=0&hpos=13&hapos=13&sr_order=bayesian_review_score&nflt=ht_id%3D204&srpvid=4deb69c4b614004b&srepoch=1745766154&from=searchresults'>Kyriad Avignon - Palais des Papes</a>",
          "<a href='https://www.booking.com/hotel/fr/cowool-avignon.fr.html?aid=304142&label=gen173nr-1FCAQoggJCDnNlYXJjaF9hdmlnbm9uSA1YBGhNiAEBmAENuAEKyAEF2AEB6AEB-AEDiAIBqAIDuAKJjrnABsACAdICJGY1NzM5M2RhLTRiMGItNDc0Yy1hMzU5LTJmN2VhMDFiOTdmYdgCBeACAQ&ucfs=1&arphpl=1&group_adults=2&req_adults=2&no_rooms=1&group_children=0&req_children=0&hpos=12&hapos=12&sr_order=bayesian_review_score&nflt=ht_id%3D204&srpvid=4deb69c4b614004b&srepoch=1745766154&from=searchresults'>COWOOL AVIGNON</a>",
          "<a href='https://www.booking.com/hotel/fr/appart-avignon-tgv-la-kaelis-407.fr.html?aid=304142&label=gen173nr-1FCAQoggJCDnNlYXJjaF9hdmlnbm9uSA1YBGhNiAEBmAENuAEKyAEF2AEB6AEB-AEDiAIBqAIDuAKJjrnABsACAdICJGY1NzM5M2RhLTRiMGItNDc0Yy1hMzU5LTJmN2VhMDFiOTdmYdgCBeACAQ&ucfs=1&arphpl=1&group_adults=2&req_adults=2&no_rooms=1&group_children=0&req_children=0&hpos=11&hapos=11&sr_order=bayesian_review_score&nflt=ht_id%3D204&srpvid=4deb69c4b614004b&srepoch=1745766154&from=searchresults'>Appart'Hotel - Gare TGV - Courtine - Confluence - 407</a>"
         ],
         "lat": [
          43.943130415176,
          43.975483683625534,
          43.947113,
          43.92929,
          43.94411137230711,
          43.95007659797408,
          43.95035466743478,
          43.9613237,
          43.94761833011378,
          43.9613237,
          43.94403212781474,
          43.922757658189205,
          43.9427848,
          43.926434777028,
          43.943629463158565,
          43.94896720373931,
          43.953827,
          43.9496377669598,
          43.932979142652,
          43.926463069619
         ],
         "legendgroup": "Avignon",
         "lon": [
          4.799091700562,
          4.827437102794647,
          4.80333,
          4.784118000000035,
          4.805795570569671,
          4.807706773281097,
          4.803230166435242,
          4.8271867,
          4.806803539395332,
          4.8271867,
          4.80533167719841,
          4.804295003414154,
          4.8239056,
          4.785715099388,
          4.812171310186386,
          4.805472493171692,
          4.8099,
          4.806358963251114,
          4.831906704755,
          4.785711458483
         ],
         "marker": {
          "color": "#ab63fa",
          "opacity": 0.7,
          "size": 20
         },
         "mode": "markers",
         "name": "Avignon",
         "showlegend": true,
         "subplot": "map",
         "type": "scattermap"
        },
        {
         "customdata": [
          [
           "Nimes",
           43.83866612768399,
           4.352767914533615,
           "9,1"
          ],
          [
           "Nimes",
           43.83433186355036,
           4.367129892088997,
           "8,2"
          ],
          [
           "Nimes",
           43.820576747716174,
           4.319126978516579,
           "8,4"
          ],
          [
           "Nimes",
           43.83581534027453,
           4.359140172600746,
           "8,3"
          ],
          [
           "Nimes",
           43.83881509620307,
           4.3548184633255005,
           "8,3"
          ],
          [
           "Nimes",
           43.8343632920283,
           4.365336745977402,
           "8,5"
          ],
          [
           "Nimes",
           43.83959475654075,
           4.3610841035842896,
           "8,3"
          ],
          [
           "Nimes",
           43.83642381634261,
           4.364745318889618,
           "8,4"
          ],
          [
           "Nimes",
           43.834061872209,
           4.358990652779,
           "8,6"
          ],
          [
           "Nimes",
           43.838773872288,
           4.363837569914,
           "8,8"
          ],
          [
           "Nimes",
           43.837032,
           4.363037,
           "8,6"
          ],
          [
           "Nimes",
           43.82080551337371,
           4.371253199999956,
           "9,0"
          ],
          [
           "Nimes",
           43.83470575029483,
           4.36731219291687,
           "9,1"
          ],
          [
           "Nimes",
           43.837117,
           4.357898,
           "9,2"
          ],
          [
           "Nimes",
           43.8338735348897,
           4.361433959524561,
           "8,9"
          ],
          [
           "Nimes",
           43.78858215364223,
           4.35380257666111,
           "8,2"
          ],
          [
           "Nimes",
           43.832055902146784,
           4.3673644959926605,
           "8,1"
          ],
          [
           "Nimes",
           43.83175754591007,
           4.36697356402874,
           "8,2"
          ],
          [
           "Nimes",
           43.8281614,
           4.354790200000025,
           "8,4"
          ]
         ],
         "hovertemplate": "<b>%{hovertext}</b><br><br>Note utilisateurs=%{customdata[3]}<extra></extra>",
         "hovertext": [
          "<a href='https://www.booking.com/hotel/fr/imperator-nimes.fr.html?aid=304142&label=gen173nr-1FCAQoggJCDHNlYXJjaF9uaW1lc0gNWARoTYgBAZgBDbgBCsgBBdgBAegBAfgBA4gCAagCA7gCiY65wAbAAgHSAiQ1YTIxMDFlMy0xZjlmLTQzYzYtYTU4ZC02MTEwMWVlYjE3NTjYAgXgAgE&ucfs=1&arphpl=1&group_adults=2&req_adults=2&no_rooms=1&group_children=0&req_children=0&hpos=1&hapos=1&sr_order=bayesian_review_score&nflt=ht_id%3D204&srpvid=dd9869c4161f03f2&srepoch=1745766154&from=searchresults'>Maison Albar Hotels L’Imperator</a>",
          "<a href='https://www.booking.com/hotel/fr/la-maison-de-sophie-na-r-mes.fr.html?aid=304142&label=gen173nr-1FCAQoggJCDHNlYXJjaF9uaW1lc0gNWARoTYgBAZgBDbgBCsgBBdgBAegBAfgBA4gCAagCA7gCiY65wAbAAgHSAiQ1YTIxMDFlMy0xZjlmLTQzYzYtYTU4ZC02MTEwMWVlYjE3NTjYAgXgAgE&ucfs=1&arphpl=1&group_adults=2&req_adults=2&no_rooms=1&group_children=0&req_children=0&hpos=12&hapos=12&sr_order=bayesian_review_score&nflt=ht_id%3D204&srpvid=dd9869c4161f03f2&srepoch=1745766154&from=searchresults'>La Maison de Sophie</a>",
          "<a href='https://www.booking.com/hotel/fr/vatel.fr.html?aid=304142&label=gen173nr-1FCAQoggJCDHNlYXJjaF9uaW1lc0gNWARoTYgBAZgBDbgBCsgBBdgBAegBAfgBA4gCAagCA7gCiY65wAbAAgHSAiQ1YTIxMDFlMy0xZjlmLTQzYzYtYTU4ZC02MTEwMWVlYjE3NTjYAgXgAgE&ucfs=1&arphpl=1&group_adults=2&req_adults=2&no_rooms=1&group_children=0&req_children=0&hpos=13&hapos=13&sr_order=bayesian_review_score&nflt=ht_id%3D204&srpvid=dd9869c4161f03f2&srepoch=1745766154&from=searchresults'>Hôtel & Spa Vatel</a>",
          "<a href='https://www.booking.com/hotel/fr/de-l-amphitheatre-nimes.fr.html?aid=304142&label=gen173nr-1FCAQoggJCDHNlYXJjaF9uaW1lc0gNWARoTYgBAZgBDbgBCsgBBdgBAegBAfgBA4gCAagCA7gCiY65wAbAAgHSAiQ1YTIxMDFlMy0xZjlmLTQzYzYtYTU4ZC02MTEwMWVlYjE3NTjYAgXgAgE&ucfs=1&arphpl=1&group_adults=2&req_adults=2&no_rooms=1&group_children=0&req_children=0&hpos=15&hapos=15&sr_order=bayesian_review_score&nflt=ht_id%3D204&srpvid=dd9869c4161f03f2&srepoch=1745766154&from=searchresults'>Hôtel De L'Amphithéâtre</a>",
          "<a href='https://www.booking.com/hotel/fr/royal.fr.html?aid=304142&label=gen173nr-1FCAQoggJCDHNlYXJjaF9uaW1lc0gNWARoTYgBAZgBDbgBCsgBBdgBAegBAfgBA4gCAagCA7gCiY65wAbAAgHSAiQ1YTIxMDFlMy0xZjlmLTQzYzYtYTU4ZC02MTEwMWVlYjE3NTjYAgXgAgE&ucfs=1&arphpl=1&group_adults=2&req_adults=2&no_rooms=1&group_children=0&req_children=0&hpos=14&hapos=14&sr_order=bayesian_review_score&nflt=ht_id%3D204&srpvid=dd9869c4161f03f2&srepoch=1745766154&from=searchresults'>Royal Hôtel</a>",
          "<a href='https://www.booking.com/hotel/fr/majestic-nimes.fr.html?aid=304142&label=gen173nr-1FCAQoggJCDHNlYXJjaF9uaW1lc0gNWARoTYgBAZgBDbgBCsgBBdgBAegBAfgBA4gCAagCA7gCiY65wAbAAgHSAiQ1YTIxMDFlMy0xZjlmLTQzYzYtYTU4ZC02MTEwMWVlYjE3NTjYAgXgAgE&ucfs=1&arphpl=1&group_adults=2&req_adults=2&no_rooms=1&group_children=0&req_children=0&hpos=10&hapos=10&sr_order=bayesian_review_score&nflt=ht_id%3D204&srpvid=dd9869c4161f03f2&srepoch=1745766154&from=searchresults'>Hotel Majestic</a>",
          "<a href='https://www.booking.com/hotel/fr/ha-tel-la-baume.fr.html?aid=304142&label=gen173nr-1FCAQoggJCDHNlYXJjaF9uaW1lc0gNWARoTYgBAZgBDbgBCsgBBdgBAegBAfgBA4gCAagCA7gCiY65wAbAAgHSAiQ1YTIxMDFlMy0xZjlmLTQzYzYtYTU4ZC02MTEwMWVlYjE3NTjYAgXgAgE&ucfs=1&arphpl=1&group_adults=2&req_adults=2&no_rooms=1&group_children=0&req_children=0&hpos=16&hapos=16&sr_order=bayesian_review_score&nflt=ht_id%3D204&srpvid=dd9869c4161f03f2&srepoch=1745766154&from=searchresults'>Best Western Marquis de la Baume</a>",
          "<a href='https://www.booking.com/hotel/fr/hotel-des-tuileries.fr.html?aid=304142&label=gen173nr-1FCAQoggJCDHNlYXJjaF9uaW1lc0gNWARoTYgBAZgBDbgBCsgBBdgBAegBAfgBA4gCAagCA7gCiY65wAbAAgHSAiQ1YTIxMDFlMy0xZjlmLTQzYzYtYTU4ZC02MTEwMWVlYjE3NTjYAgXgAgE&ucfs=1&arphpl=1&group_adults=2&req_adults=2&no_rooms=1&group_children=0&req_children=0&hpos=11&hapos=11&sr_order=bayesian_review_score&nflt=ht_id%3D204&srpvid=dd9869c4161f03f2&srepoch=1745766154&from=searchresults'>Hotel Des Tuileries</a>",
          "<a href='https://www.booking.com/hotel/fr/odalys-city-nimes-arenes.fr.html?aid=304142&label=gen173nr-1FCAQoggJCDHNlYXJjaF9uaW1lc0gNWARoTYgBAZgBDbgBCsgBBdgBAegBAfgBA4gCAagCA7gCiY65wAbAAgHSAiQ1YTIxMDFlMy0xZjlmLTQzYzYtYTU4ZC02MTEwMWVlYjE3NTjYAgXgAgE&ucfs=1&arphpl=1&group_adults=2&req_adults=2&no_rooms=1&group_children=0&req_children=0&hpos=8&hapos=8&sr_order=bayesian_review_score&nflt=ht_id%3D204&srpvid=dd9869c4161f03f2&srepoch=1745766154&from=searchresults'>Appart Hotel Odalys City Nîmes Arènes</a>",
          "<a href='https://www.booking.com/hotel/fr/oh-activ-nimes.fr.html?aid=304142&label=gen173nr-1FCAQoggJCDHNlYXJjaF9uaW1lc0gNWARoTYgBAZgBDbgBCsgBBdgBAegBAfgBA4gCAagCA7gCiY65wAbAAgHSAiQ1YTIxMDFlMy0xZjlmLTQzYzYtYTU4ZC02MTEwMWVlYjE3NTjYAgXgAgE&ucfs=1&arphpl=1&group_adults=2&req_adults=2&no_rooms=1&group_children=0&req_children=0&hpos=7&hapos=7&sr_order=bayesian_review_score&nflt=ht_id%3D204&srpvid=dd9869c4161f03f2&srepoch=1745766154&from=searchresults'>Oh Activ Nîmes</a>",
          "<a href='https://www.booking.com/hotel/fr/square-nimes.fr.html?aid=304142&label=gen173nr-1FCAQoggJCDHNlYXJjaF9uaW1lc0gNWARoTYgBAZgBDbgBCsgBBdgBAegBAfgBA4gCAagCA7gCiY65wAbAAgHSAiQ1YTIxMDFlMy0xZjlmLTQzYzYtYTU4ZC02MTEwMWVlYjE3NTjYAgXgAgE&ucfs=1&arphpl=1&group_adults=2&req_adults=2&no_rooms=1&group_children=0&req_children=0&hpos=6&hapos=6&sr_order=bayesian_review_score&nflt=ht_id%3D204&srpvid=dd9869c4161f03f2&srepoch=1745766154&from=searchresults'>SQUARE HOTEL</a>",
          "<a href='https://www.booking.com/hotel/fr/mas-de-boudan.fr.html?aid=304142&label=gen173nr-1FCAQoggJCDHNlYXJjaF9uaW1lc0gNWARoTYgBAZgBDbgBCsgBBdgBAegBAfgBA4gCAagCA7gCiY65wAbAAgHSAiQ1YTIxMDFlMy0xZjlmLTQzYzYtYTU4ZC02MTEwMWVlYjE3NTjYAgXgAgE&ucfs=1&arphpl=1&group_adults=2&req_adults=2&no_rooms=1&group_children=0&req_children=0&hpos=4&hapos=4&sr_order=bayesian_review_score&nflt=ht_id%3D204&srpvid=dd9869c4161f03f2&srepoch=1745766154&from=searchresults'>Mas de Boudan</a>",
          "<a href='https://www.booking.com/hotel/fr/jardins-secrets-nimes.fr.html?aid=304142&label=gen173nr-1FCAQoggJCDHNlYXJjaF9uaW1lc0gNWARoTYgBAZgBDbgBCsgBBdgBAegBAfgBA4gCAagCA7gCiY65wAbAAgHSAiQ1YTIxMDFlMy0xZjlmLTQzYzYtYTU4ZC02MTEwMWVlYjE3NTjYAgXgAgE&ucfs=1&arphpl=1&group_adults=2&req_adults=2&no_rooms=1&group_children=0&req_children=0&hpos=3&hapos=3&sr_order=bayesian_review_score&nflt=ht_id%3D204&srpvid=dd9869c4161f03f2&srepoch=1745766154&from=searchresults'>Jardins Secrets</a>",
          "<a href='https://www.booking.com/hotel/fr/margaret-chouleur.fr.html?aid=304142&label=gen173nr-1FCAQoggJCDHNlYXJjaF9uaW1lc0gNWARoTYgBAZgBDbgBCsgBBdgBAegBAfgBA4gCAagCA7gCiY65wAbAAgHSAiQ1YTIxMDFlMy0xZjlmLTQzYzYtYTU4ZC02MTEwMWVlYjE3NTjYAgXgAgE&ucfs=1&arphpl=1&group_adults=2&req_adults=2&no_rooms=1&group_children=0&req_children=0&hpos=2&hapos=2&sr_order=bayesian_review_score&nflt=ht_id%3D204&srpvid=dd9869c4161f03f2&srepoch=1745766154&from=searchresults'>Margaret - Hôtel Chouleur</a>",
          "<a href='https://www.booking.com/hotel/fr/appart-39-city-nimes.fr.html?aid=304142&label=gen173nr-1FCAQoggJCDHNlYXJjaF9uaW1lc0gNWARoTYgBAZgBDbgBCsgBBdgBAegBAfgBA4gCAagCA7gCiY65wAbAAgHSAiQ1YTIxMDFlMy0xZjlmLTQzYzYtYTU4ZC02MTEwMWVlYjE3NTjYAgXgAgE&ucfs=1&arphpl=1&group_adults=2&req_adults=2&no_rooms=1&group_children=0&req_children=0&hpos=5&hapos=5&sr_order=bayesian_review_score&nflt=ht_id%3D204&srpvid=dd9869c4161f03f2&srepoch=1745766154&from_sustainable_property_sr=1&from=searchresults'>Appart'City Collection Nîmes Arènes</a>",
          "<a href='https://www.booking.com/hotel/fr/lepregaloffrenimes.fr.html?aid=304142&label=gen173nr-1FCAQoggJCDHNlYXJjaF9uaW1lc0gNWARoTYgBAZgBDbgBCsgBBdgBAegBAfgBA4gCAagCA7gCiY65wAbAAgHSAiQ1YTIxMDFlMy0xZjlmLTQzYzYtYTU4ZC02MTEwMWVlYjE3NTjYAgXgAgE&ucfs=1&arphpl=1&group_adults=2&req_adults=2&no_rooms=1&group_children=0&req_children=0&hpos=20&hapos=20&sr_order=bayesian_review_score&nflt=ht_id%3D204&srpvid=dd9869c4161f03f2&srepoch=1745766154&from=searchresults'>Hôtel Le Pré Galoffre</a>",
          "<a href='https://www.booking.com/hotel/fr/ibis-budget-nimes-centre-gare.fr.html?aid=304142&label=gen173nr-1FCAQoggJCDHNlYXJjaF9uaW1lc0gNWARoTYgBAZgBDbgBCsgBBdgBAegBAfgBA4gCAagCA7gCiY65wAbAAgHSAiQ1YTIxMDFlMy0xZjlmLTQzYzYtYTU4ZC02MTEwMWVlYjE3NTjYAgXgAgE&ucfs=1&arphpl=1&group_adults=2&req_adults=2&no_rooms=1&group_children=0&req_children=0&hpos=19&hapos=19&sr_order=bayesian_review_score&nflt=ht_id%3D204&srpvid=dd9869c4161f03f2&srepoch=1745766154&from=searchresults'>ibis budget Nimes Centre Gare</a>",
          "<a href='https://www.booking.com/hotel/fr/ibis-styles-nimes-centre-gare.fr.html?aid=304142&label=gen173nr-1FCAQoggJCDHNlYXJjaF9uaW1lc0gNWARoTYgBAZgBDbgBCsgBBdgBAegBAfgBA4gCAagCA7gCiY65wAbAAgHSAiQ1YTIxMDFlMy0xZjlmLTQzYzYtYTU4ZC02MTEwMWVlYjE3NTjYAgXgAgE&ucfs=1&arphpl=1&group_adults=2&req_adults=2&no_rooms=1&group_children=0&req_children=0&hpos=18&hapos=18&sr_order=bayesian_review_score&nflt=ht_id%3D204&srpvid=dd9869c4161f03f2&srepoch=1745766154&from_sustainable_property_sr=1&from=searchresults'>ibis Styles Nimes Gare Centre</a>",
          "<a href='https://www.booking.com/hotel/fr/b-amp-b-nimes-centre-ville.fr.html?aid=304142&label=gen173nr-1FCAQoggJCDHNlYXJjaF9uaW1lc0gNWARoTYgBAZgBDbgBCsgBBdgBAegBAfgBA4gCAagCA7gCiY65wAbAAgHSAiQ1YTIxMDFlMy0xZjlmLTQzYzYtYTU4ZC02MTEwMWVlYjE3NTjYAgXgAgE&ucfs=1&arphpl=1&group_adults=2&req_adults=2&no_rooms=1&group_children=0&req_children=0&hpos=17&hapos=17&sr_order=bayesian_review_score&nflt=ht_id%3D204&srpvid=dd9869c4161f03f2&srepoch=1745766154&from_sustainable_property_sr=1&from=searchresults'>B&B HOTEL Nîmes Centre Arènes</a>"
         ],
         "lat": [
          43.83866612768399,
          43.83433186355036,
          43.820576747716174,
          43.83581534027453,
          43.83881509620307,
          43.8343632920283,
          43.83959475654075,
          43.83642381634261,
          43.834061872209,
          43.838773872288,
          43.837032,
          43.82080551337371,
          43.83470575029483,
          43.837117,
          43.8338735348897,
          43.78858215364223,
          43.832055902146784,
          43.83175754591007,
          43.8281614
         ],
         "legendgroup": "Nimes",
         "lon": [
          4.352767914533615,
          4.367129892088997,
          4.319126978516579,
          4.359140172600746,
          4.3548184633255005,
          4.365336745977402,
          4.3610841035842896,
          4.364745318889618,
          4.358990652779,
          4.363837569914,
          4.363037,
          4.371253199999956,
          4.36731219291687,
          4.357898,
          4.361433959524561,
          4.35380257666111,
          4.3673644959926605,
          4.36697356402874,
          4.354790200000025
         ],
         "marker": {
          "color": "#FFA15A",
          "opacity": 0.7,
          "size": 20
         },
         "mode": "markers",
         "name": "Nimes",
         "showlegend": true,
         "subplot": "map",
         "type": "scattermap"
        }
       ],
       "layout": {
        "hoverlabel": {
         "bgcolor": "white"
        },
        "legend": {
         "title": {
          "text": "city"
         },
         "tracegroupgap": 0
        },
        "map": {
         "center": {
          "lat": 45.045409087761854,
          "lon": 4.55474874033796
         },
         "domain": {
          "x": [
           0,
           1
          ],
          "y": [
           0,
           1
          ]
         },
         "style": "open-street-map",
         "zoom": 5
        },
        "mapbox": {
         "center": {
          "lat": 45.045409087761854,
          "lon": 4.55474874033796
         },
         "style": "open-street-map",
         "zoom": 5
        },
        "template": {
         "data": {
          "bar": [
           {
            "error_x": {
             "color": "#2a3f5f"
            },
            "error_y": {
             "color": "#2a3f5f"
            },
            "marker": {
             "line": {
              "color": "#E5ECF6",
              "width": 0.5
             },
             "pattern": {
              "fillmode": "overlay",
              "size": 10,
              "solidity": 0.2
             }
            },
            "type": "bar"
           }
          ],
          "barpolar": [
           {
            "marker": {
             "line": {
              "color": "#E5ECF6",
              "width": 0.5
             },
             "pattern": {
              "fillmode": "overlay",
              "size": 10,
              "solidity": 0.2
             }
            },
            "type": "barpolar"
           }
          ],
          "carpet": [
           {
            "aaxis": {
             "endlinecolor": "#2a3f5f",
             "gridcolor": "white",
             "linecolor": "white",
             "minorgridcolor": "white",
             "startlinecolor": "#2a3f5f"
            },
            "baxis": {
             "endlinecolor": "#2a3f5f",
             "gridcolor": "white",
             "linecolor": "white",
             "minorgridcolor": "white",
             "startlinecolor": "#2a3f5f"
            },
            "type": "carpet"
           }
          ],
          "choropleth": [
           {
            "colorbar": {
             "outlinewidth": 0,
             "ticks": ""
            },
            "type": "choropleth"
           }
          ],
          "contour": [
           {
            "colorbar": {
             "outlinewidth": 0,
             "ticks": ""
            },
            "colorscale": [
             [
              0,
              "#0d0887"
             ],
             [
              0.1111111111111111,
              "#46039f"
             ],
             [
              0.2222222222222222,
              "#7201a8"
             ],
             [
              0.3333333333333333,
              "#9c179e"
             ],
             [
              0.4444444444444444,
              "#bd3786"
             ],
             [
              0.5555555555555556,
              "#d8576b"
             ],
             [
              0.6666666666666666,
              "#ed7953"
             ],
             [
              0.7777777777777778,
              "#fb9f3a"
             ],
             [
              0.8888888888888888,
              "#fdca26"
             ],
             [
              1,
              "#f0f921"
             ]
            ],
            "type": "contour"
           }
          ],
          "contourcarpet": [
           {
            "colorbar": {
             "outlinewidth": 0,
             "ticks": ""
            },
            "type": "contourcarpet"
           }
          ],
          "heatmap": [
           {
            "colorbar": {
             "outlinewidth": 0,
             "ticks": ""
            },
            "colorscale": [
             [
              0,
              "#0d0887"
             ],
             [
              0.1111111111111111,
              "#46039f"
             ],
             [
              0.2222222222222222,
              "#7201a8"
             ],
             [
              0.3333333333333333,
              "#9c179e"
             ],
             [
              0.4444444444444444,
              "#bd3786"
             ],
             [
              0.5555555555555556,
              "#d8576b"
             ],
             [
              0.6666666666666666,
              "#ed7953"
             ],
             [
              0.7777777777777778,
              "#fb9f3a"
             ],
             [
              0.8888888888888888,
              "#fdca26"
             ],
             [
              1,
              "#f0f921"
             ]
            ],
            "type": "heatmap"
           }
          ],
          "heatmapgl": [
           {
            "colorbar": {
             "outlinewidth": 0,
             "ticks": ""
            },
            "colorscale": [
             [
              0,
              "#0d0887"
             ],
             [
              0.1111111111111111,
              "#46039f"
             ],
             [
              0.2222222222222222,
              "#7201a8"
             ],
             [
              0.3333333333333333,
              "#9c179e"
             ],
             [
              0.4444444444444444,
              "#bd3786"
             ],
             [
              0.5555555555555556,
              "#d8576b"
             ],
             [
              0.6666666666666666,
              "#ed7953"
             ],
             [
              0.7777777777777778,
              "#fb9f3a"
             ],
             [
              0.8888888888888888,
              "#fdca26"
             ],
             [
              1,
              "#f0f921"
             ]
            ],
            "type": "heatmapgl"
           }
          ],
          "histogram": [
           {
            "marker": {
             "pattern": {
              "fillmode": "overlay",
              "size": 10,
              "solidity": 0.2
             }
            },
            "type": "histogram"
           }
          ],
          "histogram2d": [
           {
            "colorbar": {
             "outlinewidth": 0,
             "ticks": ""
            },
            "colorscale": [
             [
              0,
              "#0d0887"
             ],
             [
              0.1111111111111111,
              "#46039f"
             ],
             [
              0.2222222222222222,
              "#7201a8"
             ],
             [
              0.3333333333333333,
              "#9c179e"
             ],
             [
              0.4444444444444444,
              "#bd3786"
             ],
             [
              0.5555555555555556,
              "#d8576b"
             ],
             [
              0.6666666666666666,
              "#ed7953"
             ],
             [
              0.7777777777777778,
              "#fb9f3a"
             ],
             [
              0.8888888888888888,
              "#fdca26"
             ],
             [
              1,
              "#f0f921"
             ]
            ],
            "type": "histogram2d"
           }
          ],
          "histogram2dcontour": [
           {
            "colorbar": {
             "outlinewidth": 0,
             "ticks": ""
            },
            "colorscale": [
             [
              0,
              "#0d0887"
             ],
             [
              0.1111111111111111,
              "#46039f"
             ],
             [
              0.2222222222222222,
              "#7201a8"
             ],
             [
              0.3333333333333333,
              "#9c179e"
             ],
             [
              0.4444444444444444,
              "#bd3786"
             ],
             [
              0.5555555555555556,
              "#d8576b"
             ],
             [
              0.6666666666666666,
              "#ed7953"
             ],
             [
              0.7777777777777778,
              "#fb9f3a"
             ],
             [
              0.8888888888888888,
              "#fdca26"
             ],
             [
              1,
              "#f0f921"
             ]
            ],
            "type": "histogram2dcontour"
           }
          ],
          "mesh3d": [
           {
            "colorbar": {
             "outlinewidth": 0,
             "ticks": ""
            },
            "type": "mesh3d"
           }
          ],
          "parcoords": [
           {
            "line": {
             "colorbar": {
              "outlinewidth": 0,
              "ticks": ""
             }
            },
            "type": "parcoords"
           }
          ],
          "pie": [
           {
            "automargin": true,
            "type": "pie"
           }
          ],
          "scatter": [
           {
            "fillpattern": {
             "fillmode": "overlay",
             "size": 10,
             "solidity": 0.2
            },
            "type": "scatter"
           }
          ],
          "scatter3d": [
           {
            "line": {
             "colorbar": {
              "outlinewidth": 0,
              "ticks": ""
             }
            },
            "marker": {
             "colorbar": {
              "outlinewidth": 0,
              "ticks": ""
             }
            },
            "type": "scatter3d"
           }
          ],
          "scattercarpet": [
           {
            "marker": {
             "colorbar": {
              "outlinewidth": 0,
              "ticks": ""
             }
            },
            "type": "scattercarpet"
           }
          ],
          "scattergeo": [
           {
            "marker": {
             "colorbar": {
              "outlinewidth": 0,
              "ticks": ""
             }
            },
            "type": "scattergeo"
           }
          ],
          "scattergl": [
           {
            "marker": {
             "colorbar": {
              "outlinewidth": 0,
              "ticks": ""
             }
            },
            "type": "scattergl"
           }
          ],
          "scattermapbox": [
           {
            "marker": {
             "colorbar": {
              "outlinewidth": 0,
              "ticks": ""
             }
            },
            "type": "scattermapbox"
           }
          ],
          "scatterpolar": [
           {
            "marker": {
             "colorbar": {
              "outlinewidth": 0,
              "ticks": ""
             }
            },
            "type": "scatterpolar"
           }
          ],
          "scatterpolargl": [
           {
            "marker": {
             "colorbar": {
              "outlinewidth": 0,
              "ticks": ""
             }
            },
            "type": "scatterpolargl"
           }
          ],
          "scatterternary": [
           {
            "marker": {
             "colorbar": {
              "outlinewidth": 0,
              "ticks": ""
             }
            },
            "type": "scatterternary"
           }
          ],
          "surface": [
           {
            "colorbar": {
             "outlinewidth": 0,
             "ticks": ""
            },
            "colorscale": [
             [
              0,
              "#0d0887"
             ],
             [
              0.1111111111111111,
              "#46039f"
             ],
             [
              0.2222222222222222,
              "#7201a8"
             ],
             [
              0.3333333333333333,
              "#9c179e"
             ],
             [
              0.4444444444444444,
              "#bd3786"
             ],
             [
              0.5555555555555556,
              "#d8576b"
             ],
             [
              0.6666666666666666,
              "#ed7953"
             ],
             [
              0.7777777777777778,
              "#fb9f3a"
             ],
             [
              0.8888888888888888,
              "#fdca26"
             ],
             [
              1,
              "#f0f921"
             ]
            ],
            "type": "surface"
           }
          ],
          "table": [
           {
            "cells": {
             "fill": {
              "color": "#EBF0F8"
             },
             "line": {
              "color": "white"
             }
            },
            "header": {
             "fill": {
              "color": "#C8D4E3"
             },
             "line": {
              "color": "white"
             }
            },
            "type": "table"
           }
          ]
         },
         "layout": {
          "annotationdefaults": {
           "arrowcolor": "#2a3f5f",
           "arrowhead": 0,
           "arrowwidth": 1
          },
          "autotypenumbers": "strict",
          "coloraxis": {
           "colorbar": {
            "outlinewidth": 0,
            "ticks": ""
           }
          },
          "colorscale": {
           "diverging": [
            [
             0,
             "#8e0152"
            ],
            [
             0.1,
             "#c51b7d"
            ],
            [
             0.2,
             "#de77ae"
            ],
            [
             0.3,
             "#f1b6da"
            ],
            [
             0.4,
             "#fde0ef"
            ],
            [
             0.5,
             "#f7f7f7"
            ],
            [
             0.6,
             "#e6f5d0"
            ],
            [
             0.7,
             "#b8e186"
            ],
            [
             0.8,
             "#7fbc41"
            ],
            [
             0.9,
             "#4d9221"
            ],
            [
             1,
             "#276419"
            ]
           ],
           "sequential": [
            [
             0,
             "#0d0887"
            ],
            [
             0.1111111111111111,
             "#46039f"
            ],
            [
             0.2222222222222222,
             "#7201a8"
            ],
            [
             0.3333333333333333,
             "#9c179e"
            ],
            [
             0.4444444444444444,
             "#bd3786"
            ],
            [
             0.5555555555555556,
             "#d8576b"
            ],
            [
             0.6666666666666666,
             "#ed7953"
            ],
            [
             0.7777777777777778,
             "#fb9f3a"
            ],
            [
             0.8888888888888888,
             "#fdca26"
            ],
            [
             1,
             "#f0f921"
            ]
           ],
           "sequentialminus": [
            [
             0,
             "#0d0887"
            ],
            [
             0.1111111111111111,
             "#46039f"
            ],
            [
             0.2222222222222222,
             "#7201a8"
            ],
            [
             0.3333333333333333,
             "#9c179e"
            ],
            [
             0.4444444444444444,
             "#bd3786"
            ],
            [
             0.5555555555555556,
             "#d8576b"
            ],
            [
             0.6666666666666666,
             "#ed7953"
            ],
            [
             0.7777777777777778,
             "#fb9f3a"
            ],
            [
             0.8888888888888888,
             "#fdca26"
            ],
            [
             1,
             "#f0f921"
            ]
           ]
          },
          "colorway": [
           "#636efa",
           "#EF553B",
           "#00cc96",
           "#ab63fa",
           "#FFA15A",
           "#19d3f3",
           "#FF6692",
           "#B6E880",
           "#FF97FF",
           "#FECB52"
          ],
          "font": {
           "color": "#2a3f5f"
          },
          "geo": {
           "bgcolor": "white",
           "lakecolor": "white",
           "landcolor": "#E5ECF6",
           "showlakes": true,
           "showland": true,
           "subunitcolor": "white"
          },
          "hoverlabel": {
           "align": "left"
          },
          "hovermode": "closest",
          "mapbox": {
           "style": "light"
          },
          "paper_bgcolor": "white",
          "plot_bgcolor": "#E5ECF6",
          "polar": {
           "angularaxis": {
            "gridcolor": "white",
            "linecolor": "white",
            "ticks": ""
           },
           "bgcolor": "#E5ECF6",
           "radialaxis": {
            "gridcolor": "white",
            "linecolor": "white",
            "ticks": ""
           }
          },
          "scene": {
           "xaxis": {
            "backgroundcolor": "#E5ECF6",
            "gridcolor": "white",
            "gridwidth": 2,
            "linecolor": "white",
            "showbackground": true,
            "ticks": "",
            "zerolinecolor": "white"
           },
           "yaxis": {
            "backgroundcolor": "#E5ECF6",
            "gridcolor": "white",
            "gridwidth": 2,
            "linecolor": "white",
            "showbackground": true,
            "ticks": "",
            "zerolinecolor": "white"
           },
           "zaxis": {
            "backgroundcolor": "#E5ECF6",
            "gridcolor": "white",
            "gridwidth": 2,
            "linecolor": "white",
            "showbackground": true,
            "ticks": "",
            "zerolinecolor": "white"
           }
          },
          "shapedefaults": {
           "line": {
            "color": "#2a3f5f"
           }
          },
          "ternary": {
           "aaxis": {
            "gridcolor": "white",
            "linecolor": "white",
            "ticks": ""
           },
           "baxis": {
            "gridcolor": "white",
            "linecolor": "white",
            "ticks": ""
           },
           "bgcolor": "#E5ECF6",
           "caxis": {
            "gridcolor": "white",
            "linecolor": "white",
            "ticks": ""
           }
          },
          "title": {
           "x": 0.05
          },
          "xaxis": {
           "automargin": true,
           "gridcolor": "white",
           "linecolor": "white",
           "ticks": "",
           "title": {
            "standoff": 15
           },
           "zerolinecolor": "white",
           "zerolinewidth": 2
          },
          "yaxis": {
           "automargin": true,
           "gridcolor": "white",
           "linecolor": "white",
           "ticks": "",
           "title": {
            "standoff": 15
           },
           "zerolinecolor": "white",
           "zerolinewidth": 2
          }
         }
        },
        "title": {
         "text": " Top-20 hôtels par ville"
        }
       }
      }
     },
     "metadata": {},
     "output_type": "display_data"
    }
   ],
   "source": [
    "%run 01_get_geo_and_weather_infos.ipynb\n",
    "%run 02_scrape_booking.ipynb\n",
    "%run 03_create_csv.ipynb\n",
    "# %run 04_create_s3_and_database.ipynb\n",
    "%run 05_draw_maps.ipynb"
   ]
  }
 ],
 "metadata": {
  "kernelspec": {
   "display_name": "base",
   "language": "python",
   "name": "python3"
  },
  "language_info": {
   "codemirror_mode": {
    "name": "ipython",
    "version": 3
   },
   "file_extension": ".py",
   "mimetype": "text/x-python",
   "name": "python",
   "nbconvert_exporter": "python",
   "pygments_lexer": "ipython3",
   "version": "3.12.3"
  }
 },
 "nbformat": 4,
 "nbformat_minor": 5
}
