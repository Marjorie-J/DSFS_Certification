{
 "cells": [
  {
   "cell_type": "markdown",
   "id": "70b214eb",
   "metadata": {},
   "source": [
    "Notebook qui lance tous les autres"
   ]
  },
  {
   "cell_type": "code",
   "execution_count": null,
   "id": "6b7ed669",
   "metadata": {},
   "outputs": [],
   "source": [
    "%run 01_get_geo_and_weather_infos.ipynb\n",
    "%run 02_scrape_booking.ipynb\n",
    "%run 03_create_csv.ipynb\n",
    "%run 04_create_s3_and_database.ipynb\n",
    "%run 05_draw_maps.ipynb"
   ]
  }
 ],
 "metadata": {
  "kernelspec": {
   "display_name": "dsfs_env",
   "language": "python",
   "name": "python3"
  },
  "language_info": {
   "codemirror_mode": {
    "name": "ipython",
    "version": 3
   },
   "file_extension": ".py",
   "mimetype": "text/x-python",
   "name": "python",
   "nbconvert_exporter": "python",
   "pygments_lexer": "ipython3",
   "version": "3.12.3"
  }
 },
 "nbformat": 4,
 "nbformat_minor": 5
}
