{
 "cells": [
  {
   "cell_type": "markdown",
   "id": "7335baa5",
   "metadata": {},
   "source": [
    "Construit 2 cartes : \n",
    " - Top-5 destinations : villes où la météo est la plus agréable sur les 5 prochains jours (ici, températures les plus élevées) + affichage des conditions météo\n",
    " - Top-20 hotels pour chacune de ces 5 villes. Un lien permettra d'accéder à la page détail de chaque hôtel"
   ]
  },
  {
   "cell_type": "code",
   "execution_count": 1,
   "id": "edef0afb",
   "metadata": {},
   "outputs": [
    {
     "data": {
      "application/vnd.plotly.v1+json": {
       "config": {
        "plotlyServerURL": "https://plot.ly"
       },
       "data": [
        {
         "customdata": [
          [
           43.5298424,
           5.4474738,
           23,
           "couvert"
          ],
          [
           43.8374249,
           4.3600687,
           22,
           "légère pluie"
          ],
          [
           43.2140359,
           5.5396318,
           21,
           "couvert"
          ],
          [
           44.0121279,
           4.4196718,
           21,
           "légère pluie"
          ],
          [
           45.1875602,
           5.7357819,
           20,
           "légère pluie"
          ]
         ],
         "hovertemplate": "<b>%{hovertext}</b><br><br>Conditions=%{customdata[3]}<br>Température moyenne (°C)=%{marker.color}<extra></extra>",
         "hovertext": [
          "Aix en Provence",
          "Nimes",
          "Cassis",
          "Uzes",
          "Grenoble"
         ],
         "lat": {
          "bdata": "XwQy4NHDRUCULTe9MOtFQMBVQ4dlm0VAQe8yaI0BRkD/g/74AZhGQA==",
          "dtype": "f8"
         },
         "legendgroup": "",
         "lon": {
          "bdata": "c0RjkjbKFUDBQGvZtXARQMaGEz2VKBZAvDbAcb6tEUB59HXPcPEWQA==",
          "dtype": "f8"
         },
         "marker": {
          "color": {
           "bdata": "FxYVFRQ=",
           "dtype": "i1"
          },
          "coloraxis": "coloraxis",
          "size": {
           "bdata": "FxYVFRQ=",
           "dtype": "i1"
          },
          "sizemode": "area",
          "sizeref": 0.0575
         },
         "mode": "markers",
         "name": "",
         "showlegend": false,
         "subplot": "map",
         "type": "scattermap"
        }
       ],
       "layout": {
        "coloraxis": {
         "colorbar": {
          "title": {
           "text": "Température moyenne (°C)"
          }
         },
         "colorscale": [
          [
           0,
           "rgb(0,0,255)"
          ],
          [
           1,
           "rgb(255,0,0)"
          ]
         ]
        },
        "legend": {
         "itemsizing": "constant",
         "tracegroupgap": 0
        },
        "map": {
         "center": {
          "lat": 43.95619826,
          "lon": 5.1005256
         },
         "domain": {
          "x": [
           0,
           1
          ],
          "y": [
           0,
           1
          ]
         },
         "style": "open-street-map",
         "zoom": 4
        },
        "mapbox": {
         "center": {
          "lat": 43.95619826,
          "lon": 5.1005256
         },
         "style": "open-street-map",
         "zoom": 4
        },
        "template": {
         "data": {
          "bar": [
           {
            "error_x": {
             "color": "#2a3f5f"
            },
            "error_y": {
             "color": "#2a3f5f"
            },
            "marker": {
             "line": {
              "color": "#E5ECF6",
              "width": 0.5
             },
             "pattern": {
              "fillmode": "overlay",
              "size": 10,
              "solidity": 0.2
             }
            },
            "type": "bar"
           }
          ],
          "barpolar": [
           {
            "marker": {
             "line": {
              "color": "#E5ECF6",
              "width": 0.5
             },
             "pattern": {
              "fillmode": "overlay",
              "size": 10,
              "solidity": 0.2
             }
            },
            "type": "barpolar"
           }
          ],
          "carpet": [
           {
            "aaxis": {
             "endlinecolor": "#2a3f5f",
             "gridcolor": "white",
             "linecolor": "white",
             "minorgridcolor": "white",
             "startlinecolor": "#2a3f5f"
            },
            "baxis": {
             "endlinecolor": "#2a3f5f",
             "gridcolor": "white",
             "linecolor": "white",
             "minorgridcolor": "white",
             "startlinecolor": "#2a3f5f"
            },
            "type": "carpet"
           }
          ],
          "choropleth": [
           {
            "colorbar": {
             "outlinewidth": 0,
             "ticks": ""
            },
            "type": "choropleth"
           }
          ],
          "contour": [
           {
            "colorbar": {
             "outlinewidth": 0,
             "ticks": ""
            },
            "colorscale": [
             [
              0,
              "#0d0887"
             ],
             [
              0.1111111111111111,
              "#46039f"
             ],
             [
              0.2222222222222222,
              "#7201a8"
             ],
             [
              0.3333333333333333,
              "#9c179e"
             ],
             [
              0.4444444444444444,
              "#bd3786"
             ],
             [
              0.5555555555555556,
              "#d8576b"
             ],
             [
              0.6666666666666666,
              "#ed7953"
             ],
             [
              0.7777777777777778,
              "#fb9f3a"
             ],
             [
              0.8888888888888888,
              "#fdca26"
             ],
             [
              1,
              "#f0f921"
             ]
            ],
            "type": "contour"
           }
          ],
          "contourcarpet": [
           {
            "colorbar": {
             "outlinewidth": 0,
             "ticks": ""
            },
            "type": "contourcarpet"
           }
          ],
          "heatmap": [
           {
            "colorbar": {
             "outlinewidth": 0,
             "ticks": ""
            },
            "colorscale": [
             [
              0,
              "#0d0887"
             ],
             [
              0.1111111111111111,
              "#46039f"
             ],
             [
              0.2222222222222222,
              "#7201a8"
             ],
             [
              0.3333333333333333,
              "#9c179e"
             ],
             [
              0.4444444444444444,
              "#bd3786"
             ],
             [
              0.5555555555555556,
              "#d8576b"
             ],
             [
              0.6666666666666666,
              "#ed7953"
             ],
             [
              0.7777777777777778,
              "#fb9f3a"
             ],
             [
              0.8888888888888888,
              "#fdca26"
             ],
             [
              1,
              "#f0f921"
             ]
            ],
            "type": "heatmap"
           }
          ],
          "histogram": [
           {
            "marker": {
             "pattern": {
              "fillmode": "overlay",
              "size": 10,
              "solidity": 0.2
             }
            },
            "type": "histogram"
           }
          ],
          "histogram2d": [
           {
            "colorbar": {
             "outlinewidth": 0,
             "ticks": ""
            },
            "colorscale": [
             [
              0,
              "#0d0887"
             ],
             [
              0.1111111111111111,
              "#46039f"
             ],
             [
              0.2222222222222222,
              "#7201a8"
             ],
             [
              0.3333333333333333,
              "#9c179e"
             ],
             [
              0.4444444444444444,
              "#bd3786"
             ],
             [
              0.5555555555555556,
              "#d8576b"
             ],
             [
              0.6666666666666666,
              "#ed7953"
             ],
             [
              0.7777777777777778,
              "#fb9f3a"
             ],
             [
              0.8888888888888888,
              "#fdca26"
             ],
             [
              1,
              "#f0f921"
             ]
            ],
            "type": "histogram2d"
           }
          ],
          "histogram2dcontour": [
           {
            "colorbar": {
             "outlinewidth": 0,
             "ticks": ""
            },
            "colorscale": [
             [
              0,
              "#0d0887"
             ],
             [
              0.1111111111111111,
              "#46039f"
             ],
             [
              0.2222222222222222,
              "#7201a8"
             ],
             [
              0.3333333333333333,
              "#9c179e"
             ],
             [
              0.4444444444444444,
              "#bd3786"
             ],
             [
              0.5555555555555556,
              "#d8576b"
             ],
             [
              0.6666666666666666,
              "#ed7953"
             ],
             [
              0.7777777777777778,
              "#fb9f3a"
             ],
             [
              0.8888888888888888,
              "#fdca26"
             ],
             [
              1,
              "#f0f921"
             ]
            ],
            "type": "histogram2dcontour"
           }
          ],
          "mesh3d": [
           {
            "colorbar": {
             "outlinewidth": 0,
             "ticks": ""
            },
            "type": "mesh3d"
           }
          ],
          "parcoords": [
           {
            "line": {
             "colorbar": {
              "outlinewidth": 0,
              "ticks": ""
             }
            },
            "type": "parcoords"
           }
          ],
          "pie": [
           {
            "automargin": true,
            "type": "pie"
           }
          ],
          "scatter": [
           {
            "fillpattern": {
             "fillmode": "overlay",
             "size": 10,
             "solidity": 0.2
            },
            "type": "scatter"
           }
          ],
          "scatter3d": [
           {
            "line": {
             "colorbar": {
              "outlinewidth": 0,
              "ticks": ""
             }
            },
            "marker": {
             "colorbar": {
              "outlinewidth": 0,
              "ticks": ""
             }
            },
            "type": "scatter3d"
           }
          ],
          "scattercarpet": [
           {
            "marker": {
             "colorbar": {
              "outlinewidth": 0,
              "ticks": ""
             }
            },
            "type": "scattercarpet"
           }
          ],
          "scattergeo": [
           {
            "marker": {
             "colorbar": {
              "outlinewidth": 0,
              "ticks": ""
             }
            },
            "type": "scattergeo"
           }
          ],
          "scattergl": [
           {
            "marker": {
             "colorbar": {
              "outlinewidth": 0,
              "ticks": ""
             }
            },
            "type": "scattergl"
           }
          ],
          "scattermap": [
           {
            "marker": {
             "colorbar": {
              "outlinewidth": 0,
              "ticks": ""
             }
            },
            "type": "scattermap"
           }
          ],
          "scattermapbox": [
           {
            "marker": {
             "colorbar": {
              "outlinewidth": 0,
              "ticks": ""
             }
            },
            "type": "scattermapbox"
           }
          ],
          "scatterpolar": [
           {
            "marker": {
             "colorbar": {
              "outlinewidth": 0,
              "ticks": ""
             }
            },
            "type": "scatterpolar"
           }
          ],
          "scatterpolargl": [
           {
            "marker": {
             "colorbar": {
              "outlinewidth": 0,
              "ticks": ""
             }
            },
            "type": "scatterpolargl"
           }
          ],
          "scatterternary": [
           {
            "marker": {
             "colorbar": {
              "outlinewidth": 0,
              "ticks": ""
             }
            },
            "type": "scatterternary"
           }
          ],
          "surface": [
           {
            "colorbar": {
             "outlinewidth": 0,
             "ticks": ""
            },
            "colorscale": [
             [
              0,
              "#0d0887"
             ],
             [
              0.1111111111111111,
              "#46039f"
             ],
             [
              0.2222222222222222,
              "#7201a8"
             ],
             [
              0.3333333333333333,
              "#9c179e"
             ],
             [
              0.4444444444444444,
              "#bd3786"
             ],
             [
              0.5555555555555556,
              "#d8576b"
             ],
             [
              0.6666666666666666,
              "#ed7953"
             ],
             [
              0.7777777777777778,
              "#fb9f3a"
             ],
             [
              0.8888888888888888,
              "#fdca26"
             ],
             [
              1,
              "#f0f921"
             ]
            ],
            "type": "surface"
           }
          ],
          "table": [
           {
            "cells": {
             "fill": {
              "color": "#EBF0F8"
             },
             "line": {
              "color": "white"
             }
            },
            "header": {
             "fill": {
              "color": "#C8D4E3"
             },
             "line": {
              "color": "white"
             }
            },
            "type": "table"
           }
          ]
         },
         "layout": {
          "annotationdefaults": {
           "arrowcolor": "#2a3f5f",
           "arrowhead": 0,
           "arrowwidth": 1
          },
          "autotypenumbers": "strict",
          "coloraxis": {
           "colorbar": {
            "outlinewidth": 0,
            "ticks": ""
           }
          },
          "colorscale": {
           "diverging": [
            [
             0,
             "#8e0152"
            ],
            [
             0.1,
             "#c51b7d"
            ],
            [
             0.2,
             "#de77ae"
            ],
            [
             0.3,
             "#f1b6da"
            ],
            [
             0.4,
             "#fde0ef"
            ],
            [
             0.5,
             "#f7f7f7"
            ],
            [
             0.6,
             "#e6f5d0"
            ],
            [
             0.7,
             "#b8e186"
            ],
            [
             0.8,
             "#7fbc41"
            ],
            [
             0.9,
             "#4d9221"
            ],
            [
             1,
             "#276419"
            ]
           ],
           "sequential": [
            [
             0,
             "#0d0887"
            ],
            [
             0.1111111111111111,
             "#46039f"
            ],
            [
             0.2222222222222222,
             "#7201a8"
            ],
            [
             0.3333333333333333,
             "#9c179e"
            ],
            [
             0.4444444444444444,
             "#bd3786"
            ],
            [
             0.5555555555555556,
             "#d8576b"
            ],
            [
             0.6666666666666666,
             "#ed7953"
            ],
            [
             0.7777777777777778,
             "#fb9f3a"
            ],
            [
             0.8888888888888888,
             "#fdca26"
            ],
            [
             1,
             "#f0f921"
            ]
           ],
           "sequentialminus": [
            [
             0,
             "#0d0887"
            ],
            [
             0.1111111111111111,
             "#46039f"
            ],
            [
             0.2222222222222222,
             "#7201a8"
            ],
            [
             0.3333333333333333,
             "#9c179e"
            ],
            [
             0.4444444444444444,
             "#bd3786"
            ],
            [
             0.5555555555555556,
             "#d8576b"
            ],
            [
             0.6666666666666666,
             "#ed7953"
            ],
            [
             0.7777777777777778,
             "#fb9f3a"
            ],
            [
             0.8888888888888888,
             "#fdca26"
            ],
            [
             1,
             "#f0f921"
            ]
           ]
          },
          "colorway": [
           "#636efa",
           "#EF553B",
           "#00cc96",
           "#ab63fa",
           "#FFA15A",
           "#19d3f3",
           "#FF6692",
           "#B6E880",
           "#FF97FF",
           "#FECB52"
          ],
          "font": {
           "color": "#2a3f5f"
          },
          "geo": {
           "bgcolor": "white",
           "lakecolor": "white",
           "landcolor": "#E5ECF6",
           "showlakes": true,
           "showland": true,
           "subunitcolor": "white"
          },
          "hoverlabel": {
           "align": "left"
          },
          "hovermode": "closest",
          "mapbox": {
           "style": "light"
          },
          "paper_bgcolor": "white",
          "plot_bgcolor": "#E5ECF6",
          "polar": {
           "angularaxis": {
            "gridcolor": "white",
            "linecolor": "white",
            "ticks": ""
           },
           "bgcolor": "#E5ECF6",
           "radialaxis": {
            "gridcolor": "white",
            "linecolor": "white",
            "ticks": ""
           }
          },
          "scene": {
           "xaxis": {
            "backgroundcolor": "#E5ECF6",
            "gridcolor": "white",
            "gridwidth": 2,
            "linecolor": "white",
            "showbackground": true,
            "ticks": "",
            "zerolinecolor": "white"
           },
           "yaxis": {
            "backgroundcolor": "#E5ECF6",
            "gridcolor": "white",
            "gridwidth": 2,
            "linecolor": "white",
            "showbackground": true,
            "ticks": "",
            "zerolinecolor": "white"
           },
           "zaxis": {
            "backgroundcolor": "#E5ECF6",
            "gridcolor": "white",
            "gridwidth": 2,
            "linecolor": "white",
            "showbackground": true,
            "ticks": "",
            "zerolinecolor": "white"
           }
          },
          "shapedefaults": {
           "line": {
            "color": "#2a3f5f"
           }
          },
          "ternary": {
           "aaxis": {
            "gridcolor": "white",
            "linecolor": "white",
            "ticks": ""
           },
           "baxis": {
            "gridcolor": "white",
            "linecolor": "white",
            "ticks": ""
           },
           "bgcolor": "#E5ECF6",
           "caxis": {
            "gridcolor": "white",
            "linecolor": "white",
            "ticks": ""
           }
          },
          "title": {
           "x": 0.05
          },
          "xaxis": {
           "automargin": true,
           "gridcolor": "white",
           "linecolor": "white",
           "ticks": "",
           "title": {
            "standoff": 15
           },
           "zerolinecolor": "white",
           "zerolinewidth": 2
          },
          "yaxis": {
           "automargin": true,
           "gridcolor": "white",
           "linecolor": "white",
           "ticks": "",
           "title": {
            "standoff": 15
           },
           "zerolinecolor": "white",
           "zerolinewidth": 2
          }
         }
        },
        "title": {
         "text": "Top-5 destinations sur les 5 prochains jours"
        }
       }
      }
     },
     "metadata": {},
     "output_type": "display_data"
    },
    {
     "data": {
      "application/vnd.plotly.v1+json": {
       "config": {
        "plotlyServerURL": "https://plot.ly"
       },
       "data": [
        {
         "customdata": [
          [
           "Grenoble",
           45.18928483181276,
           5.7186198234558105,
           "8,9"
          ],
          [
           "Grenoble",
           45.18920402005693,
           5.725372284650803,
           "7,9"
          ],
          [
           "Grenoble",
           45.19089537199886,
           5.719679966568947,
           "7,9"
          ],
          [
           "Grenoble",
           45.19035711261138,
           5.727330967783928,
           "8,2"
          ],
          [
           "Grenoble",
           45.17927340236415,
           5.7343389093875885,
           "8,4"
          ],
          [
           "Grenoble",
           45.191437879382526,
           5.718498453497887,
           "7,9"
          ],
          [
           "Grenoble",
           45.1906950021105,
           5.712595582008362,
           "7,9"
          ],
          [
           "Grenoble",
           45.19079329686088,
           5.716696679592133,
           "8,5"
          ],
          [
           "Grenoble",
           45.18495018003908,
           5.72598980937039,
           "8,3"
          ],
          [
           "Grenoble",
           45.186911,
           5.731293,
           "8,5"
          ],
          [
           "Grenoble",
           45.19085898412344,
           5.715724378824234,
           "8,1"
          ],
          [
           "Grenoble",
           45.17557,
           5.713582,
           "8,5"
          ],
          [
           "Grenoble",
           45.19081503510005,
           5.728548020124435,
           "8,6"
          ],
          [
           "Grenoble",
           45.167883,
           5.71176,
           "8,6"
          ],
          [
           "Grenoble",
           45.195810837764,
           5.725446775394,
           "8,6"
          ],
          [
           "Grenoble",
           45.1910782561633,
           5.715598315000534,
           "8,7"
          ],
          [
           "Grenoble",
           45.16819994402455,
           5.711994767189026,
           "7,8"
          ],
          [
           "Grenoble",
           45.190446523564894,
           5.716857947409153,
           "7,9"
          ],
          [
           "Grenoble",
           45.18410130511121,
           5.732948184013367,
           "8,8"
          ],
          [
           "Grenoble",
           45.186804,
           5.73157,
           "8,9"
          ]
         ],
         "hovertemplate": "<b>%{hovertext}</b><br><br>Note utilisateurs=%{customdata[3]}<extra></extra>",
         "hovertext": [
          "<a href='https://www.booking.com/hotel/fr/royal-grenoble.fr.html?aid=304142&label=gen173nr-1FCAQoggJCD3NlYXJjaF9ncmVub2JsZUgNWARoTYgBAZgBDbgBCsgBBdgBAegBAfgBA4gCAagCA7gCxf_wwQbAAgHSAiRkNTJkODZhNy0yZDZlLTQxMTYtYmJjMC03ODAxNTUwY2I5MDjYAgXgAgE&ucfs=1&arphpl=1&group_adults=2&req_adults=2&no_rooms=1&group_children=0&req_children=0&hpos=1&hapos=1&sr_order=bayesian_review_score&nflt=ht_id%3D204&srpvid=7c1753e2060305ba&srepoch=1748778950&from=searchresults'>1924 Hôtel</a>",
          "<a href='https://www.booking.com/hotel/fr/tiangleterre.fr.html?aid=304142&label=gen173nr-1FCAQoggJCD3NlYXJjaF9ncmVub2JsZUgNWARoTYgBAZgBDbgBCsgBBdgBAegBAfgBA4gCAagCA7gCxf_wwQbAAgHSAiRkNTJkODZhNy0yZDZlLTQxMTYtYmJjMC03ODAxNTUwY2I5MDjYAgXgAgE&ucfs=1&arphpl=1&group_adults=2&req_adults=2&no_rooms=1&group_children=0&req_children=0&hpos=18&hapos=18&sr_order=bayesian_review_score&nflt=ht_id%3D204&srpvid=7c1753e2060305ba&srepoch=1748778950&from=searchresults'>Hôtel d’Angleterre Grenoble Hyper-Centre</a>",
          "<a href='https://www.booking.com/hotel/fr/all-seasons-grenoble-centre-gare-grenoble.fr.html?aid=304142&label=gen173nr-1FCAQoggJCD3NlYXJjaF9ncmVub2JsZUgNWARoTYgBAZgBDbgBCsgBBdgBAegBAfgBA4gCAagCA7gCxf_wwQbAAgHSAiRkNTJkODZhNy0yZDZlLTQxMTYtYmJjMC03ODAxNTUwY2I5MDjYAgXgAgE&ucfs=1&arphpl=1&group_adults=2&req_adults=2&no_rooms=1&group_children=0&req_children=0&hpos=15&hapos=15&sr_order=bayesian_review_score&nflt=ht_id%3D204&srpvid=7c1753e2060305ba&srepoch=1748778950&from_sustainable_property_sr=1&from=searchresults'>ibis Styles Grenoble Centre Gare</a>",
          "<a href='https://www.booking.com/hotel/fr/de-l-europe-grenoble.fr.html?aid=304142&label=gen173nr-1FCAQoggJCD3NlYXJjaF9ncmVub2JsZUgNWARoTYgBAZgBDbgBCsgBBdgBAegBAfgBA4gCAagCA7gCxf_wwQbAAgHSAiRkNTJkODZhNy0yZDZlLTQxMTYtYmJjMC03ODAxNTUwY2I5MDjYAgXgAgE&ucfs=1&arphpl=1&group_adults=2&req_adults=2&no_rooms=1&group_children=0&req_children=0&hpos=13&hapos=13&sr_order=bayesian_review_score&nflt=ht_id%3D204&srpvid=7c1753e2060305ba&srepoch=1748778950&from=searchresults'>Hôtel de l'Europe Grenoble hyper-centre</a>",
          "<a href='https://www.booking.com/hotel/fr/tempologis-grenoble.fr.html?aid=304142&label=gen173nr-1FCAQoggJCD3NlYXJjaF9ncmVub2JsZUgNWARoTYgBAZgBDbgBCsgBBdgBAegBAfgBA4gCAagCA7gCxf_wwQbAAgHSAiRkNTJkODZhNy0yZDZlLTQxMTYtYmJjMC03ODAxNTUwY2I5MDjYAgXgAgE&ucfs=1&arphpl=1&group_adults=2&req_adults=2&no_rooms=1&group_children=0&req_children=0&hpos=11&hapos=11&sr_order=bayesian_review_score&nflt=ht_id%3D204&srpvid=7c1753e2060305ba&srepoch=1748778950&from=searchresults'>Tempologis Grenoble</a>",
          "<a href='https://www.booking.com/hotel/fr/gallia-grenoble.fr.html?aid=304142&label=gen173nr-1FCAQoggJCD3NlYXJjaF9ncmVub2JsZUgNWARoTYgBAZgBDbgBCsgBBdgBAegBAfgBA4gCAagCA7gCxf_wwQbAAgHSAiRkNTJkODZhNy0yZDZlLTQxMTYtYmJjMC03ODAxNTUwY2I5MDjYAgXgAgE&ucfs=1&arphpl=1&group_adults=2&req_adults=2&no_rooms=1&group_children=0&req_children=0&hpos=17&hapos=17&sr_order=bayesian_review_score&nflt=ht_id%3D204&srpvid=7c1753e2060305ba&srepoch=1748778950&from=searchresults'>Hôtel Gloria</a>",
          "<a href='https://www.booking.com/hotel/fr/grenoble-centre.fr.html?aid=304142&label=gen173nr-1FCAQoggJCD3NlYXJjaF9ncmVub2JsZUgNWARoTYgBAZgBDbgBCsgBBdgBAegBAfgBA4gCAagCA7gCxf_wwQbAAgHSAiRkNTJkODZhNy0yZDZlLTQxMTYtYmJjMC03ODAxNTUwY2I5MDjYAgXgAgE&ucfs=1&arphpl=1&group_adults=2&req_adults=2&no_rooms=1&group_children=0&req_children=0&hpos=16&hapos=16&sr_order=bayesian_review_score&nflt=ht_id%3D204&srpvid=7c1753e2060305ba&srepoch=1748778950&from=searchresults'>Novotel Grenoble Centre</a>",
          "<a href='https://www.booking.com/hotel/fr/maison-barbillon-grenoble.fr.html?aid=304142&label=gen173nr-1FCAQoggJCD3NlYXJjaF9ncmVub2JsZUgNWARoTYgBAZgBDbgBCsgBBdgBAegBAfgBA4gCAagCA7gCxf_wwQbAAgHSAiRkNTJkODZhNy0yZDZlLTQxMTYtYmJjMC03ODAxNTUwY2I5MDjYAgXgAgE&ucfs=1&arphpl=1&group_adults=2&req_adults=2&no_rooms=1&group_children=0&req_children=0&hpos=10&hapos=10&sr_order=bayesian_review_score&nflt=ht_id%3D204&srpvid=7c1753e2060305ba&srepoch=1748778950&from=searchresults'>Maison Barbillon Grenoble - Centre Gare</a>",
          "<a href='https://www.booking.com/hotel/fr/okko-hotels-grenoble-jardin-hoche.fr.html?aid=304142&label=gen173nr-1FCAQoggJCD3NlYXJjaF9ncmVub2JsZUgNWARoTYgBAZgBDbgBCsgBBdgBAegBAfgBA4gCAagCA7gCxf_wwQbAAgHSAiRkNTJkODZhNy0yZDZlLTQxMTYtYmJjMC03ODAxNTUwY2I5MDjYAgXgAgE&ucfs=1&arphpl=1&group_adults=2&req_adults=2&no_rooms=1&group_children=0&req_children=0&hpos=12&hapos=12&sr_order=bayesian_review_score&nflt=ht_id%3D204&srpvid=7c1753e2060305ba&srepoch=1748778950&from_sustainable_property_sr=1&from=searchresults'>OKKO Hotels Grenoble Centre</a>",
          "<a href='https://www.booking.com/hotel/fr/rockypop-grenoble.fr.html?aid=304142&label=gen173nr-1FCAQoggJCD3NlYXJjaF9ncmVub2JsZUgNWARoTYgBAZgBDbgBCsgBBdgBAegBAfgBA4gCAagCA7gCxf_wwQbAAgHSAiRkNTJkODZhNy0yZDZlLTQxMTYtYmJjMC03ODAxNTUwY2I5MDjYAgXgAgE&ucfs=1&arphpl=1&group_adults=2&req_adults=2&no_rooms=1&group_children=0&req_children=0&hpos=9&hapos=9&sr_order=bayesian_review_score&nflt=ht_id%3D204&srpvid=7c1753e2060305ba&srepoch=1748778950&from=searchresults'>RockyPop Grenoble Hotel</a>",
          "<a href='https://www.booking.com/hotel/fr/residhotel-le-central-gare.fr.html?aid=304142&label=gen173nr-1FCAQoggJCD3NlYXJjaF9ncmVub2JsZUgNWARoTYgBAZgBDbgBCsgBBdgBAegBAfgBA4gCAagCA7gCxf_wwQbAAgHSAiRkNTJkODZhNy0yZDZlLTQxMTYtYmJjMC03ODAxNTUwY2I5MDjYAgXgAgE&ucfs=1&arphpl=1&group_adults=2&req_adults=2&no_rooms=1&group_children=0&req_children=0&hpos=14&hapos=14&sr_order=bayesian_review_score&nflt=ht_id%3D204&srpvid=7c1753e2060305ba&srepoch=1748778950&from=searchresults'>Residhotel Le Central'Gare</a>",
          "<a href='https://www.booking.com/hotel/fr/la-petite-maison-grenoble1.fr.html?aid=304142&label=gen173nr-1FCAQoggJCD3NlYXJjaF9ncmVub2JsZUgNWARoTYgBAZgBDbgBCsgBBdgBAegBAfgBA4gCAagCA7gCxf_wwQbAAgHSAiRkNTJkODZhNy0yZDZlLTQxMTYtYmJjMC03ODAxNTUwY2I5MDjYAgXgAgE&ucfs=1&arphpl=1&group_adults=2&req_adults=2&no_rooms=1&group_children=0&req_children=0&hpos=8&hapos=8&sr_order=bayesian_review_score&nflt=ht_id%3D204&srpvid=7c1753e2060305ba&srepoch=1748778950&from=searchresults'>La petite Maison</a>",
          "<a href='https://www.booking.com/hotel/fr/le-grand-grenoble-centre.fr.html?aid=304142&label=gen173nr-1FCAQoggJCD3NlYXJjaF9ncmVub2JsZUgNWARoTYgBAZgBDbgBCsgBBdgBAegBAfgBA4gCAagCA7gCxf_wwQbAAgHSAiRkNTJkODZhNy0yZDZlLTQxMTYtYmJjMC03ODAxNTUwY2I5MDjYAgXgAgE&ucfs=1&arphpl=1&group_adults=2&req_adults=2&no_rooms=1&group_children=0&req_children=0&hpos=7&hapos=7&sr_order=bayesian_review_score&nflt=ht_id%3D204&srpvid=7c1753e2060305ba&srepoch=1748778950&from=searchresults'>Le Grand Hôtel Grenoble, BW Premier Collection by Best Western</a>",
          "<a href='https://www.booking.com/hotel/fr/lesdiguieres.fr.html?aid=304142&label=gen173nr-1FCAQoggJCD3NlYXJjaF9ncmVub2JsZUgNWARoTYgBAZgBDbgBCsgBBdgBAegBAfgBA4gCAagCA7gCxf_wwQbAAgHSAiRkNTJkODZhNy0yZDZlLTQxMTYtYmJjMC03ODAxNTUwY2I5MDjYAgXgAgE&ucfs=1&arphpl=1&group_adults=2&req_adults=2&no_rooms=1&group_children=0&req_children=0&hpos=6&hapos=6&sr_order=bayesian_review_score&nflt=ht_id%3D204&srpvid=7c1753e2060305ba&srepoch=1748778950&from=searchresults'>Hôtel restaurant d'application Lesdiguieres - Ecole hôtelière -</a>",
          "<a href='https://www.booking.com/hotel/fr/apt-paisible-en-centre-ville-parking-salle-de-sport-bar-en-rooftop.fr.html?aid=304142&label=gen173nr-1FCAQoggJCD3NlYXJjaF9ncmVub2JsZUgNWARoTYgBAZgBDbgBCsgBBdgBAegBAfgBA4gCAagCA7gCxf_wwQbAAgHSAiRkNTJkODZhNy0yZDZlLTQxMTYtYmJjMC03ODAxNTUwY2I5MDjYAgXgAgE&ucfs=1&arphpl=1&group_adults=2&req_adults=2&no_rooms=1&group_children=0&req_children=0&hpos=5&hapos=5&sr_order=bayesian_review_score&nflt=ht_id%3D204&srpvid=7c1753e2060305ba&srepoch=1748778950&from=searchresults'>The Babel Community Hôtel - Grenoble Bastille</a>",
          "<a href='https://www.booking.com/hotel/fr/hotelterminus.fr.html?aid=304142&label=gen173nr-1FCAQoggJCD3NlYXJjaF9ncmVub2JsZUgNWARoTYgBAZgBDbgBCsgBBdgBAegBAfgBA4gCAagCA7gCxf_wwQbAAgHSAiRkNTJkODZhNy0yZDZlLTQxMTYtYmJjMC03ODAxNTUwY2I5MDjYAgXgAgE&ucfs=1&arphpl=1&group_adults=2&req_adults=2&no_rooms=1&group_children=0&req_children=0&hpos=4&hapos=4&sr_order=bayesian_review_score&nflt=ht_id%3D204&srpvid=7c1753e2060305ba&srepoch=1748778950&from=searchresults'>Hôtel Terminus</a>",
          "<a href='https://www.booking.com/hotel/fr/qualityhotelgrenoble.fr.html?aid=304142&label=gen173nr-1FCAQoggJCD3NlYXJjaF9ncmVub2JsZUgNWARoTYgBAZgBDbgBCsgBBdgBAegBAfgBA4gCAagCA7gCxf_wwQbAAgHSAiRkNTJkODZhNy0yZDZlLTQxMTYtYmJjMC03ODAxNTUwY2I5MDjYAgXgAgE&ucfs=1&arphpl=1&group_adults=2&req_adults=2&no_rooms=1&group_children=0&req_children=0&hpos=20&hapos=20&sr_order=bayesian_review_score&nflt=ht_id%3D204&srpvid=7c1753e2060305ba&srepoch=1748778950&from=searchresults'>Kyriad Grenoble Centre</a>",
          "<a href='https://www.booking.com/hotel/fr/ha-tel-des-alpes.fr.html?aid=304142&label=gen173nr-1FCAQoggJCD3NlYXJjaF9ncmVub2JsZUgNWARoTYgBAZgBDbgBCsgBBdgBAegBAfgBA4gCAagCA7gCxf_wwQbAAgHSAiRkNTJkODZhNy0yZDZlLTQxMTYtYmJjMC03ODAxNTUwY2I5MDjYAgXgAgE&ucfs=1&arphpl=1&group_adults=2&req_adults=2&no_rooms=1&group_children=0&req_children=0&hpos=19&hapos=19&sr_order=bayesian_review_score&nflt=ht_id%3D204&srpvid=7c1753e2060305ba&srepoch=1748778950&from_sustainable_property_sr=1&from=searchresults'>greet hotel Grenoble Centre Gare</a>",
          "<a href='https://www.booking.com/hotel/fr/park-grenoble.fr.html?aid=304142&label=gen173nr-1FCAQoggJCD3NlYXJjaF9ncmVub2JsZUgNWARoTYgBAZgBDbgBCsgBBdgBAegBAfgBA4gCAagCA7gCxf_wwQbAAgHSAiRkNTJkODZhNy0yZDZlLTQxMTYtYmJjMC03ODAxNTUwY2I5MDjYAgXgAgE&ucfs=1&arphpl=1&group_adults=2&req_adults=2&no_rooms=1&group_children=0&req_children=0&hpos=3&hapos=3&sr_order=bayesian_review_score&nflt=ht_id%3D204&srpvid=7c1753e2060305ba&srepoch=1748778950&from=searchresults'>Park Hotel Grenoble - MGallery Collection</a>",
          "<a href='https://www.booking.com/hotel/fr/rockypop-grenoble-appartements.fr.html?aid=304142&label=gen173nr-1FCAQoggJCD3NlYXJjaF9ncmVub2JsZUgNWARoTYgBAZgBDbgBCsgBBdgBAegBAfgBA4gCAagCA7gCxf_wwQbAAgHSAiRkNTJkODZhNy0yZDZlLTQxMTYtYmJjMC03ODAxNTUwY2I5MDjYAgXgAgE&ucfs=1&arphpl=1&group_adults=2&req_adults=2&no_rooms=1&group_children=0&req_children=0&hpos=2&hapos=2&sr_order=bayesian_review_score&nflt=ht_id%3D204&srpvid=7c1753e2060305ba&srepoch=1748778950&from=searchresults'>RockyPop Grenoble Appartements</a>"
         ],
         "lat": {
          "bdata": "4SFBfDqYRkBHNVvWN5hGQLDYcUJvmEZACp0yn12YRkAtGUxu8pZGQO+UUwmBmEZAosmesWiYRkAhKC3qa5hGQB5Uj3Ksl0ZAnyEcs+yXRkCeejMRbphGQFEU6BN5lkZAf6uHoGyYRkD2Rq0wfZVGQAozXFQQmUZAW5mWQHWYRkAiY2WTh5VGQI8sO41gmEZAQk2uoZCXRkCJYYcx6ZdGQA==",
          "dtype": "f8"
         },
         "legendgroup": "Grenoble",
         "lon": {
          "bdata": "AAAA4N3fFkAAAAD+x+YWQAAAAMnz4BZAAAAAc8noFkAAAACK9u8WQAAAAA++3xZAAAAAqLLZFkAAAAC85d0WQIDmYd9p5xZAxyx7EtjsFkAAAADa5twWQJ0OZD212hZAAAAAfgjqFkBiZwqd19gWQDs5/YTb5hZAAAAAzsXcFkAAAAAoFdkWQAAAgAIQ3hZAAAAA+InuFkBa8KKvIO0WQA==",
          "dtype": "f8"
         },
         "marker": {
          "color": "#636efa",
          "opacity": 0.7,
          "size": 20
         },
         "mode": "markers",
         "name": "Grenoble",
         "showlegend": true,
         "subplot": "map",
         "type": "scattermap"
        },
        {
         "customdata": [
          [
           "Cassis",
           43.216440236856805,
           5.541745724536895,
           "9,1"
          ],
          [
           "Cassis",
           43.21457326278473,
           5.540146976709366,
           "8,5"
          ],
          [
           "Cassis",
           43.21443437507463,
           5.535294860601425,
           "8,2"
          ],
          [
           "Cassis",
           43.21622493056339,
           5.542900264263153,
           "8,5"
          ],
          [
           "Cassis",
           43.2145598,
           5.5336574,
           "8,6"
          ],
          [
           "Cassis",
           43.21330449968788,
           5.541915893554688,
           "8,6"
          ],
          [
           "Cassis",
           43.2143536,
           5.538444,
           "8,6"
          ],
          [
           "Cassis",
           43.21403,
           5.53859,
           "8,5"
          ],
          [
           "Cassis",
           43.216217352829,
           5.53802689265,
           "8,7"
          ],
          [
           "Cassis",
           43.21334946052709,
           5.531262829899788,
           "8,8"
          ],
          [
           "Cassis",
           43.29099812814888,
           5.59404194355011,
           "8,8"
          ],
          [
           "Cassis",
           43.21522996680949,
           5.533696934580803,
           "8,5"
          ],
          [
           "Cassis",
           43.18602423666496,
           5.620698643657306,
           "8,9"
          ],
          [
           "Cassis",
           43.211337,
           5.529502,
           "9,0"
          ],
          [
           "Cassis",
           43.18712580093678,
           5.622886419296265,
           "8,9"
          ],
          [
           "Cassis",
           43.23482929900096,
           5.511910519238427,
           "8,0"
          ],
          [
           "Cassis",
           43.213611,
           5.539561,
           "7,2"
          ],
          [
           "Cassis",
           43.21370621383696,
           5.538958087563515,
           "7,9"
          ],
          [
           "Cassis",
           43.221840494518375,
           5.543384896958969,
           "8,0"
          ]
         ],
         "hovertemplate": "<b>%{hovertext}</b><br><br>Note utilisateurs=%{customdata[3]}<extra></extra>",
         "hovertext": [
          "<a href='https://www.booking.com/hotel/fr/hpc-suites.fr.html?aid=304142&label=gen173nr-1FCAQoggJCDXNlYXJjaF9jYXNzaXNIDVgEaE2IAQGYAQ24AQrIAQXYAQHoAQH4AQOIAgGoAgO4AsX_8MEGwAIB0gIkOWIxMjQxYjMtYzMxZi00YjRkLTg0MDQtNDQzNjUwOTY2Zjhi2AIF4AIB&ucfs=1&arphpl=1&group_adults=2&req_adults=2&no_rooms=1&group_children=0&req_children=0&hpos=1&hapos=1&sr_order=bayesian_review_score&nflt=ht_id%3D204&srpvid=6e7b53e2c86c14bd&srepoch=1748778951&from=searchresults'>HPC Suites - Cassis Centre - Parking Gratuit & Piscine Chauffée</a>",
          "<a href='https://www.booking.com/hotel/fr/du-grand-jardin.fr.html?aid=304142&label=gen173nr-1FCAQoggJCDXNlYXJjaF9jYXNzaXNIDVgEaE2IAQGYAQ24AQrIAQXYAQHoAQH4AQOIAgGoAgO4AsX_8MEGwAIB0gIkOWIxMjQxYjMtYzMxZi00YjRkLTg0MDQtNDQzNjUwOTY2Zjhi2AIF4AIB&ucfs=1&arphpl=1&group_adults=2&req_adults=2&no_rooms=1&group_children=0&req_children=0&hpos=10&hapos=10&sr_order=bayesian_review_score&nflt=ht_id%3D204&srpvid=6e7b53e2c86c14bd&srepoch=1748778951&from=searchresults'>Best Western Hotel & SPA Coeur De Cassis</a>",
          "<a href='https://www.booking.com/hotel/fr/le-golfe-cassis.fr.html?aid=304142&label=gen173nr-1FCAQoggJCDXNlYXJjaF9jYXNzaXNIDVgEaE2IAQGYAQ24AQrIAQXYAQHoAQH4AQOIAgGoAgO4AsX_8MEGwAIB0gIkOWIxMjQxYjMtYzMxZi00YjRkLTg0MDQtNDQzNjUwOTY2Zjhi2AIF4AIB&ucfs=1&arphpl=1&group_adults=2&req_adults=2&no_rooms=1&group_children=0&req_children=0&hpos=12&hapos=12&sr_order=bayesian_review_score&nflt=ht_id%3D204&srpvid=6e7b53e2c86c14bd&srepoch=1748778951&from=searchresults'>Hotel Le Golfe</a>",
          "<a href='https://www.booking.com/hotel/fr/royal-cottage.fr.html?aid=304142&label=gen173nr-1FCAQoggJCDXNlYXJjaF9jYXNzaXNIDVgEaE2IAQGYAQ24AQrIAQXYAQHoAQH4AQOIAgGoAgO4AsX_8MEGwAIB0gIkOWIxMjQxYjMtYzMxZi00YjRkLTg0MDQtNDQzNjUwOTY2Zjhi2AIF4AIB&ucfs=1&arphpl=1&group_adults=2&req_adults=2&no_rooms=1&group_children=0&req_children=0&hpos=9&hapos=9&sr_order=bayesian_review_score&nflt=ht_id%3D204&srpvid=6e7b53e2c86c14bd&srepoch=1748778951&from=searchresults'>Royal Cottage</a>",
          "<a href='https://www.booking.com/hotel/fr/le-jardin-d-emile.fr.html?aid=304142&label=gen173nr-1FCAQoggJCDXNlYXJjaF9jYXNzaXNIDVgEaE2IAQGYAQ24AQrIAQXYAQHoAQH4AQOIAgGoAgO4AsX_8MEGwAIB0gIkOWIxMjQxYjMtYzMxZi00YjRkLTg0MDQtNDQzNjUwOTY2Zjhi2AIF4AIB&ucfs=1&arphpl=1&group_adults=2&req_adults=2&no_rooms=1&group_children=0&req_children=0&hpos=8&hapos=8&sr_order=bayesian_review_score&nflt=ht_id%3D204&srpvid=6e7b53e2c86c14bd&srepoch=1748778951&from=searchresults'>Le Jardin d'Emile</a>",
          "<a href='https://www.booking.com/hotel/fr/ha-tel-de-france-maguy.fr.html?aid=304142&label=gen173nr-1FCAQoggJCDXNlYXJjaF9jYXNzaXNIDVgEaE2IAQGYAQ24AQrIAQXYAQHoAQH4AQOIAgGoAgO4AsX_8MEGwAIB0gIkOWIxMjQxYjMtYzMxZi00YjRkLTg0MDQtNDQzNjUwOTY2Zjhi2AIF4AIB&ucfs=1&arphpl=1&group_adults=2&req_adults=2&no_rooms=1&group_children=0&req_children=0&hpos=6&hapos=6&sr_order=bayesian_review_score&nflt=ht_id%3D204&srpvid=6e7b53e2c86c14bd&srepoch=1748778951&from=searchresults'>Hôtel Eden Cassis - centre-ville- piscine chauffée, jacuzzi et sauna - parking privé</a>",
          "<a href='https://www.booking.com/hotel/fr/by-reboul.fr.html?aid=304142&label=gen173nr-1FCAQoggJCDXNlYXJjaF9jYXNzaXNIDVgEaE2IAQGYAQ24AQrIAQXYAQHoAQH4AQOIAgGoAgO4AsX_8MEGwAIB0gIkOWIxMjQxYjMtYzMxZi00YjRkLTg0MDQtNDQzNjUwOTY2Zjhi2AIF4AIB&ucfs=1&arphpl=1&group_adults=2&req_adults=2&no_rooms=1&group_children=0&req_children=0&hpos=5&hapos=5&sr_order=bayesian_review_score&nflt=ht_id%3D204&srpvid=6e7b53e2c86c14bd&srepoch=1748778951&from=searchresults'>HOTEL by REBOUL - Boutique Hôtel Cassis</a>",
          "<a href='https://www.booking.com/hotel/fr/liautaud.fr.html?aid=304142&label=gen173nr-1FCAQoggJCDXNlYXJjaF9jYXNzaXNIDVgEaE2IAQGYAQ24AQrIAQXYAQHoAQH4AQOIAgGoAgO4AsX_8MEGwAIB0gIkOWIxMjQxYjMtYzMxZi00YjRkLTg0MDQtNDQzNjUwOTY2Zjhi2AIF4AIB&ucfs=1&arphpl=1&group_adults=2&req_adults=2&no_rooms=1&group_children=0&req_children=0&hpos=7&hapos=7&sr_order=bayesian_review_score&nflt=ht_id%3D204&srpvid=6e7b53e2c86c14bd&srepoch=1748778951&from=searchresults'>Hôtel Liautaud Rooftop Cassis</a>",
          "<a href='https://www.booking.com/hotel/fr/le-clos-des-aromes-cassis.fr.html?aid=304142&label=gen173nr-1FCAQoggJCDXNlYXJjaF9jYXNzaXNIDVgEaE2IAQGYAQ24AQrIAQXYAQHoAQH4AQOIAgGoAgO4AsX_8MEGwAIB0gIkOWIxMjQxYjMtYzMxZi00YjRkLTg0MDQtNDQzNjUwOTY2Zjhi2AIF4AIB&ucfs=1&arphpl=1&group_adults=2&req_adults=2&no_rooms=1&group_children=0&req_children=0&hpos=4&hapos=4&sr_order=bayesian_review_score&nflt=ht_id%3D204&srpvid=6e7b53e2c86c14bd&srepoch=1748778951&from=searchresults'>LE CLOS DES ARÔMES</a>",
          "<a href='https://www.booking.com/hotel/fr/de-la-plage-cassis.fr.html?aid=304142&label=gen173nr-1FCAQoggJCDXNlYXJjaF9jYXNzaXNIDVgEaE2IAQGYAQ24AQrIAQXYAQHoAQH4AQOIAgGoAgO4AsX_8MEGwAIB0gIkOWIxMjQxYjMtYzMxZi00YjRkLTg0MDQtNDQzNjUwOTY2Zjhi2AIF4AIB&ucfs=1&arphpl=1&group_adults=2&req_adults=2&no_rooms=1&group_children=0&req_children=0&hpos=3&hapos=3&sr_order=bayesian_review_score&nflt=ht_id%3D204&srpvid=6e7b53e2c86c14bd&srepoch=1748778951&from=searchresults'>Hotel de La Plage - Mahogany</a>",
          "<a href='https://www.booking.com/hotel/fr/lerelaisdaubagne.fr.html?aid=304142&label=gen173nr-1FCAQoggJCDXNlYXJjaF9jYXNzaXNIDVgEaE2IAQGYAQ24AQrIAQXYAQHoAQH4AQOIAgGoAgO4AsX_8MEGwAIB0gIkOWIxMjQxYjMtYzMxZi00YjRkLTg0MDQtNDQzNjUwOTY2Zjhi2AIF4AIB&ucfs=1&arphpl=1&group_adults=2&req_adults=2&no_rooms=1&group_children=0&req_children=0&hpos=20&hapos=20&sr_order=bayesian_review_score&nflt=ht_id%3D204&srpvid=6e7b53e2c86c14bd&srepoch=1748778951&from=searchresults'>Hôtel Le Relais des Brasseurs - Aubagne</a>",
          "<a href='https://www.booking.com/hotel/fr/la-rade-cassis.fr.html?aid=304142&label=gen173nr-1FCAQoggJCDXNlYXJjaF9jYXNzaXNIDVgEaE2IAQGYAQ24AQrIAQXYAQHoAQH4AQOIAgGoAgO4AsX_8MEGwAIB0gIkOWIxMjQxYjMtYzMxZi00YjRkLTg0MDQtNDQzNjUwOTY2Zjhi2AIF4AIB&ucfs=1&arphpl=1&group_adults=2&req_adults=2&no_rooms=1&group_children=0&req_children=0&hpos=11&hapos=11&sr_order=bayesian_review_score&nflt=ht_id%3D204&srpvid=6e7b53e2c86c14bd&srepoch=1748778951&from_sustainable_property_sr=1&from=searchresults'>Best Western Plus Hôtel la Rade</a>",
          "<a href='https://www.booking.com/hotel/fr/a-deux-pas-de-l-39-eau.fr.html?aid=304142&label=gen173nr-1FCAQoggJCDXNlYXJjaF9jYXNzaXNIDVgEaE2IAQGYAQ24AQrIAQXYAQHoAQH4AQOIAgGoAgO4AsX_8MEGwAIB0gIkOWIxMjQxYjMtYzMxZi00YjRkLTg0MDQtNDQzNjUwOTY2Zjhi2AIF4AIB&ucfs=1&arphpl=1&group_adults=2&req_adults=2&no_rooms=1&group_children=0&req_children=0&hpos=18&hapos=18&sr_order=bayesian_review_score&nflt=ht_id%3D204&srpvid=6e7b53e2c86c14bd&srepoch=1748778951&from=searchresults'>Hotel La Ciotat - A deux pas de l'eau</a>",
          "<a href='https://www.booking.com/hotel/fr/des-roches-blanches.fr.html?aid=304142&label=gen173nr-1FCAQoggJCDXNlYXJjaF9jYXNzaXNIDVgEaE2IAQGYAQ24AQrIAQXYAQHoAQH4AQOIAgGoAgO4AsX_8MEGwAIB0gIkOWIxMjQxYjMtYzMxZi00YjRkLTg0MDQtNDQzNjUwOTY2Zjhi2AIF4AIB&ucfs=1&arphpl=1&group_adults=2&req_adults=2&no_rooms=1&group_children=0&req_children=0&hpos=2&hapos=2&sr_order=bayesian_review_score&nflt=ht_id%3D204&srpvid=6e7b53e2c86c14bd&srepoch=1748778951&from_sustainable_property_sr=1&from=searchresults'>Hôtel Les Roches Blanches Cassis</a>",
          "<a href='https://www.booking.com/hotel/fr/rose-the-la-ciotat.fr.html?aid=304142&label=gen173nr-1FCAQoggJCDXNlYXJjaF9jYXNzaXNIDVgEaE2IAQGYAQ24AQrIAQXYAQHoAQH4AQOIAgGoAgO4AsX_8MEGwAIB0gIkOWIxMjQxYjMtYzMxZi00YjRkLTg0MDQtNDQzNjUwOTY2Zjhi2AIF4AIB&ucfs=1&arphpl=1&group_adults=2&req_adults=2&no_rooms=1&group_children=0&req_children=0&hpos=19&hapos=19&sr_order=bayesian_review_score&nflt=ht_id%3D204&srpvid=6e7b53e2c86c14bd&srepoch=1748778951&from=searchresults'>Le Rose Thé</a>",
          "<a href='https://www.booking.com/hotel/fr/du-joli-bois-cassis.fr.html?aid=304142&label=gen173nr-1FCAQoggJCDXNlYXJjaF9jYXNzaXNIDVgEaE2IAQGYAQ24AQrIAQXYAQHoAQH4AQOIAgGoAgO4AsX_8MEGwAIB0gIkOWIxMjQxYjMtYzMxZi00YjRkLTg0MDQtNDQzNjUwOTY2Zjhi2AIF4AIB&ucfs=1&arphpl=1&group_adults=2&req_adults=2&no_rooms=1&group_children=0&req_children=0&hpos=14&hapos=14&sr_order=bayesian_review_score&nflt=ht_id%3D204&srpvid=6e7b53e2c86c14bd&srepoch=1748778951&from_sustainable_property_sr=1&from=searchresults'>HôTEL LES VOLETS ROUGES - CASSIS</a>",
          "<a href='https://www.booking.com/hotel/fr/des-calanques.fr.html?aid=304142&label=gen173nr-1FCAQoggJCDXNlYXJjaF9jYXNzaXNIDVgEaE2IAQGYAQ24AQrIAQXYAQHoAQH4AQOIAgGoAgO4AsX_8MEGwAIB0gIkOWIxMjQxYjMtYzMxZi00YjRkLTg0MDQtNDQzNjUwOTY2Zjhi2AIF4AIB&ucfs=1&arphpl=1&group_adults=2&req_adults=2&no_rooms=1&group_children=0&req_children=0&hpos=16&hapos=16&sr_order=bayesian_review_score&nflt=ht_id%3D204&srpvid=6e7b53e2c86c14bd&srepoch=1748778951&from=searchresults'>HOTEL DES CALANQUES</a>",
          "<a href='https://www.booking.com/hotel/fr/interhotel-cassitel.fr.html?aid=304142&label=gen173nr-1FCAQoggJCDXNlYXJjaF9jYXNzaXNIDVgEaE2IAQGYAQ24AQrIAQXYAQHoAQH4AQOIAgGoAgO4AsX_8MEGwAIB0gIkOWIxMjQxYjMtYzMxZi00YjRkLTg0MDQtNDQzNjUwOTY2Zjhi2AIF4AIB&ucfs=1&arphpl=1&group_adults=2&req_adults=2&no_rooms=1&group_children=0&req_children=0&hpos=15&hapos=15&sr_order=bayesian_review_score&nflt=ht_id%3D204&srpvid=6e7b53e2c86c14bd&srepoch=1748778951&from=searchresults'>The Originals Boutique, Hôtel Cassitel, Cassis</a>",
          "<a href='https://www.booking.com/hotel/fr/les-jardins-de-cassis.fr.html?aid=304142&label=gen173nr-1FCAQoggJCDXNlYXJjaF9jYXNzaXNIDVgEaE2IAQGYAQ24AQrIAQXYAQHoAQH4AQOIAgGoAgO4AsX_8MEGwAIB0gIkOWIxMjQxYjMtYzMxZi00YjRkLTg0MDQtNDQzNjUwOTY2Zjhi2AIF4AIB&ucfs=1&arphpl=1&group_adults=2&req_adults=2&no_rooms=1&group_children=0&req_children=0&hpos=13&hapos=13&sr_order=bayesian_review_score&nflt=ht_id%3D204&srpvid=6e7b53e2c86c14bd&srepoch=1748778951&from=searchresults'>Les Jardins de Cassis - Parking Gratuit & Piscine Chauffée</a>"
         ],
         "lat": {
          "bdata": "U2tNULSbRUDTIP0id5tFQLgK6pVym0VAwawuQq2bRUCmBA6ydptFQOIf1Y9Nm0VA0+NS8G+bRUBzLsVVZZtFQDednQKtm0VAo8r9CE+bRUBfzDltP6VFQHBI0qeMm0VApF5mpM+XRUCmtz8XDZtFQHKh/bzzl0VABa3v4g6eRUBuiPGaV5tFQNywp7lam0VARHHyRGWcRUA=",
          "dtype": "f8"
         },
         "legendgroup": "Cassis",
         "lon": {
          "bdata": "AIkmZL8qFkAAAABKHCkWQAAAAFYkJBZAAAAADO4rFkDVEuEVdyIWQAEAAADsKhZA4ugq3V0nFkCBzw8jhCcWQHUzkYXwJhZAAAAAXQMgFkAAAACITGAWQAAAAHOBIhZAALjcbJh7FkCXqrTFNR4WQAAAAPDVfRZAAG5qRTIMFkDJycStgigWQAAAAKHkJxZAAFEmF20sFkA=",
          "dtype": "f8"
         },
         "marker": {
          "color": "#EF553B",
          "opacity": 0.7,
          "size": 20
         },
         "mode": "markers",
         "name": "Cassis",
         "showlegend": true,
         "subplot": "map",
         "type": "scattermap"
        },
        {
         "customdata": [
          [
           "Aix en Provence",
           43.543436200731,
           5.3736957,
           "9,3"
          ],
          [
           "Aix en Provence",
           43.52551655199661,
           5.450152158737183,
           "9,3"
          ],
          [
           "Aix en Provence",
           43.536101030690894,
           5.448788137561678,
           "9,2"
          ],
          [
           "Aix en Provence",
           43.4964012,
           5.394397400000003,
           "8,6"
          ],
          [
           "Aix en Provence",
           43.53126359885809,
           5.445070043206215,
           "8,6"
          ],
          [
           "Aix en Provence",
           43.5247755,
           5.45022449999999,
           "9,0"
          ],
          [
           "Aix en Provence",
           43.5320856,
           5.4515111,
           "8,8"
          ],
          [
           "Aix en Provence",
           43.52116980487331,
           5.496597290039063,
           "9,0"
          ],
          [
           "Aix en Provence",
           43.52356201318332,
           5.445937067270279,
           "8,7"
          ],
          [
           "Aix en Provence",
           43.56879,
           5.47851,
           "9,1"
          ],
          [
           "Aix en Provence",
           43.5435822569446,
           5.373438234640503,
           "9,2"
          ],
          [
           "Aix en Provence",
           43.523068,
           5.457699,
           "9,2"
          ],
          [
           "Aix en Provence",
           43.5433646,
           5.3736497,
           "9,4"
          ],
          [
           "Aix en Provence",
           43.52890621393209,
           5.440869033336639,
           "8,4"
          ],
          [
           "Aix en Provence",
           43.53004967137571,
           5.444146692752838,
           "8,4"
          ],
          [
           "Aix en Provence",
           43.53336324193778,
           5.446056425571442,
           "8,5"
          ],
          [
           "Aix en Provence",
           43.52468223421984,
           5.450389534235001,
           "9,6"
          ],
          [
           "Aix en Provence",
           43.5255987,
           5.45172079999998,
           "8,6"
          ],
          [
           "Aix en Provence",
           43.584479258998,
           5.3893879540102905,
           "9,7"
          ],
          [
           "Aix en Provence",
           43.52332474147478,
           5.449725687503815,
           "8,4"
          ]
         ],
         "hovertemplate": "<b>%{hovertext}</b><br><br>Note utilisateurs=%{customdata[3]}<extra></extra>",
         "hovertext": [
          "<a href='https://www.booking.com/hotel/fr/sweet-home-studio-aix-en-provence-terrasse-piscine-resto.fr.html?aid=304142&label=gen173nr-1FCAQoggJCFnNlYXJjaF9haXggZW4gcHJvdmVuY2VIDVgEaE2IAQGYAQ24AQrIAQXYAQHoAQH4AQOIAgGoAgO4AsX_8MEGwAIB0gIkNTE4ZjMyOTctZTUwZC00MjYwLWE5YjgtNzc0OTIzODUyMjE22AIF4AIB&ucfs=1&arphpl=1&group_adults=2&req_adults=2&no_rooms=1&group_children=0&req_children=0&hpos=1&hapos=1&sr_order=bayesian_review_score&nflt=ht_id%3D204&srpvid=725b53e26aa1092b&srepoch=1748778950&from=searchresults'>Sweet Home studio Aix en Provence, terrasse, piscine, resto,</a>",
          "<a href='https://www.booking.com/hotel/fr/maison-dauphine.fr.html?aid=304142&label=gen173nr-1FCAQoggJCFnNlYXJjaF9haXggZW4gcHJvdmVuY2VIDVgEaE2IAQGYAQ24AQrIAQXYAQHoAQH4AQOIAgGoAgO4AsX_8MEGwAIB0gIkNTE4ZjMyOTctZTUwZC00MjYwLWE5YjgtNzc0OTIzODUyMjE22AIF4AIB&ucfs=1&arphpl=1&group_adults=2&req_adults=2&no_rooms=1&group_children=0&req_children=0&hpos=8&hapos=8&sr_order=bayesian_review_score&nflt=ht_id%3D204&srpvid=725b53e26aa1092b&srepoch=1748778950&from=searchresults'>Maison Dauphine</a>",
          "<a href='https://www.booking.com/hotel/fr/villagallici.fr.html?aid=304142&label=gen173nr-1FCAQoggJCFnNlYXJjaF9haXggZW4gcHJvdmVuY2VIDVgEaE2IAQGYAQ24AQrIAQXYAQHoAQH4AQOIAgGoAgO4AsX_8MEGwAIB0gIkNTE4ZjMyOTctZTUwZC00MjYwLWE5YjgtNzc0OTIzODUyMjE22AIF4AIB&ucfs=1&arphpl=1&group_adults=2&req_adults=2&no_rooms=1&group_children=0&req_children=0&hpos=6&hapos=6&sr_order=bayesian_review_score&nflt=ht_id%3D204&srpvid=725b53e26aa1092b&srepoch=1748778950&from=searchresults'>Villa Gallici Hôtel & Spa</a>",
          "<a href='https://www.booking.com/hotel/fr/domaine-and-cie.fr.html?aid=304142&label=gen173nr-1FCAQoggJCFnNlYXJjaF9haXggZW4gcHJvdmVuY2VIDVgEaE2IAQGYAQ24AQrIAQXYAQHoAQH4AQOIAgGoAgO4AsX_8MEGwAIB0gIkNTE4ZjMyOTctZTUwZC00MjYwLWE5YjgtNzc0OTIzODUyMjE22AIF4AIB&ucfs=1&arphpl=1&group_adults=2&req_adults=2&no_rooms=1&group_children=0&req_children=0&hpos=13&hapos=13&sr_order=bayesian_review_score&nflt=ht_id%3D204&srpvid=725b53e26aa1092b&srepoch=1748778950&from=searchresults'>Domaine Gaogaia</a>",
          "<a href='https://www.booking.com/hotel/fr/hotel-aquabella.fr.html?aid=304142&label=gen173nr-1FCAQoggJCFnNlYXJjaF9haXggZW4gcHJvdmVuY2VIDVgEaE2IAQGYAQ24AQrIAQXYAQHoAQH4AQOIAgGoAgO4AsX_8MEGwAIB0gIkNTE4ZjMyOTctZTUwZC00MjYwLWE5YjgtNzc0OTIzODUyMjE22AIF4AIB&ucfs=1&arphpl=1&group_adults=2&req_adults=2&no_rooms=1&group_children=0&req_children=0&hpos=12&hapos=12&sr_order=bayesian_review_score&nflt=ht_id%3D204&srpvid=725b53e26aa1092b&srepoch=1748778950&from=searchresults'>Aquabella Hôtel & Spa</a>",
          "<a href='https://www.booking.com/hotel/fr/particulier-28-a-aix-aix-en-provence1.fr.html?aid=304142&label=gen173nr-1FCAQoggJCFnNlYXJjaF9haXggZW4gcHJvdmVuY2VIDVgEaE2IAQGYAQ24AQrIAQXYAQHoAQH4AQOIAgGoAgO4AsX_8MEGwAIB0gIkNTE4ZjMyOTctZTUwZC00MjYwLWE5YjgtNzc0OTIzODUyMjE22AIF4AIB&ucfs=1&arphpl=1&group_adults=2&req_adults=2&no_rooms=1&group_children=0&req_children=0&hpos=10&hapos=10&sr_order=bayesian_review_score&nflt=ht_id%3D204&srpvid=725b53e26aa1092b&srepoch=1748778950&from=searchresults'>Hôtel Particulier le 28</a>",
          "<a href='https://www.booking.com/hotel/fr/bellegarde-aix-en-provence.fr.html?aid=304142&label=gen173nr-1FCAQoggJCFnNlYXJjaF9haXggZW4gcHJvdmVuY2VIDVgEaE2IAQGYAQ24AQrIAQXYAQHoAQH4AQOIAgGoAgO4AsX_8MEGwAIB0gIkNTE4ZjMyOTctZTUwZC00MjYwLWE5YjgtNzc0OTIzODUyMjE22AIF4AIB&ucfs=1&arphpl=1&group_adults=2&req_adults=2&no_rooms=1&group_children=0&req_children=0&hpos=9&hapos=9&sr_order=bayesian_review_score&nflt=ht_id%3D204&srpvid=725b53e26aa1092b&srepoch=1748778950&from=searchresults'>Hôtel Bellegarde by Viktor</a>",
          "<a href='https://www.booking.com/hotel/fr/les-lodges-sainte-victoire.fr.html?aid=304142&label=gen173nr-1FCAQoggJCFnNlYXJjaF9haXggZW4gcHJvdmVuY2VIDVgEaE2IAQGYAQ24AQrIAQXYAQHoAQH4AQOIAgGoAgO4AsX_8MEGwAIB0gIkNTE4ZjMyOTctZTUwZC00MjYwLWE5YjgtNzc0OTIzODUyMjE22AIF4AIB&ucfs=1&arphpl=1&group_adults=2&req_adults=2&no_rooms=1&group_children=0&req_children=0&hpos=7&hapos=7&sr_order=bayesian_review_score&nflt=ht_id%3D204&srpvid=725b53e26aa1092b&srepoch=1748778950&from=searchresults'>Les Lodges Sainte-Victoire Hotel & Spa</a>",
          "<a href='https://www.booking.com/hotel/fr/cezanne-aix-en-provence.fr.html?aid=304142&label=gen173nr-1FCAQoggJCFnNlYXJjaF9haXggZW4gcHJvdmVuY2VIDVgEaE2IAQGYAQ24AQrIAQXYAQHoAQH4AQOIAgGoAgO4AsX_8MEGwAIB0gIkNTE4ZjMyOTctZTUwZC00MjYwLWE5YjgtNzc0OTIzODUyMjE22AIF4AIB&ucfs=1&arphpl=1&group_adults=2&req_adults=2&no_rooms=1&group_children=0&req_children=0&hpos=11&hapos=11&sr_order=bayesian_review_score&nflt=ht_id%3D204&srpvid=725b53e26aa1092b&srepoch=1748778950&from=searchresults'>Hôtel Boutique Cézanne centre Aix-en-Provence</a>",
          "<a href='https://www.booking.com/hotel/fr/chateau-de-la-gaude.fr.html?aid=304142&label=gen173nr-1FCAQoggJCFnNlYXJjaF9haXggZW4gcHJvdmVuY2VIDVgEaE2IAQGYAQ24AQrIAQXYAQHoAQH4AQOIAgGoAgO4AsX_8MEGwAIB0gIkNTE4ZjMyOTctZTUwZC00MjYwLWE5YjgtNzc0OTIzODUyMjE22AIF4AIB&ucfs=1&arphpl=1&group_adults=2&req_adults=2&no_rooms=1&group_children=0&req_children=0&hpos=5&hapos=5&sr_order=bayesian_review_score&nflt=ht_id%3D204&srpvid=725b53e26aa1092b&srepoch=1748778950&from=searchresults'>Château de la Gaude</a>",
          "<a href='https://www.booking.com/hotel/fr/nuitee-en-provence.fr.html?aid=304142&label=gen173nr-1FCAQoggJCFnNlYXJjaF9haXggZW4gcHJvdmVuY2VIDVgEaE2IAQGYAQ24AQrIAQXYAQHoAQH4AQOIAgGoAgO4AsX_8MEGwAIB0gIkNTE4ZjMyOTctZTUwZC00MjYwLWE5YjgtNzc0OTIzODUyMjE22AIF4AIB&ucfs=1&arphpl=1&group_adults=2&req_adults=2&no_rooms=1&group_children=0&req_children=0&hpos=4&hapos=4&sr_order=bayesian_review_score&nflt=ht_id%3D204&srpvid=725b53e26aa1092b&srepoch=1748778950&from=searchresults'>Studios Nuitée en Provence</a>",
          "<a href='https://www.booking.com/hotel/fr/villa-saint-ange.fr.html?aid=304142&label=gen173nr-1FCAQoggJCFnNlYXJjaF9haXggZW4gcHJvdmVuY2VIDVgEaE2IAQGYAQ24AQrIAQXYAQHoAQH4AQOIAgGoAgO4AsX_8MEGwAIB0gIkNTE4ZjMyOTctZTUwZC00MjYwLWE5YjgtNzc0OTIzODUyMjE22AIF4AIB&ucfs=1&arphpl=1&group_adults=2&req_adults=2&no_rooms=1&group_children=0&req_children=0&hpos=3&hapos=3&sr_order=bayesian_review_score&nflt=ht_id%3D204&srpvid=725b53e26aa1092b&srepoch=1748778950&from=searchresults'>Villa Saint-Ange</a>",
          "<a href='https://www.booking.com/hotel/fr/residence-adonis.fr.html?aid=304142&label=gen173nr-1FCAQoggJCFnNlYXJjaF9haXggZW4gcHJvdmVuY2VIDVgEaE2IAQGYAQ24AQrIAQXYAQHoAQH4AQOIAgGoAgO4AsX_8MEGwAIB0gIkNTE4ZjMyOTctZTUwZC00MjYwLWE5YjgtNzc0OTIzODUyMjE22AIF4AIB&ucfs=1&arphpl=1&group_adults=2&req_adults=2&no_rooms=1&group_children=0&req_children=0&hpos=2&hapos=2&sr_order=bayesian_review_score&nflt=ht_id%3D204&srpvid=725b53e26aa1092b&srepoch=1748778950&from=searchresults'>Studio Nuitée en Provence 2</a>",
          "<a href='https://www.booking.com/hotel/fr/pierre-vacances-city-centre.fr.html?aid=304142&label=gen173nr-1FCAQoggJCFnNlYXJjaF9haXggZW4gcHJvdmVuY2VIDVgEaE2IAQGYAQ24AQrIAQXYAQHoAQH4AQOIAgGoAgO4AsX_8MEGwAIB0gIkNTE4ZjMyOTctZTUwZC00MjYwLWE5YjgtNzc0OTIzODUyMjE22AIF4AIB&ucfs=1&arphpl=1&group_adults=2&req_adults=2&no_rooms=1&group_children=0&req_children=0&hpos=19&hapos=19&sr_order=bayesian_review_score&nflt=ht_id%3D204&srpvid=725b53e26aa1092b&srepoch=1748778950&from_sustainable_property_sr=1&from=searchresults'>Aparthotel Adagio Aix-en-Provence Centre</a>",
          "<a href='https://www.booking.com/hotel/fr/hotel-escaletto.fr.html?aid=304142&label=gen173nr-1FCAQoggJCFnNlYXJjaF9haXggZW4gcHJvdmVuY2VIDVgEaE2IAQGYAQ24AQrIAQXYAQHoAQH4AQOIAgGoAgO4AsX_8MEGwAIB0gIkNTE4ZjMyOTctZTUwZC00MjYwLWE5YjgtNzc0OTIzODUyMjE22AIF4AIB&ucfs=1&arphpl=1&group_adults=2&req_adults=2&no_rooms=1&group_children=0&req_children=0&hpos=17&hapos=17&sr_order=bayesian_review_score&nflt=ht_id%3D204&srpvid=725b53e26aa1092b&srepoch=1748778950&from_sustainable_property_sr=1&from=searchresults'>Hôtel Escaletto</a>",
          "<a href='https://www.booking.com/hotel/fr/paul.fr.html?aid=304142&label=gen173nr-1FCAQoggJCFnNlYXJjaF9haXggZW4gcHJvdmVuY2VIDVgEaE2IAQGYAQ24AQrIAQXYAQHoAQH4AQOIAgGoAgO4AsX_8MEGwAIB0gIkNTE4ZjMyOTctZTUwZC00MjYwLWE5YjgtNzc0OTIzODUyMjE22AIF4AIB&ucfs=1&arphpl=1&group_adults=2&req_adults=2&no_rooms=1&group_children=0&req_children=0&hpos=18&hapos=18&sr_order=bayesian_review_score&nflt=ht_id%3D204&srpvid=725b53e26aa1092b&srepoch=1748778950&from=searchresults'>Hôtel Paul</a>",
          "<a href='https://www.booking.com/hotel/fr/la-maison-d-aix.fr.html?aid=304142&label=gen173nr-1FCAQoggJCFnNlYXJjaF9haXggZW4gcHJvdmVuY2VIDVgEaE2IAQGYAQ24AQrIAQXYAQHoAQH4AQOIAgGoAgO4AsX_8MEGwAIB0gIkNTE4ZjMyOTctZTUwZC00MjYwLWE5YjgtNzc0OTIzODUyMjE22AIF4AIB&ucfs=1&arphpl=1&group_adults=2&req_adults=2&no_rooms=1&group_children=0&req_children=0&hpos=16&hapos=16&sr_order=bayesian_review_score&nflt=ht_id%3D204&srpvid=725b53e26aa1092b&srepoch=1748778950&from=searchresults'>La Maison d'Aix 1785 - Hôtel Particulier & Spa</a>",
          "<a href='https://www.booking.com/hotel/fr/cardinal.fr.html?aid=304142&label=gen173nr-1FCAQoggJCFnNlYXJjaF9haXggZW4gcHJvdmVuY2VIDVgEaE2IAQGYAQ24AQrIAQXYAQHoAQH4AQOIAgGoAgO4AsX_8MEGwAIB0gIkNTE4ZjMyOTctZTUwZC00MjYwLWE5YjgtNzc0OTIzODUyMjE22AIF4AIB&ucfs=1&arphpl=1&group_adults=2&req_adults=2&no_rooms=1&group_children=0&req_children=0&hpos=15&hapos=15&sr_order=bayesian_review_score&nflt=ht_id%3D204&srpvid=725b53e26aa1092b&srepoch=1748778950&from=searchresults'>Hotel Cardinal</a>",
          "<a href='https://www.booking.com/hotel/fr/oasis-de-grand-ma.fr.html?aid=304142&label=gen173nr-1FCAQoggJCFnNlYXJjaF9haXggZW4gcHJvdmVuY2VIDVgEaE2IAQGYAQ24AQrIAQXYAQHoAQH4AQOIAgGoAgO4AsX_8MEGwAIB0gIkNTE4ZjMyOTctZTUwZC00MjYwLWE5YjgtNzc0OTIzODUyMjE22AIF4AIB&ucfs=1&arphpl=1&group_adults=2&req_adults=2&no_rooms=1&group_children=0&req_children=0&hpos=14&hapos=14&sr_order=bayesian_review_score&nflt=ht_id%3D204&srpvid=725b53e26aa1092b&srepoch=1748778950&from=searchresults'>l'Oasis de Grand'Ma</a>",
          "<a href='https://www.booking.com/hotel/fr/grand-mercure-roi-rene.fr.html?aid=304142&label=gen173nr-1FCAQoggJCFnNlYXJjaF9haXggZW4gcHJvdmVuY2VIDVgEaE2IAQGYAQ24AQrIAQXYAQHoAQH4AQOIAgGoAgO4AsX_8MEGwAIB0gIkNTE4ZjMyOTctZTUwZC00MjYwLWE5YjgtNzc0OTIzODUyMjE22AIF4AIB&ucfs=1&arphpl=1&group_adults=2&req_adults=2&no_rooms=1&group_children=0&req_children=0&hpos=20&hapos=20&sr_order=bayesian_review_score&nflt=ht_id%3D204&srpvid=725b53e26aa1092b&srepoch=1748778950&from_sustainable_property_sr=1&from=searchresults'>Grand Hôtel Roi René Aix - MGallery Collection</a>"
         ],
         "lat": {
          "bdata": "E81CUY/FRUCDKlogRMNFQKsVZfWexEVA+9gTE4q/RUBMUxNyAMRFQPse9dcrw0VAFlaFYRvERUD6yzGxtcJFQHAGfhQEw0VAWyVYHM7IRUCoIXgalMVFQMXKaOTzwkVA7Wah+IzFRUCovuUys8NFQDjo6arYw0VAcoEoP0XERUAaYpbJKMNFQPqoddFGw0VAGktjN9DKRUAy6RxO/MJFQA==",
          "dtype": "f8"
         },
         "legendgroup": "Aix en Provence",
         "lon": {
          "bdata": "kZ/oFap+FUAAAACw9MwVQACkFh6PyxVAgIJ66dyTFUAAAABxwMcVQIBuvaYHzRVAux8B7VjOFUABAAAAhPwVQAAAALqjyBVAYDyDhv7pFUCAbbOXZn4VQMql8Quv1BVADqTmBp5+FUAAAAAsc8MVQAAAAGTOxhVAAAAABMPIFUAAAADqMs0VQAWxu+WPzhVA4rg/t7uOFUAAAADkhMwVQA==",
          "dtype": "f8"
         },
         "marker": {
          "color": "#00cc96",
          "opacity": 0.7,
          "size": 20
         },
         "mode": "markers",
         "name": "Aix en Provence",
         "showlegend": true,
         "subplot": "map",
         "type": "scattermap"
        },
        {
         "customdata": [
          [
           "Uzes",
           43.986524,
           4.302525,
           "9,4"
          ],
          [
           "Uzes",
           43.96063266940217,
           4.467562437057495,
           "8,7"
          ],
          [
           "Uzes",
           44.008803,
           4.570564,
           "9,5"
          ],
          [
           "Uzes",
           44.0461975690864,
           4.443197781753497,
           "8,3"
          ],
          [
           "Uzes",
           43.99945020733687,
           4.372767806053162,
           "8,3"
          ],
          [
           "Uzes",
           43.95294149642264,
           4.475574244041458,
           "9,6"
          ],
          [
           "Uzes",
           44.007946900672,
           4.324835303374,
           null
          ],
          [
           "Uzes",
           44.0080420250349,
           4.32490736540788,
           "10"
          ],
          [
           "Uzes",
           43.95418957604745,
           4.476158916950226,
           "8,6"
          ],
          [
           "Uzes",
           43.959707857172845,
           4.519329071044922,
           "8,1"
          ],
          [
           "Uzes",
           44.0085782,
           4.3252278,
           "10"
          ],
          [
           "Uzes",
           44.00284484835363,
           4.416452050099906,
           "8,1"
          ],
          [
           "Uzes",
           44.014659,
           4.4200515,
           "8,6"
          ],
          [
           "Uzes",
           44.0126325895461,
           4.414148926734924,
           "6,9"
          ],
          [
           "Uzes",
           44.02843142473164,
           4.420023858328932,
           "8,5"
          ],
          [
           "Uzes",
           44.01246437098573,
           4.421800111045059,
           "8,9"
          ],
          [
           "Uzes",
           44.008072891557,
           4.324984612995,
           "9,7"
          ],
          [
           "Uzes",
           44.0127444719537,
           4.42113071680069,
           "8,5"
          ],
          [
           "Uzes",
           44.023394710582856,
           4.419290721416473,
           "9,1"
          ],
          [
           "Uzes",
           44.00924515327312,
           4.416173994541168,
           "8,9"
          ]
         ],
         "hovertemplate": "<b>%{hovertext}</b><br><br>Note utilisateurs=%{customdata[3]}<extra></extra>",
         "hovertext": [
          "<a href='https://www.booking.com/hotel/fr/domaine-de-privadiere.fr.html?aid=304142&label=gen173nr-1FCAQoggJCC3NlYXJjaF91emVzSA1YBGhNiAEBmAENuAEKyAEF2AEB6AEB-AEDiAIBqAIDuALF__DBBsACAdICJDFjMzRiZmYyLTc4MzctNDcyOC1iNTYzLTI3YjFmMWZmNjQ1MNgCBeACAQ&ucfs=1&arphpl=1&group_adults=2&req_adults=2&no_rooms=1&group_children=0&req_children=0&hpos=1&hapos=1&sr_order=bayesian_review_score&nflt=ht_id%3D204&srpvid=a80353e223140edc&srepoch=1748778950&from=searchresults'>Domaine de Privadière & Spa</a>",
          "<a href='https://www.booking.com/hotel/fr/logis-de-france-le-gardon.fr.html?aid=304142&label=gen173nr-1FCAQoggJCC3NlYXJjaF91emVzSA1YBGhNiAEBmAENuAEKyAEF2AEB6AEB-AEDiAIBqAIDuALF__DBBsACAdICJDFjMzRiZmYyLTc4MzctNDcyOC1iNTYzLTI3YjFmMWZmNjQ1MNgCBeACAQ&ucfs=1&arphpl=1&group_adults=2&req_adults=2&no_rooms=1&group_children=0&req_children=0&hpos=14&hapos=14&sr_order=bayesian_review_score&nflt=ht_id%3D204&srpvid=a80353e223140edc&srepoch=1748778950&from=searchresults'>Hotel Restaurant Le Gardon - Pont du Gard</a>",
          "<a href='https://www.booking.com/hotel/fr/hameau-de-panery.fr.html?aid=304142&label=gen173nr-1FCAQoggJCC3NlYXJjaF91emVzSA1YBGhNiAEBmAENuAEKyAEF2AEB6AEB-AEDiAIBqAIDuALF__DBBsACAdICJDFjMzRiZmYyLTc4MzctNDcyOC1iNTYzLTI3YjFmMWZmNjQ1MNgCBeACAQ&ucfs=1&arphpl=1&group_adults=2&req_adults=2&no_rooms=1&group_children=0&req_children=0&hpos=20&hapos=20&sr_order=bayesian_review_score&nflt=ht_id%3D204&srpvid=a80353e223140edc&srepoch=1748778950&from=searchresults'>Domaine de Panery</a>",
          "<a href='https://www.booking.com/hotel/fr/clos-des-pradines.fr.html?aid=304142&label=gen173nr-1FCAQoggJCC3NlYXJjaF91emVzSA1YBGhNiAEBmAENuAEKyAEF2AEB6AEB-AEDiAIBqAIDuALF__DBBsACAdICJDFjMzRiZmYyLTc4MzctNDcyOC1iNTYzLTI3YjFmMWZmNjQ1MNgCBeACAQ&ucfs=1&arphpl=1&group_adults=2&req_adults=2&no_rooms=1&group_children=0&req_children=0&hpos=16&hapos=16&sr_order=bayesian_review_score&nflt=ht_id%3D204&srpvid=a80353e223140edc&srepoch=1748778950&from=searchresults'>Hotel Restaurant Le Clos De Pradines</a>",
          "<a href='https://www.booking.com/hotel/fr/chac-teau-d-arpaillargues.fr.html?aid=304142&label=gen173nr-1FCAQoggJCC3NlYXJjaF91emVzSA1YBGhNiAEBmAENuAEKyAEF2AEB6AEB-AEDiAIBqAIDuALF__DBBsACAdICJDFjMzRiZmYyLTc4MzctNDcyOC1iNTYzLTI3YjFmMWZmNjQ1MNgCBeACAQ&ucfs=1&arphpl=1&group_adults=2&req_adults=2&no_rooms=1&group_children=0&req_children=0&hpos=17&hapos=17&sr_order=bayesian_review_score&nflt=ht_id%3D204&srpvid=a80353e223140edc&srepoch=1748778950&from=searchresults'>Château d'Arpaillargues - TERITORIA</a>",
          "<a href='https://www.booking.com/hotel/fr/chateau-de-collias.fr.html?aid=304142&label=gen173nr-1FCAQoggJCC3NlYXJjaF91emVzSA1YBGhNiAEBmAENuAEKyAEF2AEB6AEB-AEDiAIBqAIDuALF__DBBsACAdICJDFjMzRiZmYyLTc4MzctNDcyOC1iNTYzLTI3YjFmMWZmNjQ1MNgCBeACAQ&ucfs=1&arphpl=1&group_adults=2&req_adults=2&no_rooms=1&group_children=0&req_children=0&hpos=13&hapos=13&sr_order=bayesian_review_score&nflt=ht_id%3D204&srpvid=a80353e223140edc&srepoch=1748778950&from=searchresults'>Château de Collias</a>",
          "<a href='https://www.booking.com/hotel/fr/place-de-l-eglise-aubussargues.fr.html?aid=304142&label=gen173nr-1FCAQoggJCC3NlYXJjaF91emVzSA1YBGhNiAEBmAENuAEKyAEF2AEB6AEB-AEDiAIBqAIDuALF__DBBsACAdICJDFjMzRiZmYyLTc4MzctNDcyOC1iNTYzLTI3YjFmMWZmNjQ1MNgCBeACAQ&ucfs=1&arphpl=1&group_adults=2&req_adults=2&no_rooms=1&group_children=0&req_children=0&hpos=19&hapos=19&sr_order=bayesian_review_score&nflt=ht_id%3D204&srpvid=a80353e223140edc&srepoch=1748778950&from=searchresults'>Place de l'Église</a>",
          "<a href='https://www.booking.com/hotel/fr/secret-d-uzes-place-aux-herbes-uzes.fr.html?aid=304142&label=gen173nr-1FCAQoggJCC3NlYXJjaF91emVzSA1YBGhNiAEBmAENuAEKyAEF2AEB6AEB-AEDiAIBqAIDuALF__DBBsACAdICJDFjMzRiZmYyLTc4MzctNDcyOC1iNTYzLTI3YjFmMWZmNjQ1MNgCBeACAQ&ucfs=1&arphpl=1&group_adults=2&req_adults=2&no_rooms=1&group_children=0&req_children=0&hpos=12&hapos=12&sr_order=bayesian_review_score&nflt=ht_id%3D204&srpvid=a80353e223140edc&srepoch=1748778950&from=searchresults'>Secret d'Uzès - Place aux Herbes - Piscine chauffée et Jacuzzi</a>",
          "<a href='https://www.booking.com/hotel/fr/castellascollias.fr.html?aid=304142&label=gen173nr-1FCAQoggJCC3NlYXJjaF91emVzSA1YBGhNiAEBmAENuAEKyAEF2AEB6AEB-AEDiAIBqAIDuALF__DBBsACAdICJDFjMzRiZmYyLTc4MzctNDcyOC1iNTYzLTI3YjFmMWZmNjQ1MNgCBeACAQ&ucfs=1&arphpl=1&group_adults=2&req_adults=2&no_rooms=1&group_children=0&req_children=0&hpos=15&hapos=15&sr_order=bayesian_review_score&nflt=ht_id%3D204&srpvid=a80353e223140edc&srepoch=1748778950&from=searchresults'>Le Castellas Hotel & SPA - TERITORIA</a>",
          "<a href='https://www.booking.com/hotel/fr/la-ba-c-gude-lt-st-pierre.fr.html?aid=304142&label=gen173nr-1FCAQoggJCC3NlYXJjaF91emVzSA1YBGhNiAEBmAENuAEKyAEF2AEB6AEB-AEDiAIBqAIDuALF__DBBsACAdICJDFjMzRiZmYyLTc4MzctNDcyOC1iNTYzLTI3YjFmMWZmNjQ1MNgCBeACAQ&ucfs=1&arphpl=1&group_adults=2&req_adults=2&no_rooms=1&group_children=0&req_children=0&hpos=18&hapos=18&sr_order=bayesian_review_score&nflt=ht_id%3D204&srpvid=a80353e223140edc&srepoch=1748778950&from=searchresults'>Hôtel & Restaurant de charme - La Bégude Saint-Pierre</a>",
          "<a href='https://www.booking.com/hotel/fr/secret-d-uzes-le-duche-uzes.fr.html?aid=304142&label=gen173nr-1FCAQoggJCC3NlYXJjaF91emVzSA1YBGhNiAEBmAENuAEKyAEF2AEB6AEB-AEDiAIBqAIDuALF__DBBsACAdICJDFjMzRiZmYyLTc4MzctNDcyOC1iNTYzLTI3YjFmMWZmNjQ1MNgCBeACAQ&ucfs=1&arphpl=1&group_adults=2&req_adults=2&no_rooms=1&group_children=0&req_children=0&hpos=11&hapos=11&sr_order=bayesian_review_score&nflt=ht_id%3D204&srpvid=a80353e223140edc&srepoch=1748778950&from=searchresults'>Secret d'Uzès - Le Duché - Piscine chauffée et Jacuzzi</a>",
          "<a href='https://www.booking.com/hotel/fr/uzes.fr.html?aid=304142&label=gen173nr-1FCAQoggJCC3NlYXJjaF91emVzSA1YBGhNiAEBmAENuAEKyAEF2AEB6AEB-AEDiAIBqAIDuALF__DBBsACAdICJDFjMzRiZmYyLTc4MzctNDcyOC1iNTYzLTI3YjFmMWZmNjQ1MNgCBeACAQ&ucfs=1&arphpl=1&group_adults=2&req_adults=2&no_rooms=1&group_children=0&req_children=0&hpos=9&hapos=9&sr_order=bayesian_review_score&nflt=ht_id%3D204&srpvid=a80353e223140edc&srepoch=1748778950&from=searchresults'>Logis Hotel Restaurant Uzès Pont du Gard</a>",
          "<a href='https://www.booking.com/hotel/fr/la-taverne.fr.html?aid=304142&label=gen173nr-1FCAQoggJCC3NlYXJjaF91emVzSA1YBGhNiAEBmAENuAEKyAEF2AEB6AEB-AEDiAIBqAIDuALF__DBBsACAdICJDFjMzRiZmYyLTc4MzctNDcyOC1iNTYzLTI3YjFmMWZmNjQ1MNgCBeACAQ&ucfs=1&arphpl=1&group_adults=2&req_adults=2&no_rooms=1&group_children=0&req_children=0&hpos=7&hapos=7&sr_order=bayesian_review_score&nflt=ht_id%3D204&srpvid=a80353e223140edc&srepoch=1748778950&from=searchresults'>La Taverne</a>",
          "<a href='https://www.booking.com/hotel/fr/le-mas-des-oliviers-ulv.fr.html?aid=304142&label=gen173nr-1FCAQoggJCC3NlYXJjaF91emVzSA1YBGhNiAEBmAENuAEKyAEF2AEB6AEB-AEDiAIBqAIDuALF__DBBsACAdICJDFjMzRiZmYyLTc4MzctNDcyOC1iNTYzLTI3YjFmMWZmNjQ1MNgCBeACAQ&ucfs=1&arphpl=1&group_adults=2&req_adults=2&no_rooms=1&group_children=0&req_children=0&hpos=10&hapos=10&sr_order=bayesian_review_score&nflt=ht_id%3D204&srpvid=a80353e223140edc&srepoch=1748778950&from=searchresults'>UZES APPART HOTEL Résidence Le Mas des Oliviers</a>",
          "<a href='https://www.booking.com/hotel/fr/patio-de-violette.fr.html?aid=304142&label=gen173nr-1FCAQoggJCC3NlYXJjaF91emVzSA1YBGhNiAEBmAENuAEKyAEF2AEB6AEB-AEDiAIBqAIDuALF__DBBsACAdICJDFjMzRiZmYyLTc4MzctNDcyOC1iNTYzLTI3YjFmMWZmNjQ1MNgCBeACAQ&ucfs=1&arphpl=1&group_adults=2&req_adults=2&no_rooms=1&group_children=0&req_children=0&hpos=8&hapos=8&sr_order=bayesian_review_score&nflt=ht_id%3D204&srpvid=a80353e223140edc&srepoch=1748778950&from=searchresults'>Patio De Violette</a>",
          "<a href='https://www.booking.com/hotel/fr/entraigues-uzes2.fr.html?aid=304142&label=gen173nr-1FCAQoggJCC3NlYXJjaF91emVzSA1YBGhNiAEBmAENuAEKyAEF2AEB6AEB-AEDiAIBqAIDuALF__DBBsACAdICJDFjMzRiZmYyLTc4MzctNDcyOC1iNTYzLTI3YjFmMWZmNjQ1MNgCBeACAQ&ucfs=1&arphpl=1&group_adults=2&req_adults=2&no_rooms=1&group_children=0&req_children=0&hpos=5&hapos=5&sr_order=bayesian_review_score&nflt=ht_id%3D204&srpvid=a80353e223140edc&srepoch=1748778950&from=searchresults'>Boutique Hôtel Entraigues</a>",
          "<a href='https://www.booking.com/hotel/fr/secret-d-uzes-le-loft-uzes.fr.html?aid=304142&label=gen173nr-1FCAQoggJCC3NlYXJjaF91emVzSA1YBGhNiAEBmAENuAEKyAEF2AEB6AEB-AEDiAIBqAIDuALF__DBBsACAdICJDFjMzRiZmYyLTc4MzctNDcyOC1iNTYzLTI3YjFmMWZmNjQ1MNgCBeACAQ&ucfs=1&arphpl=1&group_adults=2&req_adults=2&no_rooms=1&group_children=0&req_children=0&hpos=2&hapos=2&sr_order=bayesian_review_score&nflt=ht_id%3D204&srpvid=a80353e223140edc&srepoch=1748778950&from=searchresults'>Secret d'Uzès - Le Loft - Avec piscine chauffée</a>",
          "<a href='https://www.booking.com/hotel/fr/la-maison-d-uza-s.fr.html?aid=304142&label=gen173nr-1FCAQoggJCC3NlYXJjaF91emVzSA1YBGhNiAEBmAENuAEKyAEF2AEB6AEB-AEDiAIBqAIDuALF__DBBsACAdICJDFjMzRiZmYyLTc4MzctNDcyOC1iNTYzLTI3YjFmMWZmNjQ1MNgCBeACAQ&ucfs=1&arphpl=1&group_adults=2&req_adults=2&no_rooms=1&group_children=0&req_children=0&hpos=6&hapos=6&sr_order=bayesian_review_score&nflt=ht_id%3D204&srpvid=a80353e223140edc&srepoch=1748778950&from=searchresults'>La Maison d'Uzès Relais & Châteaux</a>",
          "<a href='https://www.booking.com/hotel/fr/le-saint-genies.fr.html?aid=304142&label=gen173nr-1FCAQoggJCC3NlYXJjaF91emVzSA1YBGhNiAEBmAENuAEKyAEF2AEB6AEB-AEDiAIBqAIDuALF__DBBsACAdICJDFjMzRiZmYyLTc4MzctNDcyOC1iNTYzLTI3YjFmMWZmNjQ1MNgCBeACAQ&ucfs=1&arphpl=1&group_adults=2&req_adults=2&no_rooms=1&group_children=0&req_children=0&hpos=3&hapos=3&sr_order=bayesian_review_score&nflt=ht_id%3D204&srpvid=a80353e223140edc&srepoch=1748778950&from=searchresults'>Hôtel Le SAINT-GENIÈS</a>",
          "<a href='https://www.booking.com/hotel/fr/hostellerie-provencale.fr.html?aid=304142&label=gen173nr-1FCAQoggJCC3NlYXJjaF91emVzSA1YBGhNiAEBmAENuAEKyAEF2AEB6AEB-AEDiAIBqAIDuALF__DBBsACAdICJDFjMzRiZmYyLTc4MzctNDcyOC1iNTYzLTI3YjFmMWZmNjQ1MNgCBeACAQ&ucfs=1&arphpl=1&group_adults=2&req_adults=2&no_rooms=1&group_children=0&req_children=0&hpos=4&hapos=4&sr_order=bayesian_review_score&nflt=ht_id%3D204&srpvid=a80353e223140edc&srepoch=1748778950&from=searchresults'>la parenthèse Hostellerie Provençale</a>"
         ],
         "lat": {
          "bdata": "DFwea0b+RUCYRuUC9vpFQKiN6nQgAUZAvjBMzekFRkADPwH87f9FQHoRqfz5+UVA0z5vZwQBRkBeQmWFBwFGQGmnT+Ii+kVAxCICtdf6RUCyOigXGQFGQApSUThdAEZAycuaWOABRkBue9fxnQFGQFezE6SjA0ZA3d+4bpgBRkBZnFKICAFGQHsfYZyhAUZAJ20Omf4CRkAvevfxLgFGQA==",
          "dtype": "f8"
         },
         "legendgroup": "Uzes",
         "lon": {
          "bdata": "veMUHck1EUAAAACwyN4RQIsZ4e1BSBJAACqpo9XFEUAAAADYtn0RQHXpQ+/85hFAbk8yoKFMEUAeoDKEtEwRQAAAADSW5xFAAAAAAMsTEkAIADOECE0RQAAg/mdyqhFAAIv8+iGuEUAAAACoFqgRQABA/LsarhFAAI1JXuyvEUAlETLEyEwRQAAAAOQ8rxFAAAAAjFqtEUAAAACEKaoRQA==",
          "dtype": "f8"
         },
         "marker": {
          "color": "#ab63fa",
          "opacity": 0.7,
          "size": 20
         },
         "mode": "markers",
         "name": "Uzes",
         "showlegend": true,
         "subplot": "map",
         "type": "scattermap"
        },
        {
         "customdata": [
          [
           "Nimes",
           43.837117,
           4.357898,
           "9,2"
          ],
          [
           "Nimes",
           43.83642381634261,
           4.364745318889618,
           "8,4"
          ],
          [
           "Nimes",
           43.83175754591007,
           4.36697356402874,
           "8,2"
          ],
          [
           "Nimes",
           43.820576747716174,
           4.319126978516579,
           "8,4"
          ],
          [
           "Nimes",
           43.83881509620307,
           4.3548184633255005,
           "8,3"
          ],
          [
           "Nimes",
           43.8281614,
           4.354790200000025,
           "8,4"
          ],
          [
           "Nimes",
           43.83433186355036,
           4.367129892088997,
           "8,4"
          ],
          [
           "Nimes",
           43.8343632920283,
           4.365336745977402,
           "8,5"
          ],
          [
           "Nimes",
           43.83581534027453,
           4.359140172600746,
           "8,3"
          ],
          [
           "Nimes",
           43.83959475654075,
           4.3610841035842896,
           "8,2"
          ],
          [
           "Nimes",
           43.834061872209,
           4.358990652779,
           "8,5"
          ],
          [
           "Nimes",
           43.845396,
           4.368959,
           "8,5"
          ],
          [
           "Nimes",
           43.838773872288,
           4.363837569914,
           "8,8"
          ],
          [
           "Nimes",
           43.837032,
           4.363037,
           "8,6"
          ],
          [
           "Nimes",
           43.8338735348897,
           4.361433959524561,
           "8,9"
          ],
          [
           "Nimes",
           43.82080551337371,
           4.371253199999956,
           "9,0"
          ],
          [
           "Nimes",
           43.83470575029483,
           4.36731219291687,
           "9,2"
          ],
          [
           "Nimes",
           43.83866612768399,
           4.352767914533615,
           "9,1"
          ],
          [
           "Nimes",
           43.832055902146784,
           4.3673644959926605,
           "8,1"
          ],
          [
           "Nimes",
           43.78858215364223,
           4.35380257666111,
           "8,3"
          ]
         ],
         "hovertemplate": "<b>%{hovertext}</b><br><br>Note utilisateurs=%{customdata[3]}<extra></extra>",
         "hovertext": [
          "<a href='https://www.booking.com/hotel/fr/margaret-chouleur.fr.html?aid=304142&label=gen173nr-1FCAQoggJCDHNlYXJjaF9uaW1lc0gNWARoTYgBAZgBDbgBCsgBBdgBAegBAfgBA4gCAagCA7gCxf_wwQbAAgHSAiQyZjUzNzE1MS05NDUzLTRhMzYtYmU3Yy01ZmJlZTdjOTQyZDPYAgXgAgE&ucfs=1&arphpl=1&group_adults=2&req_adults=2&no_rooms=1&group_children=0&req_children=0&hpos=1&hapos=1&sr_order=bayesian_review_score&nflt=ht_id%3D204&srpvid=a6ce53e2e86c0761&srepoch=1748778950&from=searchresults'>Margaret - Hôtel Chouleur</a>",
          "<a href='https://www.booking.com/hotel/fr/hotel-des-tuileries.fr.html?aid=304142&label=gen173nr-1FCAQoggJCDHNlYXJjaF9uaW1lc0gNWARoTYgBAZgBDbgBCsgBBdgBAegBAfgBA4gCAagCA7gCxf_wwQbAAgHSAiQyZjUzNzE1MS05NDUzLTRhMzYtYmU3Yy01ZmJlZTdjOTQyZDPYAgXgAgE&ucfs=1&arphpl=1&group_adults=2&req_adults=2&no_rooms=1&group_children=0&req_children=0&hpos=11&hapos=11&sr_order=bayesian_review_score&nflt=ht_id%3D204&srpvid=a6ce53e2e86c0761&srepoch=1748778950&from=searchresults'>Hotel Des Tuileries</a>",
          "<a href='https://www.booking.com/hotel/fr/ibis-styles-nimes-centre-gare.fr.html?aid=304142&label=gen173nr-1FCAQoggJCDHNlYXJjaF9uaW1lc0gNWARoTYgBAZgBDbgBCsgBBdgBAegBAfgBA4gCAagCA7gCxf_wwQbAAgHSAiQyZjUzNzE1MS05NDUzLTRhMzYtYmU3Yy01ZmJlZTdjOTQyZDPYAgXgAgE&ucfs=1&arphpl=1&group_adults=2&req_adults=2&no_rooms=1&group_children=0&req_children=0&hpos=18&hapos=18&sr_order=bayesian_review_score&nflt=ht_id%3D204&srpvid=a6ce53e2e86c0761&srepoch=1748778950&from_sustainable_property_sr=1&from=searchresults'>ibis Styles Nimes Gare Centre</a>",
          "<a href='https://www.booking.com/hotel/fr/vatel.fr.html?aid=304142&label=gen173nr-1FCAQoggJCDHNlYXJjaF9uaW1lc0gNWARoTYgBAZgBDbgBCsgBBdgBAegBAfgBA4gCAagCA7gCxf_wwQbAAgHSAiQyZjUzNzE1MS05NDUzLTRhMzYtYmU3Yy01ZmJlZTdjOTQyZDPYAgXgAgE&ucfs=1&arphpl=1&group_adults=2&req_adults=2&no_rooms=1&group_children=0&req_children=0&hpos=13&hapos=13&sr_order=bayesian_review_score&nflt=ht_id%3D204&srpvid=a6ce53e2e86c0761&srepoch=1748778950&from=searchresults'>Hôtel & Spa Vatel</a>",
          "<a href='https://www.booking.com/hotel/fr/royal.fr.html?aid=304142&label=gen173nr-1FCAQoggJCDHNlYXJjaF9uaW1lc0gNWARoTYgBAZgBDbgBCsgBBdgBAegBAfgBA4gCAagCA7gCxf_wwQbAAgHSAiQyZjUzNzE1MS05NDUzLTRhMzYtYmU3Yy01ZmJlZTdjOTQyZDPYAgXgAgE&ucfs=1&arphpl=1&group_adults=2&req_adults=2&no_rooms=1&group_children=0&req_children=0&hpos=14&hapos=14&sr_order=bayesian_review_score&nflt=ht_id%3D204&srpvid=a6ce53e2e86c0761&srepoch=1748778950&from=searchresults'>Royal Hôtel</a>",
          "<a href='https://www.booking.com/hotel/fr/b-amp-b-nimes-centre-ville.fr.html?aid=304142&label=gen173nr-1FCAQoggJCDHNlYXJjaF9uaW1lc0gNWARoTYgBAZgBDbgBCsgBBdgBAegBAfgBA4gCAagCA7gCxf_wwQbAAgHSAiQyZjUzNzE1MS05NDUzLTRhMzYtYmU3Yy01ZmJlZTdjOTQyZDPYAgXgAgE&ucfs=1&arphpl=1&group_adults=2&req_adults=2&no_rooms=1&group_children=0&req_children=0&hpos=16&hapos=16&sr_order=bayesian_review_score&nflt=ht_id%3D204&srpvid=a6ce53e2e86c0761&srepoch=1748778950&from_sustainable_property_sr=1&from=searchresults'>B&B HOTEL Nîmes Centre Arènes</a>",
          "<a href='https://www.booking.com/hotel/fr/la-maison-de-sophie-na-r-mes.fr.html?aid=304142&label=gen173nr-1FCAQoggJCDHNlYXJjaF9uaW1lc0gNWARoTYgBAZgBDbgBCsgBBdgBAegBAfgBA4gCAagCA7gCxf_wwQbAAgHSAiQyZjUzNzE1MS05NDUzLTRhMzYtYmU3Yy01ZmJlZTdjOTQyZDPYAgXgAgE&ucfs=1&arphpl=1&group_adults=2&req_adults=2&no_rooms=1&group_children=0&req_children=0&hpos=12&hapos=12&sr_order=bayesian_review_score&nflt=ht_id%3D204&srpvid=a6ce53e2e86c0761&srepoch=1748778950&from=searchresults'>La Maison de Sophie</a>",
          "<a href='https://www.booking.com/hotel/fr/majestic-nimes.fr.html?aid=304142&label=gen173nr-1FCAQoggJCDHNlYXJjaF9uaW1lc0gNWARoTYgBAZgBDbgBCsgBBdgBAegBAfgBA4gCAagCA7gCxf_wwQbAAgHSAiQyZjUzNzE1MS05NDUzLTRhMzYtYmU3Yy01ZmJlZTdjOTQyZDPYAgXgAgE&ucfs=1&arphpl=1&group_adults=2&req_adults=2&no_rooms=1&group_children=0&req_children=0&hpos=10&hapos=10&sr_order=bayesian_review_score&nflt=ht_id%3D204&srpvid=a6ce53e2e86c0761&srepoch=1748778950&from=searchresults'>Hotel Majestic</a>",
          "<a href='https://www.booking.com/hotel/fr/de-l-amphitheatre-nimes.fr.html?aid=304142&label=gen173nr-1FCAQoggJCDHNlYXJjaF9uaW1lc0gNWARoTYgBAZgBDbgBCsgBBdgBAegBAfgBA4gCAagCA7gCxf_wwQbAAgHSAiQyZjUzNzE1MS05NDUzLTRhMzYtYmU3Yy01ZmJlZTdjOTQyZDPYAgXgAgE&ucfs=1&arphpl=1&group_adults=2&req_adults=2&no_rooms=1&group_children=0&req_children=0&hpos=15&hapos=15&sr_order=bayesian_review_score&nflt=ht_id%3D204&srpvid=a6ce53e2e86c0761&srepoch=1748778950&from=searchresults'>Hôtel De L'Amphithéâtre</a>",
          "<a href='https://www.booking.com/hotel/fr/ha-tel-la-baume.fr.html?aid=304142&label=gen173nr-1FCAQoggJCDHNlYXJjaF9uaW1lc0gNWARoTYgBAZgBDbgBCsgBBdgBAegBAfgBA4gCAagCA7gCxf_wwQbAAgHSAiQyZjUzNzE1MS05NDUzLTRhMzYtYmU3Yy01ZmJlZTdjOTQyZDPYAgXgAgE&ucfs=1&arphpl=1&group_adults=2&req_adults=2&no_rooms=1&group_children=0&req_children=0&hpos=17&hapos=17&sr_order=bayesian_review_score&nflt=ht_id%3D204&srpvid=a6ce53e2e86c0761&srepoch=1748778950&from=searchresults'>Best Western Marquis de la Baume</a>",
          "<a href='https://www.booking.com/hotel/fr/odalys-city-nimes-arenes.fr.html?aid=304142&label=gen173nr-1FCAQoggJCDHNlYXJjaF9uaW1lc0gNWARoTYgBAZgBDbgBCsgBBdgBAegBAfgBA4gCAagCA7gCxf_wwQbAAgHSAiQyZjUzNzE1MS05NDUzLTRhMzYtYmU3Yy01ZmJlZTdjOTQyZDPYAgXgAgE&ucfs=1&arphpl=1&group_adults=2&req_adults=2&no_rooms=1&group_children=0&req_children=0&hpos=9&hapos=9&sr_order=bayesian_review_score&nflt=ht_id%3D204&srpvid=a6ce53e2e86c0761&srepoch=1748778950&from=searchresults'>Appart'hôtel Odalys City - Nîmes Arènes - Palais des Congrès</a>",
          "<a href='https://www.booking.com/hotel/fr/domitys-sophia.fr.html?aid=304142&label=gen173nr-1FCAQoggJCDHNlYXJjaF9uaW1lc0gNWARoTYgBAZgBDbgBCsgBBdgBAegBAfgBA4gCAagCA7gCxf_wwQbAAgHSAiQyZjUzNzE1MS05NDUzLTRhMzYtYmU3Yy01ZmJlZTdjOTQyZDPYAgXgAgE&ucfs=1&arphpl=1&group_adults=2&req_adults=2&no_rooms=1&group_children=0&req_children=0&hpos=8&hapos=8&sr_order=bayesian_review_score&nflt=ht_id%3D204&srpvid=a6ce53e2e86c0761&srepoch=1748778950&from=searchresults'>Domitys Sophia</a>",
          "<a href='https://www.booking.com/hotel/fr/oh-activ-nimes.fr.html?aid=304142&label=gen173nr-1FCAQoggJCDHNlYXJjaF9uaW1lc0gNWARoTYgBAZgBDbgBCsgBBdgBAegBAfgBA4gCAagCA7gCxf_wwQbAAgHSAiQyZjUzNzE1MS05NDUzLTRhMzYtYmU3Yy01ZmJlZTdjOTQyZDPYAgXgAgE&ucfs=1&arphpl=1&group_adults=2&req_adults=2&no_rooms=1&group_children=0&req_children=0&hpos=7&hapos=7&sr_order=bayesian_review_score&nflt=ht_id%3D204&srpvid=a6ce53e2e86c0761&srepoch=1748778950&from=searchresults'>Oh Activ Nîmes</a>",
          "<a href='https://www.booking.com/hotel/fr/square-nimes.fr.html?aid=304142&label=gen173nr-1FCAQoggJCDHNlYXJjaF9uaW1lc0gNWARoTYgBAZgBDbgBCsgBBdgBAegBAfgBA4gCAagCA7gCxf_wwQbAAgHSAiQyZjUzNzE1MS05NDUzLTRhMzYtYmU3Yy01ZmJlZTdjOTQyZDPYAgXgAgE&ucfs=1&arphpl=1&group_adults=2&req_adults=2&no_rooms=1&group_children=0&req_children=0&hpos=6&hapos=6&sr_order=bayesian_review_score&nflt=ht_id%3D204&srpvid=a6ce53e2e86c0761&srepoch=1748778950&from=searchresults'>SQUARE HOTEL</a>",
          "<a href='https://www.booking.com/hotel/fr/appart-39-city-nimes.fr.html?aid=304142&label=gen173nr-1FCAQoggJCDHNlYXJjaF9uaW1lc0gNWARoTYgBAZgBDbgBCsgBBdgBAegBAfgBA4gCAagCA7gCxf_wwQbAAgHSAiQyZjUzNzE1MS05NDUzLTRhMzYtYmU3Yy01ZmJlZTdjOTQyZDPYAgXgAgE&ucfs=1&arphpl=1&group_adults=2&req_adults=2&no_rooms=1&group_children=0&req_children=0&hpos=5&hapos=5&sr_order=bayesian_review_score&nflt=ht_id%3D204&srpvid=a6ce53e2e86c0761&srepoch=1748778950&from_sustainable_property_sr=1&from=searchresults'>Appart'City Collection Nîmes Arènes</a>",
          "<a href='https://www.booking.com/hotel/fr/mas-de-boudan.fr.html?aid=304142&label=gen173nr-1FCAQoggJCDHNlYXJjaF9uaW1lc0gNWARoTYgBAZgBDbgBCsgBBdgBAegBAfgBA4gCAagCA7gCxf_wwQbAAgHSAiQyZjUzNzE1MS05NDUzLTRhMzYtYmU3Yy01ZmJlZTdjOTQyZDPYAgXgAgE&ucfs=1&arphpl=1&group_adults=2&req_adults=2&no_rooms=1&group_children=0&req_children=0&hpos=4&hapos=4&sr_order=bayesian_review_score&nflt=ht_id%3D204&srpvid=a6ce53e2e86c0761&srepoch=1748778950&from=searchresults'>Mas de Boudan</a>",
          "<a href='https://www.booking.com/hotel/fr/jardins-secrets-nimes.fr.html?aid=304142&label=gen173nr-1FCAQoggJCDHNlYXJjaF9uaW1lc0gNWARoTYgBAZgBDbgBCsgBBdgBAegBAfgBA4gCAagCA7gCxf_wwQbAAgHSAiQyZjUzNzE1MS05NDUzLTRhMzYtYmU3Yy01ZmJlZTdjOTQyZDPYAgXgAgE&ucfs=1&arphpl=1&group_adults=2&req_adults=2&no_rooms=1&group_children=0&req_children=0&hpos=3&hapos=3&sr_order=bayesian_review_score&nflt=ht_id%3D204&srpvid=a6ce53e2e86c0761&srepoch=1748778950&from=searchresults'>Jardins Secrets</a>",
          "<a href='https://www.booking.com/hotel/fr/imperator-nimes.fr.html?aid=304142&label=gen173nr-1FCAQoggJCDHNlYXJjaF9uaW1lc0gNWARoTYgBAZgBDbgBCsgBBdgBAegBAfgBA4gCAagCA7gCxf_wwQbAAgHSAiQyZjUzNzE1MS05NDUzLTRhMzYtYmU3Yy01ZmJlZTdjOTQyZDPYAgXgAgE&ucfs=1&arphpl=1&group_adults=2&req_adults=2&no_rooms=1&group_children=0&req_children=0&hpos=2&hapos=2&sr_order=bayesian_review_score&nflt=ht_id%3D204&srpvid=a6ce53e2e86c0761&srepoch=1748778950&from=searchresults'>Maison Albar Hotels L’Imperator</a>",
          "<a href='https://www.booking.com/hotel/fr/ibis-budget-nimes-centre-gare.fr.html?aid=304142&label=gen173nr-1FCAQoggJCDHNlYXJjaF9uaW1lc0gNWARoTYgBAZgBDbgBCsgBBdgBAegBAfgBA4gCAagCA7gCxf_wwQbAAgHSAiQyZjUzNzE1MS05NDUzLTRhMzYtYmU3Yy01ZmJlZTdjOTQyZDPYAgXgAgE&ucfs=1&arphpl=1&group_adults=2&req_adults=2&no_rooms=1&group_children=0&req_children=0&hpos=20&hapos=20&sr_order=bayesian_review_score&nflt=ht_id%3D204&srpvid=a6ce53e2e86c0761&srepoch=1748778950&from=searchresults'>ibis budget Nimes Centre Gare</a>",
          "<a href='https://www.booking.com/hotel/fr/lepregaloffrenimes.fr.html?aid=304142&label=gen173nr-1FCAQoggJCDHNlYXJjaF9uaW1lc0gNWARoTYgBAZgBDbgBCsgBBdgBAegBAfgBA4gCAagCA7gCxf_wwQbAAgHSAiQyZjUzNzE1MS05NDUzLTRhMzYtYmU3Yy01ZmJlZTdjOTQyZDPYAgXgAgE&ucfs=1&arphpl=1&group_adults=2&req_adults=2&no_rooms=1&group_children=0&req_children=0&hpos=19&hapos=19&sr_order=bayesian_review_score&nflt=ht_id%3D204&srpvid=a6ce53e2e86c0761&srepoch=1748778950&from=searchresults'>Hôtel Le Pré Galoffre</a>"
         ],
         "lat": {
          "bdata": "e/ZcpibrRUC9ZITvD+tFQEfxAAh36kVARqarqAjpRUCpygZLXutFQKBnWDEB6kVA0vrxYsvqRUBKH5ZqzOpFQLP8P//76kVAKJ5K13frRUA1/ReKwupFQKkVpu817EVArhs38VzrRUBN2lTdI+tFQPOsNF686kVAhiiyJxDpRUBUplWj1+pFQDZVY2lZ60VABRXMzoDqRUAjDZBC8ORFQA==",
          "dtype": "f8"
         },
         "legendgroup": "Nimes",
         "lon": {
          "bdata": "GTc10HxuEUAAAADMf3URQAAAAOvHdxFAAAAAOclGEUAAAACIVWsRQADERx9OaxFAAKD/5fB3EUAAAADWGnYRQAAAAHHCbxFAAAAACMBxEUChBeU+m28RQGxCWmPQeRFA01j/1ZF0EUCq86j4v3MRQIBJb74bchFAASSCzCl8EUAAAACwIHgRQAAAAP47aRFAAAAAZi54EUAAAAA5S2oRQA==",
          "dtype": "f8"
         },
         "marker": {
          "color": "#FFA15A",
          "opacity": 0.7,
          "size": 20
         },
         "mode": "markers",
         "name": "Nimes",
         "showlegend": true,
         "subplot": "map",
         "type": "scattermap"
        }
       ],
       "layout": {
        "hoverlabel": {
         "bgcolor": "white"
        },
        "legend": {
         "title": {
          "text": "city"
         },
         "tracegroupgap": 0
        },
        "map": {
         "center": {
          "lat": 43.96130800613936,
          "lon": 5.0913085437290375
         },
         "domain": {
          "x": [
           0,
           1
          ],
          "y": [
           0,
           1
          ]
         },
         "style": "open-street-map",
         "zoom": 5
        },
        "mapbox": {
         "center": {
          "lat": 43.96130800613936,
          "lon": 5.0913085437290375
         },
         "style": "open-street-map",
         "zoom": 5
        },
        "template": {
         "data": {
          "bar": [
           {
            "error_x": {
             "color": "#2a3f5f"
            },
            "error_y": {
             "color": "#2a3f5f"
            },
            "marker": {
             "line": {
              "color": "#E5ECF6",
              "width": 0.5
             },
             "pattern": {
              "fillmode": "overlay",
              "size": 10,
              "solidity": 0.2
             }
            },
            "type": "bar"
           }
          ],
          "barpolar": [
           {
            "marker": {
             "line": {
              "color": "#E5ECF6",
              "width": 0.5
             },
             "pattern": {
              "fillmode": "overlay",
              "size": 10,
              "solidity": 0.2
             }
            },
            "type": "barpolar"
           }
          ],
          "carpet": [
           {
            "aaxis": {
             "endlinecolor": "#2a3f5f",
             "gridcolor": "white",
             "linecolor": "white",
             "minorgridcolor": "white",
             "startlinecolor": "#2a3f5f"
            },
            "baxis": {
             "endlinecolor": "#2a3f5f",
             "gridcolor": "white",
             "linecolor": "white",
             "minorgridcolor": "white",
             "startlinecolor": "#2a3f5f"
            },
            "type": "carpet"
           }
          ],
          "choropleth": [
           {
            "colorbar": {
             "outlinewidth": 0,
             "ticks": ""
            },
            "type": "choropleth"
           }
          ],
          "contour": [
           {
            "colorbar": {
             "outlinewidth": 0,
             "ticks": ""
            },
            "colorscale": [
             [
              0,
              "#0d0887"
             ],
             [
              0.1111111111111111,
              "#46039f"
             ],
             [
              0.2222222222222222,
              "#7201a8"
             ],
             [
              0.3333333333333333,
              "#9c179e"
             ],
             [
              0.4444444444444444,
              "#bd3786"
             ],
             [
              0.5555555555555556,
              "#d8576b"
             ],
             [
              0.6666666666666666,
              "#ed7953"
             ],
             [
              0.7777777777777778,
              "#fb9f3a"
             ],
             [
              0.8888888888888888,
              "#fdca26"
             ],
             [
              1,
              "#f0f921"
             ]
            ],
            "type": "contour"
           }
          ],
          "contourcarpet": [
           {
            "colorbar": {
             "outlinewidth": 0,
             "ticks": ""
            },
            "type": "contourcarpet"
           }
          ],
          "heatmap": [
           {
            "colorbar": {
             "outlinewidth": 0,
             "ticks": ""
            },
            "colorscale": [
             [
              0,
              "#0d0887"
             ],
             [
              0.1111111111111111,
              "#46039f"
             ],
             [
              0.2222222222222222,
              "#7201a8"
             ],
             [
              0.3333333333333333,
              "#9c179e"
             ],
             [
              0.4444444444444444,
              "#bd3786"
             ],
             [
              0.5555555555555556,
              "#d8576b"
             ],
             [
              0.6666666666666666,
              "#ed7953"
             ],
             [
              0.7777777777777778,
              "#fb9f3a"
             ],
             [
              0.8888888888888888,
              "#fdca26"
             ],
             [
              1,
              "#f0f921"
             ]
            ],
            "type": "heatmap"
           }
          ],
          "histogram": [
           {
            "marker": {
             "pattern": {
              "fillmode": "overlay",
              "size": 10,
              "solidity": 0.2
             }
            },
            "type": "histogram"
           }
          ],
          "histogram2d": [
           {
            "colorbar": {
             "outlinewidth": 0,
             "ticks": ""
            },
            "colorscale": [
             [
              0,
              "#0d0887"
             ],
             [
              0.1111111111111111,
              "#46039f"
             ],
             [
              0.2222222222222222,
              "#7201a8"
             ],
             [
              0.3333333333333333,
              "#9c179e"
             ],
             [
              0.4444444444444444,
              "#bd3786"
             ],
             [
              0.5555555555555556,
              "#d8576b"
             ],
             [
              0.6666666666666666,
              "#ed7953"
             ],
             [
              0.7777777777777778,
              "#fb9f3a"
             ],
             [
              0.8888888888888888,
              "#fdca26"
             ],
             [
              1,
              "#f0f921"
             ]
            ],
            "type": "histogram2d"
           }
          ],
          "histogram2dcontour": [
           {
            "colorbar": {
             "outlinewidth": 0,
             "ticks": ""
            },
            "colorscale": [
             [
              0,
              "#0d0887"
             ],
             [
              0.1111111111111111,
              "#46039f"
             ],
             [
              0.2222222222222222,
              "#7201a8"
             ],
             [
              0.3333333333333333,
              "#9c179e"
             ],
             [
              0.4444444444444444,
              "#bd3786"
             ],
             [
              0.5555555555555556,
              "#d8576b"
             ],
             [
              0.6666666666666666,
              "#ed7953"
             ],
             [
              0.7777777777777778,
              "#fb9f3a"
             ],
             [
              0.8888888888888888,
              "#fdca26"
             ],
             [
              1,
              "#f0f921"
             ]
            ],
            "type": "histogram2dcontour"
           }
          ],
          "mesh3d": [
           {
            "colorbar": {
             "outlinewidth": 0,
             "ticks": ""
            },
            "type": "mesh3d"
           }
          ],
          "parcoords": [
           {
            "line": {
             "colorbar": {
              "outlinewidth": 0,
              "ticks": ""
             }
            },
            "type": "parcoords"
           }
          ],
          "pie": [
           {
            "automargin": true,
            "type": "pie"
           }
          ],
          "scatter": [
           {
            "fillpattern": {
             "fillmode": "overlay",
             "size": 10,
             "solidity": 0.2
            },
            "type": "scatter"
           }
          ],
          "scatter3d": [
           {
            "line": {
             "colorbar": {
              "outlinewidth": 0,
              "ticks": ""
             }
            },
            "marker": {
             "colorbar": {
              "outlinewidth": 0,
              "ticks": ""
             }
            },
            "type": "scatter3d"
           }
          ],
          "scattercarpet": [
           {
            "marker": {
             "colorbar": {
              "outlinewidth": 0,
              "ticks": ""
             }
            },
            "type": "scattercarpet"
           }
          ],
          "scattergeo": [
           {
            "marker": {
             "colorbar": {
              "outlinewidth": 0,
              "ticks": ""
             }
            },
            "type": "scattergeo"
           }
          ],
          "scattergl": [
           {
            "marker": {
             "colorbar": {
              "outlinewidth": 0,
              "ticks": ""
             }
            },
            "type": "scattergl"
           }
          ],
          "scattermap": [
           {
            "marker": {
             "colorbar": {
              "outlinewidth": 0,
              "ticks": ""
             }
            },
            "type": "scattermap"
           }
          ],
          "scattermapbox": [
           {
            "marker": {
             "colorbar": {
              "outlinewidth": 0,
              "ticks": ""
             }
            },
            "type": "scattermapbox"
           }
          ],
          "scatterpolar": [
           {
            "marker": {
             "colorbar": {
              "outlinewidth": 0,
              "ticks": ""
             }
            },
            "type": "scatterpolar"
           }
          ],
          "scatterpolargl": [
           {
            "marker": {
             "colorbar": {
              "outlinewidth": 0,
              "ticks": ""
             }
            },
            "type": "scatterpolargl"
           }
          ],
          "scatterternary": [
           {
            "marker": {
             "colorbar": {
              "outlinewidth": 0,
              "ticks": ""
             }
            },
            "type": "scatterternary"
           }
          ],
          "surface": [
           {
            "colorbar": {
             "outlinewidth": 0,
             "ticks": ""
            },
            "colorscale": [
             [
              0,
              "#0d0887"
             ],
             [
              0.1111111111111111,
              "#46039f"
             ],
             [
              0.2222222222222222,
              "#7201a8"
             ],
             [
              0.3333333333333333,
              "#9c179e"
             ],
             [
              0.4444444444444444,
              "#bd3786"
             ],
             [
              0.5555555555555556,
              "#d8576b"
             ],
             [
              0.6666666666666666,
              "#ed7953"
             ],
             [
              0.7777777777777778,
              "#fb9f3a"
             ],
             [
              0.8888888888888888,
              "#fdca26"
             ],
             [
              1,
              "#f0f921"
             ]
            ],
            "type": "surface"
           }
          ],
          "table": [
           {
            "cells": {
             "fill": {
              "color": "#EBF0F8"
             },
             "line": {
              "color": "white"
             }
            },
            "header": {
             "fill": {
              "color": "#C8D4E3"
             },
             "line": {
              "color": "white"
             }
            },
            "type": "table"
           }
          ]
         },
         "layout": {
          "annotationdefaults": {
           "arrowcolor": "#2a3f5f",
           "arrowhead": 0,
           "arrowwidth": 1
          },
          "autotypenumbers": "strict",
          "coloraxis": {
           "colorbar": {
            "outlinewidth": 0,
            "ticks": ""
           }
          },
          "colorscale": {
           "diverging": [
            [
             0,
             "#8e0152"
            ],
            [
             0.1,
             "#c51b7d"
            ],
            [
             0.2,
             "#de77ae"
            ],
            [
             0.3,
             "#f1b6da"
            ],
            [
             0.4,
             "#fde0ef"
            ],
            [
             0.5,
             "#f7f7f7"
            ],
            [
             0.6,
             "#e6f5d0"
            ],
            [
             0.7,
             "#b8e186"
            ],
            [
             0.8,
             "#7fbc41"
            ],
            [
             0.9,
             "#4d9221"
            ],
            [
             1,
             "#276419"
            ]
           ],
           "sequential": [
            [
             0,
             "#0d0887"
            ],
            [
             0.1111111111111111,
             "#46039f"
            ],
            [
             0.2222222222222222,
             "#7201a8"
            ],
            [
             0.3333333333333333,
             "#9c179e"
            ],
            [
             0.4444444444444444,
             "#bd3786"
            ],
            [
             0.5555555555555556,
             "#d8576b"
            ],
            [
             0.6666666666666666,
             "#ed7953"
            ],
            [
             0.7777777777777778,
             "#fb9f3a"
            ],
            [
             0.8888888888888888,
             "#fdca26"
            ],
            [
             1,
             "#f0f921"
            ]
           ],
           "sequentialminus": [
            [
             0,
             "#0d0887"
            ],
            [
             0.1111111111111111,
             "#46039f"
            ],
            [
             0.2222222222222222,
             "#7201a8"
            ],
            [
             0.3333333333333333,
             "#9c179e"
            ],
            [
             0.4444444444444444,
             "#bd3786"
            ],
            [
             0.5555555555555556,
             "#d8576b"
            ],
            [
             0.6666666666666666,
             "#ed7953"
            ],
            [
             0.7777777777777778,
             "#fb9f3a"
            ],
            [
             0.8888888888888888,
             "#fdca26"
            ],
            [
             1,
             "#f0f921"
            ]
           ]
          },
          "colorway": [
           "#636efa",
           "#EF553B",
           "#00cc96",
           "#ab63fa",
           "#FFA15A",
           "#19d3f3",
           "#FF6692",
           "#B6E880",
           "#FF97FF",
           "#FECB52"
          ],
          "font": {
           "color": "#2a3f5f"
          },
          "geo": {
           "bgcolor": "white",
           "lakecolor": "white",
           "landcolor": "#E5ECF6",
           "showlakes": true,
           "showland": true,
           "subunitcolor": "white"
          },
          "hoverlabel": {
           "align": "left"
          },
          "hovermode": "closest",
          "mapbox": {
           "style": "light"
          },
          "paper_bgcolor": "white",
          "plot_bgcolor": "#E5ECF6",
          "polar": {
           "angularaxis": {
            "gridcolor": "white",
            "linecolor": "white",
            "ticks": ""
           },
           "bgcolor": "#E5ECF6",
           "radialaxis": {
            "gridcolor": "white",
            "linecolor": "white",
            "ticks": ""
           }
          },
          "scene": {
           "xaxis": {
            "backgroundcolor": "#E5ECF6",
            "gridcolor": "white",
            "gridwidth": 2,
            "linecolor": "white",
            "showbackground": true,
            "ticks": "",
            "zerolinecolor": "white"
           },
           "yaxis": {
            "backgroundcolor": "#E5ECF6",
            "gridcolor": "white",
            "gridwidth": 2,
            "linecolor": "white",
            "showbackground": true,
            "ticks": "",
            "zerolinecolor": "white"
           },
           "zaxis": {
            "backgroundcolor": "#E5ECF6",
            "gridcolor": "white",
            "gridwidth": 2,
            "linecolor": "white",
            "showbackground": true,
            "ticks": "",
            "zerolinecolor": "white"
           }
          },
          "shapedefaults": {
           "line": {
            "color": "#2a3f5f"
           }
          },
          "ternary": {
           "aaxis": {
            "gridcolor": "white",
            "linecolor": "white",
            "ticks": ""
           },
           "baxis": {
            "gridcolor": "white",
            "linecolor": "white",
            "ticks": ""
           },
           "bgcolor": "#E5ECF6",
           "caxis": {
            "gridcolor": "white",
            "linecolor": "white",
            "ticks": ""
           }
          },
          "title": {
           "x": 0.05
          },
          "xaxis": {
           "automargin": true,
           "gridcolor": "white",
           "linecolor": "white",
           "ticks": "",
           "title": {
            "standoff": 15
           },
           "zerolinecolor": "white",
           "zerolinewidth": 2
          },
          "yaxis": {
           "automargin": true,
           "gridcolor": "white",
           "linecolor": "white",
           "ticks": "",
           "title": {
            "standoff": 15
           },
           "zerolinecolor": "white",
           "zerolinewidth": 2
          }
         }
        },
        "title": {
         "text": " Top-20 hôtels par ville"
        }
       }
      }
     },
     "metadata": {},
     "output_type": "display_data"
    }
   ],
   "source": [
    "import pandas as pd\n",
    "import plotly.express as px\n",
    "from variables import final_csv_name, weather_html_map, hotel_html_map\n",
    "\n",
    "# Lecture du csv\n",
    "df_final = pd.read_csv(final_csv_name)\n",
    "\n",
    "# CARTE Météo TOP 5 des destinations\n",
    "# On isole les colonnes utiles à la création de la carte\n",
    "df_weather_map = df_final[[\"id_city\", \"city\", \"lat\", \"lon\", \"temperature\", \"condition\"]].drop_duplicates()\n",
    "\n",
    "# Top 5 des températures les plus élevées\n",
    "df_weather_map = df_weather_map.sort_values(\"temperature\", ascending = False).head(5)\n",
    "\n",
    "# Arrondi la température (car on ne présente pas une température avec des virgules)\n",
    "df_weather_map[\"temperature\"] = df_weather_map[\"temperature\"].apply(lambda x:round(x))\n",
    "\n",
    "# Calcul la taille des bubbles : \n",
    "# La taille sera fonction de la température, sauf si celle-ci est <=0, dans ce cas on met la taille mini : 1\n",
    "df_weather_map[\"size_temp\"] = df_weather_map.apply(lambda x: 1 if x[\"temperature\"] <= 0 else x[\"temperature\"], axis = 1)\n",
    "\n",
    "# Renommage des colonnes\n",
    "df_weather_map = df_weather_map.rename({\"temperature\":\"Température moyenne (°C)\", \"condition\":\"Conditions\"}, axis = 1)\n",
    "\n",
    "# Carte WEATHER\n",
    "map_temp_moy = px.scatter_map(df_weather_map, lat = \"lat\", lon = \"lon\", \n",
    "                        size = \"size_temp\",\n",
    "                        hover_name=\"city\",\n",
    "                        hover_data={\"lat\":False, \"lon\":False, \"size_temp\":False, \"Conditions\": True},\n",
    "                        color = \"Température moyenne (°C)\",  color_continuous_scale = \"Bluered\",\n",
    "                        zoom = 4, map_style = \"open-street-map\",\n",
    "                        title = \"Top-5 destinations sur les 5 prochains jours\")\n",
    "\n",
    "map_temp_moy.show()\n",
    "map_temp_moy.write_html(weather_html_map)\n",
    "\n",
    "\n",
    "# CARTE TOP 20 des hôtels pour le top-5 des villes ayant les températures les plus élevées\n",
    "# On isole les colonnes utiles à la création de la carte\n",
    "df_hotel_map = df_final.loc[df_final[\"id_city\"].isin(df_weather_map[\"id_city\"]), [\"id_city\", \"city\", \"hotel_lat\", \"hotel_lon\", \"hotel_name\", \"hotel_score\", \"hotel_link\"]]\n",
    "\n",
    "# Lien hypertexte pour aller sur le détail de l'hotel\n",
    "df_hotel_map = df_hotel_map.copy() # Créer une copie explicite pour éviter le warning\n",
    "df_hotel_map[\"hotel_url\"] = df_hotel_map.apply(lambda x: str(\"<a href=\\'\" + x[\"hotel_link\"] + \"'>\" + x[\"hotel_name\"] + \"</a>\"), axis=1) \n",
    "\n",
    "# Renommage des colonnes\n",
    "df_hotel_map = df_hotel_map.rename({\"hotel_score\":\"Note utilisateurs\"}, axis=1)\n",
    "\n",
    "# Carte HOTEL\n",
    "map_hotel = px.scatter_map(df_hotel_map, lat = \"hotel_lat\", lon = \"hotel_lon\", \n",
    "                        hover_name=\"hotel_url\",\n",
    "                        hover_data={\"city\":False, \"hotel_lat\":False, \"hotel_lon\":False, \"Note utilisateurs\":True},\n",
    "                        color=\"city\",\n",
    "                        zoom = 5, map_style = \"open-street-map\",\n",
    "                        title = \" Top-20 hôtels par ville\")\n",
    "\n",
    "# Taille des marqueurs\n",
    "map_hotel.update_traces(marker={\"size\": 20, \"opacity\": 0.7})\n",
    "\n",
    "# Couleur de fond du survol pour voir le lien hypertexte\n",
    "map_hotel.update_layout(hoverlabel={\"bgcolor\":\"white\"})\n",
    "\n",
    "map_hotel.show()\n",
    "map_hotel.write_html(hotel_html_map)\n"
   ]
  }
 ],
 "metadata": {
  "kernelspec": {
   "display_name": "dsfs_env",
   "language": "python",
   "name": "python3"
  },
  "language_info": {
   "codemirror_mode": {
    "name": "ipython",
    "version": 3
   },
   "file_extension": ".py",
   "mimetype": "text/x-python",
   "name": "python",
   "nbconvert_exporter": "python",
   "pygments_lexer": "ipython3",
   "version": "3.12.3"
  }
 },
 "nbformat": 4,
 "nbformat_minor": 5
}
