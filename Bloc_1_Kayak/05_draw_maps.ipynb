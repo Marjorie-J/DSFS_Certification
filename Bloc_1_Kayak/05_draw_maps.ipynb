{
 "cells": [
  {
   "cell_type": "markdown",
   "id": "7335baa5",
   "metadata": {},
   "source": [
    "Construit 2 cartes : \n",
    " - Top-5 destinations : villes où la météo est la plus agréable sur les 5 prochains jours (ici, températures les plus élevées) + affichage des conditions météo\n",
    " - Top-20 hotels pour chacune de ces 5 villes. Un lien permettra d'accéder à la page détail de chaque hôtel"
   ]
  },
  {
   "cell_type": "code",
   "execution_count": 3,
   "id": "edef0afb",
   "metadata": {},
   "outputs": [
    {
     "data": {
      "application/vnd.plotly.v1+json": {
       "config": {
        "plotlyServerURL": "https://plot.ly"
       },
       "data": [
        {
         "customdata": [
          [
           48.8534951,
           2.3483915,
           19,
           "ciel dégagé"
          ],
          [
           43.9492493,
           4.8059012,
           18,
           "ciel dégagé"
          ],
          [
           43.5298424,
           5.4474738,
           18,
           "ciel dégagé"
          ],
          [
           43.8374249,
           4.3600687,
           18,
           "ciel dégagé"
          ],
          [
           45.1875602,
           5.7357819,
           18,
           "légère pluie"
          ]
         ],
         "hovertemplate": "<b>%{hovertext}</b><br><br>Conditions=%{customdata[3]}<br>Température moyenne (°C)=%{marker.color}<extra></extra>",
         "hovertext": [
          "Paris",
          "Avignon",
          "Aix en Provence",
          "Nimes",
          "Grenoble"
         ],
         "lat": [
          48.8534951,
          43.9492493,
          43.5298424,
          43.8374249,
          45.1875602
         ],
         "legendgroup": "",
         "lon": [
          2.3483915,
          4.8059012,
          5.4474738,
          4.3600687,
          5.7357819
         ],
         "marker": {
          "color": [
           19,
           18,
           18,
           18,
           18
          ],
          "coloraxis": "coloraxis",
          "size": [
           19,
           18,
           18,
           18,
           18
          ],
          "sizemode": "area",
          "sizeref": 0.0475
         },
         "mode": "markers",
         "name": "",
         "showlegend": false,
         "subplot": "map",
         "type": "scattermap"
        }
       ],
       "layout": {
        "coloraxis": {
         "colorbar": {
          "title": {
           "text": "Température moyenne (°C)"
          }
         },
         "colorscale": [
          [
           0,
           "rgb(0,0,255)"
          ],
          [
           1,
           "rgb(255,0,0)"
          ]
         ]
        },
        "legend": {
         "itemsizing": "constant",
         "tracegroupgap": 0
        },
        "map": {
         "center": {
          "lat": 45.07151438,
          "lon": 4.53952342
         },
         "domain": {
          "x": [
           0,
           1
          ],
          "y": [
           0,
           1
          ]
         },
         "style": "open-street-map",
         "zoom": 4
        },
        "mapbox": {
         "center": {
          "lat": 45.07151438,
          "lon": 4.53952342
         },
         "style": "open-street-map",
         "zoom": 4
        },
        "template": {
         "data": {
          "bar": [
           {
            "error_x": {
             "color": "#2a3f5f"
            },
            "error_y": {
             "color": "#2a3f5f"
            },
            "marker": {
             "line": {
              "color": "#E5ECF6",
              "width": 0.5
             },
             "pattern": {
              "fillmode": "overlay",
              "size": 10,
              "solidity": 0.2
             }
            },
            "type": "bar"
           }
          ],
          "barpolar": [
           {
            "marker": {
             "line": {
              "color": "#E5ECF6",
              "width": 0.5
             },
             "pattern": {
              "fillmode": "overlay",
              "size": 10,
              "solidity": 0.2
             }
            },
            "type": "barpolar"
           }
          ],
          "carpet": [
           {
            "aaxis": {
             "endlinecolor": "#2a3f5f",
             "gridcolor": "white",
             "linecolor": "white",
             "minorgridcolor": "white",
             "startlinecolor": "#2a3f5f"
            },
            "baxis": {
             "endlinecolor": "#2a3f5f",
             "gridcolor": "white",
             "linecolor": "white",
             "minorgridcolor": "white",
             "startlinecolor": "#2a3f5f"
            },
            "type": "carpet"
           }
          ],
          "choropleth": [
           {
            "colorbar": {
             "outlinewidth": 0,
             "ticks": ""
            },
            "type": "choropleth"
           }
          ],
          "contour": [
           {
            "colorbar": {
             "outlinewidth": 0,
             "ticks": ""
            },
            "colorscale": [
             [
              0,
              "#0d0887"
             ],
             [
              0.1111111111111111,
              "#46039f"
             ],
             [
              0.2222222222222222,
              "#7201a8"
             ],
             [
              0.3333333333333333,
              "#9c179e"
             ],
             [
              0.4444444444444444,
              "#bd3786"
             ],
             [
              0.5555555555555556,
              "#d8576b"
             ],
             [
              0.6666666666666666,
              "#ed7953"
             ],
             [
              0.7777777777777778,
              "#fb9f3a"
             ],
             [
              0.8888888888888888,
              "#fdca26"
             ],
             [
              1,
              "#f0f921"
             ]
            ],
            "type": "contour"
           }
          ],
          "contourcarpet": [
           {
            "colorbar": {
             "outlinewidth": 0,
             "ticks": ""
            },
            "type": "contourcarpet"
           }
          ],
          "heatmap": [
           {
            "colorbar": {
             "outlinewidth": 0,
             "ticks": ""
            },
            "colorscale": [
             [
              0,
              "#0d0887"
             ],
             [
              0.1111111111111111,
              "#46039f"
             ],
             [
              0.2222222222222222,
              "#7201a8"
             ],
             [
              0.3333333333333333,
              "#9c179e"
             ],
             [
              0.4444444444444444,
              "#bd3786"
             ],
             [
              0.5555555555555556,
              "#d8576b"
             ],
             [
              0.6666666666666666,
              "#ed7953"
             ],
             [
              0.7777777777777778,
              "#fb9f3a"
             ],
             [
              0.8888888888888888,
              "#fdca26"
             ],
             [
              1,
              "#f0f921"
             ]
            ],
            "type": "heatmap"
           }
          ],
          "heatmapgl": [
           {
            "colorbar": {
             "outlinewidth": 0,
             "ticks": ""
            },
            "colorscale": [
             [
              0,
              "#0d0887"
             ],
             [
              0.1111111111111111,
              "#46039f"
             ],
             [
              0.2222222222222222,
              "#7201a8"
             ],
             [
              0.3333333333333333,
              "#9c179e"
             ],
             [
              0.4444444444444444,
              "#bd3786"
             ],
             [
              0.5555555555555556,
              "#d8576b"
             ],
             [
              0.6666666666666666,
              "#ed7953"
             ],
             [
              0.7777777777777778,
              "#fb9f3a"
             ],
             [
              0.8888888888888888,
              "#fdca26"
             ],
             [
              1,
              "#f0f921"
             ]
            ],
            "type": "heatmapgl"
           }
          ],
          "histogram": [
           {
            "marker": {
             "pattern": {
              "fillmode": "overlay",
              "size": 10,
              "solidity": 0.2
             }
            },
            "type": "histogram"
           }
          ],
          "histogram2d": [
           {
            "colorbar": {
             "outlinewidth": 0,
             "ticks": ""
            },
            "colorscale": [
             [
              0,
              "#0d0887"
             ],
             [
              0.1111111111111111,
              "#46039f"
             ],
             [
              0.2222222222222222,
              "#7201a8"
             ],
             [
              0.3333333333333333,
              "#9c179e"
             ],
             [
              0.4444444444444444,
              "#bd3786"
             ],
             [
              0.5555555555555556,
              "#d8576b"
             ],
             [
              0.6666666666666666,
              "#ed7953"
             ],
             [
              0.7777777777777778,
              "#fb9f3a"
             ],
             [
              0.8888888888888888,
              "#fdca26"
             ],
             [
              1,
              "#f0f921"
             ]
            ],
            "type": "histogram2d"
           }
          ],
          "histogram2dcontour": [
           {
            "colorbar": {
             "outlinewidth": 0,
             "ticks": ""
            },
            "colorscale": [
             [
              0,
              "#0d0887"
             ],
             [
              0.1111111111111111,
              "#46039f"
             ],
             [
              0.2222222222222222,
              "#7201a8"
             ],
             [
              0.3333333333333333,
              "#9c179e"
             ],
             [
              0.4444444444444444,
              "#bd3786"
             ],
             [
              0.5555555555555556,
              "#d8576b"
             ],
             [
              0.6666666666666666,
              "#ed7953"
             ],
             [
              0.7777777777777778,
              "#fb9f3a"
             ],
             [
              0.8888888888888888,
              "#fdca26"
             ],
             [
              1,
              "#f0f921"
             ]
            ],
            "type": "histogram2dcontour"
           }
          ],
          "mesh3d": [
           {
            "colorbar": {
             "outlinewidth": 0,
             "ticks": ""
            },
            "type": "mesh3d"
           }
          ],
          "parcoords": [
           {
            "line": {
             "colorbar": {
              "outlinewidth": 0,
              "ticks": ""
             }
            },
            "type": "parcoords"
           }
          ],
          "pie": [
           {
            "automargin": true,
            "type": "pie"
           }
          ],
          "scatter": [
           {
            "fillpattern": {
             "fillmode": "overlay",
             "size": 10,
             "solidity": 0.2
            },
            "type": "scatter"
           }
          ],
          "scatter3d": [
           {
            "line": {
             "colorbar": {
              "outlinewidth": 0,
              "ticks": ""
             }
            },
            "marker": {
             "colorbar": {
              "outlinewidth": 0,
              "ticks": ""
             }
            },
            "type": "scatter3d"
           }
          ],
          "scattercarpet": [
           {
            "marker": {
             "colorbar": {
              "outlinewidth": 0,
              "ticks": ""
             }
            },
            "type": "scattercarpet"
           }
          ],
          "scattergeo": [
           {
            "marker": {
             "colorbar": {
              "outlinewidth": 0,
              "ticks": ""
             }
            },
            "type": "scattergeo"
           }
          ],
          "scattergl": [
           {
            "marker": {
             "colorbar": {
              "outlinewidth": 0,
              "ticks": ""
             }
            },
            "type": "scattergl"
           }
          ],
          "scattermapbox": [
           {
            "marker": {
             "colorbar": {
              "outlinewidth": 0,
              "ticks": ""
             }
            },
            "type": "scattermapbox"
           }
          ],
          "scatterpolar": [
           {
            "marker": {
             "colorbar": {
              "outlinewidth": 0,
              "ticks": ""
             }
            },
            "type": "scatterpolar"
           }
          ],
          "scatterpolargl": [
           {
            "marker": {
             "colorbar": {
              "outlinewidth": 0,
              "ticks": ""
             }
            },
            "type": "scatterpolargl"
           }
          ],
          "scatterternary": [
           {
            "marker": {
             "colorbar": {
              "outlinewidth": 0,
              "ticks": ""
             }
            },
            "type": "scatterternary"
           }
          ],
          "surface": [
           {
            "colorbar": {
             "outlinewidth": 0,
             "ticks": ""
            },
            "colorscale": [
             [
              0,
              "#0d0887"
             ],
             [
              0.1111111111111111,
              "#46039f"
             ],
             [
              0.2222222222222222,
              "#7201a8"
             ],
             [
              0.3333333333333333,
              "#9c179e"
             ],
             [
              0.4444444444444444,
              "#bd3786"
             ],
             [
              0.5555555555555556,
              "#d8576b"
             ],
             [
              0.6666666666666666,
              "#ed7953"
             ],
             [
              0.7777777777777778,
              "#fb9f3a"
             ],
             [
              0.8888888888888888,
              "#fdca26"
             ],
             [
              1,
              "#f0f921"
             ]
            ],
            "type": "surface"
           }
          ],
          "table": [
           {
            "cells": {
             "fill": {
              "color": "#EBF0F8"
             },
             "line": {
              "color": "white"
             }
            },
            "header": {
             "fill": {
              "color": "#C8D4E3"
             },
             "line": {
              "color": "white"
             }
            },
            "type": "table"
           }
          ]
         },
         "layout": {
          "annotationdefaults": {
           "arrowcolor": "#2a3f5f",
           "arrowhead": 0,
           "arrowwidth": 1
          },
          "autotypenumbers": "strict",
          "coloraxis": {
           "colorbar": {
            "outlinewidth": 0,
            "ticks": ""
           }
          },
          "colorscale": {
           "diverging": [
            [
             0,
             "#8e0152"
            ],
            [
             0.1,
             "#c51b7d"
            ],
            [
             0.2,
             "#de77ae"
            ],
            [
             0.3,
             "#f1b6da"
            ],
            [
             0.4,
             "#fde0ef"
            ],
            [
             0.5,
             "#f7f7f7"
            ],
            [
             0.6,
             "#e6f5d0"
            ],
            [
             0.7,
             "#b8e186"
            ],
            [
             0.8,
             "#7fbc41"
            ],
            [
             0.9,
             "#4d9221"
            ],
            [
             1,
             "#276419"
            ]
           ],
           "sequential": [
            [
             0,
             "#0d0887"
            ],
            [
             0.1111111111111111,
             "#46039f"
            ],
            [
             0.2222222222222222,
             "#7201a8"
            ],
            [
             0.3333333333333333,
             "#9c179e"
            ],
            [
             0.4444444444444444,
             "#bd3786"
            ],
            [
             0.5555555555555556,
             "#d8576b"
            ],
            [
             0.6666666666666666,
             "#ed7953"
            ],
            [
             0.7777777777777778,
             "#fb9f3a"
            ],
            [
             0.8888888888888888,
             "#fdca26"
            ],
            [
             1,
             "#f0f921"
            ]
           ],
           "sequentialminus": [
            [
             0,
             "#0d0887"
            ],
            [
             0.1111111111111111,
             "#46039f"
            ],
            [
             0.2222222222222222,
             "#7201a8"
            ],
            [
             0.3333333333333333,
             "#9c179e"
            ],
            [
             0.4444444444444444,
             "#bd3786"
            ],
            [
             0.5555555555555556,
             "#d8576b"
            ],
            [
             0.6666666666666666,
             "#ed7953"
            ],
            [
             0.7777777777777778,
             "#fb9f3a"
            ],
            [
             0.8888888888888888,
             "#fdca26"
            ],
            [
             1,
             "#f0f921"
            ]
           ]
          },
          "colorway": [
           "#636efa",
           "#EF553B",
           "#00cc96",
           "#ab63fa",
           "#FFA15A",
           "#19d3f3",
           "#FF6692",
           "#B6E880",
           "#FF97FF",
           "#FECB52"
          ],
          "font": {
           "color": "#2a3f5f"
          },
          "geo": {
           "bgcolor": "white",
           "lakecolor": "white",
           "landcolor": "#E5ECF6",
           "showlakes": true,
           "showland": true,
           "subunitcolor": "white"
          },
          "hoverlabel": {
           "align": "left"
          },
          "hovermode": "closest",
          "mapbox": {
           "style": "light"
          },
          "paper_bgcolor": "white",
          "plot_bgcolor": "#E5ECF6",
          "polar": {
           "angularaxis": {
            "gridcolor": "white",
            "linecolor": "white",
            "ticks": ""
           },
           "bgcolor": "#E5ECF6",
           "radialaxis": {
            "gridcolor": "white",
            "linecolor": "white",
            "ticks": ""
           }
          },
          "scene": {
           "xaxis": {
            "backgroundcolor": "#E5ECF6",
            "gridcolor": "white",
            "gridwidth": 2,
            "linecolor": "white",
            "showbackground": true,
            "ticks": "",
            "zerolinecolor": "white"
           },
           "yaxis": {
            "backgroundcolor": "#E5ECF6",
            "gridcolor": "white",
            "gridwidth": 2,
            "linecolor": "white",
            "showbackground": true,
            "ticks": "",
            "zerolinecolor": "white"
           },
           "zaxis": {
            "backgroundcolor": "#E5ECF6",
            "gridcolor": "white",
            "gridwidth": 2,
            "linecolor": "white",
            "showbackground": true,
            "ticks": "",
            "zerolinecolor": "white"
           }
          },
          "shapedefaults": {
           "line": {
            "color": "#2a3f5f"
           }
          },
          "ternary": {
           "aaxis": {
            "gridcolor": "white",
            "linecolor": "white",
            "ticks": ""
           },
           "baxis": {
            "gridcolor": "white",
            "linecolor": "white",
            "ticks": ""
           },
           "bgcolor": "#E5ECF6",
           "caxis": {
            "gridcolor": "white",
            "linecolor": "white",
            "ticks": ""
           }
          },
          "title": {
           "x": 0.05
          },
          "xaxis": {
           "automargin": true,
           "gridcolor": "white",
           "linecolor": "white",
           "ticks": "",
           "title": {
            "standoff": 15
           },
           "zerolinecolor": "white",
           "zerolinewidth": 2
          },
          "yaxis": {
           "automargin": true,
           "gridcolor": "white",
           "linecolor": "white",
           "ticks": "",
           "title": {
            "standoff": 15
           },
           "zerolinecolor": "white",
           "zerolinewidth": 2
          }
         }
        },
        "title": {
         "text": "Top-5 destinations sur les 5 prochains jours"
        }
       }
      }
     },
     "metadata": {},
     "output_type": "display_data"
    },
    {
     "data": {
      "application/vnd.plotly.v1+json": {
       "config": {
        "plotlyServerURL": "https://plot.ly"
       },
       "data": [
        {
         "customdata": [
          [
           "Paris",
           48.8862242254587,
           2.3352813720703125,
           "9,6"
          ],
          [
           "Paris",
           48.873954,
           2.3405447,
           "9,6"
          ],
          [
           "Paris",
           48.86820701,
           2.301493585,
           "9,5"
          ],
          [
           "Paris",
           48.8527928,
           2.3091826,
           "9,3"
          ],
          [
           "Paris",
           48.875459,
           2.343425,
           "9,3"
          ],
          [
           "Paris",
           48.85329562419074,
           2.345758080482483,
           "9,3"
          ],
          [
           "Paris",
           48.844209,
           2.280853,
           "9,2"
          ],
          [
           "Paris",
           48.8482842,
           2.3657250999999637,
           "9,6"
          ],
          [
           "Paris",
           48.8851169,
           2.3250712,
           "9,4"
          ],
          [
           "Paris",
           48.8657684,
           2.3508444,
           "9,4"
          ],
          [
           "Paris",
           48.87151630143544,
           2.301112711593305,
           "9,5"
          ],
          [
           "Paris",
           48.871797694118165,
           2.3280876874923706,
           "9,3"
          ],
          [
           "Paris",
           48.83582,
           2.292364,
           "9,4"
          ],
          [
           "Paris",
           48.8613519,
           2.3486811,
           "9,4"
          ],
          [
           "Paris",
           48.8867476,
           2.2858468,
           "9,4"
          ],
          [
           "Paris",
           48.84480905370051,
           2.3524400001329013,
           "9,4"
          ],
          [
           "Paris",
           48.8902248,
           2.3451377,
           "9,4"
          ],
          [
           "Paris",
           48.85540194602825,
           2.334118634462357,
           "9,5"
          ],
          [
           "Paris",
           48.86875540097767,
           2.300887402446733,
           "9,6"
          ],
          [
           "Paris",
           48.853485,
           2.336409,
           "9,5"
          ]
         ],
         "hovertemplate": "<b>%{hovertext}</b><br><br>Note utilisateurs=%{customdata[3]}<extra></extra>",
         "hovertext": [
          "<a href='https://www.booking.com/hotel/fr/hoteldesarts.fr.html?aid=304142&label=gen173nr-1FCAQoggJCDHNlYXJjaF9wYXJpc0gNWARoTYgBAZgBDbgBCsgBBdgBAegBAfgBA4gCAagCA7gC1PS4wAbAAgHSAiRlMjQ2ZmMyYS1lMDJjLTQ5NzMtYmY1Yy02NGYyNjhhNWJjNzDYAgXgAgE&ucfs=1&arphpl=1&group_adults=2&req_adults=2&no_rooms=1&group_children=0&req_children=0&hpos=1&hapos=1&sr_order=bayesian_review_score&nflt=ht_id%3D204&srpvid=27a3636a7d400346&srepoch=1745762901&from=searchresults'>Hôtel des Arts Montmartre</a>",
          "<a href='https://www.booking.com/hotel/fr/madame-drouot-amp-spa-opera.fr.html?aid=304142&label=gen173nr-1FCAQoggJCDHNlYXJjaF9wYXJpc0gNWARoTYgBAZgBDbgBCsgBBdgBAegBAfgBA4gCAagCA7gC1PS4wAbAAgHSAiRlMjQ2ZmMyYS1lMDJjLTQ5NzMtYmY1Yy02NGYyNjhhNWJjNzDYAgXgAgE&ucfs=1&arphpl=1&group_adults=2&req_adults=2&no_rooms=1&group_children=0&req_children=0&hpos=15&hapos=15&sr_order=bayesian_review_score&nflt=ht_id%3D204&srpvid=27a3636a7d400346&srepoch=1745762901&from=searchresults'>Madame Drouot & Spa - Opera</a>",
          "<a href='https://www.booking.com/hotel/fr/bvlgari-paris.fr.html?aid=304142&label=gen173nr-1FCAQoggJCDHNlYXJjaF9wYXJpc0gNWARoTYgBAZgBDbgBCsgBBdgBAegBAfgBA4gCAagCA7gC1PS4wAbAAgHSAiRlMjQ2ZmMyYS1lMDJjLTQ5NzMtYmY1Yy02NGYyNjhhNWJjNzDYAgXgAgE&ucfs=1&arphpl=1&group_adults=2&req_adults=2&no_rooms=1&group_children=0&req_children=0&hpos=14&hapos=14&sr_order=bayesian_review_score&nflt=ht_id%3D204&srpvid=27a3636a7d400346&srepoch=1745762901&from=searchresults'>Bvlgari Hotel Paris</a>",
          "<a href='https://www.booking.com/hotel/fr/1-75-la-treve.fr.html?aid=304142&label=gen173nr-1FCAQoggJCDHNlYXJjaF9wYXJpc0gNWARoTYgBAZgBDbgBCsgBBdgBAegBAfgBA4gCAagCA7gC1PS4wAbAAgHSAiRlMjQ2ZmMyYS1lMDJjLTQ5NzMtYmY1Yy02NGYyNjhhNWJjNzDYAgXgAgE&ucfs=1&arphpl=1&group_adults=2&req_adults=2&no_rooms=1&group_children=0&req_children=0&hpos=17&hapos=17&sr_order=bayesian_review_score&nflt=ht_id%3D204&srpvid=27a3636a7d400346&srepoch=1745762901&from=searchresults'>1.75 Paris La Trêve</a>",
          "<a href='https://www.booking.com/hotel/fr/la-fantaisie-paris.fr.html?aid=304142&label=gen173nr-1FCAQoggJCDHNlYXJjaF9wYXJpc0gNWARoTYgBAZgBDbgBCsgBBdgBAegBAfgBA4gCAagCA7gC1PS4wAbAAgHSAiRlMjQ2ZmMyYS1lMDJjLTQ5NzMtYmY1Yy02NGYyNjhhNWJjNzDYAgXgAgE&ucfs=1&arphpl=1&group_adults=2&req_adults=2&no_rooms=1&group_children=0&req_children=0&hpos=20&hapos=20&sr_order=bayesian_review_score&nflt=ht_id%3D204&srpvid=27a3636a7d400346&srepoch=1745762901&from=searchresults'>La Fantaisie</a>",
          "<a href='https://www.booking.com/hotel/fr/les-rives-de-notre-dame.fr.html?aid=304142&label=gen173nr-1FCAQoggJCDHNlYXJjaF9wYXJpc0gNWARoTYgBAZgBDbgBCsgBBdgBAegBAfgBA4gCAagCA7gC1PS4wAbAAgHSAiRlMjQ2ZmMyYS1lMDJjLTQ5NzMtYmY1Yy02NGYyNjhhNWJjNzDYAgXgAgE&ucfs=1&arphpl=1&group_adults=2&req_adults=2&no_rooms=1&group_children=0&req_children=0&hpos=19&hapos=19&sr_order=bayesian_review_score&nflt=ht_id%3D204&srpvid=27a3636a7d400346&srepoch=1745762901&from=searchresults'>Les Rives de Notre-Dame</a>",
          "<a href='https://www.booking.com/hotel/fr/quinzerie.fr.html?aid=304142&label=gen173nr-1FCAQoggJCDHNlYXJjaF9wYXJpc0gNWARoTYgBAZgBDbgBCsgBBdgBAegBAfgBA4gCAagCA7gC1PS4wAbAAgHSAiRlMjQ2ZmMyYS1lMDJjLTQ5NzMtYmY1Yy02NGYyNjhhNWJjNzDYAgXgAgE&ucfs=1&arphpl=1&group_adults=2&req_adults=2&no_rooms=1&group_children=0&req_children=0&hpos=16&hapos=16&sr_order=bayesian_review_score&nflt=ht_id%3D204&srpvid=27a3636a7d400346&srepoch=1745762901&from=searchresults'>Quinzerie hôtel</a>",
          "<a href='https://www.booking.com/hotel/fr/goralska-residences-paris-bastille-paris.fr.html?aid=304142&label=gen173nr-1FCAQoggJCDHNlYXJjaF9wYXJpc0gNWARoTYgBAZgBDbgBCsgBBdgBAegBAfgBA4gCAagCA7gC1PS4wAbAAgHSAiRlMjQ2ZmMyYS1lMDJjLTQ5NzMtYmY1Yy02NGYyNjhhNWJjNzDYAgXgAgE&ucfs=1&arphpl=1&group_adults=2&req_adults=2&no_rooms=1&group_children=0&req_children=0&hpos=18&hapos=18&sr_order=bayesian_review_score&nflt=ht_id%3D204&srpvid=27a3636a7d400346&srepoch=1745762901&from=searchresults'>Goralska Résidences Paris Bastille</a>",
          "<a href='https://www.booking.com/hotel/fr/eldorado-paris.fr.html?aid=304142&label=gen173nr-1FCAQoggJCDHNlYXJjaF9wYXJpc0gNWARoTYgBAZgBDbgBCsgBBdgBAegBAfgBA4gCAagCA7gC1PS4wAbAAgHSAiRlMjQ2ZmMyYS1lMDJjLTQ5NzMtYmY1Yy02NGYyNjhhNWJjNzDYAgXgAgE&ucfs=1&arphpl=1&group_adults=2&req_adults=2&no_rooms=1&group_children=0&req_children=0&hpos=13&hapos=13&sr_order=bayesian_review_score&nflt=ht_id%3D204&srpvid=27a3636a7d400346&srepoch=1745762901&from=searchresults'>Hôtel Eldorado Paris</a>",
          "<a href='https://www.booking.com/hotel/fr/nestay-sentier.fr.html?aid=304142&label=gen173nr-1FCAQoggJCDHNlYXJjaF9wYXJpc0gNWARoTYgBAZgBDbgBCsgBBdgBAegBAfgBA4gCAagCA7gC1PS4wAbAAgHSAiRlMjQ2ZmMyYS1lMDJjLTQ5NzMtYmY1Yy02NGYyNjhhNWJjNzDYAgXgAgE&ucfs=1&arphpl=1&group_adults=2&req_adults=2&no_rooms=1&group_children=0&req_children=0&hpos=12&hapos=12&sr_order=bayesian_review_score&nflt=ht_id%3D204&srpvid=27a3636a7d400346&srepoch=1745762901&from=searchresults'>Nestay Sentier</a>",
          "<a href='https://www.booking.com/hotel/fr/fouquet-s-barriere-paris.fr.html?aid=304142&label=gen173nr-1FCAQoggJCDHNlYXJjaF9wYXJpc0gNWARoTYgBAZgBDbgBCsgBBdgBAegBAfgBA4gCAagCA7gC1PS4wAbAAgHSAiRlMjQ2ZmMyYS1lMDJjLTQ5NzMtYmY1Yy02NGYyNjhhNWJjNzDYAgXgAgE&ucfs=1&arphpl=1&group_adults=2&req_adults=2&no_rooms=1&group_children=0&req_children=0&hpos=10&hapos=10&sr_order=bayesian_review_score&nflt=ht_id%3D204&srpvid=27a3636a7d400346&srepoch=1745762901&from=searchresults'>Hôtel Barrière Fouquet's Paris</a>",
          "<a href='https://www.booking.com/hotel/fr/astraopera.fr.html?aid=304142&label=gen173nr-1FCAQoggJCDHNlYXJjaF9wYXJpc0gNWARoTYgBAZgBDbgBCsgBBdgBAegBAfgBA4gCAagCA7gC1PS4wAbAAgHSAiRlMjQ2ZmMyYS1lMDJjLTQ5NzMtYmY1Yy02NGYyNjhhNWJjNzDYAgXgAgE&ucfs=1&arphpl=1&group_adults=2&req_adults=2&no_rooms=1&group_children=0&req_children=0&hpos=9&hapos=9&sr_order=bayesian_review_score&nflt=ht_id%3D204&srpvid=27a3636a7d400346&srepoch=1745762901&from=searchresults'>Hotel Astra Opera - Astotel</a>",
          "<a href='https://www.booking.com/hotel/fr/lutece-paris.fr.html?aid=304142&label=gen173nr-1FCAQoggJCDHNlYXJjaF9wYXJpc0gNWARoTYgBAZgBDbgBCsgBBdgBAegBAfgBA4gCAagCA7gC1PS4wAbAAgHSAiRlMjQ2ZmMyYS1lMDJjLTQ5NzMtYmY1Yy02NGYyNjhhNWJjNzDYAgXgAgE&ucfs=1&arphpl=1&group_adults=2&req_adults=2&no_rooms=1&group_children=0&req_children=0&hpos=11&hapos=11&sr_order=bayesian_review_score&nflt=ht_id%3D204&srpvid=27a3636a7d400346&srepoch=1745762901&from=searchresults'>Hôtel Moderniste</a>",
          "<a href='https://www.booking.com/hotel/fr/nestay-les-halles.fr.html?aid=304142&label=gen173nr-1FCAQoggJCDHNlYXJjaF9wYXJpc0gNWARoTYgBAZgBDbgBCsgBBdgBAegBAfgBA4gCAagCA7gC1PS4wAbAAgHSAiRlMjQ2ZmMyYS1lMDJjLTQ5NzMtYmY1Yy02NGYyNjhhNWJjNzDYAgXgAgE&ucfs=1&arphpl=1&group_adults=2&req_adults=2&no_rooms=1&group_children=0&req_children=0&hpos=8&hapos=8&sr_order=bayesian_review_score&nflt=ht_id%3D204&srpvid=27a3636a7d400346&srepoch=1745762901&from=searchresults'>Nestay Les Halles</a>",
          "<a href='https://www.booking.com/hotel/fr/yuna-porte-maillot-aparthotel.fr.html?aid=304142&label=gen173nr-1FCAQoggJCDHNlYXJjaF9wYXJpc0gNWARoTYgBAZgBDbgBCsgBBdgBAegBAfgBA4gCAagCA7gC1PS4wAbAAgHSAiRlMjQ2ZmMyYS1lMDJjLTQ5NzMtYmY1Yy02NGYyNjhhNWJjNzDYAgXgAgE&ucfs=1&arphpl=1&group_adults=2&req_adults=2&no_rooms=1&group_children=0&req_children=0&hpos=7&hapos=7&sr_order=bayesian_review_score&nflt=ht_id%3D204&srpvid=27a3636a7d400346&srepoch=1745762901&from=searchresults'>Yuna Porte-Maillot - ApartHotel</a>",
          "<a href='https://www.booking.com/hotel/fr/monge-paris7.fr.html?aid=304142&label=gen173nr-1FCAQoggJCDHNlYXJjaF9wYXJpc0gNWARoTYgBAZgBDbgBCsgBBdgBAegBAfgBA4gCAagCA7gC1PS4wAbAAgHSAiRlMjQ2ZmMyYS1lMDJjLTQ5NzMtYmY1Yy02NGYyNjhhNWJjNzDYAgXgAgE&ucfs=1&arphpl=1&group_adults=2&req_adults=2&no_rooms=1&group_children=0&req_children=0&hpos=6&hapos=6&sr_order=bayesian_review_score&nflt=ht_id%3D204&srpvid=27a3636a7d400346&srepoch=1745762901&from=searchresults'>Hotel Monge</a>",
          "<a href='https://www.booking.com/hotel/fr/yuna-montmartre-aparthotel.fr.html?aid=304142&label=gen173nr-1FCAQoggJCDHNlYXJjaF9wYXJpc0gNWARoTYgBAZgBDbgBCsgBBdgBAegBAfgBA4gCAagCA7gC1PS4wAbAAgHSAiRlMjQ2ZmMyYS1lMDJjLTQ5NzMtYmY1Yy02NGYyNjhhNWJjNzDYAgXgAgE&ucfs=1&arphpl=1&group_adults=2&req_adults=2&no_rooms=1&group_children=0&req_children=0&hpos=5&hapos=5&sr_order=bayesian_review_score&nflt=ht_id%3D204&srpvid=27a3636a7d400346&srepoch=1745762901&from=searchresults'>Yuna Montmartre - ApartHotel</a>",
          "<a href='https://www.booking.com/hotel/fr/lavillasaintgermaindespres.fr.html?aid=304142&label=gen173nr-1FCAQoggJCDHNlYXJjaF9wYXJpc0gNWARoTYgBAZgBDbgBCsgBBdgBAegBAfgBA4gCAagCA7gC1PS4wAbAAgHSAiRlMjQ2ZmMyYS1lMDJjLTQ5NzMtYmY1Yy02NGYyNjhhNWJjNzDYAgXgAgE&ucfs=1&arphpl=1&group_adults=2&req_adults=2&no_rooms=1&group_children=0&req_children=0&hpos=4&hapos=4&sr_order=bayesian_review_score&nflt=ht_id%3D204&srpvid=27a3636a7d400346&srepoch=1745762901&from=searchresults'>Hotel La Villa Saint Germain Des Prés</a>",
          "<a href='https://www.booking.com/hotel/fr/four-seasons-george-v-paris.fr.html?aid=304142&label=gen173nr-1FCAQoggJCDHNlYXJjaF9wYXJpc0gNWARoTYgBAZgBDbgBCsgBBdgBAegBAfgBA4gCAagCA7gC1PS4wAbAAgHSAiRlMjQ2ZmMyYS1lMDJjLTQ5NzMtYmY1Yy02NGYyNjhhNWJjNzDYAgXgAgE&ucfs=1&arphpl=1&group_adults=2&req_adults=2&no_rooms=1&group_children=0&req_children=0&hpos=3&hapos=3&sr_order=bayesian_review_score&nflt=ht_id%3D204&srpvid=27a3636a7d400346&srepoch=1745762901&from=searchresults'>Four Seasons Hotel George V Paris</a>",
          "<a href='https://www.booking.com/hotel/fr/villa-des-pres.fr.html?aid=304142&label=gen173nr-1FCAQoggJCDHNlYXJjaF9wYXJpc0gNWARoTYgBAZgBDbgBCsgBBdgBAegBAfgBA4gCAagCA7gC1PS4wAbAAgHSAiRlMjQ2ZmMyYS1lMDJjLTQ5NzMtYmY1Yy02NGYyNjhhNWJjNzDYAgXgAgE&ucfs=1&arphpl=1&group_adults=2&req_adults=2&no_rooms=1&group_children=0&req_children=0&hpos=2&hapos=2&sr_order=bayesian_review_score&nflt=ht_id%3D204&srpvid=27a3636a7d400346&srepoch=1745762901&from=searchresults'>Villa-des-Prés</a>"
         ],
         "lat": [
          48.8862242254587,
          48.873954,
          48.86820701,
          48.8527928,
          48.875459,
          48.85329562419074,
          48.844209,
          48.8482842,
          48.8851169,
          48.8657684,
          48.87151630143544,
          48.871797694118165,
          48.83582,
          48.8613519,
          48.8867476,
          48.84480905370051,
          48.8902248,
          48.85540194602825,
          48.86875540097767,
          48.853485
         ],
         "legendgroup": "Paris",
         "lon": [
          2.3352813720703125,
          2.3405447,
          2.301493585,
          2.3091826,
          2.343425,
          2.345758080482483,
          2.280853,
          2.3657250999999637,
          2.3250712,
          2.3508444,
          2.301112711593305,
          2.3280876874923706,
          2.292364,
          2.3486811,
          2.2858468,
          2.3524400001329013,
          2.3451377,
          2.334118634462357,
          2.300887402446733,
          2.336409
         ],
         "marker": {
          "color": "#636efa",
          "opacity": 0.7,
          "size": 20
         },
         "mode": "markers",
         "name": "Paris",
         "showlegend": true,
         "subplot": "map",
         "type": "scattermap"
        },
        {
         "customdata": [
          [
           "Grenoble",
           45.19085898412344,
           5.715724378824234,
           "8,1"
          ],
          [
           "Grenoble",
           45.19081503510005,
           5.728548020124435,
           "8,6"
          ],
          [
           "Grenoble",
           45.17557,
           5.713582,
           "8,4"
          ],
          [
           "Grenoble",
           45.18495018003908,
           5.72598980937039,
           "8,3"
          ],
          [
           "Grenoble",
           45.17927340236415,
           5.7343389093875885,
           "8,5"
          ],
          [
           "Grenoble",
           45.167883,
           5.71176,
           "8,7"
          ],
          [
           "Grenoble",
           45.19035711261138,
           5.727330967783928,
           "8,2"
          ],
          [
           "Grenoble",
           45.186911,
           5.731293,
           "8,5"
          ],
          [
           "Grenoble",
           45.19079329686088,
           5.716696679592133,
           "8,4"
          ],
          [
           "Grenoble",
           45.195810837764,
           5.725446775394,
           "8,6"
          ],
          [
           "Grenoble",
           45.1910782561633,
           5.715598315000534,
           "8,7"
          ],
          [
           "Grenoble",
           45.18410130511121,
           5.732948184013367,
           "8,8"
          ],
          [
           "Grenoble",
           45.186804,
           5.73157,
           "8,9"
          ],
          [
           "Grenoble",
           45.16819994402455,
           5.711994767189026,
           "7,9"
          ],
          [
           "Grenoble",
           45.18928483181276,
           5.7186198234558105,
           "8,9"
          ],
          [
           "Grenoble",
           45.18960902284928,
           5.712178498506546,
           "7,9"
          ],
          [
           "Grenoble",
           45.18920402005693,
           5.725372284650803,
           "7,9"
          ],
          [
           "Grenoble",
           45.191437879382526,
           5.718498453497887,
           "8,0"
          ],
          [
           "Grenoble",
           45.1906950021105,
           5.712595582008362,
           "8,0"
          ],
          [
           "Grenoble",
           45.19089537199886,
           5.719679966568947,
           "8,0"
          ]
         ],
         "hovertemplate": "<b>%{hovertext}</b><br><br>Note utilisateurs=%{customdata[3]}<extra></extra>",
         "hovertext": [
          "<a href='https://www.booking.com/hotel/fr/residhotel-le-central-gare.fr.html?aid=304142&label=gen173nr-1FCAQoggJCD3NlYXJjaF9ncmVub2JsZUgNWARoTYgBAZgBDbgBCsgBBdgBAegBAfgBA4gCAagCA7gC1PS4wAbAAgHSAiQyOTA0MmQ2My00ZDJmLTRmMzctOGU2My0xMjZmNGVkZTc0MTTYAgXgAgE&ucfs=1&arphpl=1&group_adults=2&req_adults=2&no_rooms=1&group_children=0&req_children=0&hpos=14&hapos=14&sr_order=bayesian_review_score&nflt=ht_id%3D204&srpvid=a8c8636a73e505c8&srepoch=1745762901&from=searchresults'>Residhotel Le Central'Gare</a>",
          "<a href='https://www.booking.com/hotel/fr/le-grand-grenoble-centre.fr.html?aid=304142&label=gen173nr-1FCAQoggJCD3NlYXJjaF9ncmVub2JsZUgNWARoTYgBAZgBDbgBCsgBBdgBAegBAfgBA4gCAagCA7gC1PS4wAbAAgHSAiQyOTA0MmQ2My00ZDJmLTRmMzctOGU2My0xMjZmNGVkZTc0MTTYAgXgAgE&ucfs=1&arphpl=1&group_adults=2&req_adults=2&no_rooms=1&group_children=0&req_children=0&hpos=6&hapos=6&sr_order=bayesian_review_score&nflt=ht_id%3D204&srpvid=a8c8636a73e505c8&srepoch=1745762901&from=searchresults'>Le Grand Hôtel Grenoble, BW Premier Collection by Best Western</a>",
          "<a href='https://www.booking.com/hotel/fr/la-petite-maison-grenoble1.fr.html?aid=304142&label=gen173nr-1FCAQoggJCD3NlYXJjaF9ncmVub2JsZUgNWARoTYgBAZgBDbgBCsgBBdgBAegBAfgBA4gCAagCA7gC1PS4wAbAAgHSAiQyOTA0MmQ2My00ZDJmLTRmMzctOGU2My0xMjZmNGVkZTc0MTTYAgXgAgE&ucfs=1&arphpl=1&group_adults=2&req_adults=2&no_rooms=1&group_children=0&req_children=0&hpos=9&hapos=9&sr_order=bayesian_review_score&nflt=ht_id%3D204&srpvid=a8c8636a73e505c8&srepoch=1745762901&from=searchresults'>La petite Maison</a>",
          "<a href='https://www.booking.com/hotel/fr/okko-hotels-grenoble-jardin-hoche.fr.html?aid=304142&label=gen173nr-1FCAQoggJCD3NlYXJjaF9ncmVub2JsZUgNWARoTYgBAZgBDbgBCsgBBdgBAegBAfgBA4gCAagCA7gC1PS4wAbAAgHSAiQyOTA0MmQ2My00ZDJmLTRmMzctOGU2My0xMjZmNGVkZTc0MTTYAgXgAgE&ucfs=1&arphpl=1&group_adults=2&req_adults=2&no_rooms=1&group_children=0&req_children=0&hpos=12&hapos=12&sr_order=bayesian_review_score&nflt=ht_id%3D204&srpvid=a8c8636a73e505c8&srepoch=1745762901&from_sustainable_property_sr=1&from=searchresults'>OKKO Hotels Grenoble Centre</a>",
          "<a href='https://www.booking.com/hotel/fr/tempologis-grenoble.fr.html?aid=304142&label=gen173nr-1FCAQoggJCD3NlYXJjaF9ncmVub2JsZUgNWARoTYgBAZgBDbgBCsgBBdgBAegBAfgBA4gCAagCA7gC1PS4wAbAAgHSAiQyOTA0MmQ2My00ZDJmLTRmMzctOGU2My0xMjZmNGVkZTc0MTTYAgXgAgE&ucfs=1&arphpl=1&group_adults=2&req_adults=2&no_rooms=1&group_children=0&req_children=0&hpos=11&hapos=11&sr_order=bayesian_review_score&nflt=ht_id%3D204&srpvid=a8c8636a73e505c8&srepoch=1745762901&from=searchresults'>Tempologis Grenoble</a>",
          "<a href='https://www.booking.com/hotel/fr/lesdiguieres.fr.html?aid=304142&label=gen173nr-1FCAQoggJCD3NlYXJjaF9ncmVub2JsZUgNWARoTYgBAZgBDbgBCsgBBdgBAegBAfgBA4gCAagCA7gC1PS4wAbAAgHSAiQyOTA0MmQ2My00ZDJmLTRmMzctOGU2My0xMjZmNGVkZTc0MTTYAgXgAgE&ucfs=1&arphpl=1&group_adults=2&req_adults=2&no_rooms=1&group_children=0&req_children=0&hpos=7&hapos=7&sr_order=bayesian_review_score&nflt=ht_id%3D204&srpvid=a8c8636a73e505c8&srepoch=1745762901&from=searchresults'>Hôtel restaurant d'application Lesdiguieres - Ecole hôtelière -</a>",
          "<a href='https://www.booking.com/hotel/fr/de-l-europe-grenoble.fr.html?aid=304142&label=gen173nr-1FCAQoggJCD3NlYXJjaF9ncmVub2JsZUgNWARoTYgBAZgBDbgBCsgBBdgBAegBAfgBA4gCAagCA7gC1PS4wAbAAgHSAiQyOTA0MmQ2My00ZDJmLTRmMzctOGU2My0xMjZmNGVkZTc0MTTYAgXgAgE&ucfs=1&arphpl=1&group_adults=2&req_adults=2&no_rooms=1&group_children=0&req_children=0&hpos=13&hapos=13&sr_order=bayesian_review_score&nflt=ht_id%3D204&srpvid=a8c8636a73e505c8&srepoch=1745762901&from=searchresults'>Hôtel de l'Europe Grenoble hyper-centre</a>",
          "<a href='https://www.booking.com/hotel/fr/rockypop-grenoble.fr.html?aid=304142&label=gen173nr-1FCAQoggJCD3NlYXJjaF9ncmVub2JsZUgNWARoTYgBAZgBDbgBCsgBBdgBAegBAfgBA4gCAagCA7gC1PS4wAbAAgHSAiQyOTA0MmQ2My00ZDJmLTRmMzctOGU2My0xMjZmNGVkZTc0MTTYAgXgAgE&ucfs=1&arphpl=1&group_adults=2&req_adults=2&no_rooms=1&group_children=0&req_children=0&hpos=8&hapos=8&sr_order=bayesian_review_score&nflt=ht_id%3D204&srpvid=a8c8636a73e505c8&srepoch=1745762901&from=searchresults'>RockyPop Grenoble Hotel</a>",
          "<a href='https://www.booking.com/hotel/fr/maison-barbillon-grenoble.fr.html?aid=304142&label=gen173nr-1FCAQoggJCD3NlYXJjaF9ncmVub2JsZUgNWARoTYgBAZgBDbgBCsgBBdgBAegBAfgBA4gCAagCA7gC1PS4wAbAAgHSAiQyOTA0MmQ2My00ZDJmLTRmMzctOGU2My0xMjZmNGVkZTc0MTTYAgXgAgE&ucfs=1&arphpl=1&group_adults=2&req_adults=2&no_rooms=1&group_children=0&req_children=0&hpos=10&hapos=10&sr_order=bayesian_review_score&nflt=ht_id%3D204&srpvid=a8c8636a73e505c8&srepoch=1745762901&from=searchresults'>Maison Barbillon Grenoble - Centre Gare</a>",
          "<a href='https://www.booking.com/hotel/fr/apt-paisible-en-centre-ville-parking-salle-de-sport-bar-en-rooftop.fr.html?aid=304142&label=gen173nr-1FCAQoggJCD3NlYXJjaF9ncmVub2JsZUgNWARoTYgBAZgBDbgBCsgBBdgBAegBAfgBA4gCAagCA7gC1PS4wAbAAgHSAiQyOTA0MmQ2My00ZDJmLTRmMzctOGU2My0xMjZmNGVkZTc0MTTYAgXgAgE&ucfs=1&arphpl=1&group_adults=2&req_adults=2&no_rooms=1&group_children=0&req_children=0&hpos=5&hapos=5&sr_order=bayesian_review_score&nflt=ht_id%3D204&srpvid=a8c8636a73e505c8&srepoch=1745762901&from=searchresults'>The Babel Community Hôtel - Grenoble Bastille</a>",
          "<a href='https://www.booking.com/hotel/fr/hotelterminus.fr.html?aid=304142&label=gen173nr-1FCAQoggJCD3NlYXJjaF9ncmVub2JsZUgNWARoTYgBAZgBDbgBCsgBBdgBAegBAfgBA4gCAagCA7gC1PS4wAbAAgHSAiQyOTA0MmQ2My00ZDJmLTRmMzctOGU2My0xMjZmNGVkZTc0MTTYAgXgAgE&ucfs=1&arphpl=1&group_adults=2&req_adults=2&no_rooms=1&group_children=0&req_children=0&hpos=4&hapos=4&sr_order=bayesian_review_score&nflt=ht_id%3D204&srpvid=a8c8636a73e505c8&srepoch=1745762901&from=searchresults'>Hôtel Terminus</a>",
          "<a href='https://www.booking.com/hotel/fr/park-grenoble.fr.html?aid=304142&label=gen173nr-1FCAQoggJCD3NlYXJjaF9ncmVub2JsZUgNWARoTYgBAZgBDbgBCsgBBdgBAegBAfgBA4gCAagCA7gC1PS4wAbAAgHSAiQyOTA0MmQ2My00ZDJmLTRmMzctOGU2My0xMjZmNGVkZTc0MTTYAgXgAgE&ucfs=1&arphpl=1&group_adults=2&req_adults=2&no_rooms=1&group_children=0&req_children=0&hpos=3&hapos=3&sr_order=bayesian_review_score&nflt=ht_id%3D204&srpvid=a8c8636a73e505c8&srepoch=1745762901&from=searchresults'>Park Hôtel Grenoble - MGallery</a>",
          "<a href='https://www.booking.com/hotel/fr/rockypop-grenoble-appartements.fr.html?aid=304142&label=gen173nr-1FCAQoggJCD3NlYXJjaF9ncmVub2JsZUgNWARoTYgBAZgBDbgBCsgBBdgBAegBAfgBA4gCAagCA7gC1PS4wAbAAgHSAiQyOTA0MmQ2My00ZDJmLTRmMzctOGU2My0xMjZmNGVkZTc0MTTYAgXgAgE&ucfs=1&arphpl=1&group_adults=2&req_adults=2&no_rooms=1&group_children=0&req_children=0&hpos=2&hapos=2&sr_order=bayesian_review_score&nflt=ht_id%3D204&srpvid=a8c8636a73e505c8&srepoch=1745762901&from=searchresults'>RockyPop Grenoble Appartements</a>",
          "<a href='https://www.booking.com/hotel/fr/qualityhotelgrenoble.fr.html?aid=304142&label=gen173nr-1FCAQoggJCD3NlYXJjaF9ncmVub2JsZUgNWARoTYgBAZgBDbgBCsgBBdgBAegBAfgBA4gCAagCA7gC1PS4wAbAAgHSAiQyOTA0MmQ2My00ZDJmLTRmMzctOGU2My0xMjZmNGVkZTc0MTTYAgXgAgE&ucfs=1&arphpl=1&group_adults=2&req_adults=2&no_rooms=1&group_children=0&req_children=0&hpos=20&hapos=20&sr_order=bayesian_review_score&nflt=ht_id%3D204&srpvid=a8c8636a73e505c8&srepoch=1745762901&from=searchresults'>Kyriad Grenoble Centre</a>",
          "<a href='https://www.booking.com/hotel/fr/royal-grenoble.fr.html?aid=304142&label=gen173nr-1FCAQoggJCD3NlYXJjaF9ncmVub2JsZUgNWARoTYgBAZgBDbgBCsgBBdgBAegBAfgBA4gCAagCA7gC1PS4wAbAAgHSAiQyOTA0MmQ2My00ZDJmLTRmMzctOGU2My0xMjZmNGVkZTc0MTTYAgXgAgE&ucfs=1&arphpl=1&group_adults=2&req_adults=2&no_rooms=1&group_children=0&req_children=0&hpos=1&hapos=1&sr_order=bayesian_review_score&nflt=ht_id%3D204&srpvid=a8c8636a73e505c8&srepoch=1745762901&from=searchresults'>1924 Hôtel</a>",
          "<a href='https://www.booking.com/hotel/fr/hipark.fr.html?aid=304142&label=gen173nr-1FCAQoggJCD3NlYXJjaF9ncmVub2JsZUgNWARoTYgBAZgBDbgBCsgBBdgBAegBAfgBA4gCAagCA7gC1PS4wAbAAgHSAiQyOTA0MmQ2My00ZDJmLTRmMzctOGU2My0xMjZmNGVkZTc0MTTYAgXgAgE&ucfs=1&arphpl=1&group_adults=2&req_adults=2&no_rooms=1&group_children=0&req_children=0&hpos=19&hapos=19&sr_order=bayesian_review_score&nflt=ht_id%3D204&srpvid=a8c8636a73e505c8&srepoch=1745762901&from=searchresults'>Adagio Grenoble Centre</a>",
          "<a href='https://www.booking.com/hotel/fr/tiangleterre.fr.html?aid=304142&label=gen173nr-1FCAQoggJCD3NlYXJjaF9ncmVub2JsZUgNWARoTYgBAZgBDbgBCsgBBdgBAegBAfgBA4gCAagCA7gC1PS4wAbAAgHSAiQyOTA0MmQ2My00ZDJmLTRmMzctOGU2My0xMjZmNGVkZTc0MTTYAgXgAgE&ucfs=1&arphpl=1&group_adults=2&req_adults=2&no_rooms=1&group_children=0&req_children=0&hpos=18&hapos=18&sr_order=bayesian_review_score&nflt=ht_id%3D204&srpvid=a8c8636a73e505c8&srepoch=1745762901&from=searchresults'>Hôtel d’Angleterre Grenoble Hyper-Centre</a>",
          "<a href='https://www.booking.com/hotel/fr/gallia-grenoble.fr.html?aid=304142&label=gen173nr-1FCAQoggJCD3NlYXJjaF9ncmVub2JsZUgNWARoTYgBAZgBDbgBCsgBBdgBAegBAfgBA4gCAagCA7gC1PS4wAbAAgHSAiQyOTA0MmQ2My00ZDJmLTRmMzctOGU2My0xMjZmNGVkZTc0MTTYAgXgAgE&ucfs=1&arphpl=1&group_adults=2&req_adults=2&no_rooms=1&group_children=0&req_children=0&hpos=17&hapos=17&sr_order=bayesian_review_score&nflt=ht_id%3D204&srpvid=a8c8636a73e505c8&srepoch=1745762901&from=searchresults'>Hôtel Gloria</a>",
          "<a href='https://www.booking.com/hotel/fr/grenoble-centre.fr.html?aid=304142&label=gen173nr-1FCAQoggJCD3NlYXJjaF9ncmVub2JsZUgNWARoTYgBAZgBDbgBCsgBBdgBAegBAfgBA4gCAagCA7gC1PS4wAbAAgHSAiQyOTA0MmQ2My00ZDJmLTRmMzctOGU2My0xMjZmNGVkZTc0MTTYAgXgAgE&ucfs=1&arphpl=1&group_adults=2&req_adults=2&no_rooms=1&group_children=0&req_children=0&hpos=16&hapos=16&sr_order=bayesian_review_score&nflt=ht_id%3D204&srpvid=a8c8636a73e505c8&srepoch=1745762901&from=searchresults'>Novotel Grenoble Centre</a>",
          "<a href='https://www.booking.com/hotel/fr/all-seasons-grenoble-centre-gare-grenoble.fr.html?aid=304142&label=gen173nr-1FCAQoggJCD3NlYXJjaF9ncmVub2JsZUgNWARoTYgBAZgBDbgBCsgBBdgBAegBAfgBA4gCAagCA7gC1PS4wAbAAgHSAiQyOTA0MmQ2My00ZDJmLTRmMzctOGU2My0xMjZmNGVkZTc0MTTYAgXgAgE&ucfs=1&arphpl=1&group_adults=2&req_adults=2&no_rooms=1&group_children=0&req_children=0&hpos=15&hapos=15&sr_order=bayesian_review_score&nflt=ht_id%3D204&srpvid=a8c8636a73e505c8&srepoch=1745762901&from_sustainable_property_sr=1&from=searchresults'>ibis Styles Grenoble Centre Gare</a>"
         ],
         "lat": [
          45.19085898412344,
          45.19081503510005,
          45.17557,
          45.18495018003908,
          45.17927340236415,
          45.167883,
          45.19035711261138,
          45.186911,
          45.19079329686088,
          45.195810837764,
          45.1910782561633,
          45.18410130511121,
          45.186804,
          45.16819994402455,
          45.18928483181276,
          45.18960902284928,
          45.18920402005693,
          45.191437879382526,
          45.1906950021105,
          45.19089537199886
         ],
         "legendgroup": "Grenoble",
         "lon": [
          5.715724378824234,
          5.728548020124435,
          5.713582,
          5.72598980937039,
          5.7343389093875885,
          5.71176,
          5.727330967783928,
          5.731293,
          5.716696679592133,
          5.725446775394,
          5.715598315000534,
          5.732948184013367,
          5.73157,
          5.711994767189026,
          5.7186198234558105,
          5.712178498506546,
          5.725372284650803,
          5.718498453497887,
          5.712595582008362,
          5.719679966568947
         ],
         "marker": {
          "color": "#EF553B",
          "opacity": 0.7,
          "size": 20
         },
         "mode": "markers",
         "name": "Grenoble",
         "showlegend": true,
         "subplot": "map",
         "type": "scattermap"
        },
        {
         "customdata": [
          [
           "Aix en Provence",
           43.543436200731,
           5.3736957,
           "9,3"
          ],
          [
           "Aix en Provence",
           43.5303448,
           5.4518796,
           "8,8"
          ],
          [
           "Aix en Provence",
           43.53336324193778,
           5.446056425571442,
           "8,5"
          ],
          [
           "Aix en Provence",
           43.53004967137571,
           5.444146692752838,
           "8,5"
          ],
          [
           "Aix en Provence",
           43.52356201318332,
           5.445937067270279,
           "8,7"
          ],
          [
           "Aix en Provence",
           43.4964012,
           5.394397400000003,
           "8,6"
          ],
          [
           "Aix en Provence",
           43.5247755,
           5.45022449999999,
           "8,9"
          ],
          [
           "Aix en Provence",
           43.53126359885809,
           5.445070043206215,
           "8,7"
          ],
          [
           "Aix en Provence",
           43.5320856,
           5.4515111,
           "8,8"
          ],
          [
           "Aix en Provence",
           43.52551655199661,
           5.450152158737183,
           "9,2"
          ],
          [
           "Aix en Provence",
           43.5255987,
           5.45172079999998,
           "8,6"
          ],
          [
           "Aix en Provence",
           43.52116980487331,
           5.496597290039063,
           "9,0"
          ],
          [
           "Aix en Provence",
           43.536101030690894,
           5.448788137561678,
           "9,1"
          ],
          [
           "Aix en Provence",
           43.56879,
           5.47851,
           "9,1"
          ],
          [
           "Aix en Provence",
           43.5435822569446,
           5.373438234640503,
           "9,2"
          ],
          [
           "Aix en Provence",
           43.5433646,
           5.3736497,
           "9,4"
          ],
          [
           "Aix en Provence",
           43.52332474147478,
           5.449725687503815,
           "8,4"
          ],
          [
           "Aix en Provence",
           43.5262404754953,
           5.438204929232597,
           "8,4"
          ],
          [
           "Aix en Provence",
           43.52890621393209,
           5.440869033336639,
           "8,4"
          ],
          [
           "Aix en Provence",
           43.523068,
           5.457699,
           "9,2"
          ]
         ],
         "hovertemplate": "<b>%{hovertext}</b><br><br>Note utilisateurs=%{customdata[3]}<extra></extra>",
         "hovertext": [
          "<a href='https://www.booking.com/hotel/fr/sweet-home-studio-aix-en-provence-terrasse-piscine-resto.fr.html?aid=304142&label=gen173nr-1FCAQoggJCFnNlYXJjaF9haXggZW4gcHJvdmVuY2VIDVgEaE2IAQGYAQ24AQrIAQXYAQHoAQH4AQOIAgGoAgO4AtT0uMAGwAIB0gIkZjkzYjc2ODktNmM2Ny00OTU5LWE4NjQtOWJjYmM4OGY2Yzk22AIF4AIB&ucfs=1&arphpl=1&group_adults=2&req_adults=2&no_rooms=1&group_children=0&req_children=0&hpos=1&hapos=1&sr_order=bayesian_review_score&nflt=ht_id%3D204&srpvid=7b4f636aef630159&srepoch=1745762901&from=searchresults'>Sweet Home studio Aix en Provence, terrasse, piscine, resto,</a>",
          "<a href='https://www.booking.com/hotel/fr/finsonius-studios-aix-en-provence.fr.html?aid=304142&label=gen173nr-1FCAQoggJCFnNlYXJjaF9haXggZW4gcHJvdmVuY2VIDVgEaE2IAQGYAQ24AQrIAQXYAQHoAQH4AQOIAgGoAgO4AtT0uMAGwAIB0gIkZjkzYjc2ODktNmM2Ny00OTU5LWE4NjQtOWJjYmM4OGY2Yzk22AIF4AIB&ucfs=1&arphpl=1&group_adults=2&req_adults=2&no_rooms=1&group_children=0&req_children=0&hpos=15&hapos=15&sr_order=bayesian_review_score&nflt=ht_id%3D204&srpvid=7b4f636aef630159&srepoch=1745762901&from=searchresults'>Finsonius Studios</a>",
          "<a href='https://www.booking.com/hotel/fr/paul.fr.html?aid=304142&label=gen173nr-1FCAQoggJCFnNlYXJjaF9haXggZW4gcHJvdmVuY2VIDVgEaE2IAQGYAQ24AQrIAQXYAQHoAQH4AQOIAgGoAgO4AtT0uMAGwAIB0gIkZjkzYjc2ODktNmM2Ny00OTU5LWE4NjQtOWJjYmM4OGY2Yzk22AIF4AIB&ucfs=1&arphpl=1&group_adults=2&req_adults=2&no_rooms=1&group_children=0&req_children=0&hpos=17&hapos=17&sr_order=bayesian_review_score&nflt=ht_id%3D204&srpvid=7b4f636aef630159&srepoch=1745762901&from=searchresults'>Hôtel Paul</a>",
          "<a href='https://www.booking.com/hotel/fr/hotel-escaletto.fr.html?aid=304142&label=gen173nr-1FCAQoggJCFnNlYXJjaF9haXggZW4gcHJvdmVuY2VIDVgEaE2IAQGYAQ24AQrIAQXYAQHoAQH4AQOIAgGoAgO4AtT0uMAGwAIB0gIkZjkzYjc2ODktNmM2Ny00OTU5LWE4NjQtOWJjYmM4OGY2Yzk22AIF4AIB&ucfs=1&arphpl=1&group_adults=2&req_adults=2&no_rooms=1&group_children=0&req_children=0&hpos=16&hapos=16&sr_order=bayesian_review_score&nflt=ht_id%3D204&srpvid=7b4f636aef630159&srepoch=1745762901&from_sustainable_property_sr=1&from=searchresults'>Hôtel Escaletto</a>",
          "<a href='https://www.booking.com/hotel/fr/cezanne-aix-en-provence.fr.html?aid=304142&label=gen173nr-1FCAQoggJCFnNlYXJjaF9haXggZW4gcHJvdmVuY2VIDVgEaE2IAQGYAQ24AQrIAQXYAQHoAQH4AQOIAgGoAgO4AtT0uMAGwAIB0gIkZjkzYjc2ODktNmM2Ny00OTU5LWE4NjQtOWJjYmM4OGY2Yzk22AIF4AIB&ucfs=1&arphpl=1&group_adults=2&req_adults=2&no_rooms=1&group_children=0&req_children=0&hpos=10&hapos=10&sr_order=bayesian_review_score&nflt=ht_id%3D204&srpvid=7b4f636aef630159&srepoch=1745762901&from=searchresults'>Hôtel Cézanne Boutique-Hôtel</a>",
          "<a href='https://www.booking.com/hotel/fr/domaine-and-cie.fr.html?aid=304142&label=gen173nr-1FCAQoggJCFnNlYXJjaF9haXggZW4gcHJvdmVuY2VIDVgEaE2IAQGYAQ24AQrIAQXYAQHoAQH4AQOIAgGoAgO4AtT0uMAGwAIB0gIkZjkzYjc2ODktNmM2Ny00OTU5LWE4NjQtOWJjYmM4OGY2Yzk22AIF4AIB&ucfs=1&arphpl=1&group_adults=2&req_adults=2&no_rooms=1&group_children=0&req_children=0&hpos=13&hapos=13&sr_order=bayesian_review_score&nflt=ht_id%3D204&srpvid=7b4f636aef630159&srepoch=1745762901&from=searchresults'>Domaine Gaogaia</a>",
          "<a href='https://www.booking.com/hotel/fr/particulier-28-a-aix-aix-en-provence1.fr.html?aid=304142&label=gen173nr-1FCAQoggJCFnNlYXJjaF9haXggZW4gcHJvdmVuY2VIDVgEaE2IAQGYAQ24AQrIAQXYAQHoAQH4AQOIAgGoAgO4AtT0uMAGwAIB0gIkZjkzYjc2ODktNmM2Ny00OTU5LWE4NjQtOWJjYmM4OGY2Yzk22AIF4AIB&ucfs=1&arphpl=1&group_adults=2&req_adults=2&no_rooms=1&group_children=0&req_children=0&hpos=12&hapos=12&sr_order=bayesian_review_score&nflt=ht_id%3D204&srpvid=7b4f636aef630159&srepoch=1745762901&from=searchresults'>Hôtel Particulier le 28</a>",
          "<a href='https://www.booking.com/hotel/fr/hotel-aquabella.fr.html?aid=304142&label=gen173nr-1FCAQoggJCFnNlYXJjaF9haXggZW4gcHJvdmVuY2VIDVgEaE2IAQGYAQ24AQrIAQXYAQHoAQH4AQOIAgGoAgO4AtT0uMAGwAIB0gIkZjkzYjc2ODktNmM2Ny00OTU5LWE4NjQtOWJjYmM4OGY2Yzk22AIF4AIB&ucfs=1&arphpl=1&group_adults=2&req_adults=2&no_rooms=1&group_children=0&req_children=0&hpos=11&hapos=11&sr_order=bayesian_review_score&nflt=ht_id%3D204&srpvid=7b4f636aef630159&srepoch=1745762901&from=searchresults'>Aquabella Hôtel & Spa</a>",
          "<a href='https://www.booking.com/hotel/fr/bellegarde-aix-en-provence.fr.html?aid=304142&label=gen173nr-1FCAQoggJCFnNlYXJjaF9haXggZW4gcHJvdmVuY2VIDVgEaE2IAQGYAQ24AQrIAQXYAQHoAQH4AQOIAgGoAgO4AtT0uMAGwAIB0gIkZjkzYjc2ODktNmM2Ny00OTU5LWE4NjQtOWJjYmM4OGY2Yzk22AIF4AIB&ucfs=1&arphpl=1&group_adults=2&req_adults=2&no_rooms=1&group_children=0&req_children=0&hpos=9&hapos=9&sr_order=bayesian_review_score&nflt=ht_id%3D204&srpvid=7b4f636aef630159&srepoch=1745762901&from=searchresults'>Hôtel Bellegarde by Viktor</a>",
          "<a href='https://www.booking.com/hotel/fr/maison-dauphine.fr.html?aid=304142&label=gen173nr-1FCAQoggJCFnNlYXJjaF9haXggZW4gcHJvdmVuY2VIDVgEaE2IAQGYAQ24AQrIAQXYAQHoAQH4AQOIAgGoAgO4AtT0uMAGwAIB0gIkZjkzYjc2ODktNmM2Ny00OTU5LWE4NjQtOWJjYmM4OGY2Yzk22AIF4AIB&ucfs=1&arphpl=1&group_adults=2&req_adults=2&no_rooms=1&group_children=0&req_children=0&hpos=8&hapos=8&sr_order=bayesian_review_score&nflt=ht_id%3D204&srpvid=7b4f636aef630159&srepoch=1745762901&from=searchresults'>Maison Dauphine</a>",
          "<a href='https://www.booking.com/hotel/fr/cardinal.fr.html?aid=304142&label=gen173nr-1FCAQoggJCFnNlYXJjaF9haXggZW4gcHJvdmVuY2VIDVgEaE2IAQGYAQ24AQrIAQXYAQHoAQH4AQOIAgGoAgO4AtT0uMAGwAIB0gIkZjkzYjc2ODktNmM2Ny00OTU5LWE4NjQtOWJjYmM4OGY2Yzk22AIF4AIB&ucfs=1&arphpl=1&group_adults=2&req_adults=2&no_rooms=1&group_children=0&req_children=0&hpos=14&hapos=14&sr_order=bayesian_review_score&nflt=ht_id%3D204&srpvid=7b4f636aef630159&srepoch=1745762901&from=searchresults'>Hotel Cardinal</a>",
          "<a href='https://www.booking.com/hotel/fr/les-lodges-sainte-victoire.fr.html?aid=304142&label=gen173nr-1FCAQoggJCFnNlYXJjaF9haXggZW4gcHJvdmVuY2VIDVgEaE2IAQGYAQ24AQrIAQXYAQHoAQH4AQOIAgGoAgO4AtT0uMAGwAIB0gIkZjkzYjc2ODktNmM2Ny00OTU5LWE4NjQtOWJjYmM4OGY2Yzk22AIF4AIB&ucfs=1&arphpl=1&group_adults=2&req_adults=2&no_rooms=1&group_children=0&req_children=0&hpos=7&hapos=7&sr_order=bayesian_review_score&nflt=ht_id%3D204&srpvid=7b4f636aef630159&srepoch=1745762901&from=searchresults'>Les Lodges Sainte-Victoire Hotel & Spa</a>",
          "<a href='https://www.booking.com/hotel/fr/villagallici.fr.html?aid=304142&label=gen173nr-1FCAQoggJCFnNlYXJjaF9haXggZW4gcHJvdmVuY2VIDVgEaE2IAQGYAQ24AQrIAQXYAQHoAQH4AQOIAgGoAgO4AtT0uMAGwAIB0gIkZjkzYjc2ODktNmM2Ny00OTU5LWE4NjQtOWJjYmM4OGY2Yzk22AIF4AIB&ucfs=1&arphpl=1&group_adults=2&req_adults=2&no_rooms=1&group_children=0&req_children=0&hpos=6&hapos=6&sr_order=bayesian_review_score&nflt=ht_id%3D204&srpvid=7b4f636aef630159&srepoch=1745762901&from=searchresults'>Villa Gallici Hôtel & Spa</a>",
          "<a href='https://www.booking.com/hotel/fr/chateau-de-la-gaude.fr.html?aid=304142&label=gen173nr-1FCAQoggJCFnNlYXJjaF9haXggZW4gcHJvdmVuY2VIDVgEaE2IAQGYAQ24AQrIAQXYAQHoAQH4AQOIAgGoAgO4AtT0uMAGwAIB0gIkZjkzYjc2ODktNmM2Ny00OTU5LWE4NjQtOWJjYmM4OGY2Yzk22AIF4AIB&ucfs=1&arphpl=1&group_adults=2&req_adults=2&no_rooms=1&group_children=0&req_children=0&hpos=5&hapos=5&sr_order=bayesian_review_score&nflt=ht_id%3D204&srpvid=7b4f636aef630159&srepoch=1745762901&from=searchresults'>Château de la Gaude</a>",
          "<a href='https://www.booking.com/hotel/fr/nuitee-en-provence.fr.html?aid=304142&label=gen173nr-1FCAQoggJCFnNlYXJjaF9haXggZW4gcHJvdmVuY2VIDVgEaE2IAQGYAQ24AQrIAQXYAQHoAQH4AQOIAgGoAgO4AtT0uMAGwAIB0gIkZjkzYjc2ODktNmM2Ny00OTU5LWE4NjQtOWJjYmM4OGY2Yzk22AIF4AIB&ucfs=1&arphpl=1&group_adults=2&req_adults=2&no_rooms=1&group_children=0&req_children=0&hpos=4&hapos=4&sr_order=bayesian_review_score&nflt=ht_id%3D204&srpvid=7b4f636aef630159&srepoch=1745762901&from=searchresults'>Studios Nuitée en Provence</a>",
          "<a href='https://www.booking.com/hotel/fr/residence-adonis.fr.html?aid=304142&label=gen173nr-1FCAQoggJCFnNlYXJjaF9haXggZW4gcHJvdmVuY2VIDVgEaE2IAQGYAQ24AQrIAQXYAQHoAQH4AQOIAgGoAgO4AtT0uMAGwAIB0gIkZjkzYjc2ODktNmM2Ny00OTU5LWE4NjQtOWJjYmM4OGY2Yzk22AIF4AIB&ucfs=1&arphpl=1&group_adults=2&req_adults=2&no_rooms=1&group_children=0&req_children=0&hpos=3&hapos=3&sr_order=bayesian_review_score&nflt=ht_id%3D204&srpvid=7b4f636aef630159&srepoch=1745762901&from=searchresults'>Studio Nuitée en Provence 2</a>",
          "<a href='https://www.booking.com/hotel/fr/grand-mercure-roi-rene.fr.html?aid=304142&label=gen173nr-1FCAQoggJCFnNlYXJjaF9haXggZW4gcHJvdmVuY2VIDVgEaE2IAQGYAQ24AQrIAQXYAQHoAQH4AQOIAgGoAgO4AtT0uMAGwAIB0gIkZjkzYjc2ODktNmM2Ny00OTU5LWE4NjQtOWJjYmM4OGY2Yzk22AIF4AIB&ucfs=1&arphpl=1&group_adults=2&req_adults=2&no_rooms=1&group_children=0&req_children=0&hpos=20&hapos=20&sr_order=bayesian_review_score&nflt=ht_id%3D204&srpvid=7b4f636aef630159&srepoch=1745762901&from_sustainable_property_sr=1&from=searchresults'>Grand Hôtel Roi René Aix en Provence Centre - MGallery</a>",
          "<a href='https://www.booking.com/hotel/fr/renaissance-aix-en-provence.fr.html?aid=304142&label=gen173nr-1FCAQoggJCFnNlYXJjaF9haXggZW4gcHJvdmVuY2VIDVgEaE2IAQGYAQ24AQrIAQXYAQHoAQH4AQOIAgGoAgO4AtT0uMAGwAIB0gIkZjkzYjc2ODktNmM2Ny00OTU5LWE4NjQtOWJjYmM4OGY2Yzk22AIF4AIB&ucfs=1&arphpl=1&group_adults=2&req_adults=2&no_rooms=1&group_children=0&req_children=0&hpos=19&hapos=19&sr_order=bayesian_review_score&nflt=ht_id%3D204&srpvid=7b4f636aef630159&srepoch=1745762901&from=searchresults'>Renaissance Aix-en-Provence Hotel</a>",
          "<a href='https://www.booking.com/hotel/fr/pierre-vacances-city-centre.fr.html?aid=304142&label=gen173nr-1FCAQoggJCFnNlYXJjaF9haXggZW4gcHJvdmVuY2VIDVgEaE2IAQGYAQ24AQrIAQXYAQHoAQH4AQOIAgGoAgO4AtT0uMAGwAIB0gIkZjkzYjc2ODktNmM2Ny00OTU5LWE4NjQtOWJjYmM4OGY2Yzk22AIF4AIB&ucfs=1&arphpl=1&group_adults=2&req_adults=2&no_rooms=1&group_children=0&req_children=0&hpos=18&hapos=18&sr_order=bayesian_review_score&nflt=ht_id%3D204&srpvid=7b4f636aef630159&srepoch=1745762901&from_sustainable_property_sr=1&from=searchresults'>Aparthotel Adagio Aix-en-Provence Centre</a>",
          "<a href='https://www.booking.com/hotel/fr/villa-saint-ange.fr.html?aid=304142&label=gen173nr-1FCAQoggJCFnNlYXJjaF9haXggZW4gcHJvdmVuY2VIDVgEaE2IAQGYAQ24AQrIAQXYAQHoAQH4AQOIAgGoAgO4AtT0uMAGwAIB0gIkZjkzYjc2ODktNmM2Ny00OTU5LWE4NjQtOWJjYmM4OGY2Yzk22AIF4AIB&ucfs=1&arphpl=1&group_adults=2&req_adults=2&no_rooms=1&group_children=0&req_children=0&hpos=2&hapos=2&sr_order=bayesian_review_score&nflt=ht_id%3D204&srpvid=7b4f636aef630159&srepoch=1745762901&from=searchresults'>Villa Saint-Ange</a>"
         ],
         "lat": [
          43.543436200731,
          43.5303448,
          43.53336324193778,
          43.53004967137571,
          43.52356201318332,
          43.4964012,
          43.5247755,
          43.53126359885809,
          43.5320856,
          43.52551655199661,
          43.5255987,
          43.52116980487331,
          43.536101030690894,
          43.56879,
          43.5435822569446,
          43.5433646,
          43.52332474147478,
          43.5262404754953,
          43.52890621393209,
          43.523068
         ],
         "legendgroup": "Aix en Provence",
         "lon": [
          5.3736957,
          5.4518796,
          5.446056425571442,
          5.444146692752838,
          5.445937067270279,
          5.394397400000003,
          5.45022449999999,
          5.445070043206215,
          5.4515111,
          5.450152158737183,
          5.45172079999998,
          5.496597290039063,
          5.448788137561678,
          5.47851,
          5.373438234640503,
          5.3736497,
          5.449725687503815,
          5.438204929232597,
          5.440869033336639,
          5.457699
         ],
         "marker": {
          "color": "#00cc96",
          "opacity": 0.7,
          "size": 20
         },
         "mode": "markers",
         "name": "Aix en Provence",
         "showlegend": true,
         "subplot": "map",
         "type": "scattermap"
        },
        {
         "customdata": [
          [
           "Avignon",
           43.943130415176,
           4.799091700562,
           "9,3"
          ],
          [
           "Avignon",
           43.922757658189205,
           4.804295003414154,
           "8,3"
          ],
          [
           "Avignon",
           43.94896720373931,
           4.805472493171692,
           "8,5"
          ],
          [
           "Avignon",
           43.953827,
           4.8099,
           "8,5"
          ],
          [
           "Avignon",
           43.926434777028,
           4.785715099388,
           "8,2"
          ],
          [
           "Avignon",
           43.943629463158565,
           4.812171310186386,
           "8,4"
          ],
          [
           "Avignon",
           43.9427848,
           4.8239056,
           "8,1"
          ],
          [
           "Avignon",
           43.94403212781474,
           4.80533167719841,
           "8,3"
          ],
          [
           "Avignon",
           43.9496377669598,
           4.806358963251114,
           "8,5"
          ],
          [
           "Avignon",
           43.932979142652,
           4.831906704755,
           "8,6"
          ],
          [
           "Avignon",
           43.926463069619,
           4.785711458483,
           "9,2"
          ],
          [
           "Avignon",
           43.95007659797408,
           4.807706773281097,
           "8,5"
          ],
          [
           "Avignon",
           43.92929,
           4.784118000000035,
           "8,6"
          ],
          [
           "Avignon",
           43.94411137230711,
           4.805795570569671,
           "8,7"
          ],
          [
           "Avignon",
           43.975483683625534,
           4.827437102794647,
           "8,7"
          ],
          [
           "Avignon",
           43.95035466743478,
           4.803230166435242,
           "8,8"
          ],
          [
           "Avignon",
           43.947113,
           4.80333,
           "8,8"
          ],
          [
           "Avignon",
           43.94761833011378,
           4.806803539395332,
           "8,9"
          ],
          [
           "Avignon",
           43.9613237,
           4.8271867,
           "9,8"
          ],
          [
           "Avignon",
           43.9613237,
           4.8271867,
           "9,3"
          ]
         ],
         "hovertemplate": "<b>%{hovertext}</b><br><br>Note utilisateurs=%{customdata[3]}<extra></extra>",
         "hovertext": [
          "<a href='https://www.booking.com/hotel/fr/oh-activ-avignon.fr.html?aid=304142&label=gen173nr-1FCAQoggJCDnNlYXJjaF9hdmlnbm9uSA1YBGhNiAEBmAENuAEKyAEF2AEB6AEB-AEDiAIBqAIDuALU9LjABsACAdICJGM4YjJmZTRiLThkNTMtNDdkOC04ZDY4LWIwNTZhMmQ4MGEyOdgCBeACAQ&ucfs=1&arphpl=1&group_adults=2&req_adults=2&no_rooms=1&group_children=0&req_children=0&hpos=1&hapos=1&sr_order=bayesian_review_score&nflt=ht_id%3D204&srpvid=00bd636a614004c7&srepoch=1745762901&from=searchresults'>Résidence Services Oh Activ Avignon</a>",
          "<a href='https://www.booking.com/hotel/fr/hotellelavarin.fr.html?aid=304142&label=gen173nr-1FCAQoggJCDnNlYXJjaF9hdmlnbm9uSA1YBGhNiAEBmAENuAEKyAEF2AEB6AEB-AEDiAIBqAIDuALU9LjABsACAdICJGM4YjJmZTRiLThkNTMtNDdkOC04ZDY4LWIwNTZhMmQ4MGEyOdgCBeACAQ&ucfs=1&arphpl=1&group_adults=2&req_adults=2&no_rooms=1&group_children=0&req_children=0&hpos=19&hapos=19&sr_order=bayesian_review_score&nflt=ht_id%3D204&srpvid=00bd636a614004c7&srepoch=1745762901&from_sustainable_property_sr=1&from=searchresults'>Best Western Plus Le Lavarin</a>",
          "<a href='https://www.booking.com/hotel/fr/de-l-horloge.fr.html?aid=304142&label=gen173nr-1FCAQoggJCDnNlYXJjaF9hdmlnbm9uSA1YBGhNiAEBmAENuAEKyAEF2AEB6AEB-AEDiAIBqAIDuALU9LjABsACAdICJGM4YjJmZTRiLThkNTMtNDdkOC04ZDY4LWIwNTZhMmQ4MGEyOdgCBeACAQ&ucfs=1&arphpl=1&group_adults=2&req_adults=2&no_rooms=1&group_children=0&req_children=0&hpos=15&hapos=15&sr_order=bayesian_review_score&nflt=ht_id%3D204&srpvid=00bd636a614004c7&srepoch=1745762901&from=searchresults'>Hôtel de l'Horloge</a>",
          "<a href='https://www.booking.com/hotel/fr/le-chardonnay-avignon.fr.html?aid=304142&label=gen173nr-1FCAQoggJCDnNlYXJjaF9hdmlnbm9uSA1YBGhNiAEBmAENuAEKyAEF2AEB6AEB-AEDiAIBqAIDuALU9LjABsACAdICJGM4YjJmZTRiLThkNTMtNDdkOC04ZDY4LWIwNTZhMmQ4MGEyOdgCBeACAQ&ucfs=1&arphpl=1&group_adults=2&req_adults=2&no_rooms=1&group_children=0&req_children=0&hpos=14&hapos=14&sr_order=bayesian_review_score&nflt=ht_id%3D204&srpvid=00bd636a614004c7&srepoch=1745762901&from=searchresults'>Bateau Hotel à quai Le Chardonnay</a>",
          "<a href='https://www.booking.com/hotel/fr/appart-avignon-gare-tgv-kaelis-202.fr.html?aid=304142&label=gen173nr-1FCAQoggJCDnNlYXJjaF9hdmlnbm9uSA1YBGhNiAEBmAENuAEKyAEF2AEB6AEB-AEDiAIBqAIDuALU9LjABsACAdICJGM4YjJmZTRiLThkNTMtNDdkOC04ZDY4LWIwNTZhMmQ4MGEyOdgCBeACAQ&ucfs=1&arphpl=1&group_adults=2&req_adults=2&no_rooms=1&group_children=0&req_children=0&hpos=17&hapos=17&sr_order=bayesian_review_score&nflt=ht_id%3D204&srpvid=00bd636a614004c7&srepoch=1745762901&from=searchresults'>Appart'Hotel - Gare TGV - Courtine - Confluence - 202</a>",
          "<a href='https://www.booking.com/hotel/fr/hotellemagnan.fr.html?aid=304142&label=gen173nr-1FCAQoggJCDnNlYXJjaF9hdmlnbm9uSA1YBGhNiAEBmAENuAEKyAEF2AEB6AEB-AEDiAIBqAIDuALU9LjABsACAdICJGM4YjJmZTRiLThkNTMtNDdkOC04ZDY4LWIwNTZhMmQ4MGEyOdgCBeACAQ&ucfs=1&arphpl=1&group_adults=2&req_adults=2&no_rooms=1&group_children=0&req_children=0&hpos=16&hapos=16&sr_order=bayesian_review_score&nflt=ht_id%3D204&srpvid=00bd636a614004c7&srepoch=1745762901&from=searchresults'>Hotel Le Magnan</a>",
          "<a href='https://www.booking.com/hotel/fr/residence-service-seniors-montana.fr.html?aid=304142&label=gen173nr-1FCAQoggJCDnNlYXJjaF9hdmlnbm9uSA1YBGhNiAEBmAENuAEKyAEF2AEB6AEB-AEDiAIBqAIDuALU9LjABsACAdICJGM4YjJmZTRiLThkNTMtNDdkOC04ZDY4LWIwNTZhMmQ4MGEyOdgCBeACAQ&ucfs=1&arphpl=1&group_adults=2&req_adults=2&no_rooms=1&group_children=0&req_children=0&hpos=18&hapos=18&sr_order=bayesian_review_score&nflt=ht_id%3D204&srpvid=00bd636a614004c7&srepoch=1745762901&from=searchresults'>Résidence Service Seniors MONTANA</a>",
          "<a href='https://www.booking.com/hotel/fr/hotel-bristol-avignon.fr.html?aid=304142&label=gen173nr-1FCAQoggJCDnNlYXJjaF9hdmlnbm9uSA1YBGhNiAEBmAENuAEKyAEF2AEB6AEB-AEDiAIBqAIDuALU9LjABsACAdICJGM4YjJmZTRiLThkNTMtNDdkOC04ZDY4LWIwNTZhMmQ4MGEyOdgCBeACAQ&ucfs=1&arphpl=1&group_adults=2&req_adults=2&no_rooms=1&group_children=0&req_children=0&hpos=20&hapos=20&sr_order=bayesian_review_score&nflt=ht_id%3D204&srpvid=00bd636a614004c7&srepoch=1745762901&from_sustainable_property_sr=1&from=searchresults'>Hôtel Le Bristol</a>",
          "<a href='https://www.booking.com/hotel/fr/kyriad-avignon-palais-des-papes-xml.fr.html?aid=304142&label=gen173nr-1FCAQoggJCDnNlYXJjaF9hdmlnbm9uSA1YBGhNiAEBmAENuAEKyAEF2AEB6AEB-AEDiAIBqAIDuALU9LjABsACAdICJGM4YjJmZTRiLThkNTMtNDdkOC04ZDY4LWIwNTZhMmQ4MGEyOdgCBeACAQ&ucfs=1&arphpl=1&group_adults=2&req_adults=2&no_rooms=1&group_children=0&req_children=0&hpos=13&hapos=13&sr_order=bayesian_review_score&nflt=ht_id%3D204&srpvid=00bd636a614004c7&srepoch=1745762901&from=searchresults'>Kyriad Avignon - Palais des Papes</a>",
          "<a href='https://www.booking.com/hotel/fr/cowool-avignon.fr.html?aid=304142&label=gen173nr-1FCAQoggJCDnNlYXJjaF9hdmlnbm9uSA1YBGhNiAEBmAENuAEKyAEF2AEB6AEB-AEDiAIBqAIDuALU9LjABsACAdICJGM4YjJmZTRiLThkNTMtNDdkOC04ZDY4LWIwNTZhMmQ4MGEyOdgCBeACAQ&ucfs=1&arphpl=1&group_adults=2&req_adults=2&no_rooms=1&group_children=0&req_children=0&hpos=12&hapos=12&sr_order=bayesian_review_score&nflt=ht_id%3D204&srpvid=00bd636a614004c7&srepoch=1745762901&from=searchresults'>COWOOL AVIGNON</a>",
          "<a href='https://www.booking.com/hotel/fr/appart-avignon-tgv-la-kaelis-407.fr.html?aid=304142&label=gen173nr-1FCAQoggJCDnNlYXJjaF9hdmlnbm9uSA1YBGhNiAEBmAENuAEKyAEF2AEB6AEB-AEDiAIBqAIDuALU9LjABsACAdICJGM4YjJmZTRiLThkNTMtNDdkOC04ZDY4LWIwNTZhMmQ4MGEyOdgCBeACAQ&ucfs=1&arphpl=1&group_adults=2&req_adults=2&no_rooms=1&group_children=0&req_children=0&hpos=11&hapos=11&sr_order=bayesian_review_score&nflt=ht_id%3D204&srpvid=00bd636a614004c7&srepoch=1745762901&from=searchresults'>Appart'Hotel - Gare TGV - Courtine - Confluence - 407</a>",
          "<a href='https://www.booking.com/hotel/fr/la-mirande.fr.html?aid=304142&label=gen173nr-1FCAQoggJCDnNlYXJjaF9hdmlnbm9uSA1YBGhNiAEBmAENuAEKyAEF2AEB6AEB-AEDiAIBqAIDuALU9LjABsACAdICJGM4YjJmZTRiLThkNTMtNDdkOC04ZDY4LWIwNTZhMmQ4MGEyOdgCBeACAQ&ucfs=1&arphpl=1&group_adults=2&req_adults=2&no_rooms=1&group_children=0&req_children=0&hpos=10&hapos=10&sr_order=bayesian_review_score&nflt=ht_id%3D204&srpvid=00bd636a614004c7&srepoch=1745762901&from=searchresults'>La Mirande</a>",
          "<a href='https://www.booking.com/hotel/fr/expresshiavignon.fr.html?aid=304142&label=gen173nr-1FCAQoggJCDnNlYXJjaF9hdmlnbm9uSA1YBGhNiAEBmAENuAEKyAEF2AEB6AEB-AEDiAIBqAIDuALU9LjABsACAdICJGM4YjJmZTRiLThkNTMtNDdkOC04ZDY4LWIwNTZhMmQ4MGEyOdgCBeACAQ&ucfs=1&arphpl=1&group_adults=2&req_adults=2&no_rooms=1&group_children=0&req_children=0&hpos=9&hapos=9&sr_order=bayesian_review_score&nflt=ht_id%3D204&srpvid=00bd636a614004c7&srepoch=1745762901&from_sustainable_property_sr=1&from=searchresults'>Mercure Avignon Gare TGV</a>",
          "<a href='https://www.booking.com/hotel/fr/le-colbert-avignon.fr.html?aid=304142&label=gen173nr-1FCAQoggJCDnNlYXJjaF9hdmlnbm9uSA1YBGhNiAEBmAENuAEKyAEF2AEB6AEB-AEDiAIBqAIDuALU9LjABsACAdICJGM4YjJmZTRiLThkNTMtNDdkOC04ZDY4LWIwNTZhMmQ4MGEyOdgCBeACAQ&ucfs=1&arphpl=1&group_adults=2&req_adults=2&no_rooms=1&group_children=0&req_children=0&hpos=8&hapos=8&sr_order=bayesian_review_score&nflt=ht_id%3D204&srpvid=00bd636a614004c7&srepoch=1745762901&from=searchresults'>Hôtel Le Colbert</a>",
          "<a href='https://www.booking.com/hotel/fr/logis-de-france-la-ferme.fr.html?aid=304142&label=gen173nr-1FCAQoggJCDnNlYXJjaF9hdmlnbm9uSA1YBGhNiAEBmAENuAEKyAEF2AEB6AEB-AEDiAIBqAIDuALU9LjABsACAdICJGM4YjJmZTRiLThkNTMtNDdkOC04ZDY4LWIwNTZhMmQ4MGEyOdgCBeACAQ&ucfs=1&arphpl=1&group_adults=2&req_adults=2&no_rooms=1&group_children=0&req_children=0&hpos=7&hapos=7&sr_order=bayesian_review_score&nflt=ht_id%3D204&srpvid=00bd636a614004c7&srepoch=1745762901&from=searchresults'>Logis Hotel la Ferme</a>",
          "<a href='https://www.booking.com/hotel/fr/d-europe.fr.html?aid=304142&label=gen173nr-1FCAQoggJCDnNlYXJjaF9hdmlnbm9uSA1YBGhNiAEBmAENuAEKyAEF2AEB6AEB-AEDiAIBqAIDuALU9LjABsACAdICJGM4YjJmZTRiLThkNTMtNDdkOC04ZDY4LWIwNTZhMmQ4MGEyOdgCBeACAQ&ucfs=1&arphpl=1&group_adults=2&req_adults=2&no_rooms=1&group_children=0&req_children=0&hpos=6&hapos=6&sr_order=bayesian_review_score&nflt=ht_id%3D204&srpvid=00bd636a614004c7&srepoch=1745762901&from=searchresults'>Hotel d'Europe</a>",
          "<a href='https://www.booking.com/hotel/fr/de-cambis-bw-premier-collection.fr.html?aid=304142&label=gen173nr-1FCAQoggJCDnNlYXJjaF9hdmlnbm9uSA1YBGhNiAEBmAENuAEKyAEF2AEB6AEB-AEDiAIBqAIDuALU9LjABsACAdICJGM4YjJmZTRiLThkNTMtNDdkOC04ZDY4LWIwNTZhMmQ4MGEyOdgCBeACAQ&ucfs=1&arphpl=1&group_adults=2&req_adults=2&no_rooms=1&group_children=0&req_children=0&hpos=5&hapos=5&sr_order=bayesian_review_score&nflt=ht_id%3D204&srpvid=00bd636a614004c7&srepoch=1745762901&from=searchresults'>Hotel De Cambis Best Western Premier Collection</a>",
          "<a href='https://www.booking.com/hotel/fr/de-garlande.fr.html?aid=304142&label=gen173nr-1FCAQoggJCDnNlYXJjaF9hdmlnbm9uSA1YBGhNiAEBmAENuAEKyAEF2AEB6AEB-AEDiAIBqAIDuALU9LjABsACAdICJGM4YjJmZTRiLThkNTMtNDdkOC04ZDY4LWIwNTZhMmQ4MGEyOdgCBeACAQ&ucfs=1&arphpl=1&group_adults=2&req_adults=2&no_rooms=1&group_children=0&req_children=0&hpos=4&hapos=4&sr_order=bayesian_review_score&nflt=ht_id%3D204&srpvid=00bd636a614004c7&srepoch=1745762901&from=searchresults'>Garlande Hôtel Avignon Centre</a>",
          "<a href='https://www.booking.com/hotel/fr/gite-le-rosier-avignon.fr.html?aid=304142&label=gen173nr-1FCAQoggJCDnNlYXJjaF9hdmlnbm9uSA1YBGhNiAEBmAENuAEKyAEF2AEB6AEB-AEDiAIBqAIDuALU9LjABsACAdICJGM4YjJmZTRiLThkNTMtNDdkOC04ZDY4LWIwNTZhMmQ4MGEyOdgCBeACAQ&ucfs=1&arphpl=1&group_adults=2&req_adults=2&no_rooms=1&group_children=0&req_children=0&hpos=3&hapos=3&sr_order=bayesian_review_score&nflt=ht_id%3D204&srpvid=00bd636a614004c7&srepoch=1745762901&from=searchresults'>Gîte Les cyprès de l'ile</a>",
          "<a href='https://www.booking.com/hotel/fr/appartement-les-cypres-de-l-ile.fr.html?aid=304142&label=gen173nr-1FCAQoggJCDnNlYXJjaF9hdmlnbm9uSA1YBGhNiAEBmAENuAEKyAEF2AEB6AEB-AEDiAIBqAIDuALU9LjABsACAdICJGM4YjJmZTRiLThkNTMtNDdkOC04ZDY4LWIwNTZhMmQ4MGEyOdgCBeACAQ&ucfs=1&arphpl=1&group_adults=2&req_adults=2&no_rooms=1&group_children=0&req_children=0&hpos=2&hapos=2&sr_order=bayesian_review_score&nflt=ht_id%3D204&srpvid=00bd636a614004c7&srepoch=1745762901&from=searchresults'>Appartement Les Cyprès de l’Île</a>"
         ],
         "lat": [
          43.943130415176,
          43.922757658189205,
          43.94896720373931,
          43.953827,
          43.926434777028,
          43.943629463158565,
          43.9427848,
          43.94403212781474,
          43.9496377669598,
          43.932979142652,
          43.926463069619,
          43.95007659797408,
          43.92929,
          43.94411137230711,
          43.975483683625534,
          43.95035466743478,
          43.947113,
          43.94761833011378,
          43.9613237,
          43.9613237
         ],
         "legendgroup": "Avignon",
         "lon": [
          4.799091700562,
          4.804295003414154,
          4.805472493171692,
          4.8099,
          4.785715099388,
          4.812171310186386,
          4.8239056,
          4.80533167719841,
          4.806358963251114,
          4.831906704755,
          4.785711458483,
          4.807706773281097,
          4.784118000000035,
          4.805795570569671,
          4.827437102794647,
          4.803230166435242,
          4.80333,
          4.806803539395332,
          4.8271867,
          4.8271867
         ],
         "marker": {
          "color": "#ab63fa",
          "opacity": 0.7,
          "size": 20
         },
         "mode": "markers",
         "name": "Avignon",
         "showlegend": true,
         "subplot": "map",
         "type": "scattermap"
        },
        {
         "customdata": [
          [
           "Nimes",
           43.83866612768399,
           4.352767914533615,
           "9,1"
          ],
          [
           "Nimes",
           43.837117,
           4.357898,
           "9,2"
          ],
          [
           "Nimes",
           43.83881509620307,
           4.3548184633255005,
           "8,3"
          ],
          [
           "Nimes",
           43.83642381634261,
           4.364745318889618,
           "8,4"
          ],
          [
           "Nimes",
           43.8343632920283,
           4.365336745977402,
           "8,5"
          ],
          [
           "Nimes",
           43.845396,
           4.368959,
           "8,5"
          ],
          [
           "Nimes",
           43.834061872209,
           4.358990652779,
           "8,6"
          ],
          [
           "Nimes",
           43.82080551337371,
           4.371253199999956,
           "9,0"
          ],
          [
           "Nimes",
           43.83470575029483,
           4.36731219291687,
           "9,1"
          ],
          [
           "Nimes",
           43.83433186355036,
           4.367129892088997,
           "8,2"
          ],
          [
           "Nimes",
           43.820576747716174,
           4.319126978516579,
           "8,4"
          ],
          [
           "Nimes",
           43.83581534027453,
           4.359140172600746,
           "8,3"
          ],
          [
           "Nimes",
           43.838773872288,
           4.363837569914,
           "8,8"
          ],
          [
           "Nimes",
           43.837032,
           4.363037,
           "8,6"
          ],
          [
           "Nimes",
           43.8338735348897,
           4.361433959524561,
           "8,9"
          ],
          [
           "Nimes",
           43.832055902146784,
           4.3673644959926605,
           "8,1"
          ],
          [
           "Nimes",
           43.83175754591007,
           4.36697356402874,
           "8,2"
          ],
          [
           "Nimes",
           43.83959475654075,
           4.3610841035842896,
           "8,3"
          ],
          [
           "Nimes",
           43.8281614,
           4.354790200000025,
           "8,4"
          ],
          [
           "Nimes",
           43.78858215364223,
           4.35380257666111,
           "8,2"
          ]
         ],
         "hovertemplate": "<b>%{hovertext}</b><br><br>Note utilisateurs=%{customdata[3]}<extra></extra>",
         "hovertext": [
          "<a href='https://www.booking.com/hotel/fr/imperator-nimes.fr.html?aid=304142&label=gen173nr-1FCAQoggJCDHNlYXJjaF9uaW1lc0gNWARoTYgBAZgBDbgBCsgBBdgBAegBAfgBA4gCAagCA7gC1PS4wAbAAgHSAiQ3Y2U1OTU1NC1iMjQ5LTQyNTEtYTJjNS0wZDI3NGFkZTQxN2HYAgXgAgE&ucfs=1&arphpl=1&group_adults=2&req_adults=2&no_rooms=1&group_children=0&req_children=0&hpos=1&hapos=1&sr_order=bayesian_review_score&nflt=ht_id%3D204&srpvid=af30636a4e2a0650&srepoch=1745762901&from=searchresults'>Maison Albar Hotels L’Imperator</a>",
          "<a href='https://www.booking.com/hotel/fr/margaret-chouleur.fr.html?aid=304142&label=gen173nr-1FCAQoggJCDHNlYXJjaF9uaW1lc0gNWARoTYgBAZgBDbgBCsgBBdgBAegBAfgBA4gCAagCA7gC1PS4wAbAAgHSAiQ3Y2U1OTU1NC1iMjQ5LTQyNTEtYTJjNS0wZDI3NGFkZTQxN2HYAgXgAgE&ucfs=1&arphpl=1&group_adults=2&req_adults=2&no_rooms=1&group_children=0&req_children=0&hpos=2&hapos=2&sr_order=bayesian_review_score&nflt=ht_id%3D204&srpvid=af30636a4e2a0650&srepoch=1745762901&from=searchresults'>Margaret - Hôtel Chouleur</a>",
          "<a href='https://www.booking.com/hotel/fr/royal.fr.html?aid=304142&label=gen173nr-1FCAQoggJCDHNlYXJjaF9uaW1lc0gNWARoTYgBAZgBDbgBCsgBBdgBAegBAfgBA4gCAagCA7gC1PS4wAbAAgHSAiQ3Y2U1OTU1NC1iMjQ5LTQyNTEtYTJjNS0wZDI3NGFkZTQxN2HYAgXgAgE&ucfs=1&arphpl=1&group_adults=2&req_adults=2&no_rooms=1&group_children=0&req_children=0&hpos=14&hapos=14&sr_order=bayesian_review_score&nflt=ht_id%3D204&srpvid=af30636a4e2a0650&srepoch=1745762901&from=searchresults'>Royal Hôtel</a>",
          "<a href='https://www.booking.com/hotel/fr/hotel-des-tuileries.fr.html?aid=304142&label=gen173nr-1FCAQoggJCDHNlYXJjaF9uaW1lc0gNWARoTYgBAZgBDbgBCsgBBdgBAegBAfgBA4gCAagCA7gC1PS4wAbAAgHSAiQ3Y2U1OTU1NC1iMjQ5LTQyNTEtYTJjNS0wZDI3NGFkZTQxN2HYAgXgAgE&ucfs=1&arphpl=1&group_adults=2&req_adults=2&no_rooms=1&group_children=0&req_children=0&hpos=11&hapos=11&sr_order=bayesian_review_score&nflt=ht_id%3D204&srpvid=af30636a4e2a0650&srepoch=1745762901&from=searchresults'>Hotel Des Tuileries</a>",
          "<a href='https://www.booking.com/hotel/fr/majestic-nimes.fr.html?aid=304142&label=gen173nr-1FCAQoggJCDHNlYXJjaF9uaW1lc0gNWARoTYgBAZgBDbgBCsgBBdgBAegBAfgBA4gCAagCA7gC1PS4wAbAAgHSAiQ3Y2U1OTU1NC1iMjQ5LTQyNTEtYTJjNS0wZDI3NGFkZTQxN2HYAgXgAgE&ucfs=1&arphpl=1&group_adults=2&req_adults=2&no_rooms=1&group_children=0&req_children=0&hpos=10&hapos=10&sr_order=bayesian_review_score&nflt=ht_id%3D204&srpvid=af30636a4e2a0650&srepoch=1745762901&from=searchresults'>Hotel Majestic</a>",
          "<a href='https://www.booking.com/hotel/fr/domitys-sophia.fr.html?aid=304142&label=gen173nr-1FCAQoggJCDHNlYXJjaF9uaW1lc0gNWARoTYgBAZgBDbgBCsgBBdgBAegBAfgBA4gCAagCA7gC1PS4wAbAAgHSAiQ3Y2U1OTU1NC1iMjQ5LTQyNTEtYTJjNS0wZDI3NGFkZTQxN2HYAgXgAgE&ucfs=1&arphpl=1&group_adults=2&req_adults=2&no_rooms=1&group_children=0&req_children=0&hpos=9&hapos=9&sr_order=bayesian_review_score&nflt=ht_id%3D204&srpvid=af30636a4e2a0650&srepoch=1745762901&from=searchresults'>Domitys Sophia</a>",
          "<a href='https://www.booking.com/hotel/fr/odalys-city-nimes-arenes.fr.html?aid=304142&label=gen173nr-1FCAQoggJCDHNlYXJjaF9uaW1lc0gNWARoTYgBAZgBDbgBCsgBBdgBAegBAfgBA4gCAagCA7gC1PS4wAbAAgHSAiQ3Y2U1OTU1NC1iMjQ5LTQyNTEtYTJjNS0wZDI3NGFkZTQxN2HYAgXgAgE&ucfs=1&arphpl=1&group_adults=2&req_adults=2&no_rooms=1&group_children=0&req_children=0&hpos=8&hapos=8&sr_order=bayesian_review_score&nflt=ht_id%3D204&srpvid=af30636a4e2a0650&srepoch=1745762901&from=searchresults'>Appart Hotel Odalys City Nîmes Arènes</a>",
          "<a href='https://www.booking.com/hotel/fr/mas-de-boudan.fr.html?aid=304142&label=gen173nr-1FCAQoggJCDHNlYXJjaF9uaW1lc0gNWARoTYgBAZgBDbgBCsgBBdgBAegBAfgBA4gCAagCA7gC1PS4wAbAAgHSAiQ3Y2U1OTU1NC1iMjQ5LTQyNTEtYTJjNS0wZDI3NGFkZTQxN2HYAgXgAgE&ucfs=1&arphpl=1&group_adults=2&req_adults=2&no_rooms=1&group_children=0&req_children=0&hpos=4&hapos=4&sr_order=bayesian_review_score&nflt=ht_id%3D204&srpvid=af30636a4e2a0650&srepoch=1745762901&from=searchresults'>Mas de Boudan</a>",
          "<a href='https://www.booking.com/hotel/fr/jardins-secrets-nimes.fr.html?aid=304142&label=gen173nr-1FCAQoggJCDHNlYXJjaF9uaW1lc0gNWARoTYgBAZgBDbgBCsgBBdgBAegBAfgBA4gCAagCA7gC1PS4wAbAAgHSAiQ3Y2U1OTU1NC1iMjQ5LTQyNTEtYTJjNS0wZDI3NGFkZTQxN2HYAgXgAgE&ucfs=1&arphpl=1&group_adults=2&req_adults=2&no_rooms=1&group_children=0&req_children=0&hpos=3&hapos=3&sr_order=bayesian_review_score&nflt=ht_id%3D204&srpvid=af30636a4e2a0650&srepoch=1745762901&from=searchresults'>Jardins Secrets</a>",
          "<a href='https://www.booking.com/hotel/fr/la-maison-de-sophie-na-r-mes.fr.html?aid=304142&label=gen173nr-1FCAQoggJCDHNlYXJjaF9uaW1lc0gNWARoTYgBAZgBDbgBCsgBBdgBAegBAfgBA4gCAagCA7gC1PS4wAbAAgHSAiQ3Y2U1OTU1NC1iMjQ5LTQyNTEtYTJjNS0wZDI3NGFkZTQxN2HYAgXgAgE&ucfs=1&arphpl=1&group_adults=2&req_adults=2&no_rooms=1&group_children=0&req_children=0&hpos=12&hapos=12&sr_order=bayesian_review_score&nflt=ht_id%3D204&srpvid=af30636a4e2a0650&srepoch=1745762901&from=searchresults'>La Maison de Sophie</a>",
          "<a href='https://www.booking.com/hotel/fr/vatel.fr.html?aid=304142&label=gen173nr-1FCAQoggJCDHNlYXJjaF9uaW1lc0gNWARoTYgBAZgBDbgBCsgBBdgBAegBAfgBA4gCAagCA7gC1PS4wAbAAgHSAiQ3Y2U1OTU1NC1iMjQ5LTQyNTEtYTJjNS0wZDI3NGFkZTQxN2HYAgXgAgE&ucfs=1&arphpl=1&group_adults=2&req_adults=2&no_rooms=1&group_children=0&req_children=0&hpos=13&hapos=13&sr_order=bayesian_review_score&nflt=ht_id%3D204&srpvid=af30636a4e2a0650&srepoch=1745762901&from=searchresults'>Hôtel & Spa Vatel</a>",
          "<a href='https://www.booking.com/hotel/fr/de-l-amphitheatre-nimes.fr.html?aid=304142&label=gen173nr-1FCAQoggJCDHNlYXJjaF9uaW1lc0gNWARoTYgBAZgBDbgBCsgBBdgBAegBAfgBA4gCAagCA7gC1PS4wAbAAgHSAiQ3Y2U1OTU1NC1iMjQ5LTQyNTEtYTJjNS0wZDI3NGFkZTQxN2HYAgXgAgE&ucfs=1&arphpl=1&group_adults=2&req_adults=2&no_rooms=1&group_children=0&req_children=0&hpos=15&hapos=15&sr_order=bayesian_review_score&nflt=ht_id%3D204&srpvid=af30636a4e2a0650&srepoch=1745762901&from=searchresults'>Hôtel De L'Amphithéâtre</a>",
          "<a href='https://www.booking.com/hotel/fr/oh-activ-nimes.fr.html?aid=304142&label=gen173nr-1FCAQoggJCDHNlYXJjaF9uaW1lc0gNWARoTYgBAZgBDbgBCsgBBdgBAegBAfgBA4gCAagCA7gC1PS4wAbAAgHSAiQ3Y2U1OTU1NC1iMjQ5LTQyNTEtYTJjNS0wZDI3NGFkZTQxN2HYAgXgAgE&ucfs=1&arphpl=1&group_adults=2&req_adults=2&no_rooms=1&group_children=0&req_children=0&hpos=7&hapos=7&sr_order=bayesian_review_score&nflt=ht_id%3D204&srpvid=af30636a4e2a0650&srepoch=1745762901&from=searchresults'>Oh Activ Nîmes</a>",
          "<a href='https://www.booking.com/hotel/fr/square-nimes.fr.html?aid=304142&label=gen173nr-1FCAQoggJCDHNlYXJjaF9uaW1lc0gNWARoTYgBAZgBDbgBCsgBBdgBAegBAfgBA4gCAagCA7gC1PS4wAbAAgHSAiQ3Y2U1OTU1NC1iMjQ5LTQyNTEtYTJjNS0wZDI3NGFkZTQxN2HYAgXgAgE&ucfs=1&arphpl=1&group_adults=2&req_adults=2&no_rooms=1&group_children=0&req_children=0&hpos=6&hapos=6&sr_order=bayesian_review_score&nflt=ht_id%3D204&srpvid=af30636a4e2a0650&srepoch=1745762901&from=searchresults'>SQUARE HOTEL</a>",
          "<a href='https://www.booking.com/hotel/fr/appart-39-city-nimes.fr.html?aid=304142&label=gen173nr-1FCAQoggJCDHNlYXJjaF9uaW1lc0gNWARoTYgBAZgBDbgBCsgBBdgBAegBAfgBA4gCAagCA7gC1PS4wAbAAgHSAiQ3Y2U1OTU1NC1iMjQ5LTQyNTEtYTJjNS0wZDI3NGFkZTQxN2HYAgXgAgE&ucfs=1&arphpl=1&group_adults=2&req_adults=2&no_rooms=1&group_children=0&req_children=0&hpos=5&hapos=5&sr_order=bayesian_review_score&nflt=ht_id%3D204&srpvid=af30636a4e2a0650&srepoch=1745762901&from_sustainable_property_sr=1&from=searchresults'>Appart'City Collection Nîmes Arènes</a>",
          "<a href='https://www.booking.com/hotel/fr/ibis-budget-nimes-centre-gare.fr.html?aid=304142&label=gen173nr-1FCAQoggJCDHNlYXJjaF9uaW1lc0gNWARoTYgBAZgBDbgBCsgBBdgBAegBAfgBA4gCAagCA7gC1PS4wAbAAgHSAiQ3Y2U1OTU1NC1iMjQ5LTQyNTEtYTJjNS0wZDI3NGFkZTQxN2HYAgXgAgE&ucfs=1&arphpl=1&group_adults=2&req_adults=2&no_rooms=1&group_children=0&req_children=0&hpos=19&hapos=19&sr_order=bayesian_review_score&nflt=ht_id%3D204&srpvid=af30636a4e2a0650&srepoch=1745762901&from=searchresults'>ibis budget Nimes Centre Gare</a>",
          "<a href='https://www.booking.com/hotel/fr/ibis-styles-nimes-centre-gare.fr.html?aid=304142&label=gen173nr-1FCAQoggJCDHNlYXJjaF9uaW1lc0gNWARoTYgBAZgBDbgBCsgBBdgBAegBAfgBA4gCAagCA7gC1PS4wAbAAgHSAiQ3Y2U1OTU1NC1iMjQ5LTQyNTEtYTJjNS0wZDI3NGFkZTQxN2HYAgXgAgE&ucfs=1&arphpl=1&group_adults=2&req_adults=2&no_rooms=1&group_children=0&req_children=0&hpos=18&hapos=18&sr_order=bayesian_review_score&nflt=ht_id%3D204&srpvid=af30636a4e2a0650&srepoch=1745762901&from_sustainable_property_sr=1&from=searchresults'>ibis Styles Nimes Gare Centre</a>",
          "<a href='https://www.booking.com/hotel/fr/ha-tel-la-baume.fr.html?aid=304142&label=gen173nr-1FCAQoggJCDHNlYXJjaF9uaW1lc0gNWARoTYgBAZgBDbgBCsgBBdgBAegBAfgBA4gCAagCA7gC1PS4wAbAAgHSAiQ3Y2U1OTU1NC1iMjQ5LTQyNTEtYTJjNS0wZDI3NGFkZTQxN2HYAgXgAgE&ucfs=1&arphpl=1&group_adults=2&req_adults=2&no_rooms=1&group_children=0&req_children=0&hpos=16&hapos=16&sr_order=bayesian_review_score&nflt=ht_id%3D204&srpvid=af30636a4e2a0650&srepoch=1745762901&from=searchresults'>Best Western Marquis de la Baume</a>",
          "<a href='https://www.booking.com/hotel/fr/b-amp-b-nimes-centre-ville.fr.html?aid=304142&label=gen173nr-1FCAQoggJCDHNlYXJjaF9uaW1lc0gNWARoTYgBAZgBDbgBCsgBBdgBAegBAfgBA4gCAagCA7gC1PS4wAbAAgHSAiQ3Y2U1OTU1NC1iMjQ5LTQyNTEtYTJjNS0wZDI3NGFkZTQxN2HYAgXgAgE&ucfs=1&arphpl=1&group_adults=2&req_adults=2&no_rooms=1&group_children=0&req_children=0&hpos=17&hapos=17&sr_order=bayesian_review_score&nflt=ht_id%3D204&srpvid=af30636a4e2a0650&srepoch=1745762901&from_sustainable_property_sr=1&from=searchresults'>B&B HOTEL Nîmes Centre Arènes</a>",
          "<a href='https://www.booking.com/hotel/fr/lepregaloffrenimes.fr.html?aid=304142&label=gen173nr-1FCAQoggJCDHNlYXJjaF9uaW1lc0gNWARoTYgBAZgBDbgBCsgBBdgBAegBAfgBA4gCAagCA7gC1PS4wAbAAgHSAiQ3Y2U1OTU1NC1iMjQ5LTQyNTEtYTJjNS0wZDI3NGFkZTQxN2HYAgXgAgE&ucfs=1&arphpl=1&group_adults=2&req_adults=2&no_rooms=1&group_children=0&req_children=0&hpos=20&hapos=20&sr_order=bayesian_review_score&nflt=ht_id%3D204&srpvid=af30636a4e2a0650&srepoch=1745762901&from=searchresults'>Hôtel Le Pré Galoffre</a>"
         ],
         "lat": [
          43.83866612768399,
          43.837117,
          43.83881509620307,
          43.83642381634261,
          43.8343632920283,
          43.845396,
          43.834061872209,
          43.82080551337371,
          43.83470575029483,
          43.83433186355036,
          43.820576747716174,
          43.83581534027453,
          43.838773872288,
          43.837032,
          43.8338735348897,
          43.832055902146784,
          43.83175754591007,
          43.83959475654075,
          43.8281614,
          43.78858215364223
         ],
         "legendgroup": "Nimes",
         "lon": [
          4.352767914533615,
          4.357898,
          4.3548184633255005,
          4.364745318889618,
          4.365336745977402,
          4.368959,
          4.358990652779,
          4.371253199999956,
          4.36731219291687,
          4.367129892088997,
          4.319126978516579,
          4.359140172600746,
          4.363837569914,
          4.363037,
          4.361433959524561,
          4.3673644959926605,
          4.36697356402874,
          4.3610841035842896,
          4.354790200000025,
          4.35380257666111
         ],
         "marker": {
          "color": "#FFA15A",
          "opacity": 0.7,
          "size": 20
         },
         "mode": "markers",
         "name": "Nimes",
         "showlegend": true,
         "subplot": "map",
         "type": "scattermap"
        }
       ],
       "layout": {
        "hoverlabel": {
         "bgcolor": "white"
        },
        "legend": {
         "title": {
          "text": "city"
         },
         "tracegroupgap": 0
        },
        "map": {
         "center": {
          "lat": 45.07170945600661,
          "lon": 4.530777605531202
         },
         "domain": {
          "x": [
           0,
           1
          ],
          "y": [
           0,
           1
          ]
         },
         "style": "open-street-map",
         "zoom": 5
        },
        "mapbox": {
         "center": {
          "lat": 45.07170945600661,
          "lon": 4.530777605531202
         },
         "style": "open-street-map",
         "zoom": 5
        },
        "template": {
         "data": {
          "bar": [
           {
            "error_x": {
             "color": "#2a3f5f"
            },
            "error_y": {
             "color": "#2a3f5f"
            },
            "marker": {
             "line": {
              "color": "#E5ECF6",
              "width": 0.5
             },
             "pattern": {
              "fillmode": "overlay",
              "size": 10,
              "solidity": 0.2
             }
            },
            "type": "bar"
           }
          ],
          "barpolar": [
           {
            "marker": {
             "line": {
              "color": "#E5ECF6",
              "width": 0.5
             },
             "pattern": {
              "fillmode": "overlay",
              "size": 10,
              "solidity": 0.2
             }
            },
            "type": "barpolar"
           }
          ],
          "carpet": [
           {
            "aaxis": {
             "endlinecolor": "#2a3f5f",
             "gridcolor": "white",
             "linecolor": "white",
             "minorgridcolor": "white",
             "startlinecolor": "#2a3f5f"
            },
            "baxis": {
             "endlinecolor": "#2a3f5f",
             "gridcolor": "white",
             "linecolor": "white",
             "minorgridcolor": "white",
             "startlinecolor": "#2a3f5f"
            },
            "type": "carpet"
           }
          ],
          "choropleth": [
           {
            "colorbar": {
             "outlinewidth": 0,
             "ticks": ""
            },
            "type": "choropleth"
           }
          ],
          "contour": [
           {
            "colorbar": {
             "outlinewidth": 0,
             "ticks": ""
            },
            "colorscale": [
             [
              0,
              "#0d0887"
             ],
             [
              0.1111111111111111,
              "#46039f"
             ],
             [
              0.2222222222222222,
              "#7201a8"
             ],
             [
              0.3333333333333333,
              "#9c179e"
             ],
             [
              0.4444444444444444,
              "#bd3786"
             ],
             [
              0.5555555555555556,
              "#d8576b"
             ],
             [
              0.6666666666666666,
              "#ed7953"
             ],
             [
              0.7777777777777778,
              "#fb9f3a"
             ],
             [
              0.8888888888888888,
              "#fdca26"
             ],
             [
              1,
              "#f0f921"
             ]
            ],
            "type": "contour"
           }
          ],
          "contourcarpet": [
           {
            "colorbar": {
             "outlinewidth": 0,
             "ticks": ""
            },
            "type": "contourcarpet"
           }
          ],
          "heatmap": [
           {
            "colorbar": {
             "outlinewidth": 0,
             "ticks": ""
            },
            "colorscale": [
             [
              0,
              "#0d0887"
             ],
             [
              0.1111111111111111,
              "#46039f"
             ],
             [
              0.2222222222222222,
              "#7201a8"
             ],
             [
              0.3333333333333333,
              "#9c179e"
             ],
             [
              0.4444444444444444,
              "#bd3786"
             ],
             [
              0.5555555555555556,
              "#d8576b"
             ],
             [
              0.6666666666666666,
              "#ed7953"
             ],
             [
              0.7777777777777778,
              "#fb9f3a"
             ],
             [
              0.8888888888888888,
              "#fdca26"
             ],
             [
              1,
              "#f0f921"
             ]
            ],
            "type": "heatmap"
           }
          ],
          "heatmapgl": [
           {
            "colorbar": {
             "outlinewidth": 0,
             "ticks": ""
            },
            "colorscale": [
             [
              0,
              "#0d0887"
             ],
             [
              0.1111111111111111,
              "#46039f"
             ],
             [
              0.2222222222222222,
              "#7201a8"
             ],
             [
              0.3333333333333333,
              "#9c179e"
             ],
             [
              0.4444444444444444,
              "#bd3786"
             ],
             [
              0.5555555555555556,
              "#d8576b"
             ],
             [
              0.6666666666666666,
              "#ed7953"
             ],
             [
              0.7777777777777778,
              "#fb9f3a"
             ],
             [
              0.8888888888888888,
              "#fdca26"
             ],
             [
              1,
              "#f0f921"
             ]
            ],
            "type": "heatmapgl"
           }
          ],
          "histogram": [
           {
            "marker": {
             "pattern": {
              "fillmode": "overlay",
              "size": 10,
              "solidity": 0.2
             }
            },
            "type": "histogram"
           }
          ],
          "histogram2d": [
           {
            "colorbar": {
             "outlinewidth": 0,
             "ticks": ""
            },
            "colorscale": [
             [
              0,
              "#0d0887"
             ],
             [
              0.1111111111111111,
              "#46039f"
             ],
             [
              0.2222222222222222,
              "#7201a8"
             ],
             [
              0.3333333333333333,
              "#9c179e"
             ],
             [
              0.4444444444444444,
              "#bd3786"
             ],
             [
              0.5555555555555556,
              "#d8576b"
             ],
             [
              0.6666666666666666,
              "#ed7953"
             ],
             [
              0.7777777777777778,
              "#fb9f3a"
             ],
             [
              0.8888888888888888,
              "#fdca26"
             ],
             [
              1,
              "#f0f921"
             ]
            ],
            "type": "histogram2d"
           }
          ],
          "histogram2dcontour": [
           {
            "colorbar": {
             "outlinewidth": 0,
             "ticks": ""
            },
            "colorscale": [
             [
              0,
              "#0d0887"
             ],
             [
              0.1111111111111111,
              "#46039f"
             ],
             [
              0.2222222222222222,
              "#7201a8"
             ],
             [
              0.3333333333333333,
              "#9c179e"
             ],
             [
              0.4444444444444444,
              "#bd3786"
             ],
             [
              0.5555555555555556,
              "#d8576b"
             ],
             [
              0.6666666666666666,
              "#ed7953"
             ],
             [
              0.7777777777777778,
              "#fb9f3a"
             ],
             [
              0.8888888888888888,
              "#fdca26"
             ],
             [
              1,
              "#f0f921"
             ]
            ],
            "type": "histogram2dcontour"
           }
          ],
          "mesh3d": [
           {
            "colorbar": {
             "outlinewidth": 0,
             "ticks": ""
            },
            "type": "mesh3d"
           }
          ],
          "parcoords": [
           {
            "line": {
             "colorbar": {
              "outlinewidth": 0,
              "ticks": ""
             }
            },
            "type": "parcoords"
           }
          ],
          "pie": [
           {
            "automargin": true,
            "type": "pie"
           }
          ],
          "scatter": [
           {
            "fillpattern": {
             "fillmode": "overlay",
             "size": 10,
             "solidity": 0.2
            },
            "type": "scatter"
           }
          ],
          "scatter3d": [
           {
            "line": {
             "colorbar": {
              "outlinewidth": 0,
              "ticks": ""
             }
            },
            "marker": {
             "colorbar": {
              "outlinewidth": 0,
              "ticks": ""
             }
            },
            "type": "scatter3d"
           }
          ],
          "scattercarpet": [
           {
            "marker": {
             "colorbar": {
              "outlinewidth": 0,
              "ticks": ""
             }
            },
            "type": "scattercarpet"
           }
          ],
          "scattergeo": [
           {
            "marker": {
             "colorbar": {
              "outlinewidth": 0,
              "ticks": ""
             }
            },
            "type": "scattergeo"
           }
          ],
          "scattergl": [
           {
            "marker": {
             "colorbar": {
              "outlinewidth": 0,
              "ticks": ""
             }
            },
            "type": "scattergl"
           }
          ],
          "scattermapbox": [
           {
            "marker": {
             "colorbar": {
              "outlinewidth": 0,
              "ticks": ""
             }
            },
            "type": "scattermapbox"
           }
          ],
          "scatterpolar": [
           {
            "marker": {
             "colorbar": {
              "outlinewidth": 0,
              "ticks": ""
             }
            },
            "type": "scatterpolar"
           }
          ],
          "scatterpolargl": [
           {
            "marker": {
             "colorbar": {
              "outlinewidth": 0,
              "ticks": ""
             }
            },
            "type": "scatterpolargl"
           }
          ],
          "scatterternary": [
           {
            "marker": {
             "colorbar": {
              "outlinewidth": 0,
              "ticks": ""
             }
            },
            "type": "scatterternary"
           }
          ],
          "surface": [
           {
            "colorbar": {
             "outlinewidth": 0,
             "ticks": ""
            },
            "colorscale": [
             [
              0,
              "#0d0887"
             ],
             [
              0.1111111111111111,
              "#46039f"
             ],
             [
              0.2222222222222222,
              "#7201a8"
             ],
             [
              0.3333333333333333,
              "#9c179e"
             ],
             [
              0.4444444444444444,
              "#bd3786"
             ],
             [
              0.5555555555555556,
              "#d8576b"
             ],
             [
              0.6666666666666666,
              "#ed7953"
             ],
             [
              0.7777777777777778,
              "#fb9f3a"
             ],
             [
              0.8888888888888888,
              "#fdca26"
             ],
             [
              1,
              "#f0f921"
             ]
            ],
            "type": "surface"
           }
          ],
          "table": [
           {
            "cells": {
             "fill": {
              "color": "#EBF0F8"
             },
             "line": {
              "color": "white"
             }
            },
            "header": {
             "fill": {
              "color": "#C8D4E3"
             },
             "line": {
              "color": "white"
             }
            },
            "type": "table"
           }
          ]
         },
         "layout": {
          "annotationdefaults": {
           "arrowcolor": "#2a3f5f",
           "arrowhead": 0,
           "arrowwidth": 1
          },
          "autotypenumbers": "strict",
          "coloraxis": {
           "colorbar": {
            "outlinewidth": 0,
            "ticks": ""
           }
          },
          "colorscale": {
           "diverging": [
            [
             0,
             "#8e0152"
            ],
            [
             0.1,
             "#c51b7d"
            ],
            [
             0.2,
             "#de77ae"
            ],
            [
             0.3,
             "#f1b6da"
            ],
            [
             0.4,
             "#fde0ef"
            ],
            [
             0.5,
             "#f7f7f7"
            ],
            [
             0.6,
             "#e6f5d0"
            ],
            [
             0.7,
             "#b8e186"
            ],
            [
             0.8,
             "#7fbc41"
            ],
            [
             0.9,
             "#4d9221"
            ],
            [
             1,
             "#276419"
            ]
           ],
           "sequential": [
            [
             0,
             "#0d0887"
            ],
            [
             0.1111111111111111,
             "#46039f"
            ],
            [
             0.2222222222222222,
             "#7201a8"
            ],
            [
             0.3333333333333333,
             "#9c179e"
            ],
            [
             0.4444444444444444,
             "#bd3786"
            ],
            [
             0.5555555555555556,
             "#d8576b"
            ],
            [
             0.6666666666666666,
             "#ed7953"
            ],
            [
             0.7777777777777778,
             "#fb9f3a"
            ],
            [
             0.8888888888888888,
             "#fdca26"
            ],
            [
             1,
             "#f0f921"
            ]
           ],
           "sequentialminus": [
            [
             0,
             "#0d0887"
            ],
            [
             0.1111111111111111,
             "#46039f"
            ],
            [
             0.2222222222222222,
             "#7201a8"
            ],
            [
             0.3333333333333333,
             "#9c179e"
            ],
            [
             0.4444444444444444,
             "#bd3786"
            ],
            [
             0.5555555555555556,
             "#d8576b"
            ],
            [
             0.6666666666666666,
             "#ed7953"
            ],
            [
             0.7777777777777778,
             "#fb9f3a"
            ],
            [
             0.8888888888888888,
             "#fdca26"
            ],
            [
             1,
             "#f0f921"
            ]
           ]
          },
          "colorway": [
           "#636efa",
           "#EF553B",
           "#00cc96",
           "#ab63fa",
           "#FFA15A",
           "#19d3f3",
           "#FF6692",
           "#B6E880",
           "#FF97FF",
           "#FECB52"
          ],
          "font": {
           "color": "#2a3f5f"
          },
          "geo": {
           "bgcolor": "white",
           "lakecolor": "white",
           "landcolor": "#E5ECF6",
           "showlakes": true,
           "showland": true,
           "subunitcolor": "white"
          },
          "hoverlabel": {
           "align": "left"
          },
          "hovermode": "closest",
          "mapbox": {
           "style": "light"
          },
          "paper_bgcolor": "white",
          "plot_bgcolor": "#E5ECF6",
          "polar": {
           "angularaxis": {
            "gridcolor": "white",
            "linecolor": "white",
            "ticks": ""
           },
           "bgcolor": "#E5ECF6",
           "radialaxis": {
            "gridcolor": "white",
            "linecolor": "white",
            "ticks": ""
           }
          },
          "scene": {
           "xaxis": {
            "backgroundcolor": "#E5ECF6",
            "gridcolor": "white",
            "gridwidth": 2,
            "linecolor": "white",
            "showbackground": true,
            "ticks": "",
            "zerolinecolor": "white"
           },
           "yaxis": {
            "backgroundcolor": "#E5ECF6",
            "gridcolor": "white",
            "gridwidth": 2,
            "linecolor": "white",
            "showbackground": true,
            "ticks": "",
            "zerolinecolor": "white"
           },
           "zaxis": {
            "backgroundcolor": "#E5ECF6",
            "gridcolor": "white",
            "gridwidth": 2,
            "linecolor": "white",
            "showbackground": true,
            "ticks": "",
            "zerolinecolor": "white"
           }
          },
          "shapedefaults": {
           "line": {
            "color": "#2a3f5f"
           }
          },
          "ternary": {
           "aaxis": {
            "gridcolor": "white",
            "linecolor": "white",
            "ticks": ""
           },
           "baxis": {
            "gridcolor": "white",
            "linecolor": "white",
            "ticks": ""
           },
           "bgcolor": "#E5ECF6",
           "caxis": {
            "gridcolor": "white",
            "linecolor": "white",
            "ticks": ""
           }
          },
          "title": {
           "x": 0.05
          },
          "xaxis": {
           "automargin": true,
           "gridcolor": "white",
           "linecolor": "white",
           "ticks": "",
           "title": {
            "standoff": 15
           },
           "zerolinecolor": "white",
           "zerolinewidth": 2
          },
          "yaxis": {
           "automargin": true,
           "gridcolor": "white",
           "linecolor": "white",
           "ticks": "",
           "title": {
            "standoff": 15
           },
           "zerolinecolor": "white",
           "zerolinewidth": 2
          }
         }
        },
        "title": {
         "text": " Top-20 hôtels par ville"
        }
       }
      }
     },
     "metadata": {},
     "output_type": "display_data"
    }
   ],
   "source": [
    "import pandas as pd\n",
    "import plotly.express as px\n",
    "from variables import final_csv_name, weather_html_map, hotel_html_map\n",
    "\n",
    "# Lecture du csv\n",
    "df_final = pd.read_csv(final_csv_name)\n",
    "\n",
    "# CARTE Météo TOP 5 des destinations\n",
    "# On isole les colonnes utiles à la création de la carte\n",
    "df_weather_map = df_final[[\"id_city\", \"city\", \"lat\", \"lon\", \"temperature\", \"condition\"]].drop_duplicates()\n",
    "\n",
    "# Top 5 des températures les plus élevées\n",
    "df_weather_map = df_weather_map.sort_values(\"temperature\", ascending = False).head(5)\n",
    "\n",
    "# Arrondi la température (car on ne présente pas une température avec des virgules)\n",
    "df_weather_map[\"temperature\"] = df_weather_map[\"temperature\"].apply(lambda x:round(x))\n",
    "\n",
    "# Calcul la taille des bubbles : \n",
    "# La taille sera fonction de la température, sauf si celle-ci est <=0, dans ce cas on met la taille mini : 1\n",
    "df_weather_map[\"size_temp\"] = df_weather_map.apply(lambda x: 1 if x[\"temperature\"] <= 0 else x[\"temperature\"], axis = 1)\n",
    "\n",
    "# Renommage des colonnes\n",
    "df_weather_map = df_weather_map.rename({\"temperature\":\"Température moyenne (°C)\", \"condition\":\"Conditions\"}, axis = 1)\n",
    "\n",
    "# Carte WEATHER\n",
    "map_temp_moy = px.scatter_map(df_weather_map, lat = \"lat\", lon = \"lon\", \n",
    "                        size = \"size_temp\",\n",
    "                        hover_name=\"city\",\n",
    "                        hover_data={\"lat\":False, \"lon\":False, \"size_temp\":False, \"Conditions\": True},\n",
    "                        color = \"Température moyenne (°C)\",  color_continuous_scale = \"Bluered\",\n",
    "                        zoom = 4, map_style = \"open-street-map\",\n",
    "                        title = \"Top-5 destinations sur les 5 prochains jours\")\n",
    "\n",
    "map_temp_moy.show()\n",
    "map_temp_moy.write_html(weather_html_map)\n",
    "\n",
    "\n",
    "# CARTE TOP 20 des hôtels pour le top-5 des villes ayant les températures les plus élevées\n",
    "# On isole les colonnes utiles à la création de la carte\n",
    "df_hotel_map = df_final.loc[df_final[\"id_city\"].isin(df_weather_map[\"id_city\"]), [\"id_city\", \"city\", \"hotel_lat\", \"hotel_lon\", \"hotel_name\", \"hotel_score\", \"hotel_link\"]]\n",
    "\n",
    "# Lien hypertexte pour aller sur le détail de l'hotel\n",
    "df_hotel_map = df_hotel_map.copy() # Créer une copie explicite pour éviter le warning\n",
    "df_hotel_map[\"hotel_url\"] = df_hotel_map.apply(lambda x: str(\"<a href=\\'\" + x[\"hotel_link\"] + \"'>\" + x[\"hotel_name\"] + \"</a>\"), axis=1) \n",
    "\n",
    "# Renommage des colonnes\n",
    "df_hotel_map = df_hotel_map.rename({\"hotel_score\":\"Note utilisateurs\"}, axis=1)\n",
    "\n",
    "# Carte HOTEL\n",
    "map_hotel = px.scatter_map(df_hotel_map, lat = \"hotel_lat\", lon = \"hotel_lon\", \n",
    "                        hover_name=\"hotel_url\",\n",
    "                        hover_data={\"city\":False, \"hotel_lat\":False, \"hotel_lon\":False, \"Note utilisateurs\":True},\n",
    "                        color=\"city\",\n",
    "                        zoom = 5, map_style = \"open-street-map\",\n",
    "                        title = \" Top-20 hôtels par ville\")\n",
    "\n",
    "# Taille des marqueurs\n",
    "map_hotel.update_traces(marker={\"size\": 20, \"opacity\": 0.7})\n",
    "\n",
    "# Couleur de fond du survol pour voir le lien hypertexte\n",
    "map_hotel.update_layout(hoverlabel={\"bgcolor\":\"white\"})\n",
    "\n",
    "map_hotel.show()\n",
    "map_hotel.write_html(hotel_html_map)\n"
   ]
  }
 ],
 "metadata": {
  "kernelspec": {
   "display_name": "base",
   "language": "python",
   "name": "python3"
  },
  "language_info": {
   "codemirror_mode": {
    "name": "ipython",
    "version": 3
   },
   "file_extension": ".py",
   "mimetype": "text/x-python",
   "name": "python",
   "nbconvert_exporter": "python",
   "pygments_lexer": "ipython3",
   "version": "3.12.3"
  }
 },
 "nbformat": 4,
 "nbformat_minor": 5
}
