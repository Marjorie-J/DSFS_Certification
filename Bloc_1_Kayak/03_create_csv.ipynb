{
 "cells": [
  {
   "cell_type": "markdown",
   "id": "984b8136",
   "metadata": {},
   "source": [
    "Crée un fichier csv qui va contenir, pour chaque ville, les informations météo + hôtels"
   ]
  },
  {
   "cell_type": "code",
   "execution_count": 2,
   "id": "4c5d9331",
   "metadata": {},
   "outputs": [],
   "source": [
    "import pandas as pd\n",
    "from variables import cities_csv_name, hotels_jl_name, weather_csv_name, final_csv_name\n",
    "\n",
    "# Villes = 1er dataframe\n",
    "df_cities = pd.read_csv(cities_csv_name)\n",
    "df_cities = df_cities.set_index(\"id\")\n",
    "\n",
    "# Météo = 2ème dataframe\n",
    "df_weather = pd.read_csv(weather_csv_name)\n",
    "\n",
    "# On fusionne les 2 dataframe \"Villes\" et \"Météo\" en un seul\n",
    "df_cities_weather = df_cities.merge(df_weather, how=\"outer\", left_on=\"id\", right_on=\"id_city\")\n",
    "df_cities_weather = df_cities_weather.set_index(\"id_city\")\n",
    "\n",
    "# Création d'un dataframe qui, pour chaque ville, donne :\n",
    "# - les températures / températures ressenties / vitesse du vent / proba précipitations moyens sur les 5 prochains jours\n",
    "# - la condition météo (couvert, pluvieux, ...) la plus donnée pour les 5 prochains jours\n",
    "# Ce dataframe va nous permettre de construire le csv final + construire la carte météo\n",
    "df_weather_5_days = df_cities_weather.groupby([\"id_city\",\"city\", \"lat\", \"lon\"]).agg({\"temperature\" : \"mean\", \n",
    "                                                                                        \"temperature_feels_like\" : \"mean\",\n",
    "                                                                                        \"condition\" : lambda x: x.mode()[0],\n",
    "                                                                                        \"wind_speed\" : \"mean\",\n",
    "                                                                                        \"proba_precipitation\" : \"mean\"}).reset_index()\n",
    "df_weather_5_days[\"id_city\"] = df_weather_5_days[\"id_city\"].astype(int)\n",
    "\n",
    "# Hotels = 3ème DataFrame\n",
    "df_hotels = pd.read_json(hotels_jl_name, lines = True)\n",
    "\n",
    "# Création d'un dataframe final qui combine les infos météo pour les 5 prochains jours ainsi que le top 20 des hôtels\n",
    "df_final = df_weather_5_days.merge(df_hotels, on=[\"id_city\", \"city\"])\n",
    "df_final = df_final.set_index(\"id_city\")\n",
    "df_final.to_csv(final_csv_name)"
   ]
  }
 ],
 "metadata": {
  "kernelspec": {
   "display_name": "dsfs_env",
   "language": "python",
   "name": "python3"
  },
  "language_info": {
   "codemirror_mode": {
    "name": "ipython",
    "version": 3
   },
   "file_extension": ".py",
   "mimetype": "text/x-python",
   "name": "python",
   "nbconvert_exporter": "python",
   "pygments_lexer": "ipython3",
   "version": "3.12.3"
  }
 },
 "nbformat": 4,
 "nbformat_minor": 5
}
