{
  "cells": [
    {
      "cell_type": "markdown",
      "id": "fa7cd843",
      "metadata": {},
      "source": [
        "## 1. Lecture CSV"
      ]
    },
    {
      "cell_type": "code",
      "execution_count": 1,
      "id": "6f875d1b",
      "metadata": {
        "id": "6f875d1b"
      },
      "outputs": [
        {
          "name": "stderr",
          "output_type": "stream",
          "text": [
            "c:\\__DATA_SCIENCE__\\Anaconda\\envs\\pytorch\\lib\\site-packages\\tqdm\\auto.py:21: TqdmWarning: IProgress not found. Please update jupyter and ipywidgets. See https://ipywidgets.readthedocs.io/en/stable/user_install.html\n",
            "  from .autonotebook import tqdm as notebook_tqdm\n"
          ]
        }
      ],
      "source": [
        "import numpy as np\n",
        "import pandas as pd\n",
        "import plotly.express as px\n",
        "from sklearn.metrics import classification_report, confusion_matrix\n",
        "import tiktoken\n",
        "import torch\n",
        "import torch.nn as nn\n",
        "import torch.optim as optim\n",
        "from torch.utils.data import DataLoader, Dataset, random_split\n",
        "from transformers import pipeline"
      ]
    },
    {
      "cell_type": "code",
      "execution_count": 2,
      "id": "4613b6c9",
      "metadata": {
        "colab": {
          "base_uri": "https://localhost:8080/"
        },
        "id": "4613b6c9",
        "outputId": "1e238825-2ff8-4fa1-f44a-13eafeec443a"
      },
      "outputs": [
        {
          "name": "stdout",
          "output_type": "stream",
          "text": [
            "<class 'pandas.core.frame.DataFrame'>\n",
            "RangeIndex: 5572 entries, 0 to 5571\n",
            "Data columns (total 5 columns):\n",
            " #   Column      Non-Null Count  Dtype \n",
            "---  ------      --------------  ----- \n",
            " 0   v1          5572 non-null   object\n",
            " 1   v2          5572 non-null   object\n",
            " 2   Unnamed: 2  50 non-null     object\n",
            " 3   Unnamed: 3  12 non-null     object\n",
            " 4   Unnamed: 4  6 non-null      object\n",
            "dtypes: object(5)\n",
            "memory usage: 217.8+ KB\n"
          ]
        }
      ],
      "source": [
        "df_spam = pd.read_csv(\"datas/spam.csv\", encoding=\"iso-8859-1\")\n",
        "df_spam.info()"
      ]
    },
    {
      "cell_type": "markdown",
      "id": "e46620ca",
      "metadata": {},
      "source": [
        "---"
      ]
    },
    {
      "cell_type": "markdown",
      "id": "170d0d58",
      "metadata": {
        "id": "170d0d58"
      },
      "source": [
        "## 2. Préprocessing"
      ]
    },
    {
      "cell_type": "markdown",
      "id": "2883d2f3",
      "metadata": {},
      "source": [
        "#### Analyse des 3 colonnes `Unnamed`"
      ]
    },
    {
      "cell_type": "code",
      "execution_count": 3,
      "id": "66086327",
      "metadata": {
        "colab": {
          "base_uri": "https://localhost:8080/",
          "height": 206
        },
        "id": "66086327",
        "outputId": "9119c6d0-62aa-49c6-ebba-6fe506d24818"
      },
      "outputs": [
        {
          "data": {
            "text/html": [
              "<div>\n",
              "<style scoped>\n",
              "    .dataframe tbody tr th:only-of-type {\n",
              "        vertical-align: middle;\n",
              "    }\n",
              "\n",
              "    .dataframe tbody tr th {\n",
              "        vertical-align: top;\n",
              "    }\n",
              "\n",
              "    .dataframe thead th {\n",
              "        text-align: right;\n",
              "    }\n",
              "</style>\n",
              "<table border=\"1\" class=\"dataframe\">\n",
              "  <thead>\n",
              "    <tr style=\"text-align: right;\">\n",
              "      <th></th>\n",
              "      <th>v1</th>\n",
              "      <th>v2</th>\n",
              "      <th>Unnamed: 2</th>\n",
              "      <th>Unnamed: 3</th>\n",
              "      <th>Unnamed: 4</th>\n",
              "    </tr>\n",
              "  </thead>\n",
              "  <tbody>\n",
              "    <tr>\n",
              "      <th>0</th>\n",
              "      <td>ham</td>\n",
              "      <td>Go until jurong point, crazy.. Available only ...</td>\n",
              "      <td>NaN</td>\n",
              "      <td>NaN</td>\n",
              "      <td>NaN</td>\n",
              "    </tr>\n",
              "    <tr>\n",
              "      <th>1</th>\n",
              "      <td>ham</td>\n",
              "      <td>Ok lar... Joking wif u oni...</td>\n",
              "      <td>NaN</td>\n",
              "      <td>NaN</td>\n",
              "      <td>NaN</td>\n",
              "    </tr>\n",
              "    <tr>\n",
              "      <th>2</th>\n",
              "      <td>spam</td>\n",
              "      <td>Free entry in 2 a wkly comp to win FA Cup fina...</td>\n",
              "      <td>NaN</td>\n",
              "      <td>NaN</td>\n",
              "      <td>NaN</td>\n",
              "    </tr>\n",
              "    <tr>\n",
              "      <th>3</th>\n",
              "      <td>ham</td>\n",
              "      <td>U dun say so early hor... U c already then say...</td>\n",
              "      <td>NaN</td>\n",
              "      <td>NaN</td>\n",
              "      <td>NaN</td>\n",
              "    </tr>\n",
              "    <tr>\n",
              "      <th>4</th>\n",
              "      <td>ham</td>\n",
              "      <td>Nah I don't think he goes to usf, he lives aro...</td>\n",
              "      <td>NaN</td>\n",
              "      <td>NaN</td>\n",
              "      <td>NaN</td>\n",
              "    </tr>\n",
              "  </tbody>\n",
              "</table>\n",
              "</div>"
            ],
            "text/plain": [
              "     v1                                                 v2 Unnamed: 2  \\\n",
              "0   ham  Go until jurong point, crazy.. Available only ...        NaN   \n",
              "1   ham                      Ok lar... Joking wif u oni...        NaN   \n",
              "2  spam  Free entry in 2 a wkly comp to win FA Cup fina...        NaN   \n",
              "3   ham  U dun say so early hor... U c already then say...        NaN   \n",
              "4   ham  Nah I don't think he goes to usf, he lives aro...        NaN   \n",
              "\n",
              "  Unnamed: 3 Unnamed: 4  \n",
              "0        NaN        NaN  \n",
              "1        NaN        NaN  \n",
              "2        NaN        NaN  \n",
              "3        NaN        NaN  \n",
              "4        NaN        NaN  "
            ]
          },
          "execution_count": 3,
          "metadata": {},
          "output_type": "execute_result"
        }
      ],
      "source": [
        "df_spam.head()"
      ]
    },
    {
      "cell_type": "code",
      "execution_count": 4,
      "id": "c55d5d68",
      "metadata": {
        "colab": {
          "base_uri": "https://localhost:8080/",
          "height": 272
        },
        "id": "c55d5d68",
        "outputId": "613c5c25-ac35-4644-9382-ee1b8d425baf"
      },
      "outputs": [
        {
          "data": {
            "text/html": [
              "<div>\n",
              "<style scoped>\n",
              "    .dataframe tbody tr th:only-of-type {\n",
              "        vertical-align: middle;\n",
              "    }\n",
              "\n",
              "    .dataframe tbody tr th {\n",
              "        vertical-align: top;\n",
              "    }\n",
              "\n",
              "    .dataframe thead th {\n",
              "        text-align: right;\n",
              "    }\n",
              "</style>\n",
              "<table border=\"1\" class=\"dataframe\">\n",
              "  <thead>\n",
              "    <tr style=\"text-align: right;\">\n",
              "      <th></th>\n",
              "      <th>v1</th>\n",
              "      <th>v2</th>\n",
              "      <th>Unnamed: 2</th>\n",
              "      <th>Unnamed: 3</th>\n",
              "      <th>Unnamed: 4</th>\n",
              "    </tr>\n",
              "  </thead>\n",
              "  <tbody>\n",
              "    <tr>\n",
              "      <th>95</th>\n",
              "      <td>spam</td>\n",
              "      <td>Your free ringtone is waiting to be collected....</td>\n",
              "      <td>PO Box 5249</td>\n",
              "      <td>MK17 92H. 450Ppw 16\"</td>\n",
              "      <td>NaN</td>\n",
              "    </tr>\n",
              "    <tr>\n",
              "      <th>281</th>\n",
              "      <td>ham</td>\n",
              "      <td>\\Wen u miss someone</td>\n",
              "      <td>the person is definitely special for u..... B...</td>\n",
              "      <td>why to miss them</td>\n",
              "      <td>just Keep-in-touch\\\" gdeve..\"</td>\n",
              "    </tr>\n",
              "    <tr>\n",
              "      <th>444</th>\n",
              "      <td>ham</td>\n",
              "      <td>\\HEY HEY WERETHE MONKEESPEOPLE SAY WE MONKEYAR...</td>\n",
              "      <td>HOWU DOIN? FOUNDURSELF A JOBYET SAUSAGE?LOVE ...</td>\n",
              "      <td>NaN</td>\n",
              "      <td>NaN</td>\n",
              "    </tr>\n",
              "    <tr>\n",
              "      <th>671</th>\n",
              "      <td>spam</td>\n",
              "      <td>SMS. ac sun0819 posts HELLO:\\You seem cool</td>\n",
              "      <td>wanted to say hi. HI!!!\\\" Stop? Send STOP to ...</td>\n",
              "      <td>NaN</td>\n",
              "      <td>NaN</td>\n",
              "    </tr>\n",
              "    <tr>\n",
              "      <th>710</th>\n",
              "      <td>ham</td>\n",
              "      <td>Height of Confidence: All the Aeronautics prof...</td>\n",
              "      <td>this wont even start........ Datz confidence..\"</td>\n",
              "      <td>NaN</td>\n",
              "      <td>NaN</td>\n",
              "    </tr>\n",
              "  </tbody>\n",
              "</table>\n",
              "</div>"
            ],
            "text/plain": [
              "       v1                                                 v2  \\\n",
              "95   spam  Your free ringtone is waiting to be collected....   \n",
              "281   ham                                \\Wen u miss someone   \n",
              "444   ham  \\HEY HEY WERETHE MONKEESPEOPLE SAY WE MONKEYAR...   \n",
              "671  spam         SMS. ac sun0819 posts HELLO:\\You seem cool   \n",
              "710   ham  Height of Confidence: All the Aeronautics prof...   \n",
              "\n",
              "                                            Unnamed: 2             Unnamed: 3  \\\n",
              "95                                         PO Box 5249   MK17 92H. 450Ppw 16\"   \n",
              "281   the person is definitely special for u..... B...       why to miss them   \n",
              "444   HOWU DOIN? FOUNDURSELF A JOBYET SAUSAGE?LOVE ...                    NaN   \n",
              "671   wanted to say hi. HI!!!\\\" Stop? Send STOP to ...                    NaN   \n",
              "710    this wont even start........ Datz confidence..\"                    NaN   \n",
              "\n",
              "                         Unnamed: 4  \n",
              "95                              NaN  \n",
              "281   just Keep-in-touch\\\" gdeve..\"  \n",
              "444                             NaN  \n",
              "671                             NaN  \n",
              "710                             NaN  "
            ]
          },
          "execution_count": 4,
          "metadata": {},
          "output_type": "execute_result"
        }
      ],
      "source": [
        "mask_unnamed_2 = (df_spam[\"Unnamed: 2\"].notnull())\n",
        "df_spam[mask_unnamed_2].head()"
      ]
    },
    {
      "cell_type": "code",
      "execution_count": 5,
      "id": "5507241d",
      "metadata": {
        "colab": {
          "base_uri": "https://localhost:8080/",
          "height": 272
        },
        "id": "5507241d",
        "outputId": "63ac0f78-a640-46cf-bb08-3b7eeaf05d7a"
      },
      "outputs": [
        {
          "data": {
            "text/html": [
              "<div>\n",
              "<style scoped>\n",
              "    .dataframe tbody tr th:only-of-type {\n",
              "        vertical-align: middle;\n",
              "    }\n",
              "\n",
              "    .dataframe tbody tr th {\n",
              "        vertical-align: top;\n",
              "    }\n",
              "\n",
              "    .dataframe thead th {\n",
              "        text-align: right;\n",
              "    }\n",
              "</style>\n",
              "<table border=\"1\" class=\"dataframe\">\n",
              "  <thead>\n",
              "    <tr style=\"text-align: right;\">\n",
              "      <th></th>\n",
              "      <th>v1</th>\n",
              "      <th>v2</th>\n",
              "      <th>Unnamed: 2</th>\n",
              "      <th>Unnamed: 3</th>\n",
              "      <th>Unnamed: 4</th>\n",
              "    </tr>\n",
              "  </thead>\n",
              "  <tbody>\n",
              "    <tr>\n",
              "      <th>95</th>\n",
              "      <td>spam</td>\n",
              "      <td>Your free ringtone is waiting to be collected....</td>\n",
              "      <td>PO Box 5249</td>\n",
              "      <td>MK17 92H. 450Ppw 16\"</td>\n",
              "      <td>NaN</td>\n",
              "    </tr>\n",
              "    <tr>\n",
              "      <th>281</th>\n",
              "      <td>ham</td>\n",
              "      <td>\\Wen u miss someone</td>\n",
              "      <td>the person is definitely special for u..... B...</td>\n",
              "      <td>why to miss them</td>\n",
              "      <td>just Keep-in-touch\\\" gdeve..\"</td>\n",
              "    </tr>\n",
              "    <tr>\n",
              "      <th>899</th>\n",
              "      <td>spam</td>\n",
              "      <td>Your free ringtone is waiting to be collected....</td>\n",
              "      <td>PO Box 5249</td>\n",
              "      <td>MK17 92H. 450Ppw 16\"</td>\n",
              "      <td>NaN</td>\n",
              "    </tr>\n",
              "    <tr>\n",
              "      <th>1038</th>\n",
              "      <td>ham</td>\n",
              "      <td>Edison has rightly said, \\A fool can ask more ...</td>\n",
              "      <td>GN</td>\n",
              "      <td>GE</td>\n",
              "      <td>GNT:-)\"</td>\n",
              "    </tr>\n",
              "    <tr>\n",
              "      <th>2170</th>\n",
              "      <td>ham</td>\n",
              "      <td>\\CAN I PLEASE COME UP NOW IMIN TOWN.DONTMATTER...</td>\n",
              "      <td>JUST REALLYNEED 2DOCD.PLEASE DONTPLEASE DONTIG...</td>\n",
              "      <td>U NO THECD ISV.IMPORTANT TOME 4 2MORO\\\"\"</td>\n",
              "      <td>NaN</td>\n",
              "    </tr>\n",
              "  </tbody>\n",
              "</table>\n",
              "</div>"
            ],
            "text/plain": [
              "        v1                                                 v2  \\\n",
              "95    spam  Your free ringtone is waiting to be collected....   \n",
              "281    ham                                \\Wen u miss someone   \n",
              "899   spam  Your free ringtone is waiting to be collected....   \n",
              "1038   ham  Edison has rightly said, \\A fool can ask more ...   \n",
              "2170   ham  \\CAN I PLEASE COME UP NOW IMIN TOWN.DONTMATTER...   \n",
              "\n",
              "                                             Unnamed: 2  \\\n",
              "95                                          PO Box 5249   \n",
              "281    the person is definitely special for u..... B...   \n",
              "899                                         PO Box 5249   \n",
              "1038                                                 GN   \n",
              "2170  JUST REALLYNEED 2DOCD.PLEASE DONTPLEASE DONTIG...   \n",
              "\n",
              "                                    Unnamed: 3                      Unnamed: 4  \n",
              "95                        MK17 92H. 450Ppw 16\"                             NaN  \n",
              "281                           why to miss them   just Keep-in-touch\\\" gdeve..\"  \n",
              "899                       MK17 92H. 450Ppw 16\"                             NaN  \n",
              "1038                                        GE                         GNT:-)\"  \n",
              "2170  U NO THECD ISV.IMPORTANT TOME 4 2MORO\\\"\"                             NaN  "
            ]
          },
          "execution_count": 5,
          "metadata": {},
          "output_type": "execute_result"
        }
      ],
      "source": [
        "mask_unnamed_3 = (df_spam[\"Unnamed: 3\"].notnull())\n",
        "df_spam[mask_unnamed_3].head()"
      ]
    },
    {
      "cell_type": "code",
      "execution_count": 6,
      "id": "7743d5e2",
      "metadata": {
        "colab": {
          "base_uri": "https://localhost:8080/",
          "height": 272
        },
        "id": "7743d5e2",
        "outputId": "d4a3e449-47b4-4bfb-8501-733511efe21d"
      },
      "outputs": [
        {
          "data": {
            "text/html": [
              "<div>\n",
              "<style scoped>\n",
              "    .dataframe tbody tr th:only-of-type {\n",
              "        vertical-align: middle;\n",
              "    }\n",
              "\n",
              "    .dataframe tbody tr th {\n",
              "        vertical-align: top;\n",
              "    }\n",
              "\n",
              "    .dataframe thead th {\n",
              "        text-align: right;\n",
              "    }\n",
              "</style>\n",
              "<table border=\"1\" class=\"dataframe\">\n",
              "  <thead>\n",
              "    <tr style=\"text-align: right;\">\n",
              "      <th></th>\n",
              "      <th>v1</th>\n",
              "      <th>v2</th>\n",
              "      <th>Unnamed: 2</th>\n",
              "      <th>Unnamed: 3</th>\n",
              "      <th>Unnamed: 4</th>\n",
              "    </tr>\n",
              "  </thead>\n",
              "  <tbody>\n",
              "    <tr>\n",
              "      <th>281</th>\n",
              "      <td>ham</td>\n",
              "      <td>\\Wen u miss someone</td>\n",
              "      <td>the person is definitely special for u..... B...</td>\n",
              "      <td>why to miss them</td>\n",
              "      <td>just Keep-in-touch\\\" gdeve..\"</td>\n",
              "    </tr>\n",
              "    <tr>\n",
              "      <th>1038</th>\n",
              "      <td>ham</td>\n",
              "      <td>Edison has rightly said, \\A fool can ask more ...</td>\n",
              "      <td>GN</td>\n",
              "      <td>GE</td>\n",
              "      <td>GNT:-)\"</td>\n",
              "    </tr>\n",
              "    <tr>\n",
              "      <th>2255</th>\n",
              "      <td>ham</td>\n",
              "      <td>I just lov this line: \\Hurt me with the truth</td>\n",
              "      <td>I don't mind</td>\n",
              "      <td>i wil tolerat.bcs ur my someone..... But</td>\n",
              "      <td>Never comfort me with a lie\\\" gud ni8 and swe...</td>\n",
              "    </tr>\n",
              "    <tr>\n",
              "      <th>3525</th>\n",
              "      <td>ham</td>\n",
              "      <td>\\HEY BABE! FAR 2 SPUN-OUT 2 SPK AT DA MO... DE...</td>\n",
              "      <td>HAD A COOL NYTHO</td>\n",
              "      <td>TX 4 FONIN HON</td>\n",
              "      <td>CALL 2MWEN IM BK FRMCLOUD 9! J X\\\"\"</td>\n",
              "    </tr>\n",
              "    <tr>\n",
              "      <th>4668</th>\n",
              "      <td>ham</td>\n",
              "      <td>When I was born, GOD said, \\Oh No! Another IDI...</td>\n",
              "      <td>GOD said</td>\n",
              "      <td>\\\"OH No! COMPETITION\\\". Who knew</td>\n",
              "      <td>one day these two will become FREINDS FOREVER!\"</td>\n",
              "    </tr>\n",
              "  </tbody>\n",
              "</table>\n",
              "</div>"
            ],
            "text/plain": [
              "       v1                                                 v2  \\\n",
              "281   ham                                \\Wen u miss someone   \n",
              "1038  ham  Edison has rightly said, \\A fool can ask more ...   \n",
              "2255  ham      I just lov this line: \\Hurt me with the truth   \n",
              "3525  ham  \\HEY BABE! FAR 2 SPUN-OUT 2 SPK AT DA MO... DE...   \n",
              "4668  ham  When I was born, GOD said, \\Oh No! Another IDI...   \n",
              "\n",
              "                                             Unnamed: 2  \\\n",
              "281    the person is definitely special for u..... B...   \n",
              "1038                                                 GN   \n",
              "2255                                       I don't mind   \n",
              "3525                                   HAD A COOL NYTHO   \n",
              "4668                                           GOD said   \n",
              "\n",
              "                                    Unnamed: 3  \\\n",
              "281                           why to miss them   \n",
              "1038                                        GE   \n",
              "2255  i wil tolerat.bcs ur my someone..... But   \n",
              "3525                            TX 4 FONIN HON   \n",
              "4668          \\\"OH No! COMPETITION\\\". Who knew   \n",
              "\n",
              "                                             Unnamed: 4  \n",
              "281                       just Keep-in-touch\\\" gdeve..\"  \n",
              "1038                                            GNT:-)\"  \n",
              "2255   Never comfort me with a lie\\\" gud ni8 and swe...  \n",
              "3525                CALL 2MWEN IM BK FRMCLOUD 9! J X\\\"\"  \n",
              "4668    one day these two will become FREINDS FOREVER!\"  "
            ]
          },
          "execution_count": 6,
          "metadata": {},
          "output_type": "execute_result"
        }
      ],
      "source": [
        "mask_unnamed_4 = (df_spam[\"Unnamed: 4\"].notnull())\n",
        "df_spam[mask_unnamed_4].head()"
      ]
    },
    {
      "cell_type": "markdown",
      "id": "2032bef1",
      "metadata": {
        "id": "2032bef1"
      },
      "source": [
        "Je vais concaténer ces colonnes avec la colonne qui contient le message"
      ]
    },
    {
      "cell_type": "code",
      "execution_count": 7,
      "id": "d9b2c834",
      "metadata": {
        "colab": {
          "base_uri": "https://localhost:8080/",
          "height": 206
        },
        "id": "d9b2c834",
        "outputId": "76da1963-9053-4b07-bda1-3e3cb20d3161"
      },
      "outputs": [
        {
          "data": {
            "text/html": [
              "<div>\n",
              "<style scoped>\n",
              "    .dataframe tbody tr th:only-of-type {\n",
              "        vertical-align: middle;\n",
              "    }\n",
              "\n",
              "    .dataframe tbody tr th {\n",
              "        vertical-align: top;\n",
              "    }\n",
              "\n",
              "    .dataframe thead th {\n",
              "        text-align: right;\n",
              "    }\n",
              "</style>\n",
              "<table border=\"1\" class=\"dataframe\">\n",
              "  <thead>\n",
              "    <tr style=\"text-align: right;\">\n",
              "      <th></th>\n",
              "      <th>v1</th>\n",
              "      <th>v2</th>\n",
              "    </tr>\n",
              "  </thead>\n",
              "  <tbody>\n",
              "    <tr>\n",
              "      <th>0</th>\n",
              "      <td>ham</td>\n",
              "      <td>Go until jurong point, crazy.. Available only ...</td>\n",
              "    </tr>\n",
              "    <tr>\n",
              "      <th>1</th>\n",
              "      <td>ham</td>\n",
              "      <td>Ok lar... Joking wif u oni...</td>\n",
              "    </tr>\n",
              "    <tr>\n",
              "      <th>2</th>\n",
              "      <td>spam</td>\n",
              "      <td>Free entry in 2 a wkly comp to win FA Cup fina...</td>\n",
              "    </tr>\n",
              "    <tr>\n",
              "      <th>3</th>\n",
              "      <td>ham</td>\n",
              "      <td>U dun say so early hor... U c already then say...</td>\n",
              "    </tr>\n",
              "    <tr>\n",
              "      <th>4</th>\n",
              "      <td>ham</td>\n",
              "      <td>Nah I don't think he goes to usf, he lives aro...</td>\n",
              "    </tr>\n",
              "  </tbody>\n",
              "</table>\n",
              "</div>"
            ],
            "text/plain": [
              "     v1                                                 v2\n",
              "0   ham  Go until jurong point, crazy.. Available only ...\n",
              "1   ham                      Ok lar... Joking wif u oni...\n",
              "2  spam  Free entry in 2 a wkly comp to win FA Cup fina...\n",
              "3   ham  U dun say so early hor... U c already then say...\n",
              "4   ham  Nah I don't think he goes to usf, he lives aro..."
            ]
          },
          "execution_count": 7,
          "metadata": {},
          "output_type": "execute_result"
        }
      ],
      "source": [
        "df_spam[\"v2\"] = (df_spam[\"v2\"].fillna(\"\") + df_spam[\"Unnamed: 2\"].fillna(\"\") + df_spam[\"Unnamed: 3\"].fillna(\"\") + df_spam[\"Unnamed: 4\"].fillna(\"\"))\n",
        "to_drop = [\"Unnamed: 2\", \"Unnamed: 3\", \"Unnamed: 4\"]\n",
        "df_spam = df_spam.drop(columns=to_drop)\n",
        "df_spam.head()"
      ]
    },
    {
      "cell_type": "markdown",
      "id": "bbafeabe",
      "metadata": {},
      "source": [
        "#### Colonnes label et message"
      ]
    },
    {
      "cell_type": "markdown",
      "id": "cb61dded",
      "metadata": {
        "id": "cb61dded"
      },
      "source": [
        "Je renomme les colonnes : `v1` --> `label_text`, `v2` --> `message`"
      ]
    },
    {
      "cell_type": "code",
      "execution_count": 8,
      "id": "21fbf40b",
      "metadata": {
        "colab": {
          "base_uri": "https://localhost:8080/",
          "height": 206
        },
        "id": "21fbf40b",
        "outputId": "df7118f3-5e0f-4537-a771-75130aff48f4"
      },
      "outputs": [
        {
          "data": {
            "text/html": [
              "<div>\n",
              "<style scoped>\n",
              "    .dataframe tbody tr th:only-of-type {\n",
              "        vertical-align: middle;\n",
              "    }\n",
              "\n",
              "    .dataframe tbody tr th {\n",
              "        vertical-align: top;\n",
              "    }\n",
              "\n",
              "    .dataframe thead th {\n",
              "        text-align: right;\n",
              "    }\n",
              "</style>\n",
              "<table border=\"1\" class=\"dataframe\">\n",
              "  <thead>\n",
              "    <tr style=\"text-align: right;\">\n",
              "      <th></th>\n",
              "      <th>label_text</th>\n",
              "      <th>message</th>\n",
              "    </tr>\n",
              "  </thead>\n",
              "  <tbody>\n",
              "    <tr>\n",
              "      <th>0</th>\n",
              "      <td>ham</td>\n",
              "      <td>Go until jurong point, crazy.. Available only ...</td>\n",
              "    </tr>\n",
              "    <tr>\n",
              "      <th>1</th>\n",
              "      <td>ham</td>\n",
              "      <td>Ok lar... Joking wif u oni...</td>\n",
              "    </tr>\n",
              "    <tr>\n",
              "      <th>2</th>\n",
              "      <td>spam</td>\n",
              "      <td>Free entry in 2 a wkly comp to win FA Cup fina...</td>\n",
              "    </tr>\n",
              "    <tr>\n",
              "      <th>3</th>\n",
              "      <td>ham</td>\n",
              "      <td>U dun say so early hor... U c already then say...</td>\n",
              "    </tr>\n",
              "    <tr>\n",
              "      <th>4</th>\n",
              "      <td>ham</td>\n",
              "      <td>Nah I don't think he goes to usf, he lives aro...</td>\n",
              "    </tr>\n",
              "  </tbody>\n",
              "</table>\n",
              "</div>"
            ],
            "text/plain": [
              "  label_text                                            message\n",
              "0        ham  Go until jurong point, crazy.. Available only ...\n",
              "1        ham                      Ok lar... Joking wif u oni...\n",
              "2       spam  Free entry in 2 a wkly comp to win FA Cup fina...\n",
              "3        ham  U dun say so early hor... U c already then say...\n",
              "4        ham  Nah I don't think he goes to usf, he lives aro..."
            ]
          },
          "execution_count": 8,
          "metadata": {},
          "output_type": "execute_result"
        }
      ],
      "source": [
        "df_spam.columns = [\"label_text\", \"message\"]\n",
        "df_spam.head()"
      ]
    },
    {
      "cell_type": "markdown",
      "id": "6a85dc77",
      "metadata": {
        "id": "6a85dc77"
      },
      "source": [
        "J'ajoute une colonne `label` qui encode le label ham / spam : `ham` --> `0`, `spam` --> `1`"
      ]
    },
    {
      "cell_type": "code",
      "execution_count": 9,
      "id": "dd8f6d2f",
      "metadata": {
        "colab": {
          "base_uri": "https://localhost:8080/",
          "height": 206
        },
        "id": "dd8f6d2f",
        "outputId": "7b2e6b51-3bf2-41f7-b3c0-f4b37b6b22a1"
      },
      "outputs": [
        {
          "data": {
            "text/html": [
              "<div>\n",
              "<style scoped>\n",
              "    .dataframe tbody tr th:only-of-type {\n",
              "        vertical-align: middle;\n",
              "    }\n",
              "\n",
              "    .dataframe tbody tr th {\n",
              "        vertical-align: top;\n",
              "    }\n",
              "\n",
              "    .dataframe thead th {\n",
              "        text-align: right;\n",
              "    }\n",
              "</style>\n",
              "<table border=\"1\" class=\"dataframe\">\n",
              "  <thead>\n",
              "    <tr style=\"text-align: right;\">\n",
              "      <th></th>\n",
              "      <th>label_text</th>\n",
              "      <th>message</th>\n",
              "      <th>label</th>\n",
              "    </tr>\n",
              "  </thead>\n",
              "  <tbody>\n",
              "    <tr>\n",
              "      <th>0</th>\n",
              "      <td>ham</td>\n",
              "      <td>Go until jurong point, crazy.. Available only ...</td>\n",
              "      <td>0</td>\n",
              "    </tr>\n",
              "    <tr>\n",
              "      <th>1</th>\n",
              "      <td>ham</td>\n",
              "      <td>Ok lar... Joking wif u oni...</td>\n",
              "      <td>0</td>\n",
              "    </tr>\n",
              "    <tr>\n",
              "      <th>2</th>\n",
              "      <td>spam</td>\n",
              "      <td>Free entry in 2 a wkly comp to win FA Cup fina...</td>\n",
              "      <td>1</td>\n",
              "    </tr>\n",
              "    <tr>\n",
              "      <th>3</th>\n",
              "      <td>ham</td>\n",
              "      <td>U dun say so early hor... U c already then say...</td>\n",
              "      <td>0</td>\n",
              "    </tr>\n",
              "    <tr>\n",
              "      <th>4</th>\n",
              "      <td>ham</td>\n",
              "      <td>Nah I don't think he goes to usf, he lives aro...</td>\n",
              "      <td>0</td>\n",
              "    </tr>\n",
              "  </tbody>\n",
              "</table>\n",
              "</div>"
            ],
            "text/plain": [
              "  label_text                                            message  label\n",
              "0        ham  Go until jurong point, crazy.. Available only ...      0\n",
              "1        ham                      Ok lar... Joking wif u oni...      0\n",
              "2       spam  Free entry in 2 a wkly comp to win FA Cup fina...      1\n",
              "3        ham  U dun say so early hor... U c already then say...      0\n",
              "4        ham  Nah I don't think he goes to usf, he lives aro...      0"
            ]
          },
          "execution_count": 9,
          "metadata": {},
          "output_type": "execute_result"
        }
      ],
      "source": [
        "df_spam[\"label\"] = [0 if label == \"ham\" else 1 for label in df_spam[\"label_text\"]]\n",
        "df_spam.head()"
      ]
    },
    {
      "cell_type": "markdown",
      "id": "bb8bd04e",
      "metadata": {},
      "source": [
        "Distribution des ham et des spam"
      ]
    },
    {
      "cell_type": "code",
      "execution_count": 10,
      "id": "9661ec17",
      "metadata": {
        "colab": {
          "base_uri": "https://localhost:8080/",
          "height": 542
        },
        "id": "9661ec17",
        "outputId": "6e1fb66a-384c-46f9-ed39-21281b50f426"
      },
      "outputs": [
        {
          "data": {
            "application/vnd.plotly.v1+json": {
              "config": {
                "plotlyServerURL": "https://plot.ly"
              },
              "data": [
                {
                  "bingroup": "x",
                  "hovertemplate": "label_text=%{x}<br>count=%{y}<extra></extra>",
                  "legendgroup": "",
                  "marker": {
                    "color": "#636efa",
                    "pattern": {
                      "shape": ""
                    }
                  },
                  "name": "",
                  "orientation": "v",
                  "showlegend": false,
                  "type": "histogram",
                  "x": [
                    "ham",
                    "ham",
                    "spam",
                    "ham",
                    "ham",
                    "spam",
                    "ham",
                    "ham",
                    "spam",
                    "spam",
                    "ham",
                    "spam",
                    "spam",
                    "ham",
                    "ham",
                    "spam",
                    "ham",
                    "ham",
                    "ham",
                    "spam",
                    "ham",
                    "ham",
                    "ham",
                    "ham",
                    "ham",
                    "ham",
                    "ham",
                    "ham",
                    "ham",
                    "ham",
                    "ham",
                    "ham",
                    "ham",
                    "ham",
                    "spam",
                    "ham",
                    "ham",
                    "ham",
                    "ham",
                    "ham",
                    "ham",
                    "ham",
                    "spam",
                    "ham",
                    "ham",
                    "ham",
                    "ham",
                    "ham",
                    "ham",
                    "ham",
                    "ham",
                    "ham",
                    "ham",
                    "ham",
                    "spam",
                    "ham",
                    "spam",
                    "ham",
                    "ham",
                    "ham",
                    "ham",
                    "ham",
                    "ham",
                    "ham",
                    "ham",
                    "spam",
                    "ham",
                    "spam",
                    "spam",
                    "ham",
                    "ham",
                    "ham",
                    "ham",
                    "ham",
                    "ham",
                    "ham",
                    "ham",
                    "ham",
                    "ham",
                    "ham",
                    "ham",
                    "ham",
                    "ham",
                    "ham",
                    "ham",
                    "ham",
                    "ham",
                    "ham",
                    "ham",
                    "ham",
                    "ham",
                    "ham",
                    "ham",
                    "spam",
                    "ham",
                    "spam",
                    "ham",
                    "ham",
                    "ham",
                    "ham",
                    "ham",
                    "ham",
                    "ham",
                    "ham",
                    "ham",
                    "ham",
                    "ham",
                    "ham",
                    "ham",
                    "ham",
                    "ham",
                    "ham",
                    "ham",
                    "spam",
                    "ham",
                    "ham",
                    "spam",
                    "ham",
                    "ham",
                    "spam",
                    "spam",
                    "ham",
                    "spam",
                    "ham",
                    "ham",
                    "ham",
                    "ham",
                    "ham",
                    "ham",
                    "ham",
                    "ham",
                    "ham",
                    "ham",
                    "spam",
                    "spam",
                    "ham",
                    "ham",
                    "ham",
                    "spam",
                    "ham",
                    "ham",
                    "ham",
                    "ham",
                    "ham",
                    "ham",
                    "ham",
                    "spam",
                    "ham",
                    "ham",
                    "ham",
                    "ham",
                    "ham",
                    "ham",
                    "ham",
                    "ham",
                    "ham",
                    "ham",
                    "ham",
                    "spam",
                    "spam",
                    "ham",
                    "ham",
                    "ham",
                    "spam",
                    "spam",
                    "ham",
                    "spam",
                    "ham",
                    "ham",
                    "ham",
                    "ham",
                    "ham",
                    "ham",
                    "ham",
                    "ham",
                    "ham",
                    "ham",
                    "ham",
                    "ham",
                    "ham",
                    "ham",
                    "ham",
                    "ham",
                    "ham",
                    "ham",
                    "ham",
                    "ham",
                    "spam",
                    "ham",
                    "ham",
                    "spam",
                    "ham",
                    "ham",
                    "ham",
                    "ham",
                    "ham",
                    "ham",
                    "ham",
                    "ham",
                    "ham",
                    "ham",
                    "ham",
                    "ham",
                    "ham",
                    "ham",
                    "ham",
                    "ham",
                    "ham",
                    "ham",
                    "ham",
                    "ham",
                    "ham",
                    "ham",
                    "ham",
                    "ham",
                    "ham",
                    "ham",
                    "ham",
                    "ham",
                    "ham",
                    "ham",
                    "ham",
                    "ham",
                    "ham",
                    "spam",
                    "ham",
                    "spam",
                    "ham",
                    "ham",
                    "ham",
                    "ham",
                    "ham",
                    "ham",
                    "ham",
                    "spam",
                    "ham",
                    "ham",
                    "ham",
                    "ham",
                    "spam",
                    "ham",
                    "ham",
                    "ham",
                    "ham",
                    "ham",
                    "ham",
                    "ham",
                    "ham",
                    "ham",
                    "spam",
                    "ham",
                    "ham",
                    "ham",
                    "ham",
                    "ham",
                    "ham",
                    "ham",
                    "ham",
                    "spam",
                    "ham",
                    "ham",
                    "ham",
                    "ham",
                    "spam",
                    "ham",
                    "ham",
                    "ham",
                    "spam",
                    "ham",
                    "spam",
                    "ham",
                    "ham",
                    "spam",
                    "ham",
                    "ham",
                    "ham",
                    "ham",
                    "ham",
                    "ham",
                    "ham",
                    "ham",
                    "ham",
                    "ham",
                    "ham",
                    "ham",
                    "ham",
                    "ham",
                    "ham",
                    "ham",
                    "ham",
                    "ham",
                    "ham",
                    "ham",
                    "ham",
                    "ham",
                    "spam",
                    "ham",
                    "ham",
                    "ham",
                    "ham",
                    "ham",
                    "ham",
                    "ham",
                    "ham",
                    "spam",
                    "ham",
                    "ham",
                    "ham",
                    "spam",
                    "ham",
                    "ham",
                    "spam",
                    "ham",
                    "ham",
                    "ham",
                    "ham",
                    "ham",
                    "ham",
                    "spam",
                    "ham",
                    "ham",
                    "ham",
                    "ham",
                    "ham",
                    "ham",
                    "ham",
                    "ham",
                    "ham",
                    "ham",
                    "ham",
                    "ham",
                    "ham",
                    "spam",
                    "ham",
                    "spam",
                    "ham",
                    "ham",
                    "ham",
                    "ham",
                    "ham",
                    "ham",
                    "ham",
                    "ham",
                    "ham",
                    "ham",
                    "ham",
                    "ham",
                    "ham",
                    "spam",
                    "ham",
                    "ham",
                    "ham",
                    "ham",
                    "ham",
                    "ham",
                    "ham",
                    "spam",
                    "spam",
                    "ham",
                    "ham",
                    "ham",
                    "ham",
                    "ham",
                    "ham",
                    "ham",
                    "ham",
                    "spam",
                    "spam",
                    "ham",
                    "ham",
                    "ham",
                    "ham",
                    "ham",
                    "ham",
                    "spam",
                    "ham",
                    "ham",
                    "ham",
                    "ham",
                    "ham",
                    "ham",
                    "ham",
                    "ham",
                    "ham",
                    "spam",
                    "ham",
                    "ham",
                    "ham",
                    "spam",
                    "ham",
                    "ham",
                    "ham",
                    "ham",
                    "ham",
                    "ham",
                    "ham",
                    "ham",
                    "ham",
                    "ham",
                    "ham",
                    "spam",
                    "ham",
                    "ham",
                    "ham",
                    "ham",
                    "ham",
                    "ham",
                    "ham",
                    "ham",
                    "ham",
                    "ham",
                    "ham",
                    "ham",
                    "ham",
                    "spam",
                    "ham",
                    "ham",
                    "spam",
                    "ham",
                    "spam",
                    "ham",
                    "spam",
                    "ham",
                    "spam",
                    "ham",
                    "ham",
                    "ham",
                    "ham",
                    "ham",
                    "ham",
                    "ham",
                    "ham",
                    "spam",
                    "ham",
                    "ham",
                    "ham",
                    "ham",
                    "ham",
                    "ham",
                    "ham",
                    "ham",
                    "ham",
                    "ham",
                    "ham",
                    "ham",
                    "ham",
                    "ham",
                    "ham",
                    "ham",
                    "ham",
                    "ham",
                    "ham",
                    "ham",
                    "ham",
                    "spam",
                    "ham",
                    "ham",
                    "ham",
                    "ham",
                    "ham",
                    "ham",
                    "ham",
                    "spam",
                    "ham",
                    "ham",
                    "ham",
                    "ham",
                    "ham",
                    "ham",
                    "ham",
                    "spam",
                    "ham",
                    "ham",
                    "spam",
                    "ham",
                    "ham",
                    "ham",
                    "ham",
                    "ham",
                    "ham",
                    "ham",
                    "ham",
                    "ham",
                    "ham",
                    "ham",
                    "ham",
                    "spam",
                    "ham",
                    "ham",
                    "ham",
                    "ham",
                    "spam",
                    "ham",
                    "ham",
                    "ham",
                    "ham",
                    "ham",
                    "ham",
                    "ham",
                    "ham",
                    "ham",
                    "ham",
                    "ham",
                    "ham",
                    "spam",
                    "ham",
                    "ham",
                    "ham",
                    "ham",
                    "ham",
                    "ham",
                    "ham",
                    "ham",
                    "ham",
                    "spam",
                    "ham",
                    "spam",
                    "spam",
                    "ham",
                    "ham",
                    "ham",
                    "ham",
                    "ham",
                    "ham",
                    "spam",
                    "ham",
                    "spam",
                    "ham",
                    "spam",
                    "ham",
                    "spam",
                    "ham",
                    "ham",
                    "ham",
                    "ham",
                    "ham",
                    "ham",
                    "ham",
                    "ham",
                    "ham",
                    "spam",
                    "ham",
                    "ham",
                    "ham",
                    "ham",
                    "ham",
                    "ham",
                    "ham",
                    "ham",
                    "ham",
                    "ham",
                    "ham",
                    "ham",
                    "ham",
                    "ham",
                    "ham",
                    "ham",
                    "ham",
                    "ham",
                    "ham",
                    "ham",
                    "ham",
                    "ham",
                    "spam",
                    "ham",
                    "ham",
                    "ham",
                    "ham",
                    "ham",
                    "ham",
                    "ham",
                    "ham",
                    "ham",
                    "ham",
                    "ham",
                    "spam",
                    "ham",
                    "ham",
                    "spam",
                    "ham",
                    "ham",
                    "ham",
                    "spam",
                    "ham",
                    "ham",
                    "ham",
                    "ham",
                    "ham",
                    "ham",
                    "ham",
                    "spam",
                    "spam",
                    "spam",
                    "ham",
                    "ham",
                    "ham",
                    "ham",
                    "spam",
                    "ham",
                    "ham",
                    "ham",
                    "ham",
                    "ham",
                    "ham",
                    "ham",
                    "ham",
                    "spam",
                    "ham",
                    "ham",
                    "ham",
                    "spam",
                    "ham",
                    "ham",
                    "ham",
                    "ham",
                    "ham",
                    "ham",
                    "ham",
                    "ham",
                    "ham",
                    "ham",
                    "ham",
                    "ham",
                    "ham",
                    "ham",
                    "ham",
                    "ham",
                    "ham",
                    "spam",
                    "spam",
                    "ham",
                    "ham",
                    "ham",
                    "ham",
                    "spam",
                    "ham",
                    "ham",
                    "ham",
                    "ham",
                    "ham",
                    "ham",
                    "ham",
                    "ham",
                    "ham",
                    "ham",
                    "ham",
                    "ham",
                    "spam",
                    "ham",
                    "spam",
                    "ham",
                    "ham",
                    "ham",
                    "ham",
                    "ham",
                    "ham",
                    "ham",
                    "ham",
                    "ham",
                    "spam",
                    "ham",
                    "ham",
                    "ham",
                    "ham",
                    "ham",
                    "ham",
                    "ham",
                    "ham",
                    "ham",
                    "ham",
                    "ham",
                    "spam",
                    "spam",
                    "ham",
                    "ham",
                    "ham",
                    "ham",
                    "ham",
                    "ham",
                    "ham",
                    "ham",
                    "ham",
                    "ham",
                    "spam",
                    "ham",
                    "ham",
                    "ham",
                    "ham",
                    "ham",
                    "spam",
                    "ham",
                    "ham",
                    "ham",
                    "ham",
                    "ham",
                    "ham",
                    "ham",
                    "ham",
                    "ham",
                    "ham",
                    "ham",
                    "ham",
                    "ham",
                    "ham",
                    "ham",
                    "ham",
                    "ham",
                    "ham",
                    "spam",
                    "spam",
                    "ham",
                    "ham",
                    "spam",
                    "ham",
                    "ham",
                    "ham",
                    "spam",
                    "ham",
                    "spam",
                    "ham",
                    "ham",
                    "ham",
                    "ham",
                    "ham",
                    "ham",
                    "ham",
                    "ham",
                    "ham",
                    "ham",
                    "ham",
                    "spam",
                    "ham",
                    "ham",
                    "ham",
                    "ham",
                    "ham",
                    "ham",
                    "spam",
                    "ham",
                    "ham",
                    "ham",
                    "ham",
                    "ham",
                    "ham",
                    "ham",
                    "ham",
                    "ham",
                    "spam",
                    "ham",
                    "ham",
                    "spam",
                    "spam",
                    "ham",
                    "ham",
                    "ham",
                    "ham",
                    "ham",
                    "ham",
                    "ham",
                    "ham",
                    "spam",
                    "ham",
                    "spam",
                    "ham",
                    "ham",
                    "spam",
                    "ham",
                    "ham",
                    "ham",
                    "ham",
                    "ham",
                    "ham",
                    "ham",
                    "ham",
                    "ham",
                    "ham",
                    "ham",
                    "ham",
                    "ham",
                    "ham",
                    "ham",
                    "ham",
                    "ham",
                    "spam",
                    "ham",
                    "ham",
                    "ham",
                    "spam",
                    "spam",
                    "ham",
                    "ham",
                    "ham",
                    "ham",
                    "ham",
                    "ham",
                    "ham",
                    "spam",
                    "ham",
                    "ham",
                    "ham",
                    "spam",
                    "ham",
                    "spam",
                    "spam",
                    "ham",
                    "ham",
                    "ham",
                    "ham",
                    "ham",
                    "ham",
                    "ham",
                    "ham",
                    "spam",
                    "ham",
                    "spam",
                    "ham",
                    "ham",
                    "ham",
                    "ham",
                    "ham",
                    "ham",
                    "ham",
                    "spam",
                    "spam",
                    "ham",
                    "ham",
                    "ham",
                    "ham",
                    "ham",
                    "ham",
                    "spam",
                    "ham",
                    "spam",
                    "ham",
                    "ham",
                    "ham",
                    "spam",
                    "ham",
                    "spam",
                    "spam",
                    "ham",
                    "ham",
                    "ham",
                    "spam",
                    "ham",
                    "ham",
                    "ham",
                    "ham",
                    "ham",
                    "spam",
                    "ham",
                    "ham",
                    "ham",
                    "ham",
                    "ham",
                    "spam",
                    "ham",
                    "ham",
                    "ham",
                    "ham",
                    "ham",
                    "ham",
                    "ham",
                    "ham",
                    "ham",
                    "spam",
                    "ham",
                    "spam",
                    "spam",
                    "spam",
                    "ham",
                    "ham",
                    "ham",
                    "ham",
                    "ham",
                    "spam",
                    "ham",
                    "spam",
                    "spam",
                    "spam",
                    "spam",
                    "ham",
                    "ham",
                    "ham",
                    "ham",
                    "ham",
                    "ham",
                    "ham",
                    "ham",
                    "ham",
                    "ham",
                    "ham",
                    "ham",
                    "ham",
                    "ham",
                    "ham",
                    "ham",
                    "ham",
                    "ham",
                    "spam",
                    "ham",
                    "ham",
                    "ham",
                    "ham",
                    "ham",
                    "ham",
                    "spam",
                    "ham",
                    "ham",
                    "spam",
                    "ham",
                    "ham",
                    "ham",
                    "ham",
                    "ham",
                    "ham",
                    "ham",
                    "ham",
                    "ham",
                    "ham",
                    "ham",
                    "ham",
                    "ham",
                    "ham",
                    "ham",
                    "ham",
                    "ham",
                    "ham",
                    "ham",
                    "spam",
                    "ham",
                    "ham",
                    "ham",
                    "ham",
                    "spam",
                    "ham",
                    "ham",
                    "ham",
                    "spam",
                    "ham",
                    "ham",
                    "ham",
                    "spam",
                    "ham",
                    "ham",
                    "ham",
                    "spam",
                    "ham",
                    "ham",
                    "ham",
                    "ham",
                    "ham",
                    "ham",
                    "ham",
                    "spam",
                    "ham",
                    "ham",
                    "ham",
                    "ham",
                    "ham",
                    "ham",
                    "spam",
                    "ham",
                    "ham",
                    "ham",
                    "ham",
                    "ham",
                    "ham",
                    "ham",
                    "ham",
                    "ham",
                    "ham",
                    "ham",
                    "ham",
                    "ham",
                    "ham",
                    "ham",
                    "ham",
                    "ham",
                    "ham",
                    "ham",
                    "ham",
                    "spam",
                    "ham",
                    "ham",
                    "ham",
                    "ham",
                    "ham",
                    "ham",
                    "ham",
                    "ham",
                    "ham",
                    "ham",
                    "ham",
                    "ham",
                    "ham",
                    "ham",
                    "ham",
                    "ham",
                    "ham",
                    "ham",
                    "spam",
                    "ham",
                    "ham",
                    "ham",
                    "ham",
                    "spam",
                    "ham",
                    "ham",
                    "ham",
                    "ham",
                    "ham",
                    "ham",
                    "ham",
                    "ham",
                    "ham",
                    "spam",
                    "ham",
                    "ham",
                    "ham",
                    "ham",
                    "spam",
                    "ham",
                    "ham",
                    "ham",
                    "ham",
                    "ham",
                    "ham",
                    "ham",
                    "ham",
                    "ham",
                    "ham",
                    "ham",
                    "ham",
                    "ham",
                    "ham",
                    "ham",
                    "ham",
                    "ham",
                    "ham",
                    "ham",
                    "ham",
                    "ham",
                    "ham",
                    "spam",
                    "ham",
                    "ham",
                    "spam",
                    "ham",
                    "spam",
                    "ham",
                    "ham",
                    "ham",
                    "ham",
                    "ham",
                    "ham",
                    "ham",
                    "ham",
                    "ham",
                    "spam",
                    "ham",
                    "ham",
                    "ham",
                    "spam",
                    "ham",
                    "ham",
                    "ham",
                    "ham",
                    "spam",
                    "ham",
                    "ham",
                    "spam",
                    "spam",
                    "ham",
                    "ham",
                    "ham",
                    "ham",
                    "ham",
                    "ham",
                    "ham",
                    "ham",
                    "ham",
                    "ham",
                    "ham",
                    "ham",
                    "ham",
                    "ham",
                    "ham",
                    "spam",
                    "ham",
                    "spam",
                    "ham",
                    "ham",
                    "ham",
                    "ham",
                    "ham",
                    "spam",
                    "ham",
                    "ham",
                    "ham",
                    "ham",
                    "ham",
                    "ham",
                    "ham",
                    "spam",
                    "ham",
                    "ham",
                    "ham",
                    "ham",
                    "ham",
                    "ham",
                    "ham",
                    "ham",
                    "ham",
                    "ham",
                    "ham",
                    "ham",
                    "spam",
                    "ham",
                    "spam",
                    "ham",
                    "spam",
                    "ham",
                    "ham",
                    "ham",
                    "spam",
                    "ham",
                    "ham",
                    "spam",
                    "ham",
                    "ham",
                    "ham",
                    "ham",
                    "ham",
                    "ham",
                    "ham",
                    "spam",
                    "ham",
                    "ham",
                    "ham",
                    "ham",
                    "spam",
                    "ham",
                    "ham",
                    "ham",
                    "spam",
                    "ham",
                    "ham",
                    "ham",
                    "ham",
                    "ham",
                    "ham",
                    "ham",
                    "spam",
                    "ham",
                    "ham",
                    "ham",
                    "ham",
                    "ham",
                    "ham",
                    "ham",
                    "ham",
                    "spam",
                    "ham",
                    "ham",
                    "ham",
                    "ham",
                    "ham",
                    "ham",
                    "ham",
                    "ham",
                    "spam",
                    "ham",
                    "ham",
                    "ham",
                    "ham",
                    "ham",
                    "ham",
                    "ham",
                    "ham",
                    "ham",
                    "ham",
                    "ham",
                    "ham",
                    "ham",
                    "ham",
                    "ham",
                    "ham",
                    "ham",
                    "ham",
                    "ham",
                    "ham",
                    "ham",
                    "spam",
                    "ham",
                    "spam",
                    "ham",
                    "ham",
                    "ham",
                    "ham",
                    "ham",
                    "ham",
                    "ham",
                    "ham",
                    "spam",
                    "ham",
                    "spam",
                    "ham",
                    "ham",
                    "ham",
                    "ham",
                    "ham",
                    "ham",
                    "ham",
                    "ham",
                    "ham",
                    "spam",
                    "ham",
                    "ham",
                    "ham",
                    "spam",
                    "ham",
                    "ham",
                    "ham",
                    "spam",
                    "ham",
                    "spam",
                    "ham",
                    "spam",
                    "ham",
                    "ham",
                    "ham",
                    "ham",
                    "ham",
                    "ham",
                    "ham",
                    "ham",
                    "ham",
                    "ham",
                    "ham",
                    "ham",
                    "ham",
                    "ham",
                    "ham",
                    "ham",
                    "ham",
                    "ham",
                    "ham",
                    "ham",
                    "ham",
                    "ham",
                    "spam",
                    "ham",
                    "ham",
                    "ham",
                    "ham",
                    "ham",
                    "ham",
                    "ham",
                    "ham",
                    "ham",
                    "ham",
                    "spam",
                    "ham",
                    "ham",
                    "ham",
                    "ham",
                    "ham",
                    "spam",
                    "ham",
                    "ham",
                    "ham",
                    "ham",
                    "spam",
                    "ham",
                    "ham",
                    "ham",
                    "ham",
                    "ham",
                    "ham",
                    "ham",
                    "ham",
                    "ham",
                    "ham",
                    "ham",
                    "ham",
                    "ham",
                    "ham",
                    "ham",
                    "ham",
                    "ham",
                    "ham",
                    "ham",
                    "ham",
                    "ham",
                    "ham",
                    "ham",
                    "ham",
                    "ham",
                    "ham",
                    "ham",
                    "ham",
                    "ham",
                    "ham",
                    "ham",
                    "ham",
                    "spam",
                    "spam",
                    "ham",
                    "ham",
                    "ham",
                    "ham",
                    "ham",
                    "ham",
                    "ham",
                    "ham",
                    "ham",
                    "spam",
                    "ham",
                    "ham",
                    "ham",
                    "ham",
                    "ham",
                    "ham",
                    "ham",
                    "ham",
                    "ham",
                    "spam",
                    "ham",
                    "ham",
                    "ham",
                    "ham",
                    "ham",
                    "ham",
                    "ham",
                    "ham",
                    "ham",
                    "ham",
                    "ham",
                    "ham",
                    "ham",
                    "ham",
                    "ham",
                    "ham",
                    "ham",
                    "ham",
                    "ham",
                    "ham",
                    "ham",
                    "spam",
                    "ham",
                    "ham",
                    "ham",
                    "ham",
                    "ham",
                    "ham",
                    "ham",
                    "ham",
                    "ham",
                    "ham",
                    "ham",
                    "ham",
                    "ham",
                    "ham",
                    "ham",
                    "spam",
                    "ham",
                    "ham",
                    "ham",
                    "ham",
                    "ham",
                    "ham",
                    "ham",
                    "spam",
                    "spam",
                    "ham",
                    "ham",
                    "spam",
                    "ham",
                    "spam",
                    "ham",
                    "ham",
                    "ham",
                    "ham",
                    "ham",
                    "ham",
                    "ham",
                    "ham",
                    "ham",
                    "ham",
                    "ham",
                    "ham",
                    "ham",
                    "ham",
                    "ham",
                    "ham",
                    "ham",
                    "ham",
                    "ham",
                    "ham",
                    "ham",
                    "ham",
                    "ham",
                    "ham",
                    "ham",
                    "ham",
                    "spam",
                    "ham",
                    "ham",
                    "ham",
                    "ham",
                    "ham",
                    "ham",
                    "spam",
                    "ham",
                    "ham",
                    "ham",
                    "ham",
                    "ham",
                    "ham",
                    "ham",
                    "ham",
                    "spam",
                    "ham",
                    "ham",
                    "ham",
                    "ham",
                    "ham",
                    "ham",
                    "spam",
                    "ham",
                    "ham",
                    "ham",
                    "ham",
                    "ham",
                    "ham",
                    "ham",
                    "ham",
                    "ham",
                    "ham",
                    "ham",
                    "ham",
                    "ham",
                    "spam",
                    "ham",
                    "ham",
                    "ham",
                    "ham",
                    "spam",
                    "ham",
                    "ham",
                    "ham",
                    "ham",
                    "ham",
                    "ham",
                    "spam",
                    "ham",
                    "spam",
                    "ham",
                    "spam",
                    "ham",
                    "ham",
                    "spam",
                    "ham",
                    "ham",
                    "spam",
                    "ham",
                    "ham",
                    "spam",
                    "ham",
                    "ham",
                    "ham",
                    "ham",
                    "ham",
                    "ham",
                    "ham",
                    "ham",
                    "ham",
                    "ham",
                    "ham",
                    "ham",
                    "ham",
                    "ham",
                    "ham",
                    "ham",
                    "ham",
                    "ham",
                    "ham",
                    "ham",
                    "ham",
                    "ham",
                    "spam",
                    "ham",
                    "ham",
                    "ham",
                    "ham",
                    "ham",
                    "ham",
                    "ham",
                    "spam",
                    "ham",
                    "spam",
                    "ham",
                    "ham",
                    "ham",
                    "ham",
                    "spam",
                    "ham",
                    "ham",
                    "ham",
                    "ham",
                    "ham",
                    "ham",
                    "ham",
                    "ham",
                    "ham",
                    "ham",
                    "spam",
                    "ham",
                    "ham",
                    "spam",
                    "ham",
                    "ham",
                    "ham",
                    "ham",
                    "ham",
                    "ham",
                    "ham",
                    "ham",
                    "ham",
                    "ham",
                    "ham",
                    "ham",
                    "ham",
                    "ham",
                    "spam",
                    "ham",
                    "ham",
                    "ham",
                    "ham",
                    "ham",
                    "ham",
                    "ham",
                    "spam",
                    "ham",
                    "ham",
                    "ham",
                    "ham",
                    "ham",
                    "ham",
                    "ham",
                    "ham",
                    "ham",
                    "ham",
                    "ham",
                    "ham",
                    "ham",
                    "ham",
                    "ham",
                    "ham",
                    "ham",
                    "ham",
                    "ham",
                    "ham",
                    "ham",
                    "ham",
                    "ham",
                    "ham",
                    "ham",
                    "ham",
                    "ham",
                    "ham",
                    "spam",
                    "spam",
                    "ham",
                    "ham",
                    "ham",
                    "ham",
                    "ham",
                    "ham",
                    "ham",
                    "ham",
                    "ham",
                    "ham",
                    "ham",
                    "ham",
                    "ham",
                    "ham",
                    "ham",
                    "ham",
                    "ham",
                    "ham",
                    "ham",
                    "spam",
                    "ham",
                    "ham",
                    "spam",
                    "spam",
                    "ham",
                    "ham",
                    "ham",
                    "ham",
                    "ham",
                    "ham",
                    "ham",
                    "ham",
                    "ham",
                    "ham",
                    "ham",
                    "ham",
                    "ham",
                    "ham",
                    "spam",
                    "ham",
                    "ham",
                    "ham",
                    "ham",
                    "ham",
                    "ham",
                    "ham",
                    "ham",
                    "ham",
                    "spam",
                    "ham",
                    "spam",
                    "ham",
                    "ham",
                    "spam",
                    "ham",
                    "ham",
                    "ham",
                    "ham",
                    "ham",
                    "ham",
                    "spam",
                    "ham",
                    "ham",
                    "spam",
                    "ham",
                    "spam",
                    "ham",
                    "ham",
                    "ham",
                    "ham",
                    "ham",
                    "ham",
                    "ham",
                    "ham",
                    "ham",
                    "ham",
                    "ham",
                    "ham",
                    "spam",
                    "ham",
                    "ham",
                    "ham",
                    "ham",
                    "ham",
                    "spam",
                    "ham",
                    "ham",
                    "ham",
                    "spam",
                    "ham",
                    "ham",
                    "ham",
                    "ham",
                    "ham",
                    "ham",
                    "ham",
                    "ham",
                    "ham",
                    "spam",
                    "spam",
                    "ham",
                    "ham",
                    "ham",
                    "ham",
                    "ham",
                    "ham",
                    "ham",
                    "ham",
                    "ham",
                    "ham",
                    "ham",
                    "ham",
                    "spam",
                    "spam",
                    "ham",
                    "ham",
                    "spam",
                    "ham",
                    "ham",
                    "ham",
                    "ham",
                    "ham",
                    "ham",
                    "ham",
                    "spam",
                    "ham",
                    "ham",
                    "ham",
                    "ham",
                    "ham",
                    "ham",
                    "ham",
                    "ham",
                    "ham",
                    "ham",
                    "ham",
                    "ham",
                    "ham",
                    "ham",
                    "spam",
                    "ham",
                    "ham",
                    "ham",
                    "spam",
                    "ham",
                    "ham",
                    "ham",
                    "ham",
                    "ham",
                    "ham",
                    "ham",
                    "ham",
                    "ham",
                    "ham",
                    "ham",
                    "ham",
                    "ham",
                    "ham",
                    "ham",
                    "spam",
                    "ham",
                    "ham",
                    "ham",
                    "ham",
                    "ham",
                    "ham",
                    "spam",
                    "ham",
                    "ham",
                    "ham",
                    "spam",
                    "ham",
                    "ham",
                    "ham",
                    "ham",
                    "ham",
                    "ham",
                    "ham",
                    "ham",
                    "ham",
                    "ham",
                    "ham",
                    "ham",
                    "ham",
                    "ham",
                    "ham",
                    "ham",
                    "ham",
                    "ham",
                    "ham",
                    "spam",
                    "ham",
                    "spam",
                    "ham",
                    "ham",
                    "ham",
                    "ham",
                    "ham",
                    "ham",
                    "ham",
                    "ham",
                    "ham",
                    "spam",
                    "spam",
                    "ham",
                    "spam",
                    "spam",
                    "ham",
                    "ham",
                    "ham",
                    "ham",
                    "ham",
                    "ham",
                    "ham",
                    "ham",
                    "ham",
                    "ham",
                    "ham",
                    "spam",
                    "ham",
                    "ham",
                    "ham",
                    "ham",
                    "ham",
                    "ham",
                    "ham",
                    "ham",
                    "ham",
                    "ham",
                    "ham",
                    "ham",
                    "ham",
                    "spam",
                    "ham",
                    "ham",
                    "ham",
                    "ham",
                    "ham",
                    "ham",
                    "ham",
                    "ham",
                    "ham",
                    "ham",
                    "ham",
                    "ham",
                    "ham",
                    "ham",
                    "ham",
                    "ham",
                    "ham",
                    "ham",
                    "ham",
                    "ham",
                    "ham",
                    "ham",
                    "spam",
                    "ham",
                    "ham",
                    "ham",
                    "ham",
                    "ham",
                    "ham",
                    "ham",
                    "ham",
                    "spam",
                    "ham",
                    "ham",
                    "ham",
                    "ham",
                    "ham",
                    "ham",
                    "ham",
                    "ham",
                    "spam",
                    "ham",
                    "ham",
                    "ham",
                    "ham",
                    "spam",
                    "ham",
                    "ham",
                    "ham",
                    "ham",
                    "ham",
                    "ham",
                    "ham",
                    "ham",
                    "ham",
                    "ham",
                    "ham",
                    "ham",
                    "ham",
                    "ham",
                    "ham",
                    "ham",
                    "ham",
                    "ham",
                    "ham",
                    "ham",
                    "spam",
                    "spam",
                    "spam",
                    "ham",
                    "ham",
                    "ham",
                    "spam",
                    "ham",
                    "ham",
                    "ham",
                    "ham",
                    "ham",
                    "ham",
                    "spam",
                    "spam",
                    "ham",
                    "ham",
                    "ham",
                    "ham",
                    "spam",
                    "ham",
                    "spam",
                    "ham",
                    "ham",
                    "ham",
                    "ham",
                    "ham",
                    "ham",
                    "ham",
                    "ham",
                    "spam",
                    "ham",
                    "ham",
                    "ham",
                    "ham",
                    "ham",
                    "ham",
                    "ham",
                    "ham",
                    "ham",
                    "ham",
                    "spam",
                    "ham",
                    "ham",
                    "ham",
                    "ham",
                    "ham",
                    "ham",
                    "ham",
                    "ham",
                    "ham",
                    "ham",
                    "ham",
                    "ham",
                    "ham",
                    "spam",
                    "spam",
                    "ham",
                    "ham",
                    "ham",
                    "ham",
                    "ham",
                    "ham",
                    "ham",
                    "ham",
                    "ham",
                    "spam",
                    "ham",
                    "spam",
                    "ham",
                    "ham",
                    "ham",
                    "ham",
                    "ham",
                    "ham",
                    "ham",
                    "ham",
                    "ham",
                    "ham",
                    "ham",
                    "ham",
                    "ham",
                    "ham",
                    "ham",
                    "ham",
                    "ham",
                    "ham",
                    "spam",
                    "ham",
                    "spam",
                    "ham",
                    "ham",
                    "ham",
                    "ham",
                    "ham",
                    "ham",
                    "spam",
                    "ham",
                    "ham",
                    "ham",
                    "ham",
                    "ham",
                    "ham",
                    "ham",
                    "spam",
                    "ham",
                    "ham",
                    "ham",
                    "ham",
                    "ham",
                    "ham",
                    "spam",
                    "ham",
                    "ham",
                    "ham",
                    "ham",
                    "ham",
                    "ham",
                    "ham",
                    "spam",
                    "ham",
                    "ham",
                    "ham",
                    "ham",
                    "ham",
                    "ham",
                    "ham",
                    "ham",
                    "ham",
                    "spam",
                    "ham",
                    "ham",
                    "ham",
                    "ham",
                    "ham",
                    "ham",
                    "ham",
                    "ham",
                    "ham",
                    "ham",
                    "spam",
                    "ham",
                    "ham",
                    "ham",
                    "ham",
                    "ham",
                    "ham",
                    "ham",
                    "ham",
                    "spam",
                    "ham",
                    "ham",
                    "ham",
                    "ham",
                    "ham",
                    "ham",
                    "ham",
                    "ham",
                    "ham",
                    "ham",
                    "ham",
                    "ham",
                    "ham",
                    "ham",
                    "ham",
                    "ham",
                    "ham",
                    "ham",
                    "ham",
                    "ham",
                    "spam",
                    "ham",
                    "ham",
                    "ham",
                    "ham",
                    "ham",
                    "ham",
                    "ham",
                    "ham",
                    "spam",
                    "ham",
                    "ham",
                    "ham",
                    "ham",
                    "ham",
                    "ham",
                    "ham",
                    "ham",
                    "ham",
                    "ham",
                    "spam",
                    "ham",
                    "ham",
                    "ham",
                    "ham",
                    "ham",
                    "spam",
                    "spam",
                    "ham",
                    "ham",
                    "spam",
                    "ham",
                    "ham",
                    "ham",
                    "ham",
                    "spam",
                    "ham",
                    "ham",
                    "ham",
                    "ham",
                    "ham",
                    "ham",
                    "ham",
                    "ham",
                    "ham",
                    "spam",
                    "ham",
                    "ham",
                    "ham",
                    "ham",
                    "spam",
                    "spam",
                    "ham",
                    "ham",
                    "ham",
                    "ham",
                    "spam",
                    "ham",
                    "ham",
                    "ham",
                    "ham",
                    "ham",
                    "ham",
                    "ham",
                    "ham",
                    "spam",
                    "ham",
                    "ham",
                    "ham",
                    "spam",
                    "ham",
                    "spam",
                    "ham",
                    "ham",
                    "ham",
                    "spam",
                    "ham",
                    "ham",
                    "ham",
                    "ham",
                    "spam",
                    "ham",
                    "ham",
                    "ham",
                    "ham",
                    "ham",
                    "ham",
                    "ham",
                    "ham",
                    "spam",
                    "ham",
                    "ham",
                    "ham",
                    "ham",
                    "ham",
                    "ham",
                    "ham",
                    "ham",
                    "ham",
                    "ham",
                    "ham",
                    "spam",
                    "spam",
                    "ham",
                    "ham",
                    "ham",
                    "ham",
                    "ham",
                    "ham",
                    "ham",
                    "ham",
                    "ham",
                    "ham",
                    "ham",
                    "ham",
                    "ham",
                    "spam",
                    "ham",
                    "ham",
                    "ham",
                    "ham",
                    "ham",
                    "ham",
                    "ham",
                    "ham",
                    "ham",
                    "spam",
                    "ham",
                    "ham",
                    "ham",
                    "ham",
                    "ham",
                    "ham",
                    "ham",
                    "ham",
                    "ham",
                    "ham",
                    "ham",
                    "ham",
                    "ham",
                    "ham",
                    "ham",
                    "ham",
                    "ham",
                    "ham",
                    "spam",
                    "ham",
                    "ham",
                    "ham",
                    "ham",
                    "ham",
                    "ham",
                    "ham",
                    "ham",
                    "ham",
                    "ham",
                    "ham",
                    "ham",
                    "ham",
                    "ham",
                    "ham",
                    "ham",
                    "ham",
                    "spam",
                    "ham",
                    "spam",
                    "ham",
                    "ham",
                    "ham",
                    "ham",
                    "ham",
                    "ham",
                    "ham",
                    "ham",
                    "ham",
                    "ham",
                    "spam",
                    "ham",
                    "ham",
                    "ham",
                    "spam",
                    "ham",
                    "ham",
                    "ham",
                    "ham",
                    "ham",
                    "ham",
                    "ham",
                    "ham",
                    "ham",
                    "ham",
                    "ham",
                    "ham",
                    "ham",
                    "ham",
                    "ham",
                    "ham",
                    "ham",
                    "ham",
                    "ham",
                    "ham",
                    "ham",
                    "ham",
                    "spam",
                    "spam",
                    "ham",
                    "spam",
                    "ham",
                    "ham",
                    "ham",
                    "ham",
                    "ham",
                    "ham",
                    "ham",
                    "ham",
                    "ham",
                    "ham",
                    "spam",
                    "ham",
                    "ham",
                    "spam",
                    "ham",
                    "ham",
                    "spam",
                    "ham",
                    "spam",
                    "ham",
                    "ham",
                    "ham",
                    "ham",
                    "ham",
                    "ham",
                    "ham",
                    "ham",
                    "ham",
                    "ham",
                    "ham",
                    "ham",
                    "ham",
                    "ham",
                    "ham",
                    "ham",
                    "ham",
                    "ham",
                    "ham",
                    "ham",
                    "spam",
                    "ham",
                    "ham",
                    "ham",
                    "ham",
                    "spam",
                    "ham",
                    "spam",
                    "ham",
                    "ham",
                    "spam",
                    "ham",
                    "ham",
                    "ham",
                    "ham",
                    "ham",
                    "ham",
                    "ham",
                    "spam",
                    "spam",
                    "ham",
                    "spam",
                    "spam",
                    "spam",
                    "ham",
                    "ham",
                    "ham",
                    "ham",
                    "ham",
                    "ham",
                    "ham",
                    "ham",
                    "ham",
                    "ham",
                    "ham",
                    "ham",
                    "ham",
                    "ham",
                    "spam",
                    "ham",
                    "ham",
                    "ham",
                    "ham",
                    "ham",
                    "ham",
                    "ham",
                    "ham",
                    "ham",
                    "ham",
                    "ham",
                    "ham",
                    "ham",
                    "ham",
                    "spam",
                    "ham",
                    "ham",
                    "ham",
                    "ham",
                    "ham",
                    "ham",
                    "ham",
                    "ham",
                    "spam",
                    "ham",
                    "spam",
                    "ham",
                    "ham",
                    "ham",
                    "ham",
                    "ham",
                    "spam",
                    "ham",
                    "ham",
                    "ham",
                    "spam",
                    "ham",
                    "ham",
                    "spam",
                    "ham",
                    "ham",
                    "ham",
                    "ham",
                    "ham",
                    "ham",
                    "spam",
                    "ham",
                    "ham",
                    "ham",
                    "spam",
                    "ham",
                    "ham",
                    "ham",
                    "ham",
                    "ham",
                    "ham",
                    "ham",
                    "spam",
                    "ham",
                    "ham",
                    "ham",
                    "ham",
                    "ham",
                    "ham",
                    "ham",
                    "ham",
                    "ham",
                    "ham",
                    "ham",
                    "ham",
                    "ham",
                    "ham",
                    "ham",
                    "spam",
                    "ham",
                    "ham",
                    "ham",
                    "ham",
                    "ham",
                    "ham",
                    "ham",
                    "ham",
                    "ham",
                    "ham",
                    "spam",
                    "ham",
                    "ham",
                    "ham",
                    "ham",
                    "ham",
                    "ham",
                    "spam",
                    "ham",
                    "ham",
                    "ham",
                    "ham",
                    "ham",
                    "ham",
                    "spam",
                    "ham",
                    "ham",
                    "spam",
                    "ham",
                    "ham",
                    "ham",
                    "ham",
                    "ham",
                    "ham",
                    "ham",
                    "spam",
                    "ham",
                    "ham",
                    "ham",
                    "ham",
                    "ham",
                    "ham",
                    "ham",
                    "ham",
                    "ham",
                    "ham",
                    "ham",
                    "ham",
                    "ham",
                    "ham",
                    "ham",
                    "ham",
                    "ham",
                    "ham",
                    "ham",
                    "ham",
                    "ham",
                    "ham",
                    "ham",
                    "ham",
                    "ham",
                    "ham",
                    "ham",
                    "ham",
                    "ham",
                    "ham",
                    "ham",
                    "ham",
                    "ham",
                    "ham",
                    "spam",
                    "ham",
                    "ham",
                    "ham",
                    "ham",
                    "ham",
                    "ham",
                    "spam",
                    "spam",
                    "ham",
                    "ham",
                    "ham",
                    "ham",
                    "ham",
                    "ham",
                    "ham",
                    "ham",
                    "ham",
                    "ham",
                    "ham",
                    "ham",
                    "ham",
                    "ham",
                    "spam",
                    "ham",
                    "ham",
                    "ham",
                    "ham",
                    "ham",
                    "ham",
                    "ham",
                    "ham",
                    "ham",
                    "ham",
                    "ham",
                    "ham",
                    "ham",
                    "ham",
                    "ham",
                    "ham",
                    "ham",
                    "spam",
                    "ham",
                    "ham",
                    "ham",
                    "ham",
                    "ham",
                    "ham",
                    "ham",
                    "ham",
                    "ham",
                    "ham",
                    "spam",
                    "ham",
                    "ham",
                    "ham",
                    "ham",
                    "ham",
                    "ham",
                    "ham",
                    "ham",
                    "ham",
                    "ham",
                    "ham",
                    "ham",
                    "ham",
                    "ham",
                    "ham",
                    "ham",
                    "ham",
                    "ham",
                    "ham",
                    "ham",
                    "ham",
                    "ham",
                    "spam",
                    "ham",
                    "ham",
                    "ham",
                    "ham",
                    "ham",
                    "ham",
                    "ham",
                    "spam",
                    "ham",
                    "spam",
                    "ham",
                    "ham",
                    "ham",
                    "ham",
                    "ham",
                    "ham",
                    "ham",
                    "ham",
                    "ham",
                    "ham",
                    "ham",
                    "ham",
                    "ham",
                    "ham",
                    "ham",
                    "spam",
                    "spam",
                    "ham",
                    "ham",
                    "ham",
                    "ham",
                    "ham",
                    "spam",
                    "ham",
                    "spam",
                    "ham",
                    "ham",
                    "ham",
                    "ham",
                    "ham",
                    "ham",
                    "spam",
                    "ham",
                    "ham",
                    "ham",
                    "ham",
                    "ham",
                    "spam",
                    "ham",
                    "ham",
                    "ham",
                    "ham",
                    "ham",
                    "ham",
                    "ham",
                    "ham",
                    "ham",
                    "ham",
                    "ham",
                    "ham",
                    "ham",
                    "ham",
                    "ham",
                    "spam",
                    "ham",
                    "ham",
                    "ham",
                    "ham",
                    "ham",
                    "ham",
                    "ham",
                    "spam",
                    "ham",
                    "ham",
                    "ham",
                    "ham",
                    "ham",
                    "spam",
                    "ham",
                    "ham",
                    "ham",
                    "ham",
                    "ham",
                    "spam",
                    "ham",
                    "ham",
                    "ham",
                    "ham",
                    "ham",
                    "ham",
                    "ham",
                    "ham",
                    "ham",
                    "spam",
                    "ham",
                    "ham",
                    "ham",
                    "ham",
                    "ham",
                    "ham",
                    "ham",
                    "ham",
                    "ham",
                    "ham",
                    "ham",
                    "ham",
                    "ham",
                    "ham",
                    "ham",
                    "ham",
                    "ham",
                    "ham",
                    "ham",
                    "ham",
                    "spam",
                    "spam",
                    "ham",
                    "ham",
                    "ham",
                    "ham",
                    "spam",
                    "spam",
                    "ham",
                    "ham",
                    "ham",
                    "ham",
                    "ham",
                    "ham",
                    "ham",
                    "ham",
                    "ham",
                    "spam",
                    "ham",
                    "ham",
                    "ham",
                    "ham",
                    "ham",
                    "spam",
                    "ham",
                    "ham",
                    "ham",
                    "ham",
                    "spam",
                    "ham",
                    "spam",
                    "ham",
                    "ham",
                    "ham",
                    "ham",
                    "ham",
                    "spam",
                    "ham",
                    "ham",
                    "ham",
                    "ham",
                    "ham",
                    "spam",
                    "ham",
                    "ham",
                    "spam",
                    "ham",
                    "ham",
                    "spam",
                    "ham",
                    "ham",
                    "ham",
                    "ham",
                    "ham",
                    "ham",
                    "ham",
                    "spam",
                    "ham",
                    "ham",
                    "ham",
                    "ham",
                    "ham",
                    "ham",
                    "ham",
                    "ham",
                    "ham",
                    "spam",
                    "spam",
                    "ham",
                    "ham",
                    "ham",
                    "ham",
                    "ham",
                    "ham",
                    "ham",
                    "ham",
                    "ham",
                    "ham",
                    "ham",
                    "spam",
                    "ham",
                    "ham",
                    "ham",
                    "ham",
                    "ham",
                    "ham",
                    "ham",
                    "ham",
                    "ham",
                    "ham",
                    "ham",
                    "ham",
                    "ham",
                    "ham",
                    "ham",
                    "ham",
                    "ham",
                    "ham",
                    "ham",
                    "ham",
                    "ham",
                    "ham",
                    "ham",
                    "ham",
                    "spam",
                    "ham",
                    "ham",
                    "spam",
                    "ham",
                    "ham",
                    "ham",
                    "spam",
                    "ham",
                    "ham",
                    "ham",
                    "ham",
                    "spam",
                    "ham",
                    "ham",
                    "ham",
                    "ham",
                    "ham",
                    "ham",
                    "ham",
                    "ham",
                    "ham",
                    "ham",
                    "ham",
                    "spam",
                    "ham",
                    "ham",
                    "ham",
                    "ham",
                    "ham",
                    "ham",
                    "ham",
                    "ham",
                    "ham",
                    "ham",
                    "ham",
                    "spam",
                    "ham",
                    "ham",
                    "ham",
                    "spam",
                    "ham",
                    "ham",
                    "ham",
                    "ham",
                    "ham",
                    "ham",
                    "ham",
                    "ham",
                    "ham",
                    "spam",
                    "ham",
                    "ham",
                    "spam",
                    "ham",
                    "spam",
                    "ham",
                    "ham",
                    "spam",
                    "ham",
                    "ham",
                    "ham",
                    "spam",
                    "ham",
                    "ham",
                    "ham",
                    "spam",
                    "ham",
                    "ham",
                    "ham",
                    "ham",
                    "ham",
                    "ham",
                    "ham",
                    "ham",
                    "ham",
                    "ham",
                    "ham",
                    "ham",
                    "ham",
                    "spam",
                    "ham",
                    "spam",
                    "ham",
                    "ham",
                    "ham",
                    "ham",
                    "ham",
                    "ham",
                    "ham",
                    "ham",
                    "ham",
                    "ham",
                    "ham",
                    "ham",
                    "spam",
                    "ham",
                    "ham",
                    "ham",
                    "ham",
                    "ham",
                    "ham",
                    "ham",
                    "spam",
                    "ham",
                    "ham",
                    "ham",
                    "ham",
                    "ham",
                    "ham",
                    "ham",
                    "spam",
                    "ham",
                    "spam",
                    "ham",
                    "ham",
                    "ham",
                    "ham",
                    "ham",
                    "ham",
                    "ham",
                    "ham",
                    "ham",
                    "ham",
                    "ham",
                    "ham",
                    "ham",
                    "ham",
                    "ham",
                    "spam",
                    "ham",
                    "ham",
                    "ham",
                    "ham",
                    "spam",
                    "ham",
                    "ham",
                    "ham",
                    "ham",
                    "ham",
                    "ham",
                    "ham",
                    "spam",
                    "ham",
                    "ham",
                    "ham",
                    "ham",
                    "spam",
                    "ham",
                    "ham",
                    "ham",
                    "ham",
                    "ham",
                    "ham",
                    "ham",
                    "ham",
                    "ham",
                    "ham",
                    "ham",
                    "ham",
                    "ham",
                    "ham",
                    "ham",
                    "ham",
                    "ham",
                    "ham",
                    "ham",
                    "ham",
                    "ham",
                    "ham",
                    "ham",
                    "ham",
                    "ham",
                    "spam",
                    "ham",
                    "ham",
                    "ham",
                    "spam",
                    "ham",
                    "ham",
                    "ham",
                    "ham",
                    "ham",
                    "ham",
                    "ham",
                    "ham",
                    "spam",
                    "ham",
                    "ham",
                    "ham",
                    "ham",
                    "spam",
                    "ham",
                    "ham",
                    "ham",
                    "ham",
                    "ham",
                    "spam",
                    "ham",
                    "ham",
                    "ham",
                    "ham",
                    "ham",
                    "ham",
                    "ham",
                    "ham",
                    "ham",
                    "ham",
                    "ham",
                    "ham",
                    "ham",
                    "ham",
                    "spam",
                    "ham",
                    "ham",
                    "ham",
                    "ham",
                    "ham",
                    "ham",
                    "spam",
                    "ham",
                    "ham",
                    "spam",
                    "ham",
                    "spam",
                    "ham",
                    "ham",
                    "ham",
                    "ham",
                    "ham",
                    "ham",
                    "ham",
                    "ham",
                    "ham",
                    "spam",
                    "ham",
                    "ham",
                    "spam",
                    "ham",
                    "ham",
                    "ham",
                    "spam",
                    "spam",
                    "ham",
                    "ham",
                    "ham",
                    "spam",
                    "ham",
                    "ham",
                    "ham",
                    "ham",
                    "ham",
                    "ham",
                    "ham",
                    "ham",
                    "ham",
                    "ham",
                    "ham",
                    "ham",
                    "ham",
                    "ham",
                    "ham",
                    "ham",
                    "ham",
                    "ham",
                    "ham",
                    "ham",
                    "ham",
                    "ham",
                    "ham",
                    "ham",
                    "ham",
                    "ham",
                    "ham",
                    "ham",
                    "ham",
                    "ham",
                    "ham",
                    "ham",
                    "ham",
                    "ham",
                    "ham",
                    "ham",
                    "ham",
                    "ham",
                    "ham",
                    "ham",
                    "ham",
                    "spam",
                    "ham",
                    "ham",
                    "spam",
                    "ham",
                    "ham",
                    "ham",
                    "ham",
                    "spam",
                    "ham",
                    "ham",
                    "spam",
                    "ham",
                    "ham",
                    "ham",
                    "ham",
                    "ham",
                    "ham",
                    "ham",
                    "ham",
                    "ham",
                    "ham",
                    "ham",
                    "ham",
                    "ham",
                    "ham",
                    "ham",
                    "ham",
                    "ham",
                    "ham",
                    "ham",
                    "ham",
                    "ham",
                    "ham",
                    "ham",
                    "ham",
                    "spam",
                    "ham",
                    "ham",
                    "ham",
                    "ham",
                    "ham",
                    "ham",
                    "ham",
                    "ham",
                    "ham",
                    "ham",
                    "ham",
                    "ham",
                    "ham",
                    "ham",
                    "ham",
                    "ham",
                    "ham",
                    "ham",
                    "spam",
                    "ham",
                    "ham",
                    "ham",
                    "ham",
                    "ham",
                    "ham",
                    "ham",
                    "ham",
                    "ham",
                    "ham",
                    "ham",
                    "spam",
                    "ham",
                    "ham",
                    "spam",
                    "ham",
                    "ham",
                    "ham",
                    "ham",
                    "ham",
                    "spam",
                    "ham",
                    "ham",
                    "ham",
                    "ham",
                    "ham",
                    "ham",
                    "ham",
                    "ham",
                    "spam",
                    "ham",
                    "ham",
                    "ham",
                    "ham",
                    "ham",
                    "ham",
                    "ham",
                    "ham",
                    "ham",
                    "ham",
                    "ham",
                    "spam",
                    "ham",
                    "spam",
                    "ham",
                    "ham",
                    "ham",
                    "ham",
                    "ham",
                    "ham",
                    "ham",
                    "ham",
                    "spam",
                    "ham",
                    "ham",
                    "spam",
                    "ham",
                    "ham",
                    "ham",
                    "ham",
                    "ham",
                    "ham",
                    "spam",
                    "ham",
                    "spam",
                    "ham",
                    "ham",
                    "ham",
                    "ham",
                    "ham",
                    "ham",
                    "ham",
                    "ham",
                    "ham",
                    "ham",
                    "ham",
                    "ham",
                    "spam",
                    "ham",
                    "ham",
                    "spam",
                    "ham",
                    "ham",
                    "ham",
                    "ham",
                    "ham",
                    "ham",
                    "ham",
                    "ham",
                    "ham",
                    "ham",
                    "ham",
                    "ham",
                    "ham",
                    "ham",
                    "ham",
                    "ham",
                    "ham",
                    "ham",
                    "ham",
                    "ham",
                    "ham",
                    "ham",
                    "ham",
                    "ham",
                    "spam",
                    "ham",
                    "ham",
                    "ham",
                    "ham",
                    "spam",
                    "ham",
                    "ham",
                    "ham",
                    "ham",
                    "ham",
                    "ham",
                    "spam",
                    "spam",
                    "ham",
                    "ham",
                    "ham",
                    "ham",
                    "ham",
                    "ham",
                    "ham",
                    "ham",
                    "ham",
                    "ham",
                    "ham",
                    "ham",
                    "ham",
                    "ham",
                    "ham",
                    "ham",
                    "ham",
                    "ham",
                    "ham",
                    "ham",
                    "ham",
                    "ham",
                    "ham",
                    "ham",
                    "ham",
                    "ham",
                    "ham",
                    "ham",
                    "ham",
                    "spam",
                    "ham",
                    "ham",
                    "ham",
                    "ham",
                    "ham",
                    "spam",
                    "ham",
                    "ham",
                    "ham",
                    "ham",
                    "ham",
                    "spam",
                    "ham",
                    "ham",
                    "ham",
                    "ham",
                    "ham",
                    "ham",
                    "ham",
                    "ham",
                    "ham",
                    "ham",
                    "ham",
                    "ham",
                    "ham",
                    "ham",
                    "ham",
                    "ham",
                    "spam",
                    "spam",
                    "ham",
                    "ham",
                    "ham",
                    "ham",
                    "ham",
                    "ham",
                    "ham",
                    "spam",
                    "spam",
                    "ham",
                    "ham",
                    "spam",
                    "ham",
                    "ham",
                    "ham",
                    "ham",
                    "ham",
                    "ham",
                    "ham",
                    "ham",
                    "ham",
                    "ham",
                    "ham",
                    "ham",
                    "ham",
                    "spam",
                    "ham",
                    "ham",
                    "ham",
                    "ham",
                    "ham",
                    "ham",
                    "ham",
                    "ham",
                    "ham",
                    "ham",
                    "ham",
                    "ham",
                    "ham",
                    "ham",
                    "ham",
                    "ham",
                    "ham",
                    "spam",
                    "ham",
                    "ham",
                    "ham",
                    "ham",
                    "ham",
                    "ham",
                    "ham",
                    "ham",
                    "ham",
                    "ham",
                    "ham",
                    "ham",
                    "ham",
                    "ham",
                    "ham",
                    "ham",
                    "ham",
                    "ham",
                    "ham",
                    "ham",
                    "ham",
                    "ham",
                    "ham",
                    "ham",
                    "ham",
                    "spam",
                    "ham",
                    "ham",
                    "ham",
                    "ham",
                    "ham",
                    "ham",
                    "ham",
                    "ham",
                    "ham",
                    "ham",
                    "ham",
                    "ham",
                    "ham",
                    "ham",
                    "ham",
                    "ham",
                    "ham",
                    "ham",
                    "ham",
                    "ham",
                    "ham",
                    "spam",
                    "ham",
                    "ham",
                    "spam",
                    "ham",
                    "ham",
                    "ham",
                    "ham",
                    "ham",
                    "spam",
                    "ham",
                    "ham",
                    "ham",
                    "ham",
                    "ham",
                    "spam",
                    "ham",
                    "ham",
                    "ham",
                    "spam",
                    "ham",
                    "ham",
                    "ham",
                    "ham",
                    "ham",
                    "ham",
                    "ham",
                    "spam",
                    "ham",
                    "ham",
                    "ham",
                    "ham",
                    "ham",
                    "ham",
                    "ham",
                    "ham",
                    "ham",
                    "spam",
                    "spam",
                    "spam",
                    "spam",
                    "spam",
                    "spam",
                    "spam",
                    "ham",
                    "ham",
                    "ham",
                    "ham",
                    "ham",
                    "ham",
                    "ham",
                    "spam",
                    "ham",
                    "ham",
                    "ham",
                    "ham",
                    "ham",
                    "ham",
                    "ham",
                    "ham",
                    "spam",
                    "spam",
                    "ham",
                    "ham",
                    "ham",
                    "ham",
                    "ham",
                    "ham",
                    "ham",
                    "ham",
                    "ham",
                    "ham",
                    "ham",
                    "ham",
                    "ham",
                    "ham",
                    "ham",
                    "ham",
                    "spam",
                    "ham",
                    "ham",
                    "spam",
                    "ham",
                    "ham",
                    "ham",
                    "ham",
                    "spam",
                    "ham",
                    "ham",
                    "ham",
                    "ham",
                    "ham",
                    "ham",
                    "ham",
                    "ham",
                    "ham",
                    "ham",
                    "ham",
                    "ham",
                    "ham",
                    "ham",
                    "spam",
                    "ham",
                    "ham",
                    "ham",
                    "ham",
                    "ham",
                    "ham",
                    "ham",
                    "ham",
                    "ham",
                    "ham",
                    "ham",
                    "spam",
                    "spam",
                    "ham",
                    "ham",
                    "ham",
                    "ham",
                    "spam",
                    "ham",
                    "ham",
                    "ham",
                    "ham",
                    "ham",
                    "ham",
                    "ham",
                    "ham",
                    "ham",
                    "ham",
                    "ham",
                    "ham",
                    "ham",
                    "ham",
                    "ham",
                    "ham",
                    "ham",
                    "ham",
                    "ham",
                    "ham",
                    "ham",
                    "ham",
                    "ham",
                    "ham",
                    "ham",
                    "ham",
                    "ham",
                    "spam",
                    "spam",
                    "ham",
                    "ham",
                    "ham",
                    "ham",
                    "ham",
                    "ham",
                    "ham",
                    "ham",
                    "ham",
                    "ham",
                    "ham",
                    "ham",
                    "ham",
                    "ham",
                    "ham",
                    "ham",
                    "ham",
                    "spam",
                    "ham",
                    "ham",
                    "ham",
                    "ham",
                    "ham",
                    "ham",
                    "ham",
                    "spam",
                    "ham",
                    "ham",
                    "ham",
                    "spam",
                    "ham",
                    "spam",
                    "ham",
                    "spam",
                    "ham",
                    "ham",
                    "ham",
                    "spam",
                    "ham",
                    "ham",
                    "spam",
                    "ham",
                    "ham",
                    "spam",
                    "ham",
                    "ham",
                    "ham",
                    "ham",
                    "ham",
                    "ham",
                    "ham",
                    "ham",
                    "ham",
                    "ham",
                    "spam",
                    "ham",
                    "spam",
                    "ham",
                    "ham",
                    "ham",
                    "ham",
                    "ham",
                    "ham",
                    "ham",
                    "spam",
                    "ham",
                    "ham",
                    "spam",
                    "ham",
                    "ham",
                    "ham",
                    "ham",
                    "ham",
                    "ham",
                    "ham",
                    "ham",
                    "ham",
                    "ham",
                    "ham",
                    "ham",
                    "ham",
                    "ham",
                    "ham",
                    "ham",
                    "ham",
                    "ham",
                    "ham",
                    "ham",
                    "ham",
                    "spam",
                    "ham",
                    "ham",
                    "ham",
                    "ham",
                    "ham",
                    "ham",
                    "ham",
                    "ham",
                    "ham",
                    "ham",
                    "spam",
                    "ham",
                    "ham",
                    "ham",
                    "ham",
                    "ham",
                    "ham",
                    "ham",
                    "spam",
                    "ham",
                    "ham",
                    "spam",
                    "ham",
                    "ham",
                    "ham",
                    "spam",
                    "ham",
                    "ham",
                    "ham",
                    "ham",
                    "ham",
                    "ham",
                    "ham",
                    "ham",
                    "ham",
                    "ham",
                    "ham",
                    "ham",
                    "ham",
                    "ham",
                    "ham",
                    "ham",
                    "ham",
                    "ham",
                    "ham",
                    "ham",
                    "ham",
                    "ham",
                    "ham",
                    "ham",
                    "ham",
                    "ham",
                    "ham",
                    "ham",
                    "spam",
                    "ham",
                    "ham",
                    "ham",
                    "spam",
                    "ham",
                    "ham",
                    "ham",
                    "ham",
                    "ham",
                    "ham",
                    "ham",
                    "ham",
                    "ham",
                    "ham",
                    "ham",
                    "ham",
                    "ham",
                    "ham",
                    "ham",
                    "ham",
                    "ham",
                    "ham",
                    "spam",
                    "ham",
                    "ham",
                    "ham",
                    "ham",
                    "ham",
                    "ham",
                    "ham",
                    "ham",
                    "ham",
                    "ham",
                    "spam",
                    "ham",
                    "ham",
                    "ham",
                    "ham",
                    "ham",
                    "ham",
                    "ham",
                    "ham",
                    "ham",
                    "ham",
                    "spam",
                    "ham",
                    "ham",
                    "ham",
                    "ham",
                    "spam",
                    "ham",
                    "ham",
                    "ham",
                    "ham",
                    "ham",
                    "ham",
                    "ham",
                    "ham",
                    "ham",
                    "ham",
                    "ham",
                    "ham",
                    "ham",
                    "ham",
                    "ham",
                    "ham",
                    "spam",
                    "ham",
                    "ham",
                    "ham",
                    "ham",
                    "ham",
                    "ham",
                    "ham",
                    "spam",
                    "ham",
                    "ham",
                    "ham",
                    "ham",
                    "spam",
                    "ham",
                    "ham",
                    "spam",
                    "ham",
                    "ham",
                    "ham",
                    "ham",
                    "spam",
                    "ham",
                    "ham",
                    "spam",
                    "ham",
                    "ham",
                    "ham",
                    "ham",
                    "ham",
                    "ham",
                    "ham",
                    "ham",
                    "ham",
                    "ham",
                    "ham",
                    "spam",
                    "ham",
                    "spam",
                    "ham",
                    "ham",
                    "ham",
                    "ham",
                    "ham",
                    "ham",
                    "ham",
                    "ham",
                    "spam",
                    "ham",
                    "ham",
                    "spam",
                    "ham",
                    "ham",
                    "ham",
                    "ham",
                    "ham",
                    "ham",
                    "ham",
                    "ham",
                    "spam",
                    "ham",
                    "ham",
                    "ham",
                    "ham",
                    "ham",
                    "spam",
                    "ham",
                    "ham",
                    "ham",
                    "ham",
                    "ham",
                    "ham",
                    "ham",
                    "ham",
                    "ham",
                    "ham",
                    "ham",
                    "spam",
                    "ham",
                    "ham",
                    "ham",
                    "ham",
                    "ham",
                    "ham",
                    "ham",
                    "ham",
                    "spam",
                    "ham",
                    "ham",
                    "ham",
                    "ham",
                    "ham",
                    "ham",
                    "ham",
                    "ham",
                    "ham",
                    "ham",
                    "ham",
                    "ham",
                    "ham",
                    "ham",
                    "ham",
                    "ham",
                    "ham",
                    "ham",
                    "ham",
                    "spam",
                    "ham",
                    "ham",
                    "ham",
                    "ham",
                    "ham",
                    "ham",
                    "ham",
                    "spam",
                    "ham",
                    "ham",
                    "ham",
                    "spam",
                    "ham",
                    "spam",
                    "ham",
                    "spam",
                    "ham",
                    "ham",
                    "ham",
                    "ham",
                    "ham",
                    "ham",
                    "ham",
                    "ham",
                    "ham",
                    "ham",
                    "ham",
                    "ham",
                    "ham",
                    "ham",
                    "ham",
                    "ham",
                    "ham",
                    "ham",
                    "ham",
                    "ham",
                    "spam",
                    "ham",
                    "ham",
                    "ham",
                    "ham",
                    "ham",
                    "spam",
                    "ham",
                    "spam",
                    "ham",
                    "spam",
                    "ham",
                    "spam",
                    "ham",
                    "ham",
                    "ham",
                    "ham",
                    "ham",
                    "ham",
                    "ham",
                    "spam",
                    "spam",
                    "ham",
                    "ham",
                    "ham",
                    "ham",
                    "ham",
                    "ham",
                    "spam",
                    "ham",
                    "ham",
                    "ham",
                    "ham",
                    "ham",
                    "ham",
                    "ham",
                    "spam",
                    "ham",
                    "ham",
                    "ham",
                    "ham",
                    "ham",
                    "ham",
                    "ham",
                    "ham",
                    "ham",
                    "ham",
                    "ham",
                    "ham",
                    "ham",
                    "ham",
                    "ham",
                    "ham",
                    "ham",
                    "ham",
                    "ham",
                    "ham",
                    "spam",
                    "ham",
                    "ham",
                    "ham",
                    "ham",
                    "ham",
                    "ham",
                    "ham",
                    "ham",
                    "ham",
                    "ham",
                    "ham",
                    "spam",
                    "ham",
                    "ham",
                    "ham",
                    "ham",
                    "ham",
                    "ham",
                    "ham",
                    "ham",
                    "spam",
                    "ham",
                    "ham",
                    "ham",
                    "ham",
                    "spam",
                    "ham",
                    "ham",
                    "ham",
                    "spam",
                    "ham",
                    "ham",
                    "ham",
                    "ham",
                    "ham",
                    "spam",
                    "ham",
                    "ham",
                    "spam",
                    "ham",
                    "ham",
                    "ham",
                    "ham",
                    "ham",
                    "ham",
                    "spam",
                    "ham",
                    "ham",
                    "spam",
                    "ham",
                    "ham",
                    "ham",
                    "ham",
                    "ham",
                    "ham",
                    "spam",
                    "spam",
                    "ham",
                    "spam",
                    "ham",
                    "ham",
                    "ham",
                    "ham",
                    "ham",
                    "ham",
                    "ham",
                    "ham",
                    "ham",
                    "spam",
                    "spam",
                    "ham",
                    "ham",
                    "ham",
                    "spam",
                    "ham",
                    "ham",
                    "ham",
                    "spam",
                    "ham",
                    "ham",
                    "ham",
                    "ham",
                    "ham",
                    "ham",
                    "ham",
                    "ham",
                    "ham",
                    "ham",
                    "ham",
                    "ham",
                    "ham",
                    "ham",
                    "ham",
                    "spam",
                    "ham",
                    "ham",
                    "ham",
                    "ham",
                    "ham",
                    "spam",
                    "ham",
                    "ham",
                    "ham",
                    "ham",
                    "spam",
                    "spam",
                    "ham",
                    "ham",
                    "ham",
                    "ham",
                    "ham",
                    "ham",
                    "ham",
                    "ham",
                    "ham",
                    "ham",
                    "ham",
                    "spam",
                    "spam",
                    "ham",
                    "ham",
                    "ham",
                    "ham",
                    "ham",
                    "ham",
                    "spam",
                    "spam",
                    "ham",
                    "ham",
                    "ham",
                    "spam",
                    "ham",
                    "ham",
                    "ham",
                    "spam",
                    "ham",
                    "ham",
                    "ham",
                    "ham",
                    "ham",
                    "ham",
                    "ham",
                    "ham",
                    "spam",
                    "ham",
                    "spam",
                    "ham",
                    "ham",
                    "spam",
                    "ham",
                    "ham",
                    "ham",
                    "ham",
                    "ham",
                    "ham",
                    "ham",
                    "ham",
                    "ham",
                    "ham",
                    "spam",
                    "ham",
                    "spam",
                    "ham",
                    "ham",
                    "ham",
                    "spam",
                    "ham",
                    "ham",
                    "ham",
                    "spam",
                    "ham",
                    "ham",
                    "ham",
                    "ham",
                    "ham",
                    "ham",
                    "ham",
                    "ham",
                    "ham",
                    "ham",
                    "ham",
                    "ham",
                    "ham",
                    "ham",
                    "spam",
                    "ham",
                    "ham",
                    "ham",
                    "ham",
                    "ham",
                    "ham",
                    "spam",
                    "ham",
                    "ham",
                    "ham",
                    "ham",
                    "ham",
                    "ham",
                    "ham",
                    "ham",
                    "ham",
                    "spam",
                    "ham",
                    "ham",
                    "ham",
                    "ham",
                    "spam",
                    "ham",
                    "ham",
                    "ham",
                    "ham",
                    "spam",
                    "ham",
                    "spam",
                    "ham",
                    "ham",
                    "ham",
                    "ham",
                    "ham",
                    "spam",
                    "ham",
                    "ham",
                    "ham",
                    "spam",
                    "ham",
                    "ham",
                    "spam",
                    "ham",
                    "ham",
                    "ham",
                    "ham",
                    "ham",
                    "ham",
                    "ham",
                    "ham",
                    "ham",
                    "ham",
                    "ham",
                    "ham",
                    "ham",
                    "spam",
                    "ham",
                    "ham",
                    "ham",
                    "ham",
                    "ham",
                    "ham",
                    "ham",
                    "ham",
                    "ham",
                    "ham",
                    "ham",
                    "ham",
                    "spam",
                    "ham",
                    "spam",
                    "spam",
                    "spam",
                    "ham",
                    "ham",
                    "ham",
                    "ham",
                    "ham",
                    "spam",
                    "ham",
                    "ham",
                    "ham",
                    "ham",
                    "ham",
                    "ham",
                    "spam",
                    "ham",
                    "ham",
                    "ham",
                    "ham",
                    "ham",
                    "ham",
                    "ham",
                    "ham",
                    "ham",
                    "ham",
                    "ham",
                    "ham",
                    "ham",
                    "ham",
                    "ham",
                    "ham",
                    "ham",
                    "ham",
                    "ham",
                    "ham",
                    "ham",
                    "ham",
                    "spam",
                    "spam",
                    "ham",
                    "ham",
                    "ham",
                    "ham",
                    "ham",
                    "spam",
                    "ham",
                    "ham",
                    "ham",
                    "ham",
                    "spam",
                    "spam",
                    "ham",
                    "ham",
                    "ham",
                    "ham",
                    "ham",
                    "ham",
                    "spam",
                    "ham",
                    "spam",
                    "ham",
                    "ham",
                    "ham",
                    "ham",
                    "ham",
                    "ham",
                    "ham",
                    "ham",
                    "ham",
                    "ham",
                    "ham",
                    "ham",
                    "ham",
                    "spam",
                    "ham",
                    "ham",
                    "ham",
                    "ham",
                    "ham",
                    "ham",
                    "ham",
                    "spam",
                    "spam",
                    "ham",
                    "ham",
                    "ham",
                    "ham",
                    "ham",
                    "ham",
                    "ham",
                    "ham",
                    "ham",
                    "ham",
                    "ham",
                    "ham",
                    "ham",
                    "spam",
                    "spam",
                    "spam",
                    "spam",
                    "spam",
                    "ham",
                    "ham",
                    "ham",
                    "ham",
                    "ham",
                    "ham",
                    "ham",
                    "ham",
                    "ham",
                    "ham",
                    "ham",
                    "spam",
                    "ham",
                    "ham",
                    "ham",
                    "ham",
                    "ham",
                    "ham",
                    "ham",
                    "ham",
                    "ham",
                    "ham",
                    "ham",
                    "ham",
                    "ham",
                    "ham",
                    "ham",
                    "ham",
                    "ham",
                    "spam",
                    "ham",
                    "ham",
                    "ham",
                    "ham",
                    "ham",
                    "ham",
                    "ham",
                    "ham",
                    "ham",
                    "ham",
                    "ham",
                    "ham",
                    "ham",
                    "ham",
                    "ham",
                    "ham",
                    "ham",
                    "ham",
                    "spam",
                    "ham",
                    "ham",
                    "ham",
                    "ham",
                    "ham",
                    "ham",
                    "spam",
                    "ham",
                    "ham",
                    "ham",
                    "spam",
                    "ham",
                    "ham",
                    "ham",
                    "ham",
                    "ham",
                    "ham",
                    "ham",
                    "ham",
                    "ham",
                    "ham",
                    "ham",
                    "spam",
                    "ham",
                    "spam",
                    "ham",
                    "ham",
                    "spam",
                    "spam",
                    "ham",
                    "ham",
                    "ham",
                    "ham",
                    "ham",
                    "ham",
                    "ham",
                    "ham",
                    "spam",
                    "ham",
                    "ham",
                    "ham",
                    "ham",
                    "ham",
                    "ham",
                    "ham",
                    "spam",
                    "ham",
                    "ham",
                    "ham",
                    "ham",
                    "ham",
                    "ham",
                    "ham",
                    "ham",
                    "ham",
                    "ham",
                    "ham",
                    "ham",
                    "spam",
                    "ham",
                    "ham",
                    "spam",
                    "ham",
                    "ham",
                    "ham",
                    "ham",
                    "ham",
                    "ham",
                    "ham",
                    "ham",
                    "ham",
                    "ham",
                    "ham",
                    "ham",
                    "ham",
                    "ham",
                    "ham",
                    "ham",
                    "ham",
                    "ham",
                    "ham",
                    "ham",
                    "ham",
                    "ham",
                    "ham",
                    "ham",
                    "ham",
                    "spam",
                    "ham",
                    "ham",
                    "ham",
                    "ham",
                    "ham",
                    "ham",
                    "ham",
                    "ham",
                    "ham",
                    "ham",
                    "ham",
                    "ham",
                    "ham",
                    "spam",
                    "ham",
                    "ham",
                    "ham",
                    "ham",
                    "ham",
                    "ham",
                    "ham",
                    "ham",
                    "ham",
                    "spam",
                    "ham",
                    "ham",
                    "ham",
                    "ham",
                    "ham",
                    "ham",
                    "ham",
                    "ham",
                    "ham",
                    "ham",
                    "ham",
                    "ham",
                    "spam",
                    "ham",
                    "spam",
                    "ham",
                    "ham",
                    "ham",
                    "ham",
                    "ham",
                    "ham",
                    "ham",
                    "ham",
                    "ham",
                    "ham",
                    "ham",
                    "ham",
                    "ham",
                    "ham",
                    "ham",
                    "ham",
                    "ham",
                    "ham",
                    "ham",
                    "ham",
                    "ham",
                    "ham",
                    "ham",
                    "spam",
                    "spam",
                    "ham",
                    "ham",
                    "ham",
                    "ham",
                    "ham",
                    "spam",
                    "ham",
                    "ham",
                    "ham",
                    "ham",
                    "ham",
                    "ham",
                    "ham",
                    "spam",
                    "ham",
                    "ham",
                    "spam",
                    "ham",
                    "ham",
                    "ham",
                    "ham",
                    "ham",
                    "ham",
                    "ham",
                    "ham",
                    "ham",
                    "spam",
                    "ham",
                    "ham",
                    "ham",
                    "ham",
                    "ham",
                    "ham",
                    "spam",
                    "ham",
                    "ham",
                    "ham",
                    "ham",
                    "ham",
                    "ham",
                    "ham",
                    "ham",
                    "spam",
                    "ham",
                    "ham",
                    "ham",
                    "ham",
                    "ham",
                    "ham",
                    "ham",
                    "ham",
                    "ham",
                    "ham",
                    "ham",
                    "ham",
                    "ham",
                    "ham",
                    "ham",
                    "ham",
                    "ham",
                    "ham",
                    "ham",
                    "ham",
                    "ham",
                    "ham",
                    "ham",
                    "ham",
                    "ham",
                    "ham",
                    "ham",
                    "spam",
                    "ham",
                    "ham",
                    "spam",
                    "ham",
                    "ham",
                    "spam",
                    "spam",
                    "spam",
                    "ham",
                    "ham",
                    "ham",
                    "ham",
                    "spam",
                    "ham",
                    "spam",
                    "spam",
                    "ham",
                    "ham",
                    "ham",
                    "ham",
                    "spam",
                    "ham",
                    "ham",
                    "ham",
                    "ham",
                    "ham",
                    "ham",
                    "ham",
                    "ham",
                    "ham",
                    "spam",
                    "ham",
                    "ham",
                    "ham",
                    "ham",
                    "ham",
                    "ham",
                    "ham",
                    "ham",
                    "ham",
                    "ham",
                    "ham",
                    "ham",
                    "ham",
                    "spam",
                    "ham",
                    "ham",
                    "ham",
                    "ham",
                    "ham",
                    "ham",
                    "ham",
                    "ham",
                    "ham",
                    "ham",
                    "ham",
                    "spam",
                    "spam",
                    "ham",
                    "ham",
                    "ham",
                    "ham",
                    "ham",
                    "ham",
                    "ham",
                    "ham",
                    "ham",
                    "ham",
                    "ham",
                    "ham",
                    "ham",
                    "spam",
                    "ham",
                    "ham",
                    "ham",
                    "spam",
                    "ham",
                    "ham",
                    "ham",
                    "ham",
                    "spam",
                    "ham",
                    "ham",
                    "ham",
                    "ham",
                    "ham",
                    "spam",
                    "ham",
                    "ham",
                    "ham",
                    "ham",
                    "ham",
                    "ham",
                    "ham",
                    "ham",
                    "ham",
                    "ham",
                    "ham",
                    "ham",
                    "ham",
                    "ham",
                    "spam",
                    "ham",
                    "ham",
                    "spam",
                    "ham",
                    "ham",
                    "ham",
                    "ham",
                    "ham",
                    "ham",
                    "ham",
                    "ham",
                    "ham",
                    "ham",
                    "ham",
                    "ham",
                    "ham",
                    "ham",
                    "ham",
                    "ham",
                    "ham",
                    "ham",
                    "ham",
                    "spam",
                    "ham",
                    "ham",
                    "ham",
                    "ham",
                    "spam",
                    "ham",
                    "ham",
                    "ham",
                    "ham",
                    "ham",
                    "ham",
                    "ham",
                    "ham",
                    "ham",
                    "ham",
                    "ham",
                    "ham",
                    "ham",
                    "ham",
                    "ham",
                    "ham",
                    "ham",
                    "ham",
                    "ham",
                    "ham",
                    "ham",
                    "ham",
                    "ham",
                    "spam",
                    "ham",
                    "ham",
                    "spam",
                    "ham",
                    "ham",
                    "ham",
                    "ham",
                    "ham",
                    "ham",
                    "spam",
                    "ham",
                    "ham",
                    "ham",
                    "ham",
                    "ham",
                    "ham",
                    "ham",
                    "ham",
                    "ham",
                    "ham",
                    "spam",
                    "ham",
                    "ham",
                    "ham",
                    "ham",
                    "ham",
                    "spam",
                    "ham",
                    "spam",
                    "ham",
                    "ham",
                    "ham",
                    "ham",
                    "spam",
                    "spam",
                    "ham",
                    "ham",
                    "ham",
                    "ham",
                    "ham",
                    "ham",
                    "ham",
                    "spam",
                    "ham",
                    "ham",
                    "ham",
                    "ham",
                    "ham",
                    "ham",
                    "ham",
                    "ham",
                    "ham",
                    "ham",
                    "ham",
                    "ham",
                    "ham",
                    "ham",
                    "ham",
                    "ham",
                    "ham",
                    "spam",
                    "ham",
                    "ham",
                    "ham",
                    "ham",
                    "ham",
                    "ham",
                    "ham",
                    "ham",
                    "ham",
                    "ham",
                    "spam",
                    "spam",
                    "ham",
                    "ham",
                    "ham",
                    "ham",
                    "ham",
                    "ham",
                    "ham",
                    "ham",
                    "ham",
                    "spam",
                    "ham",
                    "ham",
                    "ham",
                    "ham",
                    "ham",
                    "ham",
                    "ham",
                    "ham",
                    "ham",
                    "ham",
                    "ham",
                    "ham",
                    "spam",
                    "ham",
                    "spam",
                    "ham",
                    "ham",
                    "ham",
                    "ham",
                    "ham",
                    "ham",
                    "ham",
                    "ham",
                    "ham",
                    "ham",
                    "spam",
                    "ham",
                    "ham",
                    "ham",
                    "ham",
                    "ham",
                    "ham",
                    "spam",
                    "ham",
                    "ham",
                    "ham",
                    "spam",
                    "ham",
                    "ham",
                    "ham",
                    "ham",
                    "ham",
                    "ham",
                    "ham",
                    "ham",
                    "ham",
                    "ham",
                    "ham",
                    "ham",
                    "ham",
                    "ham",
                    "ham",
                    "ham",
                    "ham",
                    "spam",
                    "spam",
                    "ham",
                    "ham",
                    "ham",
                    "ham",
                    "ham",
                    "ham",
                    "ham",
                    "ham",
                    "ham",
                    "ham",
                    "ham",
                    "ham",
                    "spam",
                    "ham",
                    "spam",
                    "ham",
                    "ham",
                    "ham",
                    "ham",
                    "ham",
                    "ham",
                    "ham",
                    "ham",
                    "spam",
                    "ham",
                    "ham",
                    "ham",
                    "ham",
                    "ham",
                    "ham",
                    "ham",
                    "spam",
                    "ham",
                    "ham",
                    "ham",
                    "ham",
                    "spam",
                    "ham",
                    "spam",
                    "ham",
                    "ham",
                    "spam",
                    "ham",
                    "ham",
                    "ham",
                    "ham",
                    "ham",
                    "ham",
                    "ham",
                    "spam",
                    "ham",
                    "ham",
                    "ham",
                    "spam",
                    "ham",
                    "ham",
                    "ham",
                    "ham",
                    "ham",
                    "ham",
                    "ham",
                    "ham",
                    "ham",
                    "ham",
                    "ham",
                    "spam",
                    "spam",
                    "ham",
                    "ham",
                    "ham",
                    "ham",
                    "ham",
                    "ham",
                    "ham",
                    "ham",
                    "ham",
                    "ham",
                    "ham",
                    "ham",
                    "ham",
                    "ham",
                    "ham",
                    "ham",
                    "spam",
                    "spam",
                    "ham",
                    "ham",
                    "ham",
                    "spam",
                    "ham",
                    "ham",
                    "ham",
                    "ham",
                    "ham",
                    "ham",
                    "ham",
                    "ham",
                    "ham",
                    "ham",
                    "ham",
                    "spam",
                    "ham",
                    "spam",
                    "spam",
                    "ham",
                    "ham",
                    "ham",
                    "ham",
                    "ham",
                    "ham",
                    "ham",
                    "ham",
                    "ham",
                    "ham",
                    "ham",
                    "ham",
                    "ham",
                    "ham",
                    "ham",
                    "ham",
                    "spam",
                    "ham",
                    "ham",
                    "ham",
                    "ham",
                    "ham",
                    "spam",
                    "ham",
                    "ham",
                    "ham",
                    "ham",
                    "ham",
                    "ham",
                    "ham",
                    "ham",
                    "ham",
                    "ham",
                    "ham",
                    "ham",
                    "spam",
                    "ham",
                    "ham",
                    "ham",
                    "ham",
                    "ham",
                    "ham",
                    "ham",
                    "spam",
                    "ham",
                    "ham",
                    "ham",
                    "ham",
                    "ham",
                    "spam",
                    "ham",
                    "ham",
                    "ham",
                    "ham",
                    "ham",
                    "ham",
                    "ham",
                    "ham",
                    "spam",
                    "spam",
                    "ham",
                    "spam",
                    "ham",
                    "ham",
                    "ham",
                    "ham",
                    "ham",
                    "ham",
                    "spam",
                    "ham",
                    "ham",
                    "ham",
                    "spam",
                    "ham",
                    "spam",
                    "ham",
                    "ham",
                    "ham",
                    "ham",
                    "ham",
                    "ham",
                    "ham",
                    "ham",
                    "ham",
                    "ham",
                    "ham",
                    "spam",
                    "ham",
                    "ham",
                    "ham",
                    "ham",
                    "spam",
                    "ham",
                    "ham",
                    "ham",
                    "ham",
                    "ham",
                    "ham",
                    "ham",
                    "spam",
                    "ham",
                    "ham",
                    "spam",
                    "ham",
                    "spam",
                    "ham",
                    "ham",
                    "spam",
                    "ham",
                    "ham",
                    "spam",
                    "ham",
                    "ham",
                    "ham",
                    "ham",
                    "ham",
                    "ham",
                    "ham",
                    "ham",
                    "ham",
                    "ham",
                    "ham",
                    "ham",
                    "ham",
                    "ham",
                    "ham",
                    "ham",
                    "ham",
                    "ham",
                    "ham",
                    "ham",
                    "spam",
                    "ham",
                    "ham",
                    "ham",
                    "spam",
                    "ham",
                    "ham",
                    "ham",
                    "ham",
                    "ham",
                    "ham",
                    "ham",
                    "spam",
                    "ham",
                    "spam",
                    "ham",
                    "ham",
                    "spam",
                    "ham",
                    "ham",
                    "ham",
                    "ham",
                    "spam",
                    "ham",
                    "ham",
                    "ham",
                    "ham",
                    "ham",
                    "ham",
                    "ham",
                    "ham",
                    "ham",
                    "ham",
                    "ham",
                    "ham",
                    "ham",
                    "ham",
                    "ham",
                    "ham",
                    "spam",
                    "ham",
                    "ham",
                    "ham",
                    "spam",
                    "ham",
                    "ham",
                    "ham",
                    "ham",
                    "ham",
                    "spam",
                    "ham",
                    "ham",
                    "ham",
                    "ham",
                    "ham",
                    "ham",
                    "ham",
                    "ham",
                    "ham",
                    "ham",
                    "ham",
                    "ham",
                    "ham",
                    "ham",
                    "ham",
                    "ham",
                    "spam",
                    "ham",
                    "ham",
                    "ham",
                    "ham",
                    "ham",
                    "ham",
                    "ham",
                    "ham",
                    "ham",
                    "ham",
                    "ham",
                    "ham",
                    "ham",
                    "spam",
                    "ham",
                    "ham",
                    "ham",
                    "ham",
                    "ham",
                    "ham",
                    "ham",
                    "ham",
                    "ham",
                    "ham",
                    "spam",
                    "spam",
                    "ham",
                    "ham",
                    "ham",
                    "ham",
                    "ham",
                    "spam",
                    "ham",
                    "ham",
                    "ham",
                    "spam",
                    "spam",
                    "ham",
                    "ham",
                    "ham",
                    "spam",
                    "ham",
                    "ham",
                    "ham",
                    "ham",
                    "ham",
                    "ham",
                    "ham",
                    "ham",
                    "spam",
                    "ham",
                    "ham",
                    "ham",
                    "ham",
                    "ham",
                    "ham",
                    "ham",
                    "ham",
                    "ham",
                    "ham",
                    "ham",
                    "ham",
                    "ham",
                    "spam",
                    "ham",
                    "ham",
                    "ham",
                    "spam",
                    "ham",
                    "ham",
                    "ham",
                    "ham",
                    "spam",
                    "ham",
                    "ham",
                    "ham",
                    "ham",
                    "ham",
                    "ham",
                    "ham",
                    "ham",
                    "ham",
                    "ham",
                    "ham",
                    "ham",
                    "spam",
                    "ham",
                    "ham",
                    "ham",
                    "ham",
                    "ham",
                    "ham",
                    "ham",
                    "ham",
                    "ham",
                    "ham",
                    "ham",
                    "ham",
                    "ham",
                    "ham",
                    "ham",
                    "ham",
                    "ham",
                    "ham",
                    "spam",
                    "ham",
                    "ham",
                    "ham",
                    "ham",
                    "ham",
                    "ham",
                    "ham",
                    "ham",
                    "spam",
                    "ham",
                    "ham",
                    "ham",
                    "ham",
                    "ham",
                    "ham",
                    "spam",
                    "ham",
                    "ham",
                    "ham",
                    "ham",
                    "ham",
                    "ham",
                    "spam",
                    "ham",
                    "spam",
                    "ham",
                    "ham",
                    "ham",
                    "ham",
                    "ham",
                    "ham",
                    "ham",
                    "ham",
                    "ham",
                    "ham",
                    "ham",
                    "ham",
                    "ham",
                    "ham",
                    "ham",
                    "ham",
                    "ham",
                    "ham",
                    "ham",
                    "spam",
                    "ham",
                    "ham",
                    "ham",
                    "ham",
                    "ham",
                    "ham",
                    "ham",
                    "ham",
                    "ham",
                    "ham",
                    "ham",
                    "ham",
                    "ham",
                    "ham",
                    "ham",
                    "ham",
                    "ham",
                    "ham",
                    "ham",
                    "ham",
                    "ham",
                    "ham",
                    "ham",
                    "ham",
                    "ham",
                    "ham",
                    "ham",
                    "spam",
                    "ham",
                    "ham",
                    "ham",
                    "ham",
                    "ham",
                    "ham",
                    "ham",
                    "ham",
                    "ham",
                    "ham",
                    "ham",
                    "ham",
                    "ham",
                    "ham",
                    "ham",
                    "ham",
                    "ham",
                    "ham",
                    "ham",
                    "ham",
                    "ham",
                    "spam",
                    "spam",
                    "spam",
                    "ham",
                    "spam",
                    "ham",
                    "spam",
                    "ham",
                    "ham",
                    "ham",
                    "ham",
                    "ham",
                    "ham",
                    "spam",
                    "spam",
                    "ham",
                    "ham",
                    "spam",
                    "ham",
                    "ham",
                    "ham",
                    "ham",
                    "ham",
                    "ham",
                    "ham",
                    "ham",
                    "ham",
                    "ham",
                    "ham",
                    "ham",
                    "ham",
                    "ham",
                    "ham",
                    "ham",
                    "ham",
                    "ham",
                    "ham",
                    "ham",
                    "ham",
                    "ham",
                    "ham",
                    "ham",
                    "ham",
                    "ham",
                    "ham",
                    "ham",
                    "ham",
                    "ham",
                    "ham",
                    "ham",
                    "ham",
                    "ham",
                    "ham",
                    "ham",
                    "ham",
                    "ham",
                    "ham",
                    "ham",
                    "ham",
                    "ham",
                    "ham",
                    "ham",
                    "ham",
                    "spam",
                    "ham",
                    "ham",
                    "ham",
                    "ham",
                    "ham",
                    "ham",
                    "ham",
                    "ham",
                    "ham",
                    "ham",
                    "ham",
                    "ham",
                    "ham",
                    "ham",
                    "ham",
                    "spam",
                    "ham",
                    "ham",
                    "ham",
                    "ham",
                    "ham",
                    "spam",
                    "ham",
                    "ham",
                    "ham",
                    "ham",
                    "ham",
                    "ham",
                    "spam",
                    "ham",
                    "ham",
                    "ham",
                    "spam",
                    "ham",
                    "spam",
                    "ham",
                    "ham",
                    "ham",
                    "spam",
                    "spam",
                    "spam",
                    "ham",
                    "ham",
                    "ham",
                    "ham",
                    "ham",
                    "ham",
                    "ham",
                    "ham",
                    "ham",
                    "ham",
                    "ham",
                    "ham",
                    "ham",
                    "spam",
                    "ham",
                    "ham",
                    "ham",
                    "ham",
                    "spam",
                    "ham",
                    "ham",
                    "ham",
                    "ham",
                    "spam",
                    "ham",
                    "ham",
                    "ham",
                    "ham",
                    "spam",
                    "ham",
                    "ham",
                    "ham",
                    "spam",
                    "ham",
                    "ham",
                    "ham",
                    "ham",
                    "ham",
                    "ham",
                    "ham",
                    "ham",
                    "ham",
                    "ham",
                    "ham",
                    "ham",
                    "ham",
                    "ham",
                    "ham",
                    "ham",
                    "ham",
                    "ham",
                    "ham",
                    "ham",
                    "ham",
                    "ham",
                    "spam",
                    "ham",
                    "spam",
                    "ham",
                    "ham",
                    "ham",
                    "ham",
                    "ham",
                    "ham",
                    "ham",
                    "ham",
                    "ham",
                    "ham",
                    "spam",
                    "ham",
                    "ham",
                    "spam",
                    "ham",
                    "ham",
                    "ham",
                    "ham",
                    "ham",
                    "ham",
                    "spam",
                    "ham",
                    "ham",
                    "ham",
                    "ham",
                    "ham",
                    "ham",
                    "ham",
                    "ham",
                    "ham",
                    "ham",
                    "ham",
                    "ham",
                    "ham",
                    "ham",
                    "ham",
                    "ham",
                    "ham",
                    "ham",
                    "spam",
                    "spam",
                    "ham",
                    "ham",
                    "ham",
                    "ham"
                  ],
                  "xaxis": "x",
                  "yaxis": "y"
                }
              ],
              "layout": {
                "barmode": "relative",
                "legend": {
                  "tracegroupgap": 0
                },
                "margin": {
                  "t": 60
                },
                "template": {
                  "data": {
                    "bar": [
                      {
                        "error_x": {
                          "color": "#2a3f5f"
                        },
                        "error_y": {
                          "color": "#2a3f5f"
                        },
                        "marker": {
                          "line": {
                            "color": "#E5ECF6",
                            "width": 0.5
                          },
                          "pattern": {
                            "fillmode": "overlay",
                            "size": 10,
                            "solidity": 0.2
                          }
                        },
                        "type": "bar"
                      }
                    ],
                    "barpolar": [
                      {
                        "marker": {
                          "line": {
                            "color": "#E5ECF6",
                            "width": 0.5
                          },
                          "pattern": {
                            "fillmode": "overlay",
                            "size": 10,
                            "solidity": 0.2
                          }
                        },
                        "type": "barpolar"
                      }
                    ],
                    "carpet": [
                      {
                        "aaxis": {
                          "endlinecolor": "#2a3f5f",
                          "gridcolor": "white",
                          "linecolor": "white",
                          "minorgridcolor": "white",
                          "startlinecolor": "#2a3f5f"
                        },
                        "baxis": {
                          "endlinecolor": "#2a3f5f",
                          "gridcolor": "white",
                          "linecolor": "white",
                          "minorgridcolor": "white",
                          "startlinecolor": "#2a3f5f"
                        },
                        "type": "carpet"
                      }
                    ],
                    "choropleth": [
                      {
                        "colorbar": {
                          "outlinewidth": 0,
                          "ticks": ""
                        },
                        "type": "choropleth"
                      }
                    ],
                    "contour": [
                      {
                        "colorbar": {
                          "outlinewidth": 0,
                          "ticks": ""
                        },
                        "colorscale": [
                          [
                            0,
                            "#0d0887"
                          ],
                          [
                            0.1111111111111111,
                            "#46039f"
                          ],
                          [
                            0.2222222222222222,
                            "#7201a8"
                          ],
                          [
                            0.3333333333333333,
                            "#9c179e"
                          ],
                          [
                            0.4444444444444444,
                            "#bd3786"
                          ],
                          [
                            0.5555555555555556,
                            "#d8576b"
                          ],
                          [
                            0.6666666666666666,
                            "#ed7953"
                          ],
                          [
                            0.7777777777777778,
                            "#fb9f3a"
                          ],
                          [
                            0.8888888888888888,
                            "#fdca26"
                          ],
                          [
                            1,
                            "#f0f921"
                          ]
                        ],
                        "type": "contour"
                      }
                    ],
                    "contourcarpet": [
                      {
                        "colorbar": {
                          "outlinewidth": 0,
                          "ticks": ""
                        },
                        "type": "contourcarpet"
                      }
                    ],
                    "heatmap": [
                      {
                        "colorbar": {
                          "outlinewidth": 0,
                          "ticks": ""
                        },
                        "colorscale": [
                          [
                            0,
                            "#0d0887"
                          ],
                          [
                            0.1111111111111111,
                            "#46039f"
                          ],
                          [
                            0.2222222222222222,
                            "#7201a8"
                          ],
                          [
                            0.3333333333333333,
                            "#9c179e"
                          ],
                          [
                            0.4444444444444444,
                            "#bd3786"
                          ],
                          [
                            0.5555555555555556,
                            "#d8576b"
                          ],
                          [
                            0.6666666666666666,
                            "#ed7953"
                          ],
                          [
                            0.7777777777777778,
                            "#fb9f3a"
                          ],
                          [
                            0.8888888888888888,
                            "#fdca26"
                          ],
                          [
                            1,
                            "#f0f921"
                          ]
                        ],
                        "type": "heatmap"
                      }
                    ],
                    "histogram": [
                      {
                        "marker": {
                          "pattern": {
                            "fillmode": "overlay",
                            "size": 10,
                            "solidity": 0.2
                          }
                        },
                        "type": "histogram"
                      }
                    ],
                    "histogram2d": [
                      {
                        "colorbar": {
                          "outlinewidth": 0,
                          "ticks": ""
                        },
                        "colorscale": [
                          [
                            0,
                            "#0d0887"
                          ],
                          [
                            0.1111111111111111,
                            "#46039f"
                          ],
                          [
                            0.2222222222222222,
                            "#7201a8"
                          ],
                          [
                            0.3333333333333333,
                            "#9c179e"
                          ],
                          [
                            0.4444444444444444,
                            "#bd3786"
                          ],
                          [
                            0.5555555555555556,
                            "#d8576b"
                          ],
                          [
                            0.6666666666666666,
                            "#ed7953"
                          ],
                          [
                            0.7777777777777778,
                            "#fb9f3a"
                          ],
                          [
                            0.8888888888888888,
                            "#fdca26"
                          ],
                          [
                            1,
                            "#f0f921"
                          ]
                        ],
                        "type": "histogram2d"
                      }
                    ],
                    "histogram2dcontour": [
                      {
                        "colorbar": {
                          "outlinewidth": 0,
                          "ticks": ""
                        },
                        "colorscale": [
                          [
                            0,
                            "#0d0887"
                          ],
                          [
                            0.1111111111111111,
                            "#46039f"
                          ],
                          [
                            0.2222222222222222,
                            "#7201a8"
                          ],
                          [
                            0.3333333333333333,
                            "#9c179e"
                          ],
                          [
                            0.4444444444444444,
                            "#bd3786"
                          ],
                          [
                            0.5555555555555556,
                            "#d8576b"
                          ],
                          [
                            0.6666666666666666,
                            "#ed7953"
                          ],
                          [
                            0.7777777777777778,
                            "#fb9f3a"
                          ],
                          [
                            0.8888888888888888,
                            "#fdca26"
                          ],
                          [
                            1,
                            "#f0f921"
                          ]
                        ],
                        "type": "histogram2dcontour"
                      }
                    ],
                    "mesh3d": [
                      {
                        "colorbar": {
                          "outlinewidth": 0,
                          "ticks": ""
                        },
                        "type": "mesh3d"
                      }
                    ],
                    "parcoords": [
                      {
                        "line": {
                          "colorbar": {
                            "outlinewidth": 0,
                            "ticks": ""
                          }
                        },
                        "type": "parcoords"
                      }
                    ],
                    "pie": [
                      {
                        "automargin": true,
                        "type": "pie"
                      }
                    ],
                    "scatter": [
                      {
                        "fillpattern": {
                          "fillmode": "overlay",
                          "size": 10,
                          "solidity": 0.2
                        },
                        "type": "scatter"
                      }
                    ],
                    "scatter3d": [
                      {
                        "line": {
                          "colorbar": {
                            "outlinewidth": 0,
                            "ticks": ""
                          }
                        },
                        "marker": {
                          "colorbar": {
                            "outlinewidth": 0,
                            "ticks": ""
                          }
                        },
                        "type": "scatter3d"
                      }
                    ],
                    "scattercarpet": [
                      {
                        "marker": {
                          "colorbar": {
                            "outlinewidth": 0,
                            "ticks": ""
                          }
                        },
                        "type": "scattercarpet"
                      }
                    ],
                    "scattergeo": [
                      {
                        "marker": {
                          "colorbar": {
                            "outlinewidth": 0,
                            "ticks": ""
                          }
                        },
                        "type": "scattergeo"
                      }
                    ],
                    "scattergl": [
                      {
                        "marker": {
                          "colorbar": {
                            "outlinewidth": 0,
                            "ticks": ""
                          }
                        },
                        "type": "scattergl"
                      }
                    ],
                    "scattermap": [
                      {
                        "marker": {
                          "colorbar": {
                            "outlinewidth": 0,
                            "ticks": ""
                          }
                        },
                        "type": "scattermap"
                      }
                    ],
                    "scattermapbox": [
                      {
                        "marker": {
                          "colorbar": {
                            "outlinewidth": 0,
                            "ticks": ""
                          }
                        },
                        "type": "scattermapbox"
                      }
                    ],
                    "scatterpolar": [
                      {
                        "marker": {
                          "colorbar": {
                            "outlinewidth": 0,
                            "ticks": ""
                          }
                        },
                        "type": "scatterpolar"
                      }
                    ],
                    "scatterpolargl": [
                      {
                        "marker": {
                          "colorbar": {
                            "outlinewidth": 0,
                            "ticks": ""
                          }
                        },
                        "type": "scatterpolargl"
                      }
                    ],
                    "scatterternary": [
                      {
                        "marker": {
                          "colorbar": {
                            "outlinewidth": 0,
                            "ticks": ""
                          }
                        },
                        "type": "scatterternary"
                      }
                    ],
                    "surface": [
                      {
                        "colorbar": {
                          "outlinewidth": 0,
                          "ticks": ""
                        },
                        "colorscale": [
                          [
                            0,
                            "#0d0887"
                          ],
                          [
                            0.1111111111111111,
                            "#46039f"
                          ],
                          [
                            0.2222222222222222,
                            "#7201a8"
                          ],
                          [
                            0.3333333333333333,
                            "#9c179e"
                          ],
                          [
                            0.4444444444444444,
                            "#bd3786"
                          ],
                          [
                            0.5555555555555556,
                            "#d8576b"
                          ],
                          [
                            0.6666666666666666,
                            "#ed7953"
                          ],
                          [
                            0.7777777777777778,
                            "#fb9f3a"
                          ],
                          [
                            0.8888888888888888,
                            "#fdca26"
                          ],
                          [
                            1,
                            "#f0f921"
                          ]
                        ],
                        "type": "surface"
                      }
                    ],
                    "table": [
                      {
                        "cells": {
                          "fill": {
                            "color": "#EBF0F8"
                          },
                          "line": {
                            "color": "white"
                          }
                        },
                        "header": {
                          "fill": {
                            "color": "#C8D4E3"
                          },
                          "line": {
                            "color": "white"
                          }
                        },
                        "type": "table"
                      }
                    ]
                  },
                  "layout": {
                    "annotationdefaults": {
                      "arrowcolor": "#2a3f5f",
                      "arrowhead": 0,
                      "arrowwidth": 1
                    },
                    "autotypenumbers": "strict",
                    "coloraxis": {
                      "colorbar": {
                        "outlinewidth": 0,
                        "ticks": ""
                      }
                    },
                    "colorscale": {
                      "diverging": [
                        [
                          0,
                          "#8e0152"
                        ],
                        [
                          0.1,
                          "#c51b7d"
                        ],
                        [
                          0.2,
                          "#de77ae"
                        ],
                        [
                          0.3,
                          "#f1b6da"
                        ],
                        [
                          0.4,
                          "#fde0ef"
                        ],
                        [
                          0.5,
                          "#f7f7f7"
                        ],
                        [
                          0.6,
                          "#e6f5d0"
                        ],
                        [
                          0.7,
                          "#b8e186"
                        ],
                        [
                          0.8,
                          "#7fbc41"
                        ],
                        [
                          0.9,
                          "#4d9221"
                        ],
                        [
                          1,
                          "#276419"
                        ]
                      ],
                      "sequential": [
                        [
                          0,
                          "#0d0887"
                        ],
                        [
                          0.1111111111111111,
                          "#46039f"
                        ],
                        [
                          0.2222222222222222,
                          "#7201a8"
                        ],
                        [
                          0.3333333333333333,
                          "#9c179e"
                        ],
                        [
                          0.4444444444444444,
                          "#bd3786"
                        ],
                        [
                          0.5555555555555556,
                          "#d8576b"
                        ],
                        [
                          0.6666666666666666,
                          "#ed7953"
                        ],
                        [
                          0.7777777777777778,
                          "#fb9f3a"
                        ],
                        [
                          0.8888888888888888,
                          "#fdca26"
                        ],
                        [
                          1,
                          "#f0f921"
                        ]
                      ],
                      "sequentialminus": [
                        [
                          0,
                          "#0d0887"
                        ],
                        [
                          0.1111111111111111,
                          "#46039f"
                        ],
                        [
                          0.2222222222222222,
                          "#7201a8"
                        ],
                        [
                          0.3333333333333333,
                          "#9c179e"
                        ],
                        [
                          0.4444444444444444,
                          "#bd3786"
                        ],
                        [
                          0.5555555555555556,
                          "#d8576b"
                        ],
                        [
                          0.6666666666666666,
                          "#ed7953"
                        ],
                        [
                          0.7777777777777778,
                          "#fb9f3a"
                        ],
                        [
                          0.8888888888888888,
                          "#fdca26"
                        ],
                        [
                          1,
                          "#f0f921"
                        ]
                      ]
                    },
                    "colorway": [
                      "#636efa",
                      "#EF553B",
                      "#00cc96",
                      "#ab63fa",
                      "#FFA15A",
                      "#19d3f3",
                      "#FF6692",
                      "#B6E880",
                      "#FF97FF",
                      "#FECB52"
                    ],
                    "font": {
                      "color": "#2a3f5f"
                    },
                    "geo": {
                      "bgcolor": "white",
                      "lakecolor": "white",
                      "landcolor": "#E5ECF6",
                      "showlakes": true,
                      "showland": true,
                      "subunitcolor": "white"
                    },
                    "hoverlabel": {
                      "align": "left"
                    },
                    "hovermode": "closest",
                    "mapbox": {
                      "style": "light"
                    },
                    "paper_bgcolor": "white",
                    "plot_bgcolor": "#E5ECF6",
                    "polar": {
                      "angularaxis": {
                        "gridcolor": "white",
                        "linecolor": "white",
                        "ticks": ""
                      },
                      "bgcolor": "#E5ECF6",
                      "radialaxis": {
                        "gridcolor": "white",
                        "linecolor": "white",
                        "ticks": ""
                      }
                    },
                    "scene": {
                      "xaxis": {
                        "backgroundcolor": "#E5ECF6",
                        "gridcolor": "white",
                        "gridwidth": 2,
                        "linecolor": "white",
                        "showbackground": true,
                        "ticks": "",
                        "zerolinecolor": "white"
                      },
                      "yaxis": {
                        "backgroundcolor": "#E5ECF6",
                        "gridcolor": "white",
                        "gridwidth": 2,
                        "linecolor": "white",
                        "showbackground": true,
                        "ticks": "",
                        "zerolinecolor": "white"
                      },
                      "zaxis": {
                        "backgroundcolor": "#E5ECF6",
                        "gridcolor": "white",
                        "gridwidth": 2,
                        "linecolor": "white",
                        "showbackground": true,
                        "ticks": "",
                        "zerolinecolor": "white"
                      }
                    },
                    "shapedefaults": {
                      "line": {
                        "color": "#2a3f5f"
                      }
                    },
                    "ternary": {
                      "aaxis": {
                        "gridcolor": "white",
                        "linecolor": "white",
                        "ticks": ""
                      },
                      "baxis": {
                        "gridcolor": "white",
                        "linecolor": "white",
                        "ticks": ""
                      },
                      "bgcolor": "#E5ECF6",
                      "caxis": {
                        "gridcolor": "white",
                        "linecolor": "white",
                        "ticks": ""
                      }
                    },
                    "title": {
                      "x": 0.05
                    },
                    "xaxis": {
                      "automargin": true,
                      "gridcolor": "white",
                      "linecolor": "white",
                      "ticks": "",
                      "title": {
                        "standoff": 15
                      },
                      "zerolinecolor": "white",
                      "zerolinewidth": 2
                    },
                    "yaxis": {
                      "automargin": true,
                      "gridcolor": "white",
                      "linecolor": "white",
                      "ticks": "",
                      "title": {
                        "standoff": 15
                      },
                      "zerolinecolor": "white",
                      "zerolinewidth": 2
                    }
                  }
                },
                "xaxis": {
                  "anchor": "y",
                  "domain": [
                    0,
                    1
                  ],
                  "title": {
                    "text": "label_text"
                  }
                },
                "yaxis": {
                  "anchor": "x",
                  "domain": [
                    0,
                    1
                  ],
                  "title": {
                    "text": "count"
                  }
                }
              }
            }
          },
          "metadata": {},
          "output_type": "display_data"
        }
      ],
      "source": [
        "px.histogram(df_spam, x=\"label_text\")"
      ]
    },
    {
      "cell_type": "markdown",
      "id": "a6c51c90",
      "metadata": {
        "id": "a6c51c90"
      },
      "source": [
        "On voit que dans notre dataset, il y a une très mauvaise répartition des labels : `spam`est beaucoup moins représenté"
      ]
    },
    {
      "cell_type": "markdown",
      "id": "831e99b9",
      "metadata": {},
      "source": [
        "---"
      ]
    },
    {
      "cell_type": "markdown",
      "id": "9a1d0999",
      "metadata": {
        "id": "9a1d0999"
      },
      "source": [
        "## 3. Tokenization"
      ]
    },
    {
      "cell_type": "markdown",
      "id": "dcdfc64f",
      "metadata": {},
      "source": [
        "Je tokenize les messages avec le tokenizer \"cl100k_base\" (basé sur le byte pair coding)"
      ]
    },
    {
      "cell_type": "code",
      "execution_count": 11,
      "id": "af869e3f",
      "metadata": {
        "id": "af869e3f"
      },
      "outputs": [],
      "source": [
        "tokenizer = tiktoken.get_encoding(\"cl100k_base\")\n",
        "\n",
        "def encode_texts(texts):\n",
        "    return [tokenizer.encode(text) for text in texts]\n",
        "\n",
        "tokens = encode_texts(df_spam[\"message\"])"
      ]
    },
    {
      "cell_type": "code",
      "execution_count": 12,
      "id": "e3edebae",
      "metadata": {
        "colab": {
          "base_uri": "https://localhost:8080/"
        },
        "id": "e3edebae",
        "outputId": "48de2aa5-447a-42eb-bc39-77b2d8fb21f1"
      },
      "outputs": [
        {
          "data": {
            "text/plain": [
              "[11087, 3156, 16422, 647, 1486, 11, 14599, 497, 16528, 1193]"
            ]
          },
          "execution_count": 12,
          "metadata": {},
          "output_type": "execute_result"
        }
      ],
      "source": [
        "tokens[0][:10]"
      ]
    },
    {
      "cell_type": "code",
      "execution_count": 13,
      "id": "dc3d8a3a",
      "metadata": {},
      "outputs": [
        {
          "data": {
            "text/plain": [
              "[11839, 45555, 1131, 622, 10979, 289, 333, 577, 389, 72]"
            ]
          },
          "execution_count": 13,
          "metadata": {},
          "output_type": "execute_result"
        }
      ],
      "source": [
        "tokens[1][:10]"
      ]
    },
    {
      "cell_type": "markdown",
      "id": "243e4904",
      "metadata": {
        "id": "243e4904"
      },
      "source": [
        "Les modèles de NLP exigent souvent des séquences (liste de tokens) de tailles uniformes.\n",
        "\n",
        "Calcul de la taille moyenne des séquences"
      ]
    },
    {
      "cell_type": "code",
      "execution_count": 14,
      "id": "0365d66a",
      "metadata": {
        "colab": {
          "base_uri": "https://localhost:8080/"
        },
        "id": "0365d66a",
        "outputId": "705837f3-ff82-400b-908d-4b52a1615369"
      },
      "outputs": [
        {
          "data": {
            "text/plain": [
              "np.float64(22.68449389806174)"
            ]
          },
          "execution_count": 14,
          "metadata": {},
          "output_type": "execute_result"
        }
      ],
      "source": [
        "seq_lens = [len(seq) for seq in tokens]\n",
        "np.mean(seq_lens)"
      ]
    },
    {
      "cell_type": "markdown",
      "id": "bdf6927e",
      "metadata": {},
      "source": [
        "Distribution de la taille des séquences"
      ]
    },
    {
      "cell_type": "code",
      "execution_count": 15,
      "id": "43c34e45",
      "metadata": {},
      "outputs": [
        {
          "data": {
            "application/vnd.plotly.v1+json": {
              "config": {
                "plotlyServerURL": "https://plot.ly"
              },
              "data": [
                {
                  "bingroup": "x",
                  "hovertemplate": "variable=0<br>value=%{x}<br>count=%{y}<extra></extra>",
                  "legendgroup": "0",
                  "marker": {
                    "color": "#636efa",
                    "pattern": {
                      "shape": ""
                    }
                  },
                  "name": "0",
                  "nbinsx": 30,
                  "orientation": "v",
                  "showlegend": true,
                  "type": "histogram",
                  "x": {
                    "bdata": "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",
                    "dtype": "i2"
                  },
                  "xaxis": "x",
                  "yaxis": "y"
                }
              ],
              "layout": {
                "barmode": "relative",
                "legend": {
                  "title": {
                    "text": "variable"
                  },
                  "tracegroupgap": 0
                },
                "margin": {
                  "t": 60
                },
                "template": {
                  "data": {
                    "bar": [
                      {
                        "error_x": {
                          "color": "#2a3f5f"
                        },
                        "error_y": {
                          "color": "#2a3f5f"
                        },
                        "marker": {
                          "line": {
                            "color": "#E5ECF6",
                            "width": 0.5
                          },
                          "pattern": {
                            "fillmode": "overlay",
                            "size": 10,
                            "solidity": 0.2
                          }
                        },
                        "type": "bar"
                      }
                    ],
                    "barpolar": [
                      {
                        "marker": {
                          "line": {
                            "color": "#E5ECF6",
                            "width": 0.5
                          },
                          "pattern": {
                            "fillmode": "overlay",
                            "size": 10,
                            "solidity": 0.2
                          }
                        },
                        "type": "barpolar"
                      }
                    ],
                    "carpet": [
                      {
                        "aaxis": {
                          "endlinecolor": "#2a3f5f",
                          "gridcolor": "white",
                          "linecolor": "white",
                          "minorgridcolor": "white",
                          "startlinecolor": "#2a3f5f"
                        },
                        "baxis": {
                          "endlinecolor": "#2a3f5f",
                          "gridcolor": "white",
                          "linecolor": "white",
                          "minorgridcolor": "white",
                          "startlinecolor": "#2a3f5f"
                        },
                        "type": "carpet"
                      }
                    ],
                    "choropleth": [
                      {
                        "colorbar": {
                          "outlinewidth": 0,
                          "ticks": ""
                        },
                        "type": "choropleth"
                      }
                    ],
                    "contour": [
                      {
                        "colorbar": {
                          "outlinewidth": 0,
                          "ticks": ""
                        },
                        "colorscale": [
                          [
                            0,
                            "#0d0887"
                          ],
                          [
                            0.1111111111111111,
                            "#46039f"
                          ],
                          [
                            0.2222222222222222,
                            "#7201a8"
                          ],
                          [
                            0.3333333333333333,
                            "#9c179e"
                          ],
                          [
                            0.4444444444444444,
                            "#bd3786"
                          ],
                          [
                            0.5555555555555556,
                            "#d8576b"
                          ],
                          [
                            0.6666666666666666,
                            "#ed7953"
                          ],
                          [
                            0.7777777777777778,
                            "#fb9f3a"
                          ],
                          [
                            0.8888888888888888,
                            "#fdca26"
                          ],
                          [
                            1,
                            "#f0f921"
                          ]
                        ],
                        "type": "contour"
                      }
                    ],
                    "contourcarpet": [
                      {
                        "colorbar": {
                          "outlinewidth": 0,
                          "ticks": ""
                        },
                        "type": "contourcarpet"
                      }
                    ],
                    "heatmap": [
                      {
                        "colorbar": {
                          "outlinewidth": 0,
                          "ticks": ""
                        },
                        "colorscale": [
                          [
                            0,
                            "#0d0887"
                          ],
                          [
                            0.1111111111111111,
                            "#46039f"
                          ],
                          [
                            0.2222222222222222,
                            "#7201a8"
                          ],
                          [
                            0.3333333333333333,
                            "#9c179e"
                          ],
                          [
                            0.4444444444444444,
                            "#bd3786"
                          ],
                          [
                            0.5555555555555556,
                            "#d8576b"
                          ],
                          [
                            0.6666666666666666,
                            "#ed7953"
                          ],
                          [
                            0.7777777777777778,
                            "#fb9f3a"
                          ],
                          [
                            0.8888888888888888,
                            "#fdca26"
                          ],
                          [
                            1,
                            "#f0f921"
                          ]
                        ],
                        "type": "heatmap"
                      }
                    ],
                    "histogram": [
                      {
                        "marker": {
                          "pattern": {
                            "fillmode": "overlay",
                            "size": 10,
                            "solidity": 0.2
                          }
                        },
                        "type": "histogram"
                      }
                    ],
                    "histogram2d": [
                      {
                        "colorbar": {
                          "outlinewidth": 0,
                          "ticks": ""
                        },
                        "colorscale": [
                          [
                            0,
                            "#0d0887"
                          ],
                          [
                            0.1111111111111111,
                            "#46039f"
                          ],
                          [
                            0.2222222222222222,
                            "#7201a8"
                          ],
                          [
                            0.3333333333333333,
                            "#9c179e"
                          ],
                          [
                            0.4444444444444444,
                            "#bd3786"
                          ],
                          [
                            0.5555555555555556,
                            "#d8576b"
                          ],
                          [
                            0.6666666666666666,
                            "#ed7953"
                          ],
                          [
                            0.7777777777777778,
                            "#fb9f3a"
                          ],
                          [
                            0.8888888888888888,
                            "#fdca26"
                          ],
                          [
                            1,
                            "#f0f921"
                          ]
                        ],
                        "type": "histogram2d"
                      }
                    ],
                    "histogram2dcontour": [
                      {
                        "colorbar": {
                          "outlinewidth": 0,
                          "ticks": ""
                        },
                        "colorscale": [
                          [
                            0,
                            "#0d0887"
                          ],
                          [
                            0.1111111111111111,
                            "#46039f"
                          ],
                          [
                            0.2222222222222222,
                            "#7201a8"
                          ],
                          [
                            0.3333333333333333,
                            "#9c179e"
                          ],
                          [
                            0.4444444444444444,
                            "#bd3786"
                          ],
                          [
                            0.5555555555555556,
                            "#d8576b"
                          ],
                          [
                            0.6666666666666666,
                            "#ed7953"
                          ],
                          [
                            0.7777777777777778,
                            "#fb9f3a"
                          ],
                          [
                            0.8888888888888888,
                            "#fdca26"
                          ],
                          [
                            1,
                            "#f0f921"
                          ]
                        ],
                        "type": "histogram2dcontour"
                      }
                    ],
                    "mesh3d": [
                      {
                        "colorbar": {
                          "outlinewidth": 0,
                          "ticks": ""
                        },
                        "type": "mesh3d"
                      }
                    ],
                    "parcoords": [
                      {
                        "line": {
                          "colorbar": {
                            "outlinewidth": 0,
                            "ticks": ""
                          }
                        },
                        "type": "parcoords"
                      }
                    ],
                    "pie": [
                      {
                        "automargin": true,
                        "type": "pie"
                      }
                    ],
                    "scatter": [
                      {
                        "fillpattern": {
                          "fillmode": "overlay",
                          "size": 10,
                          "solidity": 0.2
                        },
                        "type": "scatter"
                      }
                    ],
                    "scatter3d": [
                      {
                        "line": {
                          "colorbar": {
                            "outlinewidth": 0,
                            "ticks": ""
                          }
                        },
                        "marker": {
                          "colorbar": {
                            "outlinewidth": 0,
                            "ticks": ""
                          }
                        },
                        "type": "scatter3d"
                      }
                    ],
                    "scattercarpet": [
                      {
                        "marker": {
                          "colorbar": {
                            "outlinewidth": 0,
                            "ticks": ""
                          }
                        },
                        "type": "scattercarpet"
                      }
                    ],
                    "scattergeo": [
                      {
                        "marker": {
                          "colorbar": {
                            "outlinewidth": 0,
                            "ticks": ""
                          }
                        },
                        "type": "scattergeo"
                      }
                    ],
                    "scattergl": [
                      {
                        "marker": {
                          "colorbar": {
                            "outlinewidth": 0,
                            "ticks": ""
                          }
                        },
                        "type": "scattergl"
                      }
                    ],
                    "scattermap": [
                      {
                        "marker": {
                          "colorbar": {
                            "outlinewidth": 0,
                            "ticks": ""
                          }
                        },
                        "type": "scattermap"
                      }
                    ],
                    "scattermapbox": [
                      {
                        "marker": {
                          "colorbar": {
                            "outlinewidth": 0,
                            "ticks": ""
                          }
                        },
                        "type": "scattermapbox"
                      }
                    ],
                    "scatterpolar": [
                      {
                        "marker": {
                          "colorbar": {
                            "outlinewidth": 0,
                            "ticks": ""
                          }
                        },
                        "type": "scatterpolar"
                      }
                    ],
                    "scatterpolargl": [
                      {
                        "marker": {
                          "colorbar": {
                            "outlinewidth": 0,
                            "ticks": ""
                          }
                        },
                        "type": "scatterpolargl"
                      }
                    ],
                    "scatterternary": [
                      {
                        "marker": {
                          "colorbar": {
                            "outlinewidth": 0,
                            "ticks": ""
                          }
                        },
                        "type": "scatterternary"
                      }
                    ],
                    "surface": [
                      {
                        "colorbar": {
                          "outlinewidth": 0,
                          "ticks": ""
                        },
                        "colorscale": [
                          [
                            0,
                            "#0d0887"
                          ],
                          [
                            0.1111111111111111,
                            "#46039f"
                          ],
                          [
                            0.2222222222222222,
                            "#7201a8"
                          ],
                          [
                            0.3333333333333333,
                            "#9c179e"
                          ],
                          [
                            0.4444444444444444,
                            "#bd3786"
                          ],
                          [
                            0.5555555555555556,
                            "#d8576b"
                          ],
                          [
                            0.6666666666666666,
                            "#ed7953"
                          ],
                          [
                            0.7777777777777778,
                            "#fb9f3a"
                          ],
                          [
                            0.8888888888888888,
                            "#fdca26"
                          ],
                          [
                            1,
                            "#f0f921"
                          ]
                        ],
                        "type": "surface"
                      }
                    ],
                    "table": [
                      {
                        "cells": {
                          "fill": {
                            "color": "#EBF0F8"
                          },
                          "line": {
                            "color": "white"
                          }
                        },
                        "header": {
                          "fill": {
                            "color": "#C8D4E3"
                          },
                          "line": {
                            "color": "white"
                          }
                        },
                        "type": "table"
                      }
                    ]
                  },
                  "layout": {
                    "annotationdefaults": {
                      "arrowcolor": "#2a3f5f",
                      "arrowhead": 0,
                      "arrowwidth": 1
                    },
                    "autotypenumbers": "strict",
                    "coloraxis": {
                      "colorbar": {
                        "outlinewidth": 0,
                        "ticks": ""
                      }
                    },
                    "colorscale": {
                      "diverging": [
                        [
                          0,
                          "#8e0152"
                        ],
                        [
                          0.1,
                          "#c51b7d"
                        ],
                        [
                          0.2,
                          "#de77ae"
                        ],
                        [
                          0.3,
                          "#f1b6da"
                        ],
                        [
                          0.4,
                          "#fde0ef"
                        ],
                        [
                          0.5,
                          "#f7f7f7"
                        ],
                        [
                          0.6,
                          "#e6f5d0"
                        ],
                        [
                          0.7,
                          "#b8e186"
                        ],
                        [
                          0.8,
                          "#7fbc41"
                        ],
                        [
                          0.9,
                          "#4d9221"
                        ],
                        [
                          1,
                          "#276419"
                        ]
                      ],
                      "sequential": [
                        [
                          0,
                          "#0d0887"
                        ],
                        [
                          0.1111111111111111,
                          "#46039f"
                        ],
                        [
                          0.2222222222222222,
                          "#7201a8"
                        ],
                        [
                          0.3333333333333333,
                          "#9c179e"
                        ],
                        [
                          0.4444444444444444,
                          "#bd3786"
                        ],
                        [
                          0.5555555555555556,
                          "#d8576b"
                        ],
                        [
                          0.6666666666666666,
                          "#ed7953"
                        ],
                        [
                          0.7777777777777778,
                          "#fb9f3a"
                        ],
                        [
                          0.8888888888888888,
                          "#fdca26"
                        ],
                        [
                          1,
                          "#f0f921"
                        ]
                      ],
                      "sequentialminus": [
                        [
                          0,
                          "#0d0887"
                        ],
                        [
                          0.1111111111111111,
                          "#46039f"
                        ],
                        [
                          0.2222222222222222,
                          "#7201a8"
                        ],
                        [
                          0.3333333333333333,
                          "#9c179e"
                        ],
                        [
                          0.4444444444444444,
                          "#bd3786"
                        ],
                        [
                          0.5555555555555556,
                          "#d8576b"
                        ],
                        [
                          0.6666666666666666,
                          "#ed7953"
                        ],
                        [
                          0.7777777777777778,
                          "#fb9f3a"
                        ],
                        [
                          0.8888888888888888,
                          "#fdca26"
                        ],
                        [
                          1,
                          "#f0f921"
                        ]
                      ]
                    },
                    "colorway": [
                      "#636efa",
                      "#EF553B",
                      "#00cc96",
                      "#ab63fa",
                      "#FFA15A",
                      "#19d3f3",
                      "#FF6692",
                      "#B6E880",
                      "#FF97FF",
                      "#FECB52"
                    ],
                    "font": {
                      "color": "#2a3f5f"
                    },
                    "geo": {
                      "bgcolor": "white",
                      "lakecolor": "white",
                      "landcolor": "#E5ECF6",
                      "showlakes": true,
                      "showland": true,
                      "subunitcolor": "white"
                    },
                    "hoverlabel": {
                      "align": "left"
                    },
                    "hovermode": "closest",
                    "mapbox": {
                      "style": "light"
                    },
                    "paper_bgcolor": "white",
                    "plot_bgcolor": "#E5ECF6",
                    "polar": {
                      "angularaxis": {
                        "gridcolor": "white",
                        "linecolor": "white",
                        "ticks": ""
                      },
                      "bgcolor": "#E5ECF6",
                      "radialaxis": {
                        "gridcolor": "white",
                        "linecolor": "white",
                        "ticks": ""
                      }
                    },
                    "scene": {
                      "xaxis": {
                        "backgroundcolor": "#E5ECF6",
                        "gridcolor": "white",
                        "gridwidth": 2,
                        "linecolor": "white",
                        "showbackground": true,
                        "ticks": "",
                        "zerolinecolor": "white"
                      },
                      "yaxis": {
                        "backgroundcolor": "#E5ECF6",
                        "gridcolor": "white",
                        "gridwidth": 2,
                        "linecolor": "white",
                        "showbackground": true,
                        "ticks": "",
                        "zerolinecolor": "white"
                      },
                      "zaxis": {
                        "backgroundcolor": "#E5ECF6",
                        "gridcolor": "white",
                        "gridwidth": 2,
                        "linecolor": "white",
                        "showbackground": true,
                        "ticks": "",
                        "zerolinecolor": "white"
                      }
                    },
                    "shapedefaults": {
                      "line": {
                        "color": "#2a3f5f"
                      }
                    },
                    "ternary": {
                      "aaxis": {
                        "gridcolor": "white",
                        "linecolor": "white",
                        "ticks": ""
                      },
                      "baxis": {
                        "gridcolor": "white",
                        "linecolor": "white",
                        "ticks": ""
                      },
                      "bgcolor": "#E5ECF6",
                      "caxis": {
                        "gridcolor": "white",
                        "linecolor": "white",
                        "ticks": ""
                      }
                    },
                    "title": {
                      "x": 0.05
                    },
                    "xaxis": {
                      "automargin": true,
                      "gridcolor": "white",
                      "linecolor": "white",
                      "ticks": "",
                      "title": {
                        "standoff": 15
                      },
                      "zerolinecolor": "white",
                      "zerolinewidth": 2
                    },
                    "yaxis": {
                      "automargin": true,
                      "gridcolor": "white",
                      "linecolor": "white",
                      "ticks": "",
                      "title": {
                        "standoff": 15
                      },
                      "zerolinecolor": "white",
                      "zerolinewidth": 2
                    }
                  }
                },
                "xaxis": {
                  "anchor": "y",
                  "domain": [
                    0,
                    1
                  ],
                  "title": {
                    "text": "value"
                  }
                },
                "yaxis": {
                  "anchor": "x",
                  "domain": [
                    0,
                    1
                  ],
                  "title": {
                    "text": "count"
                  }
                }
              }
            }
          },
          "metadata": {},
          "output_type": "display_data"
        }
      ],
      "source": [
        "px.histogram(seq_lens,nbins=30)"
      ]
    },
    {
      "cell_type": "markdown",
      "id": "50f873ca",
      "metadata": {
        "id": "50f873ca"
      },
      "source": [
        "Taille moyenne des séquences : 22 tokens. Nous allons garder des séquences à 30 tokens."
      ]
    },
    {
      "cell_type": "code",
      "execution_count": 16,
      "id": "e4422276",
      "metadata": {
        "id": "e4422276"
      },
      "outputs": [],
      "source": [
        "def pad_sequences(sequences, max_length=30):\n",
        "    return [seq[:max_length] + [0] * (max_length - len(seq)) for seq in sequences]\n",
        "\n",
        "tokens = pad_sequences(tokens)"
      ]
    },
    {
      "cell_type": "markdown",
      "id": "56c0459f",
      "metadata": {},
      "source": [
        "---"
      ]
    },
    {
      "cell_type": "markdown",
      "id": "f5b54c1e",
      "metadata": {},
      "source": [
        "## 4. Dataset and split datas"
      ]
    },
    {
      "cell_type": "markdown",
      "id": "5f1472b2",
      "metadata": {
        "id": "5f1472b2"
      },
      "source": [
        "Création du Dataset, des DataLoader et split des messages : train et validation. (80% - 20%)"
      ]
    },
    {
      "cell_type": "code",
      "execution_count": 17,
      "id": "2b863d96",
      "metadata": {
        "id": "2b863d96"
      },
      "outputs": [],
      "source": [
        "# Class ATTDataset\n",
        "class ATTDataset(Dataset):\n",
        "    def __init__(self, texts, labels):\n",
        "        self.texts = torch.tensor(texts, dtype=torch.long)\n",
        "        self.labels = torch.tensor(labels, dtype=torch.float32)\n",
        "\n",
        "    def __len__(self):\n",
        "        return len(self.texts)\n",
        "\n",
        "    def __getitem__(self, idx):\n",
        "        return self.texts[idx], self.labels[idx]\n",
        "\n",
        "df_dataset = ATTDataset(tokens, df_spam[\"label\"])\n",
        "\n",
        "# Split dataset into training (80%) and validation (20%)\n",
        "train_size = int(0.8 * len(df_dataset))\n",
        "val_size = len(df_dataset) - train_size\n",
        "train_dataset, val_dataset = random_split(df_dataset, [train_size, val_size])\n",
        "\n",
        "# Create DataLoaders\n",
        "train_loader = DataLoader(train_dataset, batch_size=32, shuffle=True)\n",
        "val_loader = DataLoader(val_dataset, batch_size=32, shuffle=False)"
      ]
    },
    {
      "cell_type": "code",
      "execution_count": 18,
      "id": "d91cf660",
      "metadata": {
        "colab": {
          "base_uri": "https://localhost:8080/"
        },
        "id": "d91cf660",
        "outputId": "0e60dd5b-79d7-4cc5-f79c-5a66613b93f2"
      },
      "outputs": [
        {
          "name": "stdout",
          "output_type": "stream",
          "text": [
            "tensor([0., 0., 0., 0., 1., 0., 0., 0., 0., 0., 0., 0., 0., 0., 1., 0., 0., 0.,\n",
            "        0., 0., 0., 0., 0., 0., 0., 0., 0., 1., 0., 0., 0., 0.])\n",
            "tensor([[ 2181,   596,  1717,   234, 20644,  1193,   400,  6860, 85009,  1131,\n",
            "           127,   234,  2357,  2800,   682, 85009,   400,  5245,   520,  3325,\n",
            "          1131, 23956,   374,  1717,   234, 20644,  3430,   220,    19,  1717],\n",
            "        [ 1128,  5735,   856, 24886,   311,  1461,     0,     0,     0,     0,\n",
            "             0,     0,     0,     0,     0,     0,     0,     0,     0,     0,\n",
            "             0,     0,     0,     0,     0,     0,     0,     0,     0,     0],\n",
            "        [   38,   664, 17767,   983, 25237,   617,   264,  6555,  1938,     0,\n",
            "             0,     0,     0,     0,     0,     0,     0,     0,     0,     0,\n",
            "             0,     0,     0,     0,     0,     0,     0,     0,     0,     0],\n",
            "        [22186,    77,   956,   342,   617,   538,  4216, 16986,   323,  8617,\n",
            "         13434,   956,   387,  4560,   311, 16603,   520,   220,   612,  4937,\n",
            "            26,     2,     5,  5289,    26,     0,     0,     0,     0,     0],\n",
            "        [44891,   452,  4012,  5987,  2582, 63590,   449, 81226,   220,   717,\n",
            "            76, 17323,   220,    16,    14,    17,  6692, 54088,  6430,    11,\n",
            "           220,  2636, 16655,   865, 67596, 25876,     5,  1041,  8754,  3262],\n",
            "        [ 2059,   275,   430,   374,  2216, 34734,   323, 29565,    11, 16869,\n",
            "         13085,   369,   264,  2132,    13,  3979,   709,   369,  3814,   704,\n",
            "            13,  3234,   577,  1781,  1070,   374, 15038,   602,  1436, 10121],\n",
            "        [ 7131,   577,  2751,   430, 11434,  3446,     0,     0,     0,     0,\n",
            "             0,     0,     0,     0,     0,     0,     0,     0,     0,     0,\n",
            "             0,     0,     0,     0,     0,     0,     0,     0,     0,     0],\n",
            "        [ 2822,   375,   719,   602,  3358,   293,  2133,   220,    17,  5817,\n",
            "           389,  2698,  5115,  4216, 67311,  8119,  9916, 53415,  2751,  5684,\n",
            "           304,  3067,   296,  1540, 92941,     0,     0,     0,     0,     0],\n",
            "        [   51, 38181,   661,   311,   436,  7369,   960,  4730,  1990, 26518,\n",
            "           323,   597,  5059,    72,    13,     0,     0,     0,     0,     0,\n",
            "             0,     0,     0,     0,     0,     0,     0,     0,     0,     0],\n",
            "        [ 4438,  1790,   527,   584,  3794,    30,     0,     0,     0,     0,\n",
            "             0,     0,     0,     0,     0,     0,     0,     0,     0,     0,\n",
            "             0,     0,     0,     0,     0,     0,     0,     0,     0,     0],\n",
            "        [ 3923,   961,   315,  1144, 15357,   956, 39201,  2153,  1541,   956,\n",
            "           499,  3619,     1,     0,     0,     0,     0,     0,     0,     0,\n",
            "             0,     0,     0,     0,     0,     0,     0,     0,     0,     0],\n",
            "        [96837, 31449,    11, 14624,  4731,   612,  1141,    26,   520, 49996,\n",
            "          1047,   311,   733, 27850,   612,  1141,    26,  8993,   497,  3639,\n",
            "           922,   577,    30,     0,     0,     0,     0,     0,     0,     0],\n",
            "        [   40,  2846, 19261,  2162,   304,   220,    20,  1332,    13,     0,\n",
            "             0,     0,     0,     0,     0,     0,     0,     0,     0,     0,\n",
            "             0,     0,     0,     0,     0,     0,     0,     0,     0,     0],\n",
            "        [   46,   292,  1131,   358,  5602,  1461,  2288,   719,   602,  2458,\n",
            "           568, 11884,   272,   757,  1131,   358,  1766,   264,  1912,   326,\n",
            "         23332,  1131,     0,     0,     0,     0,     0,     0,     0,     0],\n",
            "        [  770,  4441,   304,   220,    17,   264, 17496,  1391,   369,   264,\n",
            "          6140,   311,  3243,   459,  6125,   347,    13, 80204, 91601,   311,\n",
            "           220, 17973,  6086,   311,   636,  4441,   320,  1872,  8091,  4478],\n",
            "        [13347,  1448,   303,    11,   902,   374,  1888,  1648,   311,  5766,\n",
            "          3194,  8154,  1872,   287, 38467,  1057, 28530,   832,   596,    30,\n",
            "             0,     0,     0,     0,     0,     0,     0,     0,     0,     0],\n",
            "        [65825,   856,  8577,  2751, 62720,    11,   499,  2103, 71116,   709,\n",
            "            30,     0,     0,     0,     0,     0,     0,     0,     0,     0,\n",
            "             0,     0,     0,     0,     0,     0,     0,     0,     0,     0],\n",
            "        [   39, 12825,   779,  5043,  1131, 22362,  3445,   577, 31081,   306,\n",
            "          8220, 19354,    30,     0,     0,     0,     0,     0,     0,     0,\n",
            "             0,     0,     0,     0,     0,     0,     0,     0,     0,     0],\n",
            "        [   38,  2176, 35163,  2564,   358,  3021,   499,   779,  1790,   358,\n",
            "           649, 20025,  2559,   433,     0,     0,     0,     0,     0,     0,\n",
            "             0,     0,     0,     0,     0,     0,     0,     0,     0,     0],\n",
            "        [ 4164,  1578,  1131,  1102,   596,   384,   832,  1828,   311, 27533,\n",
            "           859,  1131,     0,     0,     0,     0,     0,     0,     0,     0,\n",
            "             0,     0,     0,     0,     0,     0,     0,     0,     0,     0],\n",
            "        [11839,  1131,     0,     0,     0,     0,     0,     0,     0,     0,\n",
            "             0,     0,     0,     0,     0,     0,     0,     0,     0,     0,\n",
            "             0,     0,     0,     0,     0,     0,     0,     0,     0,     0],\n",
            "        [63993,   814,   527,  1664,   323,  7060,  2637,   426,  9740,  1319,\n",
            "          2689,  5697,     8,  2539, 85448,   645,   497, 17206,  1364,  3719,\n",
            "          5115,  3776,   497,   438,  4433,   436,   635,  1618,  1202,  2288],\n",
            "        [ 4897,  1648,  7710,   374,  2753, 36033,  1109,   389,  7731,  3814,\n",
            "            13,  3296,   279,  1648,    11,   422,   577,  1390,   311,  2610,\n",
            "           220,   308,   220,   311,  5249,   856,   293,  1316,    11,  2733],\n",
            "        [ 1688,   220,    19,    13,  6914,   596,   733,   311,  4121,  2606,\n",
            "           388,     0,     0,     0,     0,     0,     0,     0,     0,     0,\n",
            "             0,     0,     0,     0,     0,     0,     0,     0,     0,     0],\n",
            "        [ 1255,    78,  1148,   892,   577,   636,   704,    30,   549,  1051,\n",
            "         10171,   311,  1935,   757, 12185,  3432,    13, 40624,     0,     0,\n",
            "             0,     0,     0,     0,     0,     0,     0,     0,     0,     0],\n",
            "        [47439, 41178,   264,  1633,  2204,  8430, 30964,  4776, 11429,   323,\n",
            "         63082,   709,   449,   279,  1890,   374,   279,  1890,  3927,  6512,\n",
            "           690, 27661,  4395,   602,  4510,    13,     0,     0,     0,     0],\n",
            "        [ 7009,  1071,   422,  1202, 16926, 12056,    11,   433,   690,  1212,\n",
            "          2212,   220,    23,   477,   220,    24,  9012,  8941,   635,     0,\n",
            "          2435,   527, 52997,   459, 17560,   315, 46835,    13,     0,     0],\n",
            "        [31521, 64037,   220,    17,  6505,   220,    18,    38, 82601,  5237,\n",
            "          3233,   432, 18821,    13,  1650,   220, 18807, 24307, 23864,   966,\n",
            "          1457,     0,  2835,  9884,  9923,  4433, 55616,    11,  1514,  1674],\n",
            "        [ 3947,   596,  4423,  1618,   430,   706,   264,  1060,   220,   612,\n",
            "          4937,    26,     2,     5,  5289,    26,   220, 22068,  6217,  6730,\n",
            "           894,  1093, 17767,   297,  6789, 38181,  8083,   596,  1866,    13],\n",
            "        [19749,   311,   577,  1131,     0,     0,     0,     0,     0,     0,\n",
            "             0,     0,     0,     0,     0,     0,     0,     0,     0,     0,\n",
            "             0,     0,     0,     0,     0,     0,     0,     0,     0,     0],\n",
            "        [ 9906,    11,   856,  8334, 82325,     0,   358,  1903,   433,  2162,\n",
            "           323,   856,  6926,  3463,   374,   315,   499,    11,   856,  3021,\n",
            "            13,   358,  3987,   701,  3515,   264,  6555,  4034,   719,   358],\n",
            "        [19701,    11,   358,  3358,  1650,  3010,     0,     0,     0,     0,\n",
            "             0,     0,     0,     0,     0,     0,     0,     0,     0,     0,\n",
            "             0,     0,     0,     0,     0,     0,     0,     0,     0,     0]])\n"
          ]
        }
      ],
      "source": [
        "text, label = next(iter(train_loader))\n",
        "print(label)\n",
        "print(text)"
      ]
    },
    {
      "cell_type": "markdown",
      "id": "6becdb77",
      "metadata": {},
      "source": [
        "---"
      ]
    },
    {
      "cell_type": "markdown",
      "id": "66aab88a",
      "metadata": {},
      "source": [
        "## 5. First prediction model (Classification)"
      ]
    },
    {
      "cell_type": "markdown",
      "id": "7106fb38",
      "metadata": {},
      "source": [
        "#### Définition du modèle"
      ]
    },
    {
      "cell_type": "markdown",
      "id": "3e074c9d",
      "metadata": {},
      "source": [
        "1 couche embedding (transforme les tokens en vecteurs)\n",
        "\n",
        "1 couche pooling (réduit les outputs)\n",
        "\n",
        "1 couche Linear\n",
        "\n",
        "Activation Sigmoid car nous sommes sur un problème de classification"
      ]
    },
    {
      "cell_type": "code",
      "execution_count": 19,
      "id": "qU_YWY5-hSTI",
      "metadata": {
        "id": "qU_YWY5-hSTI"
      },
      "outputs": [],
      "source": [
        "vocab_size = tokenizer.n_vocab\n",
        "\n",
        "class TextClassifier(nn.Module):\n",
        "    def __init__(self, vocab_size, embed_dim, num_class):\n",
        "        super(TextClassifier, self).__init__()\n",
        "        self.embedding = nn.Embedding(vocab_size, embed_dim, padding_idx=0)\n",
        "        self.pooling = nn.AdaptiveAvgPool1d(1)\n",
        "        self.fc = nn.Linear(embed_dim, num_class)\n",
        "\n",
        "    def forward(self, text):\n",
        "        embedded = self.embedding(text)\n",
        "        pooled = self.pooling(embedded.permute(0, 2, 1)).squeeze(2)\n",
        "        return torch.sigmoid(self.fc(pooled))\n",
        "\n",
        "model = TextClassifier(vocab_size=vocab_size,\n",
        "                      embed_dim=16,\n",
        "                      num_class=1)"
      ]
    },
    {
      "cell_type": "code",
      "execution_count": 20,
      "id": "42be21e7",
      "metadata": {
        "colab": {
          "base_uri": "https://localhost:8080/"
        },
        "id": "42be21e7",
        "outputId": "0dcfafef-0405-41d2-a493-a23f961fd02f"
      },
      "outputs": [
        {
          "name": "stdout",
          "output_type": "stream",
          "text": [
            "TextClassifier(\n",
            "  (embedding): Embedding(100277, 16, padding_idx=0)\n",
            "  (pooling): AdaptiveAvgPool1d(output_size=1)\n",
            "  (fc): Linear(in_features=16, out_features=1, bias=True)\n",
            ")\n"
          ]
        },
        {
          "data": {
            "text/plain": [
              "==========================================================================================\n",
              "Layer (type:depth-idx)                   Output Shape              Param #\n",
              "==========================================================================================\n",
              "TextClassifier                           [32, 1]                   --\n",
              "├─Embedding: 1-1                         [32, 30, 16]              1,604,432\n",
              "├─AdaptiveAvgPool1d: 1-2                 [32, 16, 1]               --\n",
              "├─Linear: 1-3                            [32, 1]                   17\n",
              "==========================================================================================\n",
              "Total params: 1,604,449\n",
              "Trainable params: 1,604,449\n",
              "Non-trainable params: 0\n",
              "Total mult-adds (M): 51.34\n",
              "==========================================================================================\n",
              "Input size (MB): 0.01\n",
              "Forward/backward pass size (MB): 0.12\n",
              "Params size (MB): 6.42\n",
              "Estimated Total Size (MB): 6.55\n",
              "=========================================================================================="
            ]
          },
          "execution_count": 20,
          "metadata": {},
          "output_type": "execute_result"
        }
      ],
      "source": [
        "from torchinfo import summary\n",
        "\n",
        "print(model)\n",
        "\n",
        "# Print model summary\n",
        "summary(model, input_data=text)"
      ]
    },
    {
      "cell_type": "markdown",
      "id": "c71d32cf",
      "metadata": {},
      "source": [
        "#### Entrainement"
      ]
    },
    {
      "cell_type": "markdown",
      "id": "8432a917",
      "metadata": {},
      "source": [
        "Fonction de coût : Binary Cross Entropy pour la Classification"
      ]
    },
    {
      "cell_type": "markdown",
      "id": "3f94129a",
      "metadata": {},
      "source": [
        "Optimiser : Adam"
      ]
    },
    {
      "cell_type": "markdown",
      "id": "83b3e33a",
      "metadata": {},
      "source": [
        "On entraine le modèle sur 20 epochs"
      ]
    },
    {
      "cell_type": "code",
      "execution_count": 21,
      "id": "aeedc18a",
      "metadata": {
        "colab": {
          "base_uri": "https://localhost:8080/"
        },
        "id": "aeedc18a",
        "outputId": "155506b4-492a-4e09-fc4a-40d3ce435e5e"
      },
      "outputs": [
        {
          "name": "stdout",
          "output_type": "stream",
          "text": [
            "Epoch [1/20], Loss: 0.5966, Acc: 0.8661, Val Loss: 0.5620, Val Acc: 0.8511\n",
            "Epoch [2/20], Loss: 0.5133, Acc: 0.8703, Val Loss: 0.4739, Val Acc: 0.8520\n",
            "Epoch [3/20], Loss: 0.4162, Acc: 0.8788, Val Loss: 0.3820, Val Acc: 0.8744\n",
            "Epoch [4/20], Loss: 0.3261, Acc: 0.9067, Val Loss: 0.3069, Val Acc: 0.9058\n",
            "Epoch [5/20], Loss: 0.2560, Acc: 0.9376, Val Loss: 0.2494, Val Acc: 0.9265\n",
            "Epoch [6/20], Loss: 0.2036, Acc: 0.9558, Val Loss: 0.2066, Val Acc: 0.9417\n",
            "Epoch [7/20], Loss: 0.1656, Acc: 0.9686, Val Loss: 0.1756, Val Acc: 0.9561\n",
            "Epoch [8/20], Loss: 0.1385, Acc: 0.9755, Val Loss: 0.1523, Val Acc: 0.9614\n",
            "Epoch [9/20], Loss: 0.1164, Acc: 0.9809, Val Loss: 0.1347, Val Acc: 0.9695\n",
            "Epoch [10/20], Loss: 0.1005, Acc: 0.9838, Val Loss: 0.1216, Val Acc: 0.9722\n",
            "Epoch [11/20], Loss: 0.0878, Acc: 0.9859, Val Loss: 0.1112, Val Acc: 0.9767\n",
            "Epoch [12/20], Loss: 0.0776, Acc: 0.9872, Val Loss: 0.1025, Val Acc: 0.9794\n",
            "Epoch [13/20], Loss: 0.0689, Acc: 0.9883, Val Loss: 0.0955, Val Acc: 0.9803\n",
            "Epoch [14/20], Loss: 0.0616, Acc: 0.9897, Val Loss: 0.0898, Val Acc: 0.9812\n",
            "Epoch [15/20], Loss: 0.0556, Acc: 0.9908, Val Loss: 0.0850, Val Acc: 0.9812\n",
            "Epoch [16/20], Loss: 0.0505, Acc: 0.9915, Val Loss: 0.0809, Val Acc: 0.9821\n",
            "Epoch [17/20], Loss: 0.0454, Acc: 0.9935, Val Loss: 0.0772, Val Acc: 0.9821\n",
            "Epoch [18/20], Loss: 0.0410, Acc: 0.9944, Val Loss: 0.0742, Val Acc: 0.9821\n",
            "Epoch [19/20], Loss: 0.0375, Acc: 0.9953, Val Loss: 0.0718, Val Acc: 0.9821\n",
            "Epoch [20/20], Loss: 0.0339, Acc: 0.9953, Val Loss: 0.0697, Val Acc: 0.9830\n"
          ]
        }
      ],
      "source": [
        "criterion = nn.BCELoss()\n",
        "optimizer = optim.Adam(model.parameters(), lr=0.001)\n",
        "\n",
        "def train(model, train_loader, val_loader, criterion, optimizer, epochs=100):\n",
        "\n",
        "    # Dictionary to store training & validation loss and accuracy over epochs\n",
        "    history = {'loss': [], 'val_loss': [], 'accuracy': [], 'val_accuracy': []}\n",
        "\n",
        "    for epoch in range(epochs):  # Loop over the number of epochs\n",
        "        model.train()  # Set model to training mode\n",
        "        total_loss, correct = 0, 0  # Initialize total loss and correct predictions\n",
        "\n",
        "        # Training loop\n",
        "        for inputs, labels in train_loader:\n",
        "            optimizer.zero_grad()  # Reset gradients before each batch\n",
        "            outputs = model(inputs).squeeze()  # Forward pass\n",
        "            loss = criterion(outputs, labels)  # Compute loss\n",
        "            loss.backward()  # Backpropagation (compute gradients)\n",
        "            optimizer.step()  # Update model parameters\n",
        "\n",
        "            total_loss += loss.item()  # Accumulate batch loss\n",
        "            correct += ((outputs > 0.5) == labels).sum().item()  # Count correct predictions\n",
        "\n",
        "        # Compute average loss and accuracy for training\n",
        "        train_loss = total_loss / len(train_loader)\n",
        "        train_acc = correct / len(train_loader.dataset)\n",
        "\n",
        "        # Validation phase (without gradient computation)\n",
        "        model.eval()  # Set model to evaluation mode\n",
        "        val_loss, val_correct = 0, 0\n",
        "        with torch.no_grad():  # No need to compute gradients during validation\n",
        "            for inputs, labels in val_loader:\n",
        "                outputs = model(inputs).squeeze()  # Forward pass\n",
        "                loss = criterion(outputs, labels)  # Compute loss\n",
        "                val_loss += loss.item()  # Accumulate validation loss\n",
        "                val_correct += ((outputs > 0.5) == labels).sum().item()  # Count correct predictions\n",
        "\n",
        "        # Compute average loss and accuracy for validation\n",
        "        val_loss /= len(val_loader)\n",
        "        val_acc = val_correct / len(val_loader.dataset)\n",
        "\n",
        "        # Store metrics in history dictionary\n",
        "        history['loss'].append(train_loss)\n",
        "        history['val_loss'].append(val_loss)\n",
        "        history['accuracy'].append(train_acc)\n",
        "        history['val_accuracy'].append(val_acc)\n",
        "\n",
        "        # Print training progress\n",
        "        print(f\"Epoch [{epoch+1}/{epochs}], Loss: {train_loss:.4f}, Acc: {train_acc:.4f}, \"\n",
        "              f\"Val Loss: {val_loss:.4f}, Val Acc: {val_acc:.4f}\")\n",
        "\n",
        "    return history  # Return training history\n",
        "\n",
        "history = train(model,\n",
        "                train_loader=train_loader,\n",
        "                val_loader=val_loader,\n",
        "                criterion=criterion,\n",
        "                optimizer=optimizer,\n",
        "                epochs=20)"
      ]
    },
    {
      "cell_type": "markdown",
      "id": "0f0202b1",
      "metadata": {},
      "source": [
        "Sauvegarde du modèle"
      ]
    },
    {
      "cell_type": "code",
      "execution_count": 22,
      "id": "53a9275a",
      "metadata": {},
      "outputs": [],
      "source": [
        "checkpoint_path = \"models/first_model.pth\"\n",
        "torch.save({\n",
        "    \"model_state_dict\": model.state_dict(),\n",
        "    \"optimizer_state_dict\": optimizer.state_dict(),\n",
        "    \"history\": history,\n",
        "}, checkpoint_path)"
      ]
    },
    {
      "cell_type": "markdown",
      "id": "6eee6ab3",
      "metadata": {},
      "source": [
        "#### Analyse des résultats"
      ]
    },
    {
      "cell_type": "markdown",
      "id": "dad8f9dc",
      "metadata": {},
      "source": [
        "Visualisation de la fonction de coût et de l'accuracy"
      ]
    },
    {
      "cell_type": "code",
      "execution_count": 23,
      "id": "db197134",
      "metadata": {
        "colab": {
          "base_uri": "https://localhost:8080/",
          "height": 542
        },
        "id": "db197134",
        "outputId": "ecdb1036-1d9e-45af-ad39-1a81998ead71"
      },
      "outputs": [
        {
          "data": {
            "application/vnd.plotly.v1+json": {
              "config": {
                "plotlyServerURL": "https://plot.ly"
              },
              "data": [
                {
                  "marker": {
                    "color": "#4B9AC7"
                  },
                  "mode": "lines",
                  "name": "Training loss",
                  "type": "scatter",
                  "y": [
                    0.5966145881584712,
                    0.5132987788745336,
                    0.4162465361612184,
                    0.3260929441877774,
                    0.2559934468141624,
                    0.2035816022327968,
                    0.16560789724545819,
                    0.13852180934378078,
                    0.11638360489159823,
                    0.10049288086593151,
                    0.08783563700105462,
                    0.07761486792670828,
                    0.06890737363802535,
                    0.06158046738377639,
                    0.05556561267003417,
                    0.05047693305781909,
                    0.04538865910976061,
                    0.04097683486262602,
                    0.03747722563732948,
                    0.033850722081427066
                  ]
                },
                {
                  "marker": {
                    "color": "#4BE8E0"
                  },
                  "mode": "lines",
                  "name": "Validation loss",
                  "type": "scatter",
                  "y": [
                    0.5619739362171718,
                    0.47385282516479493,
                    0.38198864204542976,
                    0.30689201397555216,
                    0.24938818982669286,
                    0.20657859976802553,
                    0.17563906077827726,
                    0.15227951109409332,
                    0.13474127863134658,
                    0.12158290456448283,
                    0.11117823837058885,
                    0.10250570071595055,
                    0.0954862043261528,
                    0.08983114553349358,
                    0.08498324613486018,
                    0.08087843672505447,
                    0.07720637789794377,
                    0.07422878428229264,
                    0.07177985613899572,
                    0.06972750989454134
                  ]
                }
              ],
              "layout": {
                "template": {
                  "data": {
                    "bar": [
                      {
                        "error_x": {
                          "color": "#2a3f5f"
                        },
                        "error_y": {
                          "color": "#2a3f5f"
                        },
                        "marker": {
                          "line": {
                            "color": "#E5ECF6",
                            "width": 0.5
                          },
                          "pattern": {
                            "fillmode": "overlay",
                            "size": 10,
                            "solidity": 0.2
                          }
                        },
                        "type": "bar"
                      }
                    ],
                    "barpolar": [
                      {
                        "marker": {
                          "line": {
                            "color": "#E5ECF6",
                            "width": 0.5
                          },
                          "pattern": {
                            "fillmode": "overlay",
                            "size": 10,
                            "solidity": 0.2
                          }
                        },
                        "type": "barpolar"
                      }
                    ],
                    "carpet": [
                      {
                        "aaxis": {
                          "endlinecolor": "#2a3f5f",
                          "gridcolor": "white",
                          "linecolor": "white",
                          "minorgridcolor": "white",
                          "startlinecolor": "#2a3f5f"
                        },
                        "baxis": {
                          "endlinecolor": "#2a3f5f",
                          "gridcolor": "white",
                          "linecolor": "white",
                          "minorgridcolor": "white",
                          "startlinecolor": "#2a3f5f"
                        },
                        "type": "carpet"
                      }
                    ],
                    "choropleth": [
                      {
                        "colorbar": {
                          "outlinewidth": 0,
                          "ticks": ""
                        },
                        "type": "choropleth"
                      }
                    ],
                    "contour": [
                      {
                        "colorbar": {
                          "outlinewidth": 0,
                          "ticks": ""
                        },
                        "colorscale": [
                          [
                            0,
                            "#0d0887"
                          ],
                          [
                            0.1111111111111111,
                            "#46039f"
                          ],
                          [
                            0.2222222222222222,
                            "#7201a8"
                          ],
                          [
                            0.3333333333333333,
                            "#9c179e"
                          ],
                          [
                            0.4444444444444444,
                            "#bd3786"
                          ],
                          [
                            0.5555555555555556,
                            "#d8576b"
                          ],
                          [
                            0.6666666666666666,
                            "#ed7953"
                          ],
                          [
                            0.7777777777777778,
                            "#fb9f3a"
                          ],
                          [
                            0.8888888888888888,
                            "#fdca26"
                          ],
                          [
                            1,
                            "#f0f921"
                          ]
                        ],
                        "type": "contour"
                      }
                    ],
                    "contourcarpet": [
                      {
                        "colorbar": {
                          "outlinewidth": 0,
                          "ticks": ""
                        },
                        "type": "contourcarpet"
                      }
                    ],
                    "heatmap": [
                      {
                        "colorbar": {
                          "outlinewidth": 0,
                          "ticks": ""
                        },
                        "colorscale": [
                          [
                            0,
                            "#0d0887"
                          ],
                          [
                            0.1111111111111111,
                            "#46039f"
                          ],
                          [
                            0.2222222222222222,
                            "#7201a8"
                          ],
                          [
                            0.3333333333333333,
                            "#9c179e"
                          ],
                          [
                            0.4444444444444444,
                            "#bd3786"
                          ],
                          [
                            0.5555555555555556,
                            "#d8576b"
                          ],
                          [
                            0.6666666666666666,
                            "#ed7953"
                          ],
                          [
                            0.7777777777777778,
                            "#fb9f3a"
                          ],
                          [
                            0.8888888888888888,
                            "#fdca26"
                          ],
                          [
                            1,
                            "#f0f921"
                          ]
                        ],
                        "type": "heatmap"
                      }
                    ],
                    "histogram": [
                      {
                        "marker": {
                          "pattern": {
                            "fillmode": "overlay",
                            "size": 10,
                            "solidity": 0.2
                          }
                        },
                        "type": "histogram"
                      }
                    ],
                    "histogram2d": [
                      {
                        "colorbar": {
                          "outlinewidth": 0,
                          "ticks": ""
                        },
                        "colorscale": [
                          [
                            0,
                            "#0d0887"
                          ],
                          [
                            0.1111111111111111,
                            "#46039f"
                          ],
                          [
                            0.2222222222222222,
                            "#7201a8"
                          ],
                          [
                            0.3333333333333333,
                            "#9c179e"
                          ],
                          [
                            0.4444444444444444,
                            "#bd3786"
                          ],
                          [
                            0.5555555555555556,
                            "#d8576b"
                          ],
                          [
                            0.6666666666666666,
                            "#ed7953"
                          ],
                          [
                            0.7777777777777778,
                            "#fb9f3a"
                          ],
                          [
                            0.8888888888888888,
                            "#fdca26"
                          ],
                          [
                            1,
                            "#f0f921"
                          ]
                        ],
                        "type": "histogram2d"
                      }
                    ],
                    "histogram2dcontour": [
                      {
                        "colorbar": {
                          "outlinewidth": 0,
                          "ticks": ""
                        },
                        "colorscale": [
                          [
                            0,
                            "#0d0887"
                          ],
                          [
                            0.1111111111111111,
                            "#46039f"
                          ],
                          [
                            0.2222222222222222,
                            "#7201a8"
                          ],
                          [
                            0.3333333333333333,
                            "#9c179e"
                          ],
                          [
                            0.4444444444444444,
                            "#bd3786"
                          ],
                          [
                            0.5555555555555556,
                            "#d8576b"
                          ],
                          [
                            0.6666666666666666,
                            "#ed7953"
                          ],
                          [
                            0.7777777777777778,
                            "#fb9f3a"
                          ],
                          [
                            0.8888888888888888,
                            "#fdca26"
                          ],
                          [
                            1,
                            "#f0f921"
                          ]
                        ],
                        "type": "histogram2dcontour"
                      }
                    ],
                    "mesh3d": [
                      {
                        "colorbar": {
                          "outlinewidth": 0,
                          "ticks": ""
                        },
                        "type": "mesh3d"
                      }
                    ],
                    "parcoords": [
                      {
                        "line": {
                          "colorbar": {
                            "outlinewidth": 0,
                            "ticks": ""
                          }
                        },
                        "type": "parcoords"
                      }
                    ],
                    "pie": [
                      {
                        "automargin": true,
                        "type": "pie"
                      }
                    ],
                    "scatter": [
                      {
                        "fillpattern": {
                          "fillmode": "overlay",
                          "size": 10,
                          "solidity": 0.2
                        },
                        "type": "scatter"
                      }
                    ],
                    "scatter3d": [
                      {
                        "line": {
                          "colorbar": {
                            "outlinewidth": 0,
                            "ticks": ""
                          }
                        },
                        "marker": {
                          "colorbar": {
                            "outlinewidth": 0,
                            "ticks": ""
                          }
                        },
                        "type": "scatter3d"
                      }
                    ],
                    "scattercarpet": [
                      {
                        "marker": {
                          "colorbar": {
                            "outlinewidth": 0,
                            "ticks": ""
                          }
                        },
                        "type": "scattercarpet"
                      }
                    ],
                    "scattergeo": [
                      {
                        "marker": {
                          "colorbar": {
                            "outlinewidth": 0,
                            "ticks": ""
                          }
                        },
                        "type": "scattergeo"
                      }
                    ],
                    "scattergl": [
                      {
                        "marker": {
                          "colorbar": {
                            "outlinewidth": 0,
                            "ticks": ""
                          }
                        },
                        "type": "scattergl"
                      }
                    ],
                    "scattermap": [
                      {
                        "marker": {
                          "colorbar": {
                            "outlinewidth": 0,
                            "ticks": ""
                          }
                        },
                        "type": "scattermap"
                      }
                    ],
                    "scattermapbox": [
                      {
                        "marker": {
                          "colorbar": {
                            "outlinewidth": 0,
                            "ticks": ""
                          }
                        },
                        "type": "scattermapbox"
                      }
                    ],
                    "scatterpolar": [
                      {
                        "marker": {
                          "colorbar": {
                            "outlinewidth": 0,
                            "ticks": ""
                          }
                        },
                        "type": "scatterpolar"
                      }
                    ],
                    "scatterpolargl": [
                      {
                        "marker": {
                          "colorbar": {
                            "outlinewidth": 0,
                            "ticks": ""
                          }
                        },
                        "type": "scatterpolargl"
                      }
                    ],
                    "scatterternary": [
                      {
                        "marker": {
                          "colorbar": {
                            "outlinewidth": 0,
                            "ticks": ""
                          }
                        },
                        "type": "scatterternary"
                      }
                    ],
                    "surface": [
                      {
                        "colorbar": {
                          "outlinewidth": 0,
                          "ticks": ""
                        },
                        "colorscale": [
                          [
                            0,
                            "#0d0887"
                          ],
                          [
                            0.1111111111111111,
                            "#46039f"
                          ],
                          [
                            0.2222222222222222,
                            "#7201a8"
                          ],
                          [
                            0.3333333333333333,
                            "#9c179e"
                          ],
                          [
                            0.4444444444444444,
                            "#bd3786"
                          ],
                          [
                            0.5555555555555556,
                            "#d8576b"
                          ],
                          [
                            0.6666666666666666,
                            "#ed7953"
                          ],
                          [
                            0.7777777777777778,
                            "#fb9f3a"
                          ],
                          [
                            0.8888888888888888,
                            "#fdca26"
                          ],
                          [
                            1,
                            "#f0f921"
                          ]
                        ],
                        "type": "surface"
                      }
                    ],
                    "table": [
                      {
                        "cells": {
                          "fill": {
                            "color": "#EBF0F8"
                          },
                          "line": {
                            "color": "white"
                          }
                        },
                        "header": {
                          "fill": {
                            "color": "#C8D4E3"
                          },
                          "line": {
                            "color": "white"
                          }
                        },
                        "type": "table"
                      }
                    ]
                  },
                  "layout": {
                    "annotationdefaults": {
                      "arrowcolor": "#2a3f5f",
                      "arrowhead": 0,
                      "arrowwidth": 1
                    },
                    "autotypenumbers": "strict",
                    "coloraxis": {
                      "colorbar": {
                        "outlinewidth": 0,
                        "ticks": ""
                      }
                    },
                    "colorscale": {
                      "diverging": [
                        [
                          0,
                          "#8e0152"
                        ],
                        [
                          0.1,
                          "#c51b7d"
                        ],
                        [
                          0.2,
                          "#de77ae"
                        ],
                        [
                          0.3,
                          "#f1b6da"
                        ],
                        [
                          0.4,
                          "#fde0ef"
                        ],
                        [
                          0.5,
                          "#f7f7f7"
                        ],
                        [
                          0.6,
                          "#e6f5d0"
                        ],
                        [
                          0.7,
                          "#b8e186"
                        ],
                        [
                          0.8,
                          "#7fbc41"
                        ],
                        [
                          0.9,
                          "#4d9221"
                        ],
                        [
                          1,
                          "#276419"
                        ]
                      ],
                      "sequential": [
                        [
                          0,
                          "#0d0887"
                        ],
                        [
                          0.1111111111111111,
                          "#46039f"
                        ],
                        [
                          0.2222222222222222,
                          "#7201a8"
                        ],
                        [
                          0.3333333333333333,
                          "#9c179e"
                        ],
                        [
                          0.4444444444444444,
                          "#bd3786"
                        ],
                        [
                          0.5555555555555556,
                          "#d8576b"
                        ],
                        [
                          0.6666666666666666,
                          "#ed7953"
                        ],
                        [
                          0.7777777777777778,
                          "#fb9f3a"
                        ],
                        [
                          0.8888888888888888,
                          "#fdca26"
                        ],
                        [
                          1,
                          "#f0f921"
                        ]
                      ],
                      "sequentialminus": [
                        [
                          0,
                          "#0d0887"
                        ],
                        [
                          0.1111111111111111,
                          "#46039f"
                        ],
                        [
                          0.2222222222222222,
                          "#7201a8"
                        ],
                        [
                          0.3333333333333333,
                          "#9c179e"
                        ],
                        [
                          0.4444444444444444,
                          "#bd3786"
                        ],
                        [
                          0.5555555555555556,
                          "#d8576b"
                        ],
                        [
                          0.6666666666666666,
                          "#ed7953"
                        ],
                        [
                          0.7777777777777778,
                          "#fb9f3a"
                        ],
                        [
                          0.8888888888888888,
                          "#fdca26"
                        ],
                        [
                          1,
                          "#f0f921"
                        ]
                      ]
                    },
                    "colorway": [
                      "#636efa",
                      "#EF553B",
                      "#00cc96",
                      "#ab63fa",
                      "#FFA15A",
                      "#19d3f3",
                      "#FF6692",
                      "#B6E880",
                      "#FF97FF",
                      "#FECB52"
                    ],
                    "font": {
                      "color": "#2a3f5f"
                    },
                    "geo": {
                      "bgcolor": "white",
                      "lakecolor": "white",
                      "landcolor": "#E5ECF6",
                      "showlakes": true,
                      "showland": true,
                      "subunitcolor": "white"
                    },
                    "hoverlabel": {
                      "align": "left"
                    },
                    "hovermode": "closest",
                    "mapbox": {
                      "style": "light"
                    },
                    "paper_bgcolor": "white",
                    "plot_bgcolor": "#E5ECF6",
                    "polar": {
                      "angularaxis": {
                        "gridcolor": "white",
                        "linecolor": "white",
                        "ticks": ""
                      },
                      "bgcolor": "#E5ECF6",
                      "radialaxis": {
                        "gridcolor": "white",
                        "linecolor": "white",
                        "ticks": ""
                      }
                    },
                    "scene": {
                      "xaxis": {
                        "backgroundcolor": "#E5ECF6",
                        "gridcolor": "white",
                        "gridwidth": 2,
                        "linecolor": "white",
                        "showbackground": true,
                        "ticks": "",
                        "zerolinecolor": "white"
                      },
                      "yaxis": {
                        "backgroundcolor": "#E5ECF6",
                        "gridcolor": "white",
                        "gridwidth": 2,
                        "linecolor": "white",
                        "showbackground": true,
                        "ticks": "",
                        "zerolinecolor": "white"
                      },
                      "zaxis": {
                        "backgroundcolor": "#E5ECF6",
                        "gridcolor": "white",
                        "gridwidth": 2,
                        "linecolor": "white",
                        "showbackground": true,
                        "ticks": "",
                        "zerolinecolor": "white"
                      }
                    },
                    "shapedefaults": {
                      "line": {
                        "color": "#2a3f5f"
                      }
                    },
                    "ternary": {
                      "aaxis": {
                        "gridcolor": "white",
                        "linecolor": "white",
                        "ticks": ""
                      },
                      "baxis": {
                        "gridcolor": "white",
                        "linecolor": "white",
                        "ticks": ""
                      },
                      "bgcolor": "#E5ECF6",
                      "caxis": {
                        "gridcolor": "white",
                        "linecolor": "white",
                        "ticks": ""
                      }
                    },
                    "title": {
                      "x": 0.05
                    },
                    "xaxis": {
                      "automargin": true,
                      "gridcolor": "white",
                      "linecolor": "white",
                      "ticks": "",
                      "title": {
                        "standoff": 15
                      },
                      "zerolinecolor": "white",
                      "zerolinewidth": 2
                    },
                    "yaxis": {
                      "automargin": true,
                      "gridcolor": "white",
                      "linecolor": "white",
                      "ticks": "",
                      "title": {
                        "standoff": 15
                      },
                      "zerolinecolor": "white",
                      "zerolinewidth": 2
                    }
                  }
                },
                "title": {
                  "text": "Training and val loss across epochs"
                },
                "xaxis": {
                  "title": {
                    "text": "epochs"
                  }
                },
                "yaxis": {
                  "title": {
                    "text": "Cross Entropy"
                  }
                }
              }
            }
          },
          "metadata": {},
          "output_type": "display_data"
        }
      ],
      "source": [
        "from plotly import graph_objects as go\n",
        "color_chart = [\"#4B9AC7\", \"#4BE8E0\", \"#9DD4F3\", \"#97FBF6\", \"#2A7FAF\", \"#23B1AB\", \"#0E3449\", \"#015955\"]\n",
        "\n",
        "fig = go.Figure(data=[\n",
        "                      go.Scatter(\n",
        "                          y=history[\"loss\"],\n",
        "                          name=\"Training loss\",\n",
        "                          mode=\"lines\",\n",
        "                          marker=dict(\n",
        "                              color=color_chart[0]\n",
        "                          )),\n",
        "                      go.Scatter(\n",
        "                          y=history[\"val_loss\"],\n",
        "                          name=\"Validation loss\",\n",
        "                          mode=\"lines\",\n",
        "                          marker=dict(\n",
        "                              color=color_chart[1]\n",
        "                          ))\n",
        "])\n",
        "fig.update_layout(\n",
        "    title='Training and val loss across epochs',\n",
        "    xaxis_title='epochs',\n",
        "    yaxis_title='Cross Entropy'\n",
        ")\n",
        "fig.show()"
      ]
    },
    {
      "cell_type": "code",
      "execution_count": 24,
      "id": "1010a63d",
      "metadata": {
        "colab": {
          "base_uri": "https://localhost:8080/",
          "height": 542
        },
        "id": "1010a63d",
        "outputId": "2068673d-6a18-496c-b94d-891cee5e5292"
      },
      "outputs": [
        {
          "data": {
            "application/vnd.plotly.v1+json": {
              "config": {
                "plotlyServerURL": "https://plot.ly"
              },
              "data": [
                {
                  "marker": {
                    "color": "#4B9AC7"
                  },
                  "mode": "lines",
                  "name": "Training Accuracy",
                  "type": "scatter",
                  "y": [
                    0.8660533991474085,
                    0.8703163562934709,
                    0.8788422705855957,
                    0.9066636751177922,
                    0.9376262059681401,
                    0.9557998653803007,
                    0.9685887368184878,
                    0.9755440879515369,
                    0.9809288759255105,
                    0.9838456360780794,
                    0.9858649315683194,
                    0.9872111285618129,
                    0.988332959389724,
                    0.9896791563832175,
                    0.9908009872111285,
                    0.9914740857078752,
                    0.9934933811981154,
                    0.9943908458604442,
                    0.9952883105227731,
                    0.9952883105227731
                  ]
                },
                {
                  "marker": {
                    "color": "#4BE8E0"
                  },
                  "mode": "lines",
                  "name": "Validation Accuracy",
                  "type": "scatter",
                  "y": [
                    0.8511210762331839,
                    0.852017937219731,
                    0.874439461883408,
                    0.905829596412556,
                    0.9264573991031391,
                    0.9417040358744395,
                    0.9560538116591928,
                    0.9614349775784753,
                    0.9695067264573991,
                    0.9721973094170404,
                    0.9766816143497757,
                    0.979372197309417,
                    0.9802690582959641,
                    0.9811659192825112,
                    0.9811659192825112,
                    0.9820627802690582,
                    0.9820627802690582,
                    0.9820627802690582,
                    0.9820627802690582,
                    0.9829596412556054
                  ]
                }
              ],
              "layout": {
                "template": {
                  "data": {
                    "bar": [
                      {
                        "error_x": {
                          "color": "#2a3f5f"
                        },
                        "error_y": {
                          "color": "#2a3f5f"
                        },
                        "marker": {
                          "line": {
                            "color": "#E5ECF6",
                            "width": 0.5
                          },
                          "pattern": {
                            "fillmode": "overlay",
                            "size": 10,
                            "solidity": 0.2
                          }
                        },
                        "type": "bar"
                      }
                    ],
                    "barpolar": [
                      {
                        "marker": {
                          "line": {
                            "color": "#E5ECF6",
                            "width": 0.5
                          },
                          "pattern": {
                            "fillmode": "overlay",
                            "size": 10,
                            "solidity": 0.2
                          }
                        },
                        "type": "barpolar"
                      }
                    ],
                    "carpet": [
                      {
                        "aaxis": {
                          "endlinecolor": "#2a3f5f",
                          "gridcolor": "white",
                          "linecolor": "white",
                          "minorgridcolor": "white",
                          "startlinecolor": "#2a3f5f"
                        },
                        "baxis": {
                          "endlinecolor": "#2a3f5f",
                          "gridcolor": "white",
                          "linecolor": "white",
                          "minorgridcolor": "white",
                          "startlinecolor": "#2a3f5f"
                        },
                        "type": "carpet"
                      }
                    ],
                    "choropleth": [
                      {
                        "colorbar": {
                          "outlinewidth": 0,
                          "ticks": ""
                        },
                        "type": "choropleth"
                      }
                    ],
                    "contour": [
                      {
                        "colorbar": {
                          "outlinewidth": 0,
                          "ticks": ""
                        },
                        "colorscale": [
                          [
                            0,
                            "#0d0887"
                          ],
                          [
                            0.1111111111111111,
                            "#46039f"
                          ],
                          [
                            0.2222222222222222,
                            "#7201a8"
                          ],
                          [
                            0.3333333333333333,
                            "#9c179e"
                          ],
                          [
                            0.4444444444444444,
                            "#bd3786"
                          ],
                          [
                            0.5555555555555556,
                            "#d8576b"
                          ],
                          [
                            0.6666666666666666,
                            "#ed7953"
                          ],
                          [
                            0.7777777777777778,
                            "#fb9f3a"
                          ],
                          [
                            0.8888888888888888,
                            "#fdca26"
                          ],
                          [
                            1,
                            "#f0f921"
                          ]
                        ],
                        "type": "contour"
                      }
                    ],
                    "contourcarpet": [
                      {
                        "colorbar": {
                          "outlinewidth": 0,
                          "ticks": ""
                        },
                        "type": "contourcarpet"
                      }
                    ],
                    "heatmap": [
                      {
                        "colorbar": {
                          "outlinewidth": 0,
                          "ticks": ""
                        },
                        "colorscale": [
                          [
                            0,
                            "#0d0887"
                          ],
                          [
                            0.1111111111111111,
                            "#46039f"
                          ],
                          [
                            0.2222222222222222,
                            "#7201a8"
                          ],
                          [
                            0.3333333333333333,
                            "#9c179e"
                          ],
                          [
                            0.4444444444444444,
                            "#bd3786"
                          ],
                          [
                            0.5555555555555556,
                            "#d8576b"
                          ],
                          [
                            0.6666666666666666,
                            "#ed7953"
                          ],
                          [
                            0.7777777777777778,
                            "#fb9f3a"
                          ],
                          [
                            0.8888888888888888,
                            "#fdca26"
                          ],
                          [
                            1,
                            "#f0f921"
                          ]
                        ],
                        "type": "heatmap"
                      }
                    ],
                    "histogram": [
                      {
                        "marker": {
                          "pattern": {
                            "fillmode": "overlay",
                            "size": 10,
                            "solidity": 0.2
                          }
                        },
                        "type": "histogram"
                      }
                    ],
                    "histogram2d": [
                      {
                        "colorbar": {
                          "outlinewidth": 0,
                          "ticks": ""
                        },
                        "colorscale": [
                          [
                            0,
                            "#0d0887"
                          ],
                          [
                            0.1111111111111111,
                            "#46039f"
                          ],
                          [
                            0.2222222222222222,
                            "#7201a8"
                          ],
                          [
                            0.3333333333333333,
                            "#9c179e"
                          ],
                          [
                            0.4444444444444444,
                            "#bd3786"
                          ],
                          [
                            0.5555555555555556,
                            "#d8576b"
                          ],
                          [
                            0.6666666666666666,
                            "#ed7953"
                          ],
                          [
                            0.7777777777777778,
                            "#fb9f3a"
                          ],
                          [
                            0.8888888888888888,
                            "#fdca26"
                          ],
                          [
                            1,
                            "#f0f921"
                          ]
                        ],
                        "type": "histogram2d"
                      }
                    ],
                    "histogram2dcontour": [
                      {
                        "colorbar": {
                          "outlinewidth": 0,
                          "ticks": ""
                        },
                        "colorscale": [
                          [
                            0,
                            "#0d0887"
                          ],
                          [
                            0.1111111111111111,
                            "#46039f"
                          ],
                          [
                            0.2222222222222222,
                            "#7201a8"
                          ],
                          [
                            0.3333333333333333,
                            "#9c179e"
                          ],
                          [
                            0.4444444444444444,
                            "#bd3786"
                          ],
                          [
                            0.5555555555555556,
                            "#d8576b"
                          ],
                          [
                            0.6666666666666666,
                            "#ed7953"
                          ],
                          [
                            0.7777777777777778,
                            "#fb9f3a"
                          ],
                          [
                            0.8888888888888888,
                            "#fdca26"
                          ],
                          [
                            1,
                            "#f0f921"
                          ]
                        ],
                        "type": "histogram2dcontour"
                      }
                    ],
                    "mesh3d": [
                      {
                        "colorbar": {
                          "outlinewidth": 0,
                          "ticks": ""
                        },
                        "type": "mesh3d"
                      }
                    ],
                    "parcoords": [
                      {
                        "line": {
                          "colorbar": {
                            "outlinewidth": 0,
                            "ticks": ""
                          }
                        },
                        "type": "parcoords"
                      }
                    ],
                    "pie": [
                      {
                        "automargin": true,
                        "type": "pie"
                      }
                    ],
                    "scatter": [
                      {
                        "fillpattern": {
                          "fillmode": "overlay",
                          "size": 10,
                          "solidity": 0.2
                        },
                        "type": "scatter"
                      }
                    ],
                    "scatter3d": [
                      {
                        "line": {
                          "colorbar": {
                            "outlinewidth": 0,
                            "ticks": ""
                          }
                        },
                        "marker": {
                          "colorbar": {
                            "outlinewidth": 0,
                            "ticks": ""
                          }
                        },
                        "type": "scatter3d"
                      }
                    ],
                    "scattercarpet": [
                      {
                        "marker": {
                          "colorbar": {
                            "outlinewidth": 0,
                            "ticks": ""
                          }
                        },
                        "type": "scattercarpet"
                      }
                    ],
                    "scattergeo": [
                      {
                        "marker": {
                          "colorbar": {
                            "outlinewidth": 0,
                            "ticks": ""
                          }
                        },
                        "type": "scattergeo"
                      }
                    ],
                    "scattergl": [
                      {
                        "marker": {
                          "colorbar": {
                            "outlinewidth": 0,
                            "ticks": ""
                          }
                        },
                        "type": "scattergl"
                      }
                    ],
                    "scattermap": [
                      {
                        "marker": {
                          "colorbar": {
                            "outlinewidth": 0,
                            "ticks": ""
                          }
                        },
                        "type": "scattermap"
                      }
                    ],
                    "scattermapbox": [
                      {
                        "marker": {
                          "colorbar": {
                            "outlinewidth": 0,
                            "ticks": ""
                          }
                        },
                        "type": "scattermapbox"
                      }
                    ],
                    "scatterpolar": [
                      {
                        "marker": {
                          "colorbar": {
                            "outlinewidth": 0,
                            "ticks": ""
                          }
                        },
                        "type": "scatterpolar"
                      }
                    ],
                    "scatterpolargl": [
                      {
                        "marker": {
                          "colorbar": {
                            "outlinewidth": 0,
                            "ticks": ""
                          }
                        },
                        "type": "scatterpolargl"
                      }
                    ],
                    "scatterternary": [
                      {
                        "marker": {
                          "colorbar": {
                            "outlinewidth": 0,
                            "ticks": ""
                          }
                        },
                        "type": "scatterternary"
                      }
                    ],
                    "surface": [
                      {
                        "colorbar": {
                          "outlinewidth": 0,
                          "ticks": ""
                        },
                        "colorscale": [
                          [
                            0,
                            "#0d0887"
                          ],
                          [
                            0.1111111111111111,
                            "#46039f"
                          ],
                          [
                            0.2222222222222222,
                            "#7201a8"
                          ],
                          [
                            0.3333333333333333,
                            "#9c179e"
                          ],
                          [
                            0.4444444444444444,
                            "#bd3786"
                          ],
                          [
                            0.5555555555555556,
                            "#d8576b"
                          ],
                          [
                            0.6666666666666666,
                            "#ed7953"
                          ],
                          [
                            0.7777777777777778,
                            "#fb9f3a"
                          ],
                          [
                            0.8888888888888888,
                            "#fdca26"
                          ],
                          [
                            1,
                            "#f0f921"
                          ]
                        ],
                        "type": "surface"
                      }
                    ],
                    "table": [
                      {
                        "cells": {
                          "fill": {
                            "color": "#EBF0F8"
                          },
                          "line": {
                            "color": "white"
                          }
                        },
                        "header": {
                          "fill": {
                            "color": "#C8D4E3"
                          },
                          "line": {
                            "color": "white"
                          }
                        },
                        "type": "table"
                      }
                    ]
                  },
                  "layout": {
                    "annotationdefaults": {
                      "arrowcolor": "#2a3f5f",
                      "arrowhead": 0,
                      "arrowwidth": 1
                    },
                    "autotypenumbers": "strict",
                    "coloraxis": {
                      "colorbar": {
                        "outlinewidth": 0,
                        "ticks": ""
                      }
                    },
                    "colorscale": {
                      "diverging": [
                        [
                          0,
                          "#8e0152"
                        ],
                        [
                          0.1,
                          "#c51b7d"
                        ],
                        [
                          0.2,
                          "#de77ae"
                        ],
                        [
                          0.3,
                          "#f1b6da"
                        ],
                        [
                          0.4,
                          "#fde0ef"
                        ],
                        [
                          0.5,
                          "#f7f7f7"
                        ],
                        [
                          0.6,
                          "#e6f5d0"
                        ],
                        [
                          0.7,
                          "#b8e186"
                        ],
                        [
                          0.8,
                          "#7fbc41"
                        ],
                        [
                          0.9,
                          "#4d9221"
                        ],
                        [
                          1,
                          "#276419"
                        ]
                      ],
                      "sequential": [
                        [
                          0,
                          "#0d0887"
                        ],
                        [
                          0.1111111111111111,
                          "#46039f"
                        ],
                        [
                          0.2222222222222222,
                          "#7201a8"
                        ],
                        [
                          0.3333333333333333,
                          "#9c179e"
                        ],
                        [
                          0.4444444444444444,
                          "#bd3786"
                        ],
                        [
                          0.5555555555555556,
                          "#d8576b"
                        ],
                        [
                          0.6666666666666666,
                          "#ed7953"
                        ],
                        [
                          0.7777777777777778,
                          "#fb9f3a"
                        ],
                        [
                          0.8888888888888888,
                          "#fdca26"
                        ],
                        [
                          1,
                          "#f0f921"
                        ]
                      ],
                      "sequentialminus": [
                        [
                          0,
                          "#0d0887"
                        ],
                        [
                          0.1111111111111111,
                          "#46039f"
                        ],
                        [
                          0.2222222222222222,
                          "#7201a8"
                        ],
                        [
                          0.3333333333333333,
                          "#9c179e"
                        ],
                        [
                          0.4444444444444444,
                          "#bd3786"
                        ],
                        [
                          0.5555555555555556,
                          "#d8576b"
                        ],
                        [
                          0.6666666666666666,
                          "#ed7953"
                        ],
                        [
                          0.7777777777777778,
                          "#fb9f3a"
                        ],
                        [
                          0.8888888888888888,
                          "#fdca26"
                        ],
                        [
                          1,
                          "#f0f921"
                        ]
                      ]
                    },
                    "colorway": [
                      "#636efa",
                      "#EF553B",
                      "#00cc96",
                      "#ab63fa",
                      "#FFA15A",
                      "#19d3f3",
                      "#FF6692",
                      "#B6E880",
                      "#FF97FF",
                      "#FECB52"
                    ],
                    "font": {
                      "color": "#2a3f5f"
                    },
                    "geo": {
                      "bgcolor": "white",
                      "lakecolor": "white",
                      "landcolor": "#E5ECF6",
                      "showlakes": true,
                      "showland": true,
                      "subunitcolor": "white"
                    },
                    "hoverlabel": {
                      "align": "left"
                    },
                    "hovermode": "closest",
                    "mapbox": {
                      "style": "light"
                    },
                    "paper_bgcolor": "white",
                    "plot_bgcolor": "#E5ECF6",
                    "polar": {
                      "angularaxis": {
                        "gridcolor": "white",
                        "linecolor": "white",
                        "ticks": ""
                      },
                      "bgcolor": "#E5ECF6",
                      "radialaxis": {
                        "gridcolor": "white",
                        "linecolor": "white",
                        "ticks": ""
                      }
                    },
                    "scene": {
                      "xaxis": {
                        "backgroundcolor": "#E5ECF6",
                        "gridcolor": "white",
                        "gridwidth": 2,
                        "linecolor": "white",
                        "showbackground": true,
                        "ticks": "",
                        "zerolinecolor": "white"
                      },
                      "yaxis": {
                        "backgroundcolor": "#E5ECF6",
                        "gridcolor": "white",
                        "gridwidth": 2,
                        "linecolor": "white",
                        "showbackground": true,
                        "ticks": "",
                        "zerolinecolor": "white"
                      },
                      "zaxis": {
                        "backgroundcolor": "#E5ECF6",
                        "gridcolor": "white",
                        "gridwidth": 2,
                        "linecolor": "white",
                        "showbackground": true,
                        "ticks": "",
                        "zerolinecolor": "white"
                      }
                    },
                    "shapedefaults": {
                      "line": {
                        "color": "#2a3f5f"
                      }
                    },
                    "ternary": {
                      "aaxis": {
                        "gridcolor": "white",
                        "linecolor": "white",
                        "ticks": ""
                      },
                      "baxis": {
                        "gridcolor": "white",
                        "linecolor": "white",
                        "ticks": ""
                      },
                      "bgcolor": "#E5ECF6",
                      "caxis": {
                        "gridcolor": "white",
                        "linecolor": "white",
                        "ticks": ""
                      }
                    },
                    "title": {
                      "x": 0.05
                    },
                    "xaxis": {
                      "automargin": true,
                      "gridcolor": "white",
                      "linecolor": "white",
                      "ticks": "",
                      "title": {
                        "standoff": 15
                      },
                      "zerolinecolor": "white",
                      "zerolinewidth": 2
                    },
                    "yaxis": {
                      "automargin": true,
                      "gridcolor": "white",
                      "linecolor": "white",
                      "ticks": "",
                      "title": {
                        "standoff": 15
                      },
                      "zerolinecolor": "white",
                      "zerolinewidth": 2
                    }
                  }
                },
                "title": {
                  "text": "Training and val Accuracy across epochs"
                },
                "xaxis": {
                  "title": {
                    "text": "epochs"
                  }
                },
                "yaxis": {
                  "title": {
                    "text": "Cross Entropy"
                  }
                }
              }
            }
          },
          "metadata": {},
          "output_type": "display_data"
        }
      ],
      "source": [
        "from plotly import graph_objects as go\n",
        "color_chart = [\"#4B9AC7\", \"#4BE8E0\", \"#9DD4F3\", \"#97FBF6\", \"#2A7FAF\", \"#23B1AB\", \"#0E3449\", \"#015955\"]\n",
        "\n",
        "fig = go.Figure(data=[\n",
        "                      go.Scatter(\n",
        "                          y=history[\"accuracy\"],\n",
        "                          name=\"Training Accuracy\",\n",
        "                          mode=\"lines\",\n",
        "                          marker=dict(\n",
        "                              color=color_chart[0]\n",
        "                          )),\n",
        "                      go.Scatter(\n",
        "                          y=history[\"val_accuracy\"],\n",
        "                          name=\"Validation Accuracy\",\n",
        "                          mode=\"lines\",\n",
        "                          marker=dict(\n",
        "                              color=color_chart[1]\n",
        "                          ))\n",
        "])\n",
        "fig.update_layout(\n",
        "    title='Training and val Accuracy across epochs',\n",
        "    xaxis_title='epochs',\n",
        "    yaxis_title='Cross Entropy'\n",
        ")\n",
        "fig.show()"
      ]
    },
    {
      "cell_type": "code",
      "execution_count": 25,
      "id": "ba5e7680",
      "metadata": {},
      "outputs": [
        {
          "name": "stdout",
          "output_type": "stream",
          "text": [
            "{'loss': 0.033850722081427066, 'val_loss': 0.06972750989454134, 'accuracy': 0.9952883105227731, 'val_accuracy': 0.9829596412556054}\n"
          ]
        }
      ],
      "source": [
        "final_history = {key: valeur[-1] for key, valeur in history.items()}\n",
        "print(final_history)"
      ]
    },
    {
      "cell_type": "markdown",
      "id": "36f757bb",
      "metadata": {},
      "source": [
        "A première vue, le modèle classifie plutôt bien les spams et hams.\n",
        "\n",
        "Sur le set de train la loss est de 0.04 et l'accuracy de 0.99.\n",
        "\n",
        "Sur le set de validation la loss est de 0.07 et l'accuracy de 0.98."
      ]
    },
    {
      "cell_type": "markdown",
      "id": "22d5b7f2",
      "metadata": {
        "id": "22d5b7f2"
      },
      "source": [
        "#### Analyse des erreurs : là où le modèle s'est trompé"
      ]
    },
    {
      "cell_type": "code",
      "execution_count": 36,
      "id": "3875b46e",
      "metadata": {
        "id": "3875b46e"
      },
      "outputs": [],
      "source": [
        "# Function to evaluate the model and get worst predictions\n",
        "def evaluate_worst_predictions(model, dataloader, tokenizer):\n",
        "    # Set model to evaluation mode to disable dropout and batch normalization\n",
        "    model.eval()\n",
        "\n",
        "    # Lists to store all predictions, labels, errors, and inputs for analysis\n",
        "    list_predictions = []\n",
        "    list_labels = []\n",
        "    list_errors = []\n",
        "    list_inputs = []\n",
        "\n",
        "    # No gradients needed during evaluation for efficiency\n",
        "    with torch.no_grad():\n",
        "        for batch in dataloader:\n",
        "            # Extract inputs and labels from the batch\n",
        "            inputs, labels = batch\n",
        "            outputs = model(inputs) # Forward pass: Get model predictions\n",
        "\n",
        "            # Convert outputs to predicted class for classification problems\n",
        "            # TODO\n",
        "            # A LA PLACE ;\n",
        "            # threshold = 0.5 # threshold may vary\n",
        "            # cassification = int(probability >= threshold)\n",
        "            preds = torch.argmax(outputs, dim=1)\n",
        "            errors = (preds != labels).float()  # Misclassified observations\n",
        "            \n",
        "            # Store predictions, labels, errors, and raw inputs for further analysis\n",
        "            list_predictions.extend(preds.cpu().numpy())\n",
        "            list_labels.extend(int(x) for x in labels.cpu().numpy())\n",
        "            list_errors.extend(errors.cpu().numpy())\n",
        "            list_inputs.extend(inputs.cpu().numpy())\n",
        "\n",
        "    # Convert stored results into a Pandas DataFrame for easy analysis\n",
        "    # Decode tokenized text back into human-readable text\n",
        "    df_results = pd.DataFrame({\n",
        "        \"True_Label\": list_labels,\n",
        "        \"Predicted\": list_predictions,\n",
        "        \"Error\": list_errors,\n",
        "        \"Inputs\": list_inputs,\n",
        "        \"Text\" : [tokenizer.decode(input) for input in list_inputs]\n",
        "    })\n",
        "\n",
        "    # Sort the DataFrame by highest error to identify the worst predictions\n",
        "    df_results_sorted = df_results.sort_values(by=\"Error\", ascending=False)\n",
        "\n",
        "    # Return the sorted DataFrame containing worst predictions\n",
        "    return df_results_sorted\n",
        "\n",
        "# Evaluate worst predictions on validation set\n",
        "worst_predictions_val = evaluate_worst_predictions(model, val_loader, tokenizer)\n",
        "\n",
        "# Evaluate worst predictions on training set\n",
        "worst_predictions_train = evaluate_worst_predictions(model, train_loader, tokenizer)"
      ]
    },
    {
      "cell_type": "code",
      "execution_count": 33,
      "id": "5aa2750a",
      "metadata": {},
      "outputs": [
        {
          "data": {
            "text/plain": [
              "Predicted\n",
              "0    4457\n",
              "Name: count, dtype: int64"
            ]
          },
          "execution_count": 33,
          "metadata": {},
          "output_type": "execute_result"
        }
      ],
      "source": [
        "worst_predictions_train[\"Predicted\"].value_counts()"
      ]
    },
    {
      "cell_type": "markdown",
      "id": "e9952394",
      "metadata": {},
      "source": [
        "Analyse des pires prédictions sur le set d'entrainement"
      ]
    },
    {
      "cell_type": "code",
      "execution_count": 48,
      "id": "fa011c2e",
      "metadata": {
        "colab": {
          "base_uri": "https://localhost:8080/",
          "height": 363
        },
        "id": "fa011c2e",
        "outputId": "87777532-57e3-45bd-8fbb-d03c58c28739"
      },
      "outputs": [
        {
          "data": {
            "text/html": [
              "<div>\n",
              "<style scoped>\n",
              "    .dataframe tbody tr th:only-of-type {\n",
              "        vertical-align: middle;\n",
              "    }\n",
              "\n",
              "    .dataframe tbody tr th {\n",
              "        vertical-align: top;\n",
              "    }\n",
              "\n",
              "    .dataframe thead th {\n",
              "        text-align: right;\n",
              "    }\n",
              "</style>\n",
              "<table border=\"1\" class=\"dataframe\">\n",
              "  <thead>\n",
              "    <tr style=\"text-align: right;\">\n",
              "      <th></th>\n",
              "      <th>True_Label</th>\n",
              "      <th>Predicted</th>\n",
              "      <th>Error</th>\n",
              "      <th>Inputs</th>\n",
              "      <th>Text</th>\n",
              "    </tr>\n",
              "  </thead>\n",
              "  <tbody>\n",
              "    <tr>\n",
              "      <th>4436</th>\n",
              "      <td>1</td>\n",
              "      <td>0</td>\n",
              "      <td>1.0</td>\n",
              "      <td>[33, 6312, 12481, 43076, 369, 220, 3965, 79, 1...</td>\n",
              "      <td>Boltblue tones for 150p Reply POLY# or MONO# e...</td>\n",
              "    </tr>\n",
              "    <tr>\n",
              "      <th>7</th>\n",
              "      <td>1</td>\n",
              "      <td>0</td>\n",
              "      <td>1.0</td>\n",
              "      <td>[33, 3093, 3838, 59488, 0, 13149, 308, 2457, 1...</td>\n",
              "      <td>Bored housewives! Chat n date now! 0871750.77....</td>\n",
              "    </tr>\n",
              "    <tr>\n",
              "      <th>15</th>\n",
              "      <td>1</td>\n",
              "      <td>0</td>\n",
              "      <td>1.0</td>\n",
              "      <td>[43069, 6130, 11, 499, 1253, 1457, 3802, 701, ...</td>\n",
              "      <td>Orange customer, you may now claim your FREE C...</td>\n",
              "    </tr>\n",
              "    <tr>\n",
              "      <th>14</th>\n",
              "      <td>1</td>\n",
              "      <td>0</td>\n",
              "      <td>1.0</td>\n",
              "      <td>[7530, 386, 1354, 612, 7238, 80204, 612, 220, ...</td>\n",
              "      <td>Double Mins &amp; Double Txt &amp; 1/2 price Linerenta...</td>\n",
              "    </tr>\n",
              "    <tr>\n",
              "      <th>4422</th>\n",
              "      <td>1</td>\n",
              "      <td>0</td>\n",
              "      <td>1.0</td>\n",
              "      <td>[11180, 6749, 28653, 549, 11, 602, 1120, 2751,...</td>\n",
              "      <td>FreeMsg Hey U, i just got 1 of these video/pic...</td>\n",
              "    </tr>\n",
              "    <tr>\n",
              "      <th>4421</th>\n",
              "      <td>1</td>\n",
              "      <td>0</td>\n",
              "      <td>1.0</td>\n",
              "      <td>[29923, 279, 5652, 8519, 83263, 30, 220, 11711...</td>\n",
              "      <td>Want the latest Video handset? 750 anytime any...</td>\n",
              "    </tr>\n",
              "    <tr>\n",
              "      <th>4420</th>\n",
              "      <td>1</td>\n",
              "      <td>0</td>\n",
              "      <td>1.0</td>\n",
              "      <td>[2675, 617, 459, 3062, 6130, 2532, 17480, 13, ...</td>\n",
              "      <td>You have an important customer service announc...</td>\n",
              "    </tr>\n",
              "    <tr>\n",
              "      <th>4418</th>\n",
              "      <td>1</td>\n",
              "      <td>0</td>\n",
              "      <td>1.0</td>\n",
              "      <td>[2378, 911, 67, 92050, 22725, 6130, 11, 499, 1...</td>\n",
              "      <td>UpgrdCentre Orange customer, you may now claim...</td>\n",
              "    </tr>\n",
              "    <tr>\n",
              "      <th>25</th>\n",
              "      <td>1</td>\n",
              "      <td>0</td>\n",
              "      <td>1.0</td>\n",
              "      <td>[40, 1097, 4106, 308, 38307, 323, 10032, 358, ...</td>\n",
              "      <td>I am hot n horny and willing I live local to y...</td>\n",
              "    </tr>\n",
              "    <tr>\n",
              "      <th>4452</th>\n",
              "      <td>1</td>\n",
              "      <td>0</td>\n",
              "      <td>1.0</td>\n",
              "      <td>[24185, 264, 1060, 8312, 315, 62437, 220, 19, ...</td>\n",
              "      <td>WIN a year supply of CDs 4 a store of ur choic...</td>\n",
              "    </tr>\n",
              "  </tbody>\n",
              "</table>\n",
              "</div>"
            ],
            "text/plain": [
              "      True_Label  Predicted  Error  \\\n",
              "4436           1          0    1.0   \n",
              "7              1          0    1.0   \n",
              "15             1          0    1.0   \n",
              "14             1          0    1.0   \n",
              "4422           1          0    1.0   \n",
              "4421           1          0    1.0   \n",
              "4420           1          0    1.0   \n",
              "4418           1          0    1.0   \n",
              "25             1          0    1.0   \n",
              "4452           1          0    1.0   \n",
              "\n",
              "                                                 Inputs  \\\n",
              "4436  [33, 6312, 12481, 43076, 369, 220, 3965, 79, 1...   \n",
              "7     [33, 3093, 3838, 59488, 0, 13149, 308, 2457, 1...   \n",
              "15    [43069, 6130, 11, 499, 1253, 1457, 3802, 701, ...   \n",
              "14    [7530, 386, 1354, 612, 7238, 80204, 612, 220, ...   \n",
              "4422  [11180, 6749, 28653, 549, 11, 602, 1120, 2751,...   \n",
              "4421  [29923, 279, 5652, 8519, 83263, 30, 220, 11711...   \n",
              "4420  [2675, 617, 459, 3062, 6130, 2532, 17480, 13, ...   \n",
              "4418  [2378, 911, 67, 92050, 22725, 6130, 11, 499, 1...   \n",
              "25    [40, 1097, 4106, 308, 38307, 323, 10032, 358, ...   \n",
              "4452  [24185, 264, 1060, 8312, 315, 62437, 220, 19, ...   \n",
              "\n",
              "                                                   Text  \n",
              "4436  Boltblue tones for 150p Reply POLY# or MONO# e...  \n",
              "7     Bored housewives! Chat n date now! 0871750.77....  \n",
              "15    Orange customer, you may now claim your FREE C...  \n",
              "14    Double Mins & Double Txt & 1/2 price Linerenta...  \n",
              "4422  FreeMsg Hey U, i just got 1 of these video/pic...  \n",
              "4421  Want the latest Video handset? 750 anytime any...  \n",
              "4420  You have an important customer service announc...  \n",
              "4418  UpgrdCentre Orange customer, you may now claim...  \n",
              "25    I am hot n horny and willing I live local to y...  \n",
              "4452  WIN a year supply of CDs 4 a store of ur choic...  "
            ]
          },
          "execution_count": 48,
          "metadata": {},
          "output_type": "execute_result"
        }
      ],
      "source": [
        "worst_predictions_train.head(10)"
      ]
    },
    {
      "cell_type": "markdown",
      "id": "ba607abf",
      "metadata": {},
      "source": [
        "classification report"
      ]
    },
    {
      "cell_type": "code",
      "execution_count": 49,
      "id": "89fe21e7",
      "metadata": {},
      "outputs": [
        {
          "name": "stdout",
          "output_type": "stream",
          "text": [
            "              precision    recall  f1-score   support\n",
            "\n",
            "           0       0.87      1.00      0.93      3864\n",
            "           1       0.00      0.00      0.00       593\n",
            "\n",
            "    accuracy                           0.87      4457\n",
            "   macro avg       0.43      0.50      0.46      4457\n",
            "weighted avg       0.75      0.87      0.81      4457\n",
            "\n"
          ]
        },
        {
          "name": "stderr",
          "output_type": "stream",
          "text": [
            "c:\\__DATA_SCIENCE__\\Anaconda\\envs\\pytorch\\lib\\site-packages\\sklearn\\metrics\\_classification.py:1565: UndefinedMetricWarning:\n",
            "\n",
            "Precision is ill-defined and being set to 0.0 in labels with no predicted samples. Use `zero_division` parameter to control this behavior.\n",
            "\n",
            "c:\\__DATA_SCIENCE__\\Anaconda\\envs\\pytorch\\lib\\site-packages\\sklearn\\metrics\\_classification.py:1565: UndefinedMetricWarning:\n",
            "\n",
            "Precision is ill-defined and being set to 0.0 in labels with no predicted samples. Use `zero_division` parameter to control this behavior.\n",
            "\n",
            "c:\\__DATA_SCIENCE__\\Anaconda\\envs\\pytorch\\lib\\site-packages\\sklearn\\metrics\\_classification.py:1565: UndefinedMetricWarning:\n",
            "\n",
            "Precision is ill-defined and being set to 0.0 in labels with no predicted samples. Use `zero_division` parameter to control this behavior.\n",
            "\n"
          ]
        }
      ],
      "source": [
        "print(classification_report(worst_predictions_train[\"True_Label\"], worst_predictions_train[\"Predicted\"]))"
      ]
    },
    {
      "cell_type": "markdown",
      "id": "aa4d936c",
      "metadata": {},
      "source": [
        "Matrice de confusion"
      ]
    },
    {
      "cell_type": "code",
      "execution_count": 53,
      "id": "430ae68b",
      "metadata": {},
      "outputs": [
        {
          "data": {
            "application/vnd.plotly.v1+json": {
              "config": {
                "plotlyServerURL": "https://plot.ly"
              },
              "data": [
                {
                  "coloraxis": "coloraxis",
                  "hovertemplate": "x: %{x}<br>y: %{y}<br>color: %{z}<extra></extra>",
                  "name": "0",
                  "texttemplate": "%{z}",
                  "type": "heatmap",
                  "x": [
                    "ham",
                    "spam"
                  ],
                  "xaxis": "x",
                  "y": [
                    "ham",
                    "spam"
                  ],
                  "yaxis": "y",
                  "z": {
                    "bdata": "GA8AAFECAAA=",
                    "dtype": "i2",
                    "shape": "2, 2"
                  }
                }
              ],
              "layout": {
                "coloraxis": {
                  "colorscale": [
                    [
                      0,
                      "#0d0887"
                    ],
                    [
                      0.1111111111111111,
                      "#46039f"
                    ],
                    [
                      0.2222222222222222,
                      "#7201a8"
                    ],
                    [
                      0.3333333333333333,
                      "#9c179e"
                    ],
                    [
                      0.4444444444444444,
                      "#bd3786"
                    ],
                    [
                      0.5555555555555556,
                      "#d8576b"
                    ],
                    [
                      0.6666666666666666,
                      "#ed7953"
                    ],
                    [
                      0.7777777777777778,
                      "#fb9f3a"
                    ],
                    [
                      0.8888888888888888,
                      "#fdca26"
                    ],
                    [
                      1,
                      "#f0f921"
                    ]
                  ]
                },
                "margin": {
                  "t": 60
                },
                "template": {
                  "data": {
                    "bar": [
                      {
                        "error_x": {
                          "color": "#2a3f5f"
                        },
                        "error_y": {
                          "color": "#2a3f5f"
                        },
                        "marker": {
                          "line": {
                            "color": "#E5ECF6",
                            "width": 0.5
                          },
                          "pattern": {
                            "fillmode": "overlay",
                            "size": 10,
                            "solidity": 0.2
                          }
                        },
                        "type": "bar"
                      }
                    ],
                    "barpolar": [
                      {
                        "marker": {
                          "line": {
                            "color": "#E5ECF6",
                            "width": 0.5
                          },
                          "pattern": {
                            "fillmode": "overlay",
                            "size": 10,
                            "solidity": 0.2
                          }
                        },
                        "type": "barpolar"
                      }
                    ],
                    "carpet": [
                      {
                        "aaxis": {
                          "endlinecolor": "#2a3f5f",
                          "gridcolor": "white",
                          "linecolor": "white",
                          "minorgridcolor": "white",
                          "startlinecolor": "#2a3f5f"
                        },
                        "baxis": {
                          "endlinecolor": "#2a3f5f",
                          "gridcolor": "white",
                          "linecolor": "white",
                          "minorgridcolor": "white",
                          "startlinecolor": "#2a3f5f"
                        },
                        "type": "carpet"
                      }
                    ],
                    "choropleth": [
                      {
                        "colorbar": {
                          "outlinewidth": 0,
                          "ticks": ""
                        },
                        "type": "choropleth"
                      }
                    ],
                    "contour": [
                      {
                        "colorbar": {
                          "outlinewidth": 0,
                          "ticks": ""
                        },
                        "colorscale": [
                          [
                            0,
                            "#0d0887"
                          ],
                          [
                            0.1111111111111111,
                            "#46039f"
                          ],
                          [
                            0.2222222222222222,
                            "#7201a8"
                          ],
                          [
                            0.3333333333333333,
                            "#9c179e"
                          ],
                          [
                            0.4444444444444444,
                            "#bd3786"
                          ],
                          [
                            0.5555555555555556,
                            "#d8576b"
                          ],
                          [
                            0.6666666666666666,
                            "#ed7953"
                          ],
                          [
                            0.7777777777777778,
                            "#fb9f3a"
                          ],
                          [
                            0.8888888888888888,
                            "#fdca26"
                          ],
                          [
                            1,
                            "#f0f921"
                          ]
                        ],
                        "type": "contour"
                      }
                    ],
                    "contourcarpet": [
                      {
                        "colorbar": {
                          "outlinewidth": 0,
                          "ticks": ""
                        },
                        "type": "contourcarpet"
                      }
                    ],
                    "heatmap": [
                      {
                        "colorbar": {
                          "outlinewidth": 0,
                          "ticks": ""
                        },
                        "colorscale": [
                          [
                            0,
                            "#0d0887"
                          ],
                          [
                            0.1111111111111111,
                            "#46039f"
                          ],
                          [
                            0.2222222222222222,
                            "#7201a8"
                          ],
                          [
                            0.3333333333333333,
                            "#9c179e"
                          ],
                          [
                            0.4444444444444444,
                            "#bd3786"
                          ],
                          [
                            0.5555555555555556,
                            "#d8576b"
                          ],
                          [
                            0.6666666666666666,
                            "#ed7953"
                          ],
                          [
                            0.7777777777777778,
                            "#fb9f3a"
                          ],
                          [
                            0.8888888888888888,
                            "#fdca26"
                          ],
                          [
                            1,
                            "#f0f921"
                          ]
                        ],
                        "type": "heatmap"
                      }
                    ],
                    "histogram": [
                      {
                        "marker": {
                          "pattern": {
                            "fillmode": "overlay",
                            "size": 10,
                            "solidity": 0.2
                          }
                        },
                        "type": "histogram"
                      }
                    ],
                    "histogram2d": [
                      {
                        "colorbar": {
                          "outlinewidth": 0,
                          "ticks": ""
                        },
                        "colorscale": [
                          [
                            0,
                            "#0d0887"
                          ],
                          [
                            0.1111111111111111,
                            "#46039f"
                          ],
                          [
                            0.2222222222222222,
                            "#7201a8"
                          ],
                          [
                            0.3333333333333333,
                            "#9c179e"
                          ],
                          [
                            0.4444444444444444,
                            "#bd3786"
                          ],
                          [
                            0.5555555555555556,
                            "#d8576b"
                          ],
                          [
                            0.6666666666666666,
                            "#ed7953"
                          ],
                          [
                            0.7777777777777778,
                            "#fb9f3a"
                          ],
                          [
                            0.8888888888888888,
                            "#fdca26"
                          ],
                          [
                            1,
                            "#f0f921"
                          ]
                        ],
                        "type": "histogram2d"
                      }
                    ],
                    "histogram2dcontour": [
                      {
                        "colorbar": {
                          "outlinewidth": 0,
                          "ticks": ""
                        },
                        "colorscale": [
                          [
                            0,
                            "#0d0887"
                          ],
                          [
                            0.1111111111111111,
                            "#46039f"
                          ],
                          [
                            0.2222222222222222,
                            "#7201a8"
                          ],
                          [
                            0.3333333333333333,
                            "#9c179e"
                          ],
                          [
                            0.4444444444444444,
                            "#bd3786"
                          ],
                          [
                            0.5555555555555556,
                            "#d8576b"
                          ],
                          [
                            0.6666666666666666,
                            "#ed7953"
                          ],
                          [
                            0.7777777777777778,
                            "#fb9f3a"
                          ],
                          [
                            0.8888888888888888,
                            "#fdca26"
                          ],
                          [
                            1,
                            "#f0f921"
                          ]
                        ],
                        "type": "histogram2dcontour"
                      }
                    ],
                    "mesh3d": [
                      {
                        "colorbar": {
                          "outlinewidth": 0,
                          "ticks": ""
                        },
                        "type": "mesh3d"
                      }
                    ],
                    "parcoords": [
                      {
                        "line": {
                          "colorbar": {
                            "outlinewidth": 0,
                            "ticks": ""
                          }
                        },
                        "type": "parcoords"
                      }
                    ],
                    "pie": [
                      {
                        "automargin": true,
                        "type": "pie"
                      }
                    ],
                    "scatter": [
                      {
                        "fillpattern": {
                          "fillmode": "overlay",
                          "size": 10,
                          "solidity": 0.2
                        },
                        "type": "scatter"
                      }
                    ],
                    "scatter3d": [
                      {
                        "line": {
                          "colorbar": {
                            "outlinewidth": 0,
                            "ticks": ""
                          }
                        },
                        "marker": {
                          "colorbar": {
                            "outlinewidth": 0,
                            "ticks": ""
                          }
                        },
                        "type": "scatter3d"
                      }
                    ],
                    "scattercarpet": [
                      {
                        "marker": {
                          "colorbar": {
                            "outlinewidth": 0,
                            "ticks": ""
                          }
                        },
                        "type": "scattercarpet"
                      }
                    ],
                    "scattergeo": [
                      {
                        "marker": {
                          "colorbar": {
                            "outlinewidth": 0,
                            "ticks": ""
                          }
                        },
                        "type": "scattergeo"
                      }
                    ],
                    "scattergl": [
                      {
                        "marker": {
                          "colorbar": {
                            "outlinewidth": 0,
                            "ticks": ""
                          }
                        },
                        "type": "scattergl"
                      }
                    ],
                    "scattermap": [
                      {
                        "marker": {
                          "colorbar": {
                            "outlinewidth": 0,
                            "ticks": ""
                          }
                        },
                        "type": "scattermap"
                      }
                    ],
                    "scattermapbox": [
                      {
                        "marker": {
                          "colorbar": {
                            "outlinewidth": 0,
                            "ticks": ""
                          }
                        },
                        "type": "scattermapbox"
                      }
                    ],
                    "scatterpolar": [
                      {
                        "marker": {
                          "colorbar": {
                            "outlinewidth": 0,
                            "ticks": ""
                          }
                        },
                        "type": "scatterpolar"
                      }
                    ],
                    "scatterpolargl": [
                      {
                        "marker": {
                          "colorbar": {
                            "outlinewidth": 0,
                            "ticks": ""
                          }
                        },
                        "type": "scatterpolargl"
                      }
                    ],
                    "scatterternary": [
                      {
                        "marker": {
                          "colorbar": {
                            "outlinewidth": 0,
                            "ticks": ""
                          }
                        },
                        "type": "scatterternary"
                      }
                    ],
                    "surface": [
                      {
                        "colorbar": {
                          "outlinewidth": 0,
                          "ticks": ""
                        },
                        "colorscale": [
                          [
                            0,
                            "#0d0887"
                          ],
                          [
                            0.1111111111111111,
                            "#46039f"
                          ],
                          [
                            0.2222222222222222,
                            "#7201a8"
                          ],
                          [
                            0.3333333333333333,
                            "#9c179e"
                          ],
                          [
                            0.4444444444444444,
                            "#bd3786"
                          ],
                          [
                            0.5555555555555556,
                            "#d8576b"
                          ],
                          [
                            0.6666666666666666,
                            "#ed7953"
                          ],
                          [
                            0.7777777777777778,
                            "#fb9f3a"
                          ],
                          [
                            0.8888888888888888,
                            "#fdca26"
                          ],
                          [
                            1,
                            "#f0f921"
                          ]
                        ],
                        "type": "surface"
                      }
                    ],
                    "table": [
                      {
                        "cells": {
                          "fill": {
                            "color": "#EBF0F8"
                          },
                          "line": {
                            "color": "white"
                          }
                        },
                        "header": {
                          "fill": {
                            "color": "#C8D4E3"
                          },
                          "line": {
                            "color": "white"
                          }
                        },
                        "type": "table"
                      }
                    ]
                  },
                  "layout": {
                    "annotationdefaults": {
                      "arrowcolor": "#2a3f5f",
                      "arrowhead": 0,
                      "arrowwidth": 1
                    },
                    "autotypenumbers": "strict",
                    "coloraxis": {
                      "colorbar": {
                        "outlinewidth": 0,
                        "ticks": ""
                      }
                    },
                    "colorscale": {
                      "diverging": [
                        [
                          0,
                          "#8e0152"
                        ],
                        [
                          0.1,
                          "#c51b7d"
                        ],
                        [
                          0.2,
                          "#de77ae"
                        ],
                        [
                          0.3,
                          "#f1b6da"
                        ],
                        [
                          0.4,
                          "#fde0ef"
                        ],
                        [
                          0.5,
                          "#f7f7f7"
                        ],
                        [
                          0.6,
                          "#e6f5d0"
                        ],
                        [
                          0.7,
                          "#b8e186"
                        ],
                        [
                          0.8,
                          "#7fbc41"
                        ],
                        [
                          0.9,
                          "#4d9221"
                        ],
                        [
                          1,
                          "#276419"
                        ]
                      ],
                      "sequential": [
                        [
                          0,
                          "#0d0887"
                        ],
                        [
                          0.1111111111111111,
                          "#46039f"
                        ],
                        [
                          0.2222222222222222,
                          "#7201a8"
                        ],
                        [
                          0.3333333333333333,
                          "#9c179e"
                        ],
                        [
                          0.4444444444444444,
                          "#bd3786"
                        ],
                        [
                          0.5555555555555556,
                          "#d8576b"
                        ],
                        [
                          0.6666666666666666,
                          "#ed7953"
                        ],
                        [
                          0.7777777777777778,
                          "#fb9f3a"
                        ],
                        [
                          0.8888888888888888,
                          "#fdca26"
                        ],
                        [
                          1,
                          "#f0f921"
                        ]
                      ],
                      "sequentialminus": [
                        [
                          0,
                          "#0d0887"
                        ],
                        [
                          0.1111111111111111,
                          "#46039f"
                        ],
                        [
                          0.2222222222222222,
                          "#7201a8"
                        ],
                        [
                          0.3333333333333333,
                          "#9c179e"
                        ],
                        [
                          0.4444444444444444,
                          "#bd3786"
                        ],
                        [
                          0.5555555555555556,
                          "#d8576b"
                        ],
                        [
                          0.6666666666666666,
                          "#ed7953"
                        ],
                        [
                          0.7777777777777778,
                          "#fb9f3a"
                        ],
                        [
                          0.8888888888888888,
                          "#fdca26"
                        ],
                        [
                          1,
                          "#f0f921"
                        ]
                      ]
                    },
                    "colorway": [
                      "#636efa",
                      "#EF553B",
                      "#00cc96",
                      "#ab63fa",
                      "#FFA15A",
                      "#19d3f3",
                      "#FF6692",
                      "#B6E880",
                      "#FF97FF",
                      "#FECB52"
                    ],
                    "font": {
                      "color": "#2a3f5f"
                    },
                    "geo": {
                      "bgcolor": "white",
                      "lakecolor": "white",
                      "landcolor": "#E5ECF6",
                      "showlakes": true,
                      "showland": true,
                      "subunitcolor": "white"
                    },
                    "hoverlabel": {
                      "align": "left"
                    },
                    "hovermode": "closest",
                    "mapbox": {
                      "style": "light"
                    },
                    "paper_bgcolor": "white",
                    "plot_bgcolor": "#E5ECF6",
                    "polar": {
                      "angularaxis": {
                        "gridcolor": "white",
                        "linecolor": "white",
                        "ticks": ""
                      },
                      "bgcolor": "#E5ECF6",
                      "radialaxis": {
                        "gridcolor": "white",
                        "linecolor": "white",
                        "ticks": ""
                      }
                    },
                    "scene": {
                      "xaxis": {
                        "backgroundcolor": "#E5ECF6",
                        "gridcolor": "white",
                        "gridwidth": 2,
                        "linecolor": "white",
                        "showbackground": true,
                        "ticks": "",
                        "zerolinecolor": "white"
                      },
                      "yaxis": {
                        "backgroundcolor": "#E5ECF6",
                        "gridcolor": "white",
                        "gridwidth": 2,
                        "linecolor": "white",
                        "showbackground": true,
                        "ticks": "",
                        "zerolinecolor": "white"
                      },
                      "zaxis": {
                        "backgroundcolor": "#E5ECF6",
                        "gridcolor": "white",
                        "gridwidth": 2,
                        "linecolor": "white",
                        "showbackground": true,
                        "ticks": "",
                        "zerolinecolor": "white"
                      }
                    },
                    "shapedefaults": {
                      "line": {
                        "color": "#2a3f5f"
                      }
                    },
                    "ternary": {
                      "aaxis": {
                        "gridcolor": "white",
                        "linecolor": "white",
                        "ticks": ""
                      },
                      "baxis": {
                        "gridcolor": "white",
                        "linecolor": "white",
                        "ticks": ""
                      },
                      "bgcolor": "#E5ECF6",
                      "caxis": {
                        "gridcolor": "white",
                        "linecolor": "white",
                        "ticks": ""
                      }
                    },
                    "title": {
                      "x": 0.05
                    },
                    "xaxis": {
                      "automargin": true,
                      "gridcolor": "white",
                      "linecolor": "white",
                      "ticks": "",
                      "title": {
                        "standoff": 15
                      },
                      "zerolinecolor": "white",
                      "zerolinewidth": 2
                    },
                    "yaxis": {
                      "automargin": true,
                      "gridcolor": "white",
                      "linecolor": "white",
                      "ticks": "",
                      "title": {
                        "standoff": 15
                      },
                      "zerolinecolor": "white",
                      "zerolinewidth": 2
                    }
                  }
                },
                "xaxis": {
                  "anchor": "y",
                  "constrain": "domain",
                  "domain": [
                    0,
                    1
                  ],
                  "scaleanchor": "y"
                },
                "yaxis": {
                  "anchor": "x",
                  "autorange": "reversed",
                  "constrain": "domain",
                  "domain": [
                    0,
                    1
                  ]
                }
              }
            }
          },
          "metadata": {},
          "output_type": "display_data"
        }
      ],
      "source": [
        "mat = confusion_matrix(worst_predictions_train[\"True_Label\"], worst_predictions_train[\"Predicted\"])\n",
        "\n",
        "labels = df_spam[\"label_text\"].unique()\n",
        "df_mat = pd.DataFrame(mat, index=labels, columns=labels)\n",
        "\n",
        "px.imshow(df_mat, text_auto=True)"
      ]
    },
    {
      "cell_type": "markdown",
      "id": "b916e7f1",
      "metadata": {},
      "source": [
        "Analyse des pires prédictions sur le set de validation"
      ]
    },
    {
      "cell_type": "code",
      "execution_count": 54,
      "id": "c18cf192",
      "metadata": {
        "colab": {
          "base_uri": "https://localhost:8080/",
          "height": 363
        },
        "id": "c18cf192",
        "outputId": "54920196-5602-4225-e847-215739223dd7"
      },
      "outputs": [
        {
          "data": {
            "text/html": [
              "<div>\n",
              "<style scoped>\n",
              "    .dataframe tbody tr th:only-of-type {\n",
              "        vertical-align: middle;\n",
              "    }\n",
              "\n",
              "    .dataframe tbody tr th {\n",
              "        vertical-align: top;\n",
              "    }\n",
              "\n",
              "    .dataframe thead th {\n",
              "        text-align: right;\n",
              "    }\n",
              "</style>\n",
              "<table border=\"1\" class=\"dataframe\">\n",
              "  <thead>\n",
              "    <tr style=\"text-align: right;\">\n",
              "      <th></th>\n",
              "      <th>True_Label</th>\n",
              "      <th>Predicted</th>\n",
              "      <th>Error</th>\n",
              "      <th>Inputs</th>\n",
              "      <th>Text</th>\n",
              "    </tr>\n",
              "  </thead>\n",
              "  <tbody>\n",
              "    <tr>\n",
              "      <th>16</th>\n",
              "      <td>1</td>\n",
              "      <td>0</td>\n",
              "      <td>1.0</td>\n",
              "      <td>[14331, 0, 578, 1193, 2035, 304, 6424, 311, 34...</td>\n",
              "      <td>YES! The only place in town to meet exciting a...</td>\n",
              "    </tr>\n",
              "    <tr>\n",
              "      <th>1109</th>\n",
              "      <td>1</td>\n",
              "      <td>0</td>\n",
              "      <td>1.0</td>\n",
              "      <td>[52938, 0, 11361, 311, 264, 1695, 4333, 549, 6...</td>\n",
              "      <td>Congratulations! Thanks to a good friend U hav...</td>\n",
              "    </tr>\n",
              "    <tr>\n",
              "      <th>1112</th>\n",
              "      <td>1</td>\n",
              "      <td>0</td>\n",
              "      <td>1.0</td>\n",
              "      <td>[8140, 6883, 502, 6505, 4731, 2532, 374, 1457,...</td>\n",
              "      <td>Our brand new mobile music service is now live...</td>\n",
              "    </tr>\n",
              "    <tr>\n",
              "      <th>1113</th>\n",
              "      <td>1</td>\n",
              "      <td>0</td>\n",
              "      <td>1.0</td>\n",
              "      <td>[1539, 38, 1863, 0, 1226, 527, 4560, 311, 3729...</td>\n",
              "      <td>URGENT! We are trying to contact U. Todays dra...</td>\n",
              "    </tr>\n",
              "    <tr>\n",
              "      <th>10</th>\n",
              "      <td>1</td>\n",
              "      <td>0</td>\n",
              "      <td>1.0</td>\n",
              "      <td>[83676, 13716, 7199, 279, 4033, 29950, 29490, ...</td>\n",
              "      <td>Marvel Mobile Play the official Ultimate Spide...</td>\n",
              "    </tr>\n",
              "    <tr>\n",
              "      <th>1069</th>\n",
              "      <td>1</td>\n",
              "      <td>0</td>\n",
              "      <td>1.0</td>\n",
              "      <td>[11180, 4441, 304, 220, 17, 264, 17496, 1391, ...</td>\n",
              "      <td>Free entry in 2 a weekly comp for a chance to ...</td>\n",
              "    </tr>\n",
              "    <tr>\n",
              "      <th>1072</th>\n",
              "      <td>1</td>\n",
              "      <td>0</td>\n",
              "      <td>1.0</td>\n",
              "      <td>[36286, 6082, 5742, 25, 220, 25665, 20617, 19,...</td>\n",
              "      <td>Promotion Number: 8714714 - UR awarded a City ...</td>\n",
              "    </tr>\n",
              "    <tr>\n",
              "      <th>42</th>\n",
              "      <td>1</td>\n",
              "      <td>0</td>\n",
              "      <td>1.0</td>\n",
              "      <td>[33246, 1193, 0, 24805, 701, 6505, 220, 806, 7...</td>\n",
              "      <td>December only! Had your mobile 11mths+? You ar...</td>\n",
              "    </tr>\n",
              "    <tr>\n",
              "      <th>1087</th>\n",
              "      <td>1</td>\n",
              "      <td>0</td>\n",
              "      <td>1.0</td>\n",
              "      <td>[21221, 2137, 220, 23103, 1758, 28, 3870, 2238...</td>\n",
              "      <td>83039 62735=å£450 UK Break AccommodationVouche...</td>\n",
              "    </tr>\n",
              "    <tr>\n",
              "      <th>1089</th>\n",
              "      <td>1</td>\n",
              "      <td>0</td>\n",
              "      <td>1.0</td>\n",
              "      <td>[5618, 1650, 1057, 6130, 2532, 18740, 389, 220...</td>\n",
              "      <td>Please call our customer service representativ...</td>\n",
              "    </tr>\n",
              "  </tbody>\n",
              "</table>\n",
              "</div>"
            ],
            "text/plain": [
              "      True_Label  Predicted  Error  \\\n",
              "16             1          0    1.0   \n",
              "1109           1          0    1.0   \n",
              "1112           1          0    1.0   \n",
              "1113           1          0    1.0   \n",
              "10             1          0    1.0   \n",
              "1069           1          0    1.0   \n",
              "1072           1          0    1.0   \n",
              "42             1          0    1.0   \n",
              "1087           1          0    1.0   \n",
              "1089           1          0    1.0   \n",
              "\n",
              "                                                 Inputs  \\\n",
              "16    [14331, 0, 578, 1193, 2035, 304, 6424, 311, 34...   \n",
              "1109  [52938, 0, 11361, 311, 264, 1695, 4333, 549, 6...   \n",
              "1112  [8140, 6883, 502, 6505, 4731, 2532, 374, 1457,...   \n",
              "1113  [1539, 38, 1863, 0, 1226, 527, 4560, 311, 3729...   \n",
              "10    [83676, 13716, 7199, 279, 4033, 29950, 29490, ...   \n",
              "1069  [11180, 4441, 304, 220, 17, 264, 17496, 1391, ...   \n",
              "1072  [36286, 6082, 5742, 25, 220, 25665, 20617, 19,...   \n",
              "42    [33246, 1193, 0, 24805, 701, 6505, 220, 806, 7...   \n",
              "1087  [21221, 2137, 220, 23103, 1758, 28, 3870, 2238...   \n",
              "1089  [5618, 1650, 1057, 6130, 2532, 18740, 389, 220...   \n",
              "\n",
              "                                                   Text  \n",
              "16    YES! The only place in town to meet exciting a...  \n",
              "1109  Congratulations! Thanks to a good friend U hav...  \n",
              "1112  Our brand new mobile music service is now live...  \n",
              "1113  URGENT! We are trying to contact U. Todays dra...  \n",
              "10    Marvel Mobile Play the official Ultimate Spide...  \n",
              "1069  Free entry in 2 a weekly comp for a chance to ...  \n",
              "1072  Promotion Number: 8714714 - UR awarded a City ...  \n",
              "42    December only! Had your mobile 11mths+? You ar...  \n",
              "1087  83039 62735=å£450 UK Break AccommodationVouche...  \n",
              "1089  Please call our customer service representativ...  "
            ]
          },
          "execution_count": 54,
          "metadata": {},
          "output_type": "execute_result"
        }
      ],
      "source": [
        "worst_predictions_val.head(10)"
      ]
    },
    {
      "cell_type": "markdown",
      "id": "a69c9c8b",
      "metadata": {},
      "source": [
        "classification report"
      ]
    },
    {
      "cell_type": "code",
      "execution_count": 55,
      "id": "cc302be6",
      "metadata": {
        "colab": {
          "base_uri": "https://localhost:8080/"
        },
        "id": "cc302be6",
        "outputId": "4669f4d4-5fd4-4229-e821-38eb429d1ae8"
      },
      "outputs": [
        {
          "name": "stdout",
          "output_type": "stream",
          "text": [
            "              precision    recall  f1-score   support\n",
            "\n",
            "           0       0.86      1.00      0.93       961\n",
            "           1       0.00      0.00      0.00       154\n",
            "\n",
            "    accuracy                           0.86      1115\n",
            "   macro avg       0.43      0.50      0.46      1115\n",
            "weighted avg       0.74      0.86      0.80      1115\n",
            "\n"
          ]
        },
        {
          "name": "stderr",
          "output_type": "stream",
          "text": [
            "c:\\__DATA_SCIENCE__\\Anaconda\\envs\\pytorch\\lib\\site-packages\\sklearn\\metrics\\_classification.py:1565: UndefinedMetricWarning:\n",
            "\n",
            "Precision is ill-defined and being set to 0.0 in labels with no predicted samples. Use `zero_division` parameter to control this behavior.\n",
            "\n",
            "c:\\__DATA_SCIENCE__\\Anaconda\\envs\\pytorch\\lib\\site-packages\\sklearn\\metrics\\_classification.py:1565: UndefinedMetricWarning:\n",
            "\n",
            "Precision is ill-defined and being set to 0.0 in labels with no predicted samples. Use `zero_division` parameter to control this behavior.\n",
            "\n",
            "c:\\__DATA_SCIENCE__\\Anaconda\\envs\\pytorch\\lib\\site-packages\\sklearn\\metrics\\_classification.py:1565: UndefinedMetricWarning:\n",
            "\n",
            "Precision is ill-defined and being set to 0.0 in labels with no predicted samples. Use `zero_division` parameter to control this behavior.\n",
            "\n"
          ]
        }
      ],
      "source": [
        "print(classification_report(worst_predictions_val[\"True_Label\"], worst_predictions_val[\"Predicted\"]))"
      ]
    },
    {
      "cell_type": "markdown",
      "id": "78a84d0e",
      "metadata": {},
      "source": [
        "Matrice de confusion"
      ]
    },
    {
      "cell_type": "code",
      "execution_count": 57,
      "id": "461f64fb",
      "metadata": {
        "colab": {
          "base_uri": "https://localhost:8080/",
          "height": 542
        },
        "id": "461f64fb",
        "outputId": "2c2f1ca7-2e69-47a6-b49e-32d0c626b842"
      },
      "outputs": [
        {
          "data": {
            "application/vnd.plotly.v1+json": {
              "config": {
                "plotlyServerURL": "https://plot.ly"
              },
              "data": [
                {
                  "coloraxis": "coloraxis",
                  "hovertemplate": "x: %{x}<br>y: %{y}<br>color: %{z}<extra></extra>",
                  "name": "0",
                  "texttemplate": "%{z}",
                  "type": "heatmap",
                  "x": [
                    "ham",
                    "spam"
                  ],
                  "xaxis": "x",
                  "y": [
                    "ham",
                    "spam"
                  ],
                  "yaxis": "y",
                  "z": {
                    "bdata": "wQMAAJoAAAA=",
                    "dtype": "i2",
                    "shape": "2, 2"
                  }
                }
              ],
              "layout": {
                "coloraxis": {
                  "colorscale": [
                    [
                      0,
                      "#0d0887"
                    ],
                    [
                      0.1111111111111111,
                      "#46039f"
                    ],
                    [
                      0.2222222222222222,
                      "#7201a8"
                    ],
                    [
                      0.3333333333333333,
                      "#9c179e"
                    ],
                    [
                      0.4444444444444444,
                      "#bd3786"
                    ],
                    [
                      0.5555555555555556,
                      "#d8576b"
                    ],
                    [
                      0.6666666666666666,
                      "#ed7953"
                    ],
                    [
                      0.7777777777777778,
                      "#fb9f3a"
                    ],
                    [
                      0.8888888888888888,
                      "#fdca26"
                    ],
                    [
                      1,
                      "#f0f921"
                    ]
                  ]
                },
                "margin": {
                  "t": 60
                },
                "template": {
                  "data": {
                    "bar": [
                      {
                        "error_x": {
                          "color": "#2a3f5f"
                        },
                        "error_y": {
                          "color": "#2a3f5f"
                        },
                        "marker": {
                          "line": {
                            "color": "#E5ECF6",
                            "width": 0.5
                          },
                          "pattern": {
                            "fillmode": "overlay",
                            "size": 10,
                            "solidity": 0.2
                          }
                        },
                        "type": "bar"
                      }
                    ],
                    "barpolar": [
                      {
                        "marker": {
                          "line": {
                            "color": "#E5ECF6",
                            "width": 0.5
                          },
                          "pattern": {
                            "fillmode": "overlay",
                            "size": 10,
                            "solidity": 0.2
                          }
                        },
                        "type": "barpolar"
                      }
                    ],
                    "carpet": [
                      {
                        "aaxis": {
                          "endlinecolor": "#2a3f5f",
                          "gridcolor": "white",
                          "linecolor": "white",
                          "minorgridcolor": "white",
                          "startlinecolor": "#2a3f5f"
                        },
                        "baxis": {
                          "endlinecolor": "#2a3f5f",
                          "gridcolor": "white",
                          "linecolor": "white",
                          "minorgridcolor": "white",
                          "startlinecolor": "#2a3f5f"
                        },
                        "type": "carpet"
                      }
                    ],
                    "choropleth": [
                      {
                        "colorbar": {
                          "outlinewidth": 0,
                          "ticks": ""
                        },
                        "type": "choropleth"
                      }
                    ],
                    "contour": [
                      {
                        "colorbar": {
                          "outlinewidth": 0,
                          "ticks": ""
                        },
                        "colorscale": [
                          [
                            0,
                            "#0d0887"
                          ],
                          [
                            0.1111111111111111,
                            "#46039f"
                          ],
                          [
                            0.2222222222222222,
                            "#7201a8"
                          ],
                          [
                            0.3333333333333333,
                            "#9c179e"
                          ],
                          [
                            0.4444444444444444,
                            "#bd3786"
                          ],
                          [
                            0.5555555555555556,
                            "#d8576b"
                          ],
                          [
                            0.6666666666666666,
                            "#ed7953"
                          ],
                          [
                            0.7777777777777778,
                            "#fb9f3a"
                          ],
                          [
                            0.8888888888888888,
                            "#fdca26"
                          ],
                          [
                            1,
                            "#f0f921"
                          ]
                        ],
                        "type": "contour"
                      }
                    ],
                    "contourcarpet": [
                      {
                        "colorbar": {
                          "outlinewidth": 0,
                          "ticks": ""
                        },
                        "type": "contourcarpet"
                      }
                    ],
                    "heatmap": [
                      {
                        "colorbar": {
                          "outlinewidth": 0,
                          "ticks": ""
                        },
                        "colorscale": [
                          [
                            0,
                            "#0d0887"
                          ],
                          [
                            0.1111111111111111,
                            "#46039f"
                          ],
                          [
                            0.2222222222222222,
                            "#7201a8"
                          ],
                          [
                            0.3333333333333333,
                            "#9c179e"
                          ],
                          [
                            0.4444444444444444,
                            "#bd3786"
                          ],
                          [
                            0.5555555555555556,
                            "#d8576b"
                          ],
                          [
                            0.6666666666666666,
                            "#ed7953"
                          ],
                          [
                            0.7777777777777778,
                            "#fb9f3a"
                          ],
                          [
                            0.8888888888888888,
                            "#fdca26"
                          ],
                          [
                            1,
                            "#f0f921"
                          ]
                        ],
                        "type": "heatmap"
                      }
                    ],
                    "histogram": [
                      {
                        "marker": {
                          "pattern": {
                            "fillmode": "overlay",
                            "size": 10,
                            "solidity": 0.2
                          }
                        },
                        "type": "histogram"
                      }
                    ],
                    "histogram2d": [
                      {
                        "colorbar": {
                          "outlinewidth": 0,
                          "ticks": ""
                        },
                        "colorscale": [
                          [
                            0,
                            "#0d0887"
                          ],
                          [
                            0.1111111111111111,
                            "#46039f"
                          ],
                          [
                            0.2222222222222222,
                            "#7201a8"
                          ],
                          [
                            0.3333333333333333,
                            "#9c179e"
                          ],
                          [
                            0.4444444444444444,
                            "#bd3786"
                          ],
                          [
                            0.5555555555555556,
                            "#d8576b"
                          ],
                          [
                            0.6666666666666666,
                            "#ed7953"
                          ],
                          [
                            0.7777777777777778,
                            "#fb9f3a"
                          ],
                          [
                            0.8888888888888888,
                            "#fdca26"
                          ],
                          [
                            1,
                            "#f0f921"
                          ]
                        ],
                        "type": "histogram2d"
                      }
                    ],
                    "histogram2dcontour": [
                      {
                        "colorbar": {
                          "outlinewidth": 0,
                          "ticks": ""
                        },
                        "colorscale": [
                          [
                            0,
                            "#0d0887"
                          ],
                          [
                            0.1111111111111111,
                            "#46039f"
                          ],
                          [
                            0.2222222222222222,
                            "#7201a8"
                          ],
                          [
                            0.3333333333333333,
                            "#9c179e"
                          ],
                          [
                            0.4444444444444444,
                            "#bd3786"
                          ],
                          [
                            0.5555555555555556,
                            "#d8576b"
                          ],
                          [
                            0.6666666666666666,
                            "#ed7953"
                          ],
                          [
                            0.7777777777777778,
                            "#fb9f3a"
                          ],
                          [
                            0.8888888888888888,
                            "#fdca26"
                          ],
                          [
                            1,
                            "#f0f921"
                          ]
                        ],
                        "type": "histogram2dcontour"
                      }
                    ],
                    "mesh3d": [
                      {
                        "colorbar": {
                          "outlinewidth": 0,
                          "ticks": ""
                        },
                        "type": "mesh3d"
                      }
                    ],
                    "parcoords": [
                      {
                        "line": {
                          "colorbar": {
                            "outlinewidth": 0,
                            "ticks": ""
                          }
                        },
                        "type": "parcoords"
                      }
                    ],
                    "pie": [
                      {
                        "automargin": true,
                        "type": "pie"
                      }
                    ],
                    "scatter": [
                      {
                        "fillpattern": {
                          "fillmode": "overlay",
                          "size": 10,
                          "solidity": 0.2
                        },
                        "type": "scatter"
                      }
                    ],
                    "scatter3d": [
                      {
                        "line": {
                          "colorbar": {
                            "outlinewidth": 0,
                            "ticks": ""
                          }
                        },
                        "marker": {
                          "colorbar": {
                            "outlinewidth": 0,
                            "ticks": ""
                          }
                        },
                        "type": "scatter3d"
                      }
                    ],
                    "scattercarpet": [
                      {
                        "marker": {
                          "colorbar": {
                            "outlinewidth": 0,
                            "ticks": ""
                          }
                        },
                        "type": "scattercarpet"
                      }
                    ],
                    "scattergeo": [
                      {
                        "marker": {
                          "colorbar": {
                            "outlinewidth": 0,
                            "ticks": ""
                          }
                        },
                        "type": "scattergeo"
                      }
                    ],
                    "scattergl": [
                      {
                        "marker": {
                          "colorbar": {
                            "outlinewidth": 0,
                            "ticks": ""
                          }
                        },
                        "type": "scattergl"
                      }
                    ],
                    "scattermap": [
                      {
                        "marker": {
                          "colorbar": {
                            "outlinewidth": 0,
                            "ticks": ""
                          }
                        },
                        "type": "scattermap"
                      }
                    ],
                    "scattermapbox": [
                      {
                        "marker": {
                          "colorbar": {
                            "outlinewidth": 0,
                            "ticks": ""
                          }
                        },
                        "type": "scattermapbox"
                      }
                    ],
                    "scatterpolar": [
                      {
                        "marker": {
                          "colorbar": {
                            "outlinewidth": 0,
                            "ticks": ""
                          }
                        },
                        "type": "scatterpolar"
                      }
                    ],
                    "scatterpolargl": [
                      {
                        "marker": {
                          "colorbar": {
                            "outlinewidth": 0,
                            "ticks": ""
                          }
                        },
                        "type": "scatterpolargl"
                      }
                    ],
                    "scatterternary": [
                      {
                        "marker": {
                          "colorbar": {
                            "outlinewidth": 0,
                            "ticks": ""
                          }
                        },
                        "type": "scatterternary"
                      }
                    ],
                    "surface": [
                      {
                        "colorbar": {
                          "outlinewidth": 0,
                          "ticks": ""
                        },
                        "colorscale": [
                          [
                            0,
                            "#0d0887"
                          ],
                          [
                            0.1111111111111111,
                            "#46039f"
                          ],
                          [
                            0.2222222222222222,
                            "#7201a8"
                          ],
                          [
                            0.3333333333333333,
                            "#9c179e"
                          ],
                          [
                            0.4444444444444444,
                            "#bd3786"
                          ],
                          [
                            0.5555555555555556,
                            "#d8576b"
                          ],
                          [
                            0.6666666666666666,
                            "#ed7953"
                          ],
                          [
                            0.7777777777777778,
                            "#fb9f3a"
                          ],
                          [
                            0.8888888888888888,
                            "#fdca26"
                          ],
                          [
                            1,
                            "#f0f921"
                          ]
                        ],
                        "type": "surface"
                      }
                    ],
                    "table": [
                      {
                        "cells": {
                          "fill": {
                            "color": "#EBF0F8"
                          },
                          "line": {
                            "color": "white"
                          }
                        },
                        "header": {
                          "fill": {
                            "color": "#C8D4E3"
                          },
                          "line": {
                            "color": "white"
                          }
                        },
                        "type": "table"
                      }
                    ]
                  },
                  "layout": {
                    "annotationdefaults": {
                      "arrowcolor": "#2a3f5f",
                      "arrowhead": 0,
                      "arrowwidth": 1
                    },
                    "autotypenumbers": "strict",
                    "coloraxis": {
                      "colorbar": {
                        "outlinewidth": 0,
                        "ticks": ""
                      }
                    },
                    "colorscale": {
                      "diverging": [
                        [
                          0,
                          "#8e0152"
                        ],
                        [
                          0.1,
                          "#c51b7d"
                        ],
                        [
                          0.2,
                          "#de77ae"
                        ],
                        [
                          0.3,
                          "#f1b6da"
                        ],
                        [
                          0.4,
                          "#fde0ef"
                        ],
                        [
                          0.5,
                          "#f7f7f7"
                        ],
                        [
                          0.6,
                          "#e6f5d0"
                        ],
                        [
                          0.7,
                          "#b8e186"
                        ],
                        [
                          0.8,
                          "#7fbc41"
                        ],
                        [
                          0.9,
                          "#4d9221"
                        ],
                        [
                          1,
                          "#276419"
                        ]
                      ],
                      "sequential": [
                        [
                          0,
                          "#0d0887"
                        ],
                        [
                          0.1111111111111111,
                          "#46039f"
                        ],
                        [
                          0.2222222222222222,
                          "#7201a8"
                        ],
                        [
                          0.3333333333333333,
                          "#9c179e"
                        ],
                        [
                          0.4444444444444444,
                          "#bd3786"
                        ],
                        [
                          0.5555555555555556,
                          "#d8576b"
                        ],
                        [
                          0.6666666666666666,
                          "#ed7953"
                        ],
                        [
                          0.7777777777777778,
                          "#fb9f3a"
                        ],
                        [
                          0.8888888888888888,
                          "#fdca26"
                        ],
                        [
                          1,
                          "#f0f921"
                        ]
                      ],
                      "sequentialminus": [
                        [
                          0,
                          "#0d0887"
                        ],
                        [
                          0.1111111111111111,
                          "#46039f"
                        ],
                        [
                          0.2222222222222222,
                          "#7201a8"
                        ],
                        [
                          0.3333333333333333,
                          "#9c179e"
                        ],
                        [
                          0.4444444444444444,
                          "#bd3786"
                        ],
                        [
                          0.5555555555555556,
                          "#d8576b"
                        ],
                        [
                          0.6666666666666666,
                          "#ed7953"
                        ],
                        [
                          0.7777777777777778,
                          "#fb9f3a"
                        ],
                        [
                          0.8888888888888888,
                          "#fdca26"
                        ],
                        [
                          1,
                          "#f0f921"
                        ]
                      ]
                    },
                    "colorway": [
                      "#636efa",
                      "#EF553B",
                      "#00cc96",
                      "#ab63fa",
                      "#FFA15A",
                      "#19d3f3",
                      "#FF6692",
                      "#B6E880",
                      "#FF97FF",
                      "#FECB52"
                    ],
                    "font": {
                      "color": "#2a3f5f"
                    },
                    "geo": {
                      "bgcolor": "white",
                      "lakecolor": "white",
                      "landcolor": "#E5ECF6",
                      "showlakes": true,
                      "showland": true,
                      "subunitcolor": "white"
                    },
                    "hoverlabel": {
                      "align": "left"
                    },
                    "hovermode": "closest",
                    "mapbox": {
                      "style": "light"
                    },
                    "paper_bgcolor": "white",
                    "plot_bgcolor": "#E5ECF6",
                    "polar": {
                      "angularaxis": {
                        "gridcolor": "white",
                        "linecolor": "white",
                        "ticks": ""
                      },
                      "bgcolor": "#E5ECF6",
                      "radialaxis": {
                        "gridcolor": "white",
                        "linecolor": "white",
                        "ticks": ""
                      }
                    },
                    "scene": {
                      "xaxis": {
                        "backgroundcolor": "#E5ECF6",
                        "gridcolor": "white",
                        "gridwidth": 2,
                        "linecolor": "white",
                        "showbackground": true,
                        "ticks": "",
                        "zerolinecolor": "white"
                      },
                      "yaxis": {
                        "backgroundcolor": "#E5ECF6",
                        "gridcolor": "white",
                        "gridwidth": 2,
                        "linecolor": "white",
                        "showbackground": true,
                        "ticks": "",
                        "zerolinecolor": "white"
                      },
                      "zaxis": {
                        "backgroundcolor": "#E5ECF6",
                        "gridcolor": "white",
                        "gridwidth": 2,
                        "linecolor": "white",
                        "showbackground": true,
                        "ticks": "",
                        "zerolinecolor": "white"
                      }
                    },
                    "shapedefaults": {
                      "line": {
                        "color": "#2a3f5f"
                      }
                    },
                    "ternary": {
                      "aaxis": {
                        "gridcolor": "white",
                        "linecolor": "white",
                        "ticks": ""
                      },
                      "baxis": {
                        "gridcolor": "white",
                        "linecolor": "white",
                        "ticks": ""
                      },
                      "bgcolor": "#E5ECF6",
                      "caxis": {
                        "gridcolor": "white",
                        "linecolor": "white",
                        "ticks": ""
                      }
                    },
                    "title": {
                      "x": 0.05
                    },
                    "xaxis": {
                      "automargin": true,
                      "gridcolor": "white",
                      "linecolor": "white",
                      "ticks": "",
                      "title": {
                        "standoff": 15
                      },
                      "zerolinecolor": "white",
                      "zerolinewidth": 2
                    },
                    "yaxis": {
                      "automargin": true,
                      "gridcolor": "white",
                      "linecolor": "white",
                      "ticks": "",
                      "title": {
                        "standoff": 15
                      },
                      "zerolinecolor": "white",
                      "zerolinewidth": 2
                    }
                  }
                },
                "xaxis": {
                  "anchor": "y",
                  "constrain": "domain",
                  "domain": [
                    0,
                    1
                  ],
                  "scaleanchor": "y"
                },
                "yaxis": {
                  "anchor": "x",
                  "autorange": "reversed",
                  "constrain": "domain",
                  "domain": [
                    0,
                    1
                  ]
                }
              }
            }
          },
          "metadata": {},
          "output_type": "display_data"
        }
      ],
      "source": [
        "mat = confusion_matrix(worst_predictions_val[\"True_Label\"], worst_predictions_val[\"Predicted\"])\n",
        "\n",
        "labels = df_spam[\"label_text\"].unique()\n",
        "df_mat = pd.DataFrame(mat, index=labels, columns=labels)\n",
        "\n",
        "px.imshow(df_mat, text_auto=True)"
      ]
    },
    {
      "cell_type": "markdown",
      "id": "11c80262",
      "metadata": {},
      "source": [
        "Conclusion :\n",
        "\n",
        "Le modèle n'arrive pas du tout à identifier les spams.\n",
        "\n",
        "Comme vu dés le départ, le Label 1 (Spam) est moins bien représenté dans le dataset, il est donc plus difficile à prédire.\n",
        "\n",
        "Nous allons essayer de nous appuyer sur des modèles pré-existant, plus sophiqtiqués, et basés sur plus d'observations pour voir si la classification ham / spam s'améliore."
      ]
    },
    {
      "cell_type": "markdown",
      "id": "dd7c22bc",
      "metadata": {},
      "source": [
        "---"
      ]
    },
    {
      "cell_type": "markdown",
      "id": "12c1776e",
      "metadata": {
        "id": "12c1776e"
      },
      "source": [
        "## 6. MODEL ZERO-SHOT CLASSIFICATION"
      ]
    },
    {
      "cell_type": "code",
      "execution_count": 58,
      "id": "17c13f64",
      "metadata": {
        "colab": {
          "base_uri": "https://localhost:8080/"
        },
        "id": "17c13f64",
        "outputId": "8e456b6d-0a52-40f6-97b5-450fc226af3f"
      },
      "outputs": [
        {
          "name": "stderr",
          "output_type": "stream",
          "text": [
            "No model was supplied, defaulted to facebook/bart-large-mnli and revision d7645e1 (https://huggingface.co/facebook/bart-large-mnli).\n",
            "Using a pipeline without specifying a model name and revision in production is not recommended.\n",
            "Device set to use cpu\n"
          ]
        }
      ],
      "source": [
        "classifier = pipeline(\"zero-shot-classification\")\n",
        "topics = df_spam[\"label_text\"].unique() # ham et spam\n",
        "\n",
        "pred = [classifier(x, topics) for x in df_spam[\"message\"]]"
      ]
    },
    {
      "cell_type": "code",
      "execution_count": 59,
      "id": "kLouql6MvW2M",
      "metadata": {
        "colab": {
          "base_uri": "https://localhost:8080/",
          "height": 206
        },
        "id": "kLouql6MvW2M",
        "outputId": "636754c7-bbc3-46d2-cafd-4f8defa15f23"
      },
      "outputs": [
        {
          "data": {
            "text/html": [
              "<div>\n",
              "<style scoped>\n",
              "    .dataframe tbody tr th:only-of-type {\n",
              "        vertical-align: middle;\n",
              "    }\n",
              "\n",
              "    .dataframe tbody tr th {\n",
              "        vertical-align: top;\n",
              "    }\n",
              "\n",
              "    .dataframe thead th {\n",
              "        text-align: right;\n",
              "    }\n",
              "</style>\n",
              "<table border=\"1\" class=\"dataframe\">\n",
              "  <thead>\n",
              "    <tr style=\"text-align: right;\">\n",
              "      <th></th>\n",
              "      <th>sequence</th>\n",
              "      <th>label</th>\n",
              "      <th>score</th>\n",
              "    </tr>\n",
              "  </thead>\n",
              "  <tbody>\n",
              "    <tr>\n",
              "      <th>0</th>\n",
              "      <td>Go until jurong point, crazy.. Available only ...</td>\n",
              "      <td>ham</td>\n",
              "      <td>0.658293</td>\n",
              "    </tr>\n",
              "    <tr>\n",
              "      <th>1</th>\n",
              "      <td>Ok lar... Joking wif u oni...</td>\n",
              "      <td>spam</td>\n",
              "      <td>0.522032</td>\n",
              "    </tr>\n",
              "    <tr>\n",
              "      <th>2</th>\n",
              "      <td>Free entry in 2 a wkly comp to win FA Cup fina...</td>\n",
              "      <td>ham</td>\n",
              "      <td>0.665671</td>\n",
              "    </tr>\n",
              "    <tr>\n",
              "      <th>3</th>\n",
              "      <td>U dun say so early hor... U c already then say...</td>\n",
              "      <td>ham</td>\n",
              "      <td>0.503476</td>\n",
              "    </tr>\n",
              "    <tr>\n",
              "      <th>4</th>\n",
              "      <td>Nah I don't think he goes to usf, he lives aro...</td>\n",
              "      <td>ham</td>\n",
              "      <td>0.553272</td>\n",
              "    </tr>\n",
              "  </tbody>\n",
              "</table>\n",
              "</div>"
            ],
            "text/plain": [
              "                                            sequence label     score\n",
              "0  Go until jurong point, crazy.. Available only ...   ham  0.658293\n",
              "1                      Ok lar... Joking wif u oni...  spam  0.522032\n",
              "2  Free entry in 2 a wkly comp to win FA Cup fina...   ham  0.665671\n",
              "3  U dun say so early hor... U c already then say...   ham  0.503476\n",
              "4  Nah I don't think he goes to usf, he lives aro...   ham  0.553272"
            ]
          },
          "execution_count": 59,
          "metadata": {},
          "output_type": "execute_result"
        }
      ],
      "source": [
        "df_zero_shot = pd.DataFrame(pred)\n",
        "\n",
        "# Extraction du label et du score ayant la valeur maximale\n",
        "df_zero_shot[\"label\"] = df_zero_shot.apply(lambda row: row[\"labels\"][row[\"scores\"].index(max(row[\"scores\"]))], axis=1)\n",
        "df_zero_shot[\"score\"] = df_zero_shot.apply(lambda row: max(row[\"scores\"]), axis=1)\n",
        "\n",
        "# On garde uniquement les colonnes pertinentes\n",
        "df_zero_shot = df_zero_shot[[\"sequence\", \"label\", \"score\"]]\n",
        "\n",
        "# Aperçu\n",
        "df_zero_shot.head()"
      ]
    },
    {
      "cell_type": "markdown",
      "id": "adc2bc82",
      "metadata": {},
      "source": [
        "Classification report"
      ]
    },
    {
      "cell_type": "code",
      "execution_count": 60,
      "id": "d21c7dff",
      "metadata": {
        "colab": {
          "base_uri": "https://localhost:8080/"
        },
        "id": "d21c7dff",
        "outputId": "07696158-7ef6-47f8-cb0b-23b46fa433d0"
      },
      "outputs": [
        {
          "name": "stdout",
          "output_type": "stream",
          "text": [
            "              precision    recall  f1-score   support\n",
            "\n",
            "         ham       0.87      0.74      0.80      4825\n",
            "        spam       0.14      0.28      0.19       747\n",
            "\n",
            "    accuracy                           0.68      5572\n",
            "   macro avg       0.51      0.51      0.49      5572\n",
            "weighted avg       0.77      0.68      0.72      5572\n",
            "\n"
          ]
        }
      ],
      "source": [
        "print(classification_report(df_spam[\"label_text\"], df_zero_shot[\"label\"]))"
      ]
    },
    {
      "cell_type": "markdown",
      "id": "23f3c63f",
      "metadata": {},
      "source": [
        "Matrice de confusion"
      ]
    },
    {
      "cell_type": "code",
      "execution_count": null,
      "id": "9eeaf41d",
      "metadata": {
        "colab": {
          "base_uri": "https://localhost:8080/",
          "height": 542
        },
        "id": "9eeaf41d",
        "outputId": "4e279cb7-bace-4613-9e69-cbd7e37fb907"
      },
      "outputs": [
        {
          "data": {
            "application/vnd.plotly.v1+json": {
              "config": {
                "plotlyServerURL": "https://plot.ly"
              },
              "data": [
                {
                  "coloraxis": "coloraxis",
                  "hovertemplate": "x: %{x}<br>y: %{y}<br>color: %{z}<extra></extra>",
                  "name": "0",
                  "texttemplate": "%{z}",
                  "type": "heatmap",
                  "x": [
                    "HAM",
                    "SPAM"
                  ],
                  "xaxis": "x",
                  "y": [
                    "HAM",
                    "SPAM"
                  ],
                  "yaxis": "y",
                  "z": {
                    "bdata": "+A3hBB0CzgA=",
                    "dtype": "i2",
                    "shape": "2, 2"
                  }
                }
              ],
              "layout": {
                "coloraxis": {
                  "colorscale": [
                    [
                      0,
                      "#0d0887"
                    ],
                    [
                      0.1111111111111111,
                      "#46039f"
                    ],
                    [
                      0.2222222222222222,
                      "#7201a8"
                    ],
                    [
                      0.3333333333333333,
                      "#9c179e"
                    ],
                    [
                      0.4444444444444444,
                      "#bd3786"
                    ],
                    [
                      0.5555555555555556,
                      "#d8576b"
                    ],
                    [
                      0.6666666666666666,
                      "#ed7953"
                    ],
                    [
                      0.7777777777777778,
                      "#fb9f3a"
                    ],
                    [
                      0.8888888888888888,
                      "#fdca26"
                    ],
                    [
                      1,
                      "#f0f921"
                    ]
                  ]
                },
                "margin": {
                  "t": 60
                },
                "template": {
                  "data": {
                    "bar": [
                      {
                        "error_x": {
                          "color": "#2a3f5f"
                        },
                        "error_y": {
                          "color": "#2a3f5f"
                        },
                        "marker": {
                          "line": {
                            "color": "#E5ECF6",
                            "width": 0.5
                          },
                          "pattern": {
                            "fillmode": "overlay",
                            "size": 10,
                            "solidity": 0.2
                          }
                        },
                        "type": "bar"
                      }
                    ],
                    "barpolar": [
                      {
                        "marker": {
                          "line": {
                            "color": "#E5ECF6",
                            "width": 0.5
                          },
                          "pattern": {
                            "fillmode": "overlay",
                            "size": 10,
                            "solidity": 0.2
                          }
                        },
                        "type": "barpolar"
                      }
                    ],
                    "carpet": [
                      {
                        "aaxis": {
                          "endlinecolor": "#2a3f5f",
                          "gridcolor": "white",
                          "linecolor": "white",
                          "minorgridcolor": "white",
                          "startlinecolor": "#2a3f5f"
                        },
                        "baxis": {
                          "endlinecolor": "#2a3f5f",
                          "gridcolor": "white",
                          "linecolor": "white",
                          "minorgridcolor": "white",
                          "startlinecolor": "#2a3f5f"
                        },
                        "type": "carpet"
                      }
                    ],
                    "choropleth": [
                      {
                        "colorbar": {
                          "outlinewidth": 0,
                          "ticks": ""
                        },
                        "type": "choropleth"
                      }
                    ],
                    "contour": [
                      {
                        "colorbar": {
                          "outlinewidth": 0,
                          "ticks": ""
                        },
                        "colorscale": [
                          [
                            0,
                            "#0d0887"
                          ],
                          [
                            0.1111111111111111,
                            "#46039f"
                          ],
                          [
                            0.2222222222222222,
                            "#7201a8"
                          ],
                          [
                            0.3333333333333333,
                            "#9c179e"
                          ],
                          [
                            0.4444444444444444,
                            "#bd3786"
                          ],
                          [
                            0.5555555555555556,
                            "#d8576b"
                          ],
                          [
                            0.6666666666666666,
                            "#ed7953"
                          ],
                          [
                            0.7777777777777778,
                            "#fb9f3a"
                          ],
                          [
                            0.8888888888888888,
                            "#fdca26"
                          ],
                          [
                            1,
                            "#f0f921"
                          ]
                        ],
                        "type": "contour"
                      }
                    ],
                    "contourcarpet": [
                      {
                        "colorbar": {
                          "outlinewidth": 0,
                          "ticks": ""
                        },
                        "type": "contourcarpet"
                      }
                    ],
                    "heatmap": [
                      {
                        "colorbar": {
                          "outlinewidth": 0,
                          "ticks": ""
                        },
                        "colorscale": [
                          [
                            0,
                            "#0d0887"
                          ],
                          [
                            0.1111111111111111,
                            "#46039f"
                          ],
                          [
                            0.2222222222222222,
                            "#7201a8"
                          ],
                          [
                            0.3333333333333333,
                            "#9c179e"
                          ],
                          [
                            0.4444444444444444,
                            "#bd3786"
                          ],
                          [
                            0.5555555555555556,
                            "#d8576b"
                          ],
                          [
                            0.6666666666666666,
                            "#ed7953"
                          ],
                          [
                            0.7777777777777778,
                            "#fb9f3a"
                          ],
                          [
                            0.8888888888888888,
                            "#fdca26"
                          ],
                          [
                            1,
                            "#f0f921"
                          ]
                        ],
                        "type": "heatmap"
                      }
                    ],
                    "histogram": [
                      {
                        "marker": {
                          "pattern": {
                            "fillmode": "overlay",
                            "size": 10,
                            "solidity": 0.2
                          }
                        },
                        "type": "histogram"
                      }
                    ],
                    "histogram2d": [
                      {
                        "colorbar": {
                          "outlinewidth": 0,
                          "ticks": ""
                        },
                        "colorscale": [
                          [
                            0,
                            "#0d0887"
                          ],
                          [
                            0.1111111111111111,
                            "#46039f"
                          ],
                          [
                            0.2222222222222222,
                            "#7201a8"
                          ],
                          [
                            0.3333333333333333,
                            "#9c179e"
                          ],
                          [
                            0.4444444444444444,
                            "#bd3786"
                          ],
                          [
                            0.5555555555555556,
                            "#d8576b"
                          ],
                          [
                            0.6666666666666666,
                            "#ed7953"
                          ],
                          [
                            0.7777777777777778,
                            "#fb9f3a"
                          ],
                          [
                            0.8888888888888888,
                            "#fdca26"
                          ],
                          [
                            1,
                            "#f0f921"
                          ]
                        ],
                        "type": "histogram2d"
                      }
                    ],
                    "histogram2dcontour": [
                      {
                        "colorbar": {
                          "outlinewidth": 0,
                          "ticks": ""
                        },
                        "colorscale": [
                          [
                            0,
                            "#0d0887"
                          ],
                          [
                            0.1111111111111111,
                            "#46039f"
                          ],
                          [
                            0.2222222222222222,
                            "#7201a8"
                          ],
                          [
                            0.3333333333333333,
                            "#9c179e"
                          ],
                          [
                            0.4444444444444444,
                            "#bd3786"
                          ],
                          [
                            0.5555555555555556,
                            "#d8576b"
                          ],
                          [
                            0.6666666666666666,
                            "#ed7953"
                          ],
                          [
                            0.7777777777777778,
                            "#fb9f3a"
                          ],
                          [
                            0.8888888888888888,
                            "#fdca26"
                          ],
                          [
                            1,
                            "#f0f921"
                          ]
                        ],
                        "type": "histogram2dcontour"
                      }
                    ],
                    "mesh3d": [
                      {
                        "colorbar": {
                          "outlinewidth": 0,
                          "ticks": ""
                        },
                        "type": "mesh3d"
                      }
                    ],
                    "parcoords": [
                      {
                        "line": {
                          "colorbar": {
                            "outlinewidth": 0,
                            "ticks": ""
                          }
                        },
                        "type": "parcoords"
                      }
                    ],
                    "pie": [
                      {
                        "automargin": true,
                        "type": "pie"
                      }
                    ],
                    "scatter": [
                      {
                        "fillpattern": {
                          "fillmode": "overlay",
                          "size": 10,
                          "solidity": 0.2
                        },
                        "type": "scatter"
                      }
                    ],
                    "scatter3d": [
                      {
                        "line": {
                          "colorbar": {
                            "outlinewidth": 0,
                            "ticks": ""
                          }
                        },
                        "marker": {
                          "colorbar": {
                            "outlinewidth": 0,
                            "ticks": ""
                          }
                        },
                        "type": "scatter3d"
                      }
                    ],
                    "scattercarpet": [
                      {
                        "marker": {
                          "colorbar": {
                            "outlinewidth": 0,
                            "ticks": ""
                          }
                        },
                        "type": "scattercarpet"
                      }
                    ],
                    "scattergeo": [
                      {
                        "marker": {
                          "colorbar": {
                            "outlinewidth": 0,
                            "ticks": ""
                          }
                        },
                        "type": "scattergeo"
                      }
                    ],
                    "scattergl": [
                      {
                        "marker": {
                          "colorbar": {
                            "outlinewidth": 0,
                            "ticks": ""
                          }
                        },
                        "type": "scattergl"
                      }
                    ],
                    "scattermap": [
                      {
                        "marker": {
                          "colorbar": {
                            "outlinewidth": 0,
                            "ticks": ""
                          }
                        },
                        "type": "scattermap"
                      }
                    ],
                    "scattermapbox": [
                      {
                        "marker": {
                          "colorbar": {
                            "outlinewidth": 0,
                            "ticks": ""
                          }
                        },
                        "type": "scattermapbox"
                      }
                    ],
                    "scatterpolar": [
                      {
                        "marker": {
                          "colorbar": {
                            "outlinewidth": 0,
                            "ticks": ""
                          }
                        },
                        "type": "scatterpolar"
                      }
                    ],
                    "scatterpolargl": [
                      {
                        "marker": {
                          "colorbar": {
                            "outlinewidth": 0,
                            "ticks": ""
                          }
                        },
                        "type": "scatterpolargl"
                      }
                    ],
                    "scatterternary": [
                      {
                        "marker": {
                          "colorbar": {
                            "outlinewidth": 0,
                            "ticks": ""
                          }
                        },
                        "type": "scatterternary"
                      }
                    ],
                    "surface": [
                      {
                        "colorbar": {
                          "outlinewidth": 0,
                          "ticks": ""
                        },
                        "colorscale": [
                          [
                            0,
                            "#0d0887"
                          ],
                          [
                            0.1111111111111111,
                            "#46039f"
                          ],
                          [
                            0.2222222222222222,
                            "#7201a8"
                          ],
                          [
                            0.3333333333333333,
                            "#9c179e"
                          ],
                          [
                            0.4444444444444444,
                            "#bd3786"
                          ],
                          [
                            0.5555555555555556,
                            "#d8576b"
                          ],
                          [
                            0.6666666666666666,
                            "#ed7953"
                          ],
                          [
                            0.7777777777777778,
                            "#fb9f3a"
                          ],
                          [
                            0.8888888888888888,
                            "#fdca26"
                          ],
                          [
                            1,
                            "#f0f921"
                          ]
                        ],
                        "type": "surface"
                      }
                    ],
                    "table": [
                      {
                        "cells": {
                          "fill": {
                            "color": "#EBF0F8"
                          },
                          "line": {
                            "color": "white"
                          }
                        },
                        "header": {
                          "fill": {
                            "color": "#C8D4E3"
                          },
                          "line": {
                            "color": "white"
                          }
                        },
                        "type": "table"
                      }
                    ]
                  },
                  "layout": {
                    "annotationdefaults": {
                      "arrowcolor": "#2a3f5f",
                      "arrowhead": 0,
                      "arrowwidth": 1
                    },
                    "autotypenumbers": "strict",
                    "coloraxis": {
                      "colorbar": {
                        "outlinewidth": 0,
                        "ticks": ""
                      }
                    },
                    "colorscale": {
                      "diverging": [
                        [
                          0,
                          "#8e0152"
                        ],
                        [
                          0.1,
                          "#c51b7d"
                        ],
                        [
                          0.2,
                          "#de77ae"
                        ],
                        [
                          0.3,
                          "#f1b6da"
                        ],
                        [
                          0.4,
                          "#fde0ef"
                        ],
                        [
                          0.5,
                          "#f7f7f7"
                        ],
                        [
                          0.6,
                          "#e6f5d0"
                        ],
                        [
                          0.7,
                          "#b8e186"
                        ],
                        [
                          0.8,
                          "#7fbc41"
                        ],
                        [
                          0.9,
                          "#4d9221"
                        ],
                        [
                          1,
                          "#276419"
                        ]
                      ],
                      "sequential": [
                        [
                          0,
                          "#0d0887"
                        ],
                        [
                          0.1111111111111111,
                          "#46039f"
                        ],
                        [
                          0.2222222222222222,
                          "#7201a8"
                        ],
                        [
                          0.3333333333333333,
                          "#9c179e"
                        ],
                        [
                          0.4444444444444444,
                          "#bd3786"
                        ],
                        [
                          0.5555555555555556,
                          "#d8576b"
                        ],
                        [
                          0.6666666666666666,
                          "#ed7953"
                        ],
                        [
                          0.7777777777777778,
                          "#fb9f3a"
                        ],
                        [
                          0.8888888888888888,
                          "#fdca26"
                        ],
                        [
                          1,
                          "#f0f921"
                        ]
                      ],
                      "sequentialminus": [
                        [
                          0,
                          "#0d0887"
                        ],
                        [
                          0.1111111111111111,
                          "#46039f"
                        ],
                        [
                          0.2222222222222222,
                          "#7201a8"
                        ],
                        [
                          0.3333333333333333,
                          "#9c179e"
                        ],
                        [
                          0.4444444444444444,
                          "#bd3786"
                        ],
                        [
                          0.5555555555555556,
                          "#d8576b"
                        ],
                        [
                          0.6666666666666666,
                          "#ed7953"
                        ],
                        [
                          0.7777777777777778,
                          "#fb9f3a"
                        ],
                        [
                          0.8888888888888888,
                          "#fdca26"
                        ],
                        [
                          1,
                          "#f0f921"
                        ]
                      ]
                    },
                    "colorway": [
                      "#636efa",
                      "#EF553B",
                      "#00cc96",
                      "#ab63fa",
                      "#FFA15A",
                      "#19d3f3",
                      "#FF6692",
                      "#B6E880",
                      "#FF97FF",
                      "#FECB52"
                    ],
                    "font": {
                      "color": "#2a3f5f"
                    },
                    "geo": {
                      "bgcolor": "white",
                      "lakecolor": "white",
                      "landcolor": "#E5ECF6",
                      "showlakes": true,
                      "showland": true,
                      "subunitcolor": "white"
                    },
                    "hoverlabel": {
                      "align": "left"
                    },
                    "hovermode": "closest",
                    "mapbox": {
                      "style": "light"
                    },
                    "paper_bgcolor": "white",
                    "plot_bgcolor": "#E5ECF6",
                    "polar": {
                      "angularaxis": {
                        "gridcolor": "white",
                        "linecolor": "white",
                        "ticks": ""
                      },
                      "bgcolor": "#E5ECF6",
                      "radialaxis": {
                        "gridcolor": "white",
                        "linecolor": "white",
                        "ticks": ""
                      }
                    },
                    "scene": {
                      "xaxis": {
                        "backgroundcolor": "#E5ECF6",
                        "gridcolor": "white",
                        "gridwidth": 2,
                        "linecolor": "white",
                        "showbackground": true,
                        "ticks": "",
                        "zerolinecolor": "white"
                      },
                      "yaxis": {
                        "backgroundcolor": "#E5ECF6",
                        "gridcolor": "white",
                        "gridwidth": 2,
                        "linecolor": "white",
                        "showbackground": true,
                        "ticks": "",
                        "zerolinecolor": "white"
                      },
                      "zaxis": {
                        "backgroundcolor": "#E5ECF6",
                        "gridcolor": "white",
                        "gridwidth": 2,
                        "linecolor": "white",
                        "showbackground": true,
                        "ticks": "",
                        "zerolinecolor": "white"
                      }
                    },
                    "shapedefaults": {
                      "line": {
                        "color": "#2a3f5f"
                      }
                    },
                    "ternary": {
                      "aaxis": {
                        "gridcolor": "white",
                        "linecolor": "white",
                        "ticks": ""
                      },
                      "baxis": {
                        "gridcolor": "white",
                        "linecolor": "white",
                        "ticks": ""
                      },
                      "bgcolor": "#E5ECF6",
                      "caxis": {
                        "gridcolor": "white",
                        "linecolor": "white",
                        "ticks": ""
                      }
                    },
                    "title": {
                      "x": 0.05
                    },
                    "xaxis": {
                      "automargin": true,
                      "gridcolor": "white",
                      "linecolor": "white",
                      "ticks": "",
                      "title": {
                        "standoff": 15
                      },
                      "zerolinecolor": "white",
                      "zerolinewidth": 2
                    },
                    "yaxis": {
                      "automargin": true,
                      "gridcolor": "white",
                      "linecolor": "white",
                      "ticks": "",
                      "title": {
                        "standoff": 15
                      },
                      "zerolinecolor": "white",
                      "zerolinewidth": 2
                    }
                  }
                },
                "xaxis": {
                  "anchor": "y",
                  "constrain": "domain",
                  "domain": [
                    0,
                    1
                  ],
                  "scaleanchor": "y"
                },
                "yaxis": {
                  "anchor": "x",
                  "autorange": "reversed",
                  "constrain": "domain",
                  "domain": [
                    0,
                    1
                  ]
                }
              }
            }
          },
          "metadata": {},
          "output_type": "display_data"
        }
      ],
      "source": [
        "mat = confusion_matrix(df_spam[\"label_text\"], df_zero_shot[\"label\"])\n",
        "\n",
        "labels = df_spam[\"label_text\"].unique()\n",
        "df_mat = pd.DataFrame(mat, index=labels, columns=labels)\n",
        "\n",
        "px.imshow(df_mat, text_auto=True)"
      ]
    },
    {
      "cell_type": "markdown",
      "id": "7954732e",
      "metadata": {},
      "source": [
        "Les spams sont mieux identifiés mais il y a encore beaucoup d'erreurs"
      ]
    },
    {
      "cell_type": "markdown",
      "id": "07ccc024",
      "metadata": {},
      "source": [
        "---"
      ]
    },
    {
      "cell_type": "markdown",
      "id": "b84fe109",
      "metadata": {},
      "source": [
        "## 7. Modèle spécifique entrainé pour reconnaitre les spams mshenoda/roberta-spam"
      ]
    },
    {
      "cell_type": "code",
      "execution_count": 62,
      "id": "27c0a47c",
      "metadata": {
        "colab": {
          "base_uri": "https://localhost:8080/"
        },
        "id": "27c0a47c",
        "outputId": "bb24e8cc-4ef0-4750-f963-18d0377e5c72"
      },
      "outputs": [
        {
          "name": "stderr",
          "output_type": "stream",
          "text": [
            "c:\\__DATA_SCIENCE__\\Anaconda\\envs\\pytorch\\lib\\site-packages\\huggingface_hub\\file_download.py:144: UserWarning:\n",
            "\n",
            "`huggingface_hub` cache-system uses symlinks by default to efficiently store duplicated files but your machine does not support them in C:\\Users\\janda\\.cache\\huggingface\\hub\\models--mshenoda--roberta-spam. Caching files will still work but in a degraded version that might require more space on your disk. This warning can be disabled by setting the `HF_HUB_DISABLE_SYMLINKS_WARNING` environment variable. For more details, see https://huggingface.co/docs/huggingface_hub/how-to-cache#limitations.\n",
            "To support symlinks on Windows, you either need to activate Developer Mode or to run Python as an administrator. In order to activate developer mode, see this article: https://docs.microsoft.com/en-us/windows/apps/get-started/enable-your-device-for-development\n",
            "\n",
            "Device set to use cpu\n"
          ]
        }
      ],
      "source": [
        "pipeline = pipeline(\"text-classification\", model=\"mshenoda/roberta-spam\")"
      ]
    },
    {
      "cell_type": "code",
      "execution_count": null,
      "id": "153f42c9",
      "metadata": {
        "id": "153f42c9"
      },
      "outputs": [],
      "source": [
        "from transformers import AutoTokenizer\n",
        "\n",
        "# Load model directly\n",
        "checkpoint = \"mshenoda/roberta-spam\"\n",
        "tokenizer = AutoTokenizer.from_pretrained(checkpoint)"
      ]
    },
    {
      "cell_type": "code",
      "execution_count": 64,
      "id": "691ab4ac",
      "metadata": {
        "id": "691ab4ac"
      },
      "outputs": [],
      "source": [
        "def tokenize_function(example):\n",
        "    return tokenizer(example[\"message\"], truncation=True, padding=True)"
      ]
    },
    {
      "cell_type": "code",
      "execution_count": null,
      "id": "cbd7e9c5",
      "metadata": {
        "colab": {
          "base_uri": "https://localhost:8080/",
          "height": 81,
          "referenced_widgets": [
            "5d1759560c614bde9ddf7ba1b8c87d64",
            "3c8d6a9dab284d6cae1252604afc5839",
            "9f9c002caf7c48fdbe55d0cad005980e",
            "6c9059ebf13d44d185ff8967f3f2966a",
            "9dba778b1ed14b0499f2bf7b5a2e9116",
            "58c6d331e6de4331aef329271e1b7b1c",
            "a33e3cb0e37d4364893981a2e387717b",
            "c941639b3e574c68b1ba84d25a4c6c98",
            "3077b7376d0e4e01bd2dcb9241e8d3c9",
            "0b686720c9e742b78e2d21546a1dfd02",
            "0f4afd81ac5c4e0eacdcf419af549304",
            "08570d8cd55f494fafa94b453ee23cec",
            "64798145cc9e45c68ef8d0d05f832602",
            "8ec7cd8bdf8846c4863dbbfe1332496d",
            "f5e21d61978a4dcd960a14e4432ab3cc",
            "59931e0ba81a4cfd93a7864d350680ab",
            "42eaae416ccd403990ae2a4b0d3118c2",
            "fba7b29b49744206a0ff1c9757b70110",
            "6f707ce4f4544e6093d1a73573e8d2cd",
            "032cd8723a164f859e2246922b5a716d",
            "1786d582f6684793a625d2b6e2eeda50",
            "5bd6114fd0f14d1b9ee74003bad37dcf"
          ]
        },
        "id": "cbd7e9c5",
        "outputId": "1ceeeb51-91a4-4df6-b264-8e82d3db9d3f"
      },
      "outputs": [
        {
          "name": "stderr",
          "output_type": "stream",
          "text": [
            "Map: 100%|██████████| 4457/4457 [00:00<00:00, 8916.28 examples/s]\n",
            "Map: 100%|██████████| 1115/1115 [00:00<00:00, 10771.97 examples/s]\n"
          ]
        }
      ],
      "source": [
        "from datasets import Dataset\n",
        "\n",
        "# Conversion pandas -> Hugging Face Dataset\n",
        "hf_dataset = Dataset.from_pandas(df_spam)\n",
        "\n",
        "# Split 80% train, 20% test (ou val)\n",
        "split_dataset = hf_dataset.train_test_split(test_size=0.2)\n",
        "\n",
        "# Accès aux sous-datasets\n",
        "train_dataset = split_dataset[\"train\"]\n",
        "val_dataset = split_dataset[\"test\"]\n",
        "\n",
        "# Appliquer la fonction de tokenization avec batching\n",
        "tokenized_train_dataset = train_dataset.map(tokenize_function, batched=True)\n",
        "tokenized_val_dataset = val_dataset.map(tokenize_function, batched=True)"
      ]
    },
    {
      "cell_type": "code",
      "execution_count": null,
      "id": "73b4538c",
      "metadata": {
        "id": "73b4538c"
      },
      "outputs": [],
      "source": [
        "from transformers import DataCollatorWithPadding\n",
        "\n",
        "# Auto Padding : toutes les séquences sont de la même longueur\n",
        "data_collator = DataCollatorWithPadding(tokenizer=tokenizer)"
      ]
    },
    {
      "cell_type": "code",
      "execution_count": null,
      "id": "ae71ad24",
      "metadata": {
        "colab": {
          "base_uri": "https://localhost:8080/"
        },
        "id": "ae71ad24",
        "outputId": "4045b18c-8a6d-4a57-ba0d-6721020ed2c1"
      },
      "outputs": [
        {
          "data": {
            "text/plain": [
              "[218, 218, 218, 218, 218, 218, 218, 218]"
            ]
          },
          "execution_count": 67,
          "metadata": {},
          "output_type": "execute_result"
        }
      ],
      "source": [
        "# On vérifie la taille des séquences\n",
        "samples = tokenized_train_dataset[:8]\n",
        "samples = {k: v for k, v in samples.items() if k not in [\"idx\", \"sentence1\", \"sentence2\"]}\n",
        "[len(x) for x in samples[\"input_ids\"]]"
      ]
    },
    {
      "cell_type": "code",
      "execution_count": null,
      "id": "db95b5ad",
      "metadata": {
        "id": "db95b5ad"
      },
      "outputs": [],
      "source": [
        "from transformers import TrainingArguments\n",
        "\n",
        "# paramètres d'entrainement par défaut\n",
        "training_args = TrainingArguments(\"test-trainer\", report_to=\"none\")"
      ]
    },
    {
      "cell_type": "code",
      "execution_count": null,
      "id": "84e10647",
      "metadata": {
        "id": "84e10647"
      },
      "outputs": [],
      "source": [
        "from transformers import AutoModelForSequenceClassification\n",
        "\n",
        "# Création du modèle\n",
        "model = AutoModelForSequenceClassification.from_pretrained(checkpoint)"
      ]
    },
    {
      "cell_type": "code",
      "execution_count": 70,
      "id": "9f487d03",
      "metadata": {
        "id": "9f487d03"
      },
      "outputs": [],
      "source": [
        "from transformers import Trainer\n",
        "\n",
        "trainer = Trainer(\n",
        "    model,\n",
        "    training_args,\n",
        "    train_dataset=tokenized_train_dataset,\n",
        "    eval_dataset=tokenized_val_dataset,\n",
        "    data_collator=data_collator,\n",
        "    processing_class=tokenizer,\n",
        ")"
      ]
    },
    {
      "cell_type": "code",
      "execution_count": 71,
      "id": "f69388fe",
      "metadata": {
        "colab": {
          "base_uri": "https://localhost:8080/",
          "height": 204
        },
        "id": "f69388fe",
        "outputId": "4874849e-9c5c-4253-e3a9-8606e4c8d1c3"
      },
      "outputs": [
        {
          "data": {
            "text/html": [
              "\n",
              "    <div>\n",
              "      \n",
              "      <progress value='1674' max='1674' style='width:300px; height:20px; vertical-align: middle;'></progress>\n",
              "      [1674/1674 5:17:57, Epoch 3/3]\n",
              "    </div>\n",
              "    <table border=\"1\" class=\"dataframe\">\n",
              "  <thead>\n",
              " <tr style=\"text-align: left;\">\n",
              "      <th>Step</th>\n",
              "      <th>Training Loss</th>\n",
              "    </tr>\n",
              "  </thead>\n",
              "  <tbody>\n",
              "    <tr>\n",
              "      <td>500</td>\n",
              "      <td>0.081000</td>\n",
              "    </tr>\n",
              "    <tr>\n",
              "      <td>1000</td>\n",
              "      <td>0.032700</td>\n",
              "    </tr>\n",
              "    <tr>\n",
              "      <td>1500</td>\n",
              "      <td>0.008500</td>\n",
              "    </tr>\n",
              "  </tbody>\n",
              "</table><p>"
            ],
            "text/plain": [
              "<IPython.core.display.HTML object>"
            ]
          },
          "metadata": {},
          "output_type": "display_data"
        },
        {
          "data": {
            "text/plain": [
              "TrainOutput(global_step=1674, training_loss=0.03693101821264771, metrics={'train_runtime': 19094.2272, 'train_samples_per_second': 0.7, 'train_steps_per_second': 0.088, 'total_flos': 1740191339600820.0, 'train_loss': 0.03693101821264771, 'epoch': 3.0})"
            ]
          },
          "execution_count": 71,
          "metadata": {},
          "output_type": "execute_result"
        }
      ],
      "source": [
        "# Entrainement\n",
        "trainer.train()"
      ]
    },
    {
      "cell_type": "code",
      "execution_count": 72,
      "id": "b7109140",
      "metadata": {
        "colab": {
          "base_uri": "https://localhost:8080/",
          "height": 34
        },
        "id": "b7109140",
        "outputId": "ae253b3f-a520-4515-a8dd-39c28c2c3b52"
      },
      "outputs": [
        {
          "data": {
            "text/html": [],
            "text/plain": [
              "<IPython.core.display.HTML object>"
            ]
          },
          "metadata": {},
          "output_type": "display_data"
        },
        {
          "name": "stdout",
          "output_type": "stream",
          "text": [
            "(1115, 2) (1115,)\n"
          ]
        }
      ],
      "source": [
        "# Prédictions\n",
        "predictions = trainer.predict(tokenized_val_dataset)\n",
        "print(predictions.predictions.shape, predictions.label_ids.shape)"
      ]
    },
    {
      "cell_type": "code",
      "execution_count": 73,
      "id": "c272949e",
      "metadata": {
        "id": "c272949e"
      },
      "outputs": [
        {
          "data": {
            "text/plain": [
              "array([0, 1, 0, ..., 0, 0, 1], shape=(1115,))"
            ]
          },
          "execution_count": 73,
          "metadata": {},
          "output_type": "execute_result"
        }
      ],
      "source": [
        "preds = np.argmax(predictions.predictions, axis=-1)\n",
        "preds"
      ]
    },
    {
      "cell_type": "markdown",
      "id": "8519ef93",
      "metadata": {},
      "source": [
        "Classification report"
      ]
    },
    {
      "cell_type": "code",
      "execution_count": 74,
      "id": "9ae238ba",
      "metadata": {
        "colab": {
          "base_uri": "https://localhost:8080/"
        },
        "id": "9ae238ba",
        "outputId": "f5e7a435-bf3b-4690-8cef-6a68d28f8c21"
      },
      "outputs": [
        {
          "name": "stdout",
          "output_type": "stream",
          "text": [
            "              precision    recall  f1-score   support\n",
            "\n",
            "           0       1.00      1.00      1.00       968\n",
            "           1       1.00      0.97      0.99       147\n",
            "\n",
            "    accuracy                           1.00      1115\n",
            "   macro avg       1.00      0.99      0.99      1115\n",
            "weighted avg       1.00      1.00      1.00      1115\n",
            "\n"
          ]
        }
      ],
      "source": [
        "print(classification_report(tokenized_val_dataset[\"label\"], preds))"
      ]
    },
    {
      "cell_type": "markdown",
      "id": "c9abdde3",
      "metadata": {},
      "source": [
        "Matrice de confusion"
      ]
    },
    {
      "cell_type": "code",
      "execution_count": 75,
      "id": "ca92b054",
      "metadata": {
        "colab": {
          "base_uri": "https://localhost:8080/",
          "height": 542
        },
        "id": "ca92b054",
        "outputId": "5bd275eb-91f3-4800-c296-80c6db149d71"
      },
      "outputs": [
        {
          "data": {
            "application/vnd.plotly.v1+json": {
              "config": {
                "plotlyServerURL": "https://plot.ly"
              },
              "data": [
                {
                  "coloraxis": "coloraxis",
                  "hovertemplate": "x: %{x}<br>y: %{y}<br>color: %{z}<extra></extra>",
                  "name": "0",
                  "texttemplate": "%{z}",
                  "type": "heatmap",
                  "x": [
                    "ham",
                    "spam"
                  ],
                  "xaxis": "x",
                  "y": [
                    "ham",
                    "spam"
                  ],
                  "yaxis": "y",
                  "z": {
                    "bdata": "yAMAAAQAjwA=",
                    "dtype": "i2",
                    "shape": "2, 2"
                  }
                }
              ],
              "layout": {
                "coloraxis": {
                  "colorscale": [
                    [
                      0,
                      "#0d0887"
                    ],
                    [
                      0.1111111111111111,
                      "#46039f"
                    ],
                    [
                      0.2222222222222222,
                      "#7201a8"
                    ],
                    [
                      0.3333333333333333,
                      "#9c179e"
                    ],
                    [
                      0.4444444444444444,
                      "#bd3786"
                    ],
                    [
                      0.5555555555555556,
                      "#d8576b"
                    ],
                    [
                      0.6666666666666666,
                      "#ed7953"
                    ],
                    [
                      0.7777777777777778,
                      "#fb9f3a"
                    ],
                    [
                      0.8888888888888888,
                      "#fdca26"
                    ],
                    [
                      1,
                      "#f0f921"
                    ]
                  ]
                },
                "margin": {
                  "t": 60
                },
                "template": {
                  "data": {
                    "bar": [
                      {
                        "error_x": {
                          "color": "#2a3f5f"
                        },
                        "error_y": {
                          "color": "#2a3f5f"
                        },
                        "marker": {
                          "line": {
                            "color": "#E5ECF6",
                            "width": 0.5
                          },
                          "pattern": {
                            "fillmode": "overlay",
                            "size": 10,
                            "solidity": 0.2
                          }
                        },
                        "type": "bar"
                      }
                    ],
                    "barpolar": [
                      {
                        "marker": {
                          "line": {
                            "color": "#E5ECF6",
                            "width": 0.5
                          },
                          "pattern": {
                            "fillmode": "overlay",
                            "size": 10,
                            "solidity": 0.2
                          }
                        },
                        "type": "barpolar"
                      }
                    ],
                    "carpet": [
                      {
                        "aaxis": {
                          "endlinecolor": "#2a3f5f",
                          "gridcolor": "white",
                          "linecolor": "white",
                          "minorgridcolor": "white",
                          "startlinecolor": "#2a3f5f"
                        },
                        "baxis": {
                          "endlinecolor": "#2a3f5f",
                          "gridcolor": "white",
                          "linecolor": "white",
                          "minorgridcolor": "white",
                          "startlinecolor": "#2a3f5f"
                        },
                        "type": "carpet"
                      }
                    ],
                    "choropleth": [
                      {
                        "colorbar": {
                          "outlinewidth": 0,
                          "ticks": ""
                        },
                        "type": "choropleth"
                      }
                    ],
                    "contour": [
                      {
                        "colorbar": {
                          "outlinewidth": 0,
                          "ticks": ""
                        },
                        "colorscale": [
                          [
                            0,
                            "#0d0887"
                          ],
                          [
                            0.1111111111111111,
                            "#46039f"
                          ],
                          [
                            0.2222222222222222,
                            "#7201a8"
                          ],
                          [
                            0.3333333333333333,
                            "#9c179e"
                          ],
                          [
                            0.4444444444444444,
                            "#bd3786"
                          ],
                          [
                            0.5555555555555556,
                            "#d8576b"
                          ],
                          [
                            0.6666666666666666,
                            "#ed7953"
                          ],
                          [
                            0.7777777777777778,
                            "#fb9f3a"
                          ],
                          [
                            0.8888888888888888,
                            "#fdca26"
                          ],
                          [
                            1,
                            "#f0f921"
                          ]
                        ],
                        "type": "contour"
                      }
                    ],
                    "contourcarpet": [
                      {
                        "colorbar": {
                          "outlinewidth": 0,
                          "ticks": ""
                        },
                        "type": "contourcarpet"
                      }
                    ],
                    "heatmap": [
                      {
                        "colorbar": {
                          "outlinewidth": 0,
                          "ticks": ""
                        },
                        "colorscale": [
                          [
                            0,
                            "#0d0887"
                          ],
                          [
                            0.1111111111111111,
                            "#46039f"
                          ],
                          [
                            0.2222222222222222,
                            "#7201a8"
                          ],
                          [
                            0.3333333333333333,
                            "#9c179e"
                          ],
                          [
                            0.4444444444444444,
                            "#bd3786"
                          ],
                          [
                            0.5555555555555556,
                            "#d8576b"
                          ],
                          [
                            0.6666666666666666,
                            "#ed7953"
                          ],
                          [
                            0.7777777777777778,
                            "#fb9f3a"
                          ],
                          [
                            0.8888888888888888,
                            "#fdca26"
                          ],
                          [
                            1,
                            "#f0f921"
                          ]
                        ],
                        "type": "heatmap"
                      }
                    ],
                    "histogram": [
                      {
                        "marker": {
                          "pattern": {
                            "fillmode": "overlay",
                            "size": 10,
                            "solidity": 0.2
                          }
                        },
                        "type": "histogram"
                      }
                    ],
                    "histogram2d": [
                      {
                        "colorbar": {
                          "outlinewidth": 0,
                          "ticks": ""
                        },
                        "colorscale": [
                          [
                            0,
                            "#0d0887"
                          ],
                          [
                            0.1111111111111111,
                            "#46039f"
                          ],
                          [
                            0.2222222222222222,
                            "#7201a8"
                          ],
                          [
                            0.3333333333333333,
                            "#9c179e"
                          ],
                          [
                            0.4444444444444444,
                            "#bd3786"
                          ],
                          [
                            0.5555555555555556,
                            "#d8576b"
                          ],
                          [
                            0.6666666666666666,
                            "#ed7953"
                          ],
                          [
                            0.7777777777777778,
                            "#fb9f3a"
                          ],
                          [
                            0.8888888888888888,
                            "#fdca26"
                          ],
                          [
                            1,
                            "#f0f921"
                          ]
                        ],
                        "type": "histogram2d"
                      }
                    ],
                    "histogram2dcontour": [
                      {
                        "colorbar": {
                          "outlinewidth": 0,
                          "ticks": ""
                        },
                        "colorscale": [
                          [
                            0,
                            "#0d0887"
                          ],
                          [
                            0.1111111111111111,
                            "#46039f"
                          ],
                          [
                            0.2222222222222222,
                            "#7201a8"
                          ],
                          [
                            0.3333333333333333,
                            "#9c179e"
                          ],
                          [
                            0.4444444444444444,
                            "#bd3786"
                          ],
                          [
                            0.5555555555555556,
                            "#d8576b"
                          ],
                          [
                            0.6666666666666666,
                            "#ed7953"
                          ],
                          [
                            0.7777777777777778,
                            "#fb9f3a"
                          ],
                          [
                            0.8888888888888888,
                            "#fdca26"
                          ],
                          [
                            1,
                            "#f0f921"
                          ]
                        ],
                        "type": "histogram2dcontour"
                      }
                    ],
                    "mesh3d": [
                      {
                        "colorbar": {
                          "outlinewidth": 0,
                          "ticks": ""
                        },
                        "type": "mesh3d"
                      }
                    ],
                    "parcoords": [
                      {
                        "line": {
                          "colorbar": {
                            "outlinewidth": 0,
                            "ticks": ""
                          }
                        },
                        "type": "parcoords"
                      }
                    ],
                    "pie": [
                      {
                        "automargin": true,
                        "type": "pie"
                      }
                    ],
                    "scatter": [
                      {
                        "fillpattern": {
                          "fillmode": "overlay",
                          "size": 10,
                          "solidity": 0.2
                        },
                        "type": "scatter"
                      }
                    ],
                    "scatter3d": [
                      {
                        "line": {
                          "colorbar": {
                            "outlinewidth": 0,
                            "ticks": ""
                          }
                        },
                        "marker": {
                          "colorbar": {
                            "outlinewidth": 0,
                            "ticks": ""
                          }
                        },
                        "type": "scatter3d"
                      }
                    ],
                    "scattercarpet": [
                      {
                        "marker": {
                          "colorbar": {
                            "outlinewidth": 0,
                            "ticks": ""
                          }
                        },
                        "type": "scattercarpet"
                      }
                    ],
                    "scattergeo": [
                      {
                        "marker": {
                          "colorbar": {
                            "outlinewidth": 0,
                            "ticks": ""
                          }
                        },
                        "type": "scattergeo"
                      }
                    ],
                    "scattergl": [
                      {
                        "marker": {
                          "colorbar": {
                            "outlinewidth": 0,
                            "ticks": ""
                          }
                        },
                        "type": "scattergl"
                      }
                    ],
                    "scattermap": [
                      {
                        "marker": {
                          "colorbar": {
                            "outlinewidth": 0,
                            "ticks": ""
                          }
                        },
                        "type": "scattermap"
                      }
                    ],
                    "scattermapbox": [
                      {
                        "marker": {
                          "colorbar": {
                            "outlinewidth": 0,
                            "ticks": ""
                          }
                        },
                        "type": "scattermapbox"
                      }
                    ],
                    "scatterpolar": [
                      {
                        "marker": {
                          "colorbar": {
                            "outlinewidth": 0,
                            "ticks": ""
                          }
                        },
                        "type": "scatterpolar"
                      }
                    ],
                    "scatterpolargl": [
                      {
                        "marker": {
                          "colorbar": {
                            "outlinewidth": 0,
                            "ticks": ""
                          }
                        },
                        "type": "scatterpolargl"
                      }
                    ],
                    "scatterternary": [
                      {
                        "marker": {
                          "colorbar": {
                            "outlinewidth": 0,
                            "ticks": ""
                          }
                        },
                        "type": "scatterternary"
                      }
                    ],
                    "surface": [
                      {
                        "colorbar": {
                          "outlinewidth": 0,
                          "ticks": ""
                        },
                        "colorscale": [
                          [
                            0,
                            "#0d0887"
                          ],
                          [
                            0.1111111111111111,
                            "#46039f"
                          ],
                          [
                            0.2222222222222222,
                            "#7201a8"
                          ],
                          [
                            0.3333333333333333,
                            "#9c179e"
                          ],
                          [
                            0.4444444444444444,
                            "#bd3786"
                          ],
                          [
                            0.5555555555555556,
                            "#d8576b"
                          ],
                          [
                            0.6666666666666666,
                            "#ed7953"
                          ],
                          [
                            0.7777777777777778,
                            "#fb9f3a"
                          ],
                          [
                            0.8888888888888888,
                            "#fdca26"
                          ],
                          [
                            1,
                            "#f0f921"
                          ]
                        ],
                        "type": "surface"
                      }
                    ],
                    "table": [
                      {
                        "cells": {
                          "fill": {
                            "color": "#EBF0F8"
                          },
                          "line": {
                            "color": "white"
                          }
                        },
                        "header": {
                          "fill": {
                            "color": "#C8D4E3"
                          },
                          "line": {
                            "color": "white"
                          }
                        },
                        "type": "table"
                      }
                    ]
                  },
                  "layout": {
                    "annotationdefaults": {
                      "arrowcolor": "#2a3f5f",
                      "arrowhead": 0,
                      "arrowwidth": 1
                    },
                    "autotypenumbers": "strict",
                    "coloraxis": {
                      "colorbar": {
                        "outlinewidth": 0,
                        "ticks": ""
                      }
                    },
                    "colorscale": {
                      "diverging": [
                        [
                          0,
                          "#8e0152"
                        ],
                        [
                          0.1,
                          "#c51b7d"
                        ],
                        [
                          0.2,
                          "#de77ae"
                        ],
                        [
                          0.3,
                          "#f1b6da"
                        ],
                        [
                          0.4,
                          "#fde0ef"
                        ],
                        [
                          0.5,
                          "#f7f7f7"
                        ],
                        [
                          0.6,
                          "#e6f5d0"
                        ],
                        [
                          0.7,
                          "#b8e186"
                        ],
                        [
                          0.8,
                          "#7fbc41"
                        ],
                        [
                          0.9,
                          "#4d9221"
                        ],
                        [
                          1,
                          "#276419"
                        ]
                      ],
                      "sequential": [
                        [
                          0,
                          "#0d0887"
                        ],
                        [
                          0.1111111111111111,
                          "#46039f"
                        ],
                        [
                          0.2222222222222222,
                          "#7201a8"
                        ],
                        [
                          0.3333333333333333,
                          "#9c179e"
                        ],
                        [
                          0.4444444444444444,
                          "#bd3786"
                        ],
                        [
                          0.5555555555555556,
                          "#d8576b"
                        ],
                        [
                          0.6666666666666666,
                          "#ed7953"
                        ],
                        [
                          0.7777777777777778,
                          "#fb9f3a"
                        ],
                        [
                          0.8888888888888888,
                          "#fdca26"
                        ],
                        [
                          1,
                          "#f0f921"
                        ]
                      ],
                      "sequentialminus": [
                        [
                          0,
                          "#0d0887"
                        ],
                        [
                          0.1111111111111111,
                          "#46039f"
                        ],
                        [
                          0.2222222222222222,
                          "#7201a8"
                        ],
                        [
                          0.3333333333333333,
                          "#9c179e"
                        ],
                        [
                          0.4444444444444444,
                          "#bd3786"
                        ],
                        [
                          0.5555555555555556,
                          "#d8576b"
                        ],
                        [
                          0.6666666666666666,
                          "#ed7953"
                        ],
                        [
                          0.7777777777777778,
                          "#fb9f3a"
                        ],
                        [
                          0.8888888888888888,
                          "#fdca26"
                        ],
                        [
                          1,
                          "#f0f921"
                        ]
                      ]
                    },
                    "colorway": [
                      "#636efa",
                      "#EF553B",
                      "#00cc96",
                      "#ab63fa",
                      "#FFA15A",
                      "#19d3f3",
                      "#FF6692",
                      "#B6E880",
                      "#FF97FF",
                      "#FECB52"
                    ],
                    "font": {
                      "color": "#2a3f5f"
                    },
                    "geo": {
                      "bgcolor": "white",
                      "lakecolor": "white",
                      "landcolor": "#E5ECF6",
                      "showlakes": true,
                      "showland": true,
                      "subunitcolor": "white"
                    },
                    "hoverlabel": {
                      "align": "left"
                    },
                    "hovermode": "closest",
                    "mapbox": {
                      "style": "light"
                    },
                    "paper_bgcolor": "white",
                    "plot_bgcolor": "#E5ECF6",
                    "polar": {
                      "angularaxis": {
                        "gridcolor": "white",
                        "linecolor": "white",
                        "ticks": ""
                      },
                      "bgcolor": "#E5ECF6",
                      "radialaxis": {
                        "gridcolor": "white",
                        "linecolor": "white",
                        "ticks": ""
                      }
                    },
                    "scene": {
                      "xaxis": {
                        "backgroundcolor": "#E5ECF6",
                        "gridcolor": "white",
                        "gridwidth": 2,
                        "linecolor": "white",
                        "showbackground": true,
                        "ticks": "",
                        "zerolinecolor": "white"
                      },
                      "yaxis": {
                        "backgroundcolor": "#E5ECF6",
                        "gridcolor": "white",
                        "gridwidth": 2,
                        "linecolor": "white",
                        "showbackground": true,
                        "ticks": "",
                        "zerolinecolor": "white"
                      },
                      "zaxis": {
                        "backgroundcolor": "#E5ECF6",
                        "gridcolor": "white",
                        "gridwidth": 2,
                        "linecolor": "white",
                        "showbackground": true,
                        "ticks": "",
                        "zerolinecolor": "white"
                      }
                    },
                    "shapedefaults": {
                      "line": {
                        "color": "#2a3f5f"
                      }
                    },
                    "ternary": {
                      "aaxis": {
                        "gridcolor": "white",
                        "linecolor": "white",
                        "ticks": ""
                      },
                      "baxis": {
                        "gridcolor": "white",
                        "linecolor": "white",
                        "ticks": ""
                      },
                      "bgcolor": "#E5ECF6",
                      "caxis": {
                        "gridcolor": "white",
                        "linecolor": "white",
                        "ticks": ""
                      }
                    },
                    "title": {
                      "x": 0.05
                    },
                    "xaxis": {
                      "automargin": true,
                      "gridcolor": "white",
                      "linecolor": "white",
                      "ticks": "",
                      "title": {
                        "standoff": 15
                      },
                      "zerolinecolor": "white",
                      "zerolinewidth": 2
                    },
                    "yaxis": {
                      "automargin": true,
                      "gridcolor": "white",
                      "linecolor": "white",
                      "ticks": "",
                      "title": {
                        "standoff": 15
                      },
                      "zerolinecolor": "white",
                      "zerolinewidth": 2
                    }
                  }
                },
                "xaxis": {
                  "anchor": "y",
                  "constrain": "domain",
                  "domain": [
                    0,
                    1
                  ],
                  "scaleanchor": "y"
                },
                "yaxis": {
                  "anchor": "x",
                  "autorange": "reversed",
                  "constrain": "domain",
                  "domain": [
                    0,
                    1
                  ]
                }
              }
            }
          },
          "metadata": {},
          "output_type": "display_data"
        }
      ],
      "source": [
        "# produce the confusion matrix for your predictions, what comments can you make ?\n",
        "mat = confusion_matrix(tokenized_val_dataset[\"label\"], preds)\n",
        "\n",
        "labels = df_spam[\"label_text\"].unique()\n",
        "df_mat = pd.DataFrame(mat, index=labels, columns=labels)\n",
        "\n",
        "px.imshow(df_mat, text_auto=True)"
      ]
    },
    {
      "cell_type": "markdown",
      "id": "ea001184",
      "metadata": {},
      "source": [
        "Avec ce modèle nous avons de très bon résultats de classification HAM et SPAM"
      ]
    }
  ],
  "metadata": {
    "accelerator": "GPU",
    "colab": {
      "gpuType": "T4",
      "provenance": []
    },
    "kernelspec": {
      "display_name": "pytorch",
      "language": "python",
      "name": "python3"
    },
    "language_info": {
      "codemirror_mode": {
        "name": "ipython",
        "version": 3
      },
      "file_extension": ".py",
      "mimetype": "text/x-python",
      "name": "python",
      "nbconvert_exporter": "python",
      "pygments_lexer": "ipython3",
      "version": "3.10.16"
    },
    "widgets": {
      "application/vnd.jupyter.widget-state+json": {
        "032cd8723a164f859e2246922b5a716d": {
          "model_module": "@jupyter-widgets/controls",
          "model_module_version": "1.5.0",
          "model_name": "ProgressStyleModel",
          "state": {
            "_model_module": "@jupyter-widgets/controls",
            "_model_module_version": "1.5.0",
            "_model_name": "ProgressStyleModel",
            "_view_count": null,
            "_view_module": "@jupyter-widgets/base",
            "_view_module_version": "1.2.0",
            "_view_name": "StyleView",
            "bar_color": null,
            "description_width": ""
          }
        },
        "08570d8cd55f494fafa94b453ee23cec": {
          "model_module": "@jupyter-widgets/controls",
          "model_module_version": "1.5.0",
          "model_name": "HBoxModel",
          "state": {
            "_dom_classes": [],
            "_model_module": "@jupyter-widgets/controls",
            "_model_module_version": "1.5.0",
            "_model_name": "HBoxModel",
            "_view_count": null,
            "_view_module": "@jupyter-widgets/controls",
            "_view_module_version": "1.5.0",
            "_view_name": "HBoxView",
            "box_style": "",
            "children": [
              "IPY_MODEL_64798145cc9e45c68ef8d0d05f832602",
              "IPY_MODEL_8ec7cd8bdf8846c4863dbbfe1332496d",
              "IPY_MODEL_f5e21d61978a4dcd960a14e4432ab3cc"
            ],
            "layout": "IPY_MODEL_59931e0ba81a4cfd93a7864d350680ab"
          }
        },
        "0b686720c9e742b78e2d21546a1dfd02": {
          "model_module": "@jupyter-widgets/base",
          "model_module_version": "1.2.0",
          "model_name": "LayoutModel",
          "state": {
            "_model_module": "@jupyter-widgets/base",
            "_model_module_version": "1.2.0",
            "_model_name": "LayoutModel",
            "_view_count": null,
            "_view_module": "@jupyter-widgets/base",
            "_view_module_version": "1.2.0",
            "_view_name": "LayoutView",
            "align_content": null,
            "align_items": null,
            "align_self": null,
            "border": null,
            "bottom": null,
            "display": null,
            "flex": null,
            "flex_flow": null,
            "grid_area": null,
            "grid_auto_columns": null,
            "grid_auto_flow": null,
            "grid_auto_rows": null,
            "grid_column": null,
            "grid_gap": null,
            "grid_row": null,
            "grid_template_areas": null,
            "grid_template_columns": null,
            "grid_template_rows": null,
            "height": null,
            "justify_content": null,
            "justify_items": null,
            "left": null,
            "margin": null,
            "max_height": null,
            "max_width": null,
            "min_height": null,
            "min_width": null,
            "object_fit": null,
            "object_position": null,
            "order": null,
            "overflow": null,
            "overflow_x": null,
            "overflow_y": null,
            "padding": null,
            "right": null,
            "top": null,
            "visibility": null,
            "width": null
          }
        },
        "0f4afd81ac5c4e0eacdcf419af549304": {
          "model_module": "@jupyter-widgets/controls",
          "model_module_version": "1.5.0",
          "model_name": "DescriptionStyleModel",
          "state": {
            "_model_module": "@jupyter-widgets/controls",
            "_model_module_version": "1.5.0",
            "_model_name": "DescriptionStyleModel",
            "_view_count": null,
            "_view_module": "@jupyter-widgets/base",
            "_view_module_version": "1.2.0",
            "_view_name": "StyleView",
            "description_width": ""
          }
        },
        "1786d582f6684793a625d2b6e2eeda50": {
          "model_module": "@jupyter-widgets/base",
          "model_module_version": "1.2.0",
          "model_name": "LayoutModel",
          "state": {
            "_model_module": "@jupyter-widgets/base",
            "_model_module_version": "1.2.0",
            "_model_name": "LayoutModel",
            "_view_count": null,
            "_view_module": "@jupyter-widgets/base",
            "_view_module_version": "1.2.0",
            "_view_name": "LayoutView",
            "align_content": null,
            "align_items": null,
            "align_self": null,
            "border": null,
            "bottom": null,
            "display": null,
            "flex": null,
            "flex_flow": null,
            "grid_area": null,
            "grid_auto_columns": null,
            "grid_auto_flow": null,
            "grid_auto_rows": null,
            "grid_column": null,
            "grid_gap": null,
            "grid_row": null,
            "grid_template_areas": null,
            "grid_template_columns": null,
            "grid_template_rows": null,
            "height": null,
            "justify_content": null,
            "justify_items": null,
            "left": null,
            "margin": null,
            "max_height": null,
            "max_width": null,
            "min_height": null,
            "min_width": null,
            "object_fit": null,
            "object_position": null,
            "order": null,
            "overflow": null,
            "overflow_x": null,
            "overflow_y": null,
            "padding": null,
            "right": null,
            "top": null,
            "visibility": null,
            "width": null
          }
        },
        "3077b7376d0e4e01bd2dcb9241e8d3c9": {
          "model_module": "@jupyter-widgets/controls",
          "model_module_version": "1.5.0",
          "model_name": "ProgressStyleModel",
          "state": {
            "_model_module": "@jupyter-widgets/controls",
            "_model_module_version": "1.5.0",
            "_model_name": "ProgressStyleModel",
            "_view_count": null,
            "_view_module": "@jupyter-widgets/base",
            "_view_module_version": "1.2.0",
            "_view_name": "StyleView",
            "bar_color": null,
            "description_width": ""
          }
        },
        "3c8d6a9dab284d6cae1252604afc5839": {
          "model_module": "@jupyter-widgets/controls",
          "model_module_version": "1.5.0",
          "model_name": "HTMLModel",
          "state": {
            "_dom_classes": [],
            "_model_module": "@jupyter-widgets/controls",
            "_model_module_version": "1.5.0",
            "_model_name": "HTMLModel",
            "_view_count": null,
            "_view_module": "@jupyter-widgets/controls",
            "_view_module_version": "1.5.0",
            "_view_name": "HTMLView",
            "description": "",
            "description_tooltip": null,
            "layout": "IPY_MODEL_58c6d331e6de4331aef329271e1b7b1c",
            "placeholder": "​",
            "style": "IPY_MODEL_a33e3cb0e37d4364893981a2e387717b",
            "value": "Map: 100%"
          }
        },
        "42eaae416ccd403990ae2a4b0d3118c2": {
          "model_module": "@jupyter-widgets/base",
          "model_module_version": "1.2.0",
          "model_name": "LayoutModel",
          "state": {
            "_model_module": "@jupyter-widgets/base",
            "_model_module_version": "1.2.0",
            "_model_name": "LayoutModel",
            "_view_count": null,
            "_view_module": "@jupyter-widgets/base",
            "_view_module_version": "1.2.0",
            "_view_name": "LayoutView",
            "align_content": null,
            "align_items": null,
            "align_self": null,
            "border": null,
            "bottom": null,
            "display": null,
            "flex": null,
            "flex_flow": null,
            "grid_area": null,
            "grid_auto_columns": null,
            "grid_auto_flow": null,
            "grid_auto_rows": null,
            "grid_column": null,
            "grid_gap": null,
            "grid_row": null,
            "grid_template_areas": null,
            "grid_template_columns": null,
            "grid_template_rows": null,
            "height": null,
            "justify_content": null,
            "justify_items": null,
            "left": null,
            "margin": null,
            "max_height": null,
            "max_width": null,
            "min_height": null,
            "min_width": null,
            "object_fit": null,
            "object_position": null,
            "order": null,
            "overflow": null,
            "overflow_x": null,
            "overflow_y": null,
            "padding": null,
            "right": null,
            "top": null,
            "visibility": null,
            "width": null
          }
        },
        "58c6d331e6de4331aef329271e1b7b1c": {
          "model_module": "@jupyter-widgets/base",
          "model_module_version": "1.2.0",
          "model_name": "LayoutModel",
          "state": {
            "_model_module": "@jupyter-widgets/base",
            "_model_module_version": "1.2.0",
            "_model_name": "LayoutModel",
            "_view_count": null,
            "_view_module": "@jupyter-widgets/base",
            "_view_module_version": "1.2.0",
            "_view_name": "LayoutView",
            "align_content": null,
            "align_items": null,
            "align_self": null,
            "border": null,
            "bottom": null,
            "display": null,
            "flex": null,
            "flex_flow": null,
            "grid_area": null,
            "grid_auto_columns": null,
            "grid_auto_flow": null,
            "grid_auto_rows": null,
            "grid_column": null,
            "grid_gap": null,
            "grid_row": null,
            "grid_template_areas": null,
            "grid_template_columns": null,
            "grid_template_rows": null,
            "height": null,
            "justify_content": null,
            "justify_items": null,
            "left": null,
            "margin": null,
            "max_height": null,
            "max_width": null,
            "min_height": null,
            "min_width": null,
            "object_fit": null,
            "object_position": null,
            "order": null,
            "overflow": null,
            "overflow_x": null,
            "overflow_y": null,
            "padding": null,
            "right": null,
            "top": null,
            "visibility": null,
            "width": null
          }
        },
        "59931e0ba81a4cfd93a7864d350680ab": {
          "model_module": "@jupyter-widgets/base",
          "model_module_version": "1.2.0",
          "model_name": "LayoutModel",
          "state": {
            "_model_module": "@jupyter-widgets/base",
            "_model_module_version": "1.2.0",
            "_model_name": "LayoutModel",
            "_view_count": null,
            "_view_module": "@jupyter-widgets/base",
            "_view_module_version": "1.2.0",
            "_view_name": "LayoutView",
            "align_content": null,
            "align_items": null,
            "align_self": null,
            "border": null,
            "bottom": null,
            "display": null,
            "flex": null,
            "flex_flow": null,
            "grid_area": null,
            "grid_auto_columns": null,
            "grid_auto_flow": null,
            "grid_auto_rows": null,
            "grid_column": null,
            "grid_gap": null,
            "grid_row": null,
            "grid_template_areas": null,
            "grid_template_columns": null,
            "grid_template_rows": null,
            "height": null,
            "justify_content": null,
            "justify_items": null,
            "left": null,
            "margin": null,
            "max_height": null,
            "max_width": null,
            "min_height": null,
            "min_width": null,
            "object_fit": null,
            "object_position": null,
            "order": null,
            "overflow": null,
            "overflow_x": null,
            "overflow_y": null,
            "padding": null,
            "right": null,
            "top": null,
            "visibility": null,
            "width": null
          }
        },
        "5bd6114fd0f14d1b9ee74003bad37dcf": {
          "model_module": "@jupyter-widgets/controls",
          "model_module_version": "1.5.0",
          "model_name": "DescriptionStyleModel",
          "state": {
            "_model_module": "@jupyter-widgets/controls",
            "_model_module_version": "1.5.0",
            "_model_name": "DescriptionStyleModel",
            "_view_count": null,
            "_view_module": "@jupyter-widgets/base",
            "_view_module_version": "1.2.0",
            "_view_name": "StyleView",
            "description_width": ""
          }
        },
        "5d1759560c614bde9ddf7ba1b8c87d64": {
          "model_module": "@jupyter-widgets/controls",
          "model_module_version": "1.5.0",
          "model_name": "HBoxModel",
          "state": {
            "_dom_classes": [],
            "_model_module": "@jupyter-widgets/controls",
            "_model_module_version": "1.5.0",
            "_model_name": "HBoxModel",
            "_view_count": null,
            "_view_module": "@jupyter-widgets/controls",
            "_view_module_version": "1.5.0",
            "_view_name": "HBoxView",
            "box_style": "",
            "children": [
              "IPY_MODEL_3c8d6a9dab284d6cae1252604afc5839",
              "IPY_MODEL_9f9c002caf7c48fdbe55d0cad005980e",
              "IPY_MODEL_6c9059ebf13d44d185ff8967f3f2966a"
            ],
            "layout": "IPY_MODEL_9dba778b1ed14b0499f2bf7b5a2e9116"
          }
        },
        "64798145cc9e45c68ef8d0d05f832602": {
          "model_module": "@jupyter-widgets/controls",
          "model_module_version": "1.5.0",
          "model_name": "HTMLModel",
          "state": {
            "_dom_classes": [],
            "_model_module": "@jupyter-widgets/controls",
            "_model_module_version": "1.5.0",
            "_model_name": "HTMLModel",
            "_view_count": null,
            "_view_module": "@jupyter-widgets/controls",
            "_view_module_version": "1.5.0",
            "_view_name": "HTMLView",
            "description": "",
            "description_tooltip": null,
            "layout": "IPY_MODEL_42eaae416ccd403990ae2a4b0d3118c2",
            "placeholder": "​",
            "style": "IPY_MODEL_fba7b29b49744206a0ff1c9757b70110",
            "value": "Map: 100%"
          }
        },
        "6c9059ebf13d44d185ff8967f3f2966a": {
          "model_module": "@jupyter-widgets/controls",
          "model_module_version": "1.5.0",
          "model_name": "HTMLModel",
          "state": {
            "_dom_classes": [],
            "_model_module": "@jupyter-widgets/controls",
            "_model_module_version": "1.5.0",
            "_model_name": "HTMLModel",
            "_view_count": null,
            "_view_module": "@jupyter-widgets/controls",
            "_view_module_version": "1.5.0",
            "_view_name": "HTMLView",
            "description": "",
            "description_tooltip": null,
            "layout": "IPY_MODEL_0b686720c9e742b78e2d21546a1dfd02",
            "placeholder": "​",
            "style": "IPY_MODEL_0f4afd81ac5c4e0eacdcf419af549304",
            "value": " 4457/4457 [00:00&lt;00:00, 5580.87 examples/s]"
          }
        },
        "6f707ce4f4544e6093d1a73573e8d2cd": {
          "model_module": "@jupyter-widgets/base",
          "model_module_version": "1.2.0",
          "model_name": "LayoutModel",
          "state": {
            "_model_module": "@jupyter-widgets/base",
            "_model_module_version": "1.2.0",
            "_model_name": "LayoutModel",
            "_view_count": null,
            "_view_module": "@jupyter-widgets/base",
            "_view_module_version": "1.2.0",
            "_view_name": "LayoutView",
            "align_content": null,
            "align_items": null,
            "align_self": null,
            "border": null,
            "bottom": null,
            "display": null,
            "flex": null,
            "flex_flow": null,
            "grid_area": null,
            "grid_auto_columns": null,
            "grid_auto_flow": null,
            "grid_auto_rows": null,
            "grid_column": null,
            "grid_gap": null,
            "grid_row": null,
            "grid_template_areas": null,
            "grid_template_columns": null,
            "grid_template_rows": null,
            "height": null,
            "justify_content": null,
            "justify_items": null,
            "left": null,
            "margin": null,
            "max_height": null,
            "max_width": null,
            "min_height": null,
            "min_width": null,
            "object_fit": null,
            "object_position": null,
            "order": null,
            "overflow": null,
            "overflow_x": null,
            "overflow_y": null,
            "padding": null,
            "right": null,
            "top": null,
            "visibility": null,
            "width": null
          }
        },
        "8ec7cd8bdf8846c4863dbbfe1332496d": {
          "model_module": "@jupyter-widgets/controls",
          "model_module_version": "1.5.0",
          "model_name": "FloatProgressModel",
          "state": {
            "_dom_classes": [],
            "_model_module": "@jupyter-widgets/controls",
            "_model_module_version": "1.5.0",
            "_model_name": "FloatProgressModel",
            "_view_count": null,
            "_view_module": "@jupyter-widgets/controls",
            "_view_module_version": "1.5.0",
            "_view_name": "ProgressView",
            "bar_style": "success",
            "description": "",
            "description_tooltip": null,
            "layout": "IPY_MODEL_6f707ce4f4544e6093d1a73573e8d2cd",
            "max": 1115,
            "min": 0,
            "orientation": "horizontal",
            "style": "IPY_MODEL_032cd8723a164f859e2246922b5a716d",
            "value": 1115
          }
        },
        "9dba778b1ed14b0499f2bf7b5a2e9116": {
          "model_module": "@jupyter-widgets/base",
          "model_module_version": "1.2.0",
          "model_name": "LayoutModel",
          "state": {
            "_model_module": "@jupyter-widgets/base",
            "_model_module_version": "1.2.0",
            "_model_name": "LayoutModel",
            "_view_count": null,
            "_view_module": "@jupyter-widgets/base",
            "_view_module_version": "1.2.0",
            "_view_name": "LayoutView",
            "align_content": null,
            "align_items": null,
            "align_self": null,
            "border": null,
            "bottom": null,
            "display": null,
            "flex": null,
            "flex_flow": null,
            "grid_area": null,
            "grid_auto_columns": null,
            "grid_auto_flow": null,
            "grid_auto_rows": null,
            "grid_column": null,
            "grid_gap": null,
            "grid_row": null,
            "grid_template_areas": null,
            "grid_template_columns": null,
            "grid_template_rows": null,
            "height": null,
            "justify_content": null,
            "justify_items": null,
            "left": null,
            "margin": null,
            "max_height": null,
            "max_width": null,
            "min_height": null,
            "min_width": null,
            "object_fit": null,
            "object_position": null,
            "order": null,
            "overflow": null,
            "overflow_x": null,
            "overflow_y": null,
            "padding": null,
            "right": null,
            "top": null,
            "visibility": null,
            "width": null
          }
        },
        "9f9c002caf7c48fdbe55d0cad005980e": {
          "model_module": "@jupyter-widgets/controls",
          "model_module_version": "1.5.0",
          "model_name": "FloatProgressModel",
          "state": {
            "_dom_classes": [],
            "_model_module": "@jupyter-widgets/controls",
            "_model_module_version": "1.5.0",
            "_model_name": "FloatProgressModel",
            "_view_count": null,
            "_view_module": "@jupyter-widgets/controls",
            "_view_module_version": "1.5.0",
            "_view_name": "ProgressView",
            "bar_style": "success",
            "description": "",
            "description_tooltip": null,
            "layout": "IPY_MODEL_c941639b3e574c68b1ba84d25a4c6c98",
            "max": 4457,
            "min": 0,
            "orientation": "horizontal",
            "style": "IPY_MODEL_3077b7376d0e4e01bd2dcb9241e8d3c9",
            "value": 4457
          }
        },
        "a33e3cb0e37d4364893981a2e387717b": {
          "model_module": "@jupyter-widgets/controls",
          "model_module_version": "1.5.0",
          "model_name": "DescriptionStyleModel",
          "state": {
            "_model_module": "@jupyter-widgets/controls",
            "_model_module_version": "1.5.0",
            "_model_name": "DescriptionStyleModel",
            "_view_count": null,
            "_view_module": "@jupyter-widgets/base",
            "_view_module_version": "1.2.0",
            "_view_name": "StyleView",
            "description_width": ""
          }
        },
        "c941639b3e574c68b1ba84d25a4c6c98": {
          "model_module": "@jupyter-widgets/base",
          "model_module_version": "1.2.0",
          "model_name": "LayoutModel",
          "state": {
            "_model_module": "@jupyter-widgets/base",
            "_model_module_version": "1.2.0",
            "_model_name": "LayoutModel",
            "_view_count": null,
            "_view_module": "@jupyter-widgets/base",
            "_view_module_version": "1.2.0",
            "_view_name": "LayoutView",
            "align_content": null,
            "align_items": null,
            "align_self": null,
            "border": null,
            "bottom": null,
            "display": null,
            "flex": null,
            "flex_flow": null,
            "grid_area": null,
            "grid_auto_columns": null,
            "grid_auto_flow": null,
            "grid_auto_rows": null,
            "grid_column": null,
            "grid_gap": null,
            "grid_row": null,
            "grid_template_areas": null,
            "grid_template_columns": null,
            "grid_template_rows": null,
            "height": null,
            "justify_content": null,
            "justify_items": null,
            "left": null,
            "margin": null,
            "max_height": null,
            "max_width": null,
            "min_height": null,
            "min_width": null,
            "object_fit": null,
            "object_position": null,
            "order": null,
            "overflow": null,
            "overflow_x": null,
            "overflow_y": null,
            "padding": null,
            "right": null,
            "top": null,
            "visibility": null,
            "width": null
          }
        },
        "f5e21d61978a4dcd960a14e4432ab3cc": {
          "model_module": "@jupyter-widgets/controls",
          "model_module_version": "1.5.0",
          "model_name": "HTMLModel",
          "state": {
            "_dom_classes": [],
            "_model_module": "@jupyter-widgets/controls",
            "_model_module_version": "1.5.0",
            "_model_name": "HTMLModel",
            "_view_count": null,
            "_view_module": "@jupyter-widgets/controls",
            "_view_module_version": "1.5.0",
            "_view_name": "HTMLView",
            "description": "",
            "description_tooltip": null,
            "layout": "IPY_MODEL_1786d582f6684793a625d2b6e2eeda50",
            "placeholder": "​",
            "style": "IPY_MODEL_5bd6114fd0f14d1b9ee74003bad37dcf",
            "value": " 1115/1115 [00:00&lt;00:00, 4940.04 examples/s]"
          }
        },
        "fba7b29b49744206a0ff1c9757b70110": {
          "model_module": "@jupyter-widgets/controls",
          "model_module_version": "1.5.0",
          "model_name": "DescriptionStyleModel",
          "state": {
            "_model_module": "@jupyter-widgets/controls",
            "_model_module_version": "1.5.0",
            "_model_name": "DescriptionStyleModel",
            "_view_count": null,
            "_view_module": "@jupyter-widgets/base",
            "_view_module_version": "1.2.0",
            "_view_name": "StyleView",
            "description_width": ""
          }
        }
      }
    }
  },
  "nbformat": 4,
  "nbformat_minor": 5
}
