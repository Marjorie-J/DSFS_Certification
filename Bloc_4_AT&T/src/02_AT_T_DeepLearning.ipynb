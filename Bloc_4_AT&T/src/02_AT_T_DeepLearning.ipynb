{
  "cells": [
    {
      "cell_type": "markdown",
      "id": "fa7cd843",
      "metadata": {},
      "source": [
        "## 1. Lecture CSV"
      ]
    },
    {
      "cell_type": "code",
      "execution_count": 110,
      "id": "6f875d1b",
      "metadata": {
        "id": "6f875d1b"
      },
      "outputs": [],
      "source": [
        "import numpy as np\n",
        "import pandas as pd\n",
        "import plotly.express as px\n",
        "from plotly import graph_objects as go\n",
        "from sklearn.metrics import classification_report, confusion_matrix\n",
        "import tiktoken\n",
        "import torch\n",
        "import torch.nn as nn\n",
        "import torch.optim as optim\n",
        "from torch.utils.data import DataLoader, Dataset, random_split\n",
        "from torchinfo import summary"
      ]
    },
    {
      "cell_type": "code",
      "execution_count": 111,
      "id": "4613b6c9",
      "metadata": {
        "colab": {
          "base_uri": "https://localhost:8080/"
        },
        "id": "4613b6c9",
        "outputId": "1e238825-2ff8-4fa1-f44a-13eafeec443a"
      },
      "outputs": [
        {
          "data": {
            "text/html": [
              "<div>\n",
              "<style scoped>\n",
              "    .dataframe tbody tr th:only-of-type {\n",
              "        vertical-align: middle;\n",
              "    }\n",
              "\n",
              "    .dataframe tbody tr th {\n",
              "        vertical-align: top;\n",
              "    }\n",
              "\n",
              "    .dataframe thead th {\n",
              "        text-align: right;\n",
              "    }\n",
              "</style>\n",
              "<table border=\"1\" class=\"dataframe\">\n",
              "  <thead>\n",
              "    <tr style=\"text-align: right;\">\n",
              "      <th></th>\n",
              "      <th>label_text</th>\n",
              "      <th>message</th>\n",
              "      <th>label</th>\n",
              "    </tr>\n",
              "  </thead>\n",
              "  <tbody>\n",
              "    <tr>\n",
              "      <th>0</th>\n",
              "      <td>ham</td>\n",
              "      <td>Go until jurong point, crazy.. Available only ...</td>\n",
              "      <td>0</td>\n",
              "    </tr>\n",
              "    <tr>\n",
              "      <th>1</th>\n",
              "      <td>ham</td>\n",
              "      <td>Ok lar... Joking wif u oni...</td>\n",
              "      <td>0</td>\n",
              "    </tr>\n",
              "    <tr>\n",
              "      <th>2</th>\n",
              "      <td>spam</td>\n",
              "      <td>Free entry in 2 a wkly comp to win FA Cup fina...</td>\n",
              "      <td>1</td>\n",
              "    </tr>\n",
              "    <tr>\n",
              "      <th>3</th>\n",
              "      <td>ham</td>\n",
              "      <td>U dun say so early hor... U c already then say...</td>\n",
              "      <td>0</td>\n",
              "    </tr>\n",
              "    <tr>\n",
              "      <th>4</th>\n",
              "      <td>ham</td>\n",
              "      <td>Nah I don't think he goes to usf, he lives aro...</td>\n",
              "      <td>0</td>\n",
              "    </tr>\n",
              "  </tbody>\n",
              "</table>\n",
              "</div>"
            ],
            "text/plain": [
              "  label_text                                            message  label\n",
              "0        ham  Go until jurong point, crazy.. Available only ...      0\n",
              "1        ham                      Ok lar... Joking wif u oni...      0\n",
              "2       spam  Free entry in 2 a wkly comp to win FA Cup fina...      1\n",
              "3        ham  U dun say so early hor... U c already then say...      0\n",
              "4        ham  Nah I don't think he goes to usf, he lives aro...      0"
            ]
          },
          "execution_count": 111,
          "metadata": {},
          "output_type": "execute_result"
        }
      ],
      "source": [
        "df_spam = pd.read_csv(\"../datas/spam_clean.csv\", encoding=\"iso-8859-1\")\n",
        "df_spam.head()"
      ]
    },
    {
      "cell_type": "markdown",
      "id": "e46620ca",
      "metadata": {},
      "source": [
        "---"
      ]
    },
    {
      "cell_type": "markdown",
      "id": "9a1d0999",
      "metadata": {
        "id": "9a1d0999"
      },
      "source": [
        "## 2. Tokenization"
      ]
    },
    {
      "cell_type": "markdown",
      "id": "dcdfc64f",
      "metadata": {},
      "source": [
        "Je tokenize les messages avec le tokenizer \"cl100k_base\" (basé sur le byte pair coding)"
      ]
    },
    {
      "cell_type": "code",
      "execution_count": 112,
      "id": "af869e3f",
      "metadata": {
        "id": "af869e3f"
      },
      "outputs": [],
      "source": [
        "tokenizer = tiktoken.get_encoding(\"cl100k_base\")\n",
        "\n",
        "def encode_texts(texts):\n",
        "    return [tokenizer.encode(text) for text in texts]\n",
        "\n",
        "tokens = encode_texts(df_spam[\"message\"])"
      ]
    },
    {
      "cell_type": "code",
      "execution_count": 113,
      "id": "e3edebae",
      "metadata": {
        "colab": {
          "base_uri": "https://localhost:8080/"
        },
        "id": "e3edebae",
        "outputId": "48de2aa5-447a-42eb-bc39-77b2d8fb21f1"
      },
      "outputs": [
        {
          "data": {
            "text/plain": [
              "[11087, 3156, 16422, 647, 1486, 11, 14599, 497, 16528, 1193]"
            ]
          },
          "execution_count": 113,
          "metadata": {},
          "output_type": "execute_result"
        }
      ],
      "source": [
        "tokens[0][:10]"
      ]
    },
    {
      "cell_type": "code",
      "execution_count": 114,
      "id": "dc3d8a3a",
      "metadata": {},
      "outputs": [
        {
          "data": {
            "text/plain": [
              "[11839, 45555, 1131, 622, 10979, 289, 333, 577, 389, 72]"
            ]
          },
          "execution_count": 114,
          "metadata": {},
          "output_type": "execute_result"
        }
      ],
      "source": [
        "tokens[1][:10]"
      ]
    },
    {
      "cell_type": "markdown",
      "id": "243e4904",
      "metadata": {
        "id": "243e4904"
      },
      "source": [
        "Les modèles de NLP exigent souvent des séquences (liste de tokens) de tailles uniformes.\n",
        "\n",
        "Calcul de la taille moyenne des séquences"
      ]
    },
    {
      "cell_type": "code",
      "execution_count": 115,
      "id": "0365d66a",
      "metadata": {
        "colab": {
          "base_uri": "https://localhost:8080/"
        },
        "id": "0365d66a",
        "outputId": "705837f3-ff82-400b-908d-4b52a1615369"
      },
      "outputs": [
        {
          "data": {
            "text/plain": [
              "np.float64(22.893933955491743)"
            ]
          },
          "execution_count": 115,
          "metadata": {},
          "output_type": "execute_result"
        }
      ],
      "source": [
        "seq_lens = [len(seq) for seq in tokens]\n",
        "np.mean(seq_lens)"
      ]
    },
    {
      "cell_type": "markdown",
      "id": "bdf6927e",
      "metadata": {},
      "source": [
        "Distribution de la taille des séquences"
      ]
    },
    {
      "cell_type": "code",
      "execution_count": 116,
      "id": "43c34e45",
      "metadata": {},
      "outputs": [
        {
          "data": {
            "application/vnd.plotly.v1+json": {
              "config": {
                "plotlyServerURL": "https://plot.ly"
              },
              "data": [
                {
                  "bingroup": "x",
                  "hovertemplate": "variable=0<br>value=%{x}<br>count=%{y}<extra></extra>",
                  "legendgroup": "0",
                  "marker": {
                    "color": "rgb(102, 197, 204)",
                    "pattern": {
                      "shape": ""
                    }
                  },
                  "name": "0",
                  "nbinsx": 30,
                  "orientation": "v",
                  "showlegend": true,
                  "type": "histogram",
                  "x": {
                    "bdata": "GwALADIADQARADMAEgAvACsAJQAbADMAOgAqAAsAKwAIABgAGwA7AAkAFQARABoADwAjAAcAIgAWABEAHwA3AAcAFQAlACgADAAIAAYAJwAWACcALQAGABgACAALAAcAEQAmAA8AJQASAEkAHwAXADsACQAEAA8AHAALAAYADwAcACgAHgBFABUACQANAAYADwANAAYADAARAA0ADwAUAAYACwAKAAkABQARAB8AJAAKAA0AHwAwACMALAAbADMACgANADMADgAYABUALwAwAA0AEwANAA8AHQAKAAkABwAeADQAKAAqADEAFAAUACYANgAQACgAEQARAAYAOQAGACYACgAEAAwABQAtADMADgAJAAsAJgAbAAoABwAqAAwABwALAC4AFwAJAAsADAAUAAYALwBgAAoABwApABsALAAZABEAGAAxACsACwAwABQAEgAPAAwAIAAIABoAEQAQAAcALQARACEAJAAJAA8ABwAGACMACQAuAA8AFwATAC0ACAAZABgACQAGABcAJAARAA0AEwAxAAYACQAXACoACQAVAAoAEwAGAAkADAAIAAoADQAKAAkAKAAIACMABgAiADoADwAqAAoAJQAIACAACAAIAAsAMwASAA8ACgAmACcADAARABUAKgAIABUACAAKACQALQAPADIACAAwAAsAFQANAAkAKQAbAAIAFwAWAB8ACAALAAwAMgAOAB0ACwAgACsADAAIAAMACgAJAA0ADgAGACIACAADAB0ADgACACkAKQAsAAsAEAAIAAYACgAsAA0AMAANABEAEwAlABgABwAyABEACQASACQADQAxADMAGwAuAAwACAAnAAsAJgAGAA8AEQAkACQACAAIAAoAFAAIABcACAARACQAMAAzAA8AEAAFAAYACgAJACgABgAIAAwACQAcAAYAKgARAA4AEwAuAB0AFAA2AC0AMgAqABgADgAFAAcAEwAmAA4AMwAeAAcACAAjAAkAFAAmACQABQAOACAACgAkAEkADQANAA0AKgAIAAcACAAsAAwACAAVAAYAHgASABIAHwAxADkAGQA/AAsACAAKABsAEwAnAAwABgAjABEACAAfAAYADwAJAAcAIQARADoADAAoAAkALABWAAkACAAJABcANgAGAA8AMwAHABcAKAAPAAgAFwANAB0ACwAWAAYALwAZABYADgALAAUABQAKABAAFwAzAA4ANAAhABgAGgAQAA8ALwAIAAgAKAASAAkAEgAKADMACwBKADIAJAANAAkACwAPABIACAAVAAQADQASAA0AIAAIACAADQAcADoABwAOAAoABgARAA4ADAAGACkACQAGAA0ANwAgAA8AKwAFADYAGwATAAYACAA5AAcANgAVACwAGAALAAcABgAJADQAEwA4AAsAGwAKAC4ADgAJAAUALwAnAA8AEwAXABAAHAAkABUADgAeAAUAJgAJAAwAHQA8AA4AHAAiAEEADwALAAkAEgAyAAkADAAOADUAJAAgAA0AJAAWAAoAIwAIAAYABQALABgAHAASAB4AKQARAAoAJAARABcAEgAiAA0ACAAKADAAKQAwAAYAIwAIAAkAFQAUAAsAGwARAAkACQAFAAwAOQAVAAcAFQAkACsABQAmABAAJwAmAAUAEQAWAA8ADQAdABEAGgATABMAHAAoACwACQADAA4AFQArAAYAGAASAAoADQAVACQACAALADIAFwATACsACgApAA8AHQATAAcABgAIAC0ACQAVABAAJgAGAA8ACwAQABMADQAPAAgABgALAB4ANgAnABMACwAYABcABwAeAA0AEwAIADkAGgAHACcAKwALABsABQArABMAEgAWAAgADgAXAAwADAALAAYADQAdABQAEwAIAA8AIgAwAFMAKQAPABsADAAKAEcAIAAsACMACAANAAkACAA5ABIAKQANABAACAAdAAsAFgAeABoABwALADMACAApAAsADwA3AAoADAAPAB4AJgAYAAoAFgAMAAgABwAUAAcADwAcAAYAGQAjACUAPAApABMANQAhAAYADQAfAAsAHAAWABQABQAHACAAHwAfAAUANgAaAAMAGQASABEAGwAeADUACQAlAAoAGwAUABcACgAsABoACwAUADgAGAA4ADUACQAJAA0ACQAMABAADwAbADAABgApAA0AHAAJAAUAQQAoAAYAMQAzAAgADQAHAAcAGgAUADEAKAArADkABgAPACIAXQAjADcAIAASABMANAAIADoAFQAVABkAOAAPABEADQAwABcAIQAHACkABwAJAAoABQAYABMADAAtACEAMAAlACoAFQASAAkAFgAmADsACwAsACIAJwAgAEsAFAAHABQACQAQABUABQALAAYADQAbACEAGQAhAAsAKQAOADMAGAALABMADQASAAwAMQATAAoAMgAoAAcALQAOAAsAEAAOACkAFgALAAcADwAQABAAEAAUABwACwAHAC8AHgAXAAgAEgAyAAYADQAIADcAIgAfABEAHwAaADMADwAtACAACQAKAAkACQAhAAsACQAkAB8ABQAeAAIACgAxABcAFAAGABsAEAA8AAoAFAAaAAkADAAGAAcAJAAGAC4AEwAKABIAEgAsAA4ABgASABUAJgBFABEABQAmABsAJAALAAwAFgApACgACwAIAC4AHQAQAAcACQAqACgAHQAfABYACwATAA8ACwAlADcACwAOAAkAMwAvAAYABwALAAwACQALAA8ACAAMAAcACgAkACgAKQAIACIAKQAMAA8ACQAKACMAIQAHABoAJAAbACEADQAOABwACgA/AAcABQAJABUAPAAMACYAHwAkAA0ACAAMABEAJgAFAAwAMQAZACMACgAhAAoABgAGABcAEAAJAAUAHADOADsACgAFADgAEgAwABIABQAtABQACQAkACgAEgAaABIAGQAQABMAIwAIACkAHQAcAAoABQARAAkAEwARAAwAEQAbABcANAALACMADAAIAAsALgAVACMAIgANAAkABgAIACoAEwAIAB8ABwAFACMADAA8ABMAFQAgABsACQAOABQABgALAAYABgA5ABQAFAAUACAACgAOAAgABwAyACYADgANAAcACwATACkADwA2AAUADQAQAC4ALAAJAA8ACQAJAAgAFAAKAAoABwATABMADgAMAAQAEAAfADUABQAPABEADAArADsACQAFABEADgA1ABwAKwAKAAgACAAMAAwADQAjABAAGwAQABAAEAAiADMABwAMAAwALAAUACIADwAmAAsAGAAPAAcACwAxADYABgAMABAAFgATAA4ACgAOAAsACgAjABEAPwARABcAEQAVABYABwAPABAADQAIABMAFQAxACgADgAHAC4AKwAQADcADgAYABsAAgASABYACgAEAAkAHAAUAA4ACwArAAcACgAIACQAIwAHABoAGQATACcACgAQAAsADAAPABEAEQAbAAwANAANAAsADQAvAC8AFwALAB0AGAAZAAoAHwAzAAgAKgACAAcADwAOAAkAHAApAAkACAAsAA8AFgAKAAcADQAOACcAJgAYABIADwAKAAcAGgAKADYABgAKABQABgANADYACAAIAB8ADQAbAAYAEgAkACEAZgAKABUABwAyAB0AKgARACIACwAHAA4AHAAwAC0APQAGAAwALgAIADMACgAlABIAMgBzAB0ACQAlAA0AIgAoAAkAGwADAAkAEQAHABAACwAxABMAGwAxAAoACAAIADEABwANAAUACQAeADIANQAPABMACwAWAA0AFQALAAcAMQAIAAgAEQACAC0AJwAQACIAGwAJABEADAAIAB4AFwALABMAJAAGAA8ANQAGAAYAKQApACUABQAHABQACAAGABAAKgAcADgAKQARADkAEAA2ACUAJQA8ADEACQA5ADAABwANABoAGQAmABYAGwAHABUAJAAIAAkAAgAfAAYAIgAnAAkACgAGACcAJAASABgAGgAQACgAFAAhACwACAAtAAkADwAIAAsAHQAyAAoAJQAXABsAZwAKAAoACQANAB8ADAAMADYACQAhAAYACAAJACgABQAJAAoABwAPACgACQAFADEAFgAMAAUAHQAJAFIABQApAAwAJgAKABUABwAPABUADAADAAoACgATABwABQAaACEAFQASABAACgAJADkACQAHADEACQASAAkAMAA0AB4AEwAVAC8AAwEQABEAFQAQAB0ABgBTAA8ALQALACIALAAHAAoAKwAiAAoAKAAwAAkACgAGAB8ABwAmACQABgALACAAJQAJAAgAAQAtAAsAEAAJABwACAAfAAkAKQAnACIAFAASACgACAAuAAoAEwASABQAJQALAEEAJAAoACgACAA4AAsAKQAFAAoABgALAAoAKQAmAAkAIAAWAC8ANAATAAkAFwAPAEEACAAMABIANgAHAAoAJQAPABQACAAjAAcABwAyABYABwAgABYACwAiAB4ABQADACsACgAJAAgALwAkAAwABQAtAAsAFwAaACEAEQASABEAIQACAAcAEgALAAYAIwAmABMADwAmABIADgANAA8ALAAHABIAGgAsAA4AFAApADkAEAA4ABAAFgA3AAUAJwAJAAgADwAHADsADAAHAAUADQAKAAcANwARADcACQAnADAAFgAIACgACAAJABYABwAQAA8ACgAPAAwABgAdABAAMAAlABIAMgAfADQACQAPACYADwAJACYACgARAAoADQAqADAAMwAyAAgADQAOAC0ADAAkAAsACQAOABcAPwAlAAkACQAlAB0ACQAMAA0AJQAFAA4ACwANAAwALAANACUADAAQABoAKAAGABoAEwALAA0ABwANABEAJQALABcABgAcAFcAGAAHAC0ACQASAAgABgALAAcABgAGADUAMAASAAcACAAIAAwAGgAeADgACwAWABMAFQAxABgAFAANAC4AHQAJAAwADQAQAMgACQAJABcAFAAzABEABwALABUAEAAfABQAKwAJAB0ACwAiABAACwAKABwADQAQADwAMwAVAAoAGAANADkABwAyAAsAHQAPAAkABgASAAYADAAtABQADgAUAAcAHwAIACYAGAAWAAYANQANAA8AEgAKADQABwAKABkAFgABABYAJgAJAC4ANwAIAAsABgAGAAgAEgAPACIADQAyAB8APwANACAAFAAWAA8ADwANAAkACgASABEAEgAIABIADQAWABYABQAvAAkAFgAPADUAFAAVABIADwAuAAYABwArAA0AEAAIAAoAHwAZAAkABgAaABIANgAvACUABwAIAAYADAAgACIAIQAMAAkABwAJAD0AHgANABQACQAkABMAEwANAA0AGQAGAGwAFQBeACMAKAAVACYACgAQAAYACwAPABUALwASAAoAGQAPABwACwAJABUAFgAQAAgACAAIAAsABQAMACEACAAOAAwALAAKAA4ACgAOAAcACgALABkAMwArAA0ACQALAAsACwANAAsAHgAGADoAYAAOAAcACQAVAEIALAALAAcAOwARAA4ADAAqAAkABwAMAAwABgASAAkADQAKADcAMQBhAA4ACwAoADkAJgAIAAQACwAXACoAEwAVAAYAFAAcAAgACQApADYAEAAHACsAMgAOACoAGwALABAAMQALACMALAAHADcAIQARAAkAIQAKAAoADQAWACoAWgASAAwACQAHAAcADQAKAAoABQA0ADEAKgAGAC0ABgALAAsAEgARAAgADQAIAB4AqQAYADUAHwAMADAAJwALAAkADAAIAAsAOwA9AAkACgAQAAcABwAIAAsALwARACoAAgAKACcADgAdABYACwAuABwAJgANABsAFAAKADQADAAGAAwACQAOABMAEAAQABsAIQA8ABgAPwAGAA4AIwAOABIAEAATABQADwATADAAEgAPACcAKAAbACAADAAKAAUAGQAnACYADAAHABEAQQAXAB8AGQATAAkABQAdABUABwAQAC4APQAIACgAFwAeAAoABwAHACsADAAJAC0ACAAqABQADgA0ABMADQAmAAYADQAHAAkAGwAUAAYAFgAOAAkAIgAXAAgACwAOAAYACQAHABYAGAAeAAYAKgAZAAwACAAVAA8AJgAvAAgAEQA6ABkAEAAIABYAIgAOAAcANQAzABQAMgAwAB8ABwASAAcADAAwAAcACAALAAIABgAXAAMABwAkADoADAAPAAsABQAGAAcABgAMABsAEwAHAB8ACwAQADIAMAADABEAFgAHAAUADgAJACoACQASABAASAAHAAoADQArAB0AEAAYAC4ADwANADIAIQAMAIIAJgATABwAMAAJACYAFgAhAC0AdQASACAABgAFAAYALAALAAUAIAATAC4ACwATABwAGwAMAAkACgALAAgADAAvABMADgAXAAUALwCNAAkAGgARAAcAPAAcAAcAEAAMABoAHwApAA0AHAANAAgADgAPADIAEgATACsABgAYAA8AugA6AAkAGwAuABEAFwAPABUACAAZAA0ALAAGAC0ADwAGAAcAFQAPAAkAEAAXAAgACQAMAAwAEQADABsAHgAMAAkABgAUABIABQAUAAoAOQAKABsACQAKADEAIwAgADsACwAZAAsAIAAVAAoAFgAVACEAGQAJADkADQAgACsANAAPABYADAAHAAgASwAsACwADQAFAAMAAgAtABUABwAnADMAEQAPAAcABgASABEAKQAGACIABgAhAC4ADQAoAA4AEgAIABMABAAZAAkAIgAGAA0AFQAIABwADwAMAAUAVgASAA0AHQAaABAADgALAAgADgAKAC4ADwARAA4AHwAHAAUADQAQACYAJwAJAAYAFQAJAAsAKwAdADkAKAAIAA0ACQAQAAwAJgAPAC8ADQALAAkAEwAIACMALwAqAAsAJAAQACgALAAeABcABgAPAA4AAgAJABwADgA3ABQAEQAHAAkADgA4AAsACAA7ABYADAANABYALQADACQAAwAIAA4AKwAMABoAEwAvAAgAOwAJAA8AEQAPAAcAFQAGAAcADAA4AA8AIQAIAAYAHAARACIAJAALAA8ABwAXAAkACwAKABAACwACAAcACQAgADwABwALACUACQA2ACEAHAATAAgAJQANAC8ADwAQAA0AKACNAAgAHwATABIAMgAfAAIADQAYADIACgA1ABgAGgANABUADgAMABAAQAAuAA8AEAArABsACwAuAAgABwAfADIAHAAQABgAFgAsAAYAIQAOAAMACQAUABQACgAKAAsACQA/ADUACQAMABUACwANAAcACwAbABQABgAEADwAHAAlAAcADAAJAAgAEgAQABEADgAHAB4AEwAFABUACQAUABwACgAQAA0ALgAtAAgAKwAKAAgAJAAHAAUABAAcABUACAAGABsAMAAHABMAHAAeAA0ACAAEAB8AFQAYAAsAPAA2AAsAMAAKABMAEQAfABEAKQAIACEADAAHAAkABAAnAA4AEAAKAAwALgAhAA0ADwATAD8AKAAaACQACwAeABoADgAvAAMAJgALADsABQAIAAkAKwAHACQACQAHAAoADAApAAQACAAaADUACwAIADIAqQA1ABUACQAGAA4AEgAaAE0AGgAnACQAEAAMAAsALwAXABUACAAjABAALAA2ACQABQAGAA8ANwAMABcALwAGADgADgAOAAYAEwALAAwABwAZAAUAEAARABUADwAMAAcAMQATAAwAIwASAC4ALwAJAC8AIwAqAAIAIAAsAAwABwAXABQAJwAUAAsADQANAAsAIgALAAsABQARAAgACAAHAAIAJQAJAA4AVwAtABAACQAjABcADgAKAA8AHAAqAAsAFQBXAAsACQAZAAsAEAAJAAgAKQAaAA4ABQAZADEAJwAIACQAEQAJAB0AIAAIADsADQAMAAYAUwAUAAUADAALABEACgARADIAKgAwAAoACAAlABQAGwAbAAcANgAfAC0ADwAJACEAEQAXAAoABAALAAwAIQALAAcAKwAIAAgAHgAzACYAHgAJABAAMAAQABEAfAAaAAoACwASAAgABgANABUADQALAAYACgAJACcAGwAQAAkAEAAbAAsAEgAQABMASwALACEAEgArAB0ACAAsAAsAFQABACcACgAJAAcAPAAGABoAIgBCAAoADwAHACkACAAGAB4ABwAJABAAEQAKAAcACgAKAAsAHgAKAAgAIwATACEADgAKAB8ABQAlAA0AOgAOAA0AKwAQABMAEgAfAB4ADAAKAAgAIQALAAwAEAAVAAgATQAiACoAKgAfABYACAAJABAADQAKAAcAEwAGAAwADAAtABAADQAzAAcADgAcAA4ACQAtACgABwALABwAGgALAAYABQApAAYAFgA6AAwACgAyABwAPgAKAA0ABwAsAA0ANAACAAgACwAQAAwACQAWAA8AOAAuAA0AKgApAA4ACwAJAA8ADgAhAAcANwAVAAgACgAaAA4AIgAmACkADgAZABAABQAwABEAJgA1AAsAEQARAA8AEQAXAA4ADAALAAkAGwAZAA0AGAAEAAkAEQAuACwALgAKAAUAGwALADMADgAQABUAEAAkACcACAAKAAoAXQALADMALgAWAAwAEQAgAAsABgAYABcABwALAB4ADAAPABAANQAQACYACgAJAAoABwAQAAwADAAKAA4AGgAPAB0ALwANABcACAAIABgAMgAWAAsAHQALABYAEAAdAA4ABQAhABUADAAFAI0AFQAaABEACgAVACEADAAhACkAGwAaABUABwAiACAAHQAZACoAIAA1AAgAEAAlAA0AMgCEACEAIgALABsADgAwAA4AIQAYACAAEwAUAAkACAAbAAYAJgAsAB4ACQANAAwAHQAMAAgACgAoACcAFAAMAAgACwAMABAAFQAKAAoAFwAOAAkACwAUAAYABwBVAAcAEwAUABIACgAfABUAGwAWAAUAGQALAAYACwAGAAgACwALABIAFwAdAAkADgAGAAIAIwAVAAUACAAGADEADAAQACQAAwAWAAgADQAIABEACgAIAAQAIQAEACUACAAIABEAKAAIACAACwAgAAgAJAAjACoAHQAsAAkADQAKAAcABwAMAA0AJAApACgAEgAwACoAOwAIABIACgATAC8ACQAkABwAIQAOAB4ACwAGAAYAFAAJACUAIgAgAAwAIAAnAA8AFAAHAAkAGwAHAEUAIAAuAAkAIgALAC0AIQA8ABkAEwACAA8AGAAxAA8ACwAIACoAHwAHAAoAJAAVAC0AEQAMAAYACQAhACYAMQASAAYABgAKAAcAIAACACUACAAnAEMAEAAbABIAFwAuACgABwAPAAYADAADACQANgAtAA4ACgAHAAkAEAAJADcAQwAJAAkAEwAVACkABQAKABAARgAIAC8AKwAaAAcAKAAGAAcABwAcACoAGwAMABIACQAPAAsAFgAFADkANwAhABkAEgAGAAcACQAHADkACgANAA0AMwAXABkAEgA4AAoAaQARACsACwAHADEACAAKACkACAAPACUACQAeABcAHQAGAAwACgAyACoAKwAXABYAIQASAAoABAAGACoADgAIACQACgAMAAYABwALABAACwAIABMABwAIACwAEQAJACAAHwAIAA8AKgARAAoAOAAZACoADQAKAAsAFQALABIAEQAHADAACQAJAAkAIgAwACgACAAlAAkAIAAzABoAHAAIADQADgAPACcADwAVAAwACQANAAcACwAPAAwADgAQABAACAAqACwADgALACwAJwAIAA0ACAAMACIADQAxAAgADwALAD4ABgANAAkANAAeAAcAEAAbAAoABwAFAAUADwALABkAIQAYAAwAMgANABsAEQAHACgAIgARAAwAFwAJACQADAALAAsABQAgACgAFwAFAAgAEgAyAAkACgALAAkAQQAMAAsAEQAhAAcADgBcAAkACgAMABcADABXAAsABgANAAgAEgARAA8ADgAMABkALgAlACoADgAHAAcAGQAPAAsAIQAOACkADgAbADcAEAAMACkABwAKAAYAGgARABQACAAWAAYAIQAKAD4AWwAaAAcAMgANAAYACAAWAAUACgArABIAKgAzAA0ACwAXAAsAHgBLAEAAGAAqAAsACwATAE4AFQAwABEACgAIAAoACQARAAwACwAZAAkACAAoAA4AFQA6AAUAIgAmABAADgAvACQADQAWACgAAgANAAsADAAOAAcAFAAiABwAFAArABUAEQAKABMALgATAAUAEQAKABYAFwAlADQACQAYAAYAJQAKAC8ACQAlADIANAALAAoADwANAA0AEAAOABUACwARAAUADgAMADkALQATABcAIQAdAAYADwANAAoABwAsAA4ALgAHADAABQAnAAkACQAYAAIADAAIABIAJgAjAAgACQAUAAkAGwAVABUAAwAxABAABgAZABgAOAA+ABoAFQAfAAgACgAMAB0ADQAJAB0AEgAKAAcADwAIAA4AFQAxAA0ABwAcAAcAHwAOAA0AGgAJABAAFAAvAAwAFwAlABoAEAAWAAgACwAHAA8ABwApAAsADAAJAA4AJQAXAC4AKQAtAAgABgAVABsACgAuABUAIwAGABEAEwASABwACgAmAA8AHAAnACcACAASABIAEgAGABQAHwAlAAoAMgATAA8AHgAyABYAMgAJACgAGQBDAC4ABwACABIAEAAKABoAFAAwAAUADAAZAAgACQAQAAgADQAMABEACQAZAA8AEgAUACkABgAXAAYADQAHAC4ABwAVAAkACAAUACQAEwAHAAkAIgAHAAkAEQAnAE4ACQAUADIANwAlABEADAAmAAgAHwAnACQAFwAWABEAHgAIABQAJAAkABkABgASAEkACAALACgAFAAmAAcAMAANACcAJAAwABAAJgAIABMAFgAHABEADAAHADsADAAiAA8AFwAMAC0ACAAIABUALwAIABEAKAA1AAgAHgAdACAAIQAKACUADwApAA0AMwAGAAoADAAJACkAKAAsAA4ADgAIAAsAOwArACMAIQAQAC0ADwAPAD8AIQAnACsAGgAOAAcAPwAOACMAFwARAAsADgARACUAHAAJAAgAIAANAAcAMwAaACkAJAAGABQABwARABMACAAGAA0AGQAMADQACAATAAoAEQAHABAAGgAGACcADgAHAAkAKgAdADcAKwAvAAUAFAAqABoACwAxAAcACAAXABsAGQAFABIABwAcAAcACQAOAA4ACwAaAFcAEAAHABAAHwAiAAkABgATAAYAGQAHABYAFAAnADEABwANAB4AKgAKACcAAwAVAAoADQAaABEADQAGAC4AHQAcAAkAJgAZACkACQAtAAoABgARACUAHQAlABEAGgAJAAkAGQAuAAUAGgARAA0ACgAKAAYAKAArAC0ABQAfABAABwAhACcAEgALAEUABwADAA8AGQArABEAHAA/ADAAFwARABgABgATAAkAIAAMABIAEQAmAEwADAAVABUABgAeADcACwAJAB0AGQARAAYABwAKAAQADAA5AEIADQAIAA0AEAASACEAGAAJAAgACQAYAAsAJwApAA8ABgAMACcAIgATAA0AJAALACIALgAKAAsAPgAnAA0AIAAbAAwAOQAJABoADwAPAB4ABAAmAB0ALQAHABIAKgAsAAkACwAJAB8ACwAgAA8AJAAqACMACAAMAA4AJAARAAcAFAAUABIAEAAGAFEADQALAA0AJQAEAA8ADwAfABwARwATAAoADAAJAC0AFwASAC4ANwAHACQACwAWAAgAFgAHAAkABgAKABYADwAOAA8AIAARAA4AKAAsAAgAFwAIAA0AEgAIACMACwAOAAkADgAIAEUABwBeABEADQALAHMAHQAMABgAKgA4ADgAFwAaAA8AJwAHACwABQAwABgACwAKAAcAFQAKABkACwAEAAgADgAIABIAJAAQAAUABQAgAA0ACwAqACsABQAUABIAGQAdAAEANAAvAAYABgAKAAYAEgAUAAYANQAGAAwADgAjAAsADwAMAA0AOQAZABkAHwAYAA0ADQAPAAoAKQA9ABAALgAKABgALwATACoACwAKACIACQANACIAGgAjADcACQAJABkAJgAtAAsAEwA6AAwAKQAlAAsAMAAHAA0AGgAIAAkAIwAHABwABwA1AEAADAAfAAcAOQA1AAoAQgAGAA8AHQAlADMACQAvABEAGgAwABMALQA+ABYAOAAJAB0AMQARABEAGQAHABgADAATAAsAHgAsADEAEwAPABcAKwAWAA4ABgAIAAgADgAGABwAHQALABYAFgAJAAgABwAIAEAADAAIAA4ALAAtAAsACQAWAAoACQAMABAACQAOABEADwAMAAQAJgAHAAYACAAkACUACgAiACgALQAHAA4ACAATAAcAKwAcAA0ADwAEAAgACAAIAAkABgAIABcALwAQAA8AJQAqAAcAKwALABEADQANABEABgANAAwAKQAWAAgABQALAAwAAwAOACQAIQAjADgADQAaAAkAAwAlAAUAAwAkAAkABgAZAAgAEQAUAB4AGgAPABYAFQAJAB4AFwANAB4AGQAOABEADgArABEAEQAkACgABQASAAcADgASACoACQAIADIAQAAGABsADgALAA0ABwAcAAwAFAAfACEAGQAzAA8AJQANABAAKQAhADAAJgAOAC8ACAAGABEAEgAGABgACQAdABoACAAtAAwADwAiAA0ADwAeABUADgAYAAsAJQANADYACQAOAC0ADAAWAAYACAAZAAsAEAAoADAADAAKACUANgAJAAcAKAAHAAwALAAdACwAJAAUAA4AEQAXAA8AFgATAAUACAAVAAoAMQADAB8ADAAJABMADgANACgADgANAD4ACAAqAAkACQAWABAAKwAVAAoACAAmAAoADQASAAkAGgAKABMABQAIABoABAALABAAAgAgACwABwArAB8ADwAKAEwADQAXAD4AFgAKABgACgAGABkALwAYADYAEQAXAAgADAAmABcACgAHACwAKQBNACoAEgAnAAUABgAdAAoADQAMAAwAOAARAC8ACwB0AD0ABgAEAA0ABwA2ABIACgAsADkAJAAJADAAEwAMAAsALAAoAA0ADgALAAwACAAdADYAHQAqABAABgAIABQACgAJAB0AHQAVABYAHwAVABQAGQAJACgAIAAKACIAJgAeABoAFAATACgADAAJABUAEwAuAAQACAAsABQANAAsAB8AJgAfAAwADQAfABQADgANABMAKQAaAAYABgAWAAUALQAMAAwAFAAHABcAMgAoAAgAQAALAA8ACwAIAAYACgARAA0ACQA9AE0AFgAFAAgABgAWABAAMAAOAA8AJwATABYAOwApAAgAEQAFAA8AFwAFAA0AMQApAA4AJQAUAAsADQASAAkAEwApAAkAIAAaAC8ADwAjAAsAIwATABoACQAWACkACQAMACAACQAuACsADAAkAA0ALAAHAA8AHQANAAoAGwAfACUABwAaADMABQA1ABQAGAAqAA8AGAArABgAMgAMAEUAOQATAAQADAAXABUABgAIAAcACwAWAAoAHQAKABcADwAqACkACQANAB0AHgCCADYAEAAWACUABgAOAAYAKAAZAAsAMAANAB0ABgAMAAsADwAeAAkAIQAhABoACQASAF0ACQAVACAAJAAKAAgAFAA/ABkAOQAVADgAHgAZAAsAGQAXACcAGQAJABwAEwAuAAwADAAbABIACAAUAAcACAAXAAoABgA5ABQAHgAFABoABwAbAAgADQAEAAsAGwANABoAJgAcAC4AEAAIAAwADwAKAAUABwACAC0AJAAGABQADgAKACQALAAdABoADgArAD8ADQAHABAAKgAQAB4ABwBHABQABwAJAAYALgAMAAkACgAIAA4ACgAdAA4ADQAwACMAEwASAC8ACQAJACcAKQAMAAcAGQA2ACgACAANABQABgAEACYAEAANAB4AFAALAA0AMAAYABIADQAFAAUACQAOAAsAFAAiAA4ABgAPAHMACQAxAA4AJwAtABAADQArAA0AGgAHABQALAAwACoADgAKAAwABwAGADoACgAcACYAFgAGAA8AOAAJADUADQAHAB0ACgAPAAYABwAaABMAIQAZAA4ABwArABkACAAqAB0ACgAwAAcACAAaACYACQALABIACAAJAC0ALwAGAAcABgAHAA8AEwALACMAEAA5ABwAEgAHAAsACQAKADAAEgAIAAgAJgAjAAwABAAKABUACQAiACsAJAAIAAEAHwAyABIACwARAA0AIwAcACwAHgAlABEAHgAMAA4ADQBSAA0AHAAXADUAEQAKABAAFgATADUAHAAHABwADgAMAAYABgASABoACgATAAkABAAOAAwAPQAfAB4ADAAaAAcACAA2AAcACAAcAAwAFAAdAAIAFAAcAAsAFQAcAAkACgAUAAYAGAAJAAsAGwAHAB4AFwAIAAkACwAMAAsABwAJAAoADQALABgAHQAvABIAEQAbAAcADAAPAAYAMQAJAAgACQAWAB4ACQAGACMAJgATAC0ACQAJAB4AKQAnADMAAwAGAAIAEAALACEADwARAA4ACwAPAAoABwAuABEANQAhAAcAKwAHAAwABwASAC0AEQApAB4AEAAvAAwADgAjADAACgARABEAHwAmAAkAEQAQAAUAEQAGAB0ADAA9AC4AKAAfAA4ACAAJAAoABQA4ABcAKQAQAAoABgAQABAACQAgAAUARwAOACIAJwAFAEgABwAJAAsAKgALAA0AJgAKAB0ACwANABIABwAVADQAFABIAAYAFwAKABQAGgAIABIABQAkADUADgAQABwACQA=",
                    "dtype": "i2"
                  },
                  "xaxis": "x",
                  "yaxis": "y"
                }
              ],
              "layout": {
                "barmode": "relative",
                "legend": {
                  "title": {
                    "text": "variable"
                  },
                  "tracegroupgap": 0
                },
                "margin": {
                  "t": 60
                },
                "showlegend": false,
                "template": {
                  "data": {
                    "bar": [
                      {
                        "error_x": {
                          "color": "#2a3f5f"
                        },
                        "error_y": {
                          "color": "#2a3f5f"
                        },
                        "marker": {
                          "line": {
                            "color": "#E5ECF6",
                            "width": 0.5
                          },
                          "pattern": {
                            "fillmode": "overlay",
                            "size": 10,
                            "solidity": 0.2
                          }
                        },
                        "type": "bar"
                      }
                    ],
                    "barpolar": [
                      {
                        "marker": {
                          "line": {
                            "color": "#E5ECF6",
                            "width": 0.5
                          },
                          "pattern": {
                            "fillmode": "overlay",
                            "size": 10,
                            "solidity": 0.2
                          }
                        },
                        "type": "barpolar"
                      }
                    ],
                    "carpet": [
                      {
                        "aaxis": {
                          "endlinecolor": "#2a3f5f",
                          "gridcolor": "white",
                          "linecolor": "white",
                          "minorgridcolor": "white",
                          "startlinecolor": "#2a3f5f"
                        },
                        "baxis": {
                          "endlinecolor": "#2a3f5f",
                          "gridcolor": "white",
                          "linecolor": "white",
                          "minorgridcolor": "white",
                          "startlinecolor": "#2a3f5f"
                        },
                        "type": "carpet"
                      }
                    ],
                    "choropleth": [
                      {
                        "colorbar": {
                          "outlinewidth": 0,
                          "ticks": ""
                        },
                        "type": "choropleth"
                      }
                    ],
                    "contour": [
                      {
                        "colorbar": {
                          "outlinewidth": 0,
                          "ticks": ""
                        },
                        "colorscale": [
                          [
                            0,
                            "#0d0887"
                          ],
                          [
                            0.1111111111111111,
                            "#46039f"
                          ],
                          [
                            0.2222222222222222,
                            "#7201a8"
                          ],
                          [
                            0.3333333333333333,
                            "#9c179e"
                          ],
                          [
                            0.4444444444444444,
                            "#bd3786"
                          ],
                          [
                            0.5555555555555556,
                            "#d8576b"
                          ],
                          [
                            0.6666666666666666,
                            "#ed7953"
                          ],
                          [
                            0.7777777777777778,
                            "#fb9f3a"
                          ],
                          [
                            0.8888888888888888,
                            "#fdca26"
                          ],
                          [
                            1,
                            "#f0f921"
                          ]
                        ],
                        "type": "contour"
                      }
                    ],
                    "contourcarpet": [
                      {
                        "colorbar": {
                          "outlinewidth": 0,
                          "ticks": ""
                        },
                        "type": "contourcarpet"
                      }
                    ],
                    "heatmap": [
                      {
                        "colorbar": {
                          "outlinewidth": 0,
                          "ticks": ""
                        },
                        "colorscale": [
                          [
                            0,
                            "#0d0887"
                          ],
                          [
                            0.1111111111111111,
                            "#46039f"
                          ],
                          [
                            0.2222222222222222,
                            "#7201a8"
                          ],
                          [
                            0.3333333333333333,
                            "#9c179e"
                          ],
                          [
                            0.4444444444444444,
                            "#bd3786"
                          ],
                          [
                            0.5555555555555556,
                            "#d8576b"
                          ],
                          [
                            0.6666666666666666,
                            "#ed7953"
                          ],
                          [
                            0.7777777777777778,
                            "#fb9f3a"
                          ],
                          [
                            0.8888888888888888,
                            "#fdca26"
                          ],
                          [
                            1,
                            "#f0f921"
                          ]
                        ],
                        "type": "heatmap"
                      }
                    ],
                    "histogram": [
                      {
                        "marker": {
                          "pattern": {
                            "fillmode": "overlay",
                            "size": 10,
                            "solidity": 0.2
                          }
                        },
                        "type": "histogram"
                      }
                    ],
                    "histogram2d": [
                      {
                        "colorbar": {
                          "outlinewidth": 0,
                          "ticks": ""
                        },
                        "colorscale": [
                          [
                            0,
                            "#0d0887"
                          ],
                          [
                            0.1111111111111111,
                            "#46039f"
                          ],
                          [
                            0.2222222222222222,
                            "#7201a8"
                          ],
                          [
                            0.3333333333333333,
                            "#9c179e"
                          ],
                          [
                            0.4444444444444444,
                            "#bd3786"
                          ],
                          [
                            0.5555555555555556,
                            "#d8576b"
                          ],
                          [
                            0.6666666666666666,
                            "#ed7953"
                          ],
                          [
                            0.7777777777777778,
                            "#fb9f3a"
                          ],
                          [
                            0.8888888888888888,
                            "#fdca26"
                          ],
                          [
                            1,
                            "#f0f921"
                          ]
                        ],
                        "type": "histogram2d"
                      }
                    ],
                    "histogram2dcontour": [
                      {
                        "colorbar": {
                          "outlinewidth": 0,
                          "ticks": ""
                        },
                        "colorscale": [
                          [
                            0,
                            "#0d0887"
                          ],
                          [
                            0.1111111111111111,
                            "#46039f"
                          ],
                          [
                            0.2222222222222222,
                            "#7201a8"
                          ],
                          [
                            0.3333333333333333,
                            "#9c179e"
                          ],
                          [
                            0.4444444444444444,
                            "#bd3786"
                          ],
                          [
                            0.5555555555555556,
                            "#d8576b"
                          ],
                          [
                            0.6666666666666666,
                            "#ed7953"
                          ],
                          [
                            0.7777777777777778,
                            "#fb9f3a"
                          ],
                          [
                            0.8888888888888888,
                            "#fdca26"
                          ],
                          [
                            1,
                            "#f0f921"
                          ]
                        ],
                        "type": "histogram2dcontour"
                      }
                    ],
                    "mesh3d": [
                      {
                        "colorbar": {
                          "outlinewidth": 0,
                          "ticks": ""
                        },
                        "type": "mesh3d"
                      }
                    ],
                    "parcoords": [
                      {
                        "line": {
                          "colorbar": {
                            "outlinewidth": 0,
                            "ticks": ""
                          }
                        },
                        "type": "parcoords"
                      }
                    ],
                    "pie": [
                      {
                        "automargin": true,
                        "type": "pie"
                      }
                    ],
                    "scatter": [
                      {
                        "fillpattern": {
                          "fillmode": "overlay",
                          "size": 10,
                          "solidity": 0.2
                        },
                        "type": "scatter"
                      }
                    ],
                    "scatter3d": [
                      {
                        "line": {
                          "colorbar": {
                            "outlinewidth": 0,
                            "ticks": ""
                          }
                        },
                        "marker": {
                          "colorbar": {
                            "outlinewidth": 0,
                            "ticks": ""
                          }
                        },
                        "type": "scatter3d"
                      }
                    ],
                    "scattercarpet": [
                      {
                        "marker": {
                          "colorbar": {
                            "outlinewidth": 0,
                            "ticks": ""
                          }
                        },
                        "type": "scattercarpet"
                      }
                    ],
                    "scattergeo": [
                      {
                        "marker": {
                          "colorbar": {
                            "outlinewidth": 0,
                            "ticks": ""
                          }
                        },
                        "type": "scattergeo"
                      }
                    ],
                    "scattergl": [
                      {
                        "marker": {
                          "colorbar": {
                            "outlinewidth": 0,
                            "ticks": ""
                          }
                        },
                        "type": "scattergl"
                      }
                    ],
                    "scattermap": [
                      {
                        "marker": {
                          "colorbar": {
                            "outlinewidth": 0,
                            "ticks": ""
                          }
                        },
                        "type": "scattermap"
                      }
                    ],
                    "scattermapbox": [
                      {
                        "marker": {
                          "colorbar": {
                            "outlinewidth": 0,
                            "ticks": ""
                          }
                        },
                        "type": "scattermapbox"
                      }
                    ],
                    "scatterpolar": [
                      {
                        "marker": {
                          "colorbar": {
                            "outlinewidth": 0,
                            "ticks": ""
                          }
                        },
                        "type": "scatterpolar"
                      }
                    ],
                    "scatterpolargl": [
                      {
                        "marker": {
                          "colorbar": {
                            "outlinewidth": 0,
                            "ticks": ""
                          }
                        },
                        "type": "scatterpolargl"
                      }
                    ],
                    "scatterternary": [
                      {
                        "marker": {
                          "colorbar": {
                            "outlinewidth": 0,
                            "ticks": ""
                          }
                        },
                        "type": "scatterternary"
                      }
                    ],
                    "surface": [
                      {
                        "colorbar": {
                          "outlinewidth": 0,
                          "ticks": ""
                        },
                        "colorscale": [
                          [
                            0,
                            "#0d0887"
                          ],
                          [
                            0.1111111111111111,
                            "#46039f"
                          ],
                          [
                            0.2222222222222222,
                            "#7201a8"
                          ],
                          [
                            0.3333333333333333,
                            "#9c179e"
                          ],
                          [
                            0.4444444444444444,
                            "#bd3786"
                          ],
                          [
                            0.5555555555555556,
                            "#d8576b"
                          ],
                          [
                            0.6666666666666666,
                            "#ed7953"
                          ],
                          [
                            0.7777777777777778,
                            "#fb9f3a"
                          ],
                          [
                            0.8888888888888888,
                            "#fdca26"
                          ],
                          [
                            1,
                            "#f0f921"
                          ]
                        ],
                        "type": "surface"
                      }
                    ],
                    "table": [
                      {
                        "cells": {
                          "fill": {
                            "color": "#EBF0F8"
                          },
                          "line": {
                            "color": "white"
                          }
                        },
                        "header": {
                          "fill": {
                            "color": "#C8D4E3"
                          },
                          "line": {
                            "color": "white"
                          }
                        },
                        "type": "table"
                      }
                    ]
                  },
                  "layout": {
                    "annotationdefaults": {
                      "arrowcolor": "#2a3f5f",
                      "arrowhead": 0,
                      "arrowwidth": 1
                    },
                    "autotypenumbers": "strict",
                    "coloraxis": {
                      "colorbar": {
                        "outlinewidth": 0,
                        "ticks": ""
                      }
                    },
                    "colorscale": {
                      "diverging": [
                        [
                          0,
                          "#8e0152"
                        ],
                        [
                          0.1,
                          "#c51b7d"
                        ],
                        [
                          0.2,
                          "#de77ae"
                        ],
                        [
                          0.3,
                          "#f1b6da"
                        ],
                        [
                          0.4,
                          "#fde0ef"
                        ],
                        [
                          0.5,
                          "#f7f7f7"
                        ],
                        [
                          0.6,
                          "#e6f5d0"
                        ],
                        [
                          0.7,
                          "#b8e186"
                        ],
                        [
                          0.8,
                          "#7fbc41"
                        ],
                        [
                          0.9,
                          "#4d9221"
                        ],
                        [
                          1,
                          "#276419"
                        ]
                      ],
                      "sequential": [
                        [
                          0,
                          "#0d0887"
                        ],
                        [
                          0.1111111111111111,
                          "#46039f"
                        ],
                        [
                          0.2222222222222222,
                          "#7201a8"
                        ],
                        [
                          0.3333333333333333,
                          "#9c179e"
                        ],
                        [
                          0.4444444444444444,
                          "#bd3786"
                        ],
                        [
                          0.5555555555555556,
                          "#d8576b"
                        ],
                        [
                          0.6666666666666666,
                          "#ed7953"
                        ],
                        [
                          0.7777777777777778,
                          "#fb9f3a"
                        ],
                        [
                          0.8888888888888888,
                          "#fdca26"
                        ],
                        [
                          1,
                          "#f0f921"
                        ]
                      ],
                      "sequentialminus": [
                        [
                          0,
                          "#0d0887"
                        ],
                        [
                          0.1111111111111111,
                          "#46039f"
                        ],
                        [
                          0.2222222222222222,
                          "#7201a8"
                        ],
                        [
                          0.3333333333333333,
                          "#9c179e"
                        ],
                        [
                          0.4444444444444444,
                          "#bd3786"
                        ],
                        [
                          0.5555555555555556,
                          "#d8576b"
                        ],
                        [
                          0.6666666666666666,
                          "#ed7953"
                        ],
                        [
                          0.7777777777777778,
                          "#fb9f3a"
                        ],
                        [
                          0.8888888888888888,
                          "#fdca26"
                        ],
                        [
                          1,
                          "#f0f921"
                        ]
                      ]
                    },
                    "colorway": [
                      "#636efa",
                      "#EF553B",
                      "#00cc96",
                      "#ab63fa",
                      "#FFA15A",
                      "#19d3f3",
                      "#FF6692",
                      "#B6E880",
                      "#FF97FF",
                      "#FECB52"
                    ],
                    "font": {
                      "color": "#2a3f5f"
                    },
                    "geo": {
                      "bgcolor": "white",
                      "lakecolor": "white",
                      "landcolor": "#E5ECF6",
                      "showlakes": true,
                      "showland": true,
                      "subunitcolor": "white"
                    },
                    "hoverlabel": {
                      "align": "left"
                    },
                    "hovermode": "closest",
                    "mapbox": {
                      "style": "light"
                    },
                    "paper_bgcolor": "white",
                    "plot_bgcolor": "#E5ECF6",
                    "polar": {
                      "angularaxis": {
                        "gridcolor": "white",
                        "linecolor": "white",
                        "ticks": ""
                      },
                      "bgcolor": "#E5ECF6",
                      "radialaxis": {
                        "gridcolor": "white",
                        "linecolor": "white",
                        "ticks": ""
                      }
                    },
                    "scene": {
                      "xaxis": {
                        "backgroundcolor": "#E5ECF6",
                        "gridcolor": "white",
                        "gridwidth": 2,
                        "linecolor": "white",
                        "showbackground": true,
                        "ticks": "",
                        "zerolinecolor": "white"
                      },
                      "yaxis": {
                        "backgroundcolor": "#E5ECF6",
                        "gridcolor": "white",
                        "gridwidth": 2,
                        "linecolor": "white",
                        "showbackground": true,
                        "ticks": "",
                        "zerolinecolor": "white"
                      },
                      "zaxis": {
                        "backgroundcolor": "#E5ECF6",
                        "gridcolor": "white",
                        "gridwidth": 2,
                        "linecolor": "white",
                        "showbackground": true,
                        "ticks": "",
                        "zerolinecolor": "white"
                      }
                    },
                    "shapedefaults": {
                      "line": {
                        "color": "#2a3f5f"
                      }
                    },
                    "ternary": {
                      "aaxis": {
                        "gridcolor": "white",
                        "linecolor": "white",
                        "ticks": ""
                      },
                      "baxis": {
                        "gridcolor": "white",
                        "linecolor": "white",
                        "ticks": ""
                      },
                      "bgcolor": "#E5ECF6",
                      "caxis": {
                        "gridcolor": "white",
                        "linecolor": "white",
                        "ticks": ""
                      }
                    },
                    "title": {
                      "x": 0.05
                    },
                    "xaxis": {
                      "automargin": true,
                      "gridcolor": "white",
                      "linecolor": "white",
                      "ticks": "",
                      "title": {
                        "standoff": 15
                      },
                      "zerolinecolor": "white",
                      "zerolinewidth": 2
                    },
                    "yaxis": {
                      "automargin": true,
                      "gridcolor": "white",
                      "linecolor": "white",
                      "ticks": "",
                      "title": {
                        "standoff": 15
                      },
                      "zerolinecolor": "white",
                      "zerolinewidth": 2
                    }
                  }
                },
                "title": {
                  "text": "Distribution de la taille des séquences",
                  "x": 0.5
                },
                "xaxis": {
                  "anchor": "y",
                  "domain": [
                    0,
                    1
                  ],
                  "title": {
                    "text": "Taille des séquences"
                  }
                },
                "yaxis": {
                  "anchor": "x",
                  "domain": [
                    0,
                    1
                  ],
                  "title": {
                    "text": "Nombre de séquences"
                  }
                }
              }
            }
          },
          "metadata": {},
          "output_type": "display_data"
        }
      ],
      "source": [
        "fig = px.histogram(seq_lens, nbins=30, color_discrete_sequence=px.colors.qualitative.Pastel)\n",
        "fig.update_layout(title=\"Distribution de la taille des séquences\", \n",
        "                  yaxis_title=\"Nombre de séquences\", xaxis_title=\"Taille des séquences\", title_x=0.5, showlegend=False)\n",
        "fig.show()"
      ]
    },
    {
      "cell_type": "markdown",
      "id": "50f873ca",
      "metadata": {
        "id": "50f873ca"
      },
      "source": [
        "Taille moyenne des séquences : 22 tokens. Nous allons garder des séquences à 30 tokens."
      ]
    },
    {
      "cell_type": "code",
      "execution_count": 117,
      "id": "e4422276",
      "metadata": {
        "id": "e4422276"
      },
      "outputs": [],
      "source": [
        "def pad_sequences(sequences, max_length=30):\n",
        "    return [seq[:max_length] + [0] * (max_length - len(seq)) for seq in sequences]\n",
        "\n",
        "tokens = pad_sequences(tokens)"
      ]
    },
    {
      "cell_type": "markdown",
      "id": "56c0459f",
      "metadata": {},
      "source": [
        "---"
      ]
    },
    {
      "cell_type": "markdown",
      "id": "f5b54c1e",
      "metadata": {},
      "source": [
        "## 3. Dataset and split datas"
      ]
    },
    {
      "cell_type": "markdown",
      "id": "5f1472b2",
      "metadata": {
        "id": "5f1472b2"
      },
      "source": [
        "Création du Dataset, des DataLoader et split des messages : train et validation. (80% - 20%)"
      ]
    },
    {
      "cell_type": "code",
      "execution_count": 118,
      "id": "2b863d96",
      "metadata": {
        "id": "2b863d96"
      },
      "outputs": [],
      "source": [
        "# Class ATTDataset\n",
        "class ATTDataset(Dataset):\n",
        "    def __init__(self, texts, labels):\n",
        "        self.texts = torch.tensor(texts, dtype=torch.long)\n",
        "        self.labels = torch.tensor(labels, dtype=torch.float32)\n",
        "\n",
        "    def __len__(self):\n",
        "        return len(self.texts)\n",
        "\n",
        "    def __getitem__(self, idx):\n",
        "        return self.texts[idx], self.labels[idx]\n",
        "\n",
        "df_dataset = ATTDataset(tokens, df_spam[\"label\"])\n",
        "\n",
        "# Split dataset into training (80%) and validation (20%)\n",
        "train_size = int(0.8 * len(df_dataset))\n",
        "val_size = len(df_dataset) - train_size\n",
        "train_dataset, val_dataset = random_split(df_dataset, [train_size, val_size])\n",
        "\n",
        "# Create DataLoaders\n",
        "train_loader = DataLoader(train_dataset, batch_size=32, shuffle=True)\n",
        "val_loader = DataLoader(val_dataset, batch_size=32, shuffle=False)"
      ]
    },
    {
      "cell_type": "code",
      "execution_count": 119,
      "id": "d91cf660",
      "metadata": {
        "colab": {
          "base_uri": "https://localhost:8080/"
        },
        "id": "d91cf660",
        "outputId": "0e60dd5b-79d7-4cc5-f79c-5a66613b93f2"
      },
      "outputs": [
        {
          "name": "stdout",
          "output_type": "stream",
          "text": [
            "tensor([0., 0., 0., 0., 0., 0., 0., 0., 0., 1., 0., 0., 0., 0., 0., 0., 0., 0.,\n",
            "        0., 0., 0., 0., 0., 0., 1., 0., 0., 1., 0., 0., 0., 0.])\n",
            "tensor([[ 5519,   577,  2103,   617, 42272,  1941, 17401,   323,   264, 60588,\n",
            "           584,  1436, 17636,    30,     0,     0,     0,     0,     0,     0,\n",
            "             0,     0,     0,     0,     0,     0,     0,     0,     0,     0],\n",
            "        [11649,    13,  1472,  1440,  1148,   602,  3152,    13,  2991,   287,\n",
            "             0,     0,     0,     0,     0,     0,     0,     0,     0,     0,\n",
            "             0,     0,     0,     0,     0,     0,     0,     0,     0,     0],\n",
            "        [57744,   816,    46,   816,    46,  7866,  9060,  8662,  5045,  3202,\n",
            "            30,     0,     0,     0,     0,     0,     0,     0,     0,     0,\n",
            "             0,     0,     0,     0,     0,     0,     0,     0,     0,     0],\n",
            "        [19701,    11,   358,  3358,  1650,  3010,     0,     0,     0,     0,\n",
            "             0,     0,     0,     0,     0,     0,     0,     0,     0,     0,\n",
            "             0,     0,     0,     0,     0,     0,     0,     0,     0,     0],\n",
            "        [33413,  1890,   449,   757,    13,  8489,  9523,   369,   279, 64784,\n",
            "             0,     0,     0,     0,     0,     0,     0,     0,     0,     0,\n",
            "             0,     0,     0,     0,     0,     0,     0,     0,     0,     0],\n",
            "        [28487,  8964,   264,  7564,   889, 31878,   296,  3447,   719,   568,\n",
            "           596,  1523,   304, 10007,   259, 23465,   323,   358,  1541,   956,\n",
            "          1781,   358,  1436,   743,   433,   709,  1603,  1093,   220,    23],\n",
            "        [   56,   455,   912,   810,  2736,  1131, 34776,    87,   220,    19,\n",
            "         18991,   308, 52588,   433,   709,    13,     0,     0,     0,     0,\n",
            "             0,     0,     0,     0,     0,     0,     0,     0,     0,     0],\n",
            "        [   16, 27665,    14, 10369,    28,  2822, 19150,    13,   220,    16,\n",
            "            51,   360,  6455, 27967,    14, 10369,    28,  2822, 26211,    13,\n",
            "           220,    16,    43,  7439,    14, 10369,    28,  2822, 26417,    13],\n",
            "        [ 8459,  9563,     0,  2360,   810,  3828,  4885,    13,  7557, 21577,\n",
            "           315,  3300,   389, 60950,   477,  2555,    13,  1628,  3041,  9523,\n",
            "           311,  4359,    13,     0,     0,     0,     0,     0,     0,     0],\n",
            "        [ 1991,   220,    18, 33865,  9635, 16630,    11, 10052, 40132,    76,\n",
            "           220,    19, 40774,   477, 40132,    79,   220,    19, 10062,    13,\n",
            "           220,    19,   810,   733,   220,    17,  8604,  1783,  4910,   288],\n",
            "        [ 6107,   433,   574,   406,   499,   889,  1343, 20262,   433,   574,\n",
            "          4423,   449,   264,  1396,  1093, 18821,     0,     0,     0,     0,\n",
            "             0,     0,     0,     0,     0,     0,     0,     0,     0,     0],\n",
            "        [ 3055,   577,  1781,   430,   904,  3828,   690, 30714,   577,  3432,\n",
            "           555,   513,   287,  4433, 36277, 74988, 17619, 17668,  3663,  4095,\n",
            "         49711,   395,   784,   939,  1286, 35163,  8054,     0,     0,     0],\n",
            "        [   40,  3782, 81911,    13,   358,   296,  2133,   311,  6212,    13,\n",
            "          1856,    89,  1650,   757,   709,  1603,   538,    13,   473,    81,\n",
            "         39476,    13,     0,     0,     0,     0,     0,     0,     0,     0],\n",
            "        [12487,  1364, 12096,  3432,    30, 74880,   126,   234, 19321,   126,\n",
            "           237,   912,  1205,   311,   272,   757,    71,  1131,     0,     0,\n",
            "             0,     0,     0,     0,     0,     0,     0,     0,     0,     0],\n",
            "        [ 2170,   422,   602,  5828,   956,  3515,  3403, 12544, 21811,    13,\n",
            "             0,     0,     0,     0,     0,     0,     0,     0,     0,     0,\n",
            "             0,     0,     0,     0,     0,     0,     0,     0,     0,     0],\n",
            "        [12174,  5509,  3868,   220,    19,   757,  1070,  1131,  3092, 16920,\n",
            "         31081,   306,  6381,     0,     0,     0,     0,     0,     0,     0,\n",
            "             0,     0,     0,     0,     0,     0,     0,     0,     0,     0],\n",
            "        [ 1688,   220,    22,   584,   690,   733,  5509,  4415,    13,     0,\n",
            "             0,     0,     0,     0,     0,     0,     0,     0,     0,     0,\n",
            "             0,     0,     0,     0,     0,     0,     0,     0,     0,     0],\n",
            "        [10445,   409,    13,  1472,  3411,  1695,  1193, 11184, 89612,     0,\n",
            "             0,     0,     0,     0,     0,     0,     0,     0,     0,     0,\n",
            "             0,     0,     0,     0,     0,     0,     0,     0,     0,     0],\n",
            "        [36227,  1077,  2555,   311,  7172,    11,   422,  1364,  5097,   433,\n",
            "           323,  3250,   956, 22752,   275,  1243,   499,  1077,  2798,  2643,\n",
            "          6068,    13,  1442,  1364, 38531,  1220,  4869,  1095,   757,  1440],\n",
            "        [27997,    11,   358,  6227,   279,  1566,   892,   584,  2751, 18570,\n",
            "          1579,   369,   279,  1176,   892,   449, 33880,   551,    53,     0,\n",
            "             0,     0,     0,     0,     0,     0,     0,     0,     0,     0],\n",
            "        [   52, 15508,   709,  2736,    30, 34776,    87,   220,    19,   384,\n",
            "         32923, 29147,   281, 19870,   433,   596,  5115,  6555,    13,     0,\n",
            "             0,     0,     0,     0,     0,     0,     0,     0,     0,     0],\n",
            "        [ 3957,  1364,  2109,  6852,    13, 11697,  8334,    68,  5614,   813,\n",
            "          4641,  1396,     0,     0,     0,     0,     0,     0,     0,     0,\n",
            "             0,     0,     0,     0,     0,     0,     0,     0,     0,     0],\n",
            "        [12947,  1578,   369,   701, 10052,  3432,    13,  3277,   374,  4433,\n",
            "         27753,  5108,   304,    13,  1628,   436,   577,  2103, 12096,   279,\n",
            "          1709, 57808,   323, 18381,    13,  3092, 13219,  2574,   527,   539],\n",
            "        [11839,  1131,     0,     0,     0,     0,     0,     0,     0,     0,\n",
            "             0,     0,     0,     0,     0,     0,     0,     0,     0,     0,\n",
            "             0,     0,     0,     0,     0,     0,     0,     0,     0,     0],\n",
            "        [29923,   311, 69392,   709,  4433,   282,   606,   449,   264, 17496,\n",
            "           502, 16630, 10052,   350, 61389,    17,    52,   220,    17,   420,\n",
            "          1495,    13,  8604,  1783,  4910,   288,  6973, 15549,    11,   279],\n",
            "        [ 2675,   690,   387,   304,   279,  2035,   315,   430,   893,     0,\n",
            "             0,     0,     0,     0,     0,     0,     0,     0,     0,     0,\n",
            "             0,     0,     0,     0,     0,     0,     0,     0,     0,     0],\n",
            "        [ 2746,   499,   527,   539, 40700,   287,  1243,  1202,  4400,     0,\n",
            "             0,     0,     0,     0,     0,     0,     0,     0,     0,     0,\n",
            "             0,     0,     0,     0,     0,     0,     0,     0,     0,     0],\n",
            "        [31765,   650, 24889, 41433,    11,  2057,  3802,   420,  5672,  3085,\n",
            "            11,   520,   499,  6812,  4587,   733,   311,  1795,  1129,  2185,\n",
            "          1770,  2442, 13855,  6973, 15549, 10991,  1637,    13, 26132,     5],\n",
            "        [ 6854,   577,   636, 10532, 42370,   311,   701,  4641,    30,     0,\n",
            "             0,     0,     0,     0,     0,     0,     0,     0,     0,     0,\n",
            "             0,     0,     0,     0,     0,     0,     0,     0,     0,     0],\n",
            "        [ 2169,    82,  2610,  8002,    78,  1268,  1790,   374,  8199,   369,\n",
            "         16927, 14265,   220,    17,   374,  8119,   602,  5602,   264,   502,\n",
            "           832,   369,   220,   612,  4937,    26,     2,     5,  5289,    26],\n",
            "        [ 4438, 18754,   311,  2019,   430,   602,  8815, 10087, 39537, 15890,\n",
            "          1781,   520,   682,   389,  1148,   602,  3350,  4619,   499,  6013,\n",
            "           737,  2106,    13,     0,     0,     0,     0,     0,     0,     0],\n",
            "        [   42,   597,  7251, 24805,   701, 16163,   264,  4317,    13,     0,\n",
            "             0,     0,     0,     0,     0,     0,     0,     0,     0,     0,\n",
            "             0,     0,     0,     0,     0,     0,     0,     0,     0,     0]])\n"
          ]
        }
      ],
      "source": [
        "text, label = next(iter(train_loader))\n",
        "print(label)\n",
        "print(text)"
      ]
    },
    {
      "cell_type": "markdown",
      "id": "6becdb77",
      "metadata": {},
      "source": [
        "---"
      ]
    },
    {
      "cell_type": "markdown",
      "id": "66aab88a",
      "metadata": {},
      "source": [
        "## 4. First prediction model (Classification)"
      ]
    },
    {
      "cell_type": "markdown",
      "id": "7106fb38",
      "metadata": {},
      "source": [
        "#### Définition du modèle"
      ]
    },
    {
      "cell_type": "markdown",
      "id": "3e074c9d",
      "metadata": {},
      "source": [
        "1 couche embedding (transforme les tokens en vecteurs)\n",
        "\n",
        "1 couche pooling (réduit les outputs)\n",
        "\n",
        "1 couche Linear\n",
        "\n",
        "Activation Sigmoid car nous sommes sur un problème de classification"
      ]
    },
    {
      "cell_type": "code",
      "execution_count": 120,
      "id": "qU_YWY5-hSTI",
      "metadata": {
        "id": "qU_YWY5-hSTI"
      },
      "outputs": [],
      "source": [
        "vocab_size = tokenizer.n_vocab\n",
        "\n",
        "class TextClassifier(nn.Module):\n",
        "    def __init__(self, vocab_size, embed_dim, num_class):\n",
        "        super(TextClassifier, self).__init__()\n",
        "        self.embedding = nn.Embedding(vocab_size, embed_dim, padding_idx=0)\n",
        "        self.pooling = nn.AdaptiveAvgPool1d(1)\n",
        "        self.fc = nn.Linear(embed_dim, num_class)\n",
        "\n",
        "    def forward(self, text):\n",
        "        embedded = self.embedding(text)\n",
        "        pooled = self.pooling(embedded.permute(0, 2, 1)).squeeze(2)\n",
        "        return torch.sigmoid(self.fc(pooled))\n",
        "\n",
        "model = TextClassifier(vocab_size=vocab_size,\n",
        "                      embed_dim=16,\n",
        "                      num_class=1)"
      ]
    },
    {
      "cell_type": "code",
      "execution_count": 121,
      "id": "42be21e7",
      "metadata": {
        "colab": {
          "base_uri": "https://localhost:8080/"
        },
        "id": "42be21e7",
        "outputId": "0dcfafef-0405-41d2-a493-a23f961fd02f"
      },
      "outputs": [
        {
          "name": "stdout",
          "output_type": "stream",
          "text": [
            "TextClassifier(\n",
            "  (embedding): Embedding(100277, 16, padding_idx=0)\n",
            "  (pooling): AdaptiveAvgPool1d(output_size=1)\n",
            "  (fc): Linear(in_features=16, out_features=1, bias=True)\n",
            ")\n"
          ]
        },
        {
          "data": {
            "text/plain": [
              "==========================================================================================\n",
              "Layer (type:depth-idx)                   Output Shape              Param #\n",
              "==========================================================================================\n",
              "TextClassifier                           [32, 1]                   --\n",
              "├─Embedding: 1-1                         [32, 30, 16]              1,604,432\n",
              "├─AdaptiveAvgPool1d: 1-2                 [32, 16, 1]               --\n",
              "├─Linear: 1-3                            [32, 1]                   17\n",
              "==========================================================================================\n",
              "Total params: 1,604,449\n",
              "Trainable params: 1,604,449\n",
              "Non-trainable params: 0\n",
              "Total mult-adds (Units.MEGABYTES): 51.34\n",
              "==========================================================================================\n",
              "Input size (MB): 0.01\n",
              "Forward/backward pass size (MB): 0.12\n",
              "Params size (MB): 6.42\n",
              "Estimated Total Size (MB): 6.55\n",
              "=========================================================================================="
            ]
          },
          "execution_count": 121,
          "metadata": {},
          "output_type": "execute_result"
        }
      ],
      "source": [
        "\n",
        "print(model)\n",
        "\n",
        "# Print model summary\n",
        "summary(model, input_data=text)"
      ]
    },
    {
      "cell_type": "markdown",
      "id": "c71d32cf",
      "metadata": {},
      "source": [
        "#### Entrainement"
      ]
    },
    {
      "cell_type": "markdown",
      "id": "8432a917",
      "metadata": {},
      "source": [
        "Fonction de coût : Binary Cross Entropy pour la Classification"
      ]
    },
    {
      "cell_type": "markdown",
      "id": "3f94129a",
      "metadata": {},
      "source": [
        "Optimiser : Adam"
      ]
    },
    {
      "cell_type": "markdown",
      "id": "83b3e33a",
      "metadata": {},
      "source": [
        "On entraine le modèle sur 20 epochs"
      ]
    },
    {
      "cell_type": "code",
      "execution_count": 122,
      "id": "aeedc18a",
      "metadata": {
        "colab": {
          "base_uri": "https://localhost:8080/"
        },
        "id": "aeedc18a",
        "outputId": "155506b4-492a-4e09-fc4a-40d3ce435e5e"
      },
      "outputs": [
        {
          "name": "stdout",
          "output_type": "stream",
          "text": [
            "Epoch [1/20], Loss: 0.6295, Acc: 0.8212, Val Loss: 0.5860, Val Acc: 0.8717\n",
            "Epoch [2/20], Loss: 0.5290, Acc: 0.8773, Val Loss: 0.4817, Val Acc: 0.8825\n",
            "Epoch [3/20], Loss: 0.4233, Acc: 0.8932, Val Loss: 0.3840, Val Acc: 0.9013\n",
            "Epoch [4/20], Loss: 0.3350, Acc: 0.9177, Val Loss: 0.3069, Val Acc: 0.9247\n",
            "Epoch [5/20], Loss: 0.2671, Acc: 0.9385, Val Loss: 0.2492, Val Acc: 0.9363\n",
            "Epoch [6/20], Loss: 0.2164, Acc: 0.9547, Val Loss: 0.2060, Val Acc: 0.9570\n",
            "Epoch [7/20], Loss: 0.1777, Acc: 0.9652, Val Loss: 0.1735, Val Acc: 0.9695\n",
            "Epoch [8/20], Loss: 0.1492, Acc: 0.9722, Val Loss: 0.1497, Val Acc: 0.9776\n",
            "Epoch [9/20], Loss: 0.1274, Acc: 0.9771, Val Loss: 0.1315, Val Acc: 0.9794\n",
            "Epoch [10/20], Loss: 0.1106, Acc: 0.9807, Val Loss: 0.1175, Val Acc: 0.9812\n",
            "Epoch [11/20], Loss: 0.0973, Acc: 0.9843, Val Loss: 0.1062, Val Acc: 0.9839\n",
            "Epoch [12/20], Loss: 0.0860, Acc: 0.9863, Val Loss: 0.0974, Val Acc: 0.9848\n",
            "Epoch [13/20], Loss: 0.0768, Acc: 0.9883, Val Loss: 0.0902, Val Acc: 0.9848\n",
            "Epoch [14/20], Loss: 0.0688, Acc: 0.9892, Val Loss: 0.0840, Val Acc: 0.9865\n",
            "Epoch [15/20], Loss: 0.0620, Acc: 0.9906, Val Loss: 0.0790, Val Acc: 0.9874\n",
            "Epoch [16/20], Loss: 0.0561, Acc: 0.9921, Val Loss: 0.0747, Val Acc: 0.9874\n",
            "Epoch [17/20], Loss: 0.0508, Acc: 0.9928, Val Loss: 0.0709, Val Acc: 0.9874\n",
            "Epoch [18/20], Loss: 0.0463, Acc: 0.9930, Val Loss: 0.0677, Val Acc: 0.9874\n",
            "Epoch [19/20], Loss: 0.0421, Acc: 0.9937, Val Loss: 0.0649, Val Acc: 0.9892\n",
            "Epoch [20/20], Loss: 0.0383, Acc: 0.9944, Val Loss: 0.0624, Val Acc: 0.9892\n"
          ]
        }
      ],
      "source": [
        "criterion = nn.BCELoss()\n",
        "optimizer = optim.Adam(model.parameters(), lr=0.001)\n",
        "\n",
        "def train(model, train_loader, val_loader, criterion, optimizer, epochs=100):\n",
        "\n",
        "    # Dictionary to store training & validation loss and accuracy over epochs\n",
        "    history = {\"loss\": [], \"val_loss\": [], \"accuracy\": [], \"val_accuracy\": []}\n",
        "\n",
        "    for epoch in range(epochs):  # Loop over the number of epochs\n",
        "        model.train()  # Set model to training mode\n",
        "        total_loss, correct = 0, 0  # Initialize total loss and correct predictions\n",
        "\n",
        "        # Training loop\n",
        "        for inputs, labels in train_loader:\n",
        "            optimizer.zero_grad()  # Reset gradients before each batch\n",
        "            outputs = model(inputs).squeeze()  # Forward pass\n",
        "            loss = criterion(outputs, labels)  # Compute loss\n",
        "            loss.backward()  # Backpropagation (compute gradients)\n",
        "            optimizer.step()  # Update model parameters\n",
        "\n",
        "            total_loss += loss.item()  # Accumulate batch loss\n",
        "            correct += ((outputs > 0.5) == labels).sum().item()  # Count correct predictions\n",
        "\n",
        "        # Compute average loss and accuracy for training\n",
        "        train_loss = total_loss / len(train_loader)\n",
        "        train_acc = correct / len(train_loader.dataset)\n",
        "\n",
        "        # Validation phase (without gradient computation)\n",
        "        model.eval()  # Set model to evaluation mode\n",
        "        val_loss, val_correct = 0, 0\n",
        "        with torch.no_grad():  # No need to compute gradients during validation\n",
        "            for inputs, labels in val_loader:\n",
        "                outputs = model(inputs).squeeze()  # Forward pass\n",
        "                loss = criterion(outputs, labels)  # Compute loss\n",
        "                val_loss += loss.item()  # Accumulate validation loss\n",
        "                val_correct += ((outputs > 0.5) == labels).sum().item()  # Count correct predictions\n",
        "\n",
        "        # Compute average loss and accuracy for validation\n",
        "        val_loss /= len(val_loader)\n",
        "        val_acc = val_correct / len(val_loader.dataset)\n",
        "\n",
        "        # Store metrics in history dictionary\n",
        "        history[\"loss\"].append(train_loss)\n",
        "        history[\"val_loss\"].append(val_loss)\n",
        "        history[\"accuracy\"].append(train_acc)\n",
        "        history[\"val_accuracy\"].append(val_acc)\n",
        "\n",
        "        # Print training progress\n",
        "        print(f\"Epoch [{epoch+1}/{epochs}], Loss: {train_loss:.4f}, Acc: {train_acc:.4f}, \"\n",
        "              f\"Val Loss: {val_loss:.4f}, Val Acc: {val_acc:.4f}\")\n",
        "\n",
        "    return history  # Return training history\n",
        "\n",
        "history = train(model,\n",
        "                train_loader=train_loader,\n",
        "                val_loader=val_loader,\n",
        "                criterion=criterion,\n",
        "                optimizer=optimizer,\n",
        "                epochs=20)"
      ]
    },
    {
      "cell_type": "markdown",
      "id": "0f0202b1",
      "metadata": {},
      "source": [
        "#### Sauvegarde du modèle"
      ]
    },
    {
      "cell_type": "code",
      "execution_count": 123,
      "id": "53a9275a",
      "metadata": {},
      "outputs": [],
      "source": [
        "checkpoint_path = \"../models/AT_T_DeepLearning__Model.pth\"\n",
        "torch.save({\n",
        "    \"model_state_dict\": model.state_dict(),\n",
        "    \"optimizer_state_dict\": optimizer.state_dict(),\n",
        "    \"history\": history,\n",
        "}, checkpoint_path)"
      ]
    },
    {
      "cell_type": "markdown",
      "id": "6eee6ab3",
      "metadata": {},
      "source": [
        "#### Analyse des résultats"
      ]
    },
    {
      "cell_type": "markdown",
      "id": "dad8f9dc",
      "metadata": {},
      "source": [
        "Visualisation de la fonction de coût et de l'accuracy"
      ]
    },
    {
      "cell_type": "code",
      "execution_count": 124,
      "id": "db197134",
      "metadata": {
        "colab": {
          "base_uri": "https://localhost:8080/",
          "height": 542
        },
        "id": "db197134",
        "outputId": "ecdb1036-1d9e-45af-ad39-1a81998ead71"
      },
      "outputs": [
        {
          "data": {
            "application/vnd.plotly.v1+json": {
              "config": {
                "plotlyServerURL": "https://plot.ly"
              },
              "data": [
                {
                  "marker": {
                    "color": "#4B9AC7"
                  },
                  "mode": "lines",
                  "name": "Training loss",
                  "type": "scatter",
                  "y": [
                    0.6294876660619463,
                    0.5290017313190869,
                    0.42328797153064185,
                    0.3349563638014453,
                    0.2671320462865489,
                    0.2163549844175577,
                    0.17771985908704144,
                    0.14924887706126486,
                    0.12738131447029966,
                    0.11063246471541269,
                    0.09725928152246134,
                    0.08601431331730315,
                    0.07676714900881051,
                    0.06882237525922912,
                    0.06196095984695213,
                    0.05610068900776761,
                    0.05076979147935552,
                    0.0463399981215064,
                    0.04211467978145395,
                    0.038253845780023506
                  ]
                },
                {
                  "marker": {
                    "color": "#4BE8E0"
                  },
                  "mode": "lines",
                  "name": "Validation loss",
                  "type": "scatter",
                  "y": [
                    0.5859521354947771,
                    0.48167808396475653,
                    0.38398964064461844,
                    0.30689323459352763,
                    0.24916209195341382,
                    0.20598256247384208,
                    0.1735175243445805,
                    0.14968542605638505,
                    0.1315119926418577,
                    0.11750476104872568,
                    0.10624240658112935,
                    0.09741225035062857,
                    0.0902283325791359,
                    0.08404498009809426,
                    0.07897290896092142,
                    0.07473767663219145,
                    0.07091209244515215,
                    0.06771870295384101,
                    0.06491754060345037,
                    0.0624382901138493
                  ]
                }
              ],
              "layout": {
                "template": {
                  "data": {
                    "bar": [
                      {
                        "error_x": {
                          "color": "#2a3f5f"
                        },
                        "error_y": {
                          "color": "#2a3f5f"
                        },
                        "marker": {
                          "line": {
                            "color": "#E5ECF6",
                            "width": 0.5
                          },
                          "pattern": {
                            "fillmode": "overlay",
                            "size": 10,
                            "solidity": 0.2
                          }
                        },
                        "type": "bar"
                      }
                    ],
                    "barpolar": [
                      {
                        "marker": {
                          "line": {
                            "color": "#E5ECF6",
                            "width": 0.5
                          },
                          "pattern": {
                            "fillmode": "overlay",
                            "size": 10,
                            "solidity": 0.2
                          }
                        },
                        "type": "barpolar"
                      }
                    ],
                    "carpet": [
                      {
                        "aaxis": {
                          "endlinecolor": "#2a3f5f",
                          "gridcolor": "white",
                          "linecolor": "white",
                          "minorgridcolor": "white",
                          "startlinecolor": "#2a3f5f"
                        },
                        "baxis": {
                          "endlinecolor": "#2a3f5f",
                          "gridcolor": "white",
                          "linecolor": "white",
                          "minorgridcolor": "white",
                          "startlinecolor": "#2a3f5f"
                        },
                        "type": "carpet"
                      }
                    ],
                    "choropleth": [
                      {
                        "colorbar": {
                          "outlinewidth": 0,
                          "ticks": ""
                        },
                        "type": "choropleth"
                      }
                    ],
                    "contour": [
                      {
                        "colorbar": {
                          "outlinewidth": 0,
                          "ticks": ""
                        },
                        "colorscale": [
                          [
                            0,
                            "#0d0887"
                          ],
                          [
                            0.1111111111111111,
                            "#46039f"
                          ],
                          [
                            0.2222222222222222,
                            "#7201a8"
                          ],
                          [
                            0.3333333333333333,
                            "#9c179e"
                          ],
                          [
                            0.4444444444444444,
                            "#bd3786"
                          ],
                          [
                            0.5555555555555556,
                            "#d8576b"
                          ],
                          [
                            0.6666666666666666,
                            "#ed7953"
                          ],
                          [
                            0.7777777777777778,
                            "#fb9f3a"
                          ],
                          [
                            0.8888888888888888,
                            "#fdca26"
                          ],
                          [
                            1,
                            "#f0f921"
                          ]
                        ],
                        "type": "contour"
                      }
                    ],
                    "contourcarpet": [
                      {
                        "colorbar": {
                          "outlinewidth": 0,
                          "ticks": ""
                        },
                        "type": "contourcarpet"
                      }
                    ],
                    "heatmap": [
                      {
                        "colorbar": {
                          "outlinewidth": 0,
                          "ticks": ""
                        },
                        "colorscale": [
                          [
                            0,
                            "#0d0887"
                          ],
                          [
                            0.1111111111111111,
                            "#46039f"
                          ],
                          [
                            0.2222222222222222,
                            "#7201a8"
                          ],
                          [
                            0.3333333333333333,
                            "#9c179e"
                          ],
                          [
                            0.4444444444444444,
                            "#bd3786"
                          ],
                          [
                            0.5555555555555556,
                            "#d8576b"
                          ],
                          [
                            0.6666666666666666,
                            "#ed7953"
                          ],
                          [
                            0.7777777777777778,
                            "#fb9f3a"
                          ],
                          [
                            0.8888888888888888,
                            "#fdca26"
                          ],
                          [
                            1,
                            "#f0f921"
                          ]
                        ],
                        "type": "heatmap"
                      }
                    ],
                    "histogram": [
                      {
                        "marker": {
                          "pattern": {
                            "fillmode": "overlay",
                            "size": 10,
                            "solidity": 0.2
                          }
                        },
                        "type": "histogram"
                      }
                    ],
                    "histogram2d": [
                      {
                        "colorbar": {
                          "outlinewidth": 0,
                          "ticks": ""
                        },
                        "colorscale": [
                          [
                            0,
                            "#0d0887"
                          ],
                          [
                            0.1111111111111111,
                            "#46039f"
                          ],
                          [
                            0.2222222222222222,
                            "#7201a8"
                          ],
                          [
                            0.3333333333333333,
                            "#9c179e"
                          ],
                          [
                            0.4444444444444444,
                            "#bd3786"
                          ],
                          [
                            0.5555555555555556,
                            "#d8576b"
                          ],
                          [
                            0.6666666666666666,
                            "#ed7953"
                          ],
                          [
                            0.7777777777777778,
                            "#fb9f3a"
                          ],
                          [
                            0.8888888888888888,
                            "#fdca26"
                          ],
                          [
                            1,
                            "#f0f921"
                          ]
                        ],
                        "type": "histogram2d"
                      }
                    ],
                    "histogram2dcontour": [
                      {
                        "colorbar": {
                          "outlinewidth": 0,
                          "ticks": ""
                        },
                        "colorscale": [
                          [
                            0,
                            "#0d0887"
                          ],
                          [
                            0.1111111111111111,
                            "#46039f"
                          ],
                          [
                            0.2222222222222222,
                            "#7201a8"
                          ],
                          [
                            0.3333333333333333,
                            "#9c179e"
                          ],
                          [
                            0.4444444444444444,
                            "#bd3786"
                          ],
                          [
                            0.5555555555555556,
                            "#d8576b"
                          ],
                          [
                            0.6666666666666666,
                            "#ed7953"
                          ],
                          [
                            0.7777777777777778,
                            "#fb9f3a"
                          ],
                          [
                            0.8888888888888888,
                            "#fdca26"
                          ],
                          [
                            1,
                            "#f0f921"
                          ]
                        ],
                        "type": "histogram2dcontour"
                      }
                    ],
                    "mesh3d": [
                      {
                        "colorbar": {
                          "outlinewidth": 0,
                          "ticks": ""
                        },
                        "type": "mesh3d"
                      }
                    ],
                    "parcoords": [
                      {
                        "line": {
                          "colorbar": {
                            "outlinewidth": 0,
                            "ticks": ""
                          }
                        },
                        "type": "parcoords"
                      }
                    ],
                    "pie": [
                      {
                        "automargin": true,
                        "type": "pie"
                      }
                    ],
                    "scatter": [
                      {
                        "fillpattern": {
                          "fillmode": "overlay",
                          "size": 10,
                          "solidity": 0.2
                        },
                        "type": "scatter"
                      }
                    ],
                    "scatter3d": [
                      {
                        "line": {
                          "colorbar": {
                            "outlinewidth": 0,
                            "ticks": ""
                          }
                        },
                        "marker": {
                          "colorbar": {
                            "outlinewidth": 0,
                            "ticks": ""
                          }
                        },
                        "type": "scatter3d"
                      }
                    ],
                    "scattercarpet": [
                      {
                        "marker": {
                          "colorbar": {
                            "outlinewidth": 0,
                            "ticks": ""
                          }
                        },
                        "type": "scattercarpet"
                      }
                    ],
                    "scattergeo": [
                      {
                        "marker": {
                          "colorbar": {
                            "outlinewidth": 0,
                            "ticks": ""
                          }
                        },
                        "type": "scattergeo"
                      }
                    ],
                    "scattergl": [
                      {
                        "marker": {
                          "colorbar": {
                            "outlinewidth": 0,
                            "ticks": ""
                          }
                        },
                        "type": "scattergl"
                      }
                    ],
                    "scattermap": [
                      {
                        "marker": {
                          "colorbar": {
                            "outlinewidth": 0,
                            "ticks": ""
                          }
                        },
                        "type": "scattermap"
                      }
                    ],
                    "scattermapbox": [
                      {
                        "marker": {
                          "colorbar": {
                            "outlinewidth": 0,
                            "ticks": ""
                          }
                        },
                        "type": "scattermapbox"
                      }
                    ],
                    "scatterpolar": [
                      {
                        "marker": {
                          "colorbar": {
                            "outlinewidth": 0,
                            "ticks": ""
                          }
                        },
                        "type": "scatterpolar"
                      }
                    ],
                    "scatterpolargl": [
                      {
                        "marker": {
                          "colorbar": {
                            "outlinewidth": 0,
                            "ticks": ""
                          }
                        },
                        "type": "scatterpolargl"
                      }
                    ],
                    "scatterternary": [
                      {
                        "marker": {
                          "colorbar": {
                            "outlinewidth": 0,
                            "ticks": ""
                          }
                        },
                        "type": "scatterternary"
                      }
                    ],
                    "surface": [
                      {
                        "colorbar": {
                          "outlinewidth": 0,
                          "ticks": ""
                        },
                        "colorscale": [
                          [
                            0,
                            "#0d0887"
                          ],
                          [
                            0.1111111111111111,
                            "#46039f"
                          ],
                          [
                            0.2222222222222222,
                            "#7201a8"
                          ],
                          [
                            0.3333333333333333,
                            "#9c179e"
                          ],
                          [
                            0.4444444444444444,
                            "#bd3786"
                          ],
                          [
                            0.5555555555555556,
                            "#d8576b"
                          ],
                          [
                            0.6666666666666666,
                            "#ed7953"
                          ],
                          [
                            0.7777777777777778,
                            "#fb9f3a"
                          ],
                          [
                            0.8888888888888888,
                            "#fdca26"
                          ],
                          [
                            1,
                            "#f0f921"
                          ]
                        ],
                        "type": "surface"
                      }
                    ],
                    "table": [
                      {
                        "cells": {
                          "fill": {
                            "color": "#EBF0F8"
                          },
                          "line": {
                            "color": "white"
                          }
                        },
                        "header": {
                          "fill": {
                            "color": "#C8D4E3"
                          },
                          "line": {
                            "color": "white"
                          }
                        },
                        "type": "table"
                      }
                    ]
                  },
                  "layout": {
                    "annotationdefaults": {
                      "arrowcolor": "#2a3f5f",
                      "arrowhead": 0,
                      "arrowwidth": 1
                    },
                    "autotypenumbers": "strict",
                    "coloraxis": {
                      "colorbar": {
                        "outlinewidth": 0,
                        "ticks": ""
                      }
                    },
                    "colorscale": {
                      "diverging": [
                        [
                          0,
                          "#8e0152"
                        ],
                        [
                          0.1,
                          "#c51b7d"
                        ],
                        [
                          0.2,
                          "#de77ae"
                        ],
                        [
                          0.3,
                          "#f1b6da"
                        ],
                        [
                          0.4,
                          "#fde0ef"
                        ],
                        [
                          0.5,
                          "#f7f7f7"
                        ],
                        [
                          0.6,
                          "#e6f5d0"
                        ],
                        [
                          0.7,
                          "#b8e186"
                        ],
                        [
                          0.8,
                          "#7fbc41"
                        ],
                        [
                          0.9,
                          "#4d9221"
                        ],
                        [
                          1,
                          "#276419"
                        ]
                      ],
                      "sequential": [
                        [
                          0,
                          "#0d0887"
                        ],
                        [
                          0.1111111111111111,
                          "#46039f"
                        ],
                        [
                          0.2222222222222222,
                          "#7201a8"
                        ],
                        [
                          0.3333333333333333,
                          "#9c179e"
                        ],
                        [
                          0.4444444444444444,
                          "#bd3786"
                        ],
                        [
                          0.5555555555555556,
                          "#d8576b"
                        ],
                        [
                          0.6666666666666666,
                          "#ed7953"
                        ],
                        [
                          0.7777777777777778,
                          "#fb9f3a"
                        ],
                        [
                          0.8888888888888888,
                          "#fdca26"
                        ],
                        [
                          1,
                          "#f0f921"
                        ]
                      ],
                      "sequentialminus": [
                        [
                          0,
                          "#0d0887"
                        ],
                        [
                          0.1111111111111111,
                          "#46039f"
                        ],
                        [
                          0.2222222222222222,
                          "#7201a8"
                        ],
                        [
                          0.3333333333333333,
                          "#9c179e"
                        ],
                        [
                          0.4444444444444444,
                          "#bd3786"
                        ],
                        [
                          0.5555555555555556,
                          "#d8576b"
                        ],
                        [
                          0.6666666666666666,
                          "#ed7953"
                        ],
                        [
                          0.7777777777777778,
                          "#fb9f3a"
                        ],
                        [
                          0.8888888888888888,
                          "#fdca26"
                        ],
                        [
                          1,
                          "#f0f921"
                        ]
                      ]
                    },
                    "colorway": [
                      "#636efa",
                      "#EF553B",
                      "#00cc96",
                      "#ab63fa",
                      "#FFA15A",
                      "#19d3f3",
                      "#FF6692",
                      "#B6E880",
                      "#FF97FF",
                      "#FECB52"
                    ],
                    "font": {
                      "color": "#2a3f5f"
                    },
                    "geo": {
                      "bgcolor": "white",
                      "lakecolor": "white",
                      "landcolor": "#E5ECF6",
                      "showlakes": true,
                      "showland": true,
                      "subunitcolor": "white"
                    },
                    "hoverlabel": {
                      "align": "left"
                    },
                    "hovermode": "closest",
                    "mapbox": {
                      "style": "light"
                    },
                    "paper_bgcolor": "white",
                    "plot_bgcolor": "#E5ECF6",
                    "polar": {
                      "angularaxis": {
                        "gridcolor": "white",
                        "linecolor": "white",
                        "ticks": ""
                      },
                      "bgcolor": "#E5ECF6",
                      "radialaxis": {
                        "gridcolor": "white",
                        "linecolor": "white",
                        "ticks": ""
                      }
                    },
                    "scene": {
                      "xaxis": {
                        "backgroundcolor": "#E5ECF6",
                        "gridcolor": "white",
                        "gridwidth": 2,
                        "linecolor": "white",
                        "showbackground": true,
                        "ticks": "",
                        "zerolinecolor": "white"
                      },
                      "yaxis": {
                        "backgroundcolor": "#E5ECF6",
                        "gridcolor": "white",
                        "gridwidth": 2,
                        "linecolor": "white",
                        "showbackground": true,
                        "ticks": "",
                        "zerolinecolor": "white"
                      },
                      "zaxis": {
                        "backgroundcolor": "#E5ECF6",
                        "gridcolor": "white",
                        "gridwidth": 2,
                        "linecolor": "white",
                        "showbackground": true,
                        "ticks": "",
                        "zerolinecolor": "white"
                      }
                    },
                    "shapedefaults": {
                      "line": {
                        "color": "#2a3f5f"
                      }
                    },
                    "ternary": {
                      "aaxis": {
                        "gridcolor": "white",
                        "linecolor": "white",
                        "ticks": ""
                      },
                      "baxis": {
                        "gridcolor": "white",
                        "linecolor": "white",
                        "ticks": ""
                      },
                      "bgcolor": "#E5ECF6",
                      "caxis": {
                        "gridcolor": "white",
                        "linecolor": "white",
                        "ticks": ""
                      }
                    },
                    "title": {
                      "x": 0.05
                    },
                    "xaxis": {
                      "automargin": true,
                      "gridcolor": "white",
                      "linecolor": "white",
                      "ticks": "",
                      "title": {
                        "standoff": 15
                      },
                      "zerolinecolor": "white",
                      "zerolinewidth": 2
                    },
                    "yaxis": {
                      "automargin": true,
                      "gridcolor": "white",
                      "linecolor": "white",
                      "ticks": "",
                      "title": {
                        "standoff": 15
                      },
                      "zerolinecolor": "white",
                      "zerolinewidth": 2
                    }
                  }
                },
                "title": {
                  "text": "Training and val loss across epochs"
                },
                "xaxis": {
                  "title": {
                    "text": "epochs"
                  }
                },
                "yaxis": {
                  "title": {
                    "text": "Cross Entropy"
                  }
                }
              }
            }
          },
          "metadata": {},
          "output_type": "display_data"
        }
      ],
      "source": [
        "color_chart = [\"#4B9AC7\", \"#4BE8E0\", \"#9DD4F3\", \"#97FBF6\", \"#2A7FAF\", \"#23B1AB\", \"#0E3449\", \"#015955\"]\n",
        "\n",
        "fig = go.Figure(data=[\n",
        "                      go.Scatter(\n",
        "                          y=history[\"loss\"],\n",
        "                          name=\"Training loss\",\n",
        "                          mode=\"lines\",\n",
        "                          marker=dict(\n",
        "                              color=color_chart[0]\n",
        "                          )),\n",
        "                      go.Scatter(\n",
        "                          y=history[\"val_loss\"],\n",
        "                          name=\"Validation loss\",\n",
        "                          mode=\"lines\",\n",
        "                          marker=dict(\n",
        "                              color=color_chart[1]\n",
        "                          ))\n",
        "])\n",
        "fig.update_layout(\n",
        "    title=\"Training and val loss across epochs\",\n",
        "    xaxis_title=\"epochs\",\n",
        "    yaxis_title=\"Cross Entropy\"\n",
        ")\n",
        "fig.show()"
      ]
    },
    {
      "cell_type": "code",
      "execution_count": 125,
      "id": "1010a63d",
      "metadata": {
        "colab": {
          "base_uri": "https://localhost:8080/",
          "height": 542
        },
        "id": "1010a63d",
        "outputId": "2068673d-6a18-496c-b94d-891cee5e5292"
      },
      "outputs": [
        {
          "data": {
            "application/vnd.plotly.v1+json": {
              "config": {
                "plotlyServerURL": "https://plot.ly"
              },
              "data": [
                {
                  "marker": {
                    "color": "#4B9AC7"
                  },
                  "mode": "lines",
                  "name": "Training Accuracy",
                  "type": "scatter",
                  "y": [
                    0.8211801660309626,
                    0.87727170742652,
                    0.8932017051828585,
                    0.9176576172313216,
                    0.9385236706304689,
                    0.9546780345523895,
                    0.9652232443347544,
                    0.9721785954678035,
                    0.9771146511106125,
                    0.9807045097599282,
                    0.9842943684092439,
                    0.9863136638994839,
                    0.988332959389724,
                    0.989230424052053,
                    0.9905766210455463,
                    0.9921471842046219,
                    0.9928202827013687,
                    0.9930446488669509,
                    0.9937177473636976,
                    0.9943908458604442
                  ]
                },
                {
                  "marker": {
                    "color": "#4BE8E0"
                  },
                  "mode": "lines",
                  "name": "Validation Accuracy",
                  "type": "scatter",
                  "y": [
                    0.8717488789237668,
                    0.8825112107623319,
                    0.9013452914798207,
                    0.9246636771300448,
                    0.9363228699551569,
                    0.95695067264574,
                    0.9695067264573991,
                    0.9775784753363229,
                    0.979372197309417,
                    0.9811659192825112,
                    0.9838565022421525,
                    0.9847533632286996,
                    0.9847533632286996,
                    0.9865470852017937,
                    0.9874439461883409,
                    0.9874439461883409,
                    0.9874439461883409,
                    0.9874439461883409,
                    0.989237668161435,
                    0.989237668161435
                  ]
                }
              ],
              "layout": {
                "template": {
                  "data": {
                    "bar": [
                      {
                        "error_x": {
                          "color": "#2a3f5f"
                        },
                        "error_y": {
                          "color": "#2a3f5f"
                        },
                        "marker": {
                          "line": {
                            "color": "#E5ECF6",
                            "width": 0.5
                          },
                          "pattern": {
                            "fillmode": "overlay",
                            "size": 10,
                            "solidity": 0.2
                          }
                        },
                        "type": "bar"
                      }
                    ],
                    "barpolar": [
                      {
                        "marker": {
                          "line": {
                            "color": "#E5ECF6",
                            "width": 0.5
                          },
                          "pattern": {
                            "fillmode": "overlay",
                            "size": 10,
                            "solidity": 0.2
                          }
                        },
                        "type": "barpolar"
                      }
                    ],
                    "carpet": [
                      {
                        "aaxis": {
                          "endlinecolor": "#2a3f5f",
                          "gridcolor": "white",
                          "linecolor": "white",
                          "minorgridcolor": "white",
                          "startlinecolor": "#2a3f5f"
                        },
                        "baxis": {
                          "endlinecolor": "#2a3f5f",
                          "gridcolor": "white",
                          "linecolor": "white",
                          "minorgridcolor": "white",
                          "startlinecolor": "#2a3f5f"
                        },
                        "type": "carpet"
                      }
                    ],
                    "choropleth": [
                      {
                        "colorbar": {
                          "outlinewidth": 0,
                          "ticks": ""
                        },
                        "type": "choropleth"
                      }
                    ],
                    "contour": [
                      {
                        "colorbar": {
                          "outlinewidth": 0,
                          "ticks": ""
                        },
                        "colorscale": [
                          [
                            0,
                            "#0d0887"
                          ],
                          [
                            0.1111111111111111,
                            "#46039f"
                          ],
                          [
                            0.2222222222222222,
                            "#7201a8"
                          ],
                          [
                            0.3333333333333333,
                            "#9c179e"
                          ],
                          [
                            0.4444444444444444,
                            "#bd3786"
                          ],
                          [
                            0.5555555555555556,
                            "#d8576b"
                          ],
                          [
                            0.6666666666666666,
                            "#ed7953"
                          ],
                          [
                            0.7777777777777778,
                            "#fb9f3a"
                          ],
                          [
                            0.8888888888888888,
                            "#fdca26"
                          ],
                          [
                            1,
                            "#f0f921"
                          ]
                        ],
                        "type": "contour"
                      }
                    ],
                    "contourcarpet": [
                      {
                        "colorbar": {
                          "outlinewidth": 0,
                          "ticks": ""
                        },
                        "type": "contourcarpet"
                      }
                    ],
                    "heatmap": [
                      {
                        "colorbar": {
                          "outlinewidth": 0,
                          "ticks": ""
                        },
                        "colorscale": [
                          [
                            0,
                            "#0d0887"
                          ],
                          [
                            0.1111111111111111,
                            "#46039f"
                          ],
                          [
                            0.2222222222222222,
                            "#7201a8"
                          ],
                          [
                            0.3333333333333333,
                            "#9c179e"
                          ],
                          [
                            0.4444444444444444,
                            "#bd3786"
                          ],
                          [
                            0.5555555555555556,
                            "#d8576b"
                          ],
                          [
                            0.6666666666666666,
                            "#ed7953"
                          ],
                          [
                            0.7777777777777778,
                            "#fb9f3a"
                          ],
                          [
                            0.8888888888888888,
                            "#fdca26"
                          ],
                          [
                            1,
                            "#f0f921"
                          ]
                        ],
                        "type": "heatmap"
                      }
                    ],
                    "histogram": [
                      {
                        "marker": {
                          "pattern": {
                            "fillmode": "overlay",
                            "size": 10,
                            "solidity": 0.2
                          }
                        },
                        "type": "histogram"
                      }
                    ],
                    "histogram2d": [
                      {
                        "colorbar": {
                          "outlinewidth": 0,
                          "ticks": ""
                        },
                        "colorscale": [
                          [
                            0,
                            "#0d0887"
                          ],
                          [
                            0.1111111111111111,
                            "#46039f"
                          ],
                          [
                            0.2222222222222222,
                            "#7201a8"
                          ],
                          [
                            0.3333333333333333,
                            "#9c179e"
                          ],
                          [
                            0.4444444444444444,
                            "#bd3786"
                          ],
                          [
                            0.5555555555555556,
                            "#d8576b"
                          ],
                          [
                            0.6666666666666666,
                            "#ed7953"
                          ],
                          [
                            0.7777777777777778,
                            "#fb9f3a"
                          ],
                          [
                            0.8888888888888888,
                            "#fdca26"
                          ],
                          [
                            1,
                            "#f0f921"
                          ]
                        ],
                        "type": "histogram2d"
                      }
                    ],
                    "histogram2dcontour": [
                      {
                        "colorbar": {
                          "outlinewidth": 0,
                          "ticks": ""
                        },
                        "colorscale": [
                          [
                            0,
                            "#0d0887"
                          ],
                          [
                            0.1111111111111111,
                            "#46039f"
                          ],
                          [
                            0.2222222222222222,
                            "#7201a8"
                          ],
                          [
                            0.3333333333333333,
                            "#9c179e"
                          ],
                          [
                            0.4444444444444444,
                            "#bd3786"
                          ],
                          [
                            0.5555555555555556,
                            "#d8576b"
                          ],
                          [
                            0.6666666666666666,
                            "#ed7953"
                          ],
                          [
                            0.7777777777777778,
                            "#fb9f3a"
                          ],
                          [
                            0.8888888888888888,
                            "#fdca26"
                          ],
                          [
                            1,
                            "#f0f921"
                          ]
                        ],
                        "type": "histogram2dcontour"
                      }
                    ],
                    "mesh3d": [
                      {
                        "colorbar": {
                          "outlinewidth": 0,
                          "ticks": ""
                        },
                        "type": "mesh3d"
                      }
                    ],
                    "parcoords": [
                      {
                        "line": {
                          "colorbar": {
                            "outlinewidth": 0,
                            "ticks": ""
                          }
                        },
                        "type": "parcoords"
                      }
                    ],
                    "pie": [
                      {
                        "automargin": true,
                        "type": "pie"
                      }
                    ],
                    "scatter": [
                      {
                        "fillpattern": {
                          "fillmode": "overlay",
                          "size": 10,
                          "solidity": 0.2
                        },
                        "type": "scatter"
                      }
                    ],
                    "scatter3d": [
                      {
                        "line": {
                          "colorbar": {
                            "outlinewidth": 0,
                            "ticks": ""
                          }
                        },
                        "marker": {
                          "colorbar": {
                            "outlinewidth": 0,
                            "ticks": ""
                          }
                        },
                        "type": "scatter3d"
                      }
                    ],
                    "scattercarpet": [
                      {
                        "marker": {
                          "colorbar": {
                            "outlinewidth": 0,
                            "ticks": ""
                          }
                        },
                        "type": "scattercarpet"
                      }
                    ],
                    "scattergeo": [
                      {
                        "marker": {
                          "colorbar": {
                            "outlinewidth": 0,
                            "ticks": ""
                          }
                        },
                        "type": "scattergeo"
                      }
                    ],
                    "scattergl": [
                      {
                        "marker": {
                          "colorbar": {
                            "outlinewidth": 0,
                            "ticks": ""
                          }
                        },
                        "type": "scattergl"
                      }
                    ],
                    "scattermap": [
                      {
                        "marker": {
                          "colorbar": {
                            "outlinewidth": 0,
                            "ticks": ""
                          }
                        },
                        "type": "scattermap"
                      }
                    ],
                    "scattermapbox": [
                      {
                        "marker": {
                          "colorbar": {
                            "outlinewidth": 0,
                            "ticks": ""
                          }
                        },
                        "type": "scattermapbox"
                      }
                    ],
                    "scatterpolar": [
                      {
                        "marker": {
                          "colorbar": {
                            "outlinewidth": 0,
                            "ticks": ""
                          }
                        },
                        "type": "scatterpolar"
                      }
                    ],
                    "scatterpolargl": [
                      {
                        "marker": {
                          "colorbar": {
                            "outlinewidth": 0,
                            "ticks": ""
                          }
                        },
                        "type": "scatterpolargl"
                      }
                    ],
                    "scatterternary": [
                      {
                        "marker": {
                          "colorbar": {
                            "outlinewidth": 0,
                            "ticks": ""
                          }
                        },
                        "type": "scatterternary"
                      }
                    ],
                    "surface": [
                      {
                        "colorbar": {
                          "outlinewidth": 0,
                          "ticks": ""
                        },
                        "colorscale": [
                          [
                            0,
                            "#0d0887"
                          ],
                          [
                            0.1111111111111111,
                            "#46039f"
                          ],
                          [
                            0.2222222222222222,
                            "#7201a8"
                          ],
                          [
                            0.3333333333333333,
                            "#9c179e"
                          ],
                          [
                            0.4444444444444444,
                            "#bd3786"
                          ],
                          [
                            0.5555555555555556,
                            "#d8576b"
                          ],
                          [
                            0.6666666666666666,
                            "#ed7953"
                          ],
                          [
                            0.7777777777777778,
                            "#fb9f3a"
                          ],
                          [
                            0.8888888888888888,
                            "#fdca26"
                          ],
                          [
                            1,
                            "#f0f921"
                          ]
                        ],
                        "type": "surface"
                      }
                    ],
                    "table": [
                      {
                        "cells": {
                          "fill": {
                            "color": "#EBF0F8"
                          },
                          "line": {
                            "color": "white"
                          }
                        },
                        "header": {
                          "fill": {
                            "color": "#C8D4E3"
                          },
                          "line": {
                            "color": "white"
                          }
                        },
                        "type": "table"
                      }
                    ]
                  },
                  "layout": {
                    "annotationdefaults": {
                      "arrowcolor": "#2a3f5f",
                      "arrowhead": 0,
                      "arrowwidth": 1
                    },
                    "autotypenumbers": "strict",
                    "coloraxis": {
                      "colorbar": {
                        "outlinewidth": 0,
                        "ticks": ""
                      }
                    },
                    "colorscale": {
                      "diverging": [
                        [
                          0,
                          "#8e0152"
                        ],
                        [
                          0.1,
                          "#c51b7d"
                        ],
                        [
                          0.2,
                          "#de77ae"
                        ],
                        [
                          0.3,
                          "#f1b6da"
                        ],
                        [
                          0.4,
                          "#fde0ef"
                        ],
                        [
                          0.5,
                          "#f7f7f7"
                        ],
                        [
                          0.6,
                          "#e6f5d0"
                        ],
                        [
                          0.7,
                          "#b8e186"
                        ],
                        [
                          0.8,
                          "#7fbc41"
                        ],
                        [
                          0.9,
                          "#4d9221"
                        ],
                        [
                          1,
                          "#276419"
                        ]
                      ],
                      "sequential": [
                        [
                          0,
                          "#0d0887"
                        ],
                        [
                          0.1111111111111111,
                          "#46039f"
                        ],
                        [
                          0.2222222222222222,
                          "#7201a8"
                        ],
                        [
                          0.3333333333333333,
                          "#9c179e"
                        ],
                        [
                          0.4444444444444444,
                          "#bd3786"
                        ],
                        [
                          0.5555555555555556,
                          "#d8576b"
                        ],
                        [
                          0.6666666666666666,
                          "#ed7953"
                        ],
                        [
                          0.7777777777777778,
                          "#fb9f3a"
                        ],
                        [
                          0.8888888888888888,
                          "#fdca26"
                        ],
                        [
                          1,
                          "#f0f921"
                        ]
                      ],
                      "sequentialminus": [
                        [
                          0,
                          "#0d0887"
                        ],
                        [
                          0.1111111111111111,
                          "#46039f"
                        ],
                        [
                          0.2222222222222222,
                          "#7201a8"
                        ],
                        [
                          0.3333333333333333,
                          "#9c179e"
                        ],
                        [
                          0.4444444444444444,
                          "#bd3786"
                        ],
                        [
                          0.5555555555555556,
                          "#d8576b"
                        ],
                        [
                          0.6666666666666666,
                          "#ed7953"
                        ],
                        [
                          0.7777777777777778,
                          "#fb9f3a"
                        ],
                        [
                          0.8888888888888888,
                          "#fdca26"
                        ],
                        [
                          1,
                          "#f0f921"
                        ]
                      ]
                    },
                    "colorway": [
                      "#636efa",
                      "#EF553B",
                      "#00cc96",
                      "#ab63fa",
                      "#FFA15A",
                      "#19d3f3",
                      "#FF6692",
                      "#B6E880",
                      "#FF97FF",
                      "#FECB52"
                    ],
                    "font": {
                      "color": "#2a3f5f"
                    },
                    "geo": {
                      "bgcolor": "white",
                      "lakecolor": "white",
                      "landcolor": "#E5ECF6",
                      "showlakes": true,
                      "showland": true,
                      "subunitcolor": "white"
                    },
                    "hoverlabel": {
                      "align": "left"
                    },
                    "hovermode": "closest",
                    "mapbox": {
                      "style": "light"
                    },
                    "paper_bgcolor": "white",
                    "plot_bgcolor": "#E5ECF6",
                    "polar": {
                      "angularaxis": {
                        "gridcolor": "white",
                        "linecolor": "white",
                        "ticks": ""
                      },
                      "bgcolor": "#E5ECF6",
                      "radialaxis": {
                        "gridcolor": "white",
                        "linecolor": "white",
                        "ticks": ""
                      }
                    },
                    "scene": {
                      "xaxis": {
                        "backgroundcolor": "#E5ECF6",
                        "gridcolor": "white",
                        "gridwidth": 2,
                        "linecolor": "white",
                        "showbackground": true,
                        "ticks": "",
                        "zerolinecolor": "white"
                      },
                      "yaxis": {
                        "backgroundcolor": "#E5ECF6",
                        "gridcolor": "white",
                        "gridwidth": 2,
                        "linecolor": "white",
                        "showbackground": true,
                        "ticks": "",
                        "zerolinecolor": "white"
                      },
                      "zaxis": {
                        "backgroundcolor": "#E5ECF6",
                        "gridcolor": "white",
                        "gridwidth": 2,
                        "linecolor": "white",
                        "showbackground": true,
                        "ticks": "",
                        "zerolinecolor": "white"
                      }
                    },
                    "shapedefaults": {
                      "line": {
                        "color": "#2a3f5f"
                      }
                    },
                    "ternary": {
                      "aaxis": {
                        "gridcolor": "white",
                        "linecolor": "white",
                        "ticks": ""
                      },
                      "baxis": {
                        "gridcolor": "white",
                        "linecolor": "white",
                        "ticks": ""
                      },
                      "bgcolor": "#E5ECF6",
                      "caxis": {
                        "gridcolor": "white",
                        "linecolor": "white",
                        "ticks": ""
                      }
                    },
                    "title": {
                      "x": 0.05
                    },
                    "xaxis": {
                      "automargin": true,
                      "gridcolor": "white",
                      "linecolor": "white",
                      "ticks": "",
                      "title": {
                        "standoff": 15
                      },
                      "zerolinecolor": "white",
                      "zerolinewidth": 2
                    },
                    "yaxis": {
                      "automargin": true,
                      "gridcolor": "white",
                      "linecolor": "white",
                      "ticks": "",
                      "title": {
                        "standoff": 15
                      },
                      "zerolinecolor": "white",
                      "zerolinewidth": 2
                    }
                  }
                },
                "title": {
                  "text": "Training and val Accuracy across epochs"
                },
                "xaxis": {
                  "title": {
                    "text": "epochs"
                  }
                },
                "yaxis": {
                  "title": {
                    "text": "Cross Entropy"
                  }
                }
              }
            }
          },
          "metadata": {},
          "output_type": "display_data"
        }
      ],
      "source": [
        "color_chart = [\"#4B9AC7\", \"#4BE8E0\", \"#9DD4F3\", \"#97FBF6\", \"#2A7FAF\", \"#23B1AB\", \"#0E3449\", \"#015955\"]\n",
        "\n",
        "fig = go.Figure(data=[\n",
        "                      go.Scatter(\n",
        "                          y=history[\"accuracy\"],\n",
        "                          name=\"Training Accuracy\",\n",
        "                          mode=\"lines\",\n",
        "                          marker=dict(\n",
        "                              color=color_chart[0]\n",
        "                          )),\n",
        "                      go.Scatter(\n",
        "                          y=history[\"val_accuracy\"],\n",
        "                          name=\"Validation Accuracy\",\n",
        "                          mode=\"lines\",\n",
        "                          marker=dict(\n",
        "                              color=color_chart[1]\n",
        "                          ))\n",
        "])\n",
        "fig.update_layout(\n",
        "    title=\"Training and val Accuracy across epochs\",\n",
        "    xaxis_title=\"epochs\",\n",
        "    yaxis_title=\"Cross Entropy\"\n",
        ")\n",
        "fig.show()"
      ]
    },
    {
      "cell_type": "code",
      "execution_count": 126,
      "id": "ba5e7680",
      "metadata": {},
      "outputs": [
        {
          "name": "stdout",
          "output_type": "stream",
          "text": [
            "{'loss': 0.038253845780023506, 'val_loss': 0.0624382901138493, 'accuracy': 0.9943908458604442, 'val_accuracy': 0.989237668161435}\n"
          ]
        }
      ],
      "source": [
        "final_history = {key: valeur[-1] for key, valeur in history.items()}\n",
        "print(final_history)"
      ]
    },
    {
      "cell_type": "markdown",
      "id": "36f757bb",
      "metadata": {},
      "source": [
        "A première vue, le modèle classe plutôt bien les spams et hams.\n",
        "\n",
        "Sur le set de train la loss est de 0.038 et l'accuracy de 0.994.\n",
        "\n",
        "Sur le set de validation la loss est de 0.062 et l'accuracy de 0.989."
      ]
    },
    {
      "cell_type": "markdown",
      "id": "22d5b7f2",
      "metadata": {
        "id": "22d5b7f2"
      },
      "source": [
        "#### Analyse des erreurs : là où le modèle s'est trompé"
      ]
    },
    {
      "cell_type": "code",
      "execution_count": 127,
      "id": "3875b46e",
      "metadata": {
        "id": "3875b46e"
      },
      "outputs": [],
      "source": [
        "# Function to evaluate the model and get worst predictions\n",
        "def evaluate_worst_predictions(model, dataloader, tokenizer):\n",
        "    # Set model to evaluation mode to disable dropout and batch normalization\n",
        "    model.eval()\n",
        "\n",
        "    # Lists to store all predictions, labels, errors, and inputs for analysis\n",
        "    list_predictions = []\n",
        "    list_labels = []\n",
        "    list_errors = []\n",
        "    list_inputs = []\n",
        "\n",
        "    # No gradients needed during evaluation for efficiency\n",
        "    with torch.no_grad():\n",
        "        for batch in dataloader:\n",
        "            # Extract inputs and labels from the batch\n",
        "            inputs, labels = batch\n",
        "            outputs = model(inputs) # Forward pass: Get model predictions\n",
        "\n",
        "            # Convert outputs to predicted class for classification problems\n",
        "            #preds = torch.argmax(outputs, dim=1)\n",
        "            preds = (outputs >= 0.5).int().squeeze()\n",
        "            errors = (preds != labels).float()  # Misclassified observations\n",
        "            \n",
        "            # Store predictions, labels, errors, and raw inputs for further analysis\n",
        "            list_predictions.extend(preds.cpu().numpy())\n",
        "            list_labels.extend(int(x) for x in labels.cpu().numpy())\n",
        "            list_errors.extend(errors.cpu().numpy())\n",
        "            list_inputs.extend(inputs.cpu().numpy())\n",
        "\n",
        "    # Convert stored results into a Pandas DataFrame for easy analysis\n",
        "    # Decode tokenized text back into human-readable text\n",
        "    df_results = pd.DataFrame({\n",
        "        \"True_Label\": list_labels,\n",
        "        \"Predicted\": list_predictions,\n",
        "        \"Error\": list_errors,\n",
        "        \"Inputs\": list_inputs,\n",
        "        \"Text\" : [tokenizer.decode(input) for input in list_inputs]\n",
        "    })\n",
        "\n",
        "    # Sort the DataFrame by highest error to identify the worst predictions\n",
        "    df_results_sorted = df_results.sort_values(by=\"Error\", ascending=False)\n",
        "\n",
        "    # Return the sorted DataFrame containing worst predictions\n",
        "    return df_results_sorted\n",
        "\n",
        "# Evaluate worst predictions on validation set\n",
        "worst_predictions_val = evaluate_worst_predictions(model, val_loader, tokenizer)\n",
        "\n",
        "# Evaluate worst predictions on training set\n",
        "worst_predictions_train = evaluate_worst_predictions(model, train_loader, tokenizer)"
      ]
    },
    {
      "cell_type": "code",
      "execution_count": 128,
      "id": "5aa2750a",
      "metadata": {},
      "outputs": [
        {
          "data": {
            "text/plain": [
              "Predicted\n",
              "0    3882\n",
              "1     575\n",
              "Name: count, dtype: int64"
            ]
          },
          "execution_count": 128,
          "metadata": {},
          "output_type": "execute_result"
        }
      ],
      "source": [
        "worst_predictions_train[\"Predicted\"].value_counts()"
      ]
    },
    {
      "cell_type": "markdown",
      "id": "e9952394",
      "metadata": {},
      "source": [
        "Analyse des pires prédictions sur le set d'entrainement"
      ]
    },
    {
      "cell_type": "code",
      "execution_count": 129,
      "id": "fa011c2e",
      "metadata": {
        "colab": {
          "base_uri": "https://localhost:8080/",
          "height": 363
        },
        "id": "fa011c2e",
        "outputId": "87777532-57e3-45bd-8fbb-d03c58c28739"
      },
      "outputs": [
        {
          "data": {
            "text/html": [
              "<div>\n",
              "<style scoped>\n",
              "    .dataframe tbody tr th:only-of-type {\n",
              "        vertical-align: middle;\n",
              "    }\n",
              "\n",
              "    .dataframe tbody tr th {\n",
              "        vertical-align: top;\n",
              "    }\n",
              "\n",
              "    .dataframe thead th {\n",
              "        text-align: right;\n",
              "    }\n",
              "</style>\n",
              "<table border=\"1\" class=\"dataframe\">\n",
              "  <thead>\n",
              "    <tr style=\"text-align: right;\">\n",
              "      <th></th>\n",
              "      <th>True_Label</th>\n",
              "      <th>Predicted</th>\n",
              "      <th>Error</th>\n",
              "      <th>Inputs</th>\n",
              "      <th>Text</th>\n",
              "    </tr>\n",
              "  </thead>\n",
              "  <tbody>\n",
              "    <tr>\n",
              "      <th>1482</th>\n",
              "      <td>0</td>\n",
              "      <td>0</td>\n",
              "      <td>0.0</td>\n",
              "      <td>[2460, 13305, 1903, 2523, 315, 757, 3432, 13, ...</td>\n",
              "      <td>All boys made fun of me today. Ok i have no pr...</td>\n",
              "    </tr>\n",
              "    <tr>\n",
              "      <th>1490</th>\n",
              "      <td>0</td>\n",
              "      <td>0</td>\n",
              "      <td>0.0</td>\n",
              "      <td>[2675, 2751, 2663, 264, 5507, 30, 0, 0, 0, 0, ...</td>\n",
              "      <td>You got called a tool?!!!!!!!!!!!!!!!!!!!!!!!!</td>\n",
              "    </tr>\n",
              "    <tr>\n",
              "      <th>1489</th>\n",
              "      <td>1</td>\n",
              "      <td>1</td>\n",
              "      <td>0.0</td>\n",
              "      <td>[81710, 0, 4718, 220, 1049, 18, 8785, 22504, 3...</td>\n",
              "      <td>PRIVATE! Your 2003 Account Statement for 07808...</td>\n",
              "    </tr>\n",
              "    <tr>\n",
              "      <th>1488</th>\n",
              "      <td>0</td>\n",
              "      <td>0</td>\n",
              "      <td>0.0</td>\n",
              "      <td>[1829, 480, 715, 45, 1428, 31949, 52, 5745, 79...</td>\n",
              "      <td>IM GONNAMISSU SO MUCH!!I WOULD SAY IL SEND U A...</td>\n",
              "    </tr>\n",
              "    <tr>\n",
              "      <th>1487</th>\n",
              "      <td>0</td>\n",
              "      <td>0</td>\n",
              "      <td>0.0</td>\n",
              "      <td>[40, 1440, 29011, 1661, 1193, 497, 29651, 376,...</td>\n",
              "      <td>I know complain num only..bettr directly go to...</td>\n",
              "    </tr>\n",
              "    <tr>\n",
              "      <th>1486</th>\n",
              "      <td>0</td>\n",
              "      <td>0</td>\n",
              "      <td>0.0</td>\n",
              "      <td>[40, 2751, 2500, 2683, 0, 578, 832, 520, 279, ...</td>\n",
              "      <td>I got another job! The one at the hospital doi...</td>\n",
              "    </tr>\n",
              "    <tr>\n",
              "      <th>1485</th>\n",
              "      <td>0</td>\n",
              "      <td>0</td>\n",
              "      <td>0.0</td>\n",
              "      <td>[40, 50116, 270, 74, 602, 3358, 17257, 3686, 1...</td>\n",
              "      <td>I dun thk i'll quit yet... Hmmm, can go jazz ?...</td>\n",
              "    </tr>\n",
              "    <tr>\n",
              "      <th>1484</th>\n",
              "      <td>0</td>\n",
              "      <td>0</td>\n",
              "      <td>0.0</td>\n",
              "      <td>[24220, 656, 0, 4418, 33895, 126, 231, 19321, ...</td>\n",
              "      <td>Yeah do! DonÂÃÃ·t stand to close tho- youÂÃ...</td>\n",
              "    </tr>\n",
              "    <tr>\n",
              "      <th>1483</th>\n",
              "      <td>0</td>\n",
              "      <td>0</td>\n",
              "      <td>0.0</td>\n",
              "      <td>[32576, 353, 374, 1790, 4228, 3041, 701, 2759,...</td>\n",
              "      <td>Perhaps * is much easy give your account ident...</td>\n",
              "    </tr>\n",
              "    <tr>\n",
              "      <th>1491</th>\n",
              "      <td>0</td>\n",
              "      <td>0</td>\n",
              "      <td>0.0</td>\n",
              "      <td>[51537, 706, 9670, 369, 2500, 1938, 11, 6693, ...</td>\n",
              "      <td>Night has ended for another day, morning has c...</td>\n",
              "    </tr>\n",
              "  </tbody>\n",
              "</table>\n",
              "</div>"
            ],
            "text/plain": [
              "      True_Label  Predicted  Error  \\\n",
              "1482           0          0    0.0   \n",
              "1490           0          0    0.0   \n",
              "1489           1          1    0.0   \n",
              "1488           0          0    0.0   \n",
              "1487           0          0    0.0   \n",
              "1486           0          0    0.0   \n",
              "1485           0          0    0.0   \n",
              "1484           0          0    0.0   \n",
              "1483           0          0    0.0   \n",
              "1491           0          0    0.0   \n",
              "\n",
              "                                                 Inputs  \\\n",
              "1482  [2460, 13305, 1903, 2523, 315, 757, 3432, 13, ...   \n",
              "1490  [2675, 2751, 2663, 264, 5507, 30, 0, 0, 0, 0, ...   \n",
              "1489  [81710, 0, 4718, 220, 1049, 18, 8785, 22504, 3...   \n",
              "1488  [1829, 480, 715, 45, 1428, 31949, 52, 5745, 79...   \n",
              "1487  [40, 1440, 29011, 1661, 1193, 497, 29651, 376,...   \n",
              "1486  [40, 2751, 2500, 2683, 0, 578, 832, 520, 279, ...   \n",
              "1485  [40, 50116, 270, 74, 602, 3358, 17257, 3686, 1...   \n",
              "1484  [24220, 656, 0, 4418, 33895, 126, 231, 19321, ...   \n",
              "1483  [32576, 353, 374, 1790, 4228, 3041, 701, 2759,...   \n",
              "1491  [51537, 706, 9670, 369, 2500, 1938, 11, 6693, ...   \n",
              "\n",
              "                                                   Text  \n",
              "1482  All boys made fun of me today. Ok i have no pr...  \n",
              "1490     You got called a tool?!!!!!!!!!!!!!!!!!!!!!!!!  \n",
              "1489  PRIVATE! Your 2003 Account Statement for 07808...  \n",
              "1488  IM GONNAMISSU SO MUCH!!I WOULD SAY IL SEND U A...  \n",
              "1487  I know complain num only..bettr directly go to...  \n",
              "1486  I got another job! The one at the hospital doi...  \n",
              "1485  I dun thk i'll quit yet... Hmmm, can go jazz ?...  \n",
              "1484  Yeah do! DonÂÃÃ·t stand to close tho- youÂÃ...  \n",
              "1483  Perhaps * is much easy give your account ident...  \n",
              "1491  Night has ended for another day, morning has c...  "
            ]
          },
          "execution_count": 129,
          "metadata": {},
          "output_type": "execute_result"
        }
      ],
      "source": [
        "worst_predictions_train.tail(10)"
      ]
    },
    {
      "cell_type": "markdown",
      "id": "ba607abf",
      "metadata": {},
      "source": [
        "classification report"
      ]
    },
    {
      "cell_type": "code",
      "execution_count": 130,
      "id": "89fe21e7",
      "metadata": {},
      "outputs": [
        {
          "name": "stdout",
          "output_type": "stream",
          "text": [
            "              precision    recall  f1-score   support\n",
            "\n",
            "           0       0.99      1.00      1.00      3860\n",
            "           1       1.00      0.96      0.98       597\n",
            "\n",
            "    accuracy                           0.99      4457\n",
            "   macro avg       1.00      0.98      0.99      4457\n",
            "weighted avg       0.99      0.99      0.99      4457\n",
            "\n"
          ]
        }
      ],
      "source": [
        "print(classification_report(worst_predictions_train[\"True_Label\"], worst_predictions_train[\"Predicted\"]))"
      ]
    },
    {
      "cell_type": "markdown",
      "id": "aa4d936c",
      "metadata": {},
      "source": [
        "Matrice de confusion"
      ]
    },
    {
      "cell_type": "code",
      "execution_count": 131,
      "id": "430ae68b",
      "metadata": {},
      "outputs": [
        {
          "data": {
            "application/vnd.plotly.v1+json": {
              "config": {
                "plotlyServerURL": "https://plot.ly"
              },
              "data": [
                {
                  "coloraxis": "coloraxis",
                  "hovertemplate": "x: %{x}<br>y: %{y}<br>color: %{z}<extra></extra>",
                  "name": "0",
                  "texttemplate": "%{z}",
                  "type": "heatmap",
                  "x": [
                    "ham",
                    "spam"
                  ],
                  "xaxis": "x",
                  "y": [
                    "ham",
                    "spam"
                  ],
                  "yaxis": "y",
                  "z": {
                    "bdata": "Ew8BABcAPgI=",
                    "dtype": "i2",
                    "shape": "2, 2"
                  }
                }
              ],
              "layout": {
                "coloraxis": {
                  "colorscale": [
                    [
                      0,
                      "rgb(36, 86, 104)"
                    ],
                    [
                      0.16666666666666666,
                      "rgb(15, 114, 121)"
                    ],
                    [
                      0.3333333333333333,
                      "rgb(13, 143, 129)"
                    ],
                    [
                      0.5,
                      "rgb(57, 171, 126)"
                    ],
                    [
                      0.6666666666666666,
                      "rgb(110, 197, 116)"
                    ],
                    [
                      0.8333333333333334,
                      "rgb(169, 220, 103)"
                    ],
                    [
                      1,
                      "rgb(237, 239, 93)"
                    ]
                  ]
                },
                "margin": {
                  "t": 60
                },
                "template": {
                  "data": {
                    "bar": [
                      {
                        "error_x": {
                          "color": "#2a3f5f"
                        },
                        "error_y": {
                          "color": "#2a3f5f"
                        },
                        "marker": {
                          "line": {
                            "color": "#E5ECF6",
                            "width": 0.5
                          },
                          "pattern": {
                            "fillmode": "overlay",
                            "size": 10,
                            "solidity": 0.2
                          }
                        },
                        "type": "bar"
                      }
                    ],
                    "barpolar": [
                      {
                        "marker": {
                          "line": {
                            "color": "#E5ECF6",
                            "width": 0.5
                          },
                          "pattern": {
                            "fillmode": "overlay",
                            "size": 10,
                            "solidity": 0.2
                          }
                        },
                        "type": "barpolar"
                      }
                    ],
                    "carpet": [
                      {
                        "aaxis": {
                          "endlinecolor": "#2a3f5f",
                          "gridcolor": "white",
                          "linecolor": "white",
                          "minorgridcolor": "white",
                          "startlinecolor": "#2a3f5f"
                        },
                        "baxis": {
                          "endlinecolor": "#2a3f5f",
                          "gridcolor": "white",
                          "linecolor": "white",
                          "minorgridcolor": "white",
                          "startlinecolor": "#2a3f5f"
                        },
                        "type": "carpet"
                      }
                    ],
                    "choropleth": [
                      {
                        "colorbar": {
                          "outlinewidth": 0,
                          "ticks": ""
                        },
                        "type": "choropleth"
                      }
                    ],
                    "contour": [
                      {
                        "colorbar": {
                          "outlinewidth": 0,
                          "ticks": ""
                        },
                        "colorscale": [
                          [
                            0,
                            "#0d0887"
                          ],
                          [
                            0.1111111111111111,
                            "#46039f"
                          ],
                          [
                            0.2222222222222222,
                            "#7201a8"
                          ],
                          [
                            0.3333333333333333,
                            "#9c179e"
                          ],
                          [
                            0.4444444444444444,
                            "#bd3786"
                          ],
                          [
                            0.5555555555555556,
                            "#d8576b"
                          ],
                          [
                            0.6666666666666666,
                            "#ed7953"
                          ],
                          [
                            0.7777777777777778,
                            "#fb9f3a"
                          ],
                          [
                            0.8888888888888888,
                            "#fdca26"
                          ],
                          [
                            1,
                            "#f0f921"
                          ]
                        ],
                        "type": "contour"
                      }
                    ],
                    "contourcarpet": [
                      {
                        "colorbar": {
                          "outlinewidth": 0,
                          "ticks": ""
                        },
                        "type": "contourcarpet"
                      }
                    ],
                    "heatmap": [
                      {
                        "colorbar": {
                          "outlinewidth": 0,
                          "ticks": ""
                        },
                        "colorscale": [
                          [
                            0,
                            "#0d0887"
                          ],
                          [
                            0.1111111111111111,
                            "#46039f"
                          ],
                          [
                            0.2222222222222222,
                            "#7201a8"
                          ],
                          [
                            0.3333333333333333,
                            "#9c179e"
                          ],
                          [
                            0.4444444444444444,
                            "#bd3786"
                          ],
                          [
                            0.5555555555555556,
                            "#d8576b"
                          ],
                          [
                            0.6666666666666666,
                            "#ed7953"
                          ],
                          [
                            0.7777777777777778,
                            "#fb9f3a"
                          ],
                          [
                            0.8888888888888888,
                            "#fdca26"
                          ],
                          [
                            1,
                            "#f0f921"
                          ]
                        ],
                        "type": "heatmap"
                      }
                    ],
                    "histogram": [
                      {
                        "marker": {
                          "pattern": {
                            "fillmode": "overlay",
                            "size": 10,
                            "solidity": 0.2
                          }
                        },
                        "type": "histogram"
                      }
                    ],
                    "histogram2d": [
                      {
                        "colorbar": {
                          "outlinewidth": 0,
                          "ticks": ""
                        },
                        "colorscale": [
                          [
                            0,
                            "#0d0887"
                          ],
                          [
                            0.1111111111111111,
                            "#46039f"
                          ],
                          [
                            0.2222222222222222,
                            "#7201a8"
                          ],
                          [
                            0.3333333333333333,
                            "#9c179e"
                          ],
                          [
                            0.4444444444444444,
                            "#bd3786"
                          ],
                          [
                            0.5555555555555556,
                            "#d8576b"
                          ],
                          [
                            0.6666666666666666,
                            "#ed7953"
                          ],
                          [
                            0.7777777777777778,
                            "#fb9f3a"
                          ],
                          [
                            0.8888888888888888,
                            "#fdca26"
                          ],
                          [
                            1,
                            "#f0f921"
                          ]
                        ],
                        "type": "histogram2d"
                      }
                    ],
                    "histogram2dcontour": [
                      {
                        "colorbar": {
                          "outlinewidth": 0,
                          "ticks": ""
                        },
                        "colorscale": [
                          [
                            0,
                            "#0d0887"
                          ],
                          [
                            0.1111111111111111,
                            "#46039f"
                          ],
                          [
                            0.2222222222222222,
                            "#7201a8"
                          ],
                          [
                            0.3333333333333333,
                            "#9c179e"
                          ],
                          [
                            0.4444444444444444,
                            "#bd3786"
                          ],
                          [
                            0.5555555555555556,
                            "#d8576b"
                          ],
                          [
                            0.6666666666666666,
                            "#ed7953"
                          ],
                          [
                            0.7777777777777778,
                            "#fb9f3a"
                          ],
                          [
                            0.8888888888888888,
                            "#fdca26"
                          ],
                          [
                            1,
                            "#f0f921"
                          ]
                        ],
                        "type": "histogram2dcontour"
                      }
                    ],
                    "mesh3d": [
                      {
                        "colorbar": {
                          "outlinewidth": 0,
                          "ticks": ""
                        },
                        "type": "mesh3d"
                      }
                    ],
                    "parcoords": [
                      {
                        "line": {
                          "colorbar": {
                            "outlinewidth": 0,
                            "ticks": ""
                          }
                        },
                        "type": "parcoords"
                      }
                    ],
                    "pie": [
                      {
                        "automargin": true,
                        "type": "pie"
                      }
                    ],
                    "scatter": [
                      {
                        "fillpattern": {
                          "fillmode": "overlay",
                          "size": 10,
                          "solidity": 0.2
                        },
                        "type": "scatter"
                      }
                    ],
                    "scatter3d": [
                      {
                        "line": {
                          "colorbar": {
                            "outlinewidth": 0,
                            "ticks": ""
                          }
                        },
                        "marker": {
                          "colorbar": {
                            "outlinewidth": 0,
                            "ticks": ""
                          }
                        },
                        "type": "scatter3d"
                      }
                    ],
                    "scattercarpet": [
                      {
                        "marker": {
                          "colorbar": {
                            "outlinewidth": 0,
                            "ticks": ""
                          }
                        },
                        "type": "scattercarpet"
                      }
                    ],
                    "scattergeo": [
                      {
                        "marker": {
                          "colorbar": {
                            "outlinewidth": 0,
                            "ticks": ""
                          }
                        },
                        "type": "scattergeo"
                      }
                    ],
                    "scattergl": [
                      {
                        "marker": {
                          "colorbar": {
                            "outlinewidth": 0,
                            "ticks": ""
                          }
                        },
                        "type": "scattergl"
                      }
                    ],
                    "scattermap": [
                      {
                        "marker": {
                          "colorbar": {
                            "outlinewidth": 0,
                            "ticks": ""
                          }
                        },
                        "type": "scattermap"
                      }
                    ],
                    "scattermapbox": [
                      {
                        "marker": {
                          "colorbar": {
                            "outlinewidth": 0,
                            "ticks": ""
                          }
                        },
                        "type": "scattermapbox"
                      }
                    ],
                    "scatterpolar": [
                      {
                        "marker": {
                          "colorbar": {
                            "outlinewidth": 0,
                            "ticks": ""
                          }
                        },
                        "type": "scatterpolar"
                      }
                    ],
                    "scatterpolargl": [
                      {
                        "marker": {
                          "colorbar": {
                            "outlinewidth": 0,
                            "ticks": ""
                          }
                        },
                        "type": "scatterpolargl"
                      }
                    ],
                    "scatterternary": [
                      {
                        "marker": {
                          "colorbar": {
                            "outlinewidth": 0,
                            "ticks": ""
                          }
                        },
                        "type": "scatterternary"
                      }
                    ],
                    "surface": [
                      {
                        "colorbar": {
                          "outlinewidth": 0,
                          "ticks": ""
                        },
                        "colorscale": [
                          [
                            0,
                            "#0d0887"
                          ],
                          [
                            0.1111111111111111,
                            "#46039f"
                          ],
                          [
                            0.2222222222222222,
                            "#7201a8"
                          ],
                          [
                            0.3333333333333333,
                            "#9c179e"
                          ],
                          [
                            0.4444444444444444,
                            "#bd3786"
                          ],
                          [
                            0.5555555555555556,
                            "#d8576b"
                          ],
                          [
                            0.6666666666666666,
                            "#ed7953"
                          ],
                          [
                            0.7777777777777778,
                            "#fb9f3a"
                          ],
                          [
                            0.8888888888888888,
                            "#fdca26"
                          ],
                          [
                            1,
                            "#f0f921"
                          ]
                        ],
                        "type": "surface"
                      }
                    ],
                    "table": [
                      {
                        "cells": {
                          "fill": {
                            "color": "#EBF0F8"
                          },
                          "line": {
                            "color": "white"
                          }
                        },
                        "header": {
                          "fill": {
                            "color": "#C8D4E3"
                          },
                          "line": {
                            "color": "white"
                          }
                        },
                        "type": "table"
                      }
                    ]
                  },
                  "layout": {
                    "annotationdefaults": {
                      "arrowcolor": "#2a3f5f",
                      "arrowhead": 0,
                      "arrowwidth": 1
                    },
                    "autotypenumbers": "strict",
                    "coloraxis": {
                      "colorbar": {
                        "outlinewidth": 0,
                        "ticks": ""
                      }
                    },
                    "colorscale": {
                      "diverging": [
                        [
                          0,
                          "#8e0152"
                        ],
                        [
                          0.1,
                          "#c51b7d"
                        ],
                        [
                          0.2,
                          "#de77ae"
                        ],
                        [
                          0.3,
                          "#f1b6da"
                        ],
                        [
                          0.4,
                          "#fde0ef"
                        ],
                        [
                          0.5,
                          "#f7f7f7"
                        ],
                        [
                          0.6,
                          "#e6f5d0"
                        ],
                        [
                          0.7,
                          "#b8e186"
                        ],
                        [
                          0.8,
                          "#7fbc41"
                        ],
                        [
                          0.9,
                          "#4d9221"
                        ],
                        [
                          1,
                          "#276419"
                        ]
                      ],
                      "sequential": [
                        [
                          0,
                          "#0d0887"
                        ],
                        [
                          0.1111111111111111,
                          "#46039f"
                        ],
                        [
                          0.2222222222222222,
                          "#7201a8"
                        ],
                        [
                          0.3333333333333333,
                          "#9c179e"
                        ],
                        [
                          0.4444444444444444,
                          "#bd3786"
                        ],
                        [
                          0.5555555555555556,
                          "#d8576b"
                        ],
                        [
                          0.6666666666666666,
                          "#ed7953"
                        ],
                        [
                          0.7777777777777778,
                          "#fb9f3a"
                        ],
                        [
                          0.8888888888888888,
                          "#fdca26"
                        ],
                        [
                          1,
                          "#f0f921"
                        ]
                      ],
                      "sequentialminus": [
                        [
                          0,
                          "#0d0887"
                        ],
                        [
                          0.1111111111111111,
                          "#46039f"
                        ],
                        [
                          0.2222222222222222,
                          "#7201a8"
                        ],
                        [
                          0.3333333333333333,
                          "#9c179e"
                        ],
                        [
                          0.4444444444444444,
                          "#bd3786"
                        ],
                        [
                          0.5555555555555556,
                          "#d8576b"
                        ],
                        [
                          0.6666666666666666,
                          "#ed7953"
                        ],
                        [
                          0.7777777777777778,
                          "#fb9f3a"
                        ],
                        [
                          0.8888888888888888,
                          "#fdca26"
                        ],
                        [
                          1,
                          "#f0f921"
                        ]
                      ]
                    },
                    "colorway": [
                      "#636efa",
                      "#EF553B",
                      "#00cc96",
                      "#ab63fa",
                      "#FFA15A",
                      "#19d3f3",
                      "#FF6692",
                      "#B6E880",
                      "#FF97FF",
                      "#FECB52"
                    ],
                    "font": {
                      "color": "#2a3f5f"
                    },
                    "geo": {
                      "bgcolor": "white",
                      "lakecolor": "white",
                      "landcolor": "#E5ECF6",
                      "showlakes": true,
                      "showland": true,
                      "subunitcolor": "white"
                    },
                    "hoverlabel": {
                      "align": "left"
                    },
                    "hovermode": "closest",
                    "mapbox": {
                      "style": "light"
                    },
                    "paper_bgcolor": "white",
                    "plot_bgcolor": "#E5ECF6",
                    "polar": {
                      "angularaxis": {
                        "gridcolor": "white",
                        "linecolor": "white",
                        "ticks": ""
                      },
                      "bgcolor": "#E5ECF6",
                      "radialaxis": {
                        "gridcolor": "white",
                        "linecolor": "white",
                        "ticks": ""
                      }
                    },
                    "scene": {
                      "xaxis": {
                        "backgroundcolor": "#E5ECF6",
                        "gridcolor": "white",
                        "gridwidth": 2,
                        "linecolor": "white",
                        "showbackground": true,
                        "ticks": "",
                        "zerolinecolor": "white"
                      },
                      "yaxis": {
                        "backgroundcolor": "#E5ECF6",
                        "gridcolor": "white",
                        "gridwidth": 2,
                        "linecolor": "white",
                        "showbackground": true,
                        "ticks": "",
                        "zerolinecolor": "white"
                      },
                      "zaxis": {
                        "backgroundcolor": "#E5ECF6",
                        "gridcolor": "white",
                        "gridwidth": 2,
                        "linecolor": "white",
                        "showbackground": true,
                        "ticks": "",
                        "zerolinecolor": "white"
                      }
                    },
                    "shapedefaults": {
                      "line": {
                        "color": "#2a3f5f"
                      }
                    },
                    "ternary": {
                      "aaxis": {
                        "gridcolor": "white",
                        "linecolor": "white",
                        "ticks": ""
                      },
                      "baxis": {
                        "gridcolor": "white",
                        "linecolor": "white",
                        "ticks": ""
                      },
                      "bgcolor": "#E5ECF6",
                      "caxis": {
                        "gridcolor": "white",
                        "linecolor": "white",
                        "ticks": ""
                      }
                    },
                    "title": {
                      "x": 0.05
                    },
                    "xaxis": {
                      "automargin": true,
                      "gridcolor": "white",
                      "linecolor": "white",
                      "ticks": "",
                      "title": {
                        "standoff": 15
                      },
                      "zerolinecolor": "white",
                      "zerolinewidth": 2
                    },
                    "yaxis": {
                      "automargin": true,
                      "gridcolor": "white",
                      "linecolor": "white",
                      "ticks": "",
                      "title": {
                        "standoff": 15
                      },
                      "zerolinecolor": "white",
                      "zerolinewidth": 2
                    }
                  }
                },
                "xaxis": {
                  "anchor": "y",
                  "constrain": "domain",
                  "domain": [
                    0,
                    1
                  ],
                  "scaleanchor": "y"
                },
                "yaxis": {
                  "anchor": "x",
                  "autorange": "reversed",
                  "constrain": "domain",
                  "domain": [
                    0,
                    1
                  ]
                }
              }
            }
          },
          "metadata": {},
          "output_type": "display_data"
        }
      ],
      "source": [
        "mat = confusion_matrix(worst_predictions_train[\"True_Label\"], worst_predictions_train[\"Predicted\"])\n",
        "\n",
        "labels = df_spam[\"label_text\"].unique()\n",
        "df_mat = pd.DataFrame(mat, index=labels, columns=labels)\n",
        "\n",
        "px.imshow(df_mat, text_auto=True, color_continuous_scale=px.colors.sequential.Aggrnyl)"
      ]
    },
    {
      "cell_type": "markdown",
      "id": "b916e7f1",
      "metadata": {},
      "source": [
        "Analyse des pires prédictions sur le set de validation"
      ]
    },
    {
      "cell_type": "code",
      "execution_count": 132,
      "id": "c18cf192",
      "metadata": {
        "colab": {
          "base_uri": "https://localhost:8080/",
          "height": 363
        },
        "id": "c18cf192",
        "outputId": "54920196-5602-4225-e847-215739223dd7"
      },
      "outputs": [
        {
          "data": {
            "text/html": [
              "<div>\n",
              "<style scoped>\n",
              "    .dataframe tbody tr th:only-of-type {\n",
              "        vertical-align: middle;\n",
              "    }\n",
              "\n",
              "    .dataframe tbody tr th {\n",
              "        vertical-align: top;\n",
              "    }\n",
              "\n",
              "    .dataframe thead th {\n",
              "        text-align: right;\n",
              "    }\n",
              "</style>\n",
              "<table border=\"1\" class=\"dataframe\">\n",
              "  <thead>\n",
              "    <tr style=\"text-align: right;\">\n",
              "      <th></th>\n",
              "      <th>True_Label</th>\n",
              "      <th>Predicted</th>\n",
              "      <th>Error</th>\n",
              "      <th>Inputs</th>\n",
              "      <th>Text</th>\n",
              "    </tr>\n",
              "  </thead>\n",
              "  <tbody>\n",
              "    <tr>\n",
              "      <th>365</th>\n",
              "      <td>1</td>\n",
              "      <td>1</td>\n",
              "      <td>0.0</td>\n",
              "      <td>[1539, 38, 1863, 0, 4718, 6505, 2360, 220, 258...</td>\n",
              "      <td>URGENT! Your mobile No 07xxxxxxxxx won a Ã¥Â£2...</td>\n",
              "    </tr>\n",
              "    <tr>\n",
              "      <th>373</th>\n",
              "      <td>0</td>\n",
              "      <td>0</td>\n",
              "      <td>0.0</td>\n",
              "      <td>[2460, 2884, 11, 682, 23415, 304, 13, 4418, 95...</td>\n",
              "      <td>All done, all handed in. Don't know if mega sh...</td>\n",
              "    </tr>\n",
              "    <tr>\n",
              "      <th>372</th>\n",
              "      <td>0</td>\n",
              "      <td>0</td>\n",
              "      <td>0.0</td>\n",
              "      <td>[2181, 1120, 5084, 1093, 16682, 18912, 430, 27...</td>\n",
              "      <td>It just seems like weird timing that the night...</td>\n",
              "    </tr>\n",
              "    <tr>\n",
              "      <th>371</th>\n",
              "      <td>0</td>\n",
              "      <td>0</td>\n",
              "      <td>0.0</td>\n",
              "      <td>[19321, 126, 234, 19321, 126, 237, 2751, 30125...</td>\n",
              "      <td>ÃÃ got wat to buy tell us then Ã_ no need t...</td>\n",
              "    </tr>\n",
              "    <tr>\n",
              "      <th>370</th>\n",
              "      <td>0</td>\n",
              "      <td>0</td>\n",
              "      <td>0.0</td>\n",
              "      <td>[42, 358, 3358, 387, 2771, 311, 636, 709, 1603...</td>\n",
              "      <td>K I'll be sure to get up before noon and see w...</td>\n",
              "    </tr>\n",
              "    <tr>\n",
              "      <th>369</th>\n",
              "      <td>0</td>\n",
              "      <td>0</td>\n",
              "      <td>0.0</td>\n",
              "      <td>[96714, 11, 8009, 1167, 582, 3250, 956, 2559, ...</td>\n",
              "      <td>Damn, poor zac doesn't stand a chance!!!!!!!!!...</td>\n",
              "    </tr>\n",
              "    <tr>\n",
              "      <th>368</th>\n",
              "      <td>0</td>\n",
              "      <td>0</td>\n",
              "      <td>0.0</td>\n",
              "      <td>[50, 894, 3067, 497, 73, 267, 63632, 1193, 602...</td>\n",
              "      <td>Sry da..jst nw only i came to home..!!!!!!!!!!...</td>\n",
              "    </tr>\n",
              "    <tr>\n",
              "      <th>367</th>\n",
              "      <td>0</td>\n",
              "      <td>0</td>\n",
              "      <td>0.0</td>\n",
              "      <td>[2746, 358, 574, 358, 5828, 956, 12798, 6666, ...</td>\n",
              "      <td>If I was I wasn't paying attention!!!!!!!!!!!!...</td>\n",
              "    </tr>\n",
              "    <tr>\n",
              "      <th>366</th>\n",
              "      <td>0</td>\n",
              "      <td>0</td>\n",
              "      <td>0.0</td>\n",
              "      <td>[44, 76, 779, 499, 4691, 757, 539, 311, 1650, ...</td>\n",
              "      <td>Mm so you asked me not to call radio!!!!!!!!!!...</td>\n",
              "    </tr>\n",
              "    <tr>\n",
              "      <th>374</th>\n",
              "      <td>1</td>\n",
              "      <td>1</td>\n",
              "      <td>0.0</td>\n",
              "      <td>[31192, 31338, 473, 3145, 13, 2057, 3802, 4433...</td>\n",
              "      <td>Sunshine Hols. To claim ur med holiday send a ...</td>\n",
              "    </tr>\n",
              "  </tbody>\n",
              "</table>\n",
              "</div>"
            ],
            "text/plain": [
              "     True_Label  Predicted  Error  \\\n",
              "365           1          1    0.0   \n",
              "373           0          0    0.0   \n",
              "372           0          0    0.0   \n",
              "371           0          0    0.0   \n",
              "370           0          0    0.0   \n",
              "369           0          0    0.0   \n",
              "368           0          0    0.0   \n",
              "367           0          0    0.0   \n",
              "366           0          0    0.0   \n",
              "374           1          1    0.0   \n",
              "\n",
              "                                                Inputs  \\\n",
              "365  [1539, 38, 1863, 0, 4718, 6505, 2360, 220, 258...   \n",
              "373  [2460, 2884, 11, 682, 23415, 304, 13, 4418, 95...   \n",
              "372  [2181, 1120, 5084, 1093, 16682, 18912, 430, 27...   \n",
              "371  [19321, 126, 234, 19321, 126, 237, 2751, 30125...   \n",
              "370  [42, 358, 3358, 387, 2771, 311, 636, 709, 1603...   \n",
              "369  [96714, 11, 8009, 1167, 582, 3250, 956, 2559, ...   \n",
              "368  [50, 894, 3067, 497, 73, 267, 63632, 1193, 602...   \n",
              "367  [2746, 358, 574, 358, 5828, 956, 12798, 6666, ...   \n",
              "366  [44, 76, 779, 499, 4691, 757, 539, 311, 1650, ...   \n",
              "374  [31192, 31338, 473, 3145, 13, 2057, 3802, 4433...   \n",
              "\n",
              "                                                  Text  \n",
              "365  URGENT! Your mobile No 07xxxxxxxxx won a Ã¥Â£2...  \n",
              "373  All done, all handed in. Don't know if mega sh...  \n",
              "372  It just seems like weird timing that the night...  \n",
              "371  ÃÃ got wat to buy tell us then Ã_ no need t...  \n",
              "370  K I'll be sure to get up before noon and see w...  \n",
              "369  Damn, poor zac doesn't stand a chance!!!!!!!!!...  \n",
              "368  Sry da..jst nw only i came to home..!!!!!!!!!!...  \n",
              "367  If I was I wasn't paying attention!!!!!!!!!!!!...  \n",
              "366  Mm so you asked me not to call radio!!!!!!!!!!...  \n",
              "374  Sunshine Hols. To claim ur med holiday send a ...  "
            ]
          },
          "execution_count": 132,
          "metadata": {},
          "output_type": "execute_result"
        }
      ],
      "source": [
        "worst_predictions_val.tail(10)"
      ]
    },
    {
      "cell_type": "markdown",
      "id": "a69c9c8b",
      "metadata": {},
      "source": [
        "classification report"
      ]
    },
    {
      "cell_type": "code",
      "execution_count": 133,
      "id": "cc302be6",
      "metadata": {
        "colab": {
          "base_uri": "https://localhost:8080/"
        },
        "id": "cc302be6",
        "outputId": "4669f4d4-5fd4-4229-e821-38eb429d1ae8"
      },
      "outputs": [
        {
          "name": "stdout",
          "output_type": "stream",
          "text": [
            "              precision    recall  f1-score   support\n",
            "\n",
            "           0       0.99      1.00      0.99       965\n",
            "           1       0.99      0.93      0.96       150\n",
            "\n",
            "    accuracy                           0.99      1115\n",
            "   macro avg       0.99      0.97      0.98      1115\n",
            "weighted avg       0.99      0.99      0.99      1115\n",
            "\n"
          ]
        }
      ],
      "source": [
        "print(classification_report(worst_predictions_val[\"True_Label\"], worst_predictions_val[\"Predicted\"]))"
      ]
    },
    {
      "cell_type": "markdown",
      "id": "78a84d0e",
      "metadata": {},
      "source": [
        "Matrice de confusion"
      ]
    },
    {
      "cell_type": "code",
      "execution_count": 134,
      "id": "461f64fb",
      "metadata": {
        "colab": {
          "base_uri": "https://localhost:8080/",
          "height": 542
        },
        "id": "461f64fb",
        "outputId": "2c2f1ca7-2e69-47a6-b49e-32d0c626b842"
      },
      "outputs": [
        {
          "data": {
            "application/vnd.plotly.v1+json": {
              "config": {
                "plotlyServerURL": "https://plot.ly"
              },
              "data": [
                {
                  "coloraxis": "coloraxis",
                  "hovertemplate": "x: %{x}<br>y: %{y}<br>color: %{z}<extra></extra>",
                  "name": "0",
                  "texttemplate": "%{z}",
                  "type": "heatmap",
                  "x": [
                    "ham",
                    "spam"
                  ],
                  "xaxis": "x",
                  "y": [
                    "ham",
                    "spam"
                  ],
                  "yaxis": "y",
                  "z": {
                    "bdata": "wwMCAAoAjAA=",
                    "dtype": "i2",
                    "shape": "2, 2"
                  }
                }
              ],
              "layout": {
                "coloraxis": {
                  "colorscale": [
                    [
                      0,
                      "rgb(36, 86, 104)"
                    ],
                    [
                      0.16666666666666666,
                      "rgb(15, 114, 121)"
                    ],
                    [
                      0.3333333333333333,
                      "rgb(13, 143, 129)"
                    ],
                    [
                      0.5,
                      "rgb(57, 171, 126)"
                    ],
                    [
                      0.6666666666666666,
                      "rgb(110, 197, 116)"
                    ],
                    [
                      0.8333333333333334,
                      "rgb(169, 220, 103)"
                    ],
                    [
                      1,
                      "rgb(237, 239, 93)"
                    ]
                  ]
                },
                "margin": {
                  "t": 60
                },
                "template": {
                  "data": {
                    "bar": [
                      {
                        "error_x": {
                          "color": "#2a3f5f"
                        },
                        "error_y": {
                          "color": "#2a3f5f"
                        },
                        "marker": {
                          "line": {
                            "color": "#E5ECF6",
                            "width": 0.5
                          },
                          "pattern": {
                            "fillmode": "overlay",
                            "size": 10,
                            "solidity": 0.2
                          }
                        },
                        "type": "bar"
                      }
                    ],
                    "barpolar": [
                      {
                        "marker": {
                          "line": {
                            "color": "#E5ECF6",
                            "width": 0.5
                          },
                          "pattern": {
                            "fillmode": "overlay",
                            "size": 10,
                            "solidity": 0.2
                          }
                        },
                        "type": "barpolar"
                      }
                    ],
                    "carpet": [
                      {
                        "aaxis": {
                          "endlinecolor": "#2a3f5f",
                          "gridcolor": "white",
                          "linecolor": "white",
                          "minorgridcolor": "white",
                          "startlinecolor": "#2a3f5f"
                        },
                        "baxis": {
                          "endlinecolor": "#2a3f5f",
                          "gridcolor": "white",
                          "linecolor": "white",
                          "minorgridcolor": "white",
                          "startlinecolor": "#2a3f5f"
                        },
                        "type": "carpet"
                      }
                    ],
                    "choropleth": [
                      {
                        "colorbar": {
                          "outlinewidth": 0,
                          "ticks": ""
                        },
                        "type": "choropleth"
                      }
                    ],
                    "contour": [
                      {
                        "colorbar": {
                          "outlinewidth": 0,
                          "ticks": ""
                        },
                        "colorscale": [
                          [
                            0,
                            "#0d0887"
                          ],
                          [
                            0.1111111111111111,
                            "#46039f"
                          ],
                          [
                            0.2222222222222222,
                            "#7201a8"
                          ],
                          [
                            0.3333333333333333,
                            "#9c179e"
                          ],
                          [
                            0.4444444444444444,
                            "#bd3786"
                          ],
                          [
                            0.5555555555555556,
                            "#d8576b"
                          ],
                          [
                            0.6666666666666666,
                            "#ed7953"
                          ],
                          [
                            0.7777777777777778,
                            "#fb9f3a"
                          ],
                          [
                            0.8888888888888888,
                            "#fdca26"
                          ],
                          [
                            1,
                            "#f0f921"
                          ]
                        ],
                        "type": "contour"
                      }
                    ],
                    "contourcarpet": [
                      {
                        "colorbar": {
                          "outlinewidth": 0,
                          "ticks": ""
                        },
                        "type": "contourcarpet"
                      }
                    ],
                    "heatmap": [
                      {
                        "colorbar": {
                          "outlinewidth": 0,
                          "ticks": ""
                        },
                        "colorscale": [
                          [
                            0,
                            "#0d0887"
                          ],
                          [
                            0.1111111111111111,
                            "#46039f"
                          ],
                          [
                            0.2222222222222222,
                            "#7201a8"
                          ],
                          [
                            0.3333333333333333,
                            "#9c179e"
                          ],
                          [
                            0.4444444444444444,
                            "#bd3786"
                          ],
                          [
                            0.5555555555555556,
                            "#d8576b"
                          ],
                          [
                            0.6666666666666666,
                            "#ed7953"
                          ],
                          [
                            0.7777777777777778,
                            "#fb9f3a"
                          ],
                          [
                            0.8888888888888888,
                            "#fdca26"
                          ],
                          [
                            1,
                            "#f0f921"
                          ]
                        ],
                        "type": "heatmap"
                      }
                    ],
                    "histogram": [
                      {
                        "marker": {
                          "pattern": {
                            "fillmode": "overlay",
                            "size": 10,
                            "solidity": 0.2
                          }
                        },
                        "type": "histogram"
                      }
                    ],
                    "histogram2d": [
                      {
                        "colorbar": {
                          "outlinewidth": 0,
                          "ticks": ""
                        },
                        "colorscale": [
                          [
                            0,
                            "#0d0887"
                          ],
                          [
                            0.1111111111111111,
                            "#46039f"
                          ],
                          [
                            0.2222222222222222,
                            "#7201a8"
                          ],
                          [
                            0.3333333333333333,
                            "#9c179e"
                          ],
                          [
                            0.4444444444444444,
                            "#bd3786"
                          ],
                          [
                            0.5555555555555556,
                            "#d8576b"
                          ],
                          [
                            0.6666666666666666,
                            "#ed7953"
                          ],
                          [
                            0.7777777777777778,
                            "#fb9f3a"
                          ],
                          [
                            0.8888888888888888,
                            "#fdca26"
                          ],
                          [
                            1,
                            "#f0f921"
                          ]
                        ],
                        "type": "histogram2d"
                      }
                    ],
                    "histogram2dcontour": [
                      {
                        "colorbar": {
                          "outlinewidth": 0,
                          "ticks": ""
                        },
                        "colorscale": [
                          [
                            0,
                            "#0d0887"
                          ],
                          [
                            0.1111111111111111,
                            "#46039f"
                          ],
                          [
                            0.2222222222222222,
                            "#7201a8"
                          ],
                          [
                            0.3333333333333333,
                            "#9c179e"
                          ],
                          [
                            0.4444444444444444,
                            "#bd3786"
                          ],
                          [
                            0.5555555555555556,
                            "#d8576b"
                          ],
                          [
                            0.6666666666666666,
                            "#ed7953"
                          ],
                          [
                            0.7777777777777778,
                            "#fb9f3a"
                          ],
                          [
                            0.8888888888888888,
                            "#fdca26"
                          ],
                          [
                            1,
                            "#f0f921"
                          ]
                        ],
                        "type": "histogram2dcontour"
                      }
                    ],
                    "mesh3d": [
                      {
                        "colorbar": {
                          "outlinewidth": 0,
                          "ticks": ""
                        },
                        "type": "mesh3d"
                      }
                    ],
                    "parcoords": [
                      {
                        "line": {
                          "colorbar": {
                            "outlinewidth": 0,
                            "ticks": ""
                          }
                        },
                        "type": "parcoords"
                      }
                    ],
                    "pie": [
                      {
                        "automargin": true,
                        "type": "pie"
                      }
                    ],
                    "scatter": [
                      {
                        "fillpattern": {
                          "fillmode": "overlay",
                          "size": 10,
                          "solidity": 0.2
                        },
                        "type": "scatter"
                      }
                    ],
                    "scatter3d": [
                      {
                        "line": {
                          "colorbar": {
                            "outlinewidth": 0,
                            "ticks": ""
                          }
                        },
                        "marker": {
                          "colorbar": {
                            "outlinewidth": 0,
                            "ticks": ""
                          }
                        },
                        "type": "scatter3d"
                      }
                    ],
                    "scattercarpet": [
                      {
                        "marker": {
                          "colorbar": {
                            "outlinewidth": 0,
                            "ticks": ""
                          }
                        },
                        "type": "scattercarpet"
                      }
                    ],
                    "scattergeo": [
                      {
                        "marker": {
                          "colorbar": {
                            "outlinewidth": 0,
                            "ticks": ""
                          }
                        },
                        "type": "scattergeo"
                      }
                    ],
                    "scattergl": [
                      {
                        "marker": {
                          "colorbar": {
                            "outlinewidth": 0,
                            "ticks": ""
                          }
                        },
                        "type": "scattergl"
                      }
                    ],
                    "scattermap": [
                      {
                        "marker": {
                          "colorbar": {
                            "outlinewidth": 0,
                            "ticks": ""
                          }
                        },
                        "type": "scattermap"
                      }
                    ],
                    "scattermapbox": [
                      {
                        "marker": {
                          "colorbar": {
                            "outlinewidth": 0,
                            "ticks": ""
                          }
                        },
                        "type": "scattermapbox"
                      }
                    ],
                    "scatterpolar": [
                      {
                        "marker": {
                          "colorbar": {
                            "outlinewidth": 0,
                            "ticks": ""
                          }
                        },
                        "type": "scatterpolar"
                      }
                    ],
                    "scatterpolargl": [
                      {
                        "marker": {
                          "colorbar": {
                            "outlinewidth": 0,
                            "ticks": ""
                          }
                        },
                        "type": "scatterpolargl"
                      }
                    ],
                    "scatterternary": [
                      {
                        "marker": {
                          "colorbar": {
                            "outlinewidth": 0,
                            "ticks": ""
                          }
                        },
                        "type": "scatterternary"
                      }
                    ],
                    "surface": [
                      {
                        "colorbar": {
                          "outlinewidth": 0,
                          "ticks": ""
                        },
                        "colorscale": [
                          [
                            0,
                            "#0d0887"
                          ],
                          [
                            0.1111111111111111,
                            "#46039f"
                          ],
                          [
                            0.2222222222222222,
                            "#7201a8"
                          ],
                          [
                            0.3333333333333333,
                            "#9c179e"
                          ],
                          [
                            0.4444444444444444,
                            "#bd3786"
                          ],
                          [
                            0.5555555555555556,
                            "#d8576b"
                          ],
                          [
                            0.6666666666666666,
                            "#ed7953"
                          ],
                          [
                            0.7777777777777778,
                            "#fb9f3a"
                          ],
                          [
                            0.8888888888888888,
                            "#fdca26"
                          ],
                          [
                            1,
                            "#f0f921"
                          ]
                        ],
                        "type": "surface"
                      }
                    ],
                    "table": [
                      {
                        "cells": {
                          "fill": {
                            "color": "#EBF0F8"
                          },
                          "line": {
                            "color": "white"
                          }
                        },
                        "header": {
                          "fill": {
                            "color": "#C8D4E3"
                          },
                          "line": {
                            "color": "white"
                          }
                        },
                        "type": "table"
                      }
                    ]
                  },
                  "layout": {
                    "annotationdefaults": {
                      "arrowcolor": "#2a3f5f",
                      "arrowhead": 0,
                      "arrowwidth": 1
                    },
                    "autotypenumbers": "strict",
                    "coloraxis": {
                      "colorbar": {
                        "outlinewidth": 0,
                        "ticks": ""
                      }
                    },
                    "colorscale": {
                      "diverging": [
                        [
                          0,
                          "#8e0152"
                        ],
                        [
                          0.1,
                          "#c51b7d"
                        ],
                        [
                          0.2,
                          "#de77ae"
                        ],
                        [
                          0.3,
                          "#f1b6da"
                        ],
                        [
                          0.4,
                          "#fde0ef"
                        ],
                        [
                          0.5,
                          "#f7f7f7"
                        ],
                        [
                          0.6,
                          "#e6f5d0"
                        ],
                        [
                          0.7,
                          "#b8e186"
                        ],
                        [
                          0.8,
                          "#7fbc41"
                        ],
                        [
                          0.9,
                          "#4d9221"
                        ],
                        [
                          1,
                          "#276419"
                        ]
                      ],
                      "sequential": [
                        [
                          0,
                          "#0d0887"
                        ],
                        [
                          0.1111111111111111,
                          "#46039f"
                        ],
                        [
                          0.2222222222222222,
                          "#7201a8"
                        ],
                        [
                          0.3333333333333333,
                          "#9c179e"
                        ],
                        [
                          0.4444444444444444,
                          "#bd3786"
                        ],
                        [
                          0.5555555555555556,
                          "#d8576b"
                        ],
                        [
                          0.6666666666666666,
                          "#ed7953"
                        ],
                        [
                          0.7777777777777778,
                          "#fb9f3a"
                        ],
                        [
                          0.8888888888888888,
                          "#fdca26"
                        ],
                        [
                          1,
                          "#f0f921"
                        ]
                      ],
                      "sequentialminus": [
                        [
                          0,
                          "#0d0887"
                        ],
                        [
                          0.1111111111111111,
                          "#46039f"
                        ],
                        [
                          0.2222222222222222,
                          "#7201a8"
                        ],
                        [
                          0.3333333333333333,
                          "#9c179e"
                        ],
                        [
                          0.4444444444444444,
                          "#bd3786"
                        ],
                        [
                          0.5555555555555556,
                          "#d8576b"
                        ],
                        [
                          0.6666666666666666,
                          "#ed7953"
                        ],
                        [
                          0.7777777777777778,
                          "#fb9f3a"
                        ],
                        [
                          0.8888888888888888,
                          "#fdca26"
                        ],
                        [
                          1,
                          "#f0f921"
                        ]
                      ]
                    },
                    "colorway": [
                      "#636efa",
                      "#EF553B",
                      "#00cc96",
                      "#ab63fa",
                      "#FFA15A",
                      "#19d3f3",
                      "#FF6692",
                      "#B6E880",
                      "#FF97FF",
                      "#FECB52"
                    ],
                    "font": {
                      "color": "#2a3f5f"
                    },
                    "geo": {
                      "bgcolor": "white",
                      "lakecolor": "white",
                      "landcolor": "#E5ECF6",
                      "showlakes": true,
                      "showland": true,
                      "subunitcolor": "white"
                    },
                    "hoverlabel": {
                      "align": "left"
                    },
                    "hovermode": "closest",
                    "mapbox": {
                      "style": "light"
                    },
                    "paper_bgcolor": "white",
                    "plot_bgcolor": "#E5ECF6",
                    "polar": {
                      "angularaxis": {
                        "gridcolor": "white",
                        "linecolor": "white",
                        "ticks": ""
                      },
                      "bgcolor": "#E5ECF6",
                      "radialaxis": {
                        "gridcolor": "white",
                        "linecolor": "white",
                        "ticks": ""
                      }
                    },
                    "scene": {
                      "xaxis": {
                        "backgroundcolor": "#E5ECF6",
                        "gridcolor": "white",
                        "gridwidth": 2,
                        "linecolor": "white",
                        "showbackground": true,
                        "ticks": "",
                        "zerolinecolor": "white"
                      },
                      "yaxis": {
                        "backgroundcolor": "#E5ECF6",
                        "gridcolor": "white",
                        "gridwidth": 2,
                        "linecolor": "white",
                        "showbackground": true,
                        "ticks": "",
                        "zerolinecolor": "white"
                      },
                      "zaxis": {
                        "backgroundcolor": "#E5ECF6",
                        "gridcolor": "white",
                        "gridwidth": 2,
                        "linecolor": "white",
                        "showbackground": true,
                        "ticks": "",
                        "zerolinecolor": "white"
                      }
                    },
                    "shapedefaults": {
                      "line": {
                        "color": "#2a3f5f"
                      }
                    },
                    "ternary": {
                      "aaxis": {
                        "gridcolor": "white",
                        "linecolor": "white",
                        "ticks": ""
                      },
                      "baxis": {
                        "gridcolor": "white",
                        "linecolor": "white",
                        "ticks": ""
                      },
                      "bgcolor": "#E5ECF6",
                      "caxis": {
                        "gridcolor": "white",
                        "linecolor": "white",
                        "ticks": ""
                      }
                    },
                    "title": {
                      "x": 0.05
                    },
                    "xaxis": {
                      "automargin": true,
                      "gridcolor": "white",
                      "linecolor": "white",
                      "ticks": "",
                      "title": {
                        "standoff": 15
                      },
                      "zerolinecolor": "white",
                      "zerolinewidth": 2
                    },
                    "yaxis": {
                      "automargin": true,
                      "gridcolor": "white",
                      "linecolor": "white",
                      "ticks": "",
                      "title": {
                        "standoff": 15
                      },
                      "zerolinecolor": "white",
                      "zerolinewidth": 2
                    }
                  }
                },
                "xaxis": {
                  "anchor": "y",
                  "constrain": "domain",
                  "domain": [
                    0,
                    1
                  ],
                  "scaleanchor": "y"
                },
                "yaxis": {
                  "anchor": "x",
                  "autorange": "reversed",
                  "constrain": "domain",
                  "domain": [
                    0,
                    1
                  ]
                }
              }
            }
          },
          "metadata": {},
          "output_type": "display_data"
        }
      ],
      "source": [
        "mat = confusion_matrix(worst_predictions_val[\"True_Label\"], worst_predictions_val[\"Predicted\"])\n",
        "\n",
        "labels = df_spam[\"label_text\"].unique()\n",
        "df_mat = pd.DataFrame(mat, index=labels, columns=labels)\n",
        "\n",
        "px.imshow(df_mat, text_auto=True, color_continuous_scale=px.colors.sequential.Aggrnyl)"
      ]
    },
    {
      "cell_type": "markdown",
      "id": "ba7ea43a",
      "metadata": {},
      "source": [
        "---"
      ]
    },
    {
      "cell_type": "markdown",
      "id": "11c80262",
      "metadata": {},
      "source": [
        "## Conclusion"
      ]
    },
    {
      "cell_type": "markdown",
      "id": "6088b312",
      "metadata": {},
      "source": [
        "Le modèle arrive plutôt bien à identifier les spams / hams.\n",
        "\n",
        "Toutefois, sur le set de validation : Le recall pour les spams est de 0.93, ce qui signifie que 7 % des spams ne sont pas détectés.\n",
        "\n",
        "Plusieurs facteurs peuvent expliquer cela :\n",
        "- Le Label 1 (Spam) est moins bien représenté dans le dataset, il est donc plus difficile à prédire.\n",
        "- Notre dataset comporte peu de données au départ (environ 5500)\n",
        "\n",
        "Afin d'améliorer la détection de spams, nous allons nous appuyer sur des modèles pré-existants, plus sophistiqués et entraînés sur des jeux de données plus importants afin de voir si la classification ham / spam s'améliore."
      ]
    }
  ],
  "metadata": {
    "accelerator": "GPU",
    "colab": {
      "gpuType": "T4",
      "provenance": []
    },
    "kernelspec": {
      "display_name": "dsfs_env",
      "language": "python",
      "name": "python3"
    },
    "language_info": {
      "codemirror_mode": {
        "name": "ipython",
        "version": 3
      },
      "file_extension": ".py",
      "mimetype": "text/x-python",
      "name": "python",
      "nbconvert_exporter": "python",
      "pygments_lexer": "ipython3",
      "version": "3.12.3"
    },
    "widgets": {
      "application/vnd.jupyter.widget-state+json": {
        "032cd8723a164f859e2246922b5a716d": {
          "model_module": "@jupyter-widgets/controls",
          "model_module_version": "1.5.0",
          "model_name": "ProgressStyleModel",
          "state": {
            "_model_module": "@jupyter-widgets/controls",
            "_model_module_version": "1.5.0",
            "_model_name": "ProgressStyleModel",
            "_view_count": null,
            "_view_module": "@jupyter-widgets/base",
            "_view_module_version": "1.2.0",
            "_view_name": "StyleView",
            "bar_color": null,
            "description_width": ""
          }
        },
        "08570d8cd55f494fafa94b453ee23cec": {
          "model_module": "@jupyter-widgets/controls",
          "model_module_version": "1.5.0",
          "model_name": "HBoxModel",
          "state": {
            "_dom_classes": [],
            "_model_module": "@jupyter-widgets/controls",
            "_model_module_version": "1.5.0",
            "_model_name": "HBoxModel",
            "_view_count": null,
            "_view_module": "@jupyter-widgets/controls",
            "_view_module_version": "1.5.0",
            "_view_name": "HBoxView",
            "box_style": "",
            "children": [
              "IPY_MODEL_64798145cc9e45c68ef8d0d05f832602",
              "IPY_MODEL_8ec7cd8bdf8846c4863dbbfe1332496d",
              "IPY_MODEL_f5e21d61978a4dcd960a14e4432ab3cc"
            ],
            "layout": "IPY_MODEL_59931e0ba81a4cfd93a7864d350680ab"
          }
        },
        "0b686720c9e742b78e2d21546a1dfd02": {
          "model_module": "@jupyter-widgets/base",
          "model_module_version": "1.2.0",
          "model_name": "LayoutModel",
          "state": {
            "_model_module": "@jupyter-widgets/base",
            "_model_module_version": "1.2.0",
            "_model_name": "LayoutModel",
            "_view_count": null,
            "_view_module": "@jupyter-widgets/base",
            "_view_module_version": "1.2.0",
            "_view_name": "LayoutView",
            "align_content": null,
            "align_items": null,
            "align_self": null,
            "border": null,
            "bottom": null,
            "display": null,
            "flex": null,
            "flex_flow": null,
            "grid_area": null,
            "grid_auto_columns": null,
            "grid_auto_flow": null,
            "grid_auto_rows": null,
            "grid_column": null,
            "grid_gap": null,
            "grid_row": null,
            "grid_template_areas": null,
            "grid_template_columns": null,
            "grid_template_rows": null,
            "height": null,
            "justify_content": null,
            "justify_items": null,
            "left": null,
            "margin": null,
            "max_height": null,
            "max_width": null,
            "min_height": null,
            "min_width": null,
            "object_fit": null,
            "object_position": null,
            "order": null,
            "overflow": null,
            "overflow_x": null,
            "overflow_y": null,
            "padding": null,
            "right": null,
            "top": null,
            "visibility": null,
            "width": null
          }
        },
        "0f4afd81ac5c4e0eacdcf419af549304": {
          "model_module": "@jupyter-widgets/controls",
          "model_module_version": "1.5.0",
          "model_name": "DescriptionStyleModel",
          "state": {
            "_model_module": "@jupyter-widgets/controls",
            "_model_module_version": "1.5.0",
            "_model_name": "DescriptionStyleModel",
            "_view_count": null,
            "_view_module": "@jupyter-widgets/base",
            "_view_module_version": "1.2.0",
            "_view_name": "StyleView",
            "description_width": ""
          }
        },
        "1786d582f6684793a625d2b6e2eeda50": {
          "model_module": "@jupyter-widgets/base",
          "model_module_version": "1.2.0",
          "model_name": "LayoutModel",
          "state": {
            "_model_module": "@jupyter-widgets/base",
            "_model_module_version": "1.2.0",
            "_model_name": "LayoutModel",
            "_view_count": null,
            "_view_module": "@jupyter-widgets/base",
            "_view_module_version": "1.2.0",
            "_view_name": "LayoutView",
            "align_content": null,
            "align_items": null,
            "align_self": null,
            "border": null,
            "bottom": null,
            "display": null,
            "flex": null,
            "flex_flow": null,
            "grid_area": null,
            "grid_auto_columns": null,
            "grid_auto_flow": null,
            "grid_auto_rows": null,
            "grid_column": null,
            "grid_gap": null,
            "grid_row": null,
            "grid_template_areas": null,
            "grid_template_columns": null,
            "grid_template_rows": null,
            "height": null,
            "justify_content": null,
            "justify_items": null,
            "left": null,
            "margin": null,
            "max_height": null,
            "max_width": null,
            "min_height": null,
            "min_width": null,
            "object_fit": null,
            "object_position": null,
            "order": null,
            "overflow": null,
            "overflow_x": null,
            "overflow_y": null,
            "padding": null,
            "right": null,
            "top": null,
            "visibility": null,
            "width": null
          }
        },
        "3077b7376d0e4e01bd2dcb9241e8d3c9": {
          "model_module": "@jupyter-widgets/controls",
          "model_module_version": "1.5.0",
          "model_name": "ProgressStyleModel",
          "state": {
            "_model_module": "@jupyter-widgets/controls",
            "_model_module_version": "1.5.0",
            "_model_name": "ProgressStyleModel",
            "_view_count": null,
            "_view_module": "@jupyter-widgets/base",
            "_view_module_version": "1.2.0",
            "_view_name": "StyleView",
            "bar_color": null,
            "description_width": ""
          }
        },
        "3c8d6a9dab284d6cae1252604afc5839": {
          "model_module": "@jupyter-widgets/controls",
          "model_module_version": "1.5.0",
          "model_name": "HTMLModel",
          "state": {
            "_dom_classes": [],
            "_model_module": "@jupyter-widgets/controls",
            "_model_module_version": "1.5.0",
            "_model_name": "HTMLModel",
            "_view_count": null,
            "_view_module": "@jupyter-widgets/controls",
            "_view_module_version": "1.5.0",
            "_view_name": "HTMLView",
            "description": "",
            "description_tooltip": null,
            "layout": "IPY_MODEL_58c6d331e6de4331aef329271e1b7b1c",
            "placeholder": "​",
            "style": "IPY_MODEL_a33e3cb0e37d4364893981a2e387717b",
            "value": "Map: 100%"
          }
        },
        "42eaae416ccd403990ae2a4b0d3118c2": {
          "model_module": "@jupyter-widgets/base",
          "model_module_version": "1.2.0",
          "model_name": "LayoutModel",
          "state": {
            "_model_module": "@jupyter-widgets/base",
            "_model_module_version": "1.2.0",
            "_model_name": "LayoutModel",
            "_view_count": null,
            "_view_module": "@jupyter-widgets/base",
            "_view_module_version": "1.2.0",
            "_view_name": "LayoutView",
            "align_content": null,
            "align_items": null,
            "align_self": null,
            "border": null,
            "bottom": null,
            "display": null,
            "flex": null,
            "flex_flow": null,
            "grid_area": null,
            "grid_auto_columns": null,
            "grid_auto_flow": null,
            "grid_auto_rows": null,
            "grid_column": null,
            "grid_gap": null,
            "grid_row": null,
            "grid_template_areas": null,
            "grid_template_columns": null,
            "grid_template_rows": null,
            "height": null,
            "justify_content": null,
            "justify_items": null,
            "left": null,
            "margin": null,
            "max_height": null,
            "max_width": null,
            "min_height": null,
            "min_width": null,
            "object_fit": null,
            "object_position": null,
            "order": null,
            "overflow": null,
            "overflow_x": null,
            "overflow_y": null,
            "padding": null,
            "right": null,
            "top": null,
            "visibility": null,
            "width": null
          }
        },
        "58c6d331e6de4331aef329271e1b7b1c": {
          "model_module": "@jupyter-widgets/base",
          "model_module_version": "1.2.0",
          "model_name": "LayoutModel",
          "state": {
            "_model_module": "@jupyter-widgets/base",
            "_model_module_version": "1.2.0",
            "_model_name": "LayoutModel",
            "_view_count": null,
            "_view_module": "@jupyter-widgets/base",
            "_view_module_version": "1.2.0",
            "_view_name": "LayoutView",
            "align_content": null,
            "align_items": null,
            "align_self": null,
            "border": null,
            "bottom": null,
            "display": null,
            "flex": null,
            "flex_flow": null,
            "grid_area": null,
            "grid_auto_columns": null,
            "grid_auto_flow": null,
            "grid_auto_rows": null,
            "grid_column": null,
            "grid_gap": null,
            "grid_row": null,
            "grid_template_areas": null,
            "grid_template_columns": null,
            "grid_template_rows": null,
            "height": null,
            "justify_content": null,
            "justify_items": null,
            "left": null,
            "margin": null,
            "max_height": null,
            "max_width": null,
            "min_height": null,
            "min_width": null,
            "object_fit": null,
            "object_position": null,
            "order": null,
            "overflow": null,
            "overflow_x": null,
            "overflow_y": null,
            "padding": null,
            "right": null,
            "top": null,
            "visibility": null,
            "width": null
          }
        },
        "59931e0ba81a4cfd93a7864d350680ab": {
          "model_module": "@jupyter-widgets/base",
          "model_module_version": "1.2.0",
          "model_name": "LayoutModel",
          "state": {
            "_model_module": "@jupyter-widgets/base",
            "_model_module_version": "1.2.0",
            "_model_name": "LayoutModel",
            "_view_count": null,
            "_view_module": "@jupyter-widgets/base",
            "_view_module_version": "1.2.0",
            "_view_name": "LayoutView",
            "align_content": null,
            "align_items": null,
            "align_self": null,
            "border": null,
            "bottom": null,
            "display": null,
            "flex": null,
            "flex_flow": null,
            "grid_area": null,
            "grid_auto_columns": null,
            "grid_auto_flow": null,
            "grid_auto_rows": null,
            "grid_column": null,
            "grid_gap": null,
            "grid_row": null,
            "grid_template_areas": null,
            "grid_template_columns": null,
            "grid_template_rows": null,
            "height": null,
            "justify_content": null,
            "justify_items": null,
            "left": null,
            "margin": null,
            "max_height": null,
            "max_width": null,
            "min_height": null,
            "min_width": null,
            "object_fit": null,
            "object_position": null,
            "order": null,
            "overflow": null,
            "overflow_x": null,
            "overflow_y": null,
            "padding": null,
            "right": null,
            "top": null,
            "visibility": null,
            "width": null
          }
        },
        "5bd6114fd0f14d1b9ee74003bad37dcf": {
          "model_module": "@jupyter-widgets/controls",
          "model_module_version": "1.5.0",
          "model_name": "DescriptionStyleModel",
          "state": {
            "_model_module": "@jupyter-widgets/controls",
            "_model_module_version": "1.5.0",
            "_model_name": "DescriptionStyleModel",
            "_view_count": null,
            "_view_module": "@jupyter-widgets/base",
            "_view_module_version": "1.2.0",
            "_view_name": "StyleView",
            "description_width": ""
          }
        },
        "5d1759560c614bde9ddf7ba1b8c87d64": {
          "model_module": "@jupyter-widgets/controls",
          "model_module_version": "1.5.0",
          "model_name": "HBoxModel",
          "state": {
            "_dom_classes": [],
            "_model_module": "@jupyter-widgets/controls",
            "_model_module_version": "1.5.0",
            "_model_name": "HBoxModel",
            "_view_count": null,
            "_view_module": "@jupyter-widgets/controls",
            "_view_module_version": "1.5.0",
            "_view_name": "HBoxView",
            "box_style": "",
            "children": [
              "IPY_MODEL_3c8d6a9dab284d6cae1252604afc5839",
              "IPY_MODEL_9f9c002caf7c48fdbe55d0cad005980e",
              "IPY_MODEL_6c9059ebf13d44d185ff8967f3f2966a"
            ],
            "layout": "IPY_MODEL_9dba778b1ed14b0499f2bf7b5a2e9116"
          }
        },
        "64798145cc9e45c68ef8d0d05f832602": {
          "model_module": "@jupyter-widgets/controls",
          "model_module_version": "1.5.0",
          "model_name": "HTMLModel",
          "state": {
            "_dom_classes": [],
            "_model_module": "@jupyter-widgets/controls",
            "_model_module_version": "1.5.0",
            "_model_name": "HTMLModel",
            "_view_count": null,
            "_view_module": "@jupyter-widgets/controls",
            "_view_module_version": "1.5.0",
            "_view_name": "HTMLView",
            "description": "",
            "description_tooltip": null,
            "layout": "IPY_MODEL_42eaae416ccd403990ae2a4b0d3118c2",
            "placeholder": "​",
            "style": "IPY_MODEL_fba7b29b49744206a0ff1c9757b70110",
            "value": "Map: 100%"
          }
        },
        "6c9059ebf13d44d185ff8967f3f2966a": {
          "model_module": "@jupyter-widgets/controls",
          "model_module_version": "1.5.0",
          "model_name": "HTMLModel",
          "state": {
            "_dom_classes": [],
            "_model_module": "@jupyter-widgets/controls",
            "_model_module_version": "1.5.0",
            "_model_name": "HTMLModel",
            "_view_count": null,
            "_view_module": "@jupyter-widgets/controls",
            "_view_module_version": "1.5.0",
            "_view_name": "HTMLView",
            "description": "",
            "description_tooltip": null,
            "layout": "IPY_MODEL_0b686720c9e742b78e2d21546a1dfd02",
            "placeholder": "​",
            "style": "IPY_MODEL_0f4afd81ac5c4e0eacdcf419af549304",
            "value": " 4457/4457 [00:00&lt;00:00, 5580.87 examples/s]"
          }
        },
        "6f707ce4f4544e6093d1a73573e8d2cd": {
          "model_module": "@jupyter-widgets/base",
          "model_module_version": "1.2.0",
          "model_name": "LayoutModel",
          "state": {
            "_model_module": "@jupyter-widgets/base",
            "_model_module_version": "1.2.0",
            "_model_name": "LayoutModel",
            "_view_count": null,
            "_view_module": "@jupyter-widgets/base",
            "_view_module_version": "1.2.0",
            "_view_name": "LayoutView",
            "align_content": null,
            "align_items": null,
            "align_self": null,
            "border": null,
            "bottom": null,
            "display": null,
            "flex": null,
            "flex_flow": null,
            "grid_area": null,
            "grid_auto_columns": null,
            "grid_auto_flow": null,
            "grid_auto_rows": null,
            "grid_column": null,
            "grid_gap": null,
            "grid_row": null,
            "grid_template_areas": null,
            "grid_template_columns": null,
            "grid_template_rows": null,
            "height": null,
            "justify_content": null,
            "justify_items": null,
            "left": null,
            "margin": null,
            "max_height": null,
            "max_width": null,
            "min_height": null,
            "min_width": null,
            "object_fit": null,
            "object_position": null,
            "order": null,
            "overflow": null,
            "overflow_x": null,
            "overflow_y": null,
            "padding": null,
            "right": null,
            "top": null,
            "visibility": null,
            "width": null
          }
        },
        "8ec7cd8bdf8846c4863dbbfe1332496d": {
          "model_module": "@jupyter-widgets/controls",
          "model_module_version": "1.5.0",
          "model_name": "FloatProgressModel",
          "state": {
            "_dom_classes": [],
            "_model_module": "@jupyter-widgets/controls",
            "_model_module_version": "1.5.0",
            "_model_name": "FloatProgressModel",
            "_view_count": null,
            "_view_module": "@jupyter-widgets/controls",
            "_view_module_version": "1.5.0",
            "_view_name": "ProgressView",
            "bar_style": "success",
            "description": "",
            "description_tooltip": null,
            "layout": "IPY_MODEL_6f707ce4f4544e6093d1a73573e8d2cd",
            "max": 1115,
            "min": 0,
            "orientation": "horizontal",
            "style": "IPY_MODEL_032cd8723a164f859e2246922b5a716d",
            "value": 1115
          }
        },
        "9dba778b1ed14b0499f2bf7b5a2e9116": {
          "model_module": "@jupyter-widgets/base",
          "model_module_version": "1.2.0",
          "model_name": "LayoutModel",
          "state": {
            "_model_module": "@jupyter-widgets/base",
            "_model_module_version": "1.2.0",
            "_model_name": "LayoutModel",
            "_view_count": null,
            "_view_module": "@jupyter-widgets/base",
            "_view_module_version": "1.2.0",
            "_view_name": "LayoutView",
            "align_content": null,
            "align_items": null,
            "align_self": null,
            "border": null,
            "bottom": null,
            "display": null,
            "flex": null,
            "flex_flow": null,
            "grid_area": null,
            "grid_auto_columns": null,
            "grid_auto_flow": null,
            "grid_auto_rows": null,
            "grid_column": null,
            "grid_gap": null,
            "grid_row": null,
            "grid_template_areas": null,
            "grid_template_columns": null,
            "grid_template_rows": null,
            "height": null,
            "justify_content": null,
            "justify_items": null,
            "left": null,
            "margin": null,
            "max_height": null,
            "max_width": null,
            "min_height": null,
            "min_width": null,
            "object_fit": null,
            "object_position": null,
            "order": null,
            "overflow": null,
            "overflow_x": null,
            "overflow_y": null,
            "padding": null,
            "right": null,
            "top": null,
            "visibility": null,
            "width": null
          }
        },
        "9f9c002caf7c48fdbe55d0cad005980e": {
          "model_module": "@jupyter-widgets/controls",
          "model_module_version": "1.5.0",
          "model_name": "FloatProgressModel",
          "state": {
            "_dom_classes": [],
            "_model_module": "@jupyter-widgets/controls",
            "_model_module_version": "1.5.0",
            "_model_name": "FloatProgressModel",
            "_view_count": null,
            "_view_module": "@jupyter-widgets/controls",
            "_view_module_version": "1.5.0",
            "_view_name": "ProgressView",
            "bar_style": "success",
            "description": "",
            "description_tooltip": null,
            "layout": "IPY_MODEL_c941639b3e574c68b1ba84d25a4c6c98",
            "max": 4457,
            "min": 0,
            "orientation": "horizontal",
            "style": "IPY_MODEL_3077b7376d0e4e01bd2dcb9241e8d3c9",
            "value": 4457
          }
        },
        "a33e3cb0e37d4364893981a2e387717b": {
          "model_module": "@jupyter-widgets/controls",
          "model_module_version": "1.5.0",
          "model_name": "DescriptionStyleModel",
          "state": {
            "_model_module": "@jupyter-widgets/controls",
            "_model_module_version": "1.5.0",
            "_model_name": "DescriptionStyleModel",
            "_view_count": null,
            "_view_module": "@jupyter-widgets/base",
            "_view_module_version": "1.2.0",
            "_view_name": "StyleView",
            "description_width": ""
          }
        },
        "c941639b3e574c68b1ba84d25a4c6c98": {
          "model_module": "@jupyter-widgets/base",
          "model_module_version": "1.2.0",
          "model_name": "LayoutModel",
          "state": {
            "_model_module": "@jupyter-widgets/base",
            "_model_module_version": "1.2.0",
            "_model_name": "LayoutModel",
            "_view_count": null,
            "_view_module": "@jupyter-widgets/base",
            "_view_module_version": "1.2.0",
            "_view_name": "LayoutView",
            "align_content": null,
            "align_items": null,
            "align_self": null,
            "border": null,
            "bottom": null,
            "display": null,
            "flex": null,
            "flex_flow": null,
            "grid_area": null,
            "grid_auto_columns": null,
            "grid_auto_flow": null,
            "grid_auto_rows": null,
            "grid_column": null,
            "grid_gap": null,
            "grid_row": null,
            "grid_template_areas": null,
            "grid_template_columns": null,
            "grid_template_rows": null,
            "height": null,
            "justify_content": null,
            "justify_items": null,
            "left": null,
            "margin": null,
            "max_height": null,
            "max_width": null,
            "min_height": null,
            "min_width": null,
            "object_fit": null,
            "object_position": null,
            "order": null,
            "overflow": null,
            "overflow_x": null,
            "overflow_y": null,
            "padding": null,
            "right": null,
            "top": null,
            "visibility": null,
            "width": null
          }
        },
        "f5e21d61978a4dcd960a14e4432ab3cc": {
          "model_module": "@jupyter-widgets/controls",
          "model_module_version": "1.5.0",
          "model_name": "HTMLModel",
          "state": {
            "_dom_classes": [],
            "_model_module": "@jupyter-widgets/controls",
            "_model_module_version": "1.5.0",
            "_model_name": "HTMLModel",
            "_view_count": null,
            "_view_module": "@jupyter-widgets/controls",
            "_view_module_version": "1.5.0",
            "_view_name": "HTMLView",
            "description": "",
            "description_tooltip": null,
            "layout": "IPY_MODEL_1786d582f6684793a625d2b6e2eeda50",
            "placeholder": "​",
            "style": "IPY_MODEL_5bd6114fd0f14d1b9ee74003bad37dcf",
            "value": " 1115/1115 [00:00&lt;00:00, 4940.04 examples/s]"
          }
        },
        "fba7b29b49744206a0ff1c9757b70110": {
          "model_module": "@jupyter-widgets/controls",
          "model_module_version": "1.5.0",
          "model_name": "DescriptionStyleModel",
          "state": {
            "_model_module": "@jupyter-widgets/controls",
            "_model_module_version": "1.5.0",
            "_model_name": "DescriptionStyleModel",
            "_view_count": null,
            "_view_module": "@jupyter-widgets/base",
            "_view_module_version": "1.2.0",
            "_view_name": "StyleView",
            "description_width": ""
          }
        }
      }
    }
  },
  "nbformat": 4,
  "nbformat_minor": 5
}
