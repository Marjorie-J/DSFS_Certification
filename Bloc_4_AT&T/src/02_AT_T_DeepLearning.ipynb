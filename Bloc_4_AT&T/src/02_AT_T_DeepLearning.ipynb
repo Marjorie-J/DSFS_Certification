{
  "cells": [
    {
      "cell_type": "markdown",
      "id": "fa7cd843",
      "metadata": {},
      "source": [
        "## 1. Lecture CSV"
      ]
    },
    {
      "cell_type": "code",
      "execution_count": 276,
      "id": "6f875d1b",
      "metadata": {
        "id": "6f875d1b"
      },
      "outputs": [],
      "source": [
        "import numpy as np\n",
        "import pandas as pd\n",
        "import plotly.express as px\n",
        "from plotly import graph_objects as go\n",
        "from sklearn.metrics import classification_report, confusion_matrix\n",
        "import tiktoken\n",
        "import torch\n",
        "import torch.nn as nn\n",
        "import torch.optim as optim\n",
        "from torch.utils.data import DataLoader, Dataset, random_split\n",
        "from torchinfo import summary"
      ]
    },
    {
      "cell_type": "code",
      "execution_count": 277,
      "id": "4613b6c9",
      "metadata": {
        "colab": {
          "base_uri": "https://localhost:8080/"
        },
        "id": "4613b6c9",
        "outputId": "1e238825-2ff8-4fa1-f44a-13eafeec443a"
      },
      "outputs": [
        {
          "data": {
            "text/html": [
              "<div>\n",
              "<style scoped>\n",
              "    .dataframe tbody tr th:only-of-type {\n",
              "        vertical-align: middle;\n",
              "    }\n",
              "\n",
              "    .dataframe tbody tr th {\n",
              "        vertical-align: top;\n",
              "    }\n",
              "\n",
              "    .dataframe thead th {\n",
              "        text-align: right;\n",
              "    }\n",
              "</style>\n",
              "<table border=\"1\" class=\"dataframe\">\n",
              "  <thead>\n",
              "    <tr style=\"text-align: right;\">\n",
              "      <th></th>\n",
              "      <th>label_text</th>\n",
              "      <th>message</th>\n",
              "      <th>label</th>\n",
              "    </tr>\n",
              "  </thead>\n",
              "  <tbody>\n",
              "    <tr>\n",
              "      <th>0</th>\n",
              "      <td>ham</td>\n",
              "      <td>Go until jurong point, crazy.. Available only ...</td>\n",
              "      <td>0</td>\n",
              "    </tr>\n",
              "    <tr>\n",
              "      <th>1</th>\n",
              "      <td>ham</td>\n",
              "      <td>Ok lar... Joking wif u oni...</td>\n",
              "      <td>0</td>\n",
              "    </tr>\n",
              "    <tr>\n",
              "      <th>2</th>\n",
              "      <td>spam</td>\n",
              "      <td>Free entry in 2 a wkly comp to win FA Cup fina...</td>\n",
              "      <td>1</td>\n",
              "    </tr>\n",
              "    <tr>\n",
              "      <th>3</th>\n",
              "      <td>ham</td>\n",
              "      <td>U dun say so early hor... U c already then say...</td>\n",
              "      <td>0</td>\n",
              "    </tr>\n",
              "    <tr>\n",
              "      <th>4</th>\n",
              "      <td>ham</td>\n",
              "      <td>Nah I don't think he goes to usf, he lives aro...</td>\n",
              "      <td>0</td>\n",
              "    </tr>\n",
              "  </tbody>\n",
              "</table>\n",
              "</div>"
            ],
            "text/plain": [
              "  label_text                                            message  label\n",
              "0        ham  Go until jurong point, crazy.. Available only ...      0\n",
              "1        ham                      Ok lar... Joking wif u oni...      0\n",
              "2       spam  Free entry in 2 a wkly comp to win FA Cup fina...      1\n",
              "3        ham  U dun say so early hor... U c already then say...      0\n",
              "4        ham  Nah I don't think he goes to usf, he lives aro...      0"
            ]
          },
          "execution_count": 277,
          "metadata": {},
          "output_type": "execute_result"
        }
      ],
      "source": [
        "df_spam = pd.read_csv(\"../datas/spam_clean.csv\", encoding=\"iso-8859-1\")\n",
        "df_spam.head()"
      ]
    },
    {
      "cell_type": "markdown",
      "id": "e46620ca",
      "metadata": {},
      "source": [
        "---"
      ]
    },
    {
      "cell_type": "markdown",
      "id": "9a1d0999",
      "metadata": {
        "id": "9a1d0999"
      },
      "source": [
        "## 2. Tokenization"
      ]
    },
    {
      "cell_type": "markdown",
      "id": "dcdfc64f",
      "metadata": {},
      "source": [
        "Je tokenize les messages avec le tokenizer \"cl100k_base\" (basé sur le byte pair coding)"
      ]
    },
    {
      "cell_type": "code",
      "execution_count": 278,
      "id": "af869e3f",
      "metadata": {
        "id": "af869e3f"
      },
      "outputs": [],
      "source": [
        "tokenizer = tiktoken.get_encoding(\"cl100k_base\")\n",
        "\n",
        "def encode_texts(texts):\n",
        "    return [tokenizer.encode(text) for text in texts]\n",
        "\n",
        "tokens = encode_texts(df_spam[\"message\"])"
      ]
    },
    {
      "cell_type": "code",
      "execution_count": 279,
      "id": "e3edebae",
      "metadata": {
        "colab": {
          "base_uri": "https://localhost:8080/"
        },
        "id": "e3edebae",
        "outputId": "48de2aa5-447a-42eb-bc39-77b2d8fb21f1"
      },
      "outputs": [
        {
          "data": {
            "text/plain": [
              "[11087, 3156, 16422, 647, 1486, 11, 14599, 497, 16528, 1193]"
            ]
          },
          "execution_count": 279,
          "metadata": {},
          "output_type": "execute_result"
        }
      ],
      "source": [
        "tokens[0][:10]"
      ]
    },
    {
      "cell_type": "code",
      "execution_count": 280,
      "id": "dc3d8a3a",
      "metadata": {},
      "outputs": [
        {
          "data": {
            "text/plain": [
              "[11839, 45555, 1131, 622, 10979, 289, 333, 577, 389, 72]"
            ]
          },
          "execution_count": 280,
          "metadata": {},
          "output_type": "execute_result"
        }
      ],
      "source": [
        "tokens[1][:10]"
      ]
    },
    {
      "cell_type": "markdown",
      "id": "243e4904",
      "metadata": {
        "id": "243e4904"
      },
      "source": [
        "Les modèles de NLP exigent souvent des séquences (liste de tokens) de tailles uniformes.\n",
        "\n",
        "Calcul de la taille moyenne des séquences"
      ]
    },
    {
      "cell_type": "code",
      "execution_count": 281,
      "id": "0365d66a",
      "metadata": {
        "colab": {
          "base_uri": "https://localhost:8080/"
        },
        "id": "0365d66a",
        "outputId": "705837f3-ff82-400b-908d-4b52a1615369"
      },
      "outputs": [
        {
          "data": {
            "text/plain": [
              "np.float64(22.893933955491743)"
            ]
          },
          "execution_count": 281,
          "metadata": {},
          "output_type": "execute_result"
        }
      ],
      "source": [
        "seq_lens = [len(seq) for seq in tokens]\n",
        "np.mean(seq_lens)"
      ]
    },
    {
      "cell_type": "markdown",
      "id": "bdf6927e",
      "metadata": {},
      "source": [
        "Distribution de la taille des séquences"
      ]
    },
    {
      "cell_type": "code",
      "execution_count": 282,
      "id": "43c34e45",
      "metadata": {},
      "outputs": [
        {
          "data": {
            "application/vnd.plotly.v1+json": {
              "config": {
                "plotlyServerURL": "https://plot.ly"
              },
              "data": [
                {
                  "bingroup": "x",
                  "hovertemplate": "variable=0<br>value=%{x}<br>count=%{y}<extra></extra>",
                  "legendgroup": "0",
                  "marker": {
                    "color": "#636efa",
                    "pattern": {
                      "shape": ""
                    }
                  },
                  "name": "0",
                  "nbinsx": 30,
                  "orientation": "v",
                  "showlegend": true,
                  "type": "histogram",
                  "x": {
                    "bdata": "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",
                    "dtype": "i2"
                  },
                  "xaxis": "x",
                  "yaxis": "y"
                }
              ],
              "layout": {
                "barmode": "relative",
                "legend": {
                  "title": {
                    "text": "variable"
                  },
                  "tracegroupgap": 0
                },
                "margin": {
                  "t": 60
                },
                "template": {
                  "data": {
                    "bar": [
                      {
                        "error_x": {
                          "color": "#2a3f5f"
                        },
                        "error_y": {
                          "color": "#2a3f5f"
                        },
                        "marker": {
                          "line": {
                            "color": "#E5ECF6",
                            "width": 0.5
                          },
                          "pattern": {
                            "fillmode": "overlay",
                            "size": 10,
                            "solidity": 0.2
                          }
                        },
                        "type": "bar"
                      }
                    ],
                    "barpolar": [
                      {
                        "marker": {
                          "line": {
                            "color": "#E5ECF6",
                            "width": 0.5
                          },
                          "pattern": {
                            "fillmode": "overlay",
                            "size": 10,
                            "solidity": 0.2
                          }
                        },
                        "type": "barpolar"
                      }
                    ],
                    "carpet": [
                      {
                        "aaxis": {
                          "endlinecolor": "#2a3f5f",
                          "gridcolor": "white",
                          "linecolor": "white",
                          "minorgridcolor": "white",
                          "startlinecolor": "#2a3f5f"
                        },
                        "baxis": {
                          "endlinecolor": "#2a3f5f",
                          "gridcolor": "white",
                          "linecolor": "white",
                          "minorgridcolor": "white",
                          "startlinecolor": "#2a3f5f"
                        },
                        "type": "carpet"
                      }
                    ],
                    "choropleth": [
                      {
                        "colorbar": {
                          "outlinewidth": 0,
                          "ticks": ""
                        },
                        "type": "choropleth"
                      }
                    ],
                    "contour": [
                      {
                        "colorbar": {
                          "outlinewidth": 0,
                          "ticks": ""
                        },
                        "colorscale": [
                          [
                            0,
                            "#0d0887"
                          ],
                          [
                            0.1111111111111111,
                            "#46039f"
                          ],
                          [
                            0.2222222222222222,
                            "#7201a8"
                          ],
                          [
                            0.3333333333333333,
                            "#9c179e"
                          ],
                          [
                            0.4444444444444444,
                            "#bd3786"
                          ],
                          [
                            0.5555555555555556,
                            "#d8576b"
                          ],
                          [
                            0.6666666666666666,
                            "#ed7953"
                          ],
                          [
                            0.7777777777777778,
                            "#fb9f3a"
                          ],
                          [
                            0.8888888888888888,
                            "#fdca26"
                          ],
                          [
                            1,
                            "#f0f921"
                          ]
                        ],
                        "type": "contour"
                      }
                    ],
                    "contourcarpet": [
                      {
                        "colorbar": {
                          "outlinewidth": 0,
                          "ticks": ""
                        },
                        "type": "contourcarpet"
                      }
                    ],
                    "heatmap": [
                      {
                        "colorbar": {
                          "outlinewidth": 0,
                          "ticks": ""
                        },
                        "colorscale": [
                          [
                            0,
                            "#0d0887"
                          ],
                          [
                            0.1111111111111111,
                            "#46039f"
                          ],
                          [
                            0.2222222222222222,
                            "#7201a8"
                          ],
                          [
                            0.3333333333333333,
                            "#9c179e"
                          ],
                          [
                            0.4444444444444444,
                            "#bd3786"
                          ],
                          [
                            0.5555555555555556,
                            "#d8576b"
                          ],
                          [
                            0.6666666666666666,
                            "#ed7953"
                          ],
                          [
                            0.7777777777777778,
                            "#fb9f3a"
                          ],
                          [
                            0.8888888888888888,
                            "#fdca26"
                          ],
                          [
                            1,
                            "#f0f921"
                          ]
                        ],
                        "type": "heatmap"
                      }
                    ],
                    "histogram": [
                      {
                        "marker": {
                          "pattern": {
                            "fillmode": "overlay",
                            "size": 10,
                            "solidity": 0.2
                          }
                        },
                        "type": "histogram"
                      }
                    ],
                    "histogram2d": [
                      {
                        "colorbar": {
                          "outlinewidth": 0,
                          "ticks": ""
                        },
                        "colorscale": [
                          [
                            0,
                            "#0d0887"
                          ],
                          [
                            0.1111111111111111,
                            "#46039f"
                          ],
                          [
                            0.2222222222222222,
                            "#7201a8"
                          ],
                          [
                            0.3333333333333333,
                            "#9c179e"
                          ],
                          [
                            0.4444444444444444,
                            "#bd3786"
                          ],
                          [
                            0.5555555555555556,
                            "#d8576b"
                          ],
                          [
                            0.6666666666666666,
                            "#ed7953"
                          ],
                          [
                            0.7777777777777778,
                            "#fb9f3a"
                          ],
                          [
                            0.8888888888888888,
                            "#fdca26"
                          ],
                          [
                            1,
                            "#f0f921"
                          ]
                        ],
                        "type": "histogram2d"
                      }
                    ],
                    "histogram2dcontour": [
                      {
                        "colorbar": {
                          "outlinewidth": 0,
                          "ticks": ""
                        },
                        "colorscale": [
                          [
                            0,
                            "#0d0887"
                          ],
                          [
                            0.1111111111111111,
                            "#46039f"
                          ],
                          [
                            0.2222222222222222,
                            "#7201a8"
                          ],
                          [
                            0.3333333333333333,
                            "#9c179e"
                          ],
                          [
                            0.4444444444444444,
                            "#bd3786"
                          ],
                          [
                            0.5555555555555556,
                            "#d8576b"
                          ],
                          [
                            0.6666666666666666,
                            "#ed7953"
                          ],
                          [
                            0.7777777777777778,
                            "#fb9f3a"
                          ],
                          [
                            0.8888888888888888,
                            "#fdca26"
                          ],
                          [
                            1,
                            "#f0f921"
                          ]
                        ],
                        "type": "histogram2dcontour"
                      }
                    ],
                    "mesh3d": [
                      {
                        "colorbar": {
                          "outlinewidth": 0,
                          "ticks": ""
                        },
                        "type": "mesh3d"
                      }
                    ],
                    "parcoords": [
                      {
                        "line": {
                          "colorbar": {
                            "outlinewidth": 0,
                            "ticks": ""
                          }
                        },
                        "type": "parcoords"
                      }
                    ],
                    "pie": [
                      {
                        "automargin": true,
                        "type": "pie"
                      }
                    ],
                    "scatter": [
                      {
                        "fillpattern": {
                          "fillmode": "overlay",
                          "size": 10,
                          "solidity": 0.2
                        },
                        "type": "scatter"
                      }
                    ],
                    "scatter3d": [
                      {
                        "line": {
                          "colorbar": {
                            "outlinewidth": 0,
                            "ticks": ""
                          }
                        },
                        "marker": {
                          "colorbar": {
                            "outlinewidth": 0,
                            "ticks": ""
                          }
                        },
                        "type": "scatter3d"
                      }
                    ],
                    "scattercarpet": [
                      {
                        "marker": {
                          "colorbar": {
                            "outlinewidth": 0,
                            "ticks": ""
                          }
                        },
                        "type": "scattercarpet"
                      }
                    ],
                    "scattergeo": [
                      {
                        "marker": {
                          "colorbar": {
                            "outlinewidth": 0,
                            "ticks": ""
                          }
                        },
                        "type": "scattergeo"
                      }
                    ],
                    "scattergl": [
                      {
                        "marker": {
                          "colorbar": {
                            "outlinewidth": 0,
                            "ticks": ""
                          }
                        },
                        "type": "scattergl"
                      }
                    ],
                    "scattermap": [
                      {
                        "marker": {
                          "colorbar": {
                            "outlinewidth": 0,
                            "ticks": ""
                          }
                        },
                        "type": "scattermap"
                      }
                    ],
                    "scattermapbox": [
                      {
                        "marker": {
                          "colorbar": {
                            "outlinewidth": 0,
                            "ticks": ""
                          }
                        },
                        "type": "scattermapbox"
                      }
                    ],
                    "scatterpolar": [
                      {
                        "marker": {
                          "colorbar": {
                            "outlinewidth": 0,
                            "ticks": ""
                          }
                        },
                        "type": "scatterpolar"
                      }
                    ],
                    "scatterpolargl": [
                      {
                        "marker": {
                          "colorbar": {
                            "outlinewidth": 0,
                            "ticks": ""
                          }
                        },
                        "type": "scatterpolargl"
                      }
                    ],
                    "scatterternary": [
                      {
                        "marker": {
                          "colorbar": {
                            "outlinewidth": 0,
                            "ticks": ""
                          }
                        },
                        "type": "scatterternary"
                      }
                    ],
                    "surface": [
                      {
                        "colorbar": {
                          "outlinewidth": 0,
                          "ticks": ""
                        },
                        "colorscale": [
                          [
                            0,
                            "#0d0887"
                          ],
                          [
                            0.1111111111111111,
                            "#46039f"
                          ],
                          [
                            0.2222222222222222,
                            "#7201a8"
                          ],
                          [
                            0.3333333333333333,
                            "#9c179e"
                          ],
                          [
                            0.4444444444444444,
                            "#bd3786"
                          ],
                          [
                            0.5555555555555556,
                            "#d8576b"
                          ],
                          [
                            0.6666666666666666,
                            "#ed7953"
                          ],
                          [
                            0.7777777777777778,
                            "#fb9f3a"
                          ],
                          [
                            0.8888888888888888,
                            "#fdca26"
                          ],
                          [
                            1,
                            "#f0f921"
                          ]
                        ],
                        "type": "surface"
                      }
                    ],
                    "table": [
                      {
                        "cells": {
                          "fill": {
                            "color": "#EBF0F8"
                          },
                          "line": {
                            "color": "white"
                          }
                        },
                        "header": {
                          "fill": {
                            "color": "#C8D4E3"
                          },
                          "line": {
                            "color": "white"
                          }
                        },
                        "type": "table"
                      }
                    ]
                  },
                  "layout": {
                    "annotationdefaults": {
                      "arrowcolor": "#2a3f5f",
                      "arrowhead": 0,
                      "arrowwidth": 1
                    },
                    "autotypenumbers": "strict",
                    "coloraxis": {
                      "colorbar": {
                        "outlinewidth": 0,
                        "ticks": ""
                      }
                    },
                    "colorscale": {
                      "diverging": [
                        [
                          0,
                          "#8e0152"
                        ],
                        [
                          0.1,
                          "#c51b7d"
                        ],
                        [
                          0.2,
                          "#de77ae"
                        ],
                        [
                          0.3,
                          "#f1b6da"
                        ],
                        [
                          0.4,
                          "#fde0ef"
                        ],
                        [
                          0.5,
                          "#f7f7f7"
                        ],
                        [
                          0.6,
                          "#e6f5d0"
                        ],
                        [
                          0.7,
                          "#b8e186"
                        ],
                        [
                          0.8,
                          "#7fbc41"
                        ],
                        [
                          0.9,
                          "#4d9221"
                        ],
                        [
                          1,
                          "#276419"
                        ]
                      ],
                      "sequential": [
                        [
                          0,
                          "#0d0887"
                        ],
                        [
                          0.1111111111111111,
                          "#46039f"
                        ],
                        [
                          0.2222222222222222,
                          "#7201a8"
                        ],
                        [
                          0.3333333333333333,
                          "#9c179e"
                        ],
                        [
                          0.4444444444444444,
                          "#bd3786"
                        ],
                        [
                          0.5555555555555556,
                          "#d8576b"
                        ],
                        [
                          0.6666666666666666,
                          "#ed7953"
                        ],
                        [
                          0.7777777777777778,
                          "#fb9f3a"
                        ],
                        [
                          0.8888888888888888,
                          "#fdca26"
                        ],
                        [
                          1,
                          "#f0f921"
                        ]
                      ],
                      "sequentialminus": [
                        [
                          0,
                          "#0d0887"
                        ],
                        [
                          0.1111111111111111,
                          "#46039f"
                        ],
                        [
                          0.2222222222222222,
                          "#7201a8"
                        ],
                        [
                          0.3333333333333333,
                          "#9c179e"
                        ],
                        [
                          0.4444444444444444,
                          "#bd3786"
                        ],
                        [
                          0.5555555555555556,
                          "#d8576b"
                        ],
                        [
                          0.6666666666666666,
                          "#ed7953"
                        ],
                        [
                          0.7777777777777778,
                          "#fb9f3a"
                        ],
                        [
                          0.8888888888888888,
                          "#fdca26"
                        ],
                        [
                          1,
                          "#f0f921"
                        ]
                      ]
                    },
                    "colorway": [
                      "#636efa",
                      "#EF553B",
                      "#00cc96",
                      "#ab63fa",
                      "#FFA15A",
                      "#19d3f3",
                      "#FF6692",
                      "#B6E880",
                      "#FF97FF",
                      "#FECB52"
                    ],
                    "font": {
                      "color": "#2a3f5f"
                    },
                    "geo": {
                      "bgcolor": "white",
                      "lakecolor": "white",
                      "landcolor": "#E5ECF6",
                      "showlakes": true,
                      "showland": true,
                      "subunitcolor": "white"
                    },
                    "hoverlabel": {
                      "align": "left"
                    },
                    "hovermode": "closest",
                    "mapbox": {
                      "style": "light"
                    },
                    "paper_bgcolor": "white",
                    "plot_bgcolor": "#E5ECF6",
                    "polar": {
                      "angularaxis": {
                        "gridcolor": "white",
                        "linecolor": "white",
                        "ticks": ""
                      },
                      "bgcolor": "#E5ECF6",
                      "radialaxis": {
                        "gridcolor": "white",
                        "linecolor": "white",
                        "ticks": ""
                      }
                    },
                    "scene": {
                      "xaxis": {
                        "backgroundcolor": "#E5ECF6",
                        "gridcolor": "white",
                        "gridwidth": 2,
                        "linecolor": "white",
                        "showbackground": true,
                        "ticks": "",
                        "zerolinecolor": "white"
                      },
                      "yaxis": {
                        "backgroundcolor": "#E5ECF6",
                        "gridcolor": "white",
                        "gridwidth": 2,
                        "linecolor": "white",
                        "showbackground": true,
                        "ticks": "",
                        "zerolinecolor": "white"
                      },
                      "zaxis": {
                        "backgroundcolor": "#E5ECF6",
                        "gridcolor": "white",
                        "gridwidth": 2,
                        "linecolor": "white",
                        "showbackground": true,
                        "ticks": "",
                        "zerolinecolor": "white"
                      }
                    },
                    "shapedefaults": {
                      "line": {
                        "color": "#2a3f5f"
                      }
                    },
                    "ternary": {
                      "aaxis": {
                        "gridcolor": "white",
                        "linecolor": "white",
                        "ticks": ""
                      },
                      "baxis": {
                        "gridcolor": "white",
                        "linecolor": "white",
                        "ticks": ""
                      },
                      "bgcolor": "#E5ECF6",
                      "caxis": {
                        "gridcolor": "white",
                        "linecolor": "white",
                        "ticks": ""
                      }
                    },
                    "title": {
                      "x": 0.05
                    },
                    "xaxis": {
                      "automargin": true,
                      "gridcolor": "white",
                      "linecolor": "white",
                      "ticks": "",
                      "title": {
                        "standoff": 15
                      },
                      "zerolinecolor": "white",
                      "zerolinewidth": 2
                    },
                    "yaxis": {
                      "automargin": true,
                      "gridcolor": "white",
                      "linecolor": "white",
                      "ticks": "",
                      "title": {
                        "standoff": 15
                      },
                      "zerolinecolor": "white",
                      "zerolinewidth": 2
                    }
                  }
                },
                "xaxis": {
                  "anchor": "y",
                  "domain": [
                    0,
                    1
                  ],
                  "title": {
                    "text": "value"
                  }
                },
                "yaxis": {
                  "anchor": "x",
                  "domain": [
                    0,
                    1
                  ],
                  "title": {
                    "text": "count"
                  }
                }
              }
            }
          },
          "metadata": {},
          "output_type": "display_data"
        }
      ],
      "source": [
        "px.histogram(seq_lens,nbins=30)"
      ]
    },
    {
      "cell_type": "markdown",
      "id": "50f873ca",
      "metadata": {
        "id": "50f873ca"
      },
      "source": [
        "Taille moyenne des séquences : 22 tokens. Nous allons garder des séquences à 30 tokens."
      ]
    },
    {
      "cell_type": "code",
      "execution_count": 283,
      "id": "e4422276",
      "metadata": {
        "id": "e4422276"
      },
      "outputs": [],
      "source": [
        "def pad_sequences(sequences, max_length=30):\n",
        "    return [seq[:max_length] + [0] * (max_length - len(seq)) for seq in sequences]\n",
        "\n",
        "tokens = pad_sequences(tokens)"
      ]
    },
    {
      "cell_type": "markdown",
      "id": "56c0459f",
      "metadata": {},
      "source": [
        "---"
      ]
    },
    {
      "cell_type": "markdown",
      "id": "f5b54c1e",
      "metadata": {},
      "source": [
        "## 3. Dataset and split datas"
      ]
    },
    {
      "cell_type": "markdown",
      "id": "5f1472b2",
      "metadata": {
        "id": "5f1472b2"
      },
      "source": [
        "Création du Dataset, des DataLoader et split des messages : train et validation. (80% - 20%)"
      ]
    },
    {
      "cell_type": "code",
      "execution_count": 284,
      "id": "2b863d96",
      "metadata": {
        "id": "2b863d96"
      },
      "outputs": [],
      "source": [
        "# Class ATTDataset\n",
        "class ATTDataset(Dataset):\n",
        "    def __init__(self, texts, labels):\n",
        "        self.texts = torch.tensor(texts, dtype=torch.long)\n",
        "        self.labels = torch.tensor(labels, dtype=torch.float32)\n",
        "\n",
        "    def __len__(self):\n",
        "        return len(self.texts)\n",
        "\n",
        "    def __getitem__(self, idx):\n",
        "        return self.texts[idx], self.labels[idx]\n",
        "\n",
        "df_dataset = ATTDataset(tokens, df_spam[\"label\"])\n",
        "\n",
        "# Split dataset into training (80%) and validation (20%)\n",
        "train_size = int(0.8 * len(df_dataset))\n",
        "val_size = len(df_dataset) - train_size\n",
        "train_dataset, val_dataset = random_split(df_dataset, [train_size, val_size])\n",
        "\n",
        "# Create DataLoaders\n",
        "train_loader = DataLoader(train_dataset, batch_size=32, shuffle=True)\n",
        "val_loader = DataLoader(val_dataset, batch_size=32, shuffle=False)"
      ]
    },
    {
      "cell_type": "code",
      "execution_count": 285,
      "id": "d91cf660",
      "metadata": {
        "colab": {
          "base_uri": "https://localhost:8080/"
        },
        "id": "d91cf660",
        "outputId": "0e60dd5b-79d7-4cc5-f79c-5a66613b93f2"
      },
      "outputs": [
        {
          "name": "stdout",
          "output_type": "stream",
          "text": [
            "tensor([0., 0., 0., 1., 0., 0., 0., 0., 1., 1., 0., 0., 0., 0., 0., 0., 0., 0.,\n",
            "        0., 0., 0., 0., 0., 0., 0., 0., 1., 0., 0., 0., 0., 0.])\n",
            "tensor([[ 9642,    11, 40688,    13,  8886,   499,  2133,   311,  1304,   757,\n",
            "          4647,   276,    30,     0,     0,     0,     0,     0,     0,     0,\n",
            "             0,     0,     0,     0,     0,     0,     0,     0,     0,     0],\n",
            "        [47873,   285,   297,   708,  3221, 30125,  1131,   220,     0,     0,\n",
            "             0,     0,     0,     0,     0,     0,     0,     0,     0,     0,\n",
            "             0,     0,     0,     0,     0,     0,     0,     0,     0,     0],\n",
            "        [ 8161,   956, 10894,   889, 25241,   499,   323,   889,   596,   879,\n",
            "          3424,   499,   527,  2564,  1628,   387,   856,  1695,  8334,  2744,\n",
            "          5354,   353,  6519, 85999, 21735,     9,     0,     0,     0,     0],\n",
            "        [ 1539,    38,  1863,     0,  1226,   527,  4560,   311,  3729,   549,\n",
            "            13, 59683,   954,  4128,  5039,   430,   499,   617,  2834,   264,\n",
            "         74880, 82193, 33895, 22386,  4728, 22643, 46372,   946, 94418,  1507],\n",
            "        [   32, 10748,  4851,   291,  1732,   649,   617,   264, 11364, 15648,\n",
            "           430,  3727,  1524,   813, 39007, 14207,   311,  2733, 16390,   369,\n",
            "          1694,   459,  9354,   497,  2100,  2339,   279,  1917,   449,   701],\n",
            "        [   42,   323,   499,  2351,  2771,   358,  1541,   956,   617,   311,\n",
            "           617, 14771,  7739,   311,   656,   433,   551,    53,     0,     0,\n",
            "             0,     0,     0,     0,     0,     0,     0,     0,     0,     0],\n",
            "        [41551, 25237,  1148,  3621,   311,   499,    13,  8595,   499,  7556,\n",
            "           311,   757,  1093,   459,   453,  1122,     0,     0,     0,     0,\n",
            "             0,     0,     0,     0,     0,     0,     0,     0,     0,     0],\n",
            "        [97846, 67311,    13,  2030, 50116,  3371,  1461,  3868,   568,   636,\n",
            "          4684, 18680,  1131,     0,     0,     0,     0,     0,     0,     0,\n",
            "             0,     0,     0,     0,     0,     0,     0,     0,     0,     0],\n",
            "        [11180,  3835,    25, 11579,    30,  7531,   264,  8427,   304,   701,\n",
            "          3158,     0,   220,  1041,    15,    82,   315,  1972,  1274,   527,\n",
            "          8748,   311,  6369,  1457,     0, 11764,  6969,   835,   311,   220],\n",
            "        [ 1539,    38,  1863,     0,  4718,  6505,  2360,   220, 23102, 25013,\n",
            "         98467,   264, 74880, 82193, 33895, 22386,    17,    11,   931, 29298,\n",
            "         57168, 32293,   389,   220,  2437,    14,  2705,    14,  2839,     0],\n",
            "        [   40,  3021,   577,   220,    17, 41346,     0,   432,   577,  2771,\n",
            "          4395,   374,   453,  1269,    13,  2209,   568,  1694,   459, 43358,\n",
            "            30, 80204, 37303,  3828,   648,     0,     0,     0,     0,     0],\n",
            "        [22111,    13, 15037,  1027,  2731,    13,  9062,  1938,  6835,  1524,\n",
            "           810,  8125,   311,  9901,  4359,     0,     0,     0,     0,     0,\n",
            "             0,     0,     0,     0,     0,     0,     0,     0,     0,     0],\n",
            "        [ 2822,   912, 29589,   576,   374,   597, 96244,  2162,  5015, 13904,\n",
            "          4355,  2162,  6424,   374, 10878,  6993, 29589,     0,     0,     0,\n",
            "             0,     0,     0,     0,     0,     0,     0,     0,     0,     0],\n",
            "        [ 3923,   955,   315,  6392,   656,   499,  7936,    30,     0,     0,\n",
            "             0,     0,     0,     0,     0,     0,     0,     0,     0,     0,\n",
            "             0,     0,     0,     0,     0,     0,     0,     0,     0,     0],\n",
            "        [63993,    11,   602,  2846,  8464,   258,   311,   757,    72,   596,\n",
            "           506, 30125,  1131,  2360, 23128,    11,  3868,   258,   220,    19,\n",
            "           577,   311,  4322,    11, 18570,   559,   509,   293,  9257,   326],\n",
            "        [11787,   499,  6787,   449,   701,  3070,   743,   304,  9998,   949,\n",
            "             0,     0,     0,     0,     0,     0,     0,     0,     0,     0,\n",
            "             0,     0,     0,     0,     0,     0,     0,     0,     0,     0],\n",
            "        [32458,   757,  4433,  2613,   887,  5246,     0,     0,     0,     0,\n",
            "             0,     0,     0,     0,     0,     0,     0,     0,     0,     0,\n",
            "             0,     0,     0,     0,     0,     0,     0,     0,     0,     0],\n",
            "        [   59,  8758,   964, 60411,    36,   497,  4534, 80692, 25231, 93418,\n",
            "         20890, 12250,  7659, 46689, 54695,  6570,  4760,    53,  1372,  8021,\n",
            "           549,    13, 60219, 35514,  8796,  1111, 59127,    30, 21242,  3097],\n",
            "        [ 9642, 29589,  1527,  1566,  2046,  5196,   602,  2846,  4737,  3974,\n",
            "          1650,    13,     0,     0,     0,     0,     0,     0,     0,     0,\n",
            "             0,     0,     0,     0,     0,     0,     0,     0,     0,     0],\n",
            "        [59522,  4851,  1268,   527,   499,    30,     0,     0,     0,     0,\n",
            "             0,     0,     0,     0,     0,     0,     0,     0,     0,     0,\n",
            "             0,     0,     0,     0,     0,     0,     0,     0,     0,     0],\n",
            "        [24205,   304,  6130,  2035,     0,     0,     0,     0,     0,     0,\n",
            "             0,     0,     0,     0,     0,     0,     0,     0,     0,     0,\n",
            "             0,     0,     0,     0,     0,     0,     0,     0,     0,     0],\n",
            "        [11087, 33586,  1306,  1077,   323,  1629,  1077,   927,  1418,  1364,\n",
            "           596, 27736,   279,  8761,     0,     0,     0,     0,     0,     0,\n",
            "             0,     0,     0,     0,     0,     0,     0,     0,     0,     0],\n",
            "        [   40, 40464,  5916,   499,   449,   704,   701,  8041,    13,     0,\n",
            "             0,     0,     0,     0,     0,     0,     0,     0,     0,     0,\n",
            "             0,     0,     0,     0,     0,     0,     0,     0,     0,     0],\n",
            "        [75961,   369,   279,  1984,  1901,   540, 11222,  9334,    13,   358,\n",
            "         19321, 82193, 19321,   126,   243,   588,  1027, 37874,   520,   856,\n",
            "          4641,   369,   459,  4325, 30230,  3508,   311,  1495,   477,   539],\n",
            "        [   40, 16869,  3868,   311,  1518,   499,     0,  2650,  1051,   279,\n",
            "          7397,  1051,  5505,    30, 27046,     0,     0,     0,     0,     0,\n",
            "             0,     0,     0,     0,     0,     0,     0,     0,     0,     0],\n",
            "        [  644,  1023,  3754,  1306, 37504,  2785,   757,   311,   636,  1461,\n",
            "         40475,   369,   264,  2046,   323,   417,   706,   912,  3300,    13,\n",
            "         42416,  3014, 17455, 17186, 26460,    52,    41, 49952, 55795,    41],\n",
            "        [13084,  2532, 17480,    13,  1226,  6051,  6818,   311,  1304,   264,\n",
            "          9889,   311,   499,   719,  1051, 12153,   311,   656,   779,    11,\n",
            "          4587,  1650,   220, 17819, 19416, 17014,  2304,   311,   312,  1355],\n",
            "        [   71,  4129, 10283,   398,     0,     0,     0,     0,     0,     0,\n",
            "             0,     0,     0,     0,     0,     0,     0,     0,     0,     0,\n",
            "             0,     0,     0,     0,     0,     0,     0,     0,     0,     0],\n",
            "        [32346,  3389,    13,   358,  1071,   602,   617,   279,  3997,    13,\n",
            "           358,  3287,   956,   602,   617,   477, 15890,   617,   279,  1776,\n",
            "         32997,     0,     0,     0,     0,     0,     0,     0,     0,     0],\n",
            "        [10754,   715,   706,  2586,   311,  1933,   701, 19226,    11,  4015,\n",
            "         17485,   311,  1304,  1124, 18273,   323,   856, 31009,   311,  3041,\n",
            "           499,  8369,   323, 26888,  1285, 24708,    13,  7839, 13120,     0],\n",
            "        [13246,   264,  4443, 30387,   477,  1148,     0,     0,     0,     0,\n",
            "             0,     0,     0,     0,     0,     0,     0,     0,     0,     0,\n",
            "             0,     0,     0,     0,     0,     0,     0,     0,     0,     0],\n",
            "        [41551,  1124,   912,  1205,   311, 19874,   922,   757, 12660,    13,\n",
            "             0,     0,     0,     0,     0,     0,     0,     0,     0,     0,\n",
            "             0,     0,     0,     0,     0,     0,     0,     0,     0,     0]])\n"
          ]
        }
      ],
      "source": [
        "text, label = next(iter(train_loader))\n",
        "print(label)\n",
        "print(text)"
      ]
    },
    {
      "cell_type": "markdown",
      "id": "6becdb77",
      "metadata": {},
      "source": [
        "---"
      ]
    },
    {
      "cell_type": "markdown",
      "id": "66aab88a",
      "metadata": {},
      "source": [
        "## 4. First prediction model (Classification)"
      ]
    },
    {
      "cell_type": "markdown",
      "id": "7106fb38",
      "metadata": {},
      "source": [
        "#### Définition du modèle"
      ]
    },
    {
      "cell_type": "markdown",
      "id": "3e074c9d",
      "metadata": {},
      "source": [
        "1 couche embedding (transforme les tokens en vecteurs)\n",
        "\n",
        "1 couche pooling (réduit les outputs)\n",
        "\n",
        "1 couche Linear\n",
        "\n",
        "Activation Sigmoid car nous sommes sur un problème de classification"
      ]
    },
    {
      "cell_type": "code",
      "execution_count": 286,
      "id": "qU_YWY5-hSTI",
      "metadata": {
        "id": "qU_YWY5-hSTI"
      },
      "outputs": [],
      "source": [
        "vocab_size = tokenizer.n_vocab\n",
        "\n",
        "class TextClassifier(nn.Module):\n",
        "    def __init__(self, vocab_size, embed_dim, num_class):\n",
        "        super(TextClassifier, self).__init__()\n",
        "        self.embedding = nn.Embedding(vocab_size, embed_dim, padding_idx=0)\n",
        "        self.pooling = nn.AdaptiveAvgPool1d(1)\n",
        "        self.fc = nn.Linear(embed_dim, num_class)\n",
        "\n",
        "    def forward(self, text):\n",
        "        embedded = self.embedding(text)\n",
        "        pooled = self.pooling(embedded.permute(0, 2, 1)).squeeze(2)\n",
        "        return torch.sigmoid(self.fc(pooled))\n",
        "\n",
        "model = TextClassifier(vocab_size=vocab_size,\n",
        "                      embed_dim=16,\n",
        "                      num_class=1)"
      ]
    },
    {
      "cell_type": "code",
      "execution_count": 287,
      "id": "42be21e7",
      "metadata": {
        "colab": {
          "base_uri": "https://localhost:8080/"
        },
        "id": "42be21e7",
        "outputId": "0dcfafef-0405-41d2-a493-a23f961fd02f"
      },
      "outputs": [
        {
          "name": "stdout",
          "output_type": "stream",
          "text": [
            "TextClassifier(\n",
            "  (embedding): Embedding(100277, 16, padding_idx=0)\n",
            "  (pooling): AdaptiveAvgPool1d(output_size=1)\n",
            "  (fc): Linear(in_features=16, out_features=1, bias=True)\n",
            ")\n"
          ]
        },
        {
          "data": {
            "text/plain": [
              "==========================================================================================\n",
              "Layer (type:depth-idx)                   Output Shape              Param #\n",
              "==========================================================================================\n",
              "TextClassifier                           [32, 1]                   --\n",
              "├─Embedding: 1-1                         [32, 30, 16]              1,604,432\n",
              "├─AdaptiveAvgPool1d: 1-2                 [32, 16, 1]               --\n",
              "├─Linear: 1-3                            [32, 1]                   17\n",
              "==========================================================================================\n",
              "Total params: 1,604,449\n",
              "Trainable params: 1,604,449\n",
              "Non-trainable params: 0\n",
              "Total mult-adds (Units.MEGABYTES): 51.34\n",
              "==========================================================================================\n",
              "Input size (MB): 0.01\n",
              "Forward/backward pass size (MB): 0.12\n",
              "Params size (MB): 6.42\n",
              "Estimated Total Size (MB): 6.55\n",
              "=========================================================================================="
            ]
          },
          "execution_count": 287,
          "metadata": {},
          "output_type": "execute_result"
        }
      ],
      "source": [
        "\n",
        "print(model)\n",
        "\n",
        "# Print model summary\n",
        "summary(model, input_data=text)"
      ]
    },
    {
      "cell_type": "markdown",
      "id": "c71d32cf",
      "metadata": {},
      "source": [
        "#### Entrainement"
      ]
    },
    {
      "cell_type": "markdown",
      "id": "8432a917",
      "metadata": {},
      "source": [
        "Fonction de coût : Binary Cross Entropy pour la Classification"
      ]
    },
    {
      "cell_type": "markdown",
      "id": "3f94129a",
      "metadata": {},
      "source": [
        "Optimiser : Adam"
      ]
    },
    {
      "cell_type": "markdown",
      "id": "83b3e33a",
      "metadata": {},
      "source": [
        "On entraine le modèle sur 20 epochs"
      ]
    },
    {
      "cell_type": "code",
      "execution_count": 288,
      "id": "aeedc18a",
      "metadata": {
        "colab": {
          "base_uri": "https://localhost:8080/"
        },
        "id": "aeedc18a",
        "outputId": "155506b4-492a-4e09-fc4a-40d3ce435e5e"
      },
      "outputs": [
        {
          "name": "stdout",
          "output_type": "stream",
          "text": [
            "Epoch [1/20], Loss: 0.5921, Acc: 0.8627, Val Loss: 0.5493, Val Acc: 0.8762\n",
            "Epoch [2/20], Loss: 0.5114, Acc: 0.8649, Val Loss: 0.4584, Val Acc: 0.8834\n",
            "Epoch [3/20], Loss: 0.4166, Acc: 0.8818, Val Loss: 0.3638, Val Acc: 0.9049\n",
            "Epoch [4/20], Loss: 0.3292, Acc: 0.9069, Val Loss: 0.2882, Val Acc: 0.9345\n",
            "Epoch [5/20], Loss: 0.2600, Acc: 0.9316, Val Loss: 0.2322, Val Acc: 0.9498\n",
            "Epoch [6/20], Loss: 0.2082, Acc: 0.9542, Val Loss: 0.1915, Val Acc: 0.9578\n",
            "Epoch [7/20], Loss: 0.1704, Acc: 0.9679, Val Loss: 0.1625, Val Acc: 0.9695\n",
            "Epoch [8/20], Loss: 0.1425, Acc: 0.9746, Val Loss: 0.1411, Val Acc: 0.9731\n",
            "Epoch [9/20], Loss: 0.1221, Acc: 0.9798, Val Loss: 0.1250, Val Acc: 0.9749\n",
            "Epoch [10/20], Loss: 0.1052, Acc: 0.9834, Val Loss: 0.1125, Val Acc: 0.9785\n",
            "Epoch [11/20], Loss: 0.0922, Acc: 0.9863, Val Loss: 0.1025, Val Acc: 0.9821\n",
            "Epoch [12/20], Loss: 0.0819, Acc: 0.9877, Val Loss: 0.0945, Val Acc: 0.9830\n",
            "Epoch [13/20], Loss: 0.0729, Acc: 0.9881, Val Loss: 0.0878, Val Acc: 0.9830\n",
            "Epoch [14/20], Loss: 0.0654, Acc: 0.9888, Val Loss: 0.0822, Val Acc: 0.9848\n",
            "Epoch [15/20], Loss: 0.0590, Acc: 0.9890, Val Loss: 0.0774, Val Acc: 0.9848\n",
            "Epoch [16/20], Loss: 0.0535, Acc: 0.9899, Val Loss: 0.0734, Val Acc: 0.9848\n",
            "Epoch [17/20], Loss: 0.0484, Acc: 0.9912, Val Loss: 0.0699, Val Acc: 0.9892\n",
            "Epoch [18/20], Loss: 0.0439, Acc: 0.9935, Val Loss: 0.0669, Val Acc: 0.9901\n",
            "Epoch [19/20], Loss: 0.0399, Acc: 0.9937, Val Loss: 0.0641, Val Acc: 0.9901\n",
            "Epoch [20/20], Loss: 0.0364, Acc: 0.9946, Val Loss: 0.0618, Val Acc: 0.9901\n"
          ]
        }
      ],
      "source": [
        "criterion = nn.BCELoss()\n",
        "optimizer = optim.Adam(model.parameters(), lr=0.001)\n",
        "\n",
        "def train(model, train_loader, val_loader, criterion, optimizer, epochs=100):\n",
        "\n",
        "    # Dictionary to store training & validation loss and accuracy over epochs\n",
        "    history = {\"loss\": [], \"val_loss\": [], \"accuracy\": [], \"val_accuracy\": []}\n",
        "\n",
        "    for epoch in range(epochs):  # Loop over the number of epochs\n",
        "        model.train()  # Set model to training mode\n",
        "        total_loss, correct = 0, 0  # Initialize total loss and correct predictions\n",
        "\n",
        "        # Training loop\n",
        "        for inputs, labels in train_loader:\n",
        "            optimizer.zero_grad()  # Reset gradients before each batch\n",
        "            outputs = model(inputs).squeeze()  # Forward pass\n",
        "            loss = criterion(outputs, labels)  # Compute loss\n",
        "            loss.backward()  # Backpropagation (compute gradients)\n",
        "            optimizer.step()  # Update model parameters\n",
        "\n",
        "            total_loss += loss.item()  # Accumulate batch loss\n",
        "            correct += ((outputs > 0.5) == labels).sum().item()  # Count correct predictions\n",
        "\n",
        "        # Compute average loss and accuracy for training\n",
        "        train_loss = total_loss / len(train_loader)\n",
        "        train_acc = correct / len(train_loader.dataset)\n",
        "\n",
        "        # Validation phase (without gradient computation)\n",
        "        model.eval()  # Set model to evaluation mode\n",
        "        val_loss, val_correct = 0, 0\n",
        "        with torch.no_grad():  # No need to compute gradients during validation\n",
        "            for inputs, labels in val_loader:\n",
        "                outputs = model(inputs).squeeze()  # Forward pass\n",
        "                loss = criterion(outputs, labels)  # Compute loss\n",
        "                val_loss += loss.item()  # Accumulate validation loss\n",
        "                val_correct += ((outputs > 0.5) == labels).sum().item()  # Count correct predictions\n",
        "\n",
        "        # Compute average loss and accuracy for validation\n",
        "        val_loss /= len(val_loader)\n",
        "        val_acc = val_correct / len(val_loader.dataset)\n",
        "\n",
        "        # Store metrics in history dictionary\n",
        "        history[\"loss\"].append(train_loss)\n",
        "        history[\"val_loss\"].append(val_loss)\n",
        "        history[\"accuracy\"].append(train_acc)\n",
        "        history[\"val_accuracy\"].append(val_acc)\n",
        "\n",
        "        # Print training progress\n",
        "        print(f\"Epoch [{epoch+1}/{epochs}], Loss: {train_loss:.4f}, Acc: {train_acc:.4f}, \"\n",
        "              f\"Val Loss: {val_loss:.4f}, Val Acc: {val_acc:.4f}\")\n",
        "\n",
        "    return history  # Return training history\n",
        "\n",
        "history = train(model,\n",
        "                train_loader=train_loader,\n",
        "                val_loader=val_loader,\n",
        "                criterion=criterion,\n",
        "                optimizer=optimizer,\n",
        "                epochs=20)"
      ]
    },
    {
      "cell_type": "markdown",
      "id": "0f0202b1",
      "metadata": {},
      "source": [
        "#### Sauvegarde du modèle"
      ]
    },
    {
      "cell_type": "code",
      "execution_count": 289,
      "id": "53a9275a",
      "metadata": {},
      "outputs": [],
      "source": [
        "checkpoint_path = \"../models/AT_T_DeepLearning__Model.pth\"\n",
        "torch.save({\n",
        "    \"model_state_dict\": model.state_dict(),\n",
        "    \"optimizer_state_dict\": optimizer.state_dict(),\n",
        "    \"history\": history,\n",
        "}, checkpoint_path)"
      ]
    },
    {
      "cell_type": "markdown",
      "id": "6eee6ab3",
      "metadata": {},
      "source": [
        "#### Analyse des résultats"
      ]
    },
    {
      "cell_type": "markdown",
      "id": "dad8f9dc",
      "metadata": {},
      "source": [
        "Visualisation de la fonction de coût et de l'accuracy"
      ]
    },
    {
      "cell_type": "code",
      "execution_count": 290,
      "id": "db197134",
      "metadata": {
        "colab": {
          "base_uri": "https://localhost:8080/",
          "height": 542
        },
        "id": "db197134",
        "outputId": "ecdb1036-1d9e-45af-ad39-1a81998ead71"
      },
      "outputs": [
        {
          "data": {
            "application/vnd.plotly.v1+json": {
              "config": {
                "plotlyServerURL": "https://plot.ly"
              },
              "data": [
                {
                  "marker": {
                    "color": "#4B9AC7"
                  },
                  "mode": "lines",
                  "name": "Training loss",
                  "type": "scatter",
                  "y": [
                    0.5920670385871615,
                    0.5113679941211428,
                    0.4165774430547442,
                    0.3292212950331824,
                    0.26001642612474307,
                    0.20824808653976237,
                    0.17035721205174922,
                    0.1424803642289979,
                    0.12205865449671234,
                    0.10515700762293169,
                    0.09219760333320924,
                    0.0818637047761253,
                    0.0729494017282767,
                    0.06539218505578381,
                    0.05895344859787396,
                    0.05347078603559307,
                    0.04841917217043894,
                    0.043907929717430044,
                    0.03991801948951823,
                    0.0363638885452279
                  ]
                },
                {
                  "marker": {
                    "color": "#4BE8E0"
                  },
                  "mode": "lines",
                  "name": "Validation loss",
                  "type": "scatter",
                  "y": [
                    0.5493089812142509,
                    0.45844132304191587,
                    0.3638369492122105,
                    0.2882315972021648,
                    0.23220961264201573,
                    0.19151264812265123,
                    0.1625225605709212,
                    0.14114594736269542,
                    0.12496478727885656,
                    0.1124872767499515,
                    0.10250872586454664,
                    0.09453410506248475,
                    0.08781548632042749,
                    0.08216410311205047,
                    0.07738641010863441,
                    0.07336144410073757,
                    0.06992277444473334,
                    0.0668649457927261,
                    0.06411731812570776,
                    0.06175712182053498
                  ]
                }
              ],
              "layout": {
                "template": {
                  "data": {
                    "bar": [
                      {
                        "error_x": {
                          "color": "#2a3f5f"
                        },
                        "error_y": {
                          "color": "#2a3f5f"
                        },
                        "marker": {
                          "line": {
                            "color": "#E5ECF6",
                            "width": 0.5
                          },
                          "pattern": {
                            "fillmode": "overlay",
                            "size": 10,
                            "solidity": 0.2
                          }
                        },
                        "type": "bar"
                      }
                    ],
                    "barpolar": [
                      {
                        "marker": {
                          "line": {
                            "color": "#E5ECF6",
                            "width": 0.5
                          },
                          "pattern": {
                            "fillmode": "overlay",
                            "size": 10,
                            "solidity": 0.2
                          }
                        },
                        "type": "barpolar"
                      }
                    ],
                    "carpet": [
                      {
                        "aaxis": {
                          "endlinecolor": "#2a3f5f",
                          "gridcolor": "white",
                          "linecolor": "white",
                          "minorgridcolor": "white",
                          "startlinecolor": "#2a3f5f"
                        },
                        "baxis": {
                          "endlinecolor": "#2a3f5f",
                          "gridcolor": "white",
                          "linecolor": "white",
                          "minorgridcolor": "white",
                          "startlinecolor": "#2a3f5f"
                        },
                        "type": "carpet"
                      }
                    ],
                    "choropleth": [
                      {
                        "colorbar": {
                          "outlinewidth": 0,
                          "ticks": ""
                        },
                        "type": "choropleth"
                      }
                    ],
                    "contour": [
                      {
                        "colorbar": {
                          "outlinewidth": 0,
                          "ticks": ""
                        },
                        "colorscale": [
                          [
                            0,
                            "#0d0887"
                          ],
                          [
                            0.1111111111111111,
                            "#46039f"
                          ],
                          [
                            0.2222222222222222,
                            "#7201a8"
                          ],
                          [
                            0.3333333333333333,
                            "#9c179e"
                          ],
                          [
                            0.4444444444444444,
                            "#bd3786"
                          ],
                          [
                            0.5555555555555556,
                            "#d8576b"
                          ],
                          [
                            0.6666666666666666,
                            "#ed7953"
                          ],
                          [
                            0.7777777777777778,
                            "#fb9f3a"
                          ],
                          [
                            0.8888888888888888,
                            "#fdca26"
                          ],
                          [
                            1,
                            "#f0f921"
                          ]
                        ],
                        "type": "contour"
                      }
                    ],
                    "contourcarpet": [
                      {
                        "colorbar": {
                          "outlinewidth": 0,
                          "ticks": ""
                        },
                        "type": "contourcarpet"
                      }
                    ],
                    "heatmap": [
                      {
                        "colorbar": {
                          "outlinewidth": 0,
                          "ticks": ""
                        },
                        "colorscale": [
                          [
                            0,
                            "#0d0887"
                          ],
                          [
                            0.1111111111111111,
                            "#46039f"
                          ],
                          [
                            0.2222222222222222,
                            "#7201a8"
                          ],
                          [
                            0.3333333333333333,
                            "#9c179e"
                          ],
                          [
                            0.4444444444444444,
                            "#bd3786"
                          ],
                          [
                            0.5555555555555556,
                            "#d8576b"
                          ],
                          [
                            0.6666666666666666,
                            "#ed7953"
                          ],
                          [
                            0.7777777777777778,
                            "#fb9f3a"
                          ],
                          [
                            0.8888888888888888,
                            "#fdca26"
                          ],
                          [
                            1,
                            "#f0f921"
                          ]
                        ],
                        "type": "heatmap"
                      }
                    ],
                    "histogram": [
                      {
                        "marker": {
                          "pattern": {
                            "fillmode": "overlay",
                            "size": 10,
                            "solidity": 0.2
                          }
                        },
                        "type": "histogram"
                      }
                    ],
                    "histogram2d": [
                      {
                        "colorbar": {
                          "outlinewidth": 0,
                          "ticks": ""
                        },
                        "colorscale": [
                          [
                            0,
                            "#0d0887"
                          ],
                          [
                            0.1111111111111111,
                            "#46039f"
                          ],
                          [
                            0.2222222222222222,
                            "#7201a8"
                          ],
                          [
                            0.3333333333333333,
                            "#9c179e"
                          ],
                          [
                            0.4444444444444444,
                            "#bd3786"
                          ],
                          [
                            0.5555555555555556,
                            "#d8576b"
                          ],
                          [
                            0.6666666666666666,
                            "#ed7953"
                          ],
                          [
                            0.7777777777777778,
                            "#fb9f3a"
                          ],
                          [
                            0.8888888888888888,
                            "#fdca26"
                          ],
                          [
                            1,
                            "#f0f921"
                          ]
                        ],
                        "type": "histogram2d"
                      }
                    ],
                    "histogram2dcontour": [
                      {
                        "colorbar": {
                          "outlinewidth": 0,
                          "ticks": ""
                        },
                        "colorscale": [
                          [
                            0,
                            "#0d0887"
                          ],
                          [
                            0.1111111111111111,
                            "#46039f"
                          ],
                          [
                            0.2222222222222222,
                            "#7201a8"
                          ],
                          [
                            0.3333333333333333,
                            "#9c179e"
                          ],
                          [
                            0.4444444444444444,
                            "#bd3786"
                          ],
                          [
                            0.5555555555555556,
                            "#d8576b"
                          ],
                          [
                            0.6666666666666666,
                            "#ed7953"
                          ],
                          [
                            0.7777777777777778,
                            "#fb9f3a"
                          ],
                          [
                            0.8888888888888888,
                            "#fdca26"
                          ],
                          [
                            1,
                            "#f0f921"
                          ]
                        ],
                        "type": "histogram2dcontour"
                      }
                    ],
                    "mesh3d": [
                      {
                        "colorbar": {
                          "outlinewidth": 0,
                          "ticks": ""
                        },
                        "type": "mesh3d"
                      }
                    ],
                    "parcoords": [
                      {
                        "line": {
                          "colorbar": {
                            "outlinewidth": 0,
                            "ticks": ""
                          }
                        },
                        "type": "parcoords"
                      }
                    ],
                    "pie": [
                      {
                        "automargin": true,
                        "type": "pie"
                      }
                    ],
                    "scatter": [
                      {
                        "fillpattern": {
                          "fillmode": "overlay",
                          "size": 10,
                          "solidity": 0.2
                        },
                        "type": "scatter"
                      }
                    ],
                    "scatter3d": [
                      {
                        "line": {
                          "colorbar": {
                            "outlinewidth": 0,
                            "ticks": ""
                          }
                        },
                        "marker": {
                          "colorbar": {
                            "outlinewidth": 0,
                            "ticks": ""
                          }
                        },
                        "type": "scatter3d"
                      }
                    ],
                    "scattercarpet": [
                      {
                        "marker": {
                          "colorbar": {
                            "outlinewidth": 0,
                            "ticks": ""
                          }
                        },
                        "type": "scattercarpet"
                      }
                    ],
                    "scattergeo": [
                      {
                        "marker": {
                          "colorbar": {
                            "outlinewidth": 0,
                            "ticks": ""
                          }
                        },
                        "type": "scattergeo"
                      }
                    ],
                    "scattergl": [
                      {
                        "marker": {
                          "colorbar": {
                            "outlinewidth": 0,
                            "ticks": ""
                          }
                        },
                        "type": "scattergl"
                      }
                    ],
                    "scattermap": [
                      {
                        "marker": {
                          "colorbar": {
                            "outlinewidth": 0,
                            "ticks": ""
                          }
                        },
                        "type": "scattermap"
                      }
                    ],
                    "scattermapbox": [
                      {
                        "marker": {
                          "colorbar": {
                            "outlinewidth": 0,
                            "ticks": ""
                          }
                        },
                        "type": "scattermapbox"
                      }
                    ],
                    "scatterpolar": [
                      {
                        "marker": {
                          "colorbar": {
                            "outlinewidth": 0,
                            "ticks": ""
                          }
                        },
                        "type": "scatterpolar"
                      }
                    ],
                    "scatterpolargl": [
                      {
                        "marker": {
                          "colorbar": {
                            "outlinewidth": 0,
                            "ticks": ""
                          }
                        },
                        "type": "scatterpolargl"
                      }
                    ],
                    "scatterternary": [
                      {
                        "marker": {
                          "colorbar": {
                            "outlinewidth": 0,
                            "ticks": ""
                          }
                        },
                        "type": "scatterternary"
                      }
                    ],
                    "surface": [
                      {
                        "colorbar": {
                          "outlinewidth": 0,
                          "ticks": ""
                        },
                        "colorscale": [
                          [
                            0,
                            "#0d0887"
                          ],
                          [
                            0.1111111111111111,
                            "#46039f"
                          ],
                          [
                            0.2222222222222222,
                            "#7201a8"
                          ],
                          [
                            0.3333333333333333,
                            "#9c179e"
                          ],
                          [
                            0.4444444444444444,
                            "#bd3786"
                          ],
                          [
                            0.5555555555555556,
                            "#d8576b"
                          ],
                          [
                            0.6666666666666666,
                            "#ed7953"
                          ],
                          [
                            0.7777777777777778,
                            "#fb9f3a"
                          ],
                          [
                            0.8888888888888888,
                            "#fdca26"
                          ],
                          [
                            1,
                            "#f0f921"
                          ]
                        ],
                        "type": "surface"
                      }
                    ],
                    "table": [
                      {
                        "cells": {
                          "fill": {
                            "color": "#EBF0F8"
                          },
                          "line": {
                            "color": "white"
                          }
                        },
                        "header": {
                          "fill": {
                            "color": "#C8D4E3"
                          },
                          "line": {
                            "color": "white"
                          }
                        },
                        "type": "table"
                      }
                    ]
                  },
                  "layout": {
                    "annotationdefaults": {
                      "arrowcolor": "#2a3f5f",
                      "arrowhead": 0,
                      "arrowwidth": 1
                    },
                    "autotypenumbers": "strict",
                    "coloraxis": {
                      "colorbar": {
                        "outlinewidth": 0,
                        "ticks": ""
                      }
                    },
                    "colorscale": {
                      "diverging": [
                        [
                          0,
                          "#8e0152"
                        ],
                        [
                          0.1,
                          "#c51b7d"
                        ],
                        [
                          0.2,
                          "#de77ae"
                        ],
                        [
                          0.3,
                          "#f1b6da"
                        ],
                        [
                          0.4,
                          "#fde0ef"
                        ],
                        [
                          0.5,
                          "#f7f7f7"
                        ],
                        [
                          0.6,
                          "#e6f5d0"
                        ],
                        [
                          0.7,
                          "#b8e186"
                        ],
                        [
                          0.8,
                          "#7fbc41"
                        ],
                        [
                          0.9,
                          "#4d9221"
                        ],
                        [
                          1,
                          "#276419"
                        ]
                      ],
                      "sequential": [
                        [
                          0,
                          "#0d0887"
                        ],
                        [
                          0.1111111111111111,
                          "#46039f"
                        ],
                        [
                          0.2222222222222222,
                          "#7201a8"
                        ],
                        [
                          0.3333333333333333,
                          "#9c179e"
                        ],
                        [
                          0.4444444444444444,
                          "#bd3786"
                        ],
                        [
                          0.5555555555555556,
                          "#d8576b"
                        ],
                        [
                          0.6666666666666666,
                          "#ed7953"
                        ],
                        [
                          0.7777777777777778,
                          "#fb9f3a"
                        ],
                        [
                          0.8888888888888888,
                          "#fdca26"
                        ],
                        [
                          1,
                          "#f0f921"
                        ]
                      ],
                      "sequentialminus": [
                        [
                          0,
                          "#0d0887"
                        ],
                        [
                          0.1111111111111111,
                          "#46039f"
                        ],
                        [
                          0.2222222222222222,
                          "#7201a8"
                        ],
                        [
                          0.3333333333333333,
                          "#9c179e"
                        ],
                        [
                          0.4444444444444444,
                          "#bd3786"
                        ],
                        [
                          0.5555555555555556,
                          "#d8576b"
                        ],
                        [
                          0.6666666666666666,
                          "#ed7953"
                        ],
                        [
                          0.7777777777777778,
                          "#fb9f3a"
                        ],
                        [
                          0.8888888888888888,
                          "#fdca26"
                        ],
                        [
                          1,
                          "#f0f921"
                        ]
                      ]
                    },
                    "colorway": [
                      "#636efa",
                      "#EF553B",
                      "#00cc96",
                      "#ab63fa",
                      "#FFA15A",
                      "#19d3f3",
                      "#FF6692",
                      "#B6E880",
                      "#FF97FF",
                      "#FECB52"
                    ],
                    "font": {
                      "color": "#2a3f5f"
                    },
                    "geo": {
                      "bgcolor": "white",
                      "lakecolor": "white",
                      "landcolor": "#E5ECF6",
                      "showlakes": true,
                      "showland": true,
                      "subunitcolor": "white"
                    },
                    "hoverlabel": {
                      "align": "left"
                    },
                    "hovermode": "closest",
                    "mapbox": {
                      "style": "light"
                    },
                    "paper_bgcolor": "white",
                    "plot_bgcolor": "#E5ECF6",
                    "polar": {
                      "angularaxis": {
                        "gridcolor": "white",
                        "linecolor": "white",
                        "ticks": ""
                      },
                      "bgcolor": "#E5ECF6",
                      "radialaxis": {
                        "gridcolor": "white",
                        "linecolor": "white",
                        "ticks": ""
                      }
                    },
                    "scene": {
                      "xaxis": {
                        "backgroundcolor": "#E5ECF6",
                        "gridcolor": "white",
                        "gridwidth": 2,
                        "linecolor": "white",
                        "showbackground": true,
                        "ticks": "",
                        "zerolinecolor": "white"
                      },
                      "yaxis": {
                        "backgroundcolor": "#E5ECF6",
                        "gridcolor": "white",
                        "gridwidth": 2,
                        "linecolor": "white",
                        "showbackground": true,
                        "ticks": "",
                        "zerolinecolor": "white"
                      },
                      "zaxis": {
                        "backgroundcolor": "#E5ECF6",
                        "gridcolor": "white",
                        "gridwidth": 2,
                        "linecolor": "white",
                        "showbackground": true,
                        "ticks": "",
                        "zerolinecolor": "white"
                      }
                    },
                    "shapedefaults": {
                      "line": {
                        "color": "#2a3f5f"
                      }
                    },
                    "ternary": {
                      "aaxis": {
                        "gridcolor": "white",
                        "linecolor": "white",
                        "ticks": ""
                      },
                      "baxis": {
                        "gridcolor": "white",
                        "linecolor": "white",
                        "ticks": ""
                      },
                      "bgcolor": "#E5ECF6",
                      "caxis": {
                        "gridcolor": "white",
                        "linecolor": "white",
                        "ticks": ""
                      }
                    },
                    "title": {
                      "x": 0.05
                    },
                    "xaxis": {
                      "automargin": true,
                      "gridcolor": "white",
                      "linecolor": "white",
                      "ticks": "",
                      "title": {
                        "standoff": 15
                      },
                      "zerolinecolor": "white",
                      "zerolinewidth": 2
                    },
                    "yaxis": {
                      "automargin": true,
                      "gridcolor": "white",
                      "linecolor": "white",
                      "ticks": "",
                      "title": {
                        "standoff": 15
                      },
                      "zerolinecolor": "white",
                      "zerolinewidth": 2
                    }
                  }
                },
                "title": {
                  "text": "Training and val loss across epochs"
                },
                "xaxis": {
                  "title": {
                    "text": "epochs"
                  }
                },
                "yaxis": {
                  "title": {
                    "text": "Cross Entropy"
                  }
                }
              }
            }
          },
          "metadata": {},
          "output_type": "display_data"
        }
      ],
      "source": [
        "color_chart = [\"#4B9AC7\", \"#4BE8E0\", \"#9DD4F3\", \"#97FBF6\", \"#2A7FAF\", \"#23B1AB\", \"#0E3449\", \"#015955\"]\n",
        "\n",
        "fig = go.Figure(data=[\n",
        "                      go.Scatter(\n",
        "                          y=history[\"loss\"],\n",
        "                          name=\"Training loss\",\n",
        "                          mode=\"lines\",\n",
        "                          marker=dict(\n",
        "                              color=color_chart[0]\n",
        "                          )),\n",
        "                      go.Scatter(\n",
        "                          y=history[\"val_loss\"],\n",
        "                          name=\"Validation loss\",\n",
        "                          mode=\"lines\",\n",
        "                          marker=dict(\n",
        "                              color=color_chart[1]\n",
        "                          ))\n",
        "])\n",
        "fig.update_layout(\n",
        "    title=\"Training and val loss across epochs\",\n",
        "    xaxis_title=\"epochs\",\n",
        "    yaxis_title=\"Cross Entropy\"\n",
        ")\n",
        "fig.show()"
      ]
    },
    {
      "cell_type": "code",
      "execution_count": 291,
      "id": "1010a63d",
      "metadata": {
        "colab": {
          "base_uri": "https://localhost:8080/",
          "height": 542
        },
        "id": "1010a63d",
        "outputId": "2068673d-6a18-496c-b94d-891cee5e5292"
      },
      "outputs": [
        {
          "data": {
            "application/vnd.plotly.v1+json": {
              "config": {
                "plotlyServerURL": "https://plot.ly"
              },
              "data": [
                {
                  "marker": {
                    "color": "#4B9AC7"
                  },
                  "mode": "lines",
                  "name": "Training Accuracy",
                  "type": "scatter",
                  "y": [
                    0.8626879066636751,
                    0.8649315683194975,
                    0.8817590307381646,
                    0.9068880412833744,
                    0.9315683194974198,
                    0.954229302221225,
                    0.9679156383217411,
                    0.974646623289208,
                    0.9798070450975993,
                    0.983396903746915,
                    0.9863136638994839,
                    0.9876598608929773,
                    0.9881085932241418,
                    0.9887816917208885,
                    0.9890060578864707,
                    0.9899035225487997,
                    0.991249719542293,
                    0.9934933811981154,
                    0.9937177473636976,
                    0.9946152120260264
                  ]
                },
                {
                  "marker": {
                    "color": "#4BE8E0"
                  },
                  "mode": "lines",
                  "name": "Validation Accuracy",
                  "type": "scatter",
                  "y": [
                    0.8762331838565023,
                    0.8834080717488789,
                    0.9049327354260089,
                    0.9345291479820628,
                    0.9497757847533632,
                    0.957847533632287,
                    0.9695067264573991,
                    0.9730941704035875,
                    0.9748878923766816,
                    0.97847533632287,
                    0.9820627802690582,
                    0.9829596412556054,
                    0.9829596412556054,
                    0.9847533632286996,
                    0.9847533632286996,
                    0.9847533632286996,
                    0.989237668161435,
                    0.9901345291479821,
                    0.9901345291479821,
                    0.9901345291479821
                  ]
                }
              ],
              "layout": {
                "template": {
                  "data": {
                    "bar": [
                      {
                        "error_x": {
                          "color": "#2a3f5f"
                        },
                        "error_y": {
                          "color": "#2a3f5f"
                        },
                        "marker": {
                          "line": {
                            "color": "#E5ECF6",
                            "width": 0.5
                          },
                          "pattern": {
                            "fillmode": "overlay",
                            "size": 10,
                            "solidity": 0.2
                          }
                        },
                        "type": "bar"
                      }
                    ],
                    "barpolar": [
                      {
                        "marker": {
                          "line": {
                            "color": "#E5ECF6",
                            "width": 0.5
                          },
                          "pattern": {
                            "fillmode": "overlay",
                            "size": 10,
                            "solidity": 0.2
                          }
                        },
                        "type": "barpolar"
                      }
                    ],
                    "carpet": [
                      {
                        "aaxis": {
                          "endlinecolor": "#2a3f5f",
                          "gridcolor": "white",
                          "linecolor": "white",
                          "minorgridcolor": "white",
                          "startlinecolor": "#2a3f5f"
                        },
                        "baxis": {
                          "endlinecolor": "#2a3f5f",
                          "gridcolor": "white",
                          "linecolor": "white",
                          "minorgridcolor": "white",
                          "startlinecolor": "#2a3f5f"
                        },
                        "type": "carpet"
                      }
                    ],
                    "choropleth": [
                      {
                        "colorbar": {
                          "outlinewidth": 0,
                          "ticks": ""
                        },
                        "type": "choropleth"
                      }
                    ],
                    "contour": [
                      {
                        "colorbar": {
                          "outlinewidth": 0,
                          "ticks": ""
                        },
                        "colorscale": [
                          [
                            0,
                            "#0d0887"
                          ],
                          [
                            0.1111111111111111,
                            "#46039f"
                          ],
                          [
                            0.2222222222222222,
                            "#7201a8"
                          ],
                          [
                            0.3333333333333333,
                            "#9c179e"
                          ],
                          [
                            0.4444444444444444,
                            "#bd3786"
                          ],
                          [
                            0.5555555555555556,
                            "#d8576b"
                          ],
                          [
                            0.6666666666666666,
                            "#ed7953"
                          ],
                          [
                            0.7777777777777778,
                            "#fb9f3a"
                          ],
                          [
                            0.8888888888888888,
                            "#fdca26"
                          ],
                          [
                            1,
                            "#f0f921"
                          ]
                        ],
                        "type": "contour"
                      }
                    ],
                    "contourcarpet": [
                      {
                        "colorbar": {
                          "outlinewidth": 0,
                          "ticks": ""
                        },
                        "type": "contourcarpet"
                      }
                    ],
                    "heatmap": [
                      {
                        "colorbar": {
                          "outlinewidth": 0,
                          "ticks": ""
                        },
                        "colorscale": [
                          [
                            0,
                            "#0d0887"
                          ],
                          [
                            0.1111111111111111,
                            "#46039f"
                          ],
                          [
                            0.2222222222222222,
                            "#7201a8"
                          ],
                          [
                            0.3333333333333333,
                            "#9c179e"
                          ],
                          [
                            0.4444444444444444,
                            "#bd3786"
                          ],
                          [
                            0.5555555555555556,
                            "#d8576b"
                          ],
                          [
                            0.6666666666666666,
                            "#ed7953"
                          ],
                          [
                            0.7777777777777778,
                            "#fb9f3a"
                          ],
                          [
                            0.8888888888888888,
                            "#fdca26"
                          ],
                          [
                            1,
                            "#f0f921"
                          ]
                        ],
                        "type": "heatmap"
                      }
                    ],
                    "histogram": [
                      {
                        "marker": {
                          "pattern": {
                            "fillmode": "overlay",
                            "size": 10,
                            "solidity": 0.2
                          }
                        },
                        "type": "histogram"
                      }
                    ],
                    "histogram2d": [
                      {
                        "colorbar": {
                          "outlinewidth": 0,
                          "ticks": ""
                        },
                        "colorscale": [
                          [
                            0,
                            "#0d0887"
                          ],
                          [
                            0.1111111111111111,
                            "#46039f"
                          ],
                          [
                            0.2222222222222222,
                            "#7201a8"
                          ],
                          [
                            0.3333333333333333,
                            "#9c179e"
                          ],
                          [
                            0.4444444444444444,
                            "#bd3786"
                          ],
                          [
                            0.5555555555555556,
                            "#d8576b"
                          ],
                          [
                            0.6666666666666666,
                            "#ed7953"
                          ],
                          [
                            0.7777777777777778,
                            "#fb9f3a"
                          ],
                          [
                            0.8888888888888888,
                            "#fdca26"
                          ],
                          [
                            1,
                            "#f0f921"
                          ]
                        ],
                        "type": "histogram2d"
                      }
                    ],
                    "histogram2dcontour": [
                      {
                        "colorbar": {
                          "outlinewidth": 0,
                          "ticks": ""
                        },
                        "colorscale": [
                          [
                            0,
                            "#0d0887"
                          ],
                          [
                            0.1111111111111111,
                            "#46039f"
                          ],
                          [
                            0.2222222222222222,
                            "#7201a8"
                          ],
                          [
                            0.3333333333333333,
                            "#9c179e"
                          ],
                          [
                            0.4444444444444444,
                            "#bd3786"
                          ],
                          [
                            0.5555555555555556,
                            "#d8576b"
                          ],
                          [
                            0.6666666666666666,
                            "#ed7953"
                          ],
                          [
                            0.7777777777777778,
                            "#fb9f3a"
                          ],
                          [
                            0.8888888888888888,
                            "#fdca26"
                          ],
                          [
                            1,
                            "#f0f921"
                          ]
                        ],
                        "type": "histogram2dcontour"
                      }
                    ],
                    "mesh3d": [
                      {
                        "colorbar": {
                          "outlinewidth": 0,
                          "ticks": ""
                        },
                        "type": "mesh3d"
                      }
                    ],
                    "parcoords": [
                      {
                        "line": {
                          "colorbar": {
                            "outlinewidth": 0,
                            "ticks": ""
                          }
                        },
                        "type": "parcoords"
                      }
                    ],
                    "pie": [
                      {
                        "automargin": true,
                        "type": "pie"
                      }
                    ],
                    "scatter": [
                      {
                        "fillpattern": {
                          "fillmode": "overlay",
                          "size": 10,
                          "solidity": 0.2
                        },
                        "type": "scatter"
                      }
                    ],
                    "scatter3d": [
                      {
                        "line": {
                          "colorbar": {
                            "outlinewidth": 0,
                            "ticks": ""
                          }
                        },
                        "marker": {
                          "colorbar": {
                            "outlinewidth": 0,
                            "ticks": ""
                          }
                        },
                        "type": "scatter3d"
                      }
                    ],
                    "scattercarpet": [
                      {
                        "marker": {
                          "colorbar": {
                            "outlinewidth": 0,
                            "ticks": ""
                          }
                        },
                        "type": "scattercarpet"
                      }
                    ],
                    "scattergeo": [
                      {
                        "marker": {
                          "colorbar": {
                            "outlinewidth": 0,
                            "ticks": ""
                          }
                        },
                        "type": "scattergeo"
                      }
                    ],
                    "scattergl": [
                      {
                        "marker": {
                          "colorbar": {
                            "outlinewidth": 0,
                            "ticks": ""
                          }
                        },
                        "type": "scattergl"
                      }
                    ],
                    "scattermap": [
                      {
                        "marker": {
                          "colorbar": {
                            "outlinewidth": 0,
                            "ticks": ""
                          }
                        },
                        "type": "scattermap"
                      }
                    ],
                    "scattermapbox": [
                      {
                        "marker": {
                          "colorbar": {
                            "outlinewidth": 0,
                            "ticks": ""
                          }
                        },
                        "type": "scattermapbox"
                      }
                    ],
                    "scatterpolar": [
                      {
                        "marker": {
                          "colorbar": {
                            "outlinewidth": 0,
                            "ticks": ""
                          }
                        },
                        "type": "scatterpolar"
                      }
                    ],
                    "scatterpolargl": [
                      {
                        "marker": {
                          "colorbar": {
                            "outlinewidth": 0,
                            "ticks": ""
                          }
                        },
                        "type": "scatterpolargl"
                      }
                    ],
                    "scatterternary": [
                      {
                        "marker": {
                          "colorbar": {
                            "outlinewidth": 0,
                            "ticks": ""
                          }
                        },
                        "type": "scatterternary"
                      }
                    ],
                    "surface": [
                      {
                        "colorbar": {
                          "outlinewidth": 0,
                          "ticks": ""
                        },
                        "colorscale": [
                          [
                            0,
                            "#0d0887"
                          ],
                          [
                            0.1111111111111111,
                            "#46039f"
                          ],
                          [
                            0.2222222222222222,
                            "#7201a8"
                          ],
                          [
                            0.3333333333333333,
                            "#9c179e"
                          ],
                          [
                            0.4444444444444444,
                            "#bd3786"
                          ],
                          [
                            0.5555555555555556,
                            "#d8576b"
                          ],
                          [
                            0.6666666666666666,
                            "#ed7953"
                          ],
                          [
                            0.7777777777777778,
                            "#fb9f3a"
                          ],
                          [
                            0.8888888888888888,
                            "#fdca26"
                          ],
                          [
                            1,
                            "#f0f921"
                          ]
                        ],
                        "type": "surface"
                      }
                    ],
                    "table": [
                      {
                        "cells": {
                          "fill": {
                            "color": "#EBF0F8"
                          },
                          "line": {
                            "color": "white"
                          }
                        },
                        "header": {
                          "fill": {
                            "color": "#C8D4E3"
                          },
                          "line": {
                            "color": "white"
                          }
                        },
                        "type": "table"
                      }
                    ]
                  },
                  "layout": {
                    "annotationdefaults": {
                      "arrowcolor": "#2a3f5f",
                      "arrowhead": 0,
                      "arrowwidth": 1
                    },
                    "autotypenumbers": "strict",
                    "coloraxis": {
                      "colorbar": {
                        "outlinewidth": 0,
                        "ticks": ""
                      }
                    },
                    "colorscale": {
                      "diverging": [
                        [
                          0,
                          "#8e0152"
                        ],
                        [
                          0.1,
                          "#c51b7d"
                        ],
                        [
                          0.2,
                          "#de77ae"
                        ],
                        [
                          0.3,
                          "#f1b6da"
                        ],
                        [
                          0.4,
                          "#fde0ef"
                        ],
                        [
                          0.5,
                          "#f7f7f7"
                        ],
                        [
                          0.6,
                          "#e6f5d0"
                        ],
                        [
                          0.7,
                          "#b8e186"
                        ],
                        [
                          0.8,
                          "#7fbc41"
                        ],
                        [
                          0.9,
                          "#4d9221"
                        ],
                        [
                          1,
                          "#276419"
                        ]
                      ],
                      "sequential": [
                        [
                          0,
                          "#0d0887"
                        ],
                        [
                          0.1111111111111111,
                          "#46039f"
                        ],
                        [
                          0.2222222222222222,
                          "#7201a8"
                        ],
                        [
                          0.3333333333333333,
                          "#9c179e"
                        ],
                        [
                          0.4444444444444444,
                          "#bd3786"
                        ],
                        [
                          0.5555555555555556,
                          "#d8576b"
                        ],
                        [
                          0.6666666666666666,
                          "#ed7953"
                        ],
                        [
                          0.7777777777777778,
                          "#fb9f3a"
                        ],
                        [
                          0.8888888888888888,
                          "#fdca26"
                        ],
                        [
                          1,
                          "#f0f921"
                        ]
                      ],
                      "sequentialminus": [
                        [
                          0,
                          "#0d0887"
                        ],
                        [
                          0.1111111111111111,
                          "#46039f"
                        ],
                        [
                          0.2222222222222222,
                          "#7201a8"
                        ],
                        [
                          0.3333333333333333,
                          "#9c179e"
                        ],
                        [
                          0.4444444444444444,
                          "#bd3786"
                        ],
                        [
                          0.5555555555555556,
                          "#d8576b"
                        ],
                        [
                          0.6666666666666666,
                          "#ed7953"
                        ],
                        [
                          0.7777777777777778,
                          "#fb9f3a"
                        ],
                        [
                          0.8888888888888888,
                          "#fdca26"
                        ],
                        [
                          1,
                          "#f0f921"
                        ]
                      ]
                    },
                    "colorway": [
                      "#636efa",
                      "#EF553B",
                      "#00cc96",
                      "#ab63fa",
                      "#FFA15A",
                      "#19d3f3",
                      "#FF6692",
                      "#B6E880",
                      "#FF97FF",
                      "#FECB52"
                    ],
                    "font": {
                      "color": "#2a3f5f"
                    },
                    "geo": {
                      "bgcolor": "white",
                      "lakecolor": "white",
                      "landcolor": "#E5ECF6",
                      "showlakes": true,
                      "showland": true,
                      "subunitcolor": "white"
                    },
                    "hoverlabel": {
                      "align": "left"
                    },
                    "hovermode": "closest",
                    "mapbox": {
                      "style": "light"
                    },
                    "paper_bgcolor": "white",
                    "plot_bgcolor": "#E5ECF6",
                    "polar": {
                      "angularaxis": {
                        "gridcolor": "white",
                        "linecolor": "white",
                        "ticks": ""
                      },
                      "bgcolor": "#E5ECF6",
                      "radialaxis": {
                        "gridcolor": "white",
                        "linecolor": "white",
                        "ticks": ""
                      }
                    },
                    "scene": {
                      "xaxis": {
                        "backgroundcolor": "#E5ECF6",
                        "gridcolor": "white",
                        "gridwidth": 2,
                        "linecolor": "white",
                        "showbackground": true,
                        "ticks": "",
                        "zerolinecolor": "white"
                      },
                      "yaxis": {
                        "backgroundcolor": "#E5ECF6",
                        "gridcolor": "white",
                        "gridwidth": 2,
                        "linecolor": "white",
                        "showbackground": true,
                        "ticks": "",
                        "zerolinecolor": "white"
                      },
                      "zaxis": {
                        "backgroundcolor": "#E5ECF6",
                        "gridcolor": "white",
                        "gridwidth": 2,
                        "linecolor": "white",
                        "showbackground": true,
                        "ticks": "",
                        "zerolinecolor": "white"
                      }
                    },
                    "shapedefaults": {
                      "line": {
                        "color": "#2a3f5f"
                      }
                    },
                    "ternary": {
                      "aaxis": {
                        "gridcolor": "white",
                        "linecolor": "white",
                        "ticks": ""
                      },
                      "baxis": {
                        "gridcolor": "white",
                        "linecolor": "white",
                        "ticks": ""
                      },
                      "bgcolor": "#E5ECF6",
                      "caxis": {
                        "gridcolor": "white",
                        "linecolor": "white",
                        "ticks": ""
                      }
                    },
                    "title": {
                      "x": 0.05
                    },
                    "xaxis": {
                      "automargin": true,
                      "gridcolor": "white",
                      "linecolor": "white",
                      "ticks": "",
                      "title": {
                        "standoff": 15
                      },
                      "zerolinecolor": "white",
                      "zerolinewidth": 2
                    },
                    "yaxis": {
                      "automargin": true,
                      "gridcolor": "white",
                      "linecolor": "white",
                      "ticks": "",
                      "title": {
                        "standoff": 15
                      },
                      "zerolinecolor": "white",
                      "zerolinewidth": 2
                    }
                  }
                },
                "title": {
                  "text": "Training and val Accuracy across epochs"
                },
                "xaxis": {
                  "title": {
                    "text": "epochs"
                  }
                },
                "yaxis": {
                  "title": {
                    "text": "Cross Entropy"
                  }
                }
              }
            }
          },
          "metadata": {},
          "output_type": "display_data"
        }
      ],
      "source": [
        "color_chart = [\"#4B9AC7\", \"#4BE8E0\", \"#9DD4F3\", \"#97FBF6\", \"#2A7FAF\", \"#23B1AB\", \"#0E3449\", \"#015955\"]\n",
        "\n",
        "fig = go.Figure(data=[\n",
        "                      go.Scatter(\n",
        "                          y=history[\"accuracy\"],\n",
        "                          name=\"Training Accuracy\",\n",
        "                          mode=\"lines\",\n",
        "                          marker=dict(\n",
        "                              color=color_chart[0]\n",
        "                          )),\n",
        "                      go.Scatter(\n",
        "                          y=history[\"val_accuracy\"],\n",
        "                          name=\"Validation Accuracy\",\n",
        "                          mode=\"lines\",\n",
        "                          marker=dict(\n",
        "                              color=color_chart[1]\n",
        "                          ))\n",
        "])\n",
        "fig.update_layout(\n",
        "    title=\"Training and val Accuracy across epochs\",\n",
        "    xaxis_title=\"epochs\",\n",
        "    yaxis_title=\"Cross Entropy\"\n",
        ")\n",
        "fig.show()"
      ]
    },
    {
      "cell_type": "code",
      "execution_count": 292,
      "id": "ba5e7680",
      "metadata": {},
      "outputs": [
        {
          "name": "stdout",
          "output_type": "stream",
          "text": [
            "{'loss': 0.0363638885452279, 'val_loss': 0.06175712182053498, 'accuracy': 0.9946152120260264, 'val_accuracy': 0.9901345291479821}\n"
          ]
        }
      ],
      "source": [
        "final_history = {key: valeur[-1] for key, valeur in history.items()}\n",
        "print(final_history)"
      ]
    },
    {
      "cell_type": "markdown",
      "id": "36f757bb",
      "metadata": {},
      "source": [
        "A première vue, le modèle classe plutôt bien les spams et hams.\n",
        "\n",
        "Sur le set de train la loss est de 0.03 et l'accuracy de 0.99.\n",
        "\n",
        "Sur le set de validation la loss est de 0.06 et l'accuracy de 0.99."
      ]
    },
    {
      "cell_type": "markdown",
      "id": "22d5b7f2",
      "metadata": {
        "id": "22d5b7f2"
      },
      "source": [
        "#### Analyse des erreurs : là où le modèle s'est trompé"
      ]
    },
    {
      "cell_type": "code",
      "execution_count": 293,
      "id": "3875b46e",
      "metadata": {
        "id": "3875b46e"
      },
      "outputs": [],
      "source": [
        "# Function to evaluate the model and get worst predictions\n",
        "def evaluate_worst_predictions(model, dataloader, tokenizer):\n",
        "    # Set model to evaluation mode to disable dropout and batch normalization\n",
        "    model.eval()\n",
        "\n",
        "    # Lists to store all predictions, labels, errors, and inputs for analysis\n",
        "    list_predictions = []\n",
        "    list_labels = []\n",
        "    list_errors = []\n",
        "    list_inputs = []\n",
        "\n",
        "    # No gradients needed during evaluation for efficiency\n",
        "    with torch.no_grad():\n",
        "        for batch in dataloader:\n",
        "            # Extract inputs and labels from the batch\n",
        "            inputs, labels = batch\n",
        "            outputs = model(inputs) # Forward pass: Get model predictions\n",
        "\n",
        "            # Convert outputs to predicted class for classification problems\n",
        "            #preds = torch.argmax(outputs, dim=1)\n",
        "            preds = (outputs >= 0.5).int().squeeze()\n",
        "            errors = (preds != labels).float()  # Misclassified observations\n",
        "            \n",
        "            # Store predictions, labels, errors, and raw inputs for further analysis\n",
        "            list_predictions.extend(preds.cpu().numpy())\n",
        "            list_labels.extend(int(x) for x in labels.cpu().numpy())\n",
        "            list_errors.extend(errors.cpu().numpy())\n",
        "            list_inputs.extend(inputs.cpu().numpy())\n",
        "\n",
        "    # Convert stored results into a Pandas DataFrame for easy analysis\n",
        "    # Decode tokenized text back into human-readable text\n",
        "    df_results = pd.DataFrame({\n",
        "        \"True_Label\": list_labels,\n",
        "        \"Predicted\": list_predictions,\n",
        "        \"Error\": list_errors,\n",
        "        \"Inputs\": list_inputs,\n",
        "        \"Text\" : [tokenizer.decode(input) for input in list_inputs]\n",
        "    })\n",
        "\n",
        "    # Sort the DataFrame by highest error to identify the worst predictions\n",
        "    df_results_sorted = df_results.sort_values(by=\"Error\", ascending=False)\n",
        "\n",
        "    # Return the sorted DataFrame containing worst predictions\n",
        "    return df_results_sorted\n",
        "\n",
        "# Evaluate worst predictions on validation set\n",
        "worst_predictions_val = evaluate_worst_predictions(model, val_loader, tokenizer)\n",
        "\n",
        "# Evaluate worst predictions on training set\n",
        "worst_predictions_train = evaluate_worst_predictions(model, train_loader, tokenizer)"
      ]
    },
    {
      "cell_type": "code",
      "execution_count": 294,
      "id": "5aa2750a",
      "metadata": {},
      "outputs": [
        {
          "data": {
            "text/plain": [
              "Predicted\n",
              "0    3870\n",
              "1     587\n",
              "Name: count, dtype: int64"
            ]
          },
          "execution_count": 294,
          "metadata": {},
          "output_type": "execute_result"
        }
      ],
      "source": [
        "worst_predictions_train[\"Predicted\"].value_counts()"
      ]
    },
    {
      "cell_type": "markdown",
      "id": "e9952394",
      "metadata": {},
      "source": [
        "Analyse des pires prédictions sur le set d'entrainement"
      ]
    },
    {
      "cell_type": "code",
      "execution_count": 295,
      "id": "fa011c2e",
      "metadata": {
        "colab": {
          "base_uri": "https://localhost:8080/",
          "height": 363
        },
        "id": "fa011c2e",
        "outputId": "87777532-57e3-45bd-8fbb-d03c58c28739"
      },
      "outputs": [
        {
          "data": {
            "text/html": [
              "<div>\n",
              "<style scoped>\n",
              "    .dataframe tbody tr th:only-of-type {\n",
              "        vertical-align: middle;\n",
              "    }\n",
              "\n",
              "    .dataframe tbody tr th {\n",
              "        vertical-align: top;\n",
              "    }\n",
              "\n",
              "    .dataframe thead th {\n",
              "        text-align: right;\n",
              "    }\n",
              "</style>\n",
              "<table border=\"1\" class=\"dataframe\">\n",
              "  <thead>\n",
              "    <tr style=\"text-align: right;\">\n",
              "      <th></th>\n",
              "      <th>True_Label</th>\n",
              "      <th>Predicted</th>\n",
              "      <th>Error</th>\n",
              "      <th>Inputs</th>\n",
              "      <th>Text</th>\n",
              "    </tr>\n",
              "  </thead>\n",
              "  <tbody>\n",
              "    <tr>\n",
              "      <th>1482</th>\n",
              "      <td>0</td>\n",
              "      <td>0</td>\n",
              "      <td>0.0</td>\n",
              "      <td>[32, 2478, 1274, 527, 520, 279, 1847, 11, 358,...</td>\n",
              "      <td>A few people are at the game, I'm at the mall ...</td>\n",
              "    </tr>\n",
              "    <tr>\n",
              "      <th>1490</th>\n",
              "      <td>0</td>\n",
              "      <td>0</td>\n",
              "      <td>0.0</td>\n",
              "      <td>[278, 1315, 13, 11361, 369, 279, 9650, 13, 234...</td>\n",
              "      <td>alright. Thanks for the advice. Enjoy your nig...</td>\n",
              "    </tr>\n",
              "    <tr>\n",
              "      <th>1489</th>\n",
              "      <td>0</td>\n",
              "      <td>0</td>\n",
              "      <td>0.0</td>\n",
              "      <td>[19701, 54788, 6574, 358, 3358, 1650, 3010, 0,...</td>\n",
              "      <td>Sorry,in meeting I'll call later!!!!!!!!!!!!!!...</td>\n",
              "    </tr>\n",
              "    <tr>\n",
              "      <th>1488</th>\n",
              "      <td>0</td>\n",
              "      <td>0</td>\n",
              "      <td>0.0</td>\n",
              "      <td>[45, 83, 3686, 523, 1609, 12407, 497, 23796, 6...</td>\n",
              "      <td>Nt yet chikku..simple habba..hw abt u?!!!!!!!!...</td>\n",
              "    </tr>\n",
              "    <tr>\n",
              "      <th>1487</th>\n",
              "      <td>0</td>\n",
              "      <td>0</td>\n",
              "      <td>0.0</td>\n",
              "      <td>[12389, 499, 3940, 304, 1940, 9188, 0, 0, 0, 0...</td>\n",
              "      <td>Have you started in skye!!!!!!!!!!!!!!!!!!!!!!!!</td>\n",
              "    </tr>\n",
              "    <tr>\n",
              "      <th>1486</th>\n",
              "      <td>1</td>\n",
              "      <td>1</td>\n",
              "      <td>0.0</td>\n",
              "      <td>[33562, 1148, 433, 5097, 220, 17, 1935, 961, 3...</td>\n",
              "      <td>Got what it takes 2 take part in the WRC Rally...</td>\n",
              "    </tr>\n",
              "    <tr>\n",
              "      <th>1485</th>\n",
              "      <td>0</td>\n",
              "      <td>0</td>\n",
              "      <td>0.0</td>\n",
              "      <td>[40, 2846, 1695, 13, 12522, 499, 9879, 311, 70...</td>\n",
              "      <td>I'm good. Have you registered to vote?!!!!!!!!...</td>\n",
              "    </tr>\n",
              "    <tr>\n",
              "      <th>1484</th>\n",
              "      <td>1</td>\n",
              "      <td>1</td>\n",
              "      <td>0.0</td>\n",
              "      <td>[1991, 279, 4033, 5301, 3910, 4064, 10062, 102...</td>\n",
              "      <td>Get the official ENGLAND poly ringtone or colo...</td>\n",
              "    </tr>\n",
              "    <tr>\n",
              "      <th>1483</th>\n",
              "      <td>0</td>\n",
              "      <td>0</td>\n",
              "      <td>0.0</td>\n",
              "      <td>[7979, 2288, 0, 12522, 264, 17104, 3814, 12599...</td>\n",
              "      <td>Me too! Have a lovely night xxx!!!!!!!!!!!!!!!...</td>\n",
              "    </tr>\n",
              "    <tr>\n",
              "      <th>1491</th>\n",
              "      <td>1</td>\n",
              "      <td>1</td>\n",
              "      <td>0.0</td>\n",
              "      <td>[6219, 502, 220, 17, 6469, 612, 15890, 282, 77...</td>\n",
              "      <td>Am new 2 club &amp; dont fink we met yet Will B gr...</td>\n",
              "    </tr>\n",
              "  </tbody>\n",
              "</table>\n",
              "</div>"
            ],
            "text/plain": [
              "      True_Label  Predicted  Error  \\\n",
              "1482           0          0    0.0   \n",
              "1490           0          0    0.0   \n",
              "1489           0          0    0.0   \n",
              "1488           0          0    0.0   \n",
              "1487           0          0    0.0   \n",
              "1486           1          1    0.0   \n",
              "1485           0          0    0.0   \n",
              "1484           1          1    0.0   \n",
              "1483           0          0    0.0   \n",
              "1491           1          1    0.0   \n",
              "\n",
              "                                                 Inputs  \\\n",
              "1482  [32, 2478, 1274, 527, 520, 279, 1847, 11, 358,...   \n",
              "1490  [278, 1315, 13, 11361, 369, 279, 9650, 13, 234...   \n",
              "1489  [19701, 54788, 6574, 358, 3358, 1650, 3010, 0,...   \n",
              "1488  [45, 83, 3686, 523, 1609, 12407, 497, 23796, 6...   \n",
              "1487  [12389, 499, 3940, 304, 1940, 9188, 0, 0, 0, 0...   \n",
              "1486  [33562, 1148, 433, 5097, 220, 17, 1935, 961, 3...   \n",
              "1485  [40, 2846, 1695, 13, 12522, 499, 9879, 311, 70...   \n",
              "1484  [1991, 279, 4033, 5301, 3910, 4064, 10062, 102...   \n",
              "1483  [7979, 2288, 0, 12522, 264, 17104, 3814, 12599...   \n",
              "1491  [6219, 502, 220, 17, 6469, 612, 15890, 282, 77...   \n",
              "\n",
              "                                                   Text  \n",
              "1482  A few people are at the game, I'm at the mall ...  \n",
              "1490  alright. Thanks for the advice. Enjoy your nig...  \n",
              "1489  Sorry,in meeting I'll call later!!!!!!!!!!!!!!...  \n",
              "1488  Nt yet chikku..simple habba..hw abt u?!!!!!!!!...  \n",
              "1487   Have you started in skye!!!!!!!!!!!!!!!!!!!!!!!!  \n",
              "1486  Got what it takes 2 take part in the WRC Rally...  \n",
              "1485  I'm good. Have you registered to vote?!!!!!!!!...  \n",
              "1484  Get the official ENGLAND poly ringtone or colo...  \n",
              "1483  Me too! Have a lovely night xxx!!!!!!!!!!!!!!!...  \n",
              "1491  Am new 2 club & dont fink we met yet Will B gr...  "
            ]
          },
          "execution_count": 295,
          "metadata": {},
          "output_type": "execute_result"
        }
      ],
      "source": [
        "worst_predictions_train.tail(10)"
      ]
    },
    {
      "cell_type": "markdown",
      "id": "ba607abf",
      "metadata": {},
      "source": [
        "classification report"
      ]
    },
    {
      "cell_type": "code",
      "execution_count": 296,
      "id": "89fe21e7",
      "metadata": {},
      "outputs": [
        {
          "name": "stdout",
          "output_type": "stream",
          "text": [
            "              precision    recall  f1-score   support\n",
            "\n",
            "           0       0.99      1.00      1.00      3848\n",
            "           1       1.00      0.96      0.98       609\n",
            "\n",
            "    accuracy                           0.99      4457\n",
            "   macro avg       1.00      0.98      0.99      4457\n",
            "weighted avg       0.99      0.99      0.99      4457\n",
            "\n"
          ]
        }
      ],
      "source": [
        "print(classification_report(worst_predictions_train[\"True_Label\"], worst_predictions_train[\"Predicted\"]))"
      ]
    },
    {
      "cell_type": "markdown",
      "id": "aa4d936c",
      "metadata": {},
      "source": [
        "Matrice de confusion"
      ]
    },
    {
      "cell_type": "code",
      "execution_count": 297,
      "id": "430ae68b",
      "metadata": {},
      "outputs": [
        {
          "data": {
            "application/vnd.plotly.v1+json": {
              "config": {
                "plotlyServerURL": "https://plot.ly"
              },
              "data": [
                {
                  "coloraxis": "coloraxis",
                  "hovertemplate": "x: %{x}<br>y: %{y}<br>color: %{z}<extra></extra>",
                  "name": "0",
                  "texttemplate": "%{z}",
                  "type": "heatmap",
                  "x": [
                    "ham",
                    "spam"
                  ],
                  "xaxis": "x",
                  "y": [
                    "ham",
                    "spam"
                  ],
                  "yaxis": "y",
                  "z": {
                    "bdata": "Bw8BABcASgI=",
                    "dtype": "i2",
                    "shape": "2, 2"
                  }
                }
              ],
              "layout": {
                "coloraxis": {
                  "colorscale": [
                    [
                      0,
                      "#0d0887"
                    ],
                    [
                      0.1111111111111111,
                      "#46039f"
                    ],
                    [
                      0.2222222222222222,
                      "#7201a8"
                    ],
                    [
                      0.3333333333333333,
                      "#9c179e"
                    ],
                    [
                      0.4444444444444444,
                      "#bd3786"
                    ],
                    [
                      0.5555555555555556,
                      "#d8576b"
                    ],
                    [
                      0.6666666666666666,
                      "#ed7953"
                    ],
                    [
                      0.7777777777777778,
                      "#fb9f3a"
                    ],
                    [
                      0.8888888888888888,
                      "#fdca26"
                    ],
                    [
                      1,
                      "#f0f921"
                    ]
                  ]
                },
                "margin": {
                  "t": 60
                },
                "template": {
                  "data": {
                    "bar": [
                      {
                        "error_x": {
                          "color": "#2a3f5f"
                        },
                        "error_y": {
                          "color": "#2a3f5f"
                        },
                        "marker": {
                          "line": {
                            "color": "#E5ECF6",
                            "width": 0.5
                          },
                          "pattern": {
                            "fillmode": "overlay",
                            "size": 10,
                            "solidity": 0.2
                          }
                        },
                        "type": "bar"
                      }
                    ],
                    "barpolar": [
                      {
                        "marker": {
                          "line": {
                            "color": "#E5ECF6",
                            "width": 0.5
                          },
                          "pattern": {
                            "fillmode": "overlay",
                            "size": 10,
                            "solidity": 0.2
                          }
                        },
                        "type": "barpolar"
                      }
                    ],
                    "carpet": [
                      {
                        "aaxis": {
                          "endlinecolor": "#2a3f5f",
                          "gridcolor": "white",
                          "linecolor": "white",
                          "minorgridcolor": "white",
                          "startlinecolor": "#2a3f5f"
                        },
                        "baxis": {
                          "endlinecolor": "#2a3f5f",
                          "gridcolor": "white",
                          "linecolor": "white",
                          "minorgridcolor": "white",
                          "startlinecolor": "#2a3f5f"
                        },
                        "type": "carpet"
                      }
                    ],
                    "choropleth": [
                      {
                        "colorbar": {
                          "outlinewidth": 0,
                          "ticks": ""
                        },
                        "type": "choropleth"
                      }
                    ],
                    "contour": [
                      {
                        "colorbar": {
                          "outlinewidth": 0,
                          "ticks": ""
                        },
                        "colorscale": [
                          [
                            0,
                            "#0d0887"
                          ],
                          [
                            0.1111111111111111,
                            "#46039f"
                          ],
                          [
                            0.2222222222222222,
                            "#7201a8"
                          ],
                          [
                            0.3333333333333333,
                            "#9c179e"
                          ],
                          [
                            0.4444444444444444,
                            "#bd3786"
                          ],
                          [
                            0.5555555555555556,
                            "#d8576b"
                          ],
                          [
                            0.6666666666666666,
                            "#ed7953"
                          ],
                          [
                            0.7777777777777778,
                            "#fb9f3a"
                          ],
                          [
                            0.8888888888888888,
                            "#fdca26"
                          ],
                          [
                            1,
                            "#f0f921"
                          ]
                        ],
                        "type": "contour"
                      }
                    ],
                    "contourcarpet": [
                      {
                        "colorbar": {
                          "outlinewidth": 0,
                          "ticks": ""
                        },
                        "type": "contourcarpet"
                      }
                    ],
                    "heatmap": [
                      {
                        "colorbar": {
                          "outlinewidth": 0,
                          "ticks": ""
                        },
                        "colorscale": [
                          [
                            0,
                            "#0d0887"
                          ],
                          [
                            0.1111111111111111,
                            "#46039f"
                          ],
                          [
                            0.2222222222222222,
                            "#7201a8"
                          ],
                          [
                            0.3333333333333333,
                            "#9c179e"
                          ],
                          [
                            0.4444444444444444,
                            "#bd3786"
                          ],
                          [
                            0.5555555555555556,
                            "#d8576b"
                          ],
                          [
                            0.6666666666666666,
                            "#ed7953"
                          ],
                          [
                            0.7777777777777778,
                            "#fb9f3a"
                          ],
                          [
                            0.8888888888888888,
                            "#fdca26"
                          ],
                          [
                            1,
                            "#f0f921"
                          ]
                        ],
                        "type": "heatmap"
                      }
                    ],
                    "histogram": [
                      {
                        "marker": {
                          "pattern": {
                            "fillmode": "overlay",
                            "size": 10,
                            "solidity": 0.2
                          }
                        },
                        "type": "histogram"
                      }
                    ],
                    "histogram2d": [
                      {
                        "colorbar": {
                          "outlinewidth": 0,
                          "ticks": ""
                        },
                        "colorscale": [
                          [
                            0,
                            "#0d0887"
                          ],
                          [
                            0.1111111111111111,
                            "#46039f"
                          ],
                          [
                            0.2222222222222222,
                            "#7201a8"
                          ],
                          [
                            0.3333333333333333,
                            "#9c179e"
                          ],
                          [
                            0.4444444444444444,
                            "#bd3786"
                          ],
                          [
                            0.5555555555555556,
                            "#d8576b"
                          ],
                          [
                            0.6666666666666666,
                            "#ed7953"
                          ],
                          [
                            0.7777777777777778,
                            "#fb9f3a"
                          ],
                          [
                            0.8888888888888888,
                            "#fdca26"
                          ],
                          [
                            1,
                            "#f0f921"
                          ]
                        ],
                        "type": "histogram2d"
                      }
                    ],
                    "histogram2dcontour": [
                      {
                        "colorbar": {
                          "outlinewidth": 0,
                          "ticks": ""
                        },
                        "colorscale": [
                          [
                            0,
                            "#0d0887"
                          ],
                          [
                            0.1111111111111111,
                            "#46039f"
                          ],
                          [
                            0.2222222222222222,
                            "#7201a8"
                          ],
                          [
                            0.3333333333333333,
                            "#9c179e"
                          ],
                          [
                            0.4444444444444444,
                            "#bd3786"
                          ],
                          [
                            0.5555555555555556,
                            "#d8576b"
                          ],
                          [
                            0.6666666666666666,
                            "#ed7953"
                          ],
                          [
                            0.7777777777777778,
                            "#fb9f3a"
                          ],
                          [
                            0.8888888888888888,
                            "#fdca26"
                          ],
                          [
                            1,
                            "#f0f921"
                          ]
                        ],
                        "type": "histogram2dcontour"
                      }
                    ],
                    "mesh3d": [
                      {
                        "colorbar": {
                          "outlinewidth": 0,
                          "ticks": ""
                        },
                        "type": "mesh3d"
                      }
                    ],
                    "parcoords": [
                      {
                        "line": {
                          "colorbar": {
                            "outlinewidth": 0,
                            "ticks": ""
                          }
                        },
                        "type": "parcoords"
                      }
                    ],
                    "pie": [
                      {
                        "automargin": true,
                        "type": "pie"
                      }
                    ],
                    "scatter": [
                      {
                        "fillpattern": {
                          "fillmode": "overlay",
                          "size": 10,
                          "solidity": 0.2
                        },
                        "type": "scatter"
                      }
                    ],
                    "scatter3d": [
                      {
                        "line": {
                          "colorbar": {
                            "outlinewidth": 0,
                            "ticks": ""
                          }
                        },
                        "marker": {
                          "colorbar": {
                            "outlinewidth": 0,
                            "ticks": ""
                          }
                        },
                        "type": "scatter3d"
                      }
                    ],
                    "scattercarpet": [
                      {
                        "marker": {
                          "colorbar": {
                            "outlinewidth": 0,
                            "ticks": ""
                          }
                        },
                        "type": "scattercarpet"
                      }
                    ],
                    "scattergeo": [
                      {
                        "marker": {
                          "colorbar": {
                            "outlinewidth": 0,
                            "ticks": ""
                          }
                        },
                        "type": "scattergeo"
                      }
                    ],
                    "scattergl": [
                      {
                        "marker": {
                          "colorbar": {
                            "outlinewidth": 0,
                            "ticks": ""
                          }
                        },
                        "type": "scattergl"
                      }
                    ],
                    "scattermap": [
                      {
                        "marker": {
                          "colorbar": {
                            "outlinewidth": 0,
                            "ticks": ""
                          }
                        },
                        "type": "scattermap"
                      }
                    ],
                    "scattermapbox": [
                      {
                        "marker": {
                          "colorbar": {
                            "outlinewidth": 0,
                            "ticks": ""
                          }
                        },
                        "type": "scattermapbox"
                      }
                    ],
                    "scatterpolar": [
                      {
                        "marker": {
                          "colorbar": {
                            "outlinewidth": 0,
                            "ticks": ""
                          }
                        },
                        "type": "scatterpolar"
                      }
                    ],
                    "scatterpolargl": [
                      {
                        "marker": {
                          "colorbar": {
                            "outlinewidth": 0,
                            "ticks": ""
                          }
                        },
                        "type": "scatterpolargl"
                      }
                    ],
                    "scatterternary": [
                      {
                        "marker": {
                          "colorbar": {
                            "outlinewidth": 0,
                            "ticks": ""
                          }
                        },
                        "type": "scatterternary"
                      }
                    ],
                    "surface": [
                      {
                        "colorbar": {
                          "outlinewidth": 0,
                          "ticks": ""
                        },
                        "colorscale": [
                          [
                            0,
                            "#0d0887"
                          ],
                          [
                            0.1111111111111111,
                            "#46039f"
                          ],
                          [
                            0.2222222222222222,
                            "#7201a8"
                          ],
                          [
                            0.3333333333333333,
                            "#9c179e"
                          ],
                          [
                            0.4444444444444444,
                            "#bd3786"
                          ],
                          [
                            0.5555555555555556,
                            "#d8576b"
                          ],
                          [
                            0.6666666666666666,
                            "#ed7953"
                          ],
                          [
                            0.7777777777777778,
                            "#fb9f3a"
                          ],
                          [
                            0.8888888888888888,
                            "#fdca26"
                          ],
                          [
                            1,
                            "#f0f921"
                          ]
                        ],
                        "type": "surface"
                      }
                    ],
                    "table": [
                      {
                        "cells": {
                          "fill": {
                            "color": "#EBF0F8"
                          },
                          "line": {
                            "color": "white"
                          }
                        },
                        "header": {
                          "fill": {
                            "color": "#C8D4E3"
                          },
                          "line": {
                            "color": "white"
                          }
                        },
                        "type": "table"
                      }
                    ]
                  },
                  "layout": {
                    "annotationdefaults": {
                      "arrowcolor": "#2a3f5f",
                      "arrowhead": 0,
                      "arrowwidth": 1
                    },
                    "autotypenumbers": "strict",
                    "coloraxis": {
                      "colorbar": {
                        "outlinewidth": 0,
                        "ticks": ""
                      }
                    },
                    "colorscale": {
                      "diverging": [
                        [
                          0,
                          "#8e0152"
                        ],
                        [
                          0.1,
                          "#c51b7d"
                        ],
                        [
                          0.2,
                          "#de77ae"
                        ],
                        [
                          0.3,
                          "#f1b6da"
                        ],
                        [
                          0.4,
                          "#fde0ef"
                        ],
                        [
                          0.5,
                          "#f7f7f7"
                        ],
                        [
                          0.6,
                          "#e6f5d0"
                        ],
                        [
                          0.7,
                          "#b8e186"
                        ],
                        [
                          0.8,
                          "#7fbc41"
                        ],
                        [
                          0.9,
                          "#4d9221"
                        ],
                        [
                          1,
                          "#276419"
                        ]
                      ],
                      "sequential": [
                        [
                          0,
                          "#0d0887"
                        ],
                        [
                          0.1111111111111111,
                          "#46039f"
                        ],
                        [
                          0.2222222222222222,
                          "#7201a8"
                        ],
                        [
                          0.3333333333333333,
                          "#9c179e"
                        ],
                        [
                          0.4444444444444444,
                          "#bd3786"
                        ],
                        [
                          0.5555555555555556,
                          "#d8576b"
                        ],
                        [
                          0.6666666666666666,
                          "#ed7953"
                        ],
                        [
                          0.7777777777777778,
                          "#fb9f3a"
                        ],
                        [
                          0.8888888888888888,
                          "#fdca26"
                        ],
                        [
                          1,
                          "#f0f921"
                        ]
                      ],
                      "sequentialminus": [
                        [
                          0,
                          "#0d0887"
                        ],
                        [
                          0.1111111111111111,
                          "#46039f"
                        ],
                        [
                          0.2222222222222222,
                          "#7201a8"
                        ],
                        [
                          0.3333333333333333,
                          "#9c179e"
                        ],
                        [
                          0.4444444444444444,
                          "#bd3786"
                        ],
                        [
                          0.5555555555555556,
                          "#d8576b"
                        ],
                        [
                          0.6666666666666666,
                          "#ed7953"
                        ],
                        [
                          0.7777777777777778,
                          "#fb9f3a"
                        ],
                        [
                          0.8888888888888888,
                          "#fdca26"
                        ],
                        [
                          1,
                          "#f0f921"
                        ]
                      ]
                    },
                    "colorway": [
                      "#636efa",
                      "#EF553B",
                      "#00cc96",
                      "#ab63fa",
                      "#FFA15A",
                      "#19d3f3",
                      "#FF6692",
                      "#B6E880",
                      "#FF97FF",
                      "#FECB52"
                    ],
                    "font": {
                      "color": "#2a3f5f"
                    },
                    "geo": {
                      "bgcolor": "white",
                      "lakecolor": "white",
                      "landcolor": "#E5ECF6",
                      "showlakes": true,
                      "showland": true,
                      "subunitcolor": "white"
                    },
                    "hoverlabel": {
                      "align": "left"
                    },
                    "hovermode": "closest",
                    "mapbox": {
                      "style": "light"
                    },
                    "paper_bgcolor": "white",
                    "plot_bgcolor": "#E5ECF6",
                    "polar": {
                      "angularaxis": {
                        "gridcolor": "white",
                        "linecolor": "white",
                        "ticks": ""
                      },
                      "bgcolor": "#E5ECF6",
                      "radialaxis": {
                        "gridcolor": "white",
                        "linecolor": "white",
                        "ticks": ""
                      }
                    },
                    "scene": {
                      "xaxis": {
                        "backgroundcolor": "#E5ECF6",
                        "gridcolor": "white",
                        "gridwidth": 2,
                        "linecolor": "white",
                        "showbackground": true,
                        "ticks": "",
                        "zerolinecolor": "white"
                      },
                      "yaxis": {
                        "backgroundcolor": "#E5ECF6",
                        "gridcolor": "white",
                        "gridwidth": 2,
                        "linecolor": "white",
                        "showbackground": true,
                        "ticks": "",
                        "zerolinecolor": "white"
                      },
                      "zaxis": {
                        "backgroundcolor": "#E5ECF6",
                        "gridcolor": "white",
                        "gridwidth": 2,
                        "linecolor": "white",
                        "showbackground": true,
                        "ticks": "",
                        "zerolinecolor": "white"
                      }
                    },
                    "shapedefaults": {
                      "line": {
                        "color": "#2a3f5f"
                      }
                    },
                    "ternary": {
                      "aaxis": {
                        "gridcolor": "white",
                        "linecolor": "white",
                        "ticks": ""
                      },
                      "baxis": {
                        "gridcolor": "white",
                        "linecolor": "white",
                        "ticks": ""
                      },
                      "bgcolor": "#E5ECF6",
                      "caxis": {
                        "gridcolor": "white",
                        "linecolor": "white",
                        "ticks": ""
                      }
                    },
                    "title": {
                      "x": 0.05
                    },
                    "xaxis": {
                      "automargin": true,
                      "gridcolor": "white",
                      "linecolor": "white",
                      "ticks": "",
                      "title": {
                        "standoff": 15
                      },
                      "zerolinecolor": "white",
                      "zerolinewidth": 2
                    },
                    "yaxis": {
                      "automargin": true,
                      "gridcolor": "white",
                      "linecolor": "white",
                      "ticks": "",
                      "title": {
                        "standoff": 15
                      },
                      "zerolinecolor": "white",
                      "zerolinewidth": 2
                    }
                  }
                },
                "xaxis": {
                  "anchor": "y",
                  "constrain": "domain",
                  "domain": [
                    0,
                    1
                  ],
                  "scaleanchor": "y"
                },
                "yaxis": {
                  "anchor": "x",
                  "autorange": "reversed",
                  "constrain": "domain",
                  "domain": [
                    0,
                    1
                  ]
                }
              }
            }
          },
          "metadata": {},
          "output_type": "display_data"
        }
      ],
      "source": [
        "mat = confusion_matrix(worst_predictions_train[\"True_Label\"], worst_predictions_train[\"Predicted\"])\n",
        "\n",
        "labels = df_spam[\"label_text\"].unique()\n",
        "df_mat = pd.DataFrame(mat, index=labels, columns=labels)\n",
        "\n",
        "px.imshow(df_mat, text_auto=True)"
      ]
    },
    {
      "cell_type": "markdown",
      "id": "b916e7f1",
      "metadata": {},
      "source": [
        "Analyse des pires prédictions sur le set de validation"
      ]
    },
    {
      "cell_type": "code",
      "execution_count": 298,
      "id": "c18cf192",
      "metadata": {
        "colab": {
          "base_uri": "https://localhost:8080/",
          "height": 363
        },
        "id": "c18cf192",
        "outputId": "54920196-5602-4225-e847-215739223dd7"
      },
      "outputs": [
        {
          "data": {
            "text/html": [
              "<div>\n",
              "<style scoped>\n",
              "    .dataframe tbody tr th:only-of-type {\n",
              "        vertical-align: middle;\n",
              "    }\n",
              "\n",
              "    .dataframe tbody tr th {\n",
              "        vertical-align: top;\n",
              "    }\n",
              "\n",
              "    .dataframe thead th {\n",
              "        text-align: right;\n",
              "    }\n",
              "</style>\n",
              "<table border=\"1\" class=\"dataframe\">\n",
              "  <thead>\n",
              "    <tr style=\"text-align: right;\">\n",
              "      <th></th>\n",
              "      <th>True_Label</th>\n",
              "      <th>Predicted</th>\n",
              "      <th>Error</th>\n",
              "      <th>Inputs</th>\n",
              "      <th>Text</th>\n",
              "    </tr>\n",
              "  </thead>\n",
              "  <tbody>\n",
              "    <tr>\n",
              "      <th>365</th>\n",
              "      <td>0</td>\n",
              "      <td>0</td>\n",
              "      <td>0.0</td>\n",
              "      <td>[40, 1101, 270, 74, 2288, 5043, 1131, 1630, 88...</td>\n",
              "      <td>I also thk too fast... Xy suggest one not me. ...</td>\n",
              "    </tr>\n",
              "    <tr>\n",
              "      <th>373</th>\n",
              "      <td>0</td>\n",
              "      <td>0</td>\n",
              "      <td>0.0</td>\n",
              "      <td>[13347, 35389, 499, 1781, 922, 2489, 30, 0, 0,...</td>\n",
              "      <td>Hi.what you think about match?!!!!!!!!!!!!!!!!...</td>\n",
              "    </tr>\n",
              "    <tr>\n",
              "      <th>372</th>\n",
              "      <td>0</td>\n",
              "      <td>0</td>\n",
              "      <td>0.0</td>\n",
              "      <td>[39, 49986, 497, 666, 74, 2771, 2751, 892, 311...</td>\n",
              "      <td>Hmmm.. Thk sure got time to hop ard... Ya, can...</td>\n",
              "    </tr>\n",
              "    <tr>\n",
              "      <th>371</th>\n",
              "      <td>0</td>\n",
              "      <td>0</td>\n",
              "      <td>0.0</td>\n",
              "      <td>[33947, 502, 1667, 62684, 0, 0, 0, 0, 0, 0, 0,...</td>\n",
              "      <td>Happy new years melody!!!!!!!!!!!!!!!!!!!!!!!!!!</td>\n",
              "    </tr>\n",
              "    <tr>\n",
              "      <th>370</th>\n",
              "      <td>1</td>\n",
              "      <td>1</td>\n",
              "      <td>0.0</td>\n",
              "      <td>[3915, 1828, 2305, 636, 81226, 220, 1135, 4, 4...</td>\n",
              "      <td>From next month get upto 50% More Calls 4 Ur s...</td>\n",
              "    </tr>\n",
              "    <tr>\n",
              "      <th>369</th>\n",
              "      <td>1</td>\n",
              "      <td>1</td>\n",
              "      <td>0.0</td>\n",
              "      <td>[52938, 15334, 6, 4592, 43549, 13, 1472, 2351,...</td>\n",
              "      <td>Congratulations YOU'VE Won. You're a Winner in...</td>\n",
              "    </tr>\n",
              "    <tr>\n",
              "      <th>368</th>\n",
              "      <td>1</td>\n",
              "      <td>1</td>\n",
              "      <td>0.0</td>\n",
              "      <td>[36152, 43438, 523, 1609, 13, 2175, 220, 1041,...</td>\n",
              "      <td>Rock yr chik. Get 100's of filthy films &amp;XXX p...</td>\n",
              "    </tr>\n",
              "    <tr>\n",
              "      <th>367</th>\n",
              "      <td>1</td>\n",
              "      <td>1</td>\n",
              "      <td>0.0</td>\n",
              "      <td>[8538, 263, 606, 499, 1440, 374, 4560, 311, 37...</td>\n",
              "      <td>Someonone you know is trying to contact you vi...</td>\n",
              "    </tr>\n",
              "    <tr>\n",
              "      <th>366</th>\n",
              "      <td>1</td>\n",
              "      <td>1</td>\n",
              "      <td>0.0</td>\n",
              "      <td>[44891, 6781, 58200, 1507, 87588, 5744, 6005, ...</td>\n",
              "      <td>FREE UNLIMITED HARDCORE PORN direct 2 your mob...</td>\n",
              "    </tr>\n",
              "    <tr>\n",
              "      <th>374</th>\n",
              "      <td>0</td>\n",
              "      <td>0</td>\n",
              "      <td>0.0</td>\n",
              "      <td>[6219, 10307, 3838, 46433, 126, 231, 19321, 12...</td>\n",
              "      <td>Am watching house ÂÃÃ very entertaining ÂÃ...</td>\n",
              "    </tr>\n",
              "  </tbody>\n",
              "</table>\n",
              "</div>"
            ],
            "text/plain": [
              "     True_Label  Predicted  Error  \\\n",
              "365           0          0    0.0   \n",
              "373           0          0    0.0   \n",
              "372           0          0    0.0   \n",
              "371           0          0    0.0   \n",
              "370           1          1    0.0   \n",
              "369           1          1    0.0   \n",
              "368           1          1    0.0   \n",
              "367           1          1    0.0   \n",
              "366           1          1    0.0   \n",
              "374           0          0    0.0   \n",
              "\n",
              "                                                Inputs  \\\n",
              "365  [40, 1101, 270, 74, 2288, 5043, 1131, 1630, 88...   \n",
              "373  [13347, 35389, 499, 1781, 922, 2489, 30, 0, 0,...   \n",
              "372  [39, 49986, 497, 666, 74, 2771, 2751, 892, 311...   \n",
              "371  [33947, 502, 1667, 62684, 0, 0, 0, 0, 0, 0, 0,...   \n",
              "370  [3915, 1828, 2305, 636, 81226, 220, 1135, 4, 4...   \n",
              "369  [52938, 15334, 6, 4592, 43549, 13, 1472, 2351,...   \n",
              "368  [36152, 43438, 523, 1609, 13, 2175, 220, 1041,...   \n",
              "367  [8538, 263, 606, 499, 1440, 374, 4560, 311, 37...   \n",
              "366  [44891, 6781, 58200, 1507, 87588, 5744, 6005, ...   \n",
              "374  [6219, 10307, 3838, 46433, 126, 231, 19321, 12...   \n",
              "\n",
              "                                                  Text  \n",
              "365  I also thk too fast... Xy suggest one not me. ...  \n",
              "373  Hi.what you think about match?!!!!!!!!!!!!!!!!...  \n",
              "372  Hmmm.. Thk sure got time to hop ard... Ya, can...  \n",
              "371   Happy new years melody!!!!!!!!!!!!!!!!!!!!!!!!!!  \n",
              "370  From next month get upto 50% More Calls 4 Ur s...  \n",
              "369  Congratulations YOU'VE Won. You're a Winner in...  \n",
              "368  Rock yr chik. Get 100's of filthy films &XXX p...  \n",
              "367  Someonone you know is trying to contact you vi...  \n",
              "366  FREE UNLIMITED HARDCORE PORN direct 2 your mob...  \n",
              "374  Am watching house ÂÃÃ very entertaining ÂÃ...  "
            ]
          },
          "execution_count": 298,
          "metadata": {},
          "output_type": "execute_result"
        }
      ],
      "source": [
        "worst_predictions_val.tail(10)"
      ]
    },
    {
      "cell_type": "markdown",
      "id": "a69c9c8b",
      "metadata": {},
      "source": [
        "classification report"
      ]
    },
    {
      "cell_type": "code",
      "execution_count": 299,
      "id": "cc302be6",
      "metadata": {
        "colab": {
          "base_uri": "https://localhost:8080/"
        },
        "id": "cc302be6",
        "outputId": "4669f4d4-5fd4-4229-e821-38eb429d1ae8"
      },
      "outputs": [
        {
          "name": "stdout",
          "output_type": "stream",
          "text": [
            "              precision    recall  f1-score   support\n",
            "\n",
            "           0       0.99      1.00      0.99       977\n",
            "           1       0.98      0.94      0.96       138\n",
            "\n",
            "    accuracy                           0.99      1115\n",
            "   macro avg       0.98      0.97      0.98      1115\n",
            "weighted avg       0.99      0.99      0.99      1115\n",
            "\n"
          ]
        }
      ],
      "source": [
        "print(classification_report(worst_predictions_val[\"True_Label\"], worst_predictions_val[\"Predicted\"]))"
      ]
    },
    {
      "cell_type": "markdown",
      "id": "78a84d0e",
      "metadata": {},
      "source": [
        "Matrice de confusion"
      ]
    },
    {
      "cell_type": "code",
      "execution_count": 300,
      "id": "461f64fb",
      "metadata": {
        "colab": {
          "base_uri": "https://localhost:8080/",
          "height": 542
        },
        "id": "461f64fb",
        "outputId": "2c2f1ca7-2e69-47a6-b49e-32d0c626b842"
      },
      "outputs": [
        {
          "data": {
            "application/vnd.plotly.v1+json": {
              "config": {
                "plotlyServerURL": "https://plot.ly"
              },
              "data": [
                {
                  "coloraxis": "coloraxis",
                  "hovertemplate": "x: %{x}<br>y: %{y}<br>color: %{z}<extra></extra>",
                  "name": "0",
                  "texttemplate": "%{z}",
                  "type": "heatmap",
                  "x": [
                    "ham",
                    "spam"
                  ],
                  "xaxis": "x",
                  "y": [
                    "ham",
                    "spam"
                  ],
                  "yaxis": "y",
                  "z": {
                    "bdata": "zgMDAAgAggA=",
                    "dtype": "i2",
                    "shape": "2, 2"
                  }
                }
              ],
              "layout": {
                "coloraxis": {
                  "colorscale": [
                    [
                      0,
                      "#0d0887"
                    ],
                    [
                      0.1111111111111111,
                      "#46039f"
                    ],
                    [
                      0.2222222222222222,
                      "#7201a8"
                    ],
                    [
                      0.3333333333333333,
                      "#9c179e"
                    ],
                    [
                      0.4444444444444444,
                      "#bd3786"
                    ],
                    [
                      0.5555555555555556,
                      "#d8576b"
                    ],
                    [
                      0.6666666666666666,
                      "#ed7953"
                    ],
                    [
                      0.7777777777777778,
                      "#fb9f3a"
                    ],
                    [
                      0.8888888888888888,
                      "#fdca26"
                    ],
                    [
                      1,
                      "#f0f921"
                    ]
                  ]
                },
                "margin": {
                  "t": 60
                },
                "template": {
                  "data": {
                    "bar": [
                      {
                        "error_x": {
                          "color": "#2a3f5f"
                        },
                        "error_y": {
                          "color": "#2a3f5f"
                        },
                        "marker": {
                          "line": {
                            "color": "#E5ECF6",
                            "width": 0.5
                          },
                          "pattern": {
                            "fillmode": "overlay",
                            "size": 10,
                            "solidity": 0.2
                          }
                        },
                        "type": "bar"
                      }
                    ],
                    "barpolar": [
                      {
                        "marker": {
                          "line": {
                            "color": "#E5ECF6",
                            "width": 0.5
                          },
                          "pattern": {
                            "fillmode": "overlay",
                            "size": 10,
                            "solidity": 0.2
                          }
                        },
                        "type": "barpolar"
                      }
                    ],
                    "carpet": [
                      {
                        "aaxis": {
                          "endlinecolor": "#2a3f5f",
                          "gridcolor": "white",
                          "linecolor": "white",
                          "minorgridcolor": "white",
                          "startlinecolor": "#2a3f5f"
                        },
                        "baxis": {
                          "endlinecolor": "#2a3f5f",
                          "gridcolor": "white",
                          "linecolor": "white",
                          "minorgridcolor": "white",
                          "startlinecolor": "#2a3f5f"
                        },
                        "type": "carpet"
                      }
                    ],
                    "choropleth": [
                      {
                        "colorbar": {
                          "outlinewidth": 0,
                          "ticks": ""
                        },
                        "type": "choropleth"
                      }
                    ],
                    "contour": [
                      {
                        "colorbar": {
                          "outlinewidth": 0,
                          "ticks": ""
                        },
                        "colorscale": [
                          [
                            0,
                            "#0d0887"
                          ],
                          [
                            0.1111111111111111,
                            "#46039f"
                          ],
                          [
                            0.2222222222222222,
                            "#7201a8"
                          ],
                          [
                            0.3333333333333333,
                            "#9c179e"
                          ],
                          [
                            0.4444444444444444,
                            "#bd3786"
                          ],
                          [
                            0.5555555555555556,
                            "#d8576b"
                          ],
                          [
                            0.6666666666666666,
                            "#ed7953"
                          ],
                          [
                            0.7777777777777778,
                            "#fb9f3a"
                          ],
                          [
                            0.8888888888888888,
                            "#fdca26"
                          ],
                          [
                            1,
                            "#f0f921"
                          ]
                        ],
                        "type": "contour"
                      }
                    ],
                    "contourcarpet": [
                      {
                        "colorbar": {
                          "outlinewidth": 0,
                          "ticks": ""
                        },
                        "type": "contourcarpet"
                      }
                    ],
                    "heatmap": [
                      {
                        "colorbar": {
                          "outlinewidth": 0,
                          "ticks": ""
                        },
                        "colorscale": [
                          [
                            0,
                            "#0d0887"
                          ],
                          [
                            0.1111111111111111,
                            "#46039f"
                          ],
                          [
                            0.2222222222222222,
                            "#7201a8"
                          ],
                          [
                            0.3333333333333333,
                            "#9c179e"
                          ],
                          [
                            0.4444444444444444,
                            "#bd3786"
                          ],
                          [
                            0.5555555555555556,
                            "#d8576b"
                          ],
                          [
                            0.6666666666666666,
                            "#ed7953"
                          ],
                          [
                            0.7777777777777778,
                            "#fb9f3a"
                          ],
                          [
                            0.8888888888888888,
                            "#fdca26"
                          ],
                          [
                            1,
                            "#f0f921"
                          ]
                        ],
                        "type": "heatmap"
                      }
                    ],
                    "histogram": [
                      {
                        "marker": {
                          "pattern": {
                            "fillmode": "overlay",
                            "size": 10,
                            "solidity": 0.2
                          }
                        },
                        "type": "histogram"
                      }
                    ],
                    "histogram2d": [
                      {
                        "colorbar": {
                          "outlinewidth": 0,
                          "ticks": ""
                        },
                        "colorscale": [
                          [
                            0,
                            "#0d0887"
                          ],
                          [
                            0.1111111111111111,
                            "#46039f"
                          ],
                          [
                            0.2222222222222222,
                            "#7201a8"
                          ],
                          [
                            0.3333333333333333,
                            "#9c179e"
                          ],
                          [
                            0.4444444444444444,
                            "#bd3786"
                          ],
                          [
                            0.5555555555555556,
                            "#d8576b"
                          ],
                          [
                            0.6666666666666666,
                            "#ed7953"
                          ],
                          [
                            0.7777777777777778,
                            "#fb9f3a"
                          ],
                          [
                            0.8888888888888888,
                            "#fdca26"
                          ],
                          [
                            1,
                            "#f0f921"
                          ]
                        ],
                        "type": "histogram2d"
                      }
                    ],
                    "histogram2dcontour": [
                      {
                        "colorbar": {
                          "outlinewidth": 0,
                          "ticks": ""
                        },
                        "colorscale": [
                          [
                            0,
                            "#0d0887"
                          ],
                          [
                            0.1111111111111111,
                            "#46039f"
                          ],
                          [
                            0.2222222222222222,
                            "#7201a8"
                          ],
                          [
                            0.3333333333333333,
                            "#9c179e"
                          ],
                          [
                            0.4444444444444444,
                            "#bd3786"
                          ],
                          [
                            0.5555555555555556,
                            "#d8576b"
                          ],
                          [
                            0.6666666666666666,
                            "#ed7953"
                          ],
                          [
                            0.7777777777777778,
                            "#fb9f3a"
                          ],
                          [
                            0.8888888888888888,
                            "#fdca26"
                          ],
                          [
                            1,
                            "#f0f921"
                          ]
                        ],
                        "type": "histogram2dcontour"
                      }
                    ],
                    "mesh3d": [
                      {
                        "colorbar": {
                          "outlinewidth": 0,
                          "ticks": ""
                        },
                        "type": "mesh3d"
                      }
                    ],
                    "parcoords": [
                      {
                        "line": {
                          "colorbar": {
                            "outlinewidth": 0,
                            "ticks": ""
                          }
                        },
                        "type": "parcoords"
                      }
                    ],
                    "pie": [
                      {
                        "automargin": true,
                        "type": "pie"
                      }
                    ],
                    "scatter": [
                      {
                        "fillpattern": {
                          "fillmode": "overlay",
                          "size": 10,
                          "solidity": 0.2
                        },
                        "type": "scatter"
                      }
                    ],
                    "scatter3d": [
                      {
                        "line": {
                          "colorbar": {
                            "outlinewidth": 0,
                            "ticks": ""
                          }
                        },
                        "marker": {
                          "colorbar": {
                            "outlinewidth": 0,
                            "ticks": ""
                          }
                        },
                        "type": "scatter3d"
                      }
                    ],
                    "scattercarpet": [
                      {
                        "marker": {
                          "colorbar": {
                            "outlinewidth": 0,
                            "ticks": ""
                          }
                        },
                        "type": "scattercarpet"
                      }
                    ],
                    "scattergeo": [
                      {
                        "marker": {
                          "colorbar": {
                            "outlinewidth": 0,
                            "ticks": ""
                          }
                        },
                        "type": "scattergeo"
                      }
                    ],
                    "scattergl": [
                      {
                        "marker": {
                          "colorbar": {
                            "outlinewidth": 0,
                            "ticks": ""
                          }
                        },
                        "type": "scattergl"
                      }
                    ],
                    "scattermap": [
                      {
                        "marker": {
                          "colorbar": {
                            "outlinewidth": 0,
                            "ticks": ""
                          }
                        },
                        "type": "scattermap"
                      }
                    ],
                    "scattermapbox": [
                      {
                        "marker": {
                          "colorbar": {
                            "outlinewidth": 0,
                            "ticks": ""
                          }
                        },
                        "type": "scattermapbox"
                      }
                    ],
                    "scatterpolar": [
                      {
                        "marker": {
                          "colorbar": {
                            "outlinewidth": 0,
                            "ticks": ""
                          }
                        },
                        "type": "scatterpolar"
                      }
                    ],
                    "scatterpolargl": [
                      {
                        "marker": {
                          "colorbar": {
                            "outlinewidth": 0,
                            "ticks": ""
                          }
                        },
                        "type": "scatterpolargl"
                      }
                    ],
                    "scatterternary": [
                      {
                        "marker": {
                          "colorbar": {
                            "outlinewidth": 0,
                            "ticks": ""
                          }
                        },
                        "type": "scatterternary"
                      }
                    ],
                    "surface": [
                      {
                        "colorbar": {
                          "outlinewidth": 0,
                          "ticks": ""
                        },
                        "colorscale": [
                          [
                            0,
                            "#0d0887"
                          ],
                          [
                            0.1111111111111111,
                            "#46039f"
                          ],
                          [
                            0.2222222222222222,
                            "#7201a8"
                          ],
                          [
                            0.3333333333333333,
                            "#9c179e"
                          ],
                          [
                            0.4444444444444444,
                            "#bd3786"
                          ],
                          [
                            0.5555555555555556,
                            "#d8576b"
                          ],
                          [
                            0.6666666666666666,
                            "#ed7953"
                          ],
                          [
                            0.7777777777777778,
                            "#fb9f3a"
                          ],
                          [
                            0.8888888888888888,
                            "#fdca26"
                          ],
                          [
                            1,
                            "#f0f921"
                          ]
                        ],
                        "type": "surface"
                      }
                    ],
                    "table": [
                      {
                        "cells": {
                          "fill": {
                            "color": "#EBF0F8"
                          },
                          "line": {
                            "color": "white"
                          }
                        },
                        "header": {
                          "fill": {
                            "color": "#C8D4E3"
                          },
                          "line": {
                            "color": "white"
                          }
                        },
                        "type": "table"
                      }
                    ]
                  },
                  "layout": {
                    "annotationdefaults": {
                      "arrowcolor": "#2a3f5f",
                      "arrowhead": 0,
                      "arrowwidth": 1
                    },
                    "autotypenumbers": "strict",
                    "coloraxis": {
                      "colorbar": {
                        "outlinewidth": 0,
                        "ticks": ""
                      }
                    },
                    "colorscale": {
                      "diverging": [
                        [
                          0,
                          "#8e0152"
                        ],
                        [
                          0.1,
                          "#c51b7d"
                        ],
                        [
                          0.2,
                          "#de77ae"
                        ],
                        [
                          0.3,
                          "#f1b6da"
                        ],
                        [
                          0.4,
                          "#fde0ef"
                        ],
                        [
                          0.5,
                          "#f7f7f7"
                        ],
                        [
                          0.6,
                          "#e6f5d0"
                        ],
                        [
                          0.7,
                          "#b8e186"
                        ],
                        [
                          0.8,
                          "#7fbc41"
                        ],
                        [
                          0.9,
                          "#4d9221"
                        ],
                        [
                          1,
                          "#276419"
                        ]
                      ],
                      "sequential": [
                        [
                          0,
                          "#0d0887"
                        ],
                        [
                          0.1111111111111111,
                          "#46039f"
                        ],
                        [
                          0.2222222222222222,
                          "#7201a8"
                        ],
                        [
                          0.3333333333333333,
                          "#9c179e"
                        ],
                        [
                          0.4444444444444444,
                          "#bd3786"
                        ],
                        [
                          0.5555555555555556,
                          "#d8576b"
                        ],
                        [
                          0.6666666666666666,
                          "#ed7953"
                        ],
                        [
                          0.7777777777777778,
                          "#fb9f3a"
                        ],
                        [
                          0.8888888888888888,
                          "#fdca26"
                        ],
                        [
                          1,
                          "#f0f921"
                        ]
                      ],
                      "sequentialminus": [
                        [
                          0,
                          "#0d0887"
                        ],
                        [
                          0.1111111111111111,
                          "#46039f"
                        ],
                        [
                          0.2222222222222222,
                          "#7201a8"
                        ],
                        [
                          0.3333333333333333,
                          "#9c179e"
                        ],
                        [
                          0.4444444444444444,
                          "#bd3786"
                        ],
                        [
                          0.5555555555555556,
                          "#d8576b"
                        ],
                        [
                          0.6666666666666666,
                          "#ed7953"
                        ],
                        [
                          0.7777777777777778,
                          "#fb9f3a"
                        ],
                        [
                          0.8888888888888888,
                          "#fdca26"
                        ],
                        [
                          1,
                          "#f0f921"
                        ]
                      ]
                    },
                    "colorway": [
                      "#636efa",
                      "#EF553B",
                      "#00cc96",
                      "#ab63fa",
                      "#FFA15A",
                      "#19d3f3",
                      "#FF6692",
                      "#B6E880",
                      "#FF97FF",
                      "#FECB52"
                    ],
                    "font": {
                      "color": "#2a3f5f"
                    },
                    "geo": {
                      "bgcolor": "white",
                      "lakecolor": "white",
                      "landcolor": "#E5ECF6",
                      "showlakes": true,
                      "showland": true,
                      "subunitcolor": "white"
                    },
                    "hoverlabel": {
                      "align": "left"
                    },
                    "hovermode": "closest",
                    "mapbox": {
                      "style": "light"
                    },
                    "paper_bgcolor": "white",
                    "plot_bgcolor": "#E5ECF6",
                    "polar": {
                      "angularaxis": {
                        "gridcolor": "white",
                        "linecolor": "white",
                        "ticks": ""
                      },
                      "bgcolor": "#E5ECF6",
                      "radialaxis": {
                        "gridcolor": "white",
                        "linecolor": "white",
                        "ticks": ""
                      }
                    },
                    "scene": {
                      "xaxis": {
                        "backgroundcolor": "#E5ECF6",
                        "gridcolor": "white",
                        "gridwidth": 2,
                        "linecolor": "white",
                        "showbackground": true,
                        "ticks": "",
                        "zerolinecolor": "white"
                      },
                      "yaxis": {
                        "backgroundcolor": "#E5ECF6",
                        "gridcolor": "white",
                        "gridwidth": 2,
                        "linecolor": "white",
                        "showbackground": true,
                        "ticks": "",
                        "zerolinecolor": "white"
                      },
                      "zaxis": {
                        "backgroundcolor": "#E5ECF6",
                        "gridcolor": "white",
                        "gridwidth": 2,
                        "linecolor": "white",
                        "showbackground": true,
                        "ticks": "",
                        "zerolinecolor": "white"
                      }
                    },
                    "shapedefaults": {
                      "line": {
                        "color": "#2a3f5f"
                      }
                    },
                    "ternary": {
                      "aaxis": {
                        "gridcolor": "white",
                        "linecolor": "white",
                        "ticks": ""
                      },
                      "baxis": {
                        "gridcolor": "white",
                        "linecolor": "white",
                        "ticks": ""
                      },
                      "bgcolor": "#E5ECF6",
                      "caxis": {
                        "gridcolor": "white",
                        "linecolor": "white",
                        "ticks": ""
                      }
                    },
                    "title": {
                      "x": 0.05
                    },
                    "xaxis": {
                      "automargin": true,
                      "gridcolor": "white",
                      "linecolor": "white",
                      "ticks": "",
                      "title": {
                        "standoff": 15
                      },
                      "zerolinecolor": "white",
                      "zerolinewidth": 2
                    },
                    "yaxis": {
                      "automargin": true,
                      "gridcolor": "white",
                      "linecolor": "white",
                      "ticks": "",
                      "title": {
                        "standoff": 15
                      },
                      "zerolinecolor": "white",
                      "zerolinewidth": 2
                    }
                  }
                },
                "xaxis": {
                  "anchor": "y",
                  "constrain": "domain",
                  "domain": [
                    0,
                    1
                  ],
                  "scaleanchor": "y"
                },
                "yaxis": {
                  "anchor": "x",
                  "autorange": "reversed",
                  "constrain": "domain",
                  "domain": [
                    0,
                    1
                  ]
                }
              }
            }
          },
          "metadata": {},
          "output_type": "display_data"
        }
      ],
      "source": [
        "mat = confusion_matrix(worst_predictions_val[\"True_Label\"], worst_predictions_val[\"Predicted\"])\n",
        "\n",
        "labels = df_spam[\"label_text\"].unique()\n",
        "df_mat = pd.DataFrame(mat, index=labels, columns=labels)\n",
        "\n",
        "px.imshow(df_mat, text_auto=True)"
      ]
    },
    {
      "cell_type": "markdown",
      "id": "ba7ea43a",
      "metadata": {},
      "source": [
        "---"
      ]
    },
    {
      "cell_type": "markdown",
      "id": "11c80262",
      "metadata": {},
      "source": [
        "## Conclusion"
      ]
    },
    {
      "cell_type": "markdown",
      "id": "6088b312",
      "metadata": {},
      "source": [
        "Le modèle arrive plutôt bien à identifier les spams / hams.\n",
        "\n",
        "Toutefois, sur le set de validation : Le recall pour les spams est de 0.94, ce qui signifie que 6 % des spams ne sont pas détectés.\n",
        "\n",
        "Plusieurs facteurs peuvent expliquer cela :\n",
        "- Le Label 1 (Spam) est moins bien représenté dans le dataset, il est donc plus difficile à prédire.\n",
        "- Notre dataset comporte peu de données au départ (environ 5500)\n",
        "\n",
        "Afin d'améliorer la détection de spams, nous allons nous appuyer sur des modèles pré-existants, plus sophiqtiqués et entrainés sur des jeux de données plus importants afin de voir si la classification ham / spam s'améliore."
      ]
    }
  ],
  "metadata": {
    "accelerator": "GPU",
    "colab": {
      "gpuType": "T4",
      "provenance": []
    },
    "kernelspec": {
      "display_name": "dsfs_env",
      "language": "python",
      "name": "python3"
    },
    "language_info": {
      "codemirror_mode": {
        "name": "ipython",
        "version": 3
      },
      "file_extension": ".py",
      "mimetype": "text/x-python",
      "name": "python",
      "nbconvert_exporter": "python",
      "pygments_lexer": "ipython3",
      "version": "3.12.3"
    },
    "widgets": {
      "application/vnd.jupyter.widget-state+json": {
        "032cd8723a164f859e2246922b5a716d": {
          "model_module": "@jupyter-widgets/controls",
          "model_module_version": "1.5.0",
          "model_name": "ProgressStyleModel",
          "state": {
            "_model_module": "@jupyter-widgets/controls",
            "_model_module_version": "1.5.0",
            "_model_name": "ProgressStyleModel",
            "_view_count": null,
            "_view_module": "@jupyter-widgets/base",
            "_view_module_version": "1.2.0",
            "_view_name": "StyleView",
            "bar_color": null,
            "description_width": ""
          }
        },
        "08570d8cd55f494fafa94b453ee23cec": {
          "model_module": "@jupyter-widgets/controls",
          "model_module_version": "1.5.0",
          "model_name": "HBoxModel",
          "state": {
            "_dom_classes": [],
            "_model_module": "@jupyter-widgets/controls",
            "_model_module_version": "1.5.0",
            "_model_name": "HBoxModel",
            "_view_count": null,
            "_view_module": "@jupyter-widgets/controls",
            "_view_module_version": "1.5.0",
            "_view_name": "HBoxView",
            "box_style": "",
            "children": [
              "IPY_MODEL_64798145cc9e45c68ef8d0d05f832602",
              "IPY_MODEL_8ec7cd8bdf8846c4863dbbfe1332496d",
              "IPY_MODEL_f5e21d61978a4dcd960a14e4432ab3cc"
            ],
            "layout": "IPY_MODEL_59931e0ba81a4cfd93a7864d350680ab"
          }
        },
        "0b686720c9e742b78e2d21546a1dfd02": {
          "model_module": "@jupyter-widgets/base",
          "model_module_version": "1.2.0",
          "model_name": "LayoutModel",
          "state": {
            "_model_module": "@jupyter-widgets/base",
            "_model_module_version": "1.2.0",
            "_model_name": "LayoutModel",
            "_view_count": null,
            "_view_module": "@jupyter-widgets/base",
            "_view_module_version": "1.2.0",
            "_view_name": "LayoutView",
            "align_content": null,
            "align_items": null,
            "align_self": null,
            "border": null,
            "bottom": null,
            "display": null,
            "flex": null,
            "flex_flow": null,
            "grid_area": null,
            "grid_auto_columns": null,
            "grid_auto_flow": null,
            "grid_auto_rows": null,
            "grid_column": null,
            "grid_gap": null,
            "grid_row": null,
            "grid_template_areas": null,
            "grid_template_columns": null,
            "grid_template_rows": null,
            "height": null,
            "justify_content": null,
            "justify_items": null,
            "left": null,
            "margin": null,
            "max_height": null,
            "max_width": null,
            "min_height": null,
            "min_width": null,
            "object_fit": null,
            "object_position": null,
            "order": null,
            "overflow": null,
            "overflow_x": null,
            "overflow_y": null,
            "padding": null,
            "right": null,
            "top": null,
            "visibility": null,
            "width": null
          }
        },
        "0f4afd81ac5c4e0eacdcf419af549304": {
          "model_module": "@jupyter-widgets/controls",
          "model_module_version": "1.5.0",
          "model_name": "DescriptionStyleModel",
          "state": {
            "_model_module": "@jupyter-widgets/controls",
            "_model_module_version": "1.5.0",
            "_model_name": "DescriptionStyleModel",
            "_view_count": null,
            "_view_module": "@jupyter-widgets/base",
            "_view_module_version": "1.2.0",
            "_view_name": "StyleView",
            "description_width": ""
          }
        },
        "1786d582f6684793a625d2b6e2eeda50": {
          "model_module": "@jupyter-widgets/base",
          "model_module_version": "1.2.0",
          "model_name": "LayoutModel",
          "state": {
            "_model_module": "@jupyter-widgets/base",
            "_model_module_version": "1.2.0",
            "_model_name": "LayoutModel",
            "_view_count": null,
            "_view_module": "@jupyter-widgets/base",
            "_view_module_version": "1.2.0",
            "_view_name": "LayoutView",
            "align_content": null,
            "align_items": null,
            "align_self": null,
            "border": null,
            "bottom": null,
            "display": null,
            "flex": null,
            "flex_flow": null,
            "grid_area": null,
            "grid_auto_columns": null,
            "grid_auto_flow": null,
            "grid_auto_rows": null,
            "grid_column": null,
            "grid_gap": null,
            "grid_row": null,
            "grid_template_areas": null,
            "grid_template_columns": null,
            "grid_template_rows": null,
            "height": null,
            "justify_content": null,
            "justify_items": null,
            "left": null,
            "margin": null,
            "max_height": null,
            "max_width": null,
            "min_height": null,
            "min_width": null,
            "object_fit": null,
            "object_position": null,
            "order": null,
            "overflow": null,
            "overflow_x": null,
            "overflow_y": null,
            "padding": null,
            "right": null,
            "top": null,
            "visibility": null,
            "width": null
          }
        },
        "3077b7376d0e4e01bd2dcb9241e8d3c9": {
          "model_module": "@jupyter-widgets/controls",
          "model_module_version": "1.5.0",
          "model_name": "ProgressStyleModel",
          "state": {
            "_model_module": "@jupyter-widgets/controls",
            "_model_module_version": "1.5.0",
            "_model_name": "ProgressStyleModel",
            "_view_count": null,
            "_view_module": "@jupyter-widgets/base",
            "_view_module_version": "1.2.0",
            "_view_name": "StyleView",
            "bar_color": null,
            "description_width": ""
          }
        },
        "3c8d6a9dab284d6cae1252604afc5839": {
          "model_module": "@jupyter-widgets/controls",
          "model_module_version": "1.5.0",
          "model_name": "HTMLModel",
          "state": {
            "_dom_classes": [],
            "_model_module": "@jupyter-widgets/controls",
            "_model_module_version": "1.5.0",
            "_model_name": "HTMLModel",
            "_view_count": null,
            "_view_module": "@jupyter-widgets/controls",
            "_view_module_version": "1.5.0",
            "_view_name": "HTMLView",
            "description": "",
            "description_tooltip": null,
            "layout": "IPY_MODEL_58c6d331e6de4331aef329271e1b7b1c",
            "placeholder": "​",
            "style": "IPY_MODEL_a33e3cb0e37d4364893981a2e387717b",
            "value": "Map: 100%"
          }
        },
        "42eaae416ccd403990ae2a4b0d3118c2": {
          "model_module": "@jupyter-widgets/base",
          "model_module_version": "1.2.0",
          "model_name": "LayoutModel",
          "state": {
            "_model_module": "@jupyter-widgets/base",
            "_model_module_version": "1.2.0",
            "_model_name": "LayoutModel",
            "_view_count": null,
            "_view_module": "@jupyter-widgets/base",
            "_view_module_version": "1.2.0",
            "_view_name": "LayoutView",
            "align_content": null,
            "align_items": null,
            "align_self": null,
            "border": null,
            "bottom": null,
            "display": null,
            "flex": null,
            "flex_flow": null,
            "grid_area": null,
            "grid_auto_columns": null,
            "grid_auto_flow": null,
            "grid_auto_rows": null,
            "grid_column": null,
            "grid_gap": null,
            "grid_row": null,
            "grid_template_areas": null,
            "grid_template_columns": null,
            "grid_template_rows": null,
            "height": null,
            "justify_content": null,
            "justify_items": null,
            "left": null,
            "margin": null,
            "max_height": null,
            "max_width": null,
            "min_height": null,
            "min_width": null,
            "object_fit": null,
            "object_position": null,
            "order": null,
            "overflow": null,
            "overflow_x": null,
            "overflow_y": null,
            "padding": null,
            "right": null,
            "top": null,
            "visibility": null,
            "width": null
          }
        },
        "58c6d331e6de4331aef329271e1b7b1c": {
          "model_module": "@jupyter-widgets/base",
          "model_module_version": "1.2.0",
          "model_name": "LayoutModel",
          "state": {
            "_model_module": "@jupyter-widgets/base",
            "_model_module_version": "1.2.0",
            "_model_name": "LayoutModel",
            "_view_count": null,
            "_view_module": "@jupyter-widgets/base",
            "_view_module_version": "1.2.0",
            "_view_name": "LayoutView",
            "align_content": null,
            "align_items": null,
            "align_self": null,
            "border": null,
            "bottom": null,
            "display": null,
            "flex": null,
            "flex_flow": null,
            "grid_area": null,
            "grid_auto_columns": null,
            "grid_auto_flow": null,
            "grid_auto_rows": null,
            "grid_column": null,
            "grid_gap": null,
            "grid_row": null,
            "grid_template_areas": null,
            "grid_template_columns": null,
            "grid_template_rows": null,
            "height": null,
            "justify_content": null,
            "justify_items": null,
            "left": null,
            "margin": null,
            "max_height": null,
            "max_width": null,
            "min_height": null,
            "min_width": null,
            "object_fit": null,
            "object_position": null,
            "order": null,
            "overflow": null,
            "overflow_x": null,
            "overflow_y": null,
            "padding": null,
            "right": null,
            "top": null,
            "visibility": null,
            "width": null
          }
        },
        "59931e0ba81a4cfd93a7864d350680ab": {
          "model_module": "@jupyter-widgets/base",
          "model_module_version": "1.2.0",
          "model_name": "LayoutModel",
          "state": {
            "_model_module": "@jupyter-widgets/base",
            "_model_module_version": "1.2.0",
            "_model_name": "LayoutModel",
            "_view_count": null,
            "_view_module": "@jupyter-widgets/base",
            "_view_module_version": "1.2.0",
            "_view_name": "LayoutView",
            "align_content": null,
            "align_items": null,
            "align_self": null,
            "border": null,
            "bottom": null,
            "display": null,
            "flex": null,
            "flex_flow": null,
            "grid_area": null,
            "grid_auto_columns": null,
            "grid_auto_flow": null,
            "grid_auto_rows": null,
            "grid_column": null,
            "grid_gap": null,
            "grid_row": null,
            "grid_template_areas": null,
            "grid_template_columns": null,
            "grid_template_rows": null,
            "height": null,
            "justify_content": null,
            "justify_items": null,
            "left": null,
            "margin": null,
            "max_height": null,
            "max_width": null,
            "min_height": null,
            "min_width": null,
            "object_fit": null,
            "object_position": null,
            "order": null,
            "overflow": null,
            "overflow_x": null,
            "overflow_y": null,
            "padding": null,
            "right": null,
            "top": null,
            "visibility": null,
            "width": null
          }
        },
        "5bd6114fd0f14d1b9ee74003bad37dcf": {
          "model_module": "@jupyter-widgets/controls",
          "model_module_version": "1.5.0",
          "model_name": "DescriptionStyleModel",
          "state": {
            "_model_module": "@jupyter-widgets/controls",
            "_model_module_version": "1.5.0",
            "_model_name": "DescriptionStyleModel",
            "_view_count": null,
            "_view_module": "@jupyter-widgets/base",
            "_view_module_version": "1.2.0",
            "_view_name": "StyleView",
            "description_width": ""
          }
        },
        "5d1759560c614bde9ddf7ba1b8c87d64": {
          "model_module": "@jupyter-widgets/controls",
          "model_module_version": "1.5.0",
          "model_name": "HBoxModel",
          "state": {
            "_dom_classes": [],
            "_model_module": "@jupyter-widgets/controls",
            "_model_module_version": "1.5.0",
            "_model_name": "HBoxModel",
            "_view_count": null,
            "_view_module": "@jupyter-widgets/controls",
            "_view_module_version": "1.5.0",
            "_view_name": "HBoxView",
            "box_style": "",
            "children": [
              "IPY_MODEL_3c8d6a9dab284d6cae1252604afc5839",
              "IPY_MODEL_9f9c002caf7c48fdbe55d0cad005980e",
              "IPY_MODEL_6c9059ebf13d44d185ff8967f3f2966a"
            ],
            "layout": "IPY_MODEL_9dba778b1ed14b0499f2bf7b5a2e9116"
          }
        },
        "64798145cc9e45c68ef8d0d05f832602": {
          "model_module": "@jupyter-widgets/controls",
          "model_module_version": "1.5.0",
          "model_name": "HTMLModel",
          "state": {
            "_dom_classes": [],
            "_model_module": "@jupyter-widgets/controls",
            "_model_module_version": "1.5.0",
            "_model_name": "HTMLModel",
            "_view_count": null,
            "_view_module": "@jupyter-widgets/controls",
            "_view_module_version": "1.5.0",
            "_view_name": "HTMLView",
            "description": "",
            "description_tooltip": null,
            "layout": "IPY_MODEL_42eaae416ccd403990ae2a4b0d3118c2",
            "placeholder": "​",
            "style": "IPY_MODEL_fba7b29b49744206a0ff1c9757b70110",
            "value": "Map: 100%"
          }
        },
        "6c9059ebf13d44d185ff8967f3f2966a": {
          "model_module": "@jupyter-widgets/controls",
          "model_module_version": "1.5.0",
          "model_name": "HTMLModel",
          "state": {
            "_dom_classes": [],
            "_model_module": "@jupyter-widgets/controls",
            "_model_module_version": "1.5.0",
            "_model_name": "HTMLModel",
            "_view_count": null,
            "_view_module": "@jupyter-widgets/controls",
            "_view_module_version": "1.5.0",
            "_view_name": "HTMLView",
            "description": "",
            "description_tooltip": null,
            "layout": "IPY_MODEL_0b686720c9e742b78e2d21546a1dfd02",
            "placeholder": "​",
            "style": "IPY_MODEL_0f4afd81ac5c4e0eacdcf419af549304",
            "value": " 4457/4457 [00:00&lt;00:00, 5580.87 examples/s]"
          }
        },
        "6f707ce4f4544e6093d1a73573e8d2cd": {
          "model_module": "@jupyter-widgets/base",
          "model_module_version": "1.2.0",
          "model_name": "LayoutModel",
          "state": {
            "_model_module": "@jupyter-widgets/base",
            "_model_module_version": "1.2.0",
            "_model_name": "LayoutModel",
            "_view_count": null,
            "_view_module": "@jupyter-widgets/base",
            "_view_module_version": "1.2.0",
            "_view_name": "LayoutView",
            "align_content": null,
            "align_items": null,
            "align_self": null,
            "border": null,
            "bottom": null,
            "display": null,
            "flex": null,
            "flex_flow": null,
            "grid_area": null,
            "grid_auto_columns": null,
            "grid_auto_flow": null,
            "grid_auto_rows": null,
            "grid_column": null,
            "grid_gap": null,
            "grid_row": null,
            "grid_template_areas": null,
            "grid_template_columns": null,
            "grid_template_rows": null,
            "height": null,
            "justify_content": null,
            "justify_items": null,
            "left": null,
            "margin": null,
            "max_height": null,
            "max_width": null,
            "min_height": null,
            "min_width": null,
            "object_fit": null,
            "object_position": null,
            "order": null,
            "overflow": null,
            "overflow_x": null,
            "overflow_y": null,
            "padding": null,
            "right": null,
            "top": null,
            "visibility": null,
            "width": null
          }
        },
        "8ec7cd8bdf8846c4863dbbfe1332496d": {
          "model_module": "@jupyter-widgets/controls",
          "model_module_version": "1.5.0",
          "model_name": "FloatProgressModel",
          "state": {
            "_dom_classes": [],
            "_model_module": "@jupyter-widgets/controls",
            "_model_module_version": "1.5.0",
            "_model_name": "FloatProgressModel",
            "_view_count": null,
            "_view_module": "@jupyter-widgets/controls",
            "_view_module_version": "1.5.0",
            "_view_name": "ProgressView",
            "bar_style": "success",
            "description": "",
            "description_tooltip": null,
            "layout": "IPY_MODEL_6f707ce4f4544e6093d1a73573e8d2cd",
            "max": 1115,
            "min": 0,
            "orientation": "horizontal",
            "style": "IPY_MODEL_032cd8723a164f859e2246922b5a716d",
            "value": 1115
          }
        },
        "9dba778b1ed14b0499f2bf7b5a2e9116": {
          "model_module": "@jupyter-widgets/base",
          "model_module_version": "1.2.0",
          "model_name": "LayoutModel",
          "state": {
            "_model_module": "@jupyter-widgets/base",
            "_model_module_version": "1.2.0",
            "_model_name": "LayoutModel",
            "_view_count": null,
            "_view_module": "@jupyter-widgets/base",
            "_view_module_version": "1.2.0",
            "_view_name": "LayoutView",
            "align_content": null,
            "align_items": null,
            "align_self": null,
            "border": null,
            "bottom": null,
            "display": null,
            "flex": null,
            "flex_flow": null,
            "grid_area": null,
            "grid_auto_columns": null,
            "grid_auto_flow": null,
            "grid_auto_rows": null,
            "grid_column": null,
            "grid_gap": null,
            "grid_row": null,
            "grid_template_areas": null,
            "grid_template_columns": null,
            "grid_template_rows": null,
            "height": null,
            "justify_content": null,
            "justify_items": null,
            "left": null,
            "margin": null,
            "max_height": null,
            "max_width": null,
            "min_height": null,
            "min_width": null,
            "object_fit": null,
            "object_position": null,
            "order": null,
            "overflow": null,
            "overflow_x": null,
            "overflow_y": null,
            "padding": null,
            "right": null,
            "top": null,
            "visibility": null,
            "width": null
          }
        },
        "9f9c002caf7c48fdbe55d0cad005980e": {
          "model_module": "@jupyter-widgets/controls",
          "model_module_version": "1.5.0",
          "model_name": "FloatProgressModel",
          "state": {
            "_dom_classes": [],
            "_model_module": "@jupyter-widgets/controls",
            "_model_module_version": "1.5.0",
            "_model_name": "FloatProgressModel",
            "_view_count": null,
            "_view_module": "@jupyter-widgets/controls",
            "_view_module_version": "1.5.0",
            "_view_name": "ProgressView",
            "bar_style": "success",
            "description": "",
            "description_tooltip": null,
            "layout": "IPY_MODEL_c941639b3e574c68b1ba84d25a4c6c98",
            "max": 4457,
            "min": 0,
            "orientation": "horizontal",
            "style": "IPY_MODEL_3077b7376d0e4e01bd2dcb9241e8d3c9",
            "value": 4457
          }
        },
        "a33e3cb0e37d4364893981a2e387717b": {
          "model_module": "@jupyter-widgets/controls",
          "model_module_version": "1.5.0",
          "model_name": "DescriptionStyleModel",
          "state": {
            "_model_module": "@jupyter-widgets/controls",
            "_model_module_version": "1.5.0",
            "_model_name": "DescriptionStyleModel",
            "_view_count": null,
            "_view_module": "@jupyter-widgets/base",
            "_view_module_version": "1.2.0",
            "_view_name": "StyleView",
            "description_width": ""
          }
        },
        "c941639b3e574c68b1ba84d25a4c6c98": {
          "model_module": "@jupyter-widgets/base",
          "model_module_version": "1.2.0",
          "model_name": "LayoutModel",
          "state": {
            "_model_module": "@jupyter-widgets/base",
            "_model_module_version": "1.2.0",
            "_model_name": "LayoutModel",
            "_view_count": null,
            "_view_module": "@jupyter-widgets/base",
            "_view_module_version": "1.2.0",
            "_view_name": "LayoutView",
            "align_content": null,
            "align_items": null,
            "align_self": null,
            "border": null,
            "bottom": null,
            "display": null,
            "flex": null,
            "flex_flow": null,
            "grid_area": null,
            "grid_auto_columns": null,
            "grid_auto_flow": null,
            "grid_auto_rows": null,
            "grid_column": null,
            "grid_gap": null,
            "grid_row": null,
            "grid_template_areas": null,
            "grid_template_columns": null,
            "grid_template_rows": null,
            "height": null,
            "justify_content": null,
            "justify_items": null,
            "left": null,
            "margin": null,
            "max_height": null,
            "max_width": null,
            "min_height": null,
            "min_width": null,
            "object_fit": null,
            "object_position": null,
            "order": null,
            "overflow": null,
            "overflow_x": null,
            "overflow_y": null,
            "padding": null,
            "right": null,
            "top": null,
            "visibility": null,
            "width": null
          }
        },
        "f5e21d61978a4dcd960a14e4432ab3cc": {
          "model_module": "@jupyter-widgets/controls",
          "model_module_version": "1.5.0",
          "model_name": "HTMLModel",
          "state": {
            "_dom_classes": [],
            "_model_module": "@jupyter-widgets/controls",
            "_model_module_version": "1.5.0",
            "_model_name": "HTMLModel",
            "_view_count": null,
            "_view_module": "@jupyter-widgets/controls",
            "_view_module_version": "1.5.0",
            "_view_name": "HTMLView",
            "description": "",
            "description_tooltip": null,
            "layout": "IPY_MODEL_1786d582f6684793a625d2b6e2eeda50",
            "placeholder": "​",
            "style": "IPY_MODEL_5bd6114fd0f14d1b9ee74003bad37dcf",
            "value": " 1115/1115 [00:00&lt;00:00, 4940.04 examples/s]"
          }
        },
        "fba7b29b49744206a0ff1c9757b70110": {
          "model_module": "@jupyter-widgets/controls",
          "model_module_version": "1.5.0",
          "model_name": "DescriptionStyleModel",
          "state": {
            "_model_module": "@jupyter-widgets/controls",
            "_model_module_version": "1.5.0",
            "_model_name": "DescriptionStyleModel",
            "_view_count": null,
            "_view_module": "@jupyter-widgets/base",
            "_view_module_version": "1.2.0",
            "_view_name": "StyleView",
            "description_width": ""
          }
        }
      }
    }
  },
  "nbformat": 4,
  "nbformat_minor": 5
}
